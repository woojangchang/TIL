{
 "cells": [
  {
   "cell_type": "code",
   "execution_count": 1,
   "id": "c2992100",
   "metadata": {
    "ExecuteTime": {
     "end_time": "2024-02-06T06:46:38.740375Z",
     "start_time": "2024-02-06T06:46:34.452764Z"
    }
   },
   "outputs": [],
   "source": [
    "import numpy as np\n",
    "import pandas as pd\n",
    "import joblib\n",
    "import os\n",
    "from scipy.stats import pearsonr\n",
    "from sklearn.ensemble import RandomForestRegressor\n",
    "from sklearn.metrics import mean_absolute_error, mean_squared_error, r2_score, mean_absolute_percentage_error\n",
    "from xgboost import XGBRegressor\n",
    "from lightgbm import LGBMRegressor\n",
    "\n",
    "\n",
    "class MultilabelPredictor:\n",
    "    \"\"\"\n",
    "    labels: y인자 컬럼명\n",
    "    eval_metrics: list or str\n",
    "        XGBoost: {\"reg:squarederror\", \"reg:absoluteerror\"}, default:\"reg:squarederror\" (objective)\n",
    "        RandomForest: {\"squared_error\", \"absolute_error\"}, default:\"squared_error\" (criterion)\n",
    "        LightGBM: default:None\n",
    "    consider_labels_correlation: default:True\n",
    "        lables=[l1, l2, l3]일 때\n",
    "        l1의 학습 features = l1, l2, l3를 제외한 모든 features\n",
    "        l2의 학습 features = l2, l3를 제외한 모든 features (l1 포함)\n",
    "        l3의 학습 features = l3를 제외한 모든 features (l1, l2 포함)\n",
    "    model: {\"XGBoost\", \"RandomForest\", \"LightGBM\"}, default:\"XGBoost\"\n",
    "    params: parameters of model\n",
    "    \"\"\"\n",
    "    \n",
    "    def __init__(self, labels, eval_metrics=None, consider_labels_correlation=True, model='XGBoost', **params):\n",
    "        if len(labels) < 2:\n",
    "            raise ValueError(\"MultilabelPredictor is only intended for predicting MULTIPLE labels (columns).\")\n",
    "        if (eval_metrics is not None) and (len(eval_metrics) != len(labels)):\n",
    "            raise ValueError(\"If provided, `eval_metrics` must have same length as `labels`\")\n",
    "        self.labels = labels\n",
    "        self.consider_labels_correlation = consider_labels_correlation\n",
    "        self.predictors = {}  # key = label, value = model\n",
    "        self.feature_names = {}\n",
    "        self.model = model\n",
    "        \n",
    "        if eval_metrics is None and model=='XGBoost':\n",
    "            self.eval_metrics = {labels[i] : 'reg:squarederror' for i in range(len(labels))}\n",
    "        elif eval_metrics is None and model=='RandomForest':\n",
    "            self.eval_metrics = {labels[i] : 'squared_error' for i in range(len(labels))}\n",
    "        elif eval_metrics is None and model=='LightGBM':\n",
    "            self.eval_metrics = {labels[i] : None for i in range(len(labels))}\n",
    "        elif isinstance(eval_metrics, list):\n",
    "            self.eval_metrics = {labels[i] : eval_metrics[i] for i in range(len(labels))}\n",
    "        elif isinstance(eval_metrics, dict):\n",
    "            self.eval_metrics = {label: eval_metrics[label] for label in labels}\n",
    "            \n",
    "        for label in labels:\n",
    "            if self.model == 'XGBoost':\n",
    "                self.predictors[label] = XGBRegressor(objective=self.eval_metrics[label], **params)\n",
    "            elif self.model == 'RandomForest':\n",
    "                self.predictors[label] = RandomForestRegressor(criterion=self.eval_metrics[label], **params)\n",
    "            elif self.model == 'LightGBM':\n",
    "                self.predictors[label] = LGBMRegressor(objective=self.eval_metrics[label], **params)\n",
    "                \n",
    "            \n",
    "\n",
    "    def fit(self, train_data, **kwargs):\n",
    "        \"\"\"\n",
    "        train_data: pandas DataFrame\n",
    "        **kwargs: keyword arguments of predictor.fit()\n",
    "        \"\"\"\n",
    "        \n",
    "        train_data_og = train_data.copy()\n",
    "        for i in range(len(self.labels)):\n",
    "            label = self.labels[i]\n",
    "            predictor = self.predictors[label]\n",
    "            if not self.consider_labels_correlation:\n",
    "                labels_to_drop = [l for l in self.labels if l != label]\n",
    "            else:\n",
    "                labels_to_drop = [self.labels[j] for j in range(i+1, len(self.labels))]\n",
    "            \n",
    "            train_data = train_data_og.drop(columns=labels_to_drop)\n",
    "            \n",
    "            X = train_data.drop(columns=label)\n",
    "            y = train_data[label]\n",
    "            predictor.fit(X.values, y.values, **kwargs)\n",
    "            \n",
    "            self.predictors[label] = predictor\n",
    "            self.feature_names[label] = X.columns.tolist()\n",
    "                        \n",
    "        return self\n",
    "            \n",
    "\n",
    "    def predict(self, data, **kwargs):\n",
    "        \"\"\"\n",
    "        data: pandas DataFrame\n",
    "        **kwargs: keyword arguments of predictor.predict()\n",
    "        \"\"\"\n",
    "        X_test = data.copy()\n",
    "        \n",
    "        result = pd.DataFrame()\n",
    "        for label in self.labels:\n",
    "            predictor = self.predictors[label]\n",
    "            feature_names = self.feature_names[label]\n",
    "            pred = predictor.predict(X_test[feature_names].values, **kwargs)\n",
    "            result[label] = pred\n",
    "            if self.consider_labels_correlation:\n",
    "                X_test[label] = pred\n",
    "            \n",
    "        result.index = data.index\n",
    "        \n",
    "        return result\n",
    "\n",
    "\n",
    "    def evaluate(self, data, **kwargs):\n",
    "        \"\"\"\n",
    "        data: pandas DataFrame\n",
    "        **kwargs: keyword arguments of predictor.predict()\n",
    "        \"\"\"\n",
    "        eval_dict = {}\n",
    "        \n",
    "        preds = self.predict(data, **kwargs)\n",
    "        for label in self.labels:\n",
    "            pred = preds[label]\n",
    "            real = data[label]\n",
    "            \n",
    "            mae = mean_absolute_error(real, pred)\n",
    "            rmse = np.sqrt(mean_squared_error(real, pred))\n",
    "            r2 = r2_score(real, pred)\n",
    "            pearson_corr, _ = pearsonr(real, pred)\n",
    "            mape = mean_absolute_percentage_error(real, pred)\n",
    "        \n",
    "            eval_dict[label] = {'mae':mae, 'rmse':rmse, 'mape': mape, 'r2':r2, 'pearsonr':pearson_corr}\n",
    "            \n",
    "        return pd.DataFrame(eval_dict)\n",
    "\n",
    "    \n",
    "    def save(self, path):\n",
    "        \"\"\"\n",
    "        path: 모델 저장 경로 지정\n",
    "        \"\"\"\n",
    "        if not os.path.isdir(path):\n",
    "            os.makedirs(path, exist_ok=True)\n",
    "\n",
    "        # 모델 구성 저장\n",
    "        config = {}\n",
    "        \n",
    "        config['model'] = self.model\n",
    "        config['eval_metrics'] = self.eval_metrics\n",
    "        config['consider_labels_correlation'] = self.consider_labels_correlation\n",
    "        config['labels'] = self.labels\n",
    "        config['feature_names'] = self.feature_names\n",
    "        config_path = os.path.join(path, 'config.json')\n",
    "        with open(config_path, 'w', encoding='utf-8-sig') as f:\n",
    "            json.dump(config, f, ensure_ascii=False, indent=4)\n",
    "\n",
    "        # 모든 모델 저장\n",
    "        for label, predictor in self.predictors.items():\n",
    "            model_path = os.path.join(path, f'{label}.joblib')\n",
    "            joblib.dump(predictor, model_path)\n",
    "\n",
    "    @classmethod\n",
    "    def load(cls, path):\n",
    "        \"\"\"\n",
    "        path: 저장된 모델 경로 지정\n",
    "        \"\"\"\n",
    "        config_path = os.path.join(path, 'config.json')\n",
    "        with open(config_path, 'r', encoding='utf-8-sig') as f:\n",
    "            config = json.load(f)\n",
    "        \n",
    "        # 새 인스턴스 생성\n",
    "        model_type = config.pop('model', 'XGBoost') \n",
    "        eval_metrics = config.pop('eval_metrics', None)\n",
    "        instance = cls(labels=config['labels'], eval_metrics=eval_metrics,\n",
    "                       consider_labels_correlation=config['consider_labels_correlation'], model=model_type)\n",
    "\n",
    "        # 명시적으로 속성을 업데이트\n",
    "        for key, value in config.items():\n",
    "            setattr(instance, key, value)\n",
    "\n",
    "        # 모든 모델을 로드하여 인스턴스에 설정\n",
    "        instance.predictors = {}\n",
    "        for label in instance.labels:\n",
    "            model_path = os.path.join(path, f'{label}.joblib')\n",
    "            instance.predictors[label] = joblib.load(model_path)\n",
    "\n",
    "        return instance"
   ]
  },
  {
   "cell_type": "code",
   "execution_count": 2,
   "id": "90d32117",
   "metadata": {
    "ExecuteTime": {
     "end_time": "2024-02-06T06:46:38.905562Z",
     "start_time": "2024-02-06T06:46:38.744444Z"
    }
   },
   "outputs": [],
   "source": [
    "from sklearn.datasets import make_regression\n",
    "\n",
    "X, y = make_regression(n_samples=1000, n_features=25, n_targets=3, )\n",
    "\n",
    "y = (y - y.min()) / (y.max() - y.min())"
   ]
  },
  {
   "cell_type": "code",
   "execution_count": 3,
   "id": "aa5e7d99",
   "metadata": {
    "ExecuteTime": {
     "end_time": "2024-02-06T06:46:38.920663Z",
     "start_time": "2024-02-06T06:46:38.907561Z"
    }
   },
   "outputs": [
    {
     "data": {
      "text/plain": [
       "((1000, 25), (1000, 3))"
      ]
     },
     "execution_count": 3,
     "metadata": {},
     "output_type": "execute_result"
    }
   ],
   "source": [
    "X.shape, y.shape"
   ]
  },
  {
   "cell_type": "code",
   "execution_count": 4,
   "id": "ae02fa03",
   "metadata": {
    "ExecuteTime": {
     "end_time": "2024-02-06T06:46:38.935709Z",
     "start_time": "2024-02-06T06:46:38.922699Z"
    }
   },
   "outputs": [],
   "source": [
    "features = [f'f{i:02d}' for i in range(25)]\n",
    "labels = [f'y{i}' for i in range(3)]\n",
    "\n",
    "X = pd.DataFrame(X, columns=features)\n",
    "y = pd.DataFrame(y, columns=labels)"
   ]
  },
  {
   "cell_type": "code",
   "execution_count": 5,
   "id": "04558c4a",
   "metadata": {
    "ExecuteTime": {
     "end_time": "2024-02-06T06:46:38.950707Z",
     "start_time": "2024-02-06T06:46:38.939699Z"
    }
   },
   "outputs": [],
   "source": [
    "from sklearn.model_selection import train_test_split\n",
    "\n",
    "train_data, test_data = train_test_split(pd.concat([X, y], axis=1), test_size=0.2, random_state=42)"
   ]
  },
  {
   "cell_type": "code",
   "execution_count": 6,
   "id": "aa503734",
   "metadata": {
    "ExecuteTime": {
     "end_time": "2024-02-06T06:46:39.750520Z",
     "start_time": "2024-02-06T06:46:38.952714Z"
    }
   },
   "outputs": [],
   "source": [
    "predictor = MultilabelPredictor(labels=labels, model='XGBoost', random_state=24).fit(train_data)"
   ]
  },
  {
   "cell_type": "code",
   "execution_count": 7,
   "id": "bba5b1db",
   "metadata": {
    "ExecuteTime": {
     "end_time": "2024-02-06T06:46:39.780308Z",
     "start_time": "2024-02-06T06:46:39.753068Z"
    }
   },
   "outputs": [
    {
     "data": {
      "text/html": [
       "<div>\n",
       "<style scoped>\n",
       "    .dataframe tbody tr th:only-of-type {\n",
       "        vertical-align: middle;\n",
       "    }\n",
       "\n",
       "    .dataframe tbody tr th {\n",
       "        vertical-align: top;\n",
       "    }\n",
       "\n",
       "    .dataframe thead th {\n",
       "        text-align: right;\n",
       "    }\n",
       "</style>\n",
       "<table border=\"1\" class=\"dataframe\">\n",
       "  <thead>\n",
       "    <tr style=\"text-align: right;\">\n",
       "      <th></th>\n",
       "      <th>y0</th>\n",
       "      <th>y1</th>\n",
       "      <th>y2</th>\n",
       "    </tr>\n",
       "  </thead>\n",
       "  <tbody>\n",
       "    <tr>\n",
       "      <th>mae</th>\n",
       "      <td>0.050431</td>\n",
       "      <td>0.040729</td>\n",
       "      <td>0.043002</td>\n",
       "    </tr>\n",
       "    <tr>\n",
       "      <th>rmse</th>\n",
       "      <td>0.065991</td>\n",
       "      <td>0.053964</td>\n",
       "      <td>0.055266</td>\n",
       "    </tr>\n",
       "    <tr>\n",
       "      <th>mape</th>\n",
       "      <td>0.115654</td>\n",
       "      <td>0.092031</td>\n",
       "      <td>0.092190</td>\n",
       "    </tr>\n",
       "    <tr>\n",
       "      <th>r2</th>\n",
       "      <td>0.786383</td>\n",
       "      <td>0.785279</td>\n",
       "      <td>0.793814</td>\n",
       "    </tr>\n",
       "    <tr>\n",
       "      <th>pearsonr</th>\n",
       "      <td>0.894434</td>\n",
       "      <td>0.891689</td>\n",
       "      <td>0.899630</td>\n",
       "    </tr>\n",
       "  </tbody>\n",
       "</table>\n",
       "</div>"
      ],
      "text/plain": [
       "                y0        y1        y2\n",
       "mae       0.050431  0.040729  0.043002\n",
       "rmse      0.065991  0.053964  0.055266\n",
       "mape      0.115654  0.092031  0.092190\n",
       "r2        0.786383  0.785279  0.793814\n",
       "pearsonr  0.894434  0.891689  0.899630"
      ]
     },
     "execution_count": 7,
     "metadata": {},
     "output_type": "execute_result"
    }
   ],
   "source": [
    "predictor.evaluate(test_data)"
   ]
  },
  {
   "cell_type": "code",
   "execution_count": 8,
   "id": "3c209002",
   "metadata": {
    "ExecuteTime": {
     "end_time": "2024-02-06T06:46:40.039815Z",
     "start_time": "2024-02-06T06:46:39.781960Z"
    }
   },
   "outputs": [],
   "source": [
    "predictor = MultilabelPredictor(labels=labels, model='XGBoost', consider_labels_correlation=False, random_state=24).fit(train_data)"
   ]
  },
  {
   "cell_type": "code",
   "execution_count": 9,
   "id": "b2cd1114",
   "metadata": {
    "ExecuteTime": {
     "end_time": "2024-02-06T06:46:40.071380Z",
     "start_time": "2024-02-06T06:46:40.041889Z"
    }
   },
   "outputs": [
    {
     "data": {
      "text/html": [
       "<div>\n",
       "<style scoped>\n",
       "    .dataframe tbody tr th:only-of-type {\n",
       "        vertical-align: middle;\n",
       "    }\n",
       "\n",
       "    .dataframe tbody tr th {\n",
       "        vertical-align: top;\n",
       "    }\n",
       "\n",
       "    .dataframe thead th {\n",
       "        text-align: right;\n",
       "    }\n",
       "</style>\n",
       "<table border=\"1\" class=\"dataframe\">\n",
       "  <thead>\n",
       "    <tr style=\"text-align: right;\">\n",
       "      <th></th>\n",
       "      <th>y0</th>\n",
       "      <th>y1</th>\n",
       "      <th>y2</th>\n",
       "    </tr>\n",
       "  </thead>\n",
       "  <tbody>\n",
       "    <tr>\n",
       "      <th>mae</th>\n",
       "      <td>0.050431</td>\n",
       "      <td>0.036459</td>\n",
       "      <td>0.039573</td>\n",
       "    </tr>\n",
       "    <tr>\n",
       "      <th>rmse</th>\n",
       "      <td>0.065991</td>\n",
       "      <td>0.047900</td>\n",
       "      <td>0.052046</td>\n",
       "    </tr>\n",
       "    <tr>\n",
       "      <th>mape</th>\n",
       "      <td>0.115654</td>\n",
       "      <td>0.082791</td>\n",
       "      <td>0.086913</td>\n",
       "    </tr>\n",
       "    <tr>\n",
       "      <th>r2</th>\n",
       "      <td>0.786383</td>\n",
       "      <td>0.830826</td>\n",
       "      <td>0.817143</td>\n",
       "    </tr>\n",
       "    <tr>\n",
       "      <th>pearsonr</th>\n",
       "      <td>0.894434</td>\n",
       "      <td>0.914547</td>\n",
       "      <td>0.908711</td>\n",
       "    </tr>\n",
       "  </tbody>\n",
       "</table>\n",
       "</div>"
      ],
      "text/plain": [
       "                y0        y1        y2\n",
       "mae       0.050431  0.036459  0.039573\n",
       "rmse      0.065991  0.047900  0.052046\n",
       "mape      0.115654  0.082791  0.086913\n",
       "r2        0.786383  0.830826  0.817143\n",
       "pearsonr  0.894434  0.914547  0.908711"
      ]
     },
     "execution_count": 9,
     "metadata": {},
     "output_type": "execute_result"
    }
   ],
   "source": [
    "predictor.evaluate(test_data)"
   ]
  },
  {
   "cell_type": "code",
   "execution_count": 10,
   "id": "c8038f99",
   "metadata": {
    "ExecuteTime": {
     "end_time": "2024-02-06T06:46:40.102640Z",
     "start_time": "2024-02-06T06:46:40.073406Z"
    }
   },
   "outputs": [],
   "source": [
    "predictor.save('multilabel')"
   ]
  },
  {
   "cell_type": "code",
   "execution_count": 11,
   "id": "d99c38f0",
   "metadata": {
    "ExecuteTime": {
     "end_time": "2024-02-06T06:46:40.132739Z",
     "start_time": "2024-02-06T06:46:40.105881Z"
    }
   },
   "outputs": [],
   "source": [
    "predictor = MultilabelPredictor.load('multilabel')"
   ]
  },
  {
   "cell_type": "code",
   "execution_count": 12,
   "id": "06eb3ea5",
   "metadata": {
    "ExecuteTime": {
     "end_time": "2024-02-06T06:46:40.163113Z",
     "start_time": "2024-02-06T06:46:40.137842Z"
    }
   },
   "outputs": [
    {
     "data": {
      "text/html": [
       "<div>\n",
       "<style scoped>\n",
       "    .dataframe tbody tr th:only-of-type {\n",
       "        vertical-align: middle;\n",
       "    }\n",
       "\n",
       "    .dataframe tbody tr th {\n",
       "        vertical-align: top;\n",
       "    }\n",
       "\n",
       "    .dataframe thead th {\n",
       "        text-align: right;\n",
       "    }\n",
       "</style>\n",
       "<table border=\"1\" class=\"dataframe\">\n",
       "  <thead>\n",
       "    <tr style=\"text-align: right;\">\n",
       "      <th></th>\n",
       "      <th>y0</th>\n",
       "      <th>y1</th>\n",
       "      <th>y2</th>\n",
       "    </tr>\n",
       "  </thead>\n",
       "  <tbody>\n",
       "    <tr>\n",
       "      <th>mae</th>\n",
       "      <td>0.050431</td>\n",
       "      <td>0.036459</td>\n",
       "      <td>0.039573</td>\n",
       "    </tr>\n",
       "    <tr>\n",
       "      <th>rmse</th>\n",
       "      <td>0.065991</td>\n",
       "      <td>0.047900</td>\n",
       "      <td>0.052046</td>\n",
       "    </tr>\n",
       "    <tr>\n",
       "      <th>mape</th>\n",
       "      <td>0.115654</td>\n",
       "      <td>0.082791</td>\n",
       "      <td>0.086913</td>\n",
       "    </tr>\n",
       "    <tr>\n",
       "      <th>r2</th>\n",
       "      <td>0.786383</td>\n",
       "      <td>0.830826</td>\n",
       "      <td>0.817143</td>\n",
       "    </tr>\n",
       "    <tr>\n",
       "      <th>pearsonr</th>\n",
       "      <td>0.894434</td>\n",
       "      <td>0.914547</td>\n",
       "      <td>0.908711</td>\n",
       "    </tr>\n",
       "  </tbody>\n",
       "</table>\n",
       "</div>"
      ],
      "text/plain": [
       "                y0        y1        y2\n",
       "mae       0.050431  0.036459  0.039573\n",
       "rmse      0.065991  0.047900  0.052046\n",
       "mape      0.115654  0.082791  0.086913\n",
       "r2        0.786383  0.830826  0.817143\n",
       "pearsonr  0.894434  0.914547  0.908711"
      ]
     },
     "execution_count": 12,
     "metadata": {},
     "output_type": "execute_result"
    }
   ],
   "source": [
    "predictor.evaluate(test_data)"
   ]
  },
  {
   "cell_type": "code",
   "execution_count": null,
   "id": "ce389bb3",
   "metadata": {},
   "outputs": [],
   "source": []
  }
 ],
 "metadata": {
  "kernelspec": {
   "display_name": "Python 3.9",
   "language": "python",
   "name": "py39"
  },
  "language_info": {
   "codemirror_mode": {
    "name": "ipython",
    "version": 3
   },
   "file_extension": ".py",
   "mimetype": "text/x-python",
   "name": "python",
   "nbconvert_exporter": "python",
   "pygments_lexer": "ipython3",
   "version": "3.9.12"
  },
  "toc": {
   "base_numbering": 1,
   "nav_menu": {},
   "number_sections": false,
   "sideBar": true,
   "skip_h1_title": false,
   "title_cell": "Table of Contents",
   "title_sidebar": "Contents",
   "toc_cell": false,
   "toc_position": {},
   "toc_section_display": true,
   "toc_window_display": false
  },
  "varInspector": {
   "cols": {
    "lenName": 16,
    "lenType": 16,
    "lenVar": 40
   },
   "kernels_config": {
    "python": {
     "delete_cmd_postfix": "",
     "delete_cmd_prefix": "del ",
     "library": "var_list.py",
     "varRefreshCmd": "print(var_dic_list())"
    },
    "r": {
     "delete_cmd_postfix": ") ",
     "delete_cmd_prefix": "rm(",
     "library": "var_list.r",
     "varRefreshCmd": "cat(var_dic_list()) "
    }
   },
   "types_to_exclude": [
    "module",
    "function",
    "builtin_function_or_method",
    "instance",
    "_Feature"
   ],
   "window_display": false
  }
 },
 "nbformat": 4,
 "nbformat_minor": 5
}
