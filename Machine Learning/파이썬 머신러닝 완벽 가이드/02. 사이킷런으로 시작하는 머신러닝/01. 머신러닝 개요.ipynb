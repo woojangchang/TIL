{
 "cells": [
  {
   "cell_type": "markdown",
   "id": "50626f98",
   "metadata": {},
   "source": [
    "# ML 예시\n",
    "행복지수와 GDP 관계"
   ]
  },
  {
   "cell_type": "code",
   "execution_count": 1,
   "id": "a9d30c7a",
   "metadata": {
    "scrolled": true
   },
   "outputs": [
    {
     "data": {
      "image/png": "[encoded data removed]",
      "text/plain": [
       "<Figure size 432x288 with 1 Axes>"
      ]
     },
     "metadata": {
      "needs_background": "light"
     },
     "output_type": "display_data"
    },
    {
     "name": "stdout",
     "output_type": "stream",
     "text": [
      "[[5.96242338]]\n"
     ]
    }
   ],
   "source": [
    "import matplotlib\n",
    "import matplotlib.pyplot as plt\n",
    "import numpy as np\n",
    "import pandas as pd\n",
    "import sklearn.linear_model\n",
    "\n",
    "def prepare_country_stats(oecd_bli, gdp_per_capita):\n",
    "    oecd_bli = oecd_bli[oecd_bli[\"INEQUALITY\"]==\"TOT\"]\n",
    "    oecd_bli = oecd_bli.pivot(index=\"Country\", columns=\"Indicator\", values=\"Value\")\n",
    "    gdp_per_capita.rename(columns={\"2015\": \"GDP per capita\"}, inplace=True)\n",
    "    gdp_per_capita.set_index(\"Country\", inplace=True)\n",
    "    full_country_stats = pd.merge(left=oecd_bli, right=gdp_per_capita,\n",
    "                                  left_index=True, right_index=True)\n",
    "    full_country_stats.sort_values(by=\"GDP per capita\", inplace=True)\n",
    "    remove_indices = [0, 1, 6, 8, 33, 34, 35]\n",
    "    keep_indices = list(set(range(36)) - set(remove_indices))\n",
    "    return full_country_stats[[\"GDP per capita\", 'Life satisfaction']].iloc[keep_indices]\n",
    "\n",
    "# Load the data (데이터 적재)\n",
    "oecd_bli = pd.read_csv(\"data/lifesat/oecd_bli_2015.csv\", thousands=',')\n",
    "gdp_per_capita = pd.read_csv(\"data/lifesat/gdp_per_capita.csv\",\n",
    "                             thousands=',',delimiter='\\t',\n",
    "                             encoding='latin1', na_values=\"n/a\")\n",
    "\n",
    "# Prepare the data (데이터 전처리)\n",
    "country_stats = prepare_country_stats(oecd_bli, gdp_per_capita)\n",
    "X = np.c_[country_stats[\"GDP per capita\"]]\n",
    "y = np.c_[country_stats[\"Life satisfaction\"]]\n",
    "\n",
    "# Visualize the data (데이터 탐색)\n",
    "country_stats.plot(kind='scatter', x=\"GDP per capita\", y='Life satisfaction')\n",
    "plt.show()\n",
    "\n",
    "# Select a linear model (모델 선택)\n",
    "model = sklearn.linear_model.LinearRegression()\n",
    "\n",
    "# Train the model (모델 학습, 훈련)\n",
    "model.fit(X, y)\n",
    "\n",
    "# Make a prediction for Cyprus(슬로베니아) (예측, 추론)\n",
    "X_new = [[22587]]  # Cyprus' GDP per capita\n",
    "print(model.predict(X_new)) # outputs [[ 5.96242338]]"
   ]
  },
  {
   "cell_type": "markdown",
   "id": "5751308e",
   "metadata": {},
   "source": [
    "## 변수 유형\n",
    "- 독립 변수 (Feature)\n",
    "- 종속 변수 (Label)"
   ]
  },
  {
   "cell_type": "markdown",
   "id": "2941befa",
   "metadata": {},
   "source": [
    "# ML 실습\n",
    "생선 분류 문제"
   ]
  },
  {
   "cell_type": "markdown",
   "id": "083bf6d9",
   "metadata": {},
   "source": [
    "## 데이터 준비\n",
    "1. 도미"
   ]
  },
  {
   "cell_type": "code",
   "execution_count": 2,
   "id": "db90d170",
   "metadata": {},
   "outputs": [],
   "source": [
    "bream_length = [25.4, 26.3, 26.5, 29.0, 29.0, 29.7, 29.7, 30.0, 30.0, 30.7,\n",
    "                31.0, 31.0, 31.5, 32.0, 32.0, 32.0, 33.0, 33.0, 33.5, 33.5,\n",
    "                34.0, 34.0, 34.5, 35.0, 35.0, 35.0, 35.0, 36.0, 36.0, 37.0,\n",
    "                38.5, 38.5, 39.5, 41.0, 41.0]\n",
    "bream_weight = [242.0, 290.0, 340.0, 363.0, 430.0, 450.0, 500.0, 390.0, 450.0,\n",
    "                500.0, 475.0, 500.0, 500.0, 340.0, 600.0, 600.0, 700.0, 700.0,\n",
    "                610.0, 650.0, 575.0, 685.0, 620.0, 680.0, 700.0, 725.0, 720.0,\n",
    "                714.0, 850.0, 1000.0, 920.0, 955.0, 925.0, 975.0, 950.0]"
   ]
  },
  {
   "cell_type": "markdown",
   "id": "c9aadac5",
   "metadata": {},
   "source": [
    "## 산점도"
   ]
  },
  {
   "cell_type": "code",
   "execution_count": 3,
   "id": "cad250c4",
   "metadata": {},
   "outputs": [
    {
     "data": {
      "image/png": "[encoded data removed]",
      "text/plain": [
       "<Figure size 432x288 with 1 Axes>"
      ]
     },
     "metadata": {
      "needs_background": "light"
     },
     "output_type": "display_data"
    }
   ],
   "source": [
    "import matplotlib.pyplot as plt\n",
    "\n",
    "plt.scatter(bream_length, bream_weight)\n",
    "plt.xlabel('length')\n",
    "plt.ylabel('weight')\n",
    "plt.show()"
   ]
  },
  {
   "cell_type": "markdown",
   "id": "65891c1d",
   "metadata": {},
   "source": [
    "2. 빙어"
   ]
  },
  {
   "cell_type": "code",
   "execution_count": 4,
   "id": "6c6d21c1",
   "metadata": {},
   "outputs": [],
   "source": [
    "smelt_length = [9.8, 10.5, 10.6, 11.0, 11.2, 11.3, 11.8, 11.8, 12.0, 12.2,\n",
    "                12.4, 13.0, 14.3, 15.0]\n",
    "smelt_weight = [6.7, 7.5, 7.0, 9.7, 9.8, 8.7, 10.0, 9.9, 9.8, 12.2,\n",
    "                13.4, 12.2, 19.7, 19.9]"
   ]
  },
  {
   "cell_type": "code",
   "execution_count": 5,
   "id": "66559dd1",
   "metadata": {},
   "outputs": [
    {
     "data": {
      "image/png": "[encoded data removed]",
      "text/plain": [
       "<Figure size 432x288 with 1 Axes>"
      ]
     },
     "metadata": {
      "needs_background": "light"
     },
     "output_type": "display_data"
    }
   ],
   "source": [
    "plt.scatter(bream_length, bream_weight)\n",
    "plt.scatter(smelt_length, smelt_weight)\n",
    "plt.xlabel('length')\n",
    "plt.ylabel('weight')\n",
    "plt.show()"
   ]
  },
  {
   "cell_type": "markdown",
   "id": "46cfe95e",
   "metadata": {},
   "source": [
    "## 데이터 병합"
   ]
  },
  {
   "cell_type": "code",
   "execution_count": 6,
   "id": "23055c74",
   "metadata": {},
   "outputs": [],
   "source": [
    "length = bream_length + smelt_length\n",
    "weight = bream_weight + smelt_weight"
   ]
  },
  {
   "cell_type": "code",
   "execution_count": 7,
   "id": "4d0222a0",
   "metadata": {},
   "outputs": [
    {
     "name": "stdout",
     "output_type": "stream",
     "text": [
      "[[25.4, 242.0], [26.3, 290.0], [26.5, 340.0], [29.0, 363.0], [29.0, 430.0], [29.7, 450.0], [29.7, 500.0], [30.0, 390.0], [30.0, 450.0], [30.7, 500.0], [31.0, 475.0], [31.0, 500.0], [31.5, 500.0], [32.0, 340.0], [32.0, 600.0], [32.0, 600.0], [33.0, 700.0], [33.0, 700.0], [33.5, 610.0], [33.5, 650.0], [34.0, 575.0], [34.0, 685.0], [34.5, 620.0], [35.0, 680.0], [35.0, 700.0], [35.0, 725.0], [35.0, 720.0], [36.0, 714.0], [36.0, 850.0], [37.0, 1000.0], [38.5, 920.0], [38.5, 955.0], [39.5, 925.0], [41.0, 975.0], [41.0, 950.0], [9.8, 6.7], [10.5, 7.5], [10.6, 7.0], [11.0, 9.7], [11.2, 9.8], [11.3, 8.7], [11.8, 10.0], [11.8, 9.9], [12.0, 9.8], [12.2, 12.2], [12.4, 13.4], [13.0, 12.2], [14.3, 19.7], [15.0, 19.9]]\n"
     ]
    }
   ],
   "source": [
    "# 2차원 리스트로 변환\n",
    "fish_data = [[l, w] for l, w in zip(length, weight)]\n",
    "\n",
    "print(fish_data)"
   ]
  },
  {
   "cell_type": "markdown",
   "id": "aeae6b8c",
   "metadata": {},
   "source": [
    "## 레이블(타겟) 데이터 생성"
   ]
  },
  {
   "cell_type": "code",
   "execution_count": 8,
   "id": "23d42674",
   "metadata": {},
   "outputs": [
    {
     "name": "stdout",
     "output_type": "stream",
     "text": [
      "[1, 1, 1, 1, 1, 1, 1, 1, 1, 1, 1, 1, 1, 1, 1, 1, 1, 1, 1, 1, 1, 1, 1, 1, 1, 1, 1, 1, 1, 1, 1, 1, 1, 1, 1, 0, 0, 0, 0, 0, 0, 0, 0, 0, 0, 0, 0, 0, 0]\n"
     ]
    }
   ],
   "source": [
    "fish_target = [1] * len(bream_length) + [0] * len(smelt_length)\n",
    "\n",
    "print(fish_target)"
   ]
  },
  {
   "cell_type": "markdown",
   "id": "6b16be4c",
   "metadata": {},
   "source": [
    "## KNN(K-Nearest Neighbor) 알고리즘 이용"
   ]
  },
  {
   "cell_type": "markdown",
   "id": "b1bce1d5",
   "metadata": {},
   "source": [
    "### K-최근접 이웃 알고리즘\n",
    "- 테스트 데이터와 K개의 훈련 데이터의 y값들을 비교\n",
    "- 특정 점으로부터 가장 가까운 K개의 데이터를 뽑음\n",
    "- 분류 : K개의 최근접 이웃들의 class 중 다수결 결과로 class 예측\n",
    "- 회귀 : K개의 최근접 이웃들이 가지고 있는 값의 평균을 결과값으로 예측\n",
    "- 동점을 막기 위해 보통 K를 홀수로 정함\n",
    "    - K가 작으면 과대적합 (노이즈)\n",
    "    - K가 커지면 과소적합 (전체 빈도/평균)\n",
    "- 거리\n",
    "    - Euclidean Distance : $d(g_1, g_2) = \\sqrt{\\sum_{i=1}^n(x_i-y_i)^2}$\n",
    "    - Manhattan Distance : $d(g_1, g_2) = \\sum_{i=1}^n |x_i-y_i|$\n",
    "    - Minkowski Distance : $d(g_1, g_2) = \\sqrt[m]{\\sum_{i=1}^n(x_i-y_i)^m}$\n",
    "        - m=1 : 맨하탄 거리\n",
    "        - m=2 : 유클리드 거리\n",
    "        - other : 민코위스키 거리"
   ]
  },
  {
   "cell_type": "markdown",
   "id": "da7e63f6",
   "metadata": {},
   "source": [
    "## scikit-learn KNN"
   ]
  },
  {
   "cell_type": "code",
   "execution_count": 9,
   "id": "18335141",
   "metadata": {},
   "outputs": [],
   "source": [
    "from sklearn.neighbors import KNeighborsClassifier # 분류\n",
    "# from sklearn.neighbors import KNeighborsRegressor # 회귀"
   ]
  },
  {
   "cell_type": "markdown",
   "id": "4a8ba850",
   "metadata": {},
   "source": [
    "### 객체 생성"
   ]
  },
  {
   "cell_type": "code",
   "execution_count": 10,
   "id": "408ecf94",
   "metadata": {},
   "outputs": [],
   "source": [
    "kn = KNeighborsClassifier()"
   ]
  },
  {
   "cell_type": "markdown",
   "id": "1bc25bf2",
   "metadata": {},
   "source": [
    "### Training : fit(features, label)"
   ]
  },
  {
   "cell_type": "code",
   "execution_count": 11,
   "id": "ecf92e75",
   "metadata": {},
   "outputs": [
    {
     "data": {
      "text/plain": [
       "KNeighborsClassifier()"
      ]
     },
     "execution_count": 11,
     "metadata": {},
     "output_type": "execute_result"
    }
   ],
   "source": [
    "kn.fit(fish_data, fish_target) # kn.fit(X, y)"
   ]
  },
  {
   "cell_type": "markdown",
   "id": "4ee8d869",
   "metadata": {},
   "source": [
    "### 모델 평가 : score(features, label) = 정확도"
   ]
  },
  {
   "cell_type": "code",
   "execution_count": 12,
   "id": "49ee770f",
   "metadata": {},
   "outputs": [
    {
     "data": {
      "text/plain": [
       "1.0"
      ]
     },
     "execution_count": 12,
     "metadata": {},
     "output_type": "execute_result"
    }
   ],
   "source": [
    "kn.score(fish_data, fish_target) # kn.score(X, y)"
   ]
  },
  {
   "cell_type": "markdown",
   "id": "c4329c44",
   "metadata": {},
   "source": [
    "### 정확도(accuracy)\n",
    "- 정확히 맞힌 개수 / 전체 데이터 수"
   ]
  },
  {
   "cell_type": "code",
   "execution_count": 13,
   "id": "14a00d75",
   "metadata": {},
   "outputs": [
    {
     "data": {
      "image/png": "[encoded data removed]",
      "text/plain": [
       "<Figure size 432x288 with 1 Axes>"
      ]
     },
     "metadata": {
      "needs_background": "light"
     },
     "output_type": "display_data"
    }
   ],
   "source": [
    "plt.scatter(bream_length, bream_weight)\n",
    "plt.scatter(smelt_length, smelt_weight)\n",
    "plt.scatter(30, 600, marker='^')\n",
    "plt.xlabel('length')\n",
    "plt.ylabel('weight')\n",
    "plt.show()"
   ]
  },
  {
   "cell_type": "code",
   "execution_count": 14,
   "id": "3d56e8dd",
   "metadata": {
    "scrolled": true
   },
   "outputs": [
    {
     "data": {
      "text/plain": [
       "array([1])"
      ]
     },
     "execution_count": 14,
     "metadata": {},
     "output_type": "execute_result"
    }
   ],
   "source": [
    "kn.predict([[30, 600]])"
   ]
  },
  {
   "cell_type": "markdown",
   "id": "a36e8e55",
   "metadata": {},
   "source": [
    "### _fit_X : fish_data"
   ]
  },
  {
   "cell_type": "code",
   "execution_count": 15,
   "id": "d6002b50",
   "metadata": {},
   "outputs": [
    {
     "name": "stdout",
     "output_type": "stream",
     "text": [
      "[[  25.4  242. ]\n",
      " [  26.3  290. ]\n",
      " [  26.5  340. ]\n",
      " [  29.   363. ]\n",
      " [  29.   430. ]\n",
      " [  29.7  450. ]\n",
      " [  29.7  500. ]\n",
      " [  30.   390. ]\n",
      " [  30.   450. ]\n",
      " [  30.7  500. ]\n",
      " [  31.   475. ]\n",
      " [  31.   500. ]\n",
      " [  31.5  500. ]\n",
      " [  32.   340. ]\n",
      " [  32.   600. ]\n",
      " [  32.   600. ]\n",
      " [  33.   700. ]\n",
      " [  33.   700. ]\n",
      " [  33.5  610. ]\n",
      " [  33.5  650. ]\n",
      " [  34.   575. ]\n",
      " [  34.   685. ]\n",
      " [  34.5  620. ]\n",
      " [  35.   680. ]\n",
      " [  35.   700. ]\n",
      " [  35.   725. ]\n",
      " [  35.   720. ]\n",
      " [  36.   714. ]\n",
      " [  36.   850. ]\n",
      " [  37.  1000. ]\n",
      " [  38.5  920. ]\n",
      " [  38.5  955. ]\n",
      " [  39.5  925. ]\n",
      " [  41.   975. ]\n",
      " [  41.   950. ]\n",
      " [   9.8    6.7]\n",
      " [  10.5    7.5]\n",
      " [  10.6    7. ]\n",
      " [  11.     9.7]\n",
      " [  11.2    9.8]\n",
      " [  11.3    8.7]\n",
      " [  11.8   10. ]\n",
      " [  11.8    9.9]\n",
      " [  12.     9.8]\n",
      " [  12.2   12.2]\n",
      " [  12.4   13.4]\n",
      " [  13.    12.2]\n",
      " [  14.3   19.7]\n",
      " [  15.    19.9]]\n"
     ]
    }
   ],
   "source": [
    "print(kn._fit_X)"
   ]
  },
  {
   "cell_type": "markdown",
   "id": "f3d4e907",
   "metadata": {},
   "source": [
    "### _y : fish_target"
   ]
  },
  {
   "cell_type": "code",
   "execution_count": 16,
   "id": "0b16f77e",
   "metadata": {},
   "outputs": [
    {
     "name": "stdout",
     "output_type": "stream",
     "text": [
      "[1 1 1 1 1 1 1 1 1 1 1 1 1 1 1 1 1 1 1 1 1 1 1 1 1 1 1 1 1 1 1 1 1 1 1 0 0\n",
      " 0 0 0 0 0 0 0 0 0 0 0 0]\n"
     ]
    }
   ],
   "source": [
    "print(kn._y)"
   ]
  },
  {
   "cell_type": "markdown",
   "id": "ac66d5e4",
   "metadata": {},
   "source": [
    "### K-neighbors 크기 default"
   ]
  },
  {
   "cell_type": "code",
   "execution_count": 17,
   "id": "5ea95ca6",
   "metadata": {},
   "outputs": [
    {
     "name": "stdout",
     "output_type": "stream",
     "text": [
      "5\n"
     ]
    }
   ],
   "source": [
    "print(kn.n_neighbors)"
   ]
  },
  {
   "cell_type": "markdown",
   "id": "09240579",
   "metadata": {},
   "source": [
    "### K-neighbors 크기 지정"
   ]
  },
  {
   "cell_type": "code",
   "execution_count": 18,
   "id": "3767d4a1",
   "metadata": {},
   "outputs": [],
   "source": [
    "kn49 = KNeighborsClassifier(n_neighbors=49)"
   ]
  },
  {
   "cell_type": "markdown",
   "id": "b45ecfc4",
   "metadata": {},
   "source": [
    "### K=49인 경우 모델 훈련 및 성능"
   ]
  },
  {
   "cell_type": "code",
   "execution_count": 19,
   "id": "4d2ae8c8",
   "metadata": {},
   "outputs": [
    {
     "data": {
      "text/plain": [
       "0.7142857142857143"
      ]
     },
     "execution_count": 19,
     "metadata": {},
     "output_type": "execute_result"
    }
   ],
   "source": [
    "kn49.fit(fish_data, fish_target)\n",
    "\n",
    "kn49.score(fish_data, fish_target)"
   ]
  },
  {
   "cell_type": "markdown",
   "id": "7e5b5f8d",
   "metadata": {},
   "source": [
    "49개 중 도미가 35개이므로 항상 최빈값으로 분류"
   ]
  },
  {
   "cell_type": "code",
   "execution_count": 20,
   "id": "e52a13a0",
   "metadata": {},
   "outputs": [
    {
     "data": {
      "text/plain": [
       "0.7142857142857143"
      ]
     },
     "execution_count": 20,
     "metadata": {},
     "output_type": "execute_result"
    }
   ],
   "source": [
    "len(bream_length) / len(fish_data)"
   ]
  },
  {
   "cell_type": "markdown",
   "id": "1eb650f7",
   "metadata": {},
   "source": [
    "## K의 값을 다르게 하며 테스트"
   ]
  },
  {
   "cell_type": "code",
   "execution_count": 21,
   "id": "06215918",
   "metadata": {},
   "outputs": [
    {
     "name": "stdout",
     "output_type": "stream",
     "text": [
      "k=5, score=1.0\n",
      "k=6, score=1.0\n",
      "k=7, score=1.0\n",
      "k=8, score=1.0\n",
      "k=9, score=1.0\n",
      "k=10, score=1.0\n",
      "k=11, score=1.0\n",
      "k=12, score=1.0\n",
      "k=13, score=1.0\n",
      "k=14, score=1.0\n",
      "k=15, score=1.0\n",
      "k=16, score=1.0\n",
      "k=17, score=1.0\n",
      "k=18, score=0.9795918367346939\n"
     ]
    }
   ],
   "source": [
    "kn = KNeighborsClassifier()\n",
    "kn.fit(fish_data, fish_target)\n",
    "\n",
    "for k in range(5, 50):\n",
    "    # 최근접 이웃 개수 설정\n",
    "    kn.n_neighbors = k\n",
    "    score = kn.score(fish_data, fish_target)\n",
    "    print(f'k={k}, score={score}')\n",
    "    if score <1:\n",
    "        break"
   ]
  },
  {
   "cell_type": "markdown",
   "id": "fa0df9f9",
   "metadata": {},
   "source": [
    "# Data split\n",
    "- 언제\n",
    "    - \"충분히 큰\" 데이터 세트\n",
    "    - 아닐 때는 교차 확인(Cross Validation) 고려\n",
    "- 왜\n",
    "    - 학습에 사용되지 않은 데이터를 사용하여 예측 수행 > 모델의 일반적인 성능 예측\n",
    "- 어떻게\n",
    "    - Hold-out(홀드 아웃)\n",
    "    - Cross Validation(교차 검증)\n",
    "    - Stratified Sampling"
   ]
  },
  {
   "cell_type": "markdown",
   "id": "9f020a66",
   "metadata": {},
   "source": [
    "## Hold-out\n",
    "- 데이터를 두 개 세트로 나누어 Train, Test로 사용\n",
    "- 적절한 비율 사용 (7:3 ~ 9:1)\n",
    "- Train - Validation - Test로 나누기도 함"
   ]
  },
  {
   "cell_type": "code",
   "execution_count": 22,
   "id": "ea27be1e",
   "metadata": {},
   "outputs": [],
   "source": [
    "kn = KNeighborsClassifier()"
   ]
  },
  {
   "cell_type": "markdown",
   "id": "48050cff",
   "metadata": {},
   "source": [
    "### Split into Training / Test Set #1"
   ]
  },
  {
   "cell_type": "code",
   "execution_count": 23,
   "id": "0620fba3",
   "metadata": {},
   "outputs": [],
   "source": [
    "train_input = fish_data[:35]\n",
    "train_target = fish_target[:35]\n",
    "\n",
    "test_input = fish_data[35:]\n",
    "test_target = fish_target[35:]"
   ]
  },
  {
   "cell_type": "markdown",
   "id": "8b7d2e0a",
   "metadata": {},
   "source": [
    "### Fit & Score"
   ]
  },
  {
   "cell_type": "code",
   "execution_count": 24,
   "id": "dfb41bd5",
   "metadata": {},
   "outputs": [
    {
     "data": {
      "text/plain": [
       "0.0"
      ]
     },
     "execution_count": 24,
     "metadata": {},
     "output_type": "execute_result"
    }
   ],
   "source": [
    "kn.fit(train_input, train_target)\n",
    "kn.score(test_input, test_target)"
   ]
  },
  {
   "cell_type": "markdown",
   "id": "c7415e43",
   "metadata": {},
   "source": [
    "편향된 data set이기 때문에 score가 0이 나온다."
   ]
  },
  {
   "cell_type": "markdown",
   "id": "1fb0cfbd",
   "metadata": {},
   "source": [
    "### Split into Training / Test Set #2"
   ]
  },
  {
   "cell_type": "code",
   "execution_count": 25,
   "id": "b7d2cbc1",
   "metadata": {},
   "outputs": [],
   "source": [
    "import numpy as np"
   ]
  },
  {
   "cell_type": "code",
   "execution_count": 26,
   "id": "de1a1d23",
   "metadata": {},
   "outputs": [],
   "source": [
    "input_arr = np.array(fish_data)\n",
    "target_arr = np.array(fish_target)"
   ]
  },
  {
   "cell_type": "code",
   "execution_count": 27,
   "id": "d940a071",
   "metadata": {},
   "outputs": [],
   "source": [
    "# 난수 생성\n",
    "np.random.seed(42)\n",
    "\n",
    "# 인덱스 생성\n",
    "index = np.arange(49)\n",
    "\n",
    "# 인덱스 섞기\n",
    "np.random.shuffle(index)"
   ]
  },
  {
   "cell_type": "code",
   "execution_count": 28,
   "id": "37b6c1c7",
   "metadata": {},
   "outputs": [
    {
     "name": "stdout",
     "output_type": "stream",
     "text": [
      "[13 45 47 44 17 27 26 25 31 19 12  4 34  8  3  6 40 41 46 15  9 16 24 33\n",
      " 30  0 43 32  5 29 11 36  1 21  2 37 35 23 39 10 22 18 48 20  7 42 14 28\n",
      " 38]\n"
     ]
    }
   ],
   "source": [
    "print(index)"
   ]
  },
  {
   "cell_type": "code",
   "execution_count": 29,
   "id": "6d192bfa",
   "metadata": {},
   "outputs": [],
   "source": [
    "train_input = input_arr[index[:35]]\n",
    "train_target = target_arr[index[:35]]\n",
    "\n",
    "test_input = input_arr[index[35:]]\n",
    "test_target = target_arr[index[35:]]"
   ]
  },
  {
   "cell_type": "code",
   "execution_count": 30,
   "id": "8825131d",
   "metadata": {},
   "outputs": [
    {
     "data": {
      "image/png": "[encoded data removed]",
      "text/plain": [
       "<Figure size 432x288 with 1 Axes>"
      ]
     },
     "metadata": {
      "needs_background": "light"
     },
     "output_type": "display_data"
    }
   ],
   "source": [
    "plt.scatter(train_input[:, 0], train_input[:, 1])\n",
    "plt.scatter(test_input[:, 0], test_input[:, 1])\n",
    "plt.xlabel('length')\n",
    "plt.ylabel('width')\n",
    "plt.show()"
   ]
  },
  {
   "cell_type": "code",
   "execution_count": 31,
   "id": "29502411",
   "metadata": {},
   "outputs": [
    {
     "data": {
      "text/plain": [
       "1.0"
      ]
     },
     "execution_count": 31,
     "metadata": {},
     "output_type": "execute_result"
    }
   ],
   "source": [
    "kn = KNeighborsClassifier()\n",
    "kn.fit(train_input, train_target)\n",
    "kn.score(test_input, test_target)"
   ]
  },
  {
   "cell_type": "code",
   "execution_count": 32,
   "id": "85f1d000",
   "metadata": {},
   "outputs": [
    {
     "data": {
      "text/plain": [
       "array([0, 0, 1, 0, 1, 1, 1, 0, 1, 1, 0, 1, 1, 0])"
      ]
     },
     "execution_count": 32,
     "metadata": {},
     "output_type": "execute_result"
    }
   ],
   "source": [
    "kn.predict(test_input)"
   ]
  },
  {
   "cell_type": "code",
   "execution_count": 33,
   "id": "41a26927",
   "metadata": {},
   "outputs": [
    {
     "data": {
      "text/plain": [
       "array([0, 0, 1, 0, 1, 1, 1, 0, 1, 1, 0, 1, 1, 0])"
      ]
     },
     "execution_count": 33,
     "metadata": {},
     "output_type": "execute_result"
    }
   ],
   "source": [
    "test_target"
   ]
  },
  {
   "cell_type": "markdown",
   "id": "ed38c508",
   "metadata": {},
   "source": [
    "# 데이터 전처리"
   ]
  },
  {
   "cell_type": "markdown",
   "id": "28653d2b",
   "metadata": {},
   "source": [
    "### 두 리스트 열방향으로 합치기"
   ]
  },
  {
   "cell_type": "code",
   "execution_count": 64,
   "id": "134bba41",
   "metadata": {},
   "outputs": [],
   "source": [
    "fish_length = [25.4, 26.3, 26.5, 29.0, 29.0, 29.7, 29.7, 30.0, 30.0, 30.7, 31.0, 31.0, \n",
    "                31.5, 32.0, 32.0, 32.0, 33.0, 33.0, 33.5, 33.5, 34.0, 34.0, 34.5, 35.0, \n",
    "                35.0, 35.0, 35.0, 36.0, 36.0, 37.0, 38.5, 38.5, 39.5, 41.0, 41.0, 9.8, \n",
    "                10.5, 10.6, 11.0, 11.2, 11.3, 11.8, 11.8, 12.0, 12.2, 12.4, 13.0, 14.3, 15.0]\n",
    "fish_weight = [242.0, 290.0, 340.0, 363.0, 430.0, 450.0, 500.0, 390.0, 450.0, 500.0, 475.0, 500.0, \n",
    "                500.0, 340.0, 600.0, 600.0, 700.0, 700.0, 610.0, 650.0, 575.0, 685.0, 620.0, 680.0, \n",
    "                700.0, 725.0, 720.0, 714.0, 850.0, 1000.0, 920.0, 955.0, 925.0, 975.0, 950.0, 6.7, \n",
    "                7.5, 7.0, 9.7, 9.8, 8.7, 10.0, 9.9, 9.8, 12.2, 13.4, 12.2, 19.7, 19.9]"
   ]
  },
  {
   "cell_type": "code",
   "execution_count": 65,
   "id": "f873c9b2",
   "metadata": {},
   "outputs": [],
   "source": [
    "fish_data = np.column_stack((fish_length, fish_weight))"
   ]
  },
  {
   "cell_type": "code",
   "execution_count": 66,
   "id": "7f372fa3",
   "metadata": {},
   "outputs": [
    {
     "data": {
      "text/plain": [
       "array([[ 25.4, 242. ],\n",
       "       [ 26.3, 290. ],\n",
       "       [ 26.5, 340. ],\n",
       "       [ 29. , 363. ],\n",
       "       [ 29. , 430. ]])"
      ]
     },
     "execution_count": 66,
     "metadata": {},
     "output_type": "execute_result"
    }
   ],
   "source": [
    "fish_data[:5]"
   ]
  },
  {
   "cell_type": "markdown",
   "id": "17e1b8c4",
   "metadata": {},
   "source": [
    "### 라벨 데이터 이어 붙이기"
   ]
  },
  {
   "cell_type": "code",
   "execution_count": 67,
   "id": "1507fee4",
   "metadata": {},
   "outputs": [
    {
     "data": {
      "text/plain": [
       "array([1., 1., 1., 1., 1., 1., 1., 1., 1., 1., 1., 1., 1., 1., 1., 1., 1.,\n",
       "       1., 1., 1., 1., 1., 1., 1., 1., 1., 1., 1., 1., 1., 1., 1., 1., 1.,\n",
       "       1., 0., 0., 0., 0., 0., 0., 0., 0., 0., 0., 0., 0., 0., 0.])"
      ]
     },
     "execution_count": 67,
     "metadata": {},
     "output_type": "execute_result"
    }
   ],
   "source": [
    "fish_target = np.concatenate(\n",
    "                (np.ones(len(bream_length)), np.zeros(len(smelt_length)))\n",
    "                )\n",
    "fish_target"
   ]
  },
  {
   "cell_type": "markdown",
   "id": "25f6d9f6",
   "metadata": {},
   "source": [
    "## Split into Train / Test Set by using scikit-learn"
   ]
  },
  {
   "cell_type": "code",
   "execution_count": 68,
   "id": "dc19948f",
   "metadata": {},
   "outputs": [],
   "source": [
    "from sklearn.model_selection import train_test_split"
   ]
  },
  {
   "cell_type": "markdown",
   "id": "10ec57ca",
   "metadata": {},
   "source": [
    "input : X, y  \n",
    "output : train_X, test_X, train_y, test_y"
   ]
  },
  {
   "cell_type": "code",
   "execution_count": 69,
   "id": "d3c563e9",
   "metadata": {},
   "outputs": [],
   "source": [
    "train_X, test_X, train_y, test_y = train_test_split(fish_data, fish_target, \n",
    "                                                    random_state=42)"
   ]
  },
  {
   "cell_type": "code",
   "execution_count": 70,
   "id": "1182f14f",
   "metadata": {},
   "outputs": [
    {
     "data": {
      "text/plain": [
       "((36, 2), (13, 2))"
      ]
     },
     "execution_count": 70,
     "metadata": {},
     "output_type": "execute_result"
    }
   ],
   "source": [
    "train_X.shape, test_X.shape"
   ]
  },
  {
   "cell_type": "code",
   "execution_count": 71,
   "id": "2bdd55f6",
   "metadata": {},
   "outputs": [
    {
     "data": {
      "text/plain": [
       "((36,), (13,))"
      ]
     },
     "execution_count": 71,
     "metadata": {},
     "output_type": "execute_result"
    }
   ],
   "source": [
    "train_y.shape, test_y.shape"
   ]
  },
  {
   "cell_type": "markdown",
   "id": "e0c23221",
   "metadata": {},
   "source": [
    "### 데이터 분포를 고려한 분배\n",
    "- `stratify=data` : data의 분포를 고려하여 분배"
   ]
  },
  {
   "cell_type": "code",
   "execution_count": 85,
   "id": "18d3158c",
   "metadata": {},
   "outputs": [],
   "source": [
    "train_X, test_X, train_y, test_y = train_test_split(fish_data, fish_target, \n",
    "                                                    random_state=42,\n",
    "                                                    stratify=fish_target)"
   ]
  },
  {
   "cell_type": "code",
   "execution_count": 86,
   "id": "1c259078",
   "metadata": {
    "scrolled": true
   },
   "outputs": [
    {
     "data": {
      "text/plain": [
       "1.0"
      ]
     },
     "execution_count": 86,
     "metadata": {},
     "output_type": "execute_result"
    }
   ],
   "source": [
    "kn = KNeighborsClassifier()\n",
    "kn.fit(train_X, train_y)\n",
    "kn.score(test_X, test_y)"
   ]
  },
  {
   "cell_type": "markdown",
   "id": "d2ad89af",
   "metadata": {},
   "source": [
    "### 예측"
   ]
  },
  {
   "cell_type": "code",
   "execution_count": 93,
   "id": "d21252c3",
   "metadata": {},
   "outputs": [],
   "source": [
    "predict_data = np.array([[25, 150]])"
   ]
  },
  {
   "cell_type": "code",
   "execution_count": 94,
   "id": "c0948a24",
   "metadata": {},
   "outputs": [
    {
     "name": "stdout",
     "output_type": "stream",
     "text": [
      "[0.]\n"
     ]
    }
   ],
   "source": [
    "print(kn.predict(predict_data))"
   ]
  },
  {
   "cell_type": "code",
   "execution_count": 95,
   "id": "714f5127",
   "metadata": {},
   "outputs": [
    {
     "data": {
      "image/png": "[encoded data removed]",
      "text/plain": [
       "<Figure size 432x288 with 1 Axes>"
      ]
     },
     "metadata": {
      "needs_background": "light"
     },
     "output_type": "display_data"
    }
   ],
   "source": [
    "plt.scatter(train_X[:, 0], train_X[:, 1])\n",
    "plt.scatter(predict_data[:, 0], predict_data[:, 1], marker='^')\n",
    "plt.xlabel('length')\n",
    "plt.ylabel('width')\n",
    "plt.show()"
   ]
  },
  {
   "cell_type": "markdown",
   "id": "b4ec4e1e",
   "metadata": {},
   "source": [
    "### 예측할 데이터와 이웃하는 데이터들"
   ]
  },
  {
   "cell_type": "code",
   "execution_count": 96,
   "id": "e4c949c7",
   "metadata": {},
   "outputs": [],
   "source": [
    "dist, idx = kn.kneighbors(predict_data)"
   ]
  },
  {
   "cell_type": "code",
   "execution_count": 97,
   "id": "490b8a68",
   "metadata": {},
   "outputs": [
    {
     "data": {
      "text/plain": [
       "array([[ 92.00086956, 130.48375378, 130.73859415, 138.32150953,\n",
       "        138.39320793]])"
      ]
     },
     "execution_count": 97,
     "metadata": {},
     "output_type": "execute_result"
    }
   ],
   "source": [
    "dist"
   ]
  },
  {
   "cell_type": "code",
   "execution_count": 98,
   "id": "ac58ddce",
   "metadata": {},
   "outputs": [
    {
     "data": {
      "text/plain": [
       "array([[21, 33, 19, 30,  1]], dtype=int64)"
      ]
     },
     "execution_count": 98,
     "metadata": {},
     "output_type": "execute_result"
    }
   ],
   "source": [
    "idx"
   ]
  },
  {
   "cell_type": "code",
   "execution_count": 99,
   "id": "6e55d0f3",
   "metadata": {},
   "outputs": [
    {
     "data": {
      "text/plain": [
       "array([[[ 25.4, 242. ],\n",
       "        [ 15. ,  19.9],\n",
       "        [ 14.3,  19.7],\n",
       "        [ 13. ,  12.2],\n",
       "        [ 12.2,  12.2]]])"
      ]
     },
     "execution_count": 99,
     "metadata": {},
     "output_type": "execute_result"
    }
   ],
   "source": [
    "train_X[idx]"
   ]
  },
  {
   "cell_type": "code",
   "execution_count": 101,
   "id": "6f0da562",
   "metadata": {},
   "outputs": [
    {
     "data": {
      "image/png": "[encoded data removed]",
      "text/plain": [
       "<Figure size 432x288 with 1 Axes>"
      ]
     },
     "metadata": {
      "needs_background": "light"
     },
     "output_type": "display_data"
    }
   ],
   "source": [
    "plt.scatter(train_X[:, 0], train_X[:, 1])\n",
    "plt.scatter(predict_data[:, 0], predict_data[:, 1], marker='^')\n",
    "plt.scatter(train_X[idx, 0], train_X[idx, 1], marker='D')\n",
    "plt.xlabel('length')\n",
    "plt.ylabel('width')\n",
    "plt.show()"
   ]
  },
  {
   "cell_type": "code",
   "execution_count": 102,
   "id": "001f0634",
   "metadata": {},
   "outputs": [
    {
     "data": {
      "image/png": "[encoded data removed]",
      "text/plain": [
       "<Figure size 432x288 with 1 Axes>"
      ]
     },
     "metadata": {
      "needs_background": "light"
     },
     "output_type": "display_data"
    }
   ],
   "source": [
    "plt.scatter(train_X[:, 0], train_X[:, 1])\n",
    "plt.scatter(predict_data[:, 0], predict_data[:, 1], marker='^')\n",
    "plt.scatter(train_X[idx, 0], train_X[idx, 1], marker='D')\n",
    "plt.xlabel('length')\n",
    "plt.ylabel('width')\n",
    "plt.xlim(0, 1000)\n",
    "plt.show()"
   ]
  },
  {
   "cell_type": "markdown",
   "id": "803cdfea",
   "metadata": {},
   "source": [
    "## 스케일을 같게\n",
    "- 표준화"
   ]
  },
  {
   "cell_type": "code",
   "execution_count": 103,
   "id": "e6248248",
   "metadata": {},
   "outputs": [
    {
     "name": "stdout",
     "output_type": "stream",
     "text": [
      "[ 27.29722222 454.09722222]\n"
     ]
    }
   ],
   "source": [
    "mean = np.mean(train_X, axis=0)\n",
    "print(mean)"
   ]
  },
  {
   "cell_type": "code",
   "execution_count": 104,
   "id": "74934b11",
   "metadata": {},
   "outputs": [
    {
     "name": "stdout",
     "output_type": "stream",
     "text": [
      "[  9.98244253 323.29893931]\n"
     ]
    }
   ],
   "source": [
    "std = np.std(train_X, axis=0)\n",
    "print(std)"
   ]
  },
  {
   "cell_type": "code",
   "execution_count": 106,
   "id": "f9903810",
   "metadata": {},
   "outputs": [
    {
     "name": "stdout",
     "output_type": "stream",
     "text": [
      "[[ 0.24070039  0.14198246]\n",
      " [-1.51237757 -1.36683783]\n",
      " [ 0.5712808   0.76060496]\n",
      " [-1.60253587 -1.37766373]\n",
      " [ 1.22242404  1.45655528]\n",
      " [ 0.17057727 -0.07453542]\n",
      " [ 0.87180845  0.80390854]\n",
      " [ 0.87180845  1.22457184]\n",
      " [ 0.37092904  0.06465464]\n",
      " [ 0.77163257  0.82246721]]\n"
     ]
    }
   ],
   "source": [
    "train_scaled = (train_X - mean) / std\n",
    "print(train_scaled[:10])"
   ]
  },
  {
   "cell_type": "code",
   "execution_count": 107,
   "id": "43cb18e2",
   "metadata": {},
   "outputs": [
    {
     "data": {
      "image/png": "[encoded data removed]",
      "text/plain": [
       "<Figure size 432x288 with 1 Axes>"
      ]
     },
     "metadata": {
      "needs_background": "light"
     },
     "output_type": "display_data"
    }
   ],
   "source": [
    "plt.scatter(train_scaled[:, 0], train_scaled[:, 1])\n",
    "plt.xlabel('length')\n",
    "plt.ylabel('width')\n",
    "plt.show()"
   ]
  },
  {
   "cell_type": "markdown",
   "id": "5c9bfbae",
   "metadata": {},
   "source": [
    "### 테스트 데이터도 스케일링"
   ]
  },
  {
   "cell_type": "code",
   "execution_count": 108,
   "id": "eb5ba171",
   "metadata": {},
   "outputs": [],
   "source": [
    "new = (predict_data - mean) / std"
   ]
  },
  {
   "cell_type": "code",
   "execution_count": 109,
   "id": "0237db77",
   "metadata": {},
   "outputs": [
    {
     "data": {
      "image/png": "[encoded data removed]",
      "text/plain": [
       "<Figure size 432x288 with 1 Axes>"
      ]
     },
     "metadata": {
      "needs_background": "light"
     },
     "output_type": "display_data"
    }
   ],
   "source": [
    "plt.scatter(train_scaled[:, 0], train_scaled[:, 1])\n",
    "plt.scatter(new[:, 0], new[:, 1], marker='^')\n",
    "plt.xlabel('length')\n",
    "plt.ylabel('width')\n",
    "plt.show()"
   ]
  },
  {
   "cell_type": "code",
   "execution_count": 110,
   "id": "77697c66",
   "metadata": {},
   "outputs": [
    {
     "data": {
      "text/plain": [
       "array([1.])"
      ]
     },
     "execution_count": 110,
     "metadata": {},
     "output_type": "execute_result"
    }
   ],
   "source": [
    "kn.fit(train_scaled, train_y)\n",
    "kn.predict(new)"
   ]
  },
  {
   "cell_type": "code",
   "execution_count": 111,
   "id": "fcbd13cb",
   "metadata": {},
   "outputs": [],
   "source": [
    "test_scaled = (test_X - mean) / std"
   ]
  },
  {
   "cell_type": "code",
   "execution_count": 112,
   "id": "adf32d92",
   "metadata": {},
   "outputs": [
    {
     "data": {
      "text/plain": [
       "1.0"
      ]
     },
     "execution_count": 112,
     "metadata": {},
     "output_type": "execute_result"
    }
   ],
   "source": [
    "kn.score(test_scaled, test_y)"
   ]
  },
  {
   "cell_type": "code",
   "execution_count": 113,
   "id": "8979ec4b",
   "metadata": {},
   "outputs": [],
   "source": [
    "_, idx_scaled = kn.kneighbors(new)"
   ]
  },
  {
   "cell_type": "code",
   "execution_count": 114,
   "id": "20c5b46f",
   "metadata": {},
   "outputs": [
    {
     "data": {
      "image/png": "[encoded data removed]",
      "text/plain": [
       "<Figure size 432x288 with 1 Axes>"
      ]
     },
     "metadata": {
      "needs_background": "light"
     },
     "output_type": "display_data"
    }
   ],
   "source": [
    "plt.scatter(train_scaled[:, 0], train_scaled[:, 1])\n",
    "plt.scatter(new[:, 0], new[:, 1], marker='^')\n",
    "plt.scatter(train_scaled[idx_scaled, 0], train_scaled[idx_scaled, 1], marker='D')\n",
    "plt.xlabel('length')\n",
    "plt.ylabel('width')\n",
    "plt.show()"
   ]
  },
  {
   "cell_type": "code",
   "execution_count": null,
   "id": "2332d6a9",
   "metadata": {},
   "outputs": [],
   "source": []
  }
 ],
 "metadata": {
  "kernelspec": {
   "display_name": "Python Multi",
   "language": "python",
   "name": "multi"
  },
  "language_info": {
   "codemirror_mode": {
    "name": "ipython",
    "version": 3
   },
   "file_extension": ".py",
   "mimetype": "text/x-python",
   "name": "python",
   "nbconvert_exporter": "python",
   "pygments_lexer": "ipython3",
   "version": "3.7.6"
  }
 },
 "nbformat": 4,
 "nbformat_minor": 5
}
