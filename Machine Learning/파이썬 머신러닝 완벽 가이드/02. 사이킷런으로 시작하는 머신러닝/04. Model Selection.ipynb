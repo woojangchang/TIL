{
 "cells": [
  {
   "cell_type": "code",
   "execution_count": 1,
   "id": "8fc5029e",
   "metadata": {},
   "outputs": [],
   "source": [
    "from sklearn.datasets import load_iris"
   ]
  },
  {
   "cell_type": "code",
   "execution_count": 2,
   "id": "9ca88883",
   "metadata": {},
   "outputs": [],
   "source": [
    "iris_data = load_iris()"
   ]
  },
  {
   "cell_type": "markdown",
   "id": "a742c77e",
   "metadata": {},
   "source": [
    "## (1) 학습/테스트 데이터 셋 분리하지 않고 예측"
   ]
  },
  {
   "cell_type": "code",
   "execution_count": 5,
   "id": "51fc937c",
   "metadata": {},
   "outputs": [
    {
     "name": "stdout",
     "output_type": "stream",
     "text": [
      "예측 정확도 : 1.0\n"
     ]
    }
   ],
   "source": [
    "from sklearn.tree import DecisionTreeClassifier\n",
    "from sklearn.metrics import accuracy_score\n",
    "\n",
    "dt_clf = DecisionTreeClassifier()\n",
    "\n",
    "train_data = iris_data.data\n",
    "train_label = iris_data.target\n",
    "\n",
    "# 학습\n",
    "dt_clf.fit(train_data, train_label)\n",
    "\n",
    "# 테스트\n",
    "pred = dt_clf.predict(train_data)\n",
    "print(f'예측 정확도 : {accuracy_score(train_label, pred)}')"
   ]
  },
  {
   "cell_type": "markdown",
   "id": "974aed55",
   "metadata": {},
   "source": [
    "- 분리하지 않아서 정확도가 1.0이 나옴 (잘못된 결과)"
   ]
  },
  {
   "cell_type": "markdown",
   "id": "f410f38f",
   "metadata": {},
   "source": [
    "## (2) 분리"
   ]
  },
  {
   "cell_type": "code",
   "execution_count": 10,
   "id": "62455bf1",
   "metadata": {},
   "outputs": [
    {
     "name": "stdout",
     "output_type": "stream",
     "text": [
      "예측 정확도 : 0.9777777777777777\n"
     ]
    }
   ],
   "source": [
    "from sklearn.model_selection import train_test_split\n",
    "\n",
    "# 분리\n",
    "X_train, X_test, y_train, y_test = train_test_split(train_data, train_label,\n",
    "                                                   test_size=0.3, random_state=4)\n",
    "\n",
    "dt_clf = DecisionTreeClassifier()\n",
    "\n",
    "dt_clf.fit(X_train, y_train)\n",
    "\n",
    "pred = dt_clf.predict(X_test)\n",
    "print(f'예측 정확도 : {accuracy_score(y_test, pred)}')"
   ]
  },
  {
   "cell_type": "markdown",
   "id": "aa6f972a",
   "metadata": {},
   "source": [
    "### Pandas DataFrame/Series도 가능"
   ]
  },
  {
   "cell_type": "code",
   "execution_count": 9,
   "id": "57cbb0f2",
   "metadata": {},
   "outputs": [
    {
     "data": {
      "text/html": [
       "<div>\n",
       "<style scoped>\n",
       "    .dataframe tbody tr th:only-of-type {\n",
       "        vertical-align: middle;\n",
       "    }\n",
       "\n",
       "    .dataframe tbody tr th {\n",
       "        vertical-align: top;\n",
       "    }\n",
       "\n",
       "    .dataframe thead th {\n",
       "        text-align: right;\n",
       "    }\n",
       "</style>\n",
       "<table border=\"1\" class=\"dataframe\">\n",
       "  <thead>\n",
       "    <tr style=\"text-align: right;\">\n",
       "      <th></th>\n",
       "      <th>sepal length (cm)</th>\n",
       "      <th>sepal width (cm)</th>\n",
       "      <th>petal length (cm)</th>\n",
       "      <th>petal width (cm)</th>\n",
       "      <th>target</th>\n",
       "    </tr>\n",
       "  </thead>\n",
       "  <tbody>\n",
       "    <tr>\n",
       "      <th>0</th>\n",
       "      <td>5.1</td>\n",
       "      <td>3.5</td>\n",
       "      <td>1.4</td>\n",
       "      <td>0.2</td>\n",
       "      <td>0</td>\n",
       "    </tr>\n",
       "    <tr>\n",
       "      <th>1</th>\n",
       "      <td>4.9</td>\n",
       "      <td>3.0</td>\n",
       "      <td>1.4</td>\n",
       "      <td>0.2</td>\n",
       "      <td>0</td>\n",
       "    </tr>\n",
       "    <tr>\n",
       "      <th>2</th>\n",
       "      <td>4.7</td>\n",
       "      <td>3.2</td>\n",
       "      <td>1.3</td>\n",
       "      <td>0.2</td>\n",
       "      <td>0</td>\n",
       "    </tr>\n",
       "    <tr>\n",
       "      <th>3</th>\n",
       "      <td>4.6</td>\n",
       "      <td>3.1</td>\n",
       "      <td>1.5</td>\n",
       "      <td>0.2</td>\n",
       "      <td>0</td>\n",
       "    </tr>\n",
       "    <tr>\n",
       "      <th>4</th>\n",
       "      <td>5.0</td>\n",
       "      <td>3.6</td>\n",
       "      <td>1.4</td>\n",
       "      <td>0.2</td>\n",
       "      <td>0</td>\n",
       "    </tr>\n",
       "  </tbody>\n",
       "</table>\n",
       "</div>"
      ],
      "text/plain": [
       "   sepal length (cm)  sepal width (cm)  petal length (cm)  petal width (cm)  \\\n",
       "0                5.1               3.5                1.4               0.2   \n",
       "1                4.9               3.0                1.4               0.2   \n",
       "2                4.7               3.2                1.3               0.2   \n",
       "3                4.6               3.1                1.5               0.2   \n",
       "4                5.0               3.6                1.4               0.2   \n",
       "\n",
       "   target  \n",
       "0       0  \n",
       "1       0  \n",
       "2       0  \n",
       "3       0  \n",
       "4       0  "
      ]
     },
     "execution_count": 9,
     "metadata": {},
     "output_type": "execute_result"
    }
   ],
   "source": [
    "import pandas as pd\n",
    "\n",
    "iris_df = pd.DataFrame(iris_data.data, columns=iris_data.feature_names)\n",
    "iris_df['target'] = iris_data.target\n",
    "iris_df.head()"
   ]
  },
  {
   "cell_type": "code",
   "execution_count": 11,
   "id": "48efbbf6",
   "metadata": {},
   "outputs": [
    {
     "name": "stdout",
     "output_type": "stream",
     "text": [
      "예측 정확도 : 0.9777777777777777\n"
     ]
    }
   ],
   "source": [
    "feature_df = iris_df.iloc[:, :-1]\n",
    "label_df = iris_df.iloc[:, -1]\n",
    "\n",
    "X_train, X_test, y_train, y_test = train_test_split(feature_df, label_df,\n",
    "                                                   test_size=0.3, random_state=4)\n",
    "\n",
    "dt_clf = DecisionTreeClassifier()\n",
    "\n",
    "dt_clf.fit(X_train, y_train)\n",
    "\n",
    "pred = dt_clf.predict(X_test)\n",
    "print(f'예측 정확도 : {accuracy_score(y_test, pred)}')"
   ]
  },
  {
   "cell_type": "code",
   "execution_count": 12,
   "id": "64d89633",
   "metadata": {},
   "outputs": [
    {
     "data": {
      "text/html": [
       "<div>\n",
       "<style scoped>\n",
       "    .dataframe tbody tr th:only-of-type {\n",
       "        vertical-align: middle;\n",
       "    }\n",
       "\n",
       "    .dataframe tbody tr th {\n",
       "        vertical-align: top;\n",
       "    }\n",
       "\n",
       "    .dataframe thead th {\n",
       "        text-align: right;\n",
       "    }\n",
       "</style>\n",
       "<table border=\"1\" class=\"dataframe\">\n",
       "  <thead>\n",
       "    <tr style=\"text-align: right;\">\n",
       "      <th></th>\n",
       "      <th>sepal length (cm)</th>\n",
       "      <th>sepal width (cm)</th>\n",
       "      <th>petal length (cm)</th>\n",
       "      <th>petal width (cm)</th>\n",
       "    </tr>\n",
       "  </thead>\n",
       "  <tbody>\n",
       "    <tr>\n",
       "      <th>13</th>\n",
       "      <td>4.3</td>\n",
       "      <td>3.0</td>\n",
       "      <td>1.1</td>\n",
       "      <td>0.1</td>\n",
       "    </tr>\n",
       "    <tr>\n",
       "      <th>15</th>\n",
       "      <td>5.7</td>\n",
       "      <td>4.4</td>\n",
       "      <td>1.5</td>\n",
       "      <td>0.4</td>\n",
       "    </tr>\n",
       "    <tr>\n",
       "      <th>61</th>\n",
       "      <td>5.9</td>\n",
       "      <td>3.0</td>\n",
       "      <td>4.2</td>\n",
       "      <td>1.5</td>\n",
       "    </tr>\n",
       "    <tr>\n",
       "      <th>91</th>\n",
       "      <td>6.1</td>\n",
       "      <td>3.0</td>\n",
       "      <td>4.6</td>\n",
       "      <td>1.4</td>\n",
       "    </tr>\n",
       "    <tr>\n",
       "      <th>116</th>\n",
       "      <td>6.5</td>\n",
       "      <td>3.0</td>\n",
       "      <td>5.5</td>\n",
       "      <td>1.8</td>\n",
       "    </tr>\n",
       "  </tbody>\n",
       "</table>\n",
       "</div>"
      ],
      "text/plain": [
       "     sepal length (cm)  sepal width (cm)  petal length (cm)  petal width (cm)\n",
       "13                 4.3               3.0                1.1               0.1\n",
       "15                 5.7               4.4                1.5               0.4\n",
       "61                 5.9               3.0                4.2               1.5\n",
       "91                 6.1               3.0                4.6               1.4\n",
       "116                6.5               3.0                5.5               1.8"
      ]
     },
     "execution_count": 12,
     "metadata": {},
     "output_type": "execute_result"
    }
   ],
   "source": [
    "X_train.head()"
   ]
  },
  {
   "cell_type": "markdown",
   "id": "53fb9286",
   "metadata": {},
   "source": [
    "# Data Split과 모델 검증\n",
    "## 1. 홀드아웃\n",
    "- 데이터를 Train, Test 세트로 나누어 사용\n",
    "- 과적합\n",
    "    - 모델이 학습 데이터에 과도하게 최적화되어 다른 테스트 데이터로 예측할 경우 성능이 떨어지는 것\n",
    "    - Train, Test로만 나눠놓으면 test에 맞는 파라미터를 맞추기 때문에 과적합 발생\n",
    "\n",
    "## 2. 교차검증\n",
    "- k-fold Cross Validation\n",
    "- training 데이터를 임의의 k개 그룹으로 나눈 뒤 그 중 하나를 test(validation), 나머지 k-1개를 train으로 k번 반복하여 나온 평가를 평균"
   ]
  },
  {
   "cell_type": "code",
   "execution_count": 14,
   "id": "972bc7fc",
   "metadata": {},
   "outputs": [
    {
     "name": "stdout",
     "output_type": "stream",
     "text": [
      "붓꽃 데이터 세트 크기 : 150\n"
     ]
    }
   ],
   "source": [
    "from sklearn.model_selection import KFold\n",
    "\n",
    "print(f'붓꽃 데이터 세트 크기 : {len(iris_data.data)}')"
   ]
  },
  {
   "cell_type": "code",
   "execution_count": 18,
   "id": "e0edf45a",
   "metadata": {},
   "outputs": [],
   "source": [
    "features = iris_data.data\n",
    "label = iris_data.target"
   ]
  },
  {
   "cell_type": "code",
   "execution_count": 19,
   "id": "0b5cb59b",
   "metadata": {},
   "outputs": [],
   "source": [
    "dt_clf = DecisionTreeClassifier(random_state=156)\n",
    "\n",
    "# 5개의 폴드 세트로 분리\n",
    "kfold = KFold(n_splits=5)\n",
    "\n",
    "# 폴드 세트별 정확도 담을 리스트\n",
    "cv_accuracy = []"
   ]
  },
  {
   "cell_type": "code",
   "execution_count": 23,
   "id": "436747d3",
   "metadata": {},
   "outputs": [
    {
     "name": "stdout",
     "output_type": "stream",
     "text": [
      "학습용 : [ 30  31  32  33  34  35  36  37  38  39  40  41  42  43  44  45  46  47\n",
      "  48  49  50  51  52  53  54  55  56  57  58  59  60  61  62  63  64  65\n",
      "  66  67  68  69  70  71  72  73  74  75  76  77  78  79  80  81  82  83\n",
      "  84  85  86  87  88  89  90  91  92  93  94  95  96  97  98  99 100 101\n",
      " 102 103 104 105 106 107 108 109 110 111 112 113 114 115 116 117 118 119\n",
      " 120 121 122 123 124 125 126 127 128 129 130 131 132 133 134 135 136 137\n",
      " 138 139 140 141 142 143 144 145 146 147 148 149]\n",
      "검증용 : [ 0  1  2  3  4  5  6  7  8  9 10 11 12 13 14 15 16 17 18 19 20 21 22 23\n",
      " 24 25 26 27 28 29]\n",
      "\n",
      "학습용 : [  0   1   2   3   4   5   6   7   8   9  10  11  12  13  14  15  16  17\n",
      "  18  19  20  21  22  23  24  25  26  27  28  29  60  61  62  63  64  65\n",
      "  66  67  68  69  70  71  72  73  74  75  76  77  78  79  80  81  82  83\n",
      "  84  85  86  87  88  89  90  91  92  93  94  95  96  97  98  99 100 101\n",
      " 102 103 104 105 106 107 108 109 110 111 112 113 114 115 116 117 118 119\n",
      " 120 121 122 123 124 125 126 127 128 129 130 131 132 133 134 135 136 137\n",
      " 138 139 140 141 142 143 144 145 146 147 148 149]\n",
      "검증용 : [30 31 32 33 34 35 36 37 38 39 40 41 42 43 44 45 46 47 48 49 50 51 52 53\n",
      " 54 55 56 57 58 59]\n",
      "\n",
      "학습용 : [  0   1   2   3   4   5   6   7   8   9  10  11  12  13  14  15  16  17\n",
      "  18  19  20  21  22  23  24  25  26  27  28  29  30  31  32  33  34  35\n",
      "  36  37  38  39  40  41  42  43  44  45  46  47  48  49  50  51  52  53\n",
      "  54  55  56  57  58  59  90  91  92  93  94  95  96  97  98  99 100 101\n",
      " 102 103 104 105 106 107 108 109 110 111 112 113 114 115 116 117 118 119\n",
      " 120 121 122 123 124 125 126 127 128 129 130 131 132 133 134 135 136 137\n",
      " 138 139 140 141 142 143 144 145 146 147 148 149]\n",
      "검증용 : [60 61 62 63 64 65 66 67 68 69 70 71 72 73 74 75 76 77 78 79 80 81 82 83\n",
      " 84 85 86 87 88 89]\n",
      "\n",
      "학습용 : [  0   1   2   3   4   5   6   7   8   9  10  11  12  13  14  15  16  17\n",
      "  18  19  20  21  22  23  24  25  26  27  28  29  30  31  32  33  34  35\n",
      "  36  37  38  39  40  41  42  43  44  45  46  47  48  49  50  51  52  53\n",
      "  54  55  56  57  58  59  60  61  62  63  64  65  66  67  68  69  70  71\n",
      "  72  73  74  75  76  77  78  79  80  81  82  83  84  85  86  87  88  89\n",
      " 120 121 122 123 124 125 126 127 128 129 130 131 132 133 134 135 136 137\n",
      " 138 139 140 141 142 143 144 145 146 147 148 149]\n",
      "검증용 : [ 90  91  92  93  94  95  96  97  98  99 100 101 102 103 104 105 106 107\n",
      " 108 109 110 111 112 113 114 115 116 117 118 119]\n",
      "\n",
      "학습용 : [  0   1   2   3   4   5   6   7   8   9  10  11  12  13  14  15  16  17\n",
      "  18  19  20  21  22  23  24  25  26  27  28  29  30  31  32  33  34  35\n",
      "  36  37  38  39  40  41  42  43  44  45  46  47  48  49  50  51  52  53\n",
      "  54  55  56  57  58  59  60  61  62  63  64  65  66  67  68  69  70  71\n",
      "  72  73  74  75  76  77  78  79  80  81  82  83  84  85  86  87  88  89\n",
      "  90  91  92  93  94  95  96  97  98  99 100 101 102 103 104 105 106 107\n",
      " 108 109 110 111 112 113 114 115 116 117 118 119]\n",
      "검증용 : [120 121 122 123 124 125 126 127 128 129 130 131 132 133 134 135 136 137\n",
      " 138 139 140 141 142 143 144 145 146 147 148 149]\n",
      "\n"
     ]
    }
   ],
   "source": [
    "# 폴드별 학습용, 검증용 데이터 세트의 행 인덱스\n",
    "for train_index, test_index in kfold.split(features):\n",
    "    print(f'학습용 : {train_index}')\n",
    "    print(f'검증용 : {test_index}')\n",
    "    print()"
   ]
  },
  {
   "cell_type": "code",
   "execution_count": 24,
   "id": "be631907",
   "metadata": {},
   "outputs": [
    {
     "name": "stdout",
     "output_type": "stream",
     "text": [
      "정확도 : 1.000, 학습 데이터 크기 : 120, 검증 데이터 크기 : 30\n",
      "검증 세트 인덱스 : [ 0  1  2  3  4  5  6  7  8  9 10 11 12 13 14 15 16 17 18 19 20 21 22 23\n",
      " 24 25 26 27 28 29]\n",
      "\n",
      "정확도 : 0.967, 학습 데이터 크기 : 120, 검증 데이터 크기 : 30\n",
      "검증 세트 인덱스 : [30 31 32 33 34 35 36 37 38 39 40 41 42 43 44 45 46 47 48 49 50 51 52 53\n",
      " 54 55 56 57 58 59]\n",
      "\n",
      "정확도 : 0.867, 학습 데이터 크기 : 120, 검증 데이터 크기 : 30\n",
      "검증 세트 인덱스 : [60 61 62 63 64 65 66 67 68 69 70 71 72 73 74 75 76 77 78 79 80 81 82 83\n",
      " 84 85 86 87 88 89]\n",
      "\n",
      "정확도 : 0.933, 학습 데이터 크기 : 120, 검증 데이터 크기 : 30\n",
      "검증 세트 인덱스 : [ 90  91  92  93  94  95  96  97  98  99 100 101 102 103 104 105 106 107\n",
      " 108 109 110 111 112 113 114 115 116 117 118 119]\n",
      "\n",
      "정확도 : 0.733, 학습 데이터 크기 : 120, 검증 데이터 크기 : 30\n",
      "검증 세트 인덱스 : [120 121 122 123 124 125 126 127 128 129 130 131 132 133 134 135 136 137\n",
      " 138 139 140 141 142 143 144 145 146 147 148 149]\n",
      "\n"
     ]
    }
   ],
   "source": [
    "# K-fold 검증\n",
    "for train_index, test_index in kfold.split(features):\n",
    "    X_train, X_test = features[train_index], features[test_index]\n",
    "    y_train, y_test = label[train_index], label[test_index]\n",
    "    \n",
    "    dt_clf.fit(X_train, y_train)\n",
    "    \n",
    "    pred = dt_clf.predict(X_test)\n",
    "    acc = accuracy_score(pred, y_test)\n",
    "    cv_accuracy.append(acc)\n",
    "    \n",
    "    train_size, test_size = X_train.shape[0], X_test.shape[0]\n",
    "    print(f'정확도 : {acc:.3f}, 학습 데이터 크기 : {train_size}, 검증 데이터 크기 : {test_size}')\n",
    "    print(f'검증 세트 인덱스 : {test_index}')\n",
    "    print()"
   ]
  },
  {
   "cell_type": "code",
   "execution_count": 25,
   "id": "0cb1bfe4",
   "metadata": {},
   "outputs": [
    {
     "name": "stdout",
     "output_type": "stream",
     "text": [
      "평균 검증 정확도 : 0.900\n"
     ]
    }
   ],
   "source": [
    "mean = sum(cv_accuracy)/len(cv_accuracy)\n",
    "print(f'평균 검증 정확도 : {mean:.3f}')"
   ]
  },
  {
   "cell_type": "markdown",
   "id": "4221933d",
   "metadata": {},
   "source": [
    "## Stratified K-Fold\n",
    "- 불량률이 낮은 생산라인에서 양품, 불량품 예측 문제나 의료 문제 등\n",
    "- 불균형한 데이터 문제를 해결하는 방법 중 하나\n",
    "    - 데이터 추가 확보\n",
    "    - Re-Sampling\n",
    "        - Under-sampling(과소표집)\n",
    "           - 다른 데이터에 비해 많은 데이터를 줄임\n",
    "           - 유용한 정보 손실이 있을 수 있음\n",
    "        - Over-sampling(과대표집)\n",
    "            - 적은 데이터를 복제하여 데이터를 늘림\n",
    "            - 과적합 위험"
   ]
  },
  {
   "cell_type": "code",
   "execution_count": 26,
   "id": "a3b4b4b9",
   "metadata": {},
   "outputs": [
    {
     "data": {
      "text/plain": [
       "0    50\n",
       "1    50\n",
       "2    50\n",
       "Name: target, dtype: int64"
      ]
     },
     "execution_count": 26,
     "metadata": {},
     "output_type": "execute_result"
    }
   ],
   "source": [
    "iris_df['target'].value_counts()"
   ]
  },
  {
   "cell_type": "code",
   "execution_count": 32,
   "id": "3d409700",
   "metadata": {},
   "outputs": [
    {
     "name": "stdout",
     "output_type": "stream",
     "text": [
      "## 교차검증 : 1\n",
      "학습용 : 1    50\n",
      "2    50\n",
      "Name: target, dtype: int64\n",
      "검증용 : 0    50\n",
      "Name: target, dtype: int64\n",
      "\n",
      "## 교차검증 : 2\n",
      "학습용 : 0    50\n",
      "2    50\n",
      "Name: target, dtype: int64\n",
      "검증용 : 1    50\n",
      "Name: target, dtype: int64\n",
      "\n",
      "## 교차검증 : 3\n",
      "학습용 : 0    50\n",
      "1    50\n",
      "Name: target, dtype: int64\n",
      "검증용 : 2    50\n",
      "Name: target, dtype: int64\n",
      "\n"
     ]
    }
   ],
   "source": [
    "# 3개 폴드 구성\n",
    "kfold = KFold(n_splits=3)\n",
    "\n",
    "n = 0\n",
    "for train_index, test_index in kfold.split(iris_df):\n",
    "    n += 1\n",
    "    \n",
    "    label_train = iris_df['target'].iloc[train_index]\n",
    "    label_test = iris_df['target'].iloc[test_index]\n",
    "    \n",
    "    \n",
    "    print(\"## 교차검증 :\", n)\n",
    "    print(\"학습용 :\", label_train.value_counts())\n",
    "    print(\"검증용 :\", label_test.value_counts())\n",
    "    print()"
   ]
  },
  {
   "cell_type": "markdown",
   "id": "949afa34",
   "metadata": {},
   "source": [
    "이런 경우 매우 불량한 예측 정확도가 나온다."
   ]
  },
  {
   "cell_type": "code",
   "execution_count": 33,
   "id": "7e438811",
   "metadata": {},
   "outputs": [
    {
     "name": "stdout",
     "output_type": "stream",
     "text": [
      "## 교차검증 : 1\n",
      "정확도 : 0.000, 학습 데이터 크기 : 100, 검증 데이터 크기 : 50\n",
      "검증 세트 인덱스 : [ 0  1  2  3  4  5  6  7  8  9 10 11 12 13 14 15 16 17 18 19 20 21 22 23\n",
      " 24 25 26 27 28 29 30 31 32 33 34 35 36 37 38 39 40 41 42 43 44 45 46 47\n",
      " 48 49]\n",
      "\n",
      "## 교차검증 : 2\n",
      "정확도 : 0.000, 학습 데이터 크기 : 100, 검증 데이터 크기 : 50\n",
      "검증 세트 인덱스 : [50 51 52 53 54 55 56 57 58 59 60 61 62 63 64 65 66 67 68 69 70 71 72 73\n",
      " 74 75 76 77 78 79 80 81 82 83 84 85 86 87 88 89 90 91 92 93 94 95 96 97\n",
      " 98 99]\n",
      "\n",
      "## 교차검증 : 3\n",
      "정확도 : 0.000, 학습 데이터 크기 : 100, 검증 데이터 크기 : 50\n",
      "검증 세트 인덱스 : [100 101 102 103 104 105 106 107 108 109 110 111 112 113 114 115 116 117\n",
      " 118 119 120 121 122 123 124 125 126 127 128 129 130 131 132 133 134 135\n",
      " 136 137 138 139 140 141 142 143 144 145 146 147 148 149]\n",
      "\n",
      "평균 검증 정확도 : 0.000\n"
     ]
    }
   ],
   "source": [
    "# 3개 폴드 구성\n",
    "kfold = KFold(n_splits=3)\n",
    "cv_accuracy = []\n",
    "n = 0\n",
    "for train_index, test_index in kfold.split(iris_df):\n",
    "    n += 1\n",
    "    \n",
    "    X_train = iris_df.iloc[train_index, :-1]\n",
    "    X_test = iris_df.iloc[test_index, :-1]\n",
    "    y_train = iris_df.iloc[train_index, -1]\n",
    "    y_test = iris_df.iloc[test_index, -1]\n",
    "    \n",
    "    dt_clf.fit(X_train, y_train)\n",
    "    \n",
    "    pred = dt_clf.predict(X_test)\n",
    "    acc = accuracy_score(pred, y_test)\n",
    "    cv_accuracy.append(acc)\n",
    "    \n",
    "    train_size, test_size = X_train.shape[0], X_test.shape[0]\n",
    "    print(\"## 교차검증 :\", n)\n",
    "    print(f'정확도 : {acc:.3f}, 학습 데이터 크기 : {train_size}, 검증 데이터 크기 : {test_size}')\n",
    "    print(f'검증 세트 인덱스 : {test_index}')\n",
    "    print()\n",
    "\n",
    "mean = sum(cv_accuracy)/len(cv_accuracy)\n",
    "print(f'평균 검증 정확도 : {mean:.3f}')"
   ]
  },
  {
   "cell_type": "markdown",
   "id": "6cf7d4a8",
   "metadata": {},
   "source": [
    "### StratifiedKFold\n",
    "- KFold와 다른 점 : 레이블 데이터 세트 인수가 필요함\n",
    "    - 레이블 데이터 세트로 Stratify 하기 때문"
   ]
  },
  {
   "cell_type": "code",
   "execution_count": 35,
   "id": "c3f726d7",
   "metadata": {},
   "outputs": [
    {
     "name": "stdout",
     "output_type": "stream",
     "text": [
      "## 교차검증 : 1\n",
      "학습용 : 2    34\n",
      "0    33\n",
      "1    33\n",
      "Name: target, dtype: int64\n",
      "검증용 : 0    17\n",
      "1    17\n",
      "2    16\n",
      "Name: target, dtype: int64\n",
      "\n",
      "## 교차검증 : 2\n",
      "학습용 : 1    34\n",
      "0    33\n",
      "2    33\n",
      "Name: target, dtype: int64\n",
      "검증용 : 0    17\n",
      "2    17\n",
      "1    16\n",
      "Name: target, dtype: int64\n",
      "\n",
      "## 교차검증 : 3\n",
      "학습용 : 0    34\n",
      "1    33\n",
      "2    33\n",
      "Name: target, dtype: int64\n",
      "검증용 : 1    17\n",
      "2    17\n",
      "0    16\n",
      "Name: target, dtype: int64\n",
      "\n"
     ]
    }
   ],
   "source": [
    "from sklearn.model_selection import StratifiedKFold\n",
    "\n",
    "skf = StratifiedKFold(n_splits=3)\n",
    "n = 0\n",
    "for train_index, test_index in skf.split(iris_df, iris_df['target']):\n",
    "    n += 1\n",
    "    \n",
    "    label_train = iris_df['target'].iloc[train_index]\n",
    "    label_test = iris_df['target'].iloc[test_index]\n",
    "    \n",
    "    \n",
    "    print(\"## 교차검증 :\", n)\n",
    "    print(\"학습용 :\", label_train.value_counts())\n",
    "    print(\"검증용 :\", label_test.value_counts())\n",
    "    print()"
   ]
  },
  {
   "cell_type": "code",
   "execution_count": 36,
   "id": "afd0db38",
   "metadata": {},
   "outputs": [
    {
     "name": "stdout",
     "output_type": "stream",
     "text": [
      "## 교차검증 : 1\n",
      "정확도 : 0.980, 학습 데이터 크기 : 100, 검증 데이터 크기 : 50\n",
      "검증 세트 인덱스 : [  0   1   2   3   4   5   6   7   8   9  10  11  12  13  14  15  16  50\n",
      "  51  52  53  54  55  56  57  58  59  60  61  62  63  64  65  66 100 101\n",
      " 102 103 104 105 106 107 108 109 110 111 112 113 114 115]\n",
      "\n",
      "## 교차검증 : 2\n",
      "정확도 : 0.940, 학습 데이터 크기 : 100, 검증 데이터 크기 : 50\n",
      "검증 세트 인덱스 : [ 17  18  19  20  21  22  23  24  25  26  27  28  29  30  31  32  33  67\n",
      "  68  69  70  71  72  73  74  75  76  77  78  79  80  81  82 116 117 118\n",
      " 119 120 121 122 123 124 125 126 127 128 129 130 131 132]\n",
      "\n",
      "## 교차검증 : 3\n",
      "정확도 : 0.980, 학습 데이터 크기 : 100, 검증 데이터 크기 : 50\n",
      "검증 세트 인덱스 : [ 34  35  36  37  38  39  40  41  42  43  44  45  46  47  48  49  83  84\n",
      "  85  86  87  88  89  90  91  92  93  94  95  96  97  98  99 133 134 135\n",
      " 136 137 138 139 140 141 142 143 144 145 146 147 148 149]\n",
      "\n",
      "평균 검증 정확도 : 0.967\n"
     ]
    }
   ],
   "source": [
    "# 3개 폴드 구성\n",
    "cv_accuracy = []\n",
    "skf = StratifiedKFold(n_splits=3)\n",
    "n = 0\n",
    "for train_index, test_index in skf.split(iris_df, iris_df['target']):\n",
    "    n += 1\n",
    "    \n",
    "    X_train = iris_df.iloc[train_index, :-1]\n",
    "    X_test = iris_df.iloc[test_index, :-1]\n",
    "    y_train = iris_df.iloc[train_index, -1]\n",
    "    y_test = iris_df.iloc[test_index, -1]\n",
    "    \n",
    "    dt_clf.fit(X_train, y_train)\n",
    "    \n",
    "    pred = dt_clf.predict(X_test)\n",
    "    acc = accuracy_score(pred, y_test)\n",
    "    cv_accuracy.append(acc)\n",
    "    \n",
    "    train_size, test_size = X_train.shape[0], X_test.shape[0]\n",
    "    print(\"## 교차검증 :\", n)\n",
    "    print(f'정확도 : {acc:.3f}, 학습 데이터 크기 : {train_size}, 검증 데이터 크기 : {test_size}')\n",
    "    print(f'검증 세트 인덱스 : {test_index}')\n",
    "    print()\n",
    "\n",
    "mean = sum(cv_accuracy)/len(cv_accuracy)\n",
    "print(f'평균 검증 정확도 : {mean:.3f}')"
   ]
  },
  {
   "cell_type": "markdown",
   "id": "786c16ac",
   "metadata": {},
   "source": [
    "회귀에서는 지원되지 않음"
   ]
  },
  {
   "cell_type": "markdown",
   "id": "feb098b1",
   "metadata": {},
   "source": [
    "### for문을 이용하지 않고 간단하게 확인\n",
    "### cross_val_score(estimator, X, y, scoring, cv, ...)\n",
    "- estimator : Classifier or Regressor\n",
    "    - 분류 모델이면 **Stratified KFold**, 회귀 모델이면 일반적인 KFold\n",
    "- X : feature\n",
    "- y : label\n",
    "- scoring : 예측 성능 평가 지표 (정확도, 정밀도, 재현율 등)\n",
    "- cv : 교차검증 폴드 수\n",
    "- 반환값 : 성능 지표 측정값을 담은 array"
   ]
  },
  {
   "cell_type": "code",
   "execution_count": 43,
   "id": "c2f5412f",
   "metadata": {},
   "outputs": [
    {
     "name": "stdout",
     "output_type": "stream",
     "text": [
      "교차 검증별 정확도 : [0.98 0.94 0.98]\n",
      "평균 검증 정확도 : 0.967\n"
     ]
    }
   ],
   "source": [
    "from sklearn.model_selection import cross_val_score, cross_validate\n",
    "import numpy as np\n",
    "\n",
    "dt_clf = DecisionTreeClassifier(random_state=156)\n",
    "arr = cross_val_score(dt_clf, features, label, scoring='accuracy', cv=3)\n",
    "print('교차 검증별 정확도 :', arr)\n",
    "print('평균 검증 정확도 :', np.round(arr.mean(), 3))"
   ]
  },
  {
   "cell_type": "markdown",
   "id": "61f6b80d",
   "metadata": {},
   "source": [
    "## 하이퍼 파라미터 튜닝까지\n",
    "- 알고리즘 구성 요소\n",
    "- 최고 성능 파라미터 찾기\n",
    "\n",
    "### GridSearchCV\n",
    "- Grid처럼 모든 조합을 다 테스트 해보는 것\n",
    "- estimator : classifier, regressor, peipeline\n",
    "    - `cross_val_score`처럼 분류 모델이면 **Stratified KFold** 이용\n",
    "- param_grid : {key:list} dictionary\n",
    "    - key : 파라미터 명\n",
    "    - list : 파라미터 값\n",
    "- scoring : 예측 성능 평가 지표\n",
    "- cv : 교차검증 폴드 수\n",
    "- refit : 최적의 하이퍼 파라미터를 찾은 뒤 입력된 estimator 객체를 해당 하이퍼 파라미터로 재학습 여부"
   ]
  },
  {
   "cell_type": "code",
   "execution_count": 45,
   "id": "b6826dec",
   "metadata": {},
   "outputs": [],
   "source": [
    "from sklearn.model_selection import GridSearchCV\n",
    "\n",
    "# GirdSearchCV를 이용하기 위해서는 split 되어있어야 함\n",
    "X_train, X_test, y_train, y_test = train_test_split(features, label,\n",
    "                                                    test_size=0.2, random_state=121)\n",
    "\n",
    "dt_clf = DecisionTreeClassifier()\n",
    "\n",
    "# DecisionTreeClassifier()의 파라미터 생성\n",
    "# max_depth : Tree의 최대 깊이\n",
    "# min_samples_split : 자식 노드를 만드는데 필요한 최소 샘플 개수\n",
    "parameters = {'max_depth':[1, 2, 3], 'min_samples_split':[2, 3]}"
   ]
  },
  {
   "cell_type": "code",
   "execution_count": 46,
   "id": "7bc5e306",
   "metadata": {},
   "outputs": [],
   "source": [
    "grid_tree = GridSearchCV(dt_clf, param_grid = parameters, cv=3, refit=True,\n",
    "                 return_train_score=True) # 최상의 학습 결과 return\n",
    "grid_tree.fit(X_train, y_train)\n",
    "\n",
    "scores_df = pd.DataFrame(grid_tree.cv_results_) # .cv_results_에 결과가 저장되어 있음"
   ]
  },
  {
   "cell_type": "code",
   "execution_count": 47,
   "id": "10f0dfbe",
   "metadata": {},
   "outputs": [
    {
     "data": {
      "text/html": [
       "<div>\n",
       "<style scoped>\n",
       "    .dataframe tbody tr th:only-of-type {\n",
       "        vertical-align: middle;\n",
       "    }\n",
       "\n",
       "    .dataframe tbody tr th {\n",
       "        vertical-align: top;\n",
       "    }\n",
       "\n",
       "    .dataframe thead th {\n",
       "        text-align: right;\n",
       "    }\n",
       "</style>\n",
       "<table border=\"1\" class=\"dataframe\">\n",
       "  <thead>\n",
       "    <tr style=\"text-align: right;\">\n",
       "      <th></th>\n",
       "      <th>mean_fit_time</th>\n",
       "      <th>std_fit_time</th>\n",
       "      <th>mean_score_time</th>\n",
       "      <th>std_score_time</th>\n",
       "      <th>param_max_depth</th>\n",
       "      <th>param_min_samples_split</th>\n",
       "      <th>params</th>\n",
       "      <th>split0_test_score</th>\n",
       "      <th>split1_test_score</th>\n",
       "      <th>split2_test_score</th>\n",
       "      <th>mean_test_score</th>\n",
       "      <th>std_test_score</th>\n",
       "      <th>rank_test_score</th>\n",
       "      <th>split0_train_score</th>\n",
       "      <th>split1_train_score</th>\n",
       "      <th>split2_train_score</th>\n",
       "      <th>mean_train_score</th>\n",
       "      <th>std_train_score</th>\n",
       "    </tr>\n",
       "  </thead>\n",
       "  <tbody>\n",
       "    <tr>\n",
       "      <th>0</th>\n",
       "      <td>0.000997</td>\n",
       "      <td>1.123916e-07</td>\n",
       "      <td>0.000000</td>\n",
       "      <td>0.00000</td>\n",
       "      <td>1</td>\n",
       "      <td>2</td>\n",
       "      <td>{'max_depth': 1, 'min_samples_split': 2}</td>\n",
       "      <td>0.700</td>\n",
       "      <td>0.7</td>\n",
       "      <td>0.70</td>\n",
       "      <td>0.700000</td>\n",
       "      <td>1.110223e-16</td>\n",
       "      <td>5</td>\n",
       "      <td>0.7000</td>\n",
       "      <td>0.7000</td>\n",
       "      <td>0.7000</td>\n",
       "      <td>0.700000</td>\n",
       "      <td>1.110223e-16</td>\n",
       "    </tr>\n",
       "    <tr>\n",
       "      <th>1</th>\n",
       "      <td>0.000332</td>\n",
       "      <td>4.701340e-04</td>\n",
       "      <td>0.000333</td>\n",
       "      <td>0.00047</td>\n",
       "      <td>1</td>\n",
       "      <td>3</td>\n",
       "      <td>{'max_depth': 1, 'min_samples_split': 3}</td>\n",
       "      <td>0.700</td>\n",
       "      <td>0.7</td>\n",
       "      <td>0.70</td>\n",
       "      <td>0.700000</td>\n",
       "      <td>1.110223e-16</td>\n",
       "      <td>5</td>\n",
       "      <td>0.7000</td>\n",
       "      <td>0.7000</td>\n",
       "      <td>0.7000</td>\n",
       "      <td>0.700000</td>\n",
       "      <td>1.110223e-16</td>\n",
       "    </tr>\n",
       "    <tr>\n",
       "      <th>2</th>\n",
       "      <td>0.000665</td>\n",
       "      <td>4.701341e-04</td>\n",
       "      <td>0.000332</td>\n",
       "      <td>0.00047</td>\n",
       "      <td>2</td>\n",
       "      <td>2</td>\n",
       "      <td>{'max_depth': 2, 'min_samples_split': 2}</td>\n",
       "      <td>0.925</td>\n",
       "      <td>1.0</td>\n",
       "      <td>0.95</td>\n",
       "      <td>0.958333</td>\n",
       "      <td>3.118048e-02</td>\n",
       "      <td>3</td>\n",
       "      <td>0.9750</td>\n",
       "      <td>0.9375</td>\n",
       "      <td>0.9625</td>\n",
       "      <td>0.958333</td>\n",
       "      <td>1.559024e-02</td>\n",
       "    </tr>\n",
       "    <tr>\n",
       "      <th>3</th>\n",
       "      <td>0.000332</td>\n",
       "      <td>4.700217e-04</td>\n",
       "      <td>0.000333</td>\n",
       "      <td>0.00047</td>\n",
       "      <td>2</td>\n",
       "      <td>3</td>\n",
       "      <td>{'max_depth': 2, 'min_samples_split': 3}</td>\n",
       "      <td>0.925</td>\n",
       "      <td>1.0</td>\n",
       "      <td>0.95</td>\n",
       "      <td>0.958333</td>\n",
       "      <td>3.118048e-02</td>\n",
       "      <td>3</td>\n",
       "      <td>0.9750</td>\n",
       "      <td>0.9375</td>\n",
       "      <td>0.9625</td>\n",
       "      <td>0.958333</td>\n",
       "      <td>1.559024e-02</td>\n",
       "    </tr>\n",
       "    <tr>\n",
       "      <th>4</th>\n",
       "      <td>0.000332</td>\n",
       "      <td>4.701340e-04</td>\n",
       "      <td>0.000000</td>\n",
       "      <td>0.00000</td>\n",
       "      <td>3</td>\n",
       "      <td>2</td>\n",
       "      <td>{'max_depth': 3, 'min_samples_split': 2}</td>\n",
       "      <td>0.975</td>\n",
       "      <td>1.0</td>\n",
       "      <td>0.95</td>\n",
       "      <td>0.975000</td>\n",
       "      <td>2.041241e-02</td>\n",
       "      <td>1</td>\n",
       "      <td>0.9875</td>\n",
       "      <td>0.9625</td>\n",
       "      <td>0.9875</td>\n",
       "      <td>0.979167</td>\n",
       "      <td>1.178511e-02</td>\n",
       "    </tr>\n",
       "    <tr>\n",
       "      <th>5</th>\n",
       "      <td>0.000332</td>\n",
       "      <td>4.701340e-04</td>\n",
       "      <td>0.000333</td>\n",
       "      <td>0.00047</td>\n",
       "      <td>3</td>\n",
       "      <td>3</td>\n",
       "      <td>{'max_depth': 3, 'min_samples_split': 3}</td>\n",
       "      <td>0.975</td>\n",
       "      <td>1.0</td>\n",
       "      <td>0.95</td>\n",
       "      <td>0.975000</td>\n",
       "      <td>2.041241e-02</td>\n",
       "      <td>1</td>\n",
       "      <td>0.9875</td>\n",
       "      <td>0.9625</td>\n",
       "      <td>0.9875</td>\n",
       "      <td>0.979167</td>\n",
       "      <td>1.178511e-02</td>\n",
       "    </tr>\n",
       "  </tbody>\n",
       "</table>\n",
       "</div>"
      ],
      "text/plain": [
       "   mean_fit_time  std_fit_time  mean_score_time  std_score_time  \\\n",
       "0       0.000997  1.123916e-07         0.000000         0.00000   \n",
       "1       0.000332  4.701340e-04         0.000333         0.00047   \n",
       "2       0.000665  4.701341e-04         0.000332         0.00047   \n",
       "3       0.000332  4.700217e-04         0.000333         0.00047   \n",
       "4       0.000332  4.701340e-04         0.000000         0.00000   \n",
       "5       0.000332  4.701340e-04         0.000333         0.00047   \n",
       "\n",
       "  param_max_depth param_min_samples_split  \\\n",
       "0               1                       2   \n",
       "1               1                       3   \n",
       "2               2                       2   \n",
       "3               2                       3   \n",
       "4               3                       2   \n",
       "5               3                       3   \n",
       "\n",
       "                                     params  split0_test_score  \\\n",
       "0  {'max_depth': 1, 'min_samples_split': 2}              0.700   \n",
       "1  {'max_depth': 1, 'min_samples_split': 3}              0.700   \n",
       "2  {'max_depth': 2, 'min_samples_split': 2}              0.925   \n",
       "3  {'max_depth': 2, 'min_samples_split': 3}              0.925   \n",
       "4  {'max_depth': 3, 'min_samples_split': 2}              0.975   \n",
       "5  {'max_depth': 3, 'min_samples_split': 3}              0.975   \n",
       "\n",
       "   split1_test_score  split2_test_score  mean_test_score  std_test_score  \\\n",
       "0                0.7               0.70         0.700000    1.110223e-16   \n",
       "1                0.7               0.70         0.700000    1.110223e-16   \n",
       "2                1.0               0.95         0.958333    3.118048e-02   \n",
       "3                1.0               0.95         0.958333    3.118048e-02   \n",
       "4                1.0               0.95         0.975000    2.041241e-02   \n",
       "5                1.0               0.95         0.975000    2.041241e-02   \n",
       "\n",
       "   rank_test_score  split0_train_score  split1_train_score  \\\n",
       "0                5              0.7000              0.7000   \n",
       "1                5              0.7000              0.7000   \n",
       "2                3              0.9750              0.9375   \n",
       "3                3              0.9750              0.9375   \n",
       "4                1              0.9875              0.9625   \n",
       "5                1              0.9875              0.9625   \n",
       "\n",
       "   split2_train_score  mean_train_score  std_train_score  \n",
       "0              0.7000          0.700000     1.110223e-16  \n",
       "1              0.7000          0.700000     1.110223e-16  \n",
       "2              0.9625          0.958333     1.559024e-02  \n",
       "3              0.9625          0.958333     1.559024e-02  \n",
       "4              0.9875          0.979167     1.178511e-02  \n",
       "5              0.9875          0.979167     1.178511e-02  "
      ]
     },
     "execution_count": 47,
     "metadata": {},
     "output_type": "execute_result"
    }
   ],
   "source": [
    "scores_df"
   ]
  },
  {
   "cell_type": "code",
   "execution_count": 48,
   "id": "774ac9e4",
   "metadata": {},
   "outputs": [
    {
     "data": {
      "text/html": [
       "<div>\n",
       "<style scoped>\n",
       "    .dataframe tbody tr th:only-of-type {\n",
       "        vertical-align: middle;\n",
       "    }\n",
       "\n",
       "    .dataframe tbody tr th {\n",
       "        vertical-align: top;\n",
       "    }\n",
       "\n",
       "    .dataframe thead th {\n",
       "        text-align: right;\n",
       "    }\n",
       "</style>\n",
       "<table border=\"1\" class=\"dataframe\">\n",
       "  <thead>\n",
       "    <tr style=\"text-align: right;\">\n",
       "      <th></th>\n",
       "      <th>params</th>\n",
       "      <th>mean_test_score</th>\n",
       "      <th>rank_test_score</th>\n",
       "    </tr>\n",
       "  </thead>\n",
       "  <tbody>\n",
       "    <tr>\n",
       "      <th>0</th>\n",
       "      <td>{'max_depth': 1, 'min_samples_split': 2}</td>\n",
       "      <td>0.700000</td>\n",
       "      <td>5</td>\n",
       "    </tr>\n",
       "    <tr>\n",
       "      <th>1</th>\n",
       "      <td>{'max_depth': 1, 'min_samples_split': 3}</td>\n",
       "      <td>0.700000</td>\n",
       "      <td>5</td>\n",
       "    </tr>\n",
       "    <tr>\n",
       "      <th>2</th>\n",
       "      <td>{'max_depth': 2, 'min_samples_split': 2}</td>\n",
       "      <td>0.958333</td>\n",
       "      <td>3</td>\n",
       "    </tr>\n",
       "    <tr>\n",
       "      <th>3</th>\n",
       "      <td>{'max_depth': 2, 'min_samples_split': 3}</td>\n",
       "      <td>0.958333</td>\n",
       "      <td>3</td>\n",
       "    </tr>\n",
       "    <tr>\n",
       "      <th>4</th>\n",
       "      <td>{'max_depth': 3, 'min_samples_split': 2}</td>\n",
       "      <td>0.975000</td>\n",
       "      <td>1</td>\n",
       "    </tr>\n",
       "    <tr>\n",
       "      <th>5</th>\n",
       "      <td>{'max_depth': 3, 'min_samples_split': 3}</td>\n",
       "      <td>0.975000</td>\n",
       "      <td>1</td>\n",
       "    </tr>\n",
       "  </tbody>\n",
       "</table>\n",
       "</div>"
      ],
      "text/plain": [
       "                                     params  mean_test_score  rank_test_score\n",
       "0  {'max_depth': 1, 'min_samples_split': 2}         0.700000                5\n",
       "1  {'max_depth': 1, 'min_samples_split': 3}         0.700000                5\n",
       "2  {'max_depth': 2, 'min_samples_split': 2}         0.958333                3\n",
       "3  {'max_depth': 2, 'min_samples_split': 3}         0.958333                3\n",
       "4  {'max_depth': 3, 'min_samples_split': 2}         0.975000                1\n",
       "5  {'max_depth': 3, 'min_samples_split': 3}         0.975000                1"
      ]
     },
     "execution_count": 48,
     "metadata": {},
     "output_type": "execute_result"
    }
   ],
   "source": [
    "scores_df[['params', 'mean_test_score', 'rank_test_score']]"
   ]
  },
  {
   "cell_type": "code",
   "execution_count": 49,
   "id": "d4816002",
   "metadata": {},
   "outputs": [
    {
     "data": {
      "text/plain": [
       "{'max_depth': 3, 'min_samples_split': 2}"
      ]
     },
     "execution_count": 49,
     "metadata": {},
     "output_type": "execute_result"
    }
   ],
   "source": [
    "grid_tree.best_params_"
   ]
  },
  {
   "cell_type": "code",
   "execution_count": 50,
   "id": "d8f3e9a2",
   "metadata": {},
   "outputs": [
    {
     "data": {
      "text/plain": [
       "0.975"
      ]
     },
     "execution_count": 50,
     "metadata": {},
     "output_type": "execute_result"
    }
   ],
   "source": [
    "grid_tree.best_score_"
   ]
  },
  {
   "cell_type": "code",
   "execution_count": 52,
   "id": "b6c77bef",
   "metadata": {},
   "outputs": [
    {
     "name": "stdout",
     "output_type": "stream",
     "text": [
      "예측 정확도 : 0.9666666666666667\n"
     ]
    }
   ],
   "source": [
    "# refit=True 이므로 새로 재학습시킬 필요가 없이 바로 훈련된 모델 사용 가능\n",
    "best_dt = grid_tree.best_estimator_\n",
    "pred = grid_tree.predict(X_test)\n",
    "print(f'예측 정확도 : {accuracy_score(y_test, pred)}')"
   ]
  },
  {
   "cell_type": "code",
   "execution_count": null,
   "id": "92d5496c",
   "metadata": {},
   "outputs": [],
   "source": []
  }
 ],
 "metadata": {
  "kernelspec": {
   "display_name": "Python Multi",
   "language": "python",
   "name": "multi"
  },
  "language_info": {
   "codemirror_mode": {
    "name": "ipython",
    "version": 3
   },
   "file_extension": ".py",
   "mimetype": "text/x-python",
   "name": "python",
   "nbconvert_exporter": "python",
   "pygments_lexer": "ipython3",
   "version": "3.7.6"
  }
 },
 "nbformat": 4,
 "nbformat_minor": 5
}
