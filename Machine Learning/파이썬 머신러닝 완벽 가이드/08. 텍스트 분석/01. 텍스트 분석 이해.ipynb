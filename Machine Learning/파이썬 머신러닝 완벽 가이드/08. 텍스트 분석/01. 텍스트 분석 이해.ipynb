{
 "cells": [
  {
   "cell_type": "markdown",
   "id": "603d642a",
   "metadata": {},
   "source": [
    "# NLP & 텍스트 분석\n",
    "\n",
    "- NLP(National Laguage Processing) : 머신이 인간의 언어를 이해하고 해석하는데 중점\n",
    "    - 기계 번역, 질의응답 시스템 등\n",
    "- 텍스트 분석(Text Analytics) : 텍스트 마이닝, 비정형 텍스트에서 의미 있는 정보를 추출\n",
    "\n",
    "## 텍스트 분석\n",
    "- 텍스트 분류(Text Classification) : 글을 분석하여 카테고리 분류, 예측하는 기법\n",
    "- 감성 분석(Sentiment Analysis) : 텍스트에서 나타나는 감정/판단/믿음/의견/기분 등 주관적인 요소를 분석하는 기법\n",
    "    - 지도학습, 비지도학습 모두 사용\n",
    "- 텍스트 요약(Summarization) : 텍스트 중심 내용이나 주제, 사상을 추출하는 기법\n",
    "    - Topic Modeling\n",
    "- 텍스트 군집화(Clustering)와 유사도 측정 : 비슷한 유형의 문서에 대해 군집화를 수행하는 기법"
   ]
  },
  {
   "cell_type": "markdown",
   "id": "fe524b93",
   "metadata": {},
   "source": [
    "# 텍스트 분석 이해\n",
    "- 비정형 텍스트 데이터를 피쳐 형태로 추출, 추출된 피쳐에 의미 있는 값을 어떻게 부여하는지가 중요\n",
    "- 피처 벡터화(Feature Vectorization) / 피처 추출(Feature Extraction) : 텍스트를 단어 기반의 다수 피처를 추출, 빈도수와 같은 값 부여\n",
    "    - BOW(Bag of Words), Word2Vec 방법이 있음\n",
    "\n",
    "## 텍스트 분석 수행 프로세스\n",
    "1. 텍스트 사전 준비작업(텍스트 전처리) : 텍스트를 피처로 만들기 전에 대/소문자 변경, 특수문자 삭제 등의 클렌징 작업, 단어 등의 토큰화 작업, 의미 없는 단어(Stop word) 제거 작업, 어근 추출(Stemming/Lemmatization) 등의 텍스트 정규화 작업 수행\n",
    "2. 피처 벡터화/추출 : 가공된 텍스트에서 피처를 추출하고 벡터 값을 할당\n",
    "    - BOW : Count 기반, TF-IDF 기반 벡터화\n",
    "3. ML 모델 수립 및 학습/예측/평가\n",
    "\n",
    "## 파이썬 기반 NLP, 텍스트 분석 패키지\n",
    "대부분이 영어 기반이라 아쉬움이 있음\n",
    "- NLTK(Natural Language Toolkit for Python) : 가장 대표적인 NLP 패키지로 많은 패키지가 NLTK의 영향을 받음\n",
    "    - 수행 속도 면에서 아쉬움이 있음\n",
    "- Gensim : 토픽 모델링 분야에서 가장 뛰어난 패키지\n",
    "- SpaCy : 최근 가장 주목받는 NLP 패키지\n",
    "- 사이킷런 : NLP 전용 패키지와 함께 사용"
   ]
  },
  {
   "cell_type": "code",
   "execution_count": null,
   "id": "7ef76c9e",
   "metadata": {},
   "outputs": [],
   "source": []
  }
 ],
 "metadata": {
  "kernelspec": {
   "display_name": "Python Multi",
   "language": "python",
   "name": "multi"
  },
  "language_info": {
   "codemirror_mode": {
    "name": "ipython",
    "version": 3
   },
   "file_extension": ".py",
   "mimetype": "text/x-python",
   "name": "python",
   "nbconvert_exporter": "python",
   "pygments_lexer": "ipython3",
   "version": "3.7.6"
  },
  "toc": {
   "base_numbering": 1,
   "nav_menu": {},
   "number_sections": false,
   "sideBar": true,
   "skip_h1_title": false,
   "title_cell": "Table of Contents",
   "title_sidebar": "Contents",
   "toc_cell": false,
   "toc_position": {
    "height": "calc(100% - 180px)",
    "left": "10px",
    "top": "150px",
    "width": "165px"
   },
   "toc_section_display": true,
   "toc_window_display": true
  }
 },
 "nbformat": 4,
 "nbformat_minor": 5
}
