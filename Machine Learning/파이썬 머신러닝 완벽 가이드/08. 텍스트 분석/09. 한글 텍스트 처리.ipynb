{
 "cells": [
  {
   "cell_type": "markdown",
   "id": "7e1abf74",
   "metadata": {},
   "source": [
    "# 한글 텍스트 처리 - 네이버 영화 평점 감성 분석\n",
    "- KoNLPy"
   ]
  },
  {
   "cell_type": "markdown",
   "id": "6b599d50",
   "metadata": {},
   "source": [
    "## 한글 NLP 처리의 어려움\n",
    "- 띄어쓰기와 다양한 조사 때문"
   ]
  },
  {
   "cell_type": "markdown",
   "id": "6c4615c4",
   "metadata": {},
   "source": [
    "## KoNLPy 소개\n",
    "- python의 대표적인 한글 형태소 패키지\n",
    "    - 형태소 : 단어로서 의미를 가지는 최소 단위\n",
    "    - 형태소 어근 단위로 쪼개고 각 형태소에 품사 태깅(POS tagging)을 부착하는 작업\n",
    "- KoNLPy : C/C++, Java로 만들어진 형태소 엔진을 파이썬 래퍼(Wrapper) 기반으로 재작성한 패키지\n",
    "    - 꼬꼬마(Kkma), 한나눔(Hannanum), Komoran, 은전한닢 프로젝트(Mecab), Okt의 형태소 모듈 사용 가능\n",
    "    - Mecab의 경우 리눅스에서만 됐으나, 지금은 윈도우에서도 가능"
   ]
  },
  {
   "cell_type": "markdown",
   "id": "12714156",
   "metadata": {},
   "source": [
    "### 설치\n",
    "1. JPype1 모듈 설치\n",
    "    - `conda install -c conda-forge jpype1`\n",
    "    - 또는 `pip install --upgrade pip` 후 [JPype1 다운로드 링크](https://www.lfd.uci.edu/~gohlke/pythonlibs/#jpype)에서 파이썬 버전, 운영체제가 맞는 whl 파일을 받은 뒤 `pip install 파일명.whl`을 통해 설치\n",
    "        - 나의 경우, 위 방법으로는 안 되고 아래 방법으로 `JPype1-1.1.2-cp37-cp37m-win_amd64.whl` 파일 다운 후 설치\n",
    "2. Java 환경 설정\n",
    "    - [JDK 다운로드](https://www.oracle.com/java/technologies/javase-downloads.html) 후 설치 (나의 경우 가장 최신 버전인 16.0.2)\n",
    "    - `C:\\Program Files\\Java\\jdk-16.0.2\\bin\\server`에 있는 `jvm.dll` 파일에 대하여 윈도우 환경 변수 추가\n",
    "        - 환경 변수 - 사용자 변수 - 변수 이름 : JAVA_HOME, 변수 값 : C:\\Program Files\\Java\\jdk-16.0.2\\bin\\server - 확인\n",
    "3. KoNLPy 설치\n",
    "    - `pip install konlpy`"
   ]
  },
  {
   "cell_type": "code",
   "execution_count": 1,
   "id": "dfad6405",
   "metadata": {},
   "outputs": [
    {
     "data": {
      "text/plain": [
       "'3.7.6 | packaged by conda-forge | (default, Jun  1 2020, 18:11:50) [MSC v.1916 64 bit (AMD64)]'"
      ]
     },
     "execution_count": 1,
     "metadata": {},
     "output_type": "execute_result"
    }
   ],
   "source": [
    "import sys\n",
    "sys.version"
   ]
  },
  {
   "cell_type": "markdown",
   "id": "7d8bbf5b",
   "metadata": {},
   "source": [
    "## 네이버 영화 평점 리뷰\n",
    "- [txt 파일](https://github.com/e9t/nsmc)\n",
    "- label : 1=긍정, 0=부정"
   ]
  },
  {
   "cell_type": "markdown",
   "id": "236ea972",
   "metadata": {},
   "source": [
    "### 데이터 로딩"
   ]
  },
  {
   "cell_type": "code",
   "execution_count": 2,
   "id": "91b76e2e",
   "metadata": {},
   "outputs": [
    {
     "data": {
      "text/html": [
       "<div>\n",
       "<style scoped>\n",
       "    .dataframe tbody tr th:only-of-type {\n",
       "        vertical-align: middle;\n",
       "    }\n",
       "\n",
       "    .dataframe tbody tr th {\n",
       "        vertical-align: top;\n",
       "    }\n",
       "\n",
       "    .dataframe thead th {\n",
       "        text-align: right;\n",
       "    }\n",
       "</style>\n",
       "<table border=\"1\" class=\"dataframe\">\n",
       "  <thead>\n",
       "    <tr style=\"text-align: right;\">\n",
       "      <th></th>\n",
       "      <th>id</th>\n",
       "      <th>document</th>\n",
       "      <th>label</th>\n",
       "    </tr>\n",
       "  </thead>\n",
       "  <tbody>\n",
       "    <tr>\n",
       "      <th>0</th>\n",
       "      <td>9976970</td>\n",
       "      <td>아 더빙.. 진짜 짜증나네요 목소리</td>\n",
       "      <td>0</td>\n",
       "    </tr>\n",
       "    <tr>\n",
       "      <th>1</th>\n",
       "      <td>3819312</td>\n",
       "      <td>흠...포스터보고 초딩영화줄....오버연기조차 가볍지 않구나</td>\n",
       "      <td>1</td>\n",
       "    </tr>\n",
       "    <tr>\n",
       "      <th>2</th>\n",
       "      <td>10265843</td>\n",
       "      <td>너무재밓었다그래서보는것을추천한다</td>\n",
       "      <td>0</td>\n",
       "    </tr>\n",
       "  </tbody>\n",
       "</table>\n",
       "</div>"
      ],
      "text/plain": [
       "         id                           document  label\n",
       "0   9976970                아 더빙.. 진짜 짜증나네요 목소리      0\n",
       "1   3819312  흠...포스터보고 초딩영화줄....오버연기조차 가볍지 않구나      1\n",
       "2  10265843                  너무재밓었다그래서보는것을추천한다      0"
      ]
     },
     "execution_count": 2,
     "metadata": {},
     "output_type": "execute_result"
    }
   ],
   "source": [
    "import pandas as pd\n",
    "\n",
    "train_df = pd.read_csv('../data/ratings_train.txt', sep='\\t')\n",
    "train_df.head(3)"
   ]
  },
  {
   "cell_type": "code",
   "execution_count": 3,
   "id": "449a6511",
   "metadata": {},
   "outputs": [
    {
     "data": {
      "text/plain": [
       "0    75173\n",
       "1    74827\n",
       "Name: label, dtype: int64"
      ]
     },
     "execution_count": 3,
     "metadata": {},
     "output_type": "execute_result"
    }
   ],
   "source": [
    "train_df['label'].value_counts()"
   ]
  },
  {
   "cell_type": "markdown",
   "id": "e699b55a",
   "metadata": {},
   "source": [
    "### 데이터 가공\n",
    "- null 값을 공백(' ')으로 대체\n",
    "- 숫자의 경우 단어적인 의미가 부족하므로 공백으로 대체"
   ]
  },
  {
   "cell_type": "code",
   "execution_count": 4,
   "id": "de5756fe",
   "metadata": {},
   "outputs": [],
   "source": [
    "import re\n",
    "\n",
    "train_df = train_df.fillna(' ')\n",
    "\n",
    "# 정규표현식 \\d : 숫자\n",
    "train_df['document'] = train_df['document'].apply(lambda x:re.sub(r'\\d', ' ', x))\n",
    "\n",
    "# test 데이터에 대해서도 똑같이\n",
    "test_df = pd.read_csv('../data/ratings_test.txt', sep='\\t')\n",
    "test_df = test_df.fillna(' ')\n",
    "test_df['document'] = test_df['document'].apply(lambda x:re.sub(r'\\d', ' ', x))\n",
    "\n",
    "# id 칼럼 삭제\n",
    "train_df.drop('id', axis=1, inplace=True)\n",
    "test_df.drop('id', axis=1, inplace=True)"
   ]
  },
  {
   "cell_type": "markdown",
   "id": "8b18bf55",
   "metadata": {},
   "source": [
    "### 토큰화\n",
    "- 형태소 단위로 토큰화\n",
    "- SNS 분석에 적합한 Okt(前 Twitter, 책에는 이걸로 되어 있음) 클래스 이용"
   ]
  },
  {
   "cell_type": "code",
   "execution_count": 7,
   "id": "f7013ac6",
   "metadata": {},
   "outputs": [],
   "source": [
    "from konlpy.tag import Okt\n",
    "\n",
    "okt = Okt()\n",
    "def okt_tokenizer(text):\n",
    "    # 입력 인자로 들어온 텍스트를 형태소 단어로 토큰화해 리스트 형태로 반환\n",
    "    tokens_ko = okt.morphs(text)\n",
    "    return tokens_ko"
   ]
  },
  {
   "cell_type": "code",
   "execution_count": 14,
   "id": "66a23b8a",
   "metadata": {},
   "outputs": [
    {
     "name": "stdout",
     "output_type": "stream",
     "text": [
      "아 더빙.. 진짜 짜증나네요 목소리 >> ['아', '더빙', '..', '진짜', '짜증나네요', '목소리']\n"
     ]
    }
   ],
   "source": [
    "text_simple = train_df.loc[0, 'document']\n",
    "print(text_simple, '>>', okt_tokenizer(text_simple))"
   ]
  },
  {
   "cell_type": "code",
   "execution_count": 15,
   "id": "1965a2b1",
   "metadata": {},
   "outputs": [
    {
     "name": "stdout",
     "output_type": "stream",
     "text": [
      "교도소 이야기구먼 ..솔직히 재미는 없다..평점 조정 >> ['교도소', '이야기', '구먼', '..', '솔직히', '재미', '는', '없다', '..', '평점', '조정']\n"
     ]
    }
   ],
   "source": [
    "text_simple = train_df.loc[3, 'document']\n",
    "print(text_simple, '>>', okt_tokenizer(text_simple))"
   ]
  },
  {
   "cell_type": "code",
   "execution_count": 16,
   "id": "1dba31a7",
   "metadata": {},
   "outputs": [
    {
     "name": "stdout",
     "output_type": "stream",
     "text": [
      "막 걸음마 뗀  세부터 초등학교  학년생인  살용영화.ㅋㅋㅋ...별반개도 아까움. >> ['막', '걸음', '마', '뗀', '세', '부터', '초등학교', '학년', '생인', '살용', '영화', '.', 'ㅋㅋㅋ', '...', '별', '반개', '도', '아까', '움', '.']\n"
     ]
    }
   ],
   "source": [
    "text_simple = train_df.loc[5, 'document']\n",
    "print(text_simple, '>>', okt_tokenizer(text_simple))"
   ]
  },
  {
   "cell_type": "markdown",
   "id": "2e204a64",
   "metadata": {},
   "source": [
    "### TF-IDF 벡터화 및 학습, GridSearch, 평가"
   ]
  },
  {
   "cell_type": "code",
   "execution_count": 18,
   "id": "a6889ab2",
   "metadata": {},
   "outputs": [
    {
     "name": "stdout",
     "output_type": "stream",
     "text": [
      "Wall time: 8min 53s\n"
     ]
    }
   ],
   "source": [
    "%%time\n",
    "\n",
    "from sklearn.feature_extraction.text import TfidfVectorizer\n",
    "from sklearn.linear_model import LogisticRegression\n",
    "from sklearn.model_selection import GridSearchCV\n",
    "import warnings\n",
    "warnings.filterwarnings('ignore')\n",
    "\n",
    "tfidf_vect = TfidfVectorizer(tokenizer=okt_tokenizer, ngram_range=(1, 2), min_df=3, max_df=0.9)\n",
    "tfidf_vect.fit(train_df['document'])\n",
    "tfidf_matrix_train = tfidf_vect.transform(train_df['document'])"
   ]
  },
  {
   "cell_type": "code",
   "execution_count": 19,
   "id": "774c563d",
   "metadata": {},
   "outputs": [
    {
     "name": "stdout",
     "output_type": "stream",
     "text": [
      "Fitting 3 folds for each of 11 candidates, totalling 33 fits\n",
      "{'C': 3} 0.8593\n",
      "Wall time: 1min 26s\n"
     ]
    }
   ],
   "source": [
    "%%time\n",
    "lr_clf = LogisticRegression()\n",
    "\n",
    "params = {'C':[0.5, 0.8, 1, 2, 3, 3.5, 4, 4.5, 5, 5.5, 10]}\n",
    "\n",
    "grid_cv = GridSearchCV(lr_clf, param_grid=params, cv=3, scoring='accuracy', verbose=1)\n",
    "grid_cv.fit(tfidf_matrix_train, train_df['label'])\n",
    "print(grid_cv.best_params_, round(grid_cv.best_score_, 4))"
   ]
  },
  {
   "cell_type": "code",
   "execution_count": 20,
   "id": "0c9079d2",
   "metadata": {},
   "outputs": [
    {
     "name": "stdout",
     "output_type": "stream",
     "text": [
      "Logistic Regression 정확도 : 0.86182\n"
     ]
    }
   ],
   "source": [
    "from sklearn.metrics import accuracy_score\n",
    "\n",
    "# 테스트 데이터 변환\n",
    "tfidf_matrix_test = tfidf_vect.transform(test_df['document'])\n",
    "\n",
    "# best param classifier 이용\n",
    "best_estimator = grid_cv.best_estimator_\n",
    "preds = best_estimator.predict(tfidf_matrix_test)\n",
    "acc = accuracy_score(test_df['label'], preds)\n",
    "\n",
    "print('Logistic Regression 정확도 :', acc)"
   ]
  },
  {
   "cell_type": "code",
   "execution_count": null,
   "id": "bb455f53",
   "metadata": {},
   "outputs": [],
   "source": []
  }
 ],
 "metadata": {
  "kernelspec": {
   "display_name": "Python Multi",
   "language": "python",
   "name": "multi"
  },
  "language_info": {
   "codemirror_mode": {
    "name": "ipython",
    "version": 3
   },
   "file_extension": ".py",
   "mimetype": "text/x-python",
   "name": "python",
   "nbconvert_exporter": "python",
   "pygments_lexer": "ipython3",
   "version": "3.7.6"
  },
  "toc": {
   "base_numbering": 1,
   "nav_menu": {},
   "number_sections": false,
   "sideBar": true,
   "skip_h1_title": false,
   "title_cell": "Table of Contents",
   "title_sidebar": "Contents",
   "toc_cell": false,
   "toc_position": {},
   "toc_section_display": true,
   "toc_window_display": false
  }
 },
 "nbformat": 4,
 "nbformat_minor": 5
}
