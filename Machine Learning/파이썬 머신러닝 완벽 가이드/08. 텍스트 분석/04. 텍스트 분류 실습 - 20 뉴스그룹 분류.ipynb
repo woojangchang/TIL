{
 "cells": [
  {
   "cell_type": "markdown",
   "id": "30ef9cbf",
   "metadata": {},
   "source": [
    "## 텍스트 정규화"
   ]
  },
  {
   "cell_type": "code",
   "execution_count": 1,
   "id": "ceaeb25d",
   "metadata": {},
   "outputs": [],
   "source": [
    "import warnings\n",
    "warnings.filterwarnings('ignore')"
   ]
  },
  {
   "cell_type": "code",
   "execution_count": 2,
   "id": "64f6a518",
   "metadata": {},
   "outputs": [],
   "source": [
    "from sklearn.datasets import fetch_20newsgroups\n",
    "\n",
    "news_data = fetch_20newsgroups(subset='all', random_state=156)"
   ]
  },
  {
   "cell_type": "code",
   "execution_count": 3,
   "id": "0bcdbe82",
   "metadata": {},
   "outputs": [
    {
     "name": "stdout",
     "output_type": "stream",
     "text": [
      "dict_keys(['data', 'filenames', 'target_names', 'target', 'DESCR'])\n"
     ]
    }
   ],
   "source": [
    "# key\n",
    "print(news_data.keys())"
   ]
  },
  {
   "cell_type": "markdown",
   "id": "996cb546",
   "metadata": {},
   "source": [
    "20개의 카테고리"
   ]
  },
  {
   "cell_type": "code",
   "execution_count": 4,
   "id": "683fedb6",
   "metadata": {},
   "outputs": [
    {
     "name": "stdout",
     "output_type": "stream",
     "text": [
      "target 클래스 값과 분포도\n",
      "0     799\n",
      "1     973\n",
      "2     985\n",
      "3     982\n",
      "4     963\n",
      "5     988\n",
      "6     975\n",
      "7     990\n",
      "8     996\n",
      "9     994\n",
      "10    999\n",
      "11    991\n",
      "12    984\n",
      "13    990\n",
      "14    987\n",
      "15    997\n",
      "16    910\n",
      "17    940\n",
      "18    775\n",
      "19    628\n",
      "dtype: int64\n",
      "target 클래스 이름\n",
      "['alt.atheism', 'comp.graphics', 'comp.os.ms-windows.misc', 'comp.sys.ibm.pc.hardware', 'comp.sys.mac.hardware', 'comp.windows.x', 'misc.forsale', 'rec.autos', 'rec.motorcycles', 'rec.sport.baseball', 'rec.sport.hockey', 'sci.crypt', 'sci.electronics', 'sci.med', 'sci.space', 'soc.religion.christian', 'talk.politics.guns', 'talk.politics.mideast', 'talk.politics.misc', 'talk.religion.misc']\n"
     ]
    }
   ],
   "source": [
    "import pandas as pd\n",
    "\n",
    "print('target 클래스 값과 분포도', pd.Series(news_data.target).value_counts().sort_index(), sep='\\n')\n",
    "print('target 클래스 이름', news_data.target_names, sep='\\n')"
   ]
  },
  {
   "cell_type": "markdown",
   "id": "b89f7dda",
   "metadata": {},
   "source": [
    "뉴스그룹 제목, 작성자, 소속, 이메일 등이 있으며 header와 footer를 제거해야함"
   ]
  },
  {
   "cell_type": "code",
   "execution_count": 5,
   "id": "379d82de",
   "metadata": {},
   "outputs": [
    {
     "name": "stdout",
     "output_type": "stream",
     "text": [
      "From: egreen@east.sun.com (Ed Green - Pixel Cruncher)\n",
      "Subject: Re: Observation re: helmets\n",
      "Organization: Sun Microsystems, RTP, NC\n",
      "Lines: 21\n",
      "Distribution: world\n",
      "Reply-To: egreen@east.sun.com\n",
      "NNTP-Posting-Host: laser.east.sun.com\n",
      "\n",
      "In article 211353@mavenry.altcit.eskimo.com, maven@mavenry.altcit.eskimo.com (Norman Hamer) writes:\n",
      "> \n",
      "> The question for the day is re: passenger helmets, if you don't know for \n",
      ">certain who's gonna ride with you (like say you meet them at a .... church \n",
      ">meeting, yeah, that's the ticket)... What are some guidelines? Should I just \n",
      ">pick up another shoei in my size to have a backup helmet (XL), or should I \n",
      ">maybe get an inexpensive one of a smaller size to accomodate my likely \n",
      ">passenger? \n",
      "\n",
      "If your primary concern is protecting the passenger in the event of a\n",
      "crash, have him or her fitted for a helmet that is their size.  If your\n",
      "primary concern is complying with stupid helmet laws, carry a real big\n",
      "spare (you can put a big or small head in a big helmet, but not in a\n",
      "small one).\n",
      "\n",
      "---\n",
      "Ed Green, former Ninjaite |I was drinking last night with a biker,\n",
      "  Ed.Green@East.Sun.COM   |and I showed him a picture of you.  I said,\n",
      "DoD #0111  (919)460-8302  |\"Go on, get to know her, you'll like her!\"\n",
      " (The Grateful Dead) -->  |It seemed like the least I could do...\n",
      "\n",
      "\n"
     ]
    }
   ],
   "source": [
    "print(news_data.data[0])"
   ]
  },
  {
   "cell_type": "code",
   "execution_count": 6,
   "id": "a5ba9966",
   "metadata": {},
   "outputs": [
    {
     "name": "stdout",
     "output_type": "stream",
     "text": [
      "학습 데이터 크기 11314, 테스트 데이터 크기 7532\n",
      "Wall time: 1.86 s\n"
     ]
    }
   ],
   "source": [
    "%%time\n",
    "\n",
    "from sklearn.datasets import fetch_20newsgroups\n",
    "\n",
    "# 학습 데이터의 내용만 추출\n",
    "train_news = fetch_20newsgroups(subset='train', remove=('headers', 'footers', 'quotes'),\n",
    "                  random_state=156)\n",
    "X_train = train_news.data\n",
    "y_train = train_news.target\n",
    "\n",
    "# 테스트 데이터의 내용만 추출\n",
    "test_news = fetch_20newsgroups(subset='test', remove=('headers', 'footers', 'quotes'),\n",
    "                  random_state=156)\n",
    "X_test = test_news.data\n",
    "y_test = test_news.target\n",
    "\n",
    "print(f'학습 데이터 크기 {len(X_train)}, 테스트 데이터 크기 {len(X_test)}')"
   ]
  },
  {
   "cell_type": "markdown",
   "id": "5d866a07",
   "metadata": {},
   "source": [
    "## 피처 벡터화 변환 1 - `CountVectorizer`\n",
    "- `CountVectorizer` 적용할 때 반드시 학습 데이터를 이용해 fit()이 수행된 객체를 이용해 테스트 데이터를 transform() 해야함\n",
    "    - 그렇지 않으면 피처 개수가 달라져서 학습되지 않음\n",
    "    - 그렇기 때문에 테스트 데이터에 fit_transform()을 사용하면 안 됨"
   ]
  },
  {
   "cell_type": "code",
   "execution_count": 7,
   "id": "34cb5a49",
   "metadata": {},
   "outputs": [
    {
     "name": "stdout",
     "output_type": "stream",
     "text": [
      "학습 데이터 텍스트의 CountVectorizer Shape : (11314, 101631)\n",
      "테스트 데이터 텍스트의 CountVectorizer Shape : (7532, 101631)\n",
      "Wall time: 3.58 s\n"
     ]
    }
   ],
   "source": [
    "%%time\n",
    "\n",
    "from sklearn.feature_extraction.text import CountVectorizer\n",
    "\n",
    "cnt_vect = CountVectorizer()\n",
    "cnt_vect.fit(X_train)\n",
    "X_train_cnt_vect = cnt_vect.transform(X_train)\n",
    "\n",
    "X_test_cnt_vect = cnt_vect.transform(X_test)\n",
    "\n",
    "print('학습 데이터 텍스트의 CountVectorizer Shape :', X_train_cnt_vect.shape)\n",
    "print('테스트 데이터 텍스트의 CountVectorizer Shape :', X_test_cnt_vect.shape)"
   ]
  },
  {
   "cell_type": "markdown",
   "id": "00902841",
   "metadata": {},
   "source": [
    "### 머신러닝 모델 학습/예측/평가"
   ]
  },
  {
   "cell_type": "code",
   "execution_count": 8,
   "id": "b292e5c3",
   "metadata": {},
   "outputs": [
    {
     "name": "stdout",
     "output_type": "stream",
     "text": [
      "CountVectorized Logistic Regression 예측 정확도 : 0.608\n",
      "Wall time: 29.3 s\n"
     ]
    }
   ],
   "source": [
    "%%time\n",
    "\n",
    "from sklearn.linear_model import LogisticRegression\n",
    "from sklearn.metrics import accuracy_score\n",
    "\n",
    "lr_clf = LogisticRegression()\n",
    "lr_clf.fit(X_train_cnt_vect, y_train)\n",
    "pred = lr_clf.predict(X_test_cnt_vect)\n",
    "acc = accuracy_score(y_test, pred)\n",
    "\n",
    "print(f'CountVectorized Logistic Regression 예측 정확도 : {acc:.3f}')"
   ]
  },
  {
   "cell_type": "markdown",
   "id": "958e1ee3",
   "metadata": {},
   "source": [
    "## 피처 벡터화 변환 2 - `TF-IDF`"
   ]
  },
  {
   "cell_type": "code",
   "execution_count": 9,
   "id": "1c457773",
   "metadata": {},
   "outputs": [
    {
     "name": "stdout",
     "output_type": "stream",
     "text": [
      "학습 데이터 텍스트의 TFIDFVectorizer Shape : (11314, 101631)\n",
      "테스트 데이터 텍스트의 TFIDFVectorizer Shape : (7532, 101631)\n",
      "Wall time: 3.52 s\n"
     ]
    }
   ],
   "source": [
    "%%time\n",
    "\n",
    "from sklearn.feature_extraction.text import TfidfVectorizer\n",
    "\n",
    "tfidf_vect = TfidfVectorizer()\n",
    "tfidf_vect.fit(X_train)\n",
    "X_train_tfidf_vect = tfidf_vect.transform(X_train)\n",
    "X_test_tfidf_vect = tfidf_vect.transform(X_test)\n",
    "\n",
    "print('학습 데이터 텍스트의 TFIDFVectorizer Shape :', X_train_tfidf_vect.shape)\n",
    "print('테스트 데이터 텍스트의 TFIDFVectorizer Shape :', X_test_tfidf_vect.shape)"
   ]
  },
  {
   "cell_type": "markdown",
   "id": "d2db63fd",
   "metadata": {},
   "source": [
    "### 머신러닝 모델 학습/예측/평가"
   ]
  },
  {
   "cell_type": "code",
   "execution_count": 10,
   "id": "4065b1f2",
   "metadata": {},
   "outputs": [
    {
     "name": "stdout",
     "output_type": "stream",
     "text": [
      "TF-IDF Logistic Regression 예측 정확도 : 0.674\n",
      "Wall time: 25.6 s\n"
     ]
    }
   ],
   "source": [
    "%%time\n",
    "\n",
    "lr_clf = LogisticRegression()\n",
    "lr_clf.fit(X_train_tfidf_vect, y_train)\n",
    "pred = lr_clf.predict(X_test_tfidf_vect)\n",
    "acc = accuracy_score(y_test, pred)\n",
    "\n",
    "print(f'TF-IDF Logistic Regression 예측 정확도 : {acc:.3f}')"
   ]
  },
  {
   "cell_type": "markdown",
   "id": "1d83a95d",
   "metadata": {},
   "source": [
    "## 피처 벡터화 변환 3 - 피처 전처리\n",
    "- stop word 제거\n",
    "- ngram_range 확장\n",
    "- max_df을 설정하여 많이 등장하는 단어를 피처에서 제외"
   ]
  },
  {
   "cell_type": "code",
   "execution_count": 11,
   "id": "0223d3cc",
   "metadata": {},
   "outputs": [
    {
     "name": "stdout",
     "output_type": "stream",
     "text": [
      "학습 데이터 텍스트의 TF-IDFVectorizer Shape : (11314, 943453)\n",
      "테스트 데이터 텍스트의 TF-IDFVectorizer Shape : (7532, 943453)\n",
      "Wall time: 8.18 s\n"
     ]
    }
   ],
   "source": [
    "%%time\n",
    "\n",
    "tfidf_vect = TfidfVectorizer(stop_words='english', ngram_range=(1, 2), max_df=300)\n",
    "tfidf_vect.fit(X_train)\n",
    "X_train_tfidf_vect = tfidf_vect.transform(X_train)\n",
    "X_test_tfidf_vect = tfidf_vect.transform(X_test)\n",
    "\n",
    "print('학습 데이터 텍스트의 TF-IDFVectorizer Shape :', X_train_tfidf_vect.shape)\n",
    "print('테스트 데이터 텍스트의 TF-IDFVectorizer Shape :', X_test_tfidf_vect.shape)"
   ]
  },
  {
   "cell_type": "markdown",
   "id": "81be9718",
   "metadata": {},
   "source": [
    "### 머신러닝 모델 학습/예측/평가"
   ]
  },
  {
   "cell_type": "code",
   "execution_count": 12,
   "id": "8e40bf6b",
   "metadata": {},
   "outputs": [
    {
     "name": "stdout",
     "output_type": "stream",
     "text": [
      "TF-IDF Vectorized Logistic Regression 예측 정확도 : 0.692\n",
      "Wall time: 2min 55s\n"
     ]
    }
   ],
   "source": [
    "%%time\n",
    "\n",
    "lr_clf = LogisticRegression()\n",
    "lr_clf.fit(X_train_tfidf_vect, y_train)\n",
    "pred = lr_clf.predict(X_test_tfidf_vect)\n",
    "acc = accuracy_score(y_test, pred)\n",
    "\n",
    "print(f'TF-IDF Vectorized Logistic Regression 예측 정확도 : {acc:.3f}')"
   ]
  },
  {
   "cell_type": "markdown",
   "id": "ce6a1876",
   "metadata": {},
   "source": [
    "### 머신러닝 모델 최적 파라미터 조정"
   ]
  },
  {
   "cell_type": "code",
   "execution_count": 13,
   "id": "fb671854",
   "metadata": {},
   "outputs": [
    {
     "name": "stdout",
     "output_type": "stream",
     "text": [
      "Fitting 3 folds for each of 5 candidates, totalling 15 fits\n",
      "Logistic Regression best C parameter : {'C': 10}\n",
      "TF-IDF Vectorized Logistic Regression 예측 정확도 : 0.701\n",
      "Wall time: 41min 5s\n"
     ]
    }
   ],
   "source": [
    "%%time\n",
    "\n",
    "from sklearn.model_selection import GridSearchCV\n",
    "\n",
    "# CV fold = 3으로 그리드 서치 진행\n",
    "params = {'C':[0.01, 0.1, 1, 5, 10]}\n",
    "grid_cv_lr = GridSearchCV(lr_clf, param_grid=params, cv=3, scoring='accuracy', verbose=1)\n",
    "grid_cv_lr.fit(X_train_tfidf_vect, y_train)\n",
    "print('Logistic Regression best C parameter :', grid_cv_lr.best_params_)\n",
    "\n",
    "# 최적 파라미터로 예측 및 평가\n",
    "pred = grid_cv_lr.predict(X_test_tfidf_vect)\n",
    "acc = accuracy_score(y_test, pred)\n",
    "\n",
    "print(f'TF-IDF Vectorized Logistic Regression 예측 정확도 : {acc:.3f}')"
   ]
  },
  {
   "cell_type": "markdown",
   "id": "fc443ba7",
   "metadata": {},
   "source": [
    "## 파이프라인 사용\n",
    "- 대용량 데이터의 피처 벡터화 결과를 별도 데이터로 저장하지 않고 바로 머신러닝 알고리즘의 데이터로 입력할 수 있기 때문에 시간 절약"
   ]
  },
  {
   "cell_type": "code",
   "execution_count": 15,
   "id": "21fbb0f5",
   "metadata": {},
   "outputs": [
    {
     "name": "stdout",
     "output_type": "stream",
     "text": [
      "Pipeline을 통한 Logistic Regression의 예측 정확도 : 0.701\n",
      "Wall time: 4min 12s\n"
     ]
    }
   ],
   "source": [
    "%%time\n",
    "\n",
    "from sklearn.pipeline import Pipeline\n",
    "\n",
    "pipeline = Pipeline([\n",
    "    ('tfidf_vect', TfidfVectorizer(stop_words='english', ngram_range=(1,2), max_df=300)),\n",
    "    ('lr_clf', LogisticRegression(C=10))\n",
    "])\n",
    "\n",
    "# TfidVectorizer의 fit, transform, LogisticRegression의 fit, predict의 과정이 필요 없으며\n",
    "# 변수 저장도 하지 않음\n",
    "pipeline.fit(X_train, y_train)\n",
    "pred = pipeline.predict(X_test)\n",
    "acc = accuracy_score(y_test, pred)\n",
    "print(f'Pipeline을 통한 Logistic Regression의 예측 정확도 : {acc:.3f}')"
   ]
  },
  {
   "cell_type": "markdown",
   "id": "a2fc4827",
   "metadata": {},
   "source": [
    "### GridSearchCV와 결합\n",
    "- 객체별로 파라미터가 다르기 때문에 객체명__파라미터명으로 결합된 것을 파라미터로 준다.\n",
    "- 단점은 객체별 파라미터를 주기 때문에 수행시간이 오래 걸린다.\n",
    "- ```python\n",
    "{'tfidf_vect__max_df':[100, 300, 700]} 등\n",
    "```"
   ]
  },
  {
   "cell_type": "code",
   "execution_count": 17,
   "id": "8a3efd59",
   "metadata": {},
   "outputs": [
    {
     "name": "stdout",
     "output_type": "stream",
     "text": [
      "Fitting 3 folds for each of 27 candidates, totalling 81 fits\n",
      "{'lr_clf__C': 10, 'tfidf_vect__max_df': 300, 'tfidf_vect__ngram_range': (1, 2)} 0.7536687914006531\n",
      "Pipeline을 통한 Logistic Regression의 예측 정확도 : 0.701\n",
      "Wall time: 3h 43min 31s\n"
     ]
    }
   ],
   "source": [
    "%%time\n",
    "\n",
    "from sklearn.pipeline import Pipeline\n",
    "\n",
    "pipeline = Pipeline([\n",
    "    ('tfidf_vect', TfidfVectorizer(stop_words='english', ngram_range=(1,2), max_df=300)),\n",
    "    ('lr_clf', LogisticRegression(C=10))\n",
    "])\n",
    "\n",
    "# 파라미터 정의\n",
    "params = {'tfidf_vect__ngram_range':[(1, 1), (1, 2), (1, 3)],\n",
    "         'tfidf_vect__max_df':[100, 300, 700],\n",
    "         'lr_clf__C':[1, 5, 10]}\n",
    "\n",
    "# GridSearchCV에 estimator 대신 pipeline 입력\n",
    "grid_cv_pipe = GridSearchCV(pipeline, param_grid=params, cv=3, scoring='accuracy', verbose=1)\n",
    "grid_cv_pipe.fit(X_train, y_train)\n",
    "print(grid_cv_pipe.best_params_, grid_cv_pipe.best_score_)\n",
    "\n",
    "pred = grid_cv_pipe.predict(X_test)\n",
    "acc = accuracy_score(y_test, pred)\n",
    "print(f'Pipeline을 통한 Logistic Regression의 예측 정확도 : {acc:.3f}')"
   ]
  },
  {
   "cell_type": "markdown",
   "id": "179ef512",
   "metadata": {},
   "source": [
    "## 추가 알고리즘\n",
    "- 희소 행렬에 잘 사용되는 알고리즘으로 SVM, Naive Bayes가 있다."
   ]
  },
  {
   "cell_type": "markdown",
   "id": "a99a2204",
   "metadata": {},
   "source": [
    "### Support Vector Machine"
   ]
  },
  {
   "cell_type": "code",
   "execution_count": 18,
   "id": "2f6b790f",
   "metadata": {},
   "outputs": [
    {
     "name": "stdout",
     "output_type": "stream",
     "text": [
      "Pipeline을 통한 SVC의 예측 정확도 : 0.678\n"
     ]
    }
   ],
   "source": [
    "from sklearn.svm import SVC\n",
    "\n",
    "pipeline = Pipeline([\n",
    "    ('tfidf_vect', TfidfVectorizer(stop_words='english', ngram_range=(1,2), max_df=300)),\n",
    "    ('svm_clf', SVC())\n",
    "])\n",
    "\n",
    "pipeline.fit(X_train, y_train)\n",
    "pred = pipeline.predict(X_test)\n",
    "acc = accuracy_score(y_test, pred)\n",
    "print(f'Pipeline을 통한 SVC의 예측 정확도 : {acc:.3f}')"
   ]
  },
  {
   "cell_type": "markdown",
   "id": "22a7caa8",
   "metadata": {},
   "source": [
    "### Naive Bayes"
   ]
  },
  {
   "cell_type": "code",
   "execution_count": 19,
   "id": "97f95c1a",
   "metadata": {},
   "outputs": [
    {
     "name": "stdout",
     "output_type": "stream",
     "text": [
      "Pipeline을 통한 Naive Bayes의 예측 정확도 : 0.689\n",
      "Wall time: 6.46 s\n"
     ]
    }
   ],
   "source": [
    "%%time\n",
    "\n",
    "from sklearn.naive_bayes import MultinomialNB\n",
    "\n",
    "pipeline = Pipeline([\n",
    "    ('tfidf_vect', TfidfVectorizer(stop_words='english', ngram_range=(1,2), max_df=300)),\n",
    "    ('nb_clf', MultinomialNB())\n",
    "])\n",
    "\n",
    "pipeline.fit(X_train, y_train)\n",
    "pred = pipeline.predict(X_test)\n",
    "acc = accuracy_score(y_test, pred)\n",
    "print(f'Pipeline을 통한 Naive Bayes의 예측 정확도 : {acc:.3f}')"
   ]
  },
  {
   "cell_type": "code",
   "execution_count": null,
   "id": "6e318488",
   "metadata": {},
   "outputs": [],
   "source": []
  }
 ],
 "metadata": {
  "kernelspec": {
   "display_name": "Python Multi",
   "language": "python",
   "name": "multi"
  },
  "language_info": {
   "codemirror_mode": {
    "name": "ipython",
    "version": 3
   },
   "file_extension": ".py",
   "mimetype": "text/x-python",
   "name": "python",
   "nbconvert_exporter": "python",
   "pygments_lexer": "ipython3",
   "version": "3.7.6"
  },
  "toc": {
   "base_numbering": 1,
   "nav_menu": {},
   "number_sections": false,
   "sideBar": true,
   "skip_h1_title": false,
   "title_cell": "Table of Contents",
   "title_sidebar": "Contents",
   "toc_cell": false,
   "toc_position": {
    "height": "calc(100% - 180px)",
    "left": "10px",
    "top": "150px",
    "width": "165px"
   },
   "toc_section_display": true,
   "toc_window_display": true
  }
 },
 "nbformat": 4,
 "nbformat_minor": 5
}
