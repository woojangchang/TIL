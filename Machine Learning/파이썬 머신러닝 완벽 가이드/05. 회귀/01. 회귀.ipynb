{
 "cells": [
  {
   "cell_type": "markdown",
   "id": "51895ea4",
   "metadata": {},
   "source": [
    "# 회귀\n",
    "- 인과 관계를 파악하는 분석\n",
    "- 머신러닝에서의 회귀 : 설명변수로부터 결과변수를 예측하는 모델(함수식)을 구함\n",
    "    - 이 때의 결과변수는 category형이 아닌 연속값"
   ]
  },
  {
   "cell_type": "markdown",
   "id": "5f934b43",
   "metadata": {},
   "source": [
    "## 회귀모델 유형\n",
    "- 선형/비선형 : 회귀계수 결합에 따라\n",
    "- 단순/다중 : 독립변수 개수에 따라\n",
    "\n",
    "### OLS 회귀분석 종류\n",
    "- 단순 회귀 분석 : **하나**의 독립변수로 **하나**의 종속변수를 설명하는 모형\n",
    "- 다중 회귀 분석 : **두 개 이상**의 독립변수로 **하나**의 종속변수를 설명하는 모형\n",
    "- 다항 회귀 분석 : 독립변수와 종속변수의 관계를 **2차 이상의 함수**로 설명\n",
    "- 다변량 회귀 분석 : **두 개 이상**의 종속변수를 사용하는 모형"
   ]
  },
  {
   "cell_type": "markdown",
   "id": "861a71bd",
   "metadata": {},
   "source": [
    "## 선형 회귀(Linear Regression)\n",
    "### 목적\n",
    "- 설명 : 종속변수에 대한 설명변수의 영향을 측정, 설명\n",
    "- 예측 : 모델 함수식을 통해 설명변수에 따른 종속변수의 값을 예측\n",
    "\n",
    "### 함수식\n",
    "- $Y_i = \\beta_0 + \\beta_1 X_{1i} + \\beta_2 X_{2i} + ... + \\beta_n X_{ni}$\n",
    "- 독립 변수($X_i$) : 서로 상관관계가 적고 독립적인 변수\n",
    "    - feature\n",
    "- 종속 변수($Y_i$) : 독립 변수의 영향을 받는 변수\n",
    "    - label\n",
    "- 회귀 계수($\\beta_i$) : 변수의 값에 영향을 미치는 것\n",
    "    - weight\n",
    "\n",
    "### 목적식\n",
    "- RSS(**R**esidual **S**um of **S**quares)\n",
    "- $\\min \\sum e_i^2 \\, \\text{where} \\, e_i=y_i-\\hat{y_i}$ \n",
    "- $y_i$ : 원래 데이터의 값\n",
    "- $\\hat{y_i}$ : 함수식으로 예측한 y값\n",
    "- $e_i$ : 잔차\n",
    "\n",
    "### 주요 가정\n",
    "- 선형성 : 독립변수와 종속변수는 선형 관계에 있다.\n",
    "- 정규성 : 오차는 정규분포를 따른다. ($\\epsilon_i \\sim N(0,\\sigma^2)$)\n",
    "- 등분산성 : 오차는 같은 분산을 가진다.\n",
    "- 독립성 : 오차는 서로 독립이다.\n",
    "\n",
    "### 머신러닝에서\n",
    "- RSS가 최소가 될 수 있는 최적의 회귀 계수를 찾는 것\n",
    "- RSS를 비용함수(Cost Function) 또는 손실함수(Loss Function)라고 함"
   ]
  },
  {
   "cell_type": "markdown",
   "id": "ffbb5f3f",
   "metadata": {},
   "source": [
    "# 경사하강법\n",
    "- 각 점(W)에서 기울기(편미분값)을 구한 뒤 learning rate와 기울기를 곱한 값만큼을 원래 값에 update하여 비용 함수를 구하고, 그 비용 함수가 더 이상 줄어들지 않으면 종료"
   ]
  },
  {
   "cell_type": "markdown",
   "id": "cd6aa07c",
   "metadata": {},
   "source": [
    "### 예시"
   ]
  },
  {
   "cell_type": "code",
   "execution_count": 1,
   "id": "c33932ec",
   "metadata": {},
   "outputs": [
    {
     "data": {
      "text/plain": [
       "<matplotlib.collections.PathCollection at 0x239a31b9148>"
      ]
     },
     "execution_count": 1,
     "metadata": {},
     "output_type": "execute_result"
    },
    {
     "data": {
      "image/png": "[encoded data removed]",
      "text/plain": [
       "<Figure size 432x288 with 1 Axes>"
      ]
     },
     "metadata": {
      "needs_background": "light"
     },
     "output_type": "display_data"
    }
   ],
   "source": [
    "import numpy as np\n",
    "import matplotlib.pyplot as plt\n",
    "%matplotlib inline\n",
    "\n",
    "np.random.seed(0)\n",
    "\n",
    "# y = 6 + 4X (w0=6, w1=4)\n",
    "X = 2 * np.random.rand(100, 1)\n",
    "y = 6 + 4 * X + np.random.randn(100, 1)\n",
    "\n",
    "plt.scatter(X, y)"
   ]
  },
  {
   "cell_type": "markdown",
   "id": "9860c66f",
   "metadata": {},
   "source": [
    "### 비용 함수"
   ]
  },
  {
   "cell_type": "code",
   "execution_count": 2,
   "id": "5eb7a060",
   "metadata": {},
   "outputs": [],
   "source": [
    "def get_cost(y, y_pred):\n",
    "    N = len(y)\n",
    "    cost = np.sum(np.square(y - y_pred))/N\n",
    "    return cost"
   ]
  },
  {
   "cell_type": "markdown",
   "id": "ab5577d2",
   "metadata": {},
   "source": [
    "### 경사 하강법"
   ]
  },
  {
   "cell_type": "code",
   "execution_count": 3,
   "id": "446c688c",
   "metadata": {},
   "outputs": [],
   "source": [
    "def get_weight_updates(w1, w0, X, y, learning_rate=0.01):\n",
    "    N = len(y)\n",
    "    \n",
    "    # w1, w0 업데이트할 저장소\n",
    "    w1_update = np.zeros_like(w1)\n",
    "    w0_update = np.zeros_like(w0)\n",
    "    \n",
    "    # 예측 배열 계산하고 예측과 실제 값의 차이 계산\n",
    "    y_pred = np.dot(X, w1.T) + w0 # Yhat = w0 + w1*X\n",
    "    diff = y - y_pred\n",
    "    \n",
    "    # w0 update 계산을 위한 행렬\n",
    "    w0_factors = np.ones((N, 1))\n",
    "    \n",
    "    # w1, w0 update\n",
    "    w1_update = -(2/N) * learning_rate * np.dot(X.T, diff)\n",
    "    w0_update = -(2/N) * learning_rate * np.dot(w0_factors.T, diff)\n",
    "    \n",
    "    return w1_update, w0_update"
   ]
  },
  {
   "cell_type": "markdown",
   "id": "253d5029",
   "metadata": {},
   "source": [
    "### w1, w0 update"
   ]
  },
  {
   "cell_type": "code",
   "execution_count": 4,
   "id": "c6720c5a",
   "metadata": {},
   "outputs": [],
   "source": [
    "def gradient_descent_steps(X, y, iters=10000):\n",
    "    # w0와 w1을 모두 0으로 초기화. \n",
    "    w0 = np.zeros((1,1))\n",
    "    w1 = np.zeros((1,1))\n",
    "    \n",
    "    # 인자로 주어진 iters 만큼 반복적으로 get_weight_updates() 호출하여 w1, w0 업데이트 수행. \n",
    "    for ind in range(iters):\n",
    "        w1_update, w0_update = get_weight_updates(w1, w0, X, y, learning_rate=0.01)\n",
    "        w1 = w1 - w1_update\n",
    "        w0 = w0 - w0_update\n",
    "              \n",
    "    return w1, w0"
   ]
  },
  {
   "cell_type": "code",
   "execution_count": 6,
   "id": "91c5126d",
   "metadata": {},
   "outputs": [
    {
     "name": "stdout",
     "output_type": "stream",
     "text": [
      "w1:4.022 w0:6.162\n",
      "Gradient Descent Total Cost:0.9935\n"
     ]
    }
   ],
   "source": [
    "w1, w0 = gradient_descent_steps(X, y, iters=1000)\n",
    "print(\"w1:{0:.3f} w0:{1:.3f}\".format(w1[0,0], w0[0,0]))\n",
    "\n",
    "y_pred = w1[0,0] * X + w0\n",
    "print('Gradient Descent Total Cost:{0:.4f}'.format(get_cost(y, y_pred)))"
   ]
  },
  {
   "cell_type": "code",
   "execution_count": 7,
   "id": "db9f0dc1",
   "metadata": {},
   "outputs": [
    {
     "data": {
      "text/plain": [
       "[<matplotlib.lines.Line2D at 0x239a65e4b48>]"
      ]
     },
     "execution_count": 7,
     "metadata": {},
     "output_type": "execute_result"
    },
    {
     "data": {
      "image/png": "[encoded data removed]",
      "text/plain": [
       "<Figure size 432x288 with 1 Axes>"
      ]
     },
     "metadata": {
      "needs_background": "light"
     },
     "output_type": "display_data"
    }
   ],
   "source": [
    "plt.scatter(X, y)\n",
    "plt.plot(X, y_pred)"
   ]
  },
  {
   "cell_type": "markdown",
   "id": "036d37a1",
   "metadata": {},
   "source": [
    "### 미니배치 확률적 경사 하강법\n",
    "- 모든 데이터에 적용하면 오래 걸리기 때문에 일부 데이터에만 적용한 경사하강법"
   ]
  },
  {
   "cell_type": "code",
   "execution_count": 8,
   "id": "e68c6724",
   "metadata": {},
   "outputs": [],
   "source": [
    "def stochastic_gradient_descent_steps(X, y, batch_size=10, iters=1000):\n",
    "    w0 = np.zeros((1,1))\n",
    "    w1 = np.zeros((1,1))\n",
    "    prev_cost = 100000\n",
    "    iter_index =0\n",
    "    \n",
    "    for ind in range(iters):\n",
    "        np.random.seed(ind)\n",
    "        \n",
    "        # 전체 X, y 데이터에서 랜덤하게 batch_size만큼 데이터 추출하여 sample_X, sample_y로 저장\n",
    "        stochastic_random_index = np.random.permutation(X.shape[0])\n",
    "        sample_X = X[stochastic_random_index[0:batch_size]]\n",
    "        sample_y = y[stochastic_random_index[0:batch_size]]\n",
    "        \n",
    "        # 랜덤하게 batch_size만큼 추출된 데이터 기반으로 w1_update, w0_update 계산 후 업데이트\n",
    "        w1_update, w0_update = get_weight_updates(w1, w0, sample_X, sample_y, learning_rate=0.01)\n",
    "        w1 = w1 - w1_update\n",
    "        w0 = w0 - w0_update\n",
    "    \n",
    "    return w1, w0"
   ]
  },
  {
   "cell_type": "code",
   "execution_count": 9,
   "id": "3412900f",
   "metadata": {},
   "outputs": [
    {
     "name": "stdout",
     "output_type": "stream",
     "text": [
      "w1: 4.028 w0: 6.156\n",
      "Stochastic Gradient Descent Total Cost:0.9935\n"
     ]
    }
   ],
   "source": [
    "w1, w0 = stochastic_gradient_descent_steps(X, y, iters=1000)\n",
    "print(\"w1:\",round(w1[0,0],3),\"w0:\",round(w0[0,0],3))\n",
    "y_pred1 = w1[0,0] * X + w0\n",
    "print('Stochastic Gradient Descent Total Cost:{0:.4f}'.format(get_cost(y, y_pred)))"
   ]
  },
  {
   "cell_type": "code",
   "execution_count": 11,
   "id": "e0116f0a",
   "metadata": {},
   "outputs": [
    {
     "data": {
      "text/plain": [
       "[<matplotlib.lines.Line2D at 0x239a687ffc8>]"
      ]
     },
     "execution_count": 11,
     "metadata": {},
     "output_type": "execute_result"
    },
    {
     "data": {
      "image/png": "[encoded data removed]",
      "text/plain": [
       "<Figure size 432x288 with 1 Axes>"
      ]
     },
     "metadata": {
      "needs_background": "light"
     },
     "output_type": "display_data"
    }
   ],
   "source": [
    "plt.scatter(X, y)\n",
    "plt.plot(X, y_pred, 'r-.')\n",
    "plt.plot(X, y_pred1, 'g:')"
   ]
  },
  {
   "cell_type": "markdown",
   "id": "d80b690c",
   "metadata": {},
   "source": [
    "## 평가 지표\n",
    "- MAE : Mean Absolute Error\n",
    "- MSE : Mean Squared Error\n",
    "- RMSE : Root MSE\n",
    "- R2\n",
    "- MAE, MSE, RMSE는 값이 작을수록 좋고 R2는 1에 가까울수록 좋음\n",
    "- sklearn의 평가 지표에서는 값이 큰 양수 우선이기 때문에, MAE, MSE는 'neg'가 붙은 음수값으로 바꾼 뒤 평가"
   ]
  },
  {
   "cell_type": "code",
   "execution_count": 12,
   "id": "26cd5f77",
   "metadata": {},
   "outputs": [
    {
     "data": {
      "text/plain": [
       "LinearRegression()"
      ]
     },
     "execution_count": 12,
     "metadata": {},
     "output_type": "execute_result"
    }
   ],
   "source": [
    "from sklearn.linear_model import LinearRegression\n",
    "\n",
    "line_fitter = LinearRegression()\n",
    "line_fitter.fit(X, y) # 학습"
   ]
  },
  {
   "cell_type": "code",
   "execution_count": 13,
   "id": "88d09642",
   "metadata": {},
   "outputs": [
    {
     "data": {
      "text/plain": [
       "array([[12.27327034]])"
      ]
     },
     "execution_count": 13,
     "metadata": {},
     "output_type": "execute_result"
    }
   ],
   "source": [
    "y_pred = line_fitter.predict(np.array([[1.5248]]))\n",
    "y_pred"
   ]
  },
  {
   "cell_type": "code",
   "execution_count": 14,
   "id": "8b542cd7",
   "metadata": {},
   "outputs": [
    {
     "data": {
      "text/plain": [
       "array([[3.96846751]])"
      ]
     },
     "execution_count": 14,
     "metadata": {},
     "output_type": "execute_result"
    }
   ],
   "source": [
    "# 회귀 계수\n",
    "line_fitter.coef_"
   ]
  },
  {
   "cell_type": "code",
   "execution_count": 15,
   "id": "47c92176",
   "metadata": {},
   "outputs": [
    {
     "data": {
      "text/plain": [
       "array([6.22215108])"
      ]
     },
     "execution_count": 15,
     "metadata": {},
     "output_type": "execute_result"
    }
   ],
   "source": [
    "# 절편\n",
    "line_fitter.intercept_"
   ]
  },
  {
   "cell_type": "code",
   "execution_count": 16,
   "id": "416be8a5",
   "metadata": {},
   "outputs": [
    {
     "data": {
      "image/png": "[encoded data removed]",
      "text/plain": [
       "<Figure size 432x288 with 1 Axes>"
      ]
     },
     "metadata": {
      "needs_background": "light"
     },
     "output_type": "display_data"
    }
   ],
   "source": [
    "plt.plot(X, y, 'o')\n",
    "plt.plot(X, line_fitter.predict(X))\n",
    "plt.show()"
   ]
  },
  {
   "cell_type": "code",
   "execution_count": 17,
   "id": "ba7d51cf",
   "metadata": {},
   "outputs": [
    {
     "name": "stdout",
     "output_type": "stream",
     "text": [
      "MAE : 0.8493\n",
      "MSE : 0.9924\n",
      "R2 : 0.8407\n"
     ]
    }
   ],
   "source": [
    "from sklearn.metrics import mean_absolute_error, mean_squared_error, r2_score\n",
    "\n",
    "y_pred = line_fitter.predict(X)\n",
    "\n",
    "MAE = mean_absolute_error(y, y_pred)\n",
    "MSE = mean_squared_error(y, y_pred)\n",
    "R2 = r2_score(y, y_pred)\n",
    "\n",
    "print(f'MAE : {MAE:.4f}')\n",
    "print(f'MSE : {MSE:.4f}')\n",
    "print(f'R2 : {R2:.4f}')"
   ]
  },
  {
   "cell_type": "code",
   "execution_count": null,
   "id": "f103e1ca",
   "metadata": {},
   "outputs": [],
   "source": []
  }
 ],
 "metadata": {
  "kernelspec": {
   "display_name": "Python Multi",
   "language": "python",
   "name": "multi"
  },
  "language_info": {
   "codemirror_mode": {
    "name": "ipython",
    "version": 3
   },
   "file_extension": ".py",
   "mimetype": "text/x-python",
   "name": "python",
   "nbconvert_exporter": "python",
   "pygments_lexer": "ipython3",
   "version": "3.7.6"
  }
 },
 "nbformat": 4,
 "nbformat_minor": 5
}
