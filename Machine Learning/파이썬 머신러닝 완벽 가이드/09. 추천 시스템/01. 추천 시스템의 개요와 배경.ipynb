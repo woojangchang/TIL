{
 "cells": [
  {
   "cell_type": "markdown",
   "id": "a385eb21",
   "metadata": {},
   "source": [
    "# 추천 시스템의 개요와 배경"
   ]
  },
  {
   "cell_type": "markdown",
   "id": "3c7f3cd7",
   "metadata": {},
   "source": [
    "## 추천 시스템의 개요\n",
    "- 하나의 콘텐츠를 선택했을 때 연관된 추천 콘텐츠가 얼마나 사용자의 관심을 끄는지가 그 사이트의 평판을 좌우\n",
    "- 사용자의 취향에 맞는 콘텐츠 추천 → 사용자의 신뢰도 상승 → 더 많은 추천 콘텐츠 이용 → 데이터 축적에 따라 추천 콘텐츠의 정확도 상승"
   ]
  },
  {
   "cell_type": "markdown",
   "id": "792bf083",
   "metadata": {},
   "source": [
    "## 온라인 스토어 필수 요소 - 추천 시스템\n",
    "- 한정된 시간 - 너무 많은 카테고리와 상품으로 인한 압박감을 추천 시스템이 타개해줌\n",
    "\n",
    "### 추천 시스템에 사용되는 데이터\n",
    "- 사용자가 어떤 상품을 구매했는가?\n",
    "- 사용자가 어떤 상품을 둘러보거나 장바구니에 넣었는가?\n",
    "- 사용자가 평가한 평점은?\n",
    "- 사용자가 스스로 작성한 자신의 취향은?\n",
    "- 사용자가 무엇을 클릭했는가?\n",
    "\n",
    "#### 추천 시스템에 의해 나올 수 있는 결과물\n",
    "- 사용자만을 위한 맞춤 상품\n",
    "- 해당 상품을 구매한 사람들이 좋아하는 다른 상품들\n",
    "- 비슷한 유형의 상품 추천"
   ]
  },
  {
   "cell_type": "markdown",
   "id": "6cc9cec7",
   "metadata": {},
   "source": [
    "## 추천 시스템 유형\n",
    "- 콘텐츠 기반 필터링(Content based filtering)\n",
    "- 협업 필터링(Collaborative Filtering)\n",
    "    - 최근접 이웃(Nearest Neighbor) 협업 필터링\n",
    "    - 잠재 요인(Latent Factor) 협업 필터링\n",
    "- 추천 시스템 초창기에는 콘텐츠 기반 필터링, 최근접 이웃 필터링이 유행\n",
    "- 넷플릭스 추천 시스템 경연 대회에서 행렬 분해(Matrix Factoriztion) 기법을 이용한 잠재 요인 협업 필터링이 우승하면서 이 방식이 널리 사용\n",
    "- 개인화 특성을 강화한 하이브리드 형식(콘텐츠 기반+협업)도 있음"
   ]
  },
  {
   "cell_type": "code",
   "execution_count": null,
   "id": "0453e637",
   "metadata": {},
   "outputs": [],
   "source": []
  }
 ],
 "metadata": {
  "kernelspec": {
   "display_name": "Python Multi",
   "language": "python",
   "name": "multi"
  },
  "language_info": {
   "codemirror_mode": {
    "name": "ipython",
    "version": 3
   },
   "file_extension": ".py",
   "mimetype": "text/x-python",
   "name": "python",
   "nbconvert_exporter": "python",
   "pygments_lexer": "ipython3",
   "version": "3.7.6"
  },
  "toc": {
   "base_numbering": 1,
   "nav_menu": {},
   "number_sections": false,
   "sideBar": true,
   "skip_h1_title": false,
   "title_cell": "Table of Contents",
   "title_sidebar": "Contents",
   "toc_cell": false,
   "toc_position": {},
   "toc_section_display": true,
   "toc_window_display": false
  }
 },
 "nbformat": 4,
 "nbformat_minor": 5
}
