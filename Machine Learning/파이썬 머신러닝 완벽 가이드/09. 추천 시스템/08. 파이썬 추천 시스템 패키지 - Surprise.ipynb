{
 "cells": [
  {
   "cell_type": "markdown",
   "id": "e0ad8a12",
   "metadata": {},
   "source": [
    "# Surprise"
   ]
  },
  {
   "cell_type": "markdown",
   "id": "1718d1ba",
   "metadata": {},
   "source": [
    "## Surprise 패키지 소개\n",
    "- [07. 행렬 분해를 이용한 잠재 요인 협업 필터링 실습.ipynb](./07.%20행렬%20분해를%20이용한%20잠재%20요인%20협업%20필터링%20실습.ipynb)은 최적화나 수행 속도 측면에서 보완이 필요함\n",
    "- Surprise : 추천 시스템 구축을 위한 전용 패키지\n",
    "- 설치 : `Anaconda Prompt` 관리자 권한으로 실행 - `conda install -c conda-forge scikit-surprise`\n",
    "    - Microsoft Visual Studio Build Tools가 설치되어 있어야 함\n",
    "\n",
    "### 장점\n",
    "- 다양한 추천 알고리즘을 가지고 있음\n",
    "    - 사용자 또는 아이템 기반 최근접 이웃 협업 필터링, SVD, SVD++, NMF 기반의 잠재 요인 협업 필터링 등\n",
    "- 사이킷런의 핵심 API와 유사한 API를 가지고 있음\n",
    "    - `fit()`, `predict()`, `train_test_split()`, `cross_validate()`, `GridSearchCV()` 등"
   ]
  },
  {
   "cell_type": "code",
   "execution_count": 1,
   "id": "a93cd34a",
   "metadata": {},
   "outputs": [
    {
     "data": {
      "text/plain": [
       "'1.1.1'"
      ]
     },
     "execution_count": 1,
     "metadata": {},
     "output_type": "execute_result"
    }
   ],
   "source": [
    "import surprise\n",
    "\n",
    "surprise.__version__"
   ]
  },
  {
   "cell_type": "markdown",
   "id": "ad182358",
   "metadata": {},
   "source": [
    "## Surprise를 이용한 추천 시스템 구축\n",
    "- [Surprise 공식 문서](https://surprise.readthedocs.io/en/stable/)"
   ]
  },
  {
   "cell_type": "code",
   "execution_count": 2,
   "id": "2879f2a8",
   "metadata": {},
   "outputs": [],
   "source": [
    "from surprise import SVD, Dataset, accuracy\n",
    "from surprise.model_selection import train_test_split"
   ]
  },
  {
   "cell_type": "code",
   "execution_count": 3,
   "id": "3ca29836",
   "metadata": {},
   "outputs": [],
   "source": [
    "data = Dataset.load_builtin('ml-100k') # 10만 개 평점 데이터, ml-1m : 100만 개 평점 데이터\n",
    "\n",
    "trainset, testset = train_test_split(data, test_size=.25, random_state=0)"
   ]
  },
  {
   "cell_type": "markdown",
   "id": "0c838ddb",
   "metadata": {},
   "source": [
    "무비렌즈에서 다운 받은 파일보다 구버전 데이터"
   ]
  },
  {
   "cell_type": "markdown",
   "id": "995baa66",
   "metadata": {},
   "source": [
    "### 주의점\n",
    "- 원본 데이터를 데이터 세트로 적용해야 함 (pivot-table 상태로 줄 필요 없이 알아서 변환해줌)"
   ]
  },
  {
   "cell_type": "markdown",
   "id": "af81916e",
   "metadata": {},
   "source": [
    "### SVD로 잠재 요인 협업 필터링"
   ]
  },
  {
   "cell_type": "code",
   "execution_count": 4,
   "id": "40341eb3",
   "metadata": {},
   "outputs": [
    {
     "data": {
      "text/plain": [
       "<surprise.prediction_algorithms.matrix_factorization.SVD at 0x2cb20fc93c8>"
      ]
     },
     "execution_count": 4,
     "metadata": {},
     "output_type": "execute_result"
    }
   ],
   "source": [
    "algo = SVD()\n",
    "algo.fit(trainset)"
   ]
  },
  {
   "cell_type": "markdown",
   "id": "208dae33",
   "metadata": {},
   "source": [
    "### 테스트 데이터 세트에 대해 추천 수행\n",
    "- `test()` : 사용자-아이템 평점 데이터 세트 전체에 대해서 추천을 예측\n",
    "- `predict()` : 개별 사용자와 영화에 대한 추천 평점 반환"
   ]
  },
  {
   "cell_type": "code",
   "execution_count": 6,
   "id": "e3463dd2",
   "metadata": {},
   "outputs": [
    {
     "name": "stdout",
     "output_type": "stream",
     "text": [
      "prediction type : <class 'list'> size : 25000\n",
      "prediction 결과의 최초 5개 추출\n"
     ]
    },
    {
     "data": {
      "text/plain": [
       "[Prediction(uid='120', iid='282', r_ui=4.0, est=3.2148091460366888, details={'was_impossible': False}),\n",
       " Prediction(uid='882', iid='291', r_ui=4.0, est=3.8942691625041586, details={'was_impossible': False}),\n",
       " Prediction(uid='535', iid='507', r_ui=5.0, est=3.882256264919378, details={'was_impossible': False}),\n",
       " Prediction(uid='697', iid='244', r_ui=5.0, est=3.4494482005099303, details={'was_impossible': False}),\n",
       " Prediction(uid='751', iid='385', r_ui=4.0, est=3.1414874760522356, details={'was_impossible': False})]"
      ]
     },
     "execution_count": 6,
     "metadata": {},
     "output_type": "execute_result"
    }
   ],
   "source": [
    "# test()\n",
    "predictions = algo.test(testset)\n",
    "print('prediction type :', type(predictions), 'size :', len(predictions))\n",
    "print('prediction 결과의 최초 5개 추출')\n",
    "predictions[:5]"
   ]
  },
  {
   "cell_type": "markdown",
   "id": "40923322",
   "metadata": {},
   "source": [
    "#### 결과 해석\n",
    "- uid : 개별 사용자 아이디\n",
    "- iid : 영화(또는 아이템) 아이디\n",
    "- r_ui : 실제 평점\n",
    "- est : 추천 예측 평점\n",
    "- details : 로그 데이터, was_impossible=True : 예측 값을 생성할 수 없음"
   ]
  },
  {
   "cell_type": "code",
   "execution_count": 7,
   "id": "093e99df",
   "metadata": {},
   "outputs": [
    {
     "data": {
      "text/plain": [
       "[('120', '282', 3.2148091460366888),\n",
       " ('882', '291', 3.8942691625041586),\n",
       " ('535', '507', 3.882256264919378)]"
      ]
     },
     "execution_count": 7,
     "metadata": {},
     "output_type": "execute_result"
    }
   ],
   "source": [
    "[ (pred.uid, pred.iid, pred.est) for pred in predictions[:3]]"
   ]
  },
  {
   "cell_type": "code",
   "execution_count": 8,
   "id": "84430f58",
   "metadata": {},
   "outputs": [
    {
     "name": "stdout",
     "output_type": "stream",
     "text": [
      "user: 196        item: 302        r_ui = None   est = 4.33   {'was_impossible': False}\n"
     ]
    }
   ],
   "source": [
    "# predict()\n",
    "# uid, iid는 string으로 입력해야함\n",
    "uid = str(196)\n",
    "iid = str(302)\n",
    "pred = algo.predict(uid, iid)\n",
    "print(pred)"
   ]
  },
  {
   "cell_type": "markdown",
   "id": "4edee3b5",
   "metadata": {},
   "source": [
    "### 성능 평가"
   ]
  },
  {
   "cell_type": "code",
   "execution_count": 9,
   "id": "cf3c7d49",
   "metadata": {},
   "outputs": [
    {
     "name": "stdout",
     "output_type": "stream",
     "text": [
      "RMSE: 0.9454\n"
     ]
    },
    {
     "data": {
      "text/plain": [
       "0.9454024667472628"
      ]
     },
     "execution_count": 9,
     "metadata": {},
     "output_type": "execute_result"
    }
   ],
   "source": [
    "accuracy.rmse(predictions)"
   ]
  },
  {
   "cell_type": "markdown",
   "id": "68b01974",
   "metadata": {},
   "source": [
    "## Surprise 주요 모듈 소개\n",
    "### Dataset\n",
    "- 첫 번째 칼럼을 사용자 아이디, 두 번째 칼럼을 아이템 아이디, 세 번째 칼럼을 평점으로 가정하고 데이터를 로딩\n",
    "- 네 번째 칼럼부터는 로딩을 아예 하지 않음\n",
    "- `Dataset.load_bulitin(name='ml-100k')` : 무비렌즈 아카이브 FTP 서버에서 데이터를 다운받음\n",
    "    - ml-100k, ml-1M\n",
    "    - .surprise_data에 저장\n",
    "    - default : ml-100k\n",
    "- `Dataset.load_from_file(file_path, reader)` : OS 파일에서 데이터 로딩\n",
    "    - ',', '\\t' 등으로 칼럼이 분리된 포맷의 파일 로딩\n",
    "    - OS 파일명, 파일의 포맷 지정\n",
    "- `Dataset.load_from_df(df, reader)` : pandas DataFrame에서 데이터 로딩\n",
    "    - 사용자 아이디, 아이템 아이디, 평점 순으로 칼럼 순서가 정해져 있어야 함\n",
    "    - DataFrame 객체, 파일 포맷 지정"
   ]
  },
  {
   "cell_type": "markdown",
   "id": "f446b9b8",
   "metadata": {},
   "source": [
    "### OS 파일 데이터를 Surprise 데이터 세트로 로딩\n",
    "- 주의점 : 헤더 문자열이 있으면 안 됨 (칼럼의 이름)"
   ]
  },
  {
   "cell_type": "code",
   "execution_count": 10,
   "id": "abe8739b",
   "metadata": {},
   "outputs": [],
   "source": [
    "import pandas as pd\n",
    "\n",
    "ratings = pd.read_csv('../data/ml-latest-small/ratings.csv')\n",
    "\n",
    "# 인덱스와 헤더를 모두 제거한 파일 생성\n",
    "ratings.to_csv('../data/ml-latest-small/ratings_noh.csv', index=False, header=False)"
   ]
  },
  {
   "cell_type": "markdown",
   "id": "5fedcff9",
   "metadata": {},
   "source": [
    "#### Reader 클래스\n",
    "- `line_format` : string, 칼럼을 순서대로 나열, 입력된 문자열을 공백으로 분리해 칼럼으로 인식\n",
    "- `sep` : char, 칼럼을 분리하는 분리자, default는 '\\t', pandas DataFrame에서 입력받을 경우에는 필요 없음\n",
    "- `rating_scale` : tuple, optional, 최소~최대 평점, 기본값은 (1, 5)"
   ]
  },
  {
   "cell_type": "code",
   "execution_count": 11,
   "id": "f3affdb7",
   "metadata": {},
   "outputs": [],
   "source": [
    "from surprise import Reader\n",
    "\n",
    "# line_format : 칼럼 구성, sep : 분리 문자, rating_scale : 최소, 최대 평점\n",
    "reader = Reader(line_format='user item rating timestamp', sep=',', rating_scale=(0.5, 5))\n",
    "data = Dataset.load_from_file('../data/ml-latest-small/ratings_noh.csv', reader=reader)"
   ]
  },
  {
   "cell_type": "code",
   "execution_count": 12,
   "id": "66d3cd7f",
   "metadata": {},
   "outputs": [
    {
     "name": "stdout",
     "output_type": "stream",
     "text": [
      "RMSE: 0.8682\n"
     ]
    },
    {
     "data": {
      "text/plain": [
       "0.8681952927143516"
      ]
     },
     "execution_count": 12,
     "metadata": {},
     "output_type": "execute_result"
    }
   ],
   "source": [
    "trainset, testset = train_test_split(data, test_size=0.25, random_state=0)\n",
    "\n",
    "algo = SVD(n_factors=50, random_state=0)\n",
    "\n",
    "algo.fit(trainset)\n",
    "predictions = algo.test(testset)\n",
    "accuracy.rmse(predictions)"
   ]
  },
  {
   "cell_type": "markdown",
   "id": "942b6dfd",
   "metadata": {},
   "source": [
    "### pandas DataFrame에서 Surprise 데이터 세트로 로딩"
   ]
  },
  {
   "cell_type": "code",
   "execution_count": 13,
   "id": "de6c68b4",
   "metadata": {},
   "outputs": [
    {
     "name": "stdout",
     "output_type": "stream",
     "text": [
      "RMSE: 0.8682\n"
     ]
    },
    {
     "data": {
      "text/plain": [
       "0.8681952927143516"
      ]
     },
     "execution_count": 13,
     "metadata": {},
     "output_type": "execute_result"
    }
   ],
   "source": [
    "import pandas as pd\n",
    "from surprise import Reader, Dataset\n",
    "\n",
    "ratings = pd.read_csv('../data/ml-latest-small/ratings.csv')\n",
    "reader = Reader(rating_scale=(0.5, 5))\n",
    "\n",
    "# 순서를 맞춰줘야함\n",
    "data = Dataset.load_from_df(ratings[['userId', 'movieId', 'rating']], reader)\n",
    "trainset, testset = train_test_split(data, test_size=0.25, random_state=0)\n",
    "\n",
    "algo = SVD(n_factors=50, random_state=0)\n",
    "algo.fit(trainset)\n",
    "predictions = algo.test(testset)\n",
    "accuracy.rmse(predictions)"
   ]
  },
  {
   "cell_type": "markdown",
   "id": "cf69e2e1",
   "metadata": {},
   "source": [
    "## Surprise 추천 알고리즘 클래스\n",
    "- `SVD` : 행렬 분해를 통한 잠재 요인 협업 필터링을 위한 SVD 알고리즘\n",
    "    - 비용 함수 : 사용자 베이스라인(Baseline) 편향성을 감안한 평점 에측에 Regularization을 적용한 것  \n",
    "        $\\min \\sum \\left( r_{ui} - \\hat r_{ui}\\right)^2 + \\lambda \\left(b_i^2 + b_u^2 + \\lVert q_i \\rVert^2 + \\lVert p_u \\rVert ^2 \\right)$  \n",
    "    - 사용자 예측 Rating $\\hat r_{ui}=\\mu+b_u+b_i+q^T_ip_u$\n",
    "- `KNNBasic` : 최근접 이웃 협업 필터링을 위한 KNN 알고리즘\n",
    "- `BaselineOnly` : 사용자 Bias와 아이템 Bias를 감안한 SGD 베이스라인 알고리즘\n",
    "- 이 외에 `SVD++`, `NMF` 등이 있음\n",
    "    - https://surprise.readthedocs.io/en/stable/prediction_algorithms_package.html\n",
    "    "
   ]
  },
  {
   "cell_type": "markdown",
   "id": "5cc921c6",
   "metadata": {},
   "source": [
    "### SVD 클래스 입력 파라미터\n",
    "- `n_factors` : 잠재 요인 K의 개수. 커질수록 정확도는 높아질 수 있으나 과적합 발생 가능성 높아짐. 기본값 100\n",
    "- `n_epochs` : SGD 수행 반복 횟수. 기본값 20\n",
    "- `biased` : 베이스라인 사용자 편향 적용 여부. 기본값 True\n",
    "- 예측 성능 벤치마크 결과 : http://surpriselib.com/\n",
    "    - SVD++ 알고리즘의 RMSE, MAE 성적이 가장 좋지만 상대적으로 시간이 너무 오래 걸린다는 단점이 있음 (시간에 비하여 탁월한 성적이 아님)\n",
    "    - SVD, k-NN Baseline이 다음으로 좋음"
   ]
  },
  {
   "cell_type": "markdown",
   "id": "412b7523",
   "metadata": {},
   "source": [
    "## 베이스라인 평점\n",
    "- 개인의 성향을 편향성 요소로써 반영하여 평점을 부과하는 것을 Baseline Rating이라고 함\n",
    "- 전체 평균 평점 + 사용자 편향 점수 + 아이템 편향 점수 공식으로 계산됨\n",
    "    - 전체 평균 평점 : 모든 사용자의 아이템에 대한 평점을 평균한 값\n",
    "    - 사용자 편향 점수 = 사용자별 아이템 평점 평균 값 - 전체 평균 평점\n",
    "    - 아이템 편향 점수 = 아이템별 평점 평균 값 - 전체 평균 평점\n",
    "- 예시) 전체 평균 평점이 3.5, 영화 A의 평균 평점이 4.2, 사용자 ㄱ의 평균 평점이 3.0일 때\n",
    "    - 3.5 + (3.0-3.5) + (4.2-3.5) = 3.5 - 0.5 + 0.7 = 3.7"
   ]
  },
  {
   "cell_type": "markdown",
   "id": "55182cca",
   "metadata": {},
   "source": [
    "## 교차 검증과 하이퍼 파라미터 튜닝"
   ]
  },
  {
   "cell_type": "markdown",
   "id": "6713ec80",
   "metadata": {},
   "source": [
    "### `cross_validate()`"
   ]
  },
  {
   "cell_type": "code",
   "execution_count": 15,
   "id": "a1c7d23e",
   "metadata": {},
   "outputs": [
    {
     "name": "stdout",
     "output_type": "stream",
     "text": [
      "Evaluating RMSE, MAE of algorithm SVD on 5 split(s).\n",
      "\n",
      "                  Fold 1  Fold 2  Fold 3  Fold 4  Fold 5  Mean    Std     \n",
      "RMSE (testset)    0.8777  0.8789  0.8781  0.8620  0.8789  0.8751  0.0066  \n",
      "MAE (testset)     0.6784  0.6706  0.6741  0.6619  0.6758  0.6722  0.0057  \n",
      "Fit time          3.62    3.63    3.65    3.62    3.62    3.63    0.01    \n",
      "Test time         0.12    0.12    0.12    0.12    0.12    0.12    0.00    \n"
     ]
    },
    {
     "data": {
      "text/plain": [
       "{'test_rmse': array([0.87766936, 0.87892256, 0.87809135, 0.86197994, 0.87887129]),\n",
       " 'test_mae': array([0.67836278, 0.67062044, 0.67414849, 0.66194324, 0.67581822]),\n",
       " 'fit_time': (3.6193807125091553,\n",
       "  3.6349902153015137,\n",
       "  3.6450116634368896,\n",
       "  3.617988109588623,\n",
       "  3.6200146675109863),\n",
       " 'test_time': (0.12092852592468262,\n",
       "  0.12003779411315918,\n",
       "  0.1199643611907959,\n",
       "  0.11902904510498047,\n",
       "  0.11897897720336914)}"
      ]
     },
     "execution_count": 15,
     "metadata": {},
     "output_type": "execute_result"
    }
   ],
   "source": [
    "from surprise.model_selection import cross_validate\n",
    "\n",
    "ratings = pd.read_csv('../data/ml-latest-small/ratings.csv')\n",
    "reader = Reader(rating_scale=(0.5, 5))\n",
    "data = Dataset.load_from_df(ratings[['userId', 'movieId', 'rating']], reader)\n",
    "\n",
    "algo = SVD(random_state=0)\n",
    "cross_validate(algo, data, measures=['RMSE', 'MAE'], cv=5, verbose=True)"
   ]
  },
  {
   "cell_type": "markdown",
   "id": "5f818895",
   "metadata": {},
   "source": [
    "### `GridSearchCV()`"
   ]
  },
  {
   "cell_type": "code",
   "execution_count": 16,
   "id": "4f9d6d7f",
   "metadata": {},
   "outputs": [
    {
     "name": "stdout",
     "output_type": "stream",
     "text": [
      "0.8766110331701152\n",
      "{'n_epochs': 20, 'n_factors': 50}\n"
     ]
    }
   ],
   "source": [
    "from surprise.model_selection import GridSearchCV\n",
    "\n",
    "# 최적화할 파라미터\n",
    "param_grid = {'n_epochs':[20, 40, 60], 'n_factors':[50, 100, 200]}\n",
    "\n",
    "# CV 폴드=3개\n",
    "gs = GridSearchCV(SVD, param_grid, measures=['rmse', 'mae'], cv=3)\n",
    "gs.fit(data)\n",
    "\n",
    "# RMSE 기준 최고 성능, 하이퍼 파라미터\n",
    "print(gs.best_score['rmse'])\n",
    "print(gs.best_params['rmse'])"
   ]
  },
  {
   "cell_type": "markdown",
   "id": "52637c3f",
   "metadata": {},
   "source": [
    "## Surprise를 이용한 개인화 영화 추천 시스템 구축"
   ]
  },
  {
   "cell_type": "code",
   "execution_count": 17,
   "id": "4efce81a",
   "metadata": {},
   "outputs": [
    {
     "ename": "AttributeError",
     "evalue": "'DatasetAutoFolds' object has no attribute 'global_mean'",
     "output_type": "error",
     "traceback": [
      "\u001b[1;31m---------------------------------------------------------------------------\u001b[0m",
      "\u001b[1;31mAttributeError\u001b[0m                            Traceback (most recent call last)",
      "\u001b[1;32m<ipython-input-17-5ff836f11343>\u001b[0m in \u001b[0;36m<module>\u001b[1;34m\u001b[0m\n\u001b[0;32m      2\u001b[0m \u001b[0mdata\u001b[0m \u001b[1;33m=\u001b[0m \u001b[0mDataset\u001b[0m\u001b[1;33m.\u001b[0m\u001b[0mload_from_df\u001b[0m\u001b[1;33m(\u001b[0m\u001b[0mratings\u001b[0m\u001b[1;33m[\u001b[0m\u001b[1;33m[\u001b[0m\u001b[1;34m'userId'\u001b[0m\u001b[1;33m,\u001b[0m \u001b[1;34m'movieId'\u001b[0m\u001b[1;33m,\u001b[0m \u001b[1;34m'rating'\u001b[0m\u001b[1;33m]\u001b[0m\u001b[1;33m]\u001b[0m\u001b[1;33m,\u001b[0m \u001b[0mreader\u001b[0m\u001b[1;33m)\u001b[0m\u001b[1;33m\u001b[0m\u001b[1;33m\u001b[0m\u001b[0m\n\u001b[0;32m      3\u001b[0m \u001b[0malgo\u001b[0m \u001b[1;33m=\u001b[0m \u001b[0mSVD\u001b[0m\u001b[1;33m(\u001b[0m\u001b[0mn_factors\u001b[0m\u001b[1;33m=\u001b[0m\u001b[1;36m50\u001b[0m\u001b[1;33m,\u001b[0m \u001b[0mrandom_state\u001b[0m\u001b[1;33m=\u001b[0m\u001b[1;36m0\u001b[0m\u001b[1;33m)\u001b[0m\u001b[1;33m\u001b[0m\u001b[1;33m\u001b[0m\u001b[0m\n\u001b[1;32m----> 4\u001b[1;33m \u001b[0malgo\u001b[0m\u001b[1;33m.\u001b[0m\u001b[0mfit\u001b[0m\u001b[1;33m(\u001b[0m\u001b[0mdata\u001b[0m\u001b[1;33m)\u001b[0m\u001b[1;33m\u001b[0m\u001b[1;33m\u001b[0m\u001b[0m\n\u001b[0m",
      "\u001b[1;32m~\\anaconda3\\envs\\multi\\lib\\site-packages\\surprise\\prediction_algorithms\\matrix_factorization.pyx\u001b[0m in \u001b[0;36msurprise.prediction_algorithms.matrix_factorization.SVD.fit\u001b[1;34m()\u001b[0m\n",
      "\u001b[1;32m~\\anaconda3\\envs\\multi\\lib\\site-packages\\surprise\\prediction_algorithms\\matrix_factorization.pyx\u001b[0m in \u001b[0;36msurprise.prediction_algorithms.matrix_factorization.SVD.sgd\u001b[1;34m()\u001b[0m\n",
      "\u001b[1;31mAttributeError\u001b[0m: 'DatasetAutoFolds' object has no attribute 'global_mean'"
     ]
    }
   ],
   "source": [
    "# train test split하지 않은 데이터 셋은 학습할 수 없음\n",
    "data = Dataset.load_from_df(ratings[['userId', 'movieId', 'rating']], reader)\n",
    "algo = SVD(n_factors=50, random_state=0)\n",
    "algo.fit(data)"
   ]
  },
  {
   "cell_type": "code",
   "execution_count": 18,
   "id": "7685916b",
   "metadata": {},
   "outputs": [],
   "source": [
    "# 전체 데이터를 학습 데이터 셋으로\n",
    "from surprise.dataset import DatasetAutoFolds\n",
    "\n",
    "reader = Reader(line_format='user item rating timestamp', sep=',', rating_scale=(0.5, 5))\n",
    "data_folds = DatasetAutoFolds(ratings_file='../data/ml-latest-small/ratings_noh.csv', reader=reader)\n",
    "\n",
    "trainset = data_folds.build_full_trainset()"
   ]
  },
  {
   "cell_type": "code",
   "execution_count": 19,
   "id": "b4703991",
   "metadata": {},
   "outputs": [
    {
     "data": {
      "text/plain": [
       "<surprise.prediction_algorithms.matrix_factorization.SVD at 0x2cb22b3f308>"
      ]
     },
     "execution_count": 19,
     "metadata": {},
     "output_type": "execute_result"
    }
   ],
   "source": [
    "algo = SVD(n_epochs=20, n_factors=50, random_state=0)\n",
    "algo.fit(trainset)"
   ]
  },
  {
   "cell_type": "markdown",
   "id": "f75de84d",
   "metadata": {},
   "source": [
    "### 특정 유저의 특정 영화 예상 평점"
   ]
  },
  {
   "cell_type": "code",
   "execution_count": 20,
   "id": "10b16189",
   "metadata": {},
   "outputs": [
    {
     "name": "stdout",
     "output_type": "stream",
     "text": [
      "사용자 아이디 9는 영화 아이디 42의 평점 없음\n",
      "    movieId                   title              genres\n",
      "38       42  Dead Presidents (1995)  Action|Crime|Drama\n"
     ]
    }
   ],
   "source": [
    "movies = pd.read_csv('../data/ml-latest-small/movies.csv')\n",
    "\n",
    "movieIds = ratings[ratings['userId']==9]['movieId']\n",
    "if movieIds[movieIds==42].count()==0:\n",
    "    print('사용자 아이디 9는 영화 아이디 42의 평점 없음')\n",
    "\n",
    "print(movies[movies['movieId']==42])"
   ]
  },
  {
   "cell_type": "code",
   "execution_count": 21,
   "id": "c36f8e9a",
   "metadata": {},
   "outputs": [
    {
     "name": "stdout",
     "output_type": "stream",
     "text": [
      "user: 9          item: 42         r_ui = None   est = 3.13   {'was_impossible': False}\n"
     ]
    }
   ],
   "source": [
    "uid = str(9)\n",
    "iid = str(42)\n",
    "\n",
    "pred = algo.predict(uid, iid, verbose=True)"
   ]
  },
  {
   "cell_type": "markdown",
   "id": "3f33d1cb",
   "metadata": {},
   "source": [
    "### 특정 유저의 전체 영화 예상 평점"
   ]
  },
  {
   "cell_type": "code",
   "execution_count": 22,
   "id": "9e818ea4",
   "metadata": {},
   "outputs": [
    {
     "name": "stdout",
     "output_type": "stream",
     "text": [
      "평점 매긴 영화 수 : 46 추천 대상 영화 수 : 9696 전체 영화 수 : 9742\n"
     ]
    }
   ],
   "source": [
    "# 보지 않은 영화 id 리스트\n",
    "def get_unseen_surprise(ratings, movies, userId):\n",
    "    # userId에 해당하는 사용자가 평점을 매긴 모든 영화 리스트\n",
    "    seen_movies = ratings[ratings['userId']==userId]['movieId'].tolist()\n",
    "    \n",
    "    # 모든 영화 id 리스트\n",
    "    total_movies = movies['movieId'].tolist()\n",
    "    \n",
    "    # 모든 영화 중 본 영화 제외\n",
    "    unseen_movies = [movie for movie in total_movies if movie not in seen_movies]\n",
    "    print('평점 매긴 영화 수 :', len(seen_movies), '추천 대상 영화 수 :', len(unseen_movies), '전체 영화 수 :', len(total_movies))\n",
    "    \n",
    "    return unseen_movies\n",
    "\n",
    "unseen_movies = get_unseen_surprise(ratings, movies, 9)"
   ]
  },
  {
   "cell_type": "code",
   "execution_count": 25,
   "id": "cac10e76",
   "metadata": {},
   "outputs": [],
   "source": [
    "def recomm_movie_by_surprise(algo, userId, unseen_movies, top_n=10):\n",
    "    \n",
    "    # predict를 반복 수행\n",
    "    predictions = [algo.predict(str(userId), str(movieId)) for movieId in unseen_movies]\n",
    "    \n",
    "    # [Prediction(uid='9', iid='1', est=3.69), ...]의 리스트\n",
    "    # 이를 est 값으로 정렬하기 위해 새로운 함수 정의\n",
    "    def sortkey_est(pred):\n",
    "        return pred.est\n",
    "    \n",
    "    # est 기준으로 내림차순 정렬\n",
    "    predictions.sort(key=sortkey_est, reverse=True)\n",
    "    top_predictions = predictions[:top_n]\n",
    "    \n",
    "    # 영화의 정보, 아이디, 추천 예상 평점, 제목 추출\n",
    "    top_movie_ids = [int(pred.iid) for pred in top_predictions]\n",
    "    top_movie_rating = [pred.est for pred in top_predictions]\n",
    "    top_movie_titles = movies[movies.movieId.isin(top_movie_ids)]['title']\n",
    "    \n",
    "    top_movie_preds = [ (id, title, rating) for id, title, rating in\n",
    "                      zip(top_movie_ids, top_movie_titles, top_movie_rating)]\n",
    "    \n",
    "    return top_movie_preds"
   ]
  },
  {
   "cell_type": "code",
   "execution_count": 26,
   "id": "96fd31f1",
   "metadata": {},
   "outputs": [],
   "source": [
    "top_movie_preds = recomm_movie_by_surprise(algo, 9, unseen_movies, top_n=10)"
   ]
  },
  {
   "cell_type": "code",
   "execution_count": 27,
   "id": "fa882f16",
   "metadata": {},
   "outputs": [
    {
     "name": "stdout",
     "output_type": "stream",
     "text": [
      "##### Top-10 추천 영화 리스트 #####\n",
      "Usual Suspects, The (1995) : 4.306302135700814\n",
      "Star Wars: Episode IV - A New Hope (1977) : 4.281663842987387\n",
      "Pulp Fiction (1994) : 4.278152632122759\n",
      "Silence of the Lambs, The (1991) : 4.226073566460876\n",
      "Godfather, The (1972) : 4.1918097904381995\n",
      "Streetcar Named Desire, A (1951) : 4.154746591122658\n",
      "Star Wars: Episode V - The Empire Strikes Back (1980) : 4.122016128534504\n",
      "Star Wars: Episode VI - Return of the Jedi (1983) : 4.108009609093436\n",
      "Goodfellas (1990) : 4.083464936588478\n",
      "Glory (1989) : 4.07887165526957\n"
     ]
    }
   ],
   "source": [
    "print('##### Top-10 추천 영화 리스트 #####')\n",
    "for top_movie in top_movie_preds:\n",
    "    print(top_movie[1], ':', top_movie[2])"
   ]
  },
  {
   "cell_type": "code",
   "execution_count": null,
   "id": "cfae4937",
   "metadata": {},
   "outputs": [],
   "source": []
  }
 ],
 "metadata": {
  "kernelspec": {
   "display_name": "Python Multi",
   "language": "python",
   "name": "multi"
  },
  "language_info": {
   "codemirror_mode": {
    "name": "ipython",
    "version": 3
   },
   "file_extension": ".py",
   "mimetype": "text/x-python",
   "name": "python",
   "nbconvert_exporter": "python",
   "pygments_lexer": "ipython3",
   "version": "3.7.6"
  },
  "toc": {
   "base_numbering": 1,
   "nav_menu": {},
   "number_sections": false,
   "sideBar": true,
   "skip_h1_title": false,
   "title_cell": "Table of Contents",
   "title_sidebar": "Contents",
   "toc_cell": false,
   "toc_position": {},
   "toc_section_display": true,
   "toc_window_display": false
  }
 },
 "nbformat": 4,
 "nbformat_minor": 5
}
