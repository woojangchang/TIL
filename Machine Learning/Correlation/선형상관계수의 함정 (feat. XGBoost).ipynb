{
 "cells": [
  {
   "cell_type": "markdown",
   "id": "a9a8453d",
   "metadata": {},
   "source": [
    "# 선형상관계수의 함정\n",
    "- 선형 상관 관계가 낮다고 해서 해당 피처가 모델 예측에 영향을 적게 준다고 할 수 없다.\n",
    "- XGBoost가 만능은 아니다. (Linear Regression보다 성능이 떨어질 때도 있다.)"
   ]
  },
  {
   "cell_type": "markdown",
   "id": "12c2d165",
   "metadata": {},
   "source": [
    "## 데이터 생성\n",
    "- 100개 피처, 1000개 샘플, 5개 중요 피처의 회귀 데이터 생성\n",
    "- 모델 생성 결과 -> 7, 1, 25, 40, 38번 피처가 중요"
   ]
  },
  {
   "cell_type": "code",
   "execution_count": 1,
   "id": "8da838de",
   "metadata": {
    "ExecuteTime": {
     "end_time": "2023-05-17T05:45:04.382863Z",
     "start_time": "2023-05-17T05:45:03.316483Z"
    }
   },
   "outputs": [
    {
     "data": {
      "text/plain": [
       "7     71.389236\n",
       "1     59.191261\n",
       "25    53.331269\n",
       "40    37.594780\n",
       "38     3.364070\n",
       "80     0.080267\n",
       "36     0.073577\n",
       "12     0.069053\n",
       "23     0.066007\n",
       "44     0.059059\n",
       "dtype: float64"
      ]
     },
     "execution_count": 1,
     "metadata": {},
     "output_type": "execute_result"
    }
   ],
   "source": [
    "from sklearn.datasets import make_regression\n",
    "\n",
    "seed = 1\n",
    "\n",
    "X, y = make_regression(n_samples=1000, n_features=100, random_state=seed, n_informative=5, noise=1)\n",
    "\n",
    "from sklearn.linear_model import LinearRegression\n",
    "from sklearn.metrics import mean_absolute_error\n",
    "import pandas as pd\n",
    "\n",
    "lr = LinearRegression()\n",
    "lr.fit(X, y)\n",
    "coef = pd.Series(lr.coef_)\n",
    "coef.abs().sort_values(ascending=False).head(10)"
   ]
  },
  {
   "cell_type": "code",
   "execution_count": 2,
   "id": "3fe501f9",
   "metadata": {
    "ExecuteTime": {
     "end_time": "2023-05-17T05:45:04.397859Z",
     "start_time": "2023-05-17T05:45:04.384858Z"
    }
   },
   "outputs": [
    {
     "data": {
      "text/plain": [
       "7     70.289678\n",
       "1     58.059438\n",
       "25    52.219298\n",
       "40    36.433725\n",
       "38     2.340127\n",
       "73     0.000000\n",
       "72     0.000000\n",
       "71     0.000000\n",
       "70     0.000000\n",
       "69     0.000000\n",
       "dtype: float64"
      ]
     },
     "execution_count": 2,
     "metadata": {},
     "output_type": "execute_result"
    }
   ],
   "source": [
    "from sklearn.linear_model import Lasso\n",
    "\n",
    "lr = Lasso()\n",
    "lr.fit(X, y)\n",
    "pd.Series(lr.coef_).abs().sort_values(ascending=False).head(10)"
   ]
  },
  {
   "cell_type": "markdown",
   "id": "04d80fa4",
   "metadata": {},
   "source": [
    "## 선형 상관 계수 확인\n",
    "- 7, 1, 25, 40, 38이 중요도가 높지만 상관 계수는 7, 1, 25, 40, 77이 나옴\n",
    "    - 38번 피처가 상관 관계가 낮게 나옴"
   ]
  },
  {
   "cell_type": "code",
   "execution_count": 3,
   "id": "25942219",
   "metadata": {
    "ExecuteTime": {
     "end_time": "2023-05-17T05:45:05.105183Z",
     "start_time": "2023-05-17T05:45:04.399859Z"
    }
   },
   "outputs": [
    {
     "data": {
      "text/plain": [
       "y     1.000000\n",
       "7     0.619634\n",
       "1     0.501967\n",
       "25    0.454816\n",
       "40    0.282569\n",
       "77    0.113721\n",
       "39    0.084726\n",
       "0     0.082017\n",
       "59    0.079138\n",
       "13    0.076281\n",
       "Name: y, dtype: float64"
      ]
     },
     "execution_count": 3,
     "metadata": {},
     "output_type": "execute_result"
    }
   ],
   "source": [
    "import numpy as np\n",
    "import seaborn as sns\n",
    "import matplotlib.pyplot as plt\n",
    "import pandas as pd\n",
    "\n",
    "df = pd.DataFrame(X)\n",
    "df['y'] = y\n",
    "\n",
    "corr = df.corr()\n",
    "\n",
    "corr['y'].abs().sort_values(ascending=False).head(10)"
   ]
  },
  {
   "cell_type": "code",
   "execution_count": 4,
   "id": "830b518f",
   "metadata": {
    "ExecuteTime": {
     "end_time": "2023-05-17T05:45:05.120181Z",
     "start_time": "2023-05-17T05:45:05.106181Z"
    }
   },
   "outputs": [
    {
     "data": {
      "text/plain": [
       "7     0.619634\n",
       "1     0.501967\n",
       "25    0.454816\n",
       "40    0.282569\n",
       "38    0.018636\n",
       "80    0.017778\n",
       "36   -0.026675\n",
       "12   -0.014458\n",
       "23   -0.037519\n",
       "44    0.031747\n",
       "Name: y, dtype: float64"
      ]
     },
     "execution_count": 4,
     "metadata": {},
     "output_type": "execute_result"
    }
   ],
   "source": [
    "corr.loc[coef.abs().sort_values(ascending=False).head(10).index, 'y']"
   ]
  },
  {
   "cell_type": "markdown",
   "id": "475225c5",
   "metadata": {},
   "source": [
    "## LinearRegression"
   ]
  },
  {
   "cell_type": "code",
   "execution_count": 5,
   "id": "de27a30b",
   "metadata": {
    "ExecuteTime": {
     "end_time": "2023-05-17T05:45:05.135229Z",
     "start_time": "2023-05-17T05:45:05.121181Z"
    }
   },
   "outputs": [],
   "source": [
    "from sklearn.model_selection import train_test_split\n",
    "\n",
    "X_train, X_test, y_train, y_test = train_test_split(X, y, test_size=0.2, random_state=seed)"
   ]
  },
  {
   "cell_type": "code",
   "execution_count": 6,
   "id": "d91782ce",
   "metadata": {
    "ExecuteTime": {
     "end_time": "2023-05-17T05:45:05.165183Z",
     "start_time": "2023-05-17T05:45:05.136227Z"
    }
   },
   "outputs": [],
   "source": [
    "lr_ = LinearRegression().fit(X_train, y_train)"
   ]
  },
  {
   "cell_type": "code",
   "execution_count": 7,
   "id": "ac249710",
   "metadata": {
    "ExecuteTime": {
     "end_time": "2023-05-17T05:45:05.180183Z",
     "start_time": "2023-05-17T05:45:05.166184Z"
    }
   },
   "outputs": [],
   "source": [
    "import numpy as np\n",
    "import pandas as pd\n",
    "from sklearn.metrics import mean_squared_error, mean_absolute_error, mean_absolute_percentage_error, accuracy_score, precision_score, recall_score, f1_score\n",
    "\n",
    "\n",
    "def evaluate_model(y_real, y_pred, tolerance=0.05):\n",
    "    if isinstance(y_pred, pd.Series):\n",
    "        y_real = y_real.values\n",
    "    # check if regression or classification\n",
    "    if isinstance(y_pred[0], (int, np.integer)):\n",
    "        is_classification = True\n",
    "    else:\n",
    "        is_classification = False\n",
    "\n",
    "    # calculate metrics based on type\n",
    "    if is_classification:\n",
    "        accuracy = accuracy_score(y_real, y_pred)\n",
    "        precision = precision_score(y_real, y_pred, average='macro')\n",
    "        recall = recall_score(y_real, y_pred, average='macro')\n",
    "        f1 = f1_score(y_real, y_pred, average='macro')\n",
    "        metrics = {\n",
    "            'accuracy': accuracy,\n",
    "            'precision': precision,\n",
    "            'recall': recall,\n",
    "            'f1': f1\n",
    "        }\n",
    "    else:\n",
    "        rmse = mean_squared_error(y_real, y_pred, squared=False)\n",
    "        mae = mean_absolute_error(y_real, y_pred)\n",
    "        mape = mean_absolute_percentage_error(y_real, y_pred)\n",
    "        if tolerance is not None:\n",
    "            accuracy = np.sum(np.where(abs(y_real-y_pred) < tolerance, 1, 0)) / len(y_real)\n",
    "            metrics = {\n",
    "                'rmse': rmse,\n",
    "                'mae': mae,\n",
    "                'mape':mape,\n",
    "                'accuracy':accuracy\n",
    "            }\n",
    "        else:\n",
    "            metrics = {\n",
    "                'rmse': rmse,\n",
    "                'mae': mae,\n",
    "                'mape':mape\n",
    "            }\n",
    "\n",
    "    # create and return pandas DataFrame\n",
    "    metrics_df = pd.DataFrame.from_dict(metrics, orient='index', columns=['value'])\n",
    "    return metrics_df"
   ]
  },
  {
   "cell_type": "code",
   "execution_count": 8,
   "id": "81cb72a6",
   "metadata": {
    "ExecuteTime": {
     "end_time": "2023-05-17T05:45:05.195182Z",
     "start_time": "2023-05-17T05:45:05.181185Z"
    }
   },
   "outputs": [
    {
     "data": {
      "text/html": [
       "<div>\n",
       "<style scoped>\n",
       "    .dataframe tbody tr th:only-of-type {\n",
       "        vertical-align: middle;\n",
       "    }\n",
       "\n",
       "    .dataframe tbody tr th {\n",
       "        vertical-align: top;\n",
       "    }\n",
       "\n",
       "    .dataframe thead th {\n",
       "        text-align: right;\n",
       "    }\n",
       "</style>\n",
       "<table border=\"1\" class=\"dataframe\">\n",
       "  <thead>\n",
       "    <tr style=\"text-align: right;\">\n",
       "      <th></th>\n",
       "      <th>value</th>\n",
       "    </tr>\n",
       "  </thead>\n",
       "  <tbody>\n",
       "    <tr>\n",
       "      <th>rmse</th>\n",
       "      <td>1.041445</td>\n",
       "    </tr>\n",
       "    <tr>\n",
       "      <th>mae</th>\n",
       "      <td>0.828630</td>\n",
       "    </tr>\n",
       "    <tr>\n",
       "      <th>mape</th>\n",
       "      <td>0.069210</td>\n",
       "    </tr>\n",
       "  </tbody>\n",
       "</table>\n",
       "</div>"
      ],
      "text/plain": [
       "         value\n",
       "rmse  1.041445\n",
       "mae   0.828630\n",
       "mape  0.069210"
      ]
     },
     "execution_count": 8,
     "metadata": {},
     "output_type": "execute_result"
    }
   ],
   "source": [
    "evaluate_model(y_test, lr_.predict(X_test), tolerance=None)"
   ]
  },
  {
   "cell_type": "markdown",
   "id": "4bc1a363",
   "metadata": {},
   "source": [
    "## XGBoost"
   ]
  },
  {
   "cell_type": "code",
   "execution_count": 9,
   "id": "9a280b29",
   "metadata": {
    "ExecuteTime": {
     "end_time": "2023-05-17T05:45:05.949762Z",
     "start_time": "2023-05-17T05:45:05.197181Z"
    }
   },
   "outputs": [
    {
     "data": {
      "text/html": [
       "<div>\n",
       "<style scoped>\n",
       "    .dataframe tbody tr th:only-of-type {\n",
       "        vertical-align: middle;\n",
       "    }\n",
       "\n",
       "    .dataframe tbody tr th {\n",
       "        vertical-align: top;\n",
       "    }\n",
       "\n",
       "    .dataframe thead th {\n",
       "        text-align: right;\n",
       "    }\n",
       "</style>\n",
       "<table border=\"1\" class=\"dataframe\">\n",
       "  <thead>\n",
       "    <tr style=\"text-align: right;\">\n",
       "      <th></th>\n",
       "      <th>value</th>\n",
       "    </tr>\n",
       "  </thead>\n",
       "  <tbody>\n",
       "    <tr>\n",
       "      <th>rmse</th>\n",
       "      <td>30.921693</td>\n",
       "    </tr>\n",
       "    <tr>\n",
       "      <th>mae</th>\n",
       "      <td>23.456919</td>\n",
       "    </tr>\n",
       "    <tr>\n",
       "      <th>mape</th>\n",
       "      <td>2.147010</td>\n",
       "    </tr>\n",
       "  </tbody>\n",
       "</table>\n",
       "</div>"
      ],
      "text/plain": [
       "          value\n",
       "rmse  30.921693\n",
       "mae   23.456919\n",
       "mape   2.147010"
      ]
     },
     "execution_count": 9,
     "metadata": {},
     "output_type": "execute_result"
    }
   ],
   "source": [
    "from xgboost import XGBRegressor\n",
    "\n",
    "xgb = XGBRegressor().fit(X_train, y_train)\n",
    "\n",
    "evaluate_model(y_test, xgb.predict(X_test), tolerance=None)"
   ]
  },
  {
   "cell_type": "code",
   "execution_count": 10,
   "id": "76dcc8ad",
   "metadata": {
    "ExecuteTime": {
     "end_time": "2023-05-17T05:45:06.622470Z",
     "start_time": "2023-05-17T05:45:05.951292Z"
    }
   },
   "outputs": [
    {
     "data": {
      "text/plain": [
       "7     51.620799\n",
       "1     43.064514\n",
       "25    39.519991\n",
       "40    17.613404\n",
       "26     0.330367\n",
       "92     0.238676\n",
       "24     0.165128\n",
       "0      0.149194\n",
       "27     0.128085\n",
       "64     0.106856\n",
       "4      0.099855\n",
       "96     0.094412\n",
       "21     0.087440\n",
       "34     0.083394\n",
       "41     0.073344\n",
       "94     0.063999\n",
       "2      0.060210\n",
       "38     0.055103\n",
       "3      0.054310\n",
       "32     0.053940\n",
       "dtype: float64"
      ]
     },
     "execution_count": 10,
     "metadata": {},
     "output_type": "execute_result"
    }
   ],
   "source": [
    "from sklearn.inspection import permutation_importance\n",
    "\n",
    "r = permutation_importance(xgb, X_test, y_test, scoring='neg_mean_absolute_error')\n",
    "feature_importance = pd.Series(r['importances_mean'])\n",
    "feature_importance.sort_values(ascending=False).head(20)"
   ]
  },
  {
   "cell_type": "code",
   "execution_count": 11,
   "id": "481bb62d",
   "metadata": {
    "ExecuteTime": {
     "end_time": "2023-05-17T05:45:06.637498Z",
     "start_time": "2023-05-17T05:45:06.624353Z"
    }
   },
   "outputs": [
    {
     "data": {
      "text/html": [
       "<div>\n",
       "<style scoped>\n",
       "    .dataframe tbody tr th:only-of-type {\n",
       "        vertical-align: middle;\n",
       "    }\n",
       "\n",
       "    .dataframe tbody tr th {\n",
       "        vertical-align: top;\n",
       "    }\n",
       "\n",
       "    .dataframe thead th {\n",
       "        text-align: right;\n",
       "    }\n",
       "</style>\n",
       "<table border=\"1\" class=\"dataframe\">\n",
       "  <thead>\n",
       "    <tr style=\"text-align: right;\">\n",
       "      <th></th>\n",
       "      <th>mean</th>\n",
       "      <th>std</th>\n",
       "    </tr>\n",
       "  </thead>\n",
       "  <tbody>\n",
       "    <tr>\n",
       "      <th>0</th>\n",
       "      <td>0.149194</td>\n",
       "      <td>0.065956</td>\n",
       "    </tr>\n",
       "    <tr>\n",
       "      <th>1</th>\n",
       "      <td>43.064514</td>\n",
       "      <td>1.032178</td>\n",
       "    </tr>\n",
       "    <tr>\n",
       "      <th>2</th>\n",
       "      <td>0.060210</td>\n",
       "      <td>0.032951</td>\n",
       "    </tr>\n",
       "    <tr>\n",
       "      <th>3</th>\n",
       "      <td>0.054310</td>\n",
       "      <td>0.094158</td>\n",
       "    </tr>\n",
       "    <tr>\n",
       "      <th>4</th>\n",
       "      <td>0.099855</td>\n",
       "      <td>0.059469</td>\n",
       "    </tr>\n",
       "    <tr>\n",
       "      <th>...</th>\n",
       "      <td>...</td>\n",
       "      <td>...</td>\n",
       "    </tr>\n",
       "    <tr>\n",
       "      <th>95</th>\n",
       "      <td>-0.090190</td>\n",
       "      <td>0.015596</td>\n",
       "    </tr>\n",
       "    <tr>\n",
       "      <th>96</th>\n",
       "      <td>0.094412</td>\n",
       "      <td>0.031956</td>\n",
       "    </tr>\n",
       "    <tr>\n",
       "      <th>97</th>\n",
       "      <td>0.014474</td>\n",
       "      <td>0.068817</td>\n",
       "    </tr>\n",
       "    <tr>\n",
       "      <th>98</th>\n",
       "      <td>0.002933</td>\n",
       "      <td>0.046068</td>\n",
       "    </tr>\n",
       "    <tr>\n",
       "      <th>99</th>\n",
       "      <td>-0.016124</td>\n",
       "      <td>0.011690</td>\n",
       "    </tr>\n",
       "  </tbody>\n",
       "</table>\n",
       "<p>100 rows × 2 columns</p>\n",
       "</div>"
      ],
      "text/plain": [
       "         mean       std\n",
       "0    0.149194  0.065956\n",
       "1   43.064514  1.032178\n",
       "2    0.060210  0.032951\n",
       "3    0.054310  0.094158\n",
       "4    0.099855  0.059469\n",
       "..        ...       ...\n",
       "95  -0.090190  0.015596\n",
       "96   0.094412  0.031956\n",
       "97   0.014474  0.068817\n",
       "98   0.002933  0.046068\n",
       "99  -0.016124  0.011690\n",
       "\n",
       "[100 rows x 2 columns]"
      ]
     },
     "execution_count": 11,
     "metadata": {},
     "output_type": "execute_result"
    }
   ],
   "source": [
    "pd.DataFrame([r['importances_mean'], r['importances_std']], index=['mean', 'std']).T"
   ]
  },
  {
   "cell_type": "markdown",
   "id": "85f42df7",
   "metadata": {},
   "source": [
    "### 상위 피처 선택\n",
    "- 피처 중요도 기준 상위 20개\n",
    "- 상관 계수 기준 상위 20개"
   ]
  },
  {
   "cell_type": "code",
   "execution_count": 12,
   "id": "d111adb5",
   "metadata": {
    "ExecuteTime": {
     "end_time": "2023-05-17T05:45:06.743628Z",
     "start_time": "2023-05-17T05:45:06.638433Z"
    }
   },
   "outputs": [
    {
     "data": {
      "text/html": [
       "<div>\n",
       "<style scoped>\n",
       "    .dataframe tbody tr th:only-of-type {\n",
       "        vertical-align: middle;\n",
       "    }\n",
       "\n",
       "    .dataframe tbody tr th {\n",
       "        vertical-align: top;\n",
       "    }\n",
       "\n",
       "    .dataframe thead th {\n",
       "        text-align: right;\n",
       "    }\n",
       "</style>\n",
       "<table border=\"1\" class=\"dataframe\">\n",
       "  <thead>\n",
       "    <tr style=\"text-align: right;\">\n",
       "      <th></th>\n",
       "      <th>value</th>\n",
       "    </tr>\n",
       "  </thead>\n",
       "  <tbody>\n",
       "    <tr>\n",
       "      <th>rmse</th>\n",
       "      <td>27.327854</td>\n",
       "    </tr>\n",
       "    <tr>\n",
       "      <th>mae</th>\n",
       "      <td>20.321854</td>\n",
       "    </tr>\n",
       "    <tr>\n",
       "      <th>mape</th>\n",
       "      <td>2.220380</td>\n",
       "    </tr>\n",
       "  </tbody>\n",
       "</table>\n",
       "</div>"
      ],
      "text/plain": [
       "          value\n",
       "rmse  27.327854\n",
       "mae   20.321854\n",
       "mape   2.220380"
      ]
     },
     "execution_count": 12,
     "metadata": {},
     "output_type": "execute_result"
    }
   ],
   "source": [
    "high_features = feature_importance.sort_values(ascending=False).head(20).index.to_list()\n",
    "\n",
    "xgb = XGBRegressor().fit(X_train[:, high_features], y_train)\n",
    "\n",
    "evaluate_model(y_test, xgb.predict(X_test[:, high_features]), tolerance=None)"
   ]
  },
  {
   "cell_type": "code",
   "execution_count": 13,
   "id": "fdbc3638",
   "metadata": {
    "ExecuteTime": {
     "end_time": "2023-05-17T05:45:06.850952Z",
     "start_time": "2023-05-17T05:45:06.745413Z"
    }
   },
   "outputs": [
    {
     "data": {
      "text/html": [
       "<div>\n",
       "<style scoped>\n",
       "    .dataframe tbody tr th:only-of-type {\n",
       "        vertical-align: middle;\n",
       "    }\n",
       "\n",
       "    .dataframe tbody tr th {\n",
       "        vertical-align: top;\n",
       "    }\n",
       "\n",
       "    .dataframe thead th {\n",
       "        text-align: right;\n",
       "    }\n",
       "</style>\n",
       "<table border=\"1\" class=\"dataframe\">\n",
       "  <thead>\n",
       "    <tr style=\"text-align: right;\">\n",
       "      <th></th>\n",
       "      <th>value</th>\n",
       "    </tr>\n",
       "  </thead>\n",
       "  <tbody>\n",
       "    <tr>\n",
       "      <th>rmse</th>\n",
       "      <td>26.746387</td>\n",
       "    </tr>\n",
       "    <tr>\n",
       "      <th>mae</th>\n",
       "      <td>20.106369</td>\n",
       "    </tr>\n",
       "    <tr>\n",
       "      <th>mape</th>\n",
       "      <td>1.512563</td>\n",
       "    </tr>\n",
       "  </tbody>\n",
       "</table>\n",
       "</div>"
      ],
      "text/plain": [
       "          value\n",
       "rmse  26.746387\n",
       "mae   20.106369\n",
       "mape   1.512563"
      ]
     },
     "execution_count": 13,
     "metadata": {},
     "output_type": "execute_result"
    }
   ],
   "source": [
    "high_features = coef.abs().sort_values(ascending=False).head(20).index.to_list()\n",
    "\n",
    "xgb = XGBRegressor().fit(X_train[:, high_features], y_train)\n",
    "\n",
    "evaluate_model(y_test, xgb.predict(X_test[:, high_features]), tolerance=None)"
   ]
  },
  {
   "cell_type": "code",
   "execution_count": null,
   "id": "200cad89",
   "metadata": {},
   "outputs": [],
   "source": []
  }
 ],
 "metadata": {
  "kernelspec": {
   "display_name": "Python 3.9",
   "language": "python",
   "name": "py39"
  },
  "language_info": {
   "codemirror_mode": {
    "name": "ipython",
    "version": 3
   },
   "file_extension": ".py",
   "mimetype": "text/x-python",
   "name": "python",
   "nbconvert_exporter": "python",
   "pygments_lexer": "ipython3",
   "version": "3.9.12"
  },
  "toc": {
   "base_numbering": 1,
   "nav_menu": {},
   "number_sections": false,
   "sideBar": true,
   "skip_h1_title": false,
   "title_cell": "Table of Contents",
   "title_sidebar": "Contents",
   "toc_cell": false,
   "toc_position": {
    "height": "752px",
    "left": "55px",
    "top": "171px",
    "width": "212px"
   },
   "toc_section_display": true,
   "toc_window_display": false
  },
  "varInspector": {
   "cols": {
    "lenName": 16,
    "lenType": 16,
    "lenVar": 40
   },
   "kernels_config": {
    "python": {
     "delete_cmd_postfix": "",
     "delete_cmd_prefix": "del ",
     "library": "var_list.py",
     "varRefreshCmd": "print(var_dic_list())"
    },
    "r": {
     "delete_cmd_postfix": ") ",
     "delete_cmd_prefix": "rm(",
     "library": "var_list.r",
     "varRefreshCmd": "cat(var_dic_list()) "
    }
   },
   "types_to_exclude": [
    "module",
    "function",
    "builtin_function_or_method",
    "instance",
    "_Feature"
   ],
   "window_display": false
  }
 },
 "nbformat": 4,
 "nbformat_minor": 5
}
