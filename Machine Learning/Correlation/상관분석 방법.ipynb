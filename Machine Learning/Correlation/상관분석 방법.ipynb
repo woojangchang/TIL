{
 "cells": [
  {
   "cell_type": "markdown",
   "id": "34d02302",
   "metadata": {},
   "source": [
    "# 연속형 - 연속형 변수"
   ]
  },
  {
   "cell_type": "markdown",
   "id": "54f90da4",
   "metadata": {},
   "source": [
    "## 피어슨 상관 계수(Pearson Correlation Coefficient)\n",
    "- $r_{XY} = \\frac{\\sum_i^n{\\left(X_i - \\bar {X} \\right) \\left(Y_i - \\bar{Y} \\right)}} {\\sqrt{\\sum_i^n{\\left( X_i-\\bar{X} \\right) ^2}} \\sqrt{\\sum_i^n{\\left( Y_i-\\bar{Y} \\right) ^2}}}$"
   ]
  },
  {
   "cell_type": "code",
   "execution_count": 1,
   "id": "fadd5785",
   "metadata": {},
   "outputs": [],
   "source": [
    "from sklearn.datasets import make_regression\n",
    "import numpy as np\n",
    "\n",
    "X, Y = make_regression(\n",
    "    n_samples=100,\n",
    "    n_features=1,\n",
    "    n_informative=1,\n",
    "    noise=20,\n",
    "    random_state=0\n",
    ")\n",
    "\n",
    "X = X.flatten()\n",
    "Y = Y/50"
   ]
  },
  {
   "cell_type": "code",
   "execution_count": 2,
   "id": "221b6c24",
   "metadata": {},
   "outputs": [
    {
     "data": {
      "image/png": "[encoded data removed]",
      "text/plain": [
       "<Figure size 360x360 with 1 Axes>"
      ]
     },
     "metadata": {
      "needs_background": "light"
     },
     "output_type": "display_data"
    }
   ],
   "source": [
    "import matplotlib.pyplot as plt\n",
    "\n",
    "plt.figure(figsize=(5, 5))\n",
    "plt.scatter(X,Y)\n",
    "plt.grid()\n",
    "plt.show()"
   ]
  },
  {
   "cell_type": "code",
   "execution_count": 3,
   "id": "2e994a20",
   "metadata": {},
   "outputs": [],
   "source": [
    "def PCC(X, Y):\n",
    "    X_bar, Y_bar = np.mean(X), np.mean(Y)\n",
    "    \n",
    "    p = np.sum((X-X_bar) * (Y-Y_bar)) / ( np.sqrt(np.sum((X-X_bar)**2)) * np.sqrt(np.sum((Y-Y_bar)**2)))\n",
    "    return p"
   ]
  },
  {
   "cell_type": "code",
   "execution_count": 4,
   "id": "983ae7a9",
   "metadata": {},
   "outputs": [
    {
     "data": {
      "text/plain": [
       "0.8962899802271834"
      ]
     },
     "execution_count": 4,
     "metadata": {},
     "output_type": "execute_result"
    }
   ],
   "source": [
    "PCC(X, Y)"
   ]
  },
  {
   "cell_type": "code",
   "execution_count": 5,
   "id": "ed1b1ae3",
   "metadata": {},
   "outputs": [
    {
     "data": {
      "text/plain": [
       "0.8962899802271835"
      ]
     },
     "execution_count": 5,
     "metadata": {},
     "output_type": "execute_result"
    }
   ],
   "source": [
    "from scipy.stats import pearsonr\n",
    "\n",
    "p, _ = pearsonr(X, Y)\n",
    "p"
   ]
  },
  {
   "cell_type": "markdown",
   "id": "47618d76",
   "metadata": {},
   "source": [
    "# 연속형 - 연속형(순서형) 변수"
   ]
  },
  {
   "cell_type": "markdown",
   "id": "677021c4",
   "metadata": {},
   "source": [
    "## 스피어만 상관 계수(Spearman Correlation Coefficient)\n",
    "\n",
    "- 데이터의 순위끼리의 피어슨 상관 계수\n",
    "- $\\rho = 1 - \\frac{6\\sum d_i^2}{n(n^2-1)}$\n",
    "    - $d_i$: 매칭되는 데이터의 순위 간의 차이\n",
    "    \n",
    "```python\n",
    "ranka = [1, 2, 3, 4]\n",
    "rankb = [3, 1, 2, 4]\n",
    "\n",
    "d = [2, 1, 1, 0]\n",
    "d2 = [4, 1, 1, 0]\n",
    "```"
   ]
  },
  {
   "cell_type": "code",
   "execution_count": 6,
   "id": "798051fc",
   "metadata": {},
   "outputs": [],
   "source": [
    "def SCC(X, Y):\n",
    "    from scipy.stats import rankdata\n",
    "    rankX = rankdata(X)\n",
    "    rankY = rankdata(Y)\n",
    "    \n",
    "    d2 = (rankX - rankY) ** 2\n",
    "    n = len(X)\n",
    "    \n",
    "    rho = 1 - 6 * np.sum(d2) / (n * (n**2-1))\n",
    "    return rho"
   ]
  },
  {
   "cell_type": "code",
   "execution_count": 7,
   "id": "91b9f926",
   "metadata": {},
   "outputs": [
    {
     "data": {
      "text/plain": [
       "0.8813441344134414"
      ]
     },
     "execution_count": 7,
     "metadata": {},
     "output_type": "execute_result"
    }
   ],
   "source": [
    "SCC(X, Y)"
   ]
  },
  {
   "cell_type": "code",
   "execution_count": 8,
   "id": "aac2d0a0",
   "metadata": {},
   "outputs": [
    {
     "data": {
      "text/plain": [
       "0.8813441344134413"
      ]
     },
     "execution_count": 8,
     "metadata": {},
     "output_type": "execute_result"
    }
   ],
   "source": [
    "from scipy.stats import spearmanr\n",
    "\n",
    "s, _ = spearmanr(X, Y)\n",
    "s"
   ]
  },
  {
   "cell_type": "code",
   "execution_count": 9,
   "id": "0e3dbf31",
   "metadata": {},
   "outputs": [
    {
     "data": {
      "text/plain": [
       "0.8813441344134414"
      ]
     },
     "execution_count": 9,
     "metadata": {},
     "output_type": "execute_result"
    }
   ],
   "source": [
    "# 참고 - 순위 데이터를 만든 후 피어슨 상관계수로 구할 수 있다.\n",
    "from scipy.stats import rankdata\n",
    "rankX = rankdata(X)\n",
    "rankY = rankdata(Y)\n",
    "\n",
    "p, _ = pearsonr(rankX, rankY)\n",
    "p"
   ]
  },
  {
   "cell_type": "code",
   "execution_count": 10,
   "id": "4edaf7d8",
   "metadata": {},
   "outputs": [
    {
     "data": {
      "image/png": "[encoded data removed]",
      "text/plain": [
       "<Figure size 360x360 with 1 Axes>"
      ]
     },
     "metadata": {
      "needs_background": "light"
     },
     "output_type": "display_data"
    }
   ],
   "source": [
    "scc = SCC(X, Y)\n",
    "pcc = PCC(X, Y)\n",
    "\n",
    "plt.figure(figsize=(5, 5))\n",
    "plt.scatter(X, Y)\n",
    "plt.title(f'Spearman correlation={scc:.2f}\\nPearson correlation={pcc:.2f}')\n",
    "plt.grid()\n",
    "plt.show()"
   ]
  },
  {
   "cell_type": "code",
   "execution_count": 11,
   "id": "60867d65",
   "metadata": {},
   "outputs": [
    {
     "data": {
      "image/png": "[encoded data removed]",
      "text/plain": [
       "<Figure size 360x360 with 1 Axes>"
      ]
     },
     "metadata": {
      "needs_background": "light"
     },
     "output_type": "display_data"
    }
   ],
   "source": [
    "def logit(xs):\n",
    "    return np.log(xs / (1-xs))\n",
    "\n",
    "xs = np.linspace(0.001, 0.999, 100)\n",
    "ys = logit(xs)\n",
    "\n",
    "pcc = PCC(xs, ys)\n",
    "scc = SCC(xs, ys)\n",
    "\n",
    "plt.figure(figsize=(5, 5))\n",
    "plt.scatter(xs, ys)\n",
    "plt.grid()\n",
    "plt.title(f'Spearman correlation={scc:.2f}\\nPearson correlation={pcc:.2f}')\n",
    "plt.show()"
   ]
  },
  {
   "cell_type": "code",
   "execution_count": 12,
   "id": "0fb27b46",
   "metadata": {},
   "outputs": [
    {
     "data": {
      "image/png": "[encoded data removed]",
      "text/plain": [
       "<Figure size 360x360 with 1 Axes>"
      ]
     },
     "metadata": {
      "needs_background": "light"
     },
     "output_type": "display_data"
    }
   ],
   "source": [
    "Xprime = X.copy()\n",
    "Yprime = Y.copy()\n",
    "\n",
    "Xprime = np.append(Xprime, [5.7, 5.8, 5.9, 6.0, 6.3])\n",
    "Yprime = np.append(Yprime, [0.6, 0.3, 0.5, -0.4, 0.6])\n",
    "\n",
    "pcc = PCC(Xprime, Yprime)\n",
    "scc = SCC(Xprime, Yprime)\n",
    "\n",
    "plt.figure(figsize=(5, 5))\n",
    "plt.scatter(Xprime, Yprime)\n",
    "plt.title(f'Spearman correlation={scc:.2f}\\nPearson correlation={pcc:.2f}')\n",
    "plt.grid()\n",
    "plt.show()"
   ]
  },
  {
   "cell_type": "markdown",
   "id": "20919668",
   "metadata": {},
   "source": [
    "## 켄달의 타우(Kenddall's Tau)\n",
    "- 모든 pair에 대하여 $C$(`concordant pair`)와 $D$(`disconcordant pair`)를 계산\n",
    "- $C$: 비교할 두 대상 순위의 순서가 같은 쌍의 개수\n",
    "- $D$: 비교할 두 대상 순위의 순서가 다른 쌍의 개수\n",
    "- $\\frac{C-D}{C+D}$\n",
    "- 예\n",
    "    ```python\n",
    "    # rank\n",
    "    a = [1, 2, 3]\n",
    "    b = [3, 1, 2]\n",
    "    \n",
    "    \"\"\"\n",
    "    0, 1 ==> a[0] < a[1], b[0] > b[1] ==> D += 1\n",
    "    0, 2 ==> a[0] < a[2], b[0] > b[2] ==> D += 1\n",
    "    1, 2 ==> a[1] < a[2], b[1] < b[2] ==> C += 1\n",
    "    \"\"\"\n",
    "    C, D = 1, 2\n",
    "    \n",
    "    result = (C-D) / (C+D)\n",
    "    ```\n",
    "- `scipy`에서는 `tau = (P - Q) / sqrt((P + Q + T) * (P + Q + U)) where P is the number of concordant pairs, Q the number of discordant pairs, T the number of ties only in x, and U the number of ties only in y.`라고 정의하고 있다"
   ]
  },
  {
   "cell_type": "code",
   "execution_count": 13,
   "id": "004b772b",
   "metadata": {},
   "outputs": [],
   "source": [
    "def KT(X, Y):\n",
    "    from itertools import combinations\n",
    "    \n",
    "    comb = combinations(range(len(X)), 2)\n",
    "    \n",
    "    C, D = 0, 0\n",
    "    for i, j in comb:\n",
    "        if ((X[i] > X[j]) and (Y[i] > Y[j])) or ((X[i] < X[j]) and (Y[i] < Y[j])):\n",
    "            C += 1\n",
    "        else:\n",
    "            D += 1\n",
    "    \n",
    "    return (C-D)/(C+D)"
   ]
  },
  {
   "cell_type": "code",
   "execution_count": 14,
   "id": "f92eafa1",
   "metadata": {
    "scrolled": true
   },
   "outputs": [
    {
     "data": {
      "text/plain": [
       "0.7042424242424242"
      ]
     },
     "execution_count": 14,
     "metadata": {},
     "output_type": "execute_result"
    }
   ],
   "source": [
    "KT(X, Y)"
   ]
  },
  {
   "cell_type": "code",
   "execution_count": 15,
   "id": "be876f12",
   "metadata": {},
   "outputs": [
    {
     "data": {
      "text/plain": [
       "0.7042424242424243"
      ]
     },
     "execution_count": 15,
     "metadata": {},
     "output_type": "execute_result"
    }
   ],
   "source": [
    "from scipy.stats import kendalltau\n",
    "\n",
    "tau, _ = kendalltau(X, Y)\n",
    "tau"
   ]
  },
  {
   "cell_type": "markdown",
   "id": "8b8a7afb",
   "metadata": {},
   "source": [
    "# 범주형 - 연속형 변수"
   ]
  },
  {
   "cell_type": "markdown",
   "id": "18943274",
   "metadata": {},
   "source": [
    "## 점이연 상관 계수(Point Biserial Correlation Coefficient)\n",
    "- X: 연속형 변수, Y: 범주형 변수\n",
    "- 범주형 변수가 오직 두 값만을 가진다고 가정\n",
    "- $r_{pb} = \\frac{M_1-M_0}{s_n} \\sqrt{\\frac{n_1n_0}{n^2}}$\n",
    "    - $M_i$: Y의 그룹 $i$의 평균\n",
    "    - $n_i$: Y의 그룹 $i$의 데이터 갯수\n",
    "    - $n$: 전체 데이터 갯수\n",
    "    - $s_n$: X의 표준편차\n",
    "- `scipy`에서는 $n^2$이 아닌 $n(n-1)$ 사용"
   ]
  },
  {
   "cell_type": "code",
   "execution_count": 16,
   "id": "bdda9b70",
   "metadata": {},
   "outputs": [],
   "source": [
    "def PBCC(X, Y):\n",
    "    \"\"\"\n",
    "    X: continuous variable\n",
    "    Y: binary variable\n",
    "    \"\"\"\n",
    "    X = np.array(X)\n",
    "    Y = np.array(Y)\n",
    "    \n",
    "    unique = np.sort(np.unique(Y))\n",
    "    assert len(unique)==2, \"Y must be binary variable\"\n",
    "    \n",
    "    var0 = unique[0]\n",
    "    var0_idx = np.where(Y==var0)\n",
    "    M0 = np.mean(X[var0_idx])\n",
    "    n0 = len(var0_idx)\n",
    "    \n",
    "    var1 = unique[1]\n",
    "    var1_idx = np.where(Y==var1)\n",
    "    M1 = np.mean(X[var1_idx])\n",
    "    n1 = len(var1_idx)\n",
    "    \n",
    "    sn = np.std(X)\n",
    "    \n",
    "    n = n0 + n1\n",
    "    \n",
    "    rpb = (M1-M0)/sn * np.sqrt(n1*n0 / (n)**2)\n",
    "    return rpb"
   ]
  },
  {
   "cell_type": "code",
   "execution_count": 17,
   "id": "9501a125",
   "metadata": {},
   "outputs": [
    {
     "data": {
      "text/plain": [
       "-0.5"
      ]
     },
     "execution_count": 17,
     "metadata": {},
     "output_type": "execute_result"
    }
   ],
   "source": [
    "Y = np.array([1,1,0,1,1,0,0,0])\n",
    "X = np.array([1,1,2,6,6,7,8,9])\n",
    "\n",
    "PBCC(X, Y)"
   ]
  },
  {
   "cell_type": "code",
   "execution_count": 18,
   "id": "41f41d45",
   "metadata": {},
   "outputs": [
    {
     "name": "stdout",
     "output_type": "stream",
     "text": [
      "-0.5\n"
     ]
    }
   ],
   "source": [
    "from scipy import stats\n",
    "\n",
    "pbr = stats.mstats.pointbiserialr(Y,X)\n",
    "print( pbr.correlation )"
   ]
  },
  {
   "cell_type": "code",
   "execution_count": 19,
   "id": "205be30c",
   "metadata": {},
   "outputs": [
    {
     "data": {
      "text/plain": [
       "0.875"
      ]
     },
     "execution_count": 19,
     "metadata": {},
     "output_type": "execute_result"
    }
   ],
   "source": [
    "Y = np.array([0, 0, 0, 1, 1, 1, 1])\n",
    "X = np.array([0, 1, 2, 3, 4, 5, 6])\n",
    "\n",
    "PBCC(X, Y)"
   ]
  },
  {
   "cell_type": "code",
   "execution_count": 20,
   "id": "c7f030be",
   "metadata": {},
   "outputs": [
    {
     "name": "stdout",
     "output_type": "stream",
     "text": [
      "0.8660254037844386\n"
     ]
    }
   ],
   "source": [
    "from scipy import stats\n",
    "\n",
    "pbr = stats.mstats.pointbiserialr(Y,X)\n",
    "print( pbr.correlation )"
   ]
  },
  {
   "cell_type": "markdown",
   "id": "22bc11c9",
   "metadata": {},
   "source": [
    "# 순서형 - 연속형 변수"
   ]
  },
  {
   "cell_type": "markdown",
   "id": "3751b675",
   "metadata": {},
   "source": [
    "## 이연 상관계수(Biserial Correlation Coefficient)\n",
    "- 연속 변수를 이분화한 경우 사용(age >= 50, age < 50)\n",
    "- 점이연 상관계수와 비슷한 공식, 값은 항상 이연 상관계수가 더 큼\n",
    "- $r_b = (M_1-M_0) (pq/X) / \\sigma_X$\n",
    "    - $M_i$: 그룹 $i$의 평균\n",
    "    - $p$: 그룹의 데이터 비율($q=1-p$)\n",
    "    - $X$: $P(z'>z)=p$가 되게 하는 $z$의 정규분포 값\n",
    "    - $\\sigma_X$: 표준편차"
   ]
  },
  {
   "cell_type": "code",
   "execution_count": 21,
   "id": "96ddfbca",
   "metadata": {},
   "outputs": [],
   "source": [
    "def BCC(X, Y):\n",
    "    \"\"\"\n",
    "    X: continuous variable\n",
    "    Y: binary variable\n",
    "    \"\"\"\n",
    "    X = np.array(X)\n",
    "    Y = np.array(Y)\n",
    "    \n",
    "    unique = np.sort(np.unique(Y))\n",
    "    assert len(unique)==2, \"Y must be binary variable\"\n",
    "    \n",
    "    n = len(X)\n",
    "    \n",
    "    var0 = unique[0]\n",
    "    var0_idx = np.where(Y==var0)\n",
    "    M0 = np.mean(X[var0_idx])\n",
    "    p = len(var0_idx) / n\n",
    "    \n",
    "    var1 = unique[1]\n",
    "    var1_idx = np.where(Y==var1)\n",
    "    M1 = np.mean(X[var1_idx])\n",
    "    q = 1 - p\n",
    "    \n",
    "    sigma = np.std(X)\n",
    "    \n",
    "    from scipy.stats import norm\n",
    "\n",
    "    rv = norm(0, 1)\n",
    "    z = rv.isf(p)\n",
    "    x = rv.pdf(z)\n",
    "    \n",
    "    rb = (M1-M0) * (p*q/x) / sigma\n",
    "    return rb"
   ]
  },
  {
   "cell_type": "code",
   "execution_count": 22,
   "id": "7980c6dd",
   "metadata": {},
   "outputs": [
    {
     "data": {
      "text/plain": [
       "0.9496582499380102"
      ]
     },
     "execution_count": 22,
     "metadata": {},
     "output_type": "execute_result"
    }
   ],
   "source": [
    "BCC(X, Y)"
   ]
  },
  {
   "cell_type": "markdown",
   "id": "84211f59",
   "metadata": {},
   "source": [
    "# 범주형 - 범주형 변수"
   ]
  },
  {
   "attachments": {
    "image-2.png": {
     "image/png": "[encoded data removed]"
    },
    "image.png": {
     "image/png": "[encoded data removed]"
    }
   },
   "cell_type": "markdown",
   "id": "2a784793",
   "metadata": {},
   "source": [
    "## 파이 계수(Phi Coefficient)\n",
    "![image.png](attachment:image.png)\n",
    "\n",
    "- $\\Phi = \\frac{n_{11}n_{00} - n_{10}n_{01}}{\\sqrt{n_{1\\cdot}n_{0\\cdot}n_{\\cdot 0}n_{\\cdot 1}}}$\n",
    "\n",
    "![image-2.png](attachment:image-2.png)\n",
    "\n",
    "- 머신러닝에서는 Matthews Correlation Coefficient로 사용됨\n",
    "- $\\text{MCC} = \\frac{TP \\times TN - FP \\times FN}{\\sqrt{(TP+FP)(TP+FN)(TN+FP)(TN+FN)}}$"
   ]
  },
  {
   "cell_type": "code",
   "execution_count": 23,
   "id": "fd0831f3",
   "metadata": {},
   "outputs": [],
   "source": [
    "def MCC(X, Y):\n",
    "    \"\"\"\n",
    "    X: actual\n",
    "    Y: prediction\n",
    "    \"\"\"\n",
    "    \n",
    "    X = np.array(X)\n",
    "    Y = np.array(Y)\n",
    "    \n",
    "    uniqueX = list(np.sort(np.unique(X)))\n",
    "    uniqueY = list(np.sort(np.unique(Y)))\n",
    "    assert (uniqueX == [0, 1]) and (uniqueY == [0, 1]), \"X and Y must be composed by 0 and 1\"\n",
    "    \n",
    "    import pandas as pd\n",
    "    df = pd.DataFrame({'X':X, 'Y':Y})\n",
    "    ct = pd.crosstab(index=df['X'], columns=df['Y'])\n",
    "    \n",
    "    TP = ct.loc[1, 1]\n",
    "    FN = ct.loc[1, 0]\n",
    "    FP = ct.loc[0, 1]\n",
    "    TN = ct.loc[0, 0]\n",
    "    \n",
    "    MCC = (TP*TN - FP*FN) / np.sqrt( (TP+FP)*(TP+FN)*(TN+FP)*(TN+FN) )\n",
    "    \n",
    "    return MCC"
   ]
  },
  {
   "cell_type": "code",
   "execution_count": 24,
   "id": "e6b5f1a9",
   "metadata": {},
   "outputs": [],
   "source": [
    "actual = [0,1,1,1,1,1,1,1,0,0,0,0]\n",
    "prediction = [0,0,1,1,1,1,1,1,0,0,0,1]"
   ]
  },
  {
   "cell_type": "code",
   "execution_count": 25,
   "id": "6e04d49a",
   "metadata": {},
   "outputs": [
    {
     "data": {
      "text/plain": [
       "array([[4, 1],\n",
       "       [1, 6]], dtype=int64)"
      ]
     },
     "execution_count": 25,
     "metadata": {},
     "output_type": "execute_result"
    }
   ],
   "source": [
    "from sklearn.metrics import confusion_matrix\n",
    "\n",
    "cm = confusion_matrix(actual, prediction)\n",
    "cm"
   ]
  },
  {
   "cell_type": "code",
   "execution_count": 26,
   "id": "056dfd9f",
   "metadata": {},
   "outputs": [
    {
     "data": {
      "text/plain": [
       "0.6571428571428571"
      ]
     },
     "execution_count": 26,
     "metadata": {},
     "output_type": "execute_result"
    }
   ],
   "source": [
    "MCC(actual, prediction)"
   ]
  },
  {
   "cell_type": "code",
   "execution_count": 27,
   "id": "b5d350c5",
   "metadata": {},
   "outputs": [
    {
     "data": {
      "text/plain": [
       "0.6571428571428571"
      ]
     },
     "execution_count": 27,
     "metadata": {},
     "output_type": "execute_result"
    }
   ],
   "source": [
    "from sklearn.metrics import matthews_corrcoef\n",
    "\n",
    "matthews_corrcoef(actual, prediction)"
   ]
  },
  {
   "cell_type": "markdown",
   "id": "5c211906",
   "metadata": {},
   "source": [
    "## 크래머 V(Cramer's V)\n",
    "- 2개 이상의 범주로 나누어지는 집단 간의 상관계수\n",
    "- $V = \\sqrt{\\frac{\\chi ^2}{n(q-1)}}$\n",
    "    - $\\chi ^2$: 카이제곱 공식에 의해 구함\n",
    "    - $n$: 데이터 수\n",
    "    - $q$: row 또는 column 수 중 작은 값"
   ]
  },
  {
   "cell_type": "code",
   "execution_count": 28,
   "id": "2c9d734e",
   "metadata": {},
   "outputs": [],
   "source": [
    "def CramerV(X, Y):\n",
    "    X = np.array(X)\n",
    "    Y = np.array(Y)\n",
    "    \n",
    "    uniqueX = list(np.sort(np.unique(X)))\n",
    "    uniqueY = list(np.sort(np.unique(Y)))\n",
    "    \n",
    "    import pandas as pd\n",
    "    df = pd.DataFrame({'X':X, 'Y':Y})\n",
    "    ct = pd.crosstab(index=df['X'], columns=df['Y'])\n",
    "    \n",
    "    from scipy.stats import chi2_contingency\n",
    "    \n",
    "    chi2, _, _, _ = chi2_contingency(ct)\n",
    "    \n",
    "    V = np.sqrt(chi2 / (len(X)*min(len(uniqueX), len(uniqueY))))\n",
    "    \n",
    "    return V"
   ]
  },
  {
   "cell_type": "code",
   "execution_count": 29,
   "id": "98e6248a",
   "metadata": {},
   "outputs": [
    {
     "data": {
      "text/plain": [
       "0.34345186514775167"
      ]
     },
     "execution_count": 29,
     "metadata": {},
     "output_type": "execute_result"
    }
   ],
   "source": [
    "CramerV(actual, prediction)"
   ]
  },
  {
   "cell_type": "markdown",
   "id": "10057dd7",
   "metadata": {},
   "source": [
    "## 사분상관계수(Tetrachoric Correlation)\n",
    "- 두 개의 변수가 정규 분포를 이루고 직선적 관계를 가질 때, 2개의 범주로 나누어 상관을 따질 때 사용\n",
    "- 파이 계수와 비슷하지만 정규 분포, 직선적 관계라는 가정이 필요하다는 점에서 차이가 난다.\n",
    "\n",
    "|      | y>n | y<=n |\n",
    "|:----:|:---:|:----:|\n",
    "|  **x>m** |  A  |   B  |\n",
    "| **x<=m** |  C  |   D  |\n",
    "\n",
    "\n",
    "- $r_t = \\cos \\left( \\frac{180^{\\circ} \\sqrt{AD}}{\\sqrt{AD}+\\sqrt{BC}} \\right)$"
   ]
  },
  {
   "cell_type": "code",
   "execution_count": 30,
   "id": "e9febfef",
   "metadata": {},
   "outputs": [],
   "source": [
    "def TC(X, Y, m=None, n=None):\n",
    "    X = np.array(X)\n",
    "    Y = np.array(Y)\n",
    "    \n",
    "    if m is None:\n",
    "        m = np.mean(X)\n",
    "    \n",
    "    if n is None:\n",
    "        n = np.mean(Y)\n",
    "    \n",
    "    import pandas as pd\n",
    "    df = pd.DataFrame({'X':X, 'Y':Y})\n",
    "    \n",
    "    df['XL'] = df['X'].apply(lambda x:1 if x > m else 0)\n",
    "    df['YL'] = df['Y'].apply(lambda y:1 if y > n else 0)\n",
    "    \n",
    "    ct = pd.crosstab(index=df['XL'], columns=df['YL'])\n",
    "    A = ct.loc[1, 1]\n",
    "    B = ct.loc[1, 0]\n",
    "    C = ct.loc[0, 1]\n",
    "    D = ct.loc[0, 0]\n",
    "    \n",
    "    from math import cos, pi\n",
    "    \n",
    "    rt = cos(pi * np.sqrt(A*D) / (np.sqrt(A*D)+np.sqrt(B*C)))\n",
    "    \n",
    "    return rt"
   ]
  },
  {
   "cell_type": "code",
   "execution_count": 31,
   "id": "fc0d6d95",
   "metadata": {},
   "outputs": [
    {
     "data": {
      "image/png": "[encoded data removed]",
      "text/plain": [
       "<Figure size 360x360 with 6 Axes>"
      ]
     },
     "metadata": {
      "needs_background": "light"
     },
     "output_type": "display_data"
    }
   ],
   "source": [
    "X, Y = make_regression(\n",
    "    n_samples=100,\n",
    "    n_features=1,\n",
    "    n_informative=1,\n",
    "    noise=20,\n",
    "    random_state=0\n",
    ")\n",
    "\n",
    "X = X.flatten()\n",
    "Y = Y/50\n",
    "\n",
    "import seaborn as sns\n",
    "import pandas as pd\n",
    "\n",
    "df = pd.DataFrame({'X':X, 'Y':Y})\n",
    "sns.pairplot(df)\n",
    "plt.show()"
   ]
  },
  {
   "cell_type": "code",
   "execution_count": 32,
   "id": "b3349768",
   "metadata": {},
   "outputs": [
    {
     "data": {
      "text/plain": [
       "-0.8769800464398287"
      ]
     },
     "execution_count": 32,
     "metadata": {},
     "output_type": "execute_result"
    }
   ],
   "source": [
    "TC(X, Y, m=0, n=0)"
   ]
  },
  {
   "cell_type": "code",
   "execution_count": null,
   "id": "70c35c4c",
   "metadata": {},
   "outputs": [],
   "source": []
  }
 ],
 "metadata": {
  "kernelspec": {
   "display_name": "Python 3.9",
   "language": "python",
   "name": "py39"
  },
  "language_info": {
   "codemirror_mode": {
    "name": "ipython",
    "version": 3
   },
   "file_extension": ".py",
   "mimetype": "text/x-python",
   "name": "python",
   "nbconvert_exporter": "python",
   "pygments_lexer": "ipython3",
   "version": "3.9.12"
  },
  "toc": {
   "base_numbering": 1,
   "nav_menu": {},
   "number_sections": true,
   "sideBar": true,
   "skip_h1_title": false,
   "title_cell": "Table of Contents",
   "title_sidebar": "Contents",
   "toc_cell": false,
   "toc_position": {},
   "toc_section_display": true,
   "toc_window_display": true
  },
  "varInspector": {
   "cols": {
    "lenName": 16,
    "lenType": 16,
    "lenVar": 40
   },
   "kernels_config": {
    "python": {
     "delete_cmd_postfix": "",
     "delete_cmd_prefix": "del ",
     "library": "var_list.py",
     "varRefreshCmd": "print(var_dic_list())"
    },
    "r": {
     "delete_cmd_postfix": ") ",
     "delete_cmd_prefix": "rm(",
     "library": "var_list.r",
     "varRefreshCmd": "cat(var_dic_list()) "
    }
   },
   "types_to_exclude": [
    "module",
    "function",
    "builtin_function_or_method",
    "instance",
    "_Feature"
   ],
   "window_display": false
  }
 },
 "nbformat": 4,
 "nbformat_minor": 5
}
