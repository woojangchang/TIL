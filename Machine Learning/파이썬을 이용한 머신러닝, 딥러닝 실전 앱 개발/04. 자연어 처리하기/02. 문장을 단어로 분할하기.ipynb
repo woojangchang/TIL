{
 "cells": [
  {
   "cell_type": "markdown",
   "id": "580f6c1f",
   "metadata": {},
   "source": [
    "## 형태소 분석\n",
    "- Morphological Analysis : 자연 언어의 문장을 형태소로 분할하고 품사를 판별하는 작업\n",
    "- 문법 규칙에 의한 방법과 확률적 언어 모델을 사용하는 방법이 있음"
   ]
  },
  {
   "cell_type": "markdown",
   "id": "3abad8b2",
   "metadata": {},
   "source": [
    "### 한국어 형태소 분석 라이브러리\n",
    "- KoNLPy\n",
    "    - 한나눔, 꼬꼬마, Komoran, MeCab, Okt"
   ]
  },
  {
   "cell_type": "markdown",
   "id": "613badef",
   "metadata": {},
   "source": [
    "### KoNLPy의 Okt 형태소 분석기\n",
    "- `norm=True` : 아니욬ㅋㅋㅋㅋ 등을 아니요로 바꾸는 처리\n",
    "- `stem=True` : 아니요 등을 아니다로 바꾸는 처리"
   ]
  },
  {
   "cell_type": "code",
   "execution_count": 3,
   "id": "0bac657a",
   "metadata": {},
   "outputs": [
    {
     "name": "stdout",
     "output_type": "stream",
     "text": [
      "[('아버지', 'Noun'), ('가방', 'Noun'), ('에', 'Josa'), ('들어가다', 'Verb'), ('.', 'Punctuation')]\n"
     ]
    }
   ],
   "source": [
    "from konlpy.tag import Okt\n",
    "okt = Okt()\n",
    "\n",
    "malist = okt.pos('아버지가방에들어가신다.', norm=True, stem=True)\n",
    "print(malist)"
   ]
  },
  {
   "cell_type": "markdown",
   "id": "eaf4a096",
   "metadata": {},
   "source": [
    "Kkma의 경우 품사가 NNG, JKM, VV, EPH, EFN 등으로 표시되어 쉽게 알기 어려움"
   ]
  },
  {
   "cell_type": "code",
   "execution_count": null,
   "id": "f1939027",
   "metadata": {},
   "outputs": [],
   "source": []
  }
 ],
 "metadata": {
  "kernelspec": {
   "display_name": "Python Multi",
   "language": "python",
   "name": "multi"
  },
  "language_info": {
   "codemirror_mode": {
    "name": "ipython",
    "version": 3
   },
   "file_extension": ".py",
   "mimetype": "text/x-python",
   "name": "python",
   "nbconvert_exporter": "python",
   "pygments_lexer": "ipython3",
   "version": "3.7.6"
  },
  "toc": {
   "base_numbering": 1,
   "nav_menu": {},
   "number_sections": false,
   "sideBar": true,
   "skip_h1_title": false,
   "title_cell": "Table of Contents",
   "title_sidebar": "Contents",
   "toc_cell": false,
   "toc_position": {},
   "toc_section_display": true,
   "toc_window_display": false
  }
 },
 "nbformat": 4,
 "nbformat_minor": 5
}
