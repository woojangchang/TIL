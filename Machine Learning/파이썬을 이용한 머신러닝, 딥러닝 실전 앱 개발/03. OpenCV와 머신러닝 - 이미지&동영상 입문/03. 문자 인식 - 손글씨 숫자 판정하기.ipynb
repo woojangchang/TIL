{
 "cells": [
  {
   "cell_type": "markdown",
   "id": "e324e710",
   "metadata": {},
   "source": [
    "## 데이터셋\n",
    "- 원본 : UCI Machine Learning Repository"
   ]
  },
  {
   "cell_type": "code",
   "execution_count": 1,
   "id": "83d3297e",
   "metadata": {},
   "outputs": [
    {
     "data": {
      "image/png": "[encoded data removed]",
      "text/plain": [
       "<Figure size 432x288 with 15 Axes>"
      ]
     },
     "metadata": {
      "needs_background": "light"
     },
     "output_type": "display_data"
    }
   ],
   "source": [
    "import matplotlib.pyplot as plt\n",
    "from sklearn.datasets import load_digits\n",
    "\n",
    "digits = load_digits()\n",
    "\n",
    "for i in range(15):\n",
    "    plt.subplot(3, 5, i+1)\n",
    "    plt.axis('off')\n",
    "    plt.title(str(digits.target[i]))\n",
    "    plt.imshow(digits.images[i], cmap='gray')\n",
    "\n",
    "plt.show()"
   ]
  },
  {
   "cell_type": "markdown",
   "id": "e713c3dd",
   "metadata": {},
   "source": [
    "### 이미지 형식\n",
    "- 0 : 검은색\n",
    "- 16 : 흰색"
   ]
  },
  {
   "cell_type": "code",
   "execution_count": 2,
   "id": "d0098010",
   "metadata": {},
   "outputs": [
    {
     "data": {
      "image/png": "[encoded data removed]",
      "text/plain": [
       "<Figure size 432x288 with 1 Axes>"
      ]
     },
     "metadata": {
      "needs_background": "light"
     },
     "output_type": "display_data"
    },
    {
     "name": "stdout",
     "output_type": "stream",
     "text": [
      "[[ 0.  0.  5. 13.  9.  1.  0.  0.]\n",
      " [ 0.  0. 13. 15. 10. 15.  5.  0.]\n",
      " [ 0.  3. 15.  2.  0. 11.  8.  0.]\n",
      " [ 0.  4. 12.  0.  0.  8.  8.  0.]\n",
      " [ 0.  5.  8.  0.  0.  9.  8.  0.]\n",
      " [ 0.  4. 11.  0.  1. 12.  7.  0.]\n",
      " [ 0.  2. 14.  5. 10. 12.  0.  0.]\n",
      " [ 0.  0.  6. 13. 10.  0.  0.  0.]]\n"
     ]
    }
   ],
   "source": [
    "d0 = digits.images[0]\n",
    "plt.imshow(d0, cmap='gray')\n",
    "plt.show()\n",
    "print(d0)"
   ]
  },
  {
   "cell_type": "markdown",
   "id": "086872f3",
   "metadata": {},
   "source": [
    "## 이미지 머신러닝"
   ]
  },
  {
   "cell_type": "code",
   "execution_count": 6,
   "id": "e19d130a",
   "metadata": {},
   "outputs": [
    {
     "name": "stdout",
     "output_type": "stream",
     "text": [
      "변환 전 x.shape : (1797, 8, 8)\n",
      "변환 후 x.shape : (1797, 64)\n",
      "정확도 : 0.9722222222222222\n"
     ]
    },
    {
     "name": "stderr",
     "output_type": "stream",
     "text": [
      "C:\\Users\\master\\anaconda3\\envs\\multi\\lib\\site-packages\\sklearn\\svm\\_base.py:986: ConvergenceWarning: Liblinear failed to converge, increase the number of iterations.\n",
      "  \"the number of iterations.\", ConvergenceWarning)\n"
     ]
    }
   ],
   "source": [
    "from sklearn.model_selection import train_test_split\n",
    "from sklearn.svm import LinearSVC\n",
    "from sklearn.metrics import accuracy_score\n",
    "\n",
    "x = digits.images\n",
    "y = digits.target\n",
    "print('변환 전 x.shape :', x.shape)\n",
    "x = x.reshape((-1, 64)) # 1차원 배열로 변환\n",
    "print('변환 후 x.shape :', x.shape)\n",
    "\n",
    "x_train, x_test, y_train, y_test = train_test_split(x, y, test_size=0.2)\n",
    "\n",
    "# 데이터 학습\n",
    "clf = LinearSVC()\n",
    "clf.fit(x_train, y_train)\n",
    "\n",
    "# 예측\n",
    "y_pred = clf.predict(x_test)\n",
    "print('정확도 :', accuracy_score(y_test, y_pred))"
   ]
  },
  {
   "cell_type": "markdown",
   "id": "0295153b",
   "metadata": {},
   "source": [
    "### 학습 데이터 저장"
   ]
  },
  {
   "cell_type": "code",
   "execution_count": 7,
   "id": "8cd5f0ce",
   "metadata": {},
   "outputs": [
    {
     "data": {
      "text/plain": [
       "['../models/digits.pkl']"
      ]
     },
     "execution_count": 7,
     "metadata": {},
     "output_type": "execute_result"
    }
   ],
   "source": [
    "import joblib\n",
    "joblib.dump(clf, '../models/digits.pkl')"
   ]
  },
  {
   "cell_type": "markdown",
   "id": "0ed10e6a",
   "metadata": {},
   "source": [
    "### 학습 데이터 로드"
   ]
  },
  {
   "cell_type": "code",
   "execution_count": 8,
   "id": "644d8896",
   "metadata": {},
   "outputs": [],
   "source": [
    "clf = joblib.load('../models/digits.pkl')"
   ]
  },
  {
   "cell_type": "markdown",
   "id": "bb11273d",
   "metadata": {},
   "source": [
    "## 자신이 작성한 이미지 판별"
   ]
  },
  {
   "cell_type": "code",
   "execution_count": 9,
   "id": "d61ff1e3",
   "metadata": {},
   "outputs": [],
   "source": [
    "import cv2\n",
    "import joblib\n",
    "\n",
    "def predict_digit(filename):\n",
    "    # 학습한 데이터 불러오기\n",
    "    clf = joblib.load('../models/digits.pkl')\n",
    "    \n",
    "    # 직접 그린 손글씨 이미지 불러오기\n",
    "    my_img = cv2.imread(filename)\n",
    "    \n",
    "    # 학습에 적합하게 변환\n",
    "    my_img = cv2.cvtColor(my_img, cv2.COLOR_BGR2GRAY)\n",
    "    my_img = cv2.resize(my_img, (8, 8))\n",
    "    my_img = 15 - my_img // 16 # 흑백 반전\n",
    "    \n",
    "    # 2차원에서 1차원 배열로 변환\n",
    "    my_img = my_img.reshape((-1, 64))\n",
    "    \n",
    "    # 데이터 예측\n",
    "    res = clf.predict(my_img)\n",
    "    return res[0]"
   ]
  },
  {
   "cell_type": "code",
   "execution_count": 12,
   "id": "34933fb6",
   "metadata": {},
   "outputs": [
    {
     "name": "stdout",
     "output_type": "stream",
     "text": [
      "my2.png = 2\n",
      "my4.png = 4\n"
     ]
    }
   ],
   "source": [
    "file1 = '../datasets/my2.png'\n",
    "file2 = '../datasets/my4.png'\n",
    "\n",
    "n1 = predict_digit(file1)\n",
    "print(file1[-7:], '=', n1)\n",
    "\n",
    "n2 = predict_digit(file2)\n",
    "print(file2[-7:], '=', n2)"
   ]
  },
  {
   "cell_type": "code",
   "execution_count": null,
   "id": "2cef919c",
   "metadata": {},
   "outputs": [],
   "source": []
  }
 ],
 "metadata": {
  "kernelspec": {
   "display_name": "Python Multi",
   "language": "python",
   "name": "multi"
  },
  "language_info": {
   "codemirror_mode": {
    "name": "ipython",
    "version": 3
   },
   "file_extension": ".py",
   "mimetype": "text/x-python",
   "name": "python",
   "nbconvert_exporter": "python",
   "pygments_lexer": "ipython3",
   "version": "3.7.6"
  },
  "toc": {
   "base_numbering": 1,
   "nav_menu": {},
   "number_sections": false,
   "sideBar": true,
   "skip_h1_title": false,
   "title_cell": "Table of Contents",
   "title_sidebar": "Contents",
   "toc_cell": false,
   "toc_position": {},
   "toc_section_display": true,
   "toc_window_display": false
  }
 },
 "nbformat": 4,
 "nbformat_minor": 5
}
