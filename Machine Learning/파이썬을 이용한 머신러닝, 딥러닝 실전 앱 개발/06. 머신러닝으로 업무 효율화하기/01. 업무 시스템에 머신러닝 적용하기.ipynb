{
 "cells": [
  {
   "cell_type": "markdown",
   "id": "1d5fa02a",
   "metadata": {},
   "source": [
    "## 기존의 업무 시스템\n",
    "- 사용자 ↔ 업무 프로그램 (웹 애플리케이션 등) ↔ 업무 DB ↔ 배치 프로그램 (야간 처리 등)"
   ]
  },
  {
   "cell_type": "markdown",
   "id": "81ce7325",
   "metadata": {},
   "source": [
    "## 업무 시스템에 머신러닝 도입하기"
   ]
  },
  {
   "cell_type": "markdown",
   "id": "25fa233d",
   "metadata": {},
   "source": [
    "사용자 ↔　　　　업무 프로그램 　　　　↔　　　　　업무 DB   ↔ 배치 프로그램  \n",
    "　　　　　　　　　　　↕　　　　　　　　　　　　　　　↓  \n",
    "　　　　　　판정 전용 프로그램 ← 학습된 데이터 ← 머신러닝 프로그램\n",
    "      \n",
    "- 학습된 데이터를 저장하고 읽어 들이는 방법 (판정 프로그램과 머신러닝 프로그램의 분리)\n",
    "- 판정 전용 프로그램을 웹 애플리케이션에서 사용하는 방법\n",
    "- 학습 전용 데이터로 데이터베이스(RDBMS)를 사용하는 방법"
   ]
  },
  {
   "cell_type": "code",
   "execution_count": null,
   "id": "29143b33",
   "metadata": {},
   "outputs": [],
   "source": []
  }
 ],
 "metadata": {
  "kernelspec": {
   "display_name": "tf25",
   "language": "python",
   "name": "tf25"
  },
  "language_info": {
   "codemirror_mode": {
    "name": "ipython",
    "version": 3
   },
   "file_extension": ".py",
   "mimetype": "text/x-python",
   "name": "python",
   "nbconvert_exporter": "python",
   "pygments_lexer": "ipython3",
   "version": "3.9.6"
  },
  "toc": {
   "base_numbering": 1,
   "nav_menu": {},
   "number_sections": false,
   "sideBar": true,
   "skip_h1_title": false,
   "title_cell": "Table of Contents",
   "title_sidebar": "Contents",
   "toc_cell": false,
   "toc_position": {},
   "toc_section_display": true,
   "toc_window_display": false
  }
 },
 "nbformat": 4,
 "nbformat_minor": 5
}
