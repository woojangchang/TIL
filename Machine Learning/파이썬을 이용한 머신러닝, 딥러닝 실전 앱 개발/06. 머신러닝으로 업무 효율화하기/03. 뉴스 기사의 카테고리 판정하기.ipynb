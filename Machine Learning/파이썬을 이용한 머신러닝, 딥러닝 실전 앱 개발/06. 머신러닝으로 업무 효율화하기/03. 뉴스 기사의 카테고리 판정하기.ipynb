{
 "cells": [
  {
   "cell_type": "markdown",
   "id": "59a90cde",
   "metadata": {},
   "source": [
    "## 뉴스 기사 자동 분류"
   ]
  },
  {
   "cell_type": "markdown",
   "id": "b80a9522",
   "metadata": {},
   "source": [
    "## TF-IDF\n",
    "- BoW : 문장에 어떤 단어가 어떤 빈도로 사용되는지 확인하는 방법\n",
    "- TF-IDF : 문장 전체에서 단어가 어느 정도의 중요도를 갖는지 고려\n",
    "- $\\text{TF-IDF} = tf(t, d) \\times idf(t)$\n",
    "    - tf : 문서 내부의 단어 출현 빈도\n",
    "- $idf(t) = \\log \\dfrac{|D|}{df(d, t)}$ : 모든 문서 내부의 단어 출현 빈도\n",
    "    - df : 단어 t를 포함한 문서의 수, D : 문서의 총 수"
   ]
  },
  {
   "cell_type": "markdown",
   "id": "ed5cd3c1",
   "metadata": {},
   "source": [
    "### TF-IDF 모듈 만들기\n",
    "- `tfidf.py`  \n",
    "\n",
    "```python\n",
    "from konlpy.tag import Okt\n",
    "import pickle\n",
    "import numpy as np\n",
    "\n",
    "# Okt 객체 초기화\n",
    "okt = Okt()\n",
    "\n",
    "# 전역 변수\n",
    "word_dic = {'_id': 0} # 단어 사전\n",
    "dt_dic = {} # 문장 전체에서의 단어 출현 횟수\n",
    "files = [] # 문서들을 저장할 리스트\n",
    "\n",
    "def tokenize(text):\n",
    "    ''' KoNLPy로 형태소 분석하기 '''\n",
    "    result = []\n",
    "    word_s = okt.pos(text, norm=True, stem=True)\n",
    "    for n, h in word_s:\n",
    "        if not (h in ['Noun', 'Verb', 'Adjective']):continue\n",
    "        if h == 'Punctuation' and h == 'Number': continue\n",
    "        result.append(n)\n",
    "    return result\n",
    "\n",
    "def words_to_ids(words, auto_add=True):\n",
    "    ''' 단어를 ID로 변환하기 '''\n",
    "    result = []\n",
    "    for w in words:\n",
    "        if w in word_dic:\n",
    "            result.append(word_dic[w])\n",
    "            continue\n",
    "        elif auto_add:\n",
    "            id = word_dic[w] = word_dic['_id']\n",
    "            word_dic['_id'] += 1\n",
    "            result.append(id)\n",
    "    return result\n",
    "\n",
    "def add_text(text):\n",
    "    ''' 텍스트를 ID 리스트로 변환해서 추가하기 '''\n",
    "    ids = words_to_ids(tokenize(text))\n",
    "    files.append(ids)\n",
    "\n",
    "def add_file(path):\n",
    "    ''' 텍스트 파일을 학습 전용으로 추가하기 '''\n",
    "    with open(path, 'r', encoding='utf8') as f:\n",
    "        s = f.read()\n",
    "        add_text(s)\n",
    "        \n",
    "def calc_files():\n",
    "    ''' 추가한 파일 계산하기 '''\n",
    "    global dt_dic\n",
    "    result = []\n",
    "    doc_count = len(files)\n",
    "    dt_dic = {}\n",
    "    # 단어 출현 횟수 세기\n",
    "    for words in files:\n",
    "        used_word = {}\n",
    "        data = np.zeros(word_dic['_id'])\n",
    "        for id in words:\n",
    "            data[id] += 1\n",
    "            used_word[id] = 1\n",
    "            \n",
    "        # 단어 t가 사용되고 있을 경우 dt_dic의 수를 1 더하기\n",
    "        for id in used_word:\n",
    "            if not (id in dt_dic) : dt_dic[id] = 0\n",
    "            dt_dic[id] += 1\n",
    "        \n",
    "        # 정규화하기\n",
    "        data = data / len(words)\n",
    "        result.append(data)\n",
    "        \n",
    "    # TF-IDF 계산하기\n",
    "    for i, doc in enumerate(result):\n",
    "        for id, v in enumerate(doc):\n",
    "            idf = np.log(doc_count / dt_dic[id])\n",
    "            doc[id] = min([doc[id] * idf, 1.0])\n",
    "        result[i] = doc\n",
    "    return result\n",
    "\n",
    "def save_dic(fname):\n",
    "    ''' 사전을 파일로 저장하기 '''\n",
    "    pickle.dump(\n",
    "            [word_dic, dt_dic, files],\n",
    "            open(fname, 'wb'))\n",
    "    \n",
    "def load_dic(fname):\n",
    "    ''' 사전 파일 읽어 들이기 '''\n",
    "    global word_dic, dt_dic, files\n",
    "    n = pickle.load(open(fname, 'rb'))\n",
    "    word_dic, dt_dic, files = n\n",
    "\n",
    "def calc_text(text):\n",
    "    ''' 문장을 벡터로 변환하기 '''\n",
    "    data = np.zeros(word_dic['_id'])\n",
    "    words = words_to_ids(tokenize(text), False)\n",
    "    for w in words:\n",
    "        data[w] += 1\n",
    "    data = data / len(words)\n",
    "    for id, v in enumerate(data):\n",
    "        idf = np.log(len(files) / dt_dic[id]) + 1\n",
    "        data[id] = min([data[id] * idf, 1.0])\n",
    "    return data\n",
    "\n",
    "# 모듈 테스트\n",
    "if __name__ == '__main__':\n",
    "    add_text('비')\n",
    "    add_text('오늘은 비가 내렸어요.')\n",
    "    add_text('오늘은 더웠지만 오후부터 비가 내렸다.')\n",
    "    add_text('비가 내리는 일요일이다.')\n",
    "    print(calc_files())\n",
    "    print(word_dic)\n",
    "```\n",
    "\n",
    "output  \n",
    "[array([0., 0., 0., 0., 0., 0.]), array([0.        , 0.23104906, 0.09589402, 0.        , 0.        ,  \n",
    "       0.        ]), array([0.        , 0.13862944, 0.05753641, 0.27725887, 0.27725887,  \n",
    "       0.        ]), array([0.        , 0.        , 0.09589402, 0.        , 0.        ,  \n",
    "       0.46209812])]  \n",
    "{'_id': 6, '비': 0, '오늘': 1, '내리다': 2, '덥다': 3, '오후': 4, '일요일': 5}  "
   ]
  },
  {
   "cell_type": "markdown",
   "id": "cf3916d7",
   "metadata": {},
   "source": [
    "### 텍스트 분류하기\n",
    "1. 텍스트에서 불필요한 품사 제거\n",
    "2. 사전을 기반으로 단어를 숫자로 변환\n",
    "3. 파일 내부 단어 출현 비율 계산\n",
    "4. 데이터 학습"
   ]
  },
  {
   "cell_type": "code",
   "execution_count": 2,
   "id": "1bc4e816",
   "metadata": {},
   "outputs": [
    {
     "name": "stdout",
     "output_type": "stream",
     "text": [
      "read_files= ../datasets/text/100\n",
      "read_files= ../datasets/text/101\n",
      "read_files= ../datasets/text/103\n",
      "read_files= ../datasets/text/105\n",
      "ok\n"
     ]
    }
   ],
   "source": [
    "import os, glob, pickle\n",
    "import tfidf\n",
    "\n",
    "# 변수 초기화\n",
    "y = []\n",
    "x = []\n",
    "\n",
    "# 디렉터리 내부의 파일 목록 전체에 대해 처리\n",
    "def read_files(path, label):\n",
    "    print('read_files=', path)\n",
    "    files = glob.glob(path+'/*.txt')\n",
    "    for f in files:\n",
    "        tfidf.add_file(f)\n",
    "        y.append(label)\n",
    "\n",
    "# 기사를 넣은 디렉터리 읽어 들이기\n",
    "read_files('../datasets/text/100', 0)\n",
    "read_files('../datasets/text/101', 1)\n",
    "read_files('../datasets/text/103', 2)\n",
    "read_files('../datasets/text/105', 3)\n",
    "\n",
    "# TF-IDF 벡터로 변환\n",
    "x = tfidf.calc_files()\n",
    "\n",
    "# 저장\n",
    "pickle.dump([y, x], open('../datasets/text/genre.pickle', 'wb'))\n",
    "tfidf.save_dic('../datasets/text/genre-tfidf.dic')\n",
    "print('ok')"
   ]
  },
  {
   "cell_type": "markdown",
   "id": "68a594ab",
   "metadata": {},
   "source": [
    "### TF-IDF를 나이브 베이즈로 학습시키기"
   ]
  },
  {
   "cell_type": "code",
   "execution_count": 3,
   "id": "363bc0e1",
   "metadata": {},
   "outputs": [
    {
     "name": "stdout",
     "output_type": "stream",
     "text": [
      "정답률 : 0.8328125\n",
      "              precision    recall  f1-score   support\n",
      "\n",
      "           0       0.90      0.94      0.92       156\n",
      "           1       0.85      0.66      0.75       146\n",
      "           2       0.79      0.90      0.84       179\n",
      "           3       0.81      0.81      0.81       159\n",
      "\n",
      "    accuracy                           0.83       640\n",
      "   macro avg       0.84      0.83      0.83       640\n",
      "weighted avg       0.84      0.83      0.83       640\n",
      "\n"
     ]
    }
   ],
   "source": [
    "import pickle\n",
    "from sklearn.naive_bayes import GaussianNB\n",
    "from sklearn.model_selection import train_test_split\n",
    "import sklearn.metrics as metrics\n",
    "import numpy as np\n",
    "\n",
    "# TF-IDF 데이터베이스 읽어들이기]\n",
    "data = pickle.load(open('../datasets/text/genre.pickle', 'rb'))\n",
    "y = data[0]\n",
    "x = data[1]\n",
    "\n",
    "# train, test split\n",
    "x_train, x_test, y_train, y_test = train_test_split(x, y, test_size=0.2)\n",
    "\n",
    "# 학습\n",
    "model = GaussianNB()\n",
    "model.fit(x_train, y_train)\n",
    "\n",
    "# 평가\n",
    "y_pred = model.predict(x_test)\n",
    "acc = metrics.accuracy_score(y_test, y_pred)\n",
    "rep = metrics.classification_report(y_test, y_pred)\n",
    "\n",
    "print('정답률 :', acc)\n",
    "print(rep)"
   ]
  },
  {
   "cell_type": "markdown",
   "id": "e0ac908c",
   "metadata": {},
   "source": [
    "## 딥러닝으로 정답률 개선하기"
   ]
  },
  {
   "cell_type": "markdown",
   "id": "aae01802",
   "metadata": {},
   "source": [
    "### scikit-learn에서 딥러닝으로 변경하기\n",
    "- 주의 사항\n",
    "    1. 레이블 데이터를 one-hot 형식으로 변환\n",
    "    2. 입력과 출력 벡터 크기를 확실하게 확인해서 지정"
   ]
  },
  {
   "cell_type": "code",
   "execution_count": 3,
   "id": "3de08f6a",
   "metadata": {},
   "outputs": [
    {
     "data": {
      "text/plain": [
       "'2.6.0'"
      ]
     },
     "execution_count": 3,
     "metadata": {},
     "output_type": "execute_result"
    }
   ],
   "source": [
    "import tensorflow as tf\n",
    "tf.__version__"
   ]
  },
  {
   "cell_type": "code",
   "execution_count": 9,
   "id": "31eb4fd2",
   "metadata": {},
   "outputs": [],
   "source": [
    "import pickle\n",
    "from sklearn.model_selection import train_test_split\n",
    "import sklearn.metrics as metrics\n",
    "from tensorflow import keras\n",
    "from tensorflow.keras.models import Sequential\n",
    "from tensorflow.keras.layers import Dense, Dropout\n",
    "from tensorflow.keras.optimizers import RMSprop\n",
    "import matplotlib.pyplot as plt\n",
    "import numpy as np\n",
    "\n",
    "# 분류할 레이블 수\n",
    "n_classes = 4\n",
    "\n",
    "# 데이터베이스 읽어 들이기\n",
    "data = pickle.load(open('../datasets/text/genre.pickle', 'rb'))\n",
    "y = data[0]\n",
    "x = data[1]\n",
    "\n",
    "# 레이블 OHE 변환\n",
    "y = keras.utils.to_categorical(y, n_classes)\n",
    "in_size = x[0].shape[0]\n",
    "\n",
    "# train, test split\n",
    "x_train, x_test, y_train, y_test = train_test_split(np.array(x), np.array(y), test_size=0.2)"
   ]
  },
  {
   "cell_type": "code",
   "execution_count": 6,
   "id": "e3c4078c",
   "metadata": {},
   "outputs": [],
   "source": [
    "# MLP 모델 정의\n",
    "model = Sequential()\n",
    "model.add(Dense(512, activation='relu', input_shape=(in_size, )))\n",
    "model.add(Dropout(0.2))\n",
    "model.add(Dense(512, activation='relu'))\n",
    "model.add(Dropout(0.2))\n",
    "model.add(Dense(n_classes, activation='softmax'))"
   ]
  },
  {
   "cell_type": "code",
   "execution_count": 7,
   "id": "bc12837e",
   "metadata": {},
   "outputs": [],
   "source": [
    "# 모델 컴파일\n",
    "model.compile(loss='categorical_crossentropy',\n",
    "             optimizer=RMSprop(), metrics=['accuracy'])"
   ]
  },
  {
   "cell_type": "code",
   "execution_count": 10,
   "id": "9f7f17ee",
   "metadata": {},
   "outputs": [
    {
     "name": "stdout",
     "output_type": "stream",
     "text": [
      "Epoch 1/20\n",
      "20/20 [==============================] - 1s 30ms/step - loss: 0.9314 - accuracy: 0.7133 - val_loss: 0.4573 - val_accuracy: 0.8703\n",
      "Epoch 2/20\n",
      "20/20 [==============================] - 0s 19ms/step - loss: 0.2755 - accuracy: 0.9183 - val_loss: 0.3576 - val_accuracy: 0.8766\n",
      "Epoch 3/20\n",
      "20/20 [==============================] - 0s 20ms/step - loss: 0.1232 - accuracy: 0.9636 - val_loss: 0.3517 - val_accuracy: 0.8844\n",
      "Epoch 4/20\n",
      "20/20 [==============================] - 0s 19ms/step - loss: 0.0539 - accuracy: 0.9859 - val_loss: 0.3765 - val_accuracy: 0.8875\n",
      "Epoch 5/20\n",
      "20/20 [==============================] - 0s 20ms/step - loss: 0.0237 - accuracy: 0.9949 - val_loss: 0.4187 - val_accuracy: 0.8813\n",
      "Epoch 6/20\n",
      "20/20 [==============================] - 0s 19ms/step - loss: 0.0120 - accuracy: 0.9969 - val_loss: 0.4272 - val_accuracy: 0.8875\n",
      "Epoch 7/20\n",
      "20/20 [==============================] - 0s 19ms/step - loss: 0.0064 - accuracy: 0.9984 - val_loss: 0.4729 - val_accuracy: 0.8859\n",
      "Epoch 8/20\n",
      "20/20 [==============================] - 0s 20ms/step - loss: 0.0034 - accuracy: 0.9996 - val_loss: 0.4978 - val_accuracy: 0.8906\n",
      "Epoch 9/20\n",
      "20/20 [==============================] - 0s 20ms/step - loss: 0.0023 - accuracy: 0.9996 - val_loss: 0.5480 - val_accuracy: 0.8844\n",
      "Epoch 10/20\n",
      "20/20 [==============================] - 0s 19ms/step - loss: 0.0027 - accuracy: 0.9992 - val_loss: 0.5835 - val_accuracy: 0.8875\n",
      "Epoch 11/20\n",
      "20/20 [==============================] - 0s 20ms/step - loss: 9.4490e-04 - accuracy: 0.9996 - val_loss: 0.6192 - val_accuracy: 0.8844\n",
      "Epoch 12/20\n",
      "20/20 [==============================] - 0s 20ms/step - loss: 6.1396e-04 - accuracy: 1.0000 - val_loss: 0.6031 - val_accuracy: 0.8875\n",
      "Epoch 13/20\n",
      "20/20 [==============================] - 0s 20ms/step - loss: 5.0366e-04 - accuracy: 1.0000 - val_loss: 0.6533 - val_accuracy: 0.8891\n",
      "Epoch 14/20\n",
      "20/20 [==============================] - 0s 20ms/step - loss: 3.8839e-04 - accuracy: 1.0000 - val_loss: 0.6614 - val_accuracy: 0.8938\n",
      "Epoch 15/20\n",
      "20/20 [==============================] - 0s 20ms/step - loss: 2.3972e-04 - accuracy: 1.0000 - val_loss: 0.6846 - val_accuracy: 0.8875\n",
      "Epoch 16/20\n",
      "20/20 [==============================] - 0s 20ms/step - loss: 3.4893e-04 - accuracy: 1.0000 - val_loss: 0.7629 - val_accuracy: 0.8875\n",
      "Epoch 17/20\n",
      "20/20 [==============================] - 0s 19ms/step - loss: 1.5392e-04 - accuracy: 1.0000 - val_loss: 0.7370 - val_accuracy: 0.8781\n",
      "Epoch 18/20\n",
      "20/20 [==============================] - 0s 19ms/step - loss: 3.3686e-05 - accuracy: 1.0000 - val_loss: 0.7543 - val_accuracy: 0.8891\n",
      "Epoch 19/20\n",
      "20/20 [==============================] - 0s 19ms/step - loss: 1.4680e-05 - accuracy: 1.0000 - val_loss: 0.7641 - val_accuracy: 0.8906\n",
      "Epoch 20/20\n",
      "20/20 [==============================] - 0s 20ms/step - loss: 4.1164e-05 - accuracy: 1.0000 - val_loss: 0.7860 - val_accuracy: 0.8953\n"
     ]
    }
   ],
   "source": [
    "# 학습\n",
    "hist = model.fit(x_train, y_train, batch_size=128,\n",
    "                epochs=20, verbose=1, validation_data=(x_test, y_test))"
   ]
  },
  {
   "cell_type": "code",
   "execution_count": 11,
   "id": "8c25cf4b",
   "metadata": {},
   "outputs": [
    {
     "name": "stdout",
     "output_type": "stream",
     "text": [
      "20/20 [==============================] - 0s 3ms/step - loss: 0.7860 - accuracy: 0.8953\n"
     ]
    }
   ],
   "source": [
    "# 평가\n",
    "score = model.evaluate(x_test, y_test, verbose=1)"
   ]
  },
  {
   "cell_type": "code",
   "execution_count": 12,
   "id": "ee35a0e6",
   "metadata": {},
   "outputs": [],
   "source": [
    "# 가중치 데이터 저장하기\n",
    "model.save_weights('../models/genre_model.hdf5')"
   ]
  },
  {
   "cell_type": "code",
   "execution_count": 13,
   "id": "28f61fb3",
   "metadata": {},
   "outputs": [
    {
     "data": {
      "image/png": "[encoded data removed]",
      "text/plain": [
       "<Figure size 432x288 with 1 Axes>"
      ]
     },
     "metadata": {
      "needs_background": "light"
     },
     "output_type": "display_data"
    }
   ],
   "source": [
    "# 시각화\n",
    "plt.plot(hist.history['accuracy'])\n",
    "plt.plot(hist.history['val_accuracy'])\n",
    "plt.title('Accuracy')\n",
    "plt.legend(['train', 'test'], loc='upper left')\n",
    "plt.show()"
   ]
  },
  {
   "cell_type": "markdown",
   "id": "e0059efa",
   "metadata": {},
   "source": [
    "## 직접 문장을 지정해 판정하기\n",
    "- 이후 04장을 위해 `my_text.py`로 저장"
   ]
  },
  {
   "cell_type": "code",
   "execution_count": 14,
   "id": "8f6ebbba",
   "metadata": {},
   "outputs": [],
   "source": [
    "import pickle, tfidf\n",
    "import numpy as np\n",
    "from tensorflow import keras\n",
    "from tensorflow.keras.models import Sequential\n",
    "from tensorflow.keras.layers import Dense, Dropout\n",
    "from tensorflow.keras.optimizers import RMSprop\n",
    "from tensorflow.keras.models import model_from_json\n",
    "\n",
    "# 텍스트\n",
    "text1 = '''\n",
    "대통령이 북한과 관련된 이야기로 한미 정상회담을 준비하고 있습니다.\n",
    "'''\n",
    "\n",
    "text2 = '''\n",
    "아이폰과 아이패드 모두 가지고 다니므로 USB를 2개 연결할 수 있는 휴대용 배터리를 선호합니다.\n",
    "'''\n",
    "\n",
    "text3 = '''\n",
    "이번 주에는 미세먼지가 많을 것으로 예상되므로 노약자는 외출을 자제하는 것이 좋습니다.\n",
    "'''\n",
    "\n",
    "# TF-IDF 사전 읽어 들이기\n",
    "tfidf.load_dic('../datasets/text/genre-tfidf.dic')\n",
    "\n",
    "# Keras 모델 정의, 가중치 데이터 읽기\n",
    "n_classes = 4\n",
    "model = Sequential()\n",
    "model.add(Dense(512, activation='relu', input_shape=(37414, )))\n",
    "model.add(Dropout(0.2))\n",
    "model.add(Dense(512, activation='relu'))\n",
    "model.add(Dropout(0.2))\n",
    "model.add(Dense(n_classes, activation='softmax'))\n",
    "model.compile(loss='categorical_crossentropy',\n",
    "             optimizer=RMSprop(), metrics=['accuracy'])\n",
    "model.load_weights('../models/genre_model.hdf5')"
   ]
  },
  {
   "cell_type": "code",
   "execution_count": 15,
   "id": "c1450a94",
   "metadata": {},
   "outputs": [],
   "source": [
    "# 텍스트 지정해서 판별\n",
    "def check_genre(text):\n",
    "    # 레이블 정의\n",
    "    LABELS = ['정치', '경제', '생활', 'IT/과학']\n",
    "    # TF-IDF 벡터 변환\n",
    "    data = tfidf.calc_text(text)\n",
    "    # MLP로 예측\n",
    "    pre = model.predict(np.array([data]))[0]\n",
    "    n = pre.argmax()\n",
    "    print(LABELS[n], '(', pre[n], ')')\n",
    "    return LABELS[n], float(pre[n]), int(n)"
   ]
  },
  {
   "cell_type": "code",
   "execution_count": 16,
   "id": "b3abf966",
   "metadata": {},
   "outputs": [
    {
     "name": "stdout",
     "output_type": "stream",
     "text": [
      "정치 ( 1.0 )\n",
      "IT/과학 ( 1.0 )\n",
      "생활 ( 0.99994946 )\n"
     ]
    },
    {
     "data": {
      "text/plain": [
       "('생활', 0.9999494552612305, 2)"
      ]
     },
     "execution_count": 16,
     "metadata": {},
     "output_type": "execute_result"
    }
   ],
   "source": [
    "check_genre(text1)\n",
    "check_genre(text2)\n",
    "check_genre(text3)"
   ]
  },
  {
   "cell_type": "code",
   "execution_count": null,
   "id": "a7d59ad0",
   "metadata": {},
   "outputs": [],
   "source": []
  }
 ],
 "metadata": {
  "kernelspec": {
   "display_name": "Python Multi",
   "language": "python",
   "name": "multi"
  },
  "language_info": {
   "codemirror_mode": {
    "name": "ipython",
    "version": 3
   },
   "file_extension": ".py",
   "mimetype": "text/x-python",
   "name": "python",
   "nbconvert_exporter": "python",
   "pygments_lexer": "ipython3",
   "version": "3.7.6"
  },
  "toc": {
   "base_numbering": 1,
   "nav_menu": {},
   "number_sections": false,
   "sideBar": true,
   "skip_h1_title": false,
   "title_cell": "Table of Contents",
   "title_sidebar": "Contents",
   "toc_cell": false,
   "toc_position": {},
   "toc_section_display": true,
   "toc_window_display": false
  }
 },
 "nbformat": 4,
 "nbformat_minor": 5
}
