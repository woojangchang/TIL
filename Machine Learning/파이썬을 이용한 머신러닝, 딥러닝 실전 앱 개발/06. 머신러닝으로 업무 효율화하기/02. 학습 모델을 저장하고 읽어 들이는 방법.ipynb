{
 "cells": [
  {
   "cell_type": "markdown",
   "id": "e8c5a1a0",
   "metadata": {},
   "source": [
    "## 학습한 학습기를 저장하고 다시 사용하는 방법\n",
    "- 머신러닝 프로그램 : 야간 처리 등을 사용해 학습하고 학습된 데이터를 저장\n",
    "- 판정 전용 프로그램 : 프로그램을 실행할 때 학습된 데이터를 읽어 들이고 판정"
   ]
  },
  {
   "cell_type": "markdown",
   "id": "9001c4fa",
   "metadata": {},
   "source": [
    "### scikit-learn에서 학습된 데이터를 저장하고 읽어 들이는 방법\n",
    "- `joblib.dump()` : 학습기, 매개변수, 학습된 데이터를 파일로 저장\n",
    "    - `compress=True` : 압축"
   ]
  },
  {
   "cell_type": "code",
   "execution_count": 1,
   "id": "0c727528",
   "metadata": {},
   "outputs": [
    {
     "data": {
      "text/plain": [
       "['../models/iris.pkl']"
      ]
     },
     "execution_count": 1,
     "metadata": {},
     "output_type": "execute_result"
    }
   ],
   "source": [
    "from sklearn import datasets, svm\n",
    "import joblib\n",
    "\n",
    "# 데이터 읽기\n",
    "iris = datasets.load_iris()\n",
    "\n",
    "# 데이터 학습\n",
    "clf = svm.SVC()\n",
    "clf.fit(iris.data, iris.target)\n",
    "\n",
    "# 학습된 데이터 저장\n",
    "joblib.dump(clf, '../models/iris.pkl', compress=True)"
   ]
  },
  {
   "cell_type": "markdown",
   "id": "d25a1dd8",
   "metadata": {},
   "source": [
    "#### 테스트"
   ]
  },
  {
   "cell_type": "code",
   "execution_count": 2,
   "id": "a911b22f",
   "metadata": {},
   "outputs": [
    {
     "name": "stdout",
     "output_type": "stream",
     "text": [
      "0.9733333333333334\n"
     ]
    }
   ],
   "source": [
    "from sklearn.metrics import accuracy_score\n",
    "from sklearn import datasets\n",
    "import joblib\n",
    "\n",
    "# 학습된 데이터 읽기\n",
    "clf = joblib.load('../models/iris.pkl')\n",
    "\n",
    "# 데이터 읽기\n",
    "iris = datasets.load_iris()\n",
    "\n",
    "# 예측\n",
    "pred = clf.predict(iris.data)\n",
    "\n",
    "# 정답률 확인\n",
    "print(accuracy_score(iris.target, pred))"
   ]
  },
  {
   "cell_type": "markdown",
   "id": "b1284e52",
   "metadata": {},
   "source": [
    "### Tensorflow와 Keras에서 학습된 데이터를 저장하고 읽어 들이는 방법\n",
    "- `model.save()` : 모델 구조, 가중치 등 모델 전반적인 것을 저장하여 재학습이나 layer를 추가하는 등 재사용 가능\n",
    "- `model.save_weights()` : 가중치만 저장하여 예측에만 사용 가능"
   ]
  },
  {
   "cell_type": "code",
   "execution_count": 3,
   "id": "94863f37",
   "metadata": {},
   "outputs": [],
   "source": [
    "from sklearn import datasets\n",
    "from tensorflow import keras\n",
    "from tensorflow.keras.models import Sequential\n",
    "from tensorflow.keras.layers import Dense, Dropout\n",
    "from tensorflow.keras.utils import to_categorical\n",
    "\n",
    "# 데이터 읽기\n",
    "iris = datasets.load_iris()\n",
    "in_size = 4\n",
    "nb_classes = 3\n",
    "\n",
    "# 레이블 OHE 변환\n",
    "x = iris.data\n",
    "y = to_categorical(iris.target, nb_classes)"
   ]
  },
  {
   "cell_type": "code",
   "execution_count": 5,
   "id": "0bdef1f6",
   "metadata": {},
   "outputs": [],
   "source": [
    "# 모델 정의\n",
    "model = Sequential()\n",
    "model.add(Dense(512, activation='relu', input_shape=(in_size, )))\n",
    "model.add(Dense(512, activation='relu'))\n",
    "model.add(Dropout(0.2))\n",
    "model.add(Dense(nb_classes, activation='softmax'))"
   ]
  },
  {
   "cell_type": "code",
   "execution_count": 8,
   "id": "851d05bf",
   "metadata": {},
   "outputs": [],
   "source": [
    "# 모델 컴파일\n",
    "model.compile(loss='categorical_crossentropy',\n",
    "             optimizer='adam', metrics=['accuracy'])"
   ]
  },
  {
   "cell_type": "code",
   "execution_count": 9,
   "id": "d98a9a95",
   "metadata": {},
   "outputs": [
    {
     "name": "stdout",
     "output_type": "stream",
     "text": [
      "Epoch 1/50\n",
      "8/8 [==============================] - 2s 3ms/step - loss: 0.8431 - accuracy: 0.6467\n",
      "Epoch 2/50\n",
      "8/8 [==============================] - 0s 2ms/step - loss: 0.4797 - accuracy: 0.8200\n",
      "Epoch 3/50\n",
      "8/8 [==============================] - 0s 3ms/step - loss: 0.3435 - accuracy: 0.8933\n",
      "Epoch 4/50\n",
      "8/8 [==============================] - 0s 2ms/step - loss: 0.2715 - accuracy: 0.9267\n",
      "Epoch 5/50\n",
      "8/8 [==============================] - 0s 2ms/step - loss: 0.2308 - accuracy: 0.9467\n",
      "Epoch 6/50\n",
      "8/8 [==============================] - 0s 3ms/step - loss: 0.2206 - accuracy: 0.9400\n",
      "Epoch 7/50\n",
      "8/8 [==============================] - 0s 3ms/step - loss: 0.1510 - accuracy: 0.9733\n",
      "Epoch 8/50\n",
      "8/8 [==============================] - 0s 3ms/step - loss: 0.1597 - accuracy: 0.9333\n",
      "Epoch 9/50\n",
      "8/8 [==============================] - 0s 3ms/step - loss: 0.1476 - accuracy: 0.9533\n",
      "Epoch 10/50\n",
      "8/8 [==============================] - 0s 2ms/step - loss: 0.1671 - accuracy: 0.9467\n",
      "Epoch 11/50\n",
      "8/8 [==============================] - 0s 2ms/step - loss: 0.1545 - accuracy: 0.9600\n",
      "Epoch 12/50\n",
      "8/8 [==============================] - 0s 2ms/step - loss: 0.1188 - accuracy: 0.9600\n",
      "Epoch 13/50\n",
      "8/8 [==============================] - 0s 2ms/step - loss: 0.1308 - accuracy: 0.9467\n",
      "Epoch 14/50\n",
      "8/8 [==============================] - 0s 2ms/step - loss: 0.1087 - accuracy: 0.9800\n",
      "Epoch 15/50\n",
      "8/8 [==============================] - 0s 2ms/step - loss: 0.1100 - accuracy: 0.9533\n",
      "Epoch 16/50\n",
      "8/8 [==============================] - 0s 2ms/step - loss: 0.1057 - accuracy: 0.9600\n",
      "Epoch 17/50\n",
      "8/8 [==============================] - 0s 2ms/step - loss: 0.0870 - accuracy: 0.9733\n",
      "Epoch 18/50\n",
      "8/8 [==============================] - 0s 2ms/step - loss: 0.0868 - accuracy: 0.9733\n",
      "Epoch 19/50\n",
      "8/8 [==============================] - 0s 3ms/step - loss: 0.0908 - accuracy: 0.9667\n",
      "Epoch 20/50\n",
      "8/8 [==============================] - 0s 2ms/step - loss: 0.1000 - accuracy: 0.9533\n",
      "Epoch 21/50\n",
      "8/8 [==============================] - 0s 2ms/step - loss: 0.0850 - accuracy: 0.9600\n",
      "Epoch 22/50\n",
      "8/8 [==============================] - 0s 2ms/step - loss: 0.0838 - accuracy: 0.9867\n",
      "Epoch 23/50\n",
      "8/8 [==============================] - 0s 3ms/step - loss: 0.0900 - accuracy: 0.9667\n",
      "Epoch 24/50\n",
      "8/8 [==============================] - 0s 3ms/step - loss: 0.1029 - accuracy: 0.9467\n",
      "Epoch 25/50\n",
      "8/8 [==============================] - 0s 3ms/step - loss: 0.0917 - accuracy: 0.9600\n",
      "Epoch 26/50\n",
      "8/8 [==============================] - 0s 3ms/step - loss: 0.0756 - accuracy: 0.9800\n",
      "Epoch 27/50\n",
      "8/8 [==============================] - 0s 3ms/step - loss: 0.0746 - accuracy: 0.9733\n",
      "Epoch 28/50\n",
      "8/8 [==============================] - 0s 3ms/step - loss: 0.1095 - accuracy: 0.9467\n",
      "Epoch 29/50\n",
      "8/8 [==============================] - 0s 3ms/step - loss: 0.0952 - accuracy: 0.9600\n",
      "Epoch 30/50\n",
      "8/8 [==============================] - 0s 3ms/step - loss: 0.0948 - accuracy: 0.9600\n",
      "Epoch 31/50\n",
      "8/8 [==============================] - 0s 3ms/step - loss: 0.1113 - accuracy: 0.9667\n",
      "Epoch 32/50\n",
      "8/8 [==============================] - 0s 2ms/step - loss: 0.0967 - accuracy: 0.9667\n",
      "Epoch 33/50\n",
      "8/8 [==============================] - 0s 2ms/step - loss: 0.0759 - accuracy: 0.9667\n",
      "Epoch 34/50\n",
      "8/8 [==============================] - 0s 2ms/step - loss: 0.0824 - accuracy: 0.9600\n",
      "Epoch 35/50\n",
      "8/8 [==============================] - 0s 2ms/step - loss: 0.0855 - accuracy: 0.9533\n",
      "Epoch 36/50\n",
      "8/8 [==============================] - 0s 2ms/step - loss: 0.0917 - accuracy: 0.9600\n",
      "Epoch 37/50\n",
      "8/8 [==============================] - 0s 2ms/step - loss: 0.1355 - accuracy: 0.9333\n",
      "Epoch 38/50\n",
      "8/8 [==============================] - 0s 3ms/step - loss: 0.1931 - accuracy: 0.9267\n",
      "Epoch 39/50\n",
      "8/8 [==============================] - 0s 3ms/step - loss: 0.1988 - accuracy: 0.9200\n",
      "Epoch 40/50\n",
      "8/8 [==============================] - 0s 3ms/step - loss: 0.1535 - accuracy: 0.9400\n",
      "Epoch 41/50\n",
      "8/8 [==============================] - 0s 3ms/step - loss: 0.1011 - accuracy: 0.9733\n",
      "Epoch 42/50\n",
      "8/8 [==============================] - 0s 3ms/step - loss: 0.0724 - accuracy: 0.9800\n",
      "Epoch 43/50\n",
      "8/8 [==============================] - 0s 3ms/step - loss: 0.0651 - accuracy: 0.9800\n",
      "Epoch 44/50\n",
      "8/8 [==============================] - 0s 3ms/step - loss: 0.0848 - accuracy: 0.9600\n",
      "Epoch 45/50\n",
      "8/8 [==============================] - 0s 3ms/step - loss: 0.0698 - accuracy: 0.9733\n",
      "Epoch 46/50\n",
      "8/8 [==============================] - 0s 3ms/step - loss: 0.0679 - accuracy: 0.9733\n",
      "Epoch 47/50\n",
      "8/8 [==============================] - 0s 3ms/step - loss: 0.0941 - accuracy: 0.9667\n",
      "Epoch 48/50\n",
      "8/8 [==============================] - 0s 2ms/step - loss: 0.1330 - accuracy: 0.9400\n",
      "Epoch 49/50\n",
      "8/8 [==============================] - 0s 2ms/step - loss: 0.0942 - accuracy: 0.9533\n",
      "Epoch 50/50\n",
      "8/8 [==============================] - 0s 2ms/step - loss: 0.0883 - accuracy: 0.9600\n"
     ]
    },
    {
     "data": {
      "text/plain": [
       "<keras.callbacks.History at 0x2d4365a9490>"
      ]
     },
     "execution_count": 9,
     "metadata": {},
     "output_type": "execute_result"
    }
   ],
   "source": [
    "# 학습 실행\n",
    "model.fit(x, y, batch_size=20, epochs=50)"
   ]
  },
  {
   "cell_type": "code",
   "execution_count": 10,
   "id": "75deef4e",
   "metadata": {},
   "outputs": [],
   "source": [
    "# 모델 저장하기\n",
    "model.save('../models/iris_model.h5')\n",
    "\n",
    "# 가중치 데이터 저장하기\n",
    "model.save_weights('../models/iris_weight.h5')"
   ]
  },
  {
   "cell_type": "markdown",
   "id": "d0e97a09",
   "metadata": {},
   "source": [
    "#### 테스트"
   ]
  },
  {
   "cell_type": "code",
   "execution_count": 11,
   "id": "ab639cd7",
   "metadata": {},
   "outputs": [
    {
     "name": "stdout",
     "output_type": "stream",
     "text": [
      "5/5 [==============================] - 0s 2ms/step - loss: 0.0622 - accuracy: 0.9800\n",
      "정답률 : 0.9800000190734863\n"
     ]
    }
   ],
   "source": [
    "from sklearn import datasets\n",
    "from tensorflow import keras\n",
    "from tensorflow.keras.models import load_model\n",
    "from tensorflow.keras.utils import to_categorical\n",
    "\n",
    "# 데이터 읽기\n",
    "iris = datasets.load_iris()\n",
    "in_size = 4\n",
    "nb_classes = 3\n",
    "\n",
    "# 레이블 OHE 변환\n",
    "x = iris.data\n",
    "y = to_categorical(iris.target, nb_classes)\n",
    "\n",
    "# 모델 읽기\n",
    "model = load_model('../models/iris_model.h5')\n",
    "\n",
    "# 평가\n",
    "score = model.evaluate(x, y, verbose=1)\n",
    "print('정답률 :', score[1])"
   ]
  },
  {
   "cell_type": "code",
   "execution_count": 12,
   "id": "a2d559ec",
   "metadata": {},
   "outputs": [
    {
     "name": "stdout",
     "output_type": "stream",
     "text": [
      "Model: \"sequential_1\"\n",
      "_________________________________________________________________\n",
      "Layer (type)                 Output Shape              Param #   \n",
      "=================================================================\n",
      "dense (Dense)                (None, 512)               2560      \n",
      "_________________________________________________________________\n",
      "dense_1 (Dense)              (None, 512)               262656    \n",
      "_________________________________________________________________\n",
      "dropout (Dropout)            (None, 512)               0         \n",
      "_________________________________________________________________\n",
      "dense_2 (Dense)              (None, 3)                 1539      \n",
      "=================================================================\n",
      "Total params: 266,755\n",
      "Trainable params: 266,755\n",
      "Non-trainable params: 0\n",
      "_________________________________________________________________\n"
     ]
    }
   ],
   "source": [
    "model.summary()"
   ]
  },
  {
   "cell_type": "code",
   "execution_count": null,
   "id": "3406bbbe",
   "metadata": {},
   "outputs": [],
   "source": []
  }
 ],
 "metadata": {
  "kernelspec": {
   "display_name": "tf25",
   "language": "python",
   "name": "tf25"
  },
  "language_info": {
   "codemirror_mode": {
    "name": "ipython",
    "version": 3
   },
   "file_extension": ".py",
   "mimetype": "text/x-python",
   "name": "python",
   "nbconvert_exporter": "python",
   "pygments_lexer": "ipython3",
   "version": "3.9.6"
  },
  "toc": {
   "base_numbering": 1,
   "nav_menu": {},
   "number_sections": false,
   "sideBar": true,
   "skip_h1_title": false,
   "title_cell": "Table of Contents",
   "title_sidebar": "Contents",
   "toc_cell": false,
   "toc_position": {},
   "toc_section_display": true,
   "toc_window_display": false
  }
 },
 "nbformat": 4,
 "nbformat_minor": 5
}
