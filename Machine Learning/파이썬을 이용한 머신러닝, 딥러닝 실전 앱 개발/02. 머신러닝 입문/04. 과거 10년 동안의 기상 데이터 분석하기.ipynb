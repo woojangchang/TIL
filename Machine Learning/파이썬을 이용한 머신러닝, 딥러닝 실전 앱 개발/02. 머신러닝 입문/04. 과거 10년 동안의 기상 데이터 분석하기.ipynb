{
 "cells": [
  {
   "cell_type": "markdown",
   "id": "4cfe4a1d",
   "metadata": {},
   "source": [
    "## 데이터 다운로드\n",
    "- 2012년 8월 30일 ~ 2021년 8월 29일 서울 평균 기온"
   ]
  },
  {
   "cell_type": "code",
   "execution_count": 1,
   "id": "1bf3c44c",
   "metadata": {},
   "outputs": [
    {
     "data": {
      "text/html": [
       "<div>\n",
       "<style scoped>\n",
       "    .dataframe tbody tr th:only-of-type {\n",
       "        vertical-align: middle;\n",
       "    }\n",
       "\n",
       "    .dataframe tbody tr th {\n",
       "        vertical-align: top;\n",
       "    }\n",
       "\n",
       "    .dataframe thead th {\n",
       "        text-align: right;\n",
       "    }\n",
       "</style>\n",
       "<table border=\"1\" class=\"dataframe\">\n",
       "  <thead>\n",
       "    <tr style=\"text-align: right;\">\n",
       "      <th></th>\n",
       "      <th>지점</th>\n",
       "      <th>지점명</th>\n",
       "      <th>일시</th>\n",
       "      <th>평균기온(°C)</th>\n",
       "    </tr>\n",
       "  </thead>\n",
       "  <tbody>\n",
       "    <tr>\n",
       "      <th>0</th>\n",
       "      <td>108</td>\n",
       "      <td>서울</td>\n",
       "      <td>2012-08-30</td>\n",
       "      <td>21.4</td>\n",
       "    </tr>\n",
       "    <tr>\n",
       "      <th>1</th>\n",
       "      <td>108</td>\n",
       "      <td>서울</td>\n",
       "      <td>2012-08-31</td>\n",
       "      <td>23.8</td>\n",
       "    </tr>\n",
       "    <tr>\n",
       "      <th>2</th>\n",
       "      <td>108</td>\n",
       "      <td>서울</td>\n",
       "      <td>2012-09-01</td>\n",
       "      <td>25.2</td>\n",
       "    </tr>\n",
       "  </tbody>\n",
       "</table>\n",
       "</div>"
      ],
      "text/plain": [
       "    지점 지점명          일시  평균기온(°C)\n",
       "0  108  서울  2012-08-30      21.4\n",
       "1  108  서울  2012-08-31      23.8\n",
       "2  108  서울  2012-09-01      25.2"
      ]
     },
     "execution_count": 1,
     "metadata": {},
     "output_type": "execute_result"
    }
   ],
   "source": [
    "import pandas as pd\n",
    "\n",
    "df = pd.read_csv('../datasets/temperature.csv', encoding='cp949')\n",
    "df.head(3)"
   ]
  },
  {
   "cell_type": "markdown",
   "id": "84ec82f8",
   "metadata": {},
   "source": [
    "## 데이터 가공"
   ]
  },
  {
   "cell_type": "code",
   "execution_count": 3,
   "id": "e99ea7e5",
   "metadata": {},
   "outputs": [
    {
     "data": {
      "text/html": [
       "<div>\n",
       "<style scoped>\n",
       "    .dataframe tbody tr th:only-of-type {\n",
       "        vertical-align: middle;\n",
       "    }\n",
       "\n",
       "    .dataframe tbody tr th {\n",
       "        vertical-align: top;\n",
       "    }\n",
       "\n",
       "    .dataframe thead th {\n",
       "        text-align: right;\n",
       "    }\n",
       "</style>\n",
       "<table border=\"1\" class=\"dataframe\">\n",
       "  <thead>\n",
       "    <tr style=\"text-align: right;\">\n",
       "      <th></th>\n",
       "      <th>지점</th>\n",
       "      <th>지점명</th>\n",
       "      <th>일시</th>\n",
       "      <th>평균기온(°C)</th>\n",
       "      <th>연</th>\n",
       "      <th>월</th>\n",
       "      <th>일</th>\n",
       "    </tr>\n",
       "  </thead>\n",
       "  <tbody>\n",
       "    <tr>\n",
       "      <th>0</th>\n",
       "      <td>108</td>\n",
       "      <td>서울</td>\n",
       "      <td>2012-08-30</td>\n",
       "      <td>21.4</td>\n",
       "      <td>2012</td>\n",
       "      <td>8</td>\n",
       "      <td>30</td>\n",
       "    </tr>\n",
       "    <tr>\n",
       "      <th>1</th>\n",
       "      <td>108</td>\n",
       "      <td>서울</td>\n",
       "      <td>2012-08-31</td>\n",
       "      <td>23.8</td>\n",
       "      <td>2012</td>\n",
       "      <td>8</td>\n",
       "      <td>31</td>\n",
       "    </tr>\n",
       "    <tr>\n",
       "      <th>2</th>\n",
       "      <td>108</td>\n",
       "      <td>서울</td>\n",
       "      <td>2012-09-01</td>\n",
       "      <td>25.2</td>\n",
       "      <td>2012</td>\n",
       "      <td>9</td>\n",
       "      <td>1</td>\n",
       "    </tr>\n",
       "  </tbody>\n",
       "</table>\n",
       "</div>"
      ],
      "text/plain": [
       "    지점 지점명          일시  평균기온(°C)     연  월   일\n",
       "0  108  서울  2012-08-30      21.4  2012  8  30\n",
       "1  108  서울  2012-08-31      23.8  2012  8  31\n",
       "2  108  서울  2012-09-01      25.2  2012  9   1"
      ]
     },
     "execution_count": 3,
     "metadata": {},
     "output_type": "execute_result"
    }
   ],
   "source": [
    "df['연'] = pd.to_datetime(df['일시']).dt.year\n",
    "df['월'] = pd.to_datetime(df['일시']).dt.month\n",
    "df['일'] = pd.to_datetime(df['일시']).dt.day\n",
    "df.head(3)"
   ]
  },
  {
   "cell_type": "code",
   "execution_count": 4,
   "id": "799120f3",
   "metadata": {},
   "outputs": [],
   "source": [
    "df.rename(columns={'평균기온(°C)':'기온'}, inplace=True)"
   ]
  },
  {
   "cell_type": "code",
   "execution_count": 5,
   "id": "2850c97f",
   "metadata": {},
   "outputs": [
    {
     "data": {
      "text/html": [
       "<div>\n",
       "<style scoped>\n",
       "    .dataframe tbody tr th:only-of-type {\n",
       "        vertical-align: middle;\n",
       "    }\n",
       "\n",
       "    .dataframe tbody tr th {\n",
       "        vertical-align: top;\n",
       "    }\n",
       "\n",
       "    .dataframe thead th {\n",
       "        text-align: right;\n",
       "    }\n",
       "</style>\n",
       "<table border=\"1\" class=\"dataframe\">\n",
       "  <thead>\n",
       "    <tr style=\"text-align: right;\">\n",
       "      <th></th>\n",
       "      <th>연</th>\n",
       "      <th>월</th>\n",
       "      <th>일</th>\n",
       "      <th>기온</th>\n",
       "    </tr>\n",
       "  </thead>\n",
       "  <tbody>\n",
       "    <tr>\n",
       "      <th>0</th>\n",
       "      <td>2012</td>\n",
       "      <td>8</td>\n",
       "      <td>30</td>\n",
       "      <td>21.4</td>\n",
       "    </tr>\n",
       "    <tr>\n",
       "      <th>1</th>\n",
       "      <td>2012</td>\n",
       "      <td>8</td>\n",
       "      <td>31</td>\n",
       "      <td>23.8</td>\n",
       "    </tr>\n",
       "    <tr>\n",
       "      <th>2</th>\n",
       "      <td>2012</td>\n",
       "      <td>9</td>\n",
       "      <td>1</td>\n",
       "      <td>25.2</td>\n",
       "    </tr>\n",
       "  </tbody>\n",
       "</table>\n",
       "</div>"
      ],
      "text/plain": [
       "      연  월   일    기온\n",
       "0  2012  8  30  21.4\n",
       "1  2012  8  31  23.8\n",
       "2  2012  9   1  25.2"
      ]
     },
     "execution_count": 5,
     "metadata": {},
     "output_type": "execute_result"
    }
   ],
   "source": [
    "df_new = df[['연', '월', '일', '기온']]\n",
    "df_new.head(3)"
   ]
  },
  {
   "cell_type": "code",
   "execution_count": 6,
   "id": "6e64e064",
   "metadata": {},
   "outputs": [],
   "source": [
    "df_new.to_csv('../datasets/temperature_preprocessed.csv', encoding='cp949')"
   ]
  },
  {
   "cell_type": "code",
   "execution_count": 7,
   "id": "b819634d",
   "metadata": {},
   "outputs": [
    {
     "name": "stdout",
     "output_type": "stream",
     "text": [
      "<class 'pandas.core.frame.DataFrame'>\n",
      "RangeIndex: 3287 entries, 0 to 3286\n",
      "Data columns (total 4 columns):\n",
      " #   Column  Non-Null Count  Dtype  \n",
      "---  ------  --------------  -----  \n",
      " 0   연       3287 non-null   int64  \n",
      " 1   월       3287 non-null   int64  \n",
      " 2   일       3287 non-null   int64  \n",
      " 3   기온      3287 non-null   float64\n",
      "dtypes: float64(1), int64(3)\n",
      "memory usage: 102.8 KB\n"
     ]
    }
   ],
   "source": [
    "df_new.info()"
   ]
  },
  {
   "cell_type": "markdown",
   "id": "266e88ab",
   "metadata": {},
   "source": [
    "## 기온 평균 구하기"
   ]
  },
  {
   "cell_type": "code",
   "execution_count": 13,
   "id": "2dba4970",
   "metadata": {},
   "outputs": [],
   "source": [
    "# 날짜별 기온을 리스트에 담기\n",
    "md = {}\n",
    "for i, row in df_new.iterrows():\n",
    "    m, d, v = int(row['월']), int(row['일']), row['기온']\n",
    "    key = str(m) + '/' + str(d)\n",
    "    if not (key in md):\n",
    "        md[key] = []\n",
    "    md[key] += [v]\n",
    "\n",
    "# 날짜별 평균 구하기\n",
    "avs = {}\n",
    "for key in md:\n",
    "    v = avs[key] = sum(md[key]) / len(md[key])"
   ]
  },
  {
   "cell_type": "markdown",
   "id": "8f4b705f",
   "metadata": {},
   "source": [
    "### 책의 방법 외"
   ]
  },
  {
   "cell_type": "code",
   "execution_count": 14,
   "id": "53a99e2a",
   "metadata": {},
   "outputs": [
    {
     "data": {
      "text/plain": [
       "월   일 \n",
       "1   1    -1.911111\n",
       "    2    -1.800000\n",
       "    3    -2.111111\n",
       "    4    -1.166667\n",
       "    5    -1.444444\n",
       "            ...   \n",
       "12  27   -3.911111\n",
       "    28   -2.488889\n",
       "    29   -1.033333\n",
       "    30   -2.366667\n",
       "    31   -3.100000\n",
       "Name: 기온, Length: 366, dtype: float64"
      ]
     },
     "execution_count": 14,
     "metadata": {},
     "output_type": "execute_result"
    }
   ],
   "source": [
    "df_new.groupby(['월', '일'])['기온'].mean()"
   ]
  },
  {
   "cell_type": "code",
   "execution_count": 15,
   "id": "23277fa9",
   "metadata": {},
   "outputs": [
    {
     "data": {
      "text/plain": [
       "10.533333333333335"
      ]
     },
     "execution_count": 15,
     "metadata": {},
     "output_type": "execute_result"
    }
   ],
   "source": [
    "avs['11/3']"
   ]
  },
  {
   "cell_type": "code",
   "execution_count": 16,
   "id": "21ab8c1b",
   "metadata": {},
   "outputs": [
    {
     "data": {
      "text/plain": [
       "10.533333333333335"
      ]
     },
     "execution_count": 16,
     "metadata": {},
     "output_type": "execute_result"
    }
   ],
   "source": [
    "df_new.groupby(['월', '일'])['기온'].mean()[11][3]"
   ]
  },
  {
   "cell_type": "markdown",
   "id": "5477c1e4",
   "metadata": {},
   "source": [
    "## 월별 평균 기온"
   ]
  },
  {
   "cell_type": "code",
   "execution_count": 18,
   "id": "f6808a87",
   "metadata": {},
   "outputs": [
    {
     "name": "stderr",
     "output_type": "stream",
     "text": [
      "C:\\Users\\master\\anaconda3\\envs\\multi\\lib\\site-packages\\matplotlib\\backends\\backend_agg.py:240: RuntimeWarning: Glyph 50900 missing from current font.\n",
      "  font.set_text(s, 0.0, flags=flags)\n",
      "C:\\Users\\master\\anaconda3\\envs\\multi\\lib\\site-packages\\matplotlib\\backends\\backend_agg.py:203: RuntimeWarning: Glyph 50900 missing from current font.\n",
      "  font.set_text(s, 0, flags=flags)\n"
     ]
    },
    {
     "data": {
      "image/png": "[encoded data removed]",
      "text/plain": [
       "<Figure size 432x288 with 1 Axes>"
      ]
     },
     "metadata": {
      "needs_background": "light"
     },
     "output_type": "display_data"
    }
   ],
   "source": [
    "import matplotlib.pyplot as plt\n",
    "\n",
    "g = df_new.groupby(['월'])['기온']\n",
    "gg = g.sum() / g.count()\n",
    "\n",
    "gg.plot()\n",
    "plt.show()"
   ]
  },
  {
   "cell_type": "markdown",
   "id": "2d5f6a17",
   "metadata": {},
   "source": [
    "## 평균 기온이 30도가 넘는 날"
   ]
  },
  {
   "cell_type": "code",
   "execution_count": 19,
   "id": "85606e9d",
   "metadata": {},
   "outputs": [
    {
     "name": "stdout",
     "output_type": "stream",
     "text": [
      "연\n",
      "2014     2\n",
      "2015     1\n",
      "2016    11\n",
      "2017     3\n",
      "2018    24\n",
      "2019     5\n",
      "2020     1\n",
      "2021     9\n",
      "Name: 연, dtype: int64\n"
     ]
    },
    {
     "name": "stderr",
     "output_type": "stream",
     "text": [
      "C:\\Users\\master\\anaconda3\\envs\\multi\\lib\\site-packages\\matplotlib\\backends\\backend_agg.py:240: RuntimeWarning: Glyph 50672 missing from current font.\n",
      "  font.set_text(s, 0.0, flags=flags)\n",
      "C:\\Users\\master\\anaconda3\\envs\\multi\\lib\\site-packages\\matplotlib\\backends\\backend_agg.py:203: RuntimeWarning: Glyph 50672 missing from current font.\n",
      "  font.set_text(s, 0, flags=flags)\n"
     ]
    },
    {
     "data": {
      "image/png": "[encoded data removed]",
      "text/plain": [
       "<Figure size 432x288 with 1 Axes>"
      ]
     },
     "metadata": {
      "needs_background": "light"
     },
     "output_type": "display_data"
    }
   ],
   "source": [
    "hot_bool = (df_new['기온'] > 30)\n",
    "hot = df_new[hot_bool]\n",
    "\n",
    "cnt = hot.groupby(['연'])['연'].count()\n",
    "print(cnt)\n",
    "\n",
    "cnt.plot()\n",
    "plt.show()"
   ]
  },
  {
   "cell_type": "markdown",
   "id": "6ac428e1",
   "metadata": {},
   "source": [
    "## 회귀 분석으로 내일 기온 예측\n",
    "- n일 동안의 과거 데이터로 다음 날의 기온을 예측"
   ]
  },
  {
   "cell_type": "code",
   "execution_count": 20,
   "id": "9db34c5b",
   "metadata": {},
   "outputs": [],
   "source": [
    "from sklearn.linear_model import LinearRegression\n",
    "\n",
    "train_year = df_new['연'] <= 2020\n",
    "test_year = df_new['연'] >= 2021\n",
    "\n",
    "def make_data(data, interval=6):\n",
    "    x = [] # 학습 데이터\n",
    "    y = [] # 결과\n",
    "    \n",
    "    temps = list(data['기온'])\n",
    "    for i in range(len(temps)):\n",
    "        # interval보다 작으면 패스 (인터벌 만큼의 데이터가 기본적으로 필요)\n",
    "        if i < interval : continue\n",
    "            \n",
    "        y.append(temps[i])\n",
    "        \n",
    "        # i번째 데이터로부터 i-1, i-2, ... i-interval의 interval 개의 데이터를 뽑아냄\n",
    "        xa = []\n",
    "        for p in range(interval):\n",
    "            d = i + p - interval\n",
    "            xa.append(temps[d])\n",
    "        x.append(xa)\n",
    "    return x, y"
   ]
  },
  {
   "cell_type": "code",
   "execution_count": 22,
   "id": "8844b197",
   "metadata": {},
   "outputs": [],
   "source": [
    "train_x, train_y = make_data(df_new[train_year])\n",
    "test_x, test_y = make_data(df_new[test_year])"
   ]
  },
  {
   "cell_type": "code",
   "execution_count": 23,
   "id": "792675ee",
   "metadata": {},
   "outputs": [],
   "source": [
    "lr = LinearRegression()\n",
    "lr.fit(train_x, train_y)\n",
    "pre_y = lr.predict(test_x)"
   ]
  },
  {
   "cell_type": "code",
   "execution_count": 27,
   "id": "8672ca40",
   "metadata": {},
   "outputs": [
    {
     "data": {
      "image/png": "[encoded data removed]",
      "text/plain": [
       "<Figure size 1000x600 with 1 Axes>"
      ]
     },
     "metadata": {
      "needs_background": "light"
     },
     "output_type": "display_data"
    }
   ],
   "source": [
    "plt.figure(figsize=(10, 6), dpi=100)\n",
    "plt.plot(test_y, c='r')\n",
    "plt.plot(pre_y, c='b')\n",
    "plt.legend(['actual', 'predict'])\n",
    "plt.show()"
   ]
  },
  {
   "cell_type": "code",
   "execution_count": 28,
   "id": "c367b523",
   "metadata": {},
   "outputs": [
    {
     "name": "stdout",
     "output_type": "stream",
     "text": [
      "average : 1.8667526609946516\n",
      "max = 9.688004972843896\n"
     ]
    }
   ],
   "source": [
    "diff_y = abs(pre_y-test_y)\n",
    "print('average :', sum(diff_y)/len(diff_y))\n",
    "print('max =', max(diff_y))"
   ]
  },
  {
   "cell_type": "code",
   "execution_count": 29,
   "id": "818ff6ce",
   "metadata": {},
   "outputs": [],
   "source": [
    "from sklearn.metrics import mean_absolute_error, mean_squared_error\n",
    "import numpy as np\n",
    "\n",
    "mae = mean_absolute_error(test_y, pre_y)\n",
    "rmse = np.sqrt(mean_squared_error(test_y, pre_y))"
   ]
  },
  {
   "cell_type": "code",
   "execution_count": 30,
   "id": "2e1dd0ad",
   "metadata": {},
   "outputs": [
    {
     "name": "stdout",
     "output_type": "stream",
     "text": [
      "mae : 1.8667526609946523\n",
      "rmse : 2.4896764778956864\n"
     ]
    }
   ],
   "source": [
    "print('mae :', mae)\n",
    "print('rmse :', rmse)"
   ]
  },
  {
   "cell_type": "code",
   "execution_count": null,
   "id": "802749cc",
   "metadata": {},
   "outputs": [],
   "source": []
  }
 ],
 "metadata": {
  "kernelspec": {
   "display_name": "Python Multi",
   "language": "python",
   "name": "multi"
  },
  "language_info": {
   "codemirror_mode": {
    "name": "ipython",
    "version": 3
   },
   "file_extension": ".py",
   "mimetype": "text/x-python",
   "name": "python",
   "nbconvert_exporter": "python",
   "pygments_lexer": "ipython3",
   "version": "3.7.6"
  },
  "toc": {
   "base_numbering": 1,
   "nav_menu": {},
   "number_sections": false,
   "sideBar": true,
   "skip_h1_title": false,
   "title_cell": "Table of Contents",
   "title_sidebar": "Contents",
   "toc_cell": false,
   "toc_position": {},
   "toc_section_display": true,
   "toc_window_display": false
  }
 },
 "nbformat": 4,
 "nbformat_minor": 5
}
