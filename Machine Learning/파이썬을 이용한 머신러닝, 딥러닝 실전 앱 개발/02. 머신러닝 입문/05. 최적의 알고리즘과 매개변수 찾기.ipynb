{
 "cells": [
  {
   "cell_type": "markdown",
   "id": "d1e77896",
   "metadata": {},
   "source": [
    "## 최적의 알고리즘 찾기\n",
    "- 알고리즘 선정 : 각각의 알고리즘으로 정답률을 구하고 비교\n",
    "- 알고리즘 평가 : 크로스 밸리데이션"
   ]
  },
  {
   "cell_type": "markdown",
   "id": "59efbb57",
   "metadata": {},
   "source": [
    "### 각 알고리즘의 정답률"
   ]
  },
  {
   "cell_type": "code",
   "execution_count": 1,
   "id": "bbed44ee",
   "metadata": {},
   "outputs": [],
   "source": [
    "from sklearn.datasets import load_iris\n",
    "from sklearn.model_selection import train_test_split\n",
    "from sklearn.metrics import accuracy_score\n",
    "import warnings\n",
    "warnings.filterwarnings('ignore')\n",
    "\n",
    "from sklearn.utils import all_estimators\n",
    "\n",
    "iris = load_iris()\n",
    "\n",
    "y = iris.target\n",
    "x = iris.data"
   ]
  },
  {
   "cell_type": "code",
   "execution_count": 2,
   "id": "cab08eef",
   "metadata": {},
   "outputs": [],
   "source": [
    "x_train, x_test, y_train, y_test = train_test_split(x, y, test_size=0.2)"
   ]
  },
  {
   "cell_type": "code",
   "execution_count": 7,
   "id": "18239a34",
   "metadata": {},
   "outputs": [
    {
     "name": "stdout",
     "output_type": "stream",
     "text": [
      "AdaBoostClassifier의 정답률 : 0.9\n",
      "BaggingClassifier의 정답률 : 0.9\n",
      "BernoulliNB의 정답률 : 0.26666666666666666\n",
      "CalibratedClassifierCV의 정답률 : 0.8333333333333334\n",
      "CategoricalNB의 정답률 : 0.9333333333333333\n",
      "ComplementNB의 정답률 : 0.6\n",
      "DecisionTreeClassifier의 정답률 : 0.9\n",
      "DummyClassifier의 정답률 : 0.26666666666666666\n",
      "ExtraTreeClassifier의 정답률 : 0.9333333333333333\n",
      "ExtraTreesClassifier의 정답률 : 0.9\n",
      "GaussianNB의 정답률 : 0.9\n",
      "GaussianProcessClassifier의 정답률 : 0.9666666666666667\n",
      "GradientBoostingClassifier의 정답률 : 0.9333333333333333\n",
      "HistGradientBoostingClassifier의 정답률 : 0.9\n",
      "KNeighborsClassifier의 정답률 : 0.9666666666666667\n",
      "LabelPropagation의 정답률 : 0.9333333333333333\n",
      "LabelSpreading의 정답률 : 0.9333333333333333\n",
      "LinearDiscriminantAnalysis의 정답률 : 1.0\n",
      "LinearSVC의 정답률 : 0.9666666666666667\n",
      "LogisticRegression의 정답률 : 0.9666666666666667\n",
      "LogisticRegressionCV의 정답률 : 0.9333333333333333\n",
      "MLPClassifier의 정답률 : 0.9333333333333333\n",
      "MultinomialNB의 정답률 : 0.7666666666666667\n",
      "NearestCentroid의 정답률 : 0.9333333333333333\n",
      "NuSVC의 정답률 : 0.9666666666666667\n",
      "PassiveAggressiveClassifier의 정답률 : 0.9\n",
      "Perceptron의 정답률 : 0.8333333333333334\n",
      "QuadraticDiscriminantAnalysis의 정답률 : 1.0\n",
      "RadiusNeighborsClassifier의 정답률 : 0.9666666666666667\n",
      "RandomForestClassifier의 정답률 : 0.9\n",
      "RidgeClassifier의 정답률 : 0.7666666666666667\n",
      "RidgeClassifierCV의 정답률 : 0.7666666666666667\n",
      "SGDClassifier의 정답률 : 0.8333333333333334\n",
      "SVC의 정답률 : 0.9666666666666667\n"
     ]
    }
   ],
   "source": [
    "# 모든 classifier 알고리즘 추출\n",
    "allAlgorithms = all_estimators(type_filter='classifier')\n",
    "\n",
    "for name, algorithm in allAlgorithms:\n",
    "    try:\n",
    "        clf = algorithm()\n",
    "        clf.fit(x_train, y_train)\n",
    "        y_pred = clf.predict(x_test)\n",
    "        print(f'{name}의 정답률 :', accuracy_score(y_test, y_pred))\n",
    "    except:\n",
    "        continue"
   ]
  },
  {
   "cell_type": "markdown",
   "id": "451ac560",
   "metadata": {},
   "source": [
    "### 크로스 밸리데이션"
   ]
  },
  {
   "cell_type": "code",
   "execution_count": 8,
   "id": "61deb93e",
   "metadata": {},
   "outputs": [
    {
     "name": "stdout",
     "output_type": "stream",
     "text": [
      "AdaBoostClassifier의 정답률 :\n",
      "[0.96666667 0.96666667 0.96666667 0.86666667 0.9       ]\n",
      "BaggingClassifier의 정답률 :\n",
      "[0.93333333 0.93333333 0.93333333 0.93333333 1.        ]\n",
      "BernoulliNB의 정답률 :\n",
      "[0.3        0.23333333 0.23333333 0.3        0.2       ]\n",
      "CalibratedClassifierCV의 정답률 :\n",
      "[0.8        0.86666667 0.96666667 0.96666667 0.93333333]\n",
      "CategoricalNB의 정답률 :\n",
      "[0.93333333 0.9        0.96666667 0.9        0.93333333]\n",
      "ComplementNB의 정답률 :\n",
      "[0.53333333 0.6        0.83333333 0.63333333 0.73333333]\n",
      "DecisionTreeClassifier의 정답률 :\n",
      "[0.96666667 0.93333333 0.96666667 0.93333333 1.        ]\n",
      "DummyClassifier의 정답률 :\n",
      "[0.2        0.2        0.23333333 0.23333333 0.23333333]\n",
      "ExtraTreeClassifier의 정답률 :\n",
      "[1.         0.83333333 0.9        0.9        0.96666667]\n",
      "ExtraTreesClassifier의 정답률 :\n",
      "[0.96666667 1.         0.9        0.93333333 0.93333333]\n",
      "GaussianNB의 정답률 :\n",
      "[0.96666667 0.96666667 0.93333333 0.96666667 0.93333333]\n",
      "GaussianProcessClassifier의 정답률 :\n",
      "[0.96666667 1.         1.         0.93333333 0.93333333]\n",
      "GradientBoostingClassifier의 정답률 :\n",
      "[0.96666667 0.93333333 0.96666667 0.93333333 1.        ]\n",
      "HistGradientBoostingClassifier의 정답률 :\n",
      "[0.93333333 0.93333333 0.9        0.93333333 1.        ]\n",
      "KNeighborsClassifier의 정답률 :\n",
      "[1.         1.         0.96666667 0.96666667 0.93333333]\n",
      "LabelPropagation의 정답률 :\n",
      "[0.96666667 1.         0.93333333 0.96666667 0.93333333]\n",
      "LabelSpreading의 정답률 :\n",
      "[0.96666667 0.96666667 0.96666667 0.93333333 0.96666667]\n",
      "LinearDiscriminantAnalysis의 정답률 :\n",
      "[0.96666667 1.         1.         0.96666667 0.96666667]\n",
      "LinearSVC의 정답률 :\n",
      "[0.96666667 0.96666667 0.96666667 1.         0.93333333]\n",
      "LogisticRegression의 정답률 :\n",
      "[0.96666667 0.96666667 0.96666667 1.         0.93333333]\n",
      "LogisticRegressionCV의 정답률 :\n",
      "[1.         1.         0.86666667 0.96666667 0.93333333]\n",
      "MLPClassifier의 정답률 :\n",
      "[0.93333333 1.         1.         0.93333333 0.96666667]\n",
      "MultinomialNB의 정답률 :\n",
      "[0.63333333 0.8        0.56666667 0.9        1.        ]\n",
      "NearestCentroid의 정답률 :\n",
      "[0.86666667 0.96666667 0.93333333 0.96666667 0.86666667]\n",
      "NuSVC의 정답률 :\n",
      "[0.96666667 0.93333333 1.         0.93333333 0.96666667]\n",
      "PassiveAggressiveClassifier의 정답률 :\n",
      "[0.66666667 0.73333333 0.56666667 0.9        0.9       ]\n",
      "Perceptron의 정답률 :\n",
      "[0.86666667 0.9        0.9        0.8        0.9       ]\n",
      "QuadraticDiscriminantAnalysis의 정답률 :\n",
      "[0.93333333 1.         0.93333333 1.         1.        ]\n",
      "RadiusNeighborsClassifier의 정답률 :\n",
      "[0.96666667 0.93333333 1.         0.93333333 0.96666667]\n",
      "RandomForestClassifier의 정답률 :\n",
      "[1.         0.96666667 0.9        0.96666667 0.96666667]\n",
      "RidgeClassifier의 정답률 :\n",
      "[0.86666667 0.7        0.83333333 1.         0.73333333]\n",
      "RidgeClassifierCV의 정답률 :\n",
      "[0.83333333 0.8        0.86666667 0.76666667 0.93333333]\n",
      "SGDClassifier의 정답률 :\n",
      "[1.         1.         0.63333333 0.9        0.9       ]\n",
      "SVC의 정답률 :\n",
      "[0.96666667 0.96666667 1.         0.96666667 0.93333333]\n"
     ]
    }
   ],
   "source": [
    "from sklearn.model_selection import KFold, cross_val_score\n",
    "\n",
    "kfold_cv = KFold(n_splits=5, shuffle=True)\n",
    "\n",
    "for name, algorithm in allAlgorithms:\n",
    "    try:\n",
    "        clf = algorithm()\n",
    "        \n",
    "        # score 메서드를 가진 객체 대상으로\n",
    "        if hasattr(clf, 'score'):\n",
    "            scores = cross_val_score(clf, x, y, cv=kfold_cv)\n",
    "            print(f'{name}의 정답률 :')\n",
    "            print(scores)\n",
    "    except:\n",
    "        continue"
   ]
  },
  {
   "cell_type": "markdown",
   "id": "c562305d",
   "metadata": {},
   "source": [
    "## 최적의 매개변수 찾기"
   ]
  },
  {
   "cell_type": "markdown",
   "id": "c472be02",
   "metadata": {},
   "source": [
    "### 그리드 서치"
   ]
  },
  {
   "cell_type": "code",
   "execution_count": 11,
   "id": "52a8398d",
   "metadata": {},
   "outputs": [
    {
     "name": "stdout",
     "output_type": "stream",
     "text": [
      "최적 매개 변수 : {'C': 1, 'gamma': 0.001, 'kernel': 'linear'}\n",
      "최종 정답률 : 1.0\n",
      "Wall time: 160 ms\n"
     ]
    }
   ],
   "source": [
    "%%time\n",
    "\n",
    "from sklearn.svm import SVC\n",
    "from sklearn.model_selection import GridSearchCV\n",
    "\n",
    "parameters = [\n",
    "    {'C':[1, 10, 100, 1000], 'kernel':['linear', 'rbf', 'sigmoid'], 'gamma':[0.001, 0.0001]}\n",
    "]\n",
    "\n",
    "# 그리드 서치\n",
    "kfold_cv = KFold(n_splits=5, shuffle=True)\n",
    "clf = GridSearchCV(SVC(), param_grid=parameters, cv=kfold_cv)\n",
    "clf.fit(x_train, y_train)\n",
    "print('최적 매개 변수 :', clf.best_params_)\n",
    "\n",
    "# 평가\n",
    "y_pred = clf.predict(x_test)\n",
    "print('최종 정답률 :', accuracy_score(y_test, y_pred))"
   ]
  },
  {
   "cell_type": "markdown",
   "id": "9edbda3b",
   "metadata": {},
   "source": [
    "### RandomizedSearchCV\n",
    "- GridSearchCV는 각 파라미터 값을 리스트 형태로 미리 주어준다면\n",
    "- RandomizedSearchCV는 각 파라미터 값의 범위를 준다"
   ]
  },
  {
   "cell_type": "code",
   "execution_count": 24,
   "id": "c34a1ea7",
   "metadata": {},
   "outputs": [
    {
     "name": "stdout",
     "output_type": "stream",
     "text": [
      "최적 매개 변수 : {'C': 313, 'gamma': 0.006029654637724036, 'kernel': 'sigmoid'}\n",
      "최종 정답률 : 0.9666666666666667\n"
     ]
    }
   ],
   "source": [
    "from sklearn.model_selection import RandomizedSearchCV\n",
    "from scipy.stats import randint, uniform\n",
    "\n",
    "param_dist = {'C':randint(low=1, high=1000), 'kernel':['linear', 'rbf', 'sigmoid'], 'gamma':uniform(0.0001, 0.01)}\n",
    "\n",
    "kfold_cv = KFold(n_splits=5, shuffle=True)\n",
    "clf = RandomizedSearchCV(SVC(), param_distributions=param_dist, cv=kfold_cv)\n",
    "clf.fit(x_train, y_train)\n",
    "print('최적 매개 변수 :', clf.best_params_)\n",
    "\n",
    "# 평가\n",
    "y_pred = clf.predict(x_test)\n",
    "print('최종 정답률 :', accuracy_score(y_test, y_pred))"
   ]
  },
  {
   "cell_type": "code",
   "execution_count": null,
   "id": "59f033d5",
   "metadata": {},
   "outputs": [],
   "source": []
  }
 ],
 "metadata": {
  "kernelspec": {
   "display_name": "Python Multi",
   "language": "python",
   "name": "multi"
  },
  "language_info": {
   "codemirror_mode": {
    "name": "ipython",
    "version": 3
   },
   "file_extension": ".py",
   "mimetype": "text/x-python",
   "name": "python",
   "nbconvert_exporter": "python",
   "pygments_lexer": "ipython3",
   "version": "3.7.6"
  },
  "toc": {
   "base_numbering": 1,
   "nav_menu": {},
   "number_sections": false,
   "sideBar": true,
   "skip_h1_title": false,
   "title_cell": "Table of Contents",
   "title_sidebar": "Contents",
   "toc_cell": false,
   "toc_position": {},
   "toc_section_display": true,
   "toc_window_display": false
  }
 },
 "nbformat": 4,
 "nbformat_minor": 5
}
