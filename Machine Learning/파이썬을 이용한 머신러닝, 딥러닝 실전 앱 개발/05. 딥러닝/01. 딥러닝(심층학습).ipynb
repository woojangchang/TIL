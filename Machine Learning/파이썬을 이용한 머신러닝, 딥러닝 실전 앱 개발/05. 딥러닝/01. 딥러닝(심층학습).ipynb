{
 "cells": [
  {
   "cell_type": "markdown",
   "id": "bc84c38e",
   "metadata": {},
   "source": [
    "## 딥러닝이란\n",
    "\n",
    "### 왜 주목받고 있을까\n",
    "- 시발점 : 2012년 이미지 인식 대회 ILSVRC(ImageNet Large Scale Visual Recognition Competition)\n",
    "- 캐나다 토론토 대학의 제프리 힌턴(Geoffrey Hinton) 교수가 이끄는 팀이 딥러닝을 통해 2위 팀과 압도적인 정답률 차이를 보이며 우승\n",
    "- 물체 인식 분야에서 압도적인 성능을 보임\n",
    "- 이미지 인식, 음성 인식, 자연어 처리 등 다양한 분야에서 활용\n",
    "- 1980년대부터 있었으나 컴퓨터의 성능이 높아지고 비즈니스 분야에서 성공을 거두면서 주목받게 됨"
   ]
  },
  {
   "cell_type": "markdown",
   "id": "858e370d",
   "metadata": {},
   "source": [
    "### 신경망\n",
    "- 인간의 뇌에 있는 신경 세포(뉴런)을 컴퓨터로 구현한 것\n",
    "- 입력 - 입력 레이어 - 은닉 레이어 - 출력 레이어 - 출력\n",
    "- 신경망이 3-레이어 이상 쌓이면 심층 신경망(DNN)이라고 함"
   ]
  },
  {
   "cell_type": "markdown",
   "id": "9372afa0",
   "metadata": {},
   "source": [
    "### 퍼셉트론\n",
    "- 1957년 프랭크 로젠블라트(Frank Rosenblatt)가 고안\n",
    "- 입력값과 가중치를 설정하여 출력값을 냄"
   ]
  },
  {
   "cell_type": "code",
   "execution_count": null,
   "id": "17a119d5",
   "metadata": {},
   "outputs": [],
   "source": []
  }
 ],
 "metadata": {
  "kernelspec": {
   "display_name": "tf25",
   "language": "python",
   "name": "tf25"
  },
  "language_info": {
   "codemirror_mode": {
    "name": "ipython",
    "version": 3
   },
   "file_extension": ".py",
   "mimetype": "text/x-python",
   "name": "python",
   "nbconvert_exporter": "python",
   "pygments_lexer": "ipython3",
   "version": "3.9.6"
  },
  "toc": {
   "base_numbering": 1,
   "nav_menu": {},
   "number_sections": false,
   "sideBar": true,
   "skip_h1_title": false,
   "title_cell": "Table of Contents",
   "title_sidebar": "Contents",
   "toc_cell": false,
   "toc_position": {},
   "toc_section_display": true,
   "toc_window_display": false
  }
 },
 "nbformat": 4,
 "nbformat_minor": 5
}
