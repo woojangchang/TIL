{
 "cells": [
  {
   "cell_type": "markdown",
   "id": "6204c716",
   "metadata": {},
   "source": [
    "## Tensorflow란\n",
    "- 대규모 숫자 계산 라이브러리\n",
    "- Tensor : 다차원 배열\n",
    "- 윈도우/macOS/리눅스 등 다양한 OS 지원\n",
    "- C++로 만들어졌으며 Python/자바/고/C 언어 등 다양한 언어에서 사용 가능\n",
    "- 상업적으로 사용할 수 있는 오픈 소스(Apache 2.0)\n",
    "- 이미지 관련 기능도 들어있으나, 이미지 처리에 특화된 OpenCV 등의 라이브러리와 조합해 사용하는 경우가 많음"
   ]
  },
  {
   "cell_type": "markdown",
   "id": "fa136b2d",
   "metadata": {},
   "source": [
    "## TensorFlow 설치와 동작 확인하기"
   ]
  },
  {
   "cell_type": "code",
   "execution_count": 1,
   "id": "16c854be",
   "metadata": {},
   "outputs": [
    {
     "name": "stdout",
     "output_type": "stream",
     "text": [
      "tf.Tensor(b'Hello', shape=(), dtype=string)\n"
     ]
    }
   ],
   "source": [
    "import tensorflow as tf\n",
    "hello = tf.constant('Hello')\n",
    "print(hello)"
   ]
  },
  {
   "cell_type": "markdown",
   "id": "a56d1d44",
   "metadata": {},
   "source": [
    "## Tensorflow 데이터 플로 그래프\n",
    "- 데이터 플로 그래프 : 계산식을 컴파일해서 그래프라는 객체를 구축한 것\n",
    "- 어떤 계산을 할지 먼저 정하고 나서 추후에 데이터를 전달하면서 처리하는 형태로 사용 : 1.x 버전이었고, 2.x도 이런지는 모르겠음"
   ]
  },
  {
   "cell_type": "markdown",
   "id": "62d82c0d",
   "metadata": {},
   "source": [
    "### 덧셈하는 데이터 플로 그래프"
   ]
  },
  {
   "cell_type": "code",
   "execution_count": 2,
   "id": "3780b512",
   "metadata": {},
   "outputs": [
    {
     "name": "stdout",
     "output_type": "stream",
     "text": [
      "tf.Tensor(130, shape=(), dtype=int32)\n"
     ]
    }
   ],
   "source": [
    "import tensorflow as tf\n",
    "\n",
    "# 상수 정의\n",
    "a = tf.constant(100)\n",
    "b = tf.constant(30)\n",
    "\n",
    "# 연산 정의\n",
    "add_op = a + b\n",
    "\n",
    "# 출력\n",
    "print(add_op)"
   ]
  },
  {
   "cell_type": "markdown",
   "id": "e5f60eb7",
   "metadata": {},
   "source": [
    "### 곱셈하는 데이터 플로 그래프"
   ]
  },
  {
   "cell_type": "code",
   "execution_count": 3,
   "id": "2b12b21b",
   "metadata": {},
   "outputs": [
    {
     "name": "stdout",
     "output_type": "stream",
     "text": [
      "tf.Tensor(900, shape=(), dtype=int32)\n"
     ]
    }
   ],
   "source": [
    "import tensorflow as tf\n",
    "\n",
    "# 상수 정의\n",
    "a = tf.constant(10)\n",
    "b = tf.constant(20)\n",
    "c = tf.constant(30)\n",
    "\n",
    "# 연산 정의\n",
    "mul_op = (a+b)*c\n",
    "\n",
    "# 출력\n",
    "print(mul_op)"
   ]
  },
  {
   "cell_type": "markdown",
   "id": "9aaa179c",
   "metadata": {},
   "source": [
    "### 데이터 플로 그래프를 그림으로 확인하기\n",
    "- 텐서보드(Tensor Board) 이용\n",
    "- https://www.tensorflow.org/tensorboard/get_started?hl=ko\n",
    "- 책의 예제는 구버전이라 현재 버전에는 작동하지 않아서 패스"
   ]
  },
  {
   "cell_type": "markdown",
   "id": "70dbdd4a",
   "metadata": {},
   "source": [
    "### 변수 사용하기\n",
    "- `tf.Variable.assign(value)`로 값을 할당\n",
    "    - 구버전 : `tf.assign(variable, value)`"
   ]
  },
  {
   "cell_type": "code",
   "execution_count": 6,
   "id": "82cf2c6b",
   "metadata": {},
   "outputs": [
    {
     "name": "stdout",
     "output_type": "stream",
     "text": [
      "<tf.Variable 'Variable:0' shape=() dtype=int32, numpy=0>\n",
      "<tf.Variable 'Variable:0' shape=() dtype=int32, numpy=200>\n"
     ]
    }
   ],
   "source": [
    "# 변수 정의\n",
    "v = tf.Variable(0)\n",
    "\n",
    "print(v)\n",
    "\n",
    "# 상수 정의\n",
    "a = tf.constant(10)\n",
    "b = tf.constant(20)\n",
    "\n",
    "# 연산 정의\n",
    "mul_op = tf.multiply(a, b)\n",
    "assign_op = v.assign(mul_op)\n",
    "\n",
    "# 출력\n",
    "print(v)"
   ]
  },
  {
   "cell_type": "markdown",
   "id": "783fcb4a",
   "metadata": {},
   "source": [
    "플레이스홀더부터는 생략 (2.x에는 없는 기능)"
   ]
  },
  {
   "cell_type": "code",
   "execution_count": null,
   "id": "822e5c87",
   "metadata": {},
   "outputs": [],
   "source": []
  }
 ],
 "metadata": {
  "kernelspec": {
   "display_name": "tf25",
   "language": "python",
   "name": "tf25"
  },
  "language_info": {
   "codemirror_mode": {
    "name": "ipython",
    "version": 3
   },
   "file_extension": ".py",
   "mimetype": "text/x-python",
   "name": "python",
   "nbconvert_exporter": "python",
   "pygments_lexer": "ipython3",
   "version": "3.9.6"
  },
  "toc": {
   "base_numbering": 1,
   "nav_menu": {},
   "number_sections": false,
   "sideBar": true,
   "skip_h1_title": false,
   "title_cell": "Table of Contents",
   "title_sidebar": "Contents",
   "toc_cell": false,
   "toc_position": {},
   "toc_section_display": true,
   "toc_window_display": false
  }
 },
 "nbformat": 4,
 "nbformat_minor": 5
}
