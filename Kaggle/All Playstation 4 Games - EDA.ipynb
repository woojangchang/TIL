{
 "cells": [
  {
   "cell_type": "markdown",
   "id": "a32c88fd",
   "metadata": {},
   "source": [
    "# All Playstation 4 Games\n",
    "https://www.kaggle.com/shivamb/all-playstation-4-games"
   ]
  },
  {
   "cell_type": "code",
   "execution_count": 1,
   "id": "866a2bd8",
   "metadata": {},
   "outputs": [
    {
     "data": {
      "text/html": [
       "<div>\n",
       "<style scoped>\n",
       "    .dataframe tbody tr th:only-of-type {\n",
       "        vertical-align: middle;\n",
       "    }\n",
       "\n",
       "    .dataframe tbody tr th {\n",
       "        vertical-align: top;\n",
       "    }\n",
       "\n",
       "    .dataframe thead th {\n",
       "        text-align: right;\n",
       "    }\n",
       "</style>\n",
       "<table border=\"1\" class=\"dataframe\">\n",
       "  <thead>\n",
       "    <tr style=\"text-align: right;\">\n",
       "      <th></th>\n",
       "      <th>ID</th>\n",
       "      <th>GamePSID</th>\n",
       "      <th>GameName</th>\n",
       "      <th>Publisher</th>\n",
       "      <th>ReleaseYear</th>\n",
       "      <th>ReleaseDate</th>\n",
       "      <th>Developer</th>\n",
       "      <th>Genre</th>\n",
       "      <th>Features</th>\n",
       "      <th>Size</th>\n",
       "      <th>Medium</th>\n",
       "      <th>Hardware</th>\n",
       "      <th>CompletionTime(Hours)</th>\n",
       "      <th>is_Digital_game</th>\n",
       "      <th>is_Physical_game</th>\n",
       "      <th>OfficialWebsite</th>\n",
       "    </tr>\n",
       "  </thead>\n",
       "  <tbody>\n",
       "    <tr>\n",
       "      <th>0</th>\n",
       "      <td>1</td>\n",
       "      <td>3045</td>\n",
       "      <td>Q*Bert Rebooted</td>\n",
       "      <td>LOOT Interactive</td>\n",
       "      <td>2015.0</td>\n",
       "      <td>2015-02-17</td>\n",
       "      <td>Gonzo Games</td>\n",
       "      <td>Action</td>\n",
       "      <td>PS Plus, PS Now</td>\n",
       "      <td>109.00</td>\n",
       "      <td>NaN</td>\n",
       "      <td>NaN</td>\n",
       "      <td>NaN</td>\n",
       "      <td>0</td>\n",
       "      <td>0</td>\n",
       "      <td>http://www.sidelineamusements.com/qbert/</td>\n",
       "    </tr>\n",
       "    <tr>\n",
       "      <th>1</th>\n",
       "      <td>2</td>\n",
       "      <td>3051</td>\n",
       "      <td>Q*Bert Rebooted (EU)</td>\n",
       "      <td>LOOT Interactive</td>\n",
       "      <td>2015.0</td>\n",
       "      <td>2015-07-22</td>\n",
       "      <td>LOOT Interactive</td>\n",
       "      <td>Action</td>\n",
       "      <td>PS Now</td>\n",
       "      <td>127.00</td>\n",
       "      <td>Digital only</td>\n",
       "      <td>NaN</td>\n",
       "      <td>NaN</td>\n",
       "      <td>0</td>\n",
       "      <td>0</td>\n",
       "      <td>http://www.sidelineamusements.com/qbert/</td>\n",
       "    </tr>\n",
       "    <tr>\n",
       "      <th>2</th>\n",
       "      <td>3</td>\n",
       "      <td>6703</td>\n",
       "      <td>Q.U.B.E. 2</td>\n",
       "      <td>Trapped Nerve Games</td>\n",
       "      <td>2018.0</td>\n",
       "      <td>2018-03-13</td>\n",
       "      <td>Toxic Games</td>\n",
       "      <td>Puzzle, Platformer</td>\n",
       "      <td>NaN</td>\n",
       "      <td>2682.88</td>\n",
       "      <td>Digital only</td>\n",
       "      <td>NaN</td>\n",
       "      <td>NaN</td>\n",
       "      <td>0</td>\n",
       "      <td>0</td>\n",
       "      <td>http://qube-game.com/</td>\n",
       "    </tr>\n",
       "    <tr>\n",
       "      <th>3</th>\n",
       "      <td>4</td>\n",
       "      <td>3403</td>\n",
       "      <td>Q.U.B.E. Director's Cut</td>\n",
       "      <td>GRIP Digital</td>\n",
       "      <td>2015.0</td>\n",
       "      <td>2015-07-21</td>\n",
       "      <td>Toxic Games</td>\n",
       "      <td>Puzzle, Platformer</td>\n",
       "      <td>PS Plus</td>\n",
       "      <td>1945.60</td>\n",
       "      <td>Digital only</td>\n",
       "      <td>NaN</td>\n",
       "      <td>3-4</td>\n",
       "      <td>0</td>\n",
       "      <td>0</td>\n",
       "      <td>http://qube-game.com/</td>\n",
       "    </tr>\n",
       "    <tr>\n",
       "      <th>4</th>\n",
       "      <td>5</td>\n",
       "      <td>13176</td>\n",
       "      <td>Quake (PS4)</td>\n",
       "      <td>Bethesda Softworks</td>\n",
       "      <td>2021.0</td>\n",
       "      <td>2021-08-19</td>\n",
       "      <td>MachineGames, Nightdive Studios, id Software</td>\n",
       "      <td>First Person Shooter</td>\n",
       "      <td>NaN</td>\n",
       "      <td>NaN</td>\n",
       "      <td>Physical and Digital</td>\n",
       "      <td>NaN</td>\n",
       "      <td>NaN</td>\n",
       "      <td>0</td>\n",
       "      <td>0</td>\n",
       "      <td>https://bethesda.net/en/game/quake</td>\n",
       "    </tr>\n",
       "  </tbody>\n",
       "</table>\n",
       "</div>"
      ],
      "text/plain": [
       "   ID  GamePSID                 GameName            Publisher  ReleaseYear  \\\n",
       "0   1      3045          Q*Bert Rebooted     LOOT Interactive       2015.0   \n",
       "1   2      3051     Q*Bert Rebooted (EU)     LOOT Interactive       2015.0   \n",
       "2   3      6703               Q.U.B.E. 2  Trapped Nerve Games       2018.0   \n",
       "3   4      3403  Q.U.B.E. Director's Cut         GRIP Digital       2015.0   \n",
       "4   5     13176              Quake (PS4)   Bethesda Softworks       2021.0   \n",
       "\n",
       "  ReleaseDate                                     Developer  \\\n",
       "0  2015-02-17                                   Gonzo Games   \n",
       "1  2015-07-22                              LOOT Interactive   \n",
       "2  2018-03-13                                   Toxic Games   \n",
       "3  2015-07-21                                   Toxic Games   \n",
       "4  2021-08-19  MachineGames, Nightdive Studios, id Software   \n",
       "\n",
       "                  Genre         Features     Size                Medium  \\\n",
       "0                Action  PS Plus, PS Now   109.00                   NaN   \n",
       "1                Action           PS Now   127.00          Digital only   \n",
       "2    Puzzle, Platformer              NaN  2682.88          Digital only   \n",
       "3    Puzzle, Platformer          PS Plus  1945.60          Digital only   \n",
       "4  First Person Shooter              NaN      NaN  Physical and Digital   \n",
       "\n",
       "  Hardware CompletionTime(Hours)  is_Digital_game  is_Physical_game  \\\n",
       "0      NaN                   NaN                0                 0   \n",
       "1      NaN                   NaN                0                 0   \n",
       "2      NaN                   NaN                0                 0   \n",
       "3      NaN                   3-4                0                 0   \n",
       "4      NaN                   NaN                0                 0   \n",
       "\n",
       "                            OfficialWebsite  \n",
       "0  http://www.sidelineamusements.com/qbert/  \n",
       "1  http://www.sidelineamusements.com/qbert/  \n",
       "2                     http://qube-game.com/  \n",
       "3                     http://qube-game.com/  \n",
       "4        https://bethesda.net/en/game/quake  "
      ]
     },
     "execution_count": 1,
     "metadata": {},
     "output_type": "execute_result"
    }
   ],
   "source": [
    "import pandas as pd\n",
    "\n",
    "df = pd.read_csv('./data/playstation_4_games.csv')\n",
    "df.head()"
   ]
  },
  {
   "cell_type": "code",
   "execution_count": 4,
   "id": "698d1508",
   "metadata": {},
   "outputs": [
    {
     "data": {
      "text/plain": [
       "(9686, 16)"
      ]
     },
     "execution_count": 4,
     "metadata": {},
     "output_type": "execute_result"
    }
   ],
   "source": [
    "df.shape"
   ]
  },
  {
   "cell_type": "markdown",
   "id": "9747568d",
   "metadata": {},
   "source": [
    "## 데이터 요약, dtype 변경"
   ]
  },
  {
   "cell_type": "code",
   "execution_count": 11,
   "id": "49dc8d01",
   "metadata": {},
   "outputs": [
    {
     "name": "stdout",
     "output_type": "stream",
     "text": [
      "<class 'pandas.core.frame.DataFrame'>\n",
      "RangeIndex: 9686 entries, 0 to 9685\n",
      "Data columns (total 16 columns):\n",
      " #   Column                 Non-Null Count  Dtype  \n",
      "---  ------                 --------------  -----  \n",
      " 0   ID                     9686 non-null   int64  \n",
      " 1   GamePSID               9686 non-null   int64  \n",
      " 2   GameName               9686 non-null   object \n",
      " 3   Publisher              8964 non-null   object \n",
      " 4   ReleaseYear            8952 non-null   float64\n",
      " 5   ReleaseDate            8952 non-null   object \n",
      " 6   Developer              8987 non-null   object \n",
      " 7   Genre                  8898 non-null   object \n",
      " 8   Features               1749 non-null   object \n",
      " 9   Size                   7666 non-null   float64\n",
      " 10  Medium                 8937 non-null   object \n",
      " 11  Hardware               1512 non-null   object \n",
      " 12  CompletionTime(Hours)  2230 non-null   object \n",
      " 13  is_Digital_game        9686 non-null   int64  \n",
      " 14  is_Physical_game       9686 non-null   int64  \n",
      " 15  OfficialWebsite        8089 non-null   object \n",
      "dtypes: float64(2), int64(4), object(10)\n",
      "memory usage: 1.2+ MB\n"
     ]
    }
   ],
   "source": [
    "df.info()"
   ]
  },
  {
   "cell_type": "code",
   "execution_count": 12,
   "id": "e5614303",
   "metadata": {},
   "outputs": [
    {
     "data": {
      "text/plain": [
       "dtype('O')"
      ]
     },
     "execution_count": 12,
     "metadata": {},
     "output_type": "execute_result"
    }
   ],
   "source": [
    "df['ReleaseDate'].dtype"
   ]
  },
  {
   "cell_type": "code",
   "execution_count": 22,
   "id": "e24bd2bb",
   "metadata": {},
   "outputs": [],
   "source": [
    "df['ReleaseDate'] = pd.to_datetime(df['ReleaseDate'], format='%Y-%m-%d')"
   ]
  },
  {
   "cell_type": "code",
   "execution_count": 23,
   "id": "4393d50a",
   "metadata": {},
   "outputs": [
    {
     "data": {
      "text/html": [
       "<div>\n",
       "<style scoped>\n",
       "    .dataframe tbody tr th:only-of-type {\n",
       "        vertical-align: middle;\n",
       "    }\n",
       "\n",
       "    .dataframe tbody tr th {\n",
       "        vertical-align: top;\n",
       "    }\n",
       "\n",
       "    .dataframe thead th {\n",
       "        text-align: right;\n",
       "    }\n",
       "</style>\n",
       "<table border=\"1\" class=\"dataframe\">\n",
       "  <thead>\n",
       "    <tr style=\"text-align: right;\">\n",
       "      <th></th>\n",
       "      <th>ID</th>\n",
       "      <th>GamePSID</th>\n",
       "      <th>GameName</th>\n",
       "      <th>Publisher</th>\n",
       "      <th>ReleaseYear</th>\n",
       "      <th>ReleaseDate</th>\n",
       "      <th>Developer</th>\n",
       "      <th>Genre</th>\n",
       "      <th>Features</th>\n",
       "      <th>Size</th>\n",
       "      <th>Medium</th>\n",
       "      <th>Hardware</th>\n",
       "      <th>CompletionTime(Hours)</th>\n",
       "      <th>is_Digital_game</th>\n",
       "      <th>is_Physical_game</th>\n",
       "      <th>OfficialWebsite</th>\n",
       "    </tr>\n",
       "  </thead>\n",
       "  <tbody>\n",
       "    <tr>\n",
       "      <th>0</th>\n",
       "      <td>1</td>\n",
       "      <td>3045</td>\n",
       "      <td>Q*Bert Rebooted</td>\n",
       "      <td>LOOT Interactive</td>\n",
       "      <td>2015.0</td>\n",
       "      <td>2015-02-17</td>\n",
       "      <td>Gonzo Games</td>\n",
       "      <td>Action</td>\n",
       "      <td>PS Plus, PS Now</td>\n",
       "      <td>109.00</td>\n",
       "      <td>NaN</td>\n",
       "      <td>NaN</td>\n",
       "      <td>NaN</td>\n",
       "      <td>0</td>\n",
       "      <td>0</td>\n",
       "      <td>http://www.sidelineamusements.com/qbert/</td>\n",
       "    </tr>\n",
       "    <tr>\n",
       "      <th>1</th>\n",
       "      <td>2</td>\n",
       "      <td>3051</td>\n",
       "      <td>Q*Bert Rebooted (EU)</td>\n",
       "      <td>LOOT Interactive</td>\n",
       "      <td>2015.0</td>\n",
       "      <td>2015-07-22</td>\n",
       "      <td>LOOT Interactive</td>\n",
       "      <td>Action</td>\n",
       "      <td>PS Now</td>\n",
       "      <td>127.00</td>\n",
       "      <td>Digital only</td>\n",
       "      <td>NaN</td>\n",
       "      <td>NaN</td>\n",
       "      <td>0</td>\n",
       "      <td>0</td>\n",
       "      <td>http://www.sidelineamusements.com/qbert/</td>\n",
       "    </tr>\n",
       "    <tr>\n",
       "      <th>2</th>\n",
       "      <td>3</td>\n",
       "      <td>6703</td>\n",
       "      <td>Q.U.B.E. 2</td>\n",
       "      <td>Trapped Nerve Games</td>\n",
       "      <td>2018.0</td>\n",
       "      <td>2018-03-13</td>\n",
       "      <td>Toxic Games</td>\n",
       "      <td>Puzzle, Platformer</td>\n",
       "      <td>NaN</td>\n",
       "      <td>2682.88</td>\n",
       "      <td>Digital only</td>\n",
       "      <td>NaN</td>\n",
       "      <td>NaN</td>\n",
       "      <td>0</td>\n",
       "      <td>0</td>\n",
       "      <td>http://qube-game.com/</td>\n",
       "    </tr>\n",
       "    <tr>\n",
       "      <th>3</th>\n",
       "      <td>4</td>\n",
       "      <td>3403</td>\n",
       "      <td>Q.U.B.E. Director's Cut</td>\n",
       "      <td>GRIP Digital</td>\n",
       "      <td>2015.0</td>\n",
       "      <td>2015-07-21</td>\n",
       "      <td>Toxic Games</td>\n",
       "      <td>Puzzle, Platformer</td>\n",
       "      <td>PS Plus</td>\n",
       "      <td>1945.60</td>\n",
       "      <td>Digital only</td>\n",
       "      <td>NaN</td>\n",
       "      <td>3-4</td>\n",
       "      <td>0</td>\n",
       "      <td>0</td>\n",
       "      <td>http://qube-game.com/</td>\n",
       "    </tr>\n",
       "    <tr>\n",
       "      <th>4</th>\n",
       "      <td>5</td>\n",
       "      <td>13176</td>\n",
       "      <td>Quake (PS4)</td>\n",
       "      <td>Bethesda Softworks</td>\n",
       "      <td>2021.0</td>\n",
       "      <td>2021-08-19</td>\n",
       "      <td>MachineGames, Nightdive Studios, id Software</td>\n",
       "      <td>First Person Shooter</td>\n",
       "      <td>NaN</td>\n",
       "      <td>NaN</td>\n",
       "      <td>Physical and Digital</td>\n",
       "      <td>NaN</td>\n",
       "      <td>NaN</td>\n",
       "      <td>0</td>\n",
       "      <td>0</td>\n",
       "      <td>https://bethesda.net/en/game/quake</td>\n",
       "    </tr>\n",
       "  </tbody>\n",
       "</table>\n",
       "</div>"
      ],
      "text/plain": [
       "   ID  GamePSID                 GameName            Publisher  ReleaseYear  \\\n",
       "0   1      3045          Q*Bert Rebooted     LOOT Interactive       2015.0   \n",
       "1   2      3051     Q*Bert Rebooted (EU)     LOOT Interactive       2015.0   \n",
       "2   3      6703               Q.U.B.E. 2  Trapped Nerve Games       2018.0   \n",
       "3   4      3403  Q.U.B.E. Director's Cut         GRIP Digital       2015.0   \n",
       "4   5     13176              Quake (PS4)   Bethesda Softworks       2021.0   \n",
       "\n",
       "  ReleaseDate                                     Developer  \\\n",
       "0  2015-02-17                                   Gonzo Games   \n",
       "1  2015-07-22                              LOOT Interactive   \n",
       "2  2018-03-13                                   Toxic Games   \n",
       "3  2015-07-21                                   Toxic Games   \n",
       "4  2021-08-19  MachineGames, Nightdive Studios, id Software   \n",
       "\n",
       "                  Genre         Features     Size                Medium  \\\n",
       "0                Action  PS Plus, PS Now   109.00                   NaN   \n",
       "1                Action           PS Now   127.00          Digital only   \n",
       "2    Puzzle, Platformer              NaN  2682.88          Digital only   \n",
       "3    Puzzle, Platformer          PS Plus  1945.60          Digital only   \n",
       "4  First Person Shooter              NaN      NaN  Physical and Digital   \n",
       "\n",
       "  Hardware CompletionTime(Hours)  is_Digital_game  is_Physical_game  \\\n",
       "0      NaN                   NaN                0                 0   \n",
       "1      NaN                   NaN                0                 0   \n",
       "2      NaN                   NaN                0                 0   \n",
       "3      NaN                   3-4                0                 0   \n",
       "4      NaN                   NaN                0                 0   \n",
       "\n",
       "                            OfficialWebsite  \n",
       "0  http://www.sidelineamusements.com/qbert/  \n",
       "1  http://www.sidelineamusements.com/qbert/  \n",
       "2                     http://qube-game.com/  \n",
       "3                     http://qube-game.com/  \n",
       "4        https://bethesda.net/en/game/quake  "
      ]
     },
     "execution_count": 23,
     "metadata": {},
     "output_type": "execute_result"
    }
   ],
   "source": [
    "df.head()"
   ]
  },
  {
   "cell_type": "code",
   "execution_count": 24,
   "id": "dc0fbb4a",
   "metadata": {},
   "outputs": [
    {
     "data": {
      "text/plain": [
       "dtype('<M8[ns]')"
      ]
     },
     "execution_count": 24,
     "metadata": {},
     "output_type": "execute_result"
    }
   ],
   "source": [
    "df['ReleaseDate'].dtype"
   ]
  },
  {
   "cell_type": "markdown",
   "id": "17fe3ce8",
   "metadata": {},
   "source": [
    "### 장르"
   ]
  },
  {
   "cell_type": "code",
   "execution_count": 52,
   "id": "5e70160e",
   "metadata": {
    "scrolled": true
   },
   "outputs": [
    {
     "data": {
      "text/plain": [
       "array(['Action', 'Puzzle, Platformer', 'First Person Shooter', nan,\n",
       "       'Stealth', 'Strategy, Turn Based', 'Platformer',\n",
       "       'Action-Adventure', 'Adventure, Point & Click',\n",
       "       'Action-RPG, Role Playing',\n",
       "       'Roguelite, Role Playing, Turn Based, Dungeon Crawler', 'Party',\n",
       "       'Educational & Trivia', 'Collectable Card Game', \"Shoot 'em up\",\n",
       "       'Puzzle', 'Open World, Survival', 'Adventure', 'Fighting',\n",
       "       'Third Person Shooter, Mech', 'Aerial, Vehicular Combat',\n",
       "       'Mech, Strategy, Turn Based', \"Beat 'em up\",\n",
       "       'Battle Royale, First Person Shooter',\n",
       "       'Action-RPG, Role Playing, Third Person Shooter, MMO',\n",
       "       'Hack & Slash', 'Strategy, Real Time', 'Strategy',\n",
       "       'Role Playing, Turn Based', 'Role Playing, Strategy, Turn Based',\n",
       "       'Open World, Third Person Shooter, Stealth', 'Sports',\n",
       "       'Visual Novel', 'Music', 'Puzzle, Adventure', 'Simulation',\n",
       "       'Run & Gun', 'Role Playing, MMO', 'Survival Horror',\n",
       "       'Educational & Trivia, Party', 'Action-Adventure, Stealth',\n",
       "       'Roguelite', 'Puzzle, Educational & Trivia', 'Action Horror',\n",
       "       'Platformer, Music', \"On Rails, Shoot 'em up\",\n",
       "       'Hunting, First Person Shooter, Sports', 'Stealth, Platformer',\n",
       "       \"Platformer, Run & Gun, Shoot 'em up\", 'Roguelite, Survival',\n",
       "       'Open World, Action-Adventure', 'Mech, Vehicular Combat',\n",
       "       'Sports, Equestrian Sports',\n",
       "       'Simulation, Sports, Equestrian Sports',\n",
       "       'Arcade Racing, Collection', 'Roguelite, Hack & Slash',\n",
       "       'Role Playing, Turn Based, Dungeon Crawler',\n",
       "       'Strategy, Tower Defence', 'Management', 'Puzzle, Party',\n",
       "       'Automobile, Vehicular Combat',\n",
       "       'Action-RPG, Role Playing, Strategy, Tower Defence',\n",
       "       'Naval, Vehicular Combat', 'Sports, Football',\n",
       "       'Action Horror, Third Person Shooter',\n",
       "       'Strategy, Management, Turn Based', 'Battle Royale, Action',\n",
       "       'Action Horror, First Person Shooter',\n",
       "       'Automobile, Simulation Racing, Sports',\n",
       "       'Automobile, Simulation Racing',\n",
       "       'Automobile, Arcade Racing, Vehicular Combat', 'Sports, Wrestling',\n",
       "       'Sports, Hockey', 'Sports, Golf',\n",
       "       'Fighting, Sports, Mixed Martial Arts',\n",
       "       'Sports, Mixed Martial Arts', 'Third Person Shooter',\n",
       "       'Sports, Baseball', 'Action-RPG, Role Playing, MMO',\n",
       "       'Open World, Action-RPG, Role Playing',\n",
       "       'Open World, Simulation, Aerial, Vehicular Combat, MMO',\n",
       "       'Metroidvania, Role Playing',\n",
       "       'Simulation, Aerial, Vehicular Combat',\n",
       "       'Metroidvania, Action-RPG, Role Playing, Platformer',\n",
       "       \"Roguelite, Shoot 'em up\", 'Metroidvania, Platformer',\n",
       "       'Fishing, Simulation, Sports',\n",
       "       'Roguelite, Aerial, Vehicular Combat', 'Role Playing, Collection',\n",
       "       'Role Playing, Platformer, Turn Based, Dungeon Crawler',\n",
       "       \"Mech, On Rails, Shoot 'em up, Collection\",\n",
       "       'Automobile, Arcade Racing', 'Sports, Table Tennis',\n",
       "       'Arcade Racing',\n",
       "       'Automobile, Open World, First Person Shooter, Vehicular Combat',\n",
       "       'Simulation, Sandbox, Management, Real Time',\n",
       "       'Role Playing, Real Time', 'Fishing, Sports',\n",
       "       'Third Person Shooter, Platformer',\n",
       "       'Action-Adventure, Adventure, Visual Novel', 'Dungeon Crawler',\n",
       "       'Card & Board', 'Battle Royale, Third Person Shooter',\n",
       "       'Open World, First Person Shooter, Third Person Shooter',\n",
       "       'Open World, Third Person Shooter',\n",
       "       \"Aerial, On Rails, Vehicular Combat, Shoot 'em up\",\n",
       "       'Battle Royale, Naval, Vehicular Combat',\n",
       "       'Action-RPG, Role Playing, Management',\n",
       "       'Action-RPG, Role Playing, Third Person Shooter',\n",
       "       'Stealth, Survival Horror', 'Adventure, Visual Novel',\n",
       "       'Action Horror, Third Person Shooter, Survival Horror',\n",
       "       'Simulation, Management', 'Roguelite, First Person Shooter',\n",
       "       'Simulation Racing', 'Sports, Cycling, Skiing, Snowboarding',\n",
       "       'Roguelite, Platformer', 'Arcade Racing, Naval',\n",
       "       'Collectable Card Game, Card & Board',\n",
       "       'Third Person Shooter, Stealth, Platformer',\n",
       "       'Strategy, Card & Board', 'Roguelite, Third Person Shooter',\n",
       "       \"Battle Royale, Beat 'em up\",\n",
       "       'Automobile, Open World, Arcade Racing, Vehicular Combat',\n",
       "       'Sports, Boxing', 'Platformer, Strategy, Tower Defence',\n",
       "       'Roguelite, Action-RPG, Role Playing',\n",
       "       'Roguelite, Role Playing, Turn Based', 'Card & Board, Pinball',\n",
       "       'Strategy, Management, Turn Based, Real Time',\n",
       "       'Strategy, Management, Real Time', 'Roguelite, Puzzle',\n",
       "       'Tower Defence', 'Sports, Rugby', 'Simulation Racing, Aerial',\n",
       "       'Simulation, Strategy, Turn Based', \"Platformer, Shoot 'em up\",\n",
       "       'Sports, Tennis', 'Action-RPG, Role Playing, MMO, Dungeon Crawler',\n",
       "       'Sandbox', 'Platformer, Collection',\n",
       "       'First Person Shooter, On Rails', 'Metroidvania, Action-Adventure',\n",
       "       'Collection', 'Open World, Adventure', 'Casino',\n",
       "       'Automobile, Open World, Arcade Racing',\n",
       "       'Automobile, Open World, Arcade Racing, Naval, Aerial',\n",
       "       'Battle Royale, First Person Shooter, Third Person Shooter, MMO',\n",
       "       'Point & Click', 'Arcade Racing, Aerial',\n",
       "       'Role Playing, Strategy, Turn Based, Dungeon Crawler',\n",
       "       'Open World, Action-RPG, Role Playing, MMO, Dungeon Crawler',\n",
       "       'Simulation, Strategy', 'Puzzle, Action-Adventure', 'Survival',\n",
       "       'MMO, Casino', 'Collection, Visual Novel',\n",
       "       'Role Playing, Collectable Card Game, Turn Based',\n",
       "       'Action-RPG, Role Playing, Dungeon Crawler', 'Collection, Party',\n",
       "       'Fighting, Collection',\n",
       "       'Action Horror, Third Person Shooter, Stealth',\n",
       "       \"Action-Adventure, Beat 'em up\", 'Role Playing, Music',\n",
       "       'Open World, First Person Shooter, Role Playing', 'Pinball',\n",
       "       'Action-RPG, Role Playing, Platformer',\n",
       "       'Action-Adventure, Survival', 'Survival, Management',\n",
       "       'Roguelite, Stealth, Platformer',\n",
       "       'Role Playing, Platformer, Turn Based', 'Sandbox, MMO',\n",
       "       'First Person Shooter, Survival Horror',\n",
       "       'Adventure, Collection, Point & Click',\n",
       "       'Open World, Stealth, Simulation', 'Stealth, Adventure',\n",
       "       'First Person Shooter, Mech', 'Action-Adventure, Party',\n",
       "       'Fighting, Mech', 'Roguelite, Action-Adventure',\n",
       "       'Open World, First Person Shooter, Role Playing, Third Person Shooter',\n",
       "       'Open World, Role Playing, Third Person Shooter',\n",
       "       'Sports, Skateboarding, Collection', 'Sports, Skateboarding',\n",
       "       'Sports, Bullfighting', 'Open World, Party',\n",
       "       \"Fighting, Shoot 'em up\", 'Action-RPG, Role Playing, Hack & Slash',\n",
       "       'Sports, Cycling',\n",
       "       'Automobile, Open World, Arcade Racing, Naval, Aerial, Sandbox',\n",
       "       'Simulation, Sandbox', \"Puzzle, Shoot 'em up\", 'Action, Mech',\n",
       "       'Automobile, Arcade Racing, Simulation',\n",
       "       'Sports, Health & Fitness',\n",
       "       'Automobile, Arcade Racing, Platformer',\n",
       "       'Battle Royale, Role Playing, MMO', 'Run & Gun, Collection',\n",
       "       'Open World, Role Playing, Turn Based',\n",
       "       'Metroidvania, Platformer, Pinball', 'Adventure, Management',\n",
       "       'Platformer, Party', 'Sports, Skiing',\n",
       "       'Action-Adventure, Survival Horror',\n",
       "       'Turn Based, Dungeon Crawler, Visual Novel',\n",
       "       'Fighting, Visual Novel',\n",
       "       'Open World, Action-RPG, Role Playing, Naval, Vehicular Combat',\n",
       "       'Role Playing, Platformer', 'Role Playing',\n",
       "       'Role Playing, Dungeon Crawler',\n",
       "       'Roguelite, Role Playing, Dungeon Crawler',\n",
       "       'Management, Tower Defence', 'First Person Shooter, Survival',\n",
       "       'Automobile, Sports, Motocross',\n",
       "       'Role Playing, Strategy, Turn Based, Visual Novel',\n",
       "       'Action-Adventure, Hack & Slash', 'Management, Point & Click',\n",
       "       'Metroidvania, Role Playing, Platformer, Turn Based',\n",
       "       \"Vehicular Combat, Shoot 'em up\", 'Roguelite, Stealth, Turn Based',\n",
       "       'MOBA', 'Dance', 'Puzzle, Adventure, Point & Click',\n",
       "       'Platformer, Sports, Skateboarding',\n",
       "       'Metroidvania, Platformer, Run & Gun', 'Platformer, Run & Gun',\n",
       "       \"Action, Beat 'em up\", 'Roguelite, Dungeon Crawler',\n",
       "       'Roguelite, Strategy',\n",
       "       'Open World, Action-RPG, Role Playing, Survival',\n",
       "       'Automobile, Simulation', 'Sports, Golf, Party',\n",
       "       'Third Person Shooter, Stealth', 'Adventure, Survival',\n",
       "       'First Person Shooter, Stealth', 'Sports, Bowling',\n",
       "       'Stealth, Adventure, Strategy', 'Dance, Music',\n",
       "       'Card & Board, Party', 'Survival, Sandbox', 'Mech',\n",
       "       'First Person Shooter, MMO',\n",
       "       'Battle Royale, First Person Shooter, Third Person Shooter',\n",
       "       'Simulation, Sports, Football, Management',\n",
       "       'Simulation, Sports, Equestrian Sports, Management',\n",
       "       'Automobile, Open World', 'Puzzle, Simulation',\n",
       "       'Sports, Cue Sports', 'Simulation, Strategy, Management',\n",
       "       'Action-RPG, Role Playing, Sandbox',\n",
       "       'First Person Shooter, Third Person Shooter, Hack & Slash',\n",
       "       \"Automobile, Vehicular Combat, Shoot 'em up\", 'Survival, Party',\n",
       "       'Card & Board, Casino', 'Open World, Hack & Slash',\n",
       "       'Platformer, Sports, Cycling', 'Puzzle, Role Playing, Turn Based',\n",
       "       'Role Playing, Sports', 'On Rails, Music',\n",
       "       'Open World, Action-RPG, Role Playing, Platformer, Management',\n",
       "       'Sports, American Football', 'Volleyball, Sports',\n",
       "       \"Run & Gun, Beat 'em up\", 'Sports, Basketball',\n",
       "       'Platformer, Tower Defence', 'Sports, Australian Football',\n",
       "       \"Beat 'em up, Shoot 'em up\", 'Strategy, Tower Defence, Real Time',\n",
       "       \"Shoot 'em up, Collection\", 'Action-Adventure, Platformer',\n",
       "       'Open World, Action', 'Survival Horror, Collection',\n",
       "       'Platformer, Run & Gun, Collection',\n",
       "       'Open World, Action-RPG, Role Playing, Third Person Shooter, Dungeon Crawler',\n",
       "       'Third Person Shooter, MMO', 'Sports, Dodgeball',\n",
       "       'First Person Shooter, Mech, On Rails',\n",
       "       'Strategy, Turn Based, Card & Board', 'Sports, Cricket',\n",
       "       'Stealth, Platformer, Collection', 'Open World, Stealth',\n",
       "       'Open World, Action-RPG, Role Playing, Stealth',\n",
       "       \"Mech, Shoot 'em up\", \"Platformer, Beat 'em up\",\n",
       "       'Open World, Survival, Sandbox', 'Battle Royale',\n",
       "       'Third Person Shooter, Mech, Naval, Vehicular Combat',\n",
       "       'Action-RPG, Role Playing, Simulation', 'Action-Adventure, Mech',\n",
       "       'Platformer, Hack & Slash',\n",
       "       'Role Playing, Mech, Strategy, Turn Based', 'Puzzle, Collection',\n",
       "       'Action-RPG, Role Playing, Stealth',\n",
       "       'First Person Shooter, Puzzle', 'Stealth, Strategy, Real Time',\n",
       "       'First Person Shooter, Hack & Slash', 'Survival, Simulation',\n",
       "       'Platformer, Sports, Snowboarding',\n",
       "       'Arcade Racing, Aerial, Vehicular Combat',\n",
       "       'Roguelite, Collectable Card Game, Turn Based',\n",
       "       \"Open World, Third Person Shooter, Beat 'em up\",\n",
       "       'Platformer, Strategy',\n",
       "       'Open World, First Person Shooter, Stealth',\n",
       "       'Open World, Simulation',\n",
       "       'Platformer, Strategy, Tower Defence, Real Time',\n",
       "       'Roguelite, Action', 'Puzzle, Role Playing', 'Sports, Collection',\n",
       "       'Arcade Racing, Sports, Skating', 'Puzzle, Stealth',\n",
       "       'First Person Shooter, Third Person Shooter',\n",
       "       'First Person Shooter, Third Person Shooter, Aerial, Vehicular Combat',\n",
       "       'On Rails', 'Automobile, Platformer, Vehicular Combat',\n",
       "       'Sports, Skiing, Snowboarding', 'Sports, Dodgeball, Party',\n",
       "       'Action-Adventure, Management', 'Mech, Aerial, Vehicular Combat',\n",
       "       'Metroidvania', 'Roguelite, Role Playing, Management',\n",
       "       'Metroidvania, Action-RPG, Role Playing',\n",
       "       'Volleyball, Sports, Football, Tennis',\n",
       "       'First Person Shooter, Puzzle, Platformer', 'Sports, Surfing',\n",
       "       'Automobile, Vehicular Combat, MOBA',\n",
       "       'Role Playing, Sandbox, Turn Based, Dungeon Crawler, Real Time',\n",
       "       'Mech, Hack & Slash', 'Third Person Shooter, Action-Adventure',\n",
       "       'Strategy, MOBA, Real Time', 'Sports, Darts', 'Sports, Party',\n",
       "       'Action Horror, Open World, Third Person Shooter',\n",
       "       'Open World, First Person Shooter, Third Person Shooter, Survival, MMO',\n",
       "       'Action Horror, Open World, Role Playing, Dungeon Crawler',\n",
       "       'Action Horror, Open World', 'First Person Shooter, Platformer',\n",
       "       'Roguelite, Survival Horror',\n",
       "       'Open World, Action-Adventure, Stealth', 'Open World',\n",
       "       'Puzzle, Music', 'Role Playing, Tower Defence',\n",
       "       'First Person Shooter, Role Playing, Dungeon Crawler',\n",
       "       'Action-RPG, First Person Shooter, Role Playing, Stealth',\n",
       "       'Roguelite, Platformer, Dungeon Crawler',\n",
       "       'Action-RPG, Role Playing, Hack & Slash, Dungeon Crawler',\n",
       "       'Open World, Role Playing, Simulation',\n",
       "       'Role Playing, Point & Click', 'First Person Shooter, Strategy',\n",
       "       'Role Playing, Stealth', 'Battle Royale, Aerial, Vehicular Combat',\n",
       "       'Open World, Roguelite, Survival',\n",
       "       'Action Horror, First Person Shooter, Platformer',\n",
       "       \"Beat 'em up, Collection\", 'Open World, Role Playing, Real Time',\n",
       "       'Role Playing, Simulation, Sandbox',\n",
       "       'Open World, Action-RPG, Role Playing, MMO',\n",
       "       'Adventure, Collection', 'Simulation, Music',\n",
       "       'Fishing, Hunting, Sports', 'Roguelite, Strategy, Tower Defence',\n",
       "       \"Role Playing, Beat 'em up, Dungeon Crawler\",\n",
       "       'Roguelite, Strategy, Turn Based',\n",
       "       'Role Playing, Strategy, Real Time',\n",
       "       'Action-Adventure, Collection',\n",
       "       'Open World, Action-RPG, First Person Shooter, Role Playing, Third Person Shooter',\n",
       "       'Battle Royale, Open World, Action-RPG, First Person Shooter, Role Playing, Third Person Shooter, Survival, MMO',\n",
       "       'Simulation, Management, Real Time',\n",
       "       'Open World, Adventure, Aerial',\n",
       "       'Third Person Shooter, Mech, Real Time',\n",
       "       'Fishing, Simulation, Sports, Management',\n",
       "       'Metroidvania, Action-Adventure, Platformer',\n",
       "       'Strategy, Sports, Football',\n",
       "       'Role Playing, Turn Based, Card & Board', 'Adventure, Platformer',\n",
       "       'Battle Royale, Third Person Shooter, Tower Defence',\n",
       "       'Survival, Card & Board', \"Shoot 'em up, Hack & Slash\",\n",
       "       'Roguelite, Run & Gun', 'Strategy, Sports, Football, Turn Based',\n",
       "       'Puzzle, Role Playing, Collectable Card Game',\n",
       "       'Open World, First Person Shooter',\n",
       "       'First Person Shooter, Management', \"Shoot 'em up, Party\",\n",
       "       'First Person Shooter, Stealth, Survival Horror',\n",
       "       'Vehicular Combat', 'Roguelite, Platformer, Run & Gun',\n",
       "       'Roguelite, Collectable Card Game', 'Puzzle, Tower Defence',\n",
       "       \"Run & Gun, Shoot 'em up\", 'Aerial, Vehicular Combat, MMO',\n",
       "       'First Person Shooter, Sandbox', \"Sports, Beat 'em up, Football\",\n",
       "       'Hack & Slash, Dungeon Crawler',\n",
       "       'Action-RPG, Role Playing, Collectable Card Game',\n",
       "       'Strategy, Collectable Card Game, Turn Based', 'Sports, Handball',\n",
       "       'Mech, Run & Gun', \"Roguelite, Shoot 'em up, Dungeon Crawler\",\n",
       "       'First Person Shooter, Third Person Shooter, Stealth',\n",
       "       'Action-Adventure, Sandbox',\n",
       "       'Open World, Survival, Dungeon Crawler',\n",
       "       'Battle Royale, Hack & Slash',\n",
       "       'Hunting, First Person Shooter, Third Person Shooter, Sports',\n",
       "       'Survival, Simulation, Sandbox, Management',\n",
       "       'Metroidvania, First Person Shooter',\n",
       "       'Card & Board, Casino, Party',\n",
       "       'Role Playing, Collection, Turn Based', 'Puzzle, Visual Novel',\n",
       "       'Role Playing, Management, Turn Based, Dungeon Crawler',\n",
       "       'Third Person Shooter, Stealth, Mech',\n",
       "       'Open World, Action-RPG, Role Playing, Third Person Shooter',\n",
       "       'Action Horror, Action-Adventure',\n",
       "       'First Person Shooter, Role Playing',\n",
       "       'Puzzle, Stealth, Platformer', 'Arcade Racing, Sports, Cycling',\n",
       "       'Action-RPG, Role Playing, Survival, Dungeon Crawler',\n",
       "       'Adventure, Collection, Visual Novel',\n",
       "       \"Strategy, Shoot 'em up, Tower Defence\",\n",
       "       'Hunting, Third Person Shooter, Sports', 'Sports, Lacrosse',\n",
       "       'Metroidvania, Platformer, Collection',\n",
       "       'Automobile, Vehicular Combat, Turn Based',\n",
       "       'Open World, First Person Shooter, Stealth, Survival Horror',\n",
       "       'Point & Click, Visual Novel', 'Action, Party',\n",
       "       'Roguelite, Strategy, Real Time', 'Simulation, Sports, Boxing',\n",
       "       'Roguelite, Music', 'Action-Adventure, Dungeon Crawler',\n",
       "       'Role Playing, Hack & Slash, Real Time', 'Casino, Party',\n",
       "       'First Person Shooter, Third Person Shooter, Survival',\n",
       "       \"Shoot 'em up, Management\", \"Open World, Stealth, Beat 'em up\",\n",
       "       \"Metroidvania, Open World, Stealth, Beat 'em up\",\n",
       "       'Strategy, MMO, Real Time', 'First Person Shooter, MOBA',\n",
       "       'Survival, Dungeon Crawler', 'Strategy, Hack & Slash, Real Time',\n",
       "       \"First Person Shooter, Shoot 'em up\", 'Puzzle, Card & Board',\n",
       "       'Open World, First Person Shooter, Role Playing, Dungeon Crawler',\n",
       "       'First Person Shooter, Aerial, Vehicular Combat',\n",
       "       'Roguelite, On Rails', 'First Person Shooter, Party',\n",
       "       'Sports, Darts, Educational & Trivia',\n",
       "       'Role Playing, MMO, Dungeon Crawler',\n",
       "       'Sports, Football, Management', 'Automobile, Arcade Racing, Naval',\n",
       "       \"On Rails, Beat 'em up\",\n",
       "       'Open World, First Person Shooter, Survival, Aerial, Vehicular Combat',\n",
       "       \"Automobile, Open World, Vehicular Combat, Beat 'em up\",\n",
       "       'Adventure, Simulation',\n",
       "       'Action-RPG, Role Playing, Simulation, Management, Dungeon Crawler',\n",
       "       'Sports, Snowboarding',\n",
       "       \"Action-RPG, Role Playing, Beat 'em up, MMO\",\n",
       "       \"Role Playing, Beat 'em up\",\n",
       "       'Open World, Action-RPG, Role Playing, Collection',\n",
       "       \"Mech, On Rails, Shoot 'em up\",\n",
       "       'First Person Shooter, Third Person Shooter, Mech',\n",
       "       'Simulation, Sandbox, Management',\n",
       "       'Open World, First Person Shooter, Survival, MMO',\n",
       "       'Open World, Third Person Shooter, Survival',\n",
       "       'Open World, Action-RPG, Role Playing, Stealth, Hack & Slash',\n",
       "       'Open World, Platformer', 'Adventure, Pinball',\n",
       "       'Simulation Racing, Sports, Motocross', 'Adventure, MMO',\n",
       "       'Metroidvania, Role Playing, Platformer',\n",
       "       'Roguelite, Role Playing, Collectable Card Game, Turn Based',\n",
       "       'Automobile, Arcade Racing, Sports, Motocross',\n",
       "       \"Action-RPG, Role Playing, Beat 'em up\",\n",
       "       'Hack & Slash, Management',\n",
       "       'Open World, Role Playing, Strategy, Hack & Slash',\n",
       "       'Puzzle, Point & Click', 'Stealth, Strategy, Turn Based',\n",
       "       'Automobile, Arcade Racing, Sports',\n",
       "       'Automobile, Simulation Racing, Sports, Motocross',\n",
       "       'Role Playing, Management', 'Roguelite, Role Playing',\n",
       "       'Action-RPG, Role Playing, Collection',\n",
       "       'Puzzle, Adventure, Platformer'], dtype=object)"
      ]
     },
     "execution_count": 52,
     "metadata": {},
     "output_type": "execute_result"
    }
   ],
   "source": [
    "df['Genre'].unique()"
   ]
  },
  {
   "cell_type": "code",
   "execution_count": 53,
   "id": "849d34a8",
   "metadata": {},
   "outputs": [
    {
     "data": {
      "text/plain": [
       "Platformer                                                    736\n",
       "Puzzle                                                        582\n",
       "Action                                                        560\n",
       "Shoot 'em up                                                  528\n",
       "Adventure                                                     471\n",
       "                                                             ... \n",
       "Third Person Shooter, Mech, Real Time                           1\n",
       "First Person Shooter, Role Playing                              1\n",
       "First Person Shooter, Third Person Shooter, Survival            1\n",
       "Automobile, Arcade Racing, Sports, Motocross                    1\n",
       "Roguelite, Role Playing, Collectable Card Game, Turn Based      1\n",
       "Name: Genre, Length: 482, dtype: int64"
      ]
     },
     "execution_count": 53,
     "metadata": {},
     "output_type": "execute_result"
    }
   ],
   "source": [
    "df['Genre'].value_counts()"
   ]
  },
  {
   "cell_type": "code",
   "execution_count": 57,
   "id": "700971fc",
   "metadata": {},
   "outputs": [
    {
     "data": {
      "text/plain": [
       "788"
      ]
     },
     "execution_count": 57,
     "metadata": {},
     "output_type": "execute_result"
    }
   ],
   "source": [
    "df['Genre'].isna().sum()"
   ]
  },
  {
   "cell_type": "code",
   "execution_count": 58,
   "id": "971b2fb6",
   "metadata": {},
   "outputs": [],
   "source": [
    "df['Genre'].fillna('Unknown', inplace=True)"
   ]
  },
  {
   "cell_type": "code",
   "execution_count": 66,
   "id": "e8619b2f",
   "metadata": {},
   "outputs": [],
   "source": [
    "genre_dict = {}\n",
    "for genres in df['Genre']:\n",
    "    genre_list = map(lambda x:x.strip(), genres.split(','))\n",
    "    for genre in genre_list:\n",
    "        if genre in genre_dict:\n",
    "            genre_dict[genre] += 1\n",
    "        else:\n",
    "            genre_dict[genre] = 1"
   ]
  },
  {
   "cell_type": "code",
   "execution_count": 67,
   "id": "61229d5a",
   "metadata": {},
   "outputs": [
    {
     "data": {
      "text/plain": [
       "{'Action': 584,\n",
       " 'Puzzle': 838,\n",
       " 'Platformer': 1155,\n",
       " 'First Person Shooter': 381,\n",
       " 'Unknown': 788,\n",
       " 'Stealth': 162,\n",
       " 'Strategy': 427,\n",
       " 'Turn Based': 598,\n",
       " 'Action-Adventure': 490,\n",
       " 'Adventure': 838,\n",
       " 'Point & Click': 259,\n",
       " 'Action-RPG': 403,\n",
       " 'Role Playing': 923,\n",
       " 'Roguelite': 222,\n",
       " 'Dungeon Crawler': 170,\n",
       " 'Party': 123,\n",
       " 'Educational & Trivia': 44,\n",
       " 'Collectable Card Game': 37,\n",
       " \"Shoot 'em up\": 620,\n",
       " 'Open World': 266,\n",
       " 'Survival': 75,\n",
       " 'Fighting': 201,\n",
       " 'Third Person Shooter': 210,\n",
       " 'Mech': 66,\n",
       " 'Aerial': 59,\n",
       " 'Vehicular Combat': 107,\n",
       " \"Beat 'em up\": 193,\n",
       " 'Battle Royale': 32,\n",
       " 'MMO': 57,\n",
       " 'Hack & Slash': 195,\n",
       " 'Real Time': 111,\n",
       " 'Sports': 487,\n",
       " 'Visual Novel': 461,\n",
       " 'Music': 146,\n",
       " 'Simulation': 340,\n",
       " 'Run & Gun': 126,\n",
       " 'Survival Horror': 103,\n",
       " 'Action Horror': 62,\n",
       " 'On Rails': 51,\n",
       " 'Hunting': 19,\n",
       " 'Equestrian Sports': 16,\n",
       " 'Arcade Racing': 192,\n",
       " 'Collection': 89,\n",
       " 'Tower Defence': 82,\n",
       " 'Management': 219,\n",
       " 'Automobile': 249,\n",
       " 'Naval': 24,\n",
       " 'Football': 81,\n",
       " 'Simulation Racing': 79,\n",
       " 'Wrestling': 14,\n",
       " 'Hockey': 14,\n",
       " 'Golf': 22,\n",
       " 'Mixed Martial Arts': 4,\n",
       " 'Baseball': 34,\n",
       " 'Metroidvania': 118,\n",
       " 'Fishing': 29,\n",
       " 'Table Tennis': 7,\n",
       " 'Sandbox': 45,\n",
       " 'Card & Board': 104,\n",
       " 'Cycling': 15,\n",
       " 'Skiing': 8,\n",
       " 'Snowboarding': 5,\n",
       " 'Boxing': 8,\n",
       " 'Pinball': 16,\n",
       " 'Rugby': 9,\n",
       " 'Tennis': 16,\n",
       " 'Casino': 11,\n",
       " 'Skateboarding': 13,\n",
       " 'Bullfighting': 2,\n",
       " 'Health & Fitness': 4,\n",
       " 'Motocross': 16,\n",
       " 'MOBA': 9,\n",
       " 'Dance': 28,\n",
       " 'Bowling': 20,\n",
       " 'Cue Sports': 11,\n",
       " 'American Football': 18,\n",
       " 'Volleyball': 6,\n",
       " 'Basketball': 30,\n",
       " 'Australian Football': 2,\n",
       " 'Dodgeball': 5,\n",
       " 'Cricket': 6,\n",
       " 'Skating': 1,\n",
       " 'Surfing': 2,\n",
       " 'Darts': 3,\n",
       " 'Handball': 3,\n",
       " 'Lacrosse': 2}"
      ]
     },
     "execution_count": 67,
     "metadata": {},
     "output_type": "execute_result"
    }
   ],
   "source": [
    "genre_dict"
   ]
  },
  {
   "cell_type": "code",
   "execution_count": 70,
   "id": "fe4b98d7",
   "metadata": {},
   "outputs": [],
   "source": [
    "genre_series = pd.Series(genre_dict)"
   ]
  },
  {
   "cell_type": "code",
   "execution_count": 71,
   "id": "58a6863b",
   "metadata": {},
   "outputs": [],
   "source": [
    "genre_series = genre_series.sort_values(ascending=False)"
   ]
  },
  {
   "cell_type": "code",
   "execution_count": 72,
   "id": "c7bed4a7",
   "metadata": {},
   "outputs": [
    {
     "data": {
      "text/plain": [
       "Platformer      1155\n",
       "Role Playing     923\n",
       "Puzzle           838\n",
       "Adventure        838\n",
       "Unknown          788\n",
       "dtype: int64"
      ]
     },
     "execution_count": 72,
     "metadata": {},
     "output_type": "execute_result"
    }
   ],
   "source": [
    "genre_series.head()"
   ]
  },
  {
   "cell_type": "code",
   "execution_count": 76,
   "id": "dd81308c",
   "metadata": {},
   "outputs": [
    {
     "data": {
      "image/png": "[encoded data removed]",
      "text/plain": [
       "<Figure size 1080x432 with 1 Axes>"
      ]
     },
     "metadata": {
      "needs_background": "light"
     },
     "output_type": "display_data"
    }
   ],
   "source": [
    "import seaborn as sns\n",
    "import matplotlib.pyplot as plt\n",
    "\n",
    "plt.figure(figsize=(15, 6))\n",
    "sns.barplot(x=genre_series.values[:20], y=genre_series.index[:20])\n",
    "plt.title('Most Frequent Genre Top 20')\n",
    "plt.xlabel('Counts')\n",
    "plt.show()"
   ]
  },
  {
   "cell_type": "markdown",
   "id": "ea1264ae",
   "metadata": {},
   "source": [
    "### 퍼블리셔"
   ]
  },
  {
   "cell_type": "code",
   "execution_count": 80,
   "id": "84e18115",
   "metadata": {},
   "outputs": [
    {
     "data": {
      "text/html": [
       "<div>\n",
       "<style scoped>\n",
       "    .dataframe tbody tr th:only-of-type {\n",
       "        vertical-align: middle;\n",
       "    }\n",
       "\n",
       "    .dataframe tbody tr th {\n",
       "        vertical-align: top;\n",
       "    }\n",
       "\n",
       "    .dataframe thead th {\n",
       "        text-align: right;\n",
       "    }\n",
       "</style>\n",
       "<table border=\"1\" class=\"dataframe\">\n",
       "  <thead>\n",
       "    <tr style=\"text-align: right;\">\n",
       "      <th></th>\n",
       "      <th>index</th>\n",
       "      <th>Publisher</th>\n",
       "    </tr>\n",
       "  </thead>\n",
       "  <tbody>\n",
       "    <tr>\n",
       "      <th>0</th>\n",
       "      <td>eastasiasoft</td>\n",
       "      <td>503</td>\n",
       "    </tr>\n",
       "    <tr>\n",
       "      <th>1</th>\n",
       "      <td>Ratalaika Games</td>\n",
       "      <td>306</td>\n",
       "    </tr>\n",
       "    <tr>\n",
       "      <th>2</th>\n",
       "      <td>Hamster</td>\n",
       "      <td>268</td>\n",
       "    </tr>\n",
       "    <tr>\n",
       "      <th>3</th>\n",
       "      <td>Bandai Namco Entertainment</td>\n",
       "      <td>140</td>\n",
       "    </tr>\n",
       "    <tr>\n",
       "      <th>4</th>\n",
       "      <td>Square Enix</td>\n",
       "      <td>124</td>\n",
       "    </tr>\n",
       "    <tr>\n",
       "      <th>...</th>\n",
       "      <td>...</td>\n",
       "      <td>...</td>\n",
       "    </tr>\n",
       "    <tr>\n",
       "      <th>1718</th>\n",
       "      <td>SFB Games</td>\n",
       "      <td>1</td>\n",
       "    </tr>\n",
       "    <tr>\n",
       "      <th>1719</th>\n",
       "      <td>Red Katana</td>\n",
       "      <td>1</td>\n",
       "    </tr>\n",
       "    <tr>\n",
       "      <th>1720</th>\n",
       "      <td>Archive Entertainment</td>\n",
       "      <td>1</td>\n",
       "    </tr>\n",
       "    <tr>\n",
       "      <th>1721</th>\n",
       "      <td>Good Shepherd Entertainment, Gambitious Digita...</td>\n",
       "      <td>1</td>\n",
       "    </tr>\n",
       "    <tr>\n",
       "      <th>1722</th>\n",
       "      <td>Vlambeer</td>\n",
       "      <td>1</td>\n",
       "    </tr>\n",
       "  </tbody>\n",
       "</table>\n",
       "<p>1723 rows × 2 columns</p>\n",
       "</div>"
      ],
      "text/plain": [
       "                                                  index  Publisher\n",
       "0                                          eastasiasoft        503\n",
       "1                                       Ratalaika Games        306\n",
       "2                                               Hamster        268\n",
       "3                            Bandai Namco Entertainment        140\n",
       "4                                           Square Enix        124\n",
       "...                                                 ...        ...\n",
       "1718                                          SFB Games          1\n",
       "1719                                         Red Katana          1\n",
       "1720                              Archive Entertainment          1\n",
       "1721  Good Shepherd Entertainment, Gambitious Digita...          1\n",
       "1722                                           Vlambeer          1\n",
       "\n",
       "[1723 rows x 2 columns]"
      ]
     },
     "execution_count": 80,
     "metadata": {},
     "output_type": "execute_result"
    }
   ],
   "source": [
    "publisher = df['Publisher'].value_counts().reset_index()\n",
    "publisher"
   ]
  },
  {
   "cell_type": "code",
   "execution_count": 83,
   "id": "83d74a51",
   "metadata": {},
   "outputs": [
    {
     "data": {
      "image/png": "[encoded data removed]",
      "text/plain": [
       "<Figure size 1080x432 with 1 Axes>"
      ]
     },
     "metadata": {
      "needs_background": "light"
     },
     "output_type": "display_data"
    }
   ],
   "source": [
    "plt.figure(figsize=(15, 6))\n",
    "sns.barplot(data=publisher[:20], x='Publisher', y='index')\n",
    "plt.title('Most Popular Publisher Top 20')\n",
    "plt.xlabel('Counts')\n",
    "plt.ylabel('')\n",
    "plt.show()"
   ]
  },
  {
   "cell_type": "markdown",
   "id": "a4f354e2",
   "metadata": {},
   "source": [
    "### 개발팀"
   ]
  },
  {
   "cell_type": "code",
   "execution_count": 84,
   "id": "5d962940",
   "metadata": {},
   "outputs": [
    {
     "data": {
      "text/html": [
       "<div>\n",
       "<style scoped>\n",
       "    .dataframe tbody tr th:only-of-type {\n",
       "        vertical-align: middle;\n",
       "    }\n",
       "\n",
       "    .dataframe tbody tr th {\n",
       "        vertical-align: top;\n",
       "    }\n",
       "\n",
       "    .dataframe thead th {\n",
       "        text-align: right;\n",
       "    }\n",
       "</style>\n",
       "<table border=\"1\" class=\"dataframe\">\n",
       "  <thead>\n",
       "    <tr style=\"text-align: right;\">\n",
       "      <th></th>\n",
       "      <th>index</th>\n",
       "      <th>Developer</th>\n",
       "    </tr>\n",
       "  </thead>\n",
       "  <tbody>\n",
       "    <tr>\n",
       "      <th>0</th>\n",
       "      <td>Hamster</td>\n",
       "      <td>124</td>\n",
       "    </tr>\n",
       "    <tr>\n",
       "      <th>1</th>\n",
       "      <td>Lightwood Games</td>\n",
       "      <td>84</td>\n",
       "    </tr>\n",
       "    <tr>\n",
       "      <th>2</th>\n",
       "      <td>Smobile</td>\n",
       "      <td>78</td>\n",
       "    </tr>\n",
       "    <tr>\n",
       "      <th>3</th>\n",
       "      <td>Nippon Ichi Software</td>\n",
       "      <td>69</td>\n",
       "    </tr>\n",
       "    <tr>\n",
       "      <th>4</th>\n",
       "      <td>Konami Digital Entertainment</td>\n",
       "      <td>63</td>\n",
       "    </tr>\n",
       "    <tr>\n",
       "      <th>...</th>\n",
       "      <td>...</td>\n",
       "      <td>...</td>\n",
       "    </tr>\n",
       "    <tr>\n",
       "      <th>3105</th>\n",
       "      <td>Transhuman Design</td>\n",
       "      <td>1</td>\n",
       "    </tr>\n",
       "    <tr>\n",
       "      <th>3106</th>\n",
       "      <td>Team GrisGris</td>\n",
       "      <td>1</td>\n",
       "    </tr>\n",
       "    <tr>\n",
       "      <th>3107</th>\n",
       "      <td>Nicolas Meyssonnier, Headup Games</td>\n",
       "      <td>1</td>\n",
       "    </tr>\n",
       "    <tr>\n",
       "      <th>3108</th>\n",
       "      <td>Fordesoft</td>\n",
       "      <td>1</td>\n",
       "    </tr>\n",
       "    <tr>\n",
       "      <th>3109</th>\n",
       "      <td>Sonoshee</td>\n",
       "      <td>1</td>\n",
       "    </tr>\n",
       "  </tbody>\n",
       "</table>\n",
       "<p>3110 rows × 2 columns</p>\n",
       "</div>"
      ],
      "text/plain": [
       "                                  index  Developer\n",
       "0                               Hamster        124\n",
       "1                       Lightwood Games         84\n",
       "2                               Smobile         78\n",
       "3                  Nippon Ichi Software         69\n",
       "4          Konami Digital Entertainment         63\n",
       "...                                 ...        ...\n",
       "3105                  Transhuman Design          1\n",
       "3106                      Team GrisGris          1\n",
       "3107  Nicolas Meyssonnier, Headup Games          1\n",
       "3108                          Fordesoft          1\n",
       "3109                           Sonoshee          1\n",
       "\n",
       "[3110 rows x 2 columns]"
      ]
     },
     "execution_count": 84,
     "metadata": {},
     "output_type": "execute_result"
    }
   ],
   "source": [
    "developer = df['Developer'].value_counts().reset_index()\n",
    "developer"
   ]
  },
  {
   "cell_type": "code",
   "execution_count": 85,
   "id": "eedbcd45",
   "metadata": {},
   "outputs": [
    {
     "data": {
      "image/png": "[encoded data removed]",
      "text/plain": [
       "<Figure size 1080x432 with 1 Axes>"
      ]
     },
     "metadata": {
      "needs_background": "light"
     },
     "output_type": "display_data"
    }
   ],
   "source": [
    "plt.figure(figsize=(15, 6))\n",
    "sns.barplot(data=developer[:20], x='Developer', y='index')\n",
    "plt.title('Most Popular Developer Top 20')\n",
    "plt.xlabel('Counts')\n",
    "plt.ylabel('')\n",
    "plt.show()"
   ]
  },
  {
   "cell_type": "markdown",
   "id": "7283ce7c",
   "metadata": {},
   "source": [
    "### 플레이타임"
   ]
  },
  {
   "cell_type": "markdown",
   "id": "46acaea9",
   "metadata": {},
   "source": [
    "### 플레이타임"
   ]
  },
  {
   "cell_type": "code",
   "execution_count": 39,
   "id": "4c743625",
   "metadata": {},
   "outputs": [
    {
     "data": {
      "text/plain": [
       "count     2230\n",
       "unique      23\n",
       "top        0-1\n",
       "freq       802\n",
       "Name: CompletionTime(Hours), dtype: object"
      ]
     },
     "execution_count": 39,
     "metadata": {},
     "output_type": "execute_result"
    }
   ],
   "source": [
    "df['CompletionTime(Hours)'].describe()"
   ]
  },
  {
   "cell_type": "code",
   "execution_count": 40,
   "id": "019039e8",
   "metadata": {},
   "outputs": [
    {
     "data": {
      "text/plain": [
       "array([nan, '3-4', '0-1', '4-5', '1-2', '35-40', '20-25', '200+', '60-80',\n",
       "       '40-50', '25-30', '8-10', '6-8', '2-3', '5-6', '15-20', '12-15',\n",
       "       '80-100', '10-12', '50-60', '100-120', '30-35', '120-150',\n",
       "       '150-200'], dtype=object)"
      ]
     },
     "execution_count": 40,
     "metadata": {},
     "output_type": "execute_result"
    }
   ],
   "source": [
    "df['CompletionTime(Hours)'].unique()"
   ]
  },
  {
   "cell_type": "markdown",
   "id": "6ed8ca57",
   "metadata": {},
   "source": [
    "구간의 중앙값으로 평균을 구하기  \n",
    "200+는 250 정도로..."
   ]
  },
  {
   "cell_type": "code",
   "execution_count": 46,
   "id": "7423edcf",
   "metadata": {},
   "outputs": [],
   "source": [
    "import numpy as np\n",
    "\n",
    "def get_median_of_completiontime(time):\n",
    "    if time == '200+':\n",
    "        return 250\n",
    "    elif pd.isna(time):\n",
    "        return time\n",
    "    else:\n",
    "        a, b = map(int, time.split('-'))\n",
    "        return (a+b)/2\n",
    "\n",
    "df['CompletionTime(Median)'] = df['CompletionTime(Hours)'].apply(get_median_of_completiontime)"
   ]
  },
  {
   "cell_type": "code",
   "execution_count": 47,
   "id": "3e96ec18",
   "metadata": {},
   "outputs": [
    {
     "data": {
      "text/html": [
       "<div>\n",
       "<style scoped>\n",
       "    .dataframe tbody tr th:only-of-type {\n",
       "        vertical-align: middle;\n",
       "    }\n",
       "\n",
       "    .dataframe tbody tr th {\n",
       "        vertical-align: top;\n",
       "    }\n",
       "\n",
       "    .dataframe thead th {\n",
       "        text-align: right;\n",
       "    }\n",
       "</style>\n",
       "<table border=\"1\" class=\"dataframe\">\n",
       "  <thead>\n",
       "    <tr style=\"text-align: right;\">\n",
       "      <th></th>\n",
       "      <th>ID</th>\n",
       "      <th>GamePSID</th>\n",
       "      <th>GameName</th>\n",
       "      <th>Publisher</th>\n",
       "      <th>ReleaseYear</th>\n",
       "      <th>ReleaseDate</th>\n",
       "      <th>Developer</th>\n",
       "      <th>Genre</th>\n",
       "      <th>Features</th>\n",
       "      <th>Size</th>\n",
       "      <th>Medium</th>\n",
       "      <th>Hardware</th>\n",
       "      <th>CompletionTime(Hours)</th>\n",
       "      <th>is_Digital_game</th>\n",
       "      <th>is_Physical_game</th>\n",
       "      <th>OfficialWebsite</th>\n",
       "      <th>CompletionTime(Median)</th>\n",
       "    </tr>\n",
       "  </thead>\n",
       "  <tbody>\n",
       "    <tr>\n",
       "      <th>0</th>\n",
       "      <td>1</td>\n",
       "      <td>3045</td>\n",
       "      <td>Q*Bert Rebooted</td>\n",
       "      <td>LOOT Interactive</td>\n",
       "      <td>2015.0</td>\n",
       "      <td>2015-02-17</td>\n",
       "      <td>Gonzo Games</td>\n",
       "      <td>Action</td>\n",
       "      <td>PS Plus, PS Now</td>\n",
       "      <td>109.00</td>\n",
       "      <td>NaN</td>\n",
       "      <td>NaN</td>\n",
       "      <td>NaN</td>\n",
       "      <td>0</td>\n",
       "      <td>0</td>\n",
       "      <td>http://www.sidelineamusements.com/qbert/</td>\n",
       "      <td>NaN</td>\n",
       "    </tr>\n",
       "    <tr>\n",
       "      <th>1</th>\n",
       "      <td>2</td>\n",
       "      <td>3051</td>\n",
       "      <td>Q*Bert Rebooted (EU)</td>\n",
       "      <td>LOOT Interactive</td>\n",
       "      <td>2015.0</td>\n",
       "      <td>2015-07-22</td>\n",
       "      <td>LOOT Interactive</td>\n",
       "      <td>Action</td>\n",
       "      <td>PS Now</td>\n",
       "      <td>127.00</td>\n",
       "      <td>Digital only</td>\n",
       "      <td>NaN</td>\n",
       "      <td>NaN</td>\n",
       "      <td>0</td>\n",
       "      <td>0</td>\n",
       "      <td>http://www.sidelineamusements.com/qbert/</td>\n",
       "      <td>NaN</td>\n",
       "    </tr>\n",
       "    <tr>\n",
       "      <th>2</th>\n",
       "      <td>3</td>\n",
       "      <td>6703</td>\n",
       "      <td>Q.U.B.E. 2</td>\n",
       "      <td>Trapped Nerve Games</td>\n",
       "      <td>2018.0</td>\n",
       "      <td>2018-03-13</td>\n",
       "      <td>Toxic Games</td>\n",
       "      <td>Puzzle, Platformer</td>\n",
       "      <td>NaN</td>\n",
       "      <td>2682.88</td>\n",
       "      <td>Digital only</td>\n",
       "      <td>NaN</td>\n",
       "      <td>NaN</td>\n",
       "      <td>0</td>\n",
       "      <td>0</td>\n",
       "      <td>http://qube-game.com/</td>\n",
       "      <td>NaN</td>\n",
       "    </tr>\n",
       "    <tr>\n",
       "      <th>3</th>\n",
       "      <td>4</td>\n",
       "      <td>3403</td>\n",
       "      <td>Q.U.B.E. Director's Cut</td>\n",
       "      <td>GRIP Digital</td>\n",
       "      <td>2015.0</td>\n",
       "      <td>2015-07-21</td>\n",
       "      <td>Toxic Games</td>\n",
       "      <td>Puzzle, Platformer</td>\n",
       "      <td>PS Plus</td>\n",
       "      <td>1945.60</td>\n",
       "      <td>Digital only</td>\n",
       "      <td>NaN</td>\n",
       "      <td>3-4</td>\n",
       "      <td>0</td>\n",
       "      <td>0</td>\n",
       "      <td>http://qube-game.com/</td>\n",
       "      <td>3.5</td>\n",
       "    </tr>\n",
       "    <tr>\n",
       "      <th>4</th>\n",
       "      <td>5</td>\n",
       "      <td>13176</td>\n",
       "      <td>Quake (PS4)</td>\n",
       "      <td>Bethesda Softworks</td>\n",
       "      <td>2021.0</td>\n",
       "      <td>2021-08-19</td>\n",
       "      <td>MachineGames, Nightdive Studios, id Software</td>\n",
       "      <td>First Person Shooter</td>\n",
       "      <td>NaN</td>\n",
       "      <td>NaN</td>\n",
       "      <td>Physical and Digital</td>\n",
       "      <td>NaN</td>\n",
       "      <td>NaN</td>\n",
       "      <td>0</td>\n",
       "      <td>0</td>\n",
       "      <td>https://bethesda.net/en/game/quake</td>\n",
       "      <td>NaN</td>\n",
       "    </tr>\n",
       "  </tbody>\n",
       "</table>\n",
       "</div>"
      ],
      "text/plain": [
       "   ID  GamePSID                 GameName            Publisher  ReleaseYear  \\\n",
       "0   1      3045          Q*Bert Rebooted     LOOT Interactive       2015.0   \n",
       "1   2      3051     Q*Bert Rebooted (EU)     LOOT Interactive       2015.0   \n",
       "2   3      6703               Q.U.B.E. 2  Trapped Nerve Games       2018.0   \n",
       "3   4      3403  Q.U.B.E. Director's Cut         GRIP Digital       2015.0   \n",
       "4   5     13176              Quake (PS4)   Bethesda Softworks       2021.0   \n",
       "\n",
       "  ReleaseDate                                     Developer  \\\n",
       "0  2015-02-17                                   Gonzo Games   \n",
       "1  2015-07-22                              LOOT Interactive   \n",
       "2  2018-03-13                                   Toxic Games   \n",
       "3  2015-07-21                                   Toxic Games   \n",
       "4  2021-08-19  MachineGames, Nightdive Studios, id Software   \n",
       "\n",
       "                  Genre         Features     Size                Medium  \\\n",
       "0                Action  PS Plus, PS Now   109.00                   NaN   \n",
       "1                Action           PS Now   127.00          Digital only   \n",
       "2    Puzzle, Platformer              NaN  2682.88          Digital only   \n",
       "3    Puzzle, Platformer          PS Plus  1945.60          Digital only   \n",
       "4  First Person Shooter              NaN      NaN  Physical and Digital   \n",
       "\n",
       "  Hardware CompletionTime(Hours)  is_Digital_game  is_Physical_game  \\\n",
       "0      NaN                   NaN                0                 0   \n",
       "1      NaN                   NaN                0                 0   \n",
       "2      NaN                   NaN                0                 0   \n",
       "3      NaN                   3-4                0                 0   \n",
       "4      NaN                   NaN                0                 0   \n",
       "\n",
       "                            OfficialWebsite  CompletionTime(Median)  \n",
       "0  http://www.sidelineamusements.com/qbert/                     NaN  \n",
       "1  http://www.sidelineamusements.com/qbert/                     NaN  \n",
       "2                     http://qube-game.com/                     NaN  \n",
       "3                     http://qube-game.com/                     3.5  \n",
       "4        https://bethesda.net/en/game/quake                     NaN  "
      ]
     },
     "execution_count": 47,
     "metadata": {},
     "output_type": "execute_result"
    }
   ],
   "source": [
    "df.head()"
   ]
  },
  {
   "cell_type": "code",
   "execution_count": 48,
   "id": "aad1cb49",
   "metadata": {
    "scrolled": true
   },
   "outputs": [
    {
     "data": {
      "text/plain": [
       "array([  nan,   3.5,   0.5,   4.5,   1.5,  37.5,  22.5, 250. ,  70. ,\n",
       "        45. ,  27.5,   9. ,   7. ,   2.5,   5.5,  17.5,  13.5,  90. ,\n",
       "        11. ,  55. , 110. ,  32.5, 135. , 175. ])"
      ]
     },
     "execution_count": 48,
     "metadata": {},
     "output_type": "execute_result"
    }
   ],
   "source": [
    "df['CompletionTime(Median)'].unique()"
   ]
  },
  {
   "cell_type": "code",
   "execution_count": 96,
   "id": "c410ebfd",
   "metadata": {},
   "outputs": [
    {
     "data": {
      "text/html": [
       "<div>\n",
       "<style scoped>\n",
       "    .dataframe tbody tr th:only-of-type {\n",
       "        vertical-align: middle;\n",
       "    }\n",
       "\n",
       "    .dataframe tbody tr th {\n",
       "        vertical-align: top;\n",
       "    }\n",
       "\n",
       "    .dataframe thead th {\n",
       "        text-align: right;\n",
       "    }\n",
       "</style>\n",
       "<table border=\"1\" class=\"dataframe\">\n",
       "  <thead>\n",
       "    <tr style=\"text-align: right;\">\n",
       "      <th></th>\n",
       "      <th>index</th>\n",
       "      <th>CompletionTime(Median)</th>\n",
       "    </tr>\n",
       "  </thead>\n",
       "  <tbody>\n",
       "    <tr>\n",
       "      <th>0</th>\n",
       "      <td>0.5</td>\n",
       "      <td>802</td>\n",
       "    </tr>\n",
       "    <tr>\n",
       "      <th>1</th>\n",
       "      <td>1.5</td>\n",
       "      <td>208</td>\n",
       "    </tr>\n",
       "    <tr>\n",
       "      <th>3</th>\n",
       "      <td>2.5</td>\n",
       "      <td>110</td>\n",
       "    </tr>\n",
       "    <tr>\n",
       "      <th>8</th>\n",
       "      <td>3.5</td>\n",
       "      <td>79</td>\n",
       "    </tr>\n",
       "    <tr>\n",
       "      <th>12</th>\n",
       "      <td>4.5</td>\n",
       "      <td>53</td>\n",
       "    </tr>\n",
       "    <tr>\n",
       "      <th>16</th>\n",
       "      <td>5.5</td>\n",
       "      <td>38</td>\n",
       "    </tr>\n",
       "    <tr>\n",
       "      <th>6</th>\n",
       "      <td>7.0</td>\n",
       "      <td>82</td>\n",
       "    </tr>\n",
       "    <tr>\n",
       "      <th>5</th>\n",
       "      <td>9.0</td>\n",
       "      <td>88</td>\n",
       "    </tr>\n",
       "    <tr>\n",
       "      <th>15</th>\n",
       "      <td>11.0</td>\n",
       "      <td>41</td>\n",
       "    </tr>\n",
       "    <tr>\n",
       "      <th>11</th>\n",
       "      <td>13.5</td>\n",
       "      <td>54</td>\n",
       "    </tr>\n",
       "    <tr>\n",
       "      <th>2</th>\n",
       "      <td>17.5</td>\n",
       "      <td>127</td>\n",
       "    </tr>\n",
       "    <tr>\n",
       "      <th>4</th>\n",
       "      <td>22.5</td>\n",
       "      <td>99</td>\n",
       "    </tr>\n",
       "    <tr>\n",
       "      <th>9</th>\n",
       "      <td>27.5</td>\n",
       "      <td>76</td>\n",
       "    </tr>\n",
       "    <tr>\n",
       "      <th>18</th>\n",
       "      <td>32.5</td>\n",
       "      <td>37</td>\n",
       "    </tr>\n",
       "    <tr>\n",
       "      <th>19</th>\n",
       "      <td>37.5</td>\n",
       "      <td>33</td>\n",
       "    </tr>\n",
       "    <tr>\n",
       "      <th>7</th>\n",
       "      <td>45.0</td>\n",
       "      <td>80</td>\n",
       "    </tr>\n",
       "    <tr>\n",
       "      <th>17</th>\n",
       "      <td>55.0</td>\n",
       "      <td>37</td>\n",
       "    </tr>\n",
       "    <tr>\n",
       "      <th>10</th>\n",
       "      <td>70.0</td>\n",
       "      <td>58</td>\n",
       "    </tr>\n",
       "    <tr>\n",
       "      <th>13</th>\n",
       "      <td>90.0</td>\n",
       "      <td>45</td>\n",
       "    </tr>\n",
       "    <tr>\n",
       "      <th>20</th>\n",
       "      <td>110.0</td>\n",
       "      <td>20</td>\n",
       "    </tr>\n",
       "    <tr>\n",
       "      <th>21</th>\n",
       "      <td>135.0</td>\n",
       "      <td>10</td>\n",
       "    </tr>\n",
       "    <tr>\n",
       "      <th>22</th>\n",
       "      <td>175.0</td>\n",
       "      <td>9</td>\n",
       "    </tr>\n",
       "    <tr>\n",
       "      <th>14</th>\n",
       "      <td>250.0</td>\n",
       "      <td>44</td>\n",
       "    </tr>\n",
       "  </tbody>\n",
       "</table>\n",
       "</div>"
      ],
      "text/plain": [
       "    index  CompletionTime(Median)\n",
       "0     0.5                     802\n",
       "1     1.5                     208\n",
       "3     2.5                     110\n",
       "8     3.5                      79\n",
       "12    4.5                      53\n",
       "16    5.5                      38\n",
       "6     7.0                      82\n",
       "5     9.0                      88\n",
       "15   11.0                      41\n",
       "11   13.5                      54\n",
       "2    17.5                     127\n",
       "4    22.5                      99\n",
       "9    27.5                      76\n",
       "18   32.5                      37\n",
       "19   37.5                      33\n",
       "7    45.0                      80\n",
       "17   55.0                      37\n",
       "10   70.0                      58\n",
       "13   90.0                      45\n",
       "20  110.0                      20\n",
       "21  135.0                      10\n",
       "22  175.0                       9\n",
       "14  250.0                      44"
      ]
     },
     "execution_count": 96,
     "metadata": {},
     "output_type": "execute_result"
    }
   ],
   "source": [
    "completiontime = df['CompletionTime(Median)'].value_counts().reset_index().sort_values(by='index', ascending=True)\n",
    "completiontime"
   ]
  },
  {
   "cell_type": "code",
   "execution_count": 103,
   "id": "6328890e",
   "metadata": {},
   "outputs": [
    {
     "data": {
      "image/png": "[encoded data removed]",
      "text/plain": [
       "<Figure size 864x432 with 1 Axes>"
      ]
     },
     "metadata": {
      "needs_background": "light"
     },
     "output_type": "display_data"
    }
   ],
   "source": [
    "plt.figure(figsize=(12, 6))\n",
    "sns.barplot(data=completiontime, x='index', y='CompletionTime(Median)')\n",
    "plt.show()"
   ]
  },
  {
   "cell_type": "code",
   "execution_count": 124,
   "id": "ba12974c",
   "metadata": {},
   "outputs": [
    {
     "data": {
      "image/png": "[encoded data removed]",
      "text/plain": [
       "<Figure size 720x432 with 1 Axes>"
      ]
     },
     "metadata": {
      "needs_background": "light"
     },
     "output_type": "display_data"
    }
   ],
   "source": [
    "import squarify\n",
    "\n",
    "plt.figure(figsize=(10, 6))\n",
    "tmp = df['CompletionTime(Hours)'].value_counts().reset_index()\n",
    "squarify.plot(sizes=tmp['CompletionTime(Hours)'], label=tmp['index'].apply(lambda x:x+' Hours'), value=tmp['CompletionTime(Hours)'])\n",
    "plt.axis('off')\n",
    "plt.show()"
   ]
  },
  {
   "cell_type": "code",
   "execution_count": 126,
   "id": "4a95a588",
   "metadata": {},
   "outputs": [],
   "source": [
    "import matplotlib as mpl\n",
    "\n",
    "cmap = mpl.cm.Reds\n",
    "norm = mpl.colors.Normalize(vmin=tmp['CompletionTime(Hours)'].min(), \n",
    "                            vmax=tmp['CompletionTime(Hours)'].max())\n",
    "\n",
    "colors = [cmap(norm(i)) for i in tmp['CompletionTime(Hours)']]"
   ]
  },
  {
   "cell_type": "code",
   "execution_count": 127,
   "id": "cd097fa2",
   "metadata": {},
   "outputs": [
    {
     "data": {
      "image/png": "[encoded data removed]",
      "text/plain": [
       "<Figure size 720x432 with 1 Axes>"
      ]
     },
     "metadata": {
      "needs_background": "light"
     },
     "output_type": "display_data"
    }
   ],
   "source": [
    "plt.figure(figsize=(10, 6))\n",
    "tmp = df['CompletionTime(Hours)'].value_counts().reset_index()\n",
    "squarify.plot(sizes=tmp['CompletionTime(Hours)'], label=tmp['index'].apply(lambda x:x+' Hours'), value=tmp['CompletionTime(Hours)'], color=colors)\n",
    "plt.axis('off')\n",
    "plt.show()"
   ]
  },
  {
   "cell_type": "markdown",
   "id": "b7c41b7a",
   "metadata": {},
   "source": [
    "### 용량"
   ]
  },
  {
   "cell_type": "code",
   "execution_count": 110,
   "id": "231c1a78",
   "metadata": {},
   "outputs": [
    {
     "data": {
      "text/plain": [
       "count       7666.0\n",
       "mean        5207.0\n",
       "std        18805.0\n",
       "min           11.0\n",
       "25%          392.0\n",
       "50%         1393.0\n",
       "75%         4710.0\n",
       "max      1002496.0\n",
       "Name: Size, dtype: float64"
      ]
     },
     "execution_count": 110,
     "metadata": {},
     "output_type": "execute_result"
    }
   ],
   "source": [
    "df['Size'].describe().round(0)"
   ]
  },
  {
   "cell_type": "code",
   "execution_count": 111,
   "id": "4ae5e6e4",
   "metadata": {},
   "outputs": [
    {
     "data": {
      "image/png": "[encoded data removed]",
      "text/plain": [
       "<Figure size 720x432 with 1 Axes>"
      ]
     },
     "metadata": {
      "needs_background": "light"
     },
     "output_type": "display_data"
    }
   ],
   "source": [
    "plt.figure(figsize=(10, 6))\n",
    "sns.barplot(data=df.sort_values(by='Size', ascending=False).head(20), x='Size', y='GameName')\n",
    "plt.title('Games with Largest Size Top 20')\n",
    "plt.xlabel('Size(MB)')\n",
    "plt.ylabel('')\n",
    "plt.show()"
   ]
  },
  {
   "cell_type": "markdown",
   "id": "2b655c46",
   "metadata": {},
   "source": [
    "### 용량-플레이타임 사이의 관계"
   ]
  },
  {
   "cell_type": "code",
   "execution_count": 133,
   "id": "5466d3de",
   "metadata": {},
   "outputs": [
    {
     "data": {
      "image/png": "[encoded data removed]",
      "text/plain": [
       "<Figure size 1080x504 with 1 Axes>"
      ]
     },
     "metadata": {
      "needs_background": "light"
     },
     "output_type": "display_data"
    }
   ],
   "source": [
    "import warnings\n",
    "warnings.filterwarnings('ignore')\n",
    "\n",
    "plt.figure(figsize=(15, 7))\n",
    "sns.swarmplot(data=df, x='CompletionTime(Hours)', y='Size')\n",
    "plt.xticks(rotation=90)\n",
    "plt.ylim(-10000, 0.1*10**6)\n",
    "plt.show()"
   ]
  },
  {
   "cell_type": "markdown",
   "id": "1a29a6e1",
   "metadata": {},
   "source": [
    "## 연도별"
   ]
  },
  {
   "cell_type": "markdown",
   "id": "4e9a3b0a",
   "metadata": {},
   "source": [
    "### 출시 작품 수"
   ]
  },
  {
   "cell_type": "code",
   "execution_count": 26,
   "id": "8213dc9f",
   "metadata": {},
   "outputs": [
    {
     "data": {
      "text/plain": [
       "ReleaseYear\n",
       "2009.0       1\n",
       "2010.0       1\n",
       "2012.0       3\n",
       "2013.0      56\n",
       "2014.0     246\n",
       "2015.0     477\n",
       "2016.0     842\n",
       "2017.0    1130\n",
       "2018.0    1314\n",
       "2019.0    1404\n",
       "2020.0    1683\n",
       "2021.0    1793\n",
       "2022.0       2\n",
       "Name: ID, dtype: int64"
      ]
     },
     "execution_count": 26,
     "metadata": {},
     "output_type": "execute_result"
    }
   ],
   "source": [
    "year_count = df.groupby('ReleaseYear').count()['ID']\n",
    "year_count"
   ]
  },
  {
   "cell_type": "code",
   "execution_count": 35,
   "id": "bf532a75",
   "metadata": {},
   "outputs": [
    {
     "data": {
      "image/png": "[encoded data removed]",
      "text/plain": [
       "<Figure size 432x288 with 1 Axes>"
      ]
     },
     "metadata": {
      "needs_background": "light"
     },
     "output_type": "display_data"
    }
   ],
   "source": [
    "import matplotlib.pyplot as plt\n",
    "\n",
    "ax = year_count.plot.bar()\n",
    "plt.show()"
   ]
  },
  {
   "cell_type": "markdown",
   "id": "276aae12",
   "metadata": {},
   "source": [
    "### 평균 용량"
   ]
  },
  {
   "cell_type": "code",
   "execution_count": 38,
   "id": "d9300c16",
   "metadata": {},
   "outputs": [
    {
     "data": {
      "text/plain": [
       "ReleaseYear\n",
       "2009.0     3563.520000\n",
       "2010.0     5171.200000\n",
       "2012.0     7871.146667\n",
       "2013.0     9114.437391\n",
       "2014.0     6988.136639\n",
       "2015.0    10434.886247\n",
       "2016.0     6863.432657\n",
       "2017.0     5700.762167\n",
       "2018.0     4755.579404\n",
       "2019.0     4556.568173\n",
       "2020.0     4055.162178\n",
       "2021.0     2545.440690\n",
       "2022.0             NaN\n",
       "Name: Size, dtype: float64"
      ]
     },
     "execution_count": 38,
     "metadata": {},
     "output_type": "execute_result"
    }
   ],
   "source": [
    "year_size = df.groupby('ReleaseYear').mean()['Size']\n",
    "year_size"
   ]
  },
  {
   "cell_type": "code",
   "execution_count": 49,
   "id": "5003bece",
   "metadata": {},
   "outputs": [],
   "source": [
    "year_completiontime = df.groupby(\"ReleaseYear\").mean()['CompletionTime(Median)']"
   ]
  },
  {
   "cell_type": "code",
   "execution_count": 50,
   "id": "b1410fe1",
   "metadata": {},
   "outputs": [
    {
     "data": {
      "text/plain": [
       "ReleaseYear\n",
       "2009.0          NaN\n",
       "2010.0          NaN\n",
       "2012.0    82.500000\n",
       "2013.0    42.344828\n",
       "2014.0    33.738281\n",
       "2015.0    29.315789\n",
       "2016.0    24.391986\n",
       "2017.0    27.622263\n",
       "2018.0    20.477528\n",
       "2019.0    17.323795\n",
       "2020.0    11.855263\n",
       "2021.0     3.032609\n",
       "2022.0          NaN\n",
       "Name: CompletionTime(Median), dtype: float64"
      ]
     },
     "execution_count": 50,
     "metadata": {},
     "output_type": "execute_result"
    }
   ],
   "source": [
    "year_completiontime"
   ]
  },
  {
   "cell_type": "code",
   "execution_count": 51,
   "id": "faf6ffe3",
   "metadata": {},
   "outputs": [
    {
     "data": {
      "image/png": "[encoded data removed]",
      "text/plain": [
       "<Figure size 432x288 with 1 Axes>"
      ]
     },
     "metadata": {
      "needs_background": "light"
     },
     "output_type": "display_data"
    }
   ],
   "source": [
    "year_completiontime.plot.bar()\n",
    "plt.show()"
   ]
  },
  {
   "cell_type": "code",
   "execution_count": null,
   "id": "74f82006",
   "metadata": {},
   "outputs": [],
   "source": []
  }
 ],
 "metadata": {
  "kernelspec": {
   "display_name": "Python Multi",
   "language": "python",
   "name": "multi"
  },
  "language_info": {
   "codemirror_mode": {
    "name": "ipython",
    "version": 3
   },
   "file_extension": ".py",
   "mimetype": "text/x-python",
   "name": "python",
   "nbconvert_exporter": "python",
   "pygments_lexer": "ipython3",
   "version": "3.7.6"
  },
  "toc": {
   "base_numbering": 1,
   "nav_menu": {},
   "number_sections": false,
   "sideBar": true,
   "skip_h1_title": false,
   "title_cell": "Table of Contents",
   "title_sidebar": "Contents",
   "toc_cell": false,
   "toc_position": {},
   "toc_section_display": true,
   "toc_window_display": false
  }
 },
 "nbformat": 4,
 "nbformat_minor": 5
}
