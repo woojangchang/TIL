{
 "cells": [
  {
   "cell_type": "markdown",
   "id": "ce87d291",
   "metadata": {},
   "source": [
    "# 문제 11 유형\n",
    "- DataSet_11.csv 이용"
   ]
  },
  {
   "cell_type": "code",
   "execution_count": 1,
   "id": "883383a3",
   "metadata": {},
   "outputs": [
    {
     "data": {
      "text/html": [
       "<div>\n",
       "<style scoped>\n",
       "    .dataframe tbody tr th:only-of-type {\n",
       "        vertical-align: middle;\n",
       "    }\n",
       "\n",
       "    .dataframe tbody tr th {\n",
       "        vertical-align: top;\n",
       "    }\n",
       "\n",
       "    .dataframe thead th {\n",
       "        text-align: right;\n",
       "    }\n",
       "</style>\n",
       "<table border=\"1\" class=\"dataframe\">\n",
       "  <thead>\n",
       "    <tr style=\"text-align: right;\">\n",
       "      <th></th>\n",
       "      <th>Country</th>\n",
       "      <th>Happiness_Rank</th>\n",
       "      <th>Happiness_Score</th>\n",
       "      <th>year</th>\n",
       "    </tr>\n",
       "  </thead>\n",
       "  <tbody>\n",
       "    <tr>\n",
       "      <th>0</th>\n",
       "      <td>Switzerland</td>\n",
       "      <td>1</td>\n",
       "      <td>7.587</td>\n",
       "      <td>2015</td>\n",
       "    </tr>\n",
       "    <tr>\n",
       "      <th>1</th>\n",
       "      <td>Iceland</td>\n",
       "      <td>2</td>\n",
       "      <td>7.561</td>\n",
       "      <td>2015</td>\n",
       "    </tr>\n",
       "    <tr>\n",
       "      <th>2</th>\n",
       "      <td>Denmark</td>\n",
       "      <td>3</td>\n",
       "      <td>7.527</td>\n",
       "      <td>2015</td>\n",
       "    </tr>\n",
       "  </tbody>\n",
       "</table>\n",
       "</div>"
      ],
      "text/plain": [
       "       Country  Happiness_Rank  Happiness_Score  year\n",
       "0  Switzerland               1            7.587  2015\n",
       "1      Iceland               2            7.561  2015\n",
       "2      Denmark               3            7.527  2015"
      ]
     },
     "execution_count": 1,
     "metadata": {},
     "output_type": "execute_result"
    }
   ],
   "source": [
    "import pandas as pd\n",
    "\n",
    "df11_orig = pd.read_csv('datasets/Dataset_11.csv', encoding='utf8')\n",
    "df11 = df11_orig.copy()\n",
    "df11.head(3)"
   ]
  },
  {
   "cell_type": "markdown",
   "id": "485d1c1c",
   "metadata": {},
   "source": [
    "## 1. 3년 연속 데이터가 기록되지 않은 국가 개수\n",
    "- 해당 국가의 데이터는 제거 후 2번 문제부터 풀이"
   ]
  },
  {
   "cell_type": "code",
   "execution_count": 3,
   "id": "aa9da2b8",
   "metadata": {},
   "outputs": [
    {
     "data": {
      "text/plain": [
       "array([2015, 2016, 2017], dtype=int64)"
      ]
     },
     "execution_count": 3,
     "metadata": {},
     "output_type": "execute_result"
    }
   ],
   "source": [
    "year = df11['year'].unique()\n",
    "year"
   ]
  },
  {
   "cell_type": "code",
   "execution_count": 4,
   "id": "a0114cfe",
   "metadata": {},
   "outputs": [
    {
     "data": {
      "text/html": [
       "<div>\n",
       "<style scoped>\n",
       "    .dataframe tbody tr th:only-of-type {\n",
       "        vertical-align: middle;\n",
       "    }\n",
       "\n",
       "    .dataframe tbody tr th {\n",
       "        vertical-align: top;\n",
       "    }\n",
       "\n",
       "    .dataframe thead tr th {\n",
       "        text-align: left;\n",
       "    }\n",
       "\n",
       "    .dataframe thead tr:last-of-type th {\n",
       "        text-align: right;\n",
       "    }\n",
       "</style>\n",
       "<table border=\"1\" class=\"dataframe\">\n",
       "  <thead>\n",
       "    <tr>\n",
       "      <th></th>\n",
       "      <th colspan=\"3\" halign=\"left\">Happiness_Rank</th>\n",
       "      <th colspan=\"3\" halign=\"left\">Happiness_Score</th>\n",
       "    </tr>\n",
       "    <tr>\n",
       "      <th>year</th>\n",
       "      <th>2015</th>\n",
       "      <th>2016</th>\n",
       "      <th>2017</th>\n",
       "      <th>2015</th>\n",
       "      <th>2016</th>\n",
       "      <th>2017</th>\n",
       "    </tr>\n",
       "    <tr>\n",
       "      <th>Country</th>\n",
       "      <th></th>\n",
       "      <th></th>\n",
       "      <th></th>\n",
       "      <th></th>\n",
       "      <th></th>\n",
       "      <th></th>\n",
       "    </tr>\n",
       "  </thead>\n",
       "  <tbody>\n",
       "    <tr>\n",
       "      <th>Afghanistan</th>\n",
       "      <td>153.0</td>\n",
       "      <td>154.0</td>\n",
       "      <td>141.0</td>\n",
       "      <td>3.575</td>\n",
       "      <td>3.360</td>\n",
       "      <td>3.794</td>\n",
       "    </tr>\n",
       "    <tr>\n",
       "      <th>Albania</th>\n",
       "      <td>95.0</td>\n",
       "      <td>109.0</td>\n",
       "      <td>109.0</td>\n",
       "      <td>4.959</td>\n",
       "      <td>4.655</td>\n",
       "      <td>4.644</td>\n",
       "    </tr>\n",
       "    <tr>\n",
       "      <th>Algeria</th>\n",
       "      <td>68.0</td>\n",
       "      <td>38.0</td>\n",
       "      <td>53.0</td>\n",
       "      <td>5.605</td>\n",
       "      <td>6.355</td>\n",
       "      <td>5.872</td>\n",
       "    </tr>\n",
       "    <tr>\n",
       "      <th>Angola</th>\n",
       "      <td>137.0</td>\n",
       "      <td>141.0</td>\n",
       "      <td>140.0</td>\n",
       "      <td>4.033</td>\n",
       "      <td>3.866</td>\n",
       "      <td>3.795</td>\n",
       "    </tr>\n",
       "    <tr>\n",
       "      <th>Argentina</th>\n",
       "      <td>30.0</td>\n",
       "      <td>26.0</td>\n",
       "      <td>24.0</td>\n",
       "      <td>6.574</td>\n",
       "      <td>6.650</td>\n",
       "      <td>6.599</td>\n",
       "    </tr>\n",
       "    <tr>\n",
       "      <th>...</th>\n",
       "      <td>...</td>\n",
       "      <td>...</td>\n",
       "      <td>...</td>\n",
       "      <td>...</td>\n",
       "      <td>...</td>\n",
       "      <td>...</td>\n",
       "    </tr>\n",
       "    <tr>\n",
       "      <th>Venezuela</th>\n",
       "      <td>23.0</td>\n",
       "      <td>44.0</td>\n",
       "      <td>82.0</td>\n",
       "      <td>6.810</td>\n",
       "      <td>6.084</td>\n",
       "      <td>5.250</td>\n",
       "    </tr>\n",
       "    <tr>\n",
       "      <th>Vietnam</th>\n",
       "      <td>75.0</td>\n",
       "      <td>96.0</td>\n",
       "      <td>94.0</td>\n",
       "      <td>5.360</td>\n",
       "      <td>5.061</td>\n",
       "      <td>5.074</td>\n",
       "    </tr>\n",
       "    <tr>\n",
       "      <th>Yemen</th>\n",
       "      <td>136.0</td>\n",
       "      <td>147.0</td>\n",
       "      <td>146.0</td>\n",
       "      <td>4.077</td>\n",
       "      <td>3.724</td>\n",
       "      <td>3.593</td>\n",
       "    </tr>\n",
       "    <tr>\n",
       "      <th>Zambia</th>\n",
       "      <td>85.0</td>\n",
       "      <td>106.0</td>\n",
       "      <td>116.0</td>\n",
       "      <td>5.129</td>\n",
       "      <td>4.795</td>\n",
       "      <td>4.514</td>\n",
       "    </tr>\n",
       "    <tr>\n",
       "      <th>Zimbabwe</th>\n",
       "      <td>115.0</td>\n",
       "      <td>131.0</td>\n",
       "      <td>138.0</td>\n",
       "      <td>4.610</td>\n",
       "      <td>4.193</td>\n",
       "      <td>3.875</td>\n",
       "    </tr>\n",
       "  </tbody>\n",
       "</table>\n",
       "<p>166 rows × 6 columns</p>\n",
       "</div>"
      ],
      "text/plain": [
       "            Happiness_Rank               Happiness_Score              \n",
       "year                  2015   2016   2017            2015   2016   2017\n",
       "Country                                                               \n",
       "Afghanistan          153.0  154.0  141.0           3.575  3.360  3.794\n",
       "Albania               95.0  109.0  109.0           4.959  4.655  4.644\n",
       "Algeria               68.0   38.0   53.0           5.605  6.355  5.872\n",
       "Angola               137.0  141.0  140.0           4.033  3.866  3.795\n",
       "Argentina             30.0   26.0   24.0           6.574  6.650  6.599\n",
       "...                    ...    ...    ...             ...    ...    ...\n",
       "Venezuela             23.0   44.0   82.0           6.810  6.084  5.250\n",
       "Vietnam               75.0   96.0   94.0           5.360  5.061  5.074\n",
       "Yemen                136.0  147.0  146.0           4.077  3.724  3.593\n",
       "Zambia                85.0  106.0  116.0           5.129  4.795  4.514\n",
       "Zimbabwe             115.0  131.0  138.0           4.610  4.193  3.875\n",
       "\n",
       "[166 rows x 6 columns]"
      ]
     },
     "execution_count": 4,
     "metadata": {},
     "output_type": "execute_result"
    }
   ],
   "source": [
    "df11_pivot = pd.pivot_table(data=df11, index='Country', columns='year')\n",
    "df11_pivot"
   ]
  },
  {
   "cell_type": "code",
   "execution_count": 15,
   "id": "47c4c32a",
   "metadata": {},
   "outputs": [
    {
     "data": {
      "text/plain": [
       "                 year\n",
       "Happiness_Rank   2015     8\n",
       "                 2016     9\n",
       "                 2017    11\n",
       "Happiness_Score  2015     8\n",
       "                 2016     9\n",
       "                 2017    11\n",
       "dtype: int64"
      ]
     },
     "execution_count": 15,
     "metadata": {},
     "output_type": "execute_result"
    }
   ],
   "source": [
    "df11_pivot.isnull().sum()"
   ]
  },
  {
   "cell_type": "code",
   "execution_count": 5,
   "id": "a0b831c4",
   "metadata": {},
   "outputs": [
    {
     "data": {
      "text/html": [
       "<div>\n",
       "<style scoped>\n",
       "    .dataframe tbody tr th:only-of-type {\n",
       "        vertical-align: middle;\n",
       "    }\n",
       "\n",
       "    .dataframe tbody tr th {\n",
       "        vertical-align: top;\n",
       "    }\n",
       "\n",
       "    .dataframe thead tr th {\n",
       "        text-align: left;\n",
       "    }\n",
       "\n",
       "    .dataframe thead tr:last-of-type th {\n",
       "        text-align: right;\n",
       "    }\n",
       "</style>\n",
       "<table border=\"1\" class=\"dataframe\">\n",
       "  <thead>\n",
       "    <tr>\n",
       "      <th></th>\n",
       "      <th colspan=\"3\" halign=\"left\">Happiness_Rank</th>\n",
       "      <th colspan=\"3\" halign=\"left\">Happiness_Score</th>\n",
       "    </tr>\n",
       "    <tr>\n",
       "      <th>year</th>\n",
       "      <th>2015</th>\n",
       "      <th>2016</th>\n",
       "      <th>2017</th>\n",
       "      <th>2015</th>\n",
       "      <th>2016</th>\n",
       "      <th>2017</th>\n",
       "    </tr>\n",
       "    <tr>\n",
       "      <th>Country</th>\n",
       "      <th></th>\n",
       "      <th></th>\n",
       "      <th></th>\n",
       "      <th></th>\n",
       "      <th></th>\n",
       "      <th></th>\n",
       "    </tr>\n",
       "  </thead>\n",
       "  <tbody>\n",
       "    <tr>\n",
       "      <th>Afghanistan</th>\n",
       "      <td>153.0</td>\n",
       "      <td>154.0</td>\n",
       "      <td>141.0</td>\n",
       "      <td>3.575</td>\n",
       "      <td>3.360</td>\n",
       "      <td>3.794</td>\n",
       "    </tr>\n",
       "    <tr>\n",
       "      <th>Albania</th>\n",
       "      <td>95.0</td>\n",
       "      <td>109.0</td>\n",
       "      <td>109.0</td>\n",
       "      <td>4.959</td>\n",
       "      <td>4.655</td>\n",
       "      <td>4.644</td>\n",
       "    </tr>\n",
       "    <tr>\n",
       "      <th>Algeria</th>\n",
       "      <td>68.0</td>\n",
       "      <td>38.0</td>\n",
       "      <td>53.0</td>\n",
       "      <td>5.605</td>\n",
       "      <td>6.355</td>\n",
       "      <td>5.872</td>\n",
       "    </tr>\n",
       "    <tr>\n",
       "      <th>Angola</th>\n",
       "      <td>137.0</td>\n",
       "      <td>141.0</td>\n",
       "      <td>140.0</td>\n",
       "      <td>4.033</td>\n",
       "      <td>3.866</td>\n",
       "      <td>3.795</td>\n",
       "    </tr>\n",
       "    <tr>\n",
       "      <th>Argentina</th>\n",
       "      <td>30.0</td>\n",
       "      <td>26.0</td>\n",
       "      <td>24.0</td>\n",
       "      <td>6.574</td>\n",
       "      <td>6.650</td>\n",
       "      <td>6.599</td>\n",
       "    </tr>\n",
       "    <tr>\n",
       "      <th>...</th>\n",
       "      <td>...</td>\n",
       "      <td>...</td>\n",
       "      <td>...</td>\n",
       "      <td>...</td>\n",
       "      <td>...</td>\n",
       "      <td>...</td>\n",
       "    </tr>\n",
       "    <tr>\n",
       "      <th>Venezuela</th>\n",
       "      <td>23.0</td>\n",
       "      <td>44.0</td>\n",
       "      <td>82.0</td>\n",
       "      <td>6.810</td>\n",
       "      <td>6.084</td>\n",
       "      <td>5.250</td>\n",
       "    </tr>\n",
       "    <tr>\n",
       "      <th>Vietnam</th>\n",
       "      <td>75.0</td>\n",
       "      <td>96.0</td>\n",
       "      <td>94.0</td>\n",
       "      <td>5.360</td>\n",
       "      <td>5.061</td>\n",
       "      <td>5.074</td>\n",
       "    </tr>\n",
       "    <tr>\n",
       "      <th>Yemen</th>\n",
       "      <td>136.0</td>\n",
       "      <td>147.0</td>\n",
       "      <td>146.0</td>\n",
       "      <td>4.077</td>\n",
       "      <td>3.724</td>\n",
       "      <td>3.593</td>\n",
       "    </tr>\n",
       "    <tr>\n",
       "      <th>Zambia</th>\n",
       "      <td>85.0</td>\n",
       "      <td>106.0</td>\n",
       "      <td>116.0</td>\n",
       "      <td>5.129</td>\n",
       "      <td>4.795</td>\n",
       "      <td>4.514</td>\n",
       "    </tr>\n",
       "    <tr>\n",
       "      <th>Zimbabwe</th>\n",
       "      <td>115.0</td>\n",
       "      <td>131.0</td>\n",
       "      <td>138.0</td>\n",
       "      <td>4.610</td>\n",
       "      <td>4.193</td>\n",
       "      <td>3.875</td>\n",
       "    </tr>\n",
       "  </tbody>\n",
       "</table>\n",
       "<p>146 rows × 6 columns</p>\n",
       "</div>"
      ],
      "text/plain": [
       "            Happiness_Rank               Happiness_Score              \n",
       "year                  2015   2016   2017            2015   2016   2017\n",
       "Country                                                               \n",
       "Afghanistan          153.0  154.0  141.0           3.575  3.360  3.794\n",
       "Albania               95.0  109.0  109.0           4.959  4.655  4.644\n",
       "Algeria               68.0   38.0   53.0           5.605  6.355  5.872\n",
       "Angola               137.0  141.0  140.0           4.033  3.866  3.795\n",
       "Argentina             30.0   26.0   24.0           6.574  6.650  6.599\n",
       "...                    ...    ...    ...             ...    ...    ...\n",
       "Venezuela             23.0   44.0   82.0           6.810  6.084  5.250\n",
       "Vietnam               75.0   96.0   94.0           5.360  5.061  5.074\n",
       "Yemen                136.0  147.0  146.0           4.077  3.724  3.593\n",
       "Zambia                85.0  106.0  116.0           5.129  4.795  4.514\n",
       "Zimbabwe             115.0  131.0  138.0           4.610  4.193  3.875\n",
       "\n",
       "[146 rows x 6 columns]"
      ]
     },
     "execution_count": 5,
     "metadata": {},
     "output_type": "execute_result"
    }
   ],
   "source": [
    "df11_dropna = df11_pivot.dropna(axis=0)\n",
    "df11_dropna"
   ]
  },
  {
   "cell_type": "markdown",
   "id": "385edffe",
   "metadata": {},
   "source": [
    "### 답\n",
    "20"
   ]
  },
  {
   "cell_type": "markdown",
   "id": "785931b8",
   "metadata": {},
   "source": [
    "## 2. 국가별 행복지수 증감률\n",
    "- 증감률 = (2017년 행복지수 - 2015년 행복지수) / 2\n",
    "- 행복지수 증감률이 가장 높은 3개 국가의 행복지수가 높은 순서대로"
   ]
  },
  {
   "cell_type": "code",
   "execution_count": 11,
   "id": "095797ef",
   "metadata": {},
   "outputs": [
    {
     "data": {
      "text/html": [
       "<div>\n",
       "<style scoped>\n",
       "    .dataframe tbody tr th:only-of-type {\n",
       "        vertical-align: middle;\n",
       "    }\n",
       "\n",
       "    .dataframe tbody tr th {\n",
       "        vertical-align: top;\n",
       "    }\n",
       "\n",
       "    .dataframe thead th {\n",
       "        text-align: right;\n",
       "    }\n",
       "</style>\n",
       "<table border=\"1\" class=\"dataframe\">\n",
       "  <thead>\n",
       "    <tr style=\"text-align: right;\">\n",
       "      <th>year</th>\n",
       "      <th>Country</th>\n",
       "      <th>2015</th>\n",
       "      <th>2016</th>\n",
       "      <th>2017</th>\n",
       "    </tr>\n",
       "  </thead>\n",
       "  <tbody>\n",
       "    <tr>\n",
       "      <th>0</th>\n",
       "      <td>Afghanistan</td>\n",
       "      <td>3.575</td>\n",
       "      <td>3.360</td>\n",
       "      <td>3.794</td>\n",
       "    </tr>\n",
       "    <tr>\n",
       "      <th>1</th>\n",
       "      <td>Albania</td>\n",
       "      <td>4.959</td>\n",
       "      <td>4.655</td>\n",
       "      <td>4.644</td>\n",
       "    </tr>\n",
       "    <tr>\n",
       "      <th>2</th>\n",
       "      <td>Algeria</td>\n",
       "      <td>5.605</td>\n",
       "      <td>6.355</td>\n",
       "      <td>5.872</td>\n",
       "    </tr>\n",
       "    <tr>\n",
       "      <th>3</th>\n",
       "      <td>Angola</td>\n",
       "      <td>4.033</td>\n",
       "      <td>3.866</td>\n",
       "      <td>3.795</td>\n",
       "    </tr>\n",
       "    <tr>\n",
       "      <th>4</th>\n",
       "      <td>Argentina</td>\n",
       "      <td>6.574</td>\n",
       "      <td>6.650</td>\n",
       "      <td>6.599</td>\n",
       "    </tr>\n",
       "    <tr>\n",
       "      <th>...</th>\n",
       "      <td>...</td>\n",
       "      <td>...</td>\n",
       "      <td>...</td>\n",
       "      <td>...</td>\n",
       "    </tr>\n",
       "    <tr>\n",
       "      <th>141</th>\n",
       "      <td>Venezuela</td>\n",
       "      <td>6.810</td>\n",
       "      <td>6.084</td>\n",
       "      <td>5.250</td>\n",
       "    </tr>\n",
       "    <tr>\n",
       "      <th>142</th>\n",
       "      <td>Vietnam</td>\n",
       "      <td>5.360</td>\n",
       "      <td>5.061</td>\n",
       "      <td>5.074</td>\n",
       "    </tr>\n",
       "    <tr>\n",
       "      <th>143</th>\n",
       "      <td>Yemen</td>\n",
       "      <td>4.077</td>\n",
       "      <td>3.724</td>\n",
       "      <td>3.593</td>\n",
       "    </tr>\n",
       "    <tr>\n",
       "      <th>144</th>\n",
       "      <td>Zambia</td>\n",
       "      <td>5.129</td>\n",
       "      <td>4.795</td>\n",
       "      <td>4.514</td>\n",
       "    </tr>\n",
       "    <tr>\n",
       "      <th>145</th>\n",
       "      <td>Zimbabwe</td>\n",
       "      <td>4.610</td>\n",
       "      <td>4.193</td>\n",
       "      <td>3.875</td>\n",
       "    </tr>\n",
       "  </tbody>\n",
       "</table>\n",
       "<p>146 rows × 4 columns</p>\n",
       "</div>"
      ],
      "text/plain": [
       "year      Country   2015   2016   2017\n",
       "0     Afghanistan  3.575  3.360  3.794\n",
       "1         Albania  4.959  4.655  4.644\n",
       "2         Algeria  5.605  6.355  5.872\n",
       "3          Angola  4.033  3.866  3.795\n",
       "4       Argentina  6.574  6.650  6.599\n",
       "..            ...    ...    ...    ...\n",
       "141     Venezuela  6.810  6.084  5.250\n",
       "142       Vietnam  5.360  5.061  5.074\n",
       "143         Yemen  4.077  3.724  3.593\n",
       "144        Zambia  5.129  4.795  4.514\n",
       "145      Zimbabwe  4.610  4.193  3.875\n",
       "\n",
       "[146 rows x 4 columns]"
      ]
     },
     "execution_count": 11,
     "metadata": {},
     "output_type": "execute_result"
    }
   ],
   "source": [
    "df11_hs = df11_dropna['Happiness_Score'].reset_index()\n",
    "df11_hs"
   ]
  },
  {
   "cell_type": "code",
   "execution_count": 13,
   "id": "ed776255",
   "metadata": {},
   "outputs": [
    {
     "data": {
      "text/html": [
       "<div>\n",
       "<style scoped>\n",
       "    .dataframe tbody tr th:only-of-type {\n",
       "        vertical-align: middle;\n",
       "    }\n",
       "\n",
       "    .dataframe tbody tr th {\n",
       "        vertical-align: top;\n",
       "    }\n",
       "\n",
       "    .dataframe thead th {\n",
       "        text-align: right;\n",
       "    }\n",
       "</style>\n",
       "<table border=\"1\" class=\"dataframe\">\n",
       "  <thead>\n",
       "    <tr style=\"text-align: right;\">\n",
       "      <th>year</th>\n",
       "      <th>Country</th>\n",
       "      <th>2015</th>\n",
       "      <th>2016</th>\n",
       "      <th>2017</th>\n",
       "      <th>rate</th>\n",
       "    </tr>\n",
       "  </thead>\n",
       "  <tbody>\n",
       "    <tr>\n",
       "      <th>0</th>\n",
       "      <td>Afghanistan</td>\n",
       "      <td>3.575</td>\n",
       "      <td>3.360</td>\n",
       "      <td>3.794</td>\n",
       "      <td>0.1095</td>\n",
       "    </tr>\n",
       "    <tr>\n",
       "      <th>1</th>\n",
       "      <td>Albania</td>\n",
       "      <td>4.959</td>\n",
       "      <td>4.655</td>\n",
       "      <td>4.644</td>\n",
       "      <td>-0.1575</td>\n",
       "    </tr>\n",
       "    <tr>\n",
       "      <th>2</th>\n",
       "      <td>Algeria</td>\n",
       "      <td>5.605</td>\n",
       "      <td>6.355</td>\n",
       "      <td>5.872</td>\n",
       "      <td>0.1335</td>\n",
       "    </tr>\n",
       "    <tr>\n",
       "      <th>3</th>\n",
       "      <td>Angola</td>\n",
       "      <td>4.033</td>\n",
       "      <td>3.866</td>\n",
       "      <td>3.795</td>\n",
       "      <td>-0.1190</td>\n",
       "    </tr>\n",
       "    <tr>\n",
       "      <th>4</th>\n",
       "      <td>Argentina</td>\n",
       "      <td>6.574</td>\n",
       "      <td>6.650</td>\n",
       "      <td>6.599</td>\n",
       "      <td>0.0125</td>\n",
       "    </tr>\n",
       "    <tr>\n",
       "      <th>...</th>\n",
       "      <td>...</td>\n",
       "      <td>...</td>\n",
       "      <td>...</td>\n",
       "      <td>...</td>\n",
       "      <td>...</td>\n",
       "    </tr>\n",
       "    <tr>\n",
       "      <th>141</th>\n",
       "      <td>Venezuela</td>\n",
       "      <td>6.810</td>\n",
       "      <td>6.084</td>\n",
       "      <td>5.250</td>\n",
       "      <td>-0.7800</td>\n",
       "    </tr>\n",
       "    <tr>\n",
       "      <th>142</th>\n",
       "      <td>Vietnam</td>\n",
       "      <td>5.360</td>\n",
       "      <td>5.061</td>\n",
       "      <td>5.074</td>\n",
       "      <td>-0.1430</td>\n",
       "    </tr>\n",
       "    <tr>\n",
       "      <th>143</th>\n",
       "      <td>Yemen</td>\n",
       "      <td>4.077</td>\n",
       "      <td>3.724</td>\n",
       "      <td>3.593</td>\n",
       "      <td>-0.2420</td>\n",
       "    </tr>\n",
       "    <tr>\n",
       "      <th>144</th>\n",
       "      <td>Zambia</td>\n",
       "      <td>5.129</td>\n",
       "      <td>4.795</td>\n",
       "      <td>4.514</td>\n",
       "      <td>-0.3075</td>\n",
       "    </tr>\n",
       "    <tr>\n",
       "      <th>145</th>\n",
       "      <td>Zimbabwe</td>\n",
       "      <td>4.610</td>\n",
       "      <td>4.193</td>\n",
       "      <td>3.875</td>\n",
       "      <td>-0.3675</td>\n",
       "    </tr>\n",
       "  </tbody>\n",
       "</table>\n",
       "<p>146 rows × 5 columns</p>\n",
       "</div>"
      ],
      "text/plain": [
       "year      Country   2015   2016   2017    rate\n",
       "0     Afghanistan  3.575  3.360  3.794  0.1095\n",
       "1         Albania  4.959  4.655  4.644 -0.1575\n",
       "2         Algeria  5.605  6.355  5.872  0.1335\n",
       "3          Angola  4.033  3.866  3.795 -0.1190\n",
       "4       Argentina  6.574  6.650  6.599  0.0125\n",
       "..            ...    ...    ...    ...     ...\n",
       "141     Venezuela  6.810  6.084  5.250 -0.7800\n",
       "142       Vietnam  5.360  5.061  5.074 -0.1430\n",
       "143         Yemen  4.077  3.724  3.593 -0.2420\n",
       "144        Zambia  5.129  4.795  4.514 -0.3075\n",
       "145      Zimbabwe  4.610  4.193  3.875 -0.3675\n",
       "\n",
       "[146 rows x 5 columns]"
      ]
     },
     "execution_count": 13,
     "metadata": {},
     "output_type": "execute_result"
    }
   ],
   "source": [
    "df11_hs['rate'] = (df11_hs[2017] - df11_hs[2015]) / 2\n",
    "df11_hs"
   ]
  },
  {
   "cell_type": "code",
   "execution_count": 16,
   "id": "7bac7673",
   "metadata": {},
   "outputs": [
    {
     "data": {
      "text/html": [
       "<div>\n",
       "<style scoped>\n",
       "    .dataframe tbody tr th:only-of-type {\n",
       "        vertical-align: middle;\n",
       "    }\n",
       "\n",
       "    .dataframe tbody tr th {\n",
       "        vertical-align: top;\n",
       "    }\n",
       "\n",
       "    .dataframe thead th {\n",
       "        text-align: right;\n",
       "    }\n",
       "</style>\n",
       "<table border=\"1\" class=\"dataframe\">\n",
       "  <thead>\n",
       "    <tr style=\"text-align: right;\">\n",
       "      <th>year</th>\n",
       "      <th>Country</th>\n",
       "      <th>2015</th>\n",
       "      <th>2016</th>\n",
       "      <th>2017</th>\n",
       "      <th>rate</th>\n",
       "    </tr>\n",
       "  </thead>\n",
       "  <tbody>\n",
       "    <tr>\n",
       "      <th>71</th>\n",
       "      <td>Latvia</td>\n",
       "      <td>5.098</td>\n",
       "      <td>5.560</td>\n",
       "      <td>5.850</td>\n",
       "      <td>0.3760</td>\n",
       "    </tr>\n",
       "    <tr>\n",
       "      <th>108</th>\n",
       "      <td>Romania</td>\n",
       "      <td>5.124</td>\n",
       "      <td>5.528</td>\n",
       "      <td>5.825</td>\n",
       "      <td>0.3505</td>\n",
       "    </tr>\n",
       "    <tr>\n",
       "      <th>129</th>\n",
       "      <td>Togo</td>\n",
       "      <td>2.839</td>\n",
       "      <td>3.303</td>\n",
       "      <td>3.495</td>\n",
       "      <td>0.3280</td>\n",
       "    </tr>\n",
       "    <tr>\n",
       "      <th>112</th>\n",
       "      <td>Senegal</td>\n",
       "      <td>3.904</td>\n",
       "      <td>4.219</td>\n",
       "      <td>4.535</td>\n",
       "      <td>0.3155</td>\n",
       "    </tr>\n",
       "    <tr>\n",
       "      <th>44</th>\n",
       "      <td>Gabon</td>\n",
       "      <td>3.896</td>\n",
       "      <td>4.121</td>\n",
       "      <td>4.465</td>\n",
       "      <td>0.2845</td>\n",
       "    </tr>\n",
       "    <tr>\n",
       "      <th>...</th>\n",
       "      <td>...</td>\n",
       "      <td>...</td>\n",
       "      <td>...</td>\n",
       "      <td>...</td>\n",
       "      <td>...</td>\n",
       "    </tr>\n",
       "    <tr>\n",
       "      <th>144</th>\n",
       "      <td>Zambia</td>\n",
       "      <td>5.129</td>\n",
       "      <td>4.795</td>\n",
       "      <td>4.514</td>\n",
       "      <td>-0.3075</td>\n",
       "    </tr>\n",
       "    <tr>\n",
       "      <th>145</th>\n",
       "      <td>Zimbabwe</td>\n",
       "      <td>4.610</td>\n",
       "      <td>4.193</td>\n",
       "      <td>3.875</td>\n",
       "      <td>-0.3675</td>\n",
       "    </tr>\n",
       "    <tr>\n",
       "      <th>51</th>\n",
       "      <td>Haiti</td>\n",
       "      <td>4.518</td>\n",
       "      <td>4.028</td>\n",
       "      <td>3.603</td>\n",
       "      <td>-0.4575</td>\n",
       "    </tr>\n",
       "    <tr>\n",
       "      <th>73</th>\n",
       "      <td>Liberia</td>\n",
       "      <td>4.571</td>\n",
       "      <td>3.622</td>\n",
       "      <td>3.533</td>\n",
       "      <td>-0.5190</td>\n",
       "    </tr>\n",
       "    <tr>\n",
       "      <th>141</th>\n",
       "      <td>Venezuela</td>\n",
       "      <td>6.810</td>\n",
       "      <td>6.084</td>\n",
       "      <td>5.250</td>\n",
       "      <td>-0.7800</td>\n",
       "    </tr>\n",
       "  </tbody>\n",
       "</table>\n",
       "<p>146 rows × 5 columns</p>\n",
       "</div>"
      ],
      "text/plain": [
       "year    Country   2015   2016   2017    rate\n",
       "71       Latvia  5.098  5.560  5.850  0.3760\n",
       "108     Romania  5.124  5.528  5.825  0.3505\n",
       "129        Togo  2.839  3.303  3.495  0.3280\n",
       "112     Senegal  3.904  4.219  4.535  0.3155\n",
       "44        Gabon  3.896  4.121  4.465  0.2845\n",
       "..          ...    ...    ...    ...     ...\n",
       "144      Zambia  5.129  4.795  4.514 -0.3075\n",
       "145    Zimbabwe  4.610  4.193  3.875 -0.3675\n",
       "51        Haiti  4.518  4.028  3.603 -0.4575\n",
       "73      Liberia  4.571  3.622  3.533 -0.5190\n",
       "141   Venezuela  6.810  6.084  5.250 -0.7800\n",
       "\n",
       "[146 rows x 5 columns]"
      ]
     },
     "execution_count": 16,
     "metadata": {},
     "output_type": "execute_result"
    }
   ],
   "source": [
    "df11_hs.sort_values(by='rate', ascending=False)"
   ]
  },
  {
   "cell_type": "markdown",
   "id": "ce2ca1c7",
   "metadata": {},
   "source": [
    "### 답\n",
    "Latvia, Romania, Togo"
   ]
  },
  {
   "cell_type": "markdown",
   "id": "52963c72",
   "metadata": {},
   "source": [
    "## 3. 년도별 행복지수 평균이 유의미하게 차이나는지\n",
    "- 검정통계량 소수점 넷째 자리까지"
   ]
  },
  {
   "cell_type": "code",
   "execution_count": 22,
   "id": "24772931",
   "metadata": {},
   "outputs": [
    {
     "data": {
      "text/html": [
       "<div>\n",
       "<style scoped>\n",
       "    .dataframe tbody tr th:only-of-type {\n",
       "        vertical-align: middle;\n",
       "    }\n",
       "\n",
       "    .dataframe tbody tr th {\n",
       "        vertical-align: top;\n",
       "    }\n",
       "\n",
       "    .dataframe thead th {\n",
       "        text-align: right;\n",
       "    }\n",
       "</style>\n",
       "<table border=\"1\" class=\"dataframe\">\n",
       "  <thead>\n",
       "    <tr style=\"text-align: right;\">\n",
       "      <th></th>\n",
       "      <th>Country</th>\n",
       "      <th>Happiness_Rank</th>\n",
       "      <th>Happiness_Score</th>\n",
       "      <th>year</th>\n",
       "    </tr>\n",
       "  </thead>\n",
       "  <tbody>\n",
       "    <tr>\n",
       "      <th>0</th>\n",
       "      <td>Switzerland</td>\n",
       "      <td>1</td>\n",
       "      <td>7.587</td>\n",
       "      <td>2015</td>\n",
       "    </tr>\n",
       "    <tr>\n",
       "      <th>1</th>\n",
       "      <td>Iceland</td>\n",
       "      <td>2</td>\n",
       "      <td>7.561</td>\n",
       "      <td>2015</td>\n",
       "    </tr>\n",
       "    <tr>\n",
       "      <th>2</th>\n",
       "      <td>Denmark</td>\n",
       "      <td>3</td>\n",
       "      <td>7.527</td>\n",
       "      <td>2015</td>\n",
       "    </tr>\n",
       "    <tr>\n",
       "      <th>3</th>\n",
       "      <td>Norway</td>\n",
       "      <td>4</td>\n",
       "      <td>7.522</td>\n",
       "      <td>2015</td>\n",
       "    </tr>\n",
       "    <tr>\n",
       "      <th>4</th>\n",
       "      <td>Canada</td>\n",
       "      <td>5</td>\n",
       "      <td>7.427</td>\n",
       "      <td>2015</td>\n",
       "    </tr>\n",
       "    <tr>\n",
       "      <th>...</th>\n",
       "      <td>...</td>\n",
       "      <td>...</td>\n",
       "      <td>...</td>\n",
       "      <td>...</td>\n",
       "    </tr>\n",
       "    <tr>\n",
       "      <th>464</th>\n",
       "      <td>Togo</td>\n",
       "      <td>150</td>\n",
       "      <td>3.495</td>\n",
       "      <td>2017</td>\n",
       "    </tr>\n",
       "    <tr>\n",
       "      <th>465</th>\n",
       "      <td>Rwanda</td>\n",
       "      <td>151</td>\n",
       "      <td>3.471</td>\n",
       "      <td>2017</td>\n",
       "    </tr>\n",
       "    <tr>\n",
       "      <th>466</th>\n",
       "      <td>Syria</td>\n",
       "      <td>152</td>\n",
       "      <td>3.462</td>\n",
       "      <td>2017</td>\n",
       "    </tr>\n",
       "    <tr>\n",
       "      <th>467</th>\n",
       "      <td>Tanzania</td>\n",
       "      <td>153</td>\n",
       "      <td>3.349</td>\n",
       "      <td>2017</td>\n",
       "    </tr>\n",
       "    <tr>\n",
       "      <th>468</th>\n",
       "      <td>Burundi</td>\n",
       "      <td>154</td>\n",
       "      <td>2.905</td>\n",
       "      <td>2017</td>\n",
       "    </tr>\n",
       "  </tbody>\n",
       "</table>\n",
       "<p>438 rows × 4 columns</p>\n",
       "</div>"
      ],
      "text/plain": [
       "         Country  Happiness_Rank  Happiness_Score  year\n",
       "0    Switzerland               1            7.587  2015\n",
       "1        Iceland               2            7.561  2015\n",
       "2        Denmark               3            7.527  2015\n",
       "3         Norway               4            7.522  2015\n",
       "4         Canada               5            7.427  2015\n",
       "..           ...             ...              ...   ...\n",
       "464         Togo             150            3.495  2017\n",
       "465       Rwanda             151            3.471  2017\n",
       "466        Syria             152            3.462  2017\n",
       "467     Tanzania             153            3.349  2017\n",
       "468      Burundi             154            2.905  2017\n",
       "\n",
       "[438 rows x 4 columns]"
      ]
     },
     "execution_count": 22,
     "metadata": {},
     "output_type": "execute_result"
    }
   ],
   "source": [
    "from statsmodels.formula.api import ols\n",
    "from statsmodels.stats.anova import anova_lm\n",
    "\n",
    "df11_anova = df11[df11['Country'].isin(df11_dropna.index)]\n",
    "df11_anova"
   ]
  },
  {
   "cell_type": "code",
   "execution_count": 23,
   "id": "686a5bef",
   "metadata": {},
   "outputs": [],
   "source": [
    "# C(수치형 변수) : 범주형으로 인식\n",
    "anova = ols('Happiness_Score ~ C(year)', df11_anova).fit()"
   ]
  },
  {
   "cell_type": "code",
   "execution_count": 25,
   "id": "68a973c5",
   "metadata": {},
   "outputs": [
    {
     "data": {
      "text/html": [
       "<div>\n",
       "<style scoped>\n",
       "    .dataframe tbody tr th:only-of-type {\n",
       "        vertical-align: middle;\n",
       "    }\n",
       "\n",
       "    .dataframe tbody tr th {\n",
       "        vertical-align: top;\n",
       "    }\n",
       "\n",
       "    .dataframe thead th {\n",
       "        text-align: right;\n",
       "    }\n",
       "</style>\n",
       "<table border=\"1\" class=\"dataframe\">\n",
       "  <thead>\n",
       "    <tr style=\"text-align: right;\">\n",
       "      <th></th>\n",
       "      <th>df</th>\n",
       "      <th>sum_sq</th>\n",
       "      <th>mean_sq</th>\n",
       "      <th>F</th>\n",
       "      <th>PR(&gt;F)</th>\n",
       "    </tr>\n",
       "  </thead>\n",
       "  <tbody>\n",
       "    <tr>\n",
       "      <th>C(year)</th>\n",
       "      <td>2.0</td>\n",
       "      <td>0.011198</td>\n",
       "      <td>0.005599</td>\n",
       "      <td>0.004277</td>\n",
       "      <td>0.995732</td>\n",
       "    </tr>\n",
       "    <tr>\n",
       "      <th>Residual</th>\n",
       "      <td>435.0</td>\n",
       "      <td>569.472307</td>\n",
       "      <td>1.309132</td>\n",
       "      <td>NaN</td>\n",
       "      <td>NaN</td>\n",
       "    </tr>\n",
       "  </tbody>\n",
       "</table>\n",
       "</div>"
      ],
      "text/plain": [
       "             df      sum_sq   mean_sq         F    PR(>F)\n",
       "C(year)     2.0    0.011198  0.005599  0.004277  0.995732\n",
       "Residual  435.0  569.472307  1.309132       NaN       NaN"
      ]
     },
     "execution_count": 25,
     "metadata": {},
     "output_type": "execute_result"
    }
   ],
   "source": [
    "anova_lm(anova)"
   ]
  },
  {
   "cell_type": "markdown",
   "id": "19db02f3",
   "metadata": {},
   "source": [
    "### 답\n",
    "0.0043"
   ]
  },
  {
   "cell_type": "markdown",
   "id": "74690482",
   "metadata": {},
   "source": [
    "### 참고\n",
    "- anova 분석 다른 방법"
   ]
  },
  {
   "cell_type": "code",
   "execution_count": 34,
   "id": "b80fef05",
   "metadata": {},
   "outputs": [
    {
     "name": "stdout",
     "output_type": "stream",
     "text": [
      "Multiple Comparison of Means - Tukey HSD, FWER=0.05\n",
      "==================================================\n",
      "group1 group2 meandiff p-adj  lower  upper  reject\n",
      "--------------------------------------------------\n",
      "  2015   2016  -0.0112   0.9 -0.3261 0.3038  False\n",
      "  2015   2017   -0.001   0.9 -0.3159  0.314  False\n",
      "  2016   2017   0.0102   0.9 -0.3048 0.3251  False\n",
      "--------------------------------------------------\n"
     ]
    }
   ],
   "source": [
    "from statsmodels.stats.multicomp import pairwise_tukeyhsd\n",
    "\n",
    "anova_result = pairwise_tukeyhsd(df11_anova['Happiness_Score'], df11_anova['year'])\n",
    "print(anova_result)"
   ]
  },
  {
   "cell_type": "code",
   "execution_count": 37,
   "id": "37bae896",
   "metadata": {},
   "outputs": [
    {
     "name": "stdout",
     "output_type": "stream",
     "text": [
      "0.004276725037689305 0.9957324489944479\n"
     ]
    }
   ],
   "source": [
    "from scipy.stats import f_oneway\n",
    "\n",
    "f, p = f_oneway(df11_hs[2015], df11_hs[2016], df11_hs[2017])\n",
    "print(f, p)"
   ]
  },
  {
   "cell_type": "markdown",
   "id": "643c091a",
   "metadata": {},
   "source": [
    "# 문제 12 유형\n",
    "- DataSet_12.csv 이용"
   ]
  },
  {
   "cell_type": "code",
   "execution_count": 38,
   "id": "eb946a86",
   "metadata": {},
   "outputs": [
    {
     "data": {
      "text/html": [
       "<div>\n",
       "<style scoped>\n",
       "    .dataframe tbody tr th:only-of-type {\n",
       "        vertical-align: middle;\n",
       "    }\n",
       "\n",
       "    .dataframe tbody tr th {\n",
       "        vertical-align: top;\n",
       "    }\n",
       "\n",
       "    .dataframe thead th {\n",
       "        text-align: right;\n",
       "    }\n",
       "</style>\n",
       "<table border=\"1\" class=\"dataframe\">\n",
       "  <thead>\n",
       "    <tr style=\"text-align: right;\">\n",
       "      <th></th>\n",
       "      <th>Age</th>\n",
       "      <th>Gender</th>\n",
       "      <th>Dependent_Count</th>\n",
       "      <th>Education_Level</th>\n",
       "      <th>is_Married</th>\n",
       "      <th>Read_Book_per_Year</th>\n",
       "      <th>Income_Range</th>\n",
       "    </tr>\n",
       "  </thead>\n",
       "  <tbody>\n",
       "    <tr>\n",
       "      <th>0</th>\n",
       "      <td>52</td>\n",
       "      <td>M</td>\n",
       "      <td>2</td>\n",
       "      <td>석사</td>\n",
       "      <td>1</td>\n",
       "      <td>45</td>\n",
       "      <td>D</td>\n",
       "    </tr>\n",
       "    <tr>\n",
       "      <th>1</th>\n",
       "      <td>46</td>\n",
       "      <td>F</td>\n",
       "      <td>4</td>\n",
       "      <td>박사</td>\n",
       "      <td>1</td>\n",
       "      <td>26</td>\n",
       "      <td>X</td>\n",
       "    </tr>\n",
       "    <tr>\n",
       "      <th>2</th>\n",
       "      <td>53</td>\n",
       "      <td>F</td>\n",
       "      <td>0</td>\n",
       "      <td>석사</td>\n",
       "      <td>0</td>\n",
       "      <td>48</td>\n",
       "      <td>A</td>\n",
       "    </tr>\n",
       "  </tbody>\n",
       "</table>\n",
       "</div>"
      ],
      "text/plain": [
       "   Age Gender  Dependent_Count Education_Level  is_Married  \\\n",
       "0   52      M                2              석사           1   \n",
       "1   46      F                4              박사           1   \n",
       "2   53      F                0              석사           0   \n",
       "\n",
       "   Read_Book_per_Year Income_Range  \n",
       "0                  45            D  \n",
       "1                  26            X  \n",
       "2                  48            A  "
      ]
     },
     "execution_count": 38,
     "metadata": {},
     "output_type": "execute_result"
    }
   ],
   "source": [
    "df12_orig = pd.read_csv('datasets/Dataset_12.csv', encoding='utf8')\n",
    "df12 = df12_orig.copy()\n",
    "df12.head(3)"
   ]
  },
  {
   "cell_type": "markdown",
   "id": "8e741d9f",
   "metadata": {},
   "source": [
    "## 1. 수치형 변수를 대상으로 피어슨 상관분석\n",
    "- 연간 독서량과 가장 상관관계가 강한 변수의 상관계수\n",
    "- 반올림하여 소수점 셋째 자리까지"
   ]
  },
  {
   "cell_type": "code",
   "execution_count": 41,
   "id": "645fae39",
   "metadata": {},
   "outputs": [
    {
     "data": {
      "text/html": [
       "<div>\n",
       "<style scoped>\n",
       "    .dataframe tbody tr th:only-of-type {\n",
       "        vertical-align: middle;\n",
       "    }\n",
       "\n",
       "    .dataframe tbody tr th {\n",
       "        vertical-align: top;\n",
       "    }\n",
       "\n",
       "    .dataframe thead th {\n",
       "        text-align: right;\n",
       "    }\n",
       "</style>\n",
       "<table border=\"1\" class=\"dataframe\">\n",
       "  <thead>\n",
       "    <tr style=\"text-align: right;\">\n",
       "      <th></th>\n",
       "      <th>Age</th>\n",
       "      <th>Dependent_Count</th>\n",
       "      <th>is_Married</th>\n",
       "      <th>Read_Book_per_Year</th>\n",
       "    </tr>\n",
       "  </thead>\n",
       "  <tbody>\n",
       "    <tr>\n",
       "      <th>Age</th>\n",
       "      <td>1.000000</td>\n",
       "      <td>-0.143767</td>\n",
       "      <td>0.040360</td>\n",
       "      <td>0.796843</td>\n",
       "    </tr>\n",
       "    <tr>\n",
       "      <th>Dependent_Count</th>\n",
       "      <td>-0.143767</td>\n",
       "      <td>1.000000</td>\n",
       "      <td>0.024472</td>\n",
       "      <td>-0.132591</td>\n",
       "    </tr>\n",
       "    <tr>\n",
       "      <th>is_Married</th>\n",
       "      <td>0.040360</td>\n",
       "      <td>0.024472</td>\n",
       "      <td>1.000000</td>\n",
       "      <td>0.027221</td>\n",
       "    </tr>\n",
       "    <tr>\n",
       "      <th>Read_Book_per_Year</th>\n",
       "      <td>0.796843</td>\n",
       "      <td>-0.132591</td>\n",
       "      <td>0.027221</td>\n",
       "      <td>1.000000</td>\n",
       "    </tr>\n",
       "  </tbody>\n",
       "</table>\n",
       "</div>"
      ],
      "text/plain": [
       "                         Age  Dependent_Count  is_Married  Read_Book_per_Year\n",
       "Age                 1.000000        -0.143767    0.040360            0.796843\n",
       "Dependent_Count    -0.143767         1.000000    0.024472           -0.132591\n",
       "is_Married          0.040360         0.024472    1.000000            0.027221\n",
       "Read_Book_per_Year  0.796843        -0.132591    0.027221            1.000000"
      ]
     },
     "execution_count": 41,
     "metadata": {},
     "output_type": "execute_result"
    }
   ],
   "source": [
    "df12.corr()"
   ]
  },
  {
   "cell_type": "code",
   "execution_count": 42,
   "id": "179b1f09",
   "metadata": {},
   "outputs": [
    {
     "data": {
      "text/plain": [
       "Age                   0.796843\n",
       "Dependent_Count      -0.132591\n",
       "is_Married            0.027221\n",
       "Read_Book_per_Year    1.000000\n",
       "Name: Read_Book_per_Year, dtype: float64"
      ]
     },
     "execution_count": 42,
     "metadata": {},
     "output_type": "execute_result"
    }
   ],
   "source": [
    "df12.corr()['Read_Book_per_Year']"
   ]
  },
  {
   "cell_type": "markdown",
   "id": "eabf0505",
   "metadata": {},
   "source": [
    "### 답\n",
    "0.797"
   ]
  },
  {
   "cell_type": "markdown",
   "id": "e1af4068",
   "metadata": {},
   "source": [
    "## 2. 석사 이상 여부에 따른 연간 독서량 평균 차이\n",
    "- 독립 2표본 t검정\n",
    "- 등분산 가정\n",
    "- p-value 반올림하여 소수점 셋째 자리까지"
   ]
  },
  {
   "cell_type": "code",
   "execution_count": 43,
   "id": "c88b72ee",
   "metadata": {},
   "outputs": [],
   "source": [
    "df12_석사 = df12[df12['Education_Level'] == '석사']['Read_Book_per_Year']\n",
    "df12_n석사 = df12[df12['Education_Level'] != '석사']['Read_Book_per_Year']"
   ]
  },
  {
   "cell_type": "code",
   "execution_count": 44,
   "id": "e4d34f0d",
   "metadata": {},
   "outputs": [
    {
     "name": "stdout",
     "output_type": "stream",
     "text": [
      "0.09821366362358962 0.9217665713124468\n"
     ]
    }
   ],
   "source": [
    "from scipy.stats import ttest_ind\n",
    "\n",
    "t, p = ttest_ind(df12_석사, df12_n석사, equal_var=True)\n",
    "print(t, p)"
   ]
  },
  {
   "cell_type": "markdown",
   "id": "e6a5d2b6",
   "metadata": {},
   "source": [
    "### 답\n",
    "0.922"
   ]
  },
  {
   "cell_type": "markdown",
   "id": "172cd445",
   "metadata": {},
   "source": [
    "## 3. 독서량의 다중선형회귀분석\n",
    "- 수치형 자료를 독립변수\n",
    "- 독립변수가 고정이면서 나이만 다를 때, 40살은 30살보다 독서량이 얼마나 많은지\n",
    "- 반올림하여 정수로 표기"
   ]
  },
  {
   "cell_type": "code",
   "execution_count": 45,
   "id": "139a96d2",
   "metadata": {},
   "outputs": [
    {
     "name": "stdout",
     "output_type": "stream",
     "text": [
      "[ 0.78944324 -0.11496195 -0.07190099]\n"
     ]
    }
   ],
   "source": [
    "from sklearn.linear_model import LinearRegression\n",
    "\n",
    "X = df12[['Age', 'Dependent_Count', 'is_Married']]\n",
    "y = df12['Read_Book_per_Year']\n",
    "\n",
    "lr = LinearRegression()\n",
    "lr.fit(X, y)\n",
    "print(lr.coef_)"
   ]
  },
  {
   "cell_type": "code",
   "execution_count": 47,
   "id": "7c527115",
   "metadata": {},
   "outputs": [
    {
     "data": {
      "text/plain": [
       "7.894432436609117"
      ]
     },
     "execution_count": 47,
     "metadata": {},
     "output_type": "execute_result"
    }
   ],
   "source": [
    "lr.coef_[0] * 10"
   ]
  },
  {
   "cell_type": "markdown",
   "id": "99a06764",
   "metadata": {},
   "source": [
    "### 답\n",
    "8"
   ]
  },
  {
   "cell_type": "markdown",
   "id": "f4399d44",
   "metadata": {},
   "source": [
    "### 참고"
   ]
  },
  {
   "cell_type": "code",
   "execution_count": 48,
   "id": "7d419eb1",
   "metadata": {},
   "outputs": [
    {
     "data": {
      "text/plain": [
       "Index(['Age', 'Dependent_Count', 'is_Married'], dtype='object')"
      ]
     },
     "execution_count": 48,
     "metadata": {},
     "output_type": "execute_result"
    }
   ],
   "source": [
    "var_list = df12.columns[df12.dtypes != 'object'].drop('Read_Book_per_Year')\n",
    "var_list"
   ]
  },
  {
   "cell_type": "code",
   "execution_count": 49,
   "id": "4926e740",
   "metadata": {
    "scrolled": false
   },
   "outputs": [
    {
     "data": {
      "text/html": [
       "<table class=\"simpletable\">\n",
       "<caption>OLS Regression Results</caption>\n",
       "<tr>\n",
       "  <th>Dep. Variable:</th>    <td>Read_Book_per_Year</td> <th>  R-squared:         </th> <td>   0.635</td> \n",
       "</tr>\n",
       "<tr>\n",
       "  <th>Model:</th>                    <td>OLS</td>        <th>  Adj. R-squared:    </th> <td>   0.635</td> \n",
       "</tr>\n",
       "<tr>\n",
       "  <th>Method:</th>              <td>Least Squares</td>   <th>  F-statistic:       </th> <td>   2901.</td> \n",
       "</tr>\n",
       "<tr>\n",
       "  <th>Date:</th>              <td>Tue, 24 Aug 2021</td>  <th>  Prob (F-statistic):</th>  <td>  0.00</td>  \n",
       "</tr>\n",
       "<tr>\n",
       "  <th>Time:</th>                  <td>15:59:23</td>      <th>  Log-Likelihood:    </th> <td> -15057.</td> \n",
       "</tr>\n",
       "<tr>\n",
       "  <th>No. Observations:</th>       <td>  5000</td>       <th>  AIC:               </th> <td>3.012e+04</td>\n",
       "</tr>\n",
       "<tr>\n",
       "  <th>Df Residuals:</th>           <td>  4996</td>       <th>  BIC:               </th> <td>3.015e+04</td>\n",
       "</tr>\n",
       "<tr>\n",
       "  <th>Df Model:</th>               <td>     3</td>       <th>                     </th>     <td> </td>    \n",
       "</tr>\n",
       "<tr>\n",
       "  <th>Covariance Type:</th>       <td>nonrobust</td>     <th>                     </th>     <td> </td>    \n",
       "</tr>\n",
       "</table>\n",
       "<table class=\"simpletable\">\n",
       "<tr>\n",
       "         <td></td>            <th>coef</th>     <th>std err</th>      <th>t</th>      <th>P>|t|</th>  <th>[0.025</th>    <th>0.975]</th>  \n",
       "</tr>\n",
       "<tr>\n",
       "  <th>Intercept</th>       <td>   -0.3231</td> <td>    0.445</td> <td>   -0.726</td> <td> 0.468</td> <td>   -1.195</td> <td>    0.549</td>\n",
       "</tr>\n",
       "<tr>\n",
       "  <th>Age</th>             <td>    0.7894</td> <td>    0.009</td> <td>   91.923</td> <td> 0.000</td> <td>    0.773</td> <td>    0.806</td>\n",
       "</tr>\n",
       "<tr>\n",
       "  <th>Dependent_Count</th> <td>   -0.1150</td> <td>    0.054</td> <td>   -2.116</td> <td> 0.034</td> <td>   -0.221</td> <td>   -0.008</td>\n",
       "</tr>\n",
       "<tr>\n",
       "  <th>is_Married</th>      <td>   -0.0719</td> <td>    0.140</td> <td>   -0.514</td> <td> 0.608</td> <td>   -0.346</td> <td>    0.203</td>\n",
       "</tr>\n",
       "</table>\n",
       "<table class=\"simpletable\">\n",
       "<tr>\n",
       "  <th>Omnibus:</th>       <td>72.985</td> <th>  Durbin-Watson:     </th> <td>   2.026</td>\n",
       "</tr>\n",
       "<tr>\n",
       "  <th>Prob(Omnibus):</th> <td> 0.000</td> <th>  Jarque-Bera (JB):  </th> <td>  76.307</td>\n",
       "</tr>\n",
       "<tr>\n",
       "  <th>Skew:</th>          <td>-0.288</td> <th>  Prob(JB):          </th> <td>2.69e-17</td>\n",
       "</tr>\n",
       "<tr>\n",
       "  <th>Kurtosis:</th>      <td> 3.183</td> <th>  Cond. No.          </th> <td>    303.</td>\n",
       "</tr>\n",
       "</table><br/><br/>Notes:<br/>[1] Standard Errors assume that the covariance matrix of the errors is correctly specified."
      ],
      "text/plain": [
       "<class 'statsmodels.iolib.summary.Summary'>\n",
       "\"\"\"\n",
       "                            OLS Regression Results                            \n",
       "==============================================================================\n",
       "Dep. Variable:     Read_Book_per_Year   R-squared:                       0.635\n",
       "Model:                            OLS   Adj. R-squared:                  0.635\n",
       "Method:                 Least Squares   F-statistic:                     2901.\n",
       "Date:                Tue, 24 Aug 2021   Prob (F-statistic):               0.00\n",
       "Time:                        15:59:23   Log-Likelihood:                -15057.\n",
       "No. Observations:                5000   AIC:                         3.012e+04\n",
       "Df Residuals:                    4996   BIC:                         3.015e+04\n",
       "Df Model:                           3                                         \n",
       "Covariance Type:            nonrobust                                         \n",
       "===================================================================================\n",
       "                      coef    std err          t      P>|t|      [0.025      0.975]\n",
       "-----------------------------------------------------------------------------------\n",
       "Intercept          -0.3231      0.445     -0.726      0.468      -1.195       0.549\n",
       "Age                 0.7894      0.009     91.923      0.000       0.773       0.806\n",
       "Dependent_Count    -0.1150      0.054     -2.116      0.034      -0.221      -0.008\n",
       "is_Married         -0.0719      0.140     -0.514      0.608      -0.346       0.203\n",
       "==============================================================================\n",
       "Omnibus:                       72.985   Durbin-Watson:                   2.026\n",
       "Prob(Omnibus):                  0.000   Jarque-Bera (JB):               76.307\n",
       "Skew:                          -0.288   Prob(JB):                     2.69e-17\n",
       "Kurtosis:                       3.183   Cond. No.                         303.\n",
       "==============================================================================\n",
       "\n",
       "Notes:\n",
       "[1] Standard Errors assume that the covariance matrix of the errors is correctly specified.\n",
       "\"\"\""
      ]
     },
     "execution_count": 49,
     "metadata": {},
     "output_type": "execute_result"
    }
   ],
   "source": [
    "from statsmodels.formula.api import ols\n",
    "\n",
    "formula = 'Read_Book_per_Year~' + '+'.join(var_list)\n",
    "\n",
    "result12 = ols(formula, df12).fit()\n",
    "result12.summary()"
   ]
  },
  {
   "cell_type": "markdown",
   "id": "3c886cb4",
   "metadata": {},
   "source": [
    "# 문제 13 유형\n",
    "- DataSet13_train.csv / DataSet13_test.csv 이용"
   ]
  },
  {
   "cell_type": "code",
   "execution_count": 50,
   "id": "979ec131",
   "metadata": {},
   "outputs": [
    {
     "data": {
      "text/html": [
       "<div>\n",
       "<style scoped>\n",
       "    .dataframe tbody tr th:only-of-type {\n",
       "        vertical-align: middle;\n",
       "    }\n",
       "\n",
       "    .dataframe tbody tr th {\n",
       "        vertical-align: top;\n",
       "    }\n",
       "\n",
       "    .dataframe thead th {\n",
       "        text-align: right;\n",
       "    }\n",
       "</style>\n",
       "<table border=\"1\" class=\"dataframe\">\n",
       "  <thead>\n",
       "    <tr style=\"text-align: right;\">\n",
       "      <th></th>\n",
       "      <th>city_development_index</th>\n",
       "      <th>gender</th>\n",
       "      <th>relevent_experience</th>\n",
       "      <th>enrolled_university</th>\n",
       "      <th>education_level</th>\n",
       "      <th>major_discipline</th>\n",
       "      <th>experience</th>\n",
       "      <th>last_new_job</th>\n",
       "      <th>training_hours</th>\n",
       "      <th>target</th>\n",
       "    </tr>\n",
       "  </thead>\n",
       "  <tbody>\n",
       "    <tr>\n",
       "      <th>0</th>\n",
       "      <td>0.516</td>\n",
       "      <td>Male</td>\n",
       "      <td>1</td>\n",
       "      <td>0</td>\n",
       "      <td>Graduate</td>\n",
       "      <td>STEM</td>\n",
       "      <td>13</td>\n",
       "      <td>5</td>\n",
       "      <td>36</td>\n",
       "      <td>1</td>\n",
       "    </tr>\n",
       "    <tr>\n",
       "      <th>1</th>\n",
       "      <td>0.766</td>\n",
       "      <td>Male</td>\n",
       "      <td>1</td>\n",
       "      <td>0</td>\n",
       "      <td>Graduate</td>\n",
       "      <td>STEM</td>\n",
       "      <td>12</td>\n",
       "      <td>5</td>\n",
       "      <td>264</td>\n",
       "      <td>0</td>\n",
       "    </tr>\n",
       "    <tr>\n",
       "      <th>2</th>\n",
       "      <td>0.920</td>\n",
       "      <td>Male</td>\n",
       "      <td>1</td>\n",
       "      <td>0</td>\n",
       "      <td>Masters</td>\n",
       "      <td>STEM</td>\n",
       "      <td>10</td>\n",
       "      <td>2</td>\n",
       "      <td>99</td>\n",
       "      <td>0</td>\n",
       "    </tr>\n",
       "  </tbody>\n",
       "</table>\n",
       "</div>"
      ],
      "text/plain": [
       "   city_development_index gender  relevent_experience  enrolled_university  \\\n",
       "0                   0.516   Male                    1                    0   \n",
       "1                   0.766   Male                    1                    0   \n",
       "2                   0.920   Male                    1                    0   \n",
       "\n",
       "  education_level major_discipline  experience  last_new_job  training_hours  \\\n",
       "0        Graduate             STEM          13             5              36   \n",
       "1        Graduate             STEM          12             5             264   \n",
       "2         Masters             STEM          10             2              99   \n",
       "\n",
       "   target  \n",
       "0       1  \n",
       "1       0  \n",
       "2       0  "
      ]
     },
     "execution_count": 50,
     "metadata": {},
     "output_type": "execute_result"
    }
   ],
   "source": [
    "df13_train = pd.read_csv('datasets/Dataset_13_train.csv', encoding='utf8')\n",
    "df13_test = pd.read_csv('datasets/Dataset_13_test.csv', encoding='utf8')\n",
    "\n",
    "df13_train.head(3)"
   ]
  },
  {
   "cell_type": "markdown",
   "id": "1e2670cb",
   "metadata": {},
   "source": [
    "## 1. 남녀별 상관계수\n",
    "- train 데이터 이용\n",
    "- 경력과 최근 이직 시 공백기간\n",
    "- 더 높은 상관계수를 반올림하여 소수점 둘째 자리까지"
   ]
  },
  {
   "cell_type": "code",
   "execution_count": 52,
   "id": "3e23e762",
   "metadata": {},
   "outputs": [],
   "source": [
    "df13_train_male = df13_train[df13_train['gender']=='Male'][['experience', 'last_new_job']]\n",
    "df13_train_female = df13_train[df13_train['gender']=='Female'][['experience', 'last_new_job']]"
   ]
  },
  {
   "cell_type": "code",
   "execution_count": 53,
   "id": "e276f584",
   "metadata": {},
   "outputs": [
    {
     "data": {
      "text/html": [
       "<div>\n",
       "<style scoped>\n",
       "    .dataframe tbody tr th:only-of-type {\n",
       "        vertical-align: middle;\n",
       "    }\n",
       "\n",
       "    .dataframe tbody tr th {\n",
       "        vertical-align: top;\n",
       "    }\n",
       "\n",
       "    .dataframe thead th {\n",
       "        text-align: right;\n",
       "    }\n",
       "</style>\n",
       "<table border=\"1\" class=\"dataframe\">\n",
       "  <thead>\n",
       "    <tr style=\"text-align: right;\">\n",
       "      <th></th>\n",
       "      <th>experience</th>\n",
       "      <th>last_new_job</th>\n",
       "    </tr>\n",
       "  </thead>\n",
       "  <tbody>\n",
       "    <tr>\n",
       "      <th>experience</th>\n",
       "      <td>1.000000</td>\n",
       "      <td>0.411155</td>\n",
       "    </tr>\n",
       "    <tr>\n",
       "      <th>last_new_job</th>\n",
       "      <td>0.411155</td>\n",
       "      <td>1.000000</td>\n",
       "    </tr>\n",
       "  </tbody>\n",
       "</table>\n",
       "</div>"
      ],
      "text/plain": [
       "              experience  last_new_job\n",
       "experience      1.000000      0.411155\n",
       "last_new_job    0.411155      1.000000"
      ]
     },
     "execution_count": 53,
     "metadata": {},
     "output_type": "execute_result"
    }
   ],
   "source": [
    "df13_train_male.corr()"
   ]
  },
  {
   "cell_type": "code",
   "execution_count": 54,
   "id": "816f1a0f",
   "metadata": {},
   "outputs": [
    {
     "data": {
      "text/html": [
       "<div>\n",
       "<style scoped>\n",
       "    .dataframe tbody tr th:only-of-type {\n",
       "        vertical-align: middle;\n",
       "    }\n",
       "\n",
       "    .dataframe tbody tr th {\n",
       "        vertical-align: top;\n",
       "    }\n",
       "\n",
       "    .dataframe thead th {\n",
       "        text-align: right;\n",
       "    }\n",
       "</style>\n",
       "<table border=\"1\" class=\"dataframe\">\n",
       "  <thead>\n",
       "    <tr style=\"text-align: right;\">\n",
       "      <th></th>\n",
       "      <th>experience</th>\n",
       "      <th>last_new_job</th>\n",
       "    </tr>\n",
       "  </thead>\n",
       "  <tbody>\n",
       "    <tr>\n",
       "      <th>experience</th>\n",
       "      <td>1.000000</td>\n",
       "      <td>0.451898</td>\n",
       "    </tr>\n",
       "    <tr>\n",
       "      <th>last_new_job</th>\n",
       "      <td>0.451898</td>\n",
       "      <td>1.000000</td>\n",
       "    </tr>\n",
       "  </tbody>\n",
       "</table>\n",
       "</div>"
      ],
      "text/plain": [
       "              experience  last_new_job\n",
       "experience      1.000000      0.451898\n",
       "last_new_job    0.451898      1.000000"
      ]
     },
     "execution_count": 54,
     "metadata": {},
     "output_type": "execute_result"
    }
   ],
   "source": [
    "df13_train_female.corr()"
   ]
  },
  {
   "cell_type": "markdown",
   "id": "52571577",
   "metadata": {},
   "source": [
    "### 답\n",
    "0.45"
   ]
  },
  {
   "cell_type": "markdown",
   "id": "49249999",
   "metadata": {},
   "source": [
    "### 참고"
   ]
  },
  {
   "cell_type": "code",
   "execution_count": 82,
   "id": "8db196dc",
   "metadata": {},
   "outputs": [
    {
     "data": {
      "text/html": [
       "<div>\n",
       "<style scoped>\n",
       "    .dataframe tbody tr th:only-of-type {\n",
       "        vertical-align: middle;\n",
       "    }\n",
       "\n",
       "    .dataframe tbody tr th {\n",
       "        vertical-align: top;\n",
       "    }\n",
       "\n",
       "    .dataframe thead th {\n",
       "        text-align: right;\n",
       "    }\n",
       "</style>\n",
       "<table border=\"1\" class=\"dataframe\">\n",
       "  <thead>\n",
       "    <tr style=\"text-align: right;\">\n",
       "      <th></th>\n",
       "      <th></th>\n",
       "      <th>experience</th>\n",
       "      <th>last_new_job</th>\n",
       "    </tr>\n",
       "    <tr>\n",
       "      <th>gender</th>\n",
       "      <th></th>\n",
       "      <th></th>\n",
       "      <th></th>\n",
       "    </tr>\n",
       "  </thead>\n",
       "  <tbody>\n",
       "    <tr>\n",
       "      <th rowspan=\"2\" valign=\"top\">Female</th>\n",
       "      <th>experience</th>\n",
       "      <td>1.000000</td>\n",
       "      <td>0.451898</td>\n",
       "    </tr>\n",
       "    <tr>\n",
       "      <th>last_new_job</th>\n",
       "      <td>0.451898</td>\n",
       "      <td>1.000000</td>\n",
       "    </tr>\n",
       "    <tr>\n",
       "      <th rowspan=\"2\" valign=\"top\">Male</th>\n",
       "      <th>experience</th>\n",
       "      <td>1.000000</td>\n",
       "      <td>0.411155</td>\n",
       "    </tr>\n",
       "    <tr>\n",
       "      <th>last_new_job</th>\n",
       "      <td>0.411155</td>\n",
       "      <td>1.000000</td>\n",
       "    </tr>\n",
       "  </tbody>\n",
       "</table>\n",
       "</div>"
      ],
      "text/plain": [
       "                     experience  last_new_job\n",
       "gender                                       \n",
       "Female experience      1.000000      0.451898\n",
       "       last_new_job    0.451898      1.000000\n",
       "Male   experience      1.000000      0.411155\n",
       "       last_new_job    0.411155      1.000000"
      ]
     },
     "execution_count": 82,
     "metadata": {},
     "output_type": "execute_result"
    }
   ],
   "source": [
    "df13_train.groupby(['gender'])[['experience', 'last_new_job']].corr()"
   ]
  },
  {
   "cell_type": "markdown",
   "id": "c55dfe4b",
   "metadata": {},
   "source": [
    "## 2. 데이터 분석 관력 직무 경험과 이직 의사의 독립성 검정\n",
    "- train 데이터\n",
    "- STEM 전공자 대상\n",
    "- 도시 개발 지수가 85백분위수 초과에 거주하는 사람 대상\n",
    "- 이직 의사 여부(target)은 문자열로 변경\n",
    "- p-value 반올림하여 소수점 둘째 자리까지"
   ]
  },
  {
   "cell_type": "code",
   "execution_count": 57,
   "id": "25a86f59",
   "metadata": {},
   "outputs": [
    {
     "data": {
      "text/plain": [
       "0.9200000000000002"
      ]
     },
     "execution_count": 57,
     "metadata": {},
     "output_type": "execute_result"
    }
   ],
   "source": [
    "quantile_85 = df13_train['city_development_index'].quantile(0.85)\n",
    "quantile_85"
   ]
  },
  {
   "cell_type": "code",
   "execution_count": 58,
   "id": "43d41f16",
   "metadata": {},
   "outputs": [],
   "source": [
    "df13_chi2 = df13_train[(df13_train['major_discipline']=='STEM') & \n",
    "                       (df13_train['city_development_index'] > quantile_85)]"
   ]
  },
  {
   "cell_type": "code",
   "execution_count": 60,
   "id": "eaa43217",
   "metadata": {},
   "outputs": [
    {
     "name": "stdout",
     "output_type": "stream",
     "text": [
      "<class 'pandas.core.frame.DataFrame'>\n",
      "Int64Index: 145 entries, 6 to 1480\n",
      "Data columns (total 10 columns):\n",
      " #   Column                  Non-Null Count  Dtype  \n",
      "---  ------                  --------------  -----  \n",
      " 0   city_development_index  145 non-null    float64\n",
      " 1   gender                  145 non-null    object \n",
      " 2   relevent_experience     145 non-null    int64  \n",
      " 3   enrolled_university     145 non-null    int64  \n",
      " 4   education_level         145 non-null    object \n",
      " 5   major_discipline        145 non-null    object \n",
      " 6   experience              145 non-null    int64  \n",
      " 7   last_new_job            145 non-null    int64  \n",
      " 8   training_hours          145 non-null    int64  \n",
      " 9   target                  145 non-null    object \n",
      "dtypes: float64(1), int64(5), object(4)\n",
      "memory usage: 12.5+ KB\n"
     ]
    },
    {
     "name": "stderr",
     "output_type": "stream",
     "text": [
      "C:\\Users\\master\\anaconda3\\envs\\multi\\lib\\site-packages\\ipykernel_launcher.py:1: SettingWithCopyWarning: \n",
      "A value is trying to be set on a copy of a slice from a DataFrame.\n",
      "Try using .loc[row_indexer,col_indexer] = value instead\n",
      "\n",
      "See the caveats in the documentation: https://pandas.pydata.org/pandas-docs/stable/user_guide/indexing.html#returning-a-view-versus-a-copy\n",
      "  \"\"\"Entry point for launching an IPython kernel.\n"
     ]
    }
   ],
   "source": [
    "df13_chi2['target'] = df13_chi2['target'].astype(str)\n",
    "df13_chi2.info()"
   ]
  },
  {
   "cell_type": "code",
   "execution_count": 70,
   "id": "b532a237",
   "metadata": {},
   "outputs": [],
   "source": [
    "df13_pivot = pd.pivot_table(data=df13_chi2, columns='target',\n",
    "                           index='relevent_experience', aggfunc='count',\n",
    "                           values='education_level')"
   ]
  },
  {
   "cell_type": "code",
   "execution_count": 71,
   "id": "5ea8ee32",
   "metadata": {},
   "outputs": [
    {
     "data": {
      "text/html": [
       "<div>\n",
       "<style scoped>\n",
       "    .dataframe tbody tr th:only-of-type {\n",
       "        vertical-align: middle;\n",
       "    }\n",
       "\n",
       "    .dataframe tbody tr th {\n",
       "        vertical-align: top;\n",
       "    }\n",
       "\n",
       "    .dataframe thead th {\n",
       "        text-align: right;\n",
       "    }\n",
       "</style>\n",
       "<table border=\"1\" class=\"dataframe\">\n",
       "  <thead>\n",
       "    <tr style=\"text-align: right;\">\n",
       "      <th>target</th>\n",
       "      <th>0</th>\n",
       "      <th>1</th>\n",
       "    </tr>\n",
       "    <tr>\n",
       "      <th>relevent_experience</th>\n",
       "      <th></th>\n",
       "      <th></th>\n",
       "    </tr>\n",
       "  </thead>\n",
       "  <tbody>\n",
       "    <tr>\n",
       "      <th>0</th>\n",
       "      <td>30</td>\n",
       "      <td>7</td>\n",
       "    </tr>\n",
       "    <tr>\n",
       "      <th>1</th>\n",
       "      <td>93</td>\n",
       "      <td>15</td>\n",
       "    </tr>\n",
       "  </tbody>\n",
       "</table>\n",
       "</div>"
      ],
      "text/plain": [
       "target                0   1\n",
       "relevent_experience        \n",
       "0                    30   7\n",
       "1                    93  15"
      ]
     },
     "execution_count": 71,
     "metadata": {},
     "output_type": "execute_result"
    }
   ],
   "source": [
    "df13_pivot"
   ]
  },
  {
   "cell_type": "code",
   "execution_count": 72,
   "id": "0a36eab6",
   "metadata": {},
   "outputs": [
    {
     "name": "stdout",
     "output_type": "stream",
     "text": [
      "0.22142211039568746 0.6379584714909265\n"
     ]
    }
   ],
   "source": [
    "from scipy.stats import chi2_contingency\n",
    "\n",
    "chi2, p, _, _ = chi2_contingency(df13_pivot)\n",
    "print(chi2, p)"
   ]
  },
  {
   "cell_type": "markdown",
   "id": "594781b5",
   "metadata": {},
   "source": [
    "### 답\n",
    "0.64"
   ]
  },
  {
   "cell_type": "markdown",
   "id": "66da451c",
   "metadata": {},
   "source": [
    "### 참고"
   ]
  },
  {
   "cell_type": "code",
   "execution_count": 84,
   "id": "4ff4a9e6",
   "metadata": {},
   "outputs": [
    {
     "name": "stdout",
     "output_type": "stream",
     "text": [
      "0.22142211039568746 0.6379584714909265\n"
     ]
    }
   ],
   "source": [
    "df13_crosstab = pd.crosstab(df13_chi2['relevent_experience'], df13_chi2['target'])\n",
    "\n",
    "chi2, p, _, _ = chi2_contingency(df13_crosstab)\n",
    "print(chi2, p)"
   ]
  },
  {
   "cell_type": "markdown",
   "id": "569480f5",
   "metadata": {},
   "source": [
    "## 3. 어떤 직원이 이직 의사를 가지고 있는지 파악\n",
    "- 의사결정나무\n",
    "- target을 종속변수, string이 아닌 변수를 독립 변수\n",
    "- 평가는 test\n",
    "- 정확도는 반올림하여 소수점 둘째 자리까지"
   ]
  },
  {
   "cell_type": "code",
   "execution_count": 76,
   "id": "fb7dff34",
   "metadata": {},
   "outputs": [],
   "source": [
    "from sklearn.tree import DecisionTreeClassifier\n",
    "\n",
    "features = df13_train.columns[df13_train.dtypes != 'object'].drop('target')"
   ]
  },
  {
   "cell_type": "code",
   "execution_count": 77,
   "id": "09e204dc",
   "metadata": {},
   "outputs": [
    {
     "data": {
      "text/plain": [
       "Index(['city_development_index', 'relevent_experience', 'enrolled_university',\n",
       "       'experience', 'last_new_job', 'training_hours'],\n",
       "      dtype='object')"
      ]
     },
     "execution_count": 77,
     "metadata": {},
     "output_type": "execute_result"
    }
   ],
   "source": [
    "features"
   ]
  },
  {
   "cell_type": "code",
   "execution_count": 78,
   "id": "8b3cdae9",
   "metadata": {},
   "outputs": [],
   "source": [
    "X_train = df13_train[features]\n",
    "y_train = df13_train['target']\n",
    "X_test = df13_test[features]\n",
    "y_test = df13_test['target']"
   ]
  },
  {
   "cell_type": "code",
   "execution_count": 79,
   "id": "eb380459",
   "metadata": {},
   "outputs": [],
   "source": [
    "dt_clf = DecisionTreeClassifier(random_state=123)\n",
    "dt_clf.fit(X_train, y_train)\n",
    "pred = dt_clf.predict(X_test)"
   ]
  },
  {
   "cell_type": "code",
   "execution_count": 80,
   "id": "0092a6a0",
   "metadata": {},
   "outputs": [
    {
     "name": "stdout",
     "output_type": "stream",
     "text": [
      "정확도 : 0.672\n"
     ]
    }
   ],
   "source": [
    "from sklearn.metrics import accuracy_score\n",
    "\n",
    "acc = accuracy_score(y_test, pred)\n",
    "print('정확도 :', acc)"
   ]
  },
  {
   "cell_type": "markdown",
   "id": "307b2905",
   "metadata": {},
   "source": [
    "### 답\n",
    "0.67"
   ]
  },
  {
   "cell_type": "markdown",
   "id": "14ccfa62",
   "metadata": {},
   "source": [
    "# 문제 14 유형\n",
    "- DataSet_14.csv 이용"
   ]
  },
  {
   "cell_type": "code",
   "execution_count": 87,
   "id": "e503041b",
   "metadata": {},
   "outputs": [
    {
     "data": {
      "text/html": [
       "<div>\n",
       "<style scoped>\n",
       "    .dataframe tbody tr th:only-of-type {\n",
       "        vertical-align: middle;\n",
       "    }\n",
       "\n",
       "    .dataframe tbody tr th {\n",
       "        vertical-align: top;\n",
       "    }\n",
       "\n",
       "    .dataframe thead th {\n",
       "        text-align: right;\n",
       "    }\n",
       "</style>\n",
       "<table border=\"1\" class=\"dataframe\">\n",
       "  <thead>\n",
       "    <tr style=\"text-align: right;\">\n",
       "      <th></th>\n",
       "      <th>id</th>\n",
       "      <th>published</th>\n",
       "      <th>subject</th>\n",
       "      <th>level</th>\n",
       "      <th>price</th>\n",
       "      <th>subscribers</th>\n",
       "      <th>reviews</th>\n",
       "      <th>lectures</th>\n",
       "      <th>duration</th>\n",
       "    </tr>\n",
       "  </thead>\n",
       "  <tbody>\n",
       "    <tr>\n",
       "      <th>0</th>\n",
       "      <td>1</td>\n",
       "      <td>2015-07-10</td>\n",
       "      <td>Business Finance</td>\n",
       "      <td>Beginner Level</td>\n",
       "      <td>1.7</td>\n",
       "      <td>56</td>\n",
       "      <td>8</td>\n",
       "      <td>18</td>\n",
       "      <td>2.000000</td>\n",
       "    </tr>\n",
       "    <tr>\n",
       "      <th>1</th>\n",
       "      <td>2</td>\n",
       "      <td>2016-10-25</td>\n",
       "      <td>Business Finance</td>\n",
       "      <td>All Levels</td>\n",
       "      <td>17.4</td>\n",
       "      <td>336</td>\n",
       "      <td>6</td>\n",
       "      <td>13</td>\n",
       "      <td>0.683333</td>\n",
       "    </tr>\n",
       "    <tr>\n",
       "      <th>2</th>\n",
       "      <td>3</td>\n",
       "      <td>2015-06-16</td>\n",
       "      <td>Business Finance</td>\n",
       "      <td>All Levels</td>\n",
       "      <td>8.3</td>\n",
       "      <td>871</td>\n",
       "      <td>79</td>\n",
       "      <td>59</td>\n",
       "      <td>2.000000</td>\n",
       "    </tr>\n",
       "  </tbody>\n",
       "</table>\n",
       "</div>"
      ],
      "text/plain": [
       "   id   published           subject           level  price  subscribers  \\\n",
       "0   1  2015-07-10  Business Finance  Beginner Level    1.7           56   \n",
       "1   2  2016-10-25  Business Finance      All Levels   17.4          336   \n",
       "2   3  2015-06-16  Business Finance      All Levels    8.3          871   \n",
       "\n",
       "   reviews  lectures  duration  \n",
       "0        8        18  2.000000  \n",
       "1        6        13  0.683333  \n",
       "2       79        59  2.000000  "
      ]
     },
     "execution_count": 87,
     "metadata": {},
     "output_type": "execute_result"
    }
   ],
   "source": [
    "df14 = pd.read_csv('datasets/Dataset_14.csv', encoding='utf8')\n",
    "df14.head(3)"
   ]
  },
  {
   "cell_type": "markdown",
   "id": "97f2a0c6",
   "metadata": {},
   "source": [
    "## 1. 결제 금액이 1억 이상이면서 구독자의 리뷰 작성 비율이 10% 이상인 교육의 수\n",
    "- 결제 금액 = 강좌 가격 * 구독자 수\n",
    "- 리뷰 작성 비율 = 리뷰 개수 / 구독자 수"
   ]
  },
  {
   "cell_type": "code",
   "execution_count": 88,
   "id": "a1588a66",
   "metadata": {},
   "outputs": [],
   "source": [
    "df14_q1 = df14.copy()\n",
    "\n",
    "df14_q1['amt'] = df14_q1['price'] * df14_q1['subscribers']\n",
    "df14_q1['rate'] = df14_q1['reviews'] / df14_q1['subscribers']"
   ]
  },
  {
   "cell_type": "code",
   "execution_count": 194,
   "id": "cc608cd8",
   "metadata": {},
   "outputs": [
    {
     "data": {
      "text/plain": [
       "59"
      ]
     },
     "execution_count": 194,
     "metadata": {},
     "output_type": "execute_result"
    }
   ],
   "source": [
    "cond1 = (df14_q1['amt'] >= int(1e4))\n",
    "cond2 = (df14_q1['rate'] >= 0.1)\n",
    "\n",
    "len(df14_q1[cond1 & cond2])"
   ]
  },
  {
   "cell_type": "code",
   "execution_count": 195,
   "id": "9ede352c",
   "metadata": {},
   "outputs": [
    {
     "data": {
      "text/plain": [
       "59"
      ]
     },
     "execution_count": 195,
     "metadata": {},
     "output_type": "execute_result"
    }
   ],
   "source": [
    "sum(cond1 & cond2)"
   ]
  },
  {
   "cell_type": "markdown",
   "id": "aaf58001",
   "metadata": {},
   "source": [
    "### 답\n",
    "59"
   ]
  },
  {
   "cell_type": "markdown",
   "id": "225e426f",
   "metadata": {},
   "source": [
    "## 2. 강좌 가격과 구독자 수의 피어슨 상관관계\n",
    "- 2016년 개설된 Web Development 강좌 대상\n",
    "- 반올림하여 소수점 둘째 자리까지"
   ]
  },
  {
   "cell_type": "code",
   "execution_count": 197,
   "id": "bf46cef8",
   "metadata": {},
   "outputs": [
    {
     "data": {
      "text/html": [
       "<div>\n",
       "<style scoped>\n",
       "    .dataframe tbody tr th:only-of-type {\n",
       "        vertical-align: middle;\n",
       "    }\n",
       "\n",
       "    .dataframe tbody tr th {\n",
       "        vertical-align: top;\n",
       "    }\n",
       "\n",
       "    .dataframe thead th {\n",
       "        text-align: right;\n",
       "    }\n",
       "</style>\n",
       "<table border=\"1\" class=\"dataframe\">\n",
       "  <thead>\n",
       "    <tr style=\"text-align: right;\">\n",
       "      <th></th>\n",
       "      <th>id</th>\n",
       "      <th>published</th>\n",
       "      <th>subject</th>\n",
       "      <th>level</th>\n",
       "      <th>price</th>\n",
       "      <th>subscribers</th>\n",
       "      <th>reviews</th>\n",
       "      <th>lectures</th>\n",
       "      <th>duration</th>\n",
       "      <th>year</th>\n",
       "    </tr>\n",
       "  </thead>\n",
       "  <tbody>\n",
       "    <tr>\n",
       "      <th>0</th>\n",
       "      <td>1</td>\n",
       "      <td>2015-07-10</td>\n",
       "      <td>Business Finance</td>\n",
       "      <td>Beginner Level</td>\n",
       "      <td>1.7</td>\n",
       "      <td>56</td>\n",
       "      <td>8</td>\n",
       "      <td>18</td>\n",
       "      <td>2.000000</td>\n",
       "      <td>2015</td>\n",
       "    </tr>\n",
       "    <tr>\n",
       "      <th>1</th>\n",
       "      <td>2</td>\n",
       "      <td>2016-10-25</td>\n",
       "      <td>Business Finance</td>\n",
       "      <td>All Levels</td>\n",
       "      <td>17.4</td>\n",
       "      <td>336</td>\n",
       "      <td>6</td>\n",
       "      <td>13</td>\n",
       "      <td>0.683333</td>\n",
       "      <td>2016</td>\n",
       "    </tr>\n",
       "    <tr>\n",
       "      <th>2</th>\n",
       "      <td>3</td>\n",
       "      <td>2015-06-16</td>\n",
       "      <td>Business Finance</td>\n",
       "      <td>All Levels</td>\n",
       "      <td>8.3</td>\n",
       "      <td>871</td>\n",
       "      <td>79</td>\n",
       "      <td>59</td>\n",
       "      <td>2.000000</td>\n",
       "      <td>2015</td>\n",
       "    </tr>\n",
       "  </tbody>\n",
       "</table>\n",
       "</div>"
      ],
      "text/plain": [
       "   id   published           subject           level  price  subscribers  \\\n",
       "0   1  2015-07-10  Business Finance  Beginner Level    1.7           56   \n",
       "1   2  2016-10-25  Business Finance      All Levels   17.4          336   \n",
       "2   3  2015-06-16  Business Finance      All Levels    8.3          871   \n",
       "\n",
       "   reviews  lectures  duration  year  \n",
       "0        8        18  2.000000  2015  \n",
       "1        6        13  0.683333  2016  \n",
       "2       79        59  2.000000  2015  "
      ]
     },
     "execution_count": 197,
     "metadata": {},
     "output_type": "execute_result"
    }
   ],
   "source": [
    "df14_q2 = df14.copy()\n",
    "df14_q2['year'] = pd.to_datetime(df14_q2['published']).dt.year\n",
    "df14_q2.head(3)"
   ]
  },
  {
   "cell_type": "code",
   "execution_count": 198,
   "id": "305e8700",
   "metadata": {},
   "outputs": [
    {
     "data": {
      "text/html": [
       "<div>\n",
       "<style scoped>\n",
       "    .dataframe tbody tr th:only-of-type {\n",
       "        vertical-align: middle;\n",
       "    }\n",
       "\n",
       "    .dataframe tbody tr th {\n",
       "        vertical-align: top;\n",
       "    }\n",
       "\n",
       "    .dataframe thead th {\n",
       "        text-align: right;\n",
       "    }\n",
       "</style>\n",
       "<table border=\"1\" class=\"dataframe\">\n",
       "  <thead>\n",
       "    <tr style=\"text-align: right;\">\n",
       "      <th></th>\n",
       "      <th>id</th>\n",
       "      <th>published</th>\n",
       "      <th>subject</th>\n",
       "      <th>level</th>\n",
       "      <th>price</th>\n",
       "      <th>subscribers</th>\n",
       "      <th>reviews</th>\n",
       "      <th>lectures</th>\n",
       "      <th>duration</th>\n",
       "      <th>year</th>\n",
       "    </tr>\n",
       "  </thead>\n",
       "  <tbody>\n",
       "    <tr>\n",
       "      <th>6</th>\n",
       "      <td>7</td>\n",
       "      <td>2016-10-24</td>\n",
       "      <td>Web Development</td>\n",
       "      <td>Intermediate Level</td>\n",
       "      <td>17.4</td>\n",
       "      <td>9773</td>\n",
       "      <td>117</td>\n",
       "      <td>65</td>\n",
       "      <td>4.5</td>\n",
       "      <td>2016</td>\n",
       "    </tr>\n",
       "    <tr>\n",
       "      <th>36</th>\n",
       "      <td>37</td>\n",
       "      <td>2016-04-05</td>\n",
       "      <td>Web Development</td>\n",
       "      <td>All Levels</td>\n",
       "      <td>17.0</td>\n",
       "      <td>12068</td>\n",
       "      <td>81</td>\n",
       "      <td>12</td>\n",
       "      <td>1.5</td>\n",
       "      <td>2016</td>\n",
       "    </tr>\n",
       "    <tr>\n",
       "      <th>43</th>\n",
       "      <td>44</td>\n",
       "      <td>2016-03-28</td>\n",
       "      <td>Web Development</td>\n",
       "      <td>All Levels</td>\n",
       "      <td>2.2</td>\n",
       "      <td>3133</td>\n",
       "      <td>351</td>\n",
       "      <td>63</td>\n",
       "      <td>6.0</td>\n",
       "      <td>2016</td>\n",
       "    </tr>\n",
       "  </tbody>\n",
       "</table>\n",
       "</div>"
      ],
      "text/plain": [
       "    id   published          subject               level  price  subscribers  \\\n",
       "6    7  2016-10-24  Web Development  Intermediate Level   17.4         9773   \n",
       "36  37  2016-04-05  Web Development          All Levels   17.0        12068   \n",
       "43  44  2016-03-28  Web Development          All Levels    2.2         3133   \n",
       "\n",
       "    reviews  lectures  duration  year  \n",
       "6       117        65       4.5  2016  \n",
       "36       81        12       1.5  2016  \n",
       "43      351        63       6.0  2016  "
      ]
     },
     "execution_count": 198,
     "metadata": {},
     "output_type": "execute_result"
    }
   ],
   "source": [
    "df14_q2 = df14_q2[(df14_q2['subject'] == 'Web Development') & (df14_q2['year'] == 2016)]\n",
    "df14_q2.head(3)"
   ]
  },
  {
   "cell_type": "code",
   "execution_count": 199,
   "id": "3bd37cec",
   "metadata": {},
   "outputs": [
    {
     "data": {
      "text/html": [
       "<div>\n",
       "<style scoped>\n",
       "    .dataframe tbody tr th:only-of-type {\n",
       "        vertical-align: middle;\n",
       "    }\n",
       "\n",
       "    .dataframe tbody tr th {\n",
       "        vertical-align: top;\n",
       "    }\n",
       "\n",
       "    .dataframe thead th {\n",
       "        text-align: right;\n",
       "    }\n",
       "</style>\n",
       "<table border=\"1\" class=\"dataframe\">\n",
       "  <thead>\n",
       "    <tr style=\"text-align: right;\">\n",
       "      <th></th>\n",
       "      <th>price</th>\n",
       "      <th>subscribers</th>\n",
       "    </tr>\n",
       "  </thead>\n",
       "  <tbody>\n",
       "    <tr>\n",
       "      <th>price</th>\n",
       "      <td>1.000000</td>\n",
       "      <td>0.034392</td>\n",
       "    </tr>\n",
       "    <tr>\n",
       "      <th>subscribers</th>\n",
       "      <td>0.034392</td>\n",
       "      <td>1.000000</td>\n",
       "    </tr>\n",
       "  </tbody>\n",
       "</table>\n",
       "</div>"
      ],
      "text/plain": [
       "                price  subscribers\n",
       "price        1.000000     0.034392\n",
       "subscribers  0.034392     1.000000"
      ]
     },
     "execution_count": 199,
     "metadata": {},
     "output_type": "execute_result"
    }
   ],
   "source": [
    "df14_q2[['price', 'subscribers']].corr(method='pearson')"
   ]
  },
  {
   "cell_type": "markdown",
   "id": "b502d570",
   "metadata": {},
   "source": [
    "### 답\n",
    "0.03"
   ]
  },
  {
   "cell_type": "markdown",
   "id": "1e3fbba7",
   "metadata": {},
   "source": [
    "## 3. 리뷰 작성 비율의 평균이 강좌 개설 년도별 차이가 있는지 일원 분산 분석\n",
    "- 검정통계량은 반올림하여 소수점 첫째 자리까지"
   ]
  },
  {
   "cell_type": "code",
   "execution_count": 202,
   "id": "8491fd90",
   "metadata": {},
   "outputs": [],
   "source": [
    "from statsmodels.formula.api import ols\n",
    "from statsmodels.stats.anova import anova_lm\n",
    "\n",
    "df14_q1['year'] = pd.to_datetime(df14_q1['published']).dt.year\n",
    "formula = 'rate ~ C(year)'\n",
    "anova = ols(formula, df14_q1).fit()"
   ]
  },
  {
   "cell_type": "code",
   "execution_count": 203,
   "id": "48adef3b",
   "metadata": {},
   "outputs": [
    {
     "data": {
      "text/html": [
       "<div>\n",
       "<style scoped>\n",
       "    .dataframe tbody tr th:only-of-type {\n",
       "        vertical-align: middle;\n",
       "    }\n",
       "\n",
       "    .dataframe tbody tr th {\n",
       "        vertical-align: top;\n",
       "    }\n",
       "\n",
       "    .dataframe thead th {\n",
       "        text-align: right;\n",
       "    }\n",
       "</style>\n",
       "<table border=\"1\" class=\"dataframe\">\n",
       "  <thead>\n",
       "    <tr style=\"text-align: right;\">\n",
       "      <th></th>\n",
       "      <th>df</th>\n",
       "      <th>sum_sq</th>\n",
       "      <th>mean_sq</th>\n",
       "      <th>F</th>\n",
       "      <th>PR(&gt;F)</th>\n",
       "    </tr>\n",
       "  </thead>\n",
       "  <tbody>\n",
       "    <tr>\n",
       "      <th>C(year)</th>\n",
       "      <td>2.0</td>\n",
       "      <td>0.365685</td>\n",
       "      <td>0.182842</td>\n",
       "      <td>18.542038</td>\n",
       "      <td>1.049908e-08</td>\n",
       "    </tr>\n",
       "    <tr>\n",
       "      <th>Residual</th>\n",
       "      <td>1997.0</td>\n",
       "      <td>19.692334</td>\n",
       "      <td>0.009861</td>\n",
       "      <td>NaN</td>\n",
       "      <td>NaN</td>\n",
       "    </tr>\n",
       "  </tbody>\n",
       "</table>\n",
       "</div>"
      ],
      "text/plain": [
       "              df     sum_sq   mean_sq          F        PR(>F)\n",
       "C(year)      2.0   0.365685  0.182842  18.542038  1.049908e-08\n",
       "Residual  1997.0  19.692334  0.009861        NaN           NaN"
      ]
     },
     "execution_count": 203,
     "metadata": {},
     "output_type": "execute_result"
    }
   ],
   "source": [
    "anova_lm(anova)"
   ]
  },
  {
   "cell_type": "markdown",
   "id": "4573e9d5",
   "metadata": {},
   "source": [
    "### 답\n",
    "18.5"
   ]
  },
  {
   "cell_type": "markdown",
   "id": "8d6a2d0d",
   "metadata": {},
   "source": [
    "# 문제 15 유형\n",
    "- Dataset_15_Mart_POS.csv 이용"
   ]
  },
  {
   "cell_type": "code",
   "execution_count": 100,
   "id": "7928929a",
   "metadata": {},
   "outputs": [
    {
     "data": {
      "text/html": [
       "<div>\n",
       "<style scoped>\n",
       "    .dataframe tbody tr th:only-of-type {\n",
       "        vertical-align: middle;\n",
       "    }\n",
       "\n",
       "    .dataframe tbody tr th {\n",
       "        vertical-align: top;\n",
       "    }\n",
       "\n",
       "    .dataframe thead th {\n",
       "        text-align: right;\n",
       "    }\n",
       "</style>\n",
       "<table border=\"1\" class=\"dataframe\">\n",
       "  <thead>\n",
       "    <tr style=\"text-align: right;\">\n",
       "      <th></th>\n",
       "      <th>Member_number</th>\n",
       "      <th>Date</th>\n",
       "      <th>itemDescription</th>\n",
       "    </tr>\n",
       "  </thead>\n",
       "  <tbody>\n",
       "    <tr>\n",
       "      <th>0</th>\n",
       "      <td>1220</td>\n",
       "      <td>2015-01-01</td>\n",
       "      <td>canned beer</td>\n",
       "    </tr>\n",
       "    <tr>\n",
       "      <th>1</th>\n",
       "      <td>1220</td>\n",
       "      <td>2015-01-01</td>\n",
       "      <td>margarine</td>\n",
       "    </tr>\n",
       "    <tr>\n",
       "      <th>2</th>\n",
       "      <td>1220</td>\n",
       "      <td>2015-01-01</td>\n",
       "      <td>chocolate</td>\n",
       "    </tr>\n",
       "  </tbody>\n",
       "</table>\n",
       "</div>"
      ],
      "text/plain": [
       "   Member_number        Date itemDescription\n",
       "0           1220  2015-01-01     canned beer\n",
       "1           1220  2015-01-01       margarine\n",
       "2           1220  2015-01-01       chocolate"
      ]
     },
     "execution_count": 100,
     "metadata": {},
     "output_type": "execute_result"
    }
   ],
   "source": [
    "import pandas as pd\n",
    "\n",
    "df15_mart = pd.read_csv('datasets/Dataset_15_Mart_POS.csv', encoding='utf8')\n",
    "df15_mart.head(3)"
   ]
  },
  {
   "cell_type": "markdown",
   "id": "48bf1072",
   "metadata": {},
   "source": [
    "## 1. 가장 많은 제품이 팔린 날짜에 가장 많이 팔린 제품의 판매 개수"
   ]
  },
  {
   "cell_type": "code",
   "execution_count": 106,
   "id": "47a68048",
   "metadata": {},
   "outputs": [
    {
     "data": {
      "text/plain": [
       "Date\n",
       "2015-01-21    96\n",
       "2015-07-21    93\n",
       "2015-11-29    92\n",
       "2015-08-08    92\n",
       "2015-04-30    91\n",
       "              ..\n",
       "2015-12-21    29\n",
       "2015-11-05    29\n",
       "2015-03-16    23\n",
       "2015-03-17    23\n",
       "2015-09-01    22\n",
       "Length: 364, dtype: int64"
      ]
     },
     "execution_count": 106,
     "metadata": {},
     "output_type": "execute_result"
    }
   ],
   "source": [
    "df15_mart_date = df15_mart.groupby('Date').size()\n",
    "df15_mart_date.sort_values(ascending=False)"
   ]
  },
  {
   "cell_type": "code",
   "execution_count": 108,
   "id": "085633a2",
   "metadata": {},
   "outputs": [
    {
     "data": {
      "text/plain": [
       "'2015-01-21'"
      ]
     },
     "execution_count": 108,
     "metadata": {},
     "output_type": "execute_result"
    }
   ],
   "source": [
    "date = df15_mart_date.idxmax()\n",
    "date"
   ]
  },
  {
   "cell_type": "code",
   "execution_count": 110,
   "id": "aac5766e",
   "metadata": {},
   "outputs": [
    {
     "data": {
      "text/plain": [
       "itemDescription\n",
       "soda                         7\n",
       "tropical fruit               5\n",
       "shopping bags                4\n",
       "other vegetables             4\n",
       "rolls/buns                   4\n",
       "root vegetables              3\n",
       "grapes                       3\n",
       "frankfurter                  3\n",
       "chicken                      3\n",
       "whole milk                   3\n",
       "beef                         3\n",
       "bottled water                2\n",
       "salty snack                  2\n",
       "napkins                      2\n",
       "pork                         2\n",
       "bottled beer                 2\n",
       "brown bread                  2\n",
       "oil                          2\n",
       "butter milk                  2\n",
       "specialty bar                2\n",
       "sausage                      1\n",
       "white wine                   1\n",
       "onions                       1\n",
       "sugar                        1\n",
       "rice                         1\n",
       "pot plants                   1\n",
       "sparkling wine               1\n",
       "pip fruit                    1\n",
       "photo/film                   1\n",
       "pastry                       1\n",
       "packaged fruit/vegetables    1\n",
       "specialty chocolate          1\n",
       "whipped/sour cream           1\n",
       "UHT-milk                     1\n",
       "nut snack                    1\n",
       "newspapers                   1\n",
       "butter                       1\n",
       "candy                        1\n",
       "canned beer                  1\n",
       "chocolate                    1\n",
       "citrus fruit                 1\n",
       "coffee                       1\n",
       "curd                         1\n",
       "curd cheese                  1\n",
       "domestic eggs                1\n",
       "frozen fish                  1\n",
       "frozen meals                 1\n",
       "ham                          1\n",
       "hard cheese                  1\n",
       "house keeping products       1\n",
       "ice cream                    1\n",
       "light bulbs                  1\n",
       "margarine                    1\n",
       "meat                         1\n",
       "artif. sweetener             1\n",
       "misc. beverages              1\n",
       "dtype: int64"
      ]
     },
     "execution_count": 110,
     "metadata": {},
     "output_type": "execute_result"
    }
   ],
   "source": [
    "df15_mart_date = df15_mart[df15_mart['Date']==date]\n",
    "df15_mart_date.groupby(['itemDescription']).size().sort_values(ascending=False)"
   ]
  },
  {
   "cell_type": "markdown",
   "id": "bb7eb55b",
   "metadata": {},
   "source": [
    "### 답\n",
    "7"
   ]
  },
  {
   "cell_type": "markdown",
   "id": "5e1a5a6d",
   "metadata": {},
   "source": [
    "## 2. 독립 2표본 t 검정\n",
    "- 금, 토요일의 일별 주류제품 구매 제품 수 평균과 다른 요일의 일별 주류 제품 구매 제품 수 평균이 다른지 비교\n",
    "- p-value를 반올림하여 소수점 둘째 자리까지\n",
    "- 등분산 가정을 만족하지 않는다는 조건\n",
    "- 1분기 (1월~3월) 데이터만 사용"
   ]
  },
  {
   "cell_type": "code",
   "execution_count": 111,
   "id": "435a668d",
   "metadata": {},
   "outputs": [
    {
     "data": {
      "text/html": [
       "<div>\n",
       "<style scoped>\n",
       "    .dataframe tbody tr th:only-of-type {\n",
       "        vertical-align: middle;\n",
       "    }\n",
       "\n",
       "    .dataframe tbody tr th {\n",
       "        vertical-align: top;\n",
       "    }\n",
       "\n",
       "    .dataframe thead th {\n",
       "        text-align: right;\n",
       "    }\n",
       "</style>\n",
       "<table border=\"1\" class=\"dataframe\">\n",
       "  <thead>\n",
       "    <tr style=\"text-align: right;\">\n",
       "      <th></th>\n",
       "      <th>prod_id</th>\n",
       "      <th>prod_nm</th>\n",
       "      <th>alcohol</th>\n",
       "      <th>frozen</th>\n",
       "    </tr>\n",
       "  </thead>\n",
       "  <tbody>\n",
       "    <tr>\n",
       "      <th>0</th>\n",
       "      <td>1</td>\n",
       "      <td>tropical fruit</td>\n",
       "      <td>0</td>\n",
       "      <td>0</td>\n",
       "    </tr>\n",
       "    <tr>\n",
       "      <th>1</th>\n",
       "      <td>2</td>\n",
       "      <td>whole milk</td>\n",
       "      <td>0</td>\n",
       "      <td>0</td>\n",
       "    </tr>\n",
       "    <tr>\n",
       "      <th>2</th>\n",
       "      <td>3</td>\n",
       "      <td>pip fruit</td>\n",
       "      <td>0</td>\n",
       "      <td>0</td>\n",
       "    </tr>\n",
       "  </tbody>\n",
       "</table>\n",
       "</div>"
      ],
      "text/plain": [
       "   prod_id         prod_nm  alcohol  frozen\n",
       "0        1  tropical fruit        0       0\n",
       "1        2      whole milk        0       0\n",
       "2        3       pip fruit        0       0"
      ]
     },
     "execution_count": 111,
     "metadata": {},
     "output_type": "execute_result"
    }
   ],
   "source": [
    "df15_item = pd.read_csv('datasets/Dataset_15_item_list.csv', encoding='utf8')\n",
    "df15_item.head(3)"
   ]
  },
  {
   "cell_type": "code",
   "execution_count": 114,
   "id": "3582b5de",
   "metadata": {
    "scrolled": true
   },
   "outputs": [
    {
     "data": {
      "text/plain": [
       "array(['canned beer', 'red/blush wine', 'sparkling wine', 'bottled beer',\n",
       "       'white wine', 'liquor', 'liquor (appetizer)', 'rum', 'whisky',\n",
       "       'liqueur'], dtype=object)"
      ]
     },
     "execution_count": 114,
     "metadata": {},
     "output_type": "execute_result"
    }
   ],
   "source": [
    "alcohols = df15_item[df15_item['alcohol'] == 1]['prod_nm'].values\n",
    "alcohols"
   ]
  },
  {
   "cell_type": "code",
   "execution_count": 132,
   "id": "ea051b70",
   "metadata": {},
   "outputs": [],
   "source": [
    "year = pd.to_datetime(df15_mart['Date']).dt.year\n",
    "month = pd.to_datetime(df15_mart['Date']).dt.month\n",
    "day = pd.to_datetime(df15_mart['Date']).dt.day\n",
    "name = pd.to_datetime(df15_mart['Date']).dt.day_name()"
   ]
  },
  {
   "cell_type": "code",
   "execution_count": 133,
   "id": "1e7496fd",
   "metadata": {},
   "outputs": [
    {
     "data": {
      "text/plain": [
       "0         Thursday\n",
       "1         Thursday\n",
       "2         Thursday\n",
       "3         Thursday\n",
       "4         Thursday\n",
       "           ...    \n",
       "20483    Wednesday\n",
       "20484    Wednesday\n",
       "20485    Wednesday\n",
       "20486    Wednesday\n",
       "20487    Wednesday\n",
       "Name: Date, Length: 20488, dtype: object"
      ]
     },
     "execution_count": 133,
     "metadata": {},
     "output_type": "execute_result"
    }
   ],
   "source": [
    "name"
   ]
  },
  {
   "cell_type": "code",
   "execution_count": 134,
   "id": "3313ea0c",
   "metadata": {},
   "outputs": [],
   "source": [
    "df15_mart['name'] = name"
   ]
  },
  {
   "cell_type": "code",
   "execution_count": 135,
   "id": "53056ea1",
   "metadata": {},
   "outputs": [
    {
     "data": {
      "text/html": [
       "<div>\n",
       "<style scoped>\n",
       "    .dataframe tbody tr th:only-of-type {\n",
       "        vertical-align: middle;\n",
       "    }\n",
       "\n",
       "    .dataframe tbody tr th {\n",
       "        vertical-align: top;\n",
       "    }\n",
       "\n",
       "    .dataframe thead th {\n",
       "        text-align: right;\n",
       "    }\n",
       "</style>\n",
       "<table border=\"1\" class=\"dataframe\">\n",
       "  <thead>\n",
       "    <tr style=\"text-align: right;\">\n",
       "      <th></th>\n",
       "      <th>Member_number</th>\n",
       "      <th>Date</th>\n",
       "      <th>itemDescription</th>\n",
       "      <th>month</th>\n",
       "      <th>name</th>\n",
       "    </tr>\n",
       "  </thead>\n",
       "  <tbody>\n",
       "    <tr>\n",
       "      <th>0</th>\n",
       "      <td>1220</td>\n",
       "      <td>2015-01-01</td>\n",
       "      <td>canned beer</td>\n",
       "      <td>1</td>\n",
       "      <td>Thursday</td>\n",
       "    </tr>\n",
       "    <tr>\n",
       "      <th>1</th>\n",
       "      <td>1220</td>\n",
       "      <td>2015-01-01</td>\n",
       "      <td>margarine</td>\n",
       "      <td>1</td>\n",
       "      <td>Thursday</td>\n",
       "    </tr>\n",
       "    <tr>\n",
       "      <th>2</th>\n",
       "      <td>1220</td>\n",
       "      <td>2015-01-01</td>\n",
       "      <td>chocolate</td>\n",
       "      <td>1</td>\n",
       "      <td>Thursday</td>\n",
       "    </tr>\n",
       "  </tbody>\n",
       "</table>\n",
       "</div>"
      ],
      "text/plain": [
       "   Member_number        Date itemDescription  month      name\n",
       "0           1220  2015-01-01     canned beer      1  Thursday\n",
       "1           1220  2015-01-01       margarine      1  Thursday\n",
       "2           1220  2015-01-01       chocolate      1  Thursday"
      ]
     },
     "execution_count": 135,
     "metadata": {},
     "output_type": "execute_result"
    }
   ],
   "source": [
    "df15_mart['month'] = month\n",
    "df15_mart.head(3)"
   ]
  },
  {
   "cell_type": "code",
   "execution_count": 139,
   "id": "c3e760e7",
   "metadata": {},
   "outputs": [
    {
     "data": {
      "text/html": [
       "<div>\n",
       "<style scoped>\n",
       "    .dataframe tbody tr th:only-of-type {\n",
       "        vertical-align: middle;\n",
       "    }\n",
       "\n",
       "    .dataframe tbody tr th {\n",
       "        vertical-align: top;\n",
       "    }\n",
       "\n",
       "    .dataframe thead th {\n",
       "        text-align: right;\n",
       "    }\n",
       "</style>\n",
       "<table border=\"1\" class=\"dataframe\">\n",
       "  <thead>\n",
       "    <tr style=\"text-align: right;\">\n",
       "      <th></th>\n",
       "      <th>Member_number</th>\n",
       "      <th>Date</th>\n",
       "      <th>itemDescription</th>\n",
       "      <th>month</th>\n",
       "      <th>name</th>\n",
       "      <th>prod_id</th>\n",
       "      <th>prod_nm</th>\n",
       "      <th>alcohol</th>\n",
       "      <th>frozen</th>\n",
       "    </tr>\n",
       "  </thead>\n",
       "  <tbody>\n",
       "    <tr>\n",
       "      <th>0</th>\n",
       "      <td>1220</td>\n",
       "      <td>2015-01-01</td>\n",
       "      <td>canned beer</td>\n",
       "      <td>1</td>\n",
       "      <td>Thursday</td>\n",
       "      <td>25</td>\n",
       "      <td>canned beer</td>\n",
       "      <td>1</td>\n",
       "      <td>0</td>\n",
       "    </tr>\n",
       "    <tr>\n",
       "      <th>1</th>\n",
       "      <td>1220</td>\n",
       "      <td>2015-01-01</td>\n",
       "      <td>margarine</td>\n",
       "      <td>1</td>\n",
       "      <td>Thursday</td>\n",
       "      <td>70</td>\n",
       "      <td>margarine</td>\n",
       "      <td>0</td>\n",
       "      <td>0</td>\n",
       "    </tr>\n",
       "    <tr>\n",
       "      <th>2</th>\n",
       "      <td>1220</td>\n",
       "      <td>2015-01-01</td>\n",
       "      <td>chocolate</td>\n",
       "      <td>1</td>\n",
       "      <td>Thursday</td>\n",
       "      <td>14</td>\n",
       "      <td>chocolate</td>\n",
       "      <td>0</td>\n",
       "      <td>0</td>\n",
       "    </tr>\n",
       "  </tbody>\n",
       "</table>\n",
       "</div>"
      ],
      "text/plain": [
       "   Member_number        Date itemDescription  month      name  prod_id  \\\n",
       "0           1220  2015-01-01     canned beer      1  Thursday       25   \n",
       "1           1220  2015-01-01       margarine      1  Thursday       70   \n",
       "2           1220  2015-01-01       chocolate      1  Thursday       14   \n",
       "\n",
       "       prod_nm  alcohol  frozen  \n",
       "0  canned beer        1       0  \n",
       "1    margarine        0       0  \n",
       "2    chocolate        0       0  "
      ]
     },
     "execution_count": 139,
     "metadata": {},
     "output_type": "execute_result"
    }
   ],
   "source": [
    "df15_merge = pd.merge(df15_mart, df15_item,\n",
    "                      left_on='itemDescription', right_on='prod_nm',\n",
    "                     how='left')\n",
    "df15_merge.head(3)"
   ]
  },
  {
   "cell_type": "code",
   "execution_count": 174,
   "id": "4df2656d",
   "metadata": {},
   "outputs": [
    {
     "data": {
      "text/html": [
       "<div>\n",
       "<style scoped>\n",
       "    .dataframe tbody tr th:only-of-type {\n",
       "        vertical-align: middle;\n",
       "    }\n",
       "\n",
       "    .dataframe tbody tr th {\n",
       "        vertical-align: top;\n",
       "    }\n",
       "\n",
       "    .dataframe thead th {\n",
       "        text-align: right;\n",
       "    }\n",
       "</style>\n",
       "<table border=\"1\" class=\"dataframe\">\n",
       "  <thead>\n",
       "    <tr style=\"text-align: right;\">\n",
       "      <th></th>\n",
       "      <th>Member_number</th>\n",
       "      <th>Date</th>\n",
       "      <th>itemDescription</th>\n",
       "      <th>month</th>\n",
       "      <th>name</th>\n",
       "      <th>prod_id</th>\n",
       "      <th>prod_nm</th>\n",
       "      <th>alcohol</th>\n",
       "      <th>frozen</th>\n",
       "      <th>fs</th>\n",
       "    </tr>\n",
       "  </thead>\n",
       "  <tbody>\n",
       "    <tr>\n",
       "      <th>0</th>\n",
       "      <td>1220</td>\n",
       "      <td>2015-01-01</td>\n",
       "      <td>canned beer</td>\n",
       "      <td>1</td>\n",
       "      <td>Thursday</td>\n",
       "      <td>25</td>\n",
       "      <td>canned beer</td>\n",
       "      <td>1</td>\n",
       "      <td>0</td>\n",
       "      <td>0</td>\n",
       "    </tr>\n",
       "    <tr>\n",
       "      <th>1</th>\n",
       "      <td>1220</td>\n",
       "      <td>2015-01-01</td>\n",
       "      <td>margarine</td>\n",
       "      <td>1</td>\n",
       "      <td>Thursday</td>\n",
       "      <td>70</td>\n",
       "      <td>margarine</td>\n",
       "      <td>0</td>\n",
       "      <td>0</td>\n",
       "      <td>0</td>\n",
       "    </tr>\n",
       "    <tr>\n",
       "      <th>2</th>\n",
       "      <td>1220</td>\n",
       "      <td>2015-01-01</td>\n",
       "      <td>chocolate</td>\n",
       "      <td>1</td>\n",
       "      <td>Thursday</td>\n",
       "      <td>14</td>\n",
       "      <td>chocolate</td>\n",
       "      <td>0</td>\n",
       "      <td>0</td>\n",
       "      <td>0</td>\n",
       "    </tr>\n",
       "  </tbody>\n",
       "</table>\n",
       "</div>"
      ],
      "text/plain": [
       "   Member_number        Date itemDescription  month      name  prod_id  \\\n",
       "0           1220  2015-01-01     canned beer      1  Thursday       25   \n",
       "1           1220  2015-01-01       margarine      1  Thursday       70   \n",
       "2           1220  2015-01-01       chocolate      1  Thursday       14   \n",
       "\n",
       "       prod_nm  alcohol  frozen  fs  \n",
       "0  canned beer        1       0   0  \n",
       "1    margarine        0       0   0  \n",
       "2    chocolate        0       0   0  "
      ]
     },
     "execution_count": 174,
     "metadata": {},
     "output_type": "execute_result"
    }
   ],
   "source": [
    "df15_merge['fs'] = df15_merge['name'].apply(lambda x:1 if x in fs else 0)\n",
    "df15_merge.head(3)"
   ]
  },
  {
   "cell_type": "code",
   "execution_count": 181,
   "id": "f9575272",
   "metadata": {},
   "outputs": [
    {
     "data": {
      "text/html": [
       "<div>\n",
       "<style scoped>\n",
       "    .dataframe tbody tr th:only-of-type {\n",
       "        vertical-align: middle;\n",
       "    }\n",
       "\n",
       "    .dataframe tbody tr th {\n",
       "        vertical-align: top;\n",
       "    }\n",
       "\n",
       "    .dataframe thead th {\n",
       "        text-align: right;\n",
       "    }\n",
       "</style>\n",
       "<table border=\"1\" class=\"dataframe\">\n",
       "  <thead>\n",
       "    <tr style=\"text-align: right;\">\n",
       "      <th></th>\n",
       "      <th>Member_number</th>\n",
       "      <th>Date</th>\n",
       "      <th>itemDescription</th>\n",
       "      <th>month</th>\n",
       "      <th>name</th>\n",
       "      <th>prod_id</th>\n",
       "      <th>prod_nm</th>\n",
       "      <th>alcohol</th>\n",
       "      <th>frozen</th>\n",
       "      <th>fs</th>\n",
       "    </tr>\n",
       "  </thead>\n",
       "  <tbody>\n",
       "    <tr>\n",
       "      <th>0</th>\n",
       "      <td>1220</td>\n",
       "      <td>2015-01-01</td>\n",
       "      <td>canned beer</td>\n",
       "      <td>1</td>\n",
       "      <td>Thursday</td>\n",
       "      <td>25</td>\n",
       "      <td>canned beer</td>\n",
       "      <td>1</td>\n",
       "      <td>0</td>\n",
       "      <td>0</td>\n",
       "    </tr>\n",
       "    <tr>\n",
       "      <th>1</th>\n",
       "      <td>1220</td>\n",
       "      <td>2015-01-01</td>\n",
       "      <td>margarine</td>\n",
       "      <td>1</td>\n",
       "      <td>Thursday</td>\n",
       "      <td>70</td>\n",
       "      <td>margarine</td>\n",
       "      <td>0</td>\n",
       "      <td>0</td>\n",
       "      <td>0</td>\n",
       "    </tr>\n",
       "    <tr>\n",
       "      <th>2</th>\n",
       "      <td>1220</td>\n",
       "      <td>2015-01-01</td>\n",
       "      <td>chocolate</td>\n",
       "      <td>1</td>\n",
       "      <td>Thursday</td>\n",
       "      <td>14</td>\n",
       "      <td>chocolate</td>\n",
       "      <td>0</td>\n",
       "      <td>0</td>\n",
       "      <td>0</td>\n",
       "    </tr>\n",
       "  </tbody>\n",
       "</table>\n",
       "</div>"
      ],
      "text/plain": [
       "   Member_number        Date itemDescription  month      name  prod_id  \\\n",
       "0           1220  2015-01-01     canned beer      1  Thursday       25   \n",
       "1           1220  2015-01-01       margarine      1  Thursday       70   \n",
       "2           1220  2015-01-01       chocolate      1  Thursday       14   \n",
       "\n",
       "       prod_nm  alcohol  frozen  fs  \n",
       "0  canned beer        1       0   0  \n",
       "1    margarine        0       0   0  \n",
       "2    chocolate        0       0   0  "
      ]
     },
     "execution_count": 181,
     "metadata": {},
     "output_type": "execute_result"
    }
   ],
   "source": [
    "df15_al = df15_merge[df15_merge['month'].isin([1, 2, 3])]\n",
    "df15_al.head(3)"
   ]
  },
  {
   "cell_type": "code",
   "execution_count": 182,
   "id": "2d822de4",
   "metadata": {},
   "outputs": [
    {
     "data": {
      "text/plain": [
       "5079"
      ]
     },
     "execution_count": 182,
     "metadata": {},
     "output_type": "execute_result"
    }
   ],
   "source": [
    "len(df15_al)"
   ]
  },
  {
   "cell_type": "code",
   "execution_count": 183,
   "id": "4af6ae9b",
   "metadata": {},
   "outputs": [
    {
     "data": {
      "text/html": [
       "<div>\n",
       "<style scoped>\n",
       "    .dataframe tbody tr th:only-of-type {\n",
       "        vertical-align: middle;\n",
       "    }\n",
       "\n",
       "    .dataframe tbody tr th {\n",
       "        vertical-align: top;\n",
       "    }\n",
       "\n",
       "    .dataframe thead th {\n",
       "        text-align: right;\n",
       "    }\n",
       "</style>\n",
       "<table border=\"1\" class=\"dataframe\">\n",
       "  <thead>\n",
       "    <tr style=\"text-align: right;\">\n",
       "      <th>fs</th>\n",
       "      <th>0</th>\n",
       "      <th>1</th>\n",
       "    </tr>\n",
       "    <tr>\n",
       "      <th>Date</th>\n",
       "      <th></th>\n",
       "      <th></th>\n",
       "    </tr>\n",
       "  </thead>\n",
       "  <tbody>\n",
       "    <tr>\n",
       "      <th>2015-01-01</th>\n",
       "      <td>4.0</td>\n",
       "      <td>NaN</td>\n",
       "    </tr>\n",
       "    <tr>\n",
       "      <th>2015-01-02</th>\n",
       "      <td>NaN</td>\n",
       "      <td>3.0</td>\n",
       "    </tr>\n",
       "    <tr>\n",
       "      <th>2015-01-03</th>\n",
       "      <td>NaN</td>\n",
       "      <td>2.0</td>\n",
       "    </tr>\n",
       "    <tr>\n",
       "      <th>2015-01-04</th>\n",
       "      <td>4.0</td>\n",
       "      <td>NaN</td>\n",
       "    </tr>\n",
       "    <tr>\n",
       "      <th>2015-01-05</th>\n",
       "      <td>5.0</td>\n",
       "      <td>NaN</td>\n",
       "    </tr>\n",
       "    <tr>\n",
       "      <th>...</th>\n",
       "      <td>...</td>\n",
       "      <td>...</td>\n",
       "    </tr>\n",
       "    <tr>\n",
       "      <th>2015-03-27</th>\n",
       "      <td>NaN</td>\n",
       "      <td>5.0</td>\n",
       "    </tr>\n",
       "    <tr>\n",
       "      <th>2015-03-28</th>\n",
       "      <td>NaN</td>\n",
       "      <td>2.0</td>\n",
       "    </tr>\n",
       "    <tr>\n",
       "      <th>2015-03-29</th>\n",
       "      <td>5.0</td>\n",
       "      <td>NaN</td>\n",
       "    </tr>\n",
       "    <tr>\n",
       "      <th>2015-03-30</th>\n",
       "      <td>3.0</td>\n",
       "      <td>NaN</td>\n",
       "    </tr>\n",
       "    <tr>\n",
       "      <th>2015-03-31</th>\n",
       "      <td>4.0</td>\n",
       "      <td>NaN</td>\n",
       "    </tr>\n",
       "  </tbody>\n",
       "</table>\n",
       "<p>90 rows × 2 columns</p>\n",
       "</div>"
      ],
      "text/plain": [
       "fs            0    1\n",
       "Date                \n",
       "2015-01-01  4.0  NaN\n",
       "2015-01-02  NaN  3.0\n",
       "2015-01-03  NaN  2.0\n",
       "2015-01-04  4.0  NaN\n",
       "2015-01-05  5.0  NaN\n",
       "...         ...  ...\n",
       "2015-03-27  NaN  5.0\n",
       "2015-03-28  NaN  2.0\n",
       "2015-03-29  5.0  NaN\n",
       "2015-03-30  3.0  NaN\n",
       "2015-03-31  4.0  NaN\n",
       "\n",
       "[90 rows x 2 columns]"
      ]
     },
     "execution_count": 183,
     "metadata": {},
     "output_type": "execute_result"
    }
   ],
   "source": [
    "pt = pd.pivot_table(data=df15_al, columns='fs', index='Date', values='alcohol', aggfunc=sum)\n",
    "pt"
   ]
  },
  {
   "cell_type": "code",
   "execution_count": 185,
   "id": "eb649885",
   "metadata": {},
   "outputs": [
    {
     "name": "stdout",
     "output_type": "stream",
     "text": [
      "2.335264239960428 0.023062611047582393\n"
     ]
    }
   ],
   "source": [
    "t, p = ttest_ind(pt[0].dropna(), pt[1].dropna(), equal_var=False)\n",
    "print(t, p)"
   ]
  },
  {
   "cell_type": "markdown",
   "id": "258c258c",
   "metadata": {},
   "source": [
    "### 답\n",
    "0.02"
   ]
  },
  {
   "cell_type": "markdown",
   "id": "356218d3",
   "metadata": {},
   "source": [
    "## 3."
   ]
  },
  {
   "cell_type": "code",
   "execution_count": 160,
   "id": "d0337d18",
   "metadata": {},
   "outputs": [],
   "source": [
    "top10 = df15_mart['itemDescription'].value_counts().nlargest(10).index"
   ]
  },
  {
   "cell_type": "code",
   "execution_count": 161,
   "id": "bf505c59",
   "metadata": {},
   "outputs": [
    {
     "data": {
      "text/plain": [
       "Index(['whole milk', 'other vegetables', 'rolls/buns', 'sausage', 'soda',\n",
       "       'yogurt', 'tropical fruit', 'root vegetables', 'citrus fruit',\n",
       "       'frankfurter'],\n",
       "      dtype='object')"
      ]
     },
     "execution_count": 161,
     "metadata": {},
     "output_type": "execute_result"
    }
   ],
   "source": [
    "top10"
   ]
  },
  {
   "cell_type": "code",
   "execution_count": 163,
   "id": "a125b9e2",
   "metadata": {},
   "outputs": [
    {
     "data": {
      "text/html": [
       "<div>\n",
       "<style scoped>\n",
       "    .dataframe tbody tr th:only-of-type {\n",
       "        vertical-align: middle;\n",
       "    }\n",
       "\n",
       "    .dataframe tbody tr th {\n",
       "        vertical-align: top;\n",
       "    }\n",
       "\n",
       "    .dataframe thead th {\n",
       "        text-align: right;\n",
       "    }\n",
       "</style>\n",
       "<table border=\"1\" class=\"dataframe\">\n",
       "  <thead>\n",
       "    <tr style=\"text-align: right;\">\n",
       "      <th></th>\n",
       "      <th>Member_number</th>\n",
       "      <th>Date</th>\n",
       "      <th>itemDescription</th>\n",
       "      <th>month</th>\n",
       "      <th>name</th>\n",
       "    </tr>\n",
       "  </thead>\n",
       "  <tbody>\n",
       "    <tr>\n",
       "      <th>3</th>\n",
       "      <td>1235</td>\n",
       "      <td>2015-01-01</td>\n",
       "      <td>sausage</td>\n",
       "      <td>1</td>\n",
       "      <td>Thursday</td>\n",
       "    </tr>\n",
       "    <tr>\n",
       "      <th>4</th>\n",
       "      <td>1235</td>\n",
       "      <td>2015-01-01</td>\n",
       "      <td>sausage</td>\n",
       "      <td>1</td>\n",
       "      <td>Thursday</td>\n",
       "    </tr>\n",
       "    <tr>\n",
       "      <th>7</th>\n",
       "      <td>1422</td>\n",
       "      <td>2015-01-01</td>\n",
       "      <td>tropical fruit</td>\n",
       "      <td>1</td>\n",
       "      <td>Thursday</td>\n",
       "    </tr>\n",
       "  </tbody>\n",
       "</table>\n",
       "</div>"
      ],
      "text/plain": [
       "   Member_number        Date itemDescription  month      name\n",
       "3           1235  2015-01-01         sausage      1  Thursday\n",
       "4           1235  2015-01-01         sausage      1  Thursday\n",
       "7           1422  2015-01-01  tropical fruit      1  Thursday"
      ]
     },
     "execution_count": 163,
     "metadata": {},
     "output_type": "execute_result"
    }
   ],
   "source": [
    "df15_top10 = df15_mart[df15_mart['itemDescription'].isin(top10)]\n",
    "df15_top10.head(3)"
   ]
  },
  {
   "cell_type": "code",
   "execution_count": 165,
   "id": "d3f67491",
   "metadata": {},
   "outputs": [
    {
     "data": {
      "text/html": [
       "<div>\n",
       "<style scoped>\n",
       "    .dataframe tbody tr th:only-of-type {\n",
       "        vertical-align: middle;\n",
       "    }\n",
       "\n",
       "    .dataframe tbody tr th {\n",
       "        vertical-align: top;\n",
       "    }\n",
       "\n",
       "    .dataframe thead th {\n",
       "        text-align: right;\n",
       "    }\n",
       "</style>\n",
       "<table border=\"1\" class=\"dataframe\">\n",
       "  <thead>\n",
       "    <tr style=\"text-align: right;\">\n",
       "      <th></th>\n",
       "      <th></th>\n",
       "      <th>itemDescription</th>\n",
       "    </tr>\n",
       "    <tr>\n",
       "      <th>Date</th>\n",
       "      <th>name</th>\n",
       "      <th></th>\n",
       "    </tr>\n",
       "  </thead>\n",
       "  <tbody>\n",
       "    <tr>\n",
       "      <th>2015-01-01</th>\n",
       "      <th>Thursday</th>\n",
       "      <td>16</td>\n",
       "    </tr>\n",
       "    <tr>\n",
       "      <th>2015-01-02</th>\n",
       "      <th>Friday</th>\n",
       "      <td>13</td>\n",
       "    </tr>\n",
       "    <tr>\n",
       "      <th>2015-01-03</th>\n",
       "      <th>Saturday</th>\n",
       "      <td>28</td>\n",
       "    </tr>\n",
       "    <tr>\n",
       "      <th>2015-01-04</th>\n",
       "      <th>Sunday</th>\n",
       "      <td>21</td>\n",
       "    </tr>\n",
       "    <tr>\n",
       "      <th>2015-01-05</th>\n",
       "      <th>Monday</th>\n",
       "      <td>30</td>\n",
       "    </tr>\n",
       "    <tr>\n",
       "      <th>...</th>\n",
       "      <th>...</th>\n",
       "      <td>...</td>\n",
       "    </tr>\n",
       "    <tr>\n",
       "      <th>2015-12-26</th>\n",
       "      <th>Saturday</th>\n",
       "      <td>11</td>\n",
       "    </tr>\n",
       "    <tr>\n",
       "      <th>2015-12-27</th>\n",
       "      <th>Sunday</th>\n",
       "      <td>31</td>\n",
       "    </tr>\n",
       "    <tr>\n",
       "      <th>2015-12-28</th>\n",
       "      <th>Monday</th>\n",
       "      <td>21</td>\n",
       "    </tr>\n",
       "    <tr>\n",
       "      <th>2015-12-29</th>\n",
       "      <th>Tuesday</th>\n",
       "      <td>27</td>\n",
       "    </tr>\n",
       "    <tr>\n",
       "      <th>2015-12-30</th>\n",
       "      <th>Wednesday</th>\n",
       "      <td>18</td>\n",
       "    </tr>\n",
       "  </tbody>\n",
       "</table>\n",
       "<p>364 rows × 1 columns</p>\n",
       "</div>"
      ],
      "text/plain": [
       "                      itemDescription\n",
       "Date       name                      \n",
       "2015-01-01 Thursday                16\n",
       "2015-01-02 Friday                  13\n",
       "2015-01-03 Saturday                28\n",
       "2015-01-04 Sunday                  21\n",
       "2015-01-05 Monday                  30\n",
       "...                               ...\n",
       "2015-12-26 Saturday                11\n",
       "2015-12-27 Sunday                  31\n",
       "2015-12-28 Monday                  21\n",
       "2015-12-29 Tuesday                 27\n",
       "2015-12-30 Wednesday               18\n",
       "\n",
       "[364 rows x 1 columns]"
      ]
     },
     "execution_count": 165,
     "metadata": {},
     "output_type": "execute_result"
    }
   ],
   "source": [
    "df15_pt = pd.pivot_table(data=df15_top10,\n",
    "                        index=['Date', 'name'], values='itemDescription', aggfunc='count')\n",
    "df15_pt"
   ]
  },
  {
   "cell_type": "code",
   "execution_count": 166,
   "id": "6535f0e4",
   "metadata": {},
   "outputs": [
    {
     "data": {
      "text/html": [
       "<div>\n",
       "<style scoped>\n",
       "    .dataframe tbody tr th:only-of-type {\n",
       "        vertical-align: middle;\n",
       "    }\n",
       "\n",
       "    .dataframe tbody tr th {\n",
       "        vertical-align: top;\n",
       "    }\n",
       "\n",
       "    .dataframe thead th {\n",
       "        text-align: right;\n",
       "    }\n",
       "</style>\n",
       "<table border=\"1\" class=\"dataframe\">\n",
       "  <thead>\n",
       "    <tr style=\"text-align: right;\">\n",
       "      <th></th>\n",
       "      <th>Date</th>\n",
       "      <th>name</th>\n",
       "      <th>itemDescription</th>\n",
       "    </tr>\n",
       "  </thead>\n",
       "  <tbody>\n",
       "    <tr>\n",
       "      <th>0</th>\n",
       "      <td>2015-01-01</td>\n",
       "      <td>Thursday</td>\n",
       "      <td>16</td>\n",
       "    </tr>\n",
       "    <tr>\n",
       "      <th>1</th>\n",
       "      <td>2015-01-02</td>\n",
       "      <td>Friday</td>\n",
       "      <td>13</td>\n",
       "    </tr>\n",
       "    <tr>\n",
       "      <th>2</th>\n",
       "      <td>2015-01-03</td>\n",
       "      <td>Saturday</td>\n",
       "      <td>28</td>\n",
       "    </tr>\n",
       "    <tr>\n",
       "      <th>3</th>\n",
       "      <td>2015-01-04</td>\n",
       "      <td>Sunday</td>\n",
       "      <td>21</td>\n",
       "    </tr>\n",
       "    <tr>\n",
       "      <th>4</th>\n",
       "      <td>2015-01-05</td>\n",
       "      <td>Monday</td>\n",
       "      <td>30</td>\n",
       "    </tr>\n",
       "    <tr>\n",
       "      <th>...</th>\n",
       "      <td>...</td>\n",
       "      <td>...</td>\n",
       "      <td>...</td>\n",
       "    </tr>\n",
       "    <tr>\n",
       "      <th>359</th>\n",
       "      <td>2015-12-26</td>\n",
       "      <td>Saturday</td>\n",
       "      <td>11</td>\n",
       "    </tr>\n",
       "    <tr>\n",
       "      <th>360</th>\n",
       "      <td>2015-12-27</td>\n",
       "      <td>Sunday</td>\n",
       "      <td>31</td>\n",
       "    </tr>\n",
       "    <tr>\n",
       "      <th>361</th>\n",
       "      <td>2015-12-28</td>\n",
       "      <td>Monday</td>\n",
       "      <td>21</td>\n",
       "    </tr>\n",
       "    <tr>\n",
       "      <th>362</th>\n",
       "      <td>2015-12-29</td>\n",
       "      <td>Tuesday</td>\n",
       "      <td>27</td>\n",
       "    </tr>\n",
       "    <tr>\n",
       "      <th>363</th>\n",
       "      <td>2015-12-30</td>\n",
       "      <td>Wednesday</td>\n",
       "      <td>18</td>\n",
       "    </tr>\n",
       "  </tbody>\n",
       "</table>\n",
       "<p>364 rows × 3 columns</p>\n",
       "</div>"
      ],
      "text/plain": [
       "           Date       name  itemDescription\n",
       "0    2015-01-01   Thursday               16\n",
       "1    2015-01-02     Friday               13\n",
       "2    2015-01-03   Saturday               28\n",
       "3    2015-01-04     Sunday               21\n",
       "4    2015-01-05     Monday               30\n",
       "..          ...        ...              ...\n",
       "359  2015-12-26   Saturday               11\n",
       "360  2015-12-27     Sunday               31\n",
       "361  2015-12-28     Monday               21\n",
       "362  2015-12-29    Tuesday               27\n",
       "363  2015-12-30  Wednesday               18\n",
       "\n",
       "[364 rows x 3 columns]"
      ]
     },
     "execution_count": 166,
     "metadata": {},
     "output_type": "execute_result"
    }
   ],
   "source": [
    "df15_pt = df15_pt.reset_index()\n",
    "df15_pt"
   ]
  },
  {
   "cell_type": "code",
   "execution_count": 167,
   "id": "bd9ce15d",
   "metadata": {},
   "outputs": [],
   "source": [
    "from statsmodels.formula.api import ols\n",
    "from statsmodels.stats.anova import anova_lm\n",
    "\n",
    "formula = 'itemDescription ~ C(name)'\n",
    "\n",
    "anova = ols(formula, df15_pt).fit()"
   ]
  },
  {
   "cell_type": "code",
   "execution_count": 168,
   "id": "0592222b",
   "metadata": {},
   "outputs": [
    {
     "data": {
      "text/html": [
       "<div>\n",
       "<style scoped>\n",
       "    .dataframe tbody tr th:only-of-type {\n",
       "        vertical-align: middle;\n",
       "    }\n",
       "\n",
       "    .dataframe tbody tr th {\n",
       "        vertical-align: top;\n",
       "    }\n",
       "\n",
       "    .dataframe thead th {\n",
       "        text-align: right;\n",
       "    }\n",
       "</style>\n",
       "<table border=\"1\" class=\"dataframe\">\n",
       "  <thead>\n",
       "    <tr style=\"text-align: right;\">\n",
       "      <th></th>\n",
       "      <th>df</th>\n",
       "      <th>sum_sq</th>\n",
       "      <th>mean_sq</th>\n",
       "      <th>F</th>\n",
       "      <th>PR(&gt;F)</th>\n",
       "    </tr>\n",
       "  </thead>\n",
       "  <tbody>\n",
       "    <tr>\n",
       "      <th>C(name)</th>\n",
       "      <td>6.0</td>\n",
       "      <td>219.527473</td>\n",
       "      <td>36.587912</td>\n",
       "      <td>0.86853</td>\n",
       "      <td>0.518128</td>\n",
       "    </tr>\n",
       "    <tr>\n",
       "      <th>Residual</th>\n",
       "      <td>357.0</td>\n",
       "      <td>15039.076923</td>\n",
       "      <td>42.126266</td>\n",
       "      <td>NaN</td>\n",
       "      <td>NaN</td>\n",
       "    </tr>\n",
       "  </tbody>\n",
       "</table>\n",
       "</div>"
      ],
      "text/plain": [
       "             df        sum_sq    mean_sq        F    PR(>F)\n",
       "C(name)     6.0    219.527473  36.587912  0.86853  0.518128\n",
       "Residual  357.0  15039.076923  42.126266      NaN       NaN"
      ]
     },
     "execution_count": 168,
     "metadata": {},
     "output_type": "execute_result"
    }
   ],
   "source": [
    "anova_lm(anova)"
   ]
  },
  {
   "cell_type": "markdown",
   "id": "0392ffeb",
   "metadata": {},
   "source": [
    "### 답\n",
    "0.52"
   ]
  },
  {
   "cell_type": "code",
   "execution_count": 204,
   "id": "60affa56",
   "metadata": {},
   "outputs": [],
   "source": [
    "df15_day = df15_top10.groupby(['Date', 'name']).size()"
   ]
  },
  {
   "cell_type": "code",
   "execution_count": 205,
   "id": "ff40a699",
   "metadata": {},
   "outputs": [
    {
     "data": {
      "text/html": [
       "<div>\n",
       "<style scoped>\n",
       "    .dataframe tbody tr th:only-of-type {\n",
       "        vertical-align: middle;\n",
       "    }\n",
       "\n",
       "    .dataframe tbody tr th {\n",
       "        vertical-align: top;\n",
       "    }\n",
       "\n",
       "    .dataframe thead th {\n",
       "        text-align: right;\n",
       "    }\n",
       "</style>\n",
       "<table border=\"1\" class=\"dataframe\">\n",
       "  <thead>\n",
       "    <tr style=\"text-align: right;\">\n",
       "      <th></th>\n",
       "      <th>Date</th>\n",
       "      <th>name</th>\n",
       "      <th>0</th>\n",
       "    </tr>\n",
       "  </thead>\n",
       "  <tbody>\n",
       "    <tr>\n",
       "      <th>0</th>\n",
       "      <td>2015-01-01</td>\n",
       "      <td>Thursday</td>\n",
       "      <td>16</td>\n",
       "    </tr>\n",
       "    <tr>\n",
       "      <th>1</th>\n",
       "      <td>2015-01-02</td>\n",
       "      <td>Friday</td>\n",
       "      <td>13</td>\n",
       "    </tr>\n",
       "    <tr>\n",
       "      <th>2</th>\n",
       "      <td>2015-01-03</td>\n",
       "      <td>Saturday</td>\n",
       "      <td>28</td>\n",
       "    </tr>\n",
       "    <tr>\n",
       "      <th>3</th>\n",
       "      <td>2015-01-04</td>\n",
       "      <td>Sunday</td>\n",
       "      <td>21</td>\n",
       "    </tr>\n",
       "    <tr>\n",
       "      <th>4</th>\n",
       "      <td>2015-01-05</td>\n",
       "      <td>Monday</td>\n",
       "      <td>30</td>\n",
       "    </tr>\n",
       "    <tr>\n",
       "      <th>...</th>\n",
       "      <td>...</td>\n",
       "      <td>...</td>\n",
       "      <td>...</td>\n",
       "    </tr>\n",
       "    <tr>\n",
       "      <th>359</th>\n",
       "      <td>2015-12-26</td>\n",
       "      <td>Saturday</td>\n",
       "      <td>11</td>\n",
       "    </tr>\n",
       "    <tr>\n",
       "      <th>360</th>\n",
       "      <td>2015-12-27</td>\n",
       "      <td>Sunday</td>\n",
       "      <td>31</td>\n",
       "    </tr>\n",
       "    <tr>\n",
       "      <th>361</th>\n",
       "      <td>2015-12-28</td>\n",
       "      <td>Monday</td>\n",
       "      <td>21</td>\n",
       "    </tr>\n",
       "    <tr>\n",
       "      <th>362</th>\n",
       "      <td>2015-12-29</td>\n",
       "      <td>Tuesday</td>\n",
       "      <td>27</td>\n",
       "    </tr>\n",
       "    <tr>\n",
       "      <th>363</th>\n",
       "      <td>2015-12-30</td>\n",
       "      <td>Wednesday</td>\n",
       "      <td>18</td>\n",
       "    </tr>\n",
       "  </tbody>\n",
       "</table>\n",
       "<p>364 rows × 3 columns</p>\n",
       "</div>"
      ],
      "text/plain": [
       "           Date       name   0\n",
       "0    2015-01-01   Thursday  16\n",
       "1    2015-01-02     Friday  13\n",
       "2    2015-01-03   Saturday  28\n",
       "3    2015-01-04     Sunday  21\n",
       "4    2015-01-05     Monday  30\n",
       "..          ...        ...  ..\n",
       "359  2015-12-26   Saturday  11\n",
       "360  2015-12-27     Sunday  31\n",
       "361  2015-12-28     Monday  21\n",
       "362  2015-12-29    Tuesday  27\n",
       "363  2015-12-30  Wednesday  18\n",
       "\n",
       "[364 rows x 3 columns]"
      ]
     },
     "execution_count": 205,
     "metadata": {},
     "output_type": "execute_result"
    }
   ],
   "source": [
    "df15_day.reset_index()"
   ]
  },
  {
   "cell_type": "code",
   "execution_count": null,
   "id": "5f88be9e",
   "metadata": {},
   "outputs": [],
   "source": []
  }
 ],
 "metadata": {
  "kernelspec": {
   "display_name": "Python Multi",
   "language": "python",
   "name": "multi"
  },
  "language_info": {
   "codemirror_mode": {
    "name": "ipython",
    "version": 3
   },
   "file_extension": ".py",
   "mimetype": "text/x-python",
   "name": "python",
   "nbconvert_exporter": "python",
   "pygments_lexer": "ipython3",
   "version": "3.7.6"
  },
  "toc": {
   "base_numbering": 1,
   "nav_menu": {},
   "number_sections": false,
   "sideBar": true,
   "skip_h1_title": false,
   "title_cell": "Table of Contents",
   "title_sidebar": "Contents",
   "toc_cell": false,
   "toc_position": {
    "height": "calc(100% - 180px)",
    "left": "10px",
    "top": "150px",
    "width": "165px"
   },
   "toc_section_display": true,
   "toc_window_display": true
  }
 },
 "nbformat": 4,
 "nbformat_minor": 5
}
