{
 "cells": [
  {
   "cell_type": "markdown",
   "id": "3bfefa2c",
   "metadata": {},
   "source": [
    "# 문제 06 유형\n",
    "- Dataset_06.csv 이용"
   ]
  },
  {
   "cell_type": "code",
   "execution_count": 1,
   "id": "5d6ea0f4",
   "metadata": {},
   "outputs": [
    {
     "data": {
      "text/html": [
       "<div>\n",
       "<style scoped>\n",
       "    .dataframe tbody tr th:only-of-type {\n",
       "        vertical-align: middle;\n",
       "    }\n",
       "\n",
       "    .dataframe tbody tr th {\n",
       "        vertical-align: top;\n",
       "    }\n",
       "\n",
       "    .dataframe thead th {\n",
       "        text-align: right;\n",
       "    }\n",
       "</style>\n",
       "<table border=\"1\" class=\"dataframe\">\n",
       "  <thead>\n",
       "    <tr style=\"text-align: right;\">\n",
       "      <th></th>\n",
       "      <th>id</th>\n",
       "      <th>date</th>\n",
       "      <th>price</th>\n",
       "      <th>bedrooms</th>\n",
       "      <th>bathrooms</th>\n",
       "      <th>sqft_living</th>\n",
       "      <th>sqft_lot</th>\n",
       "      <th>floors</th>\n",
       "      <th>waterfront</th>\n",
       "      <th>view</th>\n",
       "      <th>condition</th>\n",
       "      <th>grade</th>\n",
       "      <th>sqft_above</th>\n",
       "      <th>sqft_basement</th>\n",
       "      <th>yr_built</th>\n",
       "      <th>yr_renovated</th>\n",
       "      <th>zipcode</th>\n",
       "      <th>sqft_living15</th>\n",
       "      <th>sqft_lot15</th>\n",
       "    </tr>\n",
       "  </thead>\n",
       "  <tbody>\n",
       "    <tr>\n",
       "      <th>0</th>\n",
       "      <td>2597000006</td>\n",
       "      <td>20150309T000000</td>\n",
       "      <td>347500.0</td>\n",
       "      <td>3</td>\n",
       "      <td>1.50</td>\n",
       "      <td>1180</td>\n",
       "      <td>8353</td>\n",
       "      <td>1.0</td>\n",
       "      <td>0</td>\n",
       "      <td>0</td>\n",
       "      <td>3</td>\n",
       "      <td>7</td>\n",
       "      <td>1180</td>\n",
       "      <td>0</td>\n",
       "      <td>1960</td>\n",
       "      <td>0</td>\n",
       "      <td>98155</td>\n",
       "      <td>1710</td>\n",
       "      <td>8748</td>\n",
       "    </tr>\n",
       "    <tr>\n",
       "      <th>1</th>\n",
       "      <td>8813400345</td>\n",
       "      <td>20150414T000000</td>\n",
       "      <td>575000.0</td>\n",
       "      <td>2</td>\n",
       "      <td>1.00</td>\n",
       "      <td>980</td>\n",
       "      <td>3663</td>\n",
       "      <td>1.0</td>\n",
       "      <td>0</td>\n",
       "      <td>0</td>\n",
       "      <td>5</td>\n",
       "      <td>7</td>\n",
       "      <td>980</td>\n",
       "      <td>0</td>\n",
       "      <td>1909</td>\n",
       "      <td>0</td>\n",
       "      <td>98105</td>\n",
       "      <td>1620</td>\n",
       "      <td>3706</td>\n",
       "    </tr>\n",
       "    <tr>\n",
       "      <th>2</th>\n",
       "      <td>226059106</td>\n",
       "      <td>20150102T000000</td>\n",
       "      <td>489500.0</td>\n",
       "      <td>3</td>\n",
       "      <td>1.75</td>\n",
       "      <td>2090</td>\n",
       "      <td>65558</td>\n",
       "      <td>1.0</td>\n",
       "      <td>0</td>\n",
       "      <td>0</td>\n",
       "      <td>3</td>\n",
       "      <td>8</td>\n",
       "      <td>1330</td>\n",
       "      <td>760</td>\n",
       "      <td>1977</td>\n",
       "      <td>0</td>\n",
       "      <td>98072</td>\n",
       "      <td>2450</td>\n",
       "      <td>47178</td>\n",
       "    </tr>\n",
       "  </tbody>\n",
       "</table>\n",
       "</div>"
      ],
      "text/plain": [
       "           id             date     price  bedrooms  bathrooms  sqft_living  \\\n",
       "0  2597000006  20150309T000000  347500.0         3       1.50         1180   \n",
       "1  8813400345  20150414T000000  575000.0         2       1.00          980   \n",
       "2   226059106  20150102T000000  489500.0         3       1.75         2090   \n",
       "\n",
       "   sqft_lot  floors  waterfront  view  condition  grade  sqft_above  \\\n",
       "0      8353     1.0           0     0          3      7        1180   \n",
       "1      3663     1.0           0     0          5      7         980   \n",
       "2     65558     1.0           0     0          3      8        1330   \n",
       "\n",
       "   sqft_basement  yr_built  yr_renovated  zipcode  sqft_living15  sqft_lot15  \n",
       "0              0      1960             0    98155           1710        8748  \n",
       "1              0      1909             0    98105           1620        3706  \n",
       "2            760      1977             0    98072           2450       47178  "
      ]
     },
     "execution_count": 1,
     "metadata": {},
     "output_type": "execute_result"
    }
   ],
   "source": [
    "import pandas as pd\n",
    "\n",
    "df1_orig = pd.read_csv('datasets/Dataset_06.csv', encoding='utf8')\n",
    "\n",
    "df1 = df1_orig.copy()\n",
    "\n",
    "df1.head(3)"
   ]
  },
  {
   "cell_type": "code",
   "execution_count": 2,
   "id": "e70dea1d",
   "metadata": {},
   "outputs": [
    {
     "name": "stdout",
     "output_type": "stream",
     "text": [
      "<class 'pandas.core.frame.DataFrame'>\n",
      "RangeIndex: 4323 entries, 0 to 4322\n",
      "Data columns (total 19 columns):\n",
      " #   Column         Non-Null Count  Dtype  \n",
      "---  ------         --------------  -----  \n",
      " 0   id             4323 non-null   int64  \n",
      " 1   date           4323 non-null   object \n",
      " 2   price          4323 non-null   float64\n",
      " 3   bedrooms       4323 non-null   int64  \n",
      " 4   bathrooms      4323 non-null   float64\n",
      " 5   sqft_living    4323 non-null   int64  \n",
      " 6   sqft_lot       4323 non-null   int64  \n",
      " 7   floors         4323 non-null   float64\n",
      " 8   waterfront     4323 non-null   int64  \n",
      " 9   view           4323 non-null   int64  \n",
      " 10  condition      4323 non-null   int64  \n",
      " 11  grade          4323 non-null   int64  \n",
      " 12  sqft_above     4323 non-null   int64  \n",
      " 13  sqft_basement  4323 non-null   int64  \n",
      " 14  yr_built       4323 non-null   int64  \n",
      " 15  yr_renovated   4323 non-null   int64  \n",
      " 16  zipcode        4323 non-null   int64  \n",
      " 17  sqft_living15  4323 non-null   int64  \n",
      " 18  sqft_lot15     4323 non-null   int64  \n",
      "dtypes: float64(3), int64(15), object(1)\n",
      "memory usage: 641.8+ KB\n"
     ]
    }
   ],
   "source": [
    "df1.info()"
   ]
  },
  {
   "cell_type": "markdown",
   "id": "9592caae",
   "metadata": {},
   "source": [
    "## 1. warterfront에 따라 평균 주택 가격 계산\n",
    "- 평균 가격 차이의 절대값, 소수점 이하는 버리고 정수만 기술"
   ]
  },
  {
   "cell_type": "code",
   "execution_count": 3,
   "id": "7a833b29",
   "metadata": {},
   "outputs": [
    {
     "data": {
      "text/plain": [
       "array([0, 1], dtype=int64)"
      ]
     },
     "execution_count": 3,
     "metadata": {},
     "output_type": "execute_result"
    }
   ],
   "source": [
    "df1.waterfront.unique()"
   ]
  },
  {
   "cell_type": "code",
   "execution_count": 4,
   "id": "4e6db544",
   "metadata": {},
   "outputs": [
    {
     "name": "stdout",
     "output_type": "stream",
     "text": [
      "1167272.748018648\n"
     ]
    }
   ],
   "source": [
    "df1_wf = df1[df1['waterfront'] == 1]\n",
    "df1_nwf = df1[df1['waterfront'] == 0]\n",
    "\n",
    "av_price_wf = df1_wf.mean()['price']\n",
    "av_price_nwf = df1_nwf.mean()['price']\n",
    "\n",
    "diff_av_price = abs(av_price_wf - av_price_nwf)\n",
    "print(diff_av_price)"
   ]
  },
  {
   "cell_type": "markdown",
   "id": "ae2ae0b7",
   "metadata": {},
   "source": [
    "### 답\n",
    "1167272"
   ]
  },
  {
   "cell_type": "markdown",
   "id": "7409b3a9",
   "metadata": {},
   "source": [
    "## 2. 7개 변수 간의 상관 분석\n",
    "- price, bedrooms, bathrooms, sqft_living, sqft_lot, floors, yr_built\n",
    "- price와의 상관계수의 절댓값이 가장 큰 변수와 작은 변수"
   ]
  },
  {
   "cell_type": "code",
   "execution_count": 8,
   "id": "bf918852",
   "metadata": {},
   "outputs": [
    {
     "data": {
      "text/plain": [
       "price          1.000000\n",
       "sqft_living    0.709157\n",
       "bathrooms      0.534277\n",
       "bedrooms       0.279824\n",
       "floors         0.270423\n",
       "sqft_lot       0.106341\n",
       "yr_built       0.059895\n",
       "Name: price, dtype: float64"
      ]
     },
     "execution_count": 8,
     "metadata": {},
     "output_type": "execute_result"
    }
   ],
   "source": [
    "df1_corr_var = ['price', 'bedrooms', 'bathrooms', 'sqft_living',\n",
    "               'sqft_lot', 'floors', 'yr_built']\n",
    "\n",
    "df1[df1_corr_var].corr().abs()['price'].sort_values(ascending=False)"
   ]
  },
  {
   "cell_type": "markdown",
   "id": "1eee18e4",
   "metadata": {},
   "source": [
    "### 답\n",
    "sqft_living, yr_built"
   ]
  },
  {
   "cell_type": "markdown",
   "id": "fc9ab6e2",
   "metadata": {},
   "source": [
    "### 참고"
   ]
  },
  {
   "cell_type": "code",
   "execution_count": 19,
   "id": "5ad6f22a",
   "metadata": {},
   "outputs": [
    {
     "data": {
      "text/plain": [
       "sqft_living    0.709157\n",
       "Name: price, dtype: float64"
      ]
     },
     "execution_count": 19,
     "metadata": {},
     "output_type": "execute_result"
    }
   ],
   "source": [
    "df1[df1_corr_var].corr().abs()['price'][1:].nlargest(1)"
   ]
  },
  {
   "cell_type": "code",
   "execution_count": 20,
   "id": "9fcbaa89",
   "metadata": {},
   "outputs": [
    {
     "data": {
      "text/plain": [
       "yr_built    0.059895\n",
       "Name: price, dtype: float64"
      ]
     },
     "execution_count": 20,
     "metadata": {},
     "output_type": "execute_result"
    }
   ],
   "source": [
    "df1[df1_corr_var].corr().abs()['price'][1:].nsmallest(1)"
   ]
  },
  {
   "cell_type": "markdown",
   "id": "45b1a0a4",
   "metadata": {},
   "source": [
    "## 3. price를 종속변수로 하여 회귀분석\n",
    "- id, date, zipcode를 제외한 나머지를 독립변수로\n",
    "- 통계적 유의성을 갖지 못하는 독립변수를 제거하면 남는 변수\n",
    "- 제거 후 음의 회귀계수를 가지는 변수 개수"
   ]
  },
  {
   "cell_type": "code",
   "execution_count": 10,
   "id": "2da88c1e",
   "metadata": {},
   "outputs": [
    {
     "data": {
      "text/plain": [
       "'price ~ bedrooms+bathrooms+sqft_living+sqft_lot+floors+waterfront+view+condition+grade+sqft_above+sqft_basement+yr_built+yr_renovated+sqft_living15+sqft_lot15'"
      ]
     },
     "execution_count": 10,
     "metadata": {},
     "output_type": "execute_result"
    }
   ],
   "source": [
    "from statsmodels.formula.api import ols\n",
    "\n",
    "drop_cols = ['id', 'date', 'zipcode', 'price']\n",
    "df1_features = df1.drop(columns=drop_cols).columns\n",
    "\n",
    "formula = 'price ~ ' + '+'.join(df1_features)\n",
    "formula"
   ]
  },
  {
   "cell_type": "code",
   "execution_count": 11,
   "id": "459ecd38",
   "metadata": {},
   "outputs": [
    {
     "data": {
      "text/html": [
       "<table class=\"simpletable\">\n",
       "<caption>OLS Regression Results</caption>\n",
       "<tr>\n",
       "  <th>Dep. Variable:</th>          <td>price</td>      <th>  R-squared:         </th> <td>   0.681</td> \n",
       "</tr>\n",
       "<tr>\n",
       "  <th>Model:</th>                   <td>OLS</td>       <th>  Adj. R-squared:    </th> <td>   0.680</td> \n",
       "</tr>\n",
       "<tr>\n",
       "  <th>Method:</th>             <td>Least Squares</td>  <th>  F-statistic:       </th> <td>   656.0</td> \n",
       "</tr>\n",
       "<tr>\n",
       "  <th>Date:</th>             <td>Tue, 24 Aug 2021</td> <th>  Prob (F-statistic):</th>  <td>  0.00</td>  \n",
       "</tr>\n",
       "<tr>\n",
       "  <th>Time:</th>                 <td>10:22:02</td>     <th>  Log-Likelihood:    </th> <td> -58960.</td> \n",
       "</tr>\n",
       "<tr>\n",
       "  <th>No. Observations:</th>      <td>  4323</td>      <th>  AIC:               </th> <td>1.180e+05</td>\n",
       "</tr>\n",
       "<tr>\n",
       "  <th>Df Residuals:</th>          <td>  4308</td>      <th>  BIC:               </th> <td>1.180e+05</td>\n",
       "</tr>\n",
       "<tr>\n",
       "  <th>Df Model:</th>              <td>    14</td>      <th>                     </th>     <td> </td>    \n",
       "</tr>\n",
       "<tr>\n",
       "  <th>Covariance Type:</th>      <td>nonrobust</td>    <th>                     </th>     <td> </td>    \n",
       "</tr>\n",
       "</table>\n",
       "<table class=\"simpletable\">\n",
       "<tr>\n",
       "        <td></td>           <th>coef</th>     <th>std err</th>      <th>t</th>      <th>P>|t|</th>  <th>[0.025</th>    <th>0.975]</th>  \n",
       "</tr>\n",
       "<tr>\n",
       "  <th>Intercept</th>     <td> 6.302e+06</td> <td> 2.95e+05</td> <td>   21.401</td> <td> 0.000</td> <td> 5.73e+06</td> <td> 6.88e+06</td>\n",
       "</tr>\n",
       "<tr>\n",
       "  <th>bedrooms</th>      <td>  -2.5e+04</td> <td> 3680.510</td> <td>   -6.791</td> <td> 0.000</td> <td>-3.22e+04</td> <td>-1.78e+04</td>\n",
       "</tr>\n",
       "<tr>\n",
       "  <th>bathrooms</th>     <td> 5.179e+04</td> <td> 7163.408</td> <td>    7.230</td> <td> 0.000</td> <td> 3.77e+04</td> <td> 6.58e+04</td>\n",
       "</tr>\n",
       "<tr>\n",
       "  <th>sqft_living</th>   <td>   92.3081</td> <td>    5.074</td> <td>   18.192</td> <td> 0.000</td> <td>   82.360</td> <td>  102.256</td>\n",
       "</tr>\n",
       "<tr>\n",
       "  <th>sqft_lot</th>      <td>    0.0054</td> <td>    0.093</td> <td>    0.059</td> <td> 0.953</td> <td>   -0.176</td> <td>    0.187</td>\n",
       "</tr>\n",
       "<tr>\n",
       "  <th>floors</th>        <td> 3.748e+04</td> <td> 8141.392</td> <td>    4.604</td> <td> 0.000</td> <td> 2.15e+04</td> <td> 5.34e+04</td>\n",
       "</tr>\n",
       "<tr>\n",
       "  <th>waterfront</th>    <td> 6.277e+05</td> <td> 3.91e+04</td> <td>   16.064</td> <td> 0.000</td> <td> 5.51e+05</td> <td> 7.04e+05</td>\n",
       "</tr>\n",
       "<tr>\n",
       "  <th>view</th>          <td>  4.04e+04</td> <td> 4797.344</td> <td>    8.421</td> <td> 0.000</td> <td>  3.1e+04</td> <td> 4.98e+04</td>\n",
       "</tr>\n",
       "<tr>\n",
       "  <th>condition</th>     <td> 1.571e+04</td> <td> 5317.387</td> <td>    2.954</td> <td> 0.003</td> <td> 5280.918</td> <td> 2.61e+04</td>\n",
       "</tr>\n",
       "<tr>\n",
       "  <th>grade</th>         <td> 1.306e+05</td> <td> 4700.604</td> <td>   27.789</td> <td> 0.000</td> <td> 1.21e+05</td> <td>  1.4e+05</td>\n",
       "</tr>\n",
       "<tr>\n",
       "  <th>sqft_above</th>    <td>   33.7358</td> <td>    4.981</td> <td>    6.773</td> <td> 0.000</td> <td>   23.971</td> <td>   43.501</td>\n",
       "</tr>\n",
       "<tr>\n",
       "  <th>sqft_basement</th> <td>   58.5722</td> <td>    5.840</td> <td>   10.030</td> <td> 0.000</td> <td>   47.123</td> <td>   70.021</td>\n",
       "</tr>\n",
       "<tr>\n",
       "  <th>yr_built</th>      <td>-3666.8957</td> <td>  150.805</td> <td>  -24.316</td> <td> 0.000</td> <td>-3962.551</td> <td>-3371.241</td>\n",
       "</tr>\n",
       "<tr>\n",
       "  <th>yr_renovated</th>  <td>   17.7032</td> <td>    8.265</td> <td>    2.142</td> <td> 0.032</td> <td>    1.499</td> <td>   33.908</td>\n",
       "</tr>\n",
       "<tr>\n",
       "  <th>sqft_living15</th> <td>   23.0114</td> <td>    7.561</td> <td>    3.044</td> <td> 0.002</td> <td>    8.188</td> <td>   37.834</td>\n",
       "</tr>\n",
       "<tr>\n",
       "  <th>sqft_lot15</th>    <td>   -0.2323</td> <td>    0.142</td> <td>   -1.637</td> <td> 0.102</td> <td>   -0.511</td> <td>    0.046</td>\n",
       "</tr>\n",
       "</table>\n",
       "<table class=\"simpletable\">\n",
       "<tr>\n",
       "  <th>Omnibus:</th>       <td>2170.721</td> <th>  Durbin-Watson:     </th> <td>   2.011</td> \n",
       "</tr>\n",
       "<tr>\n",
       "  <th>Prob(Omnibus):</th>  <td> 0.000</td>  <th>  Jarque-Bera (JB):  </th> <td>38362.875</td>\n",
       "</tr>\n",
       "<tr>\n",
       "  <th>Skew:</th>           <td> 1.971</td>  <th>  Prob(JB):          </th> <td>    0.00</td> \n",
       "</tr>\n",
       "<tr>\n",
       "  <th>Kurtosis:</th>       <td>17.051</td>  <th>  Cond. No.          </th> <td>3.29e+17</td> \n",
       "</tr>\n",
       "</table><br/><br/>Notes:<br/>[1] Standard Errors assume that the covariance matrix of the errors is correctly specified.<br/>[2] The smallest eigenvalue is 1.5e-22. This might indicate that there are<br/>strong multicollinearity problems or that the design matrix is singular."
      ],
      "text/plain": [
       "<class 'statsmodels.iolib.summary.Summary'>\n",
       "\"\"\"\n",
       "                            OLS Regression Results                            \n",
       "==============================================================================\n",
       "Dep. Variable:                  price   R-squared:                       0.681\n",
       "Model:                            OLS   Adj. R-squared:                  0.680\n",
       "Method:                 Least Squares   F-statistic:                     656.0\n",
       "Date:                Tue, 24 Aug 2021   Prob (F-statistic):               0.00\n",
       "Time:                        10:22:02   Log-Likelihood:                -58960.\n",
       "No. Observations:                4323   AIC:                         1.180e+05\n",
       "Df Residuals:                    4308   BIC:                         1.180e+05\n",
       "Df Model:                          14                                         \n",
       "Covariance Type:            nonrobust                                         \n",
       "=================================================================================\n",
       "                    coef    std err          t      P>|t|      [0.025      0.975]\n",
       "---------------------------------------------------------------------------------\n",
       "Intercept      6.302e+06   2.95e+05     21.401      0.000    5.73e+06    6.88e+06\n",
       "bedrooms        -2.5e+04   3680.510     -6.791      0.000   -3.22e+04   -1.78e+04\n",
       "bathrooms      5.179e+04   7163.408      7.230      0.000    3.77e+04    6.58e+04\n",
       "sqft_living      92.3081      5.074     18.192      0.000      82.360     102.256\n",
       "sqft_lot          0.0054      0.093      0.059      0.953      -0.176       0.187\n",
       "floors         3.748e+04   8141.392      4.604      0.000    2.15e+04    5.34e+04\n",
       "waterfront     6.277e+05   3.91e+04     16.064      0.000    5.51e+05    7.04e+05\n",
       "view            4.04e+04   4797.344      8.421      0.000     3.1e+04    4.98e+04\n",
       "condition      1.571e+04   5317.387      2.954      0.003    5280.918    2.61e+04\n",
       "grade          1.306e+05   4700.604     27.789      0.000    1.21e+05     1.4e+05\n",
       "sqft_above       33.7358      4.981      6.773      0.000      23.971      43.501\n",
       "sqft_basement    58.5722      5.840     10.030      0.000      47.123      70.021\n",
       "yr_built      -3666.8957    150.805    -24.316      0.000   -3962.551   -3371.241\n",
       "yr_renovated     17.7032      8.265      2.142      0.032       1.499      33.908\n",
       "sqft_living15    23.0114      7.561      3.044      0.002       8.188      37.834\n",
       "sqft_lot15       -0.2323      0.142     -1.637      0.102      -0.511       0.046\n",
       "==============================================================================\n",
       "Omnibus:                     2170.721   Durbin-Watson:                   2.011\n",
       "Prob(Omnibus):                  0.000   Jarque-Bera (JB):            38362.875\n",
       "Skew:                           1.971   Prob(JB):                         0.00\n",
       "Kurtosis:                      17.051   Cond. No.                     3.29e+17\n",
       "==============================================================================\n",
       "\n",
       "Notes:\n",
       "[1] Standard Errors assume that the covariance matrix of the errors is correctly specified.\n",
       "[2] The smallest eigenvalue is 1.5e-22. This might indicate that there are\n",
       "strong multicollinearity problems or that the design matrix is singular.\n",
       "\"\"\""
      ]
     },
     "execution_count": 11,
     "metadata": {},
     "output_type": "execute_result"
    }
   ],
   "source": [
    "result1 = ols(formula, df1).fit()\n",
    "result1.summary()"
   ]
  },
  {
   "cell_type": "markdown",
   "id": "b36ad4c1",
   "metadata": {},
   "source": [
    "### 답\n",
    "13, 2"
   ]
  },
  {
   "cell_type": "markdown",
   "id": "c035fbe6",
   "metadata": {},
   "source": [
    "### 참고\n",
    "- p-value가 0.05보다 작은 변수들"
   ]
  },
  {
   "cell_type": "code",
   "execution_count": 22,
   "id": "101fd94d",
   "metadata": {},
   "outputs": [
    {
     "data": {
      "text/plain": [
       "Intercept         1.204633e-96\n",
       "bedrooms          1.262643e-11\n",
       "bathrooms         5.681393e-13\n",
       "sqft_living       2.616908e-71\n",
       "floors            4.266372e-06\n",
       "waterfront        1.931929e-56\n",
       "view              5.028272e-17\n",
       "condition         3.157318e-03\n",
       "grade            1.760208e-156\n",
       "sqft_above        1.431354e-11\n",
       "sqft_basement     2.030032e-23\n",
       "yr_built         1.717539e-122\n",
       "yr_renovated      3.226128e-02\n",
       "sqft_living15     2.352216e-03\n",
       "dtype: float64"
      ]
     },
     "execution_count": 22,
     "metadata": {},
     "output_type": "execute_result"
    }
   ],
   "source": [
    "result1.pvalues[result1.pvalues < 0.05]"
   ]
  },
  {
   "cell_type": "code",
   "execution_count": 23,
   "id": "1882516e",
   "metadata": {},
   "outputs": [
    {
     "data": {
      "text/plain": [
       "13"
      ]
     },
     "execution_count": 23,
     "metadata": {},
     "output_type": "execute_result"
    }
   ],
   "source": [
    "len(result1.pvalues[result1.pvalues < 0.05])-1"
   ]
  },
  {
   "cell_type": "code",
   "execution_count": 37,
   "id": "9ca03a78",
   "metadata": {},
   "outputs": [
    {
     "data": {
      "text/plain": [
       "13"
      ]
     },
     "execution_count": 37,
     "metadata": {},
     "output_type": "execute_result"
    }
   ],
   "source": [
    "sum(result1.pvalues < 0.05) - 1"
   ]
  },
  {
   "cell_type": "markdown",
   "id": "b1cd15ec",
   "metadata": {},
   "source": [
    "# 문제 07 유형\n",
    "- DataSet_07.csv 이용"
   ]
  },
  {
   "cell_type": "code",
   "execution_count": 12,
   "id": "8be2dc59",
   "metadata": {},
   "outputs": [
    {
     "data": {
      "text/html": [
       "<div>\n",
       "<style scoped>\n",
       "    .dataframe tbody tr th:only-of-type {\n",
       "        vertical-align: middle;\n",
       "    }\n",
       "\n",
       "    .dataframe tbody tr th {\n",
       "        vertical-align: top;\n",
       "    }\n",
       "\n",
       "    .dataframe thead th {\n",
       "        text-align: right;\n",
       "    }\n",
       "</style>\n",
       "<table border=\"1\" class=\"dataframe\">\n",
       "  <thead>\n",
       "    <tr style=\"text-align: right;\">\n",
       "      <th></th>\n",
       "      <th>Serial_No</th>\n",
       "      <th>GRE</th>\n",
       "      <th>TOEFL</th>\n",
       "      <th>University_Rating</th>\n",
       "      <th>SOP</th>\n",
       "      <th>LOR</th>\n",
       "      <th>CGPA</th>\n",
       "      <th>Research</th>\n",
       "      <th>Chance_of_Admit</th>\n",
       "    </tr>\n",
       "  </thead>\n",
       "  <tbody>\n",
       "    <tr>\n",
       "      <th>0</th>\n",
       "      <td>1</td>\n",
       "      <td>337</td>\n",
       "      <td>118</td>\n",
       "      <td>4</td>\n",
       "      <td>4.5</td>\n",
       "      <td>4.5</td>\n",
       "      <td>9.65</td>\n",
       "      <td>1</td>\n",
       "      <td>0.92</td>\n",
       "    </tr>\n",
       "    <tr>\n",
       "      <th>1</th>\n",
       "      <td>2</td>\n",
       "      <td>324</td>\n",
       "      <td>107</td>\n",
       "      <td>4</td>\n",
       "      <td>4.0</td>\n",
       "      <td>4.5</td>\n",
       "      <td>8.87</td>\n",
       "      <td>1</td>\n",
       "      <td>0.76</td>\n",
       "    </tr>\n",
       "    <tr>\n",
       "      <th>2</th>\n",
       "      <td>3</td>\n",
       "      <td>316</td>\n",
       "      <td>104</td>\n",
       "      <td>3</td>\n",
       "      <td>3.0</td>\n",
       "      <td>3.5</td>\n",
       "      <td>8.00</td>\n",
       "      <td>1</td>\n",
       "      <td>0.72</td>\n",
       "    </tr>\n",
       "  </tbody>\n",
       "</table>\n",
       "</div>"
      ],
      "text/plain": [
       "   Serial_No  GRE  TOEFL  University_Rating  SOP  LOR  CGPA  Research  \\\n",
       "0          1  337    118                  4  4.5  4.5  9.65         1   \n",
       "1          2  324    107                  4  4.0  4.5  8.87         1   \n",
       "2          3  316    104                  3  3.0  3.5  8.00         1   \n",
       "\n",
       "   Chance_of_Admit  \n",
       "0             0.92  \n",
       "1             0.76  \n",
       "2             0.72  "
      ]
     },
     "execution_count": 12,
     "metadata": {},
     "output_type": "execute_result"
    }
   ],
   "source": [
    "import pandas as pd\n",
    "\n",
    "df2_orig = pd.read_csv('datasets/Dataset_07.csv', encoding='utf8')\n",
    "df2 = df2_orig.copy()\n",
    "\n",
    "df2.head(3)"
   ]
  },
  {
   "cell_type": "code",
   "execution_count": 13,
   "id": "583f8005",
   "metadata": {},
   "outputs": [
    {
     "name": "stdout",
     "output_type": "stream",
     "text": [
      "<class 'pandas.core.frame.DataFrame'>\n",
      "RangeIndex: 400 entries, 0 to 399\n",
      "Data columns (total 9 columns):\n",
      " #   Column             Non-Null Count  Dtype  \n",
      "---  ------             --------------  -----  \n",
      " 0   Serial_No          400 non-null    int64  \n",
      " 1   GRE                400 non-null    int64  \n",
      " 2   TOEFL              400 non-null    int64  \n",
      " 3   University_Rating  400 non-null    int64  \n",
      " 4   SOP                400 non-null    float64\n",
      " 5   LOR                400 non-null    float64\n",
      " 6   CGPA               400 non-null    float64\n",
      " 7   Research           400 non-null    int64  \n",
      " 8   Chance_of_Admit    400 non-null    float64\n",
      "dtypes: float64(4), int64(5)\n",
      "memory usage: 28.2 KB\n"
     ]
    }
   ],
   "source": [
    "df2.info()"
   ]
  },
  {
   "cell_type": "markdown",
   "id": "085cc7e1",
   "metadata": {},
   "source": [
    "## 1. 합격 가능성에 가장 영향이 큰 점수\n",
    "- GRE, TOEFL, CGPA\n",
    "- 피어슨 상관계수\n",
    "- Chance_of_Admit와의 가장 큰 상관계수를 소수점 넷째 자리에서 반올림하여 셋째 자리까지"
   ]
  },
  {
   "cell_type": "code",
   "execution_count": 25,
   "id": "e814785d",
   "metadata": {},
   "outputs": [],
   "source": [
    "corr2 = df2[['GRE', 'TOEFL', 'CGPA', 'Chance_of_Admit']].corr(method='pearson')"
   ]
  },
  {
   "cell_type": "code",
   "execution_count": 26,
   "id": "d5f4ca69",
   "metadata": {},
   "outputs": [
    {
     "data": {
      "text/html": [
       "<div>\n",
       "<style scoped>\n",
       "    .dataframe tbody tr th:only-of-type {\n",
       "        vertical-align: middle;\n",
       "    }\n",
       "\n",
       "    .dataframe tbody tr th {\n",
       "        vertical-align: top;\n",
       "    }\n",
       "\n",
       "    .dataframe thead th {\n",
       "        text-align: right;\n",
       "    }\n",
       "</style>\n",
       "<table border=\"1\" class=\"dataframe\">\n",
       "  <thead>\n",
       "    <tr style=\"text-align: right;\">\n",
       "      <th></th>\n",
       "      <th>GRE</th>\n",
       "      <th>TOEFL</th>\n",
       "      <th>CGPA</th>\n",
       "      <th>Chance_of_Admit</th>\n",
       "    </tr>\n",
       "  </thead>\n",
       "  <tbody>\n",
       "    <tr>\n",
       "      <th>GRE</th>\n",
       "      <td>1.000000</td>\n",
       "      <td>0.835977</td>\n",
       "      <td>0.833060</td>\n",
       "      <td>0.802610</td>\n",
       "    </tr>\n",
       "    <tr>\n",
       "      <th>TOEFL</th>\n",
       "      <td>0.835977</td>\n",
       "      <td>1.000000</td>\n",
       "      <td>0.828417</td>\n",
       "      <td>0.791594</td>\n",
       "    </tr>\n",
       "    <tr>\n",
       "      <th>CGPA</th>\n",
       "      <td>0.833060</td>\n",
       "      <td>0.828417</td>\n",
       "      <td>1.000000</td>\n",
       "      <td>0.873289</td>\n",
       "    </tr>\n",
       "    <tr>\n",
       "      <th>Chance_of_Admit</th>\n",
       "      <td>0.802610</td>\n",
       "      <td>0.791594</td>\n",
       "      <td>0.873289</td>\n",
       "      <td>1.000000</td>\n",
       "    </tr>\n",
       "  </tbody>\n",
       "</table>\n",
       "</div>"
      ],
      "text/plain": [
       "                      GRE     TOEFL      CGPA  Chance_of_Admit\n",
       "GRE              1.000000  0.835977  0.833060         0.802610\n",
       "TOEFL            0.835977  1.000000  0.828417         0.791594\n",
       "CGPA             0.833060  0.828417  1.000000         0.873289\n",
       "Chance_of_Admit  0.802610  0.791594  0.873289         1.000000"
      ]
     },
     "execution_count": 26,
     "metadata": {},
     "output_type": "execute_result"
    }
   ],
   "source": [
    "corr2"
   ]
  },
  {
   "cell_type": "code",
   "execution_count": 29,
   "id": "0185da9b",
   "metadata": {},
   "outputs": [
    {
     "data": {
      "text/plain": [
       "0.8732890993553003"
      ]
     },
     "execution_count": 29,
     "metadata": {},
     "output_type": "execute_result"
    }
   ],
   "source": [
    "corr2['Chance_of_Admit'][:-1].max()"
   ]
  },
  {
   "cell_type": "markdown",
   "id": "79129ac4",
   "metadata": {},
   "source": [
    "### 답\n",
    "0.873"
   ]
  },
  {
   "cell_type": "markdown",
   "id": "4111c714",
   "metadata": {},
   "source": [
    "## 2. GRE 점수의 평균 이상, 미만인 그룹의 CGPA 평균 차이 검정\n",
    "- 등분산 가정, 양측 검정\n",
    "- 검정통계량을 소수점 셋째 자리에서 반올림하여 소수점 둘째 자리까지"
   ]
  },
  {
   "cell_type": "code",
   "execution_count": 30,
   "id": "8cb7930d",
   "metadata": {},
   "outputs": [],
   "source": [
    "gre_mean = df2['GRE'].mean()"
   ]
  },
  {
   "cell_type": "code",
   "execution_count": 34,
   "id": "9e909ea1",
   "metadata": {},
   "outputs": [],
   "source": [
    "df2_ge = df2[df2['GRE'] >= gre_mean]['CGPA']\n",
    "df2_le = df2[df2['GRE'] < gre_mean]['CGPA']"
   ]
  },
  {
   "cell_type": "code",
   "execution_count": 39,
   "id": "b594b958",
   "metadata": {
    "scrolled": true
   },
   "outputs": [
    {
     "name": "stdout",
     "output_type": "stream",
     "text": [
      "검정통계량 : 19.4433, p-value : 0.0000\n"
     ]
    }
   ],
   "source": [
    "from scipy.stats import ttest_ind\n",
    "\n",
    "t, p = ttest_ind(df2_ge, df2_le, equal_var=True, alternative='two-sided')\n",
    "t, p\n",
    "print(f'검정통계량 : {t:.4f}, p-value : {p:.4f}')"
   ]
  },
  {
   "cell_type": "markdown",
   "id": "9d3ce866",
   "metadata": {},
   "source": [
    "### 답\n",
    "19.44"
   ]
  },
  {
   "cell_type": "markdown",
   "id": "ef4298ed",
   "metadata": {},
   "source": [
    "### 참고"
   ]
  },
  {
   "cell_type": "code",
   "execution_count": 60,
   "id": "b0469a43",
   "metadata": {},
   "outputs": [],
   "source": [
    "df2_add = df2_orig.copy()\n",
    "df2_add['GRE_gr'] = 'under'\n",
    "df2_add.loc[df2_add['GRE'] >= gre_mean, 'GRE_gr'] = 'over'"
   ]
  },
  {
   "cell_type": "code",
   "execution_count": 62,
   "id": "2728a4a9",
   "metadata": {},
   "outputs": [
    {
     "data": {
      "text/html": [
       "<div>\n",
       "<style scoped>\n",
       "    .dataframe tbody tr th:only-of-type {\n",
       "        vertical-align: middle;\n",
       "    }\n",
       "\n",
       "    .dataframe tbody tr th {\n",
       "        vertical-align: top;\n",
       "    }\n",
       "\n",
       "    .dataframe thead th {\n",
       "        text-align: right;\n",
       "    }\n",
       "</style>\n",
       "<table border=\"1\" class=\"dataframe\">\n",
       "  <thead>\n",
       "    <tr style=\"text-align: right;\">\n",
       "      <th></th>\n",
       "      <th>Serial_No</th>\n",
       "      <th>GRE</th>\n",
       "      <th>TOEFL</th>\n",
       "      <th>University_Rating</th>\n",
       "      <th>SOP</th>\n",
       "      <th>LOR</th>\n",
       "      <th>CGPA</th>\n",
       "      <th>Research</th>\n",
       "      <th>Chance_of_Admit</th>\n",
       "      <th>GRE_gr</th>\n",
       "    </tr>\n",
       "  </thead>\n",
       "  <tbody>\n",
       "    <tr>\n",
       "      <th>0</th>\n",
       "      <td>1</td>\n",
       "      <td>337</td>\n",
       "      <td>118</td>\n",
       "      <td>4</td>\n",
       "      <td>4.5</td>\n",
       "      <td>4.5</td>\n",
       "      <td>9.65</td>\n",
       "      <td>1</td>\n",
       "      <td>0.92</td>\n",
       "      <td>over</td>\n",
       "    </tr>\n",
       "    <tr>\n",
       "      <th>1</th>\n",
       "      <td>2</td>\n",
       "      <td>324</td>\n",
       "      <td>107</td>\n",
       "      <td>4</td>\n",
       "      <td>4.0</td>\n",
       "      <td>4.5</td>\n",
       "      <td>8.87</td>\n",
       "      <td>1</td>\n",
       "      <td>0.76</td>\n",
       "      <td>over</td>\n",
       "    </tr>\n",
       "    <tr>\n",
       "      <th>2</th>\n",
       "      <td>3</td>\n",
       "      <td>316</td>\n",
       "      <td>104</td>\n",
       "      <td>3</td>\n",
       "      <td>3.0</td>\n",
       "      <td>3.5</td>\n",
       "      <td>8.00</td>\n",
       "      <td>1</td>\n",
       "      <td>0.72</td>\n",
       "      <td>under</td>\n",
       "    </tr>\n",
       "  </tbody>\n",
       "</table>\n",
       "</div>"
      ],
      "text/plain": [
       "   Serial_No  GRE  TOEFL  University_Rating  SOP  LOR  CGPA  Research  \\\n",
       "0          1  337    118                  4  4.5  4.5  9.65         1   \n",
       "1          2  324    107                  4  4.0  4.5  8.87         1   \n",
       "2          3  316    104                  3  3.0  3.5  8.00         1   \n",
       "\n",
       "   Chance_of_Admit GRE_gr  \n",
       "0             0.92   over  \n",
       "1             0.76   over  \n",
       "2             0.72  under  "
      ]
     },
     "execution_count": 62,
     "metadata": {},
     "output_type": "execute_result"
    }
   ],
   "source": [
    "df2_add.head(3)"
   ]
  },
  {
   "cell_type": "markdown",
   "id": "3d3205e8",
   "metadata": {},
   "source": [
    "## 3. 로지스틱 회귀 분석\n",
    "- Chance_of_Admit > 0.5면 합격, 아니면 불합격\n",
    "- Serial_No, Label 제외\n",
    "- seed=123\n",
    "- 로지스틱 회귀계수 절댓값이 가장 큰 변수와 그 값을 기술\n",
    "- 반올림하여 소수점 둘째자리까지"
   ]
  },
  {
   "cell_type": "code",
   "execution_count": 40,
   "id": "b398e574",
   "metadata": {},
   "outputs": [
    {
     "data": {
      "text/html": [
       "<div>\n",
       "<style scoped>\n",
       "    .dataframe tbody tr th:only-of-type {\n",
       "        vertical-align: middle;\n",
       "    }\n",
       "\n",
       "    .dataframe tbody tr th {\n",
       "        vertical-align: top;\n",
       "    }\n",
       "\n",
       "    .dataframe thead th {\n",
       "        text-align: right;\n",
       "    }\n",
       "</style>\n",
       "<table border=\"1\" class=\"dataframe\">\n",
       "  <thead>\n",
       "    <tr style=\"text-align: right;\">\n",
       "      <th></th>\n",
       "      <th>Serial_No</th>\n",
       "      <th>GRE</th>\n",
       "      <th>TOEFL</th>\n",
       "      <th>University_Rating</th>\n",
       "      <th>SOP</th>\n",
       "      <th>LOR</th>\n",
       "      <th>CGPA</th>\n",
       "      <th>Research</th>\n",
       "      <th>Chance_of_Admit</th>\n",
       "      <th>Admit</th>\n",
       "    </tr>\n",
       "  </thead>\n",
       "  <tbody>\n",
       "    <tr>\n",
       "      <th>0</th>\n",
       "      <td>1</td>\n",
       "      <td>337</td>\n",
       "      <td>118</td>\n",
       "      <td>4</td>\n",
       "      <td>4.5</td>\n",
       "      <td>4.5</td>\n",
       "      <td>9.65</td>\n",
       "      <td>1</td>\n",
       "      <td>0.92</td>\n",
       "      <td>1</td>\n",
       "    </tr>\n",
       "    <tr>\n",
       "      <th>1</th>\n",
       "      <td>2</td>\n",
       "      <td>324</td>\n",
       "      <td>107</td>\n",
       "      <td>4</td>\n",
       "      <td>4.0</td>\n",
       "      <td>4.5</td>\n",
       "      <td>8.87</td>\n",
       "      <td>1</td>\n",
       "      <td>0.76</td>\n",
       "      <td>1</td>\n",
       "    </tr>\n",
       "    <tr>\n",
       "      <th>2</th>\n",
       "      <td>3</td>\n",
       "      <td>316</td>\n",
       "      <td>104</td>\n",
       "      <td>3</td>\n",
       "      <td>3.0</td>\n",
       "      <td>3.5</td>\n",
       "      <td>8.00</td>\n",
       "      <td>1</td>\n",
       "      <td>0.72</td>\n",
       "      <td>1</td>\n",
       "    </tr>\n",
       "  </tbody>\n",
       "</table>\n",
       "</div>"
      ],
      "text/plain": [
       "   Serial_No  GRE  TOEFL  University_Rating  SOP  LOR  CGPA  Research  \\\n",
       "0          1  337    118                  4  4.5  4.5  9.65         1   \n",
       "1          2  324    107                  4  4.0  4.5  8.87         1   \n",
       "2          3  316    104                  3  3.0  3.5  8.00         1   \n",
       "\n",
       "   Chance_of_Admit  Admit  \n",
       "0             0.92      1  \n",
       "1             0.76      1  \n",
       "2             0.72      1  "
      ]
     },
     "execution_count": 40,
     "metadata": {},
     "output_type": "execute_result"
    }
   ],
   "source": [
    "df2['Admit'] = df2['Chance_of_Admit'].apply(lambda x:1 if x > 0.5 else 0)\n",
    "df2.head(3)"
   ]
  },
  {
   "cell_type": "code",
   "execution_count": 41,
   "id": "45917d75",
   "metadata": {},
   "outputs": [],
   "source": [
    "X_features = df2.drop(columns=['Serial_No', 'Chance_of_Admit', 'Admit'])\n",
    "y_label = df2['Admit']"
   ]
  },
  {
   "cell_type": "code",
   "execution_count": 66,
   "id": "1abb3101",
   "metadata": {},
   "outputs": [
    {
     "name": "stderr",
     "output_type": "stream",
     "text": [
      "C:\\Users\\master\\anaconda3\\envs\\multi\\lib\\site-packages\\sklearn\\linear_model\\_logistic.py:765: ConvergenceWarning: lbfgs failed to converge (status=1):\n",
      "STOP: TOTAL NO. of ITERATIONS REACHED LIMIT.\n",
      "\n",
      "Increase the number of iterations (max_iter) or scale the data as shown in:\n",
      "    https://scikit-learn.org/stable/modules/preprocessing.html\n",
      "Please also refer to the documentation for alternative solver options:\n",
      "    https://scikit-learn.org/stable/modules/linear_model.html#logistic-regression\n",
      "  extra_warning_msg=_LOGISTIC_SOLVER_CONVERGENCE_MSG)\n"
     ]
    },
    {
     "data": {
      "text/plain": [
       "LogisticRegression(random_state=123)"
      ]
     },
     "execution_count": 66,
     "metadata": {},
     "output_type": "execute_result"
    }
   ],
   "source": [
    "from sklearn.linear_model import LogisticRegression\n",
    "\n",
    "lr_clf = LogisticRegression(random_state=123)\n",
    "lr_clf.fit(X_features, y_label)"
   ]
  },
  {
   "cell_type": "code",
   "execution_count": 67,
   "id": "8fc1213c",
   "metadata": {},
   "outputs": [],
   "source": [
    "coef_list = []\n",
    "for var, coef in zip(X_features.columns, lr_clf.coef_[0]):\n",
    "    coef_list.append((var, abs(coef)))\n",
    "\n",
    "coef_list.sort(key=lambda x:x[1], reverse=True)"
   ]
  },
  {
   "cell_type": "code",
   "execution_count": 68,
   "id": "04778651",
   "metadata": {},
   "outputs": [
    {
     "data": {
      "text/plain": [
       "[('CGPA', 2.1209474063809477),\n",
       " ('LOR', 1.0257030758582966),\n",
       " ('Research', 0.5135235309968297),\n",
       " ('SOP', 0.207305277499899),\n",
       " ('TOEFL', 0.10476061517172451),\n",
       " ('GRE', 0.0897434566374038),\n",
       " ('University_Rating', 0.0003943235267222636)]"
      ]
     },
     "execution_count": 68,
     "metadata": {},
     "output_type": "execute_result"
    }
   ],
   "source": [
    "coef_list"
   ]
  },
  {
   "cell_type": "code",
   "execution_count": 69,
   "id": "ea8728f4",
   "metadata": {},
   "outputs": [
    {
     "data": {
      "text/html": [
       "<div>\n",
       "<style scoped>\n",
       "    .dataframe tbody tr th:only-of-type {\n",
       "        vertical-align: middle;\n",
       "    }\n",
       "\n",
       "    .dataframe tbody tr th {\n",
       "        vertical-align: top;\n",
       "    }\n",
       "\n",
       "    .dataframe thead th {\n",
       "        text-align: right;\n",
       "    }\n",
       "</style>\n",
       "<table border=\"1\" class=\"dataframe\">\n",
       "  <thead>\n",
       "    <tr style=\"text-align: right;\">\n",
       "      <th></th>\n",
       "      <th>GRE</th>\n",
       "      <th>TOEFL</th>\n",
       "      <th>University_Rating</th>\n",
       "      <th>SOP</th>\n",
       "      <th>LOR</th>\n",
       "      <th>CGPA</th>\n",
       "      <th>Research</th>\n",
       "    </tr>\n",
       "  </thead>\n",
       "  <tbody>\n",
       "    <tr>\n",
       "      <th>0</th>\n",
       "      <td>-0.089743</td>\n",
       "      <td>0.104761</td>\n",
       "      <td>0.000394</td>\n",
       "      <td>-0.207305</td>\n",
       "      <td>1.025703</td>\n",
       "      <td>2.120947</td>\n",
       "      <td>0.513524</td>\n",
       "    </tr>\n",
       "  </tbody>\n",
       "</table>\n",
       "</div>"
      ],
      "text/plain": [
       "        GRE     TOEFL  University_Rating       SOP       LOR      CGPA  \\\n",
       "0 -0.089743  0.104761           0.000394 -0.207305  1.025703  2.120947   \n",
       "\n",
       "   Research  \n",
       "0  0.513524  "
      ]
     },
     "execution_count": 69,
     "metadata": {},
     "output_type": "execute_result"
    }
   ],
   "source": [
    "df2_coef = pd.DataFrame(lr_clf.coef_, columns=X_features.columns)\n",
    "df2_coef"
   ]
  },
  {
   "cell_type": "markdown",
   "id": "2fa77838",
   "metadata": {},
   "source": [
    "### 답\n",
    "CGPA, 2.12"
   ]
  },
  {
   "cell_type": "markdown",
   "id": "c3ea7a8a",
   "metadata": {},
   "source": [
    "### 참고"
   ]
  },
  {
   "cell_type": "code",
   "execution_count": null,
   "id": "446a1e6e",
   "metadata": {},
   "outputs": [],
   "source": [
    "df2['Admit'] = np.where(df2['Chance_of_Admit'] > 0.5, 1, 0)"
   ]
  },
  {
   "cell_type": "markdown",
   "id": "04a836c2",
   "metadata": {},
   "source": [
    "# 문제 08 유형\n",
    "- DataSet_08.csv 이용"
   ]
  },
  {
   "cell_type": "code",
   "execution_count": 58,
   "id": "3c2835f1",
   "metadata": {},
   "outputs": [
    {
     "data": {
      "text/html": [
       "<div>\n",
       "<style scoped>\n",
       "    .dataframe tbody tr th:only-of-type {\n",
       "        vertical-align: middle;\n",
       "    }\n",
       "\n",
       "    .dataframe tbody tr th {\n",
       "        vertical-align: top;\n",
       "    }\n",
       "\n",
       "    .dataframe thead th {\n",
       "        text-align: right;\n",
       "    }\n",
       "</style>\n",
       "<table border=\"1\" class=\"dataframe\">\n",
       "  <thead>\n",
       "    <tr style=\"text-align: right;\">\n",
       "      <th></th>\n",
       "      <th>RandD_Spend</th>\n",
       "      <th>Administration</th>\n",
       "      <th>Marketing_Spend</th>\n",
       "      <th>State</th>\n",
       "      <th>Profit</th>\n",
       "    </tr>\n",
       "  </thead>\n",
       "  <tbody>\n",
       "    <tr>\n",
       "      <th>0</th>\n",
       "      <td>165349.20</td>\n",
       "      <td>136897.80</td>\n",
       "      <td>471784.10</td>\n",
       "      <td>New York</td>\n",
       "      <td>192261.83</td>\n",
       "    </tr>\n",
       "    <tr>\n",
       "      <th>1</th>\n",
       "      <td>162597.70</td>\n",
       "      <td>151377.59</td>\n",
       "      <td>443898.53</td>\n",
       "      <td>California</td>\n",
       "      <td>191792.06</td>\n",
       "    </tr>\n",
       "    <tr>\n",
       "      <th>2</th>\n",
       "      <td>153441.51</td>\n",
       "      <td>101145.55</td>\n",
       "      <td>407934.54</td>\n",
       "      <td>Florida</td>\n",
       "      <td>191050.39</td>\n",
       "    </tr>\n",
       "  </tbody>\n",
       "</table>\n",
       "</div>"
      ],
      "text/plain": [
       "   RandD_Spend  Administration  Marketing_Spend       State     Profit\n",
       "0    165349.20       136897.80        471784.10    New York  192261.83\n",
       "1    162597.70       151377.59        443898.53  California  191792.06\n",
       "2    153441.51       101145.55        407934.54     Florida  191050.39"
      ]
     },
     "execution_count": 58,
     "metadata": {},
     "output_type": "execute_result"
    }
   ],
   "source": [
    "import pandas as pd\n",
    "\n",
    "df3_orig = pd.read_csv('datasets/Dataset_08.csv', encoding='utf8')\n",
    "df3 = df3_orig.copy()\n",
    "df3.head(3)"
   ]
  },
  {
   "cell_type": "code",
   "execution_count": 59,
   "id": "056530fa",
   "metadata": {},
   "outputs": [
    {
     "name": "stdout",
     "output_type": "stream",
     "text": [
      "<class 'pandas.core.frame.DataFrame'>\n",
      "RangeIndex: 50 entries, 0 to 49\n",
      "Data columns (total 5 columns):\n",
      " #   Column           Non-Null Count  Dtype  \n",
      "---  ------           --------------  -----  \n",
      " 0   RandD_Spend      50 non-null     float64\n",
      " 1   Administration   50 non-null     float64\n",
      " 2   Marketing_Spend  50 non-null     float64\n",
      " 3   State            50 non-null     object \n",
      " 4   Profit           50 non-null     float64\n",
      "dtypes: float64(4), object(1)\n",
      "memory usage: 2.1+ KB\n"
     ]
    }
   ],
   "source": [
    "df3.info()"
   ]
  },
  {
   "cell_type": "markdown",
   "id": "541cf7cb",
   "metadata": {},
   "source": [
    "## 1. 각 주(State)별 데이터 구성비\n",
    "- 알파벳 순으로 소수점 둘째 자리까지"
   ]
  },
  {
   "cell_type": "code",
   "execution_count": 72,
   "id": "ef903df0",
   "metadata": {},
   "outputs": [],
   "source": [
    "df3_pivot = pd.pivot_table(data=df3, index='State', aggfunc='count')"
   ]
  },
  {
   "cell_type": "code",
   "execution_count": 73,
   "id": "f0c83643",
   "metadata": {},
   "outputs": [
    {
     "data": {
      "text/html": [
       "<div>\n",
       "<style scoped>\n",
       "    .dataframe tbody tr th:only-of-type {\n",
       "        vertical-align: middle;\n",
       "    }\n",
       "\n",
       "    .dataframe tbody tr th {\n",
       "        vertical-align: top;\n",
       "    }\n",
       "\n",
       "    .dataframe thead th {\n",
       "        text-align: right;\n",
       "    }\n",
       "</style>\n",
       "<table border=\"1\" class=\"dataframe\">\n",
       "  <thead>\n",
       "    <tr style=\"text-align: right;\">\n",
       "      <th></th>\n",
       "      <th>Administration</th>\n",
       "      <th>Marketing_Spend</th>\n",
       "      <th>Profit</th>\n",
       "      <th>RandD_Spend</th>\n",
       "    </tr>\n",
       "    <tr>\n",
       "      <th>State</th>\n",
       "      <th></th>\n",
       "      <th></th>\n",
       "      <th></th>\n",
       "      <th></th>\n",
       "    </tr>\n",
       "  </thead>\n",
       "  <tbody>\n",
       "    <tr>\n",
       "      <th>California</th>\n",
       "      <td>17</td>\n",
       "      <td>17</td>\n",
       "      <td>17</td>\n",
       "      <td>17</td>\n",
       "    </tr>\n",
       "    <tr>\n",
       "      <th>Florida</th>\n",
       "      <td>16</td>\n",
       "      <td>16</td>\n",
       "      <td>16</td>\n",
       "      <td>16</td>\n",
       "    </tr>\n",
       "    <tr>\n",
       "      <th>New York</th>\n",
       "      <td>17</td>\n",
       "      <td>17</td>\n",
       "      <td>17</td>\n",
       "      <td>17</td>\n",
       "    </tr>\n",
       "  </tbody>\n",
       "</table>\n",
       "</div>"
      ],
      "text/plain": [
       "            Administration  Marketing_Spend  Profit  RandD_Spend\n",
       "State                                                           \n",
       "California              17               17      17           17\n",
       "Florida                 16               16      16           16\n",
       "New York                17               17      17           17"
      ]
     },
     "execution_count": 73,
     "metadata": {},
     "output_type": "execute_result"
    }
   ],
   "source": [
    "df3_pivot"
   ]
  },
  {
   "cell_type": "code",
   "execution_count": 74,
   "id": "57fb7567",
   "metadata": {},
   "outputs": [
    {
     "data": {
      "text/plain": [
       "State\n",
       "California    0.34\n",
       "Florida       0.32\n",
       "New York      0.34\n",
       "dtype: float64"
      ]
     },
     "execution_count": 74,
     "metadata": {},
     "output_type": "execute_result"
    }
   ],
   "source": [
    "df3_state = df3.groupby('State').size() / len(df3)\n",
    "df3_state"
   ]
  },
  {
   "cell_type": "markdown",
   "id": "edb495e6",
   "metadata": {},
   "source": [
    "### 답\n",
    "0.34, 0.32, 0.34"
   ]
  },
  {
   "cell_type": "markdown",
   "id": "3a3e598d",
   "metadata": {},
   "source": [
    "## 2. 주별 이익 평균과 큰 주와 작은 주의 차이\n",
    "- 소수점 이하는 버리고 정수 부분만"
   ]
  },
  {
   "cell_type": "code",
   "execution_count": 75,
   "id": "a38cab90",
   "metadata": {},
   "outputs": [],
   "source": [
    "df3_state_mean = df3.groupby('State').mean()"
   ]
  },
  {
   "cell_type": "code",
   "execution_count": 76,
   "id": "504c6571",
   "metadata": {},
   "outputs": [
    {
     "data": {
      "text/html": [
       "<div>\n",
       "<style scoped>\n",
       "    .dataframe tbody tr th:only-of-type {\n",
       "        vertical-align: middle;\n",
       "    }\n",
       "\n",
       "    .dataframe tbody tr th {\n",
       "        vertical-align: top;\n",
       "    }\n",
       "\n",
       "    .dataframe thead th {\n",
       "        text-align: right;\n",
       "    }\n",
       "</style>\n",
       "<table border=\"1\" class=\"dataframe\">\n",
       "  <thead>\n",
       "    <tr style=\"text-align: right;\">\n",
       "      <th></th>\n",
       "      <th>RandD_Spend</th>\n",
       "      <th>Administration</th>\n",
       "      <th>Marketing_Spend</th>\n",
       "      <th>Profit</th>\n",
       "    </tr>\n",
       "    <tr>\n",
       "      <th>State</th>\n",
       "      <th></th>\n",
       "      <th></th>\n",
       "      <th></th>\n",
       "      <th></th>\n",
       "    </tr>\n",
       "  </thead>\n",
       "  <tbody>\n",
       "    <tr>\n",
       "      <th>California</th>\n",
       "      <td>64657.674118</td>\n",
       "      <td>120746.507059</td>\n",
       "      <td>182540.929412</td>\n",
       "      <td>103905.175294</td>\n",
       "    </tr>\n",
       "    <tr>\n",
       "      <th>Florida</th>\n",
       "      <td>80724.016250</td>\n",
       "      <td>121768.897500</td>\n",
       "      <td>247323.551250</td>\n",
       "      <td>118774.024375</td>\n",
       "    </tr>\n",
       "    <tr>\n",
       "      <th>New York</th>\n",
       "      <td>76195.062353</td>\n",
       "      <td>121543.470588</td>\n",
       "      <td>205346.015882</td>\n",
       "      <td>113756.446471</td>\n",
       "    </tr>\n",
       "  </tbody>\n",
       "</table>\n",
       "</div>"
      ],
      "text/plain": [
       "             RandD_Spend  Administration  Marketing_Spend         Profit\n",
       "State                                                                   \n",
       "California  64657.674118   120746.507059    182540.929412  103905.175294\n",
       "Florida     80724.016250   121768.897500    247323.551250  118774.024375\n",
       "New York    76195.062353   121543.470588    205346.015882  113756.446471"
      ]
     },
     "execution_count": 76,
     "metadata": {},
     "output_type": "execute_result"
    }
   ],
   "source": [
    "df3_state_mean"
   ]
  },
  {
   "cell_type": "code",
   "execution_count": 77,
   "id": "6be71955",
   "metadata": {},
   "outputs": [
    {
     "data": {
      "text/plain": [
       "14868.84908088237"
      ]
     },
     "execution_count": 77,
     "metadata": {},
     "output_type": "execute_result"
    }
   ],
   "source": [
    "df3_state_mean['Profit'].max() - df3_state_mean['Profit'].min()"
   ]
  },
  {
   "cell_type": "markdown",
   "id": "6f95adcc",
   "metadata": {},
   "source": [
    "### 답\n",
    "14868"
   ]
  },
  {
   "cell_type": "markdown",
   "id": "276a96c7",
   "metadata": {},
   "source": [
    "## 3. Profit을 주별로 예측하는 회귀 모형\n",
    "- RandD_Spend, Administration, Marketing_Spend를 독립변수\n",
    "- 학습 오차 MAPE 기준 가장 낮은 오차를 보여주는 주와 그 값\n",
    "- 반올림하여 소수점 둘째 자리까지"
   ]
  },
  {
   "cell_type": "code",
   "execution_count": 90,
   "id": "055a2f81",
   "metadata": {},
   "outputs": [
    {
     "name": "stdout",
     "output_type": "stream",
     "text": [
      "New York MAPE : 8.524\n",
      "California MAPE : 15.228\n",
      "Florida MAPE : 5.707\n"
     ]
    }
   ],
   "source": [
    "from sklearn.linear_model import LinearRegression\n",
    "from sklearn.metrics import mean_absolute_percentage_error\n",
    "import numpy as np\n",
    "\n",
    "for state in df3['State'].unique():\n",
    "    X = df3[df3['State']==state].drop(columns=['State', 'Profit'])\n",
    "    y = df3[df3['State']==state]['Profit']\n",
    "    lr = LinearRegression()\n",
    "    lr.fit(X, y)\n",
    "    pred = lr.predict(X)\n",
    "    mape = mean_absolute_percentage_error(y, pred) * 100\n",
    "    print(state, 'MAPE :', np.round(mape, 3))"
   ]
  },
  {
   "cell_type": "markdown",
   "id": "6112a378",
   "metadata": {},
   "source": [
    "### 답\n",
    "California, 15.29"
   ]
  },
  {
   "cell_type": "markdown",
   "id": "9ac84011",
   "metadata": {},
   "source": [
    "# 문제 09 유형\n",
    "- DataSet_09.csv 이용"
   ]
  },
  {
   "cell_type": "code",
   "execution_count": 128,
   "id": "c5526825",
   "metadata": {},
   "outputs": [
    {
     "data": {
      "text/html": [
       "<div>\n",
       "<style scoped>\n",
       "    .dataframe tbody tr th:only-of-type {\n",
       "        vertical-align: middle;\n",
       "    }\n",
       "\n",
       "    .dataframe tbody tr th {\n",
       "        vertical-align: top;\n",
       "    }\n",
       "\n",
       "    .dataframe thead th {\n",
       "        text-align: right;\n",
       "    }\n",
       "</style>\n",
       "<table border=\"1\" class=\"dataframe\">\n",
       "  <thead>\n",
       "    <tr style=\"text-align: right;\">\n",
       "      <th></th>\n",
       "      <th>satisfaction</th>\n",
       "      <th>Gender</th>\n",
       "      <th>Age</th>\n",
       "      <th>Customer_Type</th>\n",
       "      <th>Class</th>\n",
       "      <th>Flight_Distance</th>\n",
       "      <th>Seat_comfort</th>\n",
       "      <th>Food_and_drink</th>\n",
       "      <th>Inflight_wifi_service</th>\n",
       "      <th>Inflight_entertainment</th>\n",
       "      <th>Onboard_service</th>\n",
       "      <th>Leg_room_service</th>\n",
       "      <th>Baggage_handling</th>\n",
       "      <th>Cleanliness</th>\n",
       "      <th>Departure_Delay_in_Minutes</th>\n",
       "      <th>Arrival_Delay_in_Minutes</th>\n",
       "    </tr>\n",
       "  </thead>\n",
       "  <tbody>\n",
       "    <tr>\n",
       "      <th>0</th>\n",
       "      <td>satisfied</td>\n",
       "      <td>Female</td>\n",
       "      <td>19.0</td>\n",
       "      <td>Loyal Customer</td>\n",
       "      <td>Eco</td>\n",
       "      <td>1981.0</td>\n",
       "      <td>4.0</td>\n",
       "      <td>4.0</td>\n",
       "      <td>1.0</td>\n",
       "      <td>4.0</td>\n",
       "      <td>4.0</td>\n",
       "      <td>4.0</td>\n",
       "      <td>4.0</td>\n",
       "      <td>4.0</td>\n",
       "      <td>3.0</td>\n",
       "      <td>28.0</td>\n",
       "    </tr>\n",
       "    <tr>\n",
       "      <th>1</th>\n",
       "      <td>dissatisfied</td>\n",
       "      <td>Female</td>\n",
       "      <td>64.0</td>\n",
       "      <td>Loyal Customer</td>\n",
       "      <td>Eco</td>\n",
       "      <td>2847.0</td>\n",
       "      <td>1.0</td>\n",
       "      <td>1.0</td>\n",
       "      <td>1.0</td>\n",
       "      <td>2.0</td>\n",
       "      <td>5.0</td>\n",
       "      <td>3.0</td>\n",
       "      <td>4.0</td>\n",
       "      <td>4.0</td>\n",
       "      <td>111.0</td>\n",
       "      <td>133.0</td>\n",
       "    </tr>\n",
       "    <tr>\n",
       "      <th>2</th>\n",
       "      <td>dissatisfied</td>\n",
       "      <td>Male</td>\n",
       "      <td>55.0</td>\n",
       "      <td>Loyal Customer</td>\n",
       "      <td>Eco</td>\n",
       "      <td>3790.0</td>\n",
       "      <td>1.0</td>\n",
       "      <td>1.0</td>\n",
       "      <td>2.0</td>\n",
       "      <td>1.0</td>\n",
       "      <td>4.0</td>\n",
       "      <td>4.0</td>\n",
       "      <td>4.0</td>\n",
       "      <td>4.0</td>\n",
       "      <td>2.0</td>\n",
       "      <td>15.0</td>\n",
       "    </tr>\n",
       "  </tbody>\n",
       "</table>\n",
       "</div>"
      ],
      "text/plain": [
       "   satisfaction  Gender   Age   Customer_Type Class  Flight_Distance  \\\n",
       "0     satisfied  Female  19.0  Loyal Customer   Eco           1981.0   \n",
       "1  dissatisfied  Female  64.0  Loyal Customer   Eco           2847.0   \n",
       "2  dissatisfied    Male  55.0  Loyal Customer   Eco           3790.0   \n",
       "\n",
       "   Seat_comfort  Food_and_drink  Inflight_wifi_service  \\\n",
       "0           4.0             4.0                    1.0   \n",
       "1           1.0             1.0                    1.0   \n",
       "2           1.0             1.0                    2.0   \n",
       "\n",
       "   Inflight_entertainment  Onboard_service  Leg_room_service  \\\n",
       "0                     4.0              4.0               4.0   \n",
       "1                     2.0              5.0               3.0   \n",
       "2                     1.0              4.0               4.0   \n",
       "\n",
       "   Baggage_handling  Cleanliness  Departure_Delay_in_Minutes  \\\n",
       "0               4.0          4.0                         3.0   \n",
       "1               4.0          4.0                       111.0   \n",
       "2               4.0          4.0                         2.0   \n",
       "\n",
       "   Arrival_Delay_in_Minutes  \n",
       "0                      28.0  \n",
       "1                     133.0  \n",
       "2                      15.0  "
      ]
     },
     "execution_count": 128,
     "metadata": {},
     "output_type": "execute_result"
    }
   ],
   "source": [
    "df4 = pd.read_csv('datasets/Dataset_09.csv', encoding='utf8')\n",
    "df4.head(3)"
   ]
  },
  {
   "cell_type": "markdown",
   "id": "7db4fd9d",
   "metadata": {},
   "source": [
    "## 1. 결측값 개수"
   ]
  },
  {
   "cell_type": "code",
   "execution_count": 129,
   "id": "d80ef7d8",
   "metadata": {},
   "outputs": [
    {
     "name": "stdout",
     "output_type": "stream",
     "text": [
      "<class 'pandas.core.frame.DataFrame'>\n",
      "RangeIndex: 2000 entries, 0 to 1999\n",
      "Data columns (total 16 columns):\n",
      " #   Column                      Non-Null Count  Dtype  \n",
      "---  ------                      --------------  -----  \n",
      " 0   satisfaction                2000 non-null   object \n",
      " 1   Gender                      2000 non-null   object \n",
      " 2   Age                         2000 non-null   float64\n",
      " 3   Customer_Type               2000 non-null   object \n",
      " 4   Class                       2000 non-null   object \n",
      " 5   Flight_Distance             2000 non-null   float64\n",
      " 6   Seat_comfort                2000 non-null   float64\n",
      " 7   Food_and_drink              2000 non-null   float64\n",
      " 8   Inflight_wifi_service       2000 non-null   float64\n",
      " 9   Inflight_entertainment      2000 non-null   float64\n",
      " 10  Onboard_service             2000 non-null   float64\n",
      " 11  Leg_room_service            2000 non-null   float64\n",
      " 12  Baggage_handling            2000 non-null   float64\n",
      " 13  Cleanliness                 2000 non-null   float64\n",
      " 14  Departure_Delay_in_Minutes  2000 non-null   float64\n",
      " 15  Arrival_Delay_in_Minutes    1995 non-null   float64\n",
      "dtypes: float64(12), object(4)\n",
      "memory usage: 250.1+ KB\n"
     ]
    }
   ],
   "source": [
    "import numpy as np\n",
    "\n",
    "df4.info()"
   ]
  },
  {
   "cell_type": "code",
   "execution_count": 130,
   "id": "7be8287e",
   "metadata": {},
   "outputs": [
    {
     "data": {
      "text/plain": [
       "satisfaction                  0\n",
       "Gender                        0\n",
       "Age                           0\n",
       "Customer_Type                 0\n",
       "Class                         0\n",
       "Flight_Distance               0\n",
       "Seat_comfort                  0\n",
       "Food_and_drink                0\n",
       "Inflight_wifi_service         0\n",
       "Inflight_entertainment        0\n",
       "Onboard_service               0\n",
       "Leg_room_service              0\n",
       "Baggage_handling              0\n",
       "Cleanliness                   0\n",
       "Departure_Delay_in_Minutes    0\n",
       "Arrival_Delay_in_Minutes      5\n",
       "dtype: int64"
      ]
     },
     "execution_count": 130,
     "metadata": {},
     "output_type": "execute_result"
    }
   ],
   "source": [
    "df4.isna().sum()"
   ]
  },
  {
   "cell_type": "markdown",
   "id": "76f3e0ad",
   "metadata": {},
   "source": [
    "### 답\n",
    "5"
   ]
  },
  {
   "cell_type": "markdown",
   "id": "bd9ca1fd",
   "metadata": {},
   "source": [
    "## 2. 카이제곱 독립성 검정\n",
    "- 결측값 제거\n",
    "- Age_gr 파생변수 생성(10, 20, 30, 40, 50, 60)\n",
    "- Age_gr, Gender, Customer_Type, Class가 satisfaction에 영향이 있는지\n",
    "- 연관성이 있는 변수의 검정통계량을 정수 부분만"
   ]
  },
  {
   "cell_type": "code",
   "execution_count": 131,
   "id": "b00f9dc5",
   "metadata": {},
   "outputs": [],
   "source": [
    "df4_dropna = df4.dropna()"
   ]
  },
  {
   "cell_type": "code",
   "execution_count": 132,
   "id": "aabf94bb",
   "metadata": {},
   "outputs": [],
   "source": [
    "def age_gr(age):\n",
    "    if age <=20:\n",
    "        return 10\n",
    "    elif age <= 30:\n",
    "        return 20\n",
    "    elif age <= 40:\n",
    "        return 30\n",
    "    elif age <= 50:\n",
    "        return 40\n",
    "    elif age <= 60:\n",
    "        return 50\n",
    "    else:\n",
    "        return 60"
   ]
  },
  {
   "cell_type": "code",
   "execution_count": 134,
   "id": "a200e701",
   "metadata": {},
   "outputs": [
    {
     "name": "stdout",
     "output_type": "stream",
     "text": [
      "Age_gr의 검정통계량 : 34.3, p-value : 1.000\n",
      "Gender의 검정통계량 : 16045.8, p-value : 0.000\n",
      "Customer_Type의 검정통계량 : 15.1, p-value : 0.984\n",
      "Class의 검정통계량 : 4.7, p-value : 1.000\n"
     ]
    },
    {
     "name": "stderr",
     "output_type": "stream",
     "text": [
      "C:\\Users\\master\\anaconda3\\envs\\multi\\lib\\site-packages\\ipykernel_launcher.py:3: SettingWithCopyWarning: \n",
      "A value is trying to be set on a copy of a slice from a DataFrame.\n",
      "Try using .loc[row_indexer,col_indexer] = value instead\n",
      "\n",
      "See the caveats in the documentation: https://pandas.pydata.org/pandas-docs/stable/user_guide/indexing.html#returning-a-view-versus-a-copy\n",
      "  This is separate from the ipykernel package so we can avoid doing imports until\n"
     ]
    }
   ],
   "source": [
    "from scipy.stats import chi2_contingency\n",
    "\n",
    "df4_dropna['Age_gr'] = df4_dropna['Age'].apply(lambda x:age_gr(x))\n",
    "\n",
    "var_list = ['Age_gr', 'Gender', 'Customer_Type', 'Class']\n",
    "\n",
    "for var in var_list:\n",
    "    pt = pd.pivot_table(data=df4_dropna, index=var, columns='satisfaction',\n",
    "                       aggfunc='count')\n",
    "    chi2, p, _, _ = chi2_contingency(pt)\n",
    "    print(f'{var}의 검정통계량 : {chi2:.1f}, p-value : {p:.3f}')"
   ]
  },
  {
   "cell_type": "markdown",
   "id": "1dfca70c",
   "metadata": {},
   "source": [
    "### 답\n",
    "16045"
   ]
  },
  {
   "cell_type": "markdown",
   "id": "ee7a4f0e",
   "metadata": {},
   "source": [
    "## 3. 로지스틱 회귀 분석\n",
    "- 결측치 제거\n",
    "- train:test = 7:3, seed=123\n",
    "- Flight_Distance, Seat_comfort, Food_and_drink, Inflight_wifi_service, \n",
    "  Inflight_entertainment,Onboard_service, Leg_room_service, Baggage_handling,\n",
    "  Cleanliness, Departure_Delay_in_Minutes, Arrival_Delay_in_Minutes\n",
    "- 고객만족도를 label\n",
    "- seed=123\n",
    "- 예측 정확도 측정, dissatisfied의 f1 score를 소수점 넷째 자리에서 반올림하여 셋째 자리까지"
   ]
  },
  {
   "cell_type": "code",
   "execution_count": 136,
   "id": "0d32907b",
   "metadata": {},
   "outputs": [],
   "source": [
    "X = df4_dropna[['Flight_Distance', 'Seat_comfort', 'Food_and_drink', \n",
    "                'Inflight_wifi_service', 'Inflight_entertainment',\n",
    "                'Onboard_service', 'Leg_room_service', 'Baggage_handling', \n",
    "                'Cleanliness', 'Departure_Delay_in_Minutes', \n",
    "                'Arrival_Delay_in_Minutes']]\n",
    "y = df4_dropna['satisfaction']"
   ]
  },
  {
   "cell_type": "code",
   "execution_count": 138,
   "id": "86b1ce16",
   "metadata": {},
   "outputs": [
    {
     "name": "stdout",
     "output_type": "stream",
     "text": [
      "0.7302752293577981\n"
     ]
    },
    {
     "name": "stderr",
     "output_type": "stream",
     "text": [
      "C:\\Users\\master\\anaconda3\\envs\\multi\\lib\\site-packages\\sklearn\\linear_model\\_logistic.py:765: ConvergenceWarning: lbfgs failed to converge (status=1):\n",
      "STOP: TOTAL NO. of ITERATIONS REACHED LIMIT.\n",
      "\n",
      "Increase the number of iterations (max_iter) or scale the data as shown in:\n",
      "    https://scikit-learn.org/stable/modules/preprocessing.html\n",
      "Please also refer to the documentation for alternative solver options:\n",
      "    https://scikit-learn.org/stable/modules/linear_model.html#logistic-regression\n",
      "  extra_warning_msg=_LOGISTIC_SOLVER_CONVERGENCE_MSG)\n"
     ]
    }
   ],
   "source": [
    "from sklearn.linear_model import LogisticRegression\n",
    "from sklearn.model_selection import train_test_split\n",
    "from sklearn.metrics import f1_score\n",
    "\n",
    "X_train, X_test, y_train, y_test = train_test_split(X, y, random_state=123)\n",
    "\n",
    "lr_clf = LogisticRegression(random_state=123)\n",
    "lr_clf.fit(X_train, y_train)\n",
    "\n",
    "pred = lr_clf.predict(X_test)\n",
    "f1 = f1_score(y_test, pred, pos_label='dissatisfied')\n",
    "print(f1)"
   ]
  },
  {
   "cell_type": "markdown",
   "id": "646963fc",
   "metadata": {},
   "source": [
    "### 답\n",
    "0.730"
   ]
  },
  {
   "cell_type": "markdown",
   "id": "6eae4747",
   "metadata": {},
   "source": [
    "# 문제 10 유형\n",
    "- DataSet_10.csv 이용"
   ]
  },
  {
   "cell_type": "code",
   "execution_count": 111,
   "id": "247108c3",
   "metadata": {},
   "outputs": [
    {
     "data": {
      "text/html": [
       "<div>\n",
       "<style scoped>\n",
       "    .dataframe tbody tr th:only-of-type {\n",
       "        vertical-align: middle;\n",
       "    }\n",
       "\n",
       "    .dataframe tbody tr th {\n",
       "        vertical-align: top;\n",
       "    }\n",
       "\n",
       "    .dataframe thead th {\n",
       "        text-align: right;\n",
       "    }\n",
       "</style>\n",
       "<table border=\"1\" class=\"dataframe\">\n",
       "  <thead>\n",
       "    <tr style=\"text-align: right;\">\n",
       "      <th></th>\n",
       "      <th>model</th>\n",
       "      <th>engine_power</th>\n",
       "      <th>age_in_days</th>\n",
       "      <th>km</th>\n",
       "      <th>previous_owners</th>\n",
       "      <th>price</th>\n",
       "    </tr>\n",
       "  </thead>\n",
       "  <tbody>\n",
       "    <tr>\n",
       "      <th>0</th>\n",
       "      <td>lounge</td>\n",
       "      <td>51</td>\n",
       "      <td>882</td>\n",
       "      <td>25000</td>\n",
       "      <td>1</td>\n",
       "      <td>8900</td>\n",
       "    </tr>\n",
       "    <tr>\n",
       "      <th>1</th>\n",
       "      <td>pop</td>\n",
       "      <td>51</td>\n",
       "      <td>1186</td>\n",
       "      <td>32500</td>\n",
       "      <td>1</td>\n",
       "      <td>8800</td>\n",
       "    </tr>\n",
       "    <tr>\n",
       "      <th>2</th>\n",
       "      <td>sport</td>\n",
       "      <td>74</td>\n",
       "      <td>4658</td>\n",
       "      <td>142228</td>\n",
       "      <td>1</td>\n",
       "      <td>4200</td>\n",
       "    </tr>\n",
       "  </tbody>\n",
       "</table>\n",
       "</div>"
      ],
      "text/plain": [
       "    model  engine_power  age_in_days      km  previous_owners  price\n",
       "0  lounge            51          882   25000                1   8900\n",
       "1     pop            51         1186   32500                1   8800\n",
       "2   sport            74         4658  142228                1   4200"
      ]
     },
     "execution_count": 111,
     "metadata": {},
     "output_type": "execute_result"
    }
   ],
   "source": [
    "df5_orig = pd.read_csv('datasets/Dataset_10.csv', encoding='utf8')\n",
    "df5 = df5_orig.iloc[:, :6]\n",
    "df5.head(3)"
   ]
  },
  {
   "cell_type": "markdown",
   "id": "d218f6e0",
   "metadata": {},
   "source": [
    "### 참고"
   ]
  },
  {
   "cell_type": "code",
   "execution_count": 112,
   "id": "8680a191",
   "metadata": {},
   "outputs": [
    {
     "data": {
      "text/html": [
       "<div>\n",
       "<style scoped>\n",
       "    .dataframe tbody tr th:only-of-type {\n",
       "        vertical-align: middle;\n",
       "    }\n",
       "\n",
       "    .dataframe tbody tr th {\n",
       "        vertical-align: top;\n",
       "    }\n",
       "\n",
       "    .dataframe thead th {\n",
       "        text-align: right;\n",
       "    }\n",
       "</style>\n",
       "<table border=\"1\" class=\"dataframe\">\n",
       "  <thead>\n",
       "    <tr style=\"text-align: right;\">\n",
       "      <th></th>\n",
       "      <th>model</th>\n",
       "      <th>engine_power</th>\n",
       "      <th>age_in_days</th>\n",
       "      <th>km</th>\n",
       "      <th>previous_owners</th>\n",
       "      <th>price</th>\n",
       "    </tr>\n",
       "  </thead>\n",
       "  <tbody>\n",
       "    <tr>\n",
       "      <th>0</th>\n",
       "      <td>lounge</td>\n",
       "      <td>51</td>\n",
       "      <td>882</td>\n",
       "      <td>25000</td>\n",
       "      <td>1</td>\n",
       "      <td>8900</td>\n",
       "    </tr>\n",
       "    <tr>\n",
       "      <th>1</th>\n",
       "      <td>pop</td>\n",
       "      <td>51</td>\n",
       "      <td>1186</td>\n",
       "      <td>32500</td>\n",
       "      <td>1</td>\n",
       "      <td>8800</td>\n",
       "    </tr>\n",
       "    <tr>\n",
       "      <th>2</th>\n",
       "      <td>sport</td>\n",
       "      <td>74</td>\n",
       "      <td>4658</td>\n",
       "      <td>142228</td>\n",
       "      <td>1</td>\n",
       "      <td>4200</td>\n",
       "    </tr>\n",
       "  </tbody>\n",
       "</table>\n",
       "</div>"
      ],
      "text/plain": [
       "    model  engine_power  age_in_days      km  previous_owners  price\n",
       "0  lounge            51          882   25000                1   8900\n",
       "1     pop            51         1186   32500                1   8800\n",
       "2   sport            74         4658  142228                1   4200"
      ]
     },
     "execution_count": 112,
     "metadata": {},
     "output_type": "execute_result"
    }
   ],
   "source": [
    "df5_dropna = df5_orig.dropna(axis=1, how='all')\n",
    "df5_dropna.head(3)"
   ]
  },
  {
   "cell_type": "markdown",
   "id": "f774d987",
   "metadata": {},
   "source": [
    "## 1. 모델별 하루 평균 운행 거리 산출\n",
    "- 소유자가 1, 엔진파워가 51인 차\n",
    "- 가장 낮은 값 / 가장 큰 값 비율을 반올림하여 소수점 둘째자리까지\n",
    "- 모델별 평균 > 일평균 > 최대최소 비율 계산 순으로 "
   ]
  },
  {
   "cell_type": "code",
   "execution_count": 113,
   "id": "67d7ef3d",
   "metadata": {},
   "outputs": [
    {
     "data": {
      "text/html": [
       "<div>\n",
       "<style scoped>\n",
       "    .dataframe tbody tr th:only-of-type {\n",
       "        vertical-align: middle;\n",
       "    }\n",
       "\n",
       "    .dataframe tbody tr th {\n",
       "        vertical-align: top;\n",
       "    }\n",
       "\n",
       "    .dataframe thead th {\n",
       "        text-align: right;\n",
       "    }\n",
       "</style>\n",
       "<table border=\"1\" class=\"dataframe\">\n",
       "  <thead>\n",
       "    <tr style=\"text-align: right;\">\n",
       "      <th></th>\n",
       "      <th>model</th>\n",
       "      <th>engine_power</th>\n",
       "      <th>age_in_days</th>\n",
       "      <th>km</th>\n",
       "      <th>previous_owners</th>\n",
       "      <th>price</th>\n",
       "    </tr>\n",
       "  </thead>\n",
       "  <tbody>\n",
       "    <tr>\n",
       "      <th>0</th>\n",
       "      <td>lounge</td>\n",
       "      <td>51</td>\n",
       "      <td>882</td>\n",
       "      <td>25000</td>\n",
       "      <td>1</td>\n",
       "      <td>8900</td>\n",
       "    </tr>\n",
       "    <tr>\n",
       "      <th>1</th>\n",
       "      <td>pop</td>\n",
       "      <td>51</td>\n",
       "      <td>1186</td>\n",
       "      <td>32500</td>\n",
       "      <td>1</td>\n",
       "      <td>8800</td>\n",
       "    </tr>\n",
       "    <tr>\n",
       "      <th>3</th>\n",
       "      <td>lounge</td>\n",
       "      <td>51</td>\n",
       "      <td>2739</td>\n",
       "      <td>160000</td>\n",
       "      <td>1</td>\n",
       "      <td>6000</td>\n",
       "    </tr>\n",
       "  </tbody>\n",
       "</table>\n",
       "</div>"
      ],
      "text/plain": [
       "    model  engine_power  age_in_days      km  previous_owners  price\n",
       "0  lounge            51          882   25000                1   8900\n",
       "1     pop            51         1186   32500                1   8800\n",
       "3  lounge            51         2739  160000                1   6000"
      ]
     },
     "execution_count": 113,
     "metadata": {},
     "output_type": "execute_result"
    }
   ],
   "source": [
    "df5_daily = df5[(df5['previous_owners'] == 1) & (df5['engine_power']==51)]\n",
    "df5_daily.head(3)"
   ]
  },
  {
   "cell_type": "code",
   "execution_count": 114,
   "id": "366dddb5",
   "metadata": {},
   "outputs": [
    {
     "data": {
      "text/html": [
       "<div>\n",
       "<style scoped>\n",
       "    .dataframe tbody tr th:only-of-type {\n",
       "        vertical-align: middle;\n",
       "    }\n",
       "\n",
       "    .dataframe tbody tr th {\n",
       "        vertical-align: top;\n",
       "    }\n",
       "\n",
       "    .dataframe thead th {\n",
       "        text-align: right;\n",
       "    }\n",
       "</style>\n",
       "<table border=\"1\" class=\"dataframe\">\n",
       "  <thead>\n",
       "    <tr style=\"text-align: right;\">\n",
       "      <th></th>\n",
       "      <th>engine_power</th>\n",
       "      <th>age_in_days</th>\n",
       "      <th>km</th>\n",
       "      <th>previous_owners</th>\n",
       "      <th>price</th>\n",
       "    </tr>\n",
       "    <tr>\n",
       "      <th>model</th>\n",
       "      <th></th>\n",
       "      <th></th>\n",
       "      <th></th>\n",
       "      <th></th>\n",
       "      <th></th>\n",
       "    </tr>\n",
       "  </thead>\n",
       "  <tbody>\n",
       "    <tr>\n",
       "      <th>lounge</th>\n",
       "      <td>51.0</td>\n",
       "      <td>1343.450366</td>\n",
       "      <td>44123.670846</td>\n",
       "      <td>1.0</td>\n",
       "      <td>9072.819227</td>\n",
       "    </tr>\n",
       "    <tr>\n",
       "      <th>pop</th>\n",
       "      <td>51.0</td>\n",
       "      <td>1800.509804</td>\n",
       "      <td>58097.532680</td>\n",
       "      <td>1.0</td>\n",
       "      <td>8118.091503</td>\n",
       "    </tr>\n",
       "    <tr>\n",
       "      <th>sport</th>\n",
       "      <td>51.0</td>\n",
       "      <td>3031.387755</td>\n",
       "      <td>96460.979592</td>\n",
       "      <td>1.0</td>\n",
       "      <td>6719.959184</td>\n",
       "    </tr>\n",
       "  </tbody>\n",
       "</table>\n",
       "</div>"
      ],
      "text/plain": [
       "        engine_power  age_in_days            km  previous_owners        price\n",
       "model                                                                        \n",
       "lounge          51.0  1343.450366  44123.670846              1.0  9072.819227\n",
       "pop             51.0  1800.509804  58097.532680              1.0  8118.091503\n",
       "sport           51.0  3031.387755  96460.979592              1.0  6719.959184"
      ]
     },
     "execution_count": 114,
     "metadata": {},
     "output_type": "execute_result"
    }
   ],
   "source": [
    "df5_daily = df5_daily.groupby('model').mean()\n",
    "df5_daily"
   ]
  },
  {
   "cell_type": "code",
   "execution_count": 115,
   "id": "388f8b5a",
   "metadata": {},
   "outputs": [
    {
     "data": {
      "text/html": [
       "<div>\n",
       "<style scoped>\n",
       "    .dataframe tbody tr th:only-of-type {\n",
       "        vertical-align: middle;\n",
       "    }\n",
       "\n",
       "    .dataframe tbody tr th {\n",
       "        vertical-align: top;\n",
       "    }\n",
       "\n",
       "    .dataframe thead th {\n",
       "        text-align: right;\n",
       "    }\n",
       "</style>\n",
       "<table border=\"1\" class=\"dataframe\">\n",
       "  <thead>\n",
       "    <tr style=\"text-align: right;\">\n",
       "      <th></th>\n",
       "      <th>engine_power</th>\n",
       "      <th>age_in_days</th>\n",
       "      <th>km</th>\n",
       "      <th>previous_owners</th>\n",
       "      <th>price</th>\n",
       "      <th>daily_average</th>\n",
       "    </tr>\n",
       "    <tr>\n",
       "      <th>model</th>\n",
       "      <th></th>\n",
       "      <th></th>\n",
       "      <th></th>\n",
       "      <th></th>\n",
       "      <th></th>\n",
       "      <th></th>\n",
       "    </tr>\n",
       "  </thead>\n",
       "  <tbody>\n",
       "    <tr>\n",
       "      <th>lounge</th>\n",
       "      <td>51.0</td>\n",
       "      <td>1343.450366</td>\n",
       "      <td>44123.670846</td>\n",
       "      <td>1.0</td>\n",
       "      <td>9072.819227</td>\n",
       "      <td>32.843544</td>\n",
       "    </tr>\n",
       "    <tr>\n",
       "      <th>pop</th>\n",
       "      <td>51.0</td>\n",
       "      <td>1800.509804</td>\n",
       "      <td>58097.532680</td>\n",
       "      <td>1.0</td>\n",
       "      <td>8118.091503</td>\n",
       "      <td>32.267268</td>\n",
       "    </tr>\n",
       "    <tr>\n",
       "      <th>sport</th>\n",
       "      <td>51.0</td>\n",
       "      <td>3031.387755</td>\n",
       "      <td>96460.979592</td>\n",
       "      <td>1.0</td>\n",
       "      <td>6719.959184</td>\n",
       "      <td>31.820733</td>\n",
       "    </tr>\n",
       "  </tbody>\n",
       "</table>\n",
       "</div>"
      ],
      "text/plain": [
       "        engine_power  age_in_days            km  previous_owners        price  \\\n",
       "model                                                                           \n",
       "lounge          51.0  1343.450366  44123.670846              1.0  9072.819227   \n",
       "pop             51.0  1800.509804  58097.532680              1.0  8118.091503   \n",
       "sport           51.0  3031.387755  96460.979592              1.0  6719.959184   \n",
       "\n",
       "        daily_average  \n",
       "model                  \n",
       "lounge      32.843544  \n",
       "pop         32.267268  \n",
       "sport       31.820733  "
      ]
     },
     "execution_count": 115,
     "metadata": {},
     "output_type": "execute_result"
    }
   ],
   "source": [
    "df5_daily['daily_average'] = df5_daily['km'] / df5_daily['age_in_days']\n",
    "df5_daily"
   ]
  },
  {
   "cell_type": "code",
   "execution_count": 116,
   "id": "c0e5416e",
   "metadata": {},
   "outputs": [
    {
     "name": "stdout",
     "output_type": "stream",
     "text": [
      "0.9688580804724013\n"
     ]
    }
   ],
   "source": [
    "df5_ratio = df5_daily['daily_average'].min() / df5_daily['daily_average'].max()\n",
    "print(df5_ratio)"
   ]
  },
  {
   "cell_type": "markdown",
   "id": "b2b1a8fa",
   "metadata": {},
   "source": [
    "### 답\n",
    "0.97"
   ]
  },
  {
   "cell_type": "markdown",
   "id": "049fdcf8",
   "metadata": {},
   "source": [
    "### 참고"
   ]
  },
  {
   "cell_type": "code",
   "execution_count": 119,
   "id": "d61f67d4",
   "metadata": {},
   "outputs": [
    {
     "data": {
      "text/html": [
       "<div>\n",
       "<style scoped>\n",
       "    .dataframe tbody tr th:only-of-type {\n",
       "        vertical-align: middle;\n",
       "    }\n",
       "\n",
       "    .dataframe tbody tr th {\n",
       "        vertical-align: top;\n",
       "    }\n",
       "\n",
       "    .dataframe thead th {\n",
       "        text-align: right;\n",
       "    }\n",
       "</style>\n",
       "<table border=\"1\" class=\"dataframe\">\n",
       "  <thead>\n",
       "    <tr style=\"text-align: right;\">\n",
       "      <th></th>\n",
       "      <th>age_in_days</th>\n",
       "      <th>km</th>\n",
       "    </tr>\n",
       "    <tr>\n",
       "      <th>model</th>\n",
       "      <th></th>\n",
       "      <th></th>\n",
       "    </tr>\n",
       "  </thead>\n",
       "  <tbody>\n",
       "    <tr>\n",
       "      <th>lounge</th>\n",
       "      <td>1343.450366</td>\n",
       "      <td>44123.670846</td>\n",
       "    </tr>\n",
       "    <tr>\n",
       "      <th>pop</th>\n",
       "      <td>1800.509804</td>\n",
       "      <td>58097.532680</td>\n",
       "    </tr>\n",
       "    <tr>\n",
       "      <th>sport</th>\n",
       "      <td>3031.387755</td>\n",
       "      <td>96460.979592</td>\n",
       "    </tr>\n",
       "  </tbody>\n",
       "</table>\n",
       "</div>"
      ],
      "text/plain": [
       "        age_in_days            km\n",
       "model                            \n",
       "lounge  1343.450366  44123.670846\n",
       "pop     1800.509804  58097.532680\n",
       "sport   3031.387755  96460.979592"
      ]
     },
     "execution_count": 119,
     "metadata": {},
     "output_type": "execute_result"
    }
   ],
   "source": [
    "df5_daily2 = df5[(df5['previous_owners'] == 1) & (df5['engine_power']==51)]\n",
    "df5_daily2 = pd.pivot_table(data=df5_daily2, index='model', values=['age_in_days', 'km'],\n",
    "                           aggfunc=np.mean)\n",
    "df5_daily2"
   ]
  },
  {
   "cell_type": "code",
   "execution_count": 120,
   "id": "436b11d5",
   "metadata": {},
   "outputs": [
    {
     "data": {
      "text/plain": [
       "model\n",
       "lounge    32.843544\n",
       "pop       32.267268\n",
       "sport     31.820733\n",
       "dtype: float64"
      ]
     },
     "execution_count": 120,
     "metadata": {},
     "output_type": "execute_result"
    }
   ],
   "source": [
    "df5_daily2['km'] / df5_daily2['age_in_days']"
   ]
  },
  {
   "cell_type": "markdown",
   "id": "8921c4bc",
   "metadata": {},
   "source": [
    "## 2. 운행 일수에 따른 운행 거리\n",
    "- 1번 문제에서 가장 큰 값을 가지고 있던 모델과 낮은 모델 간 운행 일수 대비 운행 거리 평균에 대한 통계 검정\n",
    "- p-value 소수점 세자리 이하는 버리고 둘째자리까지\n",
    "- 기각 여부를 Y/N\n",
    "- 등분산 가정"
   ]
  },
  {
   "cell_type": "code",
   "execution_count": 122,
   "id": "3b060ada",
   "metadata": {},
   "outputs": [],
   "source": [
    "df5_model_daily = df5.copy()\n",
    "\n",
    "df5_model_daily['km_per_day'] = df5_model_daily['km'] / df5_model_daily['age_in_days']\n",
    "lounge = df5_model_daily[df5_model_daily['model']=='lounge']['km_per_day']\n",
    "sport = df5_model_daily[df5_model_daily['model']=='sport']['km_per_day']"
   ]
  },
  {
   "cell_type": "code",
   "execution_count": 123,
   "id": "86da9cba",
   "metadata": {},
   "outputs": [
    {
     "name": "stdout",
     "output_type": "stream",
     "text": [
      "1.5054268543179226 0.13248244438755083\n"
     ]
    }
   ],
   "source": [
    "from scipy.stats import ttest_ind\n",
    "\n",
    "t, p = ttest_ind(lounge, sport, equal_var=True)\n",
    "print(t, p)"
   ]
  },
  {
   "cell_type": "markdown",
   "id": "3aee793f",
   "metadata": {},
   "source": [
    "### 답\n",
    "0.13, N"
   ]
  },
  {
   "cell_type": "markdown",
   "id": "5ef75768",
   "metadata": {},
   "source": [
    "## 3. 선형회귀분석\n",
    "- 독립변수 engine_power, age_in_days, km\n",
    "- 종속변수 price\n",
    "- model pop, engine_power 51, age_in_days 400, km 9500, previous_owners 2에 대한 예측 가격을 정수만"
   ]
  },
  {
   "cell_type": "code",
   "execution_count": 125,
   "id": "bf9a3ba2",
   "metadata": {},
   "outputs": [
    {
     "data": {
      "text/plain": [
       "(358, 4)"
      ]
     },
     "execution_count": 125,
     "metadata": {},
     "output_type": "execute_result"
    }
   ],
   "source": [
    "pop = df5[df5['model'] == 'pop']\n",
    "X = pop.drop(columns=['model', 'price'])\n",
    "y = pop['price']\n",
    "\n",
    "X.shape"
   ]
  },
  {
   "cell_type": "code",
   "execution_count": 127,
   "id": "1478e1ac",
   "metadata": {},
   "outputs": [
    {
     "name": "stdout",
     "output_type": "stream",
     "text": [
      "[10252.24314359]\n"
     ]
    }
   ],
   "source": [
    "from sklearn.linear_model import LinearRegression\n",
    "\n",
    "lr = LinearRegression()\n",
    "lr.fit(X, y)\n",
    "pred = lr.predict([[51, 400, 9500, 2]])\n",
    "print(pred)"
   ]
  },
  {
   "cell_type": "markdown",
   "id": "2d194b33",
   "metadata": {},
   "source": [
    "### 답\n",
    "10252"
   ]
  },
  {
   "cell_type": "code",
   "execution_count": null,
   "id": "fae797b9",
   "metadata": {},
   "outputs": [],
   "source": []
  }
 ],
 "metadata": {
  "kernelspec": {
   "display_name": "Python Multi",
   "language": "python",
   "name": "multi"
  },
  "language_info": {
   "codemirror_mode": {
    "name": "ipython",
    "version": 3
   },
   "file_extension": ".py",
   "mimetype": "text/x-python",
   "name": "python",
   "nbconvert_exporter": "python",
   "pygments_lexer": "ipython3",
   "version": "3.7.6"
  },
  "toc": {
   "base_numbering": 1,
   "nav_menu": {},
   "number_sections": false,
   "sideBar": true,
   "skip_h1_title": false,
   "title_cell": "Table of Contents",
   "title_sidebar": "Contents",
   "toc_cell": false,
   "toc_position": {
    "height": "calc(100% - 180px)",
    "left": "10px",
    "top": "150px",
    "width": "165px"
   },
   "toc_section_display": true,
   "toc_window_display": true
  }
 },
 "nbformat": 4,
 "nbformat_minor": 5
}
