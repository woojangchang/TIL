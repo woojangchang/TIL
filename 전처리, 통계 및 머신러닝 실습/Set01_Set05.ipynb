{
 "cells": [
  {
   "cell_type": "markdown",
   "id": "4b3c7baf",
   "metadata": {},
   "source": [
    "# 문제 01 유형\n",
    "- DataSet_01.csv 이용"
   ]
  },
  {
   "cell_type": "code",
   "execution_count": 1,
   "id": "863142e2",
   "metadata": {},
   "outputs": [
    {
     "data": {
      "text/html": [
       "<div>\n",
       "<style scoped>\n",
       "    .dataframe tbody tr th:only-of-type {\n",
       "        vertical-align: middle;\n",
       "    }\n",
       "\n",
       "    .dataframe tbody tr th {\n",
       "        vertical-align: top;\n",
       "    }\n",
       "\n",
       "    .dataframe thead th {\n",
       "        text-align: right;\n",
       "    }\n",
       "</style>\n",
       "<table border=\"1\" class=\"dataframe\">\n",
       "  <thead>\n",
       "    <tr style=\"text-align: right;\">\n",
       "      <th></th>\n",
       "      <th>TV</th>\n",
       "      <th>Radio</th>\n",
       "      <th>Social_Media</th>\n",
       "      <th>Influencer</th>\n",
       "      <th>Sales</th>\n",
       "    </tr>\n",
       "  </thead>\n",
       "  <tbody>\n",
       "    <tr>\n",
       "      <th>0</th>\n",
       "      <td>16.0</td>\n",
       "      <td>6.566231</td>\n",
       "      <td>2.907983</td>\n",
       "      <td>Mega</td>\n",
       "      <td>54.732757</td>\n",
       "    </tr>\n",
       "    <tr>\n",
       "      <th>1</th>\n",
       "      <td>13.0</td>\n",
       "      <td>9.237765</td>\n",
       "      <td>2.409567</td>\n",
       "      <td>Mega</td>\n",
       "      <td>46.677897</td>\n",
       "    </tr>\n",
       "    <tr>\n",
       "      <th>2</th>\n",
       "      <td>41.0</td>\n",
       "      <td>15.886446</td>\n",
       "      <td>2.913410</td>\n",
       "      <td>Mega</td>\n",
       "      <td>150.177829</td>\n",
       "    </tr>\n",
       "  </tbody>\n",
       "</table>\n",
       "</div>"
      ],
      "text/plain": [
       "     TV      Radio  Social_Media Influencer       Sales\n",
       "0  16.0   6.566231      2.907983       Mega   54.732757\n",
       "1  13.0   9.237765      2.409567       Mega   46.677897\n",
       "2  41.0  15.886446      2.913410       Mega  150.177829"
      ]
     },
     "execution_count": 1,
     "metadata": {},
     "output_type": "execute_result"
    }
   ],
   "source": [
    "import pandas as pd\n",
    "\n",
    "df1 = pd.read_csv('datasets/Dataset_01.csv', encoding='utf8')\n",
    "df1.head(3)"
   ]
  },
  {
   "cell_type": "code",
   "execution_count": 3,
   "id": "6a05634e",
   "metadata": {},
   "outputs": [
    {
     "name": "stdout",
     "output_type": "stream",
     "text": [
      "<class 'pandas.core.frame.DataFrame'>\n",
      "RangeIndex: 4572 entries, 0 to 4571\n",
      "Data columns (total 5 columns):\n",
      " #   Column        Non-Null Count  Dtype  \n",
      "---  ------        --------------  -----  \n",
      " 0   TV            4562 non-null   float64\n",
      " 1   Radio         4568 non-null   float64\n",
      " 2   Social_Media  4566 non-null   float64\n",
      " 3   Influencer    4572 non-null   object \n",
      " 4   Sales         4566 non-null   float64\n",
      "dtypes: float64(4), object(1)\n",
      "memory usage: 178.7+ KB\n"
     ]
    }
   ],
   "source": [
    "df1.info()"
   ]
  },
  {
   "cell_type": "markdown",
   "id": "7f29327b",
   "metadata": {},
   "source": [
    "## 1. 데이터 세트 내 총 결측값의 개수"
   ]
  },
  {
   "cell_type": "code",
   "execution_count": 4,
   "id": "d7add661",
   "metadata": {},
   "outputs": [
    {
     "data": {
      "text/plain": [
       "TV              10\n",
       "Radio            4\n",
       "Social_Media     6\n",
       "Influencer       0\n",
       "Sales            6\n",
       "dtype: int64"
      ]
     },
     "execution_count": 4,
     "metadata": {},
     "output_type": "execute_result"
    }
   ],
   "source": [
    "# df1.isnull().sum()\n",
    "df1.isna().sum()"
   ]
  },
  {
   "cell_type": "markdown",
   "id": "132fc303",
   "metadata": {},
   "source": [
    "### 답\n",
    "26"
   ]
  },
  {
   "cell_type": "markdown",
   "id": "fc24204a",
   "metadata": {},
   "source": [
    "### 참고\n",
    "- 각 행의 결측값 개수"
   ]
  },
  {
   "cell_type": "code",
   "execution_count": 9,
   "id": "cec41b50",
   "metadata": {},
   "outputs": [
    {
     "data": {
      "text/plain": [
       "0       0\n",
       "1       0\n",
       "2       0\n",
       "3       0\n",
       "4       0\n",
       "       ..\n",
       "4567    0\n",
       "4568    0\n",
       "4569    0\n",
       "4570    0\n",
       "4571    0\n",
       "Length: 4572, dtype: int64"
      ]
     },
     "execution_count": 9,
     "metadata": {},
     "output_type": "execute_result"
    }
   ],
   "source": [
    "df1.isna().sum(axis=1)"
   ]
  },
  {
   "cell_type": "markdown",
   "id": "2ddccc83",
   "metadata": {},
   "source": [
    "- 결측값이 있는 행의 개수"
   ]
  },
  {
   "cell_type": "code",
   "execution_count": 12,
   "id": "8b257ecc",
   "metadata": {},
   "outputs": [
    {
     "data": {
      "text/plain": [
       "26"
      ]
     },
     "execution_count": 12,
     "metadata": {},
     "output_type": "execute_result"
    }
   ],
   "source": [
    "df1.isna().any(axis=1).sum()"
   ]
  },
  {
   "cell_type": "markdown",
   "id": "bebe3878",
   "metadata": {},
   "source": [
    "- 결측값이 있는 열의 개수"
   ]
  },
  {
   "cell_type": "code",
   "execution_count": 13,
   "id": "3f699f11",
   "metadata": {},
   "outputs": [
    {
     "data": {
      "text/plain": [
       "4"
      ]
     },
     "execution_count": 13,
     "metadata": {},
     "output_type": "execute_result"
    }
   ],
   "source": [
    "df1.isna().any(axis=0).sum()"
   ]
  },
  {
   "cell_type": "markdown",
   "id": "012a1ea5",
   "metadata": {},
   "source": [
    "## 2. 매출액과 가장 강한 상관관계를 가지고 있는 채널의 상관계수\n",
    "- 소수점 5번째 자리에서 반올림하여 소수점 넷째 자리까지 기술"
   ]
  },
  {
   "cell_type": "code",
   "execution_count": 31,
   "id": "d4c48e2f",
   "metadata": {},
   "outputs": [
    {
     "data": {
      "text/html": [
       "<div>\n",
       "<style scoped>\n",
       "    .dataframe tbody tr th:only-of-type {\n",
       "        vertical-align: middle;\n",
       "    }\n",
       "\n",
       "    .dataframe tbody tr th {\n",
       "        vertical-align: top;\n",
       "    }\n",
       "\n",
       "    .dataframe thead th {\n",
       "        text-align: right;\n",
       "    }\n",
       "</style>\n",
       "<table border=\"1\" class=\"dataframe\">\n",
       "  <thead>\n",
       "    <tr style=\"text-align: right;\">\n",
       "      <th></th>\n",
       "      <th>TV</th>\n",
       "      <th>Radio</th>\n",
       "      <th>Social_Media</th>\n",
       "      <th>Sales</th>\n",
       "    </tr>\n",
       "  </thead>\n",
       "  <tbody>\n",
       "    <tr>\n",
       "      <th>TV</th>\n",
       "      <td>1.000000</td>\n",
       "      <td>0.869460</td>\n",
       "      <td>0.528168</td>\n",
       "      <td>0.999497</td>\n",
       "    </tr>\n",
       "    <tr>\n",
       "      <th>Radio</th>\n",
       "      <td>0.869460</td>\n",
       "      <td>1.000000</td>\n",
       "      <td>0.607452</td>\n",
       "      <td>0.869105</td>\n",
       "    </tr>\n",
       "    <tr>\n",
       "      <th>Social_Media</th>\n",
       "      <td>0.528168</td>\n",
       "      <td>0.607452</td>\n",
       "      <td>1.000000</td>\n",
       "      <td>0.528906</td>\n",
       "    </tr>\n",
       "    <tr>\n",
       "      <th>Sales</th>\n",
       "      <td>0.999497</td>\n",
       "      <td>0.869105</td>\n",
       "      <td>0.528906</td>\n",
       "      <td>1.000000</td>\n",
       "    </tr>\n",
       "  </tbody>\n",
       "</table>\n",
       "</div>"
      ],
      "text/plain": [
       "                    TV     Radio  Social_Media     Sales\n",
       "TV            1.000000  0.869460      0.528168  0.999497\n",
       "Radio         0.869460  1.000000      0.607452  0.869105\n",
       "Social_Media  0.528168  0.607452      1.000000  0.528906\n",
       "Sales         0.999497  0.869105      0.528906  1.000000"
      ]
     },
     "execution_count": 31,
     "metadata": {},
     "output_type": "execute_result"
    }
   ],
   "source": [
    "cor1 = df1.corr().abs()\n",
    "cor1"
   ]
  },
  {
   "cell_type": "code",
   "execution_count": 32,
   "id": "f79078fa",
   "metadata": {},
   "outputs": [
    {
     "data": {
      "text/plain": [
       "Sales           1.000000\n",
       "TV              0.999497\n",
       "Radio           0.869105\n",
       "Social_Media    0.528906\n",
       "Name: Sales, dtype: float64"
      ]
     },
     "execution_count": 32,
     "metadata": {},
     "output_type": "execute_result"
    }
   ],
   "source": [
    "cor1['Sales'].sort_values(ascending=False)"
   ]
  },
  {
   "cell_type": "code",
   "execution_count": 33,
   "id": "b1b9fda9",
   "metadata": {},
   "outputs": [
    {
     "data": {
      "text/plain": [
       "0.999497444941335"
      ]
     },
     "execution_count": 33,
     "metadata": {},
     "output_type": "execute_result"
    }
   ],
   "source": [
    "# 내림차순으로 정리한 후 Sales 다음으로 상관계수가 큰 값\n",
    "cor1['Sales'].sort_values(ascending=False)[1]"
   ]
  },
  {
   "cell_type": "code",
   "execution_count": 35,
   "id": "e3695205",
   "metadata": {},
   "outputs": [
    {
     "data": {
      "text/plain": [
       "0.999497444941335"
      ]
     },
     "execution_count": 35,
     "metadata": {},
     "output_type": "execute_result"
    }
   ],
   "source": [
    "# 값이 큰 순서대로 2개를 뽑은 후 두번째 값\n",
    "cor1['Sales'].nlargest(2)[-1]"
   ]
  },
  {
   "cell_type": "markdown",
   "id": "119dc120",
   "metadata": {},
   "source": [
    "### 답\n",
    "0.9995"
   ]
  },
  {
   "cell_type": "markdown",
   "id": "03a26bce",
   "metadata": {},
   "source": [
    "### 참고\n",
    "- 절댓값을 줘서 상관성이 가장 큰 변수 확인\n",
    "- corr()\n",
    "    - method : {'pearson', 'kendall', 'spearman'}"
   ]
  },
  {
   "cell_type": "code",
   "execution_count": 28,
   "id": "2a642237",
   "metadata": {},
   "outputs": [
    {
     "data": {
      "text/html": [
       "<div>\n",
       "<style scoped>\n",
       "    .dataframe tbody tr th:only-of-type {\n",
       "        vertical-align: middle;\n",
       "    }\n",
       "\n",
       "    .dataframe tbody tr th {\n",
       "        vertical-align: top;\n",
       "    }\n",
       "\n",
       "    .dataframe thead th {\n",
       "        text-align: right;\n",
       "    }\n",
       "</style>\n",
       "<table border=\"1\" class=\"dataframe\">\n",
       "  <thead>\n",
       "    <tr style=\"text-align: right;\">\n",
       "      <th></th>\n",
       "      <th>TV</th>\n",
       "      <th>Radio</th>\n",
       "      <th>Social_Media</th>\n",
       "      <th>Sales</th>\n",
       "    </tr>\n",
       "  </thead>\n",
       "  <tbody>\n",
       "    <tr>\n",
       "      <th>TV</th>\n",
       "      <td>1.000000</td>\n",
       "      <td>0.869460</td>\n",
       "      <td>0.528168</td>\n",
       "      <td>0.999497</td>\n",
       "    </tr>\n",
       "    <tr>\n",
       "      <th>Radio</th>\n",
       "      <td>0.869460</td>\n",
       "      <td>1.000000</td>\n",
       "      <td>0.607452</td>\n",
       "      <td>0.869105</td>\n",
       "    </tr>\n",
       "    <tr>\n",
       "      <th>Social_Media</th>\n",
       "      <td>0.528168</td>\n",
       "      <td>0.607452</td>\n",
       "      <td>1.000000</td>\n",
       "      <td>0.528906</td>\n",
       "    </tr>\n",
       "    <tr>\n",
       "      <th>Sales</th>\n",
       "      <td>0.999497</td>\n",
       "      <td>0.869105</td>\n",
       "      <td>0.528906</td>\n",
       "      <td>1.000000</td>\n",
       "    </tr>\n",
       "  </tbody>\n",
       "</table>\n",
       "</div>"
      ],
      "text/plain": [
       "                    TV     Radio  Social_Media     Sales\n",
       "TV            1.000000  0.869460      0.528168  0.999497\n",
       "Radio         0.869460  1.000000      0.607452  0.869105\n",
       "Social_Media  0.528168  0.607452      1.000000  0.528906\n",
       "Sales         0.999497  0.869105      0.528906  1.000000"
      ]
     },
     "execution_count": 28,
     "metadata": {},
     "output_type": "execute_result"
    }
   ],
   "source": [
    "df1.drop(columns=['Influencer']).corr().abs()"
   ]
  },
  {
   "cell_type": "code",
   "execution_count": 29,
   "id": "c47a642f",
   "metadata": {},
   "outputs": [
    {
     "data": {
      "text/html": [
       "<div>\n",
       "<style scoped>\n",
       "    .dataframe tbody tr th:only-of-type {\n",
       "        vertical-align: middle;\n",
       "    }\n",
       "\n",
       "    .dataframe tbody tr th {\n",
       "        vertical-align: top;\n",
       "    }\n",
       "\n",
       "    .dataframe thead th {\n",
       "        text-align: right;\n",
       "    }\n",
       "</style>\n",
       "<table border=\"1\" class=\"dataframe\">\n",
       "  <thead>\n",
       "    <tr style=\"text-align: right;\">\n",
       "      <th></th>\n",
       "      <th>TV</th>\n",
       "      <th>Radio</th>\n",
       "      <th>Social_Media</th>\n",
       "      <th>Sales</th>\n",
       "    </tr>\n",
       "  </thead>\n",
       "  <tbody>\n",
       "    <tr>\n",
       "      <th>TV</th>\n",
       "      <td>1.000000</td>\n",
       "      <td>0.874133</td>\n",
       "      <td>0.528866</td>\n",
       "      <td>0.999495</td>\n",
       "    </tr>\n",
       "    <tr>\n",
       "      <th>Radio</th>\n",
       "      <td>0.874133</td>\n",
       "      <td>1.000000</td>\n",
       "      <td>0.605050</td>\n",
       "      <td>0.873859</td>\n",
       "    </tr>\n",
       "    <tr>\n",
       "      <th>Social_Media</th>\n",
       "      <td>0.528866</td>\n",
       "      <td>0.605050</td>\n",
       "      <td>1.000000</td>\n",
       "      <td>0.529576</td>\n",
       "    </tr>\n",
       "    <tr>\n",
       "      <th>Sales</th>\n",
       "      <td>0.999495</td>\n",
       "      <td>0.873859</td>\n",
       "      <td>0.529576</td>\n",
       "      <td>1.000000</td>\n",
       "    </tr>\n",
       "  </tbody>\n",
       "</table>\n",
       "</div>"
      ],
      "text/plain": [
       "                    TV     Radio  Social_Media     Sales\n",
       "TV            1.000000  0.874133      0.528866  0.999495\n",
       "Radio         0.874133  1.000000      0.605050  0.873859\n",
       "Social_Media  0.528866  0.605050      1.000000  0.529576\n",
       "Sales         0.999495  0.873859      0.529576  1.000000"
      ]
     },
     "execution_count": 29,
     "metadata": {},
     "output_type": "execute_result"
    }
   ],
   "source": [
    "df1.drop(columns=['Influencer']).corr(method='spearman')"
   ]
  },
  {
   "cell_type": "markdown",
   "id": "b7ecbd5f",
   "metadata": {},
   "source": [
    "## 3. 매출액을 종속변수, TV, Radio, Social_Media의 예산을 독립변수로 하여 회귀분석을 수행\n",
    "- 회귀계수를 큰 것부터 작은 것 순으로 기술\n",
    "- 결측치가 포함된 행은 제거, 회귀계수는 소수점 넷째 자리 이하는 버리고 셋째 자리까지 기술"
   ]
  },
  {
   "cell_type": "code",
   "execution_count": 6,
   "id": "58465c59",
   "metadata": {},
   "outputs": [
    {
     "data": {
      "text/plain": [
       "TV              0\n",
       "Radio           0\n",
       "Social_Media    0\n",
       "Influencer      0\n",
       "Sales           0\n",
       "dtype: int64"
      ]
     },
     "execution_count": 6,
     "metadata": {},
     "output_type": "execute_result"
    }
   ],
   "source": [
    "df1_dropna = df1.dropna(axis=0)\n",
    "df1_dropna.isnull().sum()"
   ]
  },
  {
   "cell_type": "code",
   "execution_count": 38,
   "id": "714c672f",
   "metadata": {},
   "outputs": [],
   "source": [
    "from sklearn.linear_model import LinearRegression\n",
    "from statsmodels.api import OLS, add_constant\n",
    "from statsmodels.formula.api import ols\n",
    "\n",
    "X = df1_dropna.drop(columns=['Influencer', 'Sales'])\n",
    "y = df1_dropna['Sales']"
   ]
  },
  {
   "cell_type": "markdown",
   "id": "d328066b",
   "metadata": {},
   "source": [
    "### 사이킷런"
   ]
  },
  {
   "cell_type": "code",
   "execution_count": 40,
   "id": "67b6aace",
   "metadata": {},
   "outputs": [
    {
     "data": {
      "text/plain": [
       "(array([ 3.56256963, -0.00397039,  0.00496402]), -0.13396305194211777)"
      ]
     },
     "execution_count": 40,
     "metadata": {},
     "output_type": "execute_result"
    }
   ],
   "source": [
    "# sklearn\n",
    "lr = LinearRegression(fit_intercept=True) # 절편\n",
    "lr.fit(X, y)\n",
    "lr.coef_, lr.intercept_"
   ]
  },
  {
   "cell_type": "markdown",
   "id": "c84c4504",
   "metadata": {},
   "source": [
    "### 답1\n",
    "3.562, 0.004, -0.003"
   ]
  },
  {
   "cell_type": "markdown",
   "id": "40db26f5",
   "metadata": {},
   "source": [
    "### statsmodels.api"
   ]
  },
  {
   "cell_type": "code",
   "execution_count": 42,
   "id": "a745ad37",
   "metadata": {},
   "outputs": [
    {
     "data": {
      "text/html": [
       "<div>\n",
       "<style scoped>\n",
       "    .dataframe tbody tr th:only-of-type {\n",
       "        vertical-align: middle;\n",
       "    }\n",
       "\n",
       "    .dataframe tbody tr th {\n",
       "        vertical-align: top;\n",
       "    }\n",
       "\n",
       "    .dataframe thead th {\n",
       "        text-align: right;\n",
       "    }\n",
       "</style>\n",
       "<table border=\"1\" class=\"dataframe\">\n",
       "  <thead>\n",
       "    <tr style=\"text-align: right;\">\n",
       "      <th></th>\n",
       "      <th>const</th>\n",
       "      <th>TV</th>\n",
       "      <th>Radio</th>\n",
       "      <th>Social_Media</th>\n",
       "    </tr>\n",
       "  </thead>\n",
       "  <tbody>\n",
       "    <tr>\n",
       "      <th>0</th>\n",
       "      <td>1.0</td>\n",
       "      <td>16.0</td>\n",
       "      <td>6.566231</td>\n",
       "      <td>2.907983</td>\n",
       "    </tr>\n",
       "    <tr>\n",
       "      <th>1</th>\n",
       "      <td>1.0</td>\n",
       "      <td>13.0</td>\n",
       "      <td>9.237765</td>\n",
       "      <td>2.409567</td>\n",
       "    </tr>\n",
       "    <tr>\n",
       "      <th>2</th>\n",
       "      <td>1.0</td>\n",
       "      <td>41.0</td>\n",
       "      <td>15.886446</td>\n",
       "      <td>2.913410</td>\n",
       "    </tr>\n",
       "  </tbody>\n",
       "</table>\n",
       "</div>"
      ],
      "text/plain": [
       "   const    TV      Radio  Social_Media\n",
       "0    1.0  16.0   6.566231      2.907983\n",
       "1    1.0  13.0   9.237765      2.409567\n",
       "2    1.0  41.0  15.886446      2.913410"
      ]
     },
     "execution_count": 42,
     "metadata": {},
     "output_type": "execute_result"
    }
   ],
   "source": [
    "# statsmodels.api\n",
    "# 절편을 위해 add_constant를 추가해야 함\n",
    "XX = add_constant(X)\n",
    "XX.head(3)"
   ]
  },
  {
   "cell_type": "code",
   "execution_count": 43,
   "id": "85bf541c",
   "metadata": {},
   "outputs": [
    {
     "data": {
      "text/html": [
       "<table class=\"simpletable\">\n",
       "<caption>OLS Regression Results</caption>\n",
       "<tr>\n",
       "  <th>Dep. Variable:</th>          <td>Sales</td>      <th>  R-squared (uncentered):</th>      <td>   1.000</td> \n",
       "</tr>\n",
       "<tr>\n",
       "  <th>Model:</th>                   <td>OLS</td>       <th>  Adj. R-squared (uncentered):</th> <td>   1.000</td> \n",
       "</tr>\n",
       "<tr>\n",
       "  <th>Method:</th>             <td>Least Squares</td>  <th>  F-statistic:       </th>          <td>7.951e+06</td>\n",
       "</tr>\n",
       "<tr>\n",
       "  <th>Date:</th>             <td>Mon, 23 Aug 2021</td> <th>  Prob (F-statistic):</th>           <td>  0.00</td>  \n",
       "</tr>\n",
       "<tr>\n",
       "  <th>Time:</th>                 <td>10:48:00</td>     <th>  Log-Likelihood:    </th>          <td> -11367.</td> \n",
       "</tr>\n",
       "<tr>\n",
       "  <th>No. Observations:</th>      <td>  4546</td>      <th>  AIC:               </th>          <td>2.274e+04</td>\n",
       "</tr>\n",
       "<tr>\n",
       "  <th>Df Residuals:</th>          <td>  4543</td>      <th>  BIC:               </th>          <td>2.276e+04</td>\n",
       "</tr>\n",
       "<tr>\n",
       "  <th>Df Model:</th>              <td>     3</td>      <th>                     </th>              <td> </td>    \n",
       "</tr>\n",
       "<tr>\n",
       "  <th>Covariance Type:</th>      <td>nonrobust</td>    <th>                     </th>              <td> </td>    \n",
       "</tr>\n",
       "</table>\n",
       "<table class=\"simpletable\">\n",
       "<tr>\n",
       "        <td></td>          <th>coef</th>     <th>std err</th>      <th>t</th>      <th>P>|t|</th>  <th>[0.025</th>    <th>0.975]</th>  \n",
       "</tr>\n",
       "<tr>\n",
       "  <th>TV</th>           <td>    3.5609</td> <td>    0.003</td> <td> 1133.941</td> <td> 0.000</td> <td>    3.555</td> <td>    3.567</td>\n",
       "</tr>\n",
       "<tr>\n",
       "  <th>Radio</th>        <td>   -0.0039</td> <td>    0.010</td> <td>   -0.400</td> <td> 0.689</td> <td>   -0.023</td> <td>    0.015</td>\n",
       "</tr>\n",
       "<tr>\n",
       "  <th>Social_Media</th> <td>   -0.0013</td> <td>    0.024</td> <td>   -0.054</td> <td> 0.957</td> <td>   -0.049</td> <td>    0.047</td>\n",
       "</tr>\n",
       "</table>\n",
       "<table class=\"simpletable\">\n",
       "<tr>\n",
       "  <th>Omnibus:</th>       <td> 0.061</td> <th>  Durbin-Watson:     </th> <td>   1.999</td>\n",
       "</tr>\n",
       "<tr>\n",
       "  <th>Prob(Omnibus):</th> <td> 0.970</td> <th>  Jarque-Bera (JB):  </th> <td>   0.038</td>\n",
       "</tr>\n",
       "<tr>\n",
       "  <th>Skew:</th>          <td>-0.001</td> <th>  Prob(JB):          </th> <td>   0.981</td>\n",
       "</tr>\n",
       "<tr>\n",
       "  <th>Kurtosis:</th>      <td> 3.014</td> <th>  Cond. No.          </th> <td>    35.8</td>\n",
       "</tr>\n",
       "</table><br/><br/>Notes:<br/>[1] R² is computed without centering (uncentered) since the model does not contain a constant.<br/>[2] Standard Errors assume that the covariance matrix of the errors is correctly specified."
      ],
      "text/plain": [
       "<class 'statsmodels.iolib.summary.Summary'>\n",
       "\"\"\"\n",
       "                                 OLS Regression Results                                \n",
       "=======================================================================================\n",
       "Dep. Variable:                  Sales   R-squared (uncentered):                   1.000\n",
       "Model:                            OLS   Adj. R-squared (uncentered):              1.000\n",
       "Method:                 Least Squares   F-statistic:                          7.951e+06\n",
       "Date:                Mon, 23 Aug 2021   Prob (F-statistic):                        0.00\n",
       "Time:                        10:48:00   Log-Likelihood:                         -11367.\n",
       "No. Observations:                4546   AIC:                                  2.274e+04\n",
       "Df Residuals:                    4543   BIC:                                  2.276e+04\n",
       "Df Model:                           3                                                  \n",
       "Covariance Type:            nonrobust                                                  \n",
       "================================================================================\n",
       "                   coef    std err          t      P>|t|      [0.025      0.975]\n",
       "--------------------------------------------------------------------------------\n",
       "TV               3.5609      0.003   1133.941      0.000       3.555       3.567\n",
       "Radio           -0.0039      0.010     -0.400      0.689      -0.023       0.015\n",
       "Social_Media    -0.0013      0.024     -0.054      0.957      -0.049       0.047\n",
       "==============================================================================\n",
       "Omnibus:                        0.061   Durbin-Watson:                   1.999\n",
       "Prob(Omnibus):                  0.970   Jarque-Bera (JB):                0.038\n",
       "Skew:                          -0.001   Prob(JB):                        0.981\n",
       "Kurtosis:                       3.014   Cond. No.                         35.8\n",
       "==============================================================================\n",
       "\n",
       "Notes:\n",
       "[1] R² is computed without centering (uncentered) since the model does not contain a constant.\n",
       "[2] Standard Errors assume that the covariance matrix of the errors is correctly specified.\n",
       "\"\"\""
      ]
     },
     "execution_count": 43,
     "metadata": {},
     "output_type": "execute_result"
    }
   ],
   "source": [
    "# 절편 없이\n",
    "ols1 = OLS(y, X).fit()\n",
    "ols1.summary()"
   ]
  },
  {
   "cell_type": "code",
   "execution_count": 44,
   "id": "7b8632e6",
   "metadata": {},
   "outputs": [
    {
     "data": {
      "text/html": [
       "<table class=\"simpletable\">\n",
       "<caption>OLS Regression Results</caption>\n",
       "<tr>\n",
       "  <th>Dep. Variable:</th>          <td>Sales</td>      <th>  R-squared:         </th> <td>   0.999</td> \n",
       "</tr>\n",
       "<tr>\n",
       "  <th>Model:</th>                   <td>OLS</td>       <th>  Adj. R-squared:    </th> <td>   0.999</td> \n",
       "</tr>\n",
       "<tr>\n",
       "  <th>Method:</th>             <td>Least Squares</td>  <th>  F-statistic:       </th> <td>1.505e+06</td>\n",
       "</tr>\n",
       "<tr>\n",
       "  <th>Date:</th>             <td>Mon, 23 Aug 2021</td> <th>  Prob (F-statistic):</th>  <td>  0.00</td>  \n",
       "</tr>\n",
       "<tr>\n",
       "  <th>Time:</th>                 <td>10:52:51</td>     <th>  Log-Likelihood:    </th> <td> -11366.</td> \n",
       "</tr>\n",
       "<tr>\n",
       "  <th>No. Observations:</th>      <td>  4546</td>      <th>  AIC:               </th> <td>2.274e+04</td>\n",
       "</tr>\n",
       "<tr>\n",
       "  <th>Df Residuals:</th>          <td>  4542</td>      <th>  BIC:               </th> <td>2.277e+04</td>\n",
       "</tr>\n",
       "<tr>\n",
       "  <th>Df Model:</th>              <td>     3</td>      <th>                     </th>     <td> </td>    \n",
       "</tr>\n",
       "<tr>\n",
       "  <th>Covariance Type:</th>      <td>nonrobust</td>    <th>                     </th>     <td> </td>    \n",
       "</tr>\n",
       "</table>\n",
       "<table class=\"simpletable\">\n",
       "<tr>\n",
       "        <td></td>          <th>coef</th>     <th>std err</th>      <th>t</th>      <th>P>|t|</th>  <th>[0.025</th>    <th>0.975]</th>  \n",
       "</tr>\n",
       "<tr>\n",
       "  <th>const</th>        <td>   -0.1340</td> <td>    0.103</td> <td>   -1.303</td> <td> 0.193</td> <td>   -0.336</td> <td>    0.068</td>\n",
       "</tr>\n",
       "<tr>\n",
       "  <th>TV</th>           <td>    3.5626</td> <td>    0.003</td> <td> 1051.118</td> <td> 0.000</td> <td>    3.556</td> <td>    3.569</td>\n",
       "</tr>\n",
       "<tr>\n",
       "  <th>Radio</th>        <td>   -0.0040</td> <td>    0.010</td> <td>   -0.406</td> <td> 0.685</td> <td>   -0.023</td> <td>    0.015</td>\n",
       "</tr>\n",
       "<tr>\n",
       "  <th>Social_Media</th> <td>    0.0050</td> <td>    0.025</td> <td>    0.199</td> <td> 0.842</td> <td>   -0.044</td> <td>    0.054</td>\n",
       "</tr>\n",
       "</table>\n",
       "<table class=\"simpletable\">\n",
       "<tr>\n",
       "  <th>Omnibus:</th>       <td> 0.056</td> <th>  Durbin-Watson:     </th> <td>   1.998</td>\n",
       "</tr>\n",
       "<tr>\n",
       "  <th>Prob(Omnibus):</th> <td> 0.972</td> <th>  Jarque-Bera (JB):  </th> <td>   0.034</td>\n",
       "</tr>\n",
       "<tr>\n",
       "  <th>Skew:</th>          <td>-0.001</td> <th>  Prob(JB):          </th> <td>   0.983</td>\n",
       "</tr>\n",
       "<tr>\n",
       "  <th>Kurtosis:</th>      <td> 3.013</td> <th>  Cond. No.          </th> <td>    149.</td>\n",
       "</tr>\n",
       "</table><br/><br/>Notes:<br/>[1] Standard Errors assume that the covariance matrix of the errors is correctly specified."
      ],
      "text/plain": [
       "<class 'statsmodels.iolib.summary.Summary'>\n",
       "\"\"\"\n",
       "                            OLS Regression Results                            \n",
       "==============================================================================\n",
       "Dep. Variable:                  Sales   R-squared:                       0.999\n",
       "Model:                            OLS   Adj. R-squared:                  0.999\n",
       "Method:                 Least Squares   F-statistic:                 1.505e+06\n",
       "Date:                Mon, 23 Aug 2021   Prob (F-statistic):               0.00\n",
       "Time:                        10:52:51   Log-Likelihood:                -11366.\n",
       "No. Observations:                4546   AIC:                         2.274e+04\n",
       "Df Residuals:                    4542   BIC:                         2.277e+04\n",
       "Df Model:                           3                                         \n",
       "Covariance Type:            nonrobust                                         \n",
       "================================================================================\n",
       "                   coef    std err          t      P>|t|      [0.025      0.975]\n",
       "--------------------------------------------------------------------------------\n",
       "const           -0.1340      0.103     -1.303      0.193      -0.336       0.068\n",
       "TV               3.5626      0.003   1051.118      0.000       3.556       3.569\n",
       "Radio           -0.0040      0.010     -0.406      0.685      -0.023       0.015\n",
       "Social_Media     0.0050      0.025      0.199      0.842      -0.044       0.054\n",
       "==============================================================================\n",
       "Omnibus:                        0.056   Durbin-Watson:                   1.998\n",
       "Prob(Omnibus):                  0.972   Jarque-Bera (JB):                0.034\n",
       "Skew:                          -0.001   Prob(JB):                        0.983\n",
       "Kurtosis:                       3.013   Cond. No.                         149.\n",
       "==============================================================================\n",
       "\n",
       "Notes:\n",
       "[1] Standard Errors assume that the covariance matrix of the errors is correctly specified.\n",
       "\"\"\""
      ]
     },
     "execution_count": 44,
     "metadata": {},
     "output_type": "execute_result"
    }
   ],
   "source": [
    "# 절편 포함\n",
    "ols2 = OLS(y, XX).fit()\n",
    "ols2.summary()"
   ]
  },
  {
   "cell_type": "markdown",
   "id": "bf7a0ed8",
   "metadata": {},
   "source": [
    "### statsmodels.formula.api"
   ]
  },
  {
   "cell_type": "code",
   "execution_count": 59,
   "id": "5ba1395d",
   "metadata": {},
   "outputs": [
    {
     "data": {
      "text/html": [
       "<table class=\"simpletable\">\n",
       "<caption>OLS Regression Results</caption>\n",
       "<tr>\n",
       "  <th>Dep. Variable:</th>          <td>Sales</td>      <th>  R-squared:         </th> <td>   0.999</td> \n",
       "</tr>\n",
       "<tr>\n",
       "  <th>Model:</th>                   <td>OLS</td>       <th>  Adj. R-squared:    </th> <td>   0.999</td> \n",
       "</tr>\n",
       "<tr>\n",
       "  <th>Method:</th>             <td>Least Squares</td>  <th>  F-statistic:       </th> <td>1.505e+06</td>\n",
       "</tr>\n",
       "<tr>\n",
       "  <th>Date:</th>             <td>Mon, 23 Aug 2021</td> <th>  Prob (F-statistic):</th>  <td>  0.00</td>  \n",
       "</tr>\n",
       "<tr>\n",
       "  <th>Time:</th>                 <td>11:39:12</td>     <th>  Log-Likelihood:    </th> <td> -11366.</td> \n",
       "</tr>\n",
       "<tr>\n",
       "  <th>No. Observations:</th>      <td>  4546</td>      <th>  AIC:               </th> <td>2.274e+04</td>\n",
       "</tr>\n",
       "<tr>\n",
       "  <th>Df Residuals:</th>          <td>  4542</td>      <th>  BIC:               </th> <td>2.277e+04</td>\n",
       "</tr>\n",
       "<tr>\n",
       "  <th>Df Model:</th>              <td>     3</td>      <th>                     </th>     <td> </td>    \n",
       "</tr>\n",
       "<tr>\n",
       "  <th>Covariance Type:</th>      <td>nonrobust</td>    <th>                     </th>     <td> </td>    \n",
       "</tr>\n",
       "</table>\n",
       "<table class=\"simpletable\">\n",
       "<tr>\n",
       "        <td></td>          <th>coef</th>     <th>std err</th>      <th>t</th>      <th>P>|t|</th>  <th>[0.025</th>    <th>0.975]</th>  \n",
       "</tr>\n",
       "<tr>\n",
       "  <th>Intercept</th>    <td>   -0.1340</td> <td>    0.103</td> <td>   -1.303</td> <td> 0.193</td> <td>   -0.336</td> <td>    0.068</td>\n",
       "</tr>\n",
       "<tr>\n",
       "  <th>TV</th>           <td>    3.5626</td> <td>    0.003</td> <td> 1051.118</td> <td> 0.000</td> <td>    3.556</td> <td>    3.569</td>\n",
       "</tr>\n",
       "<tr>\n",
       "  <th>Radio</th>        <td>   -0.0040</td> <td>    0.010</td> <td>   -0.406</td> <td> 0.685</td> <td>   -0.023</td> <td>    0.015</td>\n",
       "</tr>\n",
       "<tr>\n",
       "  <th>Social_Media</th> <td>    0.0050</td> <td>    0.025</td> <td>    0.199</td> <td> 0.842</td> <td>   -0.044</td> <td>    0.054</td>\n",
       "</tr>\n",
       "</table>\n",
       "<table class=\"simpletable\">\n",
       "<tr>\n",
       "  <th>Omnibus:</th>       <td> 0.056</td> <th>  Durbin-Watson:     </th> <td>   1.998</td>\n",
       "</tr>\n",
       "<tr>\n",
       "  <th>Prob(Omnibus):</th> <td> 0.972</td> <th>  Jarque-Bera (JB):  </th> <td>   0.034</td>\n",
       "</tr>\n",
       "<tr>\n",
       "  <th>Skew:</th>          <td>-0.001</td> <th>  Prob(JB):          </th> <td>   0.983</td>\n",
       "</tr>\n",
       "<tr>\n",
       "  <th>Kurtosis:</th>      <td> 3.013</td> <th>  Cond. No.          </th> <td>    149.</td>\n",
       "</tr>\n",
       "</table><br/><br/>Notes:<br/>[1] Standard Errors assume that the covariance matrix of the errors is correctly specified."
      ],
      "text/plain": [
       "<class 'statsmodels.iolib.summary.Summary'>\n",
       "\"\"\"\n",
       "                            OLS Regression Results                            \n",
       "==============================================================================\n",
       "Dep. Variable:                  Sales   R-squared:                       0.999\n",
       "Model:                            OLS   Adj. R-squared:                  0.999\n",
       "Method:                 Least Squares   F-statistic:                 1.505e+06\n",
       "Date:                Mon, 23 Aug 2021   Prob (F-statistic):               0.00\n",
       "Time:                        11:39:12   Log-Likelihood:                -11366.\n",
       "No. Observations:                4546   AIC:                         2.274e+04\n",
       "Df Residuals:                    4542   BIC:                         2.277e+04\n",
       "Df Model:                           3                                         \n",
       "Covariance Type:            nonrobust                                         \n",
       "================================================================================\n",
       "                   coef    std err          t      P>|t|      [0.025      0.975]\n",
       "--------------------------------------------------------------------------------\n",
       "Intercept       -0.1340      0.103     -1.303      0.193      -0.336       0.068\n",
       "TV               3.5626      0.003   1051.118      0.000       3.556       3.569\n",
       "Radio           -0.0040      0.010     -0.406      0.685      -0.023       0.015\n",
       "Social_Media     0.0050      0.025      0.199      0.842      -0.044       0.054\n",
       "==============================================================================\n",
       "Omnibus:                        0.056   Durbin-Watson:                   1.998\n",
       "Prob(Omnibus):                  0.972   Jarque-Bera (JB):                0.034\n",
       "Skew:                          -0.001   Prob(JB):                        0.983\n",
       "Kurtosis:                       3.013   Cond. No.                         149.\n",
       "==============================================================================\n",
       "\n",
       "Notes:\n",
       "[1] Standard Errors assume that the covariance matrix of the errors is correctly specified.\n",
       "\"\"\""
      ]
     },
     "execution_count": 59,
     "metadata": {},
     "output_type": "execute_result"
    }
   ],
   "source": [
    "# formula = 'Sales ~ TV + Radio + Social_Media'\n",
    "feature_list = list(X.columns)\n",
    "formula = 'Sales~' + '+'.join(feature_list)\n",
    "ols3 = ols(formula, df1_dropna).fit()\n",
    "ols3.summary()"
   ]
  },
  {
   "cell_type": "markdown",
   "id": "dcfae9a2",
   "metadata": {},
   "source": [
    "### 답2\n",
    "3.562, 0.005, -0.004\n",
    "\n",
    "- 답1과 다른데, 보통 어떤 함수를 써서 구해라/반올림해라 하기 때문에 상관 없다"
   ]
  },
  {
   "cell_type": "markdown",
   "id": "d20f662e",
   "metadata": {},
   "source": [
    "### 참고\n",
    "- Prob(F-statistic) : 독립변수들이 종속변수에 영향을 주는지 파악\n",
    "    - 귀무가설 : $\\beta_1=\\beta_2=...=0$\n",
    "    - 대립가설 : 적어도 하나의 $\\beta$는 0이 아니다.\n",
    "- P>|t| : 종속변수에 영향을 주는 독립변수 개수 파악\n",
    "    - 귀무가설 : $\\beta_i=0$\n",
    "    - 대립가설 : $\\beta_i \\ne 0$\n",
    "- R-squared : 결정계수\n",
    "    - $R^2 = \\dfrac{\\text{SSR}}{\\text{SST}}=1-\\dfrac{\\text{SSE}}{\\text{SST}}$"
   ]
  },
  {
   "cell_type": "markdown",
   "id": "133219a6",
   "metadata": {},
   "source": [
    "# 문제 02 유형\n",
    "- Dataset_02.csv 이용"
   ]
  },
  {
   "cell_type": "code",
   "execution_count": 14,
   "id": "481a3324",
   "metadata": {},
   "outputs": [
    {
     "data": {
      "text/html": [
       "<div>\n",
       "<style scoped>\n",
       "    .dataframe tbody tr th:only-of-type {\n",
       "        vertical-align: middle;\n",
       "    }\n",
       "\n",
       "    .dataframe tbody tr th {\n",
       "        vertical-align: top;\n",
       "    }\n",
       "\n",
       "    .dataframe thead th {\n",
       "        text-align: right;\n",
       "    }\n",
       "</style>\n",
       "<table border=\"1\" class=\"dataframe\">\n",
       "  <thead>\n",
       "    <tr style=\"text-align: right;\">\n",
       "      <th></th>\n",
       "      <th>Age</th>\n",
       "      <th>Sex</th>\n",
       "      <th>BP</th>\n",
       "      <th>Cholesterol</th>\n",
       "      <th>Na_to_K</th>\n",
       "      <th>Drug</th>\n",
       "    </tr>\n",
       "  </thead>\n",
       "  <tbody>\n",
       "    <tr>\n",
       "      <th>0</th>\n",
       "      <td>23</td>\n",
       "      <td>F</td>\n",
       "      <td>HIGH</td>\n",
       "      <td>HIGH</td>\n",
       "      <td>25.355</td>\n",
       "      <td>DrugY</td>\n",
       "    </tr>\n",
       "    <tr>\n",
       "      <th>1</th>\n",
       "      <td>47</td>\n",
       "      <td>M</td>\n",
       "      <td>LOW</td>\n",
       "      <td>HIGH</td>\n",
       "      <td>13.093</td>\n",
       "      <td>drugC</td>\n",
       "    </tr>\n",
       "    <tr>\n",
       "      <th>2</th>\n",
       "      <td>47</td>\n",
       "      <td>M</td>\n",
       "      <td>LOW</td>\n",
       "      <td>HIGH</td>\n",
       "      <td>10.114</td>\n",
       "      <td>drugC</td>\n",
       "    </tr>\n",
       "  </tbody>\n",
       "</table>\n",
       "</div>"
      ],
      "text/plain": [
       "   Age Sex    BP Cholesterol  Na_to_K   Drug\n",
       "0   23   F  HIGH        HIGH   25.355  DrugY\n",
       "1   47   M   LOW        HIGH   13.093  drugC\n",
       "2   47   M   LOW        HIGH   10.114  drugC"
      ]
     },
     "execution_count": 14,
     "metadata": {},
     "output_type": "execute_result"
    }
   ],
   "source": [
    "df2 = pd.read_csv('datasets/Dataset_02.csv', encoding='utf8')\n",
    "df2.head(3)"
   ]
  },
  {
   "cell_type": "code",
   "execution_count": 15,
   "id": "b0ab0ce7",
   "metadata": {},
   "outputs": [
    {
     "name": "stdout",
     "output_type": "stream",
     "text": [
      "<class 'pandas.core.frame.DataFrame'>\n",
      "RangeIndex: 200 entries, 0 to 199\n",
      "Data columns (total 6 columns):\n",
      " #   Column       Non-Null Count  Dtype  \n",
      "---  ------       --------------  -----  \n",
      " 0   Age          200 non-null    int64  \n",
      " 1   Sex          200 non-null    object \n",
      " 2   BP           200 non-null    object \n",
      " 3   Cholesterol  200 non-null    object \n",
      " 4   Na_to_K      200 non-null    float64\n",
      " 5   Drug         200 non-null    object \n",
      "dtypes: float64(1), int64(1), object(4)\n",
      "memory usage: 9.5+ KB\n"
     ]
    }
   ],
   "source": [
    "df2.info()"
   ]
  },
  {
   "cell_type": "markdown",
   "id": "27626699",
   "metadata": {},
   "source": [
    "## 1. 여성/혈압 High/Cholesterol Normal인 환자의 비율\n",
    "- 소수점 네 번째 자리에서 반올림하여 소수점 셋째 자리까지 기술"
   ]
  },
  {
   "cell_type": "code",
   "execution_count": 61,
   "id": "1e20afe8",
   "metadata": {},
   "outputs": [
    {
     "data": {
      "text/plain": [
       "21"
      ]
     },
     "execution_count": 61,
     "metadata": {},
     "output_type": "execute_result"
    }
   ],
   "source": [
    "cond1 = (df2['Sex'] == 'F')\n",
    "cond2 = (df2['BP'] == 'HIGH')\n",
    "cond3 = (df2['Cholesterol'] == 'NORMAL')\n",
    "\n",
    "pat = df2[cond1 & cond2 & cond3].shape[0]\n",
    "pat"
   ]
  },
  {
   "cell_type": "code",
   "execution_count": 62,
   "id": "ed9946db",
   "metadata": {},
   "outputs": [
    {
     "name": "stdout",
     "output_type": "stream",
     "text": [
      "0.1050\n"
     ]
    }
   ],
   "source": [
    "ratio = pat / df2.shape[0]\n",
    "print(f'{ratio:.4f}')"
   ]
  },
  {
   "cell_type": "markdown",
   "id": "7bd42d9b",
   "metadata": {},
   "source": [
    "### 답\n",
    "0.105"
   ]
  },
  {
   "cell_type": "markdown",
   "id": "3dcdccb1",
   "metadata": {},
   "source": [
    "### 참고"
   ]
  },
  {
   "cell_type": "markdown",
   "id": "90170740",
   "metadata": {},
   "source": [
    "#### crosstab"
   ]
  },
  {
   "cell_type": "code",
   "execution_count": 63,
   "id": "f2283e39",
   "metadata": {},
   "outputs": [
    {
     "data": {
      "text/html": [
       "<div>\n",
       "<style scoped>\n",
       "    .dataframe tbody tr th:only-of-type {\n",
       "        vertical-align: middle;\n",
       "    }\n",
       "\n",
       "    .dataframe tbody tr th {\n",
       "        vertical-align: top;\n",
       "    }\n",
       "\n",
       "    .dataframe thead th {\n",
       "        text-align: right;\n",
       "    }\n",
       "</style>\n",
       "<table border=\"1\" class=\"dataframe\">\n",
       "  <thead>\n",
       "    <tr style=\"text-align: right;\">\n",
       "      <th>Cholesterol</th>\n",
       "      <th>HIGH</th>\n",
       "      <th>NORMAL</th>\n",
       "    </tr>\n",
       "    <tr>\n",
       "      <th>Sex</th>\n",
       "      <th></th>\n",
       "      <th></th>\n",
       "    </tr>\n",
       "  </thead>\n",
       "  <tbody>\n",
       "    <tr>\n",
       "      <th>F</th>\n",
       "      <td>49</td>\n",
       "      <td>47</td>\n",
       "    </tr>\n",
       "    <tr>\n",
       "      <th>M</th>\n",
       "      <td>54</td>\n",
       "      <td>50</td>\n",
       "    </tr>\n",
       "  </tbody>\n",
       "</table>\n",
       "</div>"
      ],
      "text/plain": [
       "Cholesterol  HIGH  NORMAL\n",
       "Sex                      \n",
       "F              49      47\n",
       "M              54      50"
      ]
     },
     "execution_count": 63,
     "metadata": {},
     "output_type": "execute_result"
    }
   ],
   "source": [
    "# 빈도 확인\n",
    "crosstab = pd.crosstab(index=df2['Sex'],\n",
    "                       columns=df2['Cholesterol'])\n",
    "\n",
    "crosstab"
   ]
  },
  {
   "cell_type": "code",
   "execution_count": 64,
   "id": "562363e8",
   "metadata": {},
   "outputs": [
    {
     "data": {
      "text/html": [
       "<div>\n",
       "<style scoped>\n",
       "    .dataframe tbody tr th:only-of-type {\n",
       "        vertical-align: middle;\n",
       "    }\n",
       "\n",
       "    .dataframe tbody tr th {\n",
       "        vertical-align: top;\n",
       "    }\n",
       "\n",
       "    .dataframe thead th {\n",
       "        text-align: right;\n",
       "    }\n",
       "</style>\n",
       "<table border=\"1\" class=\"dataframe\">\n",
       "  <thead>\n",
       "    <tr style=\"text-align: right;\">\n",
       "      <th>Cholesterol</th>\n",
       "      <th>HIGH</th>\n",
       "      <th>NORMAL</th>\n",
       "    </tr>\n",
       "    <tr>\n",
       "      <th>Sex</th>\n",
       "      <th></th>\n",
       "      <th></th>\n",
       "    </tr>\n",
       "  </thead>\n",
       "  <tbody>\n",
       "    <tr>\n",
       "      <th>F</th>\n",
       "      <td>0.245</td>\n",
       "      <td>0.235</td>\n",
       "    </tr>\n",
       "    <tr>\n",
       "      <th>M</th>\n",
       "      <td>0.270</td>\n",
       "      <td>0.250</td>\n",
       "    </tr>\n",
       "  </tbody>\n",
       "</table>\n",
       "</div>"
      ],
      "text/plain": [
       "Cholesterol   HIGH  NORMAL\n",
       "Sex                       \n",
       "F            0.245   0.235\n",
       "M            0.270   0.250"
      ]
     },
     "execution_count": 64,
     "metadata": {},
     "output_type": "execute_result"
    }
   ],
   "source": [
    "# 비율 확인\n",
    "crosstab = pd.crosstab(index=df2['Sex'],\n",
    "                       columns=df2['Cholesterol'],\n",
    "                      normalize=True)\n",
    "\n",
    "crosstab"
   ]
  },
  {
   "cell_type": "code",
   "execution_count": 65,
   "id": "843829e1",
   "metadata": {},
   "outputs": [
    {
     "data": {
      "text/html": [
       "<div>\n",
       "<style scoped>\n",
       "    .dataframe tbody tr th:only-of-type {\n",
       "        vertical-align: middle;\n",
       "    }\n",
       "\n",
       "    .dataframe tbody tr th {\n",
       "        vertical-align: top;\n",
       "    }\n",
       "\n",
       "    .dataframe thead tr th {\n",
       "        text-align: left;\n",
       "    }\n",
       "\n",
       "    .dataframe thead tr:last-of-type th {\n",
       "        text-align: right;\n",
       "    }\n",
       "</style>\n",
       "<table border=\"1\" class=\"dataframe\">\n",
       "  <thead>\n",
       "    <tr>\n",
       "      <th>Cholesterol</th>\n",
       "      <th colspan=\"3\" halign=\"left\">HIGH</th>\n",
       "      <th colspan=\"3\" halign=\"left\">NORMAL</th>\n",
       "    </tr>\n",
       "    <tr>\n",
       "      <th>BP</th>\n",
       "      <th>HIGH</th>\n",
       "      <th>LOW</th>\n",
       "      <th>NORMAL</th>\n",
       "      <th>HIGH</th>\n",
       "      <th>LOW</th>\n",
       "      <th>NORMAL</th>\n",
       "    </tr>\n",
       "    <tr>\n",
       "      <th>Sex</th>\n",
       "      <th></th>\n",
       "      <th></th>\n",
       "      <th></th>\n",
       "      <th></th>\n",
       "      <th></th>\n",
       "      <th></th>\n",
       "    </tr>\n",
       "  </thead>\n",
       "  <tbody>\n",
       "    <tr>\n",
       "      <th>F</th>\n",
       "      <td>0.085</td>\n",
       "      <td>0.070</td>\n",
       "      <td>0.090</td>\n",
       "      <td>0.105</td>\n",
       "      <td>0.070</td>\n",
       "      <td>0.06</td>\n",
       "    </tr>\n",
       "    <tr>\n",
       "      <th>M</th>\n",
       "      <td>0.090</td>\n",
       "      <td>0.085</td>\n",
       "      <td>0.095</td>\n",
       "      <td>0.105</td>\n",
       "      <td>0.095</td>\n",
       "      <td>0.05</td>\n",
       "    </tr>\n",
       "  </tbody>\n",
       "</table>\n",
       "</div>"
      ],
      "text/plain": [
       "Cholesterol   HIGH               NORMAL              \n",
       "BP            HIGH    LOW NORMAL   HIGH    LOW NORMAL\n",
       "Sex                                                  \n",
       "F            0.085  0.070  0.090  0.105  0.070   0.06\n",
       "M            0.090  0.085  0.095  0.105  0.095   0.05"
      ]
     },
     "execution_count": 65,
     "metadata": {},
     "output_type": "execute_result"
    }
   ],
   "source": [
    "# 3개 이상 변수 확인\n",
    "crosstab = pd.crosstab(index=df2['Sex'],\n",
    "                       columns=[df2['Cholesterol'], df2['BP']],\n",
    "                      normalize=True)\n",
    "\n",
    "crosstab"
   ]
  },
  {
   "cell_type": "code",
   "execution_count": 67,
   "id": "3da6fccb",
   "metadata": {},
   "outputs": [
    {
     "data": {
      "text/html": [
       "<div>\n",
       "<style scoped>\n",
       "    .dataframe tbody tr th:only-of-type {\n",
       "        vertical-align: middle;\n",
       "    }\n",
       "\n",
       "    .dataframe tbody tr th {\n",
       "        vertical-align: top;\n",
       "    }\n",
       "\n",
       "    .dataframe thead th {\n",
       "        text-align: right;\n",
       "    }\n",
       "</style>\n",
       "<table border=\"1\" class=\"dataframe\">\n",
       "  <thead>\n",
       "    <tr style=\"text-align: right;\">\n",
       "      <th></th>\n",
       "      <th>Cholesterol</th>\n",
       "      <th>HIGH</th>\n",
       "      <th>NORMAL</th>\n",
       "    </tr>\n",
       "    <tr>\n",
       "      <th>Sex</th>\n",
       "      <th>BP</th>\n",
       "      <th></th>\n",
       "      <th></th>\n",
       "    </tr>\n",
       "  </thead>\n",
       "  <tbody>\n",
       "    <tr>\n",
       "      <th rowspan=\"3\" valign=\"top\">F</th>\n",
       "      <th>HIGH</th>\n",
       "      <td>0.085</td>\n",
       "      <td>0.105</td>\n",
       "    </tr>\n",
       "    <tr>\n",
       "      <th>LOW</th>\n",
       "      <td>0.070</td>\n",
       "      <td>0.070</td>\n",
       "    </tr>\n",
       "    <tr>\n",
       "      <th>NORMAL</th>\n",
       "      <td>0.090</td>\n",
       "      <td>0.060</td>\n",
       "    </tr>\n",
       "    <tr>\n",
       "      <th rowspan=\"3\" valign=\"top\">M</th>\n",
       "      <th>HIGH</th>\n",
       "      <td>0.090</td>\n",
       "      <td>0.105</td>\n",
       "    </tr>\n",
       "    <tr>\n",
       "      <th>LOW</th>\n",
       "      <td>0.085</td>\n",
       "      <td>0.095</td>\n",
       "    </tr>\n",
       "    <tr>\n",
       "      <th>NORMAL</th>\n",
       "      <td>0.095</td>\n",
       "      <td>0.050</td>\n",
       "    </tr>\n",
       "  </tbody>\n",
       "</table>\n",
       "</div>"
      ],
      "text/plain": [
       "Cholesterol   HIGH  NORMAL\n",
       "Sex BP                    \n",
       "F   HIGH     0.085   0.105\n",
       "    LOW      0.070   0.070\n",
       "    NORMAL   0.090   0.060\n",
       "M   HIGH     0.090   0.105\n",
       "    LOW      0.085   0.095\n",
       "    NORMAL   0.095   0.050"
      ]
     },
     "execution_count": 67,
     "metadata": {},
     "output_type": "execute_result"
    }
   ],
   "source": [
    "# 또는\n",
    "crosstab = pd.crosstab(index=[df2['Sex'], df2['BP']],\n",
    "                       columns=df2['Cholesterol'],\n",
    "                      normalize=True)\n",
    "\n",
    "crosstab"
   ]
  },
  {
   "cell_type": "markdown",
   "id": "2fe5b57f",
   "metadata": {},
   "source": [
    "Sex=F, BP=HIGH, Cholesterol=NORMAL : 0.105"
   ]
  },
  {
   "cell_type": "markdown",
   "id": "3ed5f3ee",
   "metadata": {},
   "source": [
    "#### pivot table"
   ]
  },
  {
   "cell_type": "code",
   "execution_count": 75,
   "id": "d7550b5e",
   "metadata": {},
   "outputs": [
    {
     "data": {
      "text/html": [
       "<div>\n",
       "<style scoped>\n",
       "    .dataframe tbody tr th:only-of-type {\n",
       "        vertical-align: middle;\n",
       "    }\n",
       "\n",
       "    .dataframe tbody tr th {\n",
       "        vertical-align: top;\n",
       "    }\n",
       "\n",
       "    .dataframe thead tr th {\n",
       "        text-align: left;\n",
       "    }\n",
       "\n",
       "    .dataframe thead tr:last-of-type th {\n",
       "        text-align: right;\n",
       "    }\n",
       "</style>\n",
       "<table border=\"1\" class=\"dataframe\">\n",
       "  <thead>\n",
       "    <tr>\n",
       "      <th></th>\n",
       "      <th></th>\n",
       "      <th colspan=\"2\" halign=\"left\">Age</th>\n",
       "      <th colspan=\"2\" halign=\"left\">Drug</th>\n",
       "    </tr>\n",
       "    <tr>\n",
       "      <th></th>\n",
       "      <th>Cholesterol</th>\n",
       "      <th>HIGH</th>\n",
       "      <th>NORMAL</th>\n",
       "      <th>HIGH</th>\n",
       "      <th>NORMAL</th>\n",
       "    </tr>\n",
       "    <tr>\n",
       "      <th>Sex</th>\n",
       "      <th>BP</th>\n",
       "      <th></th>\n",
       "      <th></th>\n",
       "      <th></th>\n",
       "      <th></th>\n",
       "    </tr>\n",
       "  </thead>\n",
       "  <tbody>\n",
       "    <tr>\n",
       "      <th rowspan=\"3\" valign=\"top\">F</th>\n",
       "      <th>HIGH</th>\n",
       "      <td>41.941176</td>\n",
       "      <td>34.523810</td>\n",
       "      <td>17</td>\n",
       "      <td>21</td>\n",
       "    </tr>\n",
       "    <tr>\n",
       "      <th>LOW</th>\n",
       "      <td>46.785714</td>\n",
       "      <td>45.428571</td>\n",
       "      <td>14</td>\n",
       "      <td>14</td>\n",
       "    </tr>\n",
       "    <tr>\n",
       "      <th>NORMAL</th>\n",
       "      <td>45.166667</td>\n",
       "      <td>45.333333</td>\n",
       "      <td>18</td>\n",
       "      <td>12</td>\n",
       "    </tr>\n",
       "    <tr>\n",
       "      <th rowspan=\"3\" valign=\"top\">M</th>\n",
       "      <th>HIGH</th>\n",
       "      <td>50.666667</td>\n",
       "      <td>42.952381</td>\n",
       "      <td>18</td>\n",
       "      <td>21</td>\n",
       "    </tr>\n",
       "    <tr>\n",
       "      <th>LOW</th>\n",
       "      <td>47.235294</td>\n",
       "      <td>48.210526</td>\n",
       "      <td>17</td>\n",
       "      <td>19</td>\n",
       "    </tr>\n",
       "    <tr>\n",
       "      <th>NORMAL</th>\n",
       "      <td>41.105263</td>\n",
       "      <td>46.300000</td>\n",
       "      <td>19</td>\n",
       "      <td>10</td>\n",
       "    </tr>\n",
       "  </tbody>\n",
       "</table>\n",
       "</div>"
      ],
      "text/plain": [
       "                   Age            Drug       \n",
       "Cholesterol       HIGH     NORMAL HIGH NORMAL\n",
       "Sex BP                                       \n",
       "F   HIGH     41.941176  34.523810   17     21\n",
       "    LOW      46.785714  45.428571   14     14\n",
       "    NORMAL   45.166667  45.333333   18     12\n",
       "M   HIGH     50.666667  42.952381   18     21\n",
       "    LOW      47.235294  48.210526   17     19\n",
       "    NORMAL   41.105263  46.300000   19     10"
      ]
     },
     "execution_count": 75,
     "metadata": {},
     "output_type": "execute_result"
    }
   ],
   "source": [
    "import numpy as np\n",
    "\n",
    "pivot = pd.pivot_table(index=['Sex', 'BP'],\n",
    "                      columns=['Cholesterol'],\n",
    "                       values=['Age', 'Drug'],\n",
    "                       aggfunc={'Age':np.mean, 'Drug':'count'},\n",
    "                      data=df2)\n",
    "\n",
    "pivot"
   ]
  },
  {
   "cell_type": "code",
   "execution_count": 78,
   "id": "291f0eb6",
   "metadata": {},
   "outputs": [
    {
     "data": {
      "text/html": [
       "<div>\n",
       "<style scoped>\n",
       "    .dataframe tbody tr th:only-of-type {\n",
       "        vertical-align: middle;\n",
       "    }\n",
       "\n",
       "    .dataframe tbody tr th {\n",
       "        vertical-align: top;\n",
       "    }\n",
       "\n",
       "    .dataframe thead tr th {\n",
       "        text-align: left;\n",
       "    }\n",
       "\n",
       "    .dataframe thead tr:last-of-type th {\n",
       "        text-align: right;\n",
       "    }\n",
       "</style>\n",
       "<table border=\"1\" class=\"dataframe\">\n",
       "  <thead>\n",
       "    <tr>\n",
       "      <th></th>\n",
       "      <th></th>\n",
       "      <th colspan=\"2\" halign=\"left\">Drug</th>\n",
       "    </tr>\n",
       "    <tr>\n",
       "      <th></th>\n",
       "      <th>Cholesterol</th>\n",
       "      <th>HIGH</th>\n",
       "      <th>NORMAL</th>\n",
       "    </tr>\n",
       "    <tr>\n",
       "      <th>Sex</th>\n",
       "      <th>BP</th>\n",
       "      <th></th>\n",
       "      <th></th>\n",
       "    </tr>\n",
       "  </thead>\n",
       "  <tbody>\n",
       "    <tr>\n",
       "      <th rowspan=\"3\" valign=\"top\">F</th>\n",
       "      <th>HIGH</th>\n",
       "      <td>0.085</td>\n",
       "      <td>0.105</td>\n",
       "    </tr>\n",
       "    <tr>\n",
       "      <th>LOW</th>\n",
       "      <td>0.070</td>\n",
       "      <td>0.070</td>\n",
       "    </tr>\n",
       "    <tr>\n",
       "      <th>NORMAL</th>\n",
       "      <td>0.090</td>\n",
       "      <td>0.060</td>\n",
       "    </tr>\n",
       "    <tr>\n",
       "      <th rowspan=\"3\" valign=\"top\">M</th>\n",
       "      <th>HIGH</th>\n",
       "      <td>0.090</td>\n",
       "      <td>0.105</td>\n",
       "    </tr>\n",
       "    <tr>\n",
       "      <th>LOW</th>\n",
       "      <td>0.085</td>\n",
       "      <td>0.095</td>\n",
       "    </tr>\n",
       "    <tr>\n",
       "      <th>NORMAL</th>\n",
       "      <td>0.095</td>\n",
       "      <td>0.050</td>\n",
       "    </tr>\n",
       "  </tbody>\n",
       "</table>\n",
       "</div>"
      ],
      "text/plain": [
       "              Drug       \n",
       "Cholesterol   HIGH NORMAL\n",
       "Sex BP                   \n",
       "F   HIGH     0.085  0.105\n",
       "    LOW      0.070  0.070\n",
       "    NORMAL   0.090  0.060\n",
       "M   HIGH     0.090  0.105\n",
       "    LOW      0.085  0.095\n",
       "    NORMAL   0.095  0.050"
      ]
     },
     "execution_count": 78,
     "metadata": {},
     "output_type": "execute_result"
    }
   ],
   "source": [
    "pivot = pd.pivot_table(index=['Sex', 'BP'],\n",
    "                      columns=['Cholesterol'],\n",
    "                       values=['Drug'],\n",
    "                       aggfunc='count',\n",
    "                      data=df2)\n",
    "\n",
    "pivot/len(df2)"
   ]
  },
  {
   "cell_type": "code",
   "execution_count": 76,
   "id": "e13f2e5e",
   "metadata": {},
   "outputs": [],
   "source": [
    "pd.pivot_table?"
   ]
  },
  {
   "cell_type": "markdown",
   "id": "70b20257",
   "metadata": {},
   "source": [
    "## 2. Age, Sex, BP, Cholesterol, Na_to_k가 Drug 타입에 영향을 미치는지 확인\n",
    "- Age_gr column을 생성\n",
    "    - 20 미만은 10, 20 이상 30 미만은 20, ..., 60 이상은 60으로\n",
    "- Na_K_gr column을 생성\n",
    "    - 10 이하는 Lv1, 20 이하는 Lv2, 30 이하는 Lv3, 30 초과는 Lv4로\n",
    "- 독립성 검정 수행\n",
    "- 연관성 있는 변수 개수와 연관성이 가장 큰 변수의 p-value를 찾아 소수점 여섯 번째 자리 이하는 버리고 소수점 다섯 번째 자리에서 기술"
   ]
  },
  {
   "cell_type": "markdown",
   "id": "f7f23965",
   "metadata": {},
   "source": [
    "### 변수 생성"
   ]
  },
  {
   "cell_type": "code",
   "execution_count": 24,
   "id": "d2020666",
   "metadata": {},
   "outputs": [],
   "source": [
    "def age_gr(age):\n",
    "    if age < 20:\n",
    "        return '10'\n",
    "    elif age < 30:\n",
    "        return '20'\n",
    "    elif age < 40:\n",
    "        return '30'\n",
    "    elif age < 50:\n",
    "        return '40'\n",
    "    elif age < 60:\n",
    "        return '50'\n",
    "    else:\n",
    "        return '60'\n",
    "\n",
    "def na_k_gr(nak):\n",
    "    if nak <= 10:\n",
    "        return 'Lv1'\n",
    "    elif nak <=20:\n",
    "        return 'Lv2'\n",
    "    elif nak <=30:\n",
    "        return 'Lv3'\n",
    "    else:\n",
    "        return 'Lv4'"
   ]
  },
  {
   "cell_type": "code",
   "execution_count": 27,
   "id": "0e5e7bf8",
   "metadata": {},
   "outputs": [
    {
     "data": {
      "text/html": [
       "<div>\n",
       "<style scoped>\n",
       "    .dataframe tbody tr th:only-of-type {\n",
       "        vertical-align: middle;\n",
       "    }\n",
       "\n",
       "    .dataframe tbody tr th {\n",
       "        vertical-align: top;\n",
       "    }\n",
       "\n",
       "    .dataframe thead th {\n",
       "        text-align: right;\n",
       "    }\n",
       "</style>\n",
       "<table border=\"1\" class=\"dataframe\">\n",
       "  <thead>\n",
       "    <tr style=\"text-align: right;\">\n",
       "      <th></th>\n",
       "      <th>Age</th>\n",
       "      <th>Sex</th>\n",
       "      <th>BP</th>\n",
       "      <th>Cholesterol</th>\n",
       "      <th>Na_to_K</th>\n",
       "      <th>Drug</th>\n",
       "      <th>Age_gr</th>\n",
       "      <th>Na_K_gr</th>\n",
       "    </tr>\n",
       "  </thead>\n",
       "  <tbody>\n",
       "    <tr>\n",
       "      <th>0</th>\n",
       "      <td>23</td>\n",
       "      <td>F</td>\n",
       "      <td>HIGH</td>\n",
       "      <td>HIGH</td>\n",
       "      <td>25.355</td>\n",
       "      <td>DrugY</td>\n",
       "      <td>20</td>\n",
       "      <td>Lv3</td>\n",
       "    </tr>\n",
       "    <tr>\n",
       "      <th>1</th>\n",
       "      <td>47</td>\n",
       "      <td>M</td>\n",
       "      <td>LOW</td>\n",
       "      <td>HIGH</td>\n",
       "      <td>13.093</td>\n",
       "      <td>drugC</td>\n",
       "      <td>40</td>\n",
       "      <td>Lv2</td>\n",
       "    </tr>\n",
       "    <tr>\n",
       "      <th>2</th>\n",
       "      <td>47</td>\n",
       "      <td>M</td>\n",
       "      <td>LOW</td>\n",
       "      <td>HIGH</td>\n",
       "      <td>10.114</td>\n",
       "      <td>drugC</td>\n",
       "      <td>40</td>\n",
       "      <td>Lv2</td>\n",
       "    </tr>\n",
       "  </tbody>\n",
       "</table>\n",
       "</div>"
      ],
      "text/plain": [
       "   Age Sex    BP Cholesterol  Na_to_K   Drug  Age_gr Na_K_gr\n",
       "0   23   F  HIGH        HIGH   25.355  DrugY      20     Lv3\n",
       "1   47   M   LOW        HIGH   13.093  drugC      40     Lv2\n",
       "2   47   M   LOW        HIGH   10.114  drugC      40     Lv2"
      ]
     },
     "execution_count": 27,
     "metadata": {},
     "output_type": "execute_result"
    }
   ],
   "source": [
    "df2_pre = df2.copy()\n",
    "df2_pre['Age_gr'] = df2_pre['Age'].apply(lambda x:age_gr(x))\n",
    "df2_pre['Na_K_gr'] = df2_pre['Na_to_K'].apply(lambda x:na_k_gr(x))\n",
    "\n",
    "df2_pre.head(3)"
   ]
  },
  {
   "cell_type": "code",
   "execution_count": 79,
   "id": "3562e917",
   "metadata": {},
   "outputs": [
    {
     "data": {
      "text/html": [
       "<div>\n",
       "<style scoped>\n",
       "    .dataframe tbody tr th:only-of-type {\n",
       "        vertical-align: middle;\n",
       "    }\n",
       "\n",
       "    .dataframe tbody tr th {\n",
       "        vertical-align: top;\n",
       "    }\n",
       "\n",
       "    .dataframe thead th {\n",
       "        text-align: right;\n",
       "    }\n",
       "</style>\n",
       "<table border=\"1\" class=\"dataframe\">\n",
       "  <thead>\n",
       "    <tr style=\"text-align: right;\">\n",
       "      <th></th>\n",
       "      <th>Age</th>\n",
       "      <th>Sex</th>\n",
       "      <th>BP</th>\n",
       "      <th>Cholesterol</th>\n",
       "      <th>Na_to_K</th>\n",
       "      <th>Drug</th>\n",
       "      <th>Age_gr</th>\n",
       "    </tr>\n",
       "  </thead>\n",
       "  <tbody>\n",
       "    <tr>\n",
       "      <th>0</th>\n",
       "      <td>23</td>\n",
       "      <td>F</td>\n",
       "      <td>HIGH</td>\n",
       "      <td>HIGH</td>\n",
       "      <td>25.355</td>\n",
       "      <td>DrugY</td>\n",
       "      <td>20</td>\n",
       "    </tr>\n",
       "    <tr>\n",
       "      <th>1</th>\n",
       "      <td>47</td>\n",
       "      <td>M</td>\n",
       "      <td>LOW</td>\n",
       "      <td>HIGH</td>\n",
       "      <td>13.093</td>\n",
       "      <td>drugC</td>\n",
       "      <td>40</td>\n",
       "    </tr>\n",
       "    <tr>\n",
       "      <th>2</th>\n",
       "      <td>47</td>\n",
       "      <td>M</td>\n",
       "      <td>LOW</td>\n",
       "      <td>HIGH</td>\n",
       "      <td>10.114</td>\n",
       "      <td>drugC</td>\n",
       "      <td>40</td>\n",
       "    </tr>\n",
       "  </tbody>\n",
       "</table>\n",
       "</div>"
      ],
      "text/plain": [
       "   Age Sex    BP Cholesterol  Na_to_K   Drug Age_gr\n",
       "0   23   F  HIGH        HIGH   25.355  DrugY     20\n",
       "1   47   M   LOW        HIGH   13.093  drugC     40\n",
       "2   47   M   LOW        HIGH   10.114  drugC     40"
      ]
     },
     "execution_count": 79,
     "metadata": {},
     "output_type": "execute_result"
    }
   ],
   "source": [
    "# 다른 방법 1 - np.where() 이용\n",
    "df2_copy1 = df2.copy()\n",
    "\n",
    "df2_copy1['Age_gr'] = np.where(df2_copy1['Age']<20, '10',\n",
    "                              np.where(df2_copy1['Age']<30, '20',\n",
    "                                  np.where(df2_copy1['Age']<40, '30',\n",
    "                                        np.where(df2_copy1['Age']<50, '40',\n",
    "                                            np.where(df2_copy1['Age']<60, '50',\n",
    "                                                    '60')))))\n",
    "df2_copy1.head(3)"
   ]
  },
  {
   "cell_type": "code",
   "execution_count": 83,
   "id": "e56d553d",
   "metadata": {},
   "outputs": [
    {
     "data": {
      "text/html": [
       "<div>\n",
       "<style scoped>\n",
       "    .dataframe tbody tr th:only-of-type {\n",
       "        vertical-align: middle;\n",
       "    }\n",
       "\n",
       "    .dataframe tbody tr th {\n",
       "        vertical-align: top;\n",
       "    }\n",
       "\n",
       "    .dataframe thead th {\n",
       "        text-align: right;\n",
       "    }\n",
       "</style>\n",
       "<table border=\"1\" class=\"dataframe\">\n",
       "  <thead>\n",
       "    <tr style=\"text-align: right;\">\n",
       "      <th></th>\n",
       "      <th>Age</th>\n",
       "      <th>Sex</th>\n",
       "      <th>BP</th>\n",
       "      <th>Cholesterol</th>\n",
       "      <th>Na_to_K</th>\n",
       "      <th>Drug</th>\n",
       "      <th>Age_gr</th>\n",
       "    </tr>\n",
       "  </thead>\n",
       "  <tbody>\n",
       "    <tr>\n",
       "      <th>0</th>\n",
       "      <td>23</td>\n",
       "      <td>F</td>\n",
       "      <td>HIGH</td>\n",
       "      <td>HIGH</td>\n",
       "      <td>25.355</td>\n",
       "      <td>DrugY</td>\n",
       "      <td>20</td>\n",
       "    </tr>\n",
       "    <tr>\n",
       "      <th>1</th>\n",
       "      <td>47</td>\n",
       "      <td>M</td>\n",
       "      <td>LOW</td>\n",
       "      <td>HIGH</td>\n",
       "      <td>13.093</td>\n",
       "      <td>drugC</td>\n",
       "      <td>40</td>\n",
       "    </tr>\n",
       "    <tr>\n",
       "      <th>2</th>\n",
       "      <td>47</td>\n",
       "      <td>M</td>\n",
       "      <td>LOW</td>\n",
       "      <td>HIGH</td>\n",
       "      <td>10.114</td>\n",
       "      <td>drugC</td>\n",
       "      <td>40</td>\n",
       "    </tr>\n",
       "  </tbody>\n",
       "</table>\n",
       "</div>"
      ],
      "text/plain": [
       "   Age Sex    BP Cholesterol  Na_to_K   Drug Age_gr\n",
       "0   23   F  HIGH        HIGH   25.355  DrugY     20\n",
       "1   47   M   LOW        HIGH   13.093  drugC     40\n",
       "2   47   M   LOW        HIGH   10.114  drugC     40"
      ]
     },
     "execution_count": 83,
     "metadata": {},
     "output_type": "execute_result"
    }
   ],
   "source": [
    "# 다른 방법 2 - pandas cut() 이용\n",
    "df2_copy2 = df2.copy()\n",
    "\n",
    "# pd.cut(x, bins, right=True, labels=None)\n",
    "# bins = [x1, x2, x3, ..., xn] : x1 이상 x2 미만, x2 이상 x3 미만, ...\n",
    "df2_copy2['Age_gr'] = pd.cut(df2_copy2['Age'],\n",
    "                       [0, 20, 30, 40, 50, 60, df2_copy2['Age'].max()+1],\n",
    "                       right=False,\n",
    "                      labels=['10', '20', '30', '40', '50', '60'])\n",
    "\n",
    "df2_copy2.head(3)"
   ]
  },
  {
   "cell_type": "markdown",
   "id": "773f4cb8",
   "metadata": {},
   "source": [
    "### 독립성 검정\n",
    "- $P(A\\cap X)=n(A\\cap X) / \\Sigma$\n",
    "    - $A, B, ...$ : 변수 1의 범주들\n",
    "    - $X, Y, ...$ : 변수 2의 범주들\n",
    "    - $\\Sigma$ : 전체 빈도 합\n",
    "    - 독립인 경우 $P(A\\cap X)=P(A)$임을 이용\n",
    "- 귀무가설 : 범주와 관계 없이 빈도는 동일하다. (범주간 독립이다)\n",
    "- 대립가설 : 범주에 따라 빈도가 달라진다. (범주간 독립이 아니다 / 연관이 있다)\n",
    "- x, y 모두 범주형 변수일 경우 사용\n",
    "- x가 여럿일 경우, 따로 계산해줘야 함\n",
    "- `scipy.stats`의 `chi2_contingency()` 이용\n",
    "    - crosstab이나 pivot table 같은 빈도 테이블을 필요로 함\n",
    "- `TIL/Python Statistics/ch11. 통계적 가설검정.ipynb`의 마지막 `3-5. 카이제곱검정` 확인"
   ]
  },
  {
   "cell_type": "code",
   "execution_count": 85,
   "id": "e305ea1a",
   "metadata": {},
   "outputs": [],
   "source": [
    "import scipy.stats as sc\n",
    "\n",
    "def cal_chi2(df, var1, var2='Drug'):\n",
    "    ct = pd.crosstab(index=df[var1], columns=df[var2])\n",
    "    result = sc.chi2_contingency(ct)\n",
    "    return result"
   ]
  },
  {
   "cell_type": "code",
   "execution_count": 93,
   "id": "7e9095b2",
   "metadata": {},
   "outputs": [
    {
     "name": "stdout",
     "output_type": "stream",
     "text": [
      "Age_gr     의 독립성검정 p-value : 0.000701\n",
      "Sex        의 독립성검정 p-value : 0.713837\n",
      "BP         의 독립성검정 p-value : 0.000000\n",
      "Cholesterol의 독립성검정 p-value : 0.000596\n",
      "Na_K_gr    의 독립성검정 p-value : 0.000000\n"
     ]
    },
    {
     "data": {
      "text/html": [
       "<div>\n",
       "<style scoped>\n",
       "    .dataframe tbody tr th:only-of-type {\n",
       "        vertical-align: middle;\n",
       "    }\n",
       "\n",
       "    .dataframe tbody tr th {\n",
       "        vertical-align: top;\n",
       "    }\n",
       "\n",
       "    .dataframe thead th {\n",
       "        text-align: right;\n",
       "    }\n",
       "</style>\n",
       "<table border=\"1\" class=\"dataframe\">\n",
       "  <thead>\n",
       "    <tr style=\"text-align: right;\">\n",
       "      <th></th>\n",
       "      <th>variable</th>\n",
       "      <th>p-value</th>\n",
       "    </tr>\n",
       "  </thead>\n",
       "  <tbody>\n",
       "    <tr>\n",
       "      <th>0</th>\n",
       "      <td>Age_gr</td>\n",
       "      <td>7.010113e-04</td>\n",
       "    </tr>\n",
       "    <tr>\n",
       "      <th>1</th>\n",
       "      <td>Sex</td>\n",
       "      <td>7.138370e-01</td>\n",
       "    </tr>\n",
       "    <tr>\n",
       "      <th>2</th>\n",
       "      <td>BP</td>\n",
       "      <td>5.041733e-27</td>\n",
       "    </tr>\n",
       "    <tr>\n",
       "      <th>3</th>\n",
       "      <td>Cholesterol</td>\n",
       "      <td>5.962588e-04</td>\n",
       "    </tr>\n",
       "    <tr>\n",
       "      <th>4</th>\n",
       "      <td>Na_K_gr</td>\n",
       "      <td>1.125464e-14</td>\n",
       "    </tr>\n",
       "  </tbody>\n",
       "</table>\n",
       "</div>"
      ],
      "text/plain": [
       "      variable       p-value\n",
       "0       Age_gr  7.010113e-04\n",
       "1          Sex  7.138370e-01\n",
       "2           BP  5.041733e-27\n",
       "3  Cholesterol  5.962588e-04\n",
       "4      Na_K_gr  1.125464e-14"
      ]
     },
     "execution_count": 93,
     "metadata": {},
     "output_type": "execute_result"
    }
   ],
   "source": [
    "result_df1_values = {'variable':[], 'p-value':[]}\n",
    "\n",
    "for var in ['Age_gr', 'Sex', 'BP', 'Cholesterol', 'Na_K_gr']:\n",
    "    # 결과는 검정통계량(카이제곱), p-value, dof, 기대도수\n",
    "    chi2, pvalue, dof, E = cal_chi2(df2_pre, var)\n",
    "    print(f'{var:11}의 독립성검정 p-value : {pvalue:.6f}')\n",
    "    result_df1_values['variable'].append(var)\n",
    "    result_df1_values['p-value'].append(pvalue)\n",
    "\n",
    "result_df1 = pd.DataFrame(result_df1_values)\n",
    "result_df1"
   ]
  },
  {
   "cell_type": "code",
   "execution_count": 95,
   "id": "96ebd740",
   "metadata": {},
   "outputs": [
    {
     "data": {
      "text/html": [
       "<div>\n",
       "<style scoped>\n",
       "    .dataframe tbody tr th:only-of-type {\n",
       "        vertical-align: middle;\n",
       "    }\n",
       "\n",
       "    .dataframe tbody tr th {\n",
       "        vertical-align: top;\n",
       "    }\n",
       "\n",
       "    .dataframe thead th {\n",
       "        text-align: right;\n",
       "    }\n",
       "</style>\n",
       "<table border=\"1\" class=\"dataframe\">\n",
       "  <thead>\n",
       "    <tr style=\"text-align: right;\">\n",
       "      <th></th>\n",
       "      <th>variable</th>\n",
       "      <th>p-value</th>\n",
       "    </tr>\n",
       "  </thead>\n",
       "  <tbody>\n",
       "    <tr>\n",
       "      <th>0</th>\n",
       "      <td>Age_gr</td>\n",
       "      <td>7.010113e-04</td>\n",
       "    </tr>\n",
       "    <tr>\n",
       "      <th>2</th>\n",
       "      <td>BP</td>\n",
       "      <td>5.041733e-27</td>\n",
       "    </tr>\n",
       "    <tr>\n",
       "      <th>3</th>\n",
       "      <td>Cholesterol</td>\n",
       "      <td>5.962588e-04</td>\n",
       "    </tr>\n",
       "    <tr>\n",
       "      <th>4</th>\n",
       "      <td>Na_K_gr</td>\n",
       "      <td>1.125464e-14</td>\n",
       "    </tr>\n",
       "  </tbody>\n",
       "</table>\n",
       "</div>"
      ],
      "text/plain": [
       "      variable       p-value\n",
       "0       Age_gr  7.010113e-04\n",
       "2           BP  5.041733e-27\n",
       "3  Cholesterol  5.962588e-04\n",
       "4      Na_K_gr  1.125464e-14"
      ]
     },
     "execution_count": 95,
     "metadata": {},
     "output_type": "execute_result"
    }
   ],
   "source": [
    "result_df1_2 = result_df1[result_df1['p-value'] < 0.05]\n",
    "result_df1_2"
   ]
  },
  {
   "cell_type": "code",
   "execution_count": 96,
   "id": "a107ea54",
   "metadata": {},
   "outputs": [
    {
     "data": {
      "text/plain": [
       "(4, 0.0007010113024729462)"
      ]
     },
     "execution_count": 96,
     "metadata": {},
     "output_type": "execute_result"
    }
   ],
   "source": [
    "len(result_df1_2), result_df1_2.sort_values(by='p-value', ascending=False)['p-value'][0] "
   ]
  },
  {
   "cell_type": "markdown",
   "id": "a405739c",
   "metadata": {},
   "source": [
    "### 답\n",
    "4, 0.00070"
   ]
  },
  {
   "cell_type": "markdown",
   "id": "1c2365cd",
   "metadata": {},
   "source": [
    "## 3. 의사결정나무를 이용한 분석 수행\n",
    "- Sex_cd : M=0, F=1\n",
    "- BP_cd : LOW=0, NORMAL=1, HIGH=2\n",
    "- Ch_cd : NORMAL=0, HIGH=1\n",
    "- Age, Na_to_k, Sex_cd, BP_cd, Ch_cd를 Feature로, Drug를 Label로 하여 의사결정나무 수행\n",
    "- Root Node의 split feature와 split value 기술\n",
    "- split value는 소수점 셋째 자리까지 반올림"
   ]
  },
  {
   "cell_type": "code",
   "execution_count": 46,
   "id": "5b691e3b",
   "metadata": {},
   "outputs": [],
   "source": [
    "df2_pre['Sex_cd'] = df2_pre['Sex'].replace({'M':0, 'F':1})\n",
    "df2_pre['BP_cd'] = df2_pre['BP'].replace({'LOW':0, 'NORMAL':1, 'HIGH':2})\n",
    "df2_pre['Ch_cd'] = df2_pre['Cholesterol'].replace({'NORMAL':0, 'HIGH':1})\n",
    "\n",
    "X_features = df2_pre[['Age', 'Na_to_K', 'Sex_cd', 'BP_cd', 'Ch_cd']]\n",
    "y_label = df2_pre['Drug']"
   ]
  },
  {
   "cell_type": "code",
   "execution_count": 47,
   "id": "0b60970e",
   "metadata": {},
   "outputs": [
    {
     "data": {
      "text/html": [
       "<div>\n",
       "<style scoped>\n",
       "    .dataframe tbody tr th:only-of-type {\n",
       "        vertical-align: middle;\n",
       "    }\n",
       "\n",
       "    .dataframe tbody tr th {\n",
       "        vertical-align: top;\n",
       "    }\n",
       "\n",
       "    .dataframe thead th {\n",
       "        text-align: right;\n",
       "    }\n",
       "</style>\n",
       "<table border=\"1\" class=\"dataframe\">\n",
       "  <thead>\n",
       "    <tr style=\"text-align: right;\">\n",
       "      <th></th>\n",
       "      <th>Age</th>\n",
       "      <th>Na_to_K</th>\n",
       "      <th>Sex_cd</th>\n",
       "      <th>BP_cd</th>\n",
       "      <th>Ch_cd</th>\n",
       "    </tr>\n",
       "  </thead>\n",
       "  <tbody>\n",
       "    <tr>\n",
       "      <th>0</th>\n",
       "      <td>23</td>\n",
       "      <td>25.355</td>\n",
       "      <td>1</td>\n",
       "      <td>2</td>\n",
       "      <td>1</td>\n",
       "    </tr>\n",
       "    <tr>\n",
       "      <th>1</th>\n",
       "      <td>47</td>\n",
       "      <td>13.093</td>\n",
       "      <td>0</td>\n",
       "      <td>0</td>\n",
       "      <td>1</td>\n",
       "    </tr>\n",
       "    <tr>\n",
       "      <th>2</th>\n",
       "      <td>47</td>\n",
       "      <td>10.114</td>\n",
       "      <td>0</td>\n",
       "      <td>0</td>\n",
       "      <td>1</td>\n",
       "    </tr>\n",
       "  </tbody>\n",
       "</table>\n",
       "</div>"
      ],
      "text/plain": [
       "   Age  Na_to_K  Sex_cd  BP_cd  Ch_cd\n",
       "0   23   25.355       1      2      1\n",
       "1   47   13.093       0      0      1\n",
       "2   47   10.114       0      0      1"
      ]
     },
     "execution_count": 47,
     "metadata": {},
     "output_type": "execute_result"
    }
   ],
   "source": [
    "X_features.head(3)"
   ]
  },
  {
   "cell_type": "code",
   "execution_count": 99,
   "id": "4d88d8ff",
   "metadata": {},
   "outputs": [
    {
     "data": {
      "text/plain": [
       "DecisionTreeClassifier()"
      ]
     },
     "execution_count": 99,
     "metadata": {},
     "output_type": "execute_result"
    }
   ],
   "source": [
    "from sklearn.tree import DecisionTreeClassifier, plot_tree, export_text # ,export_graphviz\n",
    "\n",
    "dt_clf = DecisionTreeClassifier()\n",
    "dt_clf.fit(X_features, y_label)"
   ]
  },
  {
   "cell_type": "code",
   "execution_count": 107,
   "id": "5d99b78f",
   "metadata": {},
   "outputs": [
    {
     "data": {
      "text/plain": [
       "'|--- Na_to_K <= 14.8285\\n|   |--- BP_cd <= 1.5000\\n|   |   |--- BP_cd <= 0.5000\\n|   |   |   |--- Ch_cd <= 0.5000\\n|   |   |   |   |--- class: drugX\\n|   |   |   |--- Ch_cd >  0.5000\\n|   |   |   |   |--- class: drugC\\n|   |   |--- BP_cd >  0.5000\\n|   |   |   |--- class: drugX\\n|   |--- BP_cd >  1.5000\\n|   |   |--- Age <= 50.5000\\n|   |   |   |--- class: drugA\\n|   |   |--- Age >  50.5000\\n|   |   |   |--- class: drugB\\n|--- Na_to_K >  14.8285\\n|   |--- class: DrugY\\n'"
      ]
     },
     "execution_count": 107,
     "metadata": {},
     "output_type": "execute_result"
    }
   ],
   "source": [
    "export_text(dt_clf, feature_names=list(X_features.columns), decimals=4)"
   ]
  },
  {
   "cell_type": "code",
   "execution_count": 113,
   "id": "e6baf0a4",
   "metadata": {},
   "outputs": [
    {
     "data": {
      "image/png": "[encoded data removed]",
      "text/plain": [
       "<Figure size 720x432 with 1 Axes>"
      ]
     },
     "metadata": {
      "needs_background": "light"
     },
     "output_type": "display_data"
    }
   ],
   "source": [
    "import matplotlib.pyplot as plt\n",
    "plt.figure(figsize=(10, 6))\n",
    "plot_tree(dt_clf, feature_names=list(X_features.columns), class_names=y_label.unique(), precision=4)\n",
    "plt.show()"
   ]
  },
  {
   "cell_type": "markdown",
   "id": "2f219c14",
   "metadata": {},
   "source": [
    "### 답\n",
    "Na_to_K, 14.829"
   ]
  },
  {
   "cell_type": "markdown",
   "id": "1dc31cdd",
   "metadata": {},
   "source": [
    "# 문제 03 유형\n",
    "- Dataset_03.csv 이용"
   ]
  },
  {
   "cell_type": "code",
   "execution_count": 114,
   "id": "d12af3ed",
   "metadata": {},
   "outputs": [
    {
     "data": {
      "text/html": [
       "<div>\n",
       "<style scoped>\n",
       "    .dataframe tbody tr th:only-of-type {\n",
       "        vertical-align: middle;\n",
       "    }\n",
       "\n",
       "    .dataframe tbody tr th {\n",
       "        vertical-align: top;\n",
       "    }\n",
       "\n",
       "    .dataframe thead th {\n",
       "        text-align: right;\n",
       "    }\n",
       "</style>\n",
       "<table border=\"1\" class=\"dataframe\">\n",
       "  <thead>\n",
       "    <tr style=\"text-align: right;\">\n",
       "      <th></th>\n",
       "      <th>long_hair</th>\n",
       "      <th>forehead_width_cm</th>\n",
       "      <th>forehead_height_cm</th>\n",
       "      <th>nose_wide</th>\n",
       "      <th>nose_long</th>\n",
       "      <th>lips_thin</th>\n",
       "      <th>distance_nose_to_lip_long</th>\n",
       "      <th>gender</th>\n",
       "    </tr>\n",
       "  </thead>\n",
       "  <tbody>\n",
       "    <tr>\n",
       "      <th>0</th>\n",
       "      <td>1</td>\n",
       "      <td>11.8</td>\n",
       "      <td>6.1</td>\n",
       "      <td>1</td>\n",
       "      <td>0</td>\n",
       "      <td>1</td>\n",
       "      <td>1</td>\n",
       "      <td>Male</td>\n",
       "    </tr>\n",
       "    <tr>\n",
       "      <th>1</th>\n",
       "      <td>0</td>\n",
       "      <td>14.0</td>\n",
       "      <td>5.4</td>\n",
       "      <td>0</td>\n",
       "      <td>0</td>\n",
       "      <td>1</td>\n",
       "      <td>0</td>\n",
       "      <td>Female</td>\n",
       "    </tr>\n",
       "    <tr>\n",
       "      <th>2</th>\n",
       "      <td>0</td>\n",
       "      <td>11.8</td>\n",
       "      <td>6.3</td>\n",
       "      <td>1</td>\n",
       "      <td>1</td>\n",
       "      <td>1</td>\n",
       "      <td>1</td>\n",
       "      <td>Male</td>\n",
       "    </tr>\n",
       "  </tbody>\n",
       "</table>\n",
       "</div>"
      ],
      "text/plain": [
       "   long_hair  forehead_width_cm  forehead_height_cm  nose_wide  nose_long  \\\n",
       "0          1               11.8                 6.1          1          0   \n",
       "1          0               14.0                 5.4          0          0   \n",
       "2          0               11.8                 6.3          1          1   \n",
       "\n",
       "   lips_thin  distance_nose_to_lip_long  gender  \n",
       "0          1                          1    Male  \n",
       "1          1                          0  Female  \n",
       "2          1                          1    Male  "
      ]
     },
     "execution_count": 114,
     "metadata": {},
     "output_type": "execute_result"
    }
   ],
   "source": [
    "import pandas as pd\n",
    "\n",
    "df3 = pd.read_csv('datasets/Dataset_03.csv', encoding='utf8')\n",
    "df3.head(3)"
   ]
  },
  {
   "cell_type": "code",
   "execution_count": 115,
   "id": "ead08a69",
   "metadata": {},
   "outputs": [
    {
     "name": "stdout",
     "output_type": "stream",
     "text": [
      "<class 'pandas.core.frame.DataFrame'>\n",
      "RangeIndex: 5001 entries, 0 to 5000\n",
      "Data columns (total 8 columns):\n",
      " #   Column                     Non-Null Count  Dtype  \n",
      "---  ------                     --------------  -----  \n",
      " 0   long_hair                  5001 non-null   int64  \n",
      " 1   forehead_width_cm          5001 non-null   float64\n",
      " 2   forehead_height_cm         5001 non-null   float64\n",
      " 3   nose_wide                  5001 non-null   int64  \n",
      " 4   nose_long                  5001 non-null   int64  \n",
      " 5   lips_thin                  5001 non-null   int64  \n",
      " 6   distance_nose_to_lip_long  5001 non-null   int64  \n",
      " 7   gender                     5001 non-null   object \n",
      "dtypes: float64(2), int64(5), object(1)\n",
      "memory usage: 312.7+ KB\n"
     ]
    }
   ],
   "source": [
    "df3.info()"
   ]
  },
  {
   "cell_type": "markdown",
   "id": "ff109667",
   "metadata": {},
   "source": [
    "## 1. 이마의 폭과 높이 비율에 대해, 평균으로부터 3 표준편차 밖의 경우를 이상치로 정의\n",
    "- 이상치에 해당하는 데이터는 몇 개인가"
   ]
  },
  {
   "cell_type": "code",
   "execution_count": 116,
   "id": "647690c9",
   "metadata": {},
   "outputs": [
    {
     "data": {
      "text/plain": [
       "(2.233618718921451, 0.2645252969973522)"
      ]
     },
     "execution_count": 116,
     "metadata": {},
     "output_type": "execute_result"
    }
   ],
   "source": [
    "df3['forehead_ratio'] = df3['forehead_width_cm'] / df3['forehead_height_cm']\n",
    "\n",
    "forehead_ratio_avg = df3['forehead_ratio'].mean()\n",
    "forehead_ratio_std = df3['forehead_ratio'].std()\n",
    "\n",
    "forehead_ratio_avg, forehead_ratio_std"
   ]
  },
  {
   "cell_type": "code",
   "execution_count": 117,
   "id": "38a32254",
   "metadata": {},
   "outputs": [
    {
     "data": {
      "text/plain": [
       "3"
      ]
     },
     "execution_count": 117,
     "metadata": {},
     "output_type": "execute_result"
    }
   ],
   "source": [
    "upper = forehead_ratio_avg + 3 * forehead_ratio_std\n",
    "lower = forehead_ratio_avg - 3 * forehead_ratio_std\n",
    "cond1 = (df3['forehead_ratio'] > upper)\n",
    "cond2 = (df3['forehead_ratio'] < lower)\n",
    "\n",
    "forehead_outlier = df3[cond1 | cond2]\n",
    "len(forehead_outlier)"
   ]
  },
  {
   "cell_type": "markdown",
   "id": "08155996",
   "metadata": {},
   "source": [
    "### 답\n",
    "3"
   ]
  },
  {
   "cell_type": "markdown",
   "id": "ab517d14",
   "metadata": {},
   "source": [
    "## 2. 성별에 따라 forehead_ratio 평균에 차이가 있는지 검정\n",
    "- 이분산 가정\n",
    "- 검정통계량 추정치는 절댓값을 취한 후 소수점 셋째 자리에서 반올림\n",
    "- 신뢰수준 99%에서 양측 검정을 수행한 후 귀무가설 기각하면 Y, 아니면 N"
   ]
  },
  {
   "cell_type": "code",
   "execution_count": 120,
   "id": "c704a6f6",
   "metadata": {},
   "outputs": [
    {
     "data": {
      "text/plain": [
       "(2.9994984197511543, 0.0027186702390657176)"
      ]
     },
     "execution_count": 120,
     "metadata": {},
     "output_type": "execute_result"
    }
   ],
   "source": [
    "from scipy.stats import ttest_ind\n",
    "\n",
    "df3_male = df3[df3['gender'] == 'Male']['forehead_ratio']\n",
    "df3_female = df3[df3['gender'] == 'Female']['forehead_ratio']\n",
    "\n",
    "t, p = ttest_ind(df3_male, df3_female, equal_var=False)\n",
    "t, p"
   ]
  },
  {
   "cell_type": "markdown",
   "id": "ab4d61f1",
   "metadata": {},
   "source": [
    "### 답\n",
    "\n",
    "3.00, Y"
   ]
  },
  {
   "cell_type": "markdown",
   "id": "19ad1012",
   "metadata": {},
   "source": [
    "### 참고\n",
    "- 독립 표본 t검정인지, 대응 표본 t검정인지 판단해야함\n",
    "- 대응 : 분산을 고려하지 않음\n",
    "- 독립 : 분산을 고려해야 함 >> 이분산 가정이라는 것에서 독립 표본 t검정임을 확인\n",
    "\n",
    "```python\n",
    "# 독립 표본 t검정\n",
    "from scipy.stats import ttest_1samp, ttest_rel\n",
    "t, p = ttest_rel(X, Y)\n",
    "# t, p = ttest_1samp(X-Y, 0) # X, Y의 길이가 같아야함\n",
    "\n",
    "# 대응 표본 t검정, 양측검정\n",
    "from scipy.stats import ttest_ind\n",
    "t, p = ttest_ind(X, Y, equal_var=False, alternative='two-sided')\n",
    "```"
   ]
  },
  {
   "cell_type": "markdown",
   "id": "ec98ad18",
   "metadata": {},
   "source": [
    "## 3. 성별 구분을 로지스틱 회귀분석 적용\n",
    "- train:test = 7:3, seed=123\n",
    "- forehead_ratio를 제외한 7개 변수를 feature로, gender를 label로\n",
    "- 예측 수행, 정확도 평가 (임계값 0.5)\n",
    "- male에 대해 precision 값을 소수점 둘째 자리까지 반올림"
   ]
  },
  {
   "cell_type": "code",
   "execution_count": 233,
   "id": "93b3f974",
   "metadata": {},
   "outputs": [
    {
     "data": {
      "text/plain": [
       "(3500, 7)"
      ]
     },
     "execution_count": 233,
     "metadata": {},
     "output_type": "execute_result"
    }
   ],
   "source": [
    "from sklearn.linear_model import LogisticRegression\n",
    "from sklearn.model_selection import train_test_split\n",
    "from sklearn.metrics import precision_score\n",
    "\n",
    "X_features = df3.drop(columns=['gender', 'forehead_ratio'])\n",
    "# y_label = df3['gender'].replace({'Male':1, 'Female':0})\n",
    "y_label = df3['gender']\n",
    "\n",
    "X_train, X_test, y_train, y_test = train_test_split(X_features, y_label,\n",
    "                                                    test_size=0.3,\n",
    "                                                   random_state=123)\n",
    "\n",
    "X_train.shape"
   ]
  },
  {
   "cell_type": "code",
   "execution_count": 234,
   "id": "37a3a8c2",
   "metadata": {},
   "outputs": [
    {
     "data": {
      "text/plain": [
       "0.9596354166666666"
      ]
     },
     "execution_count": 234,
     "metadata": {},
     "output_type": "execute_result"
    }
   ],
   "source": [
    "lr_clf = LogisticRegression()\n",
    "lr_clf.fit(X_train, y_train)\n",
    "pred = lr_clf.predict(X_test)\n",
    "# pred_proba = lr_clf.predict_proba(X_test)[:, 1]\n",
    "# pred = np.where(pred_proba>=0.5, 'Male', 'Female').reshape(-1, 1)\n",
    "# precision_score(y_test, pred)\n",
    "precision_score(y_test, pred, pos_label='Male')"
   ]
  },
  {
   "cell_type": "markdown",
   "id": "e0aa32c1",
   "metadata": {},
   "source": [
    "### 답\n",
    "0.96"
   ]
  },
  {
   "cell_type": "markdown",
   "id": "86832dc0",
   "metadata": {},
   "source": [
    "### 참고"
   ]
  },
  {
   "cell_type": "code",
   "execution_count": 235,
   "id": "f791384b",
   "metadata": {},
   "outputs": [
    {
     "name": "stdout",
     "output_type": "stream",
     "text": [
      "              precision    recall  f1-score   support\n",
      "\n",
      "      Female      0.971     0.958     0.965       743\n",
      "        Male      0.960     0.972     0.966       758\n",
      "\n",
      "    accuracy                          0.965      1501\n",
      "   macro avg      0.965     0.965     0.965      1501\n",
      "weighted avg      0.965     0.965     0.965      1501\n",
      "\n"
     ]
    }
   ],
   "source": [
    "from sklearn.metrics import classification_report\n",
    "\n",
    "print(classification_report(y_test, pred, digits=3, target_names=['Female', 'Male']))"
   ]
  },
  {
   "cell_type": "code",
   "execution_count": 236,
   "id": "d7421c28",
   "metadata": {},
   "outputs": [
    {
     "data": {
      "text/plain": [
       "array([[712,  31],\n",
       "       [ 21, 737]], dtype=int64)"
      ]
     },
     "execution_count": 236,
     "metadata": {},
     "output_type": "execute_result"
    }
   ],
   "source": [
    "from sklearn.metrics import confusion_matrix\n",
    "\n",
    "confusion_matrix(y_test, pred)"
   ]
  },
  {
   "cell_type": "markdown",
   "id": "68ea8dac",
   "metadata": {},
   "source": [
    "# 문제 04 유형\n",
    "- DataSet_04.csv 이용"
   ]
  },
  {
   "cell_type": "code",
   "execution_count": 139,
   "id": "cb1d21d2",
   "metadata": {},
   "outputs": [
    {
     "data": {
      "text/html": [
       "<div>\n",
       "<style scoped>\n",
       "    .dataframe tbody tr th:only-of-type {\n",
       "        vertical-align: middle;\n",
       "    }\n",
       "\n",
       "    .dataframe tbody tr th {\n",
       "        vertical-align: top;\n",
       "    }\n",
       "\n",
       "    .dataframe thead th {\n",
       "        text-align: right;\n",
       "    }\n",
       "</style>\n",
       "<table border=\"1\" class=\"dataframe\">\n",
       "  <thead>\n",
       "    <tr style=\"text-align: right;\">\n",
       "      <th></th>\n",
       "      <th>LOCATION</th>\n",
       "      <th>SUBJECT</th>\n",
       "      <th>TIME</th>\n",
       "      <th>Value</th>\n",
       "    </tr>\n",
       "  </thead>\n",
       "  <tbody>\n",
       "    <tr>\n",
       "      <th>0</th>\n",
       "      <td>AUS</td>\n",
       "      <td>BEEF</td>\n",
       "      <td>1991</td>\n",
       "      <td>27.721815</td>\n",
       "    </tr>\n",
       "    <tr>\n",
       "      <th>1</th>\n",
       "      <td>AUS</td>\n",
       "      <td>BEEF</td>\n",
       "      <td>1992</td>\n",
       "      <td>26.199591</td>\n",
       "    </tr>\n",
       "    <tr>\n",
       "      <th>2</th>\n",
       "      <td>AUS</td>\n",
       "      <td>BEEF</td>\n",
       "      <td>1993</td>\n",
       "      <td>26.169094</td>\n",
       "    </tr>\n",
       "  </tbody>\n",
       "</table>\n",
       "</div>"
      ],
      "text/plain": [
       "  LOCATION SUBJECT  TIME      Value\n",
       "0      AUS    BEEF  1991  27.721815\n",
       "1      AUS    BEEF  1992  26.199591\n",
       "2      AUS    BEEF  1993  26.169094"
      ]
     },
     "execution_count": 139,
     "metadata": {},
     "output_type": "execute_result"
    }
   ],
   "source": [
    "import pandas as pd\n",
    "\n",
    "df4 = pd.read_csv('datasets/Dataset_04.csv', encoding='utf8')\n",
    "df4.head(3)"
   ]
  },
  {
   "cell_type": "code",
   "execution_count": 140,
   "id": "e841e1bc",
   "metadata": {},
   "outputs": [
    {
     "name": "stdout",
     "output_type": "stream",
     "text": [
      "<class 'pandas.core.frame.DataFrame'>\n",
      "RangeIndex: 6718 entries, 0 to 6717\n",
      "Data columns (total 4 columns):\n",
      " #   Column    Non-Null Count  Dtype  \n",
      "---  ------    --------------  -----  \n",
      " 0   LOCATION  6718 non-null   object \n",
      " 1   SUBJECT   6718 non-null   object \n",
      " 2   TIME      6718 non-null   int64  \n",
      " 3   Value     6718 non-null   float64\n",
      "dtypes: float64(1), int64(1), object(2)\n",
      "memory usage: 210.1+ KB\n"
     ]
    }
   ],
   "source": [
    "df4.info()"
   ]
  },
  {
   "cell_type": "markdown",
   "id": "59127c4e",
   "metadata": {},
   "source": [
    "## 1. 연도별 육류 소비량 합계를 구하여 TIME과 Value간 상관분석\n",
    "- 한국 데이터만 추출\n",
    "- 상관계수를 소수점 셋째 자리에서 반올림하여 소수점 둘째 자리까지"
   ]
  },
  {
   "cell_type": "code",
   "execution_count": 177,
   "id": "8b521eb1",
   "metadata": {},
   "outputs": [
    {
     "data": {
      "text/plain": [
       "146"
      ]
     },
     "execution_count": 177,
     "metadata": {},
     "output_type": "execute_result"
    }
   ],
   "source": [
    "df4_kor = df4[df4['LOCATION'] == 'KOR']\n",
    "len(df4_kor)"
   ]
  },
  {
   "cell_type": "code",
   "execution_count": 178,
   "id": "2e19056b",
   "metadata": {},
   "outputs": [
    {
     "data": {
      "text/plain": [
       "array([1991, 1992, 1993, 1994, 1995, 1996, 1997, 1998, 1999, 2000, 2001,\n",
       "       2002, 2003, 2004, 2005, 2006, 2007, 2008, 2009, 2010, 2011, 2012,\n",
       "       2013, 2014, 2015, 2016, 2017, 2018, 2019, 2020, 2021, 2022, 2023,\n",
       "       2024, 2025, 2026, 1990], dtype=int64)"
      ]
     },
     "execution_count": 178,
     "metadata": {},
     "output_type": "execute_result"
    }
   ],
   "source": [
    "df4_kor['TIME'].unique()"
   ]
  },
  {
   "cell_type": "code",
   "execution_count": 179,
   "id": "52a061b3",
   "metadata": {},
   "outputs": [
    {
     "data": {
      "text/html": [
       "<div>\n",
       "<style scoped>\n",
       "    .dataframe tbody tr th:only-of-type {\n",
       "        vertical-align: middle;\n",
       "    }\n",
       "\n",
       "    .dataframe tbody tr th {\n",
       "        vertical-align: top;\n",
       "    }\n",
       "\n",
       "    .dataframe thead th {\n",
       "        text-align: right;\n",
       "    }\n",
       "</style>\n",
       "<table border=\"1\" class=\"dataframe\">\n",
       "  <thead>\n",
       "    <tr style=\"text-align: right;\">\n",
       "      <th></th>\n",
       "      <th>TIME</th>\n",
       "      <th>Value</th>\n",
       "    </tr>\n",
       "  </thead>\n",
       "  <tbody>\n",
       "    <tr>\n",
       "      <th>0</th>\n",
       "      <td>1990</td>\n",
       "      <td>5.774255</td>\n",
       "    </tr>\n",
       "    <tr>\n",
       "      <th>1</th>\n",
       "      <td>1991</td>\n",
       "      <td>21.911207</td>\n",
       "    </tr>\n",
       "    <tr>\n",
       "      <th>2</th>\n",
       "      <td>1992</td>\n",
       "      <td>26.901769</td>\n",
       "    </tr>\n",
       "  </tbody>\n",
       "</table>\n",
       "</div>"
      ],
      "text/plain": [
       "   TIME      Value\n",
       "0  1990   5.774255\n",
       "1  1991  21.911207\n",
       "2  1992  26.901769"
      ]
     },
     "execution_count": 179,
     "metadata": {},
     "output_type": "execute_result"
    }
   ],
   "source": [
    "df4_kor_year = df4_kor.groupby('TIME').sum().reset_index()\n",
    "df4_kor_year.head(3)"
   ]
  },
  {
   "cell_type": "code",
   "execution_count": 180,
   "id": "3aeab54b",
   "metadata": {},
   "outputs": [
    {
     "data": {
      "text/plain": [
       "37"
      ]
     },
     "execution_count": 180,
     "metadata": {},
     "output_type": "execute_result"
    }
   ],
   "source": [
    "len(df4_kor_year)"
   ]
  },
  {
   "cell_type": "code",
   "execution_count": 181,
   "id": "f2b06db4",
   "metadata": {},
   "outputs": [
    {
     "data": {
      "text/html": [
       "<div>\n",
       "<style scoped>\n",
       "    .dataframe tbody tr th:only-of-type {\n",
       "        vertical-align: middle;\n",
       "    }\n",
       "\n",
       "    .dataframe tbody tr th {\n",
       "        vertical-align: top;\n",
       "    }\n",
       "\n",
       "    .dataframe thead th {\n",
       "        text-align: right;\n",
       "    }\n",
       "</style>\n",
       "<table border=\"1\" class=\"dataframe\">\n",
       "  <thead>\n",
       "    <tr style=\"text-align: right;\">\n",
       "      <th></th>\n",
       "      <th>TIME</th>\n",
       "      <th>Value</th>\n",
       "    </tr>\n",
       "  </thead>\n",
       "  <tbody>\n",
       "    <tr>\n",
       "      <th>TIME</th>\n",
       "      <td>1.000000</td>\n",
       "      <td>0.960124</td>\n",
       "    </tr>\n",
       "    <tr>\n",
       "      <th>Value</th>\n",
       "      <td>0.960124</td>\n",
       "      <td>1.000000</td>\n",
       "    </tr>\n",
       "  </tbody>\n",
       "</table>\n",
       "</div>"
      ],
      "text/plain": [
       "           TIME     Value\n",
       "TIME   1.000000  0.960124\n",
       "Value  0.960124  1.000000"
      ]
     },
     "execution_count": 181,
     "metadata": {},
     "output_type": "execute_result"
    }
   ],
   "source": [
    "df4_kor_year.corr()"
   ]
  },
  {
   "cell_type": "markdown",
   "id": "f6dbd74a",
   "metadata": {},
   "source": [
    "### 답\n",
    "0.96"
   ]
  },
  {
   "cell_type": "markdown",
   "id": "a068074d",
   "metadata": {},
   "source": [
    "## 2. 한국과 일본을 비교하여 연도별 소비량 평균 차이 분석\n",
    "- 육류별 소비량을 연도 기준으로 비교\n",
    "- 연도별 소비량 차이가 없는 것으로 판단할 수 있는 육류를 알파벳 순으로 나열"
   ]
  },
  {
   "cell_type": "code",
   "execution_count": 182,
   "id": "c73849a6",
   "metadata": {},
   "outputs": [
    {
     "data": {
      "text/html": [
       "<div>\n",
       "<style scoped>\n",
       "    .dataframe tbody tr th:only-of-type {\n",
       "        vertical-align: middle;\n",
       "    }\n",
       "\n",
       "    .dataframe tbody tr th {\n",
       "        vertical-align: top;\n",
       "    }\n",
       "\n",
       "    .dataframe thead th {\n",
       "        text-align: right;\n",
       "    }\n",
       "</style>\n",
       "<table border=\"1\" class=\"dataframe\">\n",
       "  <thead>\n",
       "    <tr style=\"text-align: right;\">\n",
       "      <th></th>\n",
       "      <th>LOCATION</th>\n",
       "      <th>SUBJECT</th>\n",
       "      <th>TIME</th>\n",
       "      <th>Value</th>\n",
       "    </tr>\n",
       "  </thead>\n",
       "  <tbody>\n",
       "    <tr>\n",
       "      <th>294</th>\n",
       "      <td>JPN</td>\n",
       "      <td>BEEF</td>\n",
       "      <td>1990</td>\n",
       "      <td>6.111035</td>\n",
       "    </tr>\n",
       "    <tr>\n",
       "      <th>295</th>\n",
       "      <td>JPN</td>\n",
       "      <td>BEEF</td>\n",
       "      <td>1991</td>\n",
       "      <td>6.517055</td>\n",
       "    </tr>\n",
       "    <tr>\n",
       "      <th>296</th>\n",
       "      <td>JPN</td>\n",
       "      <td>BEEF</td>\n",
       "      <td>1992</td>\n",
       "      <td>6.766244</td>\n",
       "    </tr>\n",
       "  </tbody>\n",
       "</table>\n",
       "</div>"
      ],
      "text/plain": [
       "    LOCATION SUBJECT  TIME     Value\n",
       "294      JPN    BEEF  1990  6.111035\n",
       "295      JPN    BEEF  1991  6.517055\n",
       "296      JPN    BEEF  1992  6.766244"
      ]
     },
     "execution_count": 182,
     "metadata": {},
     "output_type": "execute_result"
    }
   ],
   "source": [
    "df4_jpn = df4[df4['LOCATION'] == 'JPN']\n",
    "df4_jpn.head(3)"
   ]
  },
  {
   "cell_type": "code",
   "execution_count": 184,
   "id": "e0f3ddac",
   "metadata": {},
   "outputs": [
    {
     "data": {
      "text/html": [
       "<div>\n",
       "<style scoped>\n",
       "    .dataframe tbody tr th:only-of-type {\n",
       "        vertical-align: middle;\n",
       "    }\n",
       "\n",
       "    .dataframe tbody tr th {\n",
       "        vertical-align: top;\n",
       "    }\n",
       "\n",
       "    .dataframe thead th {\n",
       "        text-align: right;\n",
       "    }\n",
       "</style>\n",
       "<table border=\"1\" class=\"dataframe\">\n",
       "  <thead>\n",
       "    <tr style=\"text-align: right;\">\n",
       "      <th></th>\n",
       "      <th>LOCATION_x</th>\n",
       "      <th>SUBJECT</th>\n",
       "      <th>TIME</th>\n",
       "      <th>KOR</th>\n",
       "      <th>LOCATION_y</th>\n",
       "      <th>JPN</th>\n",
       "    </tr>\n",
       "  </thead>\n",
       "  <tbody>\n",
       "    <tr>\n",
       "      <th>0</th>\n",
       "      <td>KOR</td>\n",
       "      <td>BEEF</td>\n",
       "      <td>1991</td>\n",
       "      <td>5.085481</td>\n",
       "      <td>JPN</td>\n",
       "      <td>6.517055</td>\n",
       "    </tr>\n",
       "    <tr>\n",
       "      <th>1</th>\n",
       "      <td>KOR</td>\n",
       "      <td>BEEF</td>\n",
       "      <td>1992</td>\n",
       "      <td>5.685434</td>\n",
       "      <td>JPN</td>\n",
       "      <td>6.766244</td>\n",
       "    </tr>\n",
       "    <tr>\n",
       "      <th>2</th>\n",
       "      <td>KOR</td>\n",
       "      <td>BEEF</td>\n",
       "      <td>1993</td>\n",
       "      <td>5.325765</td>\n",
       "      <td>JPN</td>\n",
       "      <td>7.406407</td>\n",
       "    </tr>\n",
       "  </tbody>\n",
       "</table>\n",
       "</div>"
      ],
      "text/plain": [
       "  LOCATION_x SUBJECT  TIME       KOR LOCATION_y       JPN\n",
       "0        KOR    BEEF  1991  5.085481        JPN  6.517055\n",
       "1        KOR    BEEF  1992  5.685434        JPN  6.766244\n",
       "2        KOR    BEEF  1993  5.325765        JPN  7.406407"
      ]
     },
     "execution_count": 184,
     "metadata": {},
     "output_type": "execute_result"
    }
   ],
   "source": [
    "df4_kor.rename(columns={'Value':'KOR'}, inplace=True)\n",
    "df4_jpn.rename(columns={'Value':'JPN'}, inplace=True)\n",
    "\n",
    "df4_kor_jpn = pd.merge(df4_kor, df4_jpn, how='inner', on=['SUBJECT', 'TIME'])\n",
    "df4_kor_jpn.head(3)"
   ]
  },
  {
   "cell_type": "code",
   "execution_count": 185,
   "id": "c65676cf",
   "metadata": {},
   "outputs": [],
   "source": [
    "from scipy.stats import ttest_rel\n",
    "def ttest_nation(df, subject, nat1, nat2):\n",
    "    nat1 = df[df['SUBJECT']==subject][nat1]\n",
    "    nat2 = df[df['SUBJECT']==subject][nat2]\n",
    "    t, p = ttest_rel(nat1, nat2)\n",
    "    return t, p"
   ]
  },
  {
   "cell_type": "code",
   "execution_count": 188,
   "id": "ef6b6de2",
   "metadata": {},
   "outputs": [
    {
     "name": "stdout",
     "output_type": "stream",
     "text": [
      "BEEF   에 대한 t 검정 결과 p-value : 0.0004\n",
      "\n",
      "PIG    에 대한 t 검정 결과 p-value : 0.0000\n",
      "\n",
      "POULTRY에 대한 t 검정 결과 p-value : 0.4691\n",
      "\t\t소비량 차이가 없음\n",
      "\n",
      "SHEEP  에 대한 t 검정 결과 p-value : 0.0000\n",
      "\n"
     ]
    }
   ],
   "source": [
    "for subject in df4_kor_jpn['SUBJECT'].unique():\n",
    "    t, p = ttest_nation(df4_kor_jpn, subject, 'KOR', 'JPN')\n",
    "    print(f'{subject:7}에 대한 t 검정 결과 p-value : {p:.4f}')\n",
    "    if p >= 0.05:\n",
    "        print('\\t\\t소비량 차이가 없음')\n",
    "    print()"
   ]
  },
  {
   "cell_type": "markdown",
   "id": "f164971b",
   "metadata": {},
   "source": [
    "### 답\n",
    "POULTRY"
   ]
  },
  {
   "cell_type": "markdown",
   "id": "53253aea",
   "metadata": {},
   "source": [
    "### 참고"
   ]
  },
  {
   "cell_type": "code",
   "execution_count": 213,
   "id": "12881009",
   "metadata": {},
   "outputs": [
    {
     "data": {
      "text/html": [
       "<div>\n",
       "<style scoped>\n",
       "    .dataframe tbody tr th:only-of-type {\n",
       "        vertical-align: middle;\n",
       "    }\n",
       "\n",
       "    .dataframe tbody tr th {\n",
       "        vertical-align: top;\n",
       "    }\n",
       "\n",
       "    .dataframe thead th {\n",
       "        text-align: right;\n",
       "    }\n",
       "</style>\n",
       "<table border=\"1\" class=\"dataframe\">\n",
       "  <thead>\n",
       "    <tr style=\"text-align: right;\">\n",
       "      <th></th>\n",
       "      <th>LOCATION</th>\n",
       "      <th>JPN</th>\n",
       "      <th>KOR</th>\n",
       "    </tr>\n",
       "    <tr>\n",
       "      <th>TIME</th>\n",
       "      <th>SUBJECT</th>\n",
       "      <th></th>\n",
       "      <th></th>\n",
       "    </tr>\n",
       "  </thead>\n",
       "  <tbody>\n",
       "    <tr>\n",
       "      <th rowspan=\"4\" valign=\"top\">1990</th>\n",
       "      <th>BEEF</th>\n",
       "      <td>6.111035</td>\n",
       "      <td>NaN</td>\n",
       "    </tr>\n",
       "    <tr>\n",
       "      <th>PIG</th>\n",
       "      <td>13.219006</td>\n",
       "      <td>NaN</td>\n",
       "    </tr>\n",
       "    <tr>\n",
       "      <th>POULTRY</th>\n",
       "      <td>12.844865</td>\n",
       "      <td>5.570102</td>\n",
       "    </tr>\n",
       "    <tr>\n",
       "      <th>SHEEP</th>\n",
       "      <td>0.756696</td>\n",
       "      <td>0.204153</td>\n",
       "    </tr>\n",
       "    <tr>\n",
       "      <th>1991</th>\n",
       "      <th>BEEF</th>\n",
       "      <td>6.517055</td>\n",
       "      <td>5.085481</td>\n",
       "    </tr>\n",
       "    <tr>\n",
       "      <th>...</th>\n",
       "      <th>...</th>\n",
       "      <td>...</td>\n",
       "      <td>...</td>\n",
       "    </tr>\n",
       "    <tr>\n",
       "      <th>2025</th>\n",
       "      <th>SHEEP</th>\n",
       "      <td>0.125060</td>\n",
       "      <td>0.201451</td>\n",
       "    </tr>\n",
       "    <tr>\n",
       "      <th rowspan=\"4\" valign=\"top\">2026</th>\n",
       "      <th>BEEF</th>\n",
       "      <td>6.844875</td>\n",
       "      <td>10.737425</td>\n",
       "    </tr>\n",
       "    <tr>\n",
       "      <th>PIG</th>\n",
       "      <td>15.544018</td>\n",
       "      <td>29.544063</td>\n",
       "    </tr>\n",
       "    <tr>\n",
       "      <th>POULTRY</th>\n",
       "      <td>14.768340</td>\n",
       "      <td>17.907865</td>\n",
       "    </tr>\n",
       "    <tr>\n",
       "      <th>SHEEP</th>\n",
       "      <td>0.122136</td>\n",
       "      <td>0.202656</td>\n",
       "    </tr>\n",
       "  </tbody>\n",
       "</table>\n",
       "<p>148 rows × 2 columns</p>\n",
       "</div>"
      ],
      "text/plain": [
       "LOCATION            JPN        KOR\n",
       "TIME SUBJECT                      \n",
       "1990 BEEF      6.111035        NaN\n",
       "     PIG      13.219006        NaN\n",
       "     POULTRY  12.844865   5.570102\n",
       "     SHEEP     0.756696   0.204153\n",
       "1991 BEEF      6.517055   5.085481\n",
       "...                 ...        ...\n",
       "2025 SHEEP     0.125060   0.201451\n",
       "2026 BEEF      6.844875  10.737425\n",
       "     PIG      15.544018  29.544063\n",
       "     POULTRY  14.768340  17.907865\n",
       "     SHEEP     0.122136   0.202656\n",
       "\n",
       "[148 rows x 2 columns]"
      ]
     },
     "execution_count": 213,
     "metadata": {},
     "output_type": "execute_result"
    }
   ],
   "source": [
    "df4_kor_jpn_2 = df4[df4['LOCATION'].isin(['KOR', 'JPN'])]\n",
    "df4_3 = pd.pivot_table(data=df4_kor_jpn_2, index=['TIME', 'SUBJECT'],\n",
    "                      columns=['LOCATION'], values='Value')\n",
    "df4_3"
   ]
  },
  {
   "cell_type": "code",
   "execution_count": 214,
   "id": "cbaf1b8e",
   "metadata": {},
   "outputs": [
    {
     "data": {
      "text/html": [
       "<div>\n",
       "<style scoped>\n",
       "    .dataframe tbody tr th:only-of-type {\n",
       "        vertical-align: middle;\n",
       "    }\n",
       "\n",
       "    .dataframe tbody tr th {\n",
       "        vertical-align: top;\n",
       "    }\n",
       "\n",
       "    .dataframe thead th {\n",
       "        text-align: right;\n",
       "    }\n",
       "</style>\n",
       "<table border=\"1\" class=\"dataframe\">\n",
       "  <thead>\n",
       "    <tr style=\"text-align: right;\">\n",
       "      <th>LOCATION</th>\n",
       "      <th>TIME</th>\n",
       "      <th>SUBJECT</th>\n",
       "      <th>JPN</th>\n",
       "      <th>KOR</th>\n",
       "    </tr>\n",
       "  </thead>\n",
       "  <tbody>\n",
       "    <tr>\n",
       "      <th>0</th>\n",
       "      <td>1990</td>\n",
       "      <td>POULTRY</td>\n",
       "      <td>12.844865</td>\n",
       "      <td>5.570102</td>\n",
       "    </tr>\n",
       "    <tr>\n",
       "      <th>1</th>\n",
       "      <td>1990</td>\n",
       "      <td>SHEEP</td>\n",
       "      <td>0.756696</td>\n",
       "      <td>0.204153</td>\n",
       "    </tr>\n",
       "    <tr>\n",
       "      <th>2</th>\n",
       "      <td>1991</td>\n",
       "      <td>BEEF</td>\n",
       "      <td>6.517055</td>\n",
       "      <td>5.085481</td>\n",
       "    </tr>\n",
       "    <tr>\n",
       "      <th>3</th>\n",
       "      <td>1991</td>\n",
       "      <td>PIG</td>\n",
       "      <td>13.239267</td>\n",
       "      <td>9.930182</td>\n",
       "    </tr>\n",
       "    <tr>\n",
       "      <th>4</th>\n",
       "      <td>1991</td>\n",
       "      <td>POULTRY</td>\n",
       "      <td>12.055422</td>\n",
       "      <td>6.738203</td>\n",
       "    </tr>\n",
       "    <tr>\n",
       "      <th>...</th>\n",
       "      <td>...</td>\n",
       "      <td>...</td>\n",
       "      <td>...</td>\n",
       "      <td>...</td>\n",
       "    </tr>\n",
       "    <tr>\n",
       "      <th>141</th>\n",
       "      <td>2025</td>\n",
       "      <td>SHEEP</td>\n",
       "      <td>0.125060</td>\n",
       "      <td>0.201451</td>\n",
       "    </tr>\n",
       "    <tr>\n",
       "      <th>142</th>\n",
       "      <td>2026</td>\n",
       "      <td>BEEF</td>\n",
       "      <td>6.844875</td>\n",
       "      <td>10.737425</td>\n",
       "    </tr>\n",
       "    <tr>\n",
       "      <th>143</th>\n",
       "      <td>2026</td>\n",
       "      <td>PIG</td>\n",
       "      <td>15.544018</td>\n",
       "      <td>29.544063</td>\n",
       "    </tr>\n",
       "    <tr>\n",
       "      <th>144</th>\n",
       "      <td>2026</td>\n",
       "      <td>POULTRY</td>\n",
       "      <td>14.768340</td>\n",
       "      <td>17.907865</td>\n",
       "    </tr>\n",
       "    <tr>\n",
       "      <th>145</th>\n",
       "      <td>2026</td>\n",
       "      <td>SHEEP</td>\n",
       "      <td>0.122136</td>\n",
       "      <td>0.202656</td>\n",
       "    </tr>\n",
       "  </tbody>\n",
       "</table>\n",
       "<p>146 rows × 4 columns</p>\n",
       "</div>"
      ],
      "text/plain": [
       "LOCATION  TIME  SUBJECT        JPN        KOR\n",
       "0         1990  POULTRY  12.844865   5.570102\n",
       "1         1990    SHEEP   0.756696   0.204153\n",
       "2         1991     BEEF   6.517055   5.085481\n",
       "3         1991      PIG  13.239267   9.930182\n",
       "4         1991  POULTRY  12.055422   6.738203\n",
       "..         ...      ...        ...        ...\n",
       "141       2025    SHEEP   0.125060   0.201451\n",
       "142       2026     BEEF   6.844875  10.737425\n",
       "143       2026      PIG  15.544018  29.544063\n",
       "144       2026  POULTRY  14.768340  17.907865\n",
       "145       2026    SHEEP   0.122136   0.202656\n",
       "\n",
       "[146 rows x 4 columns]"
      ]
     },
     "execution_count": 214,
     "metadata": {},
     "output_type": "execute_result"
    }
   ],
   "source": [
    "df4_3.dropna(inplace=True)\n",
    "df4_3.reset_index(inplace=True)\n",
    "df4_3"
   ]
  },
  {
   "cell_type": "markdown",
   "id": "59f212f5",
   "metadata": {},
   "source": [
    "## 3. Time을 독립변수, Value를 종속변수로 하여 종류별 회귀분석 진행\n",
    "- 한국 데이터만\n",
    "- 결정계수가 가장 높은 모델에 대하여 MAPE(Mean Absolute Percentage Error)를 반올림하여 소수점 둘째 자리까지\n",
    "- $\\text{MAPE} = \\sum \\left( \\dfrac{|y-\\hat y|}{y} \\right)\\times \\dfrac {100}{n}$"
   ]
  },
  {
   "cell_type": "code",
   "execution_count": 251,
   "id": "67a77e82",
   "metadata": {},
   "outputs": [],
   "source": [
    "from sklearn.linear_model import LinearRegression\n",
    "from sklearn.metrics import r2_score, mean_absolute_percentage_error\n",
    "\n",
    "def lr_value(df, subject):\n",
    "    X = df[df['SUBJECT'] == subject][['TIME']]\n",
    "    y = df[df['SUBJECT'] == subject]['Value']\n",
    "    lr = LinearRegression()\n",
    "    lr.fit(X, y)\n",
    "    y_hat = lr.predict(X)\n",
    "    r2 = r2_score(y, y_hat)\n",
    "    mape = mean_absolute_percentage_error(y, y_hat)*100\n",
    "    return r2, mape"
   ]
  },
  {
   "cell_type": "code",
   "execution_count": 252,
   "id": "14536436",
   "metadata": {},
   "outputs": [
    {
     "name": "stdout",
     "output_type": "stream",
     "text": [
      "BEEF   에 대한 회귀분석 결과 결정계수 : 0.8355, MAPE : 7.3109\n",
      "PIG    에 대한 회귀분석 결과 결정계수 : 0.9407, MAPE : 5.6350\n",
      "POULTRY에 대한 회귀분석 결과 결정계수 : 0.9515, MAPE : 5.7834\n",
      "SHEEP  에 대한 회귀분석 결과 결정계수 : 0.0041, MAPE : 33.3480\n"
     ]
    }
   ],
   "source": [
    "df4_kor2 = df4[df4['LOCATION'] == 'KOR']\n",
    "\n",
    "for subject in df4_kor2['SUBJECT'].unique():\n",
    "    r2, mape = lr_value(df4_kor2, subject)\n",
    "    print(f'{subject:7}에 대한 회귀분석 결과 결정계수 : {r2:.4f}, MAPE : {mape:.4f}')"
   ]
  },
  {
   "cell_type": "markdown",
   "id": "3ff6ac71",
   "metadata": {},
   "source": [
    "### 답\n",
    "5.78"
   ]
  },
  {
   "cell_type": "markdown",
   "id": "aec63fc6",
   "metadata": {},
   "source": [
    "### 참고1\n",
    "- `statsmodels.formula.api`"
   ]
  },
  {
   "cell_type": "code",
   "execution_count": null,
   "id": "d0623a7f",
   "metadata": {},
   "outputs": [],
   "source": [
    "# from statsmodels.formula.api import ols\n",
    "\n",
    "# formula = 'Value ~ TIME'\n",
    "\n",
    "# for subject in df4_kor2['SUBJECT'].unique():\n",
    "#     result = ols(formula, df4_kor2[df4_kor2['SUBJECT']==subject]).fit()\n",
    "#     print(result.summary())"
   ]
  },
  {
   "cell_type": "markdown",
   "id": "88ee9b29",
   "metadata": {},
   "source": [
    "### 참고2\n",
    "- `statsmodels.api`"
   ]
  },
  {
   "cell_type": "code",
   "execution_count": null,
   "id": "73bd935d",
   "metadata": {
    "scrolled": true
   },
   "outputs": [],
   "source": [
    "# from statsmodels.api import OLS, add_constant\n",
    "\n",
    "# for subject in df4_kor2['SUBJECT'].unique():\n",
    "#     X = df4_kor2[df4_kor2['SUBJECT']==subject]['TIME']\n",
    "#     XX = add_constant(X)\n",
    "#     y = df4_kor2[df4_kor2['SUBJECT']==subject]['Value']\n",
    "#     result = OLS(y, XX).fit()\n",
    "#     print(result.summary())"
   ]
  },
  {
   "cell_type": "markdown",
   "id": "e6beef35",
   "metadata": {},
   "source": [
    "### 참고3\n",
    "- `sklearn.linear_model`"
   ]
  },
  {
   "cell_type": "code",
   "execution_count": 249,
   "id": "f36834ce",
   "metadata": {},
   "outputs": [
    {
     "name": "stdout",
     "output_type": "stream",
     "text": [
      "0.9514978845444608\n"
     ]
    }
   ],
   "source": [
    "X = df4_kor2[df4_kor2['SUBJECT'] == 'POULTRY'][['TIME']]\n",
    "y = df4_kor2[df4_kor2['SUBJECT'] == 'POULTRY']['Value']\n",
    "\n",
    "lr = LinearRegression()\n",
    "lr.fit(X, y)\n",
    "r2 = lr.score(X, y)\n",
    "print(r2)"
   ]
  },
  {
   "cell_type": "code",
   "execution_count": 250,
   "id": "6f477624",
   "metadata": {},
   "outputs": [
    {
     "name": "stdout",
     "output_type": "stream",
     "text": [
      "MAPE : 5.7834\n"
     ]
    }
   ],
   "source": [
    "y_hat = lr.predict(X)\n",
    "\n",
    "mape = (abs(y_hat - y) / y).sum() * 100 / len(y)\n",
    "print(f'MAPE : {mape:.4f}')"
   ]
  },
  {
   "cell_type": "markdown",
   "id": "798c02ab",
   "metadata": {},
   "source": [
    "# 문제 05 유형\n",
    "- DataSet_05.csv 이용"
   ]
  },
  {
   "cell_type": "code",
   "execution_count": 208,
   "id": "644fb1e8",
   "metadata": {},
   "outputs": [
    {
     "data": {
      "text/html": [
       "<div>\n",
       "<style scoped>\n",
       "    .dataframe tbody tr th:only-of-type {\n",
       "        vertical-align: middle;\n",
       "    }\n",
       "\n",
       "    .dataframe tbody tr th {\n",
       "        vertical-align: top;\n",
       "    }\n",
       "\n",
       "    .dataframe thead th {\n",
       "        text-align: right;\n",
       "    }\n",
       "</style>\n",
       "<table border=\"1\" class=\"dataframe\">\n",
       "  <thead>\n",
       "    <tr style=\"text-align: right;\">\n",
       "      <th></th>\n",
       "      <th>ID</th>\n",
       "      <th>Age</th>\n",
       "      <th>Age_gr</th>\n",
       "      <th>Gender</th>\n",
       "      <th>Work_Experience</th>\n",
       "      <th>Family_Size</th>\n",
       "      <th>Ever_Married</th>\n",
       "      <th>Graduated</th>\n",
       "      <th>Profession</th>\n",
       "      <th>Spending_Score</th>\n",
       "      <th>Var_1</th>\n",
       "      <th>Segmentation</th>\n",
       "    </tr>\n",
       "  </thead>\n",
       "  <tbody>\n",
       "    <tr>\n",
       "      <th>0</th>\n",
       "      <td>462809</td>\n",
       "      <td>22</td>\n",
       "      <td>30</td>\n",
       "      <td>1</td>\n",
       "      <td>1.0</td>\n",
       "      <td>4.0</td>\n",
       "      <td>1</td>\n",
       "      <td>1</td>\n",
       "      <td>6</td>\n",
       "      <td>2</td>\n",
       "      <td>4</td>\n",
       "      <td>NaN</td>\n",
       "    </tr>\n",
       "    <tr>\n",
       "      <th>1</th>\n",
       "      <td>462643</td>\n",
       "      <td>38</td>\n",
       "      <td>40</td>\n",
       "      <td>0</td>\n",
       "      <td>NaN</td>\n",
       "      <td>3.0</td>\n",
       "      <td>2</td>\n",
       "      <td>2</td>\n",
       "      <td>3</td>\n",
       "      <td>0</td>\n",
       "      <td>4</td>\n",
       "      <td>A</td>\n",
       "    </tr>\n",
       "    <tr>\n",
       "      <th>2</th>\n",
       "      <td>466315</td>\n",
       "      <td>67</td>\n",
       "      <td>70</td>\n",
       "      <td>0</td>\n",
       "      <td>1.0</td>\n",
       "      <td>1.0</td>\n",
       "      <td>2</td>\n",
       "      <td>2</td>\n",
       "      <td>3</td>\n",
       "      <td>2</td>\n",
       "      <td>6</td>\n",
       "      <td>NaN</td>\n",
       "    </tr>\n",
       "  </tbody>\n",
       "</table>\n",
       "</div>"
      ],
      "text/plain": [
       "       ID  Age  Age_gr  Gender  Work_Experience  Family_Size  Ever_Married  \\\n",
       "0  462809   22      30       1              1.0          4.0             1   \n",
       "1  462643   38      40       0              NaN          3.0             2   \n",
       "2  466315   67      70       0              1.0          1.0             2   \n",
       "\n",
       "   Graduated  Profession  Spending_Score  Var_1 Segmentation  \n",
       "0          1           6               2      4          NaN  \n",
       "1          2           3               0      4            A  \n",
       "2          2           3               2      6          NaN  "
      ]
     },
     "execution_count": 208,
     "metadata": {},
     "output_type": "execute_result"
    }
   ],
   "source": [
    "import pandas as pd\n",
    "\n",
    "df5 = pd.read_csv('datasets/Dataset_05.csv', encoding='utf8')\n",
    "df5.head(3)"
   ]
  },
  {
   "cell_type": "code",
   "execution_count": 209,
   "id": "f5b7970c",
   "metadata": {},
   "outputs": [
    {
     "name": "stdout",
     "output_type": "stream",
     "text": [
      "<class 'pandas.core.frame.DataFrame'>\n",
      "RangeIndex: 8068 entries, 0 to 8067\n",
      "Data columns (total 12 columns):\n",
      " #   Column           Non-Null Count  Dtype  \n",
      "---  ------           --------------  -----  \n",
      " 0   ID               8068 non-null   int64  \n",
      " 1   Age              8068 non-null   int64  \n",
      " 2   Age_gr           8068 non-null   int64  \n",
      " 3   Gender           8068 non-null   int64  \n",
      " 4   Work_Experience  7239 non-null   float64\n",
      " 5   Family_Size      7733 non-null   float64\n",
      " 6   Ever_Married     8068 non-null   int64  \n",
      " 7   Graduated        8068 non-null   int64  \n",
      " 8   Profession       8068 non-null   int64  \n",
      " 9   Spending_Score   8068 non-null   int64  \n",
      " 10  Var_1            8068 non-null   int64  \n",
      " 11  Segmentation     8066 non-null   object \n",
      "dtypes: float64(2), int64(9), object(1)\n",
      "memory usage: 756.5+ KB\n"
     ]
    }
   ],
   "source": [
    "df5.info()"
   ]
  },
  {
   "cell_type": "markdown",
   "id": "ee577889",
   "metadata": {},
   "source": [
    "## 1. 데이터 타입에 맞도록 전처리 수행\n",
    "- 결측값 개수"
   ]
  },
  {
   "cell_type": "code",
   "execution_count": 210,
   "id": "6aed2593",
   "metadata": {},
   "outputs": [
    {
     "data": {
      "text/plain": [
       "ID                   0\n",
       "Age                  0\n",
       "Age_gr               0\n",
       "Gender               0\n",
       "Work_Experience    829\n",
       "Family_Size        335\n",
       "Ever_Married         0\n",
       "Graduated            0\n",
       "Profession           0\n",
       "Spending_Score       0\n",
       "Var_1                0\n",
       "Segmentation         2\n",
       "dtype: int64"
      ]
     },
     "execution_count": 210,
     "metadata": {},
     "output_type": "execute_result"
    }
   ],
   "source": [
    "df5.isna().sum()"
   ]
  },
  {
   "cell_type": "code",
   "execution_count": 211,
   "id": "b1b4968f",
   "metadata": {},
   "outputs": [
    {
     "data": {
      "text/plain": [
       "1166"
      ]
     },
     "execution_count": 211,
     "metadata": {},
     "output_type": "execute_result"
    }
   ],
   "source": [
    "df5.isna().sum().sum()"
   ]
  },
  {
   "cell_type": "markdown",
   "id": "1fc4a741",
   "metadata": {},
   "source": [
    "### 답\n",
    "1166"
   ]
  },
  {
   "cell_type": "markdown",
   "id": "04046fa5",
   "metadata": {},
   "source": [
    "## 2. 결측값 삭제 후 성별이 세분화에 영향을 미치는지 독립성 검정\n",
    "- p-value 반올림하여 소수점 넷째 자리까지\n",
    "- 귀무가설을 기각하면 Y, 아니면 N"
   ]
  },
  {
   "cell_type": "code",
   "execution_count": 221,
   "id": "efd2072b",
   "metadata": {},
   "outputs": [
    {
     "data": {
      "text/plain": [
       "(6967, 12)"
      ]
     },
     "execution_count": 221,
     "metadata": {},
     "output_type": "execute_result"
    }
   ],
   "source": [
    "df5_dropna = df5.dropna(axis=0)\n",
    "df5_dropna.shape"
   ]
  },
  {
   "cell_type": "code",
   "execution_count": 224,
   "id": "6b3fe885",
   "metadata": {},
   "outputs": [
    {
     "data": {
      "text/html": [
       "<div>\n",
       "<style scoped>\n",
       "    .dataframe tbody tr th:only-of-type {\n",
       "        vertical-align: middle;\n",
       "    }\n",
       "\n",
       "    .dataframe tbody tr th {\n",
       "        vertical-align: top;\n",
       "    }\n",
       "\n",
       "    .dataframe thead th {\n",
       "        text-align: right;\n",
       "    }\n",
       "</style>\n",
       "<table border=\"1\" class=\"dataframe\">\n",
       "  <thead>\n",
       "    <tr style=\"text-align: right;\">\n",
       "      <th>Segmentation</th>\n",
       "      <th>A</th>\n",
       "      <th>B</th>\n",
       "      <th>C</th>\n",
       "      <th>D</th>\n",
       "    </tr>\n",
       "    <tr>\n",
       "      <th>Gender</th>\n",
       "      <th></th>\n",
       "      <th></th>\n",
       "      <th></th>\n",
       "      <th></th>\n",
       "    </tr>\n",
       "  </thead>\n",
       "  <tbody>\n",
       "    <tr>\n",
       "      <th>0</th>\n",
       "      <td>784</td>\n",
       "      <td>759</td>\n",
       "      <td>826</td>\n",
       "      <td>772</td>\n",
       "    </tr>\n",
       "    <tr>\n",
       "      <th>1</th>\n",
       "      <td>909</td>\n",
       "      <td>872</td>\n",
       "      <td>953</td>\n",
       "      <td>1092</td>\n",
       "    </tr>\n",
       "  </tbody>\n",
       "</table>\n",
       "</div>"
      ],
      "text/plain": [
       "Segmentation    A    B    C     D\n",
       "Gender                           \n",
       "0             784  759  826   772\n",
       "1             909  872  953  1092"
      ]
     },
     "execution_count": 224,
     "metadata": {},
     "output_type": "execute_result"
    }
   ],
   "source": [
    "from scipy.stats import chi2_contingency\n",
    "\n",
    "crosstab = pd.crosstab(index=df5_dropna['Gender'], columns=df5_dropna['Segmentation'])\n",
    "crosstab"
   ]
  },
  {
   "cell_type": "code",
   "execution_count": 225,
   "id": "b78babc0",
   "metadata": {},
   "outputs": [
    {
     "name": "stdout",
     "output_type": "stream",
     "text": [
      "p-value : 0.003125\n"
     ]
    }
   ],
   "source": [
    "chi2, p, dof, E = chi2_contingency(crosstab)\n",
    "print(f'p-value : {p:.6f}')"
   ]
  },
  {
   "cell_type": "markdown",
   "id": "c3de9776",
   "metadata": {},
   "source": [
    "### 답\n",
    "0.0031, Y"
   ]
  },
  {
   "cell_type": "markdown",
   "id": "f4ff8170",
   "metadata": {},
   "source": [
    "### 참고\n",
    "- crosstab 생성할 때 index, columns 순서는 관계 없음\n",
    "- crosstab vs pivot_table\n",
    "    - crosstab은 array(또는 Series)를 입력\n",
    "    - pivot_table은 DataFrame를 입력"
   ]
  },
  {
   "cell_type": "code",
   "execution_count": 226,
   "id": "2eb73a4e",
   "metadata": {},
   "outputs": [
    {
     "name": "stdout",
     "output_type": "stream",
     "text": [
      "p-value : 0.003125\n"
     ]
    }
   ],
   "source": [
    "crosstab = pd.crosstab(index=df5_dropna['Segmentation'], columns=df5_dropna['Gender'])\n",
    "chi2, p, dof, E = chi2_contingency(crosstab)\n",
    "print(f'p-value : {p:.6f}')"
   ]
  },
  {
   "cell_type": "code",
   "execution_count": 230,
   "id": "564f383d",
   "metadata": {},
   "outputs": [
    {
     "data": {
      "text/html": [
       "<div>\n",
       "<style scoped>\n",
       "    .dataframe tbody tr th:only-of-type {\n",
       "        vertical-align: middle;\n",
       "    }\n",
       "\n",
       "    .dataframe tbody tr th {\n",
       "        vertical-align: top;\n",
       "    }\n",
       "\n",
       "    .dataframe thead th {\n",
       "        text-align: right;\n",
       "    }\n",
       "</style>\n",
       "<table border=\"1\" class=\"dataframe\">\n",
       "  <thead>\n",
       "    <tr style=\"text-align: right;\">\n",
       "      <th>Segmentation</th>\n",
       "      <th>A</th>\n",
       "      <th>B</th>\n",
       "      <th>C</th>\n",
       "      <th>D</th>\n",
       "    </tr>\n",
       "    <tr>\n",
       "      <th>Gender</th>\n",
       "      <th></th>\n",
       "      <th></th>\n",
       "      <th></th>\n",
       "      <th></th>\n",
       "    </tr>\n",
       "  </thead>\n",
       "  <tbody>\n",
       "    <tr>\n",
       "      <th>0</th>\n",
       "      <td>42.786990</td>\n",
       "      <td>47.557312</td>\n",
       "      <td>49.056901</td>\n",
       "      <td>32.218912</td>\n",
       "    </tr>\n",
       "    <tr>\n",
       "      <th>1</th>\n",
       "      <td>45.854785</td>\n",
       "      <td>48.627294</td>\n",
       "      <td>49.337880</td>\n",
       "      <td>33.617216</td>\n",
       "    </tr>\n",
       "  </tbody>\n",
       "</table>\n",
       "</div>"
      ],
      "text/plain": [
       "Segmentation          A          B          C          D\n",
       "Gender                                                  \n",
       "0             42.786990  47.557312  49.056901  32.218912\n",
       "1             45.854785  48.627294  49.337880  33.617216"
      ]
     },
     "execution_count": 230,
     "metadata": {},
     "output_type": "execute_result"
    }
   ],
   "source": [
    "crosstab = pd.crosstab(index=df5_dropna['Gender'], columns=df5_dropna['Segmentation'],\n",
    "                      values=df5_dropna['Age'], aggfunc=np.mean)\n",
    "crosstab"
   ]
  },
  {
   "cell_type": "code",
   "execution_count": 232,
   "id": "dc0e6c10",
   "metadata": {},
   "outputs": [
    {
     "data": {
      "text/html": [
       "<div>\n",
       "<style scoped>\n",
       "    .dataframe tbody tr th:only-of-type {\n",
       "        vertical-align: middle;\n",
       "    }\n",
       "\n",
       "    .dataframe tbody tr th {\n",
       "        vertical-align: top;\n",
       "    }\n",
       "\n",
       "    .dataframe thead th {\n",
       "        text-align: right;\n",
       "    }\n",
       "</style>\n",
       "<table border=\"1\" class=\"dataframe\">\n",
       "  <thead>\n",
       "    <tr style=\"text-align: right;\">\n",
       "      <th>Segmentation</th>\n",
       "      <th>A</th>\n",
       "      <th>B</th>\n",
       "      <th>C</th>\n",
       "      <th>D</th>\n",
       "    </tr>\n",
       "    <tr>\n",
       "      <th>Gender</th>\n",
       "      <th></th>\n",
       "      <th></th>\n",
       "      <th></th>\n",
       "      <th></th>\n",
       "    </tr>\n",
       "  </thead>\n",
       "  <tbody>\n",
       "    <tr>\n",
       "      <th>0</th>\n",
       "      <td>42.786990</td>\n",
       "      <td>47.557312</td>\n",
       "      <td>49.056901</td>\n",
       "      <td>32.218912</td>\n",
       "    </tr>\n",
       "    <tr>\n",
       "      <th>1</th>\n",
       "      <td>45.854785</td>\n",
       "      <td>48.627294</td>\n",
       "      <td>49.337880</td>\n",
       "      <td>33.617216</td>\n",
       "    </tr>\n",
       "  </tbody>\n",
       "</table>\n",
       "</div>"
      ],
      "text/plain": [
       "Segmentation          A          B          C          D\n",
       "Gender                                                  \n",
       "0             42.786990  47.557312  49.056901  32.218912\n",
       "1             45.854785  48.627294  49.337880  33.617216"
      ]
     },
     "execution_count": 232,
     "metadata": {},
     "output_type": "execute_result"
    }
   ],
   "source": [
    "pivot_table = pd.pivot_table(data=df5_dropna,\n",
    "                            index='Gender', columns='Segmentation',\n",
    "                            values='Age', aggfunc=np.mean)\n",
    "pivot_table"
   ]
  },
  {
   "cell_type": "markdown",
   "id": "8fe2d346",
   "metadata": {},
   "source": [
    "## 3. Segmentation이 A, D인 데이터만 사용하여 의사결정 나무 분류 정확도 측정\n",
    "- 결측치 행 제거\n",
    "- train:test = 7:3, seed=123\n",
    "- feature : Age_gr, Gender, Work_Experience, Family_Size, Ever_Married, Graduated, Spending_Score\n",
    "- label : Segmentation\n",
    "- parameter : Gini / max_depth = 7 / seed = 123\n",
    "- 정확도를 소수점 셋째 자리 이하 버리고 둘째 자리까지"
   ]
  },
  {
   "cell_type": "code",
   "execution_count": 244,
   "id": "5e8b068a",
   "metadata": {},
   "outputs": [
    {
     "data": {
      "text/html": [
       "<div>\n",
       "<style scoped>\n",
       "    .dataframe tbody tr th:only-of-type {\n",
       "        vertical-align: middle;\n",
       "    }\n",
       "\n",
       "    .dataframe tbody tr th {\n",
       "        vertical-align: top;\n",
       "    }\n",
       "\n",
       "    .dataframe thead th {\n",
       "        text-align: right;\n",
       "    }\n",
       "</style>\n",
       "<table border=\"1\" class=\"dataframe\">\n",
       "  <thead>\n",
       "    <tr style=\"text-align: right;\">\n",
       "      <th></th>\n",
       "      <th>ID</th>\n",
       "      <th>Age</th>\n",
       "      <th>Age_gr</th>\n",
       "      <th>Gender</th>\n",
       "      <th>Work_Experience</th>\n",
       "      <th>Family_Size</th>\n",
       "      <th>Ever_Married</th>\n",
       "      <th>Graduated</th>\n",
       "      <th>Profession</th>\n",
       "      <th>Spending_Score</th>\n",
       "      <th>Var_1</th>\n",
       "      <th>Segmentation</th>\n",
       "    </tr>\n",
       "  </thead>\n",
       "  <tbody>\n",
       "    <tr>\n",
       "      <th>7</th>\n",
       "      <td>464347</td>\n",
       "      <td>33</td>\n",
       "      <td>40</td>\n",
       "      <td>0</td>\n",
       "      <td>1.0</td>\n",
       "      <td>3.0</td>\n",
       "      <td>1</td>\n",
       "      <td>2</td>\n",
       "      <td>6</td>\n",
       "      <td>2</td>\n",
       "      <td>6</td>\n",
       "      <td>D</td>\n",
       "    </tr>\n",
       "    <tr>\n",
       "      <th>8</th>\n",
       "      <td>465015</td>\n",
       "      <td>61</td>\n",
       "      <td>70</td>\n",
       "      <td>0</td>\n",
       "      <td>0.0</td>\n",
       "      <td>3.0</td>\n",
       "      <td>2</td>\n",
       "      <td>2</td>\n",
       "      <td>3</td>\n",
       "      <td>2</td>\n",
       "      <td>7</td>\n",
       "      <td>D</td>\n",
       "    </tr>\n",
       "    <tr>\n",
       "      <th>10</th>\n",
       "      <td>464041</td>\n",
       "      <td>26</td>\n",
       "      <td>30</td>\n",
       "      <td>0</td>\n",
       "      <td>1.0</td>\n",
       "      <td>3.0</td>\n",
       "      <td>1</td>\n",
       "      <td>2</td>\n",
       "      <td>3</td>\n",
       "      <td>2</td>\n",
       "      <td>6</td>\n",
       "      <td>A</td>\n",
       "    </tr>\n",
       "  </tbody>\n",
       "</table>\n",
       "</div>"
      ],
      "text/plain": [
       "        ID  Age  Age_gr  Gender  Work_Experience  Family_Size  Ever_Married  \\\n",
       "7   464347   33      40       0              1.0          3.0             1   \n",
       "8   465015   61      70       0              0.0          3.0             2   \n",
       "10  464041   26      30       0              1.0          3.0             1   \n",
       "\n",
       "    Graduated  Profession  Spending_Score  Var_1 Segmentation  \n",
       "7           2           6               2      6            D  \n",
       "8           2           3               2      7            D  \n",
       "10          2           3               2      6            A  "
      ]
     },
     "execution_count": 244,
     "metadata": {},
     "output_type": "execute_result"
    }
   ],
   "source": [
    "df5_ad = df5[df5['Segmentation'].isin(['A', 'D'])]\n",
    "df5_ad = df5_ad.dropna()\n",
    "df5_ad.head(3)"
   ]
  },
  {
   "cell_type": "code",
   "execution_count": 245,
   "id": "9ed69b5b",
   "metadata": {},
   "outputs": [
    {
     "data": {
      "text/plain": [
       "(2489, 8)"
      ]
     },
     "execution_count": 245,
     "metadata": {},
     "output_type": "execute_result"
    }
   ],
   "source": [
    "from sklearn.model_selection import train_test_split\n",
    "from sklearn.tree import DecisionTreeClassifier\n",
    "\n",
    "X_features = df5_ad.drop(columns=['ID', 'Age', 'Var_1', 'Segmentation'])\n",
    "y_label = df5_ad['Segmentation']\n",
    "\n",
    "X_train, X_test, y_train, y_test = train_test_split(X_features, y_label,\n",
    "                                                   test_size=0.3, random_state=123)\n",
    "\n",
    "X_train.shape"
   ]
  },
  {
   "cell_type": "code",
   "execution_count": 246,
   "id": "ec23d252",
   "metadata": {},
   "outputs": [
    {
     "name": "stdout",
     "output_type": "stream",
     "text": [
      "정확도 : 0.7247\n"
     ]
    }
   ],
   "source": [
    "from sklearn.metrics import accuracy_score\n",
    "\n",
    "dt_clf = DecisionTreeClassifier(max_depth=7, random_state=123, criterion='gini')\n",
    "\n",
    "dt_clf.fit(X_train, y_train)\n",
    "pred = dt_clf.predict(X_test)\n",
    "acc = accuracy_score(y_test, pred)\n",
    "\n",
    "print(f'정확도 : {acc:.4f}')"
   ]
  },
  {
   "cell_type": "markdown",
   "id": "01f522ec",
   "metadata": {},
   "source": [
    "### 답\n",
    "0.72"
   ]
  },
  {
   "cell_type": "code",
   "execution_count": null,
   "id": "f0502a12",
   "metadata": {},
   "outputs": [],
   "source": []
  }
 ],
 "metadata": {
  "kernelspec": {
   "display_name": "Python Multi",
   "language": "python",
   "name": "multi"
  },
  "language_info": {
   "codemirror_mode": {
    "name": "ipython",
    "version": 3
   },
   "file_extension": ".py",
   "mimetype": "text/x-python",
   "name": "python",
   "nbconvert_exporter": "python",
   "pygments_lexer": "ipython3",
   "version": "3.7.6"
  },
  "toc": {
   "base_numbering": 1,
   "nav_menu": {},
   "number_sections": false,
   "sideBar": true,
   "skip_h1_title": false,
   "title_cell": "Table of Contents",
   "title_sidebar": "Contents",
   "toc_cell": false,
   "toc_position": {
    "height": "819px",
    "left": "1752px",
    "top": "116px",
    "width": "168px"
   },
   "toc_section_display": true,
   "toc_window_display": true
  }
 },
 "nbformat": 4,
 "nbformat_minor": 5
}
