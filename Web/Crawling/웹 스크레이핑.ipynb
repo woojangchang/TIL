{
 "cells": [
  {
   "cell_type": "markdown",
   "id": "cb020d17",
   "metadata": {},
   "source": [
    "# 01. 웹 브라우저로 웹 사이트 접속하기"
   ]
  },
  {
   "cell_type": "markdown",
   "id": "b0384a0e",
   "metadata": {},
   "source": [
    "## 하나의 웹 사이트에 접속하기"
   ]
  },
  {
   "cell_type": "code",
   "execution_count": 1,
   "id": "3aefec92",
   "metadata": {},
   "outputs": [
    {
     "data": {
      "text/plain": [
       "True"
      ]
     },
     "execution_count": 1,
     "metadata": {},
     "output_type": "execute_result"
    }
   ],
   "source": [
    "import webbrowser\n",
    "\n",
    "url = 'https://github.com/woojangchang/'\n",
    "webbrowser.open(url)"
   ]
  },
  {
   "cell_type": "code",
   "execution_count": 2,
   "id": "28bfc1ac",
   "metadata": {},
   "outputs": [
    {
     "data": {
      "text/plain": [
       "True"
      ]
     },
     "execution_count": 2,
     "metadata": {},
     "output_type": "execute_result"
    }
   ],
   "source": [
    "# 검색을 위한 웹사이트 주소에 검색어를 연결하여 입력\n",
    "naver_search_url = 'http://search.naver.com/search.naver?query='\n",
    "search_word = '파이썬'\n",
    "url = naver_search_url + search_word\n",
    "\n",
    "webbrowser.open(url)"
   ]
  },
  {
   "cell_type": "code",
   "execution_count": 5,
   "id": "72cc0cc6",
   "metadata": {},
   "outputs": [
    {
     "data": {
      "text/plain": [
       "True"
      ]
     },
     "execution_count": 5,
     "metadata": {},
     "output_type": "execute_result"
    }
   ],
   "source": [
    "# 구글\n",
    "google_url = 'www.google.com/search?q='\n",
    "search_word = 'python'\n",
    "url = google_url + search_word\n",
    "webbrowser.open(url)"
   ]
  },
  {
   "cell_type": "markdown",
   "id": "1928e8d4",
   "metadata": {},
   "source": [
    "## 여러 개의 웹 사이트에 접속하기"
   ]
  },
  {
   "cell_type": "code",
   "execution_count": 6,
   "id": "4a28d626",
   "metadata": {},
   "outputs": [],
   "source": [
    "search_words = ['python', '파이썬']\n",
    "\n",
    "for search_word in search_words:\n",
    "    webbrowser.open_new(google_url + search_word)"
   ]
  },
  {
   "cell_type": "markdown",
   "id": "5d0814a1",
   "metadata": {},
   "source": [
    "# 02. 웹 스크레이핑을 위한 기본 지식"
   ]
  },
  {
   "cell_type": "markdown",
   "id": "5edd2c35",
   "metadata": {},
   "source": [
    "## 웹 페이지의 HTML 소스 갖고 오기"
   ]
  },
  {
   "cell_type": "code",
   "execution_count": 7,
   "id": "ac8bfa86",
   "metadata": {},
   "outputs": [
    {
     "data": {
      "text/plain": [
       "<Response [200]>"
      ]
     },
     "execution_count": 7,
     "metadata": {},
     "output_type": "execute_result"
    }
   ],
   "source": [
    "import requests\n",
    "\n",
    "r = requests.get('https://www.google.co.kr')\n",
    "r"
   ]
  },
  {
   "cell_type": "code",
   "execution_count": 8,
   "id": "3d9fea96",
   "metadata": {},
   "outputs": [
    {
     "data": {
      "text/plain": [
       "'<!doctype html><html itemscope=\"\" itemtype=\"http://schema.org/WebPage\" lang=\"ko\"><head><meta content'"
      ]
     },
     "execution_count": 8,
     "metadata": {},
     "output_type": "execute_result"
    }
   ],
   "source": [
    "r.text[0:100]"
   ]
  },
  {
   "cell_type": "markdown",
   "id": "3a41c155",
   "metadata": {},
   "source": [
    "## HTML 소스코드를 분석하고 처리하기"
   ]
  },
  {
   "cell_type": "code",
   "execution_count": 9,
   "id": "36064841",
   "metadata": {},
   "outputs": [
    {
     "data": {
      "text/plain": [
       "<html><body><div><span> <a href=\"http://www.naver.com\">naver</a> <a href=\"https://www.google.co.kr\">google</a> <a href=\"http://www.daum.net/\">daum</a> </span></div></body></html>"
      ]
     },
     "execution_count": 9,
     "metadata": {},
     "output_type": "execute_result"
    }
   ],
   "source": [
    "from bs4 import BeautifulSoup\n",
    "\n",
    "# 테스트용 html 코드\n",
    "html = \"\"\"<html><body><div><span>\\\n",
    "        <a href=http://www.naver.com>naver</a>\\\n",
    "        <a href=https://www.google.co.kr>google</a>\\\n",
    "        <a href=http://www.daum.net/>daum</a>\\\n",
    "        </span></div></body></html>\"\"\"\n",
    "\n",
    "# Beautifulsoup을 이용해 HTML 소스를 파싱\n",
    "soup = BeautifulSoup(html, 'lxml')\n",
    "soup"
   ]
  },
  {
   "cell_type": "code",
   "execution_count": 10,
   "id": "ed4b25d3",
   "metadata": {},
   "outputs": [
    {
     "name": "stdout",
     "output_type": "stream",
     "text": [
      "<html>\n",
      " <body>\n",
      "  <div>\n",
      "   <span>\n",
      "    <a href=\"http://www.naver.com\">\n",
      "     naver\n",
      "    </a>\n",
      "    <a href=\"https://www.google.co.kr\">\n",
      "     google\n",
      "    </a>\n",
      "    <a href=\"http://www.daum.net/\">\n",
      "     daum\n",
      "    </a>\n",
      "   </span>\n",
      "  </div>\n",
      " </body>\n",
      "</html>\n"
     ]
    }
   ],
   "source": [
    "# HTML 구조로 확인\n",
    "print(soup.prettify())"
   ]
  },
  {
   "cell_type": "markdown",
   "id": "3b040b32",
   "metadata": {},
   "source": [
    "### find, find_all\n",
    "- 태그(또는 속성)으로 찾기"
   ]
  },
  {
   "cell_type": "code",
   "execution_count": 11,
   "id": "61c9c7a0",
   "metadata": {},
   "outputs": [
    {
     "data": {
      "text/plain": [
       "<a href=\"http://www.naver.com\">naver</a>"
      ]
     },
     "execution_count": 11,
     "metadata": {},
     "output_type": "execute_result"
    }
   ],
   "source": [
    "# 태그가 있는 첫 요소 찾기\n",
    "soup.find('a')"
   ]
  },
  {
   "cell_type": "code",
   "execution_count": 12,
   "id": "8f1998cb",
   "metadata": {},
   "outputs": [
    {
     "data": {
      "text/plain": [
       "'naver'"
      ]
     },
     "execution_count": 12,
     "metadata": {},
     "output_type": "execute_result"
    }
   ],
   "source": [
    "# a 태그에서 텍스트만 추출\n",
    "soup.find('a').get_text()"
   ]
  },
  {
   "cell_type": "code",
   "execution_count": 13,
   "id": "253b5fc9",
   "metadata": {},
   "outputs": [
    {
     "data": {
      "text/plain": [
       "[<a href=\"http://www.naver.com\">naver</a>,\n",
       " <a href=\"https://www.google.co.kr\">google</a>,\n",
       " <a href=\"http://www.daum.net/\">daum</a>]"
      ]
     },
     "execution_count": 13,
     "metadata": {},
     "output_type": "execute_result"
    }
   ],
   "source": [
    "# a 태그 모든 요소 찾기\n",
    "soup.find_all('a')"
   ]
  },
  {
   "cell_type": "code",
   "execution_count": 14,
   "id": "f86230eb",
   "metadata": {},
   "outputs": [
    {
     "name": "stdout",
     "output_type": "stream",
     "text": [
      "naver\n",
      "google\n",
      "daum\n"
     ]
    }
   ],
   "source": [
    "# a 태그 모든 요소에서 텍스트만 추출\n",
    "site_names = soup.find_all('a')\n",
    "for site_name in site_names:\n",
    "    print(site_name.get_text())"
   ]
  },
  {
   "cell_type": "code",
   "execution_count": 15,
   "id": "118fb648",
   "metadata": {},
   "outputs": [],
   "source": [
    "# 테스트용 HTML 코드2\n",
    "html2 = \"\"\"\n",
    "<html>\n",
    "    <head>\n",
    "        <title>작품과 작가 모음</title>\n",
    "    </head>\n",
    "    <body>\n",
    "        <h1>책 정보</h1>\n",
    "        <p id=\"book_title\">토지</p>\n",
    "        <p id=\"author\">박경리</p>\n",
    "        \n",
    "        <p id=\"book_title\">태백산맥</p>\n",
    "        <p id=\"author\">조정래</p>\n",
    "        \n",
    "        <p id=\"book_title\">감옥으로부터의 사색</p>\n",
    "        <p id=\"author\">신영복</p>\n",
    "    </body>\n",
    "</html>\n",
    "\"\"\"\n",
    "\n",
    "soup = BeautifulSoup(html2, \"lxml\")"
   ]
  },
  {
   "cell_type": "code",
   "execution_count": 16,
   "id": "e3385bf5",
   "metadata": {},
   "outputs": [
    {
     "data": {
      "text/plain": [
       "<title>작품과 작가 모음</title>"
      ]
     },
     "execution_count": 16,
     "metadata": {},
     "output_type": "execute_result"
    }
   ],
   "source": [
    "# title 요소\n",
    "soup.title"
   ]
  },
  {
   "cell_type": "code",
   "execution_count": 17,
   "id": "f7db1708",
   "metadata": {},
   "outputs": [
    {
     "data": {
      "text/plain": [
       "<body>\n",
       "<h1>책 정보</h1>\n",
       "<p id=\"book_title\">토지</p>\n",
       "<p id=\"author\">박경리</p>\n",
       "<p id=\"book_title\">태백산맥</p>\n",
       "<p id=\"author\">조정래</p>\n",
       "<p id=\"book_title\">감옥으로부터의 사색</p>\n",
       "<p id=\"author\">신영복</p>\n",
       "</body>"
      ]
     },
     "execution_count": 17,
     "metadata": {},
     "output_type": "execute_result"
    }
   ],
   "source": [
    "# body 요소\n",
    "soup.body"
   ]
  },
  {
   "cell_type": "code",
   "execution_count": 18,
   "id": "09057076",
   "metadata": {},
   "outputs": [
    {
     "data": {
      "text/plain": [
       "<h1>책 정보</h1>"
      ]
     },
     "execution_count": 18,
     "metadata": {},
     "output_type": "execute_result"
    }
   ],
   "source": [
    "# body 내 h1\n",
    "soup.body.h1"
   ]
  },
  {
   "cell_type": "code",
   "execution_count": 19,
   "id": "5a22577b",
   "metadata": {},
   "outputs": [
    {
     "data": {
      "text/plain": [
       "[<p id=\"book_title\">토지</p>,\n",
       " <p id=\"author\">박경리</p>,\n",
       " <p id=\"book_title\">태백산맥</p>,\n",
       " <p id=\"author\">조정래</p>,\n",
       " <p id=\"book_title\">감옥으로부터의 사색</p>,\n",
       " <p id=\"author\">신영복</p>]"
      ]
     },
     "execution_count": 19,
     "metadata": {},
     "output_type": "execute_result"
    }
   ],
   "source": [
    "# p 태그\n",
    "soup.find_all('p')"
   ]
  },
  {
   "cell_type": "code",
   "execution_count": 20,
   "id": "f174e719",
   "metadata": {},
   "outputs": [
    {
     "data": {
      "text/plain": [
       "[<p id=\"book_title\">토지</p>,\n",
       " <p id=\"book_title\">태백산맥</p>,\n",
       " <p id=\"book_title\">감옥으로부터의 사색</p>]"
      ]
     },
     "execution_count": 20,
     "metadata": {},
     "output_type": "execute_result"
    }
   ],
   "source": [
    "# p 태그, 원하는 속성\n",
    "soup.find_all('p', {\"id\":\"book_title\"})"
   ]
  },
  {
   "cell_type": "code",
   "execution_count": 21,
   "id": "1e422ec9",
   "metadata": {},
   "outputs": [
    {
     "data": {
      "text/plain": [
       "[<p id=\"author\">박경리</p>, <p id=\"author\">조정래</p>, <p id=\"author\">신영복</p>]"
      ]
     },
     "execution_count": 21,
     "metadata": {},
     "output_type": "execute_result"
    }
   ],
   "source": [
    "soup.find_all('p', {\"id\":\"author\"})"
   ]
  },
  {
   "cell_type": "markdown",
   "id": "e9a686b8",
   "metadata": {},
   "source": [
    "### select\n",
    "- css 선택자\n",
    "- 태그 이름 또는 태그 이름#id 또는 .class"
   ]
  },
  {
   "cell_type": "code",
   "execution_count": 23,
   "id": "d609f866",
   "metadata": {},
   "outputs": [
    {
     "data": {
      "text/plain": [
       "[<h1>책 정보</h1>]"
      ]
     },
     "execution_count": 23,
     "metadata": {},
     "output_type": "execute_result"
    }
   ],
   "source": [
    "# body의 h1\n",
    "soup.select('body h1')"
   ]
  },
  {
   "cell_type": "code",
   "execution_count": 24,
   "id": "f244367c",
   "metadata": {},
   "outputs": [
    {
     "data": {
      "text/plain": [
       "[<p id=\"book_title\">토지</p>,\n",
       " <p id=\"author\">박경리</p>,\n",
       " <p id=\"book_title\">태백산맥</p>,\n",
       " <p id=\"author\">조정래</p>,\n",
       " <p id=\"book_title\">감옥으로부터의 사색</p>,\n",
       " <p id=\"author\">신영복</p>]"
      ]
     },
     "execution_count": 24,
     "metadata": {},
     "output_type": "execute_result"
    }
   ],
   "source": [
    "# body의 p\n",
    "soup.select('body p')"
   ]
  },
  {
   "cell_type": "code",
   "execution_count": 25,
   "id": "dc4d4fa5",
   "metadata": {},
   "outputs": [
    {
     "data": {
      "text/plain": [
       "[<p id=\"book_title\">토지</p>,\n",
       " <p id=\"author\">박경리</p>,\n",
       " <p id=\"book_title\">태백산맥</p>,\n",
       " <p id=\"author\">조정래</p>,\n",
       " <p id=\"book_title\">감옥으로부터의 사색</p>,\n",
       " <p id=\"author\">신영복</p>]"
      ]
     },
     "execution_count": 25,
     "metadata": {},
     "output_type": "execute_result"
    }
   ],
   "source": [
    "# p\n",
    "soup.select('p')"
   ]
  },
  {
   "cell_type": "code",
   "execution_count": 26,
   "id": "4525dab9",
   "metadata": {},
   "outputs": [
    {
     "data": {
      "text/plain": [
       "[<p id=\"book_title\">토지</p>,\n",
       " <p id=\"book_title\">태백산맥</p>,\n",
       " <p id=\"book_title\">감옥으로부터의 사색</p>]"
      ]
     },
     "execution_count": 26,
     "metadata": {},
     "output_type": "execute_result"
    }
   ],
   "source": [
    "# 속성값(id) 지정\n",
    "soup.select('p#book_title')"
   ]
  },
  {
   "cell_type": "code",
   "execution_count": 27,
   "id": "6d1dfd7e",
   "metadata": {},
   "outputs": [
    {
     "data": {
      "text/plain": [
       "[<p id=\"author\">박경리</p>, <p id=\"author\">조정래</p>, <p id=\"author\">신영복</p>]"
      ]
     },
     "execution_count": 27,
     "metadata": {},
     "output_type": "execute_result"
    }
   ],
   "source": [
    "soup.select('p#author')"
   ]
  },
  {
   "cell_type": "code",
   "execution_count": 28,
   "id": "fe6db97c",
   "metadata": {},
   "outputs": [
    {
     "data": {
      "text/plain": [
       "[<p id=\"author\">박경리</p>, <p id=\"author\">조정래</p>, <p id=\"author\">신영복</p>]"
      ]
     },
     "execution_count": 28,
     "metadata": {},
     "output_type": "execute_result"
    }
   ],
   "source": [
    "soup.select('#author')"
   ]
  },
  {
   "cell_type": "code",
   "execution_count": 31,
   "id": "38400aaa",
   "metadata": {},
   "outputs": [
    {
     "name": "stdout",
     "output_type": "stream",
     "text": [
      "Writing HTML_example_my_site.HTML\n"
     ]
    }
   ],
   "source": [
    "%%writefile HTML_example_my_site.HTML\n",
    "<!doctype html>\n",
    "<html>\n",
    "    <head>\n",
    "        <meta charset=\"utf-8\">\n",
    "        <title>사이트 모음</title>\n",
    "    </head>\n",
    "    <body>\n",
    "        <p id=\"title\"><b>자주 가는 사이트 모음</b></p>\n",
    "        <p id=\"contents\">이곳은 자주 가는 사이트를 모아둔 곳입니다.</p>\n",
    "        <a href=\"http://www.naver.com\" class=\"portal\" id=\"naver\">네이버</a><br>\n",
    "        <a href=\"https://www.google.com\" class=\"search\" id=\"google\">구글</a><br>\n",
    "        <a href=\"http://www.daum.net\" class=\"portal\" id=\"daum\">다음</a><br>\n",
    "        <a href=\"http://www.nl.go.kr\" class=\"government\" id=\"nl\">국립중앙도서관</a>\n",
    "    </body>\n",
    "</html>"
   ]
  },
  {
   "cell_type": "code",
   "execution_count": 32,
   "id": "4aafe128",
   "metadata": {},
   "outputs": [],
   "source": [
    "f = open('HTML_example_my_site.HTML', encoding='utf-8')\n",
    "\n",
    "html = f.read()\n",
    "f.close()\n",
    "\n",
    "soup = BeautifulSoup(html, \"lxml\")"
   ]
  },
  {
   "cell_type": "code",
   "execution_count": 33,
   "id": "39c5e957",
   "metadata": {},
   "outputs": [
    {
     "data": {
      "text/plain": [
       "[<a class=\"portal\" href=\"http://www.naver.com\" id=\"naver\">네이버</a>,\n",
       " <a class=\"search\" href=\"https://www.google.com\" id=\"google\">구글</a>,\n",
       " <a class=\"portal\" href=\"http://www.daum.net\" id=\"daum\">다음</a>,\n",
       " <a class=\"government\" href=\"http://www.nl.go.kr\" id=\"nl\">국립중앙도서관</a>]"
      ]
     },
     "execution_count": 33,
     "metadata": {},
     "output_type": "execute_result"
    }
   ],
   "source": [
    "soup.select('a')"
   ]
  },
  {
   "cell_type": "code",
   "execution_count": 34,
   "id": "9dad06e8",
   "metadata": {},
   "outputs": [
    {
     "data": {
      "text/plain": [
       "[<a class=\"portal\" href=\"http://www.naver.com\" id=\"naver\">네이버</a>,\n",
       " <a class=\"portal\" href=\"http://www.daum.net\" id=\"daum\">다음</a>]"
      ]
     },
     "execution_count": 34,
     "metadata": {},
     "output_type": "execute_result"
    }
   ],
   "source": [
    "# class 지정\n",
    "soup.select('a.portal')"
   ]
  },
  {
   "cell_type": "markdown",
   "id": "19971e86",
   "metadata": {},
   "source": [
    "# 03. 웹 사이트에서 데이터 가져오기"
   ]
  },
  {
   "cell_type": "markdown",
   "id": "1ec2170f",
   "metadata": {},
   "source": [
    "## 순위 데이터 가져오기"
   ]
  },
  {
   "cell_type": "markdown",
   "id": "d59cd476",
   "metadata": {},
   "source": [
    "### 웹 사이트 순위\n",
    "- https://www.alexa.com/topsites/countries/KR"
   ]
  },
  {
   "cell_type": "code",
   "execution_count": 36,
   "id": "16135b04",
   "metadata": {},
   "outputs": [],
   "source": [
    "import requests\n",
    "from bs4 import BeautifulSoup\n",
    "\n",
    "url = 'https://www.alexa.com/topsites/countries/KR'\n",
    "\n",
    "html_website_ranking = requests.get(url).text\n",
    "soup_website_ranking = BeautifulSoup(html_website_ranking, 'lxml')\n",
    "\n",
    "# p 태그 요소 안에서 a 태그 요소를 찾음\n",
    "website_ranking = soup_website_ranking.select('p a')"
   ]
  },
  {
   "cell_type": "code",
   "execution_count": 37,
   "id": "dc274165",
   "metadata": {},
   "outputs": [
    {
     "data": {
      "text/plain": [
       "[<a href=\"https://support.alexa.com/hc/en-us/articles/200444340\" target=\"_blank\">this explanation</a>,\n",
       " <a href=\"/siteinfo/google.com\">Google.com</a>,\n",
       " <a href=\"/siteinfo/naver.com\">Naver.com</a>,\n",
       " <a href=\"/siteinfo/youtube.com\">Youtube.com</a>,\n",
       " <a href=\"/siteinfo/daum.net\">Daum.net</a>,\n",
       " <a href=\"/siteinfo/tistory.com\">Tistory.com</a>,\n",
       " <a href=\"/siteinfo/kakao.com\">Kakao.com</a>]"
      ]
     },
     "execution_count": 37,
     "metadata": {},
     "output_type": "execute_result"
    }
   ],
   "source": [
    "website_ranking[:7]"
   ]
  },
  {
   "cell_type": "code",
   "execution_count": 38,
   "id": "deb36f94",
   "metadata": {},
   "outputs": [],
   "source": [
    "website_ranking_address = [website_ranking_element.get_text() for website_ranking_element in website_ranking[1:]]"
   ]
  },
  {
   "cell_type": "code",
   "execution_count": 40,
   "id": "cf639e36",
   "metadata": {},
   "outputs": [
    {
     "data": {
      "text/plain": [
       "['Google.com',\n",
       " 'Naver.com',\n",
       " 'Youtube.com',\n",
       " 'Daum.net',\n",
       " 'Tistory.com',\n",
       " 'Kakao.com',\n",
       " 'Tmall.com']"
      ]
     },
     "execution_count": 40,
     "metadata": {},
     "output_type": "execute_result"
    }
   ],
   "source": [
    "website_ranking_address[:7]"
   ]
  },
  {
   "cell_type": "markdown",
   "id": "725f8f48",
   "metadata": {},
   "source": [
    "### 주간 음악 순위\n",
    "- https://vibe.naver.com/chart/total"
   ]
  },
  {
   "cell_type": "code",
   "execution_count": 56,
   "id": "eb7aa426",
   "metadata": {},
   "outputs": [],
   "source": [
    "from selenium import webdriver\n",
    "from selenium.webdriver.chrome.options import Options\n",
    "from bs4 import BeautifulSoup\n",
    "\n",
    "executable_path='data/chromedriver.exe'\n",
    "chrome_options = Options()\n",
    "chrome_options.add_argument(\"--headless\")\n",
    "driver = webdriver.Chrome(executable_path=executable_path, options=chrome_options)\n",
    "\n",
    "url = \"https://vibe.naver.com/chart/total\"\n",
    "\n",
    "driver.get(url)\n",
    "html_music = driver.page_source\n",
    "soup_music = BeautifulSoup(html_music, 'lxml')\n",
    "\n",
    "# 순위, 제목, 가수, 앨범\n",
    "ranks = soup_music.select('td.rank')\n",
    "titles = soup_music.select('td.song')\n",
    "artists = soup_music.select('td.artist')\n",
    "albums = soup_music.select('td.album')\n",
    "\n",
    "driver.close()"
   ]
  },
  {
   "cell_type": "code",
   "execution_count": 57,
   "id": "d94bbb67",
   "metadata": {},
   "outputs": [
    {
     "data": {
      "text/plain": [
       "[<td class=\"song\"><div class=\"title_badge_wrap\"><span class=\"inner_cell\"><a class=\"link_text\" href=\"/track/49680764\" title=\"Stay\">Stay</a></span><!-- --><!-- --><!-- --></div><div class=\"artist_sub\" title=\"The Kid LAROI, Justin Bieber\"><span><span><a class=\"link_artist\" href=\"/artist/2978307\"><span class=\"text\">The Kid LAROI</span></a><span>, </span></span><span><a class=\"link_artist\" href=\"/artist/119770\"><span class=\"text\">Justin Bieber</span></a><!-- --></span></span><span class=\"blind\">아티스트명</span></div><!-- --></td>,\n",
       " <td class=\"song\"><div class=\"title_badge_wrap\"><span class=\"inner_cell\"><a class=\"link_text\" href=\"/track/50800360\" title=\"Savage\">Savage</a></span><!-- --><!-- --><!-- --></div><div class=\"artist_sub\" title=\"aespa\"><span><span><a class=\"link_artist\" href=\"/artist/3980296\"><span class=\"text\">aespa</span></a><!-- --></span></span><span class=\"blind\">아티스트명</span></div><!-- --></td>,\n",
       " <td class=\"song\"><div class=\"title_badge_wrap\"><span class=\"inner_cell\"><a class=\"link_text\" href=\"/track/48124900\" title=\"신호등\">신호등</a></span><!-- --><!-- --><!-- --></div><div class=\"artist_sub\" title=\"이무진\"><span><span><a class=\"link_artist\" href=\"/artist/2389293\"><span class=\"text\">이무진</span></a><!-- --></span></span><span class=\"blind\">아티스트명</span></div><!-- --></td>]"
      ]
     },
     "execution_count": 57,
     "metadata": {},
     "output_type": "execute_result"
    }
   ],
   "source": [
    "titles[:3]"
   ]
  },
  {
   "cell_type": "code",
   "execution_count": 58,
   "id": "d3d59da6",
   "metadata": {},
   "outputs": [
    {
     "data": {
      "text/plain": [
       "('1',\n",
       " 'StayThe Kid LAROI, Justin Bieber아티스트명',\n",
       " 'The Kid LAROI, Justin Bieber',\n",
       " 'Stay')"
      ]
     },
     "execution_count": 58,
     "metadata": {},
     "output_type": "execute_result"
    }
   ],
   "source": [
    "ranks[0].get_text(), titles[0].get_text(), artists[0].get_text(), albums[0].get_text()"
   ]
  },
  {
   "cell_type": "code",
   "execution_count": null,
   "id": "f7e2f015",
   "metadata": {},
   "outputs": [],
   "source": [
    "import re\n",
    "\n",
    "ranks = [rank.get_text() for rank in ranks]\n",
    "titles = [re.sub('아티스트명', '', title.get_text()) for title in titles]\n",
    "artists = [artist.get_text() for artist in artists]\n",
    "albums = [album.get_text() for album in albums]"
   ]
  },
  {
   "cell_type": "code",
   "execution_count": 60,
   "id": "db9464b7",
   "metadata": {},
   "outputs": [
    {
     "data": {
      "text/plain": [
       "('1',\n",
       " 'StayThe Kid LAROI, Justin Bieber',\n",
       " 'The Kid LAROI, Justin Bieber',\n",
       " 'Stay')"
      ]
     },
     "execution_count": 60,
     "metadata": {},
     "output_type": "execute_result"
    }
   ],
   "source": [
    "ranks[0], titles[0], artists[0], albums[0]"
   ]
  },
  {
   "cell_type": "code",
   "execution_count": 61,
   "id": "3e6300f7",
   "metadata": {},
   "outputs": [],
   "source": [
    "titles = [re.sub(artists[i], '', titles[i]) for i in range(len(titles))]"
   ]
  },
  {
   "cell_type": "code",
   "execution_count": 62,
   "id": "6371fe5b",
   "metadata": {},
   "outputs": [
    {
     "data": {
      "text/plain": [
       "'Stay'"
      ]
     },
     "execution_count": 62,
     "metadata": {},
     "output_type": "execute_result"
    }
   ],
   "source": [
    "titles[0]"
   ]
  },
  {
   "cell_type": "code",
   "execution_count": 65,
   "id": "6840c904",
   "metadata": {},
   "outputs": [
    {
     "data": {
      "text/html": [
       "<div>\n",
       "<style scoped>\n",
       "    .dataframe tbody tr th:only-of-type {\n",
       "        vertical-align: middle;\n",
       "    }\n",
       "\n",
       "    .dataframe tbody tr th {\n",
       "        vertical-align: top;\n",
       "    }\n",
       "\n",
       "    .dataframe thead th {\n",
       "        text-align: right;\n",
       "    }\n",
       "</style>\n",
       "<table border=\"1\" class=\"dataframe\">\n",
       "  <thead>\n",
       "    <tr style=\"text-align: right;\">\n",
       "      <th></th>\n",
       "      <th>노래</th>\n",
       "      <th>아티스트</th>\n",
       "      <th>앨범</th>\n",
       "    </tr>\n",
       "    <tr>\n",
       "      <th>순위</th>\n",
       "      <th></th>\n",
       "      <th></th>\n",
       "      <th></th>\n",
       "    </tr>\n",
       "  </thead>\n",
       "  <tbody>\n",
       "    <tr>\n",
       "      <th>1</th>\n",
       "      <td>Stay</td>\n",
       "      <td>The Kid LAROI, Justin Bieber</td>\n",
       "      <td>Stay</td>\n",
       "    </tr>\n",
       "    <tr>\n",
       "      <th>2</th>\n",
       "      <td>Savage</td>\n",
       "      <td>aespa</td>\n",
       "      <td>Savage - The 1st Mini Album</td>\n",
       "    </tr>\n",
       "    <tr>\n",
       "      <th>3</th>\n",
       "      <td>신호등</td>\n",
       "      <td>이무진</td>\n",
       "      <td>신호등</td>\n",
       "    </tr>\n",
       "    <tr>\n",
       "      <th>4</th>\n",
       "      <td>My Universe</td>\n",
       "      <td>Coldplay, 방탄소년단</td>\n",
       "      <td>My Universe</td>\n",
       "    </tr>\n",
       "    <tr>\n",
       "      <th>5</th>\n",
       "      <td>낙하 (with 아이유)AKMU(악뮤)</td>\n",
       "      <td>AKMU(악뮤)</td>\n",
       "      <td>NEXT EPISODE</td>\n",
       "    </tr>\n",
       "    <tr>\n",
       "      <th>...</th>\n",
       "      <td>...</td>\n",
       "      <td>...</td>\n",
       "      <td>...</td>\n",
       "    </tr>\n",
       "    <tr>\n",
       "      <th>96순위 하락</th>\n",
       "      <td>aenergy</td>\n",
       "      <td>aespa</td>\n",
       "      <td>Savage - The 1st Mini Album</td>\n",
       "    </tr>\n",
       "    <tr>\n",
       "      <th>97순위 상승</th>\n",
       "      <td>전쟁터 (with 이선희)AKMU(악뮤)</td>\n",
       "      <td>AKMU(악뮤)</td>\n",
       "      <td>NEXT EPISODE</td>\n",
       "    </tr>\n",
       "    <tr>\n",
       "      <th>98순위 상승</th>\n",
       "      <td>ONLY</td>\n",
       "      <td>이하이</td>\n",
       "      <td>4 ONLY</td>\n",
       "    </tr>\n",
       "    <tr>\n",
       "      <th>99순위 하락</th>\n",
       "      <td>벌써 일년 (Drama Ver.)</td>\n",
       "      <td>미도와 파라솔</td>\n",
       "      <td>슬기로운 의사생활 시즌2 OST Special</td>\n",
       "    </tr>\n",
       "    <tr>\n",
       "      <th>100순위 하락</th>\n",
       "      <td>나는 너 좋아</td>\n",
       "      <td>장범준</td>\n",
       "      <td>슬기로운 의사생활 시즌2 OST Part 3</td>\n",
       "    </tr>\n",
       "  </tbody>\n",
       "</table>\n",
       "<p>100 rows × 3 columns</p>\n",
       "</div>"
      ],
      "text/plain": [
       "                              노래                          아티스트  \\\n",
       "순위                                                               \n",
       "1                           Stay  The Kid LAROI, Justin Bieber   \n",
       "2                         Savage                         aespa   \n",
       "3                            신호등                           이무진   \n",
       "4                    My Universe               Coldplay, 방탄소년단   \n",
       "5          낙하 (with 아이유)AKMU(악뮤)                      AKMU(악뮤)   \n",
       "...                          ...                           ...   \n",
       "96순위 하락                  aenergy                         aespa   \n",
       "97순위 상승   전쟁터 (with 이선희)AKMU(악뮤)                      AKMU(악뮤)   \n",
       "98순위 상승                     ONLY                           이하이   \n",
       "99순위 하락       벌써 일년 (Drama Ver.)                       미도와 파라솔   \n",
       "100순위 하락                 나는 너 좋아                           장범준   \n",
       "\n",
       "                                   앨범  \n",
       "순위                                     \n",
       "1                                Stay  \n",
       "2         Savage - The 1st Mini Album  \n",
       "3                                 신호등  \n",
       "4                         My Universe  \n",
       "5                        NEXT EPISODE  \n",
       "...                               ...  \n",
       "96순위 하락   Savage - The 1st Mini Album  \n",
       "97순위 상승                  NEXT EPISODE  \n",
       "98순위 상승                        4 ONLY  \n",
       "99순위 하락     슬기로운 의사생활 시즌2 OST Special  \n",
       "100순위 하락     슬기로운 의사생활 시즌2 OST Part 3  \n",
       "\n",
       "[100 rows x 3 columns]"
      ]
     },
     "execution_count": 65,
     "metadata": {},
     "output_type": "execute_result"
    }
   ],
   "source": [
    "import pandas as pd\n",
    "\n",
    "data = {'노래':titles, '아티스트':artists, '앨범':albums}\n",
    "\n",
    "df_music = pd.DataFrame(data, index=pd.Index(ranks, name='순위'))\n",
    "df_music"
   ]
  },
  {
   "cell_type": "markdown",
   "id": "3b5d668b",
   "metadata": {},
   "source": [
    "## 웹 페이지에서 이미지 가져오기"
   ]
  },
  {
   "cell_type": "markdown",
   "id": "b5394224",
   "metadata": {},
   "source": [
    "### 하나의 이미지 내려받기"
   ]
  },
  {
   "cell_type": "code",
   "execution_count": 66,
   "id": "890c48c0",
   "metadata": {},
   "outputs": [
    {
     "data": {
      "text/plain": [
       "<Response [200]>"
      ]
     },
     "execution_count": 66,
     "metadata": {},
     "output_type": "execute_result"
    }
   ],
   "source": [
    "import requests\n",
    "\n",
    "url = 'https://www.python.org/static/img/python-logo.png'\n",
    "html_image = requests.get(url)\n",
    "html_image"
   ]
  },
  {
   "cell_type": "code",
   "execution_count": 67,
   "id": "9bf3d299",
   "metadata": {},
   "outputs": [
    {
     "data": {
      "text/plain": [
       "'python-logo.png'"
      ]
     },
     "execution_count": 67,
     "metadata": {},
     "output_type": "execute_result"
    }
   ],
   "source": [
    "import os\n",
    "\n",
    "image_file_name = os.path.basename(url)\n",
    "image_file_name"
   ]
  },
  {
   "cell_type": "code",
   "execution_count": 68,
   "id": "52ceba52",
   "metadata": {},
   "outputs": [],
   "source": [
    "folder = 'download'\n",
    "\n",
    "if not os.path.exists(folder):\n",
    "    os.mkdir(folder)"
   ]
  },
  {
   "cell_type": "code",
   "execution_count": 69,
   "id": "beaab922",
   "metadata": {},
   "outputs": [
    {
     "data": {
      "text/plain": [
       "'download\\\\python-logo.png'"
      ]
     },
     "execution_count": 69,
     "metadata": {},
     "output_type": "execute_result"
    }
   ],
   "source": [
    "image_path = os.path.join(folder, image_file_name)\n",
    "image_path"
   ]
  },
  {
   "cell_type": "code",
   "execution_count": 70,
   "id": "16ddf9c3",
   "metadata": {},
   "outputs": [],
   "source": [
    "# 이미지 파일 저장\n",
    "imageFile = open(image_path, 'wb') # 바이너리 파일임을 명시\n",
    "\n",
    "chunk_size = 1000000 # 이미지를 1000000 바이트씩 나눠서 내려받고 파일에 순차적으로 저장\n",
    "for chunk in html_image.iter_content(chunk_size):\n",
    "    imageFile.write(chunk)\n",
    "imageFile.close()"
   ]
  },
  {
   "cell_type": "markdown",
   "id": "c813a820",
   "metadata": {},
   "source": [
    "### 여러 이미지 내려받기\n",
    "- https://www.reshot.com/search/animal\n",
    "- a 태그 안에 img 태그"
   ]
  },
  {
   "cell_type": "code",
   "execution_count": 71,
   "id": "ee0260ba",
   "metadata": {},
   "outputs": [
    {
     "data": {
      "text/plain": [
       "[<img alt=\"Reshot\" height=\"33\" src=\"https://www.reshot.com/build/reshot-logo--mark-cc49363ac3f7876f854286af4266ead51a7ff9e0fa12f30677c9e758d43dd0d1.svg\" title=\"Reshot\" width=\"46\"/>,\n",
       " <img alt=\"\" class=\"photos-item-card__image\" height=\"2448\" loading=\"lazy\" src=\"https://res.cloudinary.com/twenty20/private_images/t_reshot-400/v1521838685/photosp/bae96789-a5ab-4471-b54f-9686ace09e33/bae96789-a5ab-4471-b54f-9686ace09e33.jpg\" width=\"2448\"/>,\n",
       " <img alt=\"Back off!\" class=\"photos-item-card__image\" height=\"2361\" loading=\"lazy\" src=\"https://res.cloudinary.com/twenty20/private_images/t_reshot-400/v1597098233/photosp/a44357c5-b1c3-41ef-9a65-7a4937b06a44/a44357c5-b1c3-41ef-9a65-7a4937b06a44.jpg\" width=\"3148\"/>,\n",
       " <img alt=\"Orphans\" class=\"photos-item-card__image\" height=\"3375\" loading=\"lazy\" src=\"https://res.cloudinary.com/twenty20/private_images/t_reshot-400/v1617578418/photosp/34fd9c70-8996-4706-a0f1-113231ed3eee/34fd9c70-8996-4706-a0f1-113231ed3eee.jpg\" width=\"3375\"/>]"
      ]
     },
     "execution_count": 71,
     "metadata": {},
     "output_type": "execute_result"
    }
   ],
   "source": [
    "import requests\n",
    "from bs4 import BeautifulSoup\n",
    "\n",
    "URL = 'https://www.reshot.com/free-stock-photos/search/animal'\n",
    "\n",
    "html_reshot_image = requests.get(URL).text\n",
    "soup_reshot_image = BeautifulSoup(html_reshot_image, 'lxml')\n",
    "reshot_image_elements = soup_reshot_image.select('a img')\n",
    "reshot_image_elements[:4]"
   ]
  },
  {
   "cell_type": "code",
   "execution_count": 73,
   "id": "8962d739",
   "metadata": {},
   "outputs": [
    {
     "data": {
      "text/plain": [
       "'https://res.cloudinary.com/twenty20/private_images/t_reshot-400/v1521838685/photosp/bae96789-a5ab-4471-b54f-9686ace09e33/bae96789-a5ab-4471-b54f-9686ace09e33.jpg'"
      ]
     },
     "execution_count": 73,
     "metadata": {},
     "output_type": "execute_result"
    }
   ],
   "source": [
    "# get('속성') : 속성값 반환\n",
    "reshot_image_url = reshot_image_elements[1].get('src')\n",
    "reshot_image_url"
   ]
  },
  {
   "cell_type": "code",
   "execution_count": 74,
   "id": "ed60ed3d",
   "metadata": {},
   "outputs": [],
   "source": [
    "def get_image_url(url):\n",
    "    \"\"\"URL(주소)에서 이미지 주소 추출\"\"\"\n",
    "    html_reshot_image = requests.get(URL).text\n",
    "    soup_reshot_image = BeautifulSoup(html_reshot_image, 'lxml')\n",
    "    image_elements = soup_reshot_image.select('a img')\n",
    "    \n",
    "    if image_elements != None:\n",
    "        image_urls = []\n",
    "        for image_element in image_elements[1:]:\n",
    "            image_urls.append(image_element.get('src'))\n",
    "        return image_urls\n",
    "    else:\n",
    "        return None"
   ]
  },
  {
   "cell_type": "code",
   "execution_count": 75,
   "id": "b103bd94",
   "metadata": {},
   "outputs": [],
   "source": [
    "def download_image(img_folder, img_url):\n",
    "    \"\"\"폴더를 지정해 이미지 주소에서 이미지 내려받기\"\"\"\n",
    "    if img_url != None:\n",
    "        html_image = requests.get(img_url)\n",
    "        # os.path.basename(URL)은 웹사이트나 폴더가 포함된 파일명에서 파일명만 분리\n",
    "        imageFile = open(os.path.join(img_folder, os.path.basename(img_url)), 'wb')\n",
    "        \n",
    "        chunk_size = 1000000 # 이미지 데이터를 1000000 바이트씩 나눠서 저장\n",
    "        for chunk in html_image.iter_content(chunk_size):\n",
    "            imageFile.write(chunk)\n",
    "            imageFile.close()\n",
    "        print(\"이미지 파일명: '{}'. 내려받기 완료!\".format(os.path.basename(img_url)))\n",
    "    else:\n",
    "        print(\"내려받을 이미지가 없습니다.\")"
   ]
  },
  {
   "cell_type": "code",
   "execution_count": 76,
   "id": "db373156",
   "metadata": {},
   "outputs": [
    {
     "name": "stdout",
     "output_type": "stream",
     "text": [
      "이미지 파일명: 'bae96789-a5ab-4471-b54f-9686ace09e33.jpg'. 내려받기 완료!\n",
      "이미지 파일명: 'a44357c5-b1c3-41ef-9a65-7a4937b06a44.jpg'. 내려받기 완료!\n",
      "이미지 파일명: '34fd9c70-8996-4706-a0f1-113231ed3eee.jpg'. 내려받기 완료!\n",
      "이미지 파일명: 'dbd9fa3b-238b-47b1-8e20-c05400cbe921.jpg'. 내려받기 완료!\n",
      "이미지 파일명: '737d192f-ba38-4a71-9bb9-9d40b45d0263.jpg'. 내려받기 완료!\n",
      "이미지 파일명: 'c3c3604d-36eb-4f8a-9768-cebc0749d5a5.jpg'. 내려받기 완료!\n",
      "이미지 파일명: 'bd35932f-98e9-4164-bb40-24f2df77ce93.jpg'. 내려받기 완료!\n",
      "=================================\n",
      "선택한 모든 이미지 내려받기 완료!\n"
     ]
    }
   ],
   "source": [
    "# 웹 사이트 주소 지정\n",
    "reshot_url = 'https://www.reshot.com/free-stock-photos/search/animal'\n",
    "\n",
    "figure_folder = 'download' # 이미지 내려받을 폴더 지정\n",
    "\n",
    "reshot_image_urls = get_image_url(reshot_url) # 이미지 파일의 주소 가져오기\n",
    "\n",
    "num_of_download_image = 7 # 내려받을 이미지 개수 지정\n",
    "# num_of_download_image = len(reshot_image_urls) # 전체 이미지 개수\n",
    "\n",
    "for k in range(num_of_download_image):\n",
    "    download_image(figure_folder, reshot_image_urls[k])\n",
    "    \n",
    "print('=================================')\n",
    "print('선택한 모든 이미지 내려받기 완료!')"
   ]
  },
  {
   "cell_type": "code",
   "execution_count": null,
   "id": "d35180de",
   "metadata": {},
   "outputs": [],
   "source": []
  }
 ],
 "metadata": {
  "kernelspec": {
   "display_name": "Python Multi",
   "language": "python",
   "name": "multi"
  },
  "language_info": {
   "codemirror_mode": {
    "name": "ipython",
    "version": 3
   },
   "file_extension": ".py",
   "mimetype": "text/x-python",
   "name": "python",
   "nbconvert_exporter": "python",
   "pygments_lexer": "ipython3",
   "version": "3.7.6"
  },
  "toc": {
   "base_numbering": 1,
   "nav_menu": {},
   "number_sections": false,
   "sideBar": true,
   "skip_h1_title": false,
   "title_cell": "Table of Contents",
   "title_sidebar": "Contents",
   "toc_cell": false,
   "toc_position": {},
   "toc_section_display": true,
   "toc_window_display": false
  }
 },
 "nbformat": 4,
 "nbformat_minor": 5
}
