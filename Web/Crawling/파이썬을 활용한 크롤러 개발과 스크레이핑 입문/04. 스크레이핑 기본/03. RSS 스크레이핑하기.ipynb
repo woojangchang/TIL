{
 "cells": [
  {
   "cell_type": "markdown",
   "id": "d8ac8d78",
   "metadata": {},
   "source": [
    "# 03. RSS 스크레이핑하기"
   ]
  },
  {
   "cell_type": "markdown",
   "id": "0161fe3b",
   "metadata": {},
   "source": [
    "## 라이브러리 설치하기"
   ]
  },
  {
   "cell_type": "markdown",
   "id": "46e0d04b",
   "metadata": {},
   "source": [
    "### feedparser\n",
    "- RSS 1.0, RSS 2.0, Atom 등 여러 사양에 모두 대응"
   ]
  },
  {
   "cell_type": "code",
   "execution_count": 1,
   "id": "a67ca51a",
   "metadata": {},
   "outputs": [
    {
     "data": {
      "text/plain": [
       "'6.0.8'"
      ]
     },
     "execution_count": 1,
     "metadata": {},
     "output_type": "execute_result"
    }
   ],
   "source": [
    "import feedparser\n",
    "\n",
    "feedparser.__version__"
   ]
  },
  {
   "cell_type": "markdown",
   "id": "c45cfc33",
   "metadata": {},
   "source": [
    "### XML 분석하기\n",
    "- 기상청 동네 예보 RSS 사용(https://www.weather.go.kr/w/pop/rss-guide.do)\n",
    "- parse 메서드에 URL 지정하여 호출"
   ]
  },
  {
   "cell_type": "code",
   "execution_count": 2,
   "id": "bd62f89f",
   "metadata": {},
   "outputs": [
    {
     "name": "stdout",
     "output_type": "stream",
     "text": [
      "{'bozo': False, 'entries': [{'authors': [{'name': '기상청'}], 'author': '기상청', 'author_detail': {'name': '기상청'}, 'tags': [{'term': '서울특별시 관악구 은천동', 'scheme': None, 'label': None}], 'title': '동네예보(도표) : 서울특별시 관악구 은천동 [X=59,Y=125]', 'title_detail': {'type': 'text/plain', 'language': None, 'base': 'http://www.kma.go.kr/wid/queryDFSRSS.jsp?zone=1162060500', 'value': '동네예보(도표) : 서울특별시 관악구 은천동 [X=59,Y=125]'}, 'links': [{'rel': 'alternate', 'type': 'text/html', 'href': 'http://www.kma.go.kr/weather/forecast/timeseries.jsp?searchType=INTEREST&dongCode=1162060500'}], 'link': 'http://www.kma.go.kr/weather/forecast/timeseries.jsp?searchType=INTEREST&dongCode=1162060500', 'id': 'http://www.kma.go.kr/weather/forecast/timeseries.jsp?searchType=INTEREST&dongCode=1162060500', 'guidislink': False, 'summary': '<header>\\n  202110021700\\n  5\\n  59\\n  125\\n </header>\\n \\n  \\n   21\\n   0\\n   20.0\\n   -999.0\\n   -999.0\\n   1\\n   0\\n   맑음\\n   Clear\\n   0\\n   0.0\\n   0.0\\n   0.9\\n   6\\n   서\\n   W\\n   80\\n   0.0\\n   0.0\\n  \\n  \\n   24\\n   0\\n   20.0\\n   -999.0\\n   -999.0\\n   1\\n   0\\n   맑음\\n   Clear\\n   0\\n   0.0\\n   0.0\\n   1.0\\n   4\\n   남\\n   S\\n   85\\n   0.0\\n   0.0\\n  \\n  \\n   3\\n   1\\n   19.0\\n   29.0\\n   18.0\\n   1\\n   0\\n   맑음\\n   Clear\\n   0\\n   0.0\\n   0.0\\n   1.8\\n   3\\n   남동\\n   SE\\n   90\\n   0.0\\n   0.0\\n  \\n  \\n   6\\n   1\\n   19.0\\n   29.0\\n   18.0\\n   1\\n   0\\n   맑음\\n   Clear\\n   0\\n   0.0\\n   0.0\\n   1.7000000000000002\\n   3\\n   남동\\n   SE\\n   85\\n   0.0\\n   0.0\\n  \\n  \\n   9\\n   1\\n   22.0\\n   29.0\\n   18.0\\n   1\\n   0\\n   맑음\\n   Clear\\n   0\\n   0.0\\n   0.0\\n   2.3000000000000003\\n   4\\n   남\\n   S\\n   75\\n   0.0\\n   0.0\\n  \\n  \\n   12\\n   1\\n   26.0\\n   29.0\\n   18.0\\n   1\\n   0\\n   맑음\\n   Clear\\n   0\\n   0.0\\n   0.0\\n   3.2\\n   5\\n   남서\\n   SW\\n   60\\n   0.0\\n   0.0\\n  \\n  \\n   15\\n   1\\n   28.0\\n   29.0\\n   18.0\\n   1\\n   0\\n   맑음\\n   Clear\\n   0\\n   0.0\\n   0.0\\n   3.9000000000000004\\n   5\\n   남서\\n   SW\\n   50\\n   0.0\\n   0.0\\n  \\n  \\n   18\\n   1\\n   25.0\\n   29.0\\n   18.0\\n   1\\n   0\\n   맑음\\n   Clear\\n   0\\n   0.0\\n   0.0\\n   1.7000000000000002\\n   5\\n   남서\\n   SW\\n   65\\n   0.0\\n   0.0\\n  \\n  \\n   21\\n   1\\n   23.0\\n   29.0\\n   18.0\\n   3\\n   0\\n   구름 많음\\n   Mostly Cloudy\\n   20\\n   0.0\\n   0.0\\n   1.8\\n   4\\n   남\\n   S\\n   75\\n   0.0\\n   0.0\\n  \\n  \\n   24\\n   1\\n   22.0\\n   29.0\\n   18.0\\n   4\\n   0\\n   흐림\\n   Cloudy\\n   30\\n   0.0\\n   0.0\\n   1.9000000000000001\\n   3\\n   남동\\n   SE\\n   80\\n   0.0\\n   0.0\\n  \\n  \\n   3\\n   2\\n   21.0\\n   26.0\\n   19.0\\n   3\\n   0\\n   구름 많음\\n   Mostly Cloudy\\n   20\\n   0.0\\n   0.0\\n   1.8\\n   3\\n   남동\\n   SE\\n   80\\n   0.0\\n   0.0\\n  \\n  \\n   6\\n   2\\n   20.0\\n   26.0\\n   19.0\\n   4\\n   0\\n   흐림\\n   Cloudy\\n   30\\n   0.0\\n   0.0\\n   2.4000000000000004\\n   3\\n   남동\\n   SE\\n   80\\n   0.0\\n   0.0\\n  \\n  \\n   9\\n   2\\n   22.0\\n   26.0\\n   19.0\\n   4\\n   0\\n   흐림\\n   Cloudy\\n   30\\n   0.0\\n   0.0\\n   3.5\\n   4\\n   남\\n   S\\n   80\\n   0.0\\n   0.0\\n  \\n  \\n   12\\n   2\\n   25.0\\n   26.0\\n   19.0\\n   4\\n   0\\n   흐림\\n   Cloudy\\n   30\\n   0.0\\n   0.0\\n   4.1000000000000005\\n   5\\n   남서\\n   SW\\n   80\\n   0.0\\n   0.0\\n  \\n  \\n   15\\n   2\\n   26.0\\n   26.0\\n   19.0\\n   4\\n   0\\n   흐림\\n   Cloudy\\n   30\\n   0.0\\n   0.0\\n   5.4\\n   5\\n   남서\\n   SW\\n   70\\n   0.0\\n   0.0\\n  \\n  \\n   18\\n   2\\n   24.0\\n   26.0\\n   19.0\\n   4\\n   0\\n   흐림\\n   Cloudy\\n   30\\n   0.0\\n   0.0\\n   3.4000000000000004\\n   5\\n   남서\\n   SW\\n   75\\n   0.0\\n   0.0\\n  \\n  \\n   21\\n   2\\n   23.0\\n   26.0\\n   19.0\\n   4\\n   0\\n   흐림\\n   Cloudy\\n   30\\n   0.0\\n   0.0\\n   2.3000000000000003\\n   5\\n   남서\\n   SW\\n   80\\n   0.0\\n   0.0\\n  \\n  \\n   24\\n   2\\n   23.0\\n   26.0\\n   19.0\\n   4\\n   0\\n   흐림\\n   Cloudy\\n   30\\n   0.0\\n   0.0\\n   2.4000000000000004\\n   4\\n   남\\n   S\\n   85\\n   0.0\\n   0.0'}], 'feed': {'title': '기상청 동네예보 웹서비스 - 서울특별시 관악구 은천동 도표예보', 'title_detail': {'type': 'text/plain', 'language': None, 'base': 'http://www.kma.go.kr/wid/queryDFSRSS.jsp?zone=1162060500', 'value': '기상청 동네예보 웹서비스 - 서울특별시 관악구 은천동 도표예보'}, 'links': [{'rel': 'alternate', 'type': 'text/html', 'href': 'http://www.kma.go.kr/weather/main.jsp'}], 'link': 'http://www.kma.go.kr/weather/main.jsp', 'subtitle': '동네예보 웹서비스', 'subtitle_detail': {'type': 'text/html', 'language': None, 'base': 'http://www.kma.go.kr/wid/queryDFSRSS.jsp?zone=1162060500', 'value': '동네예보 웹서비스'}, 'language': 'ko', 'generator_detail': {'name': '동네예보'}, 'generator': '동네예보', 'published': '2021년 10월 02일 (토)요일 17:00', 'published_parsed': time.struct_time(tm_year=2021, tm_mon=10, tm_mday=1, tm_hour=0, tm_min=0, tm_sec=0, tm_wday=4, tm_yday=274, tm_isdst=0)}, 'headers': {'date': 'Sat, 02 Oct 2021 10:59:12 GMT', 'content-length': '7951', 'accept-ranges': 'bytes', 'content-type': 'text/xml; charset=UTF-8', 'connection': 'close'}, 'href': 'http://www.kma.go.kr/wid/queryDFSRSS.jsp?zone=1162060500', 'status': 200, 'encoding': 'UTF-8', 'version': 'rss20', 'namespaces': {}}\n"
     ]
    }
   ],
   "source": [
    "import feedparser\n",
    "\n",
    "rss = feedparser.parse('http://www.kma.go.kr/wid/queryDFSRSS.jsp?zone=1162060500')\n",
    "print(rss)"
   ]
  },
  {
   "cell_type": "code",
   "execution_count": 3,
   "id": "afe4dda1",
   "metadata": {},
   "outputs": [
    {
     "data": {
      "text/plain": [
       "'<header>\\n  202110021700\\n  5\\n  59\\n  125\\n </header>\\n \\n  \\n   21\\n   0\\n   20.0\\n   -999.0\\n   -999.0\\n   1\\n   0\\n   맑음\\n   Clear\\n   0\\n   0.0\\n   0.0\\n   0.9\\n   6\\n   서\\n   W\\n   80\\n   0.0\\n   0.0\\n  \\n  \\n   24\\n   0\\n   20.0\\n   -999.0\\n   -999.0\\n   1\\n   0\\n   맑음\\n   Clear\\n   0\\n   0.0\\n   0.0\\n   1.0\\n   4\\n   남\\n   S\\n   85\\n   0.0\\n   0.0\\n  \\n  \\n   3\\n   1\\n   19.0\\n   29.0\\n   18.0\\n   1\\n   0\\n   맑음\\n   Clear\\n   0\\n   0.0\\n   0.0\\n   1.8\\n   3\\n   남동\\n   SE\\n   90\\n   0.0\\n   0.0\\n  \\n  \\n   6\\n   1\\n   19.0\\n   29.0\\n   18.0\\n   1\\n   0\\n   맑음\\n   Clear\\n   0\\n   0.0\\n   0.0\\n   1.7000000000000002\\n   3\\n   남동\\n   SE\\n   85\\n   0.0\\n   0.0\\n  \\n  \\n   9\\n   1\\n   22.0\\n   29.0\\n   18.0\\n   1\\n   0\\n   맑음\\n   Clear\\n   0\\n   0.0\\n   0.0\\n   2.3000000000000003\\n   4\\n   남\\n   S\\n   75\\n   0.0\\n   0.0\\n  \\n  \\n   12\\n   1\\n   26.0\\n   29.0\\n   18.0\\n   1\\n   0\\n   맑음\\n   Clear\\n   0\\n   0.0\\n   0.0\\n   3.2\\n   5\\n   남서\\n   SW\\n   60\\n   0.0\\n   0.0\\n  \\n  \\n   15\\n   1\\n   28.0\\n   29.0\\n   18.0\\n   1\\n   0\\n   맑음\\n   Clear\\n   0\\n   0.0\\n   0.0\\n   3.9000000000000004\\n   5\\n   남서\\n   SW\\n   50\\n   0.0\\n   0.0\\n  \\n  \\n   18\\n   1\\n   25.0\\n   29.0\\n   18.0\\n   1\\n   0\\n   맑음\\n   Clear\\n   0\\n   0.0\\n   0.0\\n   1.7000000000000002\\n   5\\n   남서\\n   SW\\n   65\\n   0.0\\n   0.0\\n  \\n  \\n   21\\n   1\\n   23.0\\n   29.0\\n   18.0\\n   3\\n   0\\n   구름 많음\\n   Mostly Cloudy\\n   20\\n   0.0\\n   0.0\\n   1.8\\n   4\\n   남\\n   S\\n   75\\n   0.0\\n   0.0\\n  \\n  \\n   24\\n   1\\n   22.0\\n   29.0\\n   18.0\\n   4\\n   0\\n   흐림\\n   Cloudy\\n   30\\n   0.0\\n   0.0\\n   1.9000000000000001\\n   3\\n   남동\\n   SE\\n   80\\n   0.0\\n   0.0\\n  \\n  \\n   3\\n   2\\n   21.0\\n   26.0\\n   19.0\\n   3\\n   0\\n   구름 많음\\n   Mostly Cloudy\\n   20\\n   0.0\\n   0.0\\n   1.8\\n   3\\n   남동\\n   SE\\n   80\\n   0.0\\n   0.0\\n  \\n  \\n   6\\n   2\\n   20.0\\n   26.0\\n   19.0\\n   4\\n   0\\n   흐림\\n   Cloudy\\n   30\\n   0.0\\n   0.0\\n   2.4000000000000004\\n   3\\n   남동\\n   SE\\n   80\\n   0.0\\n   0.0\\n  \\n  \\n   9\\n   2\\n   22.0\\n   26.0\\n   19.0\\n   4\\n   0\\n   흐림\\n   Cloudy\\n   30\\n   0.0\\n   0.0\\n   3.5\\n   4\\n   남\\n   S\\n   80\\n   0.0\\n   0.0\\n  \\n  \\n   12\\n   2\\n   25.0\\n   26.0\\n   19.0\\n   4\\n   0\\n   흐림\\n   Cloudy\\n   30\\n   0.0\\n   0.0\\n   4.1000000000000005\\n   5\\n   남서\\n   SW\\n   80\\n   0.0\\n   0.0\\n  \\n  \\n   15\\n   2\\n   26.0\\n   26.0\\n   19.0\\n   4\\n   0\\n   흐림\\n   Cloudy\\n   30\\n   0.0\\n   0.0\\n   5.4\\n   5\\n   남서\\n   SW\\n   70\\n   0.0\\n   0.0\\n  \\n  \\n   18\\n   2\\n   24.0\\n   26.0\\n   19.0\\n   4\\n   0\\n   흐림\\n   Cloudy\\n   30\\n   0.0\\n   0.0\\n   3.4000000000000004\\n   5\\n   남서\\n   SW\\n   75\\n   0.0\\n   0.0\\n  \\n  \\n   21\\n   2\\n   23.0\\n   26.0\\n   19.0\\n   4\\n   0\\n   흐림\\n   Cloudy\\n   30\\n   0.0\\n   0.0\\n   2.3000000000000003\\n   5\\n   남서\\n   SW\\n   80\\n   0.0\\n   0.0\\n  \\n  \\n   24\\n   2\\n   23.0\\n   26.0\\n   19.0\\n   4\\n   0\\n   흐림\\n   Cloudy\\n   30\\n   0.0\\n   0.0\\n   2.4000000000000004\\n   4\\n   남\\n   S\\n   85\\n   0.0\\n   0.0'"
      ]
     },
     "execution_count": 3,
     "metadata": {},
     "output_type": "execute_result"
    }
   ],
   "source": [
    "rss['entries'][0]['summary']"
   ]
  },
  {
   "cell_type": "markdown",
   "id": "4051e904",
   "metadata": {},
   "source": [
    "### BeautifulSoup을 이용\n",
    "- 기상청 RSS의 경우 feedparser보다 BeautifulSoup을 이용하는 것이 더 좋다."
   ]
  },
  {
   "cell_type": "code",
   "execution_count": 4,
   "id": "31c72a3e",
   "metadata": {},
   "outputs": [],
   "source": [
    "import urllib.request \n",
    "import urllib.parse as parse\n",
    "from bs4 import BeautifulSoup\n",
    "\n",
    "rssurl = 'http://www.kma.go.kr/wid/queryDFSRSS.jsp?zone=1162060500'\n",
    "\n",
    "html = urllib.request.urlopen(rssurl).read()\n",
    "text = html.decode(\"utf-8\")\n",
    "soup = BeautifulSoup(text,'html.parser')"
   ]
  },
  {
   "cell_type": "code",
   "execution_count": 5,
   "id": "bfb0c288",
   "metadata": {},
   "outputs": [
    {
     "data": {
      "text/plain": [
       "[<title>기상청 동네예보 웹서비스 - 서울특별시 관악구 은천동 도표예보</title>,\n",
       " <title>동네예보(도표) : 서울특별시 관악구 은천동 [X=59,Y=125]</title>]"
      ]
     },
     "execution_count": 5,
     "metadata": {},
     "output_type": "execute_result"
    }
   ],
   "source": [
    "soup.find_all('title')"
   ]
  },
  {
   "cell_type": "code",
   "execution_count": 6,
   "id": "98d21250",
   "metadata": {},
   "outputs": [
    {
     "data": {
      "text/plain": [
       "18"
      ]
     },
     "execution_count": 6,
     "metadata": {},
     "output_type": "execute_result"
    }
   ],
   "source": [
    "data = soup.find_all('data')\n",
    "len(data)"
   ]
  },
  {
   "cell_type": "code",
   "execution_count": 7,
   "id": "dff1aff2",
   "metadata": {},
   "outputs": [
    {
     "data": {
      "text/plain": [
       "'20.0'"
      ]
     },
     "execution_count": 7,
     "metadata": {},
     "output_type": "execute_result"
    }
   ],
   "source": [
    "data[0].temp.string"
   ]
  },
  {
   "cell_type": "code",
   "execution_count": 8,
   "id": "78855281",
   "metadata": {},
   "outputs": [
    {
     "name": "stdout",
     "output_type": "stream",
     "text": [
      "오늘 21시의 날씨 : 기온 20.0도, 최고기온 -999.0도, 최저기온 -999.0도, 맑음, 강수 확률 0%\n",
      "오늘 24시의 날씨 : 기온 20.0도, 최고기온 -999.0도, 최저기온 -999.0도, 맑음, 강수 확률 0%\n",
      "내일 03시의 날씨 : 기온 19.0도, 최고기온 29.0도, 최저기온 18.0도, 맑음, 강수 확률 0%\n",
      "내일 06시의 날씨 : 기온 19.0도, 최고기온 29.0도, 최저기온 18.0도, 맑음, 강수 확률 0%\n",
      "내일 09시의 날씨 : 기온 22.0도, 최고기온 29.0도, 최저기온 18.0도, 맑음, 강수 확률 0%\n",
      "내일 12시의 날씨 : 기온 26.0도, 최고기온 29.0도, 최저기온 18.0도, 맑음, 강수 확률 0%\n",
      "내일 15시의 날씨 : 기온 28.0도, 최고기온 29.0도, 최저기온 18.0도, 맑음, 강수 확률 0%\n",
      "내일 18시의 날씨 : 기온 25.0도, 최고기온 29.0도, 최저기온 18.0도, 맑음, 강수 확률 0%\n",
      "내일 21시의 날씨 : 기온 23.0도, 최고기온 29.0도, 최저기온 18.0도, 구름 많음, 강수 확률 20%\n",
      "내일 24시의 날씨 : 기온 22.0도, 최고기온 29.0도, 최저기온 18.0도, 흐림, 강수 확률 30%\n",
      "모레 03시의 날씨 : 기온 21.0도, 최고기온 26.0도, 최저기온 19.0도, 구름 많음, 강수 확률 20%\n",
      "모레 06시의 날씨 : 기온 20.0도, 최고기온 26.0도, 최저기온 19.0도, 흐림, 강수 확률 30%\n",
      "모레 09시의 날씨 : 기온 22.0도, 최고기온 26.0도, 최저기온 19.0도, 흐림, 강수 확률 30%\n",
      "모레 12시의 날씨 : 기온 25.0도, 최고기온 26.0도, 최저기온 19.0도, 흐림, 강수 확률 30%\n",
      "모레 15시의 날씨 : 기온 26.0도, 최고기온 26.0도, 최저기온 19.0도, 흐림, 강수 확률 30%\n",
      "모레 18시의 날씨 : 기온 24.0도, 최고기온 26.0도, 최저기온 19.0도, 흐림, 강수 확률 30%\n",
      "모레 21시의 날씨 : 기온 23.0도, 최고기온 26.0도, 최저기온 19.0도, 흐림, 강수 확률 30%\n",
      "모레 24시의 날씨 : 기온 23.0도, 최고기온 26.0도, 최저기온 19.0도, 흐림, 강수 확률 30%\n"
     ]
    }
   ],
   "source": [
    "for d in data:\n",
    "    time = int(d.hour.string)\n",
    "    day = d.day.string\n",
    "    temp = d.temp.string\n",
    "    tmx = d.tmx.string\n",
    "    tmn = d.tmn.string\n",
    "    wf = d.wfkor.string\n",
    "    pop = d.pop.string\n",
    "    \n",
    "    daydict = {'0':'오늘', '1':'내일', '2':'모레'}\n",
    "    print(f'{daydict[day]} {time:02d}시의 날씨 : 기온 {temp}도, 최고기온 {tmx}도, 최저기온 {tmn}도, {wf}, 강수 확률 {pop}%')"
   ]
  },
  {
   "cell_type": "code",
   "execution_count": null,
   "id": "69ecc967",
   "metadata": {},
   "outputs": [],
   "source": []
  }
 ],
 "metadata": {
  "kernelspec": {
   "display_name": "Python Multi",
   "language": "python",
   "name": "multi"
  },
  "language_info": {
   "codemirror_mode": {
    "name": "ipython",
    "version": 3
   },
   "file_extension": ".py",
   "mimetype": "text/x-python",
   "name": "python",
   "nbconvert_exporter": "python",
   "pygments_lexer": "ipython3",
   "version": "3.7.6"
  },
  "toc": {
   "base_numbering": 1,
   "nav_menu": {},
   "number_sections": false,
   "sideBar": true,
   "skip_h1_title": false,
   "title_cell": "Table of Contents",
   "title_sidebar": "Contents",
   "toc_cell": false,
   "toc_position": {},
   "toc_section_display": true,
   "toc_window_display": false
  }
 },
 "nbformat": 4,
 "nbformat_minor": 5
}
