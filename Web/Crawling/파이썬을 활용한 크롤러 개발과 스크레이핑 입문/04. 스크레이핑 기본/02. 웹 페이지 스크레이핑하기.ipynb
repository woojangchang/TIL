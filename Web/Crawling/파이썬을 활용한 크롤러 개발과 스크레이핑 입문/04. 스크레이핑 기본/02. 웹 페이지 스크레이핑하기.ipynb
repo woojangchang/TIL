{
 "cells": [
  {
   "cell_type": "markdown",
   "id": "05966135",
   "metadata": {},
   "source": [
    "# 02. 웹 페이지 스크레이핑하기"
   ]
  },
  {
   "cell_type": "markdown",
   "id": "08ae7f50",
   "metadata": {},
   "source": [
    "## 라이브러리 설치하기"
   ]
  },
  {
   "cell_type": "code",
   "execution_count": 1,
   "id": "05a65f22",
   "metadata": {},
   "outputs": [
    {
     "data": {
      "text/plain": [
       "'2.26.0'"
      ]
     },
     "execution_count": 1,
     "metadata": {},
     "output_type": "execute_result"
    }
   ],
   "source": [
    "import requests\n",
    "\n",
    "requests.__version__"
   ]
  },
  {
   "cell_type": "code",
   "execution_count": 2,
   "id": "ef1e9f13",
   "metadata": {},
   "outputs": [
    {
     "data": {
      "text/plain": [
       "'4.6.3'"
      ]
     },
     "execution_count": 2,
     "metadata": {},
     "output_type": "execute_result"
    }
   ],
   "source": [
    "import lxml\n",
    "\n",
    "lxml.__version__"
   ]
  },
  {
   "cell_type": "code",
   "execution_count": 3,
   "id": "ac10a8fa",
   "metadata": {},
   "outputs": [
    {
     "data": {
      "text/plain": [
       "'1.1.0'"
      ]
     },
     "execution_count": 3,
     "metadata": {},
     "output_type": "execute_result"
    }
   ],
   "source": [
    "import cssselect\n",
    "\n",
    "cssselect.__version__"
   ]
  },
  {
   "cell_type": "markdown",
   "id": "b9d6c9e1",
   "metadata": {},
   "source": [
    "## 웹에 있는 리소스 추출하기\n",
    "- 단순하게 웹 페이지를 추출하는 것이라면 urllib만으로도 충분하지만 HTTP 헤더에 정보를 넣어 접근하거나 BASIC 인증을 하려면 힘듬"
   ]
  },
  {
   "cell_type": "markdown",
   "id": "45b41380",
   "metadata": {},
   "source": [
    "### Requests를 사용해서 웹에 있는 리소스 추출하기\n",
    "- HTTP 메서드와 같은 이름의 메서드를 제공\n",
    "\n",
    "```python\n",
    "import requests\n",
    "\n",
    "requests.get('URL')\n",
    "requests.post('URL')\n",
    "requests.put('URL')\n",
    "requests.delete('URL')\n",
    "requests.head('URL') # header 추출하기\n",
    "\n",
    "# GET 메서드에 매개 변수 추가\n",
    "requests.get('URL', params={'key1':'value1', 'key2':'value2'})\n",
    "```\n",
    "\n",
    "- API를 호출할 때 대부분 POST 요청의 body에 JSON 인코딩한 매개 변수를 넣는 경우가 많음\n",
    "\n",
    "```python\n",
    "import json\n",
    "import requests\n",
    "\n",
    "requests.post('URL', data=json.dumps({'key1':'value1', 'key2':'value2'}))\n",
    "```"
   ]
  },
  {
   "cell_type": "markdown",
   "id": "1616a649",
   "metadata": {},
   "source": [
    "### Requests의 응답\n",
    "- GET 등의 메서드의 반환값은 Response 클래스이며 status_code 변수에 접근하면 상태 코드를 확인할 수 있음"
   ]
  },
  {
   "cell_type": "code",
   "execution_count": 7,
   "id": "fdf5e089",
   "metadata": {},
   "outputs": [
    {
     "data": {
      "text/plain": [
       "200"
      ]
     },
     "execution_count": 7,
     "metadata": {},
     "output_type": "execute_result"
    }
   ],
   "source": [
    "import requests\n",
    "\n",
    "r = requests.get('https://jsonplaceholder.typicode.com/users/1')\n",
    "r.status_code"
   ]
  },
  {
   "cell_type": "markdown",
   "id": "553f8db8",
   "metadata": {},
   "source": [
    "- 응답 본문(body)가 byte 자료형일 경우 content, str 자료형일 경우 texttest에 접근"
   ]
  },
  {
   "cell_type": "code",
   "execution_count": 8,
   "id": "7a0e9639",
   "metadata": {},
   "outputs": [
    {
     "data": {
      "text/plain": [
       "'{\\n  \"id\": 1,\\n  \"name\": \"Leanne Graham\",\\n  \"username\": \"Bret\",\\n  \"email\": \"Sincere@april.biz\",\\n  \"address\": {\\n    \"street\": \"Kulas Light\",\\n    \"suite\": \"Apt. 556\",\\n    \"city\": \"Gwenborough\",\\n    \"zipcode\": \"92998-3874\",\\n    \"geo\": {\\n      \"lat\": \"-37.3159\",\\n      \"lng\": \"81.1496\"\\n    }\\n  },\\n  \"phone\": \"1-770-736-8031 x56442\",\\n  \"website\": \"hildegard.org\",\\n  \"company\": {\\n    \"name\": \"Romaguera-Crona\",\\n    \"catchPhrase\": \"Multi-layered client-server neural-net\",\\n    \"bs\": \"harness real-time e-markets\"\\n  }\\n}'"
      ]
     },
     "execution_count": 8,
     "metadata": {},
     "output_type": "execute_result"
    }
   ],
   "source": [
    "r.text"
   ]
  },
  {
   "cell_type": "markdown",
   "id": "eebbb5b3",
   "metadata": {},
   "source": [
    "### JSON 파싱하기\n",
    "- Response 클래스의 json 메서드 : body가 JSON 형식이라면 파싱하여 딕셔너리 자료형으로 만들어주는 메서드"
   ]
  },
  {
   "cell_type": "code",
   "execution_count": 9,
   "id": "7c9ff0dd",
   "metadata": {},
   "outputs": [],
   "source": [
    "json = r.json()"
   ]
  },
  {
   "cell_type": "code",
   "execution_count": 10,
   "id": "5394dade",
   "metadata": {},
   "outputs": [
    {
     "data": {
      "text/plain": [
       "{'id': 1,\n",
       " 'name': 'Leanne Graham',\n",
       " 'username': 'Bret',\n",
       " 'email': 'Sincere@april.biz',\n",
       " 'address': {'street': 'Kulas Light',\n",
       "  'suite': 'Apt. 556',\n",
       "  'city': 'Gwenborough',\n",
       "  'zipcode': '92998-3874',\n",
       "  'geo': {'lat': '-37.3159', 'lng': '81.1496'}},\n",
       " 'phone': '1-770-736-8031 x56442',\n",
       " 'website': 'hildegard.org',\n",
       " 'company': {'name': 'Romaguera-Crona',\n",
       "  'catchPhrase': 'Multi-layered client-server neural-net',\n",
       "  'bs': 'harness real-time e-markets'}}"
      ]
     },
     "execution_count": 10,
     "metadata": {},
     "output_type": "execute_result"
    }
   ],
   "source": [
    "json"
   ]
  },
  {
   "cell_type": "markdown",
   "id": "e34d6dc1",
   "metadata": {},
   "source": [
    "## XPath와 CSS 선택자\n",
    "- XPath : XML Path Language의 줄임말로 XML로 작성된 문서의 특정 부분을 선택할 때 사용하는 언어"
   ]
  },
  {
   "cell_type": "markdown",
   "id": "1beaefe9",
   "metadata": {},
   "source": [
    "### XPath로 요소 지정하기\n",
    "\n",
    "```html\n",
    "<html>\n",
    "    <body>\n",
    "        <h1>도서</h1>\n",
    "        <div class=\"book\">\n",
    "            <p class=\"title\">파이썬을 활용한 크롤러 개발과 스크레이핑 입문</p>\n",
    "            <a href=\"/python-crawler\"></a>\n",
    "        </div>\n",
    "    </body>\n",
    "</html>\n",
    "```\n",
    "- h1 요소의 위치 : /html/body/h1\n",
    "- //로 시작하는 경우는 전체 요소를 대상으로 함\n",
    "    - //div : HTML 소스 내부의 모든 div를 지정"
   ]
  },
  {
   "cell_type": "markdown",
   "id": "be6db87d",
   "metadata": {},
   "source": [
    "### CSS 선택자로 요소 지정하기\n",
    "- h1 요소의 위치 : html > body > h1\n",
    "- 클래스 이름을 지정 : `.<클래스 이름>`\n",
    "- id 이름을 지정 : `#<id 이름>`"
   ]
  },
  {
   "cell_type": "markdown",
   "id": "116c8c1a",
   "metadata": {},
   "source": [
    "## HTML 소스 분석하기\n",
    "- https://wikibook.co.kr/python-crawler/ 페이지에서 도서 제목 추출하기"
   ]
  },
  {
   "cell_type": "markdown",
   "id": "13898cc5",
   "metadata": {},
   "source": [
    "### 추출하고 싶은 요소의 XPath와 CSS 선택자 추출하기\n",
    "- 검사 - 요소 선택 - 마우스 우클릭 - Copy - Copy selector (CSS) / Copy XPath (XPath)\n",
    "- XPath : `//*[@id=\"content\"]/div[1]/div[2]/h1`\n",
    "- CSS : `#content > div:nth-child(1) > div.col-md-9 > h1`"
   ]
  },
  {
   "cell_type": "markdown",
   "id": "d2b8f6a7",
   "metadata": {},
   "source": [
    "### lxml로 스크레이핑하기"
   ]
  },
  {
   "cell_type": "code",
   "execution_count": 11,
   "id": "ba30c3b6",
   "metadata": {},
   "outputs": [],
   "source": [
    "import requests\n",
    "import lxml.html\n",
    "\n",
    "r = requests.get('https://wikibook.co.kr/python-crawler/')\n",
    "html = r.text"
   ]
  },
  {
   "cell_type": "code",
   "execution_count": 12,
   "id": "49624045",
   "metadata": {},
   "outputs": [],
   "source": [
    "# lxml을 사용해 HtmlElement 클래스 객체로 변환\n",
    "# 매개 변수에 HTML 소스 코드를 지정해서 fromstring 메서드 호출\n",
    "root = lxml.html.fromstring(html)"
   ]
  },
  {
   "cell_type": "code",
   "execution_count": 15,
   "id": "d7606dfd",
   "metadata": {},
   "outputs": [],
   "source": [
    "# HtmlElement의 xpath 메서드에 XPath를 지정해서 요소 추출\n",
    "# 여러 개인 경우도 있기 때문에 항상 리스트로 반환\n",
    "titleElement = root.xpath('//*[@id=\"content\"]/div[1]/div[2]/h1')"
   ]
  },
  {
   "cell_type": "code",
   "execution_count": 16,
   "id": "91346d09",
   "metadata": {},
   "outputs": [
    {
     "data": {
      "text/plain": [
       "[<Element h1 at 0x1bef082fef8>]"
      ]
     },
     "execution_count": 16,
     "metadata": {},
     "output_type": "execute_result"
    }
   ],
   "source": [
    "titleElement"
   ]
  },
  {
   "cell_type": "code",
   "execution_count": 17,
   "id": "8973f609",
   "metadata": {},
   "outputs": [
    {
     "data": {
      "text/plain": [
       "'파이썬을 활용한 크롤러 개발과 스크레이핑 입문'"
      ]
     },
     "execution_count": 17,
     "metadata": {},
     "output_type": "execute_result"
    }
   ],
   "source": [
    "# 텍스트 추출\n",
    "titleElement[0].text"
   ]
  },
  {
   "cell_type": "code",
   "execution_count": 18,
   "id": "74dc6740",
   "metadata": {},
   "outputs": [
    {
     "data": {
      "text/plain": [
       "'h1'"
      ]
     },
     "execution_count": 18,
     "metadata": {},
     "output_type": "execute_result"
    }
   ],
   "source": [
    "# 태그 이름, 태그 속성 등도 추출할 수 있음\n",
    "titleElement[0].tag"
   ]
  },
  {
   "cell_type": "code",
   "execution_count": 19,
   "id": "970f89d9",
   "metadata": {},
   "outputs": [
    {
     "data": {
      "text/plain": [
       "{'class': 'main-title'}"
      ]
     },
     "execution_count": 19,
     "metadata": {},
     "output_type": "execute_result"
    }
   ],
   "source": [
    "titleElement[0].attrib"
   ]
  },
  {
   "cell_type": "code",
   "execution_count": 31,
   "id": "431abd99",
   "metadata": {},
   "outputs": [
    {
     "name": "stdout",
     "output_type": "stream",
     "text": [
      "http://www.yes24.com/Product/Goods/76488159\n",
      "http://www.kyobobook.co.kr/product/detailViewKor.laf?barcode=9791158391645\n",
      "http://book.interpark.com/product/BookDisplay.do?_method=detail&sc.prdNo=312152476\n",
      "http://www.aladin.co.kr/shop/wproduct.aspx?ItemId=198765108\n"
     ]
    }
   ],
   "source": [
    "# CSS 선택자로 추출할 때 HtmlElement 클래스의 cssselect 메서드 사용\n",
    "for i in range(1, 5):\n",
    "    linkA = root.cssselect('#book-stores > li:nth-child({}) > a'.format(i))\n",
    "    print(linkA[0].attrib['href'])"
   ]
  },
  {
   "cell_type": "code",
   "execution_count": 33,
   "id": "099151cf",
   "metadata": {},
   "outputs": [],
   "source": [
    "linkAs = root.cssselect('#book-stores > li > a')"
   ]
  },
  {
   "cell_type": "code",
   "execution_count": 34,
   "id": "96b6b2fb",
   "metadata": {},
   "outputs": [
    {
     "name": "stdout",
     "output_type": "stream",
     "text": [
      "http://www.yes24.com/Product/Goods/76488159\n",
      "http://www.kyobobook.co.kr/product/detailViewKor.laf?barcode=9791158391645\n",
      "http://book.interpark.com/product/BookDisplay.do?_method=detail&sc.prdNo=312152476\n",
      "http://www.aladin.co.kr/shop/wproduct.aspx?ItemId=198765108\n"
     ]
    }
   ],
   "source": [
    "for linkA in linkAs:\n",
    "    print(linkA.attrib['href'])"
   ]
  },
  {
   "cell_type": "code",
   "execution_count": 38,
   "id": "5c3b9bf9",
   "metadata": {},
   "outputs": [],
   "source": [
    "linkAs = root.cssselect('#book-stores > li > a > img')"
   ]
  },
  {
   "cell_type": "code",
   "execution_count": 41,
   "id": "28a9e8d2",
   "metadata": {},
   "outputs": [
    {
     "name": "stdout",
     "output_type": "stream",
     "text": [
      "https://wikibook.co.kr/images/img/yes24.png\n",
      "https://wikibook.co.kr/images/img/kyobo.png\n",
      "https://wikibook.co.kr/images/img/interpark.png\n",
      "https://wikibook.co.kr/images/img/aladin.png\n"
     ]
    }
   ],
   "source": [
    "for linkA in linkAs:\n",
    "    print(linkA.attrib['src'])"
   ]
  },
  {
   "cell_type": "code",
   "execution_count": null,
   "id": "12a388bb",
   "metadata": {},
   "outputs": [],
   "source": []
  }
 ],
 "metadata": {
  "kernelspec": {
   "display_name": "Python Multi",
   "language": "python",
   "name": "multi"
  },
  "language_info": {
   "codemirror_mode": {
    "name": "ipython",
    "version": 3
   },
   "file_extension": ".py",
   "mimetype": "text/x-python",
   "name": "python",
   "nbconvert_exporter": "python",
   "pygments_lexer": "ipython3",
   "version": "3.7.6"
  },
  "toc": {
   "base_numbering": 1,
   "nav_menu": {},
   "number_sections": false,
   "sideBar": true,
   "skip_h1_title": false,
   "title_cell": "Table of Contents",
   "title_sidebar": "Contents",
   "toc_cell": false,
   "toc_position": {},
   "toc_section_display": true,
   "toc_window_display": false
  }
 },
 "nbformat": 4,
 "nbformat_minor": 5
}
