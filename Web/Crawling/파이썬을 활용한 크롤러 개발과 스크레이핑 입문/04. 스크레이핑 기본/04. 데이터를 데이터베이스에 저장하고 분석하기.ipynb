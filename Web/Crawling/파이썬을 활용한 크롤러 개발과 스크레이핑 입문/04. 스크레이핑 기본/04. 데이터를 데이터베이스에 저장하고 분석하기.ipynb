{
 "cells": [
  {
   "cell_type": "markdown",
   "id": "a5d7f64a",
   "metadata": {},
   "source": [
    "# 04. 데이터를 데이터베이스에 저장하고 분석하기"
   ]
  },
  {
   "cell_type": "markdown",
   "id": "1d98f1fa",
   "metadata": {},
   "source": [
    "## MySQL 접속\n",
    "- shell에서 `mysqlsh` 입력하여 접속하거나 MySQL 설치하면서 생긴 실행 파일 'MySQL Shell'을 실행하여 접속\n",
    "- `\\connect root@localhost:3306`을 입력하여 연결\n",
    "- `\\sql` 명령어를 입력하여 sql 명령어 모드로 변경"
   ]
  },
  {
   "cell_type": "markdown",
   "id": "9217d00c",
   "metadata": {},
   "source": [
    "## 데이터베이스와 사용자 만들기\n",
    "- 데이터베이스 이름 : scrapingdata\n",
    "- 문자 코드 : utf8\n",
    "```mysql\n",
    "CREATE DATABASE scrapingdata DEFAULT CHARACTER SET utf8;\n",
    "```\n",
    "\n",
    "- 사용자 이름 : scrapingman\n",
    "- 비밀번호 : myPassword-1\n",
    "```mysql\n",
    "CREATE USER 'scrapingman' IDENTIFIED BY 'myPassword-1';\n",
    "```\n",
    "\n",
    "- 사용자에게 이전에 만든 데이터를 읽고 쓸 수 있는 권한 부여\n",
    "```mysql\n",
    "GRANT ALL ON scrapingdata.* TO scrapingman;\n",
    "```\n",
    "- `CTRL+D`로 접속 종료"
   ]
  },
  {
   "cell_type": "markdown",
   "id": "f5ea688d",
   "metadata": {},
   "source": [
    "## 파이썬에서 MySQL에 접속하기"
   ]
  },
  {
   "cell_type": "code",
   "execution_count": 3,
   "id": "5be90034",
   "metadata": {},
   "outputs": [
    {
     "data": {
      "text/plain": [
       "(2, 0, 3, 'final', 0)"
      ]
     },
     "execution_count": 3,
     "metadata": {},
     "output_type": "execute_result"
    }
   ],
   "source": [
    "import MySQLdb\n",
    "\n",
    "MySQLdb.version_info"
   ]
  },
  {
   "cell_type": "markdown",
   "id": "f633dd1f",
   "metadata": {},
   "source": [
    "### 데이터베이스에 접속해서 SQL 실행하기\n",
    "- 사용자 이름, 비밀번호, 호스트(localhost라면 생략 가능함), 데이터베이스 이름, 문자 코드(생략하면 디폴드 문자 코드)를 지정하여 데이터베이스에 접속"
   ]
  },
  {
   "cell_type": "code",
   "execution_count": 4,
   "id": "fd35f27b",
   "metadata": {},
   "outputs": [],
   "source": [
    "import MySQLdb\n",
    "\n",
    "connection = MySQLdb.connect(\n",
    "    user='scrapingman',\n",
    "    passwd='myPassword-1',\n",
    "    host='localhost',\n",
    "    db='scrapingdata',\n",
    "    charset='utf8'\n",
    ")"
   ]
  },
  {
   "cell_type": "code",
   "execution_count": 5,
   "id": "2438443b",
   "metadata": {},
   "outputs": [
    {
     "data": {
      "text/plain": [
       "MySQLdb.connections.Connection"
      ]
     },
     "execution_count": 5,
     "metadata": {},
     "output_type": "execute_result"
    }
   ],
   "source": [
    "type(connection)"
   ]
  },
  {
   "cell_type": "code",
   "execution_count": 6,
   "id": "ad151213",
   "metadata": {},
   "outputs": [
    {
     "data": {
      "text/plain": [
       "MySQLdb.cursors.Cursor"
      ]
     },
     "execution_count": 6,
     "metadata": {},
     "output_type": "execute_result"
    }
   ],
   "source": [
    "cursor = connection.cursor()\n",
    "type(cursor)"
   ]
  },
  {
   "cell_type": "markdown",
   "id": "7fa12246",
   "metadata": {},
   "source": [
    "### 테이블 만들기\n",
    "- commit 메서드를 호출해야 SQL 구문이 실행됨"
   ]
  },
  {
   "cell_type": "code",
   "execution_count": 7,
   "id": "dec90479",
   "metadata": {},
   "outputs": [],
   "source": [
    "cursor.execute('CREATE TABLE books (title text, url text)')\n",
    "connection.commit()"
   ]
  },
  {
   "attachments": {
    "image.png": {
     "image/png": "[encoded data removed]"
    }
   },
   "cell_type": "markdown",
   "id": "f4522f65",
   "metadata": {},
   "source": [
    "### 테이블 확인하기\n",
    "- MySQL 서버에 접속하여 테이블 출력\n",
    "```mysql\n",
    "SHOW TABLES FROM scrapingdata;\n",
    "SHOW COLUMNS FROM books FROM scrapingdata;\n",
    "```\n",
    "![image.png](attachment:image.png)"
   ]
  },
  {
   "cell_type": "markdown",
   "id": "a8310149",
   "metadata": {},
   "source": [
    "### 테이블에 레코드 추가하기\n",
    "- Cursor 클래스의 execute 메서드를 사용\n",
    "- 첫 번째 매개 변수에는 SQL 구문, 두 번째 매개 변수에는 파라미터를 지정"
   ]
  },
  {
   "cell_type": "code",
   "execution_count": 8,
   "id": "60edf756",
   "metadata": {},
   "outputs": [
    {
     "data": {
      "text/plain": [
       "1"
      ]
     },
     "execution_count": 8,
     "metadata": {},
     "output_type": "execute_result"
    }
   ],
   "source": [
    "cursor.execute(\"INSERT INTO books VALUES(%s, %s)\", (\"처음 시작하는 파이썬 프로그래밍\", \"https://example.com\"))"
   ]
  },
  {
   "cell_type": "code",
   "execution_count": 9,
   "id": "245b4739",
   "metadata": {},
   "outputs": [],
   "source": [
    "connection.commit()"
   ]
  },
  {
   "cell_type": "markdown",
   "id": "e8f73dfb",
   "metadata": {},
   "source": [
    "### 테이블 확인하기"
   ]
  },
  {
   "cell_type": "code",
   "execution_count": 12,
   "id": "e27f5d59",
   "metadata": {},
   "outputs": [
    {
     "data": {
      "text/plain": [
       "1"
      ]
     },
     "execution_count": 12,
     "metadata": {},
     "output_type": "execute_result"
    }
   ],
   "source": [
    "cursor.execute(\"SELECT * FROM scrapingdata.books;\")"
   ]
  },
  {
   "cell_type": "code",
   "execution_count": 13,
   "id": "4ff67a0a",
   "metadata": {},
   "outputs": [
    {
     "name": "stdout",
     "output_type": "stream",
     "text": [
      "(('처음 시작하는 파이썬 프로그래밍', 'https://example.com'),)\n"
     ]
    }
   ],
   "source": [
    "rows = cursor.fetchall()\n",
    "print(rows)"
   ]
  },
  {
   "cell_type": "code",
   "execution_count": 14,
   "id": "ae015cac",
   "metadata": {},
   "outputs": [],
   "source": [
    "# 연결 종료\n",
    "connection.close()"
   ]
  },
  {
   "cell_type": "markdown",
   "id": "a492766f",
   "metadata": {},
   "source": [
    "### 추가 코드\n",
    "```python\n",
    "# 이미 존재하는 테이블이라면 제거하고 새로 생성하기\n",
    "cursor.execute(\"DROP TABLE IF EXISTS books\")\n",
    "cursor.execute(\"CREATE TABLE books (title text, url text)\")\n",
    "```"
   ]
  },
  {
   "cell_type": "code",
   "execution_count": null,
   "id": "98082f67",
   "metadata": {},
   "outputs": [],
   "source": []
  }
 ],
 "metadata": {
  "kernelspec": {
   "display_name": "Python Multi",
   "language": "python",
   "name": "multi"
  },
  "language_info": {
   "codemirror_mode": {
    "name": "ipython",
    "version": 3
   },
   "file_extension": ".py",
   "mimetype": "text/x-python",
   "name": "python",
   "nbconvert_exporter": "python",
   "pygments_lexer": "ipython3",
   "version": "3.7.6"
  },
  "toc": {
   "base_numbering": 1,
   "nav_menu": {},
   "number_sections": false,
   "sideBar": true,
   "skip_h1_title": false,
   "title_cell": "Table of Contents",
   "title_sidebar": "Contents",
   "toc_cell": false,
   "toc_position": {},
   "toc_section_display": true,
   "toc_window_display": false
  }
 },
 "nbformat": 4,
 "nbformat_minor": 5
}
