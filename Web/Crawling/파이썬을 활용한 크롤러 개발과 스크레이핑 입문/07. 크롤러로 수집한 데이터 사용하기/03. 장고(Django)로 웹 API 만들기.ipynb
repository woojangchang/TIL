{
 "cells": [
  {
   "cell_type": "markdown",
   "id": "4d8afe63",
   "metadata": {},
   "source": [
    "# 03. 장고(Django)로 웹 API 만들기"
   ]
  },
  {
   "cell_type": "markdown",
   "id": "fea607a2",
   "metadata": {},
   "source": [
    "## 장고를 사용해서 웹 API 만들기\n",
    "- `pip install django djangorestframework django-filter djangorestframework-filters`"
   ]
  },
  {
   "attachments": {
    "image.png": {
     "image/png": "[encoded data removed]"
    }
   },
   "cell_type": "markdown",
   "id": "0d987f02",
   "metadata": {},
   "source": [
    "### 장고 프로젝트 만들기\n",
    "- `django-admin startproject django_film_api`\n",
    "- `cd django_film_api`\n",
    "- `python manage.py startapp film`\n",
    "\n",
    "![image.png](attachment:image.png)"
   ]
  },
  {
   "cell_type": "markdown",
   "id": "143a5607",
   "metadata": {},
   "source": [
    "### 장고 ORM 모델 정의하기\n",
    "- 실제 데이터베이스의 내용을 기반으로 데이터베이스를 자동으로 생성\n",
    "- `python manage.py inspectdb`"
   ]
  },
  {
   "cell_type": "markdown",
   "id": "a8cdaf01",
   "metadata": {},
   "source": [
    "### models.py의 내용 변경하기\n",
    "- `django_film_api/film/models.py`\n",
    "    - class Meta 부분의 `managed = False`를 통해 migration을 실행하더라도 실제 데이터베이스에 테이블이 만들어지지 않음\n",
    "\n",
    "```python\n",
    "from django.db import models\n",
    "\n",
    "\n",
    "class Language(models.Model):\n",
    "    \"\"\"language 테이블 전용 모델\"\"\"\n",
    "    language_id = models.AutoField(primary_key=True)\n",
    "    name = models.CharField(max_length=20)\n",
    "    last_update = models.DateTimeField()\n",
    "    \n",
    "    def __str__(self):\n",
    "        return '%s %s' % (self.language_id, self.name)\n",
    "    \n",
    "    class Meta:\n",
    "        managed = False\n",
    "        db_table = 'language'\n",
    "        \n",
    "        \n",
    "class Film(models.Model):\n",
    "    \"\"\"film 테이블 전용 모델\"\"\"\n",
    "    film_id = models.SmallIntegerField(primary_key=True)\n",
    "    title = models.CharField(max_length=255)\n",
    "    description = models.TextField(blank=True, null=True)\n",
    "    release_year = models.PositiveSmallIntegerField(blank=True, null=True)\n",
    "    language = models.ForeignKey('Language', models.DO_NOTHING)\n",
    "    length = models.SmallIntegerField(blank=True, null=True)\n",
    "    last_update = models.DateTimeField()\n",
    "    \n",
    "    class Meta:\n",
    "        managed = False\n",
    "        db_table = 'film'\n",
    "```"
   ]
  },
  {
   "cell_type": "markdown",
   "id": "31c73392",
   "metadata": {},
   "source": [
    "### settings.py의 내용 변경하기\n",
    "- `django_film_api/django_film_api/settings.py`\n",
    "\n",
    "1. 웹 애플리케이션을 호스트할 머신의 호스트 이름, \\*을 지정하면 아무것이나 괜찮다는 의미\n",
    "\n",
    "```python\n",
    "ALLOWED_HOSTS = ['*']\n",
    "```\n",
    "\n",
    "2. 장고 REST 프레임워크와 요청 필터 기능을 사용할 수 있게 활성화 및 film 애플리케이션 활성화\n",
    "\n",
    "```python\n",
    "INSTALLED_APPS = [\n",
    "    'django.contrib.admin',\n",
    "    'django.contrib.auth',\n",
    "    'django.contrib.contenttypes',\n",
    "    'django.contrib.sessions',\n",
    "    'django.contrib.messages',\n",
    "    'django.contrib.staticfiles',\n",
    "\n",
    "    'rest_framework',\n",
    "    'django_filters',\n",
    "    \n",
    "    'film',\n",
    "    \n",
    "]\n",
    "```\n",
    "\n",
    "3. REST 프레임워크의 설정\n",
    "\n",
    "```python\n",
    "REST_FRAMEWORK = {\n",
    "    'DEFAULT_FILTER_BACKENDS': (\n",
    "            'rest_framework.filters.SearchFilter',\n",
    "            'rest_framework.filters.OrderingFilter',\n",
    "    ),\n",
    "    'PAGE_SIZE':10\n",
    "}\n",
    "```\n",
    "\n",
    "4. MySQL 연결\n",
    "\n",
    "```python\n",
    "DATABASES = {\n",
    "    'default': {\n",
    "        'ENGINE': 'django.db.backends.mysql',\n",
    "        'HOST':'localhost',\n",
    "        'NAME':'sakila',\n",
    "        'USER':'root',\n",
    "        'PASSWORD':'3756',\n",
    "    }\n",
    "}\n",
    "```"
   ]
  },
  {
   "cell_type": "markdown",
   "id": "28ed0de8",
   "metadata": {},
   "source": [
    "## film 테이블에서 아이템 추출하기"
   ]
  },
  {
   "cell_type": "markdown",
   "id": "dcc3934a",
   "metadata": {},
   "source": [
    "### 인터렉티브 셀에서 데이터베이스 내용 확인하기\n",
    "- 장고 환경이 아닌 인터렉티브 셸을 사용해서 확인\n",
    "- `ImportError: cannot import name 'QUERY_TERMS' from 'django.db.models.sql.constants'` 오류 때문에 더 이상 진행이 안 된다...\n",
    "    - 장고와 장고 필터 버전 차이 때문인 것 같은데 책에서 어떤 버전을 썼는지 확인이 안 되기 때문에 여기서 끝.."
   ]
  },
  {
   "cell_type": "code",
   "execution_count": null,
   "id": "812699cd",
   "metadata": {},
   "outputs": [],
   "source": []
  }
 ],
 "metadata": {
  "kernelspec": {
   "display_name": "Python Multi",
   "language": "python",
   "name": "multi"
  },
  "language_info": {
   "codemirror_mode": {
    "name": "ipython",
    "version": 3
   },
   "file_extension": ".py",
   "mimetype": "text/x-python",
   "name": "python",
   "nbconvert_exporter": "python",
   "pygments_lexer": "ipython3",
   "version": "3.7.6"
  },
  "toc": {
   "base_numbering": 1,
   "nav_menu": {},
   "number_sections": false,
   "sideBar": true,
   "skip_h1_title": false,
   "title_cell": "Table of Contents",
   "title_sidebar": "Contents",
   "toc_cell": false,
   "toc_position": {},
   "toc_section_display": true,
   "toc_window_display": false
  }
 },
 "nbformat": 4,
 "nbformat_minor": 5
}
