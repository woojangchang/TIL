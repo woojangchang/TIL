{
 "cells": [
  {
   "attachments": {
    "image.png": {
     "image/png": "[encoded data removed]"
    }
   },
   "cell_type": "markdown",
   "id": "8a0c5dab",
   "metadata": {},
   "source": [
    "# 01. 자바스크립트로 렌더링 되는 페이지를 스크레이핑하기\n",
    "- 크롬, 셀레니움, 크롬드라이버\n",
    "- Vue.js를 이용하여 아래와 같이 자바스크립트를 사용해 렌더링 되는 `vue_sample.html` 페이지를 저장\n",
    "\n",
    "```html\n",
    "<meta charset=\"utf-8\">\n",
    "<script src=\"https://unpkg.com/vue\"></script>\n",
    "\n",
    "<div id=\"app\">\n",
    "    <h1>좋아하는 영화 랭킹 Top3</h1>\n",
    "    <ol>\n",
    "        <li v-for=\"item in items\">\n",
    "            <span class=\"cinema_title\"> {{ item }} </span>\n",
    "        </li>\n",
    "    </ol>\n",
    "</div>\n",
    "\n",
    "<script>\n",
    "new Vue({\n",
    "    el: '#app',\n",
    "    data: {\n",
    "        items: [\n",
    "            'AKIRA(감독 : 오오토모 카츠히로)',\n",
    "            '2001: 스페이스 오디세이(감독 : 스탠리 큐브릭)',\n",
    "            '아이언맨(감독 : 존 패브로)',\n",
    "            ]\n",
    "    }\n",
    "})\n",
    "</script>\n",
    "```\n",
    "\n",
    "- `python -m http.server &` 입력 후 http://127.0.0.1:8000/vue_sample.html 에 접속\n",
    "![image.png](attachment:image.png)"
   ]
  },
  {
   "cell_type": "code",
   "execution_count": 1,
   "id": "4f7eb08e",
   "metadata": {},
   "outputs": [
    {
     "name": "stdout",
     "output_type": "stream",
     "text": [
      "1 AKIRA(감독 : 오오토모 카츠히로)\n",
      "2 2001: 스페이스 오디세이(감독 : 스탠리 큐브릭)\n",
      "3 아이언맨(감독 : 존 패브로)\n"
     ]
    }
   ],
   "source": [
    "import logging\n",
    "import time\n",
    "\n",
    "from selenium import webdriver\n",
    "from selenium.webdriver.chrome.options import Options\n",
    "\n",
    "# 로거 설정\n",
    "logger = logging.getLogger(__name__)\n",
    "formatter = logging.Formatter(\n",
    "    '[%(levelname)s] %(asctime)s %(name)s %(filename)s:%(lineno)d %(message)s'\n",
    ")\n",
    "handler = logging.StreamHandler()\n",
    "handler.setFormatter(formatter)\n",
    "logger.setLevel(logging.DEBUG)\n",
    "logger.addHandler(handler)\n",
    "\n",
    "# 크롬드라이버 실행 옵션 설정\n",
    "chrome_options = Options()\n",
    "chrome_options.add_argument(\"--headless\") # 헤드리스 모드(크롬 실행 X)\n",
    "chrome_drive_path = 'data/chromedriver.exe'\n",
    "\n",
    "if __name__ == \"__main__\":\n",
    "    try:\n",
    "        # 크롬을 헤드리스 모드로 실행\n",
    "        driver = webdriver.Chrome(chrome_drive_path, options=chrome_options)\n",
    "        \n",
    "        # 스크레이핑 대상 URL 지정\n",
    "        target_url = 'http://127.0.0.1:8000/vue_sample.html'\n",
    "        # 헤드리스 모드 크롬으로 스크레이핑 대상 페이지 열기\n",
    "        driver.get(target_url)\n",
    "        \n",
    "        # 내부적으로 Ajax를 사용해서 처리하는 경우 화면을 모두 읽어 들일 때까지 어느 정도 대기\n",
    "        time.sleep(2)\n",
    "        \n",
    "        # 영화 제목 요소를 css 선택자로 지정해서 추출\n",
    "        title_elms = driver.find_elements_by_css_selector(\".cinema_title\") # <span class=\"cinema_title\">영화 제목</span>\n",
    "        \n",
    "        # 추출된 요소를 출력\n",
    "        for i, t in enumerate(title_elms):\n",
    "            print(i+1, t.text)\n",
    "            \n",
    "    except Exception as e:\n",
    "        # 예외가 발생했을 경우 스택 트레이스를 출력\n",
    "        logger.exception(e)\n",
    "    \n",
    "    finally:\n",
    "        # 예외가 발생해서 프로그램이 종료되었을 때\n",
    "        # 크롬 프로세스가 남는 것을 피할 수 있게 finally 구문 내부에서 종료\n",
    "        driver.close()"
   ]
  },
  {
   "cell_type": "code",
   "execution_count": null,
   "id": "3e5d0537",
   "metadata": {},
   "outputs": [],
   "source": []
  }
 ],
 "metadata": {
  "kernelspec": {
   "display_name": "Python Multi",
   "language": "python",
   "name": "multi"
  },
  "language_info": {
   "codemirror_mode": {
    "name": "ipython",
    "version": 3
   },
   "file_extension": ".py",
   "mimetype": "text/x-python",
   "name": "python",
   "nbconvert_exporter": "python",
   "pygments_lexer": "ipython3",
   "version": "3.7.6"
  },
  "toc": {
   "base_numbering": 1,
   "nav_menu": {},
   "number_sections": false,
   "sideBar": true,
   "skip_h1_title": false,
   "title_cell": "Table of Contents",
   "title_sidebar": "Contents",
   "toc_cell": false,
   "toc_position": {},
   "toc_section_display": true,
   "toc_window_display": false
  }
 },
 "nbformat": 4,
 "nbformat_minor": 5
}
