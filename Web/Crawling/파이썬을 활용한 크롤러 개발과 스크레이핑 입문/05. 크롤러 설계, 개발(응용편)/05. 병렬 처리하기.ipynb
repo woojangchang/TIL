{
 "cells": [
  {
   "cell_type": "markdown",
   "id": "3f1b2e3d",
   "metadata": {},
   "source": [
    "# 05. 병렬 처리하기\n",
    "- 여러 개의 페이지를 1개씩 내용을 추출하면 시간이 오래 걸림\n",
    "- CPU, 메모리, 네트워크 대역 상황에 따라 병렬 처리하여 시간을 줄일 수 있음\n",
    "- 병행(Concurrent) : 여러 개의 스레드를 사용해서 여러 처리를 하는 것\n",
    "- 병렬(Parallel) : 여러 개의 프로세스를 사용해서 여러 처리를 하는 것"
   ]
  },
  {
   "cell_type": "markdown",
   "id": "ef49b206",
   "metadata": {},
   "source": [
    "## 표준 라이브러리 사용하기(한 대의 머신 병렬화하기)\n",
    "- 표준 병렬 처리 라이브러리 : multithread, multiprocess, concurrent.Future 등\n",
    "- 비동기 처리 라이브러리 : asyncio(콜백을 사용하여 다중 처리를 구현)\n",
    "- 병렬 처리는 매우 복잡하기 때문에 크롤링을 배우는 것보다 더 오래 걸릴 수 있음\n",
    "- 그중에서도 가장 간단한 concurrent.Future 라이브러리 사용\n",
    "    - 어떤 처리의 결과가 이후에 추출된다는 것을 전제로 처리를 구현할 수 있게 해주는 기능\n",
    "    - 결과를 기다리지 않고 곧바로 후속 처리를 실행할 수 있음\n",
    "    - 병렬 처리를 멀티 스레드로 하고 싶을 때는 `ThreadPoolExecutor` 메서드를, 멀티 프로세스로 하고 싶을 때는 `ProcessPoolExecutor` 메서드 사용"
   ]
  },
  {
   "cell_type": "markdown",
   "id": "49953a38",
   "metadata": {},
   "source": [
    "## 병렬로 내려받기\n",
    "- 프랑스 고전 음악 작곡가인 모리스 라벨의 곡 중에서 저작권이 소멸된 곡을 archive.org에서 병렬로 내려받기\n",
    "- https://archive.org/details/ThePianoMusicOfMauriceRavel"
   ]
  },
  {
   "cell_type": "code",
   "execution_count": 1,
   "id": "31efd541",
   "metadata": {},
   "outputs": [],
   "source": [
    "import concurrent.futures\n",
    "import random\n",
    "import time\n",
    "from collections import namedtuple\n",
    "from os import path\n",
    "from urllib import parse\n",
    "import requests\n",
    "from my_logging import get_my_logger\n",
    "\n",
    "logger = get_my_logger(__name__)\n",
    "\n",
    "# 음악 파일의 이름과 데이터를 저장하기 위한 이름이 있는 튜플 정의\n",
    "Music = namedtuple('music', 'file_name, file_content')\n",
    "\n",
    "# 크롤링 요청별 간격 리스트 정의\n",
    "RANDOM_SLEEP_TIMES = [x * 0.1 for x in range(10, 40, 5)]\n",
    "\n",
    "# 크롤링 대상 URL 리스트\n",
    "MUSIC_URLS = [\n",
    "    'https://archive.org/download/ThePianoMusicOfMauriceRavel/01PavanePourUneInfanteDfuntePourPianoMr19.mp3',\n",
    "    'https://archive.org/download/ThePianoMusicOfMauriceRavel/02JeuxDeauPourPianoMr30.mp3',\n",
    "    'https://archive.org/download/ThePianoMusicOfMauriceRavel/03SonatinePourPianoMr40-Modr.mp3',\n",
    "    'https://archive.org/download/ThePianoMusicOfMauriceRavel/04MouvementDeMenuet.mp3',\n",
    "    'https://archive.org/download/ThePianoMusicOfMauriceRavel/05Anim.mp3',\n",
    "]\n",
    "\n",
    "def download(url, timeout=180):\n",
    "    # mp3 파일 이름 추출\n",
    "    parsed_url = parse.urlparse(url)\n",
    "    file_name = path.basename(parsed_url.path)\n",
    "    \n",
    "    # 요청 간격을 랜덤하게 선택\n",
    "    sleep_time = random.choice(RANDOM_SLEEP_TIMES)\n",
    "    \n",
    "    # 내려받기 시작을 로그에 출력\n",
    "    logger.info(\"[download start] sleep : {time} {file_name}\".format(time=sleep_time, file_name=file_name))\n",
    "    \n",
    "    # 요청 대기\n",
    "    time.sleep(sleep_time)\n",
    "    \n",
    "    # 음악 파일 내려받기\n",
    "    r = requests.get(url, timeout=timeout)\n",
    "    \n",
    "    # 내려받기 종료를 로그에 출력\n",
    "    logger.info(\"[download finished] {file_name}\".format(file_name=file_name))\n",
    "    \n",
    "    # 이름 있는 튜플에 파일 이름과 mp3 데이터를 넣어 반환\n",
    "    return Music(file_name=file_name, file_content=r.content)"
   ]
  },
  {
   "cell_type": "code",
   "execution_count": 2,
   "id": "62ffcd65",
   "metadata": {},
   "outputs": [
    {
     "name": "stderr",
     "output_type": "stream",
     "text": [
      "\u001b[37m[INFO]\t2021-10-06 10:51:59\t[main start]\u001b[0m\n",
      "\u001b[37m[INFO]\t2021-10-06 10:51:59\t[download start] sleep : 1.0 01PavanePourUneInfanteDfuntePourPianoMr19.mp3\u001b[0m\n",
      "\u001b[37m[INFO]\t2021-10-06 10:51:59\t[download start] sleep : 2.0 02JeuxDeauPourPianoMr30.mp3\u001b[0m\n",
      "\u001b[37m[INFO]\t2021-10-06 10:52:23\t[download finished] 02JeuxDeauPourPianoMr30.mp3\u001b[0m\n",
      "\u001b[37m[INFO]\t2021-10-06 10:52:23\t[download start] sleep : 1.0 03SonatinePourPianoMr40-Modr.mp3\u001b[0m\n",
      "\u001b[37m[INFO]\t2021-10-06 10:52:25\t[download finished] 01PavanePourUneInfanteDfuntePourPianoMr19.mp3\u001b[0m\n",
      "\u001b[37m[INFO]\t2021-10-06 10:52:25\t[download start] sleep : 2.5 04MouvementDeMenuet.mp3\u001b[0m\n",
      "\u001b[37m[INFO]\t2021-10-06 10:52:34\t[download finished] 04MouvementDeMenuet.mp3\u001b[0m\n",
      "\u001b[37m[INFO]\t2021-10-06 10:52:34\t[download start] sleep : 1.0 05Anim.mp3\u001b[0m\n",
      "\u001b[37m[INFO]\t2021-10-06 10:52:35\t[download finished] 03SonatinePourPianoMr40-Modr.mp3\u001b[0m\n",
      "\u001b[37m[INFO]\t2021-10-06 10:52:48\t[download finished] 05Anim.mp3\u001b[0m\n",
      "\u001b[37m[INFO]\t2021-10-06 10:52:48\t[main finished]\u001b[0m\n"
     ]
    }
   ],
   "source": [
    "if __name__ == '__main__':\n",
    "    # 동시에 2개의 처리를 하기 위한 executor 생성\n",
    "    with concurrent.futures.ThreadPoolExecutor(max_workers=2) as executor:\n",
    "        logger.info(\"[main start]\")\n",
    "        \n",
    "        # executor.submit()으로 download()함수를 병행 실행\n",
    "        # download() 함수의 매개 변수로 music_url 전달\n",
    "        # 병행 실행 처리의 결과는 futures 변수에 넣어둠\n",
    "        futures = [executor.submit(download, music_url) for music_url in MUSIC_URLS]\n",
    "        \n",
    "        # download() 함수의 처리가 완료되면 반복문에서 반복해 결과 출력하기\n",
    "        for future in concurrent.futures.as_completed(futures):\n",
    "            # download() 함수의 실행 결과는 result() 메서드로 확인 가능\n",
    "            music = future.result()\n",
    "            \n",
    "            # music.filename에는 mp3 파일의 파일 이름이 들어있음\n",
    "            # 이를 사용해 music.file_content에 저장된 데이터를 파일로 저장함\n",
    "            with open(music.file_name, 'wb') as fw:\n",
    "                fw.write(music.file_content)\n",
    "        logger.info(\"[main finished]\")"
   ]
  },
  {
   "cell_type": "markdown",
   "id": "2f600b12",
   "metadata": {},
   "source": [
    "### 참고"
   ]
  },
  {
   "cell_type": "code",
   "execution_count": 8,
   "id": "3650a390",
   "metadata": {},
   "outputs": [
    {
     "data": {
      "text/plain": [
       "__main__.example"
      ]
     },
     "execution_count": 8,
     "metadata": {},
     "output_type": "execute_result"
    }
   ],
   "source": [
    "from collections import namedtuple\n",
    "\n",
    "ex = namedtuple('example', 'ex1, ex2')\n",
    "ex"
   ]
  },
  {
   "cell_type": "code",
   "execution_count": 9,
   "id": "944f81a3",
   "metadata": {},
   "outputs": [
    {
     "data": {
      "text/plain": [
       "example(ex1=1, ex2=2)"
      ]
     },
     "execution_count": 9,
     "metadata": {},
     "output_type": "execute_result"
    }
   ],
   "source": [
    "ex1 = ex(1, 2)\n",
    "ex1"
   ]
  },
  {
   "cell_type": "code",
   "execution_count": 11,
   "id": "6b1732c0",
   "metadata": {},
   "outputs": [
    {
     "data": {
      "text/plain": [
       "(1, 2)"
      ]
     },
     "execution_count": 11,
     "metadata": {},
     "output_type": "execute_result"
    }
   ],
   "source": [
    "ex1.ex1, ex1.ex2"
   ]
  },
  {
   "cell_type": "code",
   "execution_count": 1,
   "id": "0ee8fa5b",
   "metadata": {},
   "outputs": [
    {
     "data": {
      "text/plain": [
       "ParseResult(scheme='https', netloc='archive.org', path='/download/ThePianoMusicOfMauriceRavel/01PavanePourUneInfanteDfuntePourPianoMr19.mp3', params='', query='', fragment='')"
      ]
     },
     "execution_count": 1,
     "metadata": {},
     "output_type": "execute_result"
    }
   ],
   "source": [
    "from urllib import parse\n",
    "\n",
    "url = 'https://archive.org/download/ThePianoMusicOfMauriceRavel/01PavanePourUneInfanteDfuntePourPianoMr19.mp3'\n",
    "parsed_url = parse.urlparse(url)\n",
    "parsed_url"
   ]
  },
  {
   "cell_type": "code",
   "execution_count": 4,
   "id": "4db0ced1",
   "metadata": {},
   "outputs": [
    {
     "data": {
      "text/plain": [
       "'01PavanePourUneInfanteDfuntePourPianoMr19.mp3'"
      ]
     },
     "execution_count": 4,
     "metadata": {},
     "output_type": "execute_result"
    }
   ],
   "source": [
    "from os import path\n",
    "\n",
    "file_name = path.basename(parsed_url.path)\n",
    "file_name"
   ]
  },
  {
   "cell_type": "code",
   "execution_count": 6,
   "id": "3fee7ea7",
   "metadata": {},
   "outputs": [
    {
     "name": "stderr",
     "output_type": "stream",
     "text": [
      "\u001b[1;30m[DEBUG]\t2021-10-06 10:41:26\tStarting new HTTPS connection (1): archive.org:443\u001b[0m\n",
      "\u001b[1;30m[DEBUG]\t2021-10-06 10:41:27\thttps://archive.org:443 \"GET /download/ThePianoMusicOfMauriceRavel/01PavanePourUneInfanteDfuntePourPianoMr19.mp3 HTTP/1.1\" 302 None\u001b[0m\n",
      "\u001b[1;30m[DEBUG]\t2021-10-06 10:41:27\tStarting new HTTPS connection (1): ia600604.us.archive.org:443\u001b[0m\n",
      "\u001b[1;30m[DEBUG]\t2021-10-06 10:41:29\thttps://ia600604.us.archive.org:443 \"GET /26/items/ThePianoMusicOfMauriceRavel/01PavanePourUneInfanteDfuntePourPianoMr19.mp3 HTTP/1.1\" 200 6401677\u001b[0m\n"
     ]
    }
   ],
   "source": [
    "import requests\n",
    "\n",
    "r = requests.get(url)"
   ]
  },
  {
   "cell_type": "markdown",
   "id": "00c2412b",
   "metadata": {},
   "source": [
    "## 작업 큐(여러 개의 머신을 사용해서 병렬 처리하기)\n",
    "- 태스크 큐의 구조와 병렬 프로그래밍에 대한 지식이 없다면 직접 구현하기 굉장히 힘드므로 서드 파티 라이브러리 사용\n",
    "- Celery\n",
    "    - 재시도 횟수, 유효 기간, 특정 워커와 큐를 연결하는 등 다양한 태스크 제어\n",
    "    - RabbitMQ : 메시지 큐 구현 중 하나로, 높은 부하가 예상되는 잡 큐 시스템을 활용할 때 선택\n",
    "    - Redis : KVS(Key-Value Store)로서 메시지 큐는 아니지만 큐로 활용할 수 있는 외부 저장소"
   ]
  }
 ],
 "metadata": {
  "kernelspec": {
   "display_name": "Python Multi",
   "language": "python",
   "name": "multi"
  },
  "language_info": {
   "codemirror_mode": {
    "name": "ipython",
    "version": 3
   },
   "file_extension": ".py",
   "mimetype": "text/x-python",
   "name": "python",
   "nbconvert_exporter": "python",
   "pygments_lexer": "ipython3",
   "version": "3.7.6"
  },
  "toc": {
   "base_numbering": 1,
   "nav_menu": {},
   "number_sections": false,
   "sideBar": true,
   "skip_h1_title": false,
   "title_cell": "Table of Contents",
   "title_sidebar": "Contents",
   "toc_cell": false,
   "toc_position": {},
   "toc_section_display": true,
   "toc_window_display": false
  }
 },
 "nbformat": 4,
 "nbformat_minor": 5
}
