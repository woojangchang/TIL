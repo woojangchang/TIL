{
 "cells": [
  {
   "cell_type": "markdown",
   "id": "5fd7b388",
   "metadata": {},
   "source": [
    "# 04. 로그 출력 라이브러리로 로그 관리하기\n",
    "- `pip install eliot`"
   ]
  },
  {
   "cell_type": "markdown",
   "id": "730a748c",
   "metadata": {},
   "source": [
    "- sample_eliot.py\n",
    "\n",
    "```python\n",
    "# 윈도우에서는 한글 인코딩 오류가 발생할 수 있습니다.\n",
    "# 한글 인코딩 오류가 발생한다면\n",
    "# Message.log(message_type=\"info\", msg=\"데이터를 저장했습니다.\")\n",
    "# 위의 코드 부분의 msg를 영어로 수정해서 사용해주세요.\n",
    "\n",
    "import json\n",
    "import sys\n",
    "\n",
    "from eliot import Message, start_action, to_file, write_traceback\n",
    "import requests\n",
    "\n",
    "# 로그 출력을 표준 출력으로 설정(터미널에 출력하기)\n",
    "to_file(sys.stdout)\n",
    "# 크롤링 대상 URL 리스트\n",
    "PAGE_URL_LIST = [\n",
    "    'https://eliot.readthedocs.io/en/1.0.0/',\n",
    "    'https://eliot.readthedocs.io/en/1.0.0/generating/index.html',\n",
    "    'https://example.com/notfound.html',\n",
    "]\n",
    "def fetch_pages():\n",
    "    \"\"\"페이지의 내용을 추출합니다.\"\"\"\n",
    "    # 어떤 처리의 로그인지는 action_type으로 지정\n",
    "    with start_action(action_type=\"fetch_pages\"):\n",
    "        page_contents = {}\n",
    "        for page_url in PAGE_URL_LIST:\n",
    "            # 어떤 처리의 로그인지 action_type으로 출력\n",
    "            with start_action(action_type=\"download\", url=page_url):\n",
    "                try:\n",
    "                    r = requests.get(page_url, timeout=30)\n",
    "                    r.raise_for_status()\n",
    "                except requests.exceptions.RequestException as e:\n",
    "                    write_traceback()  # 예외가 발생하면 트레이스백 출력\n",
    "                    continue\n",
    "                page_contents[page_url] = r.text\n",
    "        return page_contents\n",
    "\n",
    "if __name__ == '__main__':\n",
    "    page_contents = fetch_pages()\n",
    "    with open('page_contents.json', 'w') as f_page_contents:\n",
    "        json.dump(page_contents, f_page_contents, ensure_ascii=False)\n",
    "        \n",
    "    # 단순하게 로그 메시지만 출력할 수도 있음\n",
    "    Message.log(message_type=\"info\", msg=\"데이터를 저장했습니다.\")\n",
    "```\n",
    "\n",
    "- `python sample_eliot.py | eliot-prettyprint`\n",
    "    - eliot 라이브러리가 출력하는 로그 형식을 가공해주는 명령어 사용"
   ]
  },
  {
   "cell_type": "code",
   "execution_count": null,
   "id": "a32109db",
   "metadata": {},
   "outputs": [],
   "source": []
  }
 ],
 "metadata": {
  "kernelspec": {
   "display_name": "Python Multi",
   "language": "python",
   "name": "multi"
  },
  "language_info": {
   "codemirror_mode": {
    "name": "ipython",
    "version": 3
   },
   "file_extension": ".py",
   "mimetype": "text/x-python",
   "name": "python",
   "nbconvert_exporter": "python",
   "pygments_lexer": "ipython3",
   "version": "3.7.6"
  },
  "toc": {
   "base_numbering": 1,
   "nav_menu": {},
   "number_sections": false,
   "sideBar": true,
   "skip_h1_title": false,
   "title_cell": "Table of Contents",
   "title_sidebar": "Contents",
   "toc_cell": false,
   "toc_position": {},
   "toc_section_display": true,
   "toc_window_display": false
  }
 },
 "nbformat": 4,
 "nbformat_minor": 5
}
