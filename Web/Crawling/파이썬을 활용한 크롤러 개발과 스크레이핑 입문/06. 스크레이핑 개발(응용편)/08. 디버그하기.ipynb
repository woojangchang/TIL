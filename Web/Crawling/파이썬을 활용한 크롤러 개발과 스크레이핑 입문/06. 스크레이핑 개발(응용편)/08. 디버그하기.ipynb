{
 "cells": [
  {
   "cell_type": "markdown",
   "id": "019e1267",
   "metadata": {},
   "source": [
    "# 08. 디버그하기"
   ]
  },
  {
   "cell_type": "markdown",
   "id": "74c2a79a",
   "metadata": {},
   "source": [
    "## 시행착오를 반복하며 스크레이핑하기\n",
    "- shell에서 `scrapy shell` 명령어 실행하여 디버그 화면으로"
   ]
  },
  {
   "cell_type": "markdown",
   "id": "30106cc0",
   "metadata": {},
   "source": [
    "### fetch(url) 실행하기\n",
    "- response 변수에 페이지의 결과가 들어감\n",
    "```shell\n",
    "In [1]: fetch('http://quotes.toscrape.com/')\n",
    "2021-10-06 22:18:09 [scrapy.core.engine] INFO: Spider opened\n",
    "2021-10-06 22:18:10 [scrapy.core.engine] DEBUG: Crawled (404) <GET http://quotes.toscrape.com/robots.txt> (referer: None)\n",
    "2021-10-06 22:18:10 [scrapy.core.engine] DEBUG: Crawled (200) <GET http://quotes.toscrape.com/> (referer: None)\n",
    "```\n",
    "\n",
    "- CSS 선택자 테스트\n",
    "```shell\n",
    "In [3]: response.css('div.quote small.author::text').getall()\n",
    "Out[3]:\n",
    "['Albert Einstein',\n",
    " 'J.K. Rowling',\n",
    " 'Albert Einstein',\n",
    " 'Jane Austen',\n",
    " 'Marilyn Monroe',\n",
    " 'Albert Einstein',\n",
    " 'André Gide',\n",
    " 'Thomas A. Edison',\n",
    " 'Eleanor Roosevelt',\n",
    " 'Steve Martin']\n",
    "```\n",
    "\n",
    "- 긴 코드를 작성해서 실행할 수도 있음\n",
    "\n",
    "```shell\n",
    "In [7]: for quote_html in response.css('div.quote'):\n",
    "   ...:     item = Quote()\n",
    "   ...:     item['author'] = quote_html.css('small.author::text').get()\n",
    "   ...:     item['text'] = quote_html.css('span.text::text').get()\n",
    "   ...:     item['tags'] = quote_html.css('div.tags a.tag::text').getall()\n",
    "   ...:     items.append(item)\n",
    "   ...:\n",
    "   \n",
    "In [9]: items\n",
    "Out[9]:\n",
    "[{'author': 'Albert Einstein',\n",
    "  'tags': ['change', 'deep-thoughts', 'thinking', 'world'],\n",
    "  'text': '“The world as we have created it is a process of our thinking. It '\n",
    "          'cannot be changed without changing our thinking.”'},\n",
    " {'author': 'J.K. Rowling',\n",
    "  'tags': ['abilities', 'choices'],\n",
    "  'text': '“It is our choices, Harry, that show what we truly are, far more '\n",
    "          'than our abilities.”'},\n",
    " {'author': 'Albert Einstein',\n",
    "  'tags': ['inspirational', 'life', 'live', 'miracle', 'miracles'],\n",
    "  'text': '“There are only two ways to live your life. One is as though nothing '\n",
    "          'is a miracle. The other is as though everything is a miracle.”'},\n",
    " {'author': 'Jane Austen',\n",
    "  'tags': ['aliteracy', 'books', 'classic', 'humor'],\n",
    "  'text': '“The person, be it gentleman or lady, who has not pleasure in a good '\n",
    "          'novel, must be intolerably stupid.”'},\n",
    " {'author': 'Marilyn Monroe',\n",
    "  'tags': ['be-yourself', 'inspirational'],\n",
    "  'text': \"“Imperfection is beauty, madness is genius and it's better to be \"\n",
    "          'absolutely ridiculous than absolutely boring.”'},\n",
    " {'author': 'Albert Einstein',\n",
    "  'tags': ['adulthood', 'success', 'value'],\n",
    "  'text': '“Try not to become a man of success. Rather become a man of value.”'},\n",
    " {'author': 'André Gide',\n",
    "  'tags': ['life', 'love'],\n",
    "  'text': '“It is better to be hated for what you are than to be loved for what '\n",
    "          'you are not.”'},\n",
    " {'author': 'Thomas A. Edison',\n",
    "  'tags': ['edison', 'failure', 'inspirational', 'paraphrased'],\n",
    "  'text': \"“I have not failed. I've just found 10,000 ways that won't work.”\"},\n",
    " {'author': 'Eleanor Roosevelt',\n",
    "  'tags': ['misattributed-eleanor-roosevelt'],\n",
    "  'text': '“A woman is like a tea bag; you never know how strong it is until '\n",
    "          \"it's in hot water.”\"},\n",
    " {'author': 'Steve Martin',\n",
    "  'tags': ['humor', 'obvious', 'simile'],\n",
    "  'text': '“A day without sunshine is like, you know, night.”'}]\n",
    "```\n",
    "\n",
    "- `exit()`로 종료"
   ]
  },
  {
   "cell_type": "code",
   "execution_count": null,
   "id": "9b71c752",
   "metadata": {},
   "outputs": [],
   "source": []
  }
 ],
 "metadata": {
  "kernelspec": {
   "display_name": "Python Multi",
   "language": "python",
   "name": "multi"
  },
  "language_info": {
   "codemirror_mode": {
    "name": "ipython",
    "version": 3
   },
   "file_extension": ".py",
   "mimetype": "text/x-python",
   "name": "python",
   "nbconvert_exporter": "python",
   "pygments_lexer": "ipython3",
   "version": "3.7.6"
  },
  "toc": {
   "base_numbering": 1,
   "nav_menu": {},
   "number_sections": false,
   "sideBar": true,
   "skip_h1_title": false,
   "title_cell": "Table of Contents",
   "title_sidebar": "Contents",
   "toc_cell": false,
   "toc_position": {},
   "toc_section_display": true,
   "toc_window_display": false
  }
 },
 "nbformat": 4,
 "nbformat_minor": 5
}
