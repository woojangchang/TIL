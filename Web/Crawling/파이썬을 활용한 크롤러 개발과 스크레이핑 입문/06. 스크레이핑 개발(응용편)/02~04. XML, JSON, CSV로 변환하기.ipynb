{
 "cells": [
  {
   "cell_type": "markdown",
   "id": "3f331faa",
   "metadata": {},
   "source": [
    "# 02. XML로 변환하기\n",
    "- yes24의 IT 신간 페이지 http://www.yes24.com/24/Category/NewProductList/001001003?sumGb=04"
   ]
  },
  {
   "cell_type": "markdown",
   "id": "0b326c33",
   "metadata": {},
   "source": [
    "## 데이터베이스를 만들고 테이블 등록하기"
   ]
  },
  {
   "cell_type": "markdown",
   "id": "c2f4beda",
   "metadata": {},
   "source": [
    "### 데이터베이스 만들기\n",
    "- mysql에 접속(MySQL Shell에서 `\\connect root@localhost:3306`, `\\sql` 차례로 입력)\n",
    "- 데이터베이스 생성(book_db)\n",
    "\n",
    "```mysql\n",
    "CREATE DATABASE book_db DEFAULT CHARACTER SET utf8;\n",
    "use book_db;\n",
    "```"
   ]
  },
  {
   "cell_type": "markdown",
   "id": "0574508a",
   "metadata": {},
   "source": [
    "### 데이터베이스에 테이블 등록하기\n",
    "```mysql\n",
    "CREATE TABLE `languages` (\n",
    "    `id` int(11) unsigned NOT NULL AUTO_INCREMENT,\n",
    "    `name` varchar(8) NOT NULL DEFAULT '',\n",
    "    `created_at` timestamp NOT NULL DEFAULT CURRENT_TIMESTAMP ON UPDATE CURRENT_TIMESTAMP,\n",
    "    `updated_at` timestamp NOT NULL DEFAULT CURRENT_TIMESTAMP ON UPDATE CURRENT_TIMESTAMP,\n",
    "    PRIMARY KEY (`id`)\n",
    ") ENGINE=InnoDB AUTO_INCREMENT=3 DEFAULT CHARSET=utf8mb4;\n",
    "```\n",
    "\n",
    "```mysql\n",
    "INSERT INTO `languages` (`id`, `name`)\n",
    "VALUES\n",
    "    (1, '한국어'),\n",
    "    (2, '영어');\n",
    "```"
   ]
  },
  {
   "cell_type": "markdown",
   "id": "8d11bc12",
   "metadata": {},
   "source": [
    "### 출판사를 저장할 테이블 추가하기\n",
    "```mysql\n",
    "CREATE TABLE `publishers` (\n",
    "    `id` int(11) unsigned NOT NULL AUTO_INCREMENT,\n",
    "    `name` varchar(128) NOT NULL DEFAULT '',\n",
    "    `created_at` timestamp NOT NULL DEFAULT CURRENT_TIMESTAMP ON UPDATE CURRENT_TIMESTAMP,\n",
    "    `updated_at` timestamp NOT NULL DEFAULT CURRENT_TIMESTAMP ON UPDATE CURRENT_TIMESTAMP,\n",
    "    PRIMARY KEY (`id`)\n",
    ") ENGINE=InnoDB DEFAULT CHARSET=utf8mb4;\n",
    "```\n",
    "\n",
    "```mysql\n",
    "INSERT INTO `publishers` (`id`, `name`)\n",
    "VALUES\n",
    "    (1, '위키북스'),\n",
    "    (2, '한빛미디어'),\n",
    "    (3, 'Addison-Wesley');\n",
    "```"
   ]
  },
  {
   "cell_type": "markdown",
   "id": "d365ec55",
   "metadata": {},
   "source": [
    "### 도서를 저장할 테이블 만들기\n",
    "- id=ISBN으로 AUTO_INCREMENT를 지정하지 않음\n",
    "\n",
    "```mysql\n",
    "CREATE TABLE `books` (\n",
    "    `id` int(11) unsigned NOT NULL,\n",
    "    `publisher_id` int(11) NOT NULL,\n",
    "    `title` varchar(128) NOT NULL DEFAULT '',\n",
    "    `language_id` int(11) NOT NULL,\n",
    "    `created_at` timestamp NOT NULL DEFAULT CURRENT_TIMESTAMP ON UPDATE CURRENT_TIMESTAMP,\n",
    "    `updated_at` timestamp NOT NULL DEFAULT CURRENT_TIMESTAMP ON UPDATE CURRENT_TIMESTAMP,\n",
    "    PRIMARY KEY (`id`)\n",
    ") ENGINE=InnoDB DEFAULT CHARSET=utf8mb4;\n",
    "```\n",
    "\n",
    "```mysql\n",
    "INSERT INTO `books` (`id`, `title`, `publisher_id`, `language_id`)\n",
    "VALUES\n",
    "    (34973284, 'HTML5 웹 프로그래밍 입문', 2, 1),\n",
    "    (57556147, 'Hello Coding 파이썬', 2, 1),\n",
    "    (71051687, '파이썬을 이용한 머신러닝, 딥러닝 실전 앱 개발', 1, 1),\n",
    "    (32604814, 'The Art of Computer Programming 5', 3, 2);\n",
    "```"
   ]
  },
  {
   "cell_type": "markdown",
   "id": "2fa67273",
   "metadata": {},
   "source": [
    "## XML 사용하기\n",
    "- 트리 구조로 되어있으며 RSS, Atom 등의 피드로도 사용됨"
   ]
  },
  {
   "cell_type": "markdown",
   "id": "e43723b6",
   "metadata": {},
   "source": [
    "## Orator 사용하기\n",
    "- `pip install mysqlclient orator`"
   ]
  },
  {
   "cell_type": "markdown",
   "id": "aefdb549",
   "metadata": {},
   "source": [
    "### XML 만들기\n",
    "- `logger = logging.getLogger('orator.connection.queries')` : Orator 쿼리 로거 이름을 전달\n",
    "- `publishers.load('books', 'books.language')` : 관련된 데이터를 먼저 읽어 두는 처리로, 반복문 내부에서 데이터가 호출될 때마다 쿼리 발행하는 것을 막음"
   ]
  },
  {
   "cell_type": "code",
   "execution_count": 1,
   "id": "4ab9ebbc",
   "metadata": {},
   "outputs": [
    {
     "name": "stderr",
     "output_type": "stream",
     "text": [
      "It took 1.0ms to execute the query ('SELECT * FROM `publishers`', [])\n",
      "It took 0.0ms to execute the query ('SELECT * FROM `books` WHERE `books`.`publisher_id` IN (%s, %s, %s)', [1, 2, 3])\n",
      "It took 0.0ms to execute the query ('SELECT * FROM `languages` WHERE `languages`.`id` IN (%s, %s)', [2, 1])\n"
     ]
    },
    {
     "name": "stdout",
     "output_type": "stream",
     "text": [
      "<?xml version=\"1.0\" ?>\n",
      "<catalog>\n",
      "    <book id=\"71051687\">\n",
      "        <publisher id=\"1\">위키북스</publisher>\n",
      "        <title>파이썬을 이용한 머신러닝, 딥러닝 실전 앱 개발</title>\n",
      "        <language id=\"1\">한국어</language>\n",
      "    </book>\n",
      "    <book id=\"34973284\">\n",
      "        <publisher id=\"2\">한빛미디어</publisher>\n",
      "        <title>HTML5 웹 프로그래밍 입문</title>\n",
      "        <language id=\"1\">한국어</language>\n",
      "    </book>\n",
      "    <book id=\"57556147\">\n",
      "        <publisher id=\"2\">한빛미디어</publisher>\n",
      "        <title>Hello Coding 파이썬</title>\n",
      "        <language id=\"1\">한국어</language>\n",
      "    </book>\n",
      "    <book id=\"32604814\">\n",
      "        <publisher id=\"3\">Addison-Wesley</publisher>\n",
      "        <title>The Art of Computer Programming 5</title>\n",
      "        <language id=\"2\">영어</language>\n",
      "    </book>\n",
      "</catalog>\n",
      "\n"
     ]
    }
   ],
   "source": [
    "import xml.etree.ElementTree as ET\n",
    "from xml.dom import minidom\n",
    "import logging\n",
    "\n",
    "from orator import DatabaseManager, Model\n",
    "from orator.orm import belongs_to, has_many\n",
    "\n",
    "# Orator가 어떤 SQL을 실행하는지 로그로 출력해서 확인하기\n",
    "logger = logging.getLogger('orator.connection.queries')\n",
    "logger.setLevel(logging.DEBUG)\n",
    "\n",
    "formatter = logging.Formatter(\n",
    "    'It took %(elapsed_time)sms to execute the query %(query)s')\n",
    "\n",
    "handler = logging.StreamHandler()\n",
    "handler.setFormatter(formatter)\n",
    "\n",
    "logger.addHandler(handler)\n",
    "\n",
    "# MySQL 접속 설정\n",
    "config = {\n",
    "    'mysql':{\n",
    "        'driver':'mysql',\n",
    "        'host':'localhost',\n",
    "        'database':'book_db',\n",
    "        'user':'root',\n",
    "        'password':'3756',\n",
    "        'prefix':'',\n",
    "        'log_queries':True,\n",
    "    }\n",
    "}\n",
    "\n",
    "db = DatabaseManager(config)\n",
    "Model.set_connection_resolver(db)\n",
    "\n",
    "# 각 테이블과 객체의 관계성 정의\n",
    "# 클래스 이름이 소문자 또는 스네이크 케이스로 변경돼 테이블의 이름과 대응됨\n",
    "class Language(Model):\n",
    "    \"\"\"언어의 종류\"\"\"\n",
    "    pass\n",
    "\n",
    "class Book(Model):\n",
    "    \"\"\"도서\"\"\"\n",
    "    # books 테이블의 language_id에 해당하는 데이터 가져오기\n",
    "    @belongs_to\n",
    "    def language(self):\n",
    "        \"\"\"책의 언어\"\"\"\n",
    "        return Language\n",
    "    \n",
    "    #publishers 테이블의 publisher_id에 해당하는 데이터 가져오기\n",
    "    @belongs_to\n",
    "    def publisher(self):\n",
    "        \"\"\"책의 출판사\"\"\"\n",
    "        return Publisher\n",
    "\n",
    "class Publisher(Model):\n",
    "    \"\"\"출판사\"\"\"\n",
    "    # 하나의 출판사에는 여러 도서가 들어갈 수 있음\n",
    "    @has_many\n",
    "    def books(self):\n",
    "        \"\"\"출판사의 도서들\"\"\"\n",
    "        return Book\n",
    "    \n",
    "# 변환 함수\n",
    "def create_xml():\n",
    "    \"\"\"XML 만들기\"\"\"\n",
    "    elm_root = ET.Element(\"catalog\")\n",
    "    publishers = Publisher.all()\n",
    "    publishers.load('books', 'books.language') # Eager Loading\n",
    "    for publisher in publishers:\n",
    "        for book in publisher.books:\n",
    "            elm_book = ET.SubElement(elm_root, \"book\", id=str(book.id))\n",
    "            ET.SubElement(elm_book, \"publisher\", id=str(publisher.id)).text = publisher.name\n",
    "            ET.SubElement(elm_book, \"title\").text = book.title\n",
    "            ET.SubElement(elm_book, \"language\", id=str(book.language.id)).text = book.language.name\n",
    "    \n",
    "    with minidom.parseString(ET.tostring(elm_root, 'utf-8')) as dom:\n",
    "        return dom.toprettyxml(indent='    ')\n",
    "    \n",
    "if __name__ == '__main__':\n",
    "    xml_str = create_xml()\n",
    "    print(xml_str)"
   ]
  },
  {
   "cell_type": "code",
   "execution_count": 4,
   "id": "8b5bb735",
   "metadata": {},
   "outputs": [
    {
     "name": "stderr",
     "output_type": "stream",
     "text": [
      "It took 1.0ms to execute the query ('SELECT * FROM `publishers`', [])\n",
      "It took 1.0ms to execute the query ('SELECT * FROM `books` WHERE `books`.`publisher_id` IN (%s, %s, %s)', [1, 2, 3])\n",
      "It took 0.0ms to execute the query ('SELECT * FROM `languages` WHERE `languages`.`id` IN (%s, %s)', [2, 1])\n"
     ]
    },
    {
     "name": "stdout",
     "output_type": "stream",
     "text": [
      "<?xml version=\"1.0\" ?>\n",
      "<catalog>\n",
      "    <publisher id=\"1\">\n",
      "        <book id=\"71051687\">\n",
      "            <title>파이썬을 이용한 머신러닝, 딥러닝 실전 앱 개발</title>\n",
      "            <language id=\"1\">한국어</language>\n",
      "        </book>\n",
      "    </publisher>\n",
      "    <publisher id=\"2\">\n",
      "        <book id=\"34973284\">\n",
      "            <title>HTML5 웹 프로그래밍 입문</title>\n",
      "            <language id=\"1\">한국어</language>\n",
      "        </book>\n",
      "        <book id=\"57556147\">\n",
      "            <title>Hello Coding 파이썬</title>\n",
      "            <language id=\"1\">한국어</language>\n",
      "        </book>\n",
      "    </publisher>\n",
      "    <publisher id=\"3\">\n",
      "        <book id=\"32604814\">\n",
      "            <title>The Art of Computer Programming 5</title>\n",
      "            <language id=\"2\">영어</language>\n",
      "        </book>\n",
      "    </publisher>\n",
      "</catalog>\n",
      "\n"
     ]
    }
   ],
   "source": [
    "# 변환 함수2\n",
    "def create_xml2():\n",
    "    \"\"\"XML 만들기\"\"\"\n",
    "    elm_root = ET.Element(\"catalog\")\n",
    "    publishers = Publisher.all()\n",
    "    publishers.load('books', 'books.language') # Eager Loading\n",
    "    for publisher in publishers:\n",
    "        elm_publisher = ET.SubElement(elm_root, \"publisher\", id=str(publisher.id))\n",
    "        for book in publisher.books:\n",
    "            elm_book = ET.SubElement(elm_publisher, \"book\", id=str(book.id))\n",
    "            ET.SubElement(elm_book, \"title\").text = book.title\n",
    "            ET.SubElement(elm_book, \"language\", id=str(book.language.id)).text = book.language.name\n",
    "    \n",
    "    with minidom.parseString(ET.tostring(elm_root, 'utf-8')) as dom:\n",
    "        return dom.toprettyxml(indent='    ')\n",
    "    \n",
    "if __name__ == '__main__':\n",
    "    xml_str = create_xml2()\n",
    "    print(xml_str)"
   ]
  },
  {
   "cell_type": "markdown",
   "id": "02c13eea",
   "metadata": {},
   "source": [
    "# 03. JSON으로 변환하기"
   ]
  },
  {
   "cell_type": "markdown",
   "id": "113b9df3",
   "metadata": {},
   "source": [
    "## JSON 사용하기\n",
    "- 자바스크립트의 객체를 작성할 때 사용하는 형식으로 XML처럼 트리 구조를 가짐\n",
    "- XML과 다르게 모두 키와 값으로 표현되며 별도의 속성값을 부여할 수 없음\n",
    "- 작성 방법이 굉장히 간단하고 프로그램이 표준으로 가진 자료 구조로 변환하기 쉬워서 쉽게 사용할 수 있음"
   ]
  },
  {
   "cell_type": "code",
   "execution_count": 7,
   "id": "3c7c655f",
   "metadata": {},
   "outputs": [
    {
     "name": "stderr",
     "output_type": "stream",
     "text": [
      "It took 0.0ms to execute the query ('SELECT * FROM `publishers`', [])\n",
      "It took 0.0ms to execute the query ('SELECT * FROM `books` WHERE `books`.`publisher_id` IN (%s, %s, %s)', [1, 2, 3])\n",
      "It took 0.0ms to execute the query ('SELECT * FROM `languages` WHERE `languages`.`id` IN (%s, %s)', [2, 1])\n"
     ]
    },
    {
     "name": "stdout",
     "output_type": "stream",
     "text": [
      "[\n",
      "    {\n",
      "        \"id\": 71051687,\n",
      "        \"title\": \"파이썬을 이용한 머신러닝, 딥러닝 실전 앱 개발\",\n",
      "        \"publisher\": {\n",
      "            \"id\": 1,\n",
      "            \"name\": \"위키북스\"\n",
      "        },\n",
      "        \"language\": {\n",
      "            \"id\": 1,\n",
      "            \"name\": \"한국어\"\n",
      "        }\n",
      "    },\n",
      "    {\n",
      "        \"id\": 34973284,\n",
      "        \"title\": \"HTML5 웹 프로그래밍 입문\",\n",
      "        \"publisher\": {\n",
      "            \"id\": 2,\n",
      "            \"name\": \"한빛미디어\"\n",
      "        },\n",
      "        \"language\": {\n",
      "            \"id\": 1,\n",
      "            \"name\": \"한국어\"\n",
      "        }\n",
      "    },\n",
      "    {\n",
      "        \"id\": 57556147,\n",
      "        \"title\": \"Hello Coding 파이썬\",\n",
      "        \"publisher\": {\n",
      "            \"id\": 2,\n",
      "            \"name\": \"한빛미디어\"\n",
      "        },\n",
      "        \"language\": {\n",
      "            \"id\": 1,\n",
      "            \"name\": \"한국어\"\n",
      "        }\n",
      "    },\n",
      "    {\n",
      "        \"id\": 32604814,\n",
      "        \"title\": \"The Art of Computer Programming 5\",\n",
      "        \"publisher\": {\n",
      "            \"id\": 3,\n",
      "            \"name\": \"Addison-Wesley\"\n",
      "        },\n",
      "        \"language\": {\n",
      "            \"id\": 2,\n",
      "            \"name\": \"영어\"\n",
      "        }\n",
      "    }\n",
      "]\n"
     ]
    }
   ],
   "source": [
    "import json\n",
    "\n",
    "# 변환 함수\n",
    "def create_json():\n",
    "    \"\"\"JSON 만들기\"\"\"\n",
    "    books = []\n",
    "    publishers = Publisher.all()\n",
    "    publishers.load('books', 'books.language') # Eager Loading\n",
    "    for publisher in publishers:\n",
    "        for book in publisher.books:\n",
    "            d = {}\n",
    "            d['id'] = book.id\n",
    "            d['title'] = book.title\n",
    "            d['publisher'] = {'id':publisher.id, 'name':publisher.name}\n",
    "            d['language'] = {'id':book.language.id, 'name':book.language.name}\n",
    "            \n",
    "            books.append(d)\n",
    "    \n",
    "    return json.dumps(books, ensure_ascii=False, indent=4)\n",
    "\n",
    "if __name__ == '__main__':\n",
    "    json_str = create_json()\n",
    "    print(json_str)"
   ]
  },
  {
   "cell_type": "markdown",
   "id": "fe603fb6",
   "metadata": {},
   "source": [
    "# 04. CSV로 변환하기\n",
    "- CSV 값 내부에 쉼표가 있을 수 있기 때문에 큰따옴표로 감싸며, 값에 큰따옴표가 있다면 큰따옴표를 두 번 입력하여 이스케이프 처리"
   ]
  },
  {
   "cell_type": "markdown",
   "id": "da19d211",
   "metadata": {},
   "source": [
    "## CSV 모듈 사용하기"
   ]
  },
  {
   "cell_type": "code",
   "execution_count": 9,
   "id": "ae1a526a",
   "metadata": {},
   "outputs": [
    {
     "name": "stderr",
     "output_type": "stream",
     "text": [
      "It took 0.0ms to execute the query ('SELECT * FROM `publishers`', [])\n",
      "It took 0.0ms to execute the query ('SELECT * FROM `books` WHERE `books`.`publisher_id` IN (%s, %s, %s)', [1, 2, 3])\n",
      "It took 0.99ms to execute the query ('SELECT * FROM `languages` WHERE `languages`.`id` IN (%s, %s)', [2, 1])\n",
      "It took 0.0ms to execute the query ('SELECT * FROM `publishers` WHERE `publishers`.`id` = %s LIMIT 1', [1])\n",
      "It took 0.0ms to execute the query ('SELECT * FROM `publishers` WHERE `publishers`.`id` = %s LIMIT 1', [2])\n",
      "It took 1.0ms to execute the query ('SELECT * FROM `publishers` WHERE `publishers`.`id` = %s LIMIT 1', [2])\n",
      "It took 1.0ms to execute the query ('SELECT * FROM `publishers` WHERE `publishers`.`id` = %s LIMIT 1', [3])\n"
     ]
    },
    {
     "name": "stdout",
     "output_type": "stream",
     "text": [
      "\"id\",\"title\",\"url\",\"publisher_id\",\"publisher_name\",\"language_id\",\"language_name\"\r\n",
      "\"71051687\",\"파이썬을 이용한 머신러닝, 딥러닝 실전 앱 개발\",\"1\",\"위키북스\",\"1\",\"한국어\"\r\n",
      "\"34973284\",\"HTML5 웹 프로그래밍 입문\",\"2\",\"한빛미디어\",\"1\",\"한국어\"\r\n",
      "\"57556147\",\"Hello Coding 파이썬\",\"2\",\"한빛미디어\",\"1\",\"한국어\"\r\n",
      "\"32604814\",\"The Art of Computer Programming 5\",\"3\",\"Addison-Wesley\",\"2\",\"영어\"\r\n",
      "\n"
     ]
    }
   ],
   "source": [
    "import csv\n",
    "import io\n",
    "\n",
    "def create_csv():\n",
    "    \"\"\"CSV 만들기\"\"\"\n",
    "    output = io.StringIO()\n",
    "    csv_writer = csv.writer(output, delimiter=',', quotechar='\"', quoting=csv.QUOTE_ALL)\n",
    "    header = ['id', 'title', 'url', 'publisher_id', 'publisher_name', 'language_id', 'language_name']\n",
    "    csv_writer.writerow(header)\n",
    "    \n",
    "    publishers = Publisher.all()\n",
    "    publishers.load('books', 'books.language') # Eager Loading\n",
    "    for publisher in publishers:\n",
    "        for book in publisher.books:\n",
    "            line = [\n",
    "                book.id,\n",
    "                book.title,\n",
    "                book.publisher.id,\n",
    "                book.publisher.name,\n",
    "                book.language.id,\n",
    "                book.language.name,\n",
    "            ]\n",
    "            csv_writer.writerow(line)\n",
    "    return output.getvalue()\n",
    "\n",
    "if __name__ == '__main__':\n",
    "    csv_str = create_csv()\n",
    "    print(csv_str)"
   ]
  },
  {
   "cell_type": "code",
   "execution_count": null,
   "id": "ff255177",
   "metadata": {},
   "outputs": [],
   "source": []
  }
 ],
 "metadata": {
  "kernelspec": {
   "display_name": "Python Multi",
   "language": "python",
   "name": "multi"
  },
  "language_info": {
   "codemirror_mode": {
    "name": "ipython",
    "version": 3
   },
   "file_extension": ".py",
   "mimetype": "text/x-python",
   "name": "python",
   "nbconvert_exporter": "python",
   "pygments_lexer": "ipython3",
   "version": "3.7.6"
  },
  "toc": {
   "base_numbering": 1,
   "nav_menu": {},
   "number_sections": false,
   "sideBar": true,
   "skip_h1_title": false,
   "title_cell": "Table of Contents",
   "title_sidebar": "Contents",
   "toc_cell": false,
   "toc_position": {},
   "toc_section_display": true,
   "toc_window_display": false
  }
 },
 "nbformat": 4,
 "nbformat_minor": 5
}
