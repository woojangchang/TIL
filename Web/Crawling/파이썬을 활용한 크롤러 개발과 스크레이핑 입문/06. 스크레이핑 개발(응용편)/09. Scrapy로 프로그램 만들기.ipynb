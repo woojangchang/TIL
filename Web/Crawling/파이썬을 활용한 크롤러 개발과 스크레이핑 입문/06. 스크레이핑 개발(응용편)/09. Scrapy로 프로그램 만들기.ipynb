{
 "cells": [
  {
   "cell_type": "markdown",
   "id": "948c7ca9",
   "metadata": {},
   "source": [
    "# 09. Scrapy로 프로그램 만들기"
   ]
  },
  {
   "cell_type": "markdown",
   "id": "68193c20",
   "metadata": {},
   "source": [
    "## 스크립트 작성하기\n",
    "- Scrapy는 프레임워크이면서 동시에 스크립트에서 사용할 수 있는 API도 제공\n",
    "- `my_project/run_crawl.py`\n",
    "\n",
    "```python\n",
    "\"\"\"scrapy의 quotes 크롤러 호출하기\"\"\"\n",
    "from scrapy.crawler import CrawlerProcess\n",
    "from scrapy.utils.project import get_project_settings\n",
    "\n",
    "def run_crawl():\n",
    "    \"\"\"크롤링 실행\"\"\"\n",
    "    process = CrawlerProcess(get_project_settings())\n",
    "    process.crawl('quotes-1')\n",
    "    process.start()\n",
    "\n",
    "if __name__ == '__main__':\n",
    "    run_crawl()\n",
    "```\n",
    "\n",
    "- `python -m run_crawl` 실행\n",
    "- `process.crawl` 메서드 매개변수에 Spider에 대한 설정도 지정할 수 있으므로 `start_urls`를 데이터베이스로부터 읽어들이는 것도 가능\n",
    "    ```python\n",
    "    crawl_urls = DB.get_crawl_urls()\n",
    "    process.crawl('quotes-1', start_urls=crawl_urls)\n",
    "    ```"
   ]
  },
  {
   "cell_type": "code",
   "execution_count": null,
   "id": "53aaed88",
   "metadata": {},
   "outputs": [],
   "source": []
  }
 ],
 "metadata": {
  "kernelspec": {
   "display_name": "Python Multi",
   "language": "python",
   "name": "multi"
  },
  "language_info": {
   "codemirror_mode": {
    "name": "ipython",
    "version": 3
   },
   "file_extension": ".py",
   "mimetype": "text/x-python",
   "name": "python",
   "nbconvert_exporter": "python",
   "pygments_lexer": "ipython3",
   "version": "3.7.6"
  },
  "toc": {
   "base_numbering": 1,
   "nav_menu": {},
   "number_sections": false,
   "sideBar": true,
   "skip_h1_title": false,
   "title_cell": "Table of Contents",
   "title_sidebar": "Contents",
   "toc_cell": false,
   "toc_position": {},
   "toc_section_display": true,
   "toc_window_display": false
  }
 },
 "nbformat": 4,
 "nbformat_minor": 5
}
