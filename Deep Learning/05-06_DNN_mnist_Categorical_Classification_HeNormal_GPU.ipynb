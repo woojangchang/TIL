{
 "cells": [
  {
   "cell_type": "markdown",
   "metadata": {
    "id": "q2Pr7oBdYLdf"
   },
   "source": [
    "# MNIST - Categorical Classification\n",
    "> # Overfitting Issue\n",
    "## Import Tensorflow"
   ]
  },
  {
   "cell_type": "code",
   "execution_count": 1,
   "metadata": {
    "id": "RbPgODpVzdHI"
   },
   "outputs": [],
   "source": [
    "import warnings\n",
    "warnings.filterwarnings('ignore')"
   ]
  },
  {
   "cell_type": "markdown",
   "metadata": {
    "id": "1jarjLPiQ8QJ"
   },
   "source": [
    "* import TensorFlow "
   ]
  },
  {
   "cell_type": "code",
   "execution_count": 2,
   "metadata": {
    "colab": {
     "base_uri": "https://localhost:8080/",
     "height": 35
    },
    "id": "URmxW0HeGi0t",
    "outputId": "18b6c60e-3c4e-4c4b-a22e-4260703fc4aa"
   },
   "outputs": [
    {
     "data": {
      "text/plain": [
       "'2.5.0'"
      ]
     },
     "execution_count": 2,
     "metadata": {},
     "output_type": "execute_result"
    }
   ],
   "source": [
    "import tensorflow as tf\n",
    "\n",
    "tf.__version__"
   ]
  },
  {
   "cell_type": "markdown",
   "metadata": {
    "id": "CINIwijHRA89"
   },
   "source": [
    "* GPU 설정 확인"
   ]
  },
  {
   "cell_type": "code",
   "execution_count": 3,
   "metadata": {
    "colab": {
     "base_uri": "https://localhost:8080/",
     "height": 35
    },
    "id": "mdUs3F_aREFG",
    "outputId": "89a6dd5a-c194-4b80-8119-5e75f7de68f9"
   },
   "outputs": [
    {
     "data": {
      "text/plain": [
       "'/device:GPU:0'"
      ]
     },
     "execution_count": 3,
     "metadata": {},
     "output_type": "execute_result"
    }
   ],
   "source": [
    "tf.test.gpu_device_name()"
   ]
  },
  {
   "cell_type": "markdown",
   "metadata": {
    "id": "H49A769LYp-a"
   },
   "source": [
    "# I. MNIST Data_Set Load & Review"
   ]
  },
  {
   "cell_type": "markdown",
   "metadata": {
    "id": "vb6EIkRcbPb4"
   },
   "source": [
    "> ## 1) Load MNIST Data_Set"
   ]
  },
  {
   "cell_type": "code",
   "execution_count": 4,
   "metadata": {
    "id": "DxstjE8b_6Te"
   },
   "outputs": [],
   "source": [
    "from tensorflow.keras.datasets import mnist\n",
    "\n",
    "(X_train, y_train), (X_test, y_test) = mnist.load_data()"
   ]
  },
  {
   "cell_type": "markdown",
   "metadata": {
    "id": "Mt11QE0EHCiJ"
   },
   "source": [
    "* Train_Data Information"
   ]
  },
  {
   "cell_type": "code",
   "execution_count": 5,
   "metadata": {
    "colab": {
     "base_uri": "https://localhost:8080/"
    },
    "id": "KT_Mr_Hb__VH",
    "outputId": "cb83b80b-7d00-492b-95bf-f7d474e45557"
   },
   "outputs": [
    {
     "name": "stdout",
     "output_type": "stream",
     "text": [
      "60000\n",
      "(60000, 28, 28)\n",
      "60000\n",
      "[5 0 4 1 9]\n"
     ]
    }
   ],
   "source": [
    "print(len(X_train))\n",
    "print(X_train.shape)\n",
    "\n",
    "print(len(y_train))\n",
    "print(y_train[0:5])"
   ]
  },
  {
   "cell_type": "markdown",
   "metadata": {
    "id": "QolAqIwgHGRI"
   },
   "source": [
    "* Test_Data Information"
   ]
  },
  {
   "cell_type": "code",
   "execution_count": 6,
   "metadata": {
    "colab": {
     "base_uri": "https://localhost:8080/"
    },
    "id": "NtkD2BKUANZE",
    "outputId": "e5ef20ac-804a-4f57-ba1e-65e3264bcf99"
   },
   "outputs": [
    {
     "name": "stdout",
     "output_type": "stream",
     "text": [
      "10000\n",
      "(10000, 28, 28)\n",
      "10000\n",
      "[7 2 1 0 4]\n"
     ]
    }
   ],
   "source": [
    "print(len(X_test))\n",
    "print(X_test.shape)\n",
    "\n",
    "print(len(y_test))\n",
    "print(y_test[0:5])"
   ]
  },
  {
   "cell_type": "markdown",
   "metadata": {
    "id": "BBSg_oWbZCyr"
   },
   "source": [
    "> ## 2) Visualization"
   ]
  },
  {
   "cell_type": "code",
   "execution_count": 7,
   "metadata": {
    "colab": {
     "base_uri": "https://localhost:8080/",
     "height": 265
    },
    "id": "OV19FumXAWGH",
    "outputId": "8e6dcca9-5e05-4734-cc5f-6202a5b15b9e"
   },
   "outputs": [
    {
     "data": {
      "image/png": "[encoded data removed]",
      "text/plain": [
       "<Figure size 432x288 with 1 Axes>"
      ]
     },
     "metadata": {
      "needs_background": "light"
     },
     "output_type": "display_data"
    }
   ],
   "source": [
    "import matplotlib.pyplot as plt\n",
    "\n",
    "digit = X_train[4]\n",
    "plt.imshow(digit, cmap = 'gray')\n",
    "plt.show()"
   ]
  },
  {
   "cell_type": "code",
   "execution_count": 8,
   "metadata": {
    "cellView": "code",
    "colab": {
     "base_uri": "https://localhost:8080/"
    },
    "id": "wWXMkCE8NyAg",
    "outputId": "21dffcd7-cd7b-497e-999b-acbdb4f4f574"
   },
   "outputs": [
    {
     "name": "stdout",
     "output_type": "stream",
     "text": [
      "[[  0   0   0   0   0   0   0   0   0   0   0   0   0   0   0   0   0   0   0   0   0   0   0   0   0   0   0   0]\n",
      " [  0   0   0   0   0   0   0   0   0   0   0   0   0   0   0   0   0   0   0   0   0   0   0   0   0   0   0   0]\n",
      " [  0   0   0   0   0   0   0   0   0   0   0   0   0   0   0   0   0   0   0   0   0   0   0   0   0   0   0   0]\n",
      " [  0   0   0   0   0   0   0   0   0   0   0   0   0   0   0   0   0   0   0   0   0   0   0   0   0   0   0   0]\n",
      " [  0   0   0   0   0   0   0   0   0   0   0   0   0   0   0   0   0   0   0   0   0   0   0   0   0   0   0   0]\n",
      " [  0   0   0   0   0   0   0   0   0   0   0   0   0   0   0   0   0   0   0   0   0   0   0   0   0   0   0   0]\n",
      " [  0   0   0   0   0   0   0   0   0   0   0   0   0   0   0   0   0   0   0   0   0   0   0   0   0   0   0   0]\n",
      " [  0   0   0   0   0   0   0   0   0   0   0   0  55 148 210 253 253 113  87 148  55   0   0   0   0   0   0   0]\n",
      " [  0   0   0   0   0   0   0   0   0   0   0  87 232 252 253 189 210 252 252 253 168   0   0   0   0   0   0   0]\n",
      " [  0   0   0   0   0   0   0   0   0   4  57 242 252 190  65   5  12 182 252 253 116   0   0   0   0   0   0   0]\n",
      " [  0   0   0   0   0   0   0   0   0  96 252 252 183  14   0   0  92 252 252 225  21   0   0   0   0   0   0   0]\n",
      " [  0   0   0   0   0   0   0   0 132 253 252 146  14   0   0   0 215 252 252  79   0   0   0   0   0   0   0   0]\n",
      " [  0   0   0   0   0   0   0 126 253 247 176   9   0   0   8  78 245 253 129   0   0   0   0   0   0   0   0   0]\n",
      " [  0   0   0   0   0   0  16 232 252 176   0   0   0  36 201 252 252 169  11   0   0   0   0   0   0   0   0   0]\n",
      " [  0   0   0   0   0   0  22 252 252  30  22 119 197 241 253 252 251  77   0   0   0   0   0   0   0   0   0   0]\n",
      " [  0   0   0   0   0   0  16 231 252 253 252 252 252 226 227 252 231   0   0   0   0   0   0   0   0   0   0   0]\n",
      " [  0   0   0   0   0   0   0  55 235 253 217 138  42  24 192 252 143   0   0   0   0   0   0   0   0   0   0   0]\n",
      " [  0   0   0   0   0   0   0   0   0   0   0   0   0  62 255 253 109   0   0   0   0   0   0   0   0   0   0   0]\n",
      " [  0   0   0   0   0   0   0   0   0   0   0   0   0  71 253 252  21   0   0   0   0   0   0   0   0   0   0   0]\n",
      " [  0   0   0   0   0   0   0   0   0   0   0   0   0   0 253 252  21   0   0   0   0   0   0   0   0   0   0   0]\n",
      " [  0   0   0   0   0   0   0   0   0   0   0   0   0  71 253 252  21   0   0   0   0   0   0   0   0   0   0   0]\n",
      " [  0   0   0   0   0   0   0   0   0   0   0   0   0 106 253 252  21   0   0   0   0   0   0   0   0   0   0   0]\n",
      " [  0   0   0   0   0   0   0   0   0   0   0   0   0  45 255 253  21   0   0   0   0   0   0   0   0   0   0   0]\n",
      " [  0   0   0   0   0   0   0   0   0   0   0   0   0   0 218 252  56   0   0   0   0   0   0   0   0   0   0   0]\n",
      " [  0   0   0   0   0   0   0   0   0   0   0   0   0   0  96 252 189  42   0   0   0   0   0   0   0   0   0   0]\n",
      " [  0   0   0   0   0   0   0   0   0   0   0   0   0   0  14 184 252 170  11   0   0   0   0   0   0   0   0   0]\n",
      " [  0   0   0   0   0   0   0   0   0   0   0   0   0   0   0  14 147 252  42   0   0   0   0   0   0   0   0   0]\n",
      " [  0   0   0   0   0   0   0   0   0   0   0   0   0   0   0   0   0   0   0   0   0   0   0   0   0   0   0   0]]\n"
     ]
    }
   ],
   "source": [
    "import numpy as np\n",
    "np.set_printoptions(linewidth = 150)\n",
    "\n",
    "print(X_train[4])"
   ]
  },
  {
   "cell_type": "markdown",
   "metadata": {
    "id": "Mk9XL5vGHor6"
   },
   "source": [
    "# II. Data Preprocessing"
   ]
  },
  {
   "cell_type": "markdown",
   "metadata": {
    "id": "ec8zU4XCZRUF"
   },
   "source": [
    "> ## 1) Reshape and Normalization"
   ]
  },
  {
   "cell_type": "markdown",
   "metadata": {
    "id": "olI6ZPtEIb8H"
   },
   "source": [
    "* reshape\n",
    " * (60000, 28, 28) to (60000, 784)"
   ]
  },
  {
   "cell_type": "code",
   "execution_count": 9,
   "metadata": {
    "colab": {
     "base_uri": "https://localhost:8080/"
    },
    "id": "8-toPn1ZAmFd",
    "outputId": "74a200ef-ba7d-48f6-8416-2d694a0abdbf"
   },
   "outputs": [
    {
     "data": {
      "text/plain": [
       "((60000, 784), (10000, 784))"
      ]
     },
     "execution_count": 9,
     "metadata": {},
     "output_type": "execute_result"
    }
   ],
   "source": [
    "X_train = X_train.reshape((60000, 28 * 28))\n",
    "X_test = X_test.reshape((10000, 28 * 28))\n",
    "\n",
    "X_train.shape, X_test.shape"
   ]
  },
  {
   "cell_type": "markdown",
   "metadata": {
    "id": "UN-xPWjYIeWL"
   },
   "source": [
    "* Normalization"
   ]
  },
  {
   "cell_type": "code",
   "execution_count": 10,
   "metadata": {
    "id": "SoGHuYeFIGBj"
   },
   "outputs": [],
   "source": [
    "X_train = X_train.astype(float) / 255\n",
    "X_test = X_test.astype(float) / 255"
   ]
  },
  {
   "cell_type": "code",
   "execution_count": 11,
   "metadata": {
    "colab": {
     "base_uri": "https://localhost:8080/"
    },
    "id": "m1HezAboV-x8",
    "outputId": "59acb2ae-fa72-4479-ef88-fb82a5615124"
   },
   "outputs": [
    {
     "name": "stdout",
     "output_type": "stream",
     "text": [
      "[0.         0.         0.         0.         0.         0.         0.         0.         0.         0.         0.         0.         0.\n",
      " 0.         0.         0.         0.         0.         0.         0.         0.         0.         0.         0.         0.         0.\n",
      " 0.         0.         0.         0.         0.         0.         0.         0.         0.         0.         0.         0.         0.\n",
      " 0.         0.         0.         0.         0.         0.         0.         0.         0.         0.         0.         0.         0.\n",
      " 0.         0.         0.         0.         0.         0.         0.         0.         0.         0.         0.         0.         0.\n",
      " 0.         0.         0.         0.         0.         0.         0.         0.         0.         0.         0.         0.         0.\n",
      " 0.         0.         0.         0.         0.         0.         0.         0.         0.         0.         0.         0.         0.\n",
      " 0.         0.         0.         0.         0.         0.         0.         0.         0.         0.         0.         0.         0.\n",
      " 0.         0.         0.         0.         0.         0.         0.         0.         0.         0.         0.         0.         0.\n",
      " 0.         0.         0.         0.         0.         0.         0.         0.         0.         0.         0.         0.         0.\n",
      " 0.         0.         0.         0.         0.         0.         0.         0.         0.         0.         0.         0.         0.\n",
      " 0.         0.         0.         0.         0.         0.         0.         0.         0.         0.         0.         0.         0.\n",
      " 0.         0.         0.         0.         0.         0.         0.         0.         0.         0.         0.         0.         0.\n",
      " 0.         0.         0.         0.         0.         0.         0.         0.         0.         0.         0.         0.         0.\n",
      " 0.         0.         0.         0.         0.         0.         0.         0.         0.         0.         0.         0.         0.\n",
      " 0.         0.         0.         0.         0.         0.         0.         0.         0.         0.         0.         0.         0.\n",
      " 0.21568627 0.58039216 0.82352941 0.99215686 0.99215686 0.44313725 0.34117647 0.58039216 0.21568627 0.         0.         0.         0.\n",
      " 0.         0.         0.         0.         0.         0.         0.         0.         0.         0.         0.         0.         0.\n",
      " 0.         0.34117647 0.90980392 0.98823529 0.99215686 0.74117647 0.82352941 0.98823529 0.98823529 0.99215686 0.65882353 0.         0.\n",
      " 0.         0.         0.         0.         0.         0.         0.         0.         0.         0.         0.         0.         0.\n",
      " 0.         0.01568627 0.22352941 0.94901961 0.98823529 0.74509804 0.25490196 0.01960784 0.04705882 0.71372549 0.98823529 0.99215686 0.45490196\n",
      " 0.         0.         0.         0.         0.         0.         0.         0.         0.         0.         0.         0.         0.\n",
      " 0.         0.         0.         0.37647059 0.98823529 0.98823529 0.71764706 0.05490196 0.         0.         0.36078431 0.98823529 0.98823529\n",
      " 0.88235294 0.08235294 0.         0.         0.         0.         0.         0.         0.         0.         0.         0.         0.\n",
      " 0.         0.         0.         0.         0.51764706 0.99215686 0.98823529 0.57254902 0.05490196 0.         0.         0.         0.84313725\n",
      " 0.98823529 0.98823529 0.30980392 0.         0.         0.         0.         0.         0.         0.         0.         0.         0.\n",
      " 0.         0.         0.         0.         0.         0.49411765 0.99215686 0.96862745 0.69019608 0.03529412 0.         0.         0.03137255\n",
      " 0.30588235 0.96078431 0.99215686 0.50588235 0.         0.         0.         0.         0.         0.         0.         0.         0.\n",
      " 0.         0.         0.         0.         0.         0.         0.0627451  0.90980392 0.98823529 0.69019608 0.         0.         0.\n",
      " 0.14117647 0.78823529 0.98823529 0.98823529 0.6627451  0.04313725 0.         0.         0.         0.         0.         0.         0.\n",
      " 0.         0.         0.         0.         0.         0.         0.         0.         0.08627451 0.98823529 0.98823529 0.11764706 0.08627451\n",
      " 0.46666667 0.77254902 0.94509804 0.99215686 0.98823529 0.98431373 0.30196078 0.         0.         0.         0.         0.         0.\n",
      " 0.         0.         0.         0.         0.         0.         0.         0.         0.         0.         0.0627451  0.90588235 0.98823529\n",
      " 0.99215686 0.98823529 0.98823529 0.98823529 0.88627451 0.89019608 0.98823529 0.90588235 0.         0.         0.         0.         0.\n",
      " 0.         0.         0.         0.         0.         0.         0.         0.         0.         0.         0.         0.         0.\n",
      " 0.21568627 0.92156863 0.99215686 0.85098039 0.54117647 0.16470588 0.09411765 0.75294118 0.98823529 0.56078431 0.         0.         0.\n",
      " 0.         0.         0.         0.         0.         0.         0.         0.         0.         0.         0.         0.         0.\n",
      " 0.         0.         0.         0.         0.         0.         0.         0.         0.24313725 1.         0.99215686 0.42745098 0.\n",
      " 0.         0.         0.         0.         0.         0.         0.         0.         0.         0.         0.         0.         0.\n",
      " 0.         0.         0.         0.         0.         0.         0.         0.         0.         0.         0.27843137 0.99215686 0.98823529\n",
      " 0.08235294 0.         0.         0.         0.         0.         0.         0.         0.         0.         0.         0.         0.\n",
      " 0.         0.         0.         0.         0.         0.         0.         0.         0.         0.         0.         0.         0.\n",
      " 0.99215686 0.98823529 0.08235294 0.         0.         0.         0.         0.         0.         0.         0.         0.         0.\n",
      " 0.         0.         0.         0.         0.         0.         0.         0.         0.         0.         0.         0.         0.\n",
      " 0.         0.27843137 0.99215686 0.98823529 0.08235294 0.         0.         0.         0.         0.         0.         0.         0.\n",
      " 0.         0.         0.         0.         0.         0.         0.         0.         0.         0.         0.         0.         0.\n",
      " 0.         0.         0.         0.41568627 0.99215686 0.98823529 0.08235294 0.         0.         0.         0.         0.         0.\n",
      " 0.         0.         0.         0.         0.         0.         0.         0.         0.         0.         0.         0.         0.\n",
      " 0.         0.         0.         0.         0.         0.17647059 1.         0.99215686 0.08235294 0.         0.         0.         0.\n",
      " 0.         0.         0.         0.         0.         0.         0.         0.         0.         0.         0.         0.         0.\n",
      " 0.         0.         0.         0.         0.         0.         0.         0.         0.85490196 0.98823529 0.21960784 0.         0.\n",
      " 0.         0.         0.         0.         0.         0.         0.         0.         0.         0.         0.         0.         0.\n",
      " 0.         0.         0.         0.         0.         0.         0.         0.         0.         0.         0.37647059 0.98823529 0.74117647\n",
      " 0.16470588 0.         0.         0.         0.         0.         0.         0.         0.         0.         0.         0.         0.\n",
      " 0.         0.         0.         0.         0.         0.         0.         0.         0.         0.         0.         0.         0.05490196\n",
      " 0.72156863 0.98823529 0.66666667 0.04313725 0.         0.         0.         0.         0.         0.         0.         0.         0.\n",
      " 0.         0.         0.         0.         0.         0.         0.         0.         0.         0.         0.         0.         0.\n",
      " 0.         0.         0.05490196 0.57647059 0.98823529 0.16470588 0.         0.         0.         0.         0.         0.         0.\n",
      " 0.         0.         0.         0.         0.         0.         0.         0.         0.         0.         0.         0.         0.\n",
      " 0.         0.         0.         0.         0.         0.         0.         0.         0.         0.         0.         0.         0.\n",
      " 0.         0.         0.         0.        ]\n"
     ]
    }
   ],
   "source": [
    "print(X_train[4])"
   ]
  },
  {
   "cell_type": "markdown",
   "metadata": {
    "id": "BtSROU80aF12"
   },
   "source": [
    "> ## 2) One Hot Encoding"
   ]
  },
  {
   "cell_type": "code",
   "execution_count": 12,
   "metadata": {
    "id": "eC48Oym3Ao8E"
   },
   "outputs": [],
   "source": [
    "from tensorflow.keras.utils import to_categorical\n",
    "\n",
    "y_train = to_categorical(y_train)\n",
    "y_test = to_categorical(y_test)"
   ]
  },
  {
   "cell_type": "code",
   "execution_count": 13,
   "metadata": {
    "colab": {
     "base_uri": "https://localhost:8080/"
    },
    "id": "q1O-NsoJMyWU",
    "outputId": "bf4d14ea-0ae7-46af-f7e0-670372bed1ac"
   },
   "outputs": [
    {
     "name": "stdout",
     "output_type": "stream",
     "text": [
      "[[0. 0. 0. 0. 0. 1. 0. 0. 0. 0.]\n",
      " [1. 0. 0. 0. 0. 0. 0. 0. 0. 0.]\n",
      " [0. 0. 0. 0. 1. 0. 0. 0. 0. 0.]\n",
      " [0. 1. 0. 0. 0. 0. 0. 0. 0. 0.]\n",
      " [0. 0. 0. 0. 0. 0. 0. 0. 0. 1.]]\n"
     ]
    }
   ],
   "source": [
    "print(y_train[:5])"
   ]
  },
  {
   "cell_type": "markdown",
   "metadata": {
    "id": "NTwZiSjiop3v"
   },
   "source": [
    "# III. MNIST Keras Modeling"
   ]
  },
  {
   "cell_type": "markdown",
   "metadata": {
    "id": "j5CT0TurJCkc"
   },
   "source": [
    "> ## 1) Model Define"
   ]
  },
  {
   "cell_type": "markdown",
   "metadata": {
    "id": "ydDCl0jTJD58"
   },
   "source": [
    "* 모델 신경망 구조 정의\n",
    " - 2개의 Hidden Layers & 768개의 Nodes\n",
    " - 복잡한 Model Capacity로 인한 Overfitting"
   ]
  },
  {
   "cell_type": "code",
   "execution_count": 14,
   "metadata": {
    "id": "II0DskRdAcHS"
   },
   "outputs": [],
   "source": [
    "from tensorflow.keras import models\n",
    "from tensorflow.keras import layers\n",
    "from tensorflow.keras.initializers import HeNormal\n",
    "\n",
    "initializer = HeNormal()\n",
    "\n",
    "mnist = models.Sequential()\n",
    "mnist.add(layers.Dense(512, activation = 'relu', input_shape = (28 * 28,), kernel_initializer = initializer))\n",
    "mnist.add(layers.Dense(256, activation = 'relu', kernel_initializer = initializer))\n",
    "mnist.add(layers.Dense(10, activation = 'softmax', kernel_initializer = initializer))"
   ]
  },
  {
   "cell_type": "markdown",
   "metadata": {
    "id": "PqrObAHZJTN8"
   },
   "source": [
    "* 모델 구조 확인"
   ]
  },
  {
   "cell_type": "code",
   "execution_count": 15,
   "metadata": {
    "colab": {
     "base_uri": "https://localhost:8080/"
    },
    "id": "wbtjOA4XMTUd",
    "outputId": "375aa9ef-7a5a-47ff-ae45-794abb9e21e0"
   },
   "outputs": [
    {
     "name": "stdout",
     "output_type": "stream",
     "text": [
      "Model: \"sequential\"\n",
      "_________________________________________________________________\n",
      "Layer (type)                 Output Shape              Param #   \n",
      "=================================================================\n",
      "dense (Dense)                (None, 512)               401920    \n",
      "_________________________________________________________________\n",
      "dense_1 (Dense)              (None, 256)               131328    \n",
      "_________________________________________________________________\n",
      "dense_2 (Dense)              (None, 10)                2570      \n",
      "=================================================================\n",
      "Total params: 535,818\n",
      "Trainable params: 535,818\n",
      "Non-trainable params: 0\n",
      "_________________________________________________________________\n"
     ]
    }
   ],
   "source": [
    "mnist.summary()"
   ]
  },
  {
   "cell_type": "markdown",
   "metadata": {
    "id": "tpjBDBeYoyuj"
   },
   "source": [
    "> ## 2) Model Compile"
   ]
  },
  {
   "cell_type": "markdown",
   "metadata": {
    "id": "f3sxkQa0JoUr"
   },
   "source": [
    "* 모델 학습방법 설정"
   ]
  },
  {
   "cell_type": "code",
   "execution_count": 16,
   "metadata": {
    "id": "AyK_t1qwAi6M"
   },
   "outputs": [],
   "source": [
    "mnist.compile(loss = 'categorical_crossentropy',\n",
    "              optimizer = 'rmsprop',\n",
    "              metrics = ['accuracy'])"
   ]
  },
  {
   "cell_type": "markdown",
   "metadata": {
    "id": "umiq4B-Xo3OB"
   },
   "source": [
    "> ## 3) Model Fit"
   ]
  },
  {
   "cell_type": "markdown",
   "metadata": {
    "id": "1KuXREziKMD1"
   },
   "source": [
    "* 약 3분"
   ]
  },
  {
   "cell_type": "code",
   "execution_count": 17,
   "metadata": {
    "colab": {
     "base_uri": "https://localhost:8080/"
    },
    "id": "zxwqwAqRAqRP",
    "outputId": "99522a04-1a8b-48a6-95fc-ffec84dc74cd"
   },
   "outputs": [
    {
     "name": "stdout",
     "output_type": "stream",
     "text": [
      "Epoch 1/100\n",
      "375/375 [==============================] - 2s 4ms/step - loss: 0.2470 - accuracy: 0.9233 - val_loss: 0.1260 - val_accuracy: 0.9597\n",
      "Epoch 2/100\n",
      "375/375 [==============================] - 1s 4ms/step - loss: 0.0924 - accuracy: 0.9714 - val_loss: 0.0951 - val_accuracy: 0.9718\n",
      "Epoch 3/100\n",
      "375/375 [==============================] - 1s 4ms/step - loss: 0.0580 - accuracy: 0.9818 - val_loss: 0.0906 - val_accuracy: 0.9749\n",
      "Epoch 4/100\n",
      "375/375 [==============================] - 1s 4ms/step - loss: 0.0406 - accuracy: 0.9871 - val_loss: 0.0939 - val_accuracy: 0.9750\n",
      "Epoch 5/100\n",
      "375/375 [==============================] - 1s 4ms/step - loss: 0.0280 - accuracy: 0.9913 - val_loss: 0.1030 - val_accuracy: 0.9774\n",
      "Epoch 6/100\n",
      "375/375 [==============================] - 1s 4ms/step - loss: 0.0218 - accuracy: 0.9927 - val_loss: 0.1010 - val_accuracy: 0.9763\n",
      "Epoch 7/100\n",
      "375/375 [==============================] - 1s 4ms/step - loss: 0.0167 - accuracy: 0.9942 - val_loss: 0.0979 - val_accuracy: 0.9802\n",
      "Epoch 8/100\n",
      "375/375 [==============================] - 1s 4ms/step - loss: 0.0142 - accuracy: 0.9952 - val_loss: 0.1406 - val_accuracy: 0.9731\n",
      "Epoch 9/100\n",
      "375/375 [==============================] - 1s 4ms/step - loss: 0.0107 - accuracy: 0.9966 - val_loss: 0.1284 - val_accuracy: 0.9778\n",
      "Epoch 10/100\n",
      "375/375 [==============================] - 1s 4ms/step - loss: 0.0101 - accuracy: 0.9968 - val_loss: 0.1203 - val_accuracy: 0.9803\n",
      "Epoch 11/100\n",
      "375/375 [==============================] - 1s 4ms/step - loss: 0.0081 - accuracy: 0.9973 - val_loss: 0.1264 - val_accuracy: 0.9798\n",
      "Epoch 12/100\n",
      "375/375 [==============================] - 1s 4ms/step - loss: 0.0074 - accuracy: 0.9976 - val_loss: 0.1403 - val_accuracy: 0.9787\n",
      "Epoch 13/100\n",
      "375/375 [==============================] - 1s 4ms/step - loss: 0.0057 - accuracy: 0.9981 - val_loss: 0.1611 - val_accuracy: 0.9765\n",
      "Epoch 14/100\n",
      "375/375 [==============================] - 1s 4ms/step - loss: 0.0060 - accuracy: 0.9981 - val_loss: 0.1656 - val_accuracy: 0.9796\n",
      "Epoch 15/100\n",
      "375/375 [==============================] - 2s 4ms/step - loss: 0.0050 - accuracy: 0.9985 - val_loss: 0.1622 - val_accuracy: 0.9790\n",
      "Epoch 16/100\n",
      "375/375 [==============================] - 2s 4ms/step - loss: 0.0038 - accuracy: 0.9987 - val_loss: 0.1810 - val_accuracy: 0.9781\n",
      "Epoch 17/100\n",
      "375/375 [==============================] - 2s 4ms/step - loss: 0.0045 - accuracy: 0.9987 - val_loss: 0.1757 - val_accuracy: 0.9785\n",
      "Epoch 18/100\n",
      "375/375 [==============================] - 3s 9ms/step - loss: 0.0032 - accuracy: 0.9990 - val_loss: 0.1713 - val_accuracy: 0.9804\n",
      "Epoch 19/100\n",
      "375/375 [==============================] - 3s 7ms/step - loss: 0.0026 - accuracy: 0.9991 - val_loss: 0.2073 - val_accuracy: 0.9771\n",
      "Epoch 20/100\n",
      "375/375 [==============================] - 4s 11ms/step - loss: 0.0044 - accuracy: 0.9989 - val_loss: 0.2020 - val_accuracy: 0.9801\n",
      "Epoch 21/100\n",
      "375/375 [==============================] - 3s 8ms/step - loss: 0.0030 - accuracy: 0.9992 - val_loss: 0.2228 - val_accuracy: 0.9781\n",
      "Epoch 22/100\n",
      "375/375 [==============================] - 4s 10ms/step - loss: 0.0028 - accuracy: 0.9991 - val_loss: 0.2080 - val_accuracy: 0.9789\n",
      "Epoch 23/100\n",
      "375/375 [==============================] - 3s 7ms/step - loss: 0.0032 - accuracy: 0.9991 - val_loss: 0.2099 - val_accuracy: 0.9795\n",
      "Epoch 24/100\n",
      "375/375 [==============================] - 3s 7ms/step - loss: 0.0033 - accuracy: 0.9991 - val_loss: 0.2237 - val_accuracy: 0.9789\n",
      "Epoch 25/100\n",
      "375/375 [==============================] - 4s 10ms/step - loss: 0.0027 - accuracy: 0.9992 - val_loss: 0.2428 - val_accuracy: 0.9786\n",
      "Epoch 26/100\n",
      "375/375 [==============================] - 3s 7ms/step - loss: 0.0027 - accuracy: 0.9994 - val_loss: 0.2129 - val_accuracy: 0.9803\n",
      "Epoch 27/100\n",
      "375/375 [==============================] - 4s 11ms/step - loss: 0.0019 - accuracy: 0.9993 - val_loss: 0.2253 - val_accuracy: 0.9800\n",
      "Epoch 28/100\n",
      "375/375 [==============================] - 3s 7ms/step - loss: 0.0027 - accuracy: 0.9992 - val_loss: 0.2271 - val_accuracy: 0.9808\n",
      "Epoch 29/100\n",
      "375/375 [==============================] - 4s 11ms/step - loss: 0.0023 - accuracy: 0.9994 - val_loss: 0.2492 - val_accuracy: 0.9793\n",
      "Epoch 30/100\n",
      "375/375 [==============================] - 1s 4ms/step - loss: 0.0022 - accuracy: 0.9995 - val_loss: 0.2537 - val_accuracy: 0.9796\n",
      "Epoch 31/100\n",
      "375/375 [==============================] - 1s 4ms/step - loss: 0.0030 - accuracy: 0.9993 - val_loss: 0.2431 - val_accuracy: 0.9791\n",
      "Epoch 32/100\n",
      "375/375 [==============================] - 1s 4ms/step - loss: 0.0011 - accuracy: 0.9997 - val_loss: 0.2324 - val_accuracy: 0.9808\n",
      "Epoch 33/100\n",
      "375/375 [==============================] - 1s 4ms/step - loss: 0.0018 - accuracy: 0.9995 - val_loss: 0.2660 - val_accuracy: 0.9790\n",
      "Epoch 34/100\n",
      "375/375 [==============================] - 1s 4ms/step - loss: 0.0017 - accuracy: 0.9995 - val_loss: 0.2789 - val_accuracy: 0.9775\n",
      "Epoch 35/100\n",
      "375/375 [==============================] - 1s 4ms/step - loss: 0.0024 - accuracy: 0.9994 - val_loss: 0.2974 - val_accuracy: 0.9783\n",
      "Epoch 36/100\n",
      "375/375 [==============================] - 1s 4ms/step - loss: 0.0024 - accuracy: 0.9991 - val_loss: 0.2633 - val_accuracy: 0.9807\n",
      "Epoch 37/100\n",
      "375/375 [==============================] - 1s 4ms/step - loss: 0.0019 - accuracy: 0.9995 - val_loss: 0.3063 - val_accuracy: 0.9783\n",
      "Epoch 38/100\n",
      "375/375 [==============================] - 1s 4ms/step - loss: 0.0024 - accuracy: 0.9994 - val_loss: 0.2724 - val_accuracy: 0.9804\n",
      "Epoch 39/100\n",
      "375/375 [==============================] - 1s 4ms/step - loss: 0.0016 - accuracy: 0.9996 - val_loss: 0.3029 - val_accuracy: 0.9768\n",
      "Epoch 40/100\n",
      "375/375 [==============================] - 1s 4ms/step - loss: 0.0021 - accuracy: 0.9995 - val_loss: 0.3040 - val_accuracy: 0.9794\n",
      "Epoch 41/100\n",
      "375/375 [==============================] - 1s 4ms/step - loss: 0.0017 - accuracy: 0.9995 - val_loss: 0.3101 - val_accuracy: 0.9779\n",
      "Epoch 42/100\n",
      "375/375 [==============================] - 1s 4ms/step - loss: 0.0028 - accuracy: 0.9993 - val_loss: 0.3221 - val_accuracy: 0.9786\n",
      "Epoch 43/100\n",
      "375/375 [==============================] - 1s 4ms/step - loss: 0.0031 - accuracy: 0.9994 - val_loss: 0.2797 - val_accuracy: 0.9790\n",
      "Epoch 44/100\n",
      "375/375 [==============================] - 1s 4ms/step - loss: 0.0024 - accuracy: 0.9994 - val_loss: 0.2940 - val_accuracy: 0.9793\n",
      "Epoch 45/100\n",
      "375/375 [==============================] - 1s 4ms/step - loss: 0.0010 - accuracy: 0.9997 - val_loss: 0.2818 - val_accuracy: 0.9812\n",
      "Epoch 46/100\n",
      "375/375 [==============================] - 1s 4ms/step - loss: 0.0019 - accuracy: 0.9995 - val_loss: 0.3123 - val_accuracy: 0.9784\n",
      "Epoch 47/100\n",
      "375/375 [==============================] - 1s 4ms/step - loss: 0.0011 - accuracy: 0.9996 - val_loss: 0.3276 - val_accuracy: 0.9793\n",
      "Epoch 48/100\n",
      "375/375 [==============================] - 1s 4ms/step - loss: 8.8169e-04 - accuracy: 0.9997 - val_loss: 0.2927 - val_accuracy: 0.9796\n",
      "Epoch 49/100\n",
      "375/375 [==============================] - 1s 4ms/step - loss: 0.0014 - accuracy: 0.9996 - val_loss: 0.2829 - val_accuracy: 0.9808\n",
      "Epoch 50/100\n",
      "375/375 [==============================] - 1s 4ms/step - loss: 0.0018 - accuracy: 0.9996 - val_loss: 0.3540 - val_accuracy: 0.9786\n",
      "Epoch 51/100\n",
      "375/375 [==============================] - 1s 4ms/step - loss: 0.0016 - accuracy: 0.9996 - val_loss: 0.3084 - val_accuracy: 0.9792\n",
      "Epoch 52/100\n",
      "375/375 [==============================] - 1s 4ms/step - loss: 0.0010 - accuracy: 0.9997 - val_loss: 0.3357 - val_accuracy: 0.9799\n",
      "Epoch 53/100\n",
      "375/375 [==============================] - 1s 4ms/step - loss: 0.0028 - accuracy: 0.9995 - val_loss: 0.3106 - val_accuracy: 0.9797\n",
      "Epoch 54/100\n",
      "375/375 [==============================] - 1s 4ms/step - loss: 0.0012 - accuracy: 0.9997 - val_loss: 0.4133 - val_accuracy: 0.9755\n",
      "Epoch 55/100\n",
      "375/375 [==============================] - 1s 4ms/step - loss: 4.4309e-04 - accuracy: 0.9998 - val_loss: 0.3163 - val_accuracy: 0.9806\n",
      "Epoch 56/100\n",
      "375/375 [==============================] - 1s 4ms/step - loss: 8.6711e-04 - accuracy: 0.9998 - val_loss: 0.3315 - val_accuracy: 0.9812\n",
      "Epoch 57/100\n",
      "375/375 [==============================] - 1s 4ms/step - loss: 0.0024 - accuracy: 0.9997 - val_loss: 0.3454 - val_accuracy: 0.9795\n"
     ]
    },
    {
     "name": "stdout",
     "output_type": "stream",
     "text": [
      "Epoch 58/100\n",
      "375/375 [==============================] - 1s 4ms/step - loss: 8.2332e-04 - accuracy: 0.9998 - val_loss: 0.3488 - val_accuracy: 0.9808\n",
      "Epoch 59/100\n",
      "375/375 [==============================] - 1s 4ms/step - loss: 0.0017 - accuracy: 0.9996 - val_loss: 0.3481 - val_accuracy: 0.9808\n",
      "Epoch 60/100\n",
      "375/375 [==============================] - 1s 4ms/step - loss: 0.0011 - accuracy: 0.9998 - val_loss: 0.3418 - val_accuracy: 0.9803\n",
      "Epoch 61/100\n",
      "375/375 [==============================] - 1s 4ms/step - loss: 0.0014 - accuracy: 0.9998 - val_loss: 0.3499 - val_accuracy: 0.9787\n",
      "Epoch 62/100\n",
      "375/375 [==============================] - 1s 4ms/step - loss: 7.0204e-04 - accuracy: 0.9998 - val_loss: 0.3343 - val_accuracy: 0.9806\n",
      "Epoch 63/100\n",
      "375/375 [==============================] - 1s 4ms/step - loss: 6.5298e-04 - accuracy: 0.9998 - val_loss: 0.3351 - val_accuracy: 0.9797\n",
      "Epoch 64/100\n",
      "375/375 [==============================] - 1s 4ms/step - loss: 6.6346e-04 - accuracy: 0.9999 - val_loss: 0.3422 - val_accuracy: 0.9817\n",
      "Epoch 65/100\n",
      "375/375 [==============================] - 1s 4ms/step - loss: 0.0013 - accuracy: 0.9998 - val_loss: 0.3527 - val_accuracy: 0.9804\n",
      "Epoch 66/100\n",
      "375/375 [==============================] - 1s 4ms/step - loss: 0.0020 - accuracy: 0.9996 - val_loss: 0.3698 - val_accuracy: 0.9787\n",
      "Epoch 67/100\n",
      "375/375 [==============================] - 1s 4ms/step - loss: 0.0018 - accuracy: 0.9997 - val_loss: 0.3533 - val_accuracy: 0.9792\n",
      "Epoch 68/100\n",
      "375/375 [==============================] - 1s 4ms/step - loss: 4.5940e-04 - accuracy: 0.9998 - val_loss: 0.3618 - val_accuracy: 0.9803\n",
      "Epoch 69/100\n",
      "375/375 [==============================] - 1s 4ms/step - loss: 7.7428e-04 - accuracy: 0.9998 - val_loss: 0.3538 - val_accuracy: 0.9806\n",
      "Epoch 70/100\n",
      "375/375 [==============================] - 1s 4ms/step - loss: 0.0010 - accuracy: 0.9998 - val_loss: 0.3585 - val_accuracy: 0.9806\n",
      "Epoch 71/100\n",
      "375/375 [==============================] - 1s 4ms/step - loss: 9.5946e-04 - accuracy: 0.9998 - val_loss: 0.3452 - val_accuracy: 0.9813\n",
      "Epoch 72/100\n",
      "375/375 [==============================] - 1s 4ms/step - loss: 5.2532e-04 - accuracy: 0.9999 - val_loss: 0.3346 - val_accuracy: 0.9807\n",
      "Epoch 73/100\n",
      "375/375 [==============================] - 1s 4ms/step - loss: 0.0010 - accuracy: 0.9999 - val_loss: 0.3240 - val_accuracy: 0.9812\n",
      "Epoch 74/100\n",
      "375/375 [==============================] - 1s 4ms/step - loss: 4.2527e-04 - accuracy: 0.9999 - val_loss: 0.3831 - val_accuracy: 0.9793\n",
      "Epoch 75/100\n",
      "375/375 [==============================] - 1s 4ms/step - loss: 0.0011 - accuracy: 0.9998 - val_loss: 0.3439 - val_accuracy: 0.9812\n",
      "Epoch 76/100\n",
      "375/375 [==============================] - 1s 4ms/step - loss: 3.2043e-04 - accuracy: 1.0000 - val_loss: 0.3508 - val_accuracy: 0.9818\n",
      "Epoch 77/100\n",
      "375/375 [==============================] - 1s 4ms/step - loss: 0.0014 - accuracy: 0.9998 - val_loss: 0.3513 - val_accuracy: 0.9817\n",
      "Epoch 78/100\n",
      "375/375 [==============================] - 1s 4ms/step - loss: 5.3391e-04 - accuracy: 0.9999 - val_loss: 0.3595 - val_accuracy: 0.9812\n",
      "Epoch 79/100\n",
      "375/375 [==============================] - 1s 4ms/step - loss: 7.4545e-04 - accuracy: 0.9999 - val_loss: 0.3578 - val_accuracy: 0.9819\n",
      "Epoch 80/100\n",
      "375/375 [==============================] - 1s 4ms/step - loss: 6.2553e-04 - accuracy: 0.9999 - val_loss: 0.3722 - val_accuracy: 0.9794\n",
      "Epoch 81/100\n",
      "375/375 [==============================] - 1s 4ms/step - loss: 6.7213e-04 - accuracy: 0.9999 - val_loss: 0.3536 - val_accuracy: 0.9818\n",
      "Epoch 82/100\n",
      "375/375 [==============================] - 1s 4ms/step - loss: 1.1406e-04 - accuracy: 1.0000 - val_loss: 0.3684 - val_accuracy: 0.9811\n",
      "Epoch 83/100\n",
      "375/375 [==============================] - 1s 4ms/step - loss: 7.8527e-04 - accuracy: 0.9999 - val_loss: 0.3864 - val_accuracy: 0.9788\n",
      "Epoch 84/100\n",
      "375/375 [==============================] - 1s 4ms/step - loss: 7.7540e-04 - accuracy: 0.9999 - val_loss: 0.3542 - val_accuracy: 0.9804\n",
      "Epoch 85/100\n",
      "375/375 [==============================] - 1s 4ms/step - loss: 2.2294e-04 - accuracy: 0.9999 - val_loss: 0.3498 - val_accuracy: 0.9810\n",
      "Epoch 86/100\n",
      "375/375 [==============================] - 1s 4ms/step - loss: 7.6336e-04 - accuracy: 0.9998 - val_loss: 0.3590 - val_accuracy: 0.9817\n",
      "Epoch 87/100\n",
      "375/375 [==============================] - 1s 4ms/step - loss: 5.8888e-04 - accuracy: 0.9999 - val_loss: 0.4201 - val_accuracy: 0.9787\n",
      "Epoch 88/100\n",
      "375/375 [==============================] - 1s 4ms/step - loss: 5.8173e-04 - accuracy: 0.9999 - val_loss: 0.4207 - val_accuracy: 0.9788\n",
      "Epoch 89/100\n",
      "375/375 [==============================] - 1s 4ms/step - loss: 4.8791e-04 - accuracy: 0.9999 - val_loss: 0.3877 - val_accuracy: 0.9813\n",
      "Epoch 90/100\n",
      "375/375 [==============================] - 1s 4ms/step - loss: 0.0011 - accuracy: 0.9998 - val_loss: 0.3920 - val_accuracy: 0.9805\n",
      "Epoch 91/100\n",
      "375/375 [==============================] - 1s 4ms/step - loss: 3.1062e-04 - accuracy: 0.9999 - val_loss: 0.4158 - val_accuracy: 0.9810\n",
      "Epoch 92/100\n",
      "375/375 [==============================] - 1s 4ms/step - loss: 2.3459e-04 - accuracy: 1.0000 - val_loss: 0.3988 - val_accuracy: 0.9809\n",
      "Epoch 93/100\n",
      "375/375 [==============================] - 1s 4ms/step - loss: 2.9106e-04 - accuracy: 0.9999 - val_loss: 0.4059 - val_accuracy: 0.9813\n",
      "Epoch 94/100\n",
      "375/375 [==============================] - 1s 4ms/step - loss: 2.7029e-04 - accuracy: 0.9999 - val_loss: 0.4298 - val_accuracy: 0.9794\n",
      "Epoch 95/100\n",
      "375/375 [==============================] - 1s 4ms/step - loss: 8.1378e-04 - accuracy: 0.9998 - val_loss: 0.4010 - val_accuracy: 0.9802\n",
      "Epoch 96/100\n",
      "375/375 [==============================] - 1s 4ms/step - loss: 6.3215e-05 - accuracy: 1.0000 - val_loss: 0.4027 - val_accuracy: 0.9797\n",
      "Epoch 97/100\n",
      "375/375 [==============================] - 1s 4ms/step - loss: 5.9757e-04 - accuracy: 0.9999 - val_loss: 0.4348 - val_accuracy: 0.9803\n",
      "Epoch 98/100\n",
      "375/375 [==============================] - 1s 4ms/step - loss: 8.0505e-04 - accuracy: 0.9999 - val_loss: 0.4264 - val_accuracy: 0.9800\n",
      "Epoch 99/100\n",
      "375/375 [==============================] - 1s 4ms/step - loss: 0.0012 - accuracy: 0.9998 - val_loss: 0.4305 - val_accuracy: 0.9793\n",
      "Epoch 100/100\n",
      "375/375 [==============================] - 1s 4ms/step - loss: 0.0012 - accuracy: 0.9998 - val_loss: 0.4213 - val_accuracy: 0.9797\n",
      "Wall time: 2min 43s\n"
     ]
    }
   ],
   "source": [
    "%%time\n",
    "\n",
    "Hist_mnist = mnist.fit(X_train, y_train,\n",
    "                       epochs = 100,\n",
    "                       batch_size = 128,\n",
    "                       validation_split = 0.2)"
   ]
  },
  {
   "cell_type": "markdown",
   "metadata": {
    "id": "FnnIyFtNKhbD"
   },
   "source": [
    "> ## 4) 학습 결과 시각화 - Overfitting"
   ]
  },
  {
   "cell_type": "markdown",
   "metadata": {
    "id": "YgXRhVauKqOm"
   },
   "source": [
    "* Loss Visualization"
   ]
  },
  {
   "cell_type": "code",
   "execution_count": 18,
   "metadata": {
    "colab": {
     "base_uri": "https://localhost:8080/",
     "height": 404
    },
    "id": "OQ4ke8BbKi50",
    "outputId": "1dc61c87-da5f-4d44-c6ad-f00358bafb4a"
   },
   "outputs": [
    {
     "data": {
      "image/png": "[encoded data removed]",
      "text/plain": [
       "<Figure size 648x432 with 1 Axes>"
      ]
     },
     "metadata": {
      "needs_background": "light"
     },
     "output_type": "display_data"
    }
   ],
   "source": [
    "import matplotlib.pyplot as plt\n",
    "\n",
    "epochs = range(1, len(Hist_mnist.history['loss']) + 1)\n",
    "\n",
    "plt.figure(figsize = (9, 6))\n",
    "plt.plot(epochs, Hist_mnist.history['loss'])\n",
    "plt.plot(epochs, Hist_mnist.history['val_loss'])\n",
    "# plt.ylim(0, 0.25)\n",
    "plt.title('Training & Validation Loss')\n",
    "plt.xlabel('Epochs')\n",
    "plt.ylabel('Loss')\n",
    "plt.legend(['Training Loss', 'Validation Loss'])\n",
    "plt.grid()\n",
    "plt.show()"
   ]
  },
  {
   "cell_type": "markdown",
   "metadata": {
    "id": "_uJSOLBko7lh"
   },
   "source": [
    "> ## 5) Model Evaluate"
   ]
  },
  {
   "cell_type": "markdown",
   "metadata": {
    "id": "i-TqAB2ALGzZ"
   },
   "source": [
    "* Loss & Accuracy"
   ]
  },
  {
   "cell_type": "code",
   "execution_count": 19,
   "metadata": {
    "colab": {
     "base_uri": "https://localhost:8080/"
    },
    "id": "OF30PuZsAxQJ",
    "outputId": "fe3d4e54-ce9f-4d1d-efb2-e429a83f630d"
   },
   "outputs": [
    {
     "name": "stdout",
     "output_type": "stream",
     "text": [
      "313/313 [==============================] - 0s 2ms/step - loss: 0.3705 - accuracy: 0.9822\n",
      "Loss = 0.37048\n",
      "Accuracy = 0.98220\n"
     ]
    }
   ],
   "source": [
    "loss, accuracy = mnist.evaluate(X_test, y_test)\n",
    "\n",
    "print('Loss = {:.5f}'.format(loss))\n",
    "print('Accuracy = {:.5f}'.format(accuracy))"
   ]
  },
  {
   "cell_type": "markdown",
   "metadata": {
    "id": "1PRY6gAXo_PX"
   },
   "source": [
    "> ## 6) Model Predict"
   ]
  },
  {
   "cell_type": "markdown",
   "metadata": {
    "id": "M_pFxK4PLjxX"
   },
   "source": [
    "* Probability"
   ]
  },
  {
   "cell_type": "code",
   "execution_count": 20,
   "metadata": {
    "colab": {
     "base_uri": "https://localhost:8080/"
    },
    "id": "vCdPbgU1ajoV",
    "outputId": "07440c28-2e75-46d9-cde1-8c640148efa2"
   },
   "outputs": [
    {
     "name": "stdout",
     "output_type": "stream",
     "text": [
      "[[0. 0. 0. 0. 0. 0. 0. 1. 0. 0.]]\n"
     ]
    }
   ],
   "source": [
    "np.set_printoptions(suppress = True, precision = 9)\n",
    "\n",
    "print(mnist.predict(X_test[:1,:]))"
   ]
  },
  {
   "cell_type": "markdown",
   "metadata": {
    "id": "V10JgtGdLmKb"
   },
   "source": [
    "* Class"
   ]
  },
  {
   "cell_type": "code",
   "execution_count": 21,
   "metadata": {
    "colab": {
     "base_uri": "https://localhost:8080/"
    },
    "id": "xW6AhMK9a7RK",
    "outputId": "e3719b42-18ee-48ba-802a-9bc1b551eb47"
   },
   "outputs": [
    {
     "name": "stdout",
     "output_type": "stream",
     "text": [
      "[7]\n"
     ]
    }
   ],
   "source": [
    "print(mnist.predict_classes(X_test[:1,:]))"
   ]
  }
 ],
 "metadata": {
  "accelerator": "GPU",
  "colab": {
   "collapsed_sections": [],
   "name": "600_DNN_mnist_Categorical_Classification_HeNormal_GPU.ipynb",
   "provenance": []
  },
  "kernelspec": {
   "display_name": "Python tf25",
   "language": "python",
   "name": "tf25"
  },
  "language_info": {
   "codemirror_mode": {
    "name": "ipython",
    "version": 3
   },
   "file_extension": ".py",
   "mimetype": "text/x-python",
   "name": "python",
   "nbconvert_exporter": "python",
   "pygments_lexer": "ipython3",
   "version": "3.8.8"
  }
 },
 "nbformat": 4,
 "nbformat_minor": 1
}
