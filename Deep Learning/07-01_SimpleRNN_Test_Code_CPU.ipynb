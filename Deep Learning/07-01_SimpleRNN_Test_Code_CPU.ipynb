{
 "cells": [
  {
   "cell_type": "markdown",
   "metadata": {
    "id": "tkemTfz3W_Gi"
   },
   "source": [
    "# SimpleRNN Test Code"
   ]
  },
  {
   "cell_type": "code",
   "execution_count": 1,
   "metadata": {
    "executionInfo": {
     "elapsed": 1133,
     "status": "ok",
     "timestamp": 1628230220186,
     "user": {
      "displayName": "이정구",
      "photoUrl": "https://lh3.googleusercontent.com/a-/AOh14Ggor3yxeAY0Qx9DjT3OgE5Kvg17x7ah3qRpGUHVgQ=s64",
      "userId": "06746815733591865358"
     },
     "user_tz": -540
    },
    "id": "RbPgODpVzdHI"
   },
   "outputs": [],
   "source": [
    "import warnings\n",
    "warnings.filterwarnings('ignore')"
   ]
  },
  {
   "cell_type": "markdown",
   "metadata": {
    "id": "Eo5KBp-nyU-R"
   },
   "source": [
    "> ## Import Packages"
   ]
  },
  {
   "cell_type": "code",
   "execution_count": 2,
   "metadata": {
    "executionInfo": {
     "elapsed": 43,
     "status": "ok",
     "timestamp": 1628230220187,
     "user": {
      "displayName": "이정구",
      "photoUrl": "https://lh3.googleusercontent.com/a-/AOh14Ggor3yxeAY0Qx9DjT3OgE5Kvg17x7ah3qRpGUHVgQ=s64",
      "userId": "06746815733591865358"
     },
     "user_tz": -540
    },
    "id": "TwaPRMasmzkR"
   },
   "outputs": [],
   "source": [
    "import numpy as np\n",
    "import matplotlib.pyplot as plt"
   ]
  },
  {
   "cell_type": "markdown",
   "metadata": {
    "id": "NBh49fKTXjYm"
   },
   "source": [
    "# I. SimpleRNN - without Normalization"
   ]
  },
  {
   "cell_type": "markdown",
   "metadata": {
    "id": "6Vo9X1J0Xr5w"
   },
   "source": [
    "> ## 1) Sample Data"
   ]
  },
  {
   "cell_type": "markdown",
   "metadata": {
    "id": "-sxOSU7zVcpI"
   },
   "source": [
    "* Inputs 데이터 생성(100, 5, 1)"
   ]
  },
  {
   "cell_type": "code",
   "execution_count": 3,
   "metadata": {
    "colab": {
     "base_uri": "https://localhost:8080/"
    },
    "executionInfo": {
     "elapsed": 41,
     "status": "ok",
     "timestamp": 1628230220188,
     "user": {
      "displayName": "이정구",
      "photoUrl": "https://lh3.googleusercontent.com/a-/AOh14Ggor3yxeAY0Qx9DjT3OgE5Kvg17x7ah3qRpGUHVgQ=s64",
      "userId": "06746815733591865358"
     },
     "user_tz": -540
    },
    "id": "N7g_fKvum6zg",
    "outputId": "18c1725e-a7cb-4097-91e7-7ef3873acf5c"
   },
   "outputs": [
    {
     "data": {
      "text/plain": [
       "([[[0], [1], [2], [3], [4]],\n",
       "  [[1], [2], [3], [4], [5]],\n",
       "  [[2], [3], [4], [5], [6]]],\n",
       " [[[97], [98], [99], [100], [101]],\n",
       "  [[98], [99], [100], [101], [102]],\n",
       "  [[99], [100], [101], [102], [103]]])"
      ]
     },
     "execution_count": 3,
     "metadata": {
      "tags": []
     },
     "output_type": "execute_result"
    }
   ],
   "source": [
    "X = [[[i + j] for i in range(5)] for j in range(100)]\n",
    "\n",
    "X[:3], X[-3:]"
   ]
  },
  {
   "cell_type": "markdown",
   "metadata": {
    "id": "mAeCUO3JVelB"
   },
   "source": [
    "* Outputs 데이터 생성(100, 1)"
   ]
  },
  {
   "cell_type": "code",
   "execution_count": 4,
   "metadata": {
    "colab": {
     "base_uri": "https://localhost:8080/"
    },
    "executionInfo": {
     "elapsed": 32,
     "status": "ok",
     "timestamp": 1628230220189,
     "user": {
      "displayName": "이정구",
      "photoUrl": "https://lh3.googleusercontent.com/a-/AOh14Ggor3yxeAY0Qx9DjT3OgE5Kvg17x7ah3qRpGUHVgQ=s64",
      "userId": "06746815733591865358"
     },
     "user_tz": -540
    },
    "id": "HR_yI8rYnEML",
    "outputId": "31b04c6e-b22d-4ef2-f6dd-8a9a84ed0a61"
   },
   "outputs": [
    {
     "data": {
      "text/plain": [
       "([5, 6, 7], [102, 103, 104])"
      ]
     },
     "execution_count": 4,
     "metadata": {
      "tags": []
     },
     "output_type": "execute_result"
    }
   ],
   "source": [
    "y = [(i + 5) for i in range(100)]\n",
    "\n",
    "y[:3], y[-3:]"
   ]
  },
  {
   "cell_type": "markdown",
   "metadata": {
    "id": "B3dYsrZOXvv2"
   },
   "source": [
    "> ## 2) numpy_Array Casting"
   ]
  },
  {
   "cell_type": "code",
   "execution_count": 5,
   "metadata": {
    "colab": {
     "base_uri": "https://localhost:8080/"
    },
    "executionInfo": {
     "elapsed": 25,
     "status": "ok",
     "timestamp": 1628230220189,
     "user": {
      "displayName": "이정구",
      "photoUrl": "https://lh3.googleusercontent.com/a-/AOh14Ggor3yxeAY0Qx9DjT3OgE5Kvg17x7ah3qRpGUHVgQ=s64",
      "userId": "06746815733591865358"
     },
     "user_tz": -540
    },
    "id": "dnE9lNpqnF88",
    "outputId": "069910c3-9395-431f-b2db-0e3b6bf78d4b"
   },
   "outputs": [
    {
     "data": {
      "text/plain": [
       "((100, 5, 1), (100,))"
      ]
     },
     "execution_count": 5,
     "metadata": {
      "tags": []
     },
     "output_type": "execute_result"
    }
   ],
   "source": [
    "X = np.array(X, dtype = float)\n",
    "y = np.array(y, dtype = float)\n",
    "\n",
    "X.shape, y.shape"
   ]
  },
  {
   "cell_type": "markdown",
   "metadata": {
    "id": "V1ZhEfMKX4Q9"
   },
   "source": [
    "> ## 3) Train vs. Test Split\n",
    "\n",
    "* 80:20"
   ]
  },
  {
   "cell_type": "code",
   "execution_count": 6,
   "metadata": {
    "colab": {
     "base_uri": "https://localhost:8080/"
    },
    "executionInfo": {
     "elapsed": 19,
     "status": "ok",
     "timestamp": 1628230220190,
     "user": {
      "displayName": "이정구",
      "photoUrl": "https://lh3.googleusercontent.com/a-/AOh14Ggor3yxeAY0Qx9DjT3OgE5Kvg17x7ah3qRpGUHVgQ=s64",
      "userId": "06746815733591865358"
     },
     "user_tz": -540
    },
    "id": "C9LWIycfnNVX",
    "outputId": "b615ea19-be72-4a55-857a-515f72be4ae0"
   },
   "outputs": [
    {
     "data": {
      "text/plain": [
       "((80, 5, 1), (80,), (20, 5, 1), (20,))"
      ]
     },
     "execution_count": 6,
     "metadata": {
      "tags": []
     },
     "output_type": "execute_result"
    }
   ],
   "source": [
    "from sklearn.model_selection import train_test_split\n",
    "\n",
    "X_train, X_test, y_train, y_test = train_test_split(X, y, \n",
    "                                                    test_size = 0.2, \n",
    "                                                    random_state = 2045)\n",
    "\n",
    "X_train.shape, y_train.shape, X_test.shape, y_test.shape"
   ]
  },
  {
   "cell_type": "markdown",
   "metadata": {
    "id": "WMBdgjGjYCeu"
   },
   "source": [
    "> ## 4) Keras SimpleRNN Modeling"
   ]
  },
  {
   "cell_type": "markdown",
   "metadata": {
    "id": "BPs3K2QuWd22"
   },
   "source": [
    "### (1) Model Define & Summary\n",
    "* Unit(output_dim) : 3\n",
    "* input_shape(input_lenght, input_dim) : (5, 1)\n",
    "* return_sequences = False : 최종 Unit만 출력\n",
    "* layers.Dense(1) : y_hat\n"
   ]
  },
  {
   "cell_type": "code",
   "execution_count": 7,
   "metadata": {
    "colab": {
     "base_uri": "https://localhost:8080/"
    },
    "executionInfo": {
     "elapsed": 2110,
     "status": "ok",
     "timestamp": 1628230222287,
     "user": {
      "displayName": "이정구",
      "photoUrl": "https://lh3.googleusercontent.com/a-/AOh14Ggor3yxeAY0Qx9DjT3OgE5Kvg17x7ah3qRpGUHVgQ=s64",
      "userId": "06746815733591865358"
     },
     "user_tz": -540
    },
    "id": "82kOjSL0nRys",
    "outputId": "87e74c2b-129b-4848-f0d8-9aa9dc3104c4"
   },
   "outputs": [
    {
     "name": "stdout",
     "output_type": "stream",
     "text": [
      "Model: \"SimpleRNN_1\"\n",
      "_________________________________________________________________\n",
      "Layer (type)                 Output Shape              Param #   \n",
      "=================================================================\n",
      "simple_rnn (SimpleRNN)       (None, 3)                 15        \n",
      "_________________________________________________________________\n",
      "dense (Dense)                (None, 1)                 4         \n",
      "=================================================================\n",
      "Total params: 19\n",
      "Trainable params: 19\n",
      "Non-trainable params: 0\n",
      "_________________________________________________________________\n"
     ]
    }
   ],
   "source": [
    "from tensorflow.keras import models, layers\n",
    "\n",
    "model_1 = models.Sequential(name = 'SimpleRNN_1')\n",
    "model_1.add(layers.SimpleRNN(3,\n",
    "                             input_shape = (5, 1), \n",
    "                             return_sequences = False))\n",
    "model_1.add(layers.Dense(1))\n",
    "\n",
    "model_1.summary()"
   ]
  },
  {
   "cell_type": "markdown",
   "metadata": {
    "id": "_9psJ9flW_-p"
   },
   "source": [
    "### (2) Model Compile"
   ]
  },
  {
   "cell_type": "code",
   "execution_count": 8,
   "metadata": {
    "executionInfo": {
     "elapsed": 10,
     "status": "ok",
     "timestamp": 1628230222288,
     "user": {
      "displayName": "이정구",
      "photoUrl": "https://lh3.googleusercontent.com/a-/AOh14Ggor3yxeAY0Qx9DjT3OgE5Kvg17x7ah3qRpGUHVgQ=s64",
      "userId": "06746815733591865358"
     },
     "user_tz": -540
    },
    "id": "W9uS8PVhn5jf"
   },
   "outputs": [],
   "source": [
    "model_1.compile(loss = 'mse', \n",
    "                optimizer = 'adam', \n",
    "                metrics = ['accuracy'])"
   ]
  },
  {
   "cell_type": "markdown",
   "metadata": {
    "id": "KbsrGbhVXKIL"
   },
   "source": [
    "### (3) Model Fit"
   ]
  },
  {
   "cell_type": "code",
   "execution_count": 9,
   "metadata": {
    "colab": {
     "base_uri": "https://localhost:8080/"
    },
    "executionInfo": {
     "elapsed": 4333,
     "status": "ok",
     "timestamp": 1628230226613,
     "user": {
      "displayName": "이정구",
      "photoUrl": "https://lh3.googleusercontent.com/a-/AOh14Ggor3yxeAY0Qx9DjT3OgE5Kvg17x7ah3qRpGUHVgQ=s64",
      "userId": "06746815733591865358"
     },
     "user_tz": -540
    },
    "id": "P6ngOaHmn8eD",
    "outputId": "4decf806-c8d1-45b0-ec5f-5862d3c7c5c8"
   },
   "outputs": [
    {
     "name": "stdout",
     "output_type": "stream",
     "text": [
      "Epoch 1/100\n",
      "10/10 [==============================] - 1s 23ms/step - loss: 3832.3774 - accuracy: 0.0000e+00 - val_loss: 3785.4563 - val_accuracy: 0.0000e+00\n",
      "Epoch 2/100\n",
      "10/10 [==============================] - 0s 3ms/step - loss: 3828.0750 - accuracy: 0.0000e+00 - val_loss: 3781.0769 - val_accuracy: 0.0000e+00\n",
      "Epoch 3/100\n",
      "10/10 [==============================] - 0s 3ms/step - loss: 3823.7681 - accuracy: 0.0000e+00 - val_loss: 3776.7227 - val_accuracy: 0.0000e+00\n",
      "Epoch 4/100\n",
      "10/10 [==============================] - 0s 3ms/step - loss: 3819.5579 - accuracy: 0.0000e+00 - val_loss: 3772.3352 - val_accuracy: 0.0000e+00\n",
      "Epoch 5/100\n",
      "10/10 [==============================] - 0s 3ms/step - loss: 3815.3059 - accuracy: 0.0000e+00 - val_loss: 3767.9819 - val_accuracy: 0.0000e+00\n",
      "Epoch 6/100\n",
      "10/10 [==============================] - 0s 3ms/step - loss: 3810.9539 - accuracy: 0.0000e+00 - val_loss: 3763.7253 - val_accuracy: 0.0000e+00\n",
      "Epoch 7/100\n",
      "10/10 [==============================] - 0s 3ms/step - loss: 3806.7305 - accuracy: 0.0000e+00 - val_loss: 3759.4282 - val_accuracy: 0.0000e+00\n",
      "Epoch 8/100\n",
      "10/10 [==============================] - 0s 3ms/step - loss: 3802.4995 - accuracy: 0.0000e+00 - val_loss: 3755.1016 - val_accuracy: 0.0000e+00\n",
      "Epoch 9/100\n",
      "10/10 [==============================] - 0s 3ms/step - loss: 3798.2422 - accuracy: 0.0000e+00 - val_loss: 3750.7891 - val_accuracy: 0.0000e+00\n",
      "Epoch 10/100\n",
      "10/10 [==============================] - 0s 3ms/step - loss: 3794.0554 - accuracy: 0.0000e+00 - val_loss: 3746.4263 - val_accuracy: 0.0000e+00\n",
      "Epoch 11/100\n",
      "10/10 [==============================] - 0s 3ms/step - loss: 3789.7456 - accuracy: 0.0000e+00 - val_loss: 3742.1216 - val_accuracy: 0.0000e+00\n",
      "Epoch 12/100\n",
      "10/10 [==============================] - 0s 3ms/step - loss: 3785.5288 - accuracy: 0.0000e+00 - val_loss: 3737.8003 - val_accuracy: 0.0000e+00\n",
      "Epoch 13/100\n",
      "10/10 [==============================] - 0s 3ms/step - loss: 3781.3098 - accuracy: 0.0000e+00 - val_loss: 3733.4668 - val_accuracy: 0.0000e+00\n",
      "Epoch 14/100\n",
      "10/10 [==============================] - 0s 3ms/step - loss: 3777.0266 - accuracy: 0.0000e+00 - val_loss: 3729.1890 - val_accuracy: 0.0000e+00\n",
      "Epoch 15/100\n",
      "10/10 [==============================] - 0s 3ms/step - loss: 3772.7996 - accuracy: 0.0000e+00 - val_loss: 3724.9094 - val_accuracy: 0.0000e+00\n",
      "Epoch 16/100\n",
      "10/10 [==============================] - 0s 3ms/step - loss: 3768.6040 - accuracy: 0.0000e+00 - val_loss: 3720.6040 - val_accuracy: 0.0000e+00\n",
      "Epoch 17/100\n",
      "10/10 [==============================] - 0s 3ms/step - loss: 3764.2651 - accuracy: 0.0000e+00 - val_loss: 3716.4121 - val_accuracy: 0.0000e+00\n",
      "Epoch 18/100\n",
      "10/10 [==============================] - 0s 3ms/step - loss: 3760.1206 - accuracy: 0.0000e+00 - val_loss: 3712.1399 - val_accuracy: 0.0000e+00\n",
      "Epoch 19/100\n",
      "10/10 [==============================] - 0s 3ms/step - loss: 3755.8816 - accuracy: 0.0000e+00 - val_loss: 3707.8899 - val_accuracy: 0.0000e+00\n",
      "Epoch 20/100\n",
      "10/10 [==============================] - 0s 3ms/step - loss: 3751.7695 - accuracy: 0.0000e+00 - val_loss: 3703.5430 - val_accuracy: 0.0000e+00\n",
      "Epoch 21/100\n",
      "10/10 [==============================] - 0s 4ms/step - loss: 3747.5649 - accuracy: 0.0000e+00 - val_loss: 3699.1941 - val_accuracy: 0.0000e+00\n",
      "Epoch 22/100\n",
      "10/10 [==============================] - 0s 3ms/step - loss: 3743.3372 - accuracy: 0.0000e+00 - val_loss: 3694.8711 - val_accuracy: 0.0000e+00\n",
      "Epoch 23/100\n",
      "10/10 [==============================] - 0s 3ms/step - loss: 3739.0898 - accuracy: 0.0000e+00 - val_loss: 3690.5845 - val_accuracy: 0.0000e+00\n",
      "Epoch 24/100\n",
      "10/10 [==============================] - 0s 3ms/step - loss: 3734.6946 - accuracy: 0.0000e+00 - val_loss: 3686.4570 - val_accuracy: 0.0000e+00\n",
      "Epoch 25/100\n",
      "10/10 [==============================] - 0s 3ms/step - loss: 3730.7117 - accuracy: 0.0000e+00 - val_loss: 3681.9702 - val_accuracy: 0.0000e+00\n",
      "Epoch 26/100\n",
      "10/10 [==============================] - 0s 3ms/step - loss: 3726.0242 - accuracy: 0.0000e+00 - val_loss: 3676.9265 - val_accuracy: 0.0000e+00\n",
      "Epoch 27/100\n",
      "10/10 [==============================] - 0s 3ms/step - loss: 3718.5103 - accuracy: 0.0000e+00 - val_loss: 3658.8892 - val_accuracy: 0.0000e+00\n",
      "Epoch 28/100\n",
      "10/10 [==============================] - 0s 3ms/step - loss: 3689.4192 - accuracy: 0.0000e+00 - val_loss: 3630.9641 - val_accuracy: 0.0000e+00\n",
      "Epoch 29/100\n",
      "10/10 [==============================] - 0s 3ms/step - loss: 3675.4668 - accuracy: 0.0000e+00 - val_loss: 3625.5833 - val_accuracy: 0.0000e+00\n",
      "Epoch 30/100\n",
      "10/10 [==============================] - 0s 3ms/step - loss: 3670.9192 - accuracy: 0.0000e+00 - val_loss: 3621.4985 - val_accuracy: 0.0000e+00\n",
      "Epoch 31/100\n",
      "10/10 [==============================] - 0s 3ms/step - loss: 3666.9741 - accuracy: 0.0000e+00 - val_loss: 3617.2671 - val_accuracy: 0.0000e+00\n",
      "Epoch 32/100\n",
      "10/10 [==============================] - 0s 3ms/step - loss: 3662.7124 - accuracy: 0.0000e+00 - val_loss: 3613.2000 - val_accuracy: 0.0000e+00\n",
      "Epoch 33/100\n",
      "10/10 [==============================] - 0s 3ms/step - loss: 3658.8042 - accuracy: 0.0000e+00 - val_loss: 3608.9302 - val_accuracy: 0.0000e+00\n",
      "Epoch 34/100\n",
      "10/10 [==============================] - 0s 3ms/step - loss: 3654.6196 - accuracy: 0.0000e+00 - val_loss: 3604.7493 - val_accuracy: 0.0000e+00\n",
      "Epoch 35/100\n",
      "10/10 [==============================] - 0s 3ms/step - loss: 3650.6414 - accuracy: 0.0000e+00 - val_loss: 3600.4656 - val_accuracy: 0.0000e+00\n",
      "Epoch 36/100\n",
      "10/10 [==============================] - 0s 3ms/step - loss: 3646.4336 - accuracy: 0.0000e+00 - val_loss: 3596.2969 - val_accuracy: 0.0000e+00\n",
      "Epoch 37/100\n",
      "10/10 [==============================] - 0s 3ms/step - loss: 3642.2488 - accuracy: 0.0000e+00 - val_loss: 3592.2195 - val_accuracy: 0.0000e+00\n",
      "Epoch 38/100\n",
      "10/10 [==============================] - 0s 3ms/step - loss: 3638.2329 - accuracy: 0.0000e+00 - val_loss: 3588.0710 - val_accuracy: 0.0000e+00\n",
      "Epoch 39/100\n",
      "10/10 [==============================] - 0s 3ms/step - loss: 3634.0542 - accuracy: 0.0000e+00 - val_loss: 3584.0156 - val_accuracy: 0.0000e+00\n",
      "Epoch 40/100\n",
      "10/10 [==============================] - 0s 3ms/step - loss: 3630.0266 - accuracy: 0.0000e+00 - val_loss: 3579.8992 - val_accuracy: 0.0000e+00\n",
      "Epoch 41/100\n",
      "10/10 [==============================] - 0s 3ms/step - loss: 3626.0730 - accuracy: 0.0000e+00 - val_loss: 3575.6587 - val_accuracy: 0.0000e+00\n",
      "Epoch 42/100\n",
      "10/10 [==============================] - 0s 3ms/step - loss: 3621.9778 - accuracy: 0.0000e+00 - val_loss: 3571.4453 - val_accuracy: 0.0000e+00\n",
      "Epoch 43/100\n",
      "10/10 [==============================] - 0s 3ms/step - loss: 3617.8379 - accuracy: 0.0000e+00 - val_loss: 3567.3013 - val_accuracy: 0.0000e+00\n",
      "Epoch 44/100\n",
      "10/10 [==============================] - 0s 3ms/step - loss: 3613.7219 - accuracy: 0.0000e+00 - val_loss: 3563.2063 - val_accuracy: 0.0000e+00\n",
      "Epoch 45/100\n",
      "10/10 [==============================] - 0s 3ms/step - loss: 3609.7180 - accuracy: 0.0000e+00 - val_loss: 3559.0515 - val_accuracy: 0.0000e+00\n",
      "Epoch 46/100\n",
      "10/10 [==============================] - 0s 3ms/step - loss: 3605.5591 - accuracy: 0.0000e+00 - val_loss: 3554.9968 - val_accuracy: 0.0000e+00\n",
      "Epoch 47/100\n",
      "10/10 [==============================] - 0s 4ms/step - loss: 3601.5144 - accuracy: 0.0000e+00 - val_loss: 3550.9246 - val_accuracy: 0.0000e+00\n",
      "Epoch 48/100\n",
      "10/10 [==============================] - 0s 3ms/step - loss: 3597.4512 - accuracy: 0.0000e+00 - val_loss: 3546.8586 - val_accuracy: 0.0000e+00\n",
      "Epoch 49/100\n",
      "10/10 [==============================] - 0s 3ms/step - loss: 3593.5684 - accuracy: 0.0000e+00 - val_loss: 3542.6262 - val_accuracy: 0.0000e+00\n",
      "Epoch 50/100\n",
      "10/10 [==============================] - 0s 3ms/step - loss: 3589.4524 - accuracy: 0.0000e+00 - val_loss: 3538.4668 - val_accuracy: 0.0000e+00\n",
      "Epoch 51/100\n",
      "10/10 [==============================] - 0s 3ms/step - loss: 3585.2690 - accuracy: 0.0000e+00 - val_loss: 3534.4492 - val_accuracy: 0.0000e+00\n",
      "Epoch 52/100\n",
      "10/10 [==============================] - 0s 3ms/step - loss: 3581.3320 - accuracy: 0.0000e+00 - val_loss: 3530.3276 - val_accuracy: 0.0000e+00\n",
      "Epoch 53/100\n",
      "10/10 [==============================] - 0s 4ms/step - loss: 3577.3491 - accuracy: 0.0000e+00 - val_loss: 3526.1575 - val_accuracy: 0.0000e+00\n",
      "Epoch 54/100\n",
      "10/10 [==============================] - 0s 3ms/step - loss: 3573.3098 - accuracy: 0.0000e+00 - val_loss: 3522.0046 - val_accuracy: 0.0000e+00\n",
      "Epoch 55/100\n",
      "10/10 [==============================] - 0s 3ms/step - loss: 3569.1140 - accuracy: 0.0000e+00 - val_loss: 3518.0210 - val_accuracy: 0.0000e+00\n",
      "Epoch 56/100\n",
      "10/10 [==============================] - 0s 4ms/step - loss: 3565.2390 - accuracy: 0.0000e+00 - val_loss: 3513.8892 - val_accuracy: 0.0000e+00\n",
      "Epoch 57/100\n",
      "10/10 [==============================] - 0s 3ms/step - loss: 3561.2031 - accuracy: 0.0000e+00 - val_loss: 3509.7805 - val_accuracy: 0.0000e+00\n",
      "Epoch 58/100\n",
      "10/10 [==============================] - 0s 3ms/step - loss: 3557.0813 - accuracy: 0.0000e+00 - val_loss: 3505.7812 - val_accuracy: 0.0000e+00\n",
      "Epoch 59/100\n",
      "10/10 [==============================] - 0s 3ms/step - loss: 3553.1860 - accuracy: 0.0000e+00 - val_loss: 3501.6680 - val_accuracy: 0.0000e+00\n",
      "Epoch 60/100\n",
      "10/10 [==============================] - 0s 3ms/step - loss: 3549.0337 - accuracy: 0.0000e+00 - val_loss: 3497.7046 - val_accuracy: 0.0000e+00\n",
      "Epoch 61/100\n",
      "10/10 [==============================] - 0s 3ms/step - loss: 3545.1646 - accuracy: 0.0000e+00 - val_loss: 3493.6016 - val_accuracy: 0.0000e+00\n",
      "Epoch 62/100\n",
      "10/10 [==============================] - 0s 3ms/step - loss: 3541.1094 - accuracy: 0.0000e+00 - val_loss: 3489.5586 - val_accuracy: 0.0000e+00\n",
      "Epoch 63/100\n",
      "10/10 [==============================] - 0s 3ms/step - loss: 3537.1731 - accuracy: 0.0000e+00 - val_loss: 3485.4583 - val_accuracy: 0.0000e+00\n",
      "Epoch 64/100\n",
      "10/10 [==============================] - 0s 3ms/step - loss: 3533.1868 - accuracy: 0.0000e+00 - val_loss: 3481.3569 - val_accuracy: 0.0000e+00\n",
      "Epoch 65/100\n",
      "10/10 [==============================] - 0s 3ms/step - loss: 3529.1431 - accuracy: 0.0000e+00 - val_loss: 3477.3149 - val_accuracy: 0.0000e+00\n",
      "Epoch 66/100\n",
      "10/10 [==============================] - 0s 3ms/step - loss: 3525.1484 - accuracy: 0.0000e+00 - val_loss: 3473.2859 - val_accuracy: 0.0000e+00\n",
      "Epoch 67/100\n",
      "10/10 [==============================] - 0s 3ms/step - loss: 3521.2332 - accuracy: 0.0000e+00 - val_loss: 3469.2058 - val_accuracy: 0.0000e+00\n",
      "Epoch 68/100\n",
      "10/10 [==============================] - 0s 3ms/step - loss: 3517.1655 - accuracy: 0.0000e+00 - val_loss: 3465.2183 - val_accuracy: 0.0000e+00\n",
      "Epoch 69/100\n",
      "10/10 [==============================] - 0s 3ms/step - loss: 3513.1882 - accuracy: 0.0000e+00 - val_loss: 3461.2422 - val_accuracy: 0.0000e+00\n",
      "Epoch 70/100\n",
      "10/10 [==============================] - 0s 3ms/step - loss: 3509.3132 - accuracy: 0.0000e+00 - val_loss: 3457.1758 - val_accuracy: 0.0000e+00\n",
      "Epoch 71/100\n",
      "10/10 [==============================] - 0s 4ms/step - loss: 3505.3301 - accuracy: 0.0000e+00 - val_loss: 3453.1382 - val_accuracy: 0.0000e+00\n",
      "Epoch 72/100\n",
      "10/10 [==============================] - 0s 3ms/step - loss: 3501.4504 - accuracy: 0.0000e+00 - val_loss: 3449.0337 - val_accuracy: 0.0000e+00\n",
      "Epoch 73/100\n",
      "10/10 [==============================] - 0s 3ms/step - loss: 3497.4624 - accuracy: 0.0000e+00 - val_loss: 3444.9727 - val_accuracy: 0.0000e+00\n",
      "Epoch 74/100\n",
      "10/10 [==============================] - 0s 3ms/step - loss: 3493.3723 - accuracy: 0.0000e+00 - val_loss: 3441.0598 - val_accuracy: 0.0000e+00\n",
      "Epoch 75/100\n",
      "10/10 [==============================] - 0s 3ms/step - loss: 3489.5774 - accuracy: 0.0000e+00 - val_loss: 3437.0046 - val_accuracy: 0.0000e+00\n",
      "Epoch 76/100\n",
      "10/10 [==============================] - 0s 3ms/step - loss: 3485.4805 - accuracy: 0.0000e+00 - val_loss: 3433.1172 - val_accuracy: 0.0000e+00\n",
      "Epoch 77/100\n",
      "10/10 [==============================] - 0s 3ms/step - loss: 3481.7383 - accuracy: 0.0000e+00 - val_loss: 3429.0391 - val_accuracy: 0.0000e+00\n",
      "Epoch 78/100\n",
      "10/10 [==============================] - 0s 4ms/step - loss: 3477.7148 - accuracy: 0.0000e+00 - val_loss: 3425.0591 - val_accuracy: 0.0000e+00\n",
      "Epoch 79/100\n",
      "10/10 [==============================] - 0s 3ms/step - loss: 3473.8020 - accuracy: 0.0000e+00 - val_loss: 3421.0742 - val_accuracy: 0.0000e+00\n",
      "Epoch 80/100\n",
      "10/10 [==============================] - 0s 4ms/step - loss: 3469.9153 - accuracy: 0.0000e+00 - val_loss: 3417.0625 - val_accuracy: 0.0000e+00\n",
      "Epoch 81/100\n",
      "10/10 [==============================] - 0s 3ms/step - loss: 3465.9087 - accuracy: 0.0000e+00 - val_loss: 3413.1450 - val_accuracy: 0.0000e+00\n",
      "Epoch 82/100\n",
      "10/10 [==============================] - 0s 4ms/step - loss: 3462.0815 - accuracy: 0.0000e+00 - val_loss: 3409.1453 - val_accuracy: 0.0000e+00\n",
      "Epoch 83/100\n",
      "10/10 [==============================] - 0s 3ms/step - loss: 3458.1782 - accuracy: 0.0000e+00 - val_loss: 3405.1477 - val_accuracy: 0.0000e+00\n",
      "Epoch 84/100\n",
      "10/10 [==============================] - 0s 3ms/step - loss: 3454.1567 - accuracy: 0.0000e+00 - val_loss: 3401.2739 - val_accuracy: 0.0000e+00\n",
      "Epoch 85/100\n",
      "10/10 [==============================] - 0s 3ms/step - loss: 3450.3823 - accuracy: 0.0000e+00 - val_loss: 3397.2734 - val_accuracy: 0.0000e+00\n",
      "Epoch 86/100\n",
      "10/10 [==============================] - 0s 3ms/step - loss: 3446.4922 - accuracy: 0.0000e+00 - val_loss: 3393.2759 - val_accuracy: 0.0000e+00\n",
      "Epoch 87/100\n",
      "10/10 [==============================] - 0s 3ms/step - loss: 3442.5337 - accuracy: 0.0000e+00 - val_loss: 3389.3508 - val_accuracy: 0.0000e+00\n",
      "Epoch 88/100\n",
      "10/10 [==============================] - 0s 4ms/step - loss: 3438.6216 - accuracy: 0.0000e+00 - val_loss: 3385.4551 - val_accuracy: 0.0000e+00\n",
      "Epoch 89/100\n",
      "10/10 [==============================] - 0s 3ms/step - loss: 3434.8433 - accuracy: 0.0000e+00 - val_loss: 3381.4585 - val_accuracy: 0.0000e+00\n",
      "Epoch 90/100\n",
      "10/10 [==============================] - 0s 3ms/step - loss: 3431.0261 - accuracy: 0.0000e+00 - val_loss: 3377.4116 - val_accuracy: 0.0000e+00\n",
      "Epoch 91/100\n",
      "10/10 [==============================] - 0s 4ms/step - loss: 3427.0059 - accuracy: 0.0000e+00 - val_loss: 3373.5110 - val_accuracy: 0.0000e+00\n",
      "Epoch 92/100\n",
      "10/10 [==============================] - 0s 3ms/step - loss: 3423.1023 - accuracy: 0.0000e+00 - val_loss: 3369.6492 - val_accuracy: 0.0000e+00\n",
      "Epoch 93/100\n",
      "10/10 [==============================] - 0s 3ms/step - loss: 3419.3442 - accuracy: 0.0000e+00 - val_loss: 3365.6821 - val_accuracy: 0.0000e+00\n",
      "Epoch 94/100\n",
      "10/10 [==============================] - 0s 3ms/step - loss: 3415.4629 - accuracy: 0.0000e+00 - val_loss: 3361.7397 - val_accuracy: 0.0000e+00\n",
      "Epoch 95/100\n",
      "10/10 [==============================] - 0s 3ms/step - loss: 3411.5461 - accuracy: 0.0000e+00 - val_loss: 3357.8618 - val_accuracy: 0.0000e+00\n",
      "Epoch 96/100\n",
      "10/10 [==============================] - 0s 3ms/step - loss: 3407.6953 - accuracy: 0.0000e+00 - val_loss: 3353.9858 - val_accuracy: 0.0000e+00\n",
      "Epoch 97/100\n",
      "10/10 [==============================] - 0s 4ms/step - loss: 3403.8367 - accuracy: 0.0000e+00 - val_loss: 3350.1257 - val_accuracy: 0.0000e+00\n",
      "Epoch 98/100\n",
      "10/10 [==============================] - 0s 3ms/step - loss: 3400.0488 - accuracy: 0.0000e+00 - val_loss: 3346.2085 - val_accuracy: 0.0000e+00\n",
      "Epoch 99/100\n",
      "10/10 [==============================] - 0s 3ms/step - loss: 3396.2368 - accuracy: 0.0000e+00 - val_loss: 3342.2664 - val_accuracy: 0.0000e+00\n",
      "Epoch 100/100\n",
      "10/10 [==============================] - 0s 3ms/step - loss: 3392.3853 - accuracy: 0.0000e+00 - val_loss: 3338.3438 - val_accuracy: 0.0000e+00\n"
     ]
    }
   ],
   "source": [
    "Hist_1 = model_1.fit(X_train, y_train,\n",
    "                     epochs = 100,\n",
    "                     batch_size = 8,\n",
    "                     validation_data = (X_test, y_test))"
   ]
  },
  {
   "cell_type": "markdown",
   "metadata": {
    "id": "x6vJTt5uXZA4"
   },
   "source": [
    "### (4) Model Predict"
   ]
  },
  {
   "cell_type": "code",
   "execution_count": 10,
   "metadata": {
    "executionInfo": {
     "elapsed": 26,
     "status": "ok",
     "timestamp": 1628230226614,
     "user": {
      "displayName": "이정구",
      "photoUrl": "https://lh3.googleusercontent.com/a-/AOh14Ggor3yxeAY0Qx9DjT3OgE5Kvg17x7ah3qRpGUHVgQ=s64",
      "userId": "06746815733591865358"
     },
     "user_tz": -540
    },
    "id": "lDWmmJ4-oBBA"
   },
   "outputs": [],
   "source": [
    "y_hat = model_1.predict(X_test)"
   ]
  },
  {
   "cell_type": "markdown",
   "metadata": {
    "id": "4RtFt5o2Xf0l"
   },
   "source": [
    "### (5) 학습 결과 시각화\n",
    "\n",
    "* Loss 감소"
   ]
  },
  {
   "cell_type": "code",
   "execution_count": 11,
   "metadata": {
    "colab": {
     "base_uri": "https://localhost:8080/",
     "height": 265
    },
    "executionInfo": {
     "elapsed": 1186,
     "status": "ok",
     "timestamp": 1628230227778,
     "user": {
      "displayName": "이정구",
      "photoUrl": "https://lh3.googleusercontent.com/a-/AOh14Ggor3yxeAY0Qx9DjT3OgE5Kvg17x7ah3qRpGUHVgQ=s64",
      "userId": "06746815733591865358"
     },
     "user_tz": -540
    },
    "id": "aJlzed81oJ6C",
    "outputId": "a3f992dd-6024-4375-cf31-8cc0c208d4c3"
   },
   "outputs": [
    {
     "data": {
      "image/png": "[encoded data removed]",
      "text/plain": [
       "<Figure size 432x288 with 1 Axes>"
      ]
     },
     "metadata": {
      "needs_background": "light",
      "tags": []
     },
     "output_type": "display_data"
    }
   ],
   "source": [
    "plt.plot(Hist_1.history['loss'])\n",
    "plt.show()"
   ]
  },
  {
   "cell_type": "markdown",
   "metadata": {
    "id": "igordmx1ol1T"
   },
   "source": [
    "* 학습 되지 않음\n",
    " * 녹색 -> 정답(y_test)\n",
    " * 적색 -> 예측(y_hat)"
   ]
  },
  {
   "cell_type": "code",
   "execution_count": 12,
   "metadata": {
    "colab": {
     "base_uri": "https://localhost:8080/",
     "height": 265
    },
    "executionInfo": {
     "elapsed": 58,
     "status": "ok",
     "timestamp": 1628230227780,
     "user": {
      "displayName": "이정구",
      "photoUrl": "https://lh3.googleusercontent.com/a-/AOh14Ggor3yxeAY0Qx9DjT3OgE5Kvg17x7ah3qRpGUHVgQ=s64",
      "userId": "06746815733591865358"
     },
     "user_tz": -540
    },
    "id": "hp4i845-oFN-",
    "outputId": "0939d5da-a18a-419a-d52c-14c6eb3f4378"
   },
   "outputs": [
    {
     "data": {
      "image/png": "[encoded data removed]",
      "text/plain": [
       "<Figure size 432x288 with 1 Axes>"
      ]
     },
     "metadata": {
      "needs_background": "light",
      "tags": []
     },
     "output_type": "display_data"
    }
   ],
   "source": [
    "plt.scatter(range(20), y_test, c = 'g')\n",
    "plt.scatter(range(20), y_hat, c = 'r')\n",
    "plt.show()"
   ]
  },
  {
   "cell_type": "markdown",
   "metadata": {
    "id": "Iil7fEZioLfa"
   },
   "source": [
    "# II. SimpleRNN - with Normalization"
   ]
  },
  {
   "cell_type": "markdown",
   "metadata": {
    "id": "EbtJIiBGXzwq"
   },
   "source": [
    "> ## 1) Sample Data - with Normalization"
   ]
  },
  {
   "cell_type": "code",
   "execution_count": 13,
   "metadata": {
    "executionInfo": {
     "elapsed": 53,
     "status": "ok",
     "timestamp": 1628230227782,
     "user": {
      "displayName": "이정구",
      "photoUrl": "https://lh3.googleusercontent.com/a-/AOh14Ggor3yxeAY0Qx9DjT3OgE5Kvg17x7ah3qRpGUHVgQ=s64",
      "userId": "06746815733591865358"
     },
     "user_tz": -540
    },
    "id": "38nYJQMMoKi9"
   },
   "outputs": [],
   "source": [
    "X = [[[(i + j)] for i in range(5)] for j in range(100)]\n",
    "y = [(i + 5) for i in range(100)]\n",
    "\n",
    "X = (X - np.min(X)) / (np.max(X) - np.min(X))\n",
    "y = (y - np.min(y)) / (np.max(y) - np.min(y))"
   ]
  },
  {
   "cell_type": "markdown",
   "metadata": {
    "id": "nhSmCp9XX576"
   },
   "source": [
    "> ## 2) Casting"
   ]
  },
  {
   "cell_type": "code",
   "execution_count": 14,
   "metadata": {
    "colab": {
     "base_uri": "https://localhost:8080/"
    },
    "executionInfo": {
     "elapsed": 55,
     "status": "ok",
     "timestamp": 1628230227785,
     "user": {
      "displayName": "이정구",
      "photoUrl": "https://lh3.googleusercontent.com/a-/AOh14Ggor3yxeAY0Qx9DjT3OgE5Kvg17x7ah3qRpGUHVgQ=s64",
      "userId": "06746815733591865358"
     },
     "user_tz": -540
    },
    "id": "da_SQ_33oQVd",
    "outputId": "4dbfceee-3ec6-4946-aac5-0b64426a8746"
   },
   "outputs": [
    {
     "data": {
      "text/plain": [
       "((100, 5, 1), (100,))"
      ]
     },
     "execution_count": 14,
     "metadata": {
      "tags": []
     },
     "output_type": "execute_result"
    }
   ],
   "source": [
    "X = np.array(X, dtype = float)\n",
    "y = np.array(y, dtype = float)\n",
    "\n",
    "X.shape, y.shape"
   ]
  },
  {
   "cell_type": "markdown",
   "metadata": {
    "id": "kgNmkRIYYEKb"
   },
   "source": [
    "> ## 3) Train vs. Test Split"
   ]
  },
  {
   "cell_type": "code",
   "execution_count": 15,
   "metadata": {
    "colab": {
     "base_uri": "https://localhost:8080/"
    },
    "executionInfo": {
     "elapsed": 48,
     "status": "ok",
     "timestamp": 1628230227788,
     "user": {
      "displayName": "이정구",
      "photoUrl": "https://lh3.googleusercontent.com/a-/AOh14Ggor3yxeAY0Qx9DjT3OgE5Kvg17x7ah3qRpGUHVgQ=s64",
      "userId": "06746815733591865358"
     },
     "user_tz": -540
    },
    "id": "JTTFoM3moV1v",
    "outputId": "8c4b705f-6785-4ed1-8053-40492128a1ed"
   },
   "outputs": [
    {
     "data": {
      "text/plain": [
       "((80, 5, 1), (80,), (20, 5, 1), (20,))"
      ]
     },
     "execution_count": 15,
     "metadata": {
      "tags": []
     },
     "output_type": "execute_result"
    }
   ],
   "source": [
    "X_train, X_test, y_train, y_test = train_test_split(X, y, \n",
    "                                                    test_size = 0.2, \n",
    "                                                    random_state = 2045)\n",
    "\n",
    "X_train.shape, y_train.shape, X_test.shape, y_test.shape"
   ]
  },
  {
   "cell_type": "markdown",
   "metadata": {
    "id": "1IwlEXGSYJdK"
   },
   "source": [
    "> ## 4) Keras SimpleRNN Modeling"
   ]
  },
  {
   "cell_type": "markdown",
   "metadata": {
    "id": "N8GJwNBgptDM"
   },
   "source": [
    "### (1) Model Define & Summary\n",
    "* None : input_length 자동 맞춤\n"
   ]
  },
  {
   "cell_type": "code",
   "execution_count": 16,
   "metadata": {
    "colab": {
     "base_uri": "https://localhost:8080/"
    },
    "executionInfo": {
     "elapsed": 44,
     "status": "ok",
     "timestamp": 1628230227790,
     "user": {
      "displayName": "이정구",
      "photoUrl": "https://lh3.googleusercontent.com/a-/AOh14Ggor3yxeAY0Qx9DjT3OgE5Kvg17x7ah3qRpGUHVgQ=s64",
      "userId": "06746815733591865358"
     },
     "user_tz": -540
    },
    "id": "C-8rlTxxoaJE",
    "outputId": "2a17abba-b291-4503-a1c3-24a50a389b87"
   },
   "outputs": [
    {
     "name": "stdout",
     "output_type": "stream",
     "text": [
      "Model: \"SimpleRNN_2\"\n",
      "_________________________________________________________________\n",
      "Layer (type)                 Output Shape              Param #   \n",
      "=================================================================\n",
      "simple_rnn_1 (SimpleRNN)     (None, 3)                 15        \n",
      "_________________________________________________________________\n",
      "dense_1 (Dense)              (None, 1)                 4         \n",
      "=================================================================\n",
      "Total params: 19\n",
      "Trainable params: 19\n",
      "Non-trainable params: 0\n",
      "_________________________________________________________________\n"
     ]
    }
   ],
   "source": [
    "model_2 = models.Sequential(name = 'SimpleRNN_2')\n",
    "model_2.add(layers.SimpleRNN(3,\n",
    "                             input_shape = (None, 1), \n",
    "                             return_sequences = False))\n",
    "model_2.add(layers.Dense(1))\n",
    "\n",
    "model_2.summary()"
   ]
  },
  {
   "cell_type": "markdown",
   "metadata": {
    "id": "cLo0GvICp4iA"
   },
   "source": [
    "### (2) Model Compile"
   ]
  },
  {
   "cell_type": "code",
   "execution_count": 17,
   "metadata": {
    "executionInfo": {
     "elapsed": 38,
     "status": "ok",
     "timestamp": 1628230227792,
     "user": {
      "displayName": "이정구",
      "photoUrl": "https://lh3.googleusercontent.com/a-/AOh14Ggor3yxeAY0Qx9DjT3OgE5Kvg17x7ah3qRpGUHVgQ=s64",
      "userId": "06746815733591865358"
     },
     "user_tz": -540
    },
    "id": "nKX3lA1SosIL"
   },
   "outputs": [],
   "source": [
    "model_2.compile(loss = 'mse', \n",
    "                optimizer = 'adam', \n",
    "                metrics = ['accuracy'])"
   ]
  },
  {
   "cell_type": "markdown",
   "metadata": {
    "id": "W72kWHErp7Mx"
   },
   "source": [
    "### (3) Model Fit"
   ]
  },
  {
   "cell_type": "code",
   "execution_count": 18,
   "metadata": {
    "colab": {
     "base_uri": "https://localhost:8080/"
    },
    "executionInfo": {
     "elapsed": 4076,
     "status": "ok",
     "timestamp": 1628230231831,
     "user": {
      "displayName": "이정구",
      "photoUrl": "https://lh3.googleusercontent.com/a-/AOh14Ggor3yxeAY0Qx9DjT3OgE5Kvg17x7ah3qRpGUHVgQ=s64",
      "userId": "06746815733591865358"
     },
     "user_tz": -540
    },
    "id": "1C9e6JlYoiUf",
    "outputId": "bc1f4744-a46d-49fe-bbe7-353dc32d1825"
   },
   "outputs": [
    {
     "name": "stdout",
     "output_type": "stream",
     "text": [
      "Epoch 1/100\n",
      "10/10 [==============================] - 1s 20ms/step - loss: 0.0346 - accuracy: 0.0250 - val_loss: 0.0244 - val_accuracy: 0.0000e+00\n",
      "Epoch 2/100\n",
      "10/10 [==============================] - 0s 3ms/step - loss: 0.0245 - accuracy: 0.0250 - val_loss: 0.0190 - val_accuracy: 0.0000e+00\n",
      "Epoch 3/100\n",
      "10/10 [==============================] - 0s 3ms/step - loss: 0.0204 - accuracy: 0.0250 - val_loss: 0.0168 - val_accuracy: 0.0000e+00\n",
      "Epoch 4/100\n",
      "10/10 [==============================] - 0s 3ms/step - loss: 0.0180 - accuracy: 0.0250 - val_loss: 0.0146 - val_accuracy: 0.0000e+00\n",
      "Epoch 5/100\n",
      "10/10 [==============================] - 0s 3ms/step - loss: 0.0154 - accuracy: 0.0250 - val_loss: 0.0124 - val_accuracy: 0.0000e+00\n",
      "Epoch 6/100\n",
      "10/10 [==============================] - 0s 3ms/step - loss: 0.0129 - accuracy: 0.0250 - val_loss: 0.0105 - val_accuracy: 0.0000e+00\n",
      "Epoch 7/100\n",
      "10/10 [==============================] - 0s 3ms/step - loss: 0.0109 - accuracy: 0.0250 - val_loss: 0.0089 - val_accuracy: 0.0000e+00\n",
      "Epoch 8/100\n",
      "10/10 [==============================] - 0s 3ms/step - loss: 0.0093 - accuracy: 0.0250 - val_loss: 0.0077 - val_accuracy: 0.0000e+00\n",
      "Epoch 9/100\n",
      "10/10 [==============================] - 0s 3ms/step - loss: 0.0078 - accuracy: 0.0250 - val_loss: 0.0067 - val_accuracy: 0.0000e+00\n",
      "Epoch 10/100\n",
      "10/10 [==============================] - 0s 3ms/step - loss: 0.0068 - accuracy: 0.0250 - val_loss: 0.0060 - val_accuracy: 0.0000e+00\n",
      "Epoch 11/100\n",
      "10/10 [==============================] - 0s 3ms/step - loss: 0.0061 - accuracy: 0.0250 - val_loss: 0.0055 - val_accuracy: 0.0000e+00\n",
      "Epoch 12/100\n",
      "10/10 [==============================] - 0s 3ms/step - loss: 0.0055 - accuracy: 0.0250 - val_loss: 0.0051 - val_accuracy: 0.0000e+00\n",
      "Epoch 13/100\n",
      "10/10 [==============================] - 0s 3ms/step - loss: 0.0052 - accuracy: 0.0250 - val_loss: 0.0048 - val_accuracy: 0.0000e+00\n",
      "Epoch 14/100\n",
      "10/10 [==============================] - 0s 3ms/step - loss: 0.0049 - accuracy: 0.0250 - val_loss: 0.0047 - val_accuracy: 0.0000e+00\n",
      "Epoch 15/100\n",
      "10/10 [==============================] - 0s 3ms/step - loss: 0.0048 - accuracy: 0.0250 - val_loss: 0.0045 - val_accuracy: 0.0000e+00\n",
      "Epoch 16/100\n",
      "10/10 [==============================] - 0s 3ms/step - loss: 0.0046 - accuracy: 0.0250 - val_loss: 0.0043 - val_accuracy: 0.0000e+00\n",
      "Epoch 17/100\n",
      "10/10 [==============================] - 0s 3ms/step - loss: 0.0044 - accuracy: 0.0250 - val_loss: 0.0042 - val_accuracy: 0.0000e+00\n",
      "Epoch 18/100\n",
      "10/10 [==============================] - 0s 3ms/step - loss: 0.0043 - accuracy: 0.0250 - val_loss: 0.0042 - val_accuracy: 0.0000e+00\n",
      "Epoch 19/100\n",
      "10/10 [==============================] - 0s 5ms/step - loss: 0.0043 - accuracy: 0.0250 - val_loss: 0.0041 - val_accuracy: 0.0000e+00\n",
      "Epoch 20/100\n",
      "10/10 [==============================] - 0s 3ms/step - loss: 0.0041 - accuracy: 0.0250 - val_loss: 0.0038 - val_accuracy: 0.0000e+00\n",
      "Epoch 21/100\n",
      "10/10 [==============================] - 0s 3ms/step - loss: 0.0040 - accuracy: 0.0250 - val_loss: 0.0037 - val_accuracy: 0.0000e+00\n",
      "Epoch 22/100\n",
      "10/10 [==============================] - 0s 3ms/step - loss: 0.0040 - accuracy: 0.0250 - val_loss: 0.0038 - val_accuracy: 0.0000e+00\n",
      "Epoch 23/100\n",
      "10/10 [==============================] - 0s 3ms/step - loss: 0.0038 - accuracy: 0.0250 - val_loss: 0.0035 - val_accuracy: 0.0000e+00\n",
      "Epoch 24/100\n",
      "10/10 [==============================] - 0s 3ms/step - loss: 0.0037 - accuracy: 0.0250 - val_loss: 0.0034 - val_accuracy: 0.0000e+00\n",
      "Epoch 25/100\n",
      "10/10 [==============================] - 0s 4ms/step - loss: 0.0037 - accuracy: 0.0250 - val_loss: 0.0036 - val_accuracy: 0.0000e+00\n",
      "Epoch 26/100\n",
      "10/10 [==============================] - 0s 3ms/step - loss: 0.0035 - accuracy: 0.0250 - val_loss: 0.0032 - val_accuracy: 0.0000e+00\n",
      "Epoch 27/100\n",
      "10/10 [==============================] - 0s 5ms/step - loss: 0.0034 - accuracy: 0.0250 - val_loss: 0.0031 - val_accuracy: 0.0000e+00\n",
      "Epoch 28/100\n",
      "10/10 [==============================] - 0s 3ms/step - loss: 0.0033 - accuracy: 0.0250 - val_loss: 0.0031 - val_accuracy: 0.0000e+00\n",
      "Epoch 29/100\n",
      "10/10 [==============================] - 0s 3ms/step - loss: 0.0032 - accuracy: 0.0250 - val_loss: 0.0030 - val_accuracy: 0.0000e+00\n",
      "Epoch 30/100\n",
      "10/10 [==============================] - 0s 3ms/step - loss: 0.0031 - accuracy: 0.0250 - val_loss: 0.0028 - val_accuracy: 0.0000e+00\n",
      "Epoch 31/100\n",
      "10/10 [==============================] - 0s 4ms/step - loss: 0.0030 - accuracy: 0.0250 - val_loss: 0.0028 - val_accuracy: 0.0000e+00\n",
      "Epoch 32/100\n",
      "10/10 [==============================] - 0s 3ms/step - loss: 0.0029 - accuracy: 0.0250 - val_loss: 0.0028 - val_accuracy: 0.0000e+00\n",
      "Epoch 33/100\n",
      "10/10 [==============================] - 0s 3ms/step - loss: 0.0029 - accuracy: 0.0250 - val_loss: 0.0026 - val_accuracy: 0.0000e+00\n",
      "Epoch 34/100\n",
      "10/10 [==============================] - 0s 3ms/step - loss: 0.0027 - accuracy: 0.0250 - val_loss: 0.0026 - val_accuracy: 0.0000e+00\n",
      "Epoch 35/100\n",
      "10/10 [==============================] - 0s 3ms/step - loss: 0.0027 - accuracy: 0.0250 - val_loss: 0.0025 - val_accuracy: 0.0000e+00\n",
      "Epoch 36/100\n",
      "10/10 [==============================] - 0s 3ms/step - loss: 0.0026 - accuracy: 0.0250 - val_loss: 0.0024 - val_accuracy: 0.0000e+00\n",
      "Epoch 37/100\n",
      "10/10 [==============================] - 0s 3ms/step - loss: 0.0025 - accuracy: 0.0250 - val_loss: 0.0024 - val_accuracy: 0.0000e+00\n",
      "Epoch 38/100\n",
      "10/10 [==============================] - 0s 4ms/step - loss: 0.0025 - accuracy: 0.0250 - val_loss: 0.0022 - val_accuracy: 0.0000e+00\n",
      "Epoch 39/100\n",
      "10/10 [==============================] - 0s 3ms/step - loss: 0.0024 - accuracy: 0.0250 - val_loss: 0.0022 - val_accuracy: 0.0000e+00\n",
      "Epoch 40/100\n",
      "10/10 [==============================] - 0s 3ms/step - loss: 0.0023 - accuracy: 0.0250 - val_loss: 0.0021 - val_accuracy: 0.0000e+00\n",
      "Epoch 41/100\n",
      "10/10 [==============================] - 0s 4ms/step - loss: 0.0023 - accuracy: 0.0250 - val_loss: 0.0021 - val_accuracy: 0.0000e+00\n",
      "Epoch 42/100\n",
      "10/10 [==============================] - 0s 3ms/step - loss: 0.0022 - accuracy: 0.0250 - val_loss: 0.0021 - val_accuracy: 0.0000e+00\n",
      "Epoch 43/100\n",
      "10/10 [==============================] - 0s 3ms/step - loss: 0.0021 - accuracy: 0.0250 - val_loss: 0.0019 - val_accuracy: 0.0000e+00\n",
      "Epoch 44/100\n",
      "10/10 [==============================] - 0s 3ms/step - loss: 0.0021 - accuracy: 0.0250 - val_loss: 0.0019 - val_accuracy: 0.0000e+00\n",
      "Epoch 45/100\n",
      "10/10 [==============================] - 0s 3ms/step - loss: 0.0021 - accuracy: 0.0250 - val_loss: 0.0019 - val_accuracy: 0.0000e+00\n",
      "Epoch 46/100\n",
      "10/10 [==============================] - 0s 3ms/step - loss: 0.0020 - accuracy: 0.0250 - val_loss: 0.0017 - val_accuracy: 0.0000e+00\n",
      "Epoch 47/100\n",
      "10/10 [==============================] - 0s 3ms/step - loss: 0.0020 - accuracy: 0.0250 - val_loss: 0.0019 - val_accuracy: 0.0000e+00\n",
      "Epoch 48/100\n",
      "10/10 [==============================] - 0s 4ms/step - loss: 0.0018 - accuracy: 0.0250 - val_loss: 0.0016 - val_accuracy: 0.0000e+00\n",
      "Epoch 49/100\n",
      "10/10 [==============================] - 0s 3ms/step - loss: 0.0018 - accuracy: 0.0250 - val_loss: 0.0016 - val_accuracy: 0.0000e+00\n",
      "Epoch 50/100\n",
      "10/10 [==============================] - 0s 3ms/step - loss: 0.0017 - accuracy: 0.0250 - val_loss: 0.0016 - val_accuracy: 0.0000e+00\n",
      "Epoch 51/100\n",
      "10/10 [==============================] - 0s 3ms/step - loss: 0.0017 - accuracy: 0.0250 - val_loss: 0.0015 - val_accuracy: 0.0000e+00\n",
      "Epoch 52/100\n",
      "10/10 [==============================] - 0s 4ms/step - loss: 0.0017 - accuracy: 0.0250 - val_loss: 0.0014 - val_accuracy: 0.0000e+00\n",
      "Epoch 53/100\n",
      "10/10 [==============================] - 0s 4ms/step - loss: 0.0016 - accuracy: 0.0250 - val_loss: 0.0015 - val_accuracy: 0.0000e+00\n",
      "Epoch 54/100\n",
      "10/10 [==============================] - 0s 3ms/step - loss: 0.0016 - accuracy: 0.0250 - val_loss: 0.0014 - val_accuracy: 0.0000e+00\n",
      "Epoch 55/100\n",
      "10/10 [==============================] - 0s 4ms/step - loss: 0.0015 - accuracy: 0.0250 - val_loss: 0.0013 - val_accuracy: 0.0000e+00\n",
      "Epoch 56/100\n",
      "10/10 [==============================] - 0s 3ms/step - loss: 0.0015 - accuracy: 0.0250 - val_loss: 0.0014 - val_accuracy: 0.0000e+00\n",
      "Epoch 57/100\n",
      "10/10 [==============================] - 0s 3ms/step - loss: 0.0015 - accuracy: 0.0250 - val_loss: 0.0013 - val_accuracy: 0.0000e+00\n",
      "Epoch 58/100\n",
      "10/10 [==============================] - 0s 3ms/step - loss: 0.0014 - accuracy: 0.0250 - val_loss: 0.0012 - val_accuracy: 0.0000e+00\n",
      "Epoch 59/100\n",
      "10/10 [==============================] - 0s 3ms/step - loss: 0.0014 - accuracy: 0.0250 - val_loss: 0.0012 - val_accuracy: 0.0000e+00\n",
      "Epoch 60/100\n",
      "10/10 [==============================] - 0s 3ms/step - loss: 0.0014 - accuracy: 0.0250 - val_loss: 0.0012 - val_accuracy: 0.0000e+00\n",
      "Epoch 61/100\n",
      "10/10 [==============================] - 0s 5ms/step - loss: 0.0013 - accuracy: 0.0250 - val_loss: 0.0011 - val_accuracy: 0.0000e+00\n",
      "Epoch 62/100\n",
      "10/10 [==============================] - 0s 3ms/step - loss: 0.0013 - accuracy: 0.0250 - val_loss: 0.0011 - val_accuracy: 0.0000e+00\n",
      "Epoch 63/100\n",
      "10/10 [==============================] - 0s 3ms/step - loss: 0.0013 - accuracy: 0.0250 - val_loss: 0.0011 - val_accuracy: 0.0000e+00\n",
      "Epoch 64/100\n",
      "10/10 [==============================] - 0s 3ms/step - loss: 0.0012 - accuracy: 0.0250 - val_loss: 0.0011 - val_accuracy: 0.0000e+00\n",
      "Epoch 65/100\n",
      "10/10 [==============================] - 0s 3ms/step - loss: 0.0012 - accuracy: 0.0250 - val_loss: 0.0010 - val_accuracy: 0.0000e+00\n",
      "Epoch 66/100\n",
      "10/10 [==============================] - 0s 3ms/step - loss: 0.0012 - accuracy: 0.0250 - val_loss: 9.8507e-04 - val_accuracy: 0.0000e+00\n",
      "Epoch 67/100\n",
      "10/10 [==============================] - 0s 4ms/step - loss: 0.0011 - accuracy: 0.0250 - val_loss: 9.7453e-04 - val_accuracy: 0.0000e+00\n",
      "Epoch 68/100\n",
      "10/10 [==============================] - 0s 3ms/step - loss: 0.0011 - accuracy: 0.0250 - val_loss: 9.5215e-04 - val_accuracy: 0.0000e+00\n",
      "Epoch 69/100\n",
      "10/10 [==============================] - 0s 3ms/step - loss: 0.0011 - accuracy: 0.0250 - val_loss: 8.8888e-04 - val_accuracy: 0.0000e+00\n",
      "Epoch 70/100\n",
      "10/10 [==============================] - 0s 3ms/step - loss: 0.0010 - accuracy: 0.0250 - val_loss: 9.5557e-04 - val_accuracy: 0.0000e+00\n",
      "Epoch 71/100\n",
      "10/10 [==============================] - 0s 3ms/step - loss: 9.9129e-04 - accuracy: 0.0250 - val_loss: 8.3270e-04 - val_accuracy: 0.0000e+00\n",
      "Epoch 72/100\n",
      "10/10 [==============================] - 0s 3ms/step - loss: 0.0010 - accuracy: 0.0250 - val_loss: 8.4731e-04 - val_accuracy: 0.0000e+00\n",
      "Epoch 73/100\n",
      "10/10 [==============================] - 0s 3ms/step - loss: 9.5714e-04 - accuracy: 0.0250 - val_loss: 8.6495e-04 - val_accuracy: 0.0000e+00\n",
      "Epoch 74/100\n",
      "10/10 [==============================] - 0s 3ms/step - loss: 9.3853e-04 - accuracy: 0.0250 - val_loss: 7.6679e-04 - val_accuracy: 0.0000e+00\n",
      "Epoch 75/100\n",
      "10/10 [==============================] - 0s 3ms/step - loss: 9.0261e-04 - accuracy: 0.0250 - val_loss: 7.8212e-04 - val_accuracy: 0.0000e+00\n",
      "Epoch 76/100\n",
      "10/10 [==============================] - 0s 3ms/step - loss: 8.6742e-04 - accuracy: 0.0250 - val_loss: 7.3947e-04 - val_accuracy: 0.0000e+00\n",
      "Epoch 77/100\n",
      "10/10 [==============================] - 0s 3ms/step - loss: 8.5835e-04 - accuracy: 0.0250 - val_loss: 7.4203e-04 - val_accuracy: 0.0000e+00\n",
      "Epoch 78/100\n",
      "10/10 [==============================] - 0s 3ms/step - loss: 8.4659e-04 - accuracy: 0.0250 - val_loss: 6.9347e-04 - val_accuracy: 0.0000e+00\n",
      "Epoch 79/100\n",
      "10/10 [==============================] - 0s 3ms/step - loss: 8.1527e-04 - accuracy: 0.0250 - val_loss: 6.9897e-04 - val_accuracy: 0.0000e+00\n",
      "Epoch 80/100\n",
      "10/10 [==============================] - 0s 3ms/step - loss: 7.8913e-04 - accuracy: 0.0250 - val_loss: 6.7305e-04 - val_accuracy: 0.0000e+00\n",
      "Epoch 81/100\n",
      "10/10 [==============================] - 0s 3ms/step - loss: 7.7349e-04 - accuracy: 0.0250 - val_loss: 6.4461e-04 - val_accuracy: 0.0000e+00\n",
      "Epoch 82/100\n",
      "10/10 [==============================] - 0s 3ms/step - loss: 7.5624e-04 - accuracy: 0.0250 - val_loss: 6.3015e-04 - val_accuracy: 0.0000e+00\n",
      "Epoch 83/100\n",
      "10/10 [==============================] - 0s 3ms/step - loss: 7.3242e-04 - accuracy: 0.0250 - val_loss: 6.1939e-04 - val_accuracy: 0.0000e+00\n",
      "Epoch 84/100\n",
      "10/10 [==============================] - 0s 3ms/step - loss: 7.3008e-04 - accuracy: 0.0250 - val_loss: 5.9521e-04 - val_accuracy: 0.0000e+00\n",
      "Epoch 85/100\n",
      "10/10 [==============================] - 0s 3ms/step - loss: 6.9910e-04 - accuracy: 0.0250 - val_loss: 6.2461e-04 - val_accuracy: 0.0000e+00\n",
      "Epoch 86/100\n",
      "10/10 [==============================] - 0s 3ms/step - loss: 7.1582e-04 - accuracy: 0.0250 - val_loss: 5.5040e-04 - val_accuracy: 0.0000e+00\n",
      "Epoch 87/100\n",
      "10/10 [==============================] - 0s 3ms/step - loss: 6.9020e-04 - accuracy: 0.0250 - val_loss: 5.4919e-04 - val_accuracy: 0.0000e+00\n",
      "Epoch 88/100\n",
      "10/10 [==============================] - 0s 3ms/step - loss: 6.4523e-04 - accuracy: 0.0250 - val_loss: 5.3227e-04 - val_accuracy: 0.0000e+00\n",
      "Epoch 89/100\n",
      "10/10 [==============================] - 0s 3ms/step - loss: 6.3617e-04 - accuracy: 0.0250 - val_loss: 5.0599e-04 - val_accuracy: 0.0000e+00\n",
      "Epoch 90/100\n",
      "10/10 [==============================] - 0s 3ms/step - loss: 6.1458e-04 - accuracy: 0.0250 - val_loss: 5.0265e-04 - val_accuracy: 0.0000e+00\n",
      "Epoch 91/100\n",
      "10/10 [==============================] - 0s 3ms/step - loss: 6.0737e-04 - accuracy: 0.0250 - val_loss: 5.2464e-04 - val_accuracy: 0.0000e+00\n",
      "Epoch 92/100\n",
      "10/10 [==============================] - 0s 3ms/step - loss: 5.7968e-04 - accuracy: 0.0250 - val_loss: 4.6305e-04 - val_accuracy: 0.0000e+00\n",
      "Epoch 93/100\n",
      "10/10 [==============================] - 0s 3ms/step - loss: 5.6286e-04 - accuracy: 0.0250 - val_loss: 4.6870e-04 - val_accuracy: 0.0000e+00\n",
      "Epoch 94/100\n",
      "10/10 [==============================] - 0s 3ms/step - loss: 5.5262e-04 - accuracy: 0.0250 - val_loss: 4.6906e-04 - val_accuracy: 0.0000e+00\n",
      "Epoch 95/100\n",
      "10/10 [==============================] - 0s 3ms/step - loss: 5.4573e-04 - accuracy: 0.0250 - val_loss: 4.3157e-04 - val_accuracy: 0.0000e+00\n",
      "Epoch 96/100\n",
      "10/10 [==============================] - 0s 4ms/step - loss: 5.7084e-04 - accuracy: 0.0250 - val_loss: 4.1753e-04 - val_accuracy: 0.0000e+00\n",
      "Epoch 97/100\n",
      "10/10 [==============================] - 0s 4ms/step - loss: 5.3839e-04 - accuracy: 0.0250 - val_loss: 4.2074e-04 - val_accuracy: 0.0000e+00\n",
      "Epoch 98/100\n",
      "10/10 [==============================] - 0s 4ms/step - loss: 4.9838e-04 - accuracy: 0.0250 - val_loss: 4.0145e-04 - val_accuracy: 0.0000e+00\n",
      "Epoch 99/100\n",
      "10/10 [==============================] - 0s 3ms/step - loss: 4.9353e-04 - accuracy: 0.0250 - val_loss: 3.9548e-04 - val_accuracy: 0.0000e+00\n",
      "Epoch 100/100\n",
      "10/10 [==============================] - 0s 3ms/step - loss: 4.9311e-04 - accuracy: 0.0250 - val_loss: 3.7545e-04 - val_accuracy: 0.0000e+00\n"
     ]
    }
   ],
   "source": [
    "Hist_2 = model_2.fit(X_train, y_train, \n",
    "                     epochs = 100,\n",
    "                     batch_size = 8,\n",
    "                     validation_data = (X_test, y_test))"
   ]
  },
  {
   "cell_type": "markdown",
   "metadata": {
    "id": "vtUFTIb6p-vQ"
   },
   "source": [
    "### (4) Model Predict"
   ]
  },
  {
   "cell_type": "code",
   "execution_count": 19,
   "metadata": {
    "executionInfo": {
     "elapsed": 44,
     "status": "ok",
     "timestamp": 1628230231834,
     "user": {
      "displayName": "이정구",
      "photoUrl": "https://lh3.googleusercontent.com/a-/AOh14Ggor3yxeAY0Qx9DjT3OgE5Kvg17x7ah3qRpGUHVgQ=s64",
      "userId": "06746815733591865358"
     },
     "user_tz": -540
    },
    "id": "P0PGQvJIov8o"
   },
   "outputs": [],
   "source": [
    "y_hat = model_2.predict(X_test)"
   ]
  },
  {
   "cell_type": "markdown",
   "metadata": {
    "id": "EQmRmny1qCX_"
   },
   "source": [
    "### (5) 학습 결과 시각화\n",
    "\n",
    "* Loss 감소"
   ]
  },
  {
   "cell_type": "code",
   "execution_count": 20,
   "metadata": {
    "colab": {
     "base_uri": "https://localhost:8080/",
     "height": 265
    },
    "executionInfo": {
     "elapsed": 43,
     "status": "ok",
     "timestamp": 1628230231835,
     "user": {
      "displayName": "이정구",
      "photoUrl": "https://lh3.googleusercontent.com/a-/AOh14Ggor3yxeAY0Qx9DjT3OgE5Kvg17x7ah3qRpGUHVgQ=s64",
      "userId": "06746815733591865358"
     },
     "user_tz": -540
    },
    "id": "I6KIURV8o1jt",
    "outputId": "09ecbeca-200f-4afc-ec42-ac7e200264f9"
   },
   "outputs": [
    {
     "data": {
      "image/png": "[encoded data removed]",
      "text/plain": [
       "<Figure size 432x288 with 1 Axes>"
      ]
     },
     "metadata": {
      "needs_background": "light",
      "tags": []
     },
     "output_type": "display_data"
    }
   ],
   "source": [
    "plt.plot(Hist_2.history['loss'])\n",
    "plt.show()"
   ]
  },
  {
   "cell_type": "markdown",
   "metadata": {
    "id": "G3R1LbLzqOjA"
   },
   "source": [
    "* 학습 진행\n",
    " * 녹색 -> 정답(y_test)\n",
    " * 적색 -> 예측(y_hat)"
   ]
  },
  {
   "cell_type": "code",
   "execution_count": 21,
   "metadata": {
    "colab": {
     "base_uri": "https://localhost:8080/",
     "height": 265
    },
    "executionInfo": {
     "elapsed": 41,
     "status": "ok",
     "timestamp": 1628230231837,
     "user": {
      "displayName": "이정구",
      "photoUrl": "https://lh3.googleusercontent.com/a-/AOh14Ggor3yxeAY0Qx9DjT3OgE5Kvg17x7ah3qRpGUHVgQ=s64",
      "userId": "06746815733591865358"
     },
     "user_tz": -540
    },
    "id": "Aq_r-86kqIWb",
    "outputId": "412db5d0-f813-43c4-cb10-705fc1a0db5f"
   },
   "outputs": [
    {
     "data": {
      "image/png": "[encoded data removed]",
      "text/plain": [
       "<Figure size 432x288 with 1 Axes>"
      ]
     },
     "metadata": {
      "needs_background": "light",
      "tags": []
     },
     "output_type": "display_data"
    }
   ],
   "source": [
    "plt.scatter(range(20), y_test, c = 'g')\n",
    "plt.scatter(range(20), y_hat, c = 'r')\n",
    "plt.show()"
   ]
  },
  {
   "cell_type": "markdown",
   "metadata": {
    "id": "VJ7ijEqqgl6B"
   },
   "source": [
    "# III. Stacked_SimpleRNN"
   ]
  },
  {
   "cell_type": "markdown",
   "metadata": {
    "id": "oie2td6Ei-AO"
   },
   "source": [
    "> ## 1) Model Define & Summary\n",
    "\n",
    "* return_sequences = True"
   ]
  },
  {
   "cell_type": "code",
   "execution_count": 22,
   "metadata": {
    "colab": {
     "base_uri": "https://localhost:8080/"
    },
    "executionInfo": {
     "elapsed": 563,
     "status": "ok",
     "timestamp": 1628230232363,
     "user": {
      "displayName": "이정구",
      "photoUrl": "https://lh3.googleusercontent.com/a-/AOh14Ggor3yxeAY0Qx9DjT3OgE5Kvg17x7ah3qRpGUHVgQ=s64",
      "userId": "06746815733591865358"
     },
     "user_tz": -540
    },
    "id": "MfbNXdNajxXa",
    "outputId": "8db82f78-41c0-4372-b809-c9a759090364"
   },
   "outputs": [
    {
     "name": "stdout",
     "output_type": "stream",
     "text": [
      "Model: \"Stackd_RNN\"\n",
      "_________________________________________________________________\n",
      "Layer (type)                 Output Shape              Param #   \n",
      "=================================================================\n",
      "simple_rnn_2 (SimpleRNN)     (None, None, 3)           15        \n",
      "_________________________________________________________________\n",
      "simple_rnn_3 (SimpleRNN)     (None, 3)                 21        \n",
      "_________________________________________________________________\n",
      "dense_2 (Dense)              (None, 1)                 4         \n",
      "=================================================================\n",
      "Total params: 40\n",
      "Trainable params: 40\n",
      "Non-trainable params: 0\n",
      "_________________________________________________________________\n"
     ]
    }
   ],
   "source": [
    "model_3 = models.Sequential(name = 'Stackd_RNN')\n",
    "model_3.add(layers.SimpleRNN(3,\n",
    "                             input_shape = (None, 1), \n",
    "                             return_sequences = True))\n",
    "model_3.add(layers.SimpleRNN(3,\n",
    "                             input_shape = (None, 1),\n",
    "                             return_sequences = False))\n",
    "model_3.add(layers.Dense(1))\n",
    "\n",
    "model_3.summary()"
   ]
  },
  {
   "cell_type": "markdown",
   "metadata": {
    "id": "-Lfl3QLmjFSK"
   },
   "source": [
    "> ## 2) Model Compile"
   ]
  },
  {
   "cell_type": "code",
   "execution_count": 23,
   "metadata": {
    "executionInfo": {
     "elapsed": 17,
     "status": "ok",
     "timestamp": 1628230232365,
     "user": {
      "displayName": "이정구",
      "photoUrl": "https://lh3.googleusercontent.com/a-/AOh14Ggor3yxeAY0Qx9DjT3OgE5Kvg17x7ah3qRpGUHVgQ=s64",
      "userId": "06746815733591865358"
     },
     "user_tz": -540
    },
    "id": "6J_FOg6_kZST"
   },
   "outputs": [],
   "source": [
    "model_3.compile(loss = 'mse', \n",
    "                optimizer = 'adam', \n",
    "                metrics = ['accuracy'])"
   ]
  },
  {
   "cell_type": "markdown",
   "metadata": {
    "id": "hpGna-L2jJE-"
   },
   "source": [
    "> ## 3) Model Fit"
   ]
  },
  {
   "cell_type": "code",
   "execution_count": 24,
   "metadata": {
    "colab": {
     "base_uri": "https://localhost:8080/"
    },
    "executionInfo": {
     "elapsed": 5479,
     "status": "ok",
     "timestamp": 1628230237829,
     "user": {
      "displayName": "이정구",
      "photoUrl": "https://lh3.googleusercontent.com/a-/AOh14Ggor3yxeAY0Qx9DjT3OgE5Kvg17x7ah3qRpGUHVgQ=s64",
      "userId": "06746815733591865358"
     },
     "user_tz": -540
    },
    "id": "5qI-xcEkkal5",
    "outputId": "94cbfba3-f42d-49c1-f6a5-18273cf30493"
   },
   "outputs": [
    {
     "name": "stdout",
     "output_type": "stream",
     "text": [
      "Epoch 1/100\n",
      "10/10 [==============================] - 1s 29ms/step - loss: 0.1772 - accuracy: 0.0125 - val_loss: 0.1468 - val_accuracy: 0.0000e+00\n",
      "Epoch 2/100\n",
      "10/10 [==============================] - 0s 4ms/step - loss: 0.1392 - accuracy: 0.0125 - val_loss: 0.1145 - val_accuracy: 0.0000e+00\n",
      "Epoch 3/100\n",
      "10/10 [==============================] - 0s 4ms/step - loss: 0.1107 - accuracy: 0.0125 - val_loss: 0.0893 - val_accuracy: 0.0000e+00\n",
      "Epoch 4/100\n",
      "10/10 [==============================] - 0s 4ms/step - loss: 0.0899 - accuracy: 0.0125 - val_loss: 0.0706 - val_accuracy: 0.0000e+00\n",
      "Epoch 5/100\n",
      "10/10 [==============================] - 0s 4ms/step - loss: 0.0723 - accuracy: 0.0125 - val_loss: 0.0580 - val_accuracy: 0.0000e+00\n",
      "Epoch 6/100\n",
      "10/10 [==============================] - 0s 4ms/step - loss: 0.0602 - accuracy: 0.0125 - val_loss: 0.0485 - val_accuracy: 0.0000e+00\n",
      "Epoch 7/100\n",
      "10/10 [==============================] - 0s 4ms/step - loss: 0.0516 - accuracy: 0.0250 - val_loss: 0.0406 - val_accuracy: 0.0000e+00\n",
      "Epoch 8/100\n",
      "10/10 [==============================] - 0s 4ms/step - loss: 0.0424 - accuracy: 0.0250 - val_loss: 0.0346 - val_accuracy: 0.0000e+00\n",
      "Epoch 9/100\n",
      "10/10 [==============================] - 0s 4ms/step - loss: 0.0358 - accuracy: 0.0250 - val_loss: 0.0293 - val_accuracy: 0.0000e+00\n",
      "Epoch 10/100\n",
      "10/10 [==============================] - 0s 4ms/step - loss: 0.0296 - accuracy: 0.0250 - val_loss: 0.0250 - val_accuracy: 0.0000e+00\n",
      "Epoch 11/100\n",
      "10/10 [==============================] - 0s 4ms/step - loss: 0.0250 - accuracy: 0.0250 - val_loss: 0.0214 - val_accuracy: 0.0000e+00\n",
      "Epoch 12/100\n",
      "10/10 [==============================] - 0s 4ms/step - loss: 0.0212 - accuracy: 0.0250 - val_loss: 0.0188 - val_accuracy: 0.0000e+00\n",
      "Epoch 13/100\n",
      "10/10 [==============================] - 0s 4ms/step - loss: 0.0186 - accuracy: 0.0250 - val_loss: 0.0166 - val_accuracy: 0.0000e+00\n",
      "Epoch 14/100\n",
      "10/10 [==============================] - 0s 4ms/step - loss: 0.0165 - accuracy: 0.0250 - val_loss: 0.0150 - val_accuracy: 0.0000e+00\n",
      "Epoch 15/100\n",
      "10/10 [==============================] - 0s 4ms/step - loss: 0.0149 - accuracy: 0.0250 - val_loss: 0.0136 - val_accuracy: 0.0000e+00\n",
      "Epoch 16/100\n",
      "10/10 [==============================] - 0s 4ms/step - loss: 0.0135 - accuracy: 0.0250 - val_loss: 0.0125 - val_accuracy: 0.0000e+00\n",
      "Epoch 17/100\n",
      "10/10 [==============================] - 0s 4ms/step - loss: 0.0123 - accuracy: 0.0250 - val_loss: 0.0112 - val_accuracy: 0.0000e+00\n",
      "Epoch 18/100\n",
      "10/10 [==============================] - 0s 4ms/step - loss: 0.0111 - accuracy: 0.0250 - val_loss: 0.0101 - val_accuracy: 0.0000e+00\n",
      "Epoch 19/100\n",
      "10/10 [==============================] - 0s 4ms/step - loss: 0.0102 - accuracy: 0.0250 - val_loss: 0.0091 - val_accuracy: 0.0000e+00\n",
      "Epoch 20/100\n",
      "10/10 [==============================] - 0s 4ms/step - loss: 0.0092 - accuracy: 0.0250 - val_loss: 0.0082 - val_accuracy: 0.0000e+00\n",
      "Epoch 21/100\n",
      "10/10 [==============================] - 0s 4ms/step - loss: 0.0084 - accuracy: 0.0250 - val_loss: 0.0075 - val_accuracy: 0.0000e+00\n",
      "Epoch 22/100\n",
      "10/10 [==============================] - 0s 4ms/step - loss: 0.0076 - accuracy: 0.0250 - val_loss: 0.0067 - val_accuracy: 0.0000e+00\n",
      "Epoch 23/100\n",
      "10/10 [==============================] - 0s 4ms/step - loss: 0.0070 - accuracy: 0.0250 - val_loss: 0.0061 - val_accuracy: 0.0000e+00\n",
      "Epoch 24/100\n",
      "10/10 [==============================] - 0s 4ms/step - loss: 0.0063 - accuracy: 0.0250 - val_loss: 0.0055 - val_accuracy: 0.0000e+00\n",
      "Epoch 25/100\n",
      "10/10 [==============================] - 0s 4ms/step - loss: 0.0058 - accuracy: 0.0250 - val_loss: 0.0050 - val_accuracy: 0.0000e+00\n",
      "Epoch 26/100\n",
      "10/10 [==============================] - 0s 4ms/step - loss: 0.0052 - accuracy: 0.0250 - val_loss: 0.0045 - val_accuracy: 0.0000e+00\n",
      "Epoch 27/100\n",
      "10/10 [==============================] - 0s 3ms/step - loss: 0.0048 - accuracy: 0.0250 - val_loss: 0.0041 - val_accuracy: 0.0000e+00\n",
      "Epoch 28/100\n",
      "10/10 [==============================] - 0s 4ms/step - loss: 0.0044 - accuracy: 0.0250 - val_loss: 0.0037 - val_accuracy: 0.0000e+00\n",
      "Epoch 29/100\n",
      "10/10 [==============================] - 0s 4ms/step - loss: 0.0041 - accuracy: 0.0250 - val_loss: 0.0035 - val_accuracy: 0.0000e+00\n",
      "Epoch 30/100\n",
      "10/10 [==============================] - 0s 6ms/step - loss: 0.0037 - accuracy: 0.0250 - val_loss: 0.0031 - val_accuracy: 0.0000e+00\n",
      "Epoch 31/100\n",
      "10/10 [==============================] - 0s 3ms/step - loss: 0.0034 - accuracy: 0.0250 - val_loss: 0.0027 - val_accuracy: 0.0000e+00\n",
      "Epoch 32/100\n",
      "10/10 [==============================] - 0s 3ms/step - loss: 0.0031 - accuracy: 0.0250 - val_loss: 0.0025 - val_accuracy: 0.0000e+00\n",
      "Epoch 33/100\n",
      "10/10 [==============================] - 0s 4ms/step - loss: 0.0028 - accuracy: 0.0250 - val_loss: 0.0023 - val_accuracy: 0.0000e+00\n",
      "Epoch 34/100\n",
      "10/10 [==============================] - 0s 4ms/step - loss: 0.0026 - accuracy: 0.0250 - val_loss: 0.0021 - val_accuracy: 0.0000e+00\n",
      "Epoch 35/100\n",
      "10/10 [==============================] - 0s 4ms/step - loss: 0.0024 - accuracy: 0.0250 - val_loss: 0.0019 - val_accuracy: 0.0000e+00\n",
      "Epoch 36/100\n",
      "10/10 [==============================] - 0s 4ms/step - loss: 0.0022 - accuracy: 0.0250 - val_loss: 0.0017 - val_accuracy: 0.0000e+00\n",
      "Epoch 37/100\n",
      "10/10 [==============================] - 0s 4ms/step - loss: 0.0021 - accuracy: 0.0250 - val_loss: 0.0016 - val_accuracy: 0.0000e+00\n",
      "Epoch 38/100\n",
      "10/10 [==============================] - 0s 4ms/step - loss: 0.0019 - accuracy: 0.0250 - val_loss: 0.0015 - val_accuracy: 0.0000e+00\n",
      "Epoch 39/100\n",
      "10/10 [==============================] - 0s 4ms/step - loss: 0.0018 - accuracy: 0.0250 - val_loss: 0.0013 - val_accuracy: 0.0000e+00\n",
      "Epoch 40/100\n",
      "10/10 [==============================] - 0s 4ms/step - loss: 0.0016 - accuracy: 0.0250 - val_loss: 0.0012 - val_accuracy: 0.0000e+00\n",
      "Epoch 41/100\n",
      "10/10 [==============================] - 0s 3ms/step - loss: 0.0015 - accuracy: 0.0250 - val_loss: 0.0011 - val_accuracy: 0.0000e+00\n",
      "Epoch 42/100\n",
      "10/10 [==============================] - 0s 4ms/step - loss: 0.0014 - accuracy: 0.0250 - val_loss: 0.0010 - val_accuracy: 0.0000e+00\n",
      "Epoch 43/100\n",
      "10/10 [==============================] - 0s 4ms/step - loss: 0.0014 - accuracy: 0.0250 - val_loss: 9.6794e-04 - val_accuracy: 0.0000e+00\n",
      "Epoch 44/100\n",
      "10/10 [==============================] - 0s 4ms/step - loss: 0.0013 - accuracy: 0.0250 - val_loss: 9.0831e-04 - val_accuracy: 0.0000e+00\n",
      "Epoch 45/100\n",
      "10/10 [==============================] - 0s 3ms/step - loss: 0.0012 - accuracy: 0.0250 - val_loss: 8.6040e-04 - val_accuracy: 0.0000e+00\n",
      "Epoch 46/100\n",
      "10/10 [==============================] - 0s 4ms/step - loss: 0.0011 - accuracy: 0.0250 - val_loss: 8.2524e-04 - val_accuracy: 0.0000e+00\n",
      "Epoch 47/100\n",
      "10/10 [==============================] - 0s 5ms/step - loss: 0.0011 - accuracy: 0.0250 - val_loss: 7.7548e-04 - val_accuracy: 0.0000e+00\n",
      "Epoch 48/100\n",
      "10/10 [==============================] - 0s 3ms/step - loss: 0.0010 - accuracy: 0.0250 - val_loss: 7.3629e-04 - val_accuracy: 0.0000e+00\n",
      "Epoch 49/100\n",
      "10/10 [==============================] - 0s 4ms/step - loss: 0.0010 - accuracy: 0.0250 - val_loss: 7.0267e-04 - val_accuracy: 0.0000e+00\n",
      "Epoch 50/100\n",
      "10/10 [==============================] - 0s 4ms/step - loss: 9.6314e-04 - accuracy: 0.0250 - val_loss: 6.7266e-04 - val_accuracy: 0.0000e+00\n",
      "Epoch 51/100\n",
      "10/10 [==============================] - 0s 4ms/step - loss: 9.2052e-04 - accuracy: 0.0250 - val_loss: 6.4921e-04 - val_accuracy: 0.0000e+00\n",
      "Epoch 52/100\n",
      "10/10 [==============================] - 0s 4ms/step - loss: 8.9781e-04 - accuracy: 0.0250 - val_loss: 6.2596e-04 - val_accuracy: 0.0000e+00\n",
      "Epoch 53/100\n",
      "10/10 [==============================] - 0s 4ms/step - loss: 8.5544e-04 - accuracy: 0.0250 - val_loss: 6.0602e-04 - val_accuracy: 0.0000e+00\n",
      "Epoch 54/100\n",
      "10/10 [==============================] - 0s 4ms/step - loss: 8.3546e-04 - accuracy: 0.0250 - val_loss: 5.8773e-04 - val_accuracy: 0.0000e+00\n",
      "Epoch 55/100\n",
      "10/10 [==============================] - 0s 4ms/step - loss: 8.2701e-04 - accuracy: 0.0250 - val_loss: 5.7321e-04 - val_accuracy: 0.0000e+00\n",
      "Epoch 56/100\n",
      "10/10 [==============================] - 0s 4ms/step - loss: 7.8507e-04 - accuracy: 0.0250 - val_loss: 5.5831e-04 - val_accuracy: 0.0000e+00\n",
      "Epoch 57/100\n",
      "10/10 [==============================] - 0s 4ms/step - loss: 7.7159e-04 - accuracy: 0.0250 - val_loss: 5.4435e-04 - val_accuracy: 0.0000e+00\n",
      "Epoch 58/100\n",
      "10/10 [==============================] - 0s 4ms/step - loss: 7.5865e-04 - accuracy: 0.0250 - val_loss: 5.3424e-04 - val_accuracy: 0.0000e+00\n",
      "Epoch 59/100\n",
      "10/10 [==============================] - 0s 4ms/step - loss: 7.7987e-04 - accuracy: 0.0250 - val_loss: 5.3674e-04 - val_accuracy: 0.0000e+00\n",
      "Epoch 60/100\n",
      "10/10 [==============================] - 0s 6ms/step - loss: 7.2489e-04 - accuracy: 0.0250 - val_loss: 5.1816e-04 - val_accuracy: 0.0000e+00\n",
      "Epoch 61/100\n",
      "10/10 [==============================] - 0s 4ms/step - loss: 7.1348e-04 - accuracy: 0.0250 - val_loss: 4.9906e-04 - val_accuracy: 0.0000e+00\n",
      "Epoch 62/100\n",
      "10/10 [==============================] - 0s 4ms/step - loss: 6.8919e-04 - accuracy: 0.0250 - val_loss: 4.9109e-04 - val_accuracy: 0.0000e+00\n",
      "Epoch 63/100\n",
      "10/10 [==============================] - 0s 4ms/step - loss: 6.7614e-04 - accuracy: 0.0250 - val_loss: 4.7929e-04 - val_accuracy: 0.0000e+00\n",
      "Epoch 64/100\n",
      "10/10 [==============================] - 0s 4ms/step - loss: 6.7397e-04 - accuracy: 0.0250 - val_loss: 4.7110e-04 - val_accuracy: 0.0000e+00\n",
      "Epoch 65/100\n",
      "10/10 [==============================] - 0s 4ms/step - loss: 6.9498e-04 - accuracy: 0.0250 - val_loss: 4.9520e-04 - val_accuracy: 0.0000e+00\n",
      "Epoch 66/100\n",
      "10/10 [==============================] - 0s 4ms/step - loss: 6.4028e-04 - accuracy: 0.0250 - val_loss: 4.5558e-04 - val_accuracy: 0.0000e+00\n",
      "Epoch 67/100\n",
      "10/10 [==============================] - 0s 4ms/step - loss: 6.4258e-04 - accuracy: 0.0250 - val_loss: 4.4297e-04 - val_accuracy: 0.0000e+00\n",
      "Epoch 68/100\n",
      "10/10 [==============================] - 0s 4ms/step - loss: 6.0881e-04 - accuracy: 0.0250 - val_loss: 4.4420e-04 - val_accuracy: 0.0000e+00\n",
      "Epoch 69/100\n",
      "10/10 [==============================] - 0s 4ms/step - loss: 6.0751e-04 - accuracy: 0.0250 - val_loss: 4.2902e-04 - val_accuracy: 0.0000e+00\n",
      "Epoch 70/100\n",
      "10/10 [==============================] - 0s 4ms/step - loss: 6.1331e-04 - accuracy: 0.0250 - val_loss: 4.2403e-04 - val_accuracy: 0.0000e+00\n",
      "Epoch 71/100\n",
      "10/10 [==============================] - 0s 4ms/step - loss: 5.9851e-04 - accuracy: 0.0250 - val_loss: 4.2457e-04 - val_accuracy: 0.0000e+00\n",
      "Epoch 72/100\n",
      "10/10 [==============================] - 0s 4ms/step - loss: 5.6443e-04 - accuracy: 0.0250 - val_loss: 4.0255e-04 - val_accuracy: 0.0000e+00\n",
      "Epoch 73/100\n",
      "10/10 [==============================] - 0s 4ms/step - loss: 5.6019e-04 - accuracy: 0.0250 - val_loss: 4.0029e-04 - val_accuracy: 0.0000e+00\n",
      "Epoch 74/100\n",
      "10/10 [==============================] - 0s 4ms/step - loss: 5.4709e-04 - accuracy: 0.0250 - val_loss: 3.9004e-04 - val_accuracy: 0.0000e+00\n",
      "Epoch 75/100\n",
      "10/10 [==============================] - 0s 4ms/step - loss: 5.3587e-04 - accuracy: 0.0250 - val_loss: 3.7894e-04 - val_accuracy: 0.0000e+00\n",
      "Epoch 76/100\n",
      "10/10 [==============================] - 0s 4ms/step - loss: 5.2460e-04 - accuracy: 0.0250 - val_loss: 3.7381e-04 - val_accuracy: 0.0000e+00\n",
      "Epoch 77/100\n",
      "10/10 [==============================] - 0s 4ms/step - loss: 5.2016e-04 - accuracy: 0.0250 - val_loss: 3.7204e-04 - val_accuracy: 0.0000e+00\n",
      "Epoch 78/100\n",
      "10/10 [==============================] - 0s 5ms/step - loss: 5.1381e-04 - accuracy: 0.0250 - val_loss: 3.5769e-04 - val_accuracy: 0.0000e+00\n",
      "Epoch 79/100\n",
      "10/10 [==============================] - 0s 4ms/step - loss: 5.1852e-04 - accuracy: 0.0250 - val_loss: 3.4968e-04 - val_accuracy: 0.0000e+00\n",
      "Epoch 80/100\n",
      "10/10 [==============================] - 0s 5ms/step - loss: 4.7615e-04 - accuracy: 0.0250 - val_loss: 3.5334e-04 - val_accuracy: 0.0000e+00\n",
      "Epoch 81/100\n",
      "10/10 [==============================] - 0s 4ms/step - loss: 4.9264e-04 - accuracy: 0.0250 - val_loss: 3.3499e-04 - val_accuracy: 0.0000e+00\n",
      "Epoch 82/100\n",
      "10/10 [==============================] - 0s 3ms/step - loss: 4.9348e-04 - accuracy: 0.0250 - val_loss: 3.2965e-04 - val_accuracy: 0.0000e+00\n",
      "Epoch 83/100\n",
      "10/10 [==============================] - 0s 4ms/step - loss: 4.5406e-04 - accuracy: 0.0250 - val_loss: 3.3002e-04 - val_accuracy: 0.0000e+00\n",
      "Epoch 84/100\n",
      "10/10 [==============================] - 0s 3ms/step - loss: 4.4990e-04 - accuracy: 0.0250 - val_loss: 3.1523e-04 - val_accuracy: 0.0000e+00\n",
      "Epoch 85/100\n",
      "10/10 [==============================] - 0s 3ms/step - loss: 4.4159e-04 - accuracy: 0.0250 - val_loss: 3.0405e-04 - val_accuracy: 0.0000e+00\n",
      "Epoch 86/100\n",
      "10/10 [==============================] - 0s 4ms/step - loss: 4.3277e-04 - accuracy: 0.0250 - val_loss: 3.0328e-04 - val_accuracy: 0.0000e+00\n",
      "Epoch 87/100\n",
      "10/10 [==============================] - 0s 4ms/step - loss: 4.3269e-04 - accuracy: 0.0250 - val_loss: 2.9709e-04 - val_accuracy: 0.0000e+00\n",
      "Epoch 88/100\n",
      "10/10 [==============================] - 0s 4ms/step - loss: 4.0821e-04 - accuracy: 0.0250 - val_loss: 2.8460e-04 - val_accuracy: 0.0000e+00\n",
      "Epoch 89/100\n",
      "10/10 [==============================] - 0s 4ms/step - loss: 4.0952e-04 - accuracy: 0.0250 - val_loss: 2.7858e-04 - val_accuracy: 0.0000e+00\n",
      "Epoch 90/100\n",
      "10/10 [==============================] - 0s 4ms/step - loss: 4.0805e-04 - accuracy: 0.0250 - val_loss: 2.8245e-04 - val_accuracy: 0.0000e+00\n",
      "Epoch 91/100\n",
      "10/10 [==============================] - 0s 4ms/step - loss: 3.9100e-04 - accuracy: 0.0250 - val_loss: 2.6347e-04 - val_accuracy: 0.0000e+00\n",
      "Epoch 92/100\n",
      "10/10 [==============================] - 0s 3ms/step - loss: 3.8271e-04 - accuracy: 0.0250 - val_loss: 2.5948e-04 - val_accuracy: 0.0000e+00\n",
      "Epoch 93/100\n",
      "10/10 [==============================] - 0s 3ms/step - loss: 3.7843e-04 - accuracy: 0.0250 - val_loss: 2.5171e-04 - val_accuracy: 0.0000e+00\n",
      "Epoch 94/100\n",
      "10/10 [==============================] - 0s 3ms/step - loss: 3.7256e-04 - accuracy: 0.0250 - val_loss: 2.4902e-04 - val_accuracy: 0.0000e+00\n",
      "Epoch 95/100\n",
      "10/10 [==============================] - 0s 3ms/step - loss: 3.6615e-04 - accuracy: 0.0250 - val_loss: 2.3797e-04 - val_accuracy: 0.0000e+00\n",
      "Epoch 96/100\n",
      "10/10 [==============================] - 0s 4ms/step - loss: 3.5294e-04 - accuracy: 0.0250 - val_loss: 2.4732e-04 - val_accuracy: 0.0000e+00\n",
      "Epoch 97/100\n",
      "10/10 [==============================] - 0s 3ms/step - loss: 3.4952e-04 - accuracy: 0.0250 - val_loss: 2.2661e-04 - val_accuracy: 0.0000e+00\n",
      "Epoch 98/100\n",
      "10/10 [==============================] - 0s 3ms/step - loss: 3.3821e-04 - accuracy: 0.0250 - val_loss: 2.2944e-04 - val_accuracy: 0.0000e+00\n",
      "Epoch 99/100\n",
      "10/10 [==============================] - 0s 3ms/step - loss: 3.2808e-04 - accuracy: 0.0250 - val_loss: 2.1767e-04 - val_accuracy: 0.0000e+00\n",
      "Epoch 100/100\n",
      "10/10 [==============================] - 0s 3ms/step - loss: 3.2391e-04 - accuracy: 0.0250 - val_loss: 2.1461e-04 - val_accuracy: 0.0000e+00\n"
     ]
    }
   ],
   "source": [
    "Hist_3 = model_3.fit(X_train, y_train, \n",
    "                     epochs = 100,\n",
    "                     batch_size = 8,\n",
    "                     validation_data = (X_test, y_test))"
   ]
  },
  {
   "cell_type": "markdown",
   "metadata": {
    "id": "93mMvgRHjN77"
   },
   "source": [
    "> ## 4) Model Predict"
   ]
  },
  {
   "cell_type": "code",
   "execution_count": 25,
   "metadata": {
    "executionInfo": {
     "elapsed": 677,
     "status": "ok",
     "timestamp": 1628230238493,
     "user": {
      "displayName": "이정구",
      "photoUrl": "https://lh3.googleusercontent.com/a-/AOh14Ggor3yxeAY0Qx9DjT3OgE5Kvg17x7ah3qRpGUHVgQ=s64",
      "userId": "06746815733591865358"
     },
     "user_tz": -540
    },
    "id": "IuzyIFm7jbBN"
   },
   "outputs": [],
   "source": [
    "y_hat = model_3.predict(X_test)"
   ]
  },
  {
   "cell_type": "markdown",
   "metadata": {
    "id": "yxAPoF1sjf9P"
   },
   "source": [
    "> ## 5) 학습 결과 시각화"
   ]
  },
  {
   "cell_type": "code",
   "execution_count": 26,
   "metadata": {
    "colab": {
     "base_uri": "https://localhost:8080/",
     "height": 265
    },
    "executionInfo": {
     "elapsed": 36,
     "status": "ok",
     "timestamp": 1628230238494,
     "user": {
      "displayName": "이정구",
      "photoUrl": "https://lh3.googleusercontent.com/a-/AOh14Ggor3yxeAY0Qx9DjT3OgE5Kvg17x7ah3qRpGUHVgQ=s64",
      "userId": "06746815733591865358"
     },
     "user_tz": -540
    },
    "id": "W2a8Lq6fk_Oc",
    "outputId": "2c212382-dff0-42ec-dfea-d0055dcfc038"
   },
   "outputs": [
    {
     "data": {
      "image/png": "[encoded data removed]",
      "text/plain": [
       "<Figure size 432x288 with 1 Axes>"
      ]
     },
     "metadata": {
      "needs_background": "light",
      "tags": []
     },
     "output_type": "display_data"
    }
   ],
   "source": [
    "plt.plot(Hist_3.history['loss'])\n",
    "plt.show()"
   ]
  },
  {
   "cell_type": "code",
   "execution_count": 27,
   "metadata": {
    "colab": {
     "base_uri": "https://localhost:8080/",
     "height": 265
    },
    "executionInfo": {
     "elapsed": 33,
     "status": "ok",
     "timestamp": 1628230238496,
     "user": {
      "displayName": "이정구",
      "photoUrl": "https://lh3.googleusercontent.com/a-/AOh14Ggor3yxeAY0Qx9DjT3OgE5Kvg17x7ah3qRpGUHVgQ=s64",
      "userId": "06746815733591865358"
     },
     "user_tz": -540
    },
    "id": "q9QNepCBkkLn",
    "outputId": "5faecaa0-9fdd-4c30-cd0d-93d63c4ffcf7"
   },
   "outputs": [
    {
     "data": {
      "image/png": "[encoded data removed]",
      "text/plain": [
       "<Figure size 432x288 with 1 Axes>"
      ]
     },
     "metadata": {
      "needs_background": "light",
      "tags": []
     },
     "output_type": "display_data"
    }
   ],
   "source": [
    "plt.scatter(range(20), y_test, c = 'g')\n",
    "plt.scatter(range(20), y_hat, c = 'r')\n",
    "plt.show()"
   ]
  },
  {
   "cell_type": "markdown",
   "metadata": {
    "id": "G2M60R98ZZPn"
   },
   "source": [
    "# IV. 'return_sequences' Output_Options\n",
    "\n",
    "* 'input_length'에 대한 Sequance 전체를 출력할지 설정\n",
    " - 'False' vs. 'True'"
   ]
  },
  {
   "cell_type": "markdown",
   "metadata": {
    "id": "mprXXUoywT0X"
   },
   "source": [
    "> ## 1) 실습데이터 생성"
   ]
  },
  {
   "cell_type": "code",
   "execution_count": 28,
   "metadata": {
    "executionInfo": {
     "elapsed": 31,
     "status": "ok",
     "timestamp": 1628230238497,
     "user": {
      "displayName": "이정구",
      "photoUrl": "https://lh3.googleusercontent.com/a-/AOh14Ggor3yxeAY0Qx9DjT3OgE5Kvg17x7ah3qRpGUHVgQ=s64",
      "userId": "06746815733591865358"
     },
     "user_tz": -540
    },
    "id": "uLLYxQske_ZT"
   },
   "outputs": [],
   "source": [
    "X = [[[i + j] for i in range(5)] for j in range(100)]\n",
    "y = [i + 5 for i in range(100)]"
   ]
  },
  {
   "cell_type": "code",
   "execution_count": 29,
   "metadata": {
    "executionInfo": {
     "elapsed": 32,
     "status": "ok",
     "timestamp": 1628230238499,
     "user": {
      "displayName": "이정구",
      "photoUrl": "https://lh3.googleusercontent.com/a-/AOh14Ggor3yxeAY0Qx9DjT3OgE5Kvg17x7ah3qRpGUHVgQ=s64",
      "userId": "06746815733591865358"
     },
     "user_tz": -540
    },
    "id": "u2n8GAQufLxo"
   },
   "outputs": [],
   "source": [
    "X = np.array(X, dtype = float)\n",
    "y = np.array(y, dtype = float)"
   ]
  },
  {
   "cell_type": "code",
   "execution_count": 30,
   "metadata": {
    "colab": {
     "base_uri": "https://localhost:8080/"
    },
    "executionInfo": {
     "elapsed": 32,
     "status": "ok",
     "timestamp": 1628230238500,
     "user": {
      "displayName": "이정구",
      "photoUrl": "https://lh3.googleusercontent.com/a-/AOh14Ggor3yxeAY0Qx9DjT3OgE5Kvg17x7ah3qRpGUHVgQ=s64",
      "userId": "06746815733591865358"
     },
     "user_tz": -540
    },
    "id": "qhMKmZsifTCT",
    "outputId": "51874289-0ff2-47fc-fd54-6156cf0e6d7b"
   },
   "outputs": [
    {
     "data": {
      "text/plain": [
       "((80, 5, 1), (80,), (20, 5, 1), (20,))"
      ]
     },
     "execution_count": 30,
     "metadata": {
      "tags": []
     },
     "output_type": "execute_result"
    }
   ],
   "source": [
    "X_train, X_test, y_train, y_test = train_test_split(X, y, \n",
    "                                                    test_size = 0.2, \n",
    "                                                    random_state = 2045)\n",
    "\n",
    "X_train.shape, y_train.shape, X_test.shape, y_test.shape"
   ]
  },
  {
   "cell_type": "markdown",
   "metadata": {
    "id": "xCmEpsb_4PWF"
   },
   "source": [
    "> ## 2) 테스트용 Input Data"
   ]
  },
  {
   "cell_type": "code",
   "execution_count": 31,
   "metadata": {
    "colab": {
     "base_uri": "https://localhost:8080/"
    },
    "executionInfo": {
     "elapsed": 26,
     "status": "ok",
     "timestamp": 1628230238502,
     "user": {
      "displayName": "이정구",
      "photoUrl": "https://lh3.googleusercontent.com/a-/AOh14Ggor3yxeAY0Qx9DjT3OgE5Kvg17x7ah3qRpGUHVgQ=s64",
      "userId": "06746815733591865358"
     },
     "user_tz": -540
    },
    "id": "iQR77PFbhMTA",
    "outputId": "1ede1f14-c5f1-47d9-b403-737d6cf18ef5"
   },
   "outputs": [
    {
     "data": {
      "text/plain": [
       "array([[[29.],\n",
       "        [30.],\n",
       "        [31.],\n",
       "        [32.],\n",
       "        [33.]]])"
      ]
     },
     "execution_count": 31,
     "metadata": {
      "tags": []
     },
     "output_type": "execute_result"
    }
   ],
   "source": [
    "X_test[0].reshape(1, 5, 1)"
   ]
  },
  {
   "cell_type": "markdown",
   "metadata": {
    "id": "CIeeaylpfVKG"
   },
   "source": [
    "> ## 3) False_Option\n",
    "\n",
    "* 마지막 Output만 출력\n",
    " * Unit -> 1"
   ]
  },
  {
   "cell_type": "code",
   "execution_count": 32,
   "metadata": {
    "executionInfo": {
     "elapsed": 24,
     "status": "ok",
     "timestamp": 1628230238503,
     "user": {
      "displayName": "이정구",
      "photoUrl": "https://lh3.googleusercontent.com/a-/AOh14Ggor3yxeAY0Qx9DjT3OgE5Kvg17x7ah3qRpGUHVgQ=s64",
      "userId": "06746815733591865358"
     },
     "user_tz": -540
    },
    "id": "dePbSccIfUEh"
   },
   "outputs": [],
   "source": [
    "Model_False = models.Sequential()\n",
    "Model_False.add(layers.SimpleRNN(1,\n",
    "                                 input_shape = (5, 1), \n",
    "                                 return_sequences = False))\n",
    "\n",
    "Model_False.compile(loss = 'mse',\n",
    "                    optimizer = 'adam',\n",
    "                    metrics = ['accuracy'])"
   ]
  },
  {
   "cell_type": "code",
   "execution_count": 33,
   "metadata": {
    "colab": {
     "base_uri": "https://localhost:8080/"
    },
    "executionInfo": {
     "elapsed": 414,
     "status": "ok",
     "timestamp": 1628230238894,
     "user": {
      "displayName": "이정구",
      "photoUrl": "https://lh3.googleusercontent.com/a-/AOh14Ggor3yxeAY0Qx9DjT3OgE5Kvg17x7ah3qRpGUHVgQ=s64",
      "userId": "06746815733591865358"
     },
     "user_tz": -540
    },
    "id": "-czneGosjJVh",
    "outputId": "9cac0a98-00a5-4823-bd8a-a6d3391d433c"
   },
   "outputs": [
    {
     "data": {
      "text/plain": [
       "array([[1.]], dtype=float32)"
      ]
     },
     "execution_count": 33,
     "metadata": {
      "tags": []
     },
     "output_type": "execute_result"
    }
   ],
   "source": [
    "Model_False.predict(X_test[0].reshape(1, 5, 1))"
   ]
  },
  {
   "cell_type": "markdown",
   "metadata": {
    "id": "o2ovVPe0gUFw"
   },
   "source": [
    "* 마지막 Output만 출력\n",
    " * Unit -> 3"
   ]
  },
  {
   "cell_type": "code",
   "execution_count": 34,
   "metadata": {
    "executionInfo": {
     "elapsed": 13,
     "status": "ok",
     "timestamp": 1628230238894,
     "user": {
      "displayName": "이정구",
      "photoUrl": "https://lh3.googleusercontent.com/a-/AOh14Ggor3yxeAY0Qx9DjT3OgE5Kvg17x7ah3qRpGUHVgQ=s64",
      "userId": "06746815733591865358"
     },
     "user_tz": -540
    },
    "id": "JNnQiubCgPF6"
   },
   "outputs": [],
   "source": [
    "Model_False = models.Sequential()\n",
    "Model_False.add(layers.SimpleRNN(3,\n",
    "                                 input_shape = (5, 1), \n",
    "                                 return_sequences = False))\n",
    "\n",
    "Model_False.compile(loss = 'mse',\n",
    "                    optimizer = 'adam',\n",
    "                    metrics = ['accuracy'])"
   ]
  },
  {
   "cell_type": "code",
   "execution_count": 35,
   "metadata": {
    "colab": {
     "base_uri": "https://localhost:8080/"
    },
    "executionInfo": {
     "elapsed": 14,
     "status": "ok",
     "timestamp": 1628230238895,
     "user": {
      "displayName": "이정구",
      "photoUrl": "https://lh3.googleusercontent.com/a-/AOh14Ggor3yxeAY0Qx9DjT3OgE5Kvg17x7ah3qRpGUHVgQ=s64",
      "userId": "06746815733591865358"
     },
     "user_tz": -540
    },
    "id": "--eBUtESgReA",
    "outputId": "2f4a2b00-7d54-4d7a-bd89-9a84e3b334ad"
   },
   "outputs": [
    {
     "name": "stdout",
     "output_type": "stream",
     "text": [
      "WARNING:tensorflow:5 out of the last 5 calls to <function Model.make_predict_function.<locals>.predict_function at 0x7fee549738c0> triggered tf.function retracing. Tracing is expensive and the excessive number of tracings could be due to (1) creating @tf.function repeatedly in a loop, (2) passing tensors with different shapes, (3) passing Python objects instead of tensors. For (1), please define your @tf.function outside of the loop. For (2), @tf.function has experimental_relax_shapes=True option that relaxes argument shapes that can avoid unnecessary retracing. For (3), please refer to https://www.tensorflow.org/guide/function#controlling_retracing and https://www.tensorflow.org/api_docs/python/tf/function for  more details.\n"
     ]
    },
    {
     "data": {
      "text/plain": [
       "array([[-1.       ,  0.9833806, -1.       ]], dtype=float32)"
      ]
     },
     "execution_count": 35,
     "metadata": {
      "tags": []
     },
     "output_type": "execute_result"
    }
   ],
   "source": [
    "Model_False.predict(X_test[0].reshape(1, 5, 1))"
   ]
  },
  {
   "cell_type": "markdown",
   "metadata": {
    "id": "zKTm2w-8hef7"
   },
   "source": [
    "> ## 4) True_Option\n",
    "\n",
    "* 매 순환마다 Output 출력\n",
    " * Unit -> 1\n",
    " * input_length -> 5"
   ]
  },
  {
   "cell_type": "code",
   "execution_count": 36,
   "metadata": {
    "executionInfo": {
     "elapsed": 9,
     "status": "ok",
     "timestamp": 1628230238895,
     "user": {
      "displayName": "이정구",
      "photoUrl": "https://lh3.googleusercontent.com/a-/AOh14Ggor3yxeAY0Qx9DjT3OgE5Kvg17x7ah3qRpGUHVgQ=s64",
      "userId": "06746815733591865358"
     },
     "user_tz": -540
    },
    "id": "U7UHNzHthj0T"
   },
   "outputs": [],
   "source": [
    "Model_True = models.Sequential()\n",
    "Model_True.add(layers.SimpleRNN(1,\n",
    "                                input_shape = (5, 1), \n",
    "                                return_sequences = True))\n",
    "\n",
    "Model_True.compile(loss = 'mse',\n",
    "                   optimizer = 'adam',\n",
    "                   metrics = ['accuracy'])"
   ]
  },
  {
   "cell_type": "code",
   "execution_count": 37,
   "metadata": {
    "colab": {
     "base_uri": "https://localhost:8080/"
    },
    "executionInfo": {
     "elapsed": 9,
     "status": "ok",
     "timestamp": 1628230238896,
     "user": {
      "displayName": "이정구",
      "photoUrl": "https://lh3.googleusercontent.com/a-/AOh14Ggor3yxeAY0Qx9DjT3OgE5Kvg17x7ah3qRpGUHVgQ=s64",
      "userId": "06746815733591865358"
     },
     "user_tz": -540
    },
    "id": "6iZqeMYikZWz",
    "outputId": "86f7e33d-5d65-4fe7-cc51-3273d9b8be3c"
   },
   "outputs": [
    {
     "name": "stdout",
     "output_type": "stream",
     "text": [
      "WARNING:tensorflow:6 out of the last 6 calls to <function Model.make_predict_function.<locals>.predict_function at 0x7fee552030e0> triggered tf.function retracing. Tracing is expensive and the excessive number of tracings could be due to (1) creating @tf.function repeatedly in a loop, (2) passing tensors with different shapes, (3) passing Python objects instead of tensors. For (1), please define your @tf.function outside of the loop. For (2), @tf.function has experimental_relax_shapes=True option that relaxes argument shapes that can avoid unnecessary retracing. For (3), please refer to https://www.tensorflow.org/guide/function#controlling_retracing and https://www.tensorflow.org/api_docs/python/tf/function for  more details.\n"
     ]
    },
    {
     "data": {
      "text/plain": [
       "array([[[1.],\n",
       "        [1.],\n",
       "        [1.],\n",
       "        [1.],\n",
       "        [1.]]], dtype=float32)"
      ]
     },
     "execution_count": 37,
     "metadata": {
      "tags": []
     },
     "output_type": "execute_result"
    }
   ],
   "source": [
    "Model_True.predict(X_test[0].reshape(1, 5, 1))"
   ]
  },
  {
   "cell_type": "markdown",
   "metadata": {
    "id": "tRRkCzOfgxLo"
   },
   "source": [
    "* 매 순환마다 Output만 출력\n",
    " * Unit -> 3\n",
    " * input_length -> 5"
   ]
  },
  {
   "cell_type": "code",
   "execution_count": 38,
   "metadata": {
    "executionInfo": {
     "elapsed": 6,
     "status": "ok",
     "timestamp": 1628230238896,
     "user": {
      "displayName": "이정구",
      "photoUrl": "https://lh3.googleusercontent.com/a-/AOh14Ggor3yxeAY0Qx9DjT3OgE5Kvg17x7ah3qRpGUHVgQ=s64",
      "userId": "06746815733591865358"
     },
     "user_tz": -540
    },
    "id": "gXC1HDTeg2xJ"
   },
   "outputs": [],
   "source": [
    "Model_True = models.Sequential()\n",
    "Model_True.add(layers.SimpleRNN(3,\n",
    "                                input_shape = (5, 1), \n",
    "                                return_sequences = True))\n",
    "\n",
    "Model_True.compile(loss = 'mse',\n",
    "                   optimizer = 'adam',\n",
    "                   metrics = ['accuracy'])"
   ]
  },
  {
   "cell_type": "code",
   "execution_count": 39,
   "metadata": {
    "colab": {
     "base_uri": "https://localhost:8080/"
    },
    "executionInfo": {
     "elapsed": 504,
     "status": "ok",
     "timestamp": 1628230239394,
     "user": {
      "displayName": "이정구",
      "photoUrl": "https://lh3.googleusercontent.com/a-/AOh14Ggor3yxeAY0Qx9DjT3OgE5Kvg17x7ah3qRpGUHVgQ=s64",
      "userId": "06746815733591865358"
     },
     "user_tz": -540
    },
    "id": "GX529sG0g9uj",
    "outputId": "12af9eef-4203-4eb1-eeea-704457766b7a"
   },
   "outputs": [
    {
     "data": {
      "text/plain": [
       "array([[[ 1.        , -1.        ,  1.        ],\n",
       "        [ 1.        , -0.99999964,  1.        ],\n",
       "        [ 1.        , -1.        ,  1.        ],\n",
       "        [ 1.        , -1.        ,  1.        ],\n",
       "        [ 1.        , -1.        ,  1.        ]]], dtype=float32)"
      ]
     },
     "execution_count": 39,
     "metadata": {
      "tags": []
     },
     "output_type": "execute_result"
    }
   ],
   "source": [
    "Model_True.predict(X_test[0].reshape(1, 5, 1))"
   ]
  },
  {
   "cell_type": "markdown",
   "metadata": {
    "id": "yUHpTohzaVYl"
   },
   "source": [
    "# \n",
    "# \n",
    "# \n",
    "# The End\n",
    "# \n",
    "# \n",
    "# "
   ]
  }
 ],
 "metadata": {
  "colab": {
   "collapsed_sections": [],
   "name": "SimpleRNN_Test_Code_CPU.ipynb",
   "provenance": []
  },
  "kernelspec": {
   "display_name": "Python tf25",
   "language": "python",
   "name": "tf25"
  },
  "language_info": {
   "codemirror_mode": {
    "name": "ipython",
    "version": 3
   },
   "file_extension": ".py",
   "mimetype": "text/x-python",
   "name": "python",
   "nbconvert_exporter": "python",
   "pygments_lexer": "ipython3",
   "version": "3.8.8"
  }
 },
 "nbformat": 4,
 "nbformat_minor": 1
}
