{
 "cells": [
  {
   "cell_type": "markdown",
   "id": "b32e51e5",
   "metadata": {},
   "source": [
    "# 3.2 케라스 소개\n",
    "- 파이썬을 위한 딥러닝 프레임워크\n",
    "- 특징\n",
    "    - 동일한 코드로 CPU와 GPU에서 실행할 수 있음\n",
    "    - 사용하기 쉬운 API를 가지고 있어 딥러닝 모델의 프로토타입을 빠르게 만들 수 있음\n",
    "    - (컴퓨터 비전을 위한) 합성곱 신경망, (시퀀스 처리를 위한) 순환 신경망을 지원하며 이 둘을 자유롭게 조합하여 사용할 수 있음\n",
    "    - 다중 입력이나 다중 출력 모델, 층의 공유, 모델 공유 등 어떤 네트워크 구조도 만들 수 있음\n",
    "        - 적대적 생성 신경망(Generative Adversarial Netword; GAN), 뉴럴 튜링 머신(Neural Turing Machine) 등\n",
    "- 학술적인 연구원, 기업 기술자, 대학원생 등 다양한 사람들이 사용\n",
    "- 거의 모든 딥러닝 경연 대회의 우승자들이 케라스 모델을 사용 (최근에는 파이토치(PyTorch)가 상승)"
   ]
  },
  {
   "cell_type": "markdown",
   "id": "f4e188e8",
   "metadata": {},
   "source": [
    "## 3.2.1 케라스, 텐서플로, 씨아노, CNTK\n",
    "- **백엔드 엔진**(backend engine)에서 제공하는 최적화되고 특화된 텐서 라이브러리 사용\n",
    "- 텐서플로, 씨아노, 마이크로소프트 코그니티브 툴킷(Microsoft Cognitive Toolkit; CNTK) 3개를 백엔드 엔진으로 사용할 수 있음\n",
    "- 씨아노 : 몬트리올 대학 MILA 연구소에서 개발\n",
    "- 텐서플로 : 구글에서 개발\n",
    "- CNTK : 마이크로소프트에서 개발\n",
    "- 확장성이 뛰어나며 상용 제품에 쓸 수 있는 텐서플로가 기본으로 권장\n",
    "- CPU에서 실행될 때 텐서플로는 Eigen이라고 불리는 저수준 텐서 연산 라이브러리를 이용\n",
    "- GPU에서 실행될 때 텐서플로는 NVIDIA CUDA 심층 신경망 라이브러리(cuDNN)라고 불리는 고도로 최적화된 딥러닝 연산 라이브러리를 이용"
   ]
  },
  {
   "cell_type": "markdown",
   "id": "1a1390c8",
   "metadata": {},
   "source": [
    "## 3.2.2 케라스를 사용한 개발: 빠르게 둘러보기\n",
    "- 전형적인 케라스 작업 흐름\n",
    "    1. 입력 텐서와 타깃 텐서로 이루어진 훈련 데이터를 정의\n",
    "    2. 입력과 타깃을 매핑하는 층으로 이루어진 네트워크(또는 모델)를 정의\n",
    "    3. 손실 함수, 옵티마이저, 모니터링하기 위한 측정 지표를 선택하여 학습 과정을 설정\n",
    "    4. 훈련 데이터에 대해 모델의 `fit()` 메서드를 반복적으로 호출\n",
    "- `Sequential` 클래스 또는 **함수형 API**(비순환 유향 그래프) 두 가지 모델을 정의하는 방법이 있음\n",
    "- `Sequential` 클래스 이용\n",
    "\n",
    "```python\n",
    "from tensorflow.keras import models\n",
    "from tensorflow.keras import layers\n",
    "\n",
    "model = models.Sequential()\n",
    "model.add(layers.Dense(32, activation='relu', input_shape=(784, )))\n",
    "model.add(layers.Dense(10, activation='softmax'))\n",
    "```\n",
    "\n",
    "- 함수형 API 사용\n",
    "\n",
    "```python\n",
    "input_tensor = layers.Input(shape=(784, ))\n",
    "x = layers.Dense(32, activation='relu')(input_tensor)\n",
    "output_tensor = layers.Dense(10, activation='softmax')(x)\n",
    "\n",
    "model = models.Model(inputs=input_tensor, outputs=output_tensor)\n",
    "```\n",
    "\n",
    "- 이후 단계는 동일"
   ]
  },
  {
   "cell_type": "code",
   "execution_count": null,
   "id": "c3443176",
   "metadata": {},
   "outputs": [],
   "source": []
  }
 ],
 "metadata": {
  "kernelspec": {
   "display_name": "Python Multi",
   "language": "python",
   "name": "multi"
  },
  "language_info": {
   "codemirror_mode": {
    "name": "ipython",
    "version": 3
   },
   "file_extension": ".py",
   "mimetype": "text/x-python",
   "name": "python",
   "nbconvert_exporter": "python",
   "pygments_lexer": "ipython3",
   "version": "3.7.6"
  },
  "toc": {
   "base_numbering": 1,
   "nav_menu": {},
   "number_sections": false,
   "sideBar": true,
   "skip_h1_title": false,
   "title_cell": "Table of Contents",
   "title_sidebar": "Contents",
   "toc_cell": false,
   "toc_position": {},
   "toc_section_display": true,
   "toc_window_display": false
  }
 },
 "nbformat": 4,
 "nbformat_minor": 5
}
