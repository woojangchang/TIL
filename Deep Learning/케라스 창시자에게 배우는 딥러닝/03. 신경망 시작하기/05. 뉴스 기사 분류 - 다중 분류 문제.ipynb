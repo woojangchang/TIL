{
 "cells": [
  {
   "cell_type": "markdown",
   "id": "2d726724",
   "metadata": {},
   "source": [
    "# 3.5 뉴스 기사 분류: 다중 분류 문제\n",
    "- 로이터 뉴스를 46개 토픽으로 분류\n",
    "- **다중 분류**(multiclass classification) 문제 / **단일 레이블 다중 분류**(single-label, multiclass classification)\n",
    "    - 각 데이터가 여러 범주에 들어간다면 **다중 레이블 다중 분류**(multi-label, multiclass classification)"
   ]
  },
  {
   "cell_type": "markdown",
   "id": "ba530b91",
   "metadata": {},
   "source": [
    "## 3.5.1 로이터 데이터셋\n",
    "- 1986년 로이터 뉴스 기사\n",
    "- 46개 토픽, 각 최소 10개의 샘플"
   ]
  },
  {
   "cell_type": "code",
   "execution_count": 1,
   "id": "d6243272",
   "metadata": {},
   "outputs": [
    {
     "name": "stdout",
     "output_type": "stream",
     "text": [
      "Downloading data from https://storage.googleapis.com/tensorflow/tf-keras-datasets/reuters.npz\n",
      "2113536/2110848 [==============================] - 0s 0us/step\n",
      "2121728/2110848 [==============================] - 0s 0us/step\n"
     ]
    }
   ],
   "source": [
    "from tensorflow.keras.datasets import reuters\n",
    "\n",
    "(train_data, train_labels), (test_data, test_labels) = reuters.load_data(num_words=10000)"
   ]
  },
  {
   "cell_type": "code",
   "execution_count": 2,
   "id": "9dd5cb5d",
   "metadata": {},
   "outputs": [
    {
     "data": {
      "text/plain": [
       "(8982, 2246)"
      ]
     },
     "execution_count": 2,
     "metadata": {},
     "output_type": "execute_result"
    }
   ],
   "source": [
    "len(train_data), len(test_data)"
   ]
  },
  {
   "cell_type": "code",
   "execution_count": 3,
   "id": "d6edcaf1",
   "metadata": {},
   "outputs": [
    {
     "name": "stdout",
     "output_type": "stream",
     "text": [
      "[1, 2, 2, 8, 43, 10, 447, 5, 25, 207, 270, 5, 3095, 111, 16, 369, 186, 90, 67, 7, 89, 5, 19, 102, 6, 19, 124, 15, 90, 67, 84, 22, 482, 26, 7, 48, 4, 49, 8, 864, 39, 209, 154, 6, 151, 6, 83, 11, 15, 22, 155, 11, 15, 7, 48, 9, 4579, 1005, 504, 6, 258, 6, 272, 11, 15, 22, 134, 44, 11, 15, 16, 8, 197, 1245, 90, 67, 52, 29, 209, 30, 32, 132, 6, 109, 15, 17, 12]\n"
     ]
    }
   ],
   "source": [
    "print(train_data[0])"
   ]
  },
  {
   "cell_type": "markdown",
   "id": "f61b05d7",
   "metadata": {},
   "source": [
    "### 로이터 데이터셋을 텍스트로 디코딩하기"
   ]
  },
  {
   "cell_type": "code",
   "execution_count": 4,
   "id": "9446e4ba",
   "metadata": {},
   "outputs": [
    {
     "name": "stdout",
     "output_type": "stream",
     "text": [
      "Downloading data from https://storage.googleapis.com/tensorflow/tf-keras-datasets/reuters_word_index.json\n",
      "557056/550378 [==============================] - 0s 0us/step\n",
      "565248/550378 [==============================] - 0s 0us/step\n"
     ]
    }
   ],
   "source": [
    "word_index = reuters.get_word_index()\n",
    "reverse_word_index = dict([(value, key) for (key, value) in word_index.items()])\n",
    "decoded_newswire = ' '.join([reverse_word_index.get(i-3, '?') for i in train_data[0]])"
   ]
  },
  {
   "cell_type": "code",
   "execution_count": 5,
   "id": "33ad7758",
   "metadata": {},
   "outputs": [
    {
     "name": "stdout",
     "output_type": "stream",
     "text": [
      "? ? ? said as a result of its december acquisition of space co it expects earnings per share in 1987 of 1 15 to 1 30 dlrs per share up from 70 cts in 1986 the company said pretax net should rise to nine to 10 mln dlrs from six mln dlrs in 1986 and rental operation revenues to 19 to 22 mln dlrs from 12 5 mln dlrs it said cash flow per share this year should be 2 50 to three dlrs reuter 3\n"
     ]
    }
   ],
   "source": [
    "print(decoded_newswire)"
   ]
  },
  {
   "cell_type": "markdown",
   "id": "12c3c25c",
   "metadata": {},
   "source": [
    "## 3.5.2 데이터 준비\n",
    "- 데이터 벡터로 변환\n",
    "- 레이블 원-핫 인코딩 (**범주형 인코딩**(categorical encoding)이라고도 함)"
   ]
  },
  {
   "cell_type": "code",
   "execution_count": 6,
   "id": "4cdb1300",
   "metadata": {},
   "outputs": [],
   "source": [
    "import numpy as np\n",
    "\n",
    "def vectorize_sequences(sequences, dimension=10000):\n",
    "    results = np.zeros((len(sequences), dimension))\n",
    "    for i, sequence in enumerate(sequences):\n",
    "        results[i, sequence] = 1.\n",
    "    return results\n",
    "\n",
    "x_train = vectorize_sequences(train_data)\n",
    "x_test = vectorize_sequences(test_data)"
   ]
  },
  {
   "cell_type": "code",
   "execution_count": 7,
   "id": "cdcab5d8",
   "metadata": {},
   "outputs": [],
   "source": [
    "def to_one_hot(labels, dimension=46):\n",
    "    results = np.zeros((len(labels), dimension))\n",
    "    for i, label in enumerate(labels):\n",
    "        results[i, label] = 1.\n",
    "    return results\n",
    "\n",
    "one_hot_train_labels = to_one_hot(train_labels)\n",
    "one_hot_test_labels = to_one_hot(test_labels)"
   ]
  },
  {
   "cell_type": "code",
   "execution_count": 8,
   "id": "e1e05bd6",
   "metadata": {},
   "outputs": [
    {
     "data": {
      "text/plain": [
       "((8982, 10000), (8982, 46))"
      ]
     },
     "execution_count": 8,
     "metadata": {},
     "output_type": "execute_result"
    }
   ],
   "source": [
    "x_train.shape, one_hot_train_labels.shape"
   ]
  },
  {
   "cell_type": "code",
   "execution_count": null,
   "id": "30297e56",
   "metadata": {},
   "outputs": [],
   "source": [
    "# from tensorflow.keras.utils import to_categorical\n",
    "\n",
    "# one_hot_train_labels = to_categorical(train_labels)\n",
    "# one_hot_test_labels = to_categorical(test_labels)"
   ]
  },
  {
   "cell_type": "markdown",
   "id": "c7c50ee0",
   "metadata": {},
   "source": [
    "## 3.5.3 모델 구성\n",
    "- 각 층은 이전 층의 출력에서 제공한 정보만 사용할 수 있기 때문에 일부 정보를 누락하면 그 다음 층에서 복원할 방법이 없음 (잠재적으로 정보의 병목(information bottleneck))\n",
    "- 그러므로 영화 이진 분류의 16개 유닛에서 64개 유닛으로 규모를 키움"
   ]
  },
  {
   "cell_type": "markdown",
   "id": "39775a7e",
   "metadata": {},
   "source": [
    "### 모델 정의\n",
    "- 마지막 `Dense` 층의 크기 46 = 각 입력 샘플에 대해서 46차원의 벡터를 출력\n",
    "- 마지막 층 `softmax` 활성화 함수 = 각 입력 샘플마다 46개의 출력 클래스에 대한 확률 분포"
   ]
  },
  {
   "cell_type": "code",
   "execution_count": 9,
   "id": "ea2c9c84",
   "metadata": {},
   "outputs": [],
   "source": [
    "from tensorflow.keras import models, layers\n",
    "\n",
    "model = models.Sequential()\n",
    "model.add(layers.Dense(64, activation='relu', input_shape=(10000, )))\n",
    "model.add(layers.Dense(64, activation='relu'))\n",
    "model.add(layers.Dense(46, activation='softmax'))"
   ]
  },
  {
   "cell_type": "markdown",
   "id": "0b4a9c36",
   "metadata": {},
   "source": [
    "### 모델 컴파일\n",
    "- 최선의 손실 함수 : `categorical_crossentropy`로 두 확률 분포 사이의 거리를 측정"
   ]
  },
  {
   "cell_type": "code",
   "execution_count": 10,
   "id": "19f42547",
   "metadata": {},
   "outputs": [],
   "source": [
    "model.compile(optimizer='rmsprop',\n",
    "             loss='categorical_crossentropy',\n",
    "             metrics=['accuracy'])"
   ]
  },
  {
   "cell_type": "markdown",
   "id": "9c8eed36",
   "metadata": {},
   "source": [
    "## 3.5.4 훈련 검증"
   ]
  },
  {
   "cell_type": "markdown",
   "id": "b05364d3",
   "metadata": {},
   "source": [
    "### 검증 세트 준비하기\n",
    "- 1000개 데이터를 검증 세트로 사용"
   ]
  },
  {
   "cell_type": "code",
   "execution_count": 11,
   "id": "29ee5aaf",
   "metadata": {},
   "outputs": [],
   "source": [
    "x_val = x_train[:1000]\n",
    "partial_x_train = x_train[1000:]\n",
    "\n",
    "y_val = one_hot_train_labels[:1000]\n",
    "partial_y_train = one_hot_train_labels[1000:]"
   ]
  },
  {
   "cell_type": "markdown",
   "id": "0b4fac1a",
   "metadata": {},
   "source": [
    "### 모델 훈련"
   ]
  },
  {
   "cell_type": "code",
   "execution_count": 13,
   "id": "4d0c03af",
   "metadata": {},
   "outputs": [
    {
     "name": "stdout",
     "output_type": "stream",
     "text": [
      "Epoch 1/20\n",
      "16/16 [==============================] - 3s 23ms/step - loss: 2.5166 - accuracy: 0.5370 - val_loss: 1.6661 - val_accuracy: 0.6480\n",
      "Epoch 2/20\n",
      "16/16 [==============================] - 0s 12ms/step - loss: 1.3535 - accuracy: 0.7164 - val_loss: 1.2852 - val_accuracy: 0.7260\n",
      "Epoch 3/20\n",
      "16/16 [==============================] - 0s 12ms/step - loss: 1.0158 - accuracy: 0.7858 - val_loss: 1.1322 - val_accuracy: 0.7500\n",
      "Epoch 4/20\n",
      "16/16 [==============================] - 0s 12ms/step - loss: 0.7971 - accuracy: 0.8321 - val_loss: 1.0432 - val_accuracy: 0.7880\n",
      "Epoch 5/20\n",
      "16/16 [==============================] - 0s 12ms/step - loss: 0.6445 - accuracy: 0.8672 - val_loss: 1.0067 - val_accuracy: 0.7920\n",
      "Epoch 6/20\n",
      "16/16 [==============================] - 0s 12ms/step - loss: 0.5161 - accuracy: 0.8945 - val_loss: 0.9569 - val_accuracy: 0.8090\n",
      "Epoch 7/20\n",
      "16/16 [==============================] - 0s 12ms/step - loss: 0.4209 - accuracy: 0.9124 - val_loss: 0.9305 - val_accuracy: 0.8130\n",
      "Epoch 8/20\n",
      "16/16 [==============================] - 0s 13ms/step - loss: 0.3384 - accuracy: 0.9312 - val_loss: 0.9141 - val_accuracy: 0.8170\n",
      "Epoch 9/20\n",
      "16/16 [==============================] - 0s 12ms/step - loss: 0.2793 - accuracy: 0.9381 - val_loss: 0.9251 - val_accuracy: 0.8180\n",
      "Epoch 10/20\n",
      "16/16 [==============================] - 0s 13ms/step - loss: 0.2319 - accuracy: 0.9455 - val_loss: 1.0061 - val_accuracy: 0.7880\n",
      "Epoch 11/20\n",
      "16/16 [==============================] - 0s 13ms/step - loss: 0.2026 - accuracy: 0.9493 - val_loss: 0.9782 - val_accuracy: 0.8110\n",
      "Epoch 12/20\n",
      "16/16 [==============================] - 0s 12ms/step - loss: 0.1845 - accuracy: 0.9500 - val_loss: 0.9711 - val_accuracy: 0.8080\n",
      "Epoch 13/20\n",
      "16/16 [==============================] - 0s 12ms/step - loss: 0.1583 - accuracy: 0.9535 - val_loss: 0.9756 - val_accuracy: 0.8160\n",
      "Epoch 14/20\n",
      "16/16 [==============================] - 0s 12ms/step - loss: 0.1479 - accuracy: 0.9544 - val_loss: 1.0444 - val_accuracy: 0.8020\n",
      "Epoch 15/20\n",
      "16/16 [==============================] - 0s 12ms/step - loss: 0.1384 - accuracy: 0.9543 - val_loss: 1.0268 - val_accuracy: 0.8160\n",
      "Epoch 16/20\n",
      "16/16 [==============================] - 0s 11ms/step - loss: 0.1312 - accuracy: 0.9570 - val_loss: 1.0176 - val_accuracy: 0.8170\n",
      "Epoch 17/20\n",
      "16/16 [==============================] - 0s 11ms/step - loss: 0.1210 - accuracy: 0.9574 - val_loss: 1.0911 - val_accuracy: 0.7970\n",
      "Epoch 18/20\n",
      "16/16 [==============================] - 0s 11ms/step - loss: 0.1202 - accuracy: 0.9585 - val_loss: 1.0908 - val_accuracy: 0.8070\n",
      "Epoch 19/20\n",
      "16/16 [==============================] - 0s 12ms/step - loss: 0.1178 - accuracy: 0.9580 - val_loss: 1.0949 - val_accuracy: 0.8050\n",
      "Epoch 20/20\n",
      "16/16 [==============================] - 0s 10ms/step - loss: 0.1101 - accuracy: 0.9553 - val_loss: 1.1891 - val_accuracy: 0.7880\n"
     ]
    }
   ],
   "source": [
    "history = model.fit(partial_x_train, partial_y_train,\n",
    "                   epochs=20, batch_size=512, validation_data=(x_val, y_val))"
   ]
  },
  {
   "cell_type": "markdown",
   "id": "d44a1b8d",
   "metadata": {},
   "source": [
    "### 훈련과 검증 손실 그리기"
   ]
  },
  {
   "cell_type": "code",
   "execution_count": 14,
   "id": "3995028a",
   "metadata": {},
   "outputs": [
    {
     "data": {
      "image/png": "[encoded data removed]",
      "text/plain": [
       "<Figure size 432x288 with 1 Axes>"
      ]
     },
     "metadata": {
      "needs_background": "light"
     },
     "output_type": "display_data"
    }
   ],
   "source": [
    "import matplotlib.pyplot as plt\n",
    "\n",
    "loss = history.history['loss']\n",
    "val_loss = history.history['val_loss']\n",
    "\n",
    "epochs = range(1, len(loss) + 1)\n",
    "\n",
    "plt.plot(epochs, loss, 'bo', label='Training loss')\n",
    "plt.plot(epochs, val_loss, 'b', label='Validation loss')\n",
    "plt.title('Training and validation loss')\n",
    "plt.xlabel('Epochs')\n",
    "plt.ylabel('Loss')\n",
    "plt.legend()\n",
    "\n",
    "plt.show()"
   ]
  },
  {
   "cell_type": "markdown",
   "id": "332fd15d",
   "metadata": {},
   "source": [
    "### 훈련과 검증 정확도 그리기"
   ]
  },
  {
   "cell_type": "code",
   "execution_count": 15,
   "id": "c8f28549",
   "metadata": {},
   "outputs": [
    {
     "data": {
      "image/png": "[encoded data removed]",
      "text/plain": [
       "<Figure size 432x288 with 1 Axes>"
      ]
     },
     "metadata": {
      "needs_background": "light"
     },
     "output_type": "display_data"
    }
   ],
   "source": [
    "acc = history.history['accuracy']\n",
    "val_acc = history.history['val_accuracy']\n",
    "\n",
    "plt.plot(epochs, acc, 'bo', label='Training acc')\n",
    "plt.plot(epochs, val_acc, 'b', label='Validation acc')\n",
    "plt.title('Training and validation accuracy')\n",
    "plt.xlabel('Epochs')\n",
    "plt.ylabel('Accuracy')\n",
    "plt.legend()\n",
    "\n",
    "plt.show()"
   ]
  },
  {
   "cell_type": "markdown",
   "id": "96510083",
   "metadata": {},
   "source": [
    "### 모델을 처음부터 다시 훈련하기\n",
    "- 9번째부터 과적합"
   ]
  },
  {
   "cell_type": "code",
   "execution_count": 16,
   "id": "013e68fa",
   "metadata": {},
   "outputs": [
    {
     "name": "stdout",
     "output_type": "stream",
     "text": [
      "Epoch 1/9\n",
      "16/16 [==============================] - 1s 20ms/step - loss: 2.7630 - accuracy: 0.4994 - val_loss: 1.8217 - val_accuracy: 0.6500\n",
      "Epoch 2/9\n",
      "16/16 [==============================] - 0s 12ms/step - loss: 1.4503 - accuracy: 0.7086 - val_loss: 1.3092 - val_accuracy: 0.7240\n",
      "Epoch 3/9\n",
      "16/16 [==============================] - 0s 11ms/step - loss: 1.0352 - accuracy: 0.7809 - val_loss: 1.1206 - val_accuracy: 0.7700\n",
      "Epoch 4/9\n",
      "16/16 [==============================] - 0s 12ms/step - loss: 0.8044 - accuracy: 0.8334 - val_loss: 1.0089 - val_accuracy: 0.7930\n",
      "Epoch 5/9\n",
      "16/16 [==============================] - 0s 12ms/step - loss: 0.6339 - accuracy: 0.8711 - val_loss: 0.9492 - val_accuracy: 0.8110\n",
      "Epoch 6/9\n",
      "16/16 [==============================] - 0s 11ms/step - loss: 0.5026 - accuracy: 0.8963 - val_loss: 0.9408 - val_accuracy: 0.8050\n",
      "Epoch 7/9\n",
      "16/16 [==============================] - 0s 12ms/step - loss: 0.4073 - accuracy: 0.9142 - val_loss: 0.9344 - val_accuracy: 0.8010\n",
      "Epoch 8/9\n",
      "16/16 [==============================] - 0s 12ms/step - loss: 0.3316 - accuracy: 0.9291 - val_loss: 0.9075 - val_accuracy: 0.8170\n",
      "Epoch 9/9\n",
      "16/16 [==============================] - 0s 10ms/step - loss: 0.2733 - accuracy: 0.9394 - val_loss: 0.8955 - val_accuracy: 0.8180\n",
      "71/71 [==============================] - 0s 2ms/step - loss: 0.9746 - accuracy: 0.7943\n"
     ]
    }
   ],
   "source": [
    "from tensorflow.keras import models, layers\n",
    "\n",
    "model = models.Sequential()\n",
    "model.add(layers.Dense(64, activation='relu', input_shape=(10000, )))\n",
    "model.add(layers.Dense(64, activation='relu'))\n",
    "model.add(layers.Dense(46, activation='softmax'))\n",
    "\n",
    "model.compile(optimizer='rmsprop',\n",
    "             loss='categorical_crossentropy',\n",
    "             metrics=['accuracy'])\n",
    "\n",
    "history = model.fit(partial_x_train, partial_y_train,\n",
    "                   epochs=9, batch_size=512, validation_data=(x_val, y_val))\n",
    "\n",
    "results = model.evaluate(x_test, one_hot_test_labels)"
   ]
  },
  {
   "cell_type": "code",
   "execution_count": 17,
   "id": "a3f5d3b9",
   "metadata": {},
   "outputs": [
    {
     "data": {
      "text/plain": [
       "[0.9745821952819824, 0.7943009734153748]"
      ]
     },
     "execution_count": 17,
     "metadata": {},
     "output_type": "execute_result"
    }
   ],
   "source": [
    "results"
   ]
  },
  {
   "cell_type": "markdown",
   "id": "044f3117",
   "metadata": {},
   "source": [
    "#### 정확도 해석\n",
    "- 무작위 분류 시 18% 정도이므로, 79%면 좋은 편"
   ]
  },
  {
   "cell_type": "code",
   "execution_count": 18,
   "id": "915f7967",
   "metadata": {},
   "outputs": [
    {
     "data": {
      "text/plain": [
       "0.1829919857524488"
      ]
     },
     "execution_count": 18,
     "metadata": {},
     "output_type": "execute_result"
    }
   ],
   "source": [
    "import copy\n",
    "\n",
    "test_labels_copy = copy.copy(test_labels)\n",
    "np.random.shuffle(test_labels_copy)\n",
    "hits_array = np.array(test_labels) == np.array(test_labels_copy)\n",
    "float(np.sum(hits_array)) / len(test_labels)"
   ]
  },
  {
   "cell_type": "markdown",
   "id": "96529b9f",
   "metadata": {},
   "source": [
    "## 3.5.5 새로운 데이터에 대해 예측하기"
   ]
  },
  {
   "cell_type": "code",
   "execution_count": 19,
   "id": "3fb0b970",
   "metadata": {},
   "outputs": [],
   "source": [
    "predictions = model.predict(x_test)"
   ]
  },
  {
   "cell_type": "code",
   "execution_count": 20,
   "id": "276102ae",
   "metadata": {},
   "outputs": [
    {
     "data": {
      "text/plain": [
       "(2246, 46)"
      ]
     },
     "execution_count": 20,
     "metadata": {},
     "output_type": "execute_result"
    }
   ],
   "source": [
    "# 각 항목은 길이가 46인 벡터\n",
    "predictions.shape"
   ]
  },
  {
   "cell_type": "code",
   "execution_count": 21,
   "id": "514e4770",
   "metadata": {},
   "outputs": [
    {
     "data": {
      "text/plain": [
       "1.0"
      ]
     },
     "execution_count": 21,
     "metadata": {},
     "output_type": "execute_result"
    }
   ],
   "source": [
    "# 벡터 원소 합 = 1\n",
    "np.sum(predictions[0])"
   ]
  },
  {
   "cell_type": "code",
   "execution_count": 22,
   "id": "8140bec4",
   "metadata": {},
   "outputs": [
    {
     "data": {
      "text/plain": [
       "3"
      ]
     },
     "execution_count": 22,
     "metadata": {},
     "output_type": "execute_result"
    }
   ],
   "source": [
    "# 가장 큰 값이 예측 클래스\n",
    "np.argmax(predictions[0])"
   ]
  },
  {
   "cell_type": "markdown",
   "id": "149e267a",
   "metadata": {},
   "source": [
    "## 3.5.6 레이블과 손실을 다루는 다른 방법\n",
    "- 정수 텐서로 변환했을 때 loss에 `sparse_categorical_crossentropy` 사용\n",
    "\n",
    "```python\n",
    "y_train = np.array(train_labels)\n",
    "y_test = np.array(test_labels)\n",
    "\n",
    "model.compile(optimizer='rmsprop',\n",
    "              loss='sparse_categorical_crossentropy',\n",
    "              metrics=['accuracy'])\n",
    "```"
   ]
  },
  {
   "cell_type": "markdown",
   "id": "f7ebb653",
   "metadata": {},
   "source": [
    "## 3.5.7 충분히 큰 중간층을 두어야 하는 이유\n",
    "- 정보의 병목\n",
    "- 정확도가 79%에서 62%로 17%나 감소\n",
    "- 많은 정보(46개의 분할 초평면을 복원하기에 충분한 정보)를 중간층의 저차원 표현 공간으로 압축했기 때문에 발생"
   ]
  },
  {
   "cell_type": "code",
   "execution_count": 24,
   "id": "9d83d954",
   "metadata": {},
   "outputs": [
    {
     "name": "stdout",
     "output_type": "stream",
     "text": [
      "Epoch 1/9\n",
      "16/16 [==============================] - 1s 20ms/step - loss: 3.6010 - accuracy: 0.0737 - val_loss: 3.3654 - val_accuracy: 0.0600\n",
      "Epoch 2/9\n",
      "16/16 [==============================] - 0s 12ms/step - loss: 3.1170 - accuracy: 0.1040 - val_loss: 2.9151 - val_accuracy: 0.3930\n",
      "Epoch 3/9\n",
      "16/16 [==============================] - 0s 12ms/step - loss: 2.6337 - accuracy: 0.4116 - val_loss: 2.4917 - val_accuracy: 0.3940\n",
      "Epoch 4/9\n",
      "16/16 [==============================] - 0s 12ms/step - loss: 2.1984 - accuracy: 0.4057 - val_loss: 2.1354 - val_accuracy: 0.3880\n",
      "Epoch 5/9\n",
      "16/16 [==============================] - 0s 12ms/step - loss: 1.8447 - accuracy: 0.5276 - val_loss: 1.8580 - val_accuracy: 0.5610\n",
      "Epoch 6/9\n",
      "16/16 [==============================] - 0s 12ms/step - loss: 1.5678 - accuracy: 0.6298 - val_loss: 1.6651 - val_accuracy: 0.6060\n",
      "Epoch 7/9\n",
      "16/16 [==============================] - 0s 11ms/step - loss: 1.3779 - accuracy: 0.6602 - val_loss: 1.5466 - val_accuracy: 0.6190\n",
      "Epoch 8/9\n",
      "16/16 [==============================] - 0s 11ms/step - loss: 1.2460 - accuracy: 0.6718 - val_loss: 1.4727 - val_accuracy: 0.6300\n",
      "Epoch 9/9\n",
      "16/16 [==============================] - 0s 10ms/step - loss: 1.1467 - accuracy: 0.6792 - val_loss: 1.4300 - val_accuracy: 0.6350\n",
      "71/71 [==============================] - 0s 2ms/step - loss: 1.4845 - accuracy: 0.6269\n"
     ]
    }
   ],
   "source": [
    "from tensorflow.keras import models, layers\n",
    "\n",
    "model = models.Sequential()\n",
    "model.add(layers.Dense(64, activation='relu', input_shape=(10000, )))\n",
    "model.add(layers.Dense(4, activation='relu'))\n",
    "model.add(layers.Dense(46, activation='softmax'))\n",
    "\n",
    "model.compile(optimizer='rmsprop',\n",
    "             loss='categorical_crossentropy',\n",
    "             metrics=['accuracy'])\n",
    "\n",
    "history = model.fit(partial_x_train, partial_y_train,\n",
    "                   epochs=9, batch_size=512, validation_data=(x_val, y_val))\n",
    "\n",
    "results = model.evaluate(x_test, one_hot_test_labels)"
   ]
  },
  {
   "cell_type": "code",
   "execution_count": 25,
   "id": "9e830f67",
   "metadata": {},
   "outputs": [
    {
     "data": {
      "text/plain": [
       "[1.4844651222229004, 0.6268922686576843]"
      ]
     },
     "execution_count": 25,
     "metadata": {},
     "output_type": "execute_result"
    }
   ],
   "source": [
    "results"
   ]
  },
  {
   "cell_type": "markdown",
   "id": "c689c5b1",
   "metadata": {},
   "source": [
    "## 3.5.8 추가 실험"
   ]
  },
  {
   "cell_type": "markdown",
   "id": "a9110fb7",
   "metadata": {},
   "source": [
    "### 1. 더 크거나 작은 층 사용"
   ]
  },
  {
   "cell_type": "markdown",
   "id": "2627c3e7",
   "metadata": {},
   "source": [
    "#### 32개의 유닛\n",
    "- 77%"
   ]
  },
  {
   "cell_type": "code",
   "execution_count": 26,
   "id": "d1e47a63",
   "metadata": {},
   "outputs": [
    {
     "name": "stdout",
     "output_type": "stream",
     "text": [
      "Epoch 1/9\n",
      "16/16 [==============================] - 1s 19ms/step - loss: 2.8914 - accuracy: 0.5013 - val_loss: 2.1186 - val_accuracy: 0.5920\n",
      "Epoch 2/9\n",
      "16/16 [==============================] - 0s 12ms/step - loss: 1.7490 - accuracy: 0.6619 - val_loss: 1.5586 - val_accuracy: 0.6690\n",
      "Epoch 3/9\n",
      "16/16 [==============================] - 0s 11ms/step - loss: 1.3147 - accuracy: 0.7254 - val_loss: 1.3294 - val_accuracy: 0.7060\n",
      "Epoch 4/9\n",
      "16/16 [==============================] - 0s 11ms/step - loss: 1.0815 - accuracy: 0.7685 - val_loss: 1.2016 - val_accuracy: 0.7440\n",
      "Epoch 5/9\n",
      "16/16 [==============================] - 0s 11ms/step - loss: 0.9226 - accuracy: 0.8003 - val_loss: 1.1268 - val_accuracy: 0.7520\n",
      "Epoch 6/9\n",
      "16/16 [==============================] - 0s 11ms/step - loss: 0.7941 - accuracy: 0.8266 - val_loss: 1.0594 - val_accuracy: 0.7810\n",
      "Epoch 7/9\n",
      "16/16 [==============================] - 0s 12ms/step - loss: 0.6871 - accuracy: 0.8497 - val_loss: 1.0088 - val_accuracy: 0.7890\n",
      "Epoch 8/9\n",
      "16/16 [==============================] - 0s 11ms/step - loss: 0.5914 - accuracy: 0.8711 - val_loss: 1.0221 - val_accuracy: 0.7720\n",
      "Epoch 9/9\n",
      "16/16 [==============================] - 0s 10ms/step - loss: 0.5104 - accuracy: 0.8900 - val_loss: 0.9680 - val_accuracy: 0.8000\n",
      "71/71 [==============================] - 0s 2ms/step - loss: 1.0251 - accuracy: 0.7747\n"
     ]
    }
   ],
   "source": [
    "from tensorflow.keras import models, layers\n",
    "\n",
    "model = models.Sequential()\n",
    "model.add(layers.Dense(32, activation='relu', input_shape=(10000, )))\n",
    "model.add(layers.Dense(32, activation='relu'))\n",
    "model.add(layers.Dense(46, activation='softmax'))\n",
    "\n",
    "model.compile(optimizer='rmsprop',\n",
    "             loss='categorical_crossentropy',\n",
    "             metrics=['accuracy'])\n",
    "\n",
    "history = model.fit(partial_x_train, partial_y_train,\n",
    "                   epochs=9, batch_size=512, validation_data=(x_val, y_val))\n",
    "\n",
    "results = model.evaluate(x_test, one_hot_test_labels)"
   ]
  },
  {
   "cell_type": "markdown",
   "id": "92c57d17",
   "metadata": {},
   "source": [
    "#### 128개의 유닛\n",
    "- 77% (훈련 세트 정확도는 매우 높음)"
   ]
  },
  {
   "cell_type": "code",
   "execution_count": 27,
   "id": "73d876d6",
   "metadata": {},
   "outputs": [
    {
     "name": "stdout",
     "output_type": "stream",
     "text": [
      "Epoch 1/9\n",
      "16/16 [==============================] - 1s 20ms/step - loss: 2.1609 - accuracy: 0.5517 - val_loss: 1.3857 - val_accuracy: 0.6820\n",
      "Epoch 2/9\n",
      "16/16 [==============================] - 0s 13ms/step - loss: 1.1075 - accuracy: 0.7571 - val_loss: 1.1085 - val_accuracy: 0.7580\n",
      "Epoch 3/9\n",
      "16/16 [==============================] - 0s 12ms/step - loss: 0.7986 - accuracy: 0.8269 - val_loss: 0.9974 - val_accuracy: 0.7940\n",
      "Epoch 4/9\n",
      "16/16 [==============================] - 0s 12ms/step - loss: 0.5647 - accuracy: 0.8806 - val_loss: 1.1008 - val_accuracy: 0.7420\n",
      "Epoch 5/9\n",
      "16/16 [==============================] - 0s 12ms/step - loss: 0.4310 - accuracy: 0.9083 - val_loss: 0.8940 - val_accuracy: 0.8080\n",
      "Epoch 6/9\n",
      "16/16 [==============================] - 0s 13ms/step - loss: 0.3175 - accuracy: 0.9316 - val_loss: 1.0179 - val_accuracy: 0.7750\n",
      "Epoch 7/9\n",
      "16/16 [==============================] - 0s 13ms/step - loss: 0.2604 - accuracy: 0.9410 - val_loss: 0.9394 - val_accuracy: 0.8050\n",
      "Epoch 8/9\n",
      "16/16 [==============================] - 0s 12ms/step - loss: 0.2132 - accuracy: 0.9456 - val_loss: 0.9507 - val_accuracy: 0.8020\n",
      "Epoch 9/9\n",
      "16/16 [==============================] - 0s 12ms/step - loss: 0.1879 - accuracy: 0.9484 - val_loss: 0.9953 - val_accuracy: 0.7930\n",
      "71/71 [==============================] - 0s 2ms/step - loss: 1.1445 - accuracy: 0.7707\n"
     ]
    }
   ],
   "source": [
    "from tensorflow.keras import models, layers\n",
    "\n",
    "model = models.Sequential()\n",
    "model.add(layers.Dense(128, activation='relu', input_shape=(10000, )))\n",
    "model.add(layers.Dense(128, activation='relu'))\n",
    "model.add(layers.Dense(46, activation='softmax'))\n",
    "\n",
    "model.compile(optimizer='rmsprop',\n",
    "             loss='categorical_crossentropy',\n",
    "             metrics=['accuracy'])\n",
    "\n",
    "history = model.fit(partial_x_train, partial_y_train,\n",
    "                   epochs=9, batch_size=512, validation_data=(x_val, y_val))\n",
    "\n",
    "results = model.evaluate(x_test, one_hot_test_labels)"
   ]
  },
  {
   "cell_type": "markdown",
   "id": "b93a832c",
   "metadata": {},
   "source": [
    "### 2. 1개 또는 3개의 은닉 층 사용"
   ]
  },
  {
   "cell_type": "markdown",
   "id": "44892485",
   "metadata": {},
   "source": [
    "#### 1개의 은닉 층\n",
    "- 79%"
   ]
  },
  {
   "cell_type": "code",
   "execution_count": 29,
   "id": "2f5632a5",
   "metadata": {},
   "outputs": [
    {
     "name": "stdout",
     "output_type": "stream",
     "text": [
      "Epoch 1/9\n",
      "16/16 [==============================] - 1s 19ms/step - loss: 2.5875 - accuracy: 0.5616 - val_loss: 1.8367 - val_accuracy: 0.6540\n",
      "Epoch 2/9\n",
      "16/16 [==============================] - 0s 11ms/step - loss: 1.4900 - accuracy: 0.7141 - val_loss: 1.3570 - val_accuracy: 0.7150\n",
      "Epoch 3/9\n",
      "16/16 [==============================] - 0s 11ms/step - loss: 1.0767 - accuracy: 0.7848 - val_loss: 1.1426 - val_accuracy: 0.7590\n",
      "Epoch 4/9\n",
      "16/16 [==============================] - 0s 11ms/step - loss: 0.8377 - accuracy: 0.8320 - val_loss: 1.0114 - val_accuracy: 0.7950\n",
      "Epoch 5/9\n",
      "16/16 [==============================] - 0s 11ms/step - loss: 0.6717 - accuracy: 0.8690 - val_loss: 0.9433 - val_accuracy: 0.8080\n",
      "Epoch 6/9\n",
      "16/16 [==============================] - 0s 11ms/step - loss: 0.5475 - accuracy: 0.8931 - val_loss: 0.8843 - val_accuracy: 0.8150\n",
      "Epoch 7/9\n",
      "16/16 [==============================] - 0s 11ms/step - loss: 0.4525 - accuracy: 0.9079 - val_loss: 0.8572 - val_accuracy: 0.8210\n",
      "Epoch 8/9\n",
      "16/16 [==============================] - 0s 11ms/step - loss: 0.3766 - accuracy: 0.9235 - val_loss: 0.8520 - val_accuracy: 0.8180\n",
      "Epoch 9/9\n",
      "16/16 [==============================] - 0s 10ms/step - loss: 0.3161 - accuracy: 0.9340 - val_loss: 0.8228 - val_accuracy: 0.8260\n",
      "71/71 [==============================] - 0s 2ms/step - loss: 0.8927 - accuracy: 0.7974\n"
     ]
    }
   ],
   "source": [
    "from tensorflow.keras import models, layers\n",
    "\n",
    "model = models.Sequential()\n",
    "model.add(layers.Dense(64, activation='relu', input_shape=(10000, )))\n",
    "model.add(layers.Dense(46, activation='softmax'))\n",
    "\n",
    "model.compile(optimizer='rmsprop',\n",
    "             loss='categorical_crossentropy',\n",
    "             metrics=['accuracy'])\n",
    "\n",
    "history = model.fit(partial_x_train, partial_y_train,\n",
    "                   epochs=9, batch_size=512, validation_data=(x_val, y_val))\n",
    "\n",
    "results = model.evaluate(x_test, one_hot_test_labels)"
   ]
  },
  {
   "cell_type": "markdown",
   "id": "81bca4ba",
   "metadata": {},
   "source": [
    "#### 3개의 은닉 층\n",
    "- 78%"
   ]
  },
  {
   "cell_type": "code",
   "execution_count": 30,
   "id": "10741ae4",
   "metadata": {},
   "outputs": [
    {
     "name": "stdout",
     "output_type": "stream",
     "text": [
      "Epoch 1/9\n",
      "16/16 [==============================] - 1s 20ms/step - loss: 2.7270 - accuracy: 0.4119 - val_loss: 1.7952 - val_accuracy: 0.5860\n",
      "Epoch 2/9\n",
      "16/16 [==============================] - 0s 12ms/step - loss: 1.4676 - accuracy: 0.6868 - val_loss: 1.3225 - val_accuracy: 0.7030\n",
      "Epoch 3/9\n",
      "16/16 [==============================] - 0s 12ms/step - loss: 1.0981 - accuracy: 0.7578 - val_loss: 1.1635 - val_accuracy: 0.7420\n",
      "Epoch 4/9\n",
      "16/16 [==============================] - 0s 12ms/step - loss: 0.8809 - accuracy: 0.8038 - val_loss: 1.0826 - val_accuracy: 0.7690\n",
      "Epoch 5/9\n",
      "16/16 [==============================] - 0s 12ms/step - loss: 0.7051 - accuracy: 0.8497 - val_loss: 1.0201 - val_accuracy: 0.7870\n",
      "Epoch 6/9\n",
      "16/16 [==============================] - 0s 12ms/step - loss: 0.5642 - accuracy: 0.8751 - val_loss: 1.0697 - val_accuracy: 0.7850\n",
      "Epoch 7/9\n",
      "16/16 [==============================] - 0s 13ms/step - loss: 0.4550 - accuracy: 0.8981 - val_loss: 0.9826 - val_accuracy: 0.8030\n",
      "Epoch 8/9\n",
      "16/16 [==============================] - 0s 12ms/step - loss: 0.3851 - accuracy: 0.9163 - val_loss: 0.9344 - val_accuracy: 0.8210\n",
      "Epoch 9/9\n",
      "16/16 [==============================] - 0s 11ms/step - loss: 0.3045 - accuracy: 0.9351 - val_loss: 0.9584 - val_accuracy: 0.8200\n",
      "71/71 [==============================] - 0s 2ms/step - loss: 1.0859 - accuracy: 0.7801\n"
     ]
    }
   ],
   "source": [
    "from tensorflow.keras import models, layers\n",
    "\n",
    "model = models.Sequential()\n",
    "model.add(layers.Dense(64, activation='relu', input_shape=(10000, )))\n",
    "model.add(layers.Dense(64, activation='relu'))\n",
    "model.add(layers.Dense(64, activation='relu'))\n",
    "model.add(layers.Dense(46, activation='softmax'))\n",
    "\n",
    "model.compile(optimizer='rmsprop',\n",
    "             loss='categorical_crossentropy',\n",
    "             metrics=['accuracy'])\n",
    "\n",
    "history = model.fit(partial_x_train, partial_y_train,\n",
    "                   epochs=9, batch_size=512, validation_data=(x_val, y_val))\n",
    "\n",
    "results = model.evaluate(x_test, one_hot_test_labels)"
   ]
  },
  {
   "cell_type": "code",
   "execution_count": null,
   "id": "38f1b648",
   "metadata": {},
   "outputs": [],
   "source": []
  }
 ],
 "metadata": {
  "kernelspec": {
   "display_name": "Python Multi",
   "language": "python",
   "name": "multi"
  },
  "language_info": {
   "codemirror_mode": {
    "name": "ipython",
    "version": 3
   },
   "file_extension": ".py",
   "mimetype": "text/x-python",
   "name": "python",
   "nbconvert_exporter": "python",
   "pygments_lexer": "ipython3",
   "version": "3.7.6"
  },
  "toc": {
   "base_numbering": 1,
   "nav_menu": {},
   "number_sections": false,
   "sideBar": true,
   "skip_h1_title": false,
   "title_cell": "Table of Contents",
   "title_sidebar": "Contents",
   "toc_cell": false,
   "toc_position": {},
   "toc_section_display": true,
   "toc_window_display": false
  }
 },
 "nbformat": 4,
 "nbformat_minor": 5
}
