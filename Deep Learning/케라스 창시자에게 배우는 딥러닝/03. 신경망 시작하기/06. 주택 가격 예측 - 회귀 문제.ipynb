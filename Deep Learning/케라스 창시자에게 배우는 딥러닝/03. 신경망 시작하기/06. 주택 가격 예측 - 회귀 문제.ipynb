{
 "cells": [
  {
   "cell_type": "markdown",
   "id": "d8ffc199",
   "metadata": {},
   "source": [
    "# 3.6 주택 가격 예측: 회귀 문제\n",
    "- 연속적인 값을 예측하는 **회귀**(regression)"
   ]
  },
  {
   "cell_type": "markdown",
   "id": "d7934696",
   "metadata": {},
   "source": [
    "## 3.6.1 보스턴 주택 가격 데이터셋\n",
    "- 1970년 중반 보스턴 외곽 지역의 범죄율, 지방세율, 주택당 평균 방의 개수, 고속도로 접근성 등의 데이터로 주택 가격의 중간 값 예측\n",
    "- 404개 훈련 샘플, 102개 테스트 샘플"
   ]
  },
  {
   "cell_type": "code",
   "execution_count": 1,
   "id": "f8070f79",
   "metadata": {},
   "outputs": [],
   "source": [
    "from tensorflow.keras.datasets import boston_housing\n",
    "\n",
    "(train_data, train_targets), (test_data, test_targets) = boston_housing.load_data()"
   ]
  },
  {
   "cell_type": "code",
   "execution_count": 2,
   "id": "54904279",
   "metadata": {},
   "outputs": [
    {
     "data": {
      "text/plain": [
       "((404, 13), (102, 13))"
      ]
     },
     "execution_count": 2,
     "metadata": {},
     "output_type": "execute_result"
    }
   ],
   "source": [
    "train_data.shape, test_data.shape"
   ]
  },
  {
   "cell_type": "code",
   "execution_count": 3,
   "id": "1db12dab",
   "metadata": {},
   "outputs": [
    {
     "name": "stdout",
     "output_type": "stream",
     "text": [
      "[15.2 42.3 50.  21.1 17.7 18.5 11.3 15.6 15.6 14.4 12.1 17.9 23.1 19.9\n",
      " 15.7  8.8 50.  22.5 24.1 27.5 10.9 30.8 32.9 24.  18.5 13.3 22.9 34.7\n",
      " 16.6 17.5 22.3 16.1 14.9 23.1 34.9 25.  13.9 13.1 20.4 20.  15.2 24.7\n",
      " 22.2 16.7 12.7 15.6 18.4 21.  30.1 15.1 18.7  9.6 31.5 24.8 19.1 22.\n",
      " 14.5 11.  32.  29.4 20.3 24.4 14.6 19.5 14.1 14.3 15.6 10.5  6.3 19.3\n",
      " 19.3 13.4 36.4 17.8 13.5 16.5  8.3 14.3 16.  13.4 28.6 43.5 20.2 22.\n",
      " 23.  20.7 12.5 48.5 14.6 13.4 23.7 50.  21.7 39.8 38.7 22.2 34.9 22.5\n",
      " 31.1 28.7 46.  41.7 21.  26.6 15.  24.4 13.3 21.2 11.7 21.7 19.4 50.\n",
      " 22.8 19.7 24.7 36.2 14.2 18.9 18.3 20.6 24.6 18.2  8.7 44.  10.4 13.2\n",
      " 21.2 37.  30.7 22.9 20.  19.3 31.7 32.  23.1 18.8 10.9 50.  19.6  5.\n",
      " 14.4 19.8 13.8 19.6 23.9 24.5 25.  19.9 17.2 24.6 13.5 26.6 21.4 11.9\n",
      " 22.6 19.6  8.5 23.7 23.1 22.4 20.5 23.6 18.4 35.2 23.1 27.9 20.6 23.7\n",
      " 28.  13.6 27.1 23.6 20.6 18.2 21.7 17.1  8.4 25.3 13.8 22.2 18.4 20.7\n",
      " 31.6 30.5 20.3  8.8 19.2 19.4 23.1 23.  14.8 48.8 22.6 33.4 21.1 13.6\n",
      " 32.2 13.1 23.4 18.9 23.9 11.8 23.3 22.8 19.6 16.7 13.4 22.2 20.4 21.8\n",
      " 26.4 14.9 24.1 23.8 12.3 29.1 21.  19.5 23.3 23.8 17.8 11.5 21.7 19.9\n",
      " 25.  33.4 28.5 21.4 24.3 27.5 33.1 16.2 23.3 48.3 22.9 22.8 13.1 12.7\n",
      " 22.6 15.  15.3 10.5 24.  18.5 21.7 19.5 33.2 23.2  5.  19.1 12.7 22.3\n",
      " 10.2 13.9 16.3 17.  20.1 29.9 17.2 37.3 45.4 17.8 23.2 29.  22.  18.\n",
      " 17.4 34.6 20.1 25.  15.6 24.8 28.2 21.2 21.4 23.8 31.  26.2 17.4 37.9\n",
      " 17.5 20.   8.3 23.9  8.4 13.8  7.2 11.7 17.1 21.6 50.  16.1 20.4 20.6\n",
      " 21.4 20.6 36.5  8.5 24.8 10.8 21.9 17.3 18.9 36.2 14.9 18.2 33.3 21.8\n",
      " 19.7 31.6 24.8 19.4 22.8  7.5 44.8 16.8 18.7 50.  50.  19.5 20.1 50.\n",
      " 17.2 20.8 19.3 41.3 20.4 20.5 13.8 16.5 23.9 20.6 31.5 23.3 16.8 14.\n",
      " 33.8 36.1 12.8 18.3 18.7 19.1 29.  30.1 50.  50.  22.  11.9 37.6 50.\n",
      " 22.7 20.8 23.5 27.9 50.  19.3 23.9 22.6 15.2 21.7 19.2 43.8 20.3 33.2\n",
      " 19.9 22.5 32.7 22.  17.1 19.  15.  16.1 25.1 23.7 28.7 37.2 22.6 16.4\n",
      " 25.  29.8 22.1 17.4 18.1 30.3 17.5 24.7 12.6 26.5 28.7 13.3 10.4 24.4\n",
      " 23.  20.  17.8  7.  11.8 24.4 13.8 19.4 25.2 19.4 19.4 29.1]\n"
     ]
    }
   ],
   "source": [
    "print(train_targets)"
   ]
  },
  {
   "cell_type": "markdown",
   "id": "411a85b0",
   "metadata": {},
   "source": [
    "## 3.6.2 데이터 준비\n",
    "- 상이한 스케일을 가진 값을 신경망에 주입하면 학습을 어렵게 만든다.\n",
    "    - 전역 최소 점을 찾아가는 경사 하강법의 경로가 스케일이 큰 특성에 영향을 많이 받음\n",
    "- 특성별로 표준화"
   ]
  },
  {
   "cell_type": "markdown",
   "id": "1973d0dc",
   "metadata": {},
   "source": [
    "### 데이터 정규화하기\n",
    "- 훈련 데이터를 정규화할 때 사용한 값을 테스트 데이터에 그대로 사용\n",
    "    - 절대 테스트 데이터로 구한 값을 사용하면 안 됨"
   ]
  },
  {
   "cell_type": "code",
   "execution_count": 4,
   "id": "5048b4c5",
   "metadata": {},
   "outputs": [],
   "source": [
    "mean = train_data.mean(axis=0)\n",
    "train_data -= mean\n",
    "std = train_data.std(axis=0)\n",
    "train_data /= std\n",
    "\n",
    "test_data -= mean\n",
    "test_data /= std"
   ]
  },
  {
   "cell_type": "markdown",
   "id": "7f1b07fd",
   "metadata": {},
   "source": [
    "## 3.6.3 모델 구성\n",
    "- 샘플 수가 작기 때문에 64개의 유닛을 가진 2개의 은닉 층으로 작은 네트워크 구성\n",
    "- 훈련 데이터 수가 적을수록 과적합이 더 쉽게 일어나므로 작은 모델을 사용"
   ]
  },
  {
   "cell_type": "markdown",
   "id": "1bd97617",
   "metadata": {},
   "source": [
    "### 모델 정의\n",
    "- 스칼라 회귀 모델의 마지막 층은 활성화 함수가 없음\n",
    "- `mse` : **평균 제곱 오차**(mean squared error)\n",
    "- `mae` : **평균 절대 오차**(mean absolute error)"
   ]
  },
  {
   "cell_type": "code",
   "execution_count": 5,
   "id": "45bbc30d",
   "metadata": {},
   "outputs": [],
   "source": [
    "from tensorflow.keras import models, layers\n",
    "\n",
    "# 동일한 모델을 여러 번 생성할 용도의 함수\n",
    "def build_model():\n",
    "    model = models.Sequential()\n",
    "    model.add(layers.Dense(64, activation='relu', input_shape=(train_data.shape[1], )))\n",
    "    model.add(layers.Dense(64, activation='relu'))\n",
    "    model.add(layers.Dense(1))\n",
    "    model.compile(optimizer='rmsprop', loss='mse', metrics=['mae'])\n",
    "    return model"
   ]
  },
  {
   "cell_type": "markdown",
   "id": "20d9ef10",
   "metadata": {},
   "source": [
    "## 3.6.4 K-겹 검증을 사용한 훈련 검증\n",
    "- 데이터가 많기 않기 때문에 검증 세트도 매우 작아짐\n",
    "- 그렇기 때문에 어떤 데이터가 검증용으로 선택되냐에 따라 검증 점수의 분산이 높아짐\n",
    "- **K-겹 교차 검증**(K-fold cross-validation)을 사용하여 K개 분할(폴드)로 나누고 K-1개의 분할에서 훈련, 나머지 분할에서 평가\n",
    "    - 모델의 검증 점수는 K개의 검증 점수 평균"
   ]
  },
  {
   "cell_type": "code",
   "execution_count": 6,
   "id": "37b01b18",
   "metadata": {},
   "outputs": [
    {
     "name": "stdout",
     "output_type": "stream",
     "text": [
      "처리 중인 폴드 # 0\n",
      "처리 중인 폴드 # 1\n",
      "처리 중인 폴드 # 2\n",
      "처리 중인 폴드 # 3\n"
     ]
    }
   ],
   "source": [
    "import numpy as np\n",
    "\n",
    "k = 4\n",
    "num_val_samples = len(train_data) // k\n",
    "num_epochs = 100\n",
    "all_scores = []\n",
    "for i in range(k):\n",
    "    print('처리 중인 폴드 #', i)\n",
    "    \n",
    "    # 검증 데이터\n",
    "    val_data = train_data[i * num_val_samples: (i+1) * num_val_samples]\n",
    "    val_targets = train_targets[i * num_val_samples: (i+1) * num_val_samples]\n",
    "    \n",
    "    # 훈련 데이터\n",
    "    partial_train_data = np.concatenate(\n",
    "        [train_data[:i * num_val_samples],\n",
    "        train_data[(i+1) * num_val_samples:]],\n",
    "        axis = 0)\n",
    "    partial_train_targets = np.concatenate(\n",
    "        [train_targets[:i * num_val_samples],\n",
    "        train_targets[(i+1) * num_val_samples:]],\n",
    "        axis = 0)\n",
    "    \n",
    "    model= build_model()\n",
    "    # verbose=0 : 훈련 과정 출력 X\n",
    "    model.fit(partial_train_data, partial_train_targets,\n",
    "             epochs = num_epochs, batch_size=1, verbose=0)\n",
    "    val_mse, val_mae = model.evaluate(val_data, val_targets, verbose=0)\n",
    "    all_scores.append(val_mae)"
   ]
  },
  {
   "cell_type": "code",
   "execution_count": 7,
   "id": "1125071a",
   "metadata": {},
   "outputs": [
    {
     "data": {
      "text/plain": [
       "[1.828141450881958, 2.4349546432495117, 2.4487404823303223, 2.2739551067352295]"
      ]
     },
     "execution_count": 7,
     "metadata": {},
     "output_type": "execute_result"
    }
   ],
   "source": [
    "all_scores"
   ]
  },
  {
   "cell_type": "code",
   "execution_count": 8,
   "id": "04b7cf43",
   "metadata": {},
   "outputs": [
    {
     "data": {
      "text/plain": [
       "2.2464479207992554"
      ]
     },
     "execution_count": 8,
     "metadata": {},
     "output_type": "execute_result"
    }
   ],
   "source": [
    "np.mean(all_scores)"
   ]
  },
  {
   "cell_type": "markdown",
   "id": "ecb86be8",
   "metadata": {},
   "source": [
    "#### 결과 해석\n",
    "- 평균 2,240달러로, 주택 가격 범위가 1만~5만임을 감안하면 비교적 큰 값"
   ]
  },
  {
   "cell_type": "markdown",
   "id": "106b49d0",
   "metadata": {},
   "source": [
    "### 각 폴드에서 검증 점수를 로그에 저장하기\n",
    "- 500 에포크 동안, 각 에포크마다 모델이 얼마나 개선되는지 로그로 저장"
   ]
  },
  {
   "cell_type": "code",
   "execution_count": 11,
   "id": "191bf9b0",
   "metadata": {},
   "outputs": [
    {
     "name": "stdout",
     "output_type": "stream",
     "text": [
      "처리 중인 폴드 # 0\n",
      "처리 중인 폴드 # 1\n",
      "처리 중인 폴드 # 2\n",
      "처리 중인 폴드 # 3\n",
      "Wall time: 19min 35s\n"
     ]
    }
   ],
   "source": [
    "%%time\n",
    "\n",
    "num_epochs = 500\n",
    "all_mae_histories = []\n",
    "for i in range(k):\n",
    "    print('처리 중인 폴드 #', i)\n",
    "    \n",
    "    # 검증 데이터\n",
    "    val_data = train_data[i * num_val_samples: (i+1) * num_val_samples]\n",
    "    val_targets = train_targets[i * num_val_samples: (i+1) * num_val_samples]\n",
    "    \n",
    "    # 훈련 데이터\n",
    "    partial_train_data = np.concatenate(\n",
    "        [train_data[:i * num_val_samples],\n",
    "        train_data[(i+1) * num_val_samples:]],\n",
    "        axis = 0)\n",
    "    partial_train_targets = np.concatenate(\n",
    "        [train_targets[:i * num_val_samples],\n",
    "        train_targets[(i+1) * num_val_samples:]],\n",
    "        axis = 0)\n",
    "    \n",
    "    model= build_model()\n",
    "    history = model.fit(partial_train_data, partial_train_targets, \n",
    "                        validation_data = (val_data, val_targets),\n",
    "                        epochs = num_epochs, batch_size=1, verbose=0)\n",
    "    mae_history = history.history['val_mae']\n",
    "    all_mae_histories.append(mae_history)"
   ]
  },
  {
   "cell_type": "markdown",
   "id": "b04a096e",
   "metadata": {},
   "source": [
    "### K-겹 검증 점수 평균을 기록하기"
   ]
  },
  {
   "cell_type": "code",
   "execution_count": 12,
   "id": "02779da8",
   "metadata": {},
   "outputs": [],
   "source": [
    "average_mae_history = [np.mean([x[i] for x in all_mae_histories]) for i in range(num_epochs)]"
   ]
  },
  {
   "cell_type": "markdown",
   "id": "10cea5c5",
   "metadata": {},
   "source": [
    "### 검증 점수 그래프"
   ]
  },
  {
   "cell_type": "code",
   "execution_count": 13,
   "id": "c284fa16",
   "metadata": {},
   "outputs": [
    {
     "data": {
      "image/png": "[encoded data removed]",
      "text/plain": [
       "<Figure size 432x288 with 1 Axes>"
      ]
     },
     "metadata": {
      "needs_background": "light"
     },
     "output_type": "display_data"
    }
   ],
   "source": [
    "import matplotlib.pyplot as plt\n",
    "\n",
    "plt.plot(range(1, len(average_mae_history) + 1), average_mae_history)\n",
    "plt.xlabel('Epochs')\n",
    "plt.ylabel('Validation MAE')\n",
    "plt.show()"
   ]
  },
  {
   "cell_type": "markdown",
   "id": "8df7afef",
   "metadata": {},
   "source": [
    "### 처음 10개의 데이터 포인트를 제외한 검증 점수 그리기\n",
    "- 곡선의 다른 부분과 스케일이 다른 첫 10개의 데이터 포인트 제외\n",
    "- 부드러운 곡선을 얻기 위해 각 포인트를 이전 포인트의 **지수 이동 평균**(exponential moving average)로 대체\n",
    "    - 지수 이동 평균 : 시계열 데이터를 부드럽게 만드는 기법 중 하나로, 이전에 계산된 이동 평균에 factor를 곱하고 현재 포인트에 (1-factor)를 곱해 합산한 것"
   ]
  },
  {
   "cell_type": "code",
   "execution_count": 14,
   "id": "68b3c8ce",
   "metadata": {},
   "outputs": [],
   "source": [
    "def smooth_curve(points, factor=0.9):\n",
    "    smoothed_points = []\n",
    "    for point in points:\n",
    "        if smoothed_points:\n",
    "            previous = smoothed_points[-1]\n",
    "            smoothed_points.append(previous * factor + point * (1-factor))\n",
    "        else:\n",
    "            smoothed_points.append(point)\n",
    "    return smoothed_points"
   ]
  },
  {
   "cell_type": "code",
   "execution_count": 15,
   "id": "ef759c2e",
   "metadata": {},
   "outputs": [
    {
     "data": {
      "image/png": "[encoded data removed]",
      "text/plain": [
       "<Figure size 432x288 with 1 Axes>"
      ]
     },
     "metadata": {
      "needs_background": "light"
     },
     "output_type": "display_data"
    }
   ],
   "source": [
    "smooth_mae_history = smooth_curve(average_mae_history[10:])\n",
    "\n",
    "plt.plot(range(1, len(smooth_mae_history)+1), smooth_mae_history)\n",
    "plt.xlabel('Epochs')\n",
    "plt.ylabel('Validation MAE')\n",
    "plt.show()"
   ]
  },
  {
   "cell_type": "markdown",
   "id": "546f8b8a",
   "metadata": {},
   "source": [
    "- 80번째 에포크 이후에 MAE가 줄어들지 않음 (과대적합의 시작)"
   ]
  },
  {
   "cell_type": "markdown",
   "id": "9dc452e4",
   "metadata": {},
   "source": [
    "### 최종 모델 훈련하기\n",
    "- 에포크 수, 은닉 층의 크기 등 매개변수에 대한 K-겹 검증 튜닝이 끝나면 모든 훈련 데이터를 사용하고 최상의 매개변수로 최종 실전에 투입될 모델을 훈련시킴"
   ]
  },
  {
   "cell_type": "code",
   "execution_count": 16,
   "id": "32be14c6",
   "metadata": {},
   "outputs": [
    {
     "name": "stdout",
     "output_type": "stream",
     "text": [
      "4/4 [==============================] - 0s 2ms/step - loss: 19.3230 - mae: 2.6436\n"
     ]
    }
   ],
   "source": [
    "model = build_model()\n",
    "model.fit(train_data, train_targets,\n",
    "         epochs=80, batch_size=16, verbose=0)\n",
    "test_mse_score, test_mae_score = model.evaluate(test_data, test_targets)"
   ]
  },
  {
   "cell_type": "code",
   "execution_count": 17,
   "id": "a16582aa",
   "metadata": {},
   "outputs": [
    {
     "data": {
      "text/plain": [
       "2.643617630004883"
      ]
     },
     "execution_count": 17,
     "metadata": {},
     "output_type": "execute_result"
    }
   ],
   "source": [
    "test_mae_score"
   ]
  },
  {
   "cell_type": "code",
   "execution_count": null,
   "id": "aa7ec38a",
   "metadata": {},
   "outputs": [],
   "source": []
  }
 ],
 "metadata": {
  "kernelspec": {
   "display_name": "Python Multi",
   "language": "python",
   "name": "multi"
  },
  "language_info": {
   "codemirror_mode": {
    "name": "ipython",
    "version": 3
   },
   "file_extension": ".py",
   "mimetype": "text/x-python",
   "name": "python",
   "nbconvert_exporter": "python",
   "pygments_lexer": "ipython3",
   "version": "3.7.6"
  },
  "toc": {
   "base_numbering": 1,
   "nav_menu": {},
   "number_sections": false,
   "sideBar": true,
   "skip_h1_title": false,
   "title_cell": "Table of Contents",
   "title_sidebar": "Contents",
   "toc_cell": false,
   "toc_position": {},
   "toc_section_display": true,
   "toc_window_display": false
  }
 },
 "nbformat": 4,
 "nbformat_minor": 5
}
