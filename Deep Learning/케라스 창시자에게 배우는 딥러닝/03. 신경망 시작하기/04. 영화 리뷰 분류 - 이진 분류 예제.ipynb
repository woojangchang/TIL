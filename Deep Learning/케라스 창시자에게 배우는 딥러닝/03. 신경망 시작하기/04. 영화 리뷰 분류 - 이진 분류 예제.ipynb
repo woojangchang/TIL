{
 "cells": [
  {
   "cell_type": "markdown",
   "id": "5e6ce0e0",
   "metadata": {},
   "source": [
    "# 3.4 영화 리뷰 분류: 이진 분류 예제\n",
    "- 텍스트 기반으로 긍정, 부정 분류"
   ]
  },
  {
   "cell_type": "markdown",
   "id": "3ec67b26",
   "metadata": {},
   "source": [
    "## 3.4.1 IMDB 데이터셋\n",
    "- 리뷰 5만 개 데이터, 훈련:테스트 = 5:5, 긍정:부정 = 5:5\n",
    "- 숫자 시퀀스 (각 숫자는 사전에 있는 고유한 단어)"
   ]
  },
  {
   "cell_type": "code",
   "execution_count": 1,
   "id": "a874dde9",
   "metadata": {},
   "outputs": [],
   "source": [
    "from tensorflow.keras.datasets import imdb\n",
    "\n",
    "# 가장 자주 나타나는 단어 10000개\n",
    "(train_data, train_labels), (test_data, test_labels) = imdb.load_data(num_words=10000)"
   ]
  },
  {
   "cell_type": "code",
   "execution_count": 3,
   "id": "af460125",
   "metadata": {
    "scrolled": true
   },
   "outputs": [
    {
     "name": "stdout",
     "output_type": "stream",
     "text": [
      "[1, 14, 22, 16, 43, 530, 973, 1622, 1385, 65, 458, 4468, 66, 3941, 4, 173, 36, 256, 5, 25, 100, 43, 838, 112, 50, 670, 2, 9, 35, 480, 284, 5, 150, 4, 172, 112, 167, 2, 336, 385, 39, 4, 172, 4536, 1111, 17, 546, 38, 13, 447, 4, 192, 50, 16, 6, 147, 2025, 19, 14, 22, 4, 1920, 4613, 469, 4, 22, 71, 87, 12, 16, 43, 530, 38, 76, 15, 13, 1247, 4, 22, 17, 515, 17, 12, 16, 626, 18, 2, 5, 62, 386, 12, 8, 316, 8, 106, 5, 4, 2223, 5244, 16, 480, 66, 3785, 33, 4, 130, 12, 16, 38, 619, 5, 25, 124, 51, 36, 135, 48, 25, 1415, 33, 6, 22, 12, 215, 28, 77, 52, 5, 14, 407, 16, 82, 2, 8, 4, 107, 117, 5952, 15, 256, 4, 2, 7, 3766, 5, 723, 36, 71, 43, 530, 476, 26, 400, 317, 46, 7, 4, 2, 1029, 13, 104, 88, 4, 381, 15, 297, 98, 32, 2071, 56, 26, 141, 6, 194, 7486, 18, 4, 226, 22, 21, 134, 476, 26, 480, 5, 144, 30, 5535, 18, 51, 36, 28, 224, 92, 25, 104, 4, 226, 65, 16, 38, 1334, 88, 12, 16, 283, 5, 16, 4472, 113, 103, 32, 15, 16, 5345, 19, 178, 32]\n"
     ]
    }
   ],
   "source": [
    "print(train_data[0])"
   ]
  },
  {
   "cell_type": "markdown",
   "id": "ecf1733e",
   "metadata": {},
   "source": [
    "- 0 : 부정\n",
    "- 1 : 긍정"
   ]
  },
  {
   "cell_type": "code",
   "execution_count": 4,
   "id": "25c5f7e8",
   "metadata": {},
   "outputs": [
    {
     "name": "stdout",
     "output_type": "stream",
     "text": [
      "1\n"
     ]
    }
   ],
   "source": [
    "print(train_labels[0])"
   ]
  },
  {
   "cell_type": "code",
   "execution_count": 5,
   "id": "f4cc946f",
   "metadata": {},
   "outputs": [
    {
     "data": {
      "text/plain": [
       "9999"
      ]
     },
     "execution_count": 5,
     "metadata": {},
     "output_type": "execute_result"
    }
   ],
   "source": [
    "# 단어의 인덱스는 1만을 넘지 않음\n",
    "max([max(sequence) for sequence in train_data])"
   ]
  },
  {
   "cell_type": "markdown",
   "id": "36b21fd3",
   "metadata": {},
   "source": [
    "영어 단어로 바꾸는 방식"
   ]
  },
  {
   "cell_type": "code",
   "execution_count": 6,
   "id": "2c6f6574",
   "metadata": {},
   "outputs": [
    {
     "name": "stdout",
     "output_type": "stream",
     "text": [
      "Downloading data from https://storage.googleapis.com/tensorflow/tf-keras-datasets/imdb_word_index.json\n",
      "1646592/1641221 [==============================] - 0s 0us/step\n",
      "1654784/1641221 [==============================] - 0s 0us/step\n"
     ]
    }
   ],
   "source": [
    "word_index = imdb.get_word_index()\n",
    "reverse_word_index = dict([(value, key) for (key, value) in word_index.items()])\n",
    "decoded_review = ' '.join([reverse_word_index.get(i-3, '?') for i in train_data[0]])"
   ]
  },
  {
   "cell_type": "code",
   "execution_count": 7,
   "id": "99cd4507",
   "metadata": {},
   "outputs": [
    {
     "data": {
      "text/plain": [
       "\"? this film was just brilliant casting location scenery story direction everyone's really suited the part they played and you could just imagine being there robert ? is an amazing actor and now the same being director ? father came from the same scottish island as myself so i loved the fact there was a real connection with this film the witty remarks throughout the film were great it was just brilliant so much that i bought the film as soon as it was released for ? and would recommend it to everyone to watch and the fly fishing was amazing really cried at the end it was so sad and you know what they say if you cry at a film it must have been good and this definitely was also ? to the two little boy's that played the ? of norman and paul they were just brilliant children are often left out of the ? list i think because the stars that play them all grown up are such a big profile for the whole film but these children are amazing and should be praised for what they have done don't you think the whole story was so lovely because it was true and was someone's life after all that was shared with us all\""
      ]
     },
     "execution_count": 7,
     "metadata": {},
     "output_type": "execute_result"
    }
   ],
   "source": [
    "decoded_review"
   ]
  },
  {
   "cell_type": "markdown",
   "id": "a2de55d1",
   "metadata": {},
   "source": [
    "## 3.4.2 데이터 준비\n",
    "- 신경망에 숫자 리스트를 넣을 수 없기 때문에 텐서로 바꿔줘야함\n",
    "    - 같은 길이가 되도록 리스트에 패딩을 추가하고 `(samples, sequence_length)` 크기의 정수 텐서로 변환\n",
    "    - 리스트를 원-핫 인코딩하여 0과 1의 벡터로 변환"
   ]
  },
  {
   "cell_type": "code",
   "execution_count": 2,
   "id": "a8003e50",
   "metadata": {},
   "outputs": [],
   "source": [
    "# 원-핫 인코딩\n",
    "import numpy as np\n",
    "\n",
    "def vectorize_sequences(sequences, dimension=10000):\n",
    "    results = np.zeros((len(sequences), dimension))\n",
    "    for i, sequence in enumerate(sequences):\n",
    "        results[i, sequence] = 1.\n",
    "    return results\n",
    "\n",
    "x_train = vectorize_sequences(train_data)\n",
    "x_test = vectorize_sequences(test_data)"
   ]
  },
  {
   "cell_type": "code",
   "execution_count": 9,
   "id": "1a412bf8",
   "metadata": {},
   "outputs": [
    {
     "name": "stdout",
     "output_type": "stream",
     "text": [
      "[0. 1. 1. ... 0. 0. 0.]\n"
     ]
    }
   ],
   "source": [
    "print(x_train[0])"
   ]
  },
  {
   "cell_type": "code",
   "execution_count": 3,
   "id": "b496ec6a",
   "metadata": {},
   "outputs": [],
   "source": [
    "y_train = np.array(train_labels).astype('float32')\n",
    "y_test = np.array(test_labels).astype('float32')"
   ]
  },
  {
   "cell_type": "markdown",
   "id": "6ada24bf",
   "metadata": {},
   "source": [
    "## 3.4.3 신경망 모델 만들기\n",
    "- 입력 데이터가 벡터, 레이블은 스칼라(0, 1)인 문제에 잘 작동하는 네트워크 종류는 `relu` 활성화 함수를 사용한 완전 연결 층(`Dense`)을 사용한 것\n",
    "- 은닉 유닛을 늘리면 더욱 복잡한 표현을 학습할 수 있으나 계산 비용이 커지고 원하지 않는 패턴을 학습할 수도 있음 (훈련 데이터 성능은 향상되지만 테스트 데이터에서는 그렇지 않은 상황)\n",
    "- `Dense` 층을 쌓을 때 중요한 결정 사항\n",
    "    - 얼마나 많은 층을 사용할 것인가\n",
    "    - 각 층에 얼마나 많은 은닉 유닛을 둘 것인가"
   ]
  },
  {
   "cell_type": "code",
   "execution_count": 13,
   "id": "b910ea73",
   "metadata": {},
   "outputs": [],
   "source": [
    "def relu(x):\n",
    "    assert x.ndim == 1\n",
    "    x = x.copy()\n",
    "    for i in range(len(x)):\n",
    "        x[i] = max(x[i], 0)\n",
    "    return x"
   ]
  },
  {
   "cell_type": "code",
   "execution_count": 17,
   "id": "ffdf81d8",
   "metadata": {},
   "outputs": [
    {
     "data": {
      "image/png": "[encoded data removed]",
      "text/plain": [
       "<Figure size 288x288 with 1 Axes>"
      ]
     },
     "metadata": {
      "needs_background": "light"
     },
     "output_type": "display_data"
    }
   ],
   "source": [
    "import matplotlib.pyplot as plt\n",
    "\n",
    "xs = np.linspace(-1, 1, 100)\n",
    "ys = relu(xs)\n",
    "plt.figure(figsize=(4, 4))\n",
    "plt.grid()\n",
    "plt.plot(xs, ys)\n",
    "plt.xlim((-1, 1))\n",
    "plt.ylim((-0.5, 1.5))\n",
    "plt.legend(['relu'])\n",
    "plt.show()"
   ]
  },
  {
   "cell_type": "code",
   "execution_count": 18,
   "id": "bc6bdf7c",
   "metadata": {},
   "outputs": [],
   "source": [
    "def sigmoid(x):\n",
    "    y_hat = 1 / (1 + np.exp(-x))\n",
    "    return y_hat"
   ]
  },
  {
   "cell_type": "code",
   "execution_count": 21,
   "id": "e7330bd2",
   "metadata": {},
   "outputs": [
    {
     "data": {
      "image/png": "[encoded data removed]",
      "text/plain": [
       "<Figure size 576x288 with 1 Axes>"
      ]
     },
     "metadata": {
      "needs_background": "light"
     },
     "output_type": "display_data"
    }
   ],
   "source": [
    "xs = np.linspace(-4, 4, 300)\n",
    "ys = sigmoid(xs)\n",
    "plt.figure(figsize=(8, 4))\n",
    "plt.grid()\n",
    "plt.plot(xs, ys)\n",
    "plt.xlim((-4, 4))\n",
    "plt.ylim((0, 1))\n",
    "plt.legend(['sigmoid'])\n",
    "plt.show()"
   ]
  },
  {
   "cell_type": "markdown",
   "id": "92e1862f",
   "metadata": {},
   "source": [
    "### 모델 정의하기\n",
    "- 이진 분류이므로 `sigmoid` 사용\n",
    "- 활성화 함수가 필요한 이유\n",
    "    - `relu` 같은 함수(비선형 함수)가 없다면 선형적인 연산으로만 구성되어 층을 여러 개로 구성하는 장점이 없음\n",
    "    - `relu`, `prelu`, `elu` 등 다양한 활성화 함수가 있음\n",
    "        - `elu` : 최대 -1 까지 출력, 변종으로 `selu`가 있음\n",
    "        - `leaky relu` : 매개변수로 지정한 값에 비례해서 음수 값을 통과시킴\n",
    "        - `prelu` : `leaky relu`의 변종으로 훈련하는 동안 비례의 정도를 학습함\n",
    "        - `layers` 패키지 클래스로 `models.add(LeakyReLU())`처럼 사용"
   ]
  },
  {
   "cell_type": "code",
   "execution_count": 22,
   "id": "42f21775",
   "metadata": {},
   "outputs": [],
   "source": [
    "from tensorflow.keras import models, layers\n",
    "\n",
    "model = models.Sequential()\n",
    "model.add(layers.Dense(16, activation='relu', input_shape=(10000, )))\n",
    "model.add(layers.Dense(16, activation='relu'))\n",
    "model.add(layers.Dense(1, activation='sigmoid'))"
   ]
  },
  {
   "cell_type": "markdown",
   "id": "89f4dcb8",
   "metadata": {},
   "source": [
    "### 모델 컴파일\n",
    "- 이진 분류이므로 loss로 `binary_crossentropy` 사용\n",
    "    - `mean_squared_error`도 사용할 수 있긴 함\n",
    "- **크로스엔트로피**(Crossentropy) : 정보 이론(Information Theory) 분야에서 온 개념으로 확률 분포 간의 차이를 측정\n",
    "    - 원본 분포와 예측 분포 사이를 측정"
   ]
  },
  {
   "cell_type": "code",
   "execution_count": 23,
   "id": "dc8ea59b",
   "metadata": {},
   "outputs": [],
   "source": [
    "model.compile(optimizer='rmsprop',\n",
    "             loss='binary_crossentropy',\n",
    "             metrics=['accuracy'])"
   ]
  },
  {
   "cell_type": "markdown",
   "id": "44044722",
   "metadata": {},
   "source": [
    "- 매개변수를 변경하거나 자신만의 손실 함수, 측정 함수를 쓰는 경우 아래와 같이 컴파일\n",
    "    - 매개 변수\n",
    "\n",
    "```python\n",
    "from tensorflow.keras import optimizers\n",
    "\n",
    "model.compile(optimizer=optimizers.RMSprop(lr=0.001)\n",
    "             loss='binary_crossentropy',\n",
    "             metrics=['accuracy'])\n",
    "```\n",
    "  \n",
    "    - 손실, 측정 함수\n",
    "\n",
    "```python\n",
    "from tensorflow.keras import losses, metrics\n",
    "\n",
    "model.compile(optimizer='rmsprop',\n",
    "             loss=losses.binary_crossentropy,\n",
    "             metrics=[metrics.binary_accuracy])\n",
    "```"
   ]
  },
  {
   "cell_type": "markdown",
   "id": "f2a94422",
   "metadata": {},
   "source": [
    "## 3.4.4 훈련 검증\n",
    "- 1만 개의 데이터를 떼어네어 검증용으로 사용"
   ]
  },
  {
   "cell_type": "code",
   "execution_count": 4,
   "id": "24b155bb",
   "metadata": {},
   "outputs": [],
   "source": [
    "x_val = x_train[:10000]\n",
    "partial_x_train = x_train[10000:]\n",
    "y_val = y_train[:10000]\n",
    "partial_y_train = y_train[10000:]"
   ]
  },
  {
   "cell_type": "markdown",
   "id": "b053e585",
   "metadata": {},
   "source": [
    "### 모델 훈련하기\n",
    "- `validation_data` 매개 변수에 검증 데이터 전달"
   ]
  },
  {
   "cell_type": "code",
   "execution_count": 25,
   "id": "307024ad",
   "metadata": {},
   "outputs": [
    {
     "name": "stdout",
     "output_type": "stream",
     "text": [
      "Epoch 1/20\n",
      "30/30 [==============================] - 2s 32ms/step - loss: 0.5090 - accuracy: 0.7998 - val_loss: 0.3871 - val_accuracy: 0.8728\n",
      "Epoch 2/20\n",
      "30/30 [==============================] - 0s 16ms/step - loss: 0.3099 - accuracy: 0.9007 - val_loss: 0.3293 - val_accuracy: 0.8729\n",
      "Epoch 3/20\n",
      "30/30 [==============================] - 0s 15ms/step - loss: 0.2269 - accuracy: 0.9307 - val_loss: 0.3172 - val_accuracy: 0.8728\n",
      "Epoch 4/20\n",
      "30/30 [==============================] - 0s 16ms/step - loss: 0.1845 - accuracy: 0.9403 - val_loss: 0.2746 - val_accuracy: 0.8927\n",
      "Epoch 5/20\n",
      "30/30 [==============================] - 0s 15ms/step - loss: 0.1477 - accuracy: 0.9540 - val_loss: 0.2771 - val_accuracy: 0.8906\n",
      "Epoch 6/20\n",
      "30/30 [==============================] - 0s 16ms/step - loss: 0.1227 - accuracy: 0.9651 - val_loss: 0.3236 - val_accuracy: 0.8761\n",
      "Epoch 7/20\n",
      "30/30 [==============================] - 0s 16ms/step - loss: 0.1011 - accuracy: 0.9707 - val_loss: 0.3017 - val_accuracy: 0.8828\n",
      "Epoch 8/20\n",
      "30/30 [==============================] - 0s 15ms/step - loss: 0.0829 - accuracy: 0.9777 - val_loss: 0.3204 - val_accuracy: 0.8828\n",
      "Epoch 9/20\n",
      "30/30 [==============================] - 0s 16ms/step - loss: 0.0684 - accuracy: 0.9823 - val_loss: 0.3445 - val_accuracy: 0.8783\n",
      "Epoch 10/20\n",
      "30/30 [==============================] - 0s 15ms/step - loss: 0.0548 - accuracy: 0.9879 - val_loss: 0.3725 - val_accuracy: 0.8802\n",
      "Epoch 11/20\n",
      "30/30 [==============================] - 0s 17ms/step - loss: 0.0436 - accuracy: 0.9901 - val_loss: 0.3961 - val_accuracy: 0.8799\n",
      "Epoch 12/20\n",
      "30/30 [==============================] - 0s 15ms/step - loss: 0.0366 - accuracy: 0.9920 - val_loss: 0.4243 - val_accuracy: 0.8745\n",
      "Epoch 13/20\n",
      "30/30 [==============================] - 0s 16ms/step - loss: 0.0280 - accuracy: 0.9945 - val_loss: 0.4553 - val_accuracy: 0.8727\n",
      "Epoch 14/20\n",
      "30/30 [==============================] - 0s 15ms/step - loss: 0.0212 - accuracy: 0.9972 - val_loss: 0.4837 - val_accuracy: 0.8707\n",
      "Epoch 15/20\n",
      "30/30 [==============================] - 1s 17ms/step - loss: 0.0167 - accuracy: 0.9979 - val_loss: 0.5082 - val_accuracy: 0.8711\n",
      "Epoch 16/20\n",
      "30/30 [==============================] - 0s 15ms/step - loss: 0.0125 - accuracy: 0.9990 - val_loss: 0.5465 - val_accuracy: 0.8706\n",
      "Epoch 17/20\n",
      "30/30 [==============================] - 0s 16ms/step - loss: 0.0103 - accuracy: 0.9991 - val_loss: 0.5854 - val_accuracy: 0.8669\n",
      "Epoch 18/20\n",
      "30/30 [==============================] - 0s 15ms/step - loss: 0.0071 - accuracy: 0.9995 - val_loss: 0.6089 - val_accuracy: 0.8699\n",
      "Epoch 19/20\n",
      "30/30 [==============================] - 0s 16ms/step - loss: 0.0044 - accuracy: 0.9998 - val_loss: 0.6815 - val_accuracy: 0.8612\n",
      "Epoch 20/20\n",
      "30/30 [==============================] - 0s 16ms/step - loss: 0.0062 - accuracy: 0.9987 - val_loss: 0.6788 - val_accuracy: 0.8667\n"
     ]
    }
   ],
   "source": [
    "history = model.fit(partial_x_train, partial_y_train,\n",
    "                   epochs=20, batch_size=512, validation_data=(x_val, y_val))"
   ]
  },
  {
   "cell_type": "markdown",
   "id": "17049875",
   "metadata": {},
   "source": [
    "### `History` 객체\n",
    "- `model.fit()` 메서드는 `History` 객체를 반환하며 훈련하는 동안 발생한 모든 정보를 담고 있는 딕셔너리인 `history` 속성을 가지고 있음"
   ]
  },
  {
   "cell_type": "code",
   "execution_count": 26,
   "id": "1297baa2",
   "metadata": {},
   "outputs": [
    {
     "data": {
      "text/plain": [
       "dict_keys(['loss', 'accuracy', 'val_loss', 'val_accuracy'])"
      ]
     },
     "execution_count": 26,
     "metadata": {},
     "output_type": "execute_result"
    }
   ],
   "source": [
    "history_dict = history.history\n",
    "history_dict.keys()"
   ]
  },
  {
   "cell_type": "markdown",
   "id": "3cf033cf",
   "metadata": {},
   "source": [
    "### 훈련과 검증 손실 그리기"
   ]
  },
  {
   "cell_type": "code",
   "execution_count": 27,
   "id": "4ff2d5b9",
   "metadata": {},
   "outputs": [
    {
     "data": {
      "image/png": "[encoded data removed]",
      "text/plain": [
       "<Figure size 432x288 with 1 Axes>"
      ]
     },
     "metadata": {
      "needs_background": "light"
     },
     "output_type": "display_data"
    }
   ],
   "source": [
    "import matplotlib.pyplot as plt\n",
    "\n",
    "history_dict = history.history\n",
    "loss = history_dict['loss']\n",
    "val_loss = history_dict['val_loss']\n",
    "\n",
    "epochs = range(1, len(loss) + 1)\n",
    "\n",
    "plt.plot(epochs, loss, 'bo', label='Training loss')\n",
    "plt.plot(epochs, val_loss, 'b', label='Validation loss')\n",
    "plt.title('Training and validation loss')\n",
    "plt.xlabel('Epochs')\n",
    "plt.ylabel('Loss')\n",
    "plt.legend()\n",
    "\n",
    "plt.show()"
   ]
  },
  {
   "cell_type": "markdown",
   "id": "3477c7c3",
   "metadata": {},
   "source": [
    "### 훈련과 검증 정확도 그리기"
   ]
  },
  {
   "cell_type": "code",
   "execution_count": 28,
   "id": "e38197f4",
   "metadata": {},
   "outputs": [
    {
     "data": {
      "image/png": "[encoded data removed]",
      "text/plain": [
       "<Figure size 432x288 with 1 Axes>"
      ]
     },
     "metadata": {
      "needs_background": "light"
     },
     "output_type": "display_data"
    }
   ],
   "source": [
    "acc = history_dict['accuracy']\n",
    "val_acc = history_dict['val_accuracy']\n",
    "\n",
    "plt.plot(epochs, acc, 'bo', label='Training acc')\n",
    "plt.plot(epochs, val_acc, 'b', label='Validation acc')\n",
    "plt.title('Training and validation accuracy')\n",
    "plt.xlabel('Epochs')\n",
    "plt.ylabel('Accuracy')\n",
    "plt.legend()\n",
    "\n",
    "plt.show()"
   ]
  },
  {
   "cell_type": "markdown",
   "id": "6851be17",
   "metadata": {},
   "source": [
    "- **과대적합** : 훈련 데이터에 과도하게 최적화되어 훈련 세트 이외의 데이터에는 일반화되지 못함\n",
    "- epoch 수를 줄이는 것도 한 가지 방법"
   ]
  },
  {
   "cell_type": "markdown",
   "id": "365d8bf2",
   "metadata": {},
   "source": [
    "### 모델을 처음부터 다시 훈련하기"
   ]
  },
  {
   "cell_type": "code",
   "execution_count": 29,
   "id": "a3aae1a9",
   "metadata": {},
   "outputs": [
    {
     "name": "stdout",
     "output_type": "stream",
     "text": [
      "Epoch 1/4\n",
      "30/30 [==============================] - 1s 9ms/step - loss: 0.5529 - accuracy: 0.7537\n",
      "Epoch 2/4\n",
      "30/30 [==============================] - 0s 9ms/step - loss: 0.3283 - accuracy: 0.9011\n",
      "Epoch 3/4\n",
      "30/30 [==============================] - 0s 10ms/step - loss: 0.2339 - accuracy: 0.9251\n",
      "Epoch 4/4\n",
      "30/30 [==============================] - 0s 10ms/step - loss: 0.1794 - accuracy: 0.9428\n",
      "782/782 [==============================] - 2s 2ms/step - loss: 0.2967 - accuracy: 0.8813\n"
     ]
    }
   ],
   "source": [
    "model = models.Sequential()\n",
    "model.add(layers.Dense(16, activation='relu', input_shape=(10000, )))\n",
    "model.add(layers.Dense(16, activation='relu'))\n",
    "model.add(layers.Dense(1, activation='sigmoid'))\n",
    "\n",
    "model.compile(optimizer='rmsprop',\n",
    "             loss='binary_crossentropy',\n",
    "             metrics=['accuracy'])\n",
    "\n",
    "model.fit(partial_x_train, partial_y_train, epochs=4, batch_size=512)\n",
    "results = model.evaluate(x_test, y_test)"
   ]
  },
  {
   "cell_type": "markdown",
   "id": "0ed11b0c",
   "metadata": {},
   "source": [
    "## 3.4.5 훈련된 모델로 새로운 데이터에 대해 예측하기\n",
    "- `predict` 메서드 사용\n",
    "- 이진 분류에서 레이블이 1인 경우를 양성(positive), 0인 경우를 음성(negative) 샘플이라 하며 예측하려는 대상이 양성\n",
    "- 어떤 데이터에 대해선 확신을 가지지만(0.999) 어떤 데이터에 대해선 그렇지 못함(0.611)"
   ]
  },
  {
   "cell_type": "code",
   "execution_count": 30,
   "id": "a4c0808d",
   "metadata": {},
   "outputs": [
    {
     "data": {
      "text/plain": [
       "array([[0.22636923],\n",
       "       [0.9998023 ],\n",
       "       [0.9391319 ],\n",
       "       ...,\n",
       "       [0.10454089],\n",
       "       [0.13576749],\n",
       "       [0.61105675]], dtype=float32)"
      ]
     },
     "execution_count": 30,
     "metadata": {},
     "output_type": "execute_result"
    }
   ],
   "source": [
    "model.predict(x_test)"
   ]
  },
  {
   "cell_type": "markdown",
   "id": "09044bc3",
   "metadata": {},
   "source": [
    "## 3.4.6 추가 실험"
   ]
  },
  {
   "cell_type": "markdown",
   "id": "d44cd3e2",
   "metadata": {},
   "source": [
    "### 1. 1개 또는 3개의 은닉층 사용"
   ]
  },
  {
   "cell_type": "markdown",
   "id": "5d211c01",
   "metadata": {},
   "source": [
    "#### 1개의 은닉층\n",
    "- 88~9%의 정확도"
   ]
  },
  {
   "cell_type": "code",
   "execution_count": 6,
   "id": "e518052c",
   "metadata": {},
   "outputs": [
    {
     "name": "stdout",
     "output_type": "stream",
     "text": [
      "Epoch 1/4\n",
      "30/30 [==============================] - 2s 31ms/step - loss: 0.4962 - accuracy: 0.8016 - val_loss: 0.3917 - val_accuracy: 0.8632\n",
      "Epoch 2/4\n",
      "30/30 [==============================] - 0s 16ms/step - loss: 0.3166 - accuracy: 0.9039 - val_loss: 0.3270 - val_accuracy: 0.8801\n",
      "Epoch 3/4\n",
      "30/30 [==============================] - 0s 14ms/step - loss: 0.2446 - accuracy: 0.9244 - val_loss: 0.3039 - val_accuracy: 0.8795\n",
      "Epoch 4/4\n",
      "30/30 [==============================] - 0s 15ms/step - loss: 0.2015 - accuracy: 0.9391 - val_loss: 0.2775 - val_accuracy: 0.8916\n",
      "782/782 [==============================] - 1s 2ms/step - loss: 0.2935 - accuracy: 0.8844\n"
     ]
    }
   ],
   "source": [
    "model = models.Sequential()\n",
    "model.add(layers.Dense(16, activation='relu', input_shape=(10000, )))\n",
    "model.add(layers.Dense(1, activation='sigmoid'))\n",
    "\n",
    "model.compile(optimizer='rmsprop',\n",
    "             loss='binary_crossentropy',\n",
    "             metrics=['accuracy'])\n",
    "\n",
    "model.fit(partial_x_train, partial_y_train, epochs=4, batch_size=512, validation_data=(x_val, y_val))\n",
    "results = model.evaluate(x_test, y_test)"
   ]
  },
  {
   "cell_type": "markdown",
   "id": "afe421fd",
   "metadata": {},
   "source": [
    "#### 3개의 은닉층\n",
    "- 87~88%의 정확도"
   ]
  },
  {
   "cell_type": "code",
   "execution_count": 7,
   "id": "a4361736",
   "metadata": {},
   "outputs": [
    {
     "name": "stdout",
     "output_type": "stream",
     "text": [
      "Epoch 1/4\n",
      "30/30 [==============================] - 1s 31ms/step - loss: 0.5412 - accuracy: 0.7879 - val_loss: 0.3942 - val_accuracy: 0.8711\n",
      "Epoch 2/4\n",
      "30/30 [==============================] - 0s 16ms/step - loss: 0.3078 - accuracy: 0.8999 - val_loss: 0.2985 - val_accuracy: 0.8868\n",
      "Epoch 3/4\n",
      "30/30 [==============================] - 0s 15ms/step - loss: 0.2088 - accuracy: 0.9326 - val_loss: 0.2854 - val_accuracy: 0.8855\n",
      "Epoch 4/4\n",
      "30/30 [==============================] - 0s 16ms/step - loss: 0.1690 - accuracy: 0.9426 - val_loss: 0.3018 - val_accuracy: 0.8800\n",
      "782/782 [==============================] - 2s 2ms/step - loss: 0.3287 - accuracy: 0.8690\n"
     ]
    }
   ],
   "source": [
    "model = models.Sequential()\n",
    "model.add(layers.Dense(16, activation='relu', input_shape=(10000, )))\n",
    "model.add(layers.Dense(16, activation='relu'))\n",
    "model.add(layers.Dense(16, activation='relu'))\n",
    "model.add(layers.Dense(1, activation='sigmoid'))\n",
    "\n",
    "model.compile(optimizer='rmsprop',\n",
    "             loss='binary_crossentropy',\n",
    "             metrics=['accuracy'])\n",
    "\n",
    "model.fit(partial_x_train, partial_y_train, epochs=4, batch_size=512, validation_data=(x_val, y_val))\n",
    "results = model.evaluate(x_test, y_test)"
   ]
  },
  {
   "cell_type": "markdown",
   "id": "475e162b",
   "metadata": {},
   "source": [
    "### 2. 층의 은닉 유닛을 추가"
   ]
  },
  {
   "cell_type": "markdown",
   "id": "31f6bf1d",
   "metadata": {},
   "source": [
    "#### 32개\n",
    "- 86%의 정확도"
   ]
  },
  {
   "cell_type": "code",
   "execution_count": 6,
   "id": "dde44119",
   "metadata": {},
   "outputs": [
    {
     "name": "stdout",
     "output_type": "stream",
     "text": [
      "Epoch 1/4\n",
      "30/30 [==============================] - 1s 32ms/step - loss: 0.4912 - accuracy: 0.7758 - val_loss: 0.3736 - val_accuracy: 0.8528\n",
      "Epoch 2/4\n",
      "30/30 [==============================] - 0s 16ms/step - loss: 0.2746 - accuracy: 0.9017 - val_loss: 0.3343 - val_accuracy: 0.8640\n",
      "Epoch 3/4\n",
      "30/30 [==============================] - 0s 16ms/step - loss: 0.1987 - accuracy: 0.9299 - val_loss: 0.2738 - val_accuracy: 0.8885\n",
      "Epoch 4/4\n",
      "30/30 [==============================] - 0s 15ms/step - loss: 0.1510 - accuracy: 0.9487 - val_loss: 0.3427 - val_accuracy: 0.8689\n",
      "782/782 [==============================] - 2s 2ms/step - loss: 0.3591 - accuracy: 0.8612\n"
     ]
    }
   ],
   "source": [
    "from tensorflow.keras import models, layers\n",
    "\n",
    "model = models.Sequential()\n",
    "model.add(layers.Dense(32, activation='relu', input_shape=(10000, )))\n",
    "model.add(layers.Dense(32, activation='relu'))\n",
    "model.add(layers.Dense(1, activation='sigmoid'))\n",
    "\n",
    "model.compile(optimizer='rmsprop',\n",
    "             loss='binary_crossentropy',\n",
    "             metrics=['accuracy'])\n",
    "\n",
    "model.fit(partial_x_train, partial_y_train, epochs=4, batch_size=512, validation_data=(x_val, y_val))\n",
    "results = model.evaluate(x_test, y_test)"
   ]
  },
  {
   "cell_type": "markdown",
   "id": "8ec25859",
   "metadata": {},
   "source": [
    "#### 64개\n",
    "- 86~87%의 정확도"
   ]
  },
  {
   "cell_type": "code",
   "execution_count": 5,
   "id": "532593f3",
   "metadata": {},
   "outputs": [
    {
     "name": "stdout",
     "output_type": "stream",
     "text": [
      "Epoch 1/4\n",
      "30/30 [==============================] - 2s 32ms/step - loss: 0.4890 - accuracy: 0.7751 - val_loss: 0.3345 - val_accuracy: 0.8699\n",
      "Epoch 2/4\n",
      "30/30 [==============================] - 0s 16ms/step - loss: 0.2564 - accuracy: 0.9057 - val_loss: 0.2787 - val_accuracy: 0.8903\n",
      "Epoch 3/4\n",
      "30/30 [==============================] - 0s 15ms/step - loss: 0.1933 - accuracy: 0.9295 - val_loss: 0.2822 - val_accuracy: 0.8874\n",
      "Epoch 4/4\n",
      "30/30 [==============================] - 0s 17ms/step - loss: 0.1388 - accuracy: 0.9511 - val_loss: 0.3156 - val_accuracy: 0.8776\n",
      "782/782 [==============================] - 1s 2ms/step - loss: 0.3491 - accuracy: 0.8661\n"
     ]
    }
   ],
   "source": [
    "from tensorflow.keras import models, layers\n",
    "\n",
    "model = models.Sequential()\n",
    "model.add(layers.Dense(64, activation='relu', input_shape=(10000, )))\n",
    "model.add(layers.Dense(64, activation='relu'))\n",
    "model.add(layers.Dense(1, activation='sigmoid'))\n",
    "\n",
    "model.compile(optimizer='rmsprop',\n",
    "             loss='binary_crossentropy',\n",
    "             metrics=['accuracy'])\n",
    "\n",
    "model.fit(partial_x_train, partial_y_train, epochs=4, batch_size=512, validation_data=(x_val, y_val))\n",
    "results = model.evaluate(x_test, y_test)"
   ]
  },
  {
   "cell_type": "markdown",
   "id": "588fa22d",
   "metadata": {},
   "source": [
    "### 3. `binary_crossentropy` 대신 `mse` 손실 함수 사용\n",
    "- 87~88%의 정확도"
   ]
  },
  {
   "cell_type": "code",
   "execution_count": 6,
   "id": "f28053c4",
   "metadata": {},
   "outputs": [
    {
     "name": "stdout",
     "output_type": "stream",
     "text": [
      "Epoch 1/4\n",
      "30/30 [==============================] - 1s 30ms/step - loss: 0.1757 - accuracy: 0.7941 - val_loss: 0.1241 - val_accuracy: 0.8735\n",
      "Epoch 2/4\n",
      "30/30 [==============================] - 0s 14ms/step - loss: 0.0969 - accuracy: 0.9007 - val_loss: 0.0965 - val_accuracy: 0.8873\n",
      "Epoch 3/4\n",
      "30/30 [==============================] - 0s 16ms/step - loss: 0.0677 - accuracy: 0.9285 - val_loss: 0.0866 - val_accuracy: 0.8905\n",
      "Epoch 4/4\n",
      "30/30 [==============================] - 0s 14ms/step - loss: 0.0516 - accuracy: 0.9454 - val_loss: 0.0864 - val_accuracy: 0.8859\n",
      "782/782 [==============================] - 1s 2ms/step - loss: 0.0943 - accuracy: 0.8741\n"
     ]
    }
   ],
   "source": [
    "from tensorflow.keras import models, layers\n",
    "\n",
    "model = models.Sequential()\n",
    "model.add(layers.Dense(16, activation='relu', input_shape=(10000, )))\n",
    "model.add(layers.Dense(16, activation='relu'))\n",
    "model.add(layers.Dense(1, activation='sigmoid'))\n",
    "\n",
    "model.compile(optimizer='rmsprop',\n",
    "             loss='mse',\n",
    "             metrics=['accuracy'])\n",
    "\n",
    "model.fit(partial_x_train, partial_y_train, epochs=4, batch_size=512, validation_data=(x_val, y_val))\n",
    "results = model.evaluate(x_test, y_test)"
   ]
  },
  {
   "cell_type": "markdown",
   "id": "4f78d195",
   "metadata": {},
   "source": [
    "### 4. `relu` 대신 `tanh` 활성화 함수 사용\n",
    "- `tanh` : 초창기 신경망에서 인기 있었던 함수\n",
    "- 87~88%의 정확도"
   ]
  },
  {
   "cell_type": "code",
   "execution_count": 5,
   "id": "d9e6e83e",
   "metadata": {},
   "outputs": [
    {
     "name": "stdout",
     "output_type": "stream",
     "text": [
      "Epoch 1/4\n",
      "30/30 [==============================] - 2s 32ms/step - loss: 0.4689 - accuracy: 0.7964 - val_loss: 0.3483 - val_accuracy: 0.8743\n",
      "Epoch 2/4\n",
      "30/30 [==============================] - 0s 16ms/step - loss: 0.2645 - accuracy: 0.9131 - val_loss: 0.3015 - val_accuracy: 0.8771\n",
      "Epoch 3/4\n",
      "30/30 [==============================] - 0s 15ms/step - loss: 0.1950 - accuracy: 0.9319 - val_loss: 0.2766 - val_accuracy: 0.8866\n",
      "Epoch 4/4\n",
      "30/30 [==============================] - 0s 15ms/step - loss: 0.1458 - accuracy: 0.9513 - val_loss: 0.2852 - val_accuracy: 0.8842\n",
      "782/782 [==============================] - 1s 2ms/step - loss: 0.3082 - accuracy: 0.8773\n"
     ]
    }
   ],
   "source": [
    "from tensorflow.keras import models, layers\n",
    "\n",
    "model = models.Sequential()\n",
    "model.add(layers.Dense(16, activation='tanh', input_shape=(10000, )))\n",
    "model.add(layers.Dense(16, activation='tanh'))\n",
    "model.add(layers.Dense(1, activation='sigmoid'))\n",
    "\n",
    "model.compile(optimizer='rmsprop',\n",
    "             loss='binary_crossentropy',\n",
    "             metrics=['accuracy'])\n",
    "\n",
    "model.fit(partial_x_train, partial_y_train, epochs=4, batch_size=512, validation_data=(x_val, y_val))\n",
    "results = model.evaluate(x_test, y_test)"
   ]
  },
  {
   "cell_type": "code",
   "execution_count": null,
   "id": "7b59bad8",
   "metadata": {},
   "outputs": [],
   "source": []
  }
 ],
 "metadata": {
  "kernelspec": {
   "display_name": "Python Multi",
   "language": "python",
   "name": "multi"
  },
  "language_info": {
   "codemirror_mode": {
    "name": "ipython",
    "version": 3
   },
   "file_extension": ".py",
   "mimetype": "text/x-python",
   "name": "python",
   "nbconvert_exporter": "python",
   "pygments_lexer": "ipython3",
   "version": "3.7.6"
  },
  "toc": {
   "base_numbering": 1,
   "nav_menu": {},
   "number_sections": false,
   "sideBar": true,
   "skip_h1_title": false,
   "title_cell": "Table of Contents",
   "title_sidebar": "Contents",
   "toc_cell": false,
   "toc_position": {},
   "toc_section_display": true,
   "toc_window_display": true
  }
 },
 "nbformat": 4,
 "nbformat_minor": 5
}
