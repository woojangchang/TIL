{
 "cells": [
  {
   "cell_type": "markdown",
   "id": "382079d2",
   "metadata": {},
   "source": [
    "# 3.3 딥러닝 컴퓨터 셋팅\n",
    "- NVIDIA GPU에서 딥러닝 코드를 실행할 것을 권장\n",
    "- GPU가 없다면 AWS EC2 GPU 인스턴스(유료)나 구글 colab 이용"
   ]
  },
  {
   "cell_type": "markdown",
   "id": "5cc71057",
   "metadata": {},
   "source": [
    "## 3.3.1 주피터 노트북: 딥러닝 실험을 위한 최적의 방법\n",
    "- 데이터 사이언스와 머신 러닝에서 폭넓게 사용"
   ]
  },
  {
   "cell_type": "markdown",
   "id": "d6dc8f01",
   "metadata": {},
   "source": [
    "## 3.3.2 케라스 시작하기: 두 가지 방법\n",
    "- 공식 EC2 딥러닝 AMI를 사용해서 EC2에서 주피터 노트북으로 케라스 예제 실행\n",
    "    - 로컬 컴퓨터에 GPU가 없는 경우\n",
    "- 로컬 유닉스 컴퓨터에 처음부터 모든 것을 설치, 그 후 주피터 노트북 실행\n",
    "    - NVIDIA GPU 카드가 있을 때 사용"
   ]
  },
  {
   "cell_type": "markdown",
   "id": "f23e3ee4",
   "metadata": {},
   "source": [
    "## 3.3.3 클라우드에서 딥러닝 작업을 수행했을 때 장단점\n",
    "- 하드웨어를 추가로 구매하지 않고 시작할 수 있는 간단하고 저렴한 방법\n",
    "- 대규모 딥러닝 작업을 수행하는 사용자, 장기적이나 여러 주 이상 진행할 때 적합하지 않음"
   ]
  },
  {
   "cell_type": "markdown",
   "id": "e86fe269",
   "metadata": {},
   "source": [
    "## 3.3.4 어떤 GPU 카드가 딥러닝에 최적일까?\n",
    "- 반드시 NVIDIA GPU이어야 함"
   ]
  },
  {
   "cell_type": "code",
   "execution_count": null,
   "id": "9f6a3636",
   "metadata": {},
   "outputs": [],
   "source": []
  }
 ],
 "metadata": {
  "kernelspec": {
   "display_name": "Python Multi",
   "language": "python",
   "name": "multi"
  },
  "language_info": {
   "codemirror_mode": {
    "name": "ipython",
    "version": 3
   },
   "file_extension": ".py",
   "mimetype": "text/x-python",
   "name": "python",
   "nbconvert_exporter": "python",
   "pygments_lexer": "ipython3",
   "version": "3.7.6"
  },
  "toc": {
   "base_numbering": 1,
   "nav_menu": {},
   "number_sections": false,
   "sideBar": true,
   "skip_h1_title": false,
   "title_cell": "Table of Contents",
   "title_sidebar": "Contents",
   "toc_cell": false,
   "toc_position": {},
   "toc_section_display": true,
   "toc_window_display": false
  }
 },
 "nbformat": 4,
 "nbformat_minor": 5
}
