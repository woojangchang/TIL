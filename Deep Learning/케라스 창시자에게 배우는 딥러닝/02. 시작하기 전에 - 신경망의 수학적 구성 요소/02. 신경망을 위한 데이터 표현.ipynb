{
 "cells": [
  {
   "cell_type": "markdown",
   "id": "08e02bcc",
   "metadata": {},
   "source": [
    "# 2.2 신경망을 위한 데이터 표현\n",
    "- **텐서**(tensor) : 다차원 넘파이 배열, 데이터를 위한 컨테이너\n",
    "- 2D 텐서 : 행렬\n",
    "- 텐서에서는 **차원**(dimension)을 **축**(axis)이라고 부름"
   ]
  },
  {
   "cell_type": "markdown",
   "id": "239d8657",
   "metadata": {},
   "source": [
    "## 2.2.1 스칼라(0D 텐서)\n",
    "- **스칼라**(scalar) : 하나의 숫자만 담고 있는 텐서\n",
    "- `float32`나 `float64` 타입의 숫자\n",
    "- `ndim` 속성을 사용하면 축 개수를 확인할 수 있으며 스칼라 텐서의 축 개수는 0\n",
    "- 텐서의 축 개수를 **랭크**(rank)라고도 부름"
   ]
  },
  {
   "cell_type": "code",
   "execution_count": 1,
   "id": "fc31645d",
   "metadata": {},
   "outputs": [],
   "source": [
    "import numpy as np\n",
    "\n",
    "x = np.array(12)"
   ]
  },
  {
   "cell_type": "code",
   "execution_count": 2,
   "id": "613ce497",
   "metadata": {},
   "outputs": [
    {
     "data": {
      "text/plain": [
       "(array(12), 0)"
      ]
     },
     "execution_count": 2,
     "metadata": {},
     "output_type": "execute_result"
    }
   ],
   "source": [
    "x, x.ndim"
   ]
  },
  {
   "cell_type": "markdown",
   "id": "dfc7f0b6",
   "metadata": {},
   "source": [
    "## 2.2.2 벡터(1D 텐서)\n",
    "- **벡터**(vector) : 숫자의 배열\n",
    "- 딱 하나의 축을 가짐"
   ]
  },
  {
   "cell_type": "code",
   "execution_count": 3,
   "id": "e7b27262",
   "metadata": {},
   "outputs": [],
   "source": [
    "x = np.array([12, 3, 6, 14, 7])"
   ]
  },
  {
   "cell_type": "code",
   "execution_count": 4,
   "id": "66f23958",
   "metadata": {},
   "outputs": [
    {
     "data": {
      "text/plain": [
       "(array([12,  3,  6, 14,  7]), 1)"
      ]
     },
     "execution_count": 4,
     "metadata": {},
     "output_type": "execute_result"
    }
   ],
   "source": [
    "x, x.ndim"
   ]
  },
  {
   "cell_type": "markdown",
   "id": "1b9818ab",
   "metadata": {},
   "source": [
    "- 5개의 원소를 가지고 있으므로 5차원 벡터라고 부름\n",
    "    - 5D 벡터와 5D 텐서(랭크 5인 텐서)를 혼동하면 안 됨\n",
    "- **차원수**(dimensionality) : 특정 축을 따라 놓인 원소의 개수"
   ]
  },
  {
   "cell_type": "markdown",
   "id": "e8067605",
   "metadata": {},
   "source": [
    "## 2.2.3 행렬(2D 텐서)\n",
    "- **행렬**(matrix) : 벡터의 배열\n",
    "- 2개의 축 : **행**(row)과 **열**(column)"
   ]
  },
  {
   "cell_type": "code",
   "execution_count": 6,
   "id": "89503157",
   "metadata": {},
   "outputs": [
    {
     "data": {
      "text/plain": [
       "array([[ 0,  1,  2,  3,  4],\n",
       "       [ 5,  6,  7,  8,  9],\n",
       "       [10, 11, 12, 13, 14]])"
      ]
     },
     "execution_count": 6,
     "metadata": {},
     "output_type": "execute_result"
    }
   ],
   "source": [
    "x = np.arange(0, 15, 1).reshape((3, 5))\n",
    "x"
   ]
  },
  {
   "cell_type": "code",
   "execution_count": 7,
   "id": "de1337a5",
   "metadata": {},
   "outputs": [
    {
     "data": {
      "text/plain": [
       "2"
      ]
     },
     "execution_count": 7,
     "metadata": {},
     "output_type": "execute_result"
    }
   ],
   "source": [
    "x.ndim"
   ]
  },
  {
   "cell_type": "markdown",
   "id": "b82fd3fc",
   "metadata": {},
   "source": [
    "- 첫 번째 행 : [0, 1, 2, 3, 4]\n",
    "- 첫 번째 열 : [0, 5, 10]"
   ]
  },
  {
   "cell_type": "markdown",
   "id": "f58c813b",
   "metadata": {},
   "source": [
    "## 2.2.4 3D 텐서와 고차원 텐서\n",
    "- 직육면체 형태로 해석할 수 있는 3D 텐서"
   ]
  },
  {
   "cell_type": "code",
   "execution_count": 9,
   "id": "a70e8751",
   "metadata": {},
   "outputs": [
    {
     "data": {
      "text/plain": [
       "array([[[ 0,  1,  2,  3,  4],\n",
       "        [ 5,  6,  7,  8,  9],\n",
       "        [10, 11, 12, 13, 14]],\n",
       "\n",
       "       [[15, 16, 17, 18, 19],\n",
       "        [20, 21, 22, 23, 24],\n",
       "        [25, 26, 27, 28, 29]],\n",
       "\n",
       "       [[30, 31, 32, 33, 34],\n",
       "        [35, 36, 37, 38, 39],\n",
       "        [40, 41, 42, 43, 44]]])"
      ]
     },
     "execution_count": 9,
     "metadata": {},
     "output_type": "execute_result"
    }
   ],
   "source": [
    "x = np.arange(0, 45, 1).reshape((3, 3, 5))\n",
    "x"
   ]
  },
  {
   "cell_type": "code",
   "execution_count": 10,
   "id": "a50ad1e8",
   "metadata": {},
   "outputs": [
    {
     "data": {
      "text/plain": [
       "3"
      ]
     },
     "execution_count": 10,
     "metadata": {},
     "output_type": "execute_result"
    }
   ],
   "source": [
    "x.ndim"
   ]
  },
  {
   "cell_type": "markdown",
   "id": "47c03726",
   "metadata": {},
   "source": [
    "- 딥러닝에서는 보통 0D에서 4D까지의 텐서를 다룸\n",
    "- 동영상 데이터를 다룰 경우 5D 텐서까지 다루기도 함"
   ]
  },
  {
   "cell_type": "markdown",
   "id": "44c9dfd1",
   "metadata": {},
   "source": [
    "## 2.2.5 핵심 속성\n",
    "- **축의 개수(랭크)** : `ndim` 속성에 저장되어 있는 축의 개수\n",
    "- **크기**(shape) : 각 축을 따라 얼마나 많은 차원이 있는지를 튜플로 나타낸 것\n",
    "    - 행렬은 `(3, 5)`, 3D 텐서는 `(3, 3, 5)`, 벡터는 `(5,)`, 스칼라는 `()`로 크기가 없음\n",
    "- **데이터 타입**(넘파이 dtype) : `float32`, `unit8`, `float64` 등\n",
    "    - 드물게 `char` 타입을 사용하며, 텐서는 사전에 할당되어 연속된 메로리에 저장되어야 하므로 가변 길이의 문자열을 지원하지 않음"
   ]
  },
  {
   "cell_type": "markdown",
   "id": "6620e1e0",
   "metadata": {},
   "source": [
    "### MNIST 데이터셋\n",
    "- 8비트 정수형 3D 텐서\n",
    "- 28x28 크기의 정수 행렬 6만개가 있는 배열"
   ]
  },
  {
   "cell_type": "code",
   "execution_count": 11,
   "id": "03fa756e",
   "metadata": {},
   "outputs": [],
   "source": [
    "from tensorflow.keras.datasets import mnist\n",
    "\n",
    "(train_images, train_labels), (test_images, test_labels) = mnist.load_data()"
   ]
  },
  {
   "cell_type": "code",
   "execution_count": 12,
   "id": "9374fcd6",
   "metadata": {},
   "outputs": [
    {
     "name": "stdout",
     "output_type": "stream",
     "text": [
      "3\n"
     ]
    }
   ],
   "source": [
    "print(train_images.ndim)"
   ]
  },
  {
   "cell_type": "code",
   "execution_count": 13,
   "id": "d72aea1e",
   "metadata": {},
   "outputs": [
    {
     "name": "stdout",
     "output_type": "stream",
     "text": [
      "(60000, 28, 28)\n"
     ]
    }
   ],
   "source": [
    "print(train_images.shape)"
   ]
  },
  {
   "cell_type": "code",
   "execution_count": 14,
   "id": "495dc546",
   "metadata": {},
   "outputs": [
    {
     "name": "stdout",
     "output_type": "stream",
     "text": [
      "uint8\n"
     ]
    }
   ],
   "source": [
    "print(train_images.dtype)"
   ]
  },
  {
   "cell_type": "markdown",
   "id": "8520df6a",
   "metadata": {},
   "source": [
    "### 다섯 번째 이미지 출력하기"
   ]
  },
  {
   "cell_type": "code",
   "execution_count": 15,
   "id": "cef55ad4",
   "metadata": {},
   "outputs": [
    {
     "data": {
      "image/png": "[encoded data removed]",
      "text/plain": [
       "<Figure size 432x288 with 1 Axes>"
      ]
     },
     "metadata": {
      "needs_background": "light"
     },
     "output_type": "display_data"
    }
   ],
   "source": [
    "digit = train_images[4]\n",
    "\n",
    "import matplotlib.pyplot as plt\n",
    "\n",
    "plt.imshow(digit, cmap=plt.cm.binary)\n",
    "plt.show()"
   ]
  },
  {
   "cell_type": "markdown",
   "id": "91e4f88a",
   "metadata": {},
   "source": [
    "## 2.2.6 넘파이로 텐서 조작하기\n",
    "- **슬라이싱**(slicing) : 배열에 있는 특정 원소들을 선택하는 것"
   ]
  },
  {
   "cell_type": "code",
   "execution_count": 16,
   "id": "4986c436",
   "metadata": {},
   "outputs": [],
   "source": [
    "my_slice = train_images[10:100]"
   ]
  },
  {
   "cell_type": "code",
   "execution_count": 17,
   "id": "60d06299",
   "metadata": {},
   "outputs": [
    {
     "name": "stdout",
     "output_type": "stream",
     "text": [
      "(90, 28, 28)\n"
     ]
    }
   ],
   "source": [
    "print(my_slice.shape)"
   ]
  },
  {
   "cell_type": "markdown",
   "id": "e3e7db71",
   "metadata": {},
   "source": [
    "- 정중앙에 위치한 14x14 픽셀 조각"
   ]
  },
  {
   "cell_type": "code",
   "execution_count": 18,
   "id": "9d830f21",
   "metadata": {},
   "outputs": [],
   "source": [
    "my_slice = train_images[:, 7:-7, 7:-7]"
   ]
  },
  {
   "cell_type": "code",
   "execution_count": 19,
   "id": "6dcb0b41",
   "metadata": {},
   "outputs": [
    {
     "name": "stdout",
     "output_type": "stream",
     "text": [
      "(60000, 14, 14)\n"
     ]
    }
   ],
   "source": [
    "print(my_slice.shape)"
   ]
  },
  {
   "cell_type": "markdown",
   "id": "710becf3",
   "metadata": {},
   "source": [
    "## 2.2.7 배치 데이터\n",
    "- 일반적으로 딥러닝에서 사용하는 모든 데이터 텐서의 첫 번째 축은 **샘플 축**(sample axis)\n",
    "- 딥러닝 모델은 한 번에 전체 데이터셋을 처리하지 않는 대신 작은 배치(batch)로 나눔\n",
    "- 배치 데이터를 다룰 때 첫 번째 축을 **배치 축**(batch axis) 또는 **배치 차원**(batch dimension)이라고 부름"
   ]
  },
  {
   "cell_type": "markdown",
   "id": "e3082db0",
   "metadata": {},
   "source": [
    "## 2.2.8 텐서의 실제 사례\n",
    "- **벡터 데이터** : `(samples, features)` 크기의 2D 텐서\n",
    "- **시계열 데이터** 또는 **시퀀스**(sequence) **데이터** : `(samples, timesteps, features)` 크기의 3D 텐서\n",
    "- **이미지** : `(samples, height, width, channels)` 또는 `(samples, channels, height, width)` 크기의 4D 텐서\n",
    "- **동영상** : `(samples, framses, height, width, channels)` 또는 `(samples, frames, channels, height, width)` 크기의 5D 텐서"
   ]
  },
  {
   "cell_type": "markdown",
   "id": "2461e11b",
   "metadata": {},
   "source": [
    "## 2.2.9 벡터 데이터\n",
    "- **샘플 축**과 **특성 축**(feature axis)로 이루어진 데이터"
   ]
  },
  {
   "cell_type": "markdown",
   "id": "d9231b25",
   "metadata": {},
   "source": [
    "## 2.2.10 시계열 데이터 또는 시퀀스 데이터\n",
    "- 시간 또는 연속된 순서가 중요할 때는 시간 축을 포함하여 3D 텐서로 저장\n",
    "- 주식 가격 데이터셋 : 미국 기준 1분마다 현재, 최고, 최소 가격을 저장하면 하루 동안 `(390, 3)` 크기의 2D 텐서로 인코딩 되며 250일치 데이터는 `(250, 390, 3)` 크기의 3D 텐서로 저장\n",
    "    - 1일치 데이터가 하나의 샘플"
   ]
  },
  {
   "cell_type": "markdown",
   "id": "e42ae867",
   "metadata": {},
   "source": [
    "## 2.2.11 이미지 데이터\n",
    "- 흑백 이미지의 경우 컬러 채널의 차원 크기는 1\n",
    "- 256x256 크기의 흑백 이미지에 대한 128개 배치는 `(128, 256, 256, 1)` 크기의 텐서에 저장\n",
    "- 컬러 이미지는 `(128, 256, 256, 3)` 크기의 텐서에 저장\n",
    "- **채널 마지막**(channel-last) 방식 : 텐서플로에서 사용하는 방식으로 `(samples, height, width, channels)`\n",
    "- **채널 우선**(channel-firts) 방식 : 씨아노에서 사용하는 방식으로 `(samples, channels, height, width)`\n",
    "- 일상생활에서 이미지의 크기는 보통 너비 x 높이로 말하지만 행렬에서는 행이 먼저 나오므로 높이 x 너비로 표현"
   ]
  },
  {
   "cell_type": "markdown",
   "id": "55d5b973",
   "metadata": {},
   "source": [
    "## 2.2.12 비디오 데이터\n",
    "- 60초짜리 144x256 유튜브 비디오 클립을 초당 4프레임으로 샘플링하면 240프레임이 되며\n",
    "    - 이런 비디오 클립을 4개 가진 배치는 `(4, 240, 144, 256, 3)` 크기의 텐서에 저장되며\n",
    "    - `dtype`을 `float32`로 했다면 각 값이 32비트로 저장되어 405MB가 됨"
   ]
  },
  {
   "cell_type": "code",
   "execution_count": null,
   "id": "82334e2a",
   "metadata": {},
   "outputs": [],
   "source": []
  }
 ],
 "metadata": {
  "kernelspec": {
   "display_name": "Python Multi",
   "language": "python",
   "name": "multi"
  },
  "language_info": {
   "codemirror_mode": {
    "name": "ipython",
    "version": 3
   },
   "file_extension": ".py",
   "mimetype": "text/x-python",
   "name": "python",
   "nbconvert_exporter": "python",
   "pygments_lexer": "ipython3",
   "version": "3.7.6"
  },
  "toc": {
   "base_numbering": 1,
   "nav_menu": {},
   "number_sections": false,
   "sideBar": true,
   "skip_h1_title": false,
   "title_cell": "Table of Contents",
   "title_sidebar": "Contents",
   "toc_cell": false,
   "toc_position": {},
   "toc_section_display": true,
   "toc_window_display": false
  }
 },
 "nbformat": 4,
 "nbformat_minor": 5
}
