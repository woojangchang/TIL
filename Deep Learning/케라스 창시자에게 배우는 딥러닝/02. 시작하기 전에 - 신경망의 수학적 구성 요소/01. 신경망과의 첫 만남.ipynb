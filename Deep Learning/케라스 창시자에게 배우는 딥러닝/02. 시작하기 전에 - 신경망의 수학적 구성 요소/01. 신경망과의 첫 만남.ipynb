{
 "cells": [
  {
   "cell_type": "markdown",
   "id": "d8632e53",
   "metadata": {},
   "source": [
    "# 2.1 신경망과의 첫 만남\n",
    "- 머신 러닝에서 분류 문제의 범주(category)를 **클래스**(class)라고 하며 데이터 포인트는 **샘플**(sample)이라고 함\n",
    "- 특정 샘플의 클래스는 **레이블(label)**이라고 함"
   ]
  },
  {
   "cell_type": "code",
   "execution_count": 1,
   "id": "15366ec5",
   "metadata": {},
   "outputs": [
    {
     "data": {
      "text/plain": [
       "'2.6.0'"
      ]
     },
     "execution_count": 1,
     "metadata": {},
     "output_type": "execute_result"
    }
   ],
   "source": [
    "from tensorflow import keras\n",
    "\n",
    "keras.__version__"
   ]
  },
  {
   "cell_type": "markdown",
   "id": "2e9df73f",
   "metadata": {},
   "source": [
    "### MNIST 데이터셋\n",
    "- 28x28 픽셀의 흑백 손글씨 숫자 이미지\n",
    "- 6만개의 훈련 데이터와 1만개의 테스트 데이터"
   ]
  },
  {
   "cell_type": "code",
   "execution_count": 2,
   "id": "3db86c1f",
   "metadata": {},
   "outputs": [],
   "source": [
    "from tensorflow.keras.datasets import mnist\n",
    "\n",
    "(train_images, train_labels), (test_images, test_labels) = mnist.load_data()"
   ]
  },
  {
   "cell_type": "markdown",
   "id": "336f4812",
   "metadata": {},
   "source": [
    "훈련 데이터"
   ]
  },
  {
   "cell_type": "code",
   "execution_count": 3,
   "id": "e69630c8",
   "metadata": {},
   "outputs": [
    {
     "data": {
      "text/plain": [
       "(60000, 28, 28)"
      ]
     },
     "execution_count": 3,
     "metadata": {},
     "output_type": "execute_result"
    }
   ],
   "source": [
    "train_images.shape"
   ]
  },
  {
   "cell_type": "code",
   "execution_count": 4,
   "id": "f282353a",
   "metadata": {},
   "outputs": [
    {
     "data": {
      "text/plain": [
       "array([5, 0, 4, ..., 5, 6, 8], dtype=uint8)"
      ]
     },
     "execution_count": 4,
     "metadata": {},
     "output_type": "execute_result"
    }
   ],
   "source": [
    "train_labels"
   ]
  },
  {
   "cell_type": "markdown",
   "id": "c1de4c80",
   "metadata": {},
   "source": [
    "테스트 데이터"
   ]
  },
  {
   "cell_type": "code",
   "execution_count": 5,
   "id": "6ec2bf9e",
   "metadata": {},
   "outputs": [
    {
     "data": {
      "text/plain": [
       "(10000, 28, 28)"
      ]
     },
     "execution_count": 5,
     "metadata": {},
     "output_type": "execute_result"
    }
   ],
   "source": [
    "test_images.shape"
   ]
  },
  {
   "cell_type": "code",
   "execution_count": 6,
   "id": "d21fed22",
   "metadata": {},
   "outputs": [
    {
     "data": {
      "text/plain": [
       "array([7, 2, 1, ..., 4, 5, 6], dtype=uint8)"
      ]
     },
     "execution_count": 6,
     "metadata": {},
     "output_type": "execute_result"
    }
   ],
   "source": [
    "test_labels"
   ]
  },
  {
   "cell_type": "markdown",
   "id": "355a5f48",
   "metadata": {},
   "source": [
    "### 신경망 구조\n",
    "- **층**(layer) : 신경망의 핵심 구성 요소로 입력된 데이터로부터 의미있는 **표현**(representation)을 추출\n",
    "- **완전 연결**(fully connected)된 신경망 층인 `Dense`층 2개가 연속되어 있음\n",
    "- 두 번째 층은 10개의 확률 점수가 들어 있는 배열을 반환하는 **소프트맥스**(softmax) 층으로 각 클래스 중 하나에 속할 확률"
   ]
  },
  {
   "cell_type": "code",
   "execution_count": 7,
   "id": "3e133934",
   "metadata": {},
   "outputs": [],
   "source": [
    "from tensorflow.keras import models\n",
    "from tensorflow.keras import layers\n",
    "\n",
    "network = models.Sequential()\n",
    "network.add(layers.Dense(512, activation='relu', input_shape=(28*28, )))\n",
    "network.add(layers.Dense(10, activation='softmax'))"
   ]
  },
  {
   "cell_type": "markdown",
   "id": "cb3d3d77",
   "metadata": {},
   "source": [
    "### 컴파일 단계\n",
    "- **손실 함수**(loss function) : 신경망 성능을 측정하는 방법으로, 네트워크가 옳은 방향으로 학습될 수 있도록 도와줌\n",
    "- **옵티마이저**(optimizer) : 입력된 데이터와 손실 함수를 기반으로 네트워크를 업데이트하는 매커니즘\n",
    "- **훈련과 테스트 과정을 모니터링할 지표** : 정확도 등"
   ]
  },
  {
   "cell_type": "code",
   "execution_count": 8,
   "id": "f62863ef",
   "metadata": {},
   "outputs": [],
   "source": [
    "network.compile(loss='categorical_crossentropy',\n",
    "               optimizer='rmsprop',\n",
    "               metrics=['accuracy'])"
   ]
  },
  {
   "cell_type": "markdown",
   "id": "437faef0",
   "metadata": {},
   "source": [
    "### 이미지 데이터 준비하기\n",
    "- 신경망은 입력 데이터의 스케일에 민감하여 적절한 데이터 전처리 과정이 필요\n",
    "- [0, 255] 사이의 값인 unit8 타입의 (60000, 28, 28) 배열의 데이터를 0과 1사이 값을 가지는 float32 타입의 (60000, 28*28) 크기인 배열로 바꿈"
   ]
  },
  {
   "cell_type": "code",
   "execution_count": 9,
   "id": "c2192c2a",
   "metadata": {},
   "outputs": [],
   "source": [
    "train_images = train_images.reshape((60000, 28*28))\n",
    "train_images = train_images.astype('float32') / 255\n",
    "\n",
    "test_images = test_images.reshape((10000, 28*28))\n",
    "test_images = test_images.astype('float32') / 255"
   ]
  },
  {
   "cell_type": "markdown",
   "id": "52dbb087",
   "metadata": {},
   "source": [
    "### 레이블 준비하기\n",
    "- 범주형으로 인코딩"
   ]
  },
  {
   "cell_type": "code",
   "execution_count": 10,
   "id": "5a5916f1",
   "metadata": {},
   "outputs": [],
   "source": [
    "from tensorflow.keras.utils import to_categorical\n",
    "\n",
    "train_labels = to_categorical(train_labels)\n",
    "test_labels = to_categorical(test_labels)"
   ]
  },
  {
   "cell_type": "markdown",
   "id": "5cbe58f7",
   "metadata": {},
   "source": [
    "### 모델 학습"
   ]
  },
  {
   "cell_type": "code",
   "execution_count": 12,
   "id": "0025f771",
   "metadata": {},
   "outputs": [
    {
     "name": "stdout",
     "output_type": "stream",
     "text": [
      "Epoch 1/5\n",
      "469/469 [==============================] - 4s 3ms/step - loss: 0.2557 - accuracy: 0.9264\n",
      "Epoch 2/5\n",
      "469/469 [==============================] - 1s 3ms/step - loss: 0.1025 - accuracy: 0.9697\n",
      "Epoch 3/5\n",
      "469/469 [==============================] - 1s 3ms/step - loss: 0.0690 - accuracy: 0.9790\n",
      "Epoch 4/5\n",
      "469/469 [==============================] - 1s 3ms/step - loss: 0.0496 - accuracy: 0.9852\n",
      "Epoch 5/5\n",
      "469/469 [==============================] - 1s 3ms/step - loss: 0.0370 - accuracy: 0.9891\n"
     ]
    },
    {
     "data": {
      "text/plain": [
       "<keras.callbacks.History at 0x1f2068fe208>"
      ]
     },
     "execution_count": 12,
     "metadata": {},
     "output_type": "execute_result"
    }
   ],
   "source": [
    "network.fit(train_images, train_labels, epochs=5, batch_size=128)"
   ]
  },
  {
   "cell_type": "code",
   "execution_count": 13,
   "id": "2dcdefc0",
   "metadata": {},
   "outputs": [
    {
     "name": "stdout",
     "output_type": "stream",
     "text": [
      "313/313 [==============================] - 1s 1ms/step - loss: 0.0668 - accuracy: 0.9802\n"
     ]
    }
   ],
   "source": [
    "test_loss, test_acc = network.evaluate(test_images, test_labels)"
   ]
  },
  {
   "cell_type": "code",
   "execution_count": 14,
   "id": "141b4b96",
   "metadata": {},
   "outputs": [
    {
     "name": "stdout",
     "output_type": "stream",
     "text": [
      "test_acc : 0.9801999926567078\n"
     ]
    }
   ],
   "source": [
    "print('test_acc :', test_acc)"
   ]
  },
  {
   "cell_type": "markdown",
   "id": "1304efb5",
   "metadata": {},
   "source": [
    "훈련 정확도보다 테스트 정확도가 낮은 이유는 **과대적합**(overfitting) 때문"
   ]
  },
  {
   "cell_type": "code",
   "execution_count": null,
   "id": "0c20bc26",
   "metadata": {},
   "outputs": [],
   "source": []
  }
 ],
 "metadata": {
  "kernelspec": {
   "display_name": "Python Multi",
   "language": "python",
   "name": "multi"
  },
  "language_info": {
   "codemirror_mode": {
    "name": "ipython",
    "version": 3
   },
   "file_extension": ".py",
   "mimetype": "text/x-python",
   "name": "python",
   "nbconvert_exporter": "python",
   "pygments_lexer": "ipython3",
   "version": "3.7.6"
  },
  "toc": {
   "base_numbering": 1,
   "nav_menu": {},
   "number_sections": false,
   "sideBar": true,
   "skip_h1_title": false,
   "title_cell": "Table of Contents",
   "title_sidebar": "Contents",
   "toc_cell": false,
   "toc_position": {},
   "toc_section_display": true,
   "toc_window_display": false
  }
 },
 "nbformat": 4,
 "nbformat_minor": 5
}
