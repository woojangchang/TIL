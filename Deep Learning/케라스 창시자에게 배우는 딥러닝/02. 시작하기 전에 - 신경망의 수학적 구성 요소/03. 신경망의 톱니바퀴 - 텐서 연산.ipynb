{
 "cells": [
  {
   "cell_type": "markdown",
   "id": "adddd5bd",
   "metadata": {},
   "source": [
    "# 2.3 신경망의 톱니바퀴: 텐서 연산\n",
    "- **텐서 연산**(tensor operation) : 텐서 덧셈, 텐서 곱셈 등\n",
    "- `layers.Dense(512, activation='relu') : 2D 텐서를 입력으로 받고 또 다른 2D 텐서를 반환하는 함수\n",
    "    - `output = relu(dot(W, input) + b)` : `W`는 2D 텐서, `b`는 벡터로 둘 모두 층의 속성\n",
    "    - 입력 텐서와 텐서 `W` 사이의 점곱(dot), 점곱의 결과인 2D 텐서와 벡터 `b` 사이의 덧셈(+), `relu`(렐루) 연산 총 3개의 텐서 연산이 있음\n",
    "    - `relu(x)` = `max(x, 0)`"
   ]
  },
  {
   "cell_type": "markdown",
   "id": "952240ff",
   "metadata": {},
   "source": [
    "## 2.3.1 원소별 연산\n",
    "- `relu` 함수와 덧셈은 **원소별 연산**(element-wise operation) : 텐서의 각 원소에 독립적으로 적용\n",
    "- 고도의 병렬 구현이 가능한 연산이라는 의미"
   ]
  },
  {
   "cell_type": "markdown",
   "id": "54739d6f",
   "metadata": {},
   "source": [
    "### `relu` 연산 구현"
   ]
  },
  {
   "cell_type": "code",
   "execution_count": 4,
   "id": "0eabbeb4",
   "metadata": {},
   "outputs": [
    {
     "name": "stdout",
     "output_type": "stream",
     "text": [
      "x :\n",
      "[[-8 -5 -2]\n",
      " [ 1  4  7]]\n",
      "\n",
      "relu(x) :\n",
      "[[0 0 0]\n",
      " [1 4 7]]\n"
     ]
    }
   ],
   "source": [
    "import numpy as np\n",
    "\n",
    "def naive_relu(x):\n",
    "    assert len(x.shape) == 2    # x는 2D 넘파이 배열\n",
    "    \n",
    "    x = x.copy()    # 배열 원본을 변경시키지 않기 위한 복사\n",
    "    for i in range(x.shape[0]):\n",
    "        for j in range(x.shape[1]):\n",
    "            x[i, j] = max(x[i, j], 0)\n",
    "    return x\n",
    "\n",
    "x = np.arange(-8, 8, 3).reshape((2, 3))\n",
    "print('x :')\n",
    "print(x)\n",
    "print()\n",
    "print('relu(x) :')\n",
    "print(naive_relu(x))"
   ]
  },
  {
   "cell_type": "markdown",
   "id": "caf003d6",
   "metadata": {},
   "source": [
    "### 덧셈 연산 구현"
   ]
  },
  {
   "cell_type": "code",
   "execution_count": 6,
   "id": "c1e19a2f",
   "metadata": {},
   "outputs": [
    {
     "name": "stdout",
     "output_type": "stream",
     "text": [
      "y :\n",
      "[[0 1 2]\n",
      " [3 4 5]]\n",
      "\n",
      "x + y :\n",
      "[[-8 -4  0]\n",
      " [ 4  8 12]]\n"
     ]
    }
   ],
   "source": [
    "def naive_add(x, y):\n",
    "    assert len(x.shape) == 2\n",
    "    assert x.shape == y.shape    # x와 y는 2D 넘파이 배열\n",
    "    \n",
    "    x = x.copy()\n",
    "    for i in range(x.shape[0]):\n",
    "        for j in range(y.shape[1]):\n",
    "            x[i, j] += y[i, j]\n",
    "    return x\n",
    "\n",
    "y = np.arange(0, 6, 1).reshape((2, 3))\n",
    "\n",
    "print('y :')\n",
    "print(y)\n",
    "print()\n",
    "print('x + y :')\n",
    "print(naive_add(x, y))"
   ]
  },
  {
   "cell_type": "markdown",
   "id": "aadfaa3a",
   "metadata": {},
   "source": [
    "- 최적화된 넘파이 내장 함수로 이런 연산들을 처리할 수 있음\n",
    "- BLAS(Basic Linear Algebra Subprogram) : 고도로 병렬화되고 효율적인 저수준의 텐서 조작 루틴"
   ]
  },
  {
   "cell_type": "code",
   "execution_count": 7,
   "id": "2f9fa0dc",
   "metadata": {},
   "outputs": [
    {
     "name": "stdout",
     "output_type": "stream",
     "text": [
      "[[-8 -4  0]\n",
      " [ 4  8 12]]\n"
     ]
    }
   ],
   "source": [
    "# 원소별 덧셈\n",
    "z = x + y\n",
    "print(z)"
   ]
  },
  {
   "cell_type": "code",
   "execution_count": 9,
   "id": "1e8ba9e3",
   "metadata": {},
   "outputs": [
    {
     "name": "stdout",
     "output_type": "stream",
     "text": [
      "[[0. 0. 0.]\n",
      " [1. 4. 7.]]\n"
     ]
    }
   ],
   "source": [
    "# 원소별 렐루 함수\n",
    "z = np.maximum(x, 0.)\n",
    "print(z)"
   ]
  },
  {
   "cell_type": "markdown",
   "id": "71bf046c",
   "metadata": {},
   "source": [
    "## 2.3.2 브로드캐스팅\n",
    "- 작은 텐서가 큰 텐서의 크기에 맞추어 **브로드캐스팅**(broadcasting) 됨\n",
    "    1. 큰 텐서의 `ndim`에 맞도록 작은 텐서에 (브로드캐스팅 축이라고 부르는) 축이 추가됨\n",
    "    2. 작은 텐서가 새 축을 따라서 큰 텐서의 크기에 맞도록 반복\n",
    "- 예제\n",
    "    - `X.shape == (32, 10)`이고 `y.shape == (10, )`인 경우\n",
    "        1. `y`에 비어 있는 첫 번째 축을 추가하여 크기를 `(1, 10)`으로 만듬\n",
    "        2. 32번 반복하여 텐서 `Y`의 크기를 `(32, 10)`으로 만듬\n",
    "            - `Y[i, :] == y for i in range(0, 32)`\n",
    "- 그러나 새로운 텐서가 만들어지면 비효율적이므로 실제로는 어떤 2D 텐서도 만들어지지 않음"
   ]
  },
  {
   "cell_type": "markdown",
   "id": "77de29f2",
   "metadata": {},
   "source": [
    "### 브로드캐스팅 구현"
   ]
  },
  {
   "cell_type": "code",
   "execution_count": 10,
   "id": "0e10490a",
   "metadata": {},
   "outputs": [
    {
     "name": "stdout",
     "output_type": "stream",
     "text": [
      "x : [[0 1 2]\n",
      " [3 4 5]] y : [-5  0  5]\n"
     ]
    }
   ],
   "source": [
    "def naive_add_matrix_and_vector(x, y):\n",
    "    assert len(x.shape) == 2    # x는 2D 넘파이 배열\n",
    "    assert len(y.shape) == 1    # y는 1D 넘파이 배열\n",
    "    \n",
    "    x = x.copy()\n",
    "    for i in range(x.shape[0]):\n",
    "        for j in range(x.shape[1]):\n",
    "            x[i, j] += y[j]\n",
    "    return x\n",
    "\n",
    "x = np.arange(0, 6).reshape((2, 3))\n",
    "y = np.arange(-5, 6, 5).reshape((-1))\n",
    "print('x :', x, 'y :', y)"
   ]
  },
  {
   "cell_type": "code",
   "execution_count": 11,
   "id": "ea519127",
   "metadata": {},
   "outputs": [
    {
     "name": "stdout",
     "output_type": "stream",
     "text": [
      "[[-5  1  7]\n",
      " [-2  4 10]]\n"
     ]
    }
   ],
   "source": [
    "print(naive_add_matrix_and_vector(x, y))"
   ]
  },
  {
   "cell_type": "markdown",
   "id": "75ee9ca1",
   "metadata": {},
   "source": [
    "`(a, b, ..., n, n+1, ..., m)` 크기의 텐서와 `(n, n+1, ..., m)` 크기의 텐서 사이에 브로드캐스팅으로 원소별 연산을 적용할 수 있음"
   ]
  },
  {
   "cell_type": "code",
   "execution_count": 13,
   "id": "8ac5ef40",
   "metadata": {},
   "outputs": [],
   "source": [
    "# 브로드캐스팅으로 원소별 maximum 연산 적용\n",
    "x = np.random.random((64, 3, 32, 10))\n",
    "y = np.random.random((32, 10))\n",
    "\n",
    "z = np.maximum(x, y)"
   ]
  },
  {
   "cell_type": "markdown",
   "id": "7b91c45f",
   "metadata": {},
   "source": [
    "## 2.3.3 텐서 점곰\n",
    "- **텐서 곱셈**(tensor product)라고도 부르는 점곱 연산은 가장 잘 사용되고 유용한 텐서 연산\n",
    "- 텐서플로에서는 `tf.matmul(x, y)`처럼 사용, 파이썬 3.5 이상에서는 `x @ y`로 계산\n",
    "    - 원소별 곱셈은 `*` 연산자 사용"
   ]
  },
  {
   "cell_type": "code",
   "execution_count": 14,
   "id": "ca01945f",
   "metadata": {},
   "outputs": [
    {
     "name": "stdout",
     "output_type": "stream",
     "text": [
      "-14\n"
     ]
    }
   ],
   "source": [
    "x = np.array([1, 2, 3])\n",
    "y = np.array([-1, -2, -3])\n",
    "\n",
    "z = np.dot(x, y)\n",
    "print(z)"
   ]
  },
  {
   "cell_type": "code",
   "execution_count": 15,
   "id": "102439ae",
   "metadata": {},
   "outputs": [
    {
     "name": "stdout",
     "output_type": "stream",
     "text": [
      "-14\n"
     ]
    }
   ],
   "source": [
    "z = x @ y\n",
    "print(z)"
   ]
  },
  {
   "cell_type": "markdown",
   "id": "245e38ee",
   "metadata": {},
   "source": [
    "### 벡터끼리의 점곱 연산 구현"
   ]
  },
  {
   "cell_type": "code",
   "execution_count": 16,
   "id": "9cf3caa5",
   "metadata": {},
   "outputs": [],
   "source": [
    "def naive_vector_dot(x, y):\n",
    "    assert len(x.shape) == 1\n",
    "    assert len(y.shape) == 1    # x, y는 넘파이 벡터\n",
    "    assert x.shape[0] == y.shape[0]\n",
    "    \n",
    "    z = 0.\n",
    "    for i in range(x.shape[0]):\n",
    "        z += x[i] * y[i]\n",
    "    return z"
   ]
  },
  {
   "cell_type": "code",
   "execution_count": 17,
   "id": "24444640",
   "metadata": {},
   "outputs": [
    {
     "name": "stdout",
     "output_type": "stream",
     "text": [
      "-14.0\n"
     ]
    }
   ],
   "source": [
    "z = naive_vector_dot(x, y)\n",
    "print(z)"
   ]
  },
  {
   "cell_type": "markdown",
   "id": "9cb857b8",
   "metadata": {},
   "source": [
    "### 행렬과 벡터 사이의 점곱 연산 구현\n",
    "- 행렬 x와 y 사이에서 점곱이 일어나므로 벡터가 반환"
   ]
  },
  {
   "cell_type": "code",
   "execution_count": 18,
   "id": "d75255d2",
   "metadata": {},
   "outputs": [
    {
     "name": "stdout",
     "output_type": "stream",
     "text": [
      "[-14. -32.]\n"
     ]
    }
   ],
   "source": [
    "def naive_matrix_vector_dot(x, y):\n",
    "    assert len(x.shape) == 2    # x는 넘파이 행렬\n",
    "    assert len(y.shape) == 1    # y는 넘파이 벡터\n",
    "    assert x.shape[1] == y.shape[0]\n",
    "    \n",
    "    z = np.zeros(x.shape[0])\n",
    "    for i in range(x.shape[0]):\n",
    "        for j in range(x.shape[1]):\n",
    "            z[i] += x[i, j] * y[j]\n",
    "    return z\n",
    "\n",
    "x = np.arange(1, 7, 1).reshape((2, 3))\n",
    "y = np.array([-1, -2, -3])\n",
    "\n",
    "z = naive_matrix_vector_dot(x, y)\n",
    "print(z)"
   ]
  },
  {
   "cell_type": "code",
   "execution_count": 19,
   "id": "fd5edb5f",
   "metadata": {},
   "outputs": [
    {
     "name": "stdout",
     "output_type": "stream",
     "text": [
      "[-14. -32.]\n"
     ]
    }
   ],
   "source": [
    "def naive_matrix_vector_dot(x, y):\n",
    "    assert len(x.shape) == 2    # x는 넘파이 행렬\n",
    "    assert len(y.shape) == 1    # y는 넘파이 벡터\n",
    "    assert x.shape[1] == y.shape[0]\n",
    "    \n",
    "    z = np.zeros(x.shape[0])\n",
    "    for i in range(x.shape[0]):\n",
    "        z[i] = naive_vector_dot(x[i, :], y)\n",
    "    return z\n",
    "\n",
    "z = naive_matrix_vector_dot(x, y)\n",
    "print(z)"
   ]
  },
  {
   "cell_type": "markdown",
   "id": "9e8f3406",
   "metadata": {},
   "source": [
    "- x, y 둘 중 하나의 `ndim`이 1보다 크면 `dot(x, y)`와 `dot(y, x)`는 다르다.\n",
    "- 둘 다 `ndim`이 1이면 교환 법칙이 성립한다."
   ]
  },
  {
   "cell_type": "markdown",
   "id": "a27202aa",
   "metadata": {},
   "source": [
    "### 행렬끼리의 점곱 연산 구현"
   ]
  },
  {
   "cell_type": "code",
   "execution_count": 21,
   "id": "93d7f0d7",
   "metadata": {},
   "outputs": [
    {
     "name": "stdout",
     "output_type": "stream",
     "text": [
      "[[26. 20.]\n",
      " [71. 56.]]\n"
     ]
    }
   ],
   "source": [
    "def naive_matrix_dot(x, y):\n",
    "    assert len(x.shape) == 2\n",
    "    assert len(y.shape) == 2\n",
    "    assert x.shape[1] == y.shape[0]\n",
    "    \n",
    "    z = np.zeros((x.shape[0], y.shape[1]))\n",
    "    for i in range(x.shape[0]):\n",
    "        for j in range(y.shape[1]):\n",
    "            row_x = x[i, :]\n",
    "            column_y = y[:, j]\n",
    "            z[i, j] = naive_vector_dot(row_x, column_y)\n",
    "    return z\n",
    "\n",
    "x = np.arange(1, 7, 1).reshape((2, 3))\n",
    "y = np.arange(7, 1, -1).reshape((3, 2))\n",
    "\n",
    "z = naive_matrix_dot(x, y)\n",
    "print(z)"
   ]
  },
  {
   "cell_type": "markdown",
   "id": "c7e094db",
   "metadata": {},
   "source": [
    "- 크기를 맞추는 동일한 규칙을 따르면 고차원 텐서 간의 점곱을 할 수 있음\n",
    "    - `(a, b, c, d) · (d, ) → (a, b, c)`\n",
    "    - `(a, b, c, d) · (d, e) → (a, b, c, e)`"
   ]
  },
  {
   "cell_type": "markdown",
   "id": "2d253567",
   "metadata": {},
   "source": [
    "## 2.3.4 텐서 크기 변환\n",
    "- **텐서 크기 변환**(tensor reshaping)은 꼭 알아둬야 할 텐서 연산"
   ]
  },
  {
   "cell_type": "code",
   "execution_count": 22,
   "id": "57159333",
   "metadata": {},
   "outputs": [
    {
     "name": "stdout",
     "output_type": "stream",
     "text": [
      "(3, 2)\n"
     ]
    }
   ],
   "source": [
    "x = np.array([[0, 1],\n",
    "             [2, 3],\n",
    "             [4, 5]])\n",
    "print(x.shape)"
   ]
  },
  {
   "cell_type": "code",
   "execution_count": 23,
   "id": "a24bcd0a",
   "metadata": {},
   "outputs": [
    {
     "name": "stdout",
     "output_type": "stream",
     "text": [
      "[[0]\n",
      " [1]\n",
      " [2]\n",
      " [3]\n",
      " [4]\n",
      " [5]]\n"
     ]
    }
   ],
   "source": [
    "x = x.reshape((6, 1))\n",
    "print(x)"
   ]
  },
  {
   "cell_type": "markdown",
   "id": "10473561",
   "metadata": {},
   "source": [
    "- 자주 사용하는 크기 변환은 **전치**(transpose)로 행과 열을 바꾸는 것\n",
    "    - `x[i, :]`이 `x[:, i]`가 됨"
   ]
  },
  {
   "cell_type": "code",
   "execution_count": 25,
   "id": "8efc0b56",
   "metadata": {},
   "outputs": [
    {
     "name": "stdout",
     "output_type": "stream",
     "text": [
      "[[7 6]\n",
      " [5 4]\n",
      " [3 2]]\n"
     ]
    }
   ],
   "source": [
    "print(y)"
   ]
  },
  {
   "cell_type": "code",
   "execution_count": 26,
   "id": "28fa5a4c",
   "metadata": {},
   "outputs": [
    {
     "name": "stdout",
     "output_type": "stream",
     "text": [
      "[[7 5 3]\n",
      " [6 4 2]]\n"
     ]
    }
   ],
   "source": [
    "print(np.transpose(y))"
   ]
  },
  {
   "cell_type": "markdown",
   "id": "e6cfe828",
   "metadata": {},
   "source": [
    "## 2.3.5 텐서 연산의 기하학적 해석\n",
    "- 모든 텐서는 좌표 포인트로 해석될 수 있기 때문에 기하학적 해석이 가능\n",
    "- 아핀 변환(affine transformation; 거리의 비율과 직선의 평행을 유지하는 이동, 스케일링, 회전 등), 회전, 스케일링(scaling) 등 기본적인 기하학적 연산은 텐서 연산으로 구현할 수 있음\n",
    "- 예를 들어 `theta` 각도로 2D 벡터를 회전하는 것은 2x2 행렬 `R = [u, v]`를 점곱하여 구현할 수 있음\n",
    "    - `u, v`는 동일 평면상의 벡터이며 `u = [cos(theta), sin(theta)]`, `v = [-sin(theta), cos(theta)]`"
   ]
  },
  {
   "cell_type": "markdown",
   "id": "d70e7c37",
   "metadata": {},
   "source": [
    "## 2.3.6 딥러닝의 기하학적 해석\n",
    "- 복잡하고 심하게 꼬여 있는 데이터의 매니폴드에 대한 깔끔한 표현을 찾는 일을 딥러닝의 심층 네트워크이 각 층이 함"
   ]
  },
  {
   "cell_type": "code",
   "execution_count": null,
   "id": "0bcf84dd",
   "metadata": {},
   "outputs": [],
   "source": []
  }
 ],
 "metadata": {
  "kernelspec": {
   "display_name": "Python Multi",
   "language": "python",
   "name": "multi"
  },
  "language_info": {
   "codemirror_mode": {
    "name": "ipython",
    "version": 3
   },
   "file_extension": ".py",
   "mimetype": "text/x-python",
   "name": "python",
   "nbconvert_exporter": "python",
   "pygments_lexer": "ipython3",
   "version": "3.7.6"
  },
  "toc": {
   "base_numbering": 1,
   "nav_menu": {},
   "number_sections": false,
   "sideBar": true,
   "skip_h1_title": false,
   "title_cell": "Table of Contents",
   "title_sidebar": "Contents",
   "toc_cell": false,
   "toc_position": {},
   "toc_section_display": true,
   "toc_window_display": false
  }
 },
 "nbformat": 4,
 "nbformat_minor": 5
}
