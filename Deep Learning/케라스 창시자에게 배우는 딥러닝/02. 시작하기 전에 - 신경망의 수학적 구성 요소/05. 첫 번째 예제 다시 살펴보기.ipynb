{
 "cells": [
  {
   "cell_type": "markdown",
   "id": "c90eea92",
   "metadata": {},
   "source": [
    "# 2.5 첫 번째 예제 다시 살펴보기\n",
    "```python\n",
    "train_images = train_images.reshape((60000, 28*28))\n",
    "train_images = train_images.astype('float32') / 255\n",
    "\n",
    "test_images = test_images.reshape((10000, 28*28))\n",
    "test_images = test_images.astype('float32') / 255\n",
    "```\n",
    "- 입력 이미지 데이터 타입은 `float32`, 훈련 데이터는 `(60000, 784)` 크기, 테스트 데이터는 `(10000, 784)` 크기의 넘파이 배열로 저장\n",
    "\n",
    "```python\n",
    "network = models.Sequential()\n",
    "network.add(layers.Dense(512, activation='relu', input_shape=(28*28, )))\n",
    "network.add(layers.Dense(10, activation='softmax'))\n",
    "```\n",
    "- 2개의 Dense 층이 연결되어 있고 각 층은 텐서 연산을 적용\n",
    "\n",
    "```python\n",
    "network.compile(loss='categorical_crossentropy',\n",
    "               optimizer='rmsprop',\n",
    "               metrics=['accuracy'])\n",
    "```\n",
    "- `categorical_crossentropy` : 손실 함수, `rmsprop` : 경사 하강법을 적용하는 구체적인 방식\n",
    "\n",
    "```python\n",
    "network.fit(train_images, train_labels, epochs=5, batch_size=128)\n",
    "```\n",
    "- 네트워크가 128개 샘플씩 미니 배치로 훈련 데이터를 다섯 번 반복(전체 훈련 데이터에 수행되는 각 반복을 **에포크**(epoch)라고 함)\n",
    "- 다섯 번의 에포크 동안 네트워크는 2,345번의 그래디언트 업데이트를 수행(에포크마다 469번)\n",
    "    - 6만 개의 샘플을 128개 배치로 나누면 469개의 배치가 만들어지며 마지막 배치의 샘플 개수는 96개"
   ]
  },
  {
   "cell_type": "code",
   "execution_count": null,
   "id": "a54da446",
   "metadata": {},
   "outputs": [],
   "source": []
  }
 ],
 "metadata": {
  "kernelspec": {
   "display_name": "Python Multi",
   "language": "python",
   "name": "multi"
  },
  "language_info": {
   "codemirror_mode": {
    "name": "ipython",
    "version": 3
   },
   "file_extension": ".py",
   "mimetype": "text/x-python",
   "name": "python",
   "nbconvert_exporter": "python",
   "pygments_lexer": "ipython3",
   "version": "3.7.6"
  },
  "toc": {
   "base_numbering": 1,
   "nav_menu": {},
   "number_sections": false,
   "sideBar": true,
   "skip_h1_title": false,
   "title_cell": "Table of Contents",
   "title_sidebar": "Contents",
   "toc_cell": false,
   "toc_position": {},
   "toc_section_display": true,
   "toc_window_display": false
  }
 },
 "nbformat": 4,
 "nbformat_minor": 5
}
