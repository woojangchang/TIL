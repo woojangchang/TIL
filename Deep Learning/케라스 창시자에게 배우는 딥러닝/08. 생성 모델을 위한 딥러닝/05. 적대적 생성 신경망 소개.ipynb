{
 "cells": [
  {
   "cell_type": "markdown",
   "id": "b00d64c2",
   "metadata": {},
   "source": [
    "# 8.5 적대적 생성 신경망 소개\n",
    "- **적대적 생성 신경망**(GAN) : 생성된 이미지가 실제 이미지와 통계적으로 거의 구분이 되지 않도록 강제하여 아주 실제 같은 합성 이미지를 생성\n",
    "- GAN 네트워크\n",
    "    - **생성자 네트워크**(generator network) : 랜덤 벡터(잠재 공간의 무작위한 포인트)를 입력으로 받아 이를 합성된 이미지로 디코딩\n",
    "        - 판별자 네트워크를 속이도록 훈련하여 실제 이미지와 구분할 수 없는 인공적인 이미지를 만들어냄\n",
    "    - **판별자 네트워크**(discriminator network)(또는 상대 네트워크) : 이지미(실제 또는 합성 이미지)를 입력으로 받아 훈련 세트에서 온 이미지인지, 생성자 네트워크가 만든 이미지인지 판별\n",
    "        - 생성된 이미지가 실제인지 판별하는 기준을 설정하면서 생성자의 능력 향상에 적응해감\n",
    "- GAN은 최적화의 최솟값이 고정되지 않은 시스템\n",
    "- 최적화 과정이 보통의 경사 하강법처럼 최솟값을 찾는 것이 아닌 두 힘간의 평형점을 찾는 다이나믹 시스템\n",
    "    - 이 때문에 훈련하기 어려움(모델 구조와 훈련 파라미터를 주의 깊게 많이 조정해야 함)"
   ]
  },
  {
   "cell_type": "markdown",
   "id": "0edd47d9",
   "metadata": {},
   "source": [
    "## 8.5.1 GAN 구현 방법\n",
    "- 기본적인 내용만(깊게 들어가면 매우 어려워짐)\n",
    "- 심층 합성곱 GAN(DCGAN)을 사용하며 이미지 업샘플링을 위해 `Conv2DTranspose` 층을 사용\n",
    "- CIFAR10 데이터셋의 \"frog\" 클래스 이미지만 사용(32x32 RGB, 5000개 이미지)\n",
    "- GAN 구조\n",
    "    1. `generator` 네트워크는 `(latent_dim,)` 크기의 벡터를 `(32, 32, 3)` 크기의 이미지로 매핑\n",
    "    2. `discriminator` 네트워크는 `(32, 32, 3)` 크기의 이미지가 진짜일 확률을 추정하여 이진 값으로 매핑\n",
    "    3. 생성자와 판별자를 연결하는 `gan` 네트워크 생성  \n",
    "       `gan(x) = discriminator(generator(x))` : 잠재 공간의 벡터를 판별자의 평가로 매핑\n",
    "    4. \"진짜\"/\"가짜\" 레이블과 함께 진짜 이미지와 가짜 이미지 샘플을 사용하여 판별자를 훈련(이미지 분류 모델을 훈련하는 것과 동일)\n",
    "    5. `gan` 모델의 손실에 대한 생성자 가중치의 그래디언트 사용  \n",
    "       매 단계마다 생성자에 의해 디코딩된 이미지를 판별자가 \"진짜\"로 분류하도록 만드는 방향으로 생성자의 가중치를 이동"
   ]
  },
  {
   "cell_type": "markdown",
   "id": "7078fda7",
   "metadata": {},
   "source": [
    "## 8.5.2 훈련 방법\n",
    "- 이론이 아닌 경험을 통해 발견된 방법\n",
    "    - 생성자의 마지막 활성화로 `sigmoid` 대신 `tanh` 함수 사용\n",
    "    - 균등 분포가 아닌 정규 분포를 사용하여 잠재 공간에서 포인트를 샘플링\n",
    "    - 무작위성을 주입 : 판별자에 드롭아웃을 사용하거나 판별자를 위해 레이블에 랜덤 노이즈를 추가\n",
    "        - GAN 훈련은 동적 평형을 만들기 때문에 여러 방식으로 갇힐 가능성이 높으며 이를 방지하기 위해 무작위성을 주입\n",
    "    - 스트라이드 합성곱과 `LeakyReLU` 층 사용\n",
    "        - 희소한 그래디언트는 GAN 훈련을 방해하므로, 그래디언트를 희소하게 만들 수 있는 최대 풀링 연산을 스트라이드 합성곱으로 대체, `ReLU` 활성화 대신 `LeakyReLU` 층 사용\n",
    "    - 생성자와 판별자에서 스트라이드 `Conv2DTranspose`나 `Conv2D`를 사용할 때 스트라이드 크기로 나누어질 수 있는 커널 크기를 사용\n",
    "        - 생성자에서 픽셀 공간을 균일하게 다루지 못하여 생성된 이미지에서 체스판 모양이 종종 나타나기 때문"
   ]
  },
  {
   "cell_type": "markdown",
   "id": "f95227ab",
   "metadata": {},
   "source": [
    "## 8.5.3 생성자\n",
    "- 생성자가 노이즈 같은 이미지를 생성하는 데서 멈추는 것을 방지하기 위하여 드롭아웃 추가"
   ]
  },
  {
   "cell_type": "markdown",
   "id": "0b279a08",
   "metadata": {},
   "source": [
    "### GAN 생성자 네트워크"
   ]
  },
  {
   "cell_type": "code",
   "execution_count": 1,
   "id": "6850b5a8",
   "metadata": {},
   "outputs": [
    {
     "name": "stdout",
     "output_type": "stream",
     "text": [
      "Model: \"model\"\n",
      "_________________________________________________________________\n",
      "Layer (type)                 Output Shape              Param #   \n",
      "=================================================================\n",
      "input_1 (InputLayer)         [(None, 32)]              0         \n",
      "_________________________________________________________________\n",
      "dense (Dense)                (None, 32768)             1081344   \n",
      "_________________________________________________________________\n",
      "leaky_re_lu (LeakyReLU)      (None, 32768)             0         \n",
      "_________________________________________________________________\n",
      "reshape (Reshape)            (None, 16, 16, 128)       0         \n",
      "_________________________________________________________________\n",
      "conv2d (Conv2D)              (None, 16, 16, 256)       819456    \n",
      "_________________________________________________________________\n",
      "leaky_re_lu_1 (LeakyReLU)    (None, 16, 16, 256)       0         \n",
      "_________________________________________________________________\n",
      "conv2d_transpose (Conv2DTran (None, 32, 32, 256)       1048832   \n",
      "_________________________________________________________________\n",
      "leaky_re_lu_2 (LeakyReLU)    (None, 32, 32, 256)       0         \n",
      "_________________________________________________________________\n",
      "conv2d_1 (Conv2D)            (None, 32, 32, 256)       1638656   \n",
      "_________________________________________________________________\n",
      "leaky_re_lu_3 (LeakyReLU)    (None, 32, 32, 256)       0         \n",
      "_________________________________________________________________\n",
      "conv2d_2 (Conv2D)            (None, 32, 32, 256)       1638656   \n",
      "_________________________________________________________________\n",
      "leaky_re_lu_4 (LeakyReLU)    (None, 32, 32, 256)       0         \n",
      "_________________________________________________________________\n",
      "conv2d_3 (Conv2D)            (None, 32, 32, 3)         37635     \n",
      "=================================================================\n",
      "Total params: 6,264,579\n",
      "Trainable params: 6,264,579\n",
      "Non-trainable params: 0\n",
      "_________________________________________________________________\n"
     ]
    }
   ],
   "source": [
    "import tensorflow as tf\n",
    "from tensorflow.keras import layers\n",
    "import numpy as np\n",
    "\n",
    "latent_dim = 32\n",
    "height = 32\n",
    "width = 32\n",
    "channels = 3\n",
    "\n",
    "generator_input = tf.keras.Input(shape=(latent_dim,))\n",
    "\n",
    "# 입력을 16x16 크기의 채널 128개를 가진 특성 맵으로 변환\n",
    "x = layers.Dense(128*16*16)(generator_input)\n",
    "x = layers.LeakyReLU()(x)\n",
    "x = layers.Reshape((16, 16, 128))(x)\n",
    "\n",
    "x = layers.Conv2D(256, 5, padding='same')(x)\n",
    "x = layers.LeakyReLU()(x)\n",
    "\n",
    "# 32x32 크기로 업샘플링\n",
    "x = layers.Conv2DTranspose(256, 4, strides=2, padding='same')(x)\n",
    "x = layers.LeakyReLU()(x)\n",
    "\n",
    "x = layers.Conv2D(256, 5, padding='same')(x)\n",
    "x = layers.LeakyReLU()(x)\n",
    "x = layers.Conv2D(256, 5, padding='same')(x)\n",
    "x = layers.LeakyReLU()(x)\n",
    "\n",
    "# 32x32 크기의 1개 채널을 가진 특성 맵 생성\n",
    "x = layers.Conv2D(channels, 7, activation='tanh', padding='same')(x)\n",
    "generator = tf.keras.models.Model(generator_input, x) # (latent_dim,) 크기의 입력을 (32, 32, 3) 크기의 이미지로 매핑하는 생성자 모델 객체 생성\n",
    "generator.summary()"
   ]
  },
  {
   "cell_type": "markdown",
   "id": "be9d60ee",
   "metadata": {},
   "source": [
    "## 8.5.4 판별자\n",
    "- '생성된 이미지' 또는 '훈련 세트에서 온 진짜 이미지' 클래스를 판별하는 모델"
   ]
  },
  {
   "cell_type": "markdown",
   "id": "0787789e",
   "metadata": {},
   "source": [
    "### GAN 판별자 네트워크"
   ]
  },
  {
   "cell_type": "code",
   "execution_count": 2,
   "id": "9606d3e9",
   "metadata": {},
   "outputs": [
    {
     "name": "stdout",
     "output_type": "stream",
     "text": [
      "Model: \"model_1\"\n",
      "_________________________________________________________________\n",
      "Layer (type)                 Output Shape              Param #   \n",
      "=================================================================\n",
      "input_2 (InputLayer)         [(None, 32, 32, 3)]       0         \n",
      "_________________________________________________________________\n",
      "conv2d_4 (Conv2D)            (None, 30, 30, 128)       3584      \n",
      "_________________________________________________________________\n",
      "leaky_re_lu_5 (LeakyReLU)    (None, 30, 30, 128)       0         \n",
      "_________________________________________________________________\n",
      "conv2d_5 (Conv2D)            (None, 14, 14, 128)       262272    \n",
      "_________________________________________________________________\n",
      "leaky_re_lu_6 (LeakyReLU)    (None, 14, 14, 128)       0         \n",
      "_________________________________________________________________\n",
      "conv2d_6 (Conv2D)            (None, 6, 6, 128)         262272    \n",
      "_________________________________________________________________\n",
      "leaky_re_lu_7 (LeakyReLU)    (None, 6, 6, 128)         0         \n",
      "_________________________________________________________________\n",
      "conv2d_7 (Conv2D)            (None, 2, 2, 128)         262272    \n",
      "_________________________________________________________________\n",
      "leaky_re_lu_8 (LeakyReLU)    (None, 2, 2, 128)         0         \n",
      "_________________________________________________________________\n",
      "flatten (Flatten)            (None, 512)               0         \n",
      "_________________________________________________________________\n",
      "dropout (Dropout)            (None, 512)               0         \n",
      "_________________________________________________________________\n",
      "dense_1 (Dense)              (None, 1)                 513       \n",
      "=================================================================\n",
      "Total params: 790,913\n",
      "Trainable params: 790,913\n",
      "Non-trainable params: 0\n",
      "_________________________________________________________________\n"
     ]
    }
   ],
   "source": [
    "discriminator_input = layers.Input(shape=(height, width, channels))\n",
    "x = layers.Conv2D(128, 3)(discriminator_input)\n",
    "x = layers.LeakyReLU()(x)\n",
    "x = layers.Conv2D(128, 4, strides=2)(x)\n",
    "x = layers.LeakyReLU()(x)\n",
    "x = layers.Conv2D(128, 4, strides=2)(x)\n",
    "x = layers.LeakyReLU()(x)\n",
    "x = layers.Conv2D(128, 4, strides=2)(x)\n",
    "x = layers.LeakyReLU()(x)\n",
    "x = layers.Flatten()(x)\n",
    "\n",
    "# 드롭아웃 추가\n",
    "x = layers.Dropout(0.4)(x)\n",
    "\n",
    "# 분류 층\n",
    "x = layers.Dense(1, activation='sigmoid')(x)\n",
    "\n",
    "# (32, 32, 3) 크기의 입력을 이진 분류 결정(진짜/가짜)으로 변환하는 판별자 모델 객체 생성\n",
    "discriminator = tf.keras.models.Model(discriminator_input, x)\n",
    "discriminator.summary()\n",
    "\n",
    "discriminator_optimizer = tf.keras.optimizers.RMSprop(\n",
    "    learning_rate=0.0008,\n",
    "    clipvalue=1.0, # 옵티마이저에서 (값을 지정하여) 그래디언트 클리핑 사용\n",
    "    decay=1e-8) # 안정된 훈련을 위해서 학습률 감쇠를 사용\n",
    "discriminator.compile(optimizer=discriminator_optimizer,\n",
    "                      loss='binary_crossentropy')"
   ]
  },
  {
   "cell_type": "markdown",
   "id": "8343b81e",
   "metadata": {},
   "source": [
    "## 8.5.5 적대적 네트워크\n",
    "- 생성자와 판별자를 연결하여 GAN을 설정\n",
    "- 훈련할 때 생성자가 판별자를 속이는 능력이 커지도록 학습\n",
    "- 훈련에 사용되는 타깃 레이블은 항상 '진짜 이미지'\n",
    "- `gan`을 훈련하는 것은 `discriminator`가 가짜 이미지를 보았을 때 진짜라고 예측하도록 만들기 위해 `generator`의 가중치를 업데이트 하는 것\n",
    "- 훈련하는 동안 판별자를 동결시켜야 함\n",
    "    - 그렇지 않으면 판별자는 항상 \"진짜\"를 예측하도록 훈련됨"
   ]
  },
  {
   "cell_type": "markdown",
   "id": "7d7c77cd",
   "metadata": {},
   "source": [
    "### 적대적 네트워크"
   ]
  },
  {
   "cell_type": "code",
   "execution_count": 4,
   "id": "baa5a90a",
   "metadata": {},
   "outputs": [],
   "source": [
    "# 판별자의 가중치가 훈련되지 않도록 설정\n",
    "# gan 모델에만 적용되며 (모델이 다른 모델에 층처럼 추가되었을 때 학습되지 않도록 함)\n",
    "# discriminator.fit() 메서드로 판별자에 속한 Layer 클래스 객체의 가중치를 학습하는 데 영향을 미치지 않음\n",
    "discriminator.trainable = False\n",
    "\n",
    "gan_input = tf.keras.Input(shape=(latent_dim,))\n",
    "gan_output = discriminator(generator(gan_input))\n",
    "gan = tf.keras.models.Model(gan_input, gan_output)\n",
    "\n",
    "gan_optimizer = tf.keras.optimizers.RMSprop(learning_rate=0.0004, clipvalue=1.0, decay=1e-8)\n",
    "gan.compile(optimizer=gan_optimizer, loss='binary_crossentropy')"
   ]
  },
  {
   "cell_type": "markdown",
   "id": "aa6adc9e",
   "metadata": {},
   "source": [
    "## 8.5.6 DCGAN 훈련 방법\n",
    "1. 잠재 공간에서 무작위로 포인트를 뽑음(랜덤 노이즈)\n",
    "2. 이 랜덤 노이즈를 사용하여 `generator`에서 이미지를 생성\n",
    "3. 생성된 이미지와 진짜 이미지를 섞음\n",
    "4. 진짜와 가짜가 섞인 이미지와 이에 대응하는 타깃을 사용하여 `discriminator`를 훈련  \n",
    "   타깃은 \"진짜\"와 \"가짜\"\n",
    "5. 잠재 공간에서 무작위로 새로운 포인트를 뽑음\n",
    "6. 이 랜덤 벡터를 사용하여 `gan`을 훈련하며 모든 타깃은 \"진짜\"로 설정  \n",
    "   판별자가 생성된 이미지를 모두 \"진짜 이미지\"라고 예측하도록 생성자의 가중치를 업데이트(생성자만 업데이트)\n",
    "7. 위 과정을 매 훈련마다 반복"
   ]
  },
  {
   "cell_type": "markdown",
   "id": "6e8b7d2e",
   "metadata": {},
   "source": [
    "### GAN 훈련 구현하기"
   ]
  },
  {
   "cell_type": "code",
   "execution_count": 6,
   "id": "d8c7e3cf",
   "metadata": {
    "scrolled": true
   },
   "outputs": [
    {
     "name": "stdout",
     "output_type": "stream",
     "text": [
      "판별자 손실 : 0.8940207362174988 \t적대적 손실 : 0.6062870025634766\n",
      "판별자 손실 : 0.6958582997322083 \t적대적 손실 : 1.5747873783111572\n",
      "판별자 손실 : 0.5926682353019714 \t적대적 손실 : 1.428187608718872\n",
      "판별자 손실 : 0.5756432414054871 \t적대적 손실 : 1.3839316368103027\n",
      "판별자 손실 : 0.6124412417411804 \t적대적 손실 : 1.2116212844848633\n",
      "판별자 손실 : 0.5538052320480347 \t적대적 손실 : 1.3640117645263672\n",
      "판별자 손실 : 0.55219966173172 \t적대적 손실 : 1.365576148033142\n",
      "판별자 손실 : 0.6139065027236938 \t적대적 손실 : 1.2741519212722778\n",
      "판별자 손실 : 0.629205584526062 \t적대적 손실 : 1.3533321619033813\n",
      "판별자 손실 : 0.5681289434432983 \t적대적 손실 : 1.4980266094207764\n",
      "판별자 손실 : 0.5931545495986938 \t적대적 손실 : 1.1990717649459839\n",
      "판별자 손실 : 0.6055111885070801 \t적대적 손실 : 1.298688530921936\n",
      "판별자 손실 : 0.5906217694282532 \t적대적 손실 : 1.2539238929748535\n",
      "판별자 손실 : 0.5976717472076416 \t적대적 손실 : 1.363965392112732\n",
      "판별자 손실 : 0.5767146348953247 \t적대적 손실 : 1.4078166484832764\n",
      "판별자 손실 : 0.5484724044799805 \t적대적 손실 : 1.3212196826934814\n",
      "판별자 손실 : 0.5797775983810425 \t적대적 손실 : 1.309248447418213\n",
      "판별자 손실 : 0.585348904132843 \t적대적 손실 : 1.3627116680145264\n",
      "판별자 손실 : 0.5541257262229919 \t적대적 손실 : 1.2958505153656006\n",
      "판별자 손실 : 0.5370889902114868 \t적대적 손실 : 1.4642715454101562\n",
      "판별자 손실 : 0.6053590774536133 \t적대적 손실 : 1.4487435817718506\n",
      "판별자 손실 : 0.5632370114326477 \t적대적 손실 : 1.3711332082748413\n",
      "판별자 손실 : 0.5350209474563599 \t적대적 손실 : 1.466621994972229\n",
      "판별자 손실 : 1.0378047227859497 \t적대적 손실 : 1.3925939798355103\n",
      "판별자 손실 : 0.5588766932487488 \t적대적 손실 : 1.4023641347885132\n",
      "판별자 손실 : 0.5626689791679382 \t적대적 손실 : 1.5128700733184814\n",
      "판별자 손실 : 0.6836087107658386 \t적대적 손실 : 1.4435890913009644\n",
      "판별자 손실 : 0.5741223096847534 \t적대적 손실 : 1.4368122816085815\n",
      "판별자 손실 : 0.6335346102714539 \t적대적 손실 : 1.4052674770355225\n",
      "판별자 손실 : 0.5494081974029541 \t적대적 손실 : 1.3283069133758545\n",
      "판별자 손실 : 0.5793023705482483 \t적대적 손실 : 1.3274624347686768\n",
      "판별자 손실 : 0.707610011100769 \t적대적 손실 : 1.3699175119400024\n",
      "판별자 손실 : 0.6357063055038452 \t적대적 손실 : 1.3575140237808228\n",
      "판별자 손실 : 0.542214572429657 \t적대적 손실 : 1.433668613433838\n",
      "판별자 손실 : 0.5221608877182007 \t적대적 손실 : 1.258239984512329\n",
      "판별자 손실 : 0.5982990264892578 \t적대적 손실 : 1.3738868236541748\n",
      "판별자 손실 : 0.5745693445205688 \t적대적 손실 : 1.3918256759643555\n",
      "판별자 손실 : 0.5669263601303101 \t적대적 손실 : 1.4892079830169678\n",
      "판별자 손실 : 0.5790475010871887 \t적대적 손실 : 1.3498289585113525\n",
      "판별자 손실 : 0.5812605619430542 \t적대적 손실 : 1.3189170360565186\n",
      "판별자 손실 : 0.5621887445449829 \t적대적 손실 : 1.3794810771942139\n",
      "판별자 손실 : 0.6158427596092224 \t적대적 손실 : 1.2777255773544312\n",
      "판별자 손실 : 0.5745831727981567 \t적대적 손실 : 1.376430630683899\n",
      "판별자 손실 : 0.5727502107620239 \t적대적 손실 : 1.3697065114974976\n",
      "판별자 손실 : 0.6415430307388306 \t적대적 손실 : 1.299384593963623\n",
      "판별자 손실 : 0.5904702544212341 \t적대적 손실 : 1.3828563690185547\n",
      "판별자 손실 : 0.6171402931213379 \t적대적 손실 : 1.3046120405197144\n",
      "판별자 손실 : 0.6099028587341309 \t적대적 손실 : 1.3471596240997314\n",
      "판별자 손실 : 0.6036638021469116 \t적대적 손실 : 1.2731115818023682\n",
      "판별자 손실 : 0.5582238435745239 \t적대적 손실 : 1.3023301362991333\n",
      "판별자 손실 : 0.5521475076675415 \t적대적 손실 : 1.401664137840271\n",
      "판별자 손실 : 0.547461211681366 \t적대적 손실 : 1.3545310497283936\n",
      "판별자 손실 : 0.5821353197097778 \t적대적 손실 : 1.383281946182251\n",
      "판별자 손실 : 0.5417113900184631 \t적대적 손실 : 1.4109147787094116\n",
      "판별자 손실 : 0.5425714254379272 \t적대적 손실 : 1.3345746994018555\n",
      "판별자 손실 : 0.5762406587600708 \t적대적 손실 : 1.4313148260116577\n",
      "판별자 손실 : 0.5598117113113403 \t적대적 손실 : 1.4631378650665283\n",
      "판별자 손실 : 0.5182611346244812 \t적대적 손실 : 1.7697759866714478\n",
      "판별자 손실 : 0.49685144424438477 \t적대적 손실 : 1.4622559547424316\n",
      "판별자 손실 : 0.5907018780708313 \t적대적 손실 : 1.1457433700561523\n",
      "판별자 손실 : 0.5793595314025879 \t적대적 손실 : 1.3427633047103882\n",
      "판별자 손실 : 0.6042379140853882 \t적대적 손실 : 1.0607450008392334\n",
      "판별자 손실 : 0.5080353021621704 \t적대적 손실 : 1.5181615352630615\n",
      "판별자 손실 : 0.5813753008842468 \t적대적 손실 : 1.323320746421814\n",
      "판별자 손실 : 0.6632372736930847 \t적대적 손실 : 1.2697261571884155\n",
      "판별자 손실 : 0.5237747430801392 \t적대적 손실 : 1.4831453561782837\n",
      "판별자 손실 : 0.5190531015396118 \t적대적 손실 : 1.5811336040496826\n",
      "판별자 손실 : 0.6795627474784851 \t적대적 손실 : 1.6873658895492554\n",
      "판별자 손실 : 0.6317961812019348 \t적대적 손실 : 1.9461158514022827\n",
      "판별자 손실 : 0.5524702072143555 \t적대적 손실 : 1.5453004837036133\n",
      "판별자 손실 : 0.5493985414505005 \t적대적 손실 : 1.270412802696228\n",
      "판별자 손실 : 0.5232583284378052 \t적대적 손실 : 1.716515302658081\n",
      "판별자 손실 : 0.6143074035644531 \t적대적 손실 : 1.601658582687378\n",
      "판별자 손실 : 0.5557358860969543 \t적대적 손실 : 1.3830535411834717\n",
      "판별자 손실 : 0.6063991785049438 \t적대적 손실 : 1.2783823013305664\n",
      "판별자 손실 : 0.5576930046081543 \t적대적 손실 : 1.4420799016952515\n",
      "판별자 손실 : 0.5220785140991211 \t적대적 손실 : 1.5308479070663452\n",
      "판별자 손실 : 0.6226679682731628 \t적대적 손실 : 1.201177716255188\n",
      "판별자 손실 : 0.5441599488258362 \t적대적 손실 : 1.3514838218688965\n",
      "판별자 손실 : 0.5624499320983887 \t적대적 손실 : 1.9882094860076904\n",
      "판별자 손실 : 0.5463554263114929 \t적대적 손실 : 1.5807785987854004\n",
      "판별자 손실 : 0.5461626052856445 \t적대적 손실 : 1.3389899730682373\n",
      "판별자 손실 : 0.5351287126541138 \t적대적 손실 : 1.5290353298187256\n",
      "판별자 손실 : 0.6300809979438782 \t적대적 손실 : 1.4868026971817017\n",
      "판별자 손실 : 0.5726016759872437 \t적대적 손실 : 1.3192274570465088\n",
      "판별자 손실 : 0.5346819758415222 \t적대적 손실 : 1.4682143926620483\n",
      "판별자 손실 : 0.5582016706466675 \t적대적 손실 : 1.4884699583053589\n",
      "판별자 손실 : 0.4969455599784851 \t적대적 손실 : 1.5536301136016846\n",
      "판별자 손실 : 0.5304750204086304 \t적대적 손실 : 1.9927984476089478\n",
      "판별자 손실 : 0.5472170114517212 \t적대적 손실 : 1.986615538597107\n",
      "판별자 손실 : 0.5590641498565674 \t적대적 손실 : 1.4577727317810059\n",
      "판별자 손실 : 0.5403084754943848 \t적대적 손실 : 1.1415526866912842\n",
      "판별자 손실 : 0.6191120147705078 \t적대적 손실 : 1.4285879135131836\n",
      "판별자 손실 : 0.5038120150566101 \t적대적 손실 : 1.7071603536605835\n",
      "판별자 손실 : 0.5085801482200623 \t적대적 손실 : 1.8645559549331665\n",
      "판별자 손실 : 0.49036741256713867 \t적대적 손실 : 1.8314212560653687\n",
      "판별자 손실 : 0.5622106194496155 \t적대적 손실 : 1.5079578161239624\n",
      "판별자 손실 : 0.5905590653419495 \t적대적 손실 : 1.540541410446167\n",
      "판별자 손실 : 0.5076478719711304 \t적대적 손실 : 1.5140444040298462\n",
      "판별자 손실 : 0.6084896922111511 \t적대적 손실 : 1.564125895500183\n"
     ]
    }
   ],
   "source": [
    "import os\n",
    "from tensorflow.keras.preprocessing import image\n",
    "\n",
    "# CIFAR10 데이터 로드\n",
    "(x_train, y_train), (_, _) = tf.keras.datasets.cifar10.load_data()\n",
    "\n",
    "# 개구리 이미지 선택(클래스 6)\n",
    "x_train = x_train[y_train.flatten() == 6]\n",
    "\n",
    "# 데이터 정규화\n",
    "x_train = x_train.reshape(\n",
    "    (x_train.shape[0],) +\n",
    "    (height, width, channels)).astype('float32') / 255.\n",
    "\n",
    "iterations = 10000\n",
    "batch_size = 20\n",
    "save_dir = '../datasets/gan_images/' # 생성된 이미지를 저장할 위치 지정\n",
    "if not os.path.exists(save_dir):\n",
    "    os.mkdir(save_dir)\n",
    "    \n",
    "start = 0\n",
    "for step in range(iterations):\n",
    "    # 잠재 공간에서 무작위로 포인트를 샘플링\n",
    "    random_latent_vectors = np.random.normal(size=(batch_size, latent_dim))\n",
    "    \n",
    "    # 가짜 이미지를 디코딩\n",
    "    generated_images = generator.predict(random_latent_vectors)\n",
    "    \n",
    "    # 진짜 이미지와 연결\n",
    "    stop = start + batch_size\n",
    "    real_images = x_train[start:stop]\n",
    "    combined_images = np.concatenate([generated_images, real_images])\n",
    "    \n",
    "    # 진짜와 가짜 이미지를 구분하여 레이블을 합침\n",
    "    labels = np.concatenate([np.ones((batch_size, 1)),\n",
    "                             np.zeros((batch_size, 1))])\n",
    "    \n",
    "    # 레이블에 랜덤 노이즈를 추가 (매우 중요한 작업)\n",
    "    labels += 0.5 * np.random.random(labels.shape)\n",
    "    \n",
    "    # discriminator를 훈련\n",
    "    d_loss = discriminator.train_on_batch(combined_images, labels)\n",
    "    \n",
    "    # 잠재 공간에서 무작위로 포인트를 샘플링\n",
    "    random_latent_vectors = np.random.normal(size=(batch_size, latent_dim))\n",
    "    \n",
    "    # 모두 \"진짜 이미지\"라고 레이블을 만듦\n",
    "    misleading_targets = np.zeros((batch_size, 1))\n",
    "    \n",
    "    # generator를 훈련(gan 모델에서 discriminator의 가중치는 동결)\n",
    "    a_loss = gan.train_on_batch(random_latent_vectors, misleading_targets)\n",
    "    \n",
    "    start += batch_size\n",
    "    if start > len(x_train) - batch_size:\n",
    "        start = 0\n",
    "    if step % 100 == 0: # 100스텝마다 저장하고 그래프를 그림\n",
    "        gan.save_weights('../models/gan.h5') # 모델 가중치 저장\n",
    "        \n",
    "        # 측정 지표 출력\n",
    "        print('판별자 손실 :', d_loss, '\\t적대적 손실 :', a_loss)\n",
    "        \n",
    "        # 생성된 이미지 하나를 저장\n",
    "        img = image.array_to_img(generated_images[0] * 255., scale=False)\n",
    "        img.save(os.path.join(save_dir, 'generated_frog' + str(step) + '.png'))\n",
    "        \n",
    "        # 비교를 위해 진짜 이미지 하나를 저장\n",
    "        img = image.array_to_img(real_images[0] * 255., scale=False)\n",
    "        img.save(os.path.join(save_dir, 'real_frog' + str(step) + '.png'))"
   ]
  },
  {
   "cell_type": "code",
   "execution_count": 14,
   "id": "788411fb",
   "metadata": {},
   "outputs": [
    {
     "data": {
      "image/png": "[encoded data removed]",
      "text/plain": [
       "<Figure size 360x216 with 2 Axes>"
      ]
     },
     "metadata": {
      "needs_background": "light"
     },
     "output_type": "display_data"
    },
    {
     "data": {
      "image/png": "[encoded data removed]",
      "text/plain": [
       "<Figure size 360x216 with 2 Axes>"
      ]
     },
     "metadata": {
      "needs_background": "light"
     },
     "output_type": "display_data"
    }
   ],
   "source": [
    "import matplotlib.pyplot as plt\n",
    "\n",
    "plt.figure(figsize=(5, 3))\n",
    "plt.subplot(1, 2, 1)\n",
    "img = '../datasets/gan_images/generated_frog8200.png'\n",
    "img = image.load_img(img)\n",
    "plt.imshow(img)\n",
    "plt.subplot(1, 2, 2)\n",
    "img = '../datasets/gan_images/generated_frog8800.png'\n",
    "img = image.load_img(img)\n",
    "plt.imshow(img)\n",
    "\n",
    "plt.suptitle('Generated Images')\n",
    "\n",
    "\n",
    "\n",
    "plt.figure(figsize=(5, 3))\n",
    "plt.subplot(1, 2, 1)\n",
    "img = '../datasets/gan_images/real_frog8200.png'\n",
    "img = image.load_img(img)\n",
    "plt.imshow(img)\n",
    "plt.subplot(1, 2, 2)\n",
    "img = '../datasets/gan_images/real_frog8800.png'\n",
    "img = image.load_img(img)\n",
    "plt.imshow(img)\n",
    "\n",
    "plt.suptitle('Real Images')\n",
    "plt.show()"
   ]
  },
  {
   "cell_type": "markdown",
   "id": "093ddeea",
   "metadata": {},
   "source": [
    "- 훈련할 때 적대적 손실이 크게 증가, 판별자 손실은 0으로 향하면 판별자의 학습률을 낮추기 위해 판별자 드롭아웃 비율을 높여서 시도"
   ]
  },
  {
   "cell_type": "code",
   "execution_count": null,
   "id": "b4998572",
   "metadata": {},
   "outputs": [],
   "source": []
  }
 ],
 "metadata": {
  "kernelspec": {
   "display_name": "Python Multi",
   "language": "python",
   "name": "multi"
  },
  "language_info": {
   "codemirror_mode": {
    "name": "ipython",
    "version": 3
   },
   "file_extension": ".py",
   "mimetype": "text/x-python",
   "name": "python",
   "nbconvert_exporter": "python",
   "pygments_lexer": "ipython3",
   "version": "3.7.6"
  },
  "toc": {
   "base_numbering": 1,
   "nav_menu": {},
   "number_sections": false,
   "sideBar": true,
   "skip_h1_title": false,
   "title_cell": "Table of Contents",
   "title_sidebar": "Contents",
   "toc_cell": false,
   "toc_position": {},
   "toc_section_display": true,
   "toc_window_display": false
  }
 },
 "nbformat": 4,
 "nbformat_minor": 5
}
