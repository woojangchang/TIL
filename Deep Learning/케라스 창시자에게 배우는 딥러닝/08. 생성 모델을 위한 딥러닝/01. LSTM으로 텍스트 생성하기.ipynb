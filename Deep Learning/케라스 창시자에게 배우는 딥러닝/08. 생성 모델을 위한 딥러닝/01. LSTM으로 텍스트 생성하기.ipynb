{
 "cells": [
  {
   "cell_type": "markdown",
   "id": "c9460203",
   "metadata": {
    "id": "c9460203"
   },
   "source": [
    "- 인공 지능의 창작 활동\n",
    "- 2015년 구글의 딥드림 알고리즘 : 이미지를 인공물이 뒤섞인 몽환적인 그림으로 바꿈\n",
    "- 2016년 프리즈마(Prizma) 애플리케이션 : 사진을 다양한 스타일의 그림으로 바꿈\n",
    "- 2016년 단편 영화 <**썬스프링**(Sunspring)> : LSTM 알고리즘이 쓴 대화가 포함된 각본을 사용하여 만듦\n",
    "- 예술에서의 AI는 **확장된 지능**(augmented intelligence)으로 사람의 능력을 증가시키는 도구로 사용될 것\n",
    "- 머신 러닝 모델은 이미지, 음악, 글의 통계적 **잠재 공간**(latent space)을 학습할 수 있음"
   ]
  },
  {
   "cell_type": "markdown",
   "id": "338bc814",
   "metadata": {
    "id": "338bc814"
   },
   "source": [
    "# 8.1 LSTM으로 텍스트 생성하기\n",
    "- 텍스트 생성 뿐만 아니라 어떤 종류의 시퀀스 데이터도 생성할 수 있음(음표 시퀀스로 새로운 음악 제작/연속된 붓질 시퀀스로 새로운 그림 그리기)\n",
    "- 음성 합성과 챗봇의 대화 기능도 가능(2016년 구글의 스마트 답장(Smart Reply))"
   ]
  },
  {
   "cell_type": "markdown",
   "id": "763011ee",
   "metadata": {
    "id": "763011ee"
   },
   "source": [
    "## 8.1.1 생성 RNN의 간단한 역사\n",
    "- 1997년 LSTM 알고리즘 개발, 2016년부터 주류로써 사용\n",
    "- 2002년 더글라스 에크(Douglas Eck)는 스위스의 슈미드후버(Schmidhuber)의 연구실에서 LSTM을 음악 생성에 처음 적용\n",
    "- 2013년 알렉스 그레이브스(Alex Graves)가 펜 위치를 기록한 시계열 데이터를 사용하여 사람이 쓴 것 같은 손글씨 생성\n",
    "- 이후 음악 생성, 대화 생성, 이미지 생성, 음성 합성, 분자 설계(molecule design) 등에 순환 신경망이 성공적으로 사용됨"
   ]
  },
  {
   "cell_type": "markdown",
   "id": "6ca1b179",
   "metadata": {
    "id": "6ca1b179"
   },
   "source": [
    "## 8.1.2 시퀀스 데이터를 어떻게 생성할까?\n",
    "- 일반적인 방법은 이전 토큰을 입력으로 사용해서 시퀀스의 다음 1개 또는 몇 개의 토큰을 (RNN이나 컨브넷으로) 예측하는 것\n",
    "- **언어 모델**(language model) : 이전 토큰들이 주어졌을 때 다음 토큰의 확률을 모델링할 수 있는 네트워크\n",
    "    - 언어 모델 훈련 후 샘플링(새로운 시퀀스 생성)\n",
    "    - 초기 텍스트 문자열 주입(**조건 데이터**(conditioning data)), 새로운 글자나 단어 생성\n",
    "    - 생성된 출력을 다시 입력 데이터로 주입\n",
    "- **글자 수준의 신경망 언어 모델**(character-level neural language model) : 텍스트 말뭉치(corpus)에서 N개의 글자로 이루어진 문자열을 추출하여 주입하고 N+1번째 글자를 예측하도록 훈련"
   ]
  },
  {
   "cell_type": "markdown",
   "id": "537bc30d",
   "metadata": {
    "id": "537bc30d"
   },
   "source": [
    "## 8.1.3 샘플링 전략의 중요성\n",
    "- **탐욕적 샘플링**(greedy sampling) : 항상 가장 높은 확률을 가진 글자를 선택\n",
    "    - 반복적이고 예상 가능한 문자열을 만들기 때문에 논리적인 언어로 보이지 않음\n",
    "- **확률적 샘플링**(stochastic sampling) : 다음 글자의 확률 분포에서 샘플링하는 과정에 무작위성을 주입하는 방법\n",
    "    - e의 확률이 0.3이라면 30%는 e를 뽑고 70%는 다른 글자를 뽑음\n",
    "    - 샘플링 과정에서 무작위성의 양을 조절할 방법이 없다는 것이 문제점\n",
    "- 무작위성\n",
    "    - 균등 확률인 경우 최대 엔트로피를 가지며 탐욕적 샘플링의 경우 최소의 엔트로피를 가짐\n",
    "    - 작은 엔트로피는 예상 가능한 구조를 가진 시퀀스 생성\n",
    "    - 높은 엔트로피는 창의적인 시퀀스를 생성(주관적이기 때문에 무작위성의 양을 바꿔가며 시도해보아야 함)\n",
    "- **소프트맥스 온도**(softmax temperature) 파라미터 : 샘플링에 사용되는 확률 분포의 엔트로피로, 샘플링 과정에서 확률의 양을 조절하기 위해 사용"
   ]
  },
  {
   "cell_type": "markdown",
   "id": "fa921a7e",
   "metadata": {
    "id": "fa921a7e"
   },
   "source": [
    "### 다른 온도 값을 사용하여 확률 분포의 가중치 바꾸기\n",
    "- 1보다 작은 실수 배열을 로그 스케일로 바꾸어 모두 음수로 만듦\n",
    "- `temperature`가 1보다 작으면 더 큰 음수가 되므로 원본 스케일로 복원했을 때 배열 원소 간의 차이가 더 커짐\n",
    "- 1보다 클수록 0에 가까워지고 원본 스케일로 복원했을 때 배열 원소가 비슷한 값이 됨"
   ]
  },
  {
   "cell_type": "code",
   "execution_count": 1,
   "id": "39e985da",
   "metadata": {
    "id": "39e985da"
   },
   "outputs": [],
   "source": [
    "import numpy as np\n",
    "\n",
    "def reweight_distribution(original_distribution, temperature=0.5):\n",
    "    '''\n",
    "    original_distribution : 전체 합이 1인 1D 넘파이 배열\n",
    "    temperature : 출력 분포의 엔트로피 양을 결정\n",
    "    '''\n",
    "    distribution = np.log(original_distribution) / temperature\n",
    "    distribution = np.exp(distribution)\n",
    "    return distribution / np.sum(distribution) # 원본 분포의 가중치를 변경하며 반환, 합이 1이 되게 함"
   ]
  },
  {
   "cell_type": "code",
   "execution_count": 2,
   "id": "0bfa6909",
   "metadata": {
    "colab": {
     "base_uri": "https://localhost:8080/"
    },
    "id": "0bfa6909",
    "outputId": "a042ab89-8837-4eee-a365-7748787c41a0"
   },
   "outputs": [
    {
     "data": {
      "text/plain": [
       "array([0.10826628, 0.07957782, 0.12616879, 0.08147897, 0.07377069,\n",
       "       0.08234826, 0.05312677, 0.15933328, 0.08665724, 0.14927191])"
      ]
     },
     "execution_count": 2,
     "metadata": {},
     "output_type": "execute_result"
    }
   ],
   "source": [
    "distribution = np.random.random((10))\n",
    "distribution = distribution / np.sum(distribution)\n",
    "distribution"
   ]
  },
  {
   "cell_type": "code",
   "execution_count": 3,
   "id": "2b9f6e0a",
   "metadata": {
    "colab": {
     "base_uri": "https://localhost:8080/",
     "height": 265
    },
    "id": "2b9f6e0a",
    "outputId": "08ae45de-c5e0-4b65-b0a7-bf2a26bff607"
   },
   "outputs": [
    {
     "data": {
      "image/png": "[encoded data removed]",
      "text/plain": [
       "<Figure size 432x288 with 1 Axes>"
      ]
     },
     "metadata": {
      "needs_background": "light"
     },
     "output_type": "display_data"
    }
   ],
   "source": [
    "import matplotlib.pyplot as plt\n",
    "\n",
    "plt.bar(np.arange(0, 10), distribution)\n",
    "plt.show()"
   ]
  },
  {
   "cell_type": "code",
   "execution_count": 4,
   "id": "ca6b5e03",
   "metadata": {
    "colab": {
     "base_uri": "https://localhost:8080/",
     "height": 730
    },
    "id": "ca6b5e03",
    "outputId": "50c7aa38-4e2e-4655-fc63-e53d4d8cc93d"
   },
   "outputs": [
    {
     "data": {
      "image/png": "[encoded data removed]",
      "text/plain": [
       "<Figure size 1080x864 with 6 Axes>"
      ]
     },
     "metadata": {
      "needs_background": "light"
     },
     "output_type": "display_data"
    }
   ],
   "source": [
    "temps = [0.01, 0.2, 0.4, 0.6, 0.8, 1.0]\n",
    "\n",
    "i = 1\n",
    "plt.figure(figsize=(15, 12))\n",
    "for temp in temps:\n",
    "    re_distribution = reweight_distribution(distribution, temp)\n",
    "    plt.subplot(2, 3, i)\n",
    "    plt.bar(np.arange(0, 10), re_distribution)\n",
    "    plt.title(f'Temperature = {temp}')\n",
    "    plt.xlabel('Each element')\n",
    "    plt.ylabel('Sampling Probability')\n",
    "    plt.ylim((0, 0.5))\n",
    "    plt.xlim((-2, 10))\n",
    "    i += 1\n",
    "plt.show()"
   ]
  },
  {
   "cell_type": "markdown",
   "id": "3489d4b3",
   "metadata": {
    "id": "3489d4b3"
   },
   "source": [
    "- `temperature=1.0`일 때 : 원본 확률 분포\n",
    "- `temperature` 값이 낮아지면 다른 확률은 거의 0에 가까워져 탐욕적 샘플링이 됨"
   ]
  },
  {
   "cell_type": "markdown",
   "id": "0bbd67c4",
   "metadata": {
    "id": "0bbd67c4"
   },
   "source": [
    "## 8.1.4 글자 수준의 LSTM 텍스트 생성 모델 구현\n",
    "- 많은 텍스트 데이터가 필요\n",
    "- 니체의 글을 사용(영어로 번역)\n",
    "    - 일반적인 영어 모델이 아닌 니체의 문체와 특정 주제를 따르는 모델"
   ]
  },
  {
   "cell_type": "markdown",
   "id": "3a7eb45e",
   "metadata": {
    "id": "3a7eb45e"
   },
   "source": [
    "### 데이터 전처리\n",
    "- 말뭉치를 다운받아 소문자로 바꿈"
   ]
  },
  {
   "cell_type": "code",
   "execution_count": 5,
   "id": "2ccac4f1",
   "metadata": {
    "colab": {
     "base_uri": "https://localhost:8080/"
    },
    "id": "2ccac4f1",
    "outputId": "29c63b38-d396-410c-a71d-d63d33895ddf"
   },
   "outputs": [
    {
     "name": "stdout",
     "output_type": "stream",
     "text": [
      "Downloading data from https://s3.amazonaws.com/text-datasets/nietzsche.txt\n",
      "606208/600901 [==============================] - 1s 1us/step\n",
      "614400/600901 [==============================] - 1s 1us/step\n",
      "말뭉치 크기: 600893\n"
     ]
    }
   ],
   "source": [
    "import tensorflow as tf\n",
    "import numpy as np\n",
    "\n",
    "path = tf.keras.utils.get_file(\n",
    "    'nietzsche.txt',\n",
    "    origin='https://s3.amazonaws.com/text-datasets/nietzsche.txt')\n",
    "\n",
    "text = open(path).read().lower()\n",
    "print('말뭉치 크기:', len(text))"
   ]
  },
  {
   "cell_type": "markdown",
   "id": "3e62f18d",
   "metadata": {
    "id": "3e62f18d"
   },
   "source": [
    "### 글자 시퀀스 벡터화하기\n",
    "- `maxlen` 길이를 가진 시퀀스를 중복하여 추출\n",
    "- 추출된 시퀀스를 원-핫 인코딩으로 변환"
   ]
  },
  {
   "cell_type": "code",
   "execution_count": 6,
   "id": "15b94c20",
   "metadata": {
    "colab": {
     "base_uri": "https://localhost:8080/"
    },
    "id": "15b94c20",
    "outputId": "fe4639d2-6d9c-4d87-acc3-57ba25582226"
   },
   "outputs": [
    {
     "name": "stdout",
     "output_type": "stream",
     "text": [
      "시퀀스 개수: 200278\n",
      "고유한 글자: 57\n",
      "벡터화... \n"
     ]
    }
   ],
   "source": [
    "maxlen = 60 # 60개의 글자로 된 시퀀스를 추출\n",
    "step = 3 # 세 글자씩 건너뛰면서 새로운 시퀀스를 샘플링\n",
    "\n",
    "sentences = [] # 추출한 시퀀스를 담을 리스트\n",
    "next_chars = [] # 타깃(시퀀스 다음 글자)을 담을 리스트\n",
    "\n",
    "for i in range(0, len(text)-maxlen, step):\n",
    "    sentences.append(text[i:i+maxlen])\n",
    "    next_chars.append(text[i+maxlen])\n",
    "print('시퀀스 개수:', len(sentences))\n",
    "\n",
    "chars = sorted(list(set(text))) # 말뭉치에서 고유한 글자를 담은 리스트\n",
    "print('고유한 글자:', len(chars))\n",
    "char_indices = dict((char, chars.index(char)) for char in chars) # chars 리스트에 있는 글자와 글자의 인덱스를 매핑한 딕셔너리\n",
    "\n",
    "print('벡터화... ')\n",
    "# 글자를 원-핫 인코딩하여 0과 1의 이진 열로 바꿈\n",
    "x = np.zeros((len(sentences), maxlen, len(chars)), dtype=np.bool)\n",
    "y = np.zeros((len(sentences), len(chars)), dtype=np.bool)\n",
    "for i, sentence in enumerate(sentences):\n",
    "    for t, char in enumerate(sentence):\n",
    "        x[i, t, char_indices[char]] = 1\n",
    "    y[i, char_indices[next_chars[i]]] = 1"
   ]
  },
  {
   "cell_type": "markdown",
   "id": "3917d77e",
   "metadata": {
    "id": "3917d77e"
   },
   "source": [
    "### 네트워크 구성\n",
    "- `LSTM` 층과 그 뒤에 `Dense` 분류기 사용(1D 컨브넷을 사용해도 됨)"
   ]
  },
  {
   "cell_type": "code",
   "execution_count": 7,
   "id": "f3762bea",
   "metadata": {
    "id": "f3762bea"
   },
   "outputs": [],
   "source": [
    "from tensorflow.keras import layers\n",
    "\n",
    "model = tf.keras.models.Sequential()\n",
    "model.add(layers.LSTM(128, input_shape=(maxlen, len(chars))))\n",
    "model.add(layers.Dense(len(chars), activation='softmax'))"
   ]
  },
  {
   "cell_type": "markdown",
   "id": "2c1d8a93",
   "metadata": {
    "id": "2c1d8a93"
   },
   "source": [
    "### 모델 컴파일 설정하기"
   ]
  },
  {
   "cell_type": "code",
   "execution_count": 8,
   "id": "24f708dd",
   "metadata": {
    "id": "24f708dd"
   },
   "outputs": [],
   "source": [
    "optimizer = tf.keras.optimizers.RMSprop(learning_rate=0.01)\n",
    "model.compile(loss='categorical_crossentropy', optimizer=optimizer)"
   ]
  },
  {
   "cell_type": "markdown",
   "id": "9af4dd34",
   "metadata": {
    "id": "9af4dd34"
   },
   "source": [
    "### 언어 모델 훈련과 샘플링\n",
    "1. 지금까지 생성된 텍스트를 주입하여 모델에서 다음 글자에 대한 확률 분포를 뽑음\n",
    "2. 특정 온도로 이 확률 분포의 가중치를 조정\n",
    "3. 가중치가 조정된 분포에서 무작위로 새로운 글자를 샘플링\n",
    "4. 새로운 글자를 생성된 텍스트의 끝에 추가"
   ]
  },
  {
   "cell_type": "markdown",
   "id": "dd267b18",
   "metadata": {
    "id": "dd267b18"
   },
   "source": [
    "### 모델의 예측이 주어졌을 때 새로운 글자를 샘플링하는 함수\n",
    "- `multinomial(n, p, s)` : `n`은 샘플링 횟수, `p`는 확률 분포 배열로 전체 합이 1이 되어야 함, `s`는 샘플링 과정을 반복할 횟수\n",
    "    - `n`이 충분히 크면 반환되는 배열의 분포는 `p`의 분포에 가까워짐"
   ]
  },
  {
   "cell_type": "code",
   "execution_count": 9,
   "id": "ee28a4ee",
   "metadata": {
    "id": "ee28a4ee"
   },
   "outputs": [],
   "source": [
    "def sample(preds, temperature=1.0):\n",
    "    preds = np.asarray(preds).astype('float64')\n",
    "    preds = np.log(preds) / temperature\n",
    "    exp_preds = np.exp(preds)\n",
    "    preds = exp_preds / np.sum(exp_preds)\n",
    "    probas = np.random.multinomial(1, preds, 1)\n",
    "    return np.argmax(probas)"
   ]
  },
  {
   "cell_type": "markdown",
   "id": "b8941708",
   "metadata": {
    "id": "b8941708"
   },
   "source": [
    "### 텍스트 생성 루프"
   ]
  },
  {
   "cell_type": "code",
   "execution_count": 10,
   "id": "b6e09ce4",
   "metadata": {
    "colab": {
     "base_uri": "https://localhost:8080/"
    },
    "id": "b6e09ce4",
    "outputId": "89c57eec-e694-4d55-c1ce-70caadad637b",
    "scrolled": false
   },
   "outputs": [
    {
     "name": "stdout",
     "output_type": "stream",
     "text": [
      "--- 시드 텍스트 : \"the slowly ascending ranks and classes, in which,\n",
      "through fo\"\n",
      "에포크 0\n",
      "Epoch 1/20\n",
      "1565/1565 [==============================] - 31s 16ms/step - loss: 1.9685\n",
      "Epoch 2/20\n",
      "1565/1565 [==============================] - 24s 16ms/step - loss: 1.6160\n",
      "Epoch 3/20\n",
      "1565/1565 [==============================] - 24s 16ms/step - loss: 1.5283\n",
      "Epoch 4/20\n",
      "1565/1565 [==============================] - 24s 16ms/step - loss: 1.4810\n",
      "Epoch 5/20\n",
      "1565/1565 [==============================] - 25s 16ms/step - loss: 1.4523\n",
      "Epoch 6/20\n",
      "1565/1565 [==============================] - 24s 15ms/step - loss: 1.4273\n",
      "Epoch 7/20\n",
      "1565/1565 [==============================] - 24s 15ms/step - loss: 1.4098\n",
      "Epoch 8/20\n",
      "1565/1565 [==============================] - 24s 15ms/step - loss: 1.3947\n",
      "Epoch 9/20\n",
      "1565/1565 [==============================] - 25s 16ms/step - loss: 1.3846\n",
      "Epoch 10/20\n",
      "1565/1565 [==============================] - 24s 16ms/step - loss: 1.3744\n",
      "Epoch 11/20\n",
      "1565/1565 [==============================] - 24s 15ms/step - loss: 1.3650\n",
      "Epoch 12/20\n",
      "1565/1565 [==============================] - 24s 16ms/step - loss: 1.3581\n",
      "Epoch 13/20\n",
      "1565/1565 [==============================] - 24s 15ms/step - loss: 1.3510\n",
      "Epoch 14/20\n",
      "1565/1565 [==============================] - 24s 15ms/step - loss: 1.3451\n",
      "Epoch 15/20\n",
      "1565/1565 [==============================] - 24s 16ms/step - loss: 1.3388\n",
      "Epoch 16/20\n",
      "1565/1565 [==============================] - 24s 15ms/step - loss: 1.3329\n",
      "Epoch 17/20\n",
      "1565/1565 [==============================] - 24s 16ms/step - loss: 1.3299\n",
      "Epoch 18/20\n",
      "1565/1565 [==============================] - 25s 16ms/step - loss: 1.3252\n",
      "Epoch 19/20\n",
      "1565/1565 [==============================] - 24s 16ms/step - loss: 1.3209\n",
      "Epoch 20/20\n",
      "1565/1565 [==============================] - 24s 16ms/step - loss: 1.3183\n",
      "------ 온도: 0.2\n",
      "the slowly ascending ranks and classes, in which,\n",
      "through for the sense of the sense of the sense of the sense of the sense of the same the sense of the sense of the subtle the sense of the sublimer that the sense of the sense of the sense of the sense of the sense of the sense of the sense of the same the subtle and always a morality of the sense of the sense of the sense of the sense of the same the states of the sense of the sense of the sense of the se\n",
      "------ 온도: 0.5\n",
      "the slowly ascending ranks and classes, in which,\n",
      "through for the spirit of the freedom of the most soul and the sense of the sense of the most sagfated but it is not only no most first to the sense of the most suress, and and the sense of the individual. the gorer and appeal from the sense in the soul, and as the sense of the sourcion of universally man of the sense as he should also be \"great of the same distinguished and sympathy of the seriture to\n",
      "men \n",
      "------ 온도: 1.0\n",
      "the slowly ascending ranks and classes, in which,\n",
      "through found and and if not the earshed\n",
      "impulds of ity or takion\n",
      "onch been extent of stask. for the thing unwards. it\n",
      "is to longance. logical into selucian. what a both all forg another motive too say novence the declare it by itself\n",
      "and kant, and\n",
      "aigants doubtly seeking, their advental could, formul such lofe accompenurers causa disan: acquers hates and does he good great evoluted, woblencyise, for\n",
      "his bo\n",
      "------ 온도: 1.2\n",
      "the slowly ascending ranks and classes, in which,\n",
      "through for example, our now a fermithie, by the harimnicts was exha\n",
      "\n",
      "to, began too\n",
      "vanks of womant: \"xay\"--\n",
      "                 heag) when there galing trouble hand are nor, than\n",
      "\n",
      "ing the dictusly\n",
      "ywo\"\" idea of but of\n",
      "self about, be \"developing touring that to the poft of europe, danger,\n",
      "blideigly that ally, worlk--think hesty doing solitation than as a\n",
      "wand when he auvovardly ory, from muzede other-will\n",
      "bad \n",
      "에포크 1\n",
      "Epoch 1/20\n",
      "1565/1565 [==============================] - 24s 16ms/step - loss: 1.3137\n",
      "Epoch 2/20\n",
      "1565/1565 [==============================] - 24s 15ms/step - loss: 1.3108\n",
      "Epoch 3/20\n",
      "1565/1565 [==============================] - 24s 15ms/step - loss: 1.3081\n",
      "Epoch 4/20\n",
      "1565/1565 [==============================] - 24s 15ms/step - loss: 1.3058\n",
      "Epoch 5/20\n",
      "1565/1565 [==============================] - 24s 15ms/step - loss: 1.3024\n",
      "Epoch 6/20\n",
      "1565/1565 [==============================] - 24s 15ms/step - loss: 1.3000\n",
      "Epoch 7/20\n",
      "1565/1565 [==============================] - 24s 15ms/step - loss: 1.2959\n",
      "Epoch 8/20\n",
      "1565/1565 [==============================] - 24s 15ms/step - loss: 1.2947\n",
      "Epoch 9/20\n",
      "1565/1565 [==============================] - 24s 15ms/step - loss: 1.2928\n",
      "Epoch 10/20\n",
      "1565/1565 [==============================] - 24s 15ms/step - loss: 1.2905\n",
      "Epoch 11/20\n",
      "1565/1565 [==============================] - 24s 15ms/step - loss: 1.2855\n",
      "Epoch 12/20\n",
      "1565/1565 [==============================] - 24s 15ms/step - loss: 1.2861\n",
      "Epoch 13/20\n",
      "1565/1565 [==============================] - 24s 16ms/step - loss: 1.2841\n",
      "Epoch 14/20\n",
      "1565/1565 [==============================] - 24s 16ms/step - loss: 1.2806\n",
      "Epoch 15/20\n",
      "1565/1565 [==============================] - 24s 16ms/step - loss: 1.2770\n",
      "Epoch 16/20\n",
      "1565/1565 [==============================] - 24s 15ms/step - loss: 1.2765\n",
      "Epoch 17/20\n",
      "1565/1565 [==============================] - 24s 15ms/step - loss: 1.2720\n",
      "Epoch 18/20\n",
      "1565/1565 [==============================] - 24s 15ms/step - loss: 1.2716\n",
      "Epoch 19/20\n",
      "1565/1565 [==============================] - 24s 15ms/step - loss: 1.2711\n",
      "Epoch 20/20\n",
      "1565/1565 [==============================] - 24s 15ms/step - loss: 1.2697\n",
      "------ 온도: 0.2\n",
      "the slowly ascending ranks and classes, in which,\n",
      "through found that the subtle of the sense of the sense of the sense of the sense of the world. what is the sense of the self-contrary and subtle, the sense of the same the sense of the same the sense of the sense of the sense of the same the sense of the sense of the sense of the sense of the self-contained the same the sense of the world. the sense of the same the same the sense of the self-contained the \n",
      "------ 온도: 0.5\n",
      "the slowly ascending ranks and classes, in which,\n",
      "through for the same and unity, the same germany\n",
      "and cause of the sense of the fact that the same love the degree who are not to be all the fact that the\n",
      "expressive and from them which has no destroned and the more another and more consequentlical morality of the same man, the servile by the teaching of the well he now consequentle in all of the free art and so say something and law the sense of the hundred\n",
      "------ 온도: 1.0\n",
      "the slowly ascending ranks and classes, in which,\n",
      "through followed i something for any: i havenher\n",
      "can\n",
      "arbe oneveness, that like himself, a regarded so allathers\n",
      "ethisal. domant endure that among the cuse ppecient, and our genius\n",
      "azmals). i lavery and\n",
      "subject\n",
      "fwanger himself for the master that there is no en.\n",
      "\n",
      "218. how\n",
      "founders of the , withitines. those found thought to a an hence, they have no lower woman\n",
      "as the general, ethics so manifelmling many cons\n",
      "------ 온도: 1.2\n",
      "the slowly ascending ranks and classes, in which,\n",
      "through fort do my wards actide, countritgant from thou music, consequentling, the monity. on the value,"
     ]
    },
    {
     "name": "stderr",
     "output_type": "stream",
     "text": [
      "/usr/local/lib/python3.7/dist-packages/ipykernel_launcher.py:3: RuntimeWarning: divide by zero encountered in log\n",
      "  This is separate from the ipykernel package so we can avoid doing imports until\n"
     ]
    },
    {
     "name": "stdout",
     "output_type": "stream",
     "text": [
      " from the dor-\"innew,\n",
      "mi_ze; formelyly\" who ersage, enmity to\n",
      "be is illof, with very boorp same wing\n",
      "fuse gabinter cortumave\" that one thing, we cher uncertain more\n",
      "self-churpingrary, for founder, hur ope that they wejely for let aniacity says, no art happiness to got call\n",
      "worrood\n",
      "and with each mightsur t\n",
      "에포크 2\n",
      "Epoch 1/20\n",
      "1565/1565 [==============================] - 24s 15ms/step - loss: 1.2680\n",
      "Epoch 2/20\n",
      "1565/1565 [==============================] - 24s 15ms/step - loss: 1.2671\n",
      "Epoch 3/20\n",
      "1565/1565 [==============================] - 24s 15ms/step - loss: 1.2660\n",
      "Epoch 4/20\n",
      "1565/1565 [==============================] - 24s 15ms/step - loss: 1.2640\n",
      "Epoch 5/20\n",
      "1565/1565 [==============================] - 24s 15ms/step - loss: 1.2647\n",
      "Epoch 6/20\n",
      "1565/1565 [==============================] - 24s 15ms/step - loss: 1.2606\n",
      "Epoch 7/20\n",
      "1565/1565 [==============================] - 24s 15ms/step - loss: 1.2604\n",
      "Epoch 8/20\n",
      "1565/1565 [==============================] - 24s 15ms/step - loss: 1.2608\n",
      "Epoch 9/20\n",
      "1565/1565 [==============================] - 24s 15ms/step - loss: 1.2564\n",
      "Epoch 10/20\n",
      "1565/1565 [==============================] - 24s 15ms/step - loss: 1.2552\n",
      "Epoch 11/20\n",
      "1565/1565 [==============================] - 24s 15ms/step - loss: 1.2545\n",
      "Epoch 12/20\n",
      "1565/1565 [==============================] - 24s 15ms/step - loss: 1.2539\n",
      "Epoch 13/20\n",
      "1565/1565 [==============================] - 24s 15ms/step - loss: 1.2495\n",
      "Epoch 14/20\n",
      "1565/1565 [==============================] - 24s 15ms/step - loss: 1.2485\n",
      "Epoch 15/20\n",
      "1565/1565 [==============================] - 24s 15ms/step - loss: 1.2500\n",
      "Epoch 16/20\n",
      "1565/1565 [==============================] - 24s 15ms/step - loss: 1.2480\n",
      "Epoch 17/20\n",
      "1565/1565 [==============================] - 24s 15ms/step - loss: 1.2484\n",
      "Epoch 18/20\n",
      "1565/1565 [==============================] - 24s 15ms/step - loss: 1.2457\n",
      "Epoch 19/20\n",
      "1565/1565 [==============================] - 24s 15ms/step - loss: 1.2457\n",
      "Epoch 20/20\n",
      "1565/1565 [==============================] - 24s 15ms/step - loss: 1.2456\n",
      "------ 온도: 0.2\n",
      "the slowly ascending ranks and classes, in which,\n",
      "through former of the same a man is the powerful of the hardly and the promisest of the spiritual than the same themselves the spirit and the strength and the proper the stronger of the science of the spirit, and the sense of the sense of the spiritual soul and still the strength and the powerful and the sense of the spirit of the strength of the sense of the spirit of the spirit of the spirit of the honest\n",
      "------ 온도: 0.5\n",
      "the slowly ascending ranks and classes, in which,\n",
      "through formsens of the spirit, and feel philosophy as the religious will proved the german pate of a religion that of the fact as they has hitherto a soul, the power of the spirit and from them the estimates the names of the enough to reading the inclination of the soul is himself who has a offer of the spirit, and a sort of unperiority of the hard is not called the serious the intellectual soul of the pro\n",
      "------ 온도: 1.0\n",
      "the slowly ascending ranks and classes, in which,\n",
      "through foble and relaged--weich to possible--which aoterness\n",
      "and modernygion profought and prides, the most tactificent hardly speak food the spirit, those from \"animal with the misconding that dutely tour domain of himself, the objection. their wicdly in your they with the decider--it believe with the\n",
      "doy-galled afraid\n",
      "himself that aurait every our however, at all\n",
      "the spirit ups obedic therefronce--what, \n",
      "------ 온도: 1.2\n",
      "the slowly ascending ranks and classes, in which,\n",
      "through forms or\n",
      "to\n",
      "sinless: and has rise of dangerous aristorical, f kmew\n",
      "did all\n",
      "hermoss to\n",
      "woman \n",
      "hentorical flool. lyerd higher ord, surrenie tyrant, throughgrmants proves its wars in a brings their injudicpous commulity!--the e sid,\n",
      "such lentary\n",
      "mery\n",
      "always what -other!\n",
      "\n",
      "15. lose not go species, hence plemented uplase not the adracable. thus whjeishes, probably mode to atmace towjels in confuisticratio\n",
      "CPU times: user 25min 29s, sys: 1min 53s, total: 27min 22s\n",
      "Wall time: 29min 7s\n"
     ]
    }
   ],
   "source": [
    "%%time\n",
    "\n",
    "import random\n",
    "import sys\n",
    "\n",
    "random.seed(42)\n",
    "start_index = random.randint(0, len(text)-maxlen-1)\n",
    "\n",
    "seed_text = text[start_index:start_index+maxlen] # 무작위로 시드 텍스트 선택\n",
    "print('--- 시드 텍스트 : \"' + seed_text + '\"')\n",
    "\n",
    "# 60 에포크 동안 모델 훈련, 20회마다 한 번씩 결과 출력\n",
    "for epoch in range(3):\n",
    "    print('에포크', epoch)\n",
    "    model.fit(x, y, batch_size=128, epochs=20)\n",
    "        \n",
    "    # 여러 가지 샘플링 온도 시도\n",
    "    for temperature in [0.2, 0.5, 1.0, 1.2]:\n",
    "        print('------ 온도:', temperature)\n",
    "        generated_text = seed_text\n",
    "        sys.stdout.write(generated_text)\n",
    "        \n",
    "        # 시드 텍스트에서 시작해서 400개의 글자를 생성\n",
    "        for i in range(400):\n",
    "            # 지금까지 생성된 글자를 원-핫 인코딩으로 바꿈\n",
    "            sampled = np.zeros((1, maxlen, len(chars)))\n",
    "            for t, char in enumerate(generated_text):\n",
    "                sampled[0, t, char_indices[char]] = 1.\n",
    "                \n",
    "            # 다음 글자 샘플링\n",
    "            preds = model.predict(sampled, verbose=0)[0]\n",
    "            next_index = sample(preds, temperature)\n",
    "            next_char = chars[next_index]\n",
    "            \n",
    "            generated_text += next_char\n",
    "            generated_text = generated_text[1:]\n",
    "            \n",
    "            sys.stdout.write(next_char)\n",
    "            sys.stdout.flush()\n",
    "        print()"
   ]
  },
  {
   "cell_type": "markdown",
   "id": "a2d123aa",
   "metadata": {
    "id": "e82dd570"
   },
   "source": [
    "- 낮은 온도는 반복적이고 예상되는 텍스트를 만듦\n",
    "- 높은 온도는 알 수 없는 새로운 단어를 만들어냄\n",
    "- 더 많은 데이터에서 크고 깊은 모델을 훈련하면 훨씬 논리적이고 실제와 같은 텍스트 샘플을 생성할 수 있음"
   ]
  },
  {
   "cell_type": "code",
   "execution_count": null,
   "id": "3671fdf6",
   "metadata": {},
   "outputs": [],
   "source": []
  }
 ],
 "metadata": {
  "accelerator": "GPU",
  "colab": {
   "name": "01. LSTM으로 텍스트 생성하기.ipynb",
   "provenance": []
  },
  "kernelspec": {
   "display_name": "Python 3",
   "language": "python",
   "name": "python3"
  },
  "language_info": {
   "codemirror_mode": {
    "name": "ipython",
    "version": 3
   },
   "file_extension": ".py",
   "mimetype": "text/x-python",
   "name": "python",
   "nbconvert_exporter": "python",
   "pygments_lexer": "ipython3",
   "version": "3.7.6"
  },
  "toc": {
   "base_numbering": 1,
   "nav_menu": {},
   "number_sections": false,
   "sideBar": true,
   "skip_h1_title": false,
   "title_cell": "Table of Contents",
   "title_sidebar": "Contents",
   "toc_cell": false,
   "toc_position": {},
   "toc_section_display": true,
   "toc_window_display": false
  }
 },
 "nbformat": 4,
 "nbformat_minor": 5
}
