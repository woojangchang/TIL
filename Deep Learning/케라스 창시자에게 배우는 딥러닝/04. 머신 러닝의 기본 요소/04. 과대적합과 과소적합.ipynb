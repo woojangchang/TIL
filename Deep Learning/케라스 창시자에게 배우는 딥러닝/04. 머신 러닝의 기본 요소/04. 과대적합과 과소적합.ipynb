{
 "cells": [
  {
   "cell_type": "markdown",
   "id": "3ef914d7",
   "metadata": {},
   "source": [
    "# 4.4 과대적합과 과소적합\n",
    "- **과대적합**(overfitting) : 홀드아웃 데이터에서 모델의 성능이 몇 번의 에포크 후에 최고치에 다다랐다가 감소\n",
    "- 최적화와 일반화 사이의 줄다리기\n",
    "    - **최적화**(optimization) : 가능한 훈련 데이터에서 최고의 성능을 얻으려고 모델을 조정하는 과정\n",
    "    - **일반화**(generalization) : 훈련된 모델이 이전에 본 적 없는 데이터에서 얼마나 잘 수행되는지\n",
    "- **과소적합**(underfitting) : 훈련 데이터의 손실이 낮아질수록 테스트 데이터의 손실도 낮아짐\n",
    "    - 모델의 성능이 계속 발전될 여지가 있는 경우\n",
    "- 관련성이 없고 좋지 못한 패턴을 훈련 데이터에서 학습하지 못하게 하는 **가장 좋은 방법은 더 많은 훈련 데이터를 모으는 것**\n",
    "- **규제**(regularization) : 차선책은 모델이 수용할 수 있는 정보의 양을 조절하거나 저장할 수 있는 정보에 제약을 가하는 것"
   ]
  },
  {
   "cell_type": "markdown",
   "id": "b8cc8582",
   "metadata": {},
   "source": [
    "## 4.4.1 네트워크 크기 축소\n",
    "- 과대적합을 막는 가장 단순한 방법 : 모델의 크기(학습 파라미터의 수; 용량(capacity))를 줄이는 것\n",
    "- 기억 용량이 많은 모델은 일반화 능력이 낮음\n",
    "- 과소적합이 되지 않도록 충분한 파라미터를 가진 모델을 사용해야 함\n",
    "- 알맞은 층의 수나 각 층의 유닛 수를 결정할 수 있는 공식은 없음\n",
    "- 알맞은 모델 크기를 찾으려면 각기 다른 구조를 평가해 보아야 함"
   ]
  },
  {
   "cell_type": "markdown",
   "id": "1b203411",
   "metadata": {},
   "source": [
    "### 영화 리뷰 분류 모델에 적용"
   ]
  },
  {
   "cell_type": "code",
   "execution_count": 1,
   "id": "74212212",
   "metadata": {},
   "outputs": [],
   "source": [
    "from tensorflow.keras.datasets import imdb\n",
    "import numpy as np\n",
    "\n",
    "(train_data, train_labels), (test_data, test_labels) = imdb.load_data(num_words=10000)\n",
    "\n",
    "def vectorize_sequences(sequences, dimension=10000):\n",
    "    results = np.zeros((len(sequences), dimension))\n",
    "    for i, sequence in enumerate(sequences):\n",
    "        results[i, sequence] = 1.\n",
    "    return results\n",
    "\n",
    "x_train = vectorize_sequences(train_data)\n",
    "x_test = vectorize_sequences(test_data)\n",
    "\n",
    "y_train = np.array(train_labels).astype('float32')\n",
    "y_test = np.array(test_labels).astype('float32')"
   ]
  },
  {
   "cell_type": "code",
   "execution_count": 2,
   "id": "d9b4c75e",
   "metadata": {},
   "outputs": [],
   "source": [
    "x_val = x_train[:10000]\n",
    "partial_x_train = x_train[10000:]\n",
    "y_val = y_train[:10000]\n",
    "partial_y_train = y_train[10000:]"
   ]
  },
  {
   "cell_type": "markdown",
   "id": "08c31ba5",
   "metadata": {},
   "source": [
    "### 원본 모델"
   ]
  },
  {
   "cell_type": "code",
   "execution_count": 3,
   "id": "5f6b3dcd",
   "metadata": {},
   "outputs": [],
   "source": [
    "from tensorflow.keras import models, layers\n",
    "\n",
    "model = models.Sequential()\n",
    "model.add(layers.Dense(16, activation='relu', input_shape=(10000, )))\n",
    "model.add(layers.Dense(16, activation='relu'))\n",
    "model.add(layers.Dense(1, activation='sigmoid'))\n",
    "\n",
    "model.compile(optimizer='rmsprop',\n",
    "             loss='binary_crossentropy',\n",
    "             metrics=['accuracy'])\n",
    "\n",
    "history_orig = model.fit(partial_x_train, partial_y_train, verbose=0, \n",
    "                   epochs=20, batch_size=512, validation_data=(x_val, y_val))"
   ]
  },
  {
   "cell_type": "markdown",
   "id": "e6c0529a",
   "metadata": {},
   "source": [
    "### 작은 용량의 모델"
   ]
  },
  {
   "cell_type": "code",
   "execution_count": 4,
   "id": "ae2505bd",
   "metadata": {},
   "outputs": [],
   "source": [
    "from tensorflow.keras import models, layers\n",
    "\n",
    "model = models.Sequential()\n",
    "model.add(layers.Dense(6, activation='relu', input_shape=(10000, )))\n",
    "model.add(layers.Dense(6, activation='relu'))\n",
    "model.add(layers.Dense(1, activation='sigmoid'))\n",
    "\n",
    "model.compile(optimizer='rmsprop',\n",
    "             loss='binary_crossentropy',\n",
    "             metrics=['accuracy'])\n",
    "\n",
    "history_small = model.fit(partial_x_train, partial_y_train, verbose=0, \n",
    "                   epochs=20, batch_size=512, validation_data=(x_val, y_val))"
   ]
  },
  {
   "cell_type": "code",
   "execution_count": 5,
   "id": "dc4406ad",
   "metadata": {},
   "outputs": [
    {
     "data": {
      "image/png": "[encoded data removed]",
      "text/plain": [
       "<Figure size 432x288 with 1 Axes>"
      ]
     },
     "metadata": {
      "needs_background": "light"
     },
     "output_type": "display_data"
    }
   ],
   "source": [
    "import matplotlib.pyplot as plt\n",
    "\n",
    "val_loss_orig = history_orig.history['val_loss']\n",
    "val_loss_small = history_small.history['val_loss']\n",
    "\n",
    "epochs = range(1, len(val_loss_orig) + 1)\n",
    "\n",
    "plt.plot(epochs, val_loss_orig, 'b+', label='Original model')\n",
    "plt.plot(epochs, val_loss_small, 'bo', label='Smaller model')\n",
    "plt.xlabel('Epochs')\n",
    "plt.ylabel('Validation loss')\n",
    "plt.legend()\n",
    "\n",
    "plt.show()"
   ]
  },
  {
   "cell_type": "markdown",
   "id": "f812db84",
   "metadata": {},
   "source": [
    "### 큰 용량의 모델"
   ]
  },
  {
   "cell_type": "code",
   "execution_count": 7,
   "id": "231c40d8",
   "metadata": {},
   "outputs": [],
   "source": [
    "from tensorflow.keras import models, layers\n",
    "\n",
    "model = models.Sequential()\n",
    "model.add(layers.Dense(1024, activation='relu', input_shape=(10000, )))\n",
    "model.add(layers.Dense(1024, activation='relu'))\n",
    "model.add(layers.Dense(1, activation='sigmoid'))\n",
    "\n",
    "model.compile(optimizer='rmsprop',\n",
    "             loss='binary_crossentropy',\n",
    "             metrics=['accuracy'])\n",
    "\n",
    "history_big = model.fit(partial_x_train, partial_y_train, verbose=0, \n",
    "                   epochs=20, batch_size=512, validation_data=(x_val, y_val))"
   ]
  },
  {
   "cell_type": "code",
   "execution_count": 8,
   "id": "b44f050c",
   "metadata": {},
   "outputs": [
    {
     "data": {
      "image/png": "[encoded data removed]",
      "text/plain": [
       "<Figure size 432x288 with 1 Axes>"
      ]
     },
     "metadata": {
      "needs_background": "light"
     },
     "output_type": "display_data"
    }
   ],
   "source": [
    "import matplotlib.pyplot as plt\n",
    "\n",
    "val_loss_orig = history_orig.history['val_loss']\n",
    "val_loss_big = history_big.history['val_loss']\n",
    "\n",
    "epochs = range(1, len(val_loss_orig) + 1)\n",
    "\n",
    "plt.plot(epochs, val_loss_orig, 'b+', label='Original model')\n",
    "plt.plot(epochs, val_loss_big, 'bo', label='Bigger model')\n",
    "plt.xlabel('Epochs')\n",
    "plt.ylabel('Validation loss')\n",
    "plt.legend()\n",
    "\n",
    "plt.show()"
   ]
  },
  {
   "cell_type": "code",
   "execution_count": 9,
   "id": "b0fc13ef",
   "metadata": {},
   "outputs": [
    {
     "data": {
      "image/png": "[encoded data removed]",
      "text/plain": [
       "<Figure size 432x288 with 1 Axes>"
      ]
     },
     "metadata": {
      "needs_background": "light"
     },
     "output_type": "display_data"
    }
   ],
   "source": [
    "training_loss_orig = history_orig.history['loss']\n",
    "training_loss_big = history_big.history['loss']\n",
    "\n",
    "epochs = range(1, len(training_loss_orig) + 1)\n",
    "\n",
    "plt.plot(epochs, training_loss_orig, 'b+', label='Original model')\n",
    "plt.plot(epochs, training_loss_big, 'bo', label='Bigger model')\n",
    "plt.xlabel('Epochs')\n",
    "plt.ylabel('Training loss')\n",
    "plt.legend()\n",
    "\n",
    "plt.show()"
   ]
  },
  {
   "cell_type": "markdown",
   "id": "b3a6e365",
   "metadata": {},
   "source": [
    "## 4.4.2 가중치 규제 추가\n",
    "- **오캄의 면도날**(Occam's razor) : 어떤 것에 대한 두 가지의 설명이 있다면 더 적은 가정이 필요한 간단한 설명이 옳을 것이라는 이론, 신경망에도 적용됨\n",
    "- 간단한 모델이 복잡한 모델보다 덜 과대적합될 가능성이 높음\n",
    "    - 간단한 모델 : 파라미터 값 분포의 엔트로피가 작은 모델 (또는 적은 수의 파라미터를 가진 모델)\n",
    "- **가중치 규제**(weight regularization) : 네트워크의 복잡도에 제한을 두어 가중치가 작은 값을 가지도록 강제하는 것\n",
    "    - **L1 규제** : 가중치의 절댓값에 비례하는 비용 추가\n",
    "    - **L2 규제** : 가중치의 제곱에 비례하는 비용 추가, **가중치 감쇠**(weight decay)라고도 함"
   ]
  },
  {
   "cell_type": "markdown",
   "id": "083dd8f9",
   "metadata": {},
   "source": [
    "### 모델에 L2 가중치 추가하기\n",
    "- `regularizers.l2()` = `regularizers.L1L2(l2=0.001)` : 가중치 행렬의 모든 원소를 제곱하고 0.001을 곱하여 네트워크의 전체 손실에 더한다는 의미\n",
    "- 훈련할 때만 추가되며 테스트보다 높을 수 있음"
   ]
  },
  {
   "cell_type": "code",
   "execution_count": 11,
   "id": "50114179",
   "metadata": {},
   "outputs": [],
   "source": [
    "from tensorflow.keras import models, layers, regularizers\n",
    "\n",
    "model = models.Sequential()\n",
    "model.add(layers.Dense(16, kernel_regularizer=regularizers.l2(0.001),\n",
    "                       activation='relu', input_shape=(10000, )))\n",
    "model.add(layers.Dense(16, kernel_regularizer=regularizers.l2(0.001),\n",
    "                       activation='relu'))\n",
    "model.add(layers.Dense(1, activation='sigmoid'))\n",
    "\n",
    "model.compile(optimizer='rmsprop',\n",
    "             loss='binary_crossentropy',\n",
    "             metrics=['accuracy'])\n",
    "\n",
    "history_l2 = model.fit(partial_x_train, partial_y_train, verbose=0, \n",
    "                   epochs=20, batch_size=512, validation_data=(x_val, y_val))"
   ]
  },
  {
   "cell_type": "code",
   "execution_count": 13,
   "id": "0cc9ce32",
   "metadata": {},
   "outputs": [
    {
     "data": {
      "image/png": "[encoded data removed]",
      "text/plain": [
       "<Figure size 432x288 with 1 Axes>"
      ]
     },
     "metadata": {
      "needs_background": "light"
     },
     "output_type": "display_data"
    }
   ],
   "source": [
    "val_loss_orig = history_orig.history['val_loss']\n",
    "val_loss_l2 = history_l2.history['val_loss']\n",
    "\n",
    "epochs = range(1, len(val_loss_orig) + 1)\n",
    "\n",
    "plt.plot(epochs, val_loss_orig, 'b+', label='Original model')\n",
    "plt.plot(epochs, val_loss_l2, 'bo', label='L2-regularized model')\n",
    "plt.xlabel('Epochs')\n",
    "plt.ylabel('Validation loss')\n",
    "plt.legend()\n",
    "\n",
    "plt.show()"
   ]
  },
  {
   "cell_type": "markdown",
   "id": "c1cdc925",
   "metadata": {},
   "source": [
    "### 케라스에서 사용할 수 있는 가중치 규제\n",
    "\n",
    "```python\n",
    "from tensorflow.keras import regularizers\n",
    "\n",
    "regularizers.l1(0.001) # L1 규제\n",
    "\n",
    "regularizers.l1_l2(l1=0.001, l2=0.001) # L1과 L2 규제 병행\n",
    "```"
   ]
  },
  {
   "cell_type": "markdown",
   "id": "d65781ed",
   "metadata": {},
   "source": [
    "## 4.4.3 드롭아웃 추가\n",
    "- **드롭아웃**(Dropout) : 토론토 대학의 제프리 힌튼과 그의 학생들이 개발한 것으로, 규제 기법 중 가장 효과적이고 널리 사용되는 방법 중 하나\n",
    "    - 훈련하는 동안 무작위로 층의 일부 출력 특성을 제외시킴(0으로 만듦)\n",
    "    - 예) 정상적인 모델이 [0.2, 0.5, 1.3, 0.8, 1.1] 벡터를 출력할 때 드롭아웃을 적용하면 [0, 0.5, 1.3, 0, 1.1]처럼 무작위로 0으로 만듦\n",
    "    - 드롭아웃 비율 : 0이 될 특성의 비율로 보통 0.2에서 0.5 사이로 지정\n",
    "- 테스트 단계에서는 어떤 유닛도 드롭아웃 되지 않음\n",
    "    - 그 대신 층의 출력을 드롭아웃 비율에 비례하여 줄여줌\n",
    "\n",
    "```python\n",
    "# 크기가 (batch_size, features)인 한 층의 출력을 담고 있는 넘파이 행렬에 대하여\n",
    "layer_output *= np.random.randint(0, high=2, size=layer_output.shape) # 훈련할 때 유닛 출력 중 50%를 버림\n",
    "\n",
    "# 테스트할 때 드롭아웃 비율로 출력을 낮춰줌\n",
    "layer_output *= 0.5 # 테스트 단계\n",
    "\n",
    "# 또는 테스트할 때 출력을 그대로 두고 훈련할 때 스케일을 높임\n",
    "layer_output *= np.random.randint(0, high=2, size=layer_output.shape) # 훈련 단계\n",
    "layer_output /= 0.5 # 스케일을 낮추는 대신 높임\n",
    "```\n",
    "\n",
    "- 왜 드롭아웃이 과대적합을 줄이는 데 도움이 될까?\n",
    "    - 힌튼이 은행에서 사용하는 부정 방지 메커니즘에서 착안했다고 함\n",
    "    - 각 샘플에 대해 뉴런의 일부를 무작위하게 제거하면 뉴런의 부정한 협업을 방지하고 과대적합을 감소시킨다는 것을 깨달았다고 함"
   ]
  },
  {
   "cell_type": "markdown",
   "id": "9c87bfa2",
   "metadata": {},
   "source": [
    "### IMDB 네트워크에 드롭아웃 추가하기\n",
    "- `model.add(layers.Dropout(0.5))`"
   ]
  },
  {
   "cell_type": "code",
   "execution_count": 14,
   "id": "00dbfa1f",
   "metadata": {},
   "outputs": [],
   "source": [
    "from tensorflow.keras import models, layers\n",
    "\n",
    "model = models.Sequential()\n",
    "model.add(layers.Dense(16, activation='relu', input_shape=(10000, )))\n",
    "model.add(layers.Dropout(0.5))\n",
    "model.add(layers.Dense(16, activation='relu'))\n",
    "model.add(layers.Dropout(0.5))\n",
    "model.add(layers.Dense(1, activation='sigmoid'))\n",
    "\n",
    "model.compile(optimizer='rmsprop',\n",
    "             loss='binary_crossentropy',\n",
    "             metrics=['accuracy'])\n",
    "\n",
    "history_dropout = model.fit(partial_x_train, partial_y_train, verbose=0, \n",
    "                   epochs=20, batch_size=512, validation_data=(x_val, y_val))"
   ]
  },
  {
   "cell_type": "code",
   "execution_count": 15,
   "id": "9c447f19",
   "metadata": {},
   "outputs": [
    {
     "data": {
      "image/png": "[encoded data removed]",
      "text/plain": [
       "<Figure size 432x288 with 1 Axes>"
      ]
     },
     "metadata": {
      "needs_background": "light"
     },
     "output_type": "display_data"
    }
   ],
   "source": [
    "val_loss_orig = history_orig.history['val_loss']\n",
    "val_loss_dropout = history_dropout.history['val_loss']\n",
    "\n",
    "epochs = range(1, len(val_loss_orig) + 1)\n",
    "\n",
    "plt.plot(epochs, val_loss_orig, 'b+', label='Original model')\n",
    "plt.plot(epochs, val_loss_dropout, 'bo', label='Dropout-regularized model')\n",
    "plt.xlabel('Epochs')\n",
    "plt.ylabel('Validation loss')\n",
    "plt.legend()\n",
    "\n",
    "plt.show()"
   ]
  },
  {
   "cell_type": "markdown",
   "id": "3bae36e6",
   "metadata": {},
   "source": [
    "### 과대적합을 방지하기 위한 방법 정리\n",
    "- 훈련 데이터를 더 수집\n",
    "- 네트워크 용량 감소\n",
    "- 가중치 규제 추가\n",
    "- 드롭아웃 추가"
   ]
  },
  {
   "cell_type": "code",
   "execution_count": null,
   "id": "6594f87b",
   "metadata": {},
   "outputs": [],
   "source": []
  }
 ],
 "metadata": {
  "kernelspec": {
   "display_name": "Python Multi",
   "language": "python",
   "name": "multi"
  },
  "language_info": {
   "codemirror_mode": {
    "name": "ipython",
    "version": 3
   },
   "file_extension": ".py",
   "mimetype": "text/x-python",
   "name": "python",
   "nbconvert_exporter": "python",
   "pygments_lexer": "ipython3",
   "version": "3.7.6"
  },
  "toc": {
   "base_numbering": 1,
   "nav_menu": {},
   "number_sections": false,
   "sideBar": true,
   "skip_h1_title": false,
   "title_cell": "Table of Contents",
   "title_sidebar": "Contents",
   "toc_cell": false,
   "toc_position": {},
   "toc_section_display": true,
   "toc_window_display": false
  }
 },
 "nbformat": 4,
 "nbformat_minor": 5
}
