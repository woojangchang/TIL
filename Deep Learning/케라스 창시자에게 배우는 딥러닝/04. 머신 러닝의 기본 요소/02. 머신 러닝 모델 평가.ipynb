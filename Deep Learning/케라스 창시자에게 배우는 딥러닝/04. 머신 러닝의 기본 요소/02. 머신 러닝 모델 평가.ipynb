{
 "cells": [
  {
   "cell_type": "markdown",
   "id": "27d6cf79",
   "metadata": {},
   "source": [
    "# 4.2 머신 러닝 모델 평가\n",
    "- 머신 러닝의 목표 : 처음 본 데이터에서 잘 작동하는 **일반화**된 모델을 얻는 것\n",
    "    - **과대적합**이 주요 장애물"
   ]
  },
  {
   "cell_type": "markdown",
   "id": "cd2dc3d4",
   "metadata": {},
   "source": [
    "## 4.2.1 훈련, 검증, 테스트 세트\n",
    "- 모델 평가의 핵심은 항상 훈련, 검증, 테스트 3개의 세트로 나누는 것\n",
    "- 층의 수나 유닛 수 등 **하이퍼파라미터**(hyperparameter)를 선택하기 위해 모델의 설정을 튜닝\n",
    "- 검증 세트의 성능을 기반으로 모델의 설정을 튜닝하면 검증 세트에 과대적합\n",
    "- **정보 누설**(information leak) : 검증 세트의 모델 성능에 기반하여 모델의 하이퍼파라미터를 조절할 때마다 검증 데이터에 관한 정보가 모델로 새는 것"
   ]
  },
  {
   "cell_type": "markdown",
   "id": "f6e5d42f",
   "metadata": {},
   "source": [
    "### 단순 홀드아웃 검증\n",
    "1. 데이터의 일정량을 테스트 세트로 떼어 놓음\n",
    "2. 훈련 데이터에서 검증 세트를 떼어 놓음"
   ]
  },
  {
   "cell_type": "markdown",
   "id": "e869aff2",
   "metadata": {},
   "source": [
    "### 홀드아웃 검증 구현 예\n",
    "- 단점 : 데이터가 적을 때 검증 세트와 테스트 세트의 샘플이 너무 적어 주어진 전체 데이터를 통계적으로 대표하지 못할 수 있음\n",
    "\n",
    "```python\n",
    "num_validation_samples = 10000\n",
    "\n",
    "np.random.shuffle(data) # 데이터를 섞는 것이 좋음\n",
    "\n",
    "validation_data = data[:num_validation_samples] # 검증 세트\n",
    "data = data[num_validation_samples:]\n",
    "\n",
    "training_data = data[:] # 훈련 세트\n",
    "\n",
    "model = get_model()\n",
    "model.train(training_data) # 훈련 세트에서 모델을 훈련\n",
    "validation_score = model.evaluate(validation_data) # 검증 세트로 평가\n",
    "\n",
    "# 튜닝, 훈련, 평가 반복\n",
    "\n",
    "model = get_model()\n",
    "model.train(np.concatenate([training_data, validation_data])) # 하이퍼파라미터 튜닝이 끝나면 테스트 데이터를 제외한 모든 데이터를 사용하여 모델을 다시 훈련\n",
    "test_score = model.evaluate(test_data)\n",
    "```\n"
   ]
  },
  {
   "cell_type": "markdown",
   "id": "63ed559f",
   "metadata": {},
   "source": [
    "### K-겹 교차 검증\n",
    "1. 데이터를 동일한 크기를 가진 K개 분할로 나눔\n",
    "2. 각 분할 i에 대해 남은 K-1개의 분할로 모델을 훈련하고 분할 i에서 모델을 평가\n",
    "- 모델의 성능이 데이터 분할에 따라 편차가 클 때 도움이 됨"
   ]
  },
  {
   "cell_type": "markdown",
   "id": "dc8af225",
   "metadata": {},
   "source": [
    "### K-겹 교차 검증 구현 예\n",
    "- 사이킷런의 `cross_validate()` 함수를 사용하여 구현 가능\n",
    "    - 사이킷런과 호환되도록 `KerasClassifier`, `KerasRegressor` 클래스로 모델을 감싸야함\n",
    "\n",
    "```python\n",
    "k = 4\n",
    "num_validation_samples = len(data) // k\n",
    "\n",
    "np.random.shuffle(data)\n",
    "\n",
    "validation_scores = []\n",
    "for fold in range(k):\n",
    "    validation_data = data[num_validation_samples * fold: num_validation_samples * (fold + 1)] # 검증 세트\n",
    "    training_data = data[:num_validation_samples * fold] + data[num_validation_samples * (fold + 1):] # 훈련 세트\n",
    "\n",
    "    model = get_model()\n",
    "    model.train(training_data)\n",
    "    validation_score = model.evaluate(validation_data)\n",
    "    validation_scores.append(validation_score)\n",
    "\n",
    "validation_score = np.average(validation_scores) # 검증 점수: K개 폴드의 검증 점수 평균\n",
    "\n",
    "# 테스트 데이터를 제외한 전체 데이터로 최종 모델 훈련\n",
    "model = get_model()\n",
    "model.train(data)\n",
    "test_score = model.evaluate(test_data)\n",
    "```"
   ]
  },
  {
   "cell_type": "markdown",
   "id": "7dc32b87",
   "metadata": {},
   "source": [
    "### 셔플링을 사용한 반복 K-겹 교차 검증\n",
    "- 비교적 가용 데이터가 적고 가능한 정확하게 모델을 평가하고자 할 때 사용\n",
    "- K-겹 교차 검증을 여러 번 적용하되 K개로 분할하기 전에 매번 데이터를 무작위로 섞음\n",
    "- 최종 점수는 모든 K-겹 교차 검증을 실행해서 얻은 점수의 평균\n",
    "- P X K개의 모델을 훈련, 평가하므로 비용이 매우 많이 든다는 단점이 있음\n",
    "- 사이킷런의 `RepeatedKFlod`(회귀)와 `RepeatedStratifiedKFold`(분류) 클래스를 `cross_validate()` 함수에 적용하여 구현 가능"
   ]
  },
  {
   "cell_type": "markdown",
   "id": "75e76242",
   "metadata": {},
   "source": [
    "## 4.2.2 기억해야 할 것\n",
    "- **대표성 있는 데이터** : 훈련 세트와 테스트 세트가 주어진 데이터에 대한 대표성이 있어야 함\n",
    "    - 사이킷런의 `train_test_split()` 함수의 `stratify` 매개변수로 계층별(stratified) 분할을 수행\n",
    "- **시간의 방향** : 과거로부터 미래를 예측하려 한다면 데이터를 무작위로 섞어서는 안 됨\n",
    "    - 훈련 세트의 데이터보다 테스트 세트의 데이터가 더 미래의 것이어야 함\n",
    "- **데이터 중복** : 한 데이터셋에 어떤 데이터가 두 번 등장하며 훈련과 테스트로 나누어진다면, 훈련 데이터의 일부로 테스트를 하는 최악의 경우가 됨"
   ]
  },
  {
   "cell_type": "code",
   "execution_count": null,
   "id": "dd5595c1",
   "metadata": {},
   "outputs": [],
   "source": []
  }
 ],
 "metadata": {
  "kernelspec": {
   "display_name": "Python Multi",
   "language": "python",
   "name": "multi"
  },
  "language_info": {
   "codemirror_mode": {
    "name": "ipython",
    "version": 3
   },
   "file_extension": ".py",
   "mimetype": "text/x-python",
   "name": "python",
   "nbconvert_exporter": "python",
   "pygments_lexer": "ipython3",
   "version": "3.7.6"
  },
  "toc": {
   "base_numbering": 1,
   "nav_menu": {},
   "number_sections": false,
   "sideBar": true,
   "skip_h1_title": false,
   "title_cell": "Table of Contents",
   "title_sidebar": "Contents",
   "toc_cell": false,
   "toc_position": {},
   "toc_section_display": true,
   "toc_window_display": false
  }
 },
 "nbformat": 4,
 "nbformat_minor": 5
}
