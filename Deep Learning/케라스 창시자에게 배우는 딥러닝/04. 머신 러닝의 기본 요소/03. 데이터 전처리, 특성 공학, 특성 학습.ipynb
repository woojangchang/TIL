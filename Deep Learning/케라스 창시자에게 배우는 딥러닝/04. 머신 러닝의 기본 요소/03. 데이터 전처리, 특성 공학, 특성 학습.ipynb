{
 "cells": [
  {
   "cell_type": "markdown",
   "id": "c0afcbec",
   "metadata": {},
   "source": [
    "# 4.3 데이터 전처리, 특성 공학, 특성 학습\n",
    "- 많은 데이터 전처리와 특성 공학 기법은 특정 도메인에 종속적"
   ]
  },
  {
   "cell_type": "markdown",
   "id": "0630be42",
   "metadata": {},
   "source": [
    "## 4.3.1 신경망을 위한 데이터 전처리"
   ]
  },
  {
   "cell_type": "markdown",
   "id": "19a3e323",
   "metadata": {},
   "source": [
    "### 벡터화\n",
    "- 신경망의 모든 입력과 타깃은 float로 이루어진 텐서이어야 함 (특정 경우 정수형)\n",
    "- **데이터 벡터화**(data vectorization) : 사운드, 이미지, 텍스트 등을 텐서로 변환"
   ]
  },
  {
   "cell_type": "markdown",
   "id": "57151ea6",
   "metadata": {},
   "source": [
    "### 값 정규화\n",
    "- 일반적으로 비교적 큰 값(네트워크의 가중치 초기값보다 훨씬 큰 여러 가짓수를 가진 정수)이나 균일하지 않은 데이터를 신경망에 주입하는 것은 하지 말아야 함\n",
    "    - 업데이트할 그래디언트가 커져 네트워크가 수렴하는 것을 방해\n",
    "- 반드시 해야할 것\n",
    "    - 작은 값을 취하여야 함 (0~1 사이의 값)\n",
    "    - 균일해야 함 (모든 특성이 비슷한 값을 가져야 함)\n",
    "- 필수는 아니지만 도움이 되는 것\n",
    "    - 각 특성별로 평균이 0이 되도록 정규화\n",
    "    - 각 특성별로 표준 편차가 1이 되도록 정규화\n",
    "\n",
    "```python\n",
    "# 넘파이 배열\n",
    "x -= x.mean(axis=0)\n",
    "x /= x.std(axis=0)\n",
    "```"
   ]
  },
  {
   "cell_type": "markdown",
   "id": "3ddc5b0b",
   "metadata": {},
   "source": [
    "### 누락된 값 다루기\n",
    "- 일반적으로 신경망에서 0이 사전에 정의된 의미 있는 값이 아니라면 누락된 값을 0으로 입력해도 괜찮음\n",
    "- 단, 테스트 데이터에 누락된 값이 있다면 훈련 데이터에 누락된 값을 고의적으로 만들어줘야 함\n",
    "    - 누락된 값이 없는 훈련 데이터로 학습을 한다면, 누락된 값에 대한 처리를 신경망이 할 수 없기 때문"
   ]
  },
  {
   "cell_type": "markdown",
   "id": "bc2e203a",
   "metadata": {},
   "source": [
    "## 4.3.2 특성 공학\n",
    "- 데이터와 머신 러닝 알고리즘에 관한 지식을 사용하는 단계\n",
    "- 모델에 데이터를 주입하기 전에 하드코딩된 변환을 적용하여 알고리즘이 더 잘 수행되도록 만들어 줌\n",
    "- 예) 시계 이미지를 입력받고 시간을 출력하는 모델 개발\n",
    "    - 원본 픽셀을 입력하면 어려운 문제가 됨\n",
    "    - 시계 바늘의 검은색 픽셀을 따라 각 바늘 끝의 (x, y) 좌표를 출력한 뒤 신경망에 주입\n",
    "    - 각 시계 바늘의 각도를 출력한 뒤 신경망에 주입 (신경망에 넣을 필요 없이 연산만으로 시간 출력 가능)\n",
    "- 최근 딥러닝 대부분은 특성 공학이 필요하지 않지만 신경 쓰지 않아도 되는 것은 아님\n",
    "    - 좋은 특성은 적은 자원을 사용하여 문제 해결 가능\n",
    "    - 좋은 특성은 더 적은 데이터로 문제를 풀 수 있음"
   ]
  },
  {
   "cell_type": "code",
   "execution_count": null,
   "id": "2853ba88",
   "metadata": {},
   "outputs": [],
   "source": []
  }
 ],
 "metadata": {
  "kernelspec": {
   "display_name": "Python Multi",
   "language": "python",
   "name": "multi"
  },
  "language_info": {
   "codemirror_mode": {
    "name": "ipython",
    "version": 3
   },
   "file_extension": ".py",
   "mimetype": "text/x-python",
   "name": "python",
   "nbconvert_exporter": "python",
   "pygments_lexer": "ipython3",
   "version": "3.7.6"
  },
  "toc": {
   "base_numbering": 1,
   "nav_menu": {},
   "number_sections": false,
   "sideBar": true,
   "skip_h1_title": false,
   "title_cell": "Table of Contents",
   "title_sidebar": "Contents",
   "toc_cell": false,
   "toc_position": {},
   "toc_section_display": true,
   "toc_window_display": false
  }
 },
 "nbformat": 4,
 "nbformat_minor": 5
}
