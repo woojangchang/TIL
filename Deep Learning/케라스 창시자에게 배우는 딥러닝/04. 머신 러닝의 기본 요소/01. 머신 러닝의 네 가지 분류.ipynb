{
 "cells": [
  {
   "cell_type": "markdown",
   "id": "d02ef1ea",
   "metadata": {},
   "source": [
    "# 4.1 머신 러닝의 네 가지 분류\n",
    "- 일반적으로 5개 범주 안에 속함 (책에서는 준지도 학습(semi-supervised learning)을 제외한 나머지 소개, 준지도 학습 : 전체 데이터 중 일부에만 레이블되엉 ㅣㅆ는 경우)"
   ]
  },
  {
   "cell_type": "markdown",
   "id": "13056144",
   "metadata": {},
   "source": [
    "## 4.1.1 지도 학습\n",
    "- 이진 분류, 다중 분류, 스칼라 회귀 모두 **지도 학습**(supervised learning)의 예\n",
    "- 샘플 데이터가 주어지면 알고 있는 타깃(꼬리표(annotation))에 입력 데이터를 매핑하는 방법을 학습\n",
    "- 광학 문자 판독, 음성 인식, 이미지 분류, 언어 번역 등\n",
    "- **시퀀스 생성**(sequence generation) : 사진이 주어지면 이를 설명하는 캡션을 생성\n",
    "    - 시퀀스에 있는 단어나 토큰(token)을 반복적으로 예측하는 것처럼 분류 문제로 재구성 가능\n",
    "- **구문 트리**(syntax tree) **예측** : 문장이 주어지며 분해된 구문 트리를 예측\n",
    "- **물체 감지**(object detection) : 사진이 주어지면 사진 안의 특정 물체 주위에 경계 상자(bounding box)를 그림\n",
    "    - 상자의 내용을 예측하는 분류 문제와 상자의 좌표를 예측하는 회귀 문제의 결합\n",
    "- **이미지 분할**(image segmentation) : 사진이 주어졌을 때 픽셀 단위로 특정 물체에 마스킹(masking)을 함"
   ]
  },
  {
   "cell_type": "markdown",
   "id": "777e6806",
   "metadata": {},
   "source": [
    "## 4.1.2 비지도 학습\n",
    "- 데이터 시각화, 데이터 압축, 데이터의 노이즈 제거 또는 데이터에 있는 상관관계를 더 잘 이해하기 위해 사용\n",
    "- **차원 축소**(dimensionality reduction), **군집**(clustering)이 **비지도 학습**(unsupervised learning)의 대표적인 예"
   ]
  },
  {
   "cell_type": "markdown",
   "id": "345cac3e",
   "metadata": {},
   "source": [
    "## 4.1.3 자기 지도 학습\n",
    "- **자기 지도 학습**(self-supervised learning)은 지도 학습의 특별한 경우이지만 따로 분류할 정도로 다름\n",
    "- 사람이 만든 레이블을 사용하지 않고 경험적인 알고리즘(heuristic algorithm)을 사용해서 입력 데이터로부터 생성\n",
    "- 예로 **오토인코더**(autoencoder)가 있음\n",
    "    - 생성된 타깃 : 수정하지 않은 원본 입력\n",
    "    - 지난 프레임이 주어졌을 때 비디오의 다음 프레임을 예측하거나, 이전 단어가 주어졌을 때 다음 단어를 예측하는 것\n",
    "    - 미래의 입력 데이터로부터 지도되기 때문에 **시간에 따른 지도 학습**(temporally supervised learning)이기도 함\n",
    "- 학습 메커니즘과 애플리케이션 측면 중 어디에 중점을 두는지에 따라 지도/비지도 학습으로 재해석 될 수 있음\n",
    "    - 오토인코더의 경우, 타깃이 있고 손실 함수가 최소화되도록 하기 때문에 지도 학습으로 볼 수 있으나 입력 데이터의 차원 축소 용도로 사용될 때는 비지도 학습으로 볼 수 있음"
   ]
  },
  {
   "cell_type": "markdown",
   "id": "273f116f",
   "metadata": {},
   "source": [
    "### 분류와 회귀에서 사용하는 용어\n",
    "- **샘플** 또는 **입력** : 모델에 주입될 하나의 데이터 포인트\n",
    "- **예측** 또는 **출력** : 모델로부터 나오는 값\n",
    "- **타깃** : 정답\n",
    "- **예측 오차** 또는 **손실 값** : 모델의 예측과 타깃 사이의 거리를 측정한 값\n",
    "- **클래스** : 분류 문제에서 선택할 수 있는 가능한 레이블의 집합\n",
    "- **레이블** : 분류 문제에서 클래스 할당의 구체적인 사례\n",
    "- **참 값**(ground-truth) 또는 **꼬리표**(annotation) : 데이터셋에 대한 모든 타깃\n",
    "- **이진 분류** : 각 샘플이 2개의 배타적인 범주로 구분되는 분류\n",
    "- **다중 분류** : 각 샘플이 2개 이상의 배타적인 범주로 구분되는 분류\n",
    "- **다중 레이블 분류** : 각 샘플이 여러 개의 레이블에 할당될 수 있는 분류 작업\n",
    "    - 하나의 사진에 개와 고양이가 함께 있는 경우\n",
    "- **스칼라 회귀** : 타깃이 연속적인 스칼라 값인 작업\n",
    "- **벡터 회귀** : 타깃이 연속적인 값의 집합인 작업\n",
    "    - 이미지 경계 상자의 좌표 등 여러 개의 값에 대한 회귀\n",
    "- **미니 배치** 또는 **배치** : 모델에 의해 동시에 처리되는 소량의 샘플 묶음(일반적으로 8~128개)\n",
    "    - GPU의 메모리 할당이 용이하도록 2의 거듭제곱으로 하는 경우가 많음\n",
    "    - 훈련할 때 미니 배치마다 한 번씩 모델의 가중치에 적용할 경사 하강법 업데이트 값을 계산"
   ]
  },
  {
   "cell_type": "code",
   "execution_count": null,
   "id": "1b3bfd2e",
   "metadata": {},
   "outputs": [],
   "source": []
  }
 ],
 "metadata": {
  "kernelspec": {
   "display_name": "Python Multi",
   "language": "python",
   "name": "multi"
  },
  "language_info": {
   "codemirror_mode": {
    "name": "ipython",
    "version": 3
   },
   "file_extension": ".py",
   "mimetype": "text/x-python",
   "name": "python",
   "nbconvert_exporter": "python",
   "pygments_lexer": "ipython3",
   "version": "3.7.6"
  },
  "toc": {
   "base_numbering": 1,
   "nav_menu": {},
   "number_sections": false,
   "sideBar": true,
   "skip_h1_title": false,
   "title_cell": "Table of Contents",
   "title_sidebar": "Contents",
   "toc_cell": false,
   "toc_position": {},
   "toc_section_display": true,
   "toc_window_display": false
  }
 },
 "nbformat": 4,
 "nbformat_minor": 5
}
