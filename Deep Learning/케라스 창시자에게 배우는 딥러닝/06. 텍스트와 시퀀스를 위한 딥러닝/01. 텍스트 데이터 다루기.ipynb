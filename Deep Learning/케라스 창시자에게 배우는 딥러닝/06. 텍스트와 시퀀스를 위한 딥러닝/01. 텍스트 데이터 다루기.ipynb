{
 "cells": [
  {
   "cell_type": "markdown",
   "id": "cfbdddf4",
   "metadata": {},
   "source": [
    "- **순환 신경망**(recurrent neural network)과 **1D 컨브넷**(1D convnet) : 시퀀스 데이터를 처리하는 딥러닝 모델\n",
    "    - 문서 분류, 시계열 분류\n",
    "        - 글의 주제, 책의 저자 식별 등\n",
    "    - 시계열 비교\n",
    "        - 두 문서나 두 주식 가격이 얼마나 밀접하게 관련이 있는지 등\n",
    "    - 시퀀스-투-시퀀스 학습\n",
    "        - 영어 문장을 프랑스어로 변환하기 등\n",
    "    - 감성 분석\n",
    "        - 트윗이나 영화 리뷰가 긍정적인지 부정적인지 분류하기\n",
    "    - 시게열 예측\n",
    "        - 어떤 지역의 최근 날씨 데이터가 주어졌을 때 향후 날씨 예측하기"
   ]
  },
  {
   "cell_type": "markdown",
   "id": "4e22a0ad",
   "metadata": {},
   "source": [
    "# 6.1 텍스트 데이터 다루기\n",
    "- 시퀀스 처리용 딥러닝 모델 : 문서 분류, 감성 분석, 저자 식별, (제한된 범위의) 질문 응답(Question Answering) 등에 적합\n",
    "- 문자 언어(written language)에 대한 통계적 구조를 만듦\n",
    "- 자연어 처리(natural language processing) 딥러닝 모델 : 단어, 문장, 문단에 적용한 패턴 인식\n",
    "- 텍스트 원본을 입력으로 사용하지 못함\n",
    "- **텍스트 벡터화**(vectorizing text) : 텍스트를 수치형 데이터로 변환\n",
    "    - 텍스트를 단어로 나누고 각 단어를 하나의 벡터로 변환\n",
    "    - 텍스트를 문자로 나누고 각 문자를 하나의 벡터로 변환\n",
    "    - 텍스트에서 단어나 문자의 **n-그램**(n-gram)을 추출하여 각 n-그램을 하나의 벡터로 변환\n",
    "- **토큰**(token) : 텍스트를 나누는 단어, 문자, n-그램 등의 단위\n",
    "- **토큰화**(tokenization) : 텍스트를 토큰으로 나누는 작업\n",
    "- 토큰과 벡터를 연결하는 방법 : **원-핫 인코딩**(one-hot encoding), **토큰 임베딩**(token embedding; **단어 임베딩**)"
   ]
  },
  {
   "cell_type": "markdown",
   "id": "0145db0a",
   "metadata": {},
   "source": [
    "### n-그램과 BOW\n",
    "- 단어 n-그램 : 문장에서 추출한 N개의 연속된 단어 그룹\n",
    "- **BoW**(Bag-of-Words) : 문장을 n-그램으로 나누는 토큰화 방법\n",
    "    - 순서가 없는 토큰화 방법(시퀀스가 아닌 집합으로 간주)이기 때문에 딥러닝보다 머신러닝 모델에 주로 사용됨"
   ]
  },
  {
   "cell_type": "markdown",
   "id": "558a81e7",
   "metadata": {},
   "source": [
    "## 6.1.1 단어와 문자의 원-핫 인코딩\n",
    "- 모든 단어에 고유한 정수 인덱스를 부여하고 이 정수 인덱스 i를 크기가 N인 이진 벡터로 변환"
   ]
  },
  {
   "cell_type": "markdown",
   "id": "490c31ac",
   "metadata": {},
   "source": [
    "### 단어 수준의 원-핫 인코딩하기"
   ]
  },
  {
   "cell_type": "code",
   "execution_count": 1,
   "id": "6340b6ef",
   "metadata": {},
   "outputs": [],
   "source": [
    "import numpy as np\n",
    "\n",
    "# 초기 데이터 샘플 (문장 또는 문서 전체)\n",
    "samples = ['The cat sat on the mat.', 'The dog ate my homework.']\n",
    "\n",
    "# 데이터에 있는 모든 토큰의 인덱스 구축\n",
    "token_index = {}\n",
    "for sample in samples:\n",
    "    # 샘플을 토큰화 (구두점과 특수 문자도 사용할 수 있음)\n",
    "    for word in sample.split():\n",
    "        if word not in token_index:\n",
    "            # 단어마다 고유한 인덱스 할당 (0은 사용하지 않음 - 시퀀스 패딩에 사용)\n",
    "            token_index[word] = len(token_index) + 1\n",
    "\n",
    "# 샘플을 벡터로 변환할 때 단어 최대 개수\n",
    "max_length = 10\n",
    "\n",
    "# 결과 저장 배열\n",
    "results = np.zeros(shape=(len(samples), max_length, max(token_index.values()) + 1))\n",
    "\n",
    "for i, sample in enumerate(samples):\n",
    "    for j, word in list(enumerate(sample.split()))[:max_length]:\n",
    "        index = token_index.get(word)\n",
    "        results[i, j, index] = 1"
   ]
  },
  {
   "cell_type": "code",
   "execution_count": 2,
   "id": "ecc9306c",
   "metadata": {},
   "outputs": [
    {
     "data": {
      "text/plain": [
       "array([[[0., 1., 0., 0., 0., 0., 0., 0., 0., 0., 0.],\n",
       "        [0., 0., 1., 0., 0., 0., 0., 0., 0., 0., 0.],\n",
       "        [0., 0., 0., 1., 0., 0., 0., 0., 0., 0., 0.],\n",
       "        [0., 0., 0., 0., 1., 0., 0., 0., 0., 0., 0.],\n",
       "        [0., 0., 0., 0., 0., 1., 0., 0., 0., 0., 0.],\n",
       "        [0., 0., 0., 0., 0., 0., 1., 0., 0., 0., 0.],\n",
       "        [0., 0., 0., 0., 0., 0., 0., 0., 0., 0., 0.],\n",
       "        [0., 0., 0., 0., 0., 0., 0., 0., 0., 0., 0.],\n",
       "        [0., 0., 0., 0., 0., 0., 0., 0., 0., 0., 0.],\n",
       "        [0., 0., 0., 0., 0., 0., 0., 0., 0., 0., 0.]],\n",
       "\n",
       "       [[0., 1., 0., 0., 0., 0., 0., 0., 0., 0., 0.],\n",
       "        [0., 0., 0., 0., 0., 0., 0., 1., 0., 0., 0.],\n",
       "        [0., 0., 0., 0., 0., 0., 0., 0., 1., 0., 0.],\n",
       "        [0., 0., 0., 0., 0., 0., 0., 0., 0., 1., 0.],\n",
       "        [0., 0., 0., 0., 0., 0., 0., 0., 0., 0., 1.],\n",
       "        [0., 0., 0., 0., 0., 0., 0., 0., 0., 0., 0.],\n",
       "        [0., 0., 0., 0., 0., 0., 0., 0., 0., 0., 0.],\n",
       "        [0., 0., 0., 0., 0., 0., 0., 0., 0., 0., 0.],\n",
       "        [0., 0., 0., 0., 0., 0., 0., 0., 0., 0., 0.],\n",
       "        [0., 0., 0., 0., 0., 0., 0., 0., 0., 0., 0.]]])"
      ]
     },
     "execution_count": 2,
     "metadata": {},
     "output_type": "execute_result"
    }
   ],
   "source": [
    "results"
   ]
  },
  {
   "cell_type": "markdown",
   "id": "b9bacc72",
   "metadata": {},
   "source": [
    "### 문자 수준 원-핫 인코딩하기"
   ]
  },
  {
   "cell_type": "code",
   "execution_count": 3,
   "id": "ec6f6fdc",
   "metadata": {},
   "outputs": [],
   "source": [
    "import string\n",
    "\n",
    "samples = ['The cat sat on the mat.', 'The dog ate my homework.']\n",
    "\n",
    "# 출력 가능한 모든 아스키(ASCII) 문자\n",
    "characters = string.printable\n",
    "token_index = dict(zip(characters, range(1, len(characters) + 1)))\n",
    "\n",
    "max_length = 50\n",
    "results = np.zeros(shape=(len(samples), max_length, max(token_index.values()) + 1))\n",
    "for i, sample in enumerate(samples):\n",
    "    for j, character in enumerate(sample):\n",
    "        index = token_index.get(character)\n",
    "        results[i, j, index] = 1."
   ]
  },
  {
   "cell_type": "code",
   "execution_count": 4,
   "id": "e3742e27",
   "metadata": {},
   "outputs": [
    {
     "data": {
      "text/plain": [
       "array([[[0., 0., 0., ..., 0., 0., 0.],\n",
       "        [0., 0., 0., ..., 0., 0., 0.],\n",
       "        [0., 0., 0., ..., 0., 0., 0.],\n",
       "        ...,\n",
       "        [0., 0., 0., ..., 0., 0., 0.],\n",
       "        [0., 0., 0., ..., 0., 0., 0.],\n",
       "        [0., 0., 0., ..., 0., 0., 0.]],\n",
       "\n",
       "       [[0., 0., 0., ..., 0., 0., 0.],\n",
       "        [0., 0., 0., ..., 0., 0., 0.],\n",
       "        [0., 0., 0., ..., 0., 0., 0.],\n",
       "        ...,\n",
       "        [0., 0., 0., ..., 0., 0., 0.],\n",
       "        [0., 0., 0., ..., 0., 0., 0.],\n",
       "        [0., 0., 0., ..., 0., 0., 0.]]])"
      ]
     },
     "execution_count": 4,
     "metadata": {},
     "output_type": "execute_result"
    }
   ],
   "source": [
    "results"
   ]
  },
  {
   "cell_type": "markdown",
   "id": "9e105f7e",
   "metadata": {},
   "source": [
    "### 케라스를 사용한 단어 수준의 원-핫 인코딩하기\n",
    "- 특수 문자 제거, 빈도가 높은 N개의 단어만 선택(입력 벡터 공간이 너무 커지지 않도록 제한)\n",
    "- 위 방법은 `(samples, max_length, token_length + 1)`의 크기이며 케라스 방식은 `(samples, max_length)`의 크기\n",
    "- `texts_to_matrix()` 메서드 : 텍스트를 시퀀스로 바꿔주는 `texts_to_sequences()` 메서드와 시퀀스 리스트를 넘파이 배열로 바꿔주는 `sequences_to_matrix()` 메서드를 차례대로 호출한 것\n",
    "    - `binary` : 이진 벡터 표현 (출현하면 1, 아니면 0)\n",
    "    - `count` : 단어 출현 횟수\n",
    "    - `freq` : 출현 횟수를 전체 시퀀스의 길이로 나누어 정규화\n",
    "    - `tfidf` : TF-IDF 방식"
   ]
  },
  {
   "cell_type": "code",
   "execution_count": 5,
   "id": "4762eb71",
   "metadata": {},
   "outputs": [
    {
     "name": "stdout",
     "output_type": "stream",
     "text": [
      "9개의 고유한 토큰을 찾았습니다.\n"
     ]
    }
   ],
   "source": [
    "from tensorflow.keras.preprocessing.text import Tokenizer\n",
    "\n",
    "samples = ['The cat sat on the mat.', 'The dog ate my homework.']\n",
    "\n",
    "# 가장 빈도가 높은 1000개의 단어만 선택\n",
    "tokenizer = Tokenizer(num_words=1000)\n",
    "\n",
    "# 단어 인덱스 구축\n",
    "tokenizer.fit_on_texts(samples)\n",
    "\n",
    "# 문자열을 정수 인덱스 리스트로 변환\n",
    "seqences = tokenizer.texts_to_sequences(samples)\n",
    "\n",
    "# 원-핫 이진 벡터\n",
    "one_hot_results = tokenizer.texts_to_matrix(samples, mode='binary')\n",
    "\n",
    "# 계산된 단어 인덱스\n",
    "word_index = tokenizer.word_index\n",
    "\n",
    "print(f'{len(word_index)}개의 고유한 토큰을 찾았습니다.')"
   ]
  },
  {
   "cell_type": "code",
   "execution_count": 6,
   "id": "a114fbe0",
   "metadata": {},
   "outputs": [
    {
     "data": {
      "text/plain": [
       "[[1, 2, 3, 4, 1, 5], [1, 6, 7, 8, 9]]"
      ]
     },
     "execution_count": 6,
     "metadata": {},
     "output_type": "execute_result"
    }
   ],
   "source": [
    "seqences"
   ]
  },
  {
   "cell_type": "code",
   "execution_count": 7,
   "id": "0e4f1d09",
   "metadata": {},
   "outputs": [
    {
     "data": {
      "text/plain": [
       "array([[0., 1., 1., ..., 0., 0., 0.],\n",
       "       [0., 1., 0., ..., 0., 0., 0.]])"
      ]
     },
     "execution_count": 7,
     "metadata": {},
     "output_type": "execute_result"
    }
   ],
   "source": [
    "one_hot_results"
   ]
  },
  {
   "cell_type": "markdown",
   "id": "5951eaef",
   "metadata": {},
   "source": [
    "### 해싱 기법을 사용한 단어 수준의 원-핫 인코딩하기\n",
    "- **원-핫 해싱**(one-hot hashing) : 어휘 사전에 있는 고유한 토큰의 수가 너무 커서 다루기 어려울 때 사용\n",
    "    - 단어를 해싱하여 고정된 크기의 벡터로 변환\n",
    "    - 단어 인덱스가 필요 없기 때문에 메모리를 절약하고 온라인 방식으로 데이터를 인코딩할 수 있음\n",
    "    - 단점 : **해시 충돌**(hash collision)으로 2개의 단어가 같은 해시를 만들면 단어 사이의 차이를 인식하지 못하는 것\n",
    "- 해싱 공간 차원이 해싱될 토큰의 전체 개수보다 훨씬 크면 충돌 가능성이 낮아짐"
   ]
  },
  {
   "cell_type": "code",
   "execution_count": 8,
   "id": "479bf71d",
   "metadata": {},
   "outputs": [],
   "source": [
    "samples = ['The cat sat on the mat.', 'The dog ate my homework.']\n",
    "\n",
    "# 단어를 크기가 1000인 벡터로 저장 (그 이상의 단어가 있다면 해싱 충돌이 늘어나고 인코딩의 정확도가 감소될 것)\n",
    "dimensionality = 1000\n",
    "max_length = 10\n",
    "\n",
    "results = np.zeros((len(samples), max_length, dimensionality))\n",
    "for i, sample in enumerate(samples):\n",
    "    for j, word in list(enumerate(sample.split()))[:max_length]:\n",
    "        # 단어를 해싱하여 0과 1000 사이의 랜덤한 정수 인덱스로 변환\n",
    "        index = abs(hash(word)) % dimensionality\n",
    "        results[i, j, index] = 1."
   ]
  },
  {
   "cell_type": "code",
   "execution_count": 9,
   "id": "08b05cc8",
   "metadata": {},
   "outputs": [
    {
     "data": {
      "text/plain": [
       "array([[[0., 0., 0., ..., 0., 0., 0.],\n",
       "        [0., 0., 0., ..., 0., 0., 0.],\n",
       "        [0., 0., 0., ..., 0., 0., 0.],\n",
       "        ...,\n",
       "        [0., 0., 0., ..., 0., 0., 0.],\n",
       "        [0., 0., 0., ..., 0., 0., 0.],\n",
       "        [0., 0., 0., ..., 0., 0., 0.]],\n",
       "\n",
       "       [[0., 0., 0., ..., 0., 0., 0.],\n",
       "        [0., 0., 0., ..., 0., 0., 0.],\n",
       "        [0., 0., 0., ..., 0., 0., 0.],\n",
       "        ...,\n",
       "        [0., 0., 0., ..., 0., 0., 0.],\n",
       "        [0., 0., 0., ..., 0., 0., 0.],\n",
       "        [0., 0., 0., ..., 0., 0., 0.]]])"
      ]
     },
     "execution_count": 9,
     "metadata": {},
     "output_type": "execute_result"
    }
   ],
   "source": [
    "results"
   ]
  },
  {
   "cell_type": "code",
   "execution_count": 10,
   "id": "df37b979",
   "metadata": {},
   "outputs": [
    {
     "data": {
      "text/plain": [
       "372512797285208076"
      ]
     },
     "execution_count": 10,
     "metadata": {},
     "output_type": "execute_result"
    }
   ],
   "source": [
    "hash('The')"
   ]
  },
  {
   "cell_type": "code",
   "execution_count": 11,
   "id": "11de2c6c",
   "metadata": {},
   "outputs": [
    {
     "data": {
      "text/plain": [
       "473603808622937080"
      ]
     },
     "execution_count": 11,
     "metadata": {},
     "output_type": "execute_result"
    }
   ],
   "source": [
    "hash('cat')"
   ]
  },
  {
   "cell_type": "markdown",
   "id": "ef1f4270",
   "metadata": {},
   "source": [
    "## 6.1.2 단어 임베딩 사용하기\n",
    "- **단어 임베딩** : 밀집 **단어 벡터**(word vector)\n",
    "- 원-핫 인코딩으로 만든 벡터는 희소(sparse)하고 고차원인 반면 단어 임베딩은 저차원의 실수형 벡터\n",
    "- 보통 256, 512 또는 1024차원 단어 임베딩을 사용(원-핫 인코딩은 그보다 훨씬 큼)\n",
    "- 단어 임베딩 만드는 방법\n",
    "    - 관심 대상인 문제와 함께 단어 임베딩을 학습 : 랜덤한 단어 벡터로 시작해서 신경망의 가중치를 학습하는 것과 같은 방식으로 단어 벡터를 학습\n",
    "    - **사전 훈련된 단어 임베딩**(pretrained word embedding) 사용"
   ]
  },
  {
   "cell_type": "markdown",
   "id": "d123410e",
   "metadata": {},
   "source": [
    "### Embedding 층을 사용하여 단어 임베딩 학습하기\n",
    "- 문제점 : 임베딩 공간이 구조적이지 않다는 것\n",
    "    - exact와 accurate 등은 비슷한 의미로 사용되지만 완전히 다른 임베딩을 가짐\n",
    "- 단어 임베딩 : 언어를 기하학적 공간에 매핑하는 것\n",
    "- 'king' 벡터 + 'female' 벡터 = 'queen' 벡터 등\n",
    "- 특정 의미 관계의 중요성이 작업에 따라 다르기 때문에 새로운 작업에는 새로운 임베딩을 학습하는 것이 타당함"
   ]
  },
  {
   "cell_type": "markdown",
   "id": "78c2dda7",
   "metadata": {},
   "source": [
    "### Embedding 층의 객체 생성하기\n",
    "- 정수 인덱스를 밀집 벡터로 매핑하는 딕셔너리로 이해\n",
    "- 단어 인덱스 → Embedding 층 → 연관된 단어 벡터\n",
    "- `Embedding` 층은 크기가 `(samples, sequence_length)`인 2D 정수 텐서를 입력으로 받음\n",
    "    - 배치에 있는 모든 시퀀스는 길이가 같아야 하므로 작은 길이의 시퀀스는 0으로 패딩되고 길이가 더 긴 시퀀스는 잘림\n",
    "- `(samples, sequence_length, embedding_dimensionality)`인 3D 실수형 텐서를 반환"
   ]
  },
  {
   "cell_type": "code",
   "execution_count": 12,
   "id": "8cd73091",
   "metadata": {},
   "outputs": [],
   "source": [
    "from tensorflow.keras.layers import Embedding\n",
    "\n",
    "# 적어도 2개의 매개변수를 받음 - 가능한 토큰의 개수(1000개(단어 인덱스 최댓값 + 1))와 임베딩 차원(64)\n",
    "embedding_layer = Embedding(1000, 64)"
   ]
  },
  {
   "cell_type": "markdown",
   "id": "392f4d91",
   "metadata": {},
   "source": [
    "### Embedding 층에 사용할 IMDB 데이터 로드하기\n",
    "- `maxlen` : 뒤의 maxlen개의 단어만 남김\n",
    "    - `truncating='post'`로 앞의 maxlen개의 단어만 남길 수도 있음"
   ]
  },
  {
   "cell_type": "code",
   "execution_count": 13,
   "id": "a3f60e81",
   "metadata": {},
   "outputs": [
    {
     "name": "stdout",
     "output_type": "stream",
     "text": [
      "[1, 14, 22, 16, 43, 530, 973, 1622, 1385, 65, 458, 4468, 66, 3941, 4, 173, 36, 256, 5, 25, 100, 43, 838, 112, 50, 670, 2, 9, 35, 480, 284, 5, 150, 4, 172, 112, 167, 2, 336, 385, 39, 4, 172, 4536, 1111, 17, 546, 38, 13, 447, 4, 192, 50, 16, 6, 147, 2025, 19, 14, 22, 4, 1920, 4613, 469, 4, 22, 71, 87, 12, 16, 43, 530, 38, 76, 15, 13, 1247, 4, 22, 17, 515, 17, 12, 16, 626, 18, 2, 5, 62, 386, 12, 8, 316, 8, 106, 5, 4, 2223, 5244, 16, 480, 66, 3785, 33, 4, 130, 12, 16, 38, 619, 5, 25, 124, 51, 36, 135, 48, 25, 1415, 33, 6, 22, 12, 215, 28, 77, 52, 5, 14, 407, 16, 82, 2, 8, 4, 107, 117, 5952, 15, 256, 4, 2, 7, 3766, 5, 723, 36, 71, 43, 530, 476, 26, 400, 317, 46, 7, 4, 2, 1029, 13, 104, 88, 4, 381, 15, 297, 98, 32, 2071, 56, 26, 141, 6, 194, 7486, 18, 4, 226, 22, 21, 134, 476, 26, 480, 5, 144, 30, 5535, 18, 51, 36, 28, 224, 92, 25, 104, 4, 226, 65, 16, 38, 1334, 88, 12, 16, 283, 5, 16, 4472, 113, 103, 32, 15, 16, 5345, 19, 178, 32]\n",
      "[  65   16   38 1334   88   12   16  283    5   16 4472  113  103   32\n",
      "   15   16 5345   19  178   32]\n"
     ]
    }
   ],
   "source": [
    "from tensorflow.keras.datasets import imdb\n",
    "from tensorflow.keras import preprocessing\n",
    "\n",
    "# 특성으로 사용할 단어의 수\n",
    "max_features = 10000\n",
    "\n",
    "# 사용할 텍스트의 길이(가장 빈번한 max_features개의 단어만 사용)\n",
    "maxlen = 20\n",
    "\n",
    "(x_train, y_train), (x_test, y_test) = imdb.load_data(num_words=max_features)\n",
    "print(x_train[0])\n",
    "\n",
    "# 리스트를 2D 정수 텐서로 변환\n",
    "x_train = preprocessing.sequence.pad_sequences(x_train, maxlen=maxlen)\n",
    "x_test = preprocessing.sequence.pad_sequences(x_test, maxlen=maxlen)\n",
    "\n",
    "print(x_train[0])"
   ]
  },
  {
   "cell_type": "markdown",
   "id": "954d6be9",
   "metadata": {},
   "source": [
    "### IMDB 데이터에 Embedding 층과 분류기 사용하기\n",
    "- 역전파 수행 시 가중치 업데이트와 함께 학습됨"
   ]
  },
  {
   "cell_type": "code",
   "execution_count": 14,
   "id": "85eca0dc",
   "metadata": {},
   "outputs": [
    {
     "name": "stdout",
     "output_type": "stream",
     "text": [
      "Model: \"sequential\"\n",
      "_________________________________________________________________\n",
      "Layer (type)                 Output Shape              Param #   \n",
      "=================================================================\n",
      "embedding_1 (Embedding)      (None, 20, 8)             80000     \n",
      "_________________________________________________________________\n",
      "flatten (Flatten)            (None, 160)               0         \n",
      "_________________________________________________________________\n",
      "dense (Dense)                (None, 1)                 161       \n",
      "=================================================================\n",
      "Total params: 80,161\n",
      "Trainable params: 80,161\n",
      "Non-trainable params: 0\n",
      "_________________________________________________________________\n"
     ]
    }
   ],
   "source": [
    "from tensorflow.keras.models import Sequential\n",
    "from tensorflow.keras.layers import Flatten, Dense, Embedding\n",
    "\n",
    "model = Sequential()\n",
    "model.add(Embedding(10000, 8, input_length=maxlen)) # Flatten을 하기 위하여 input_length 지정 - 첫 번째 배치 차원을 제외한 나머지 차원이 결정되어야 Flatten 가능\n",
    "\n",
    "model.add(Flatten()) # 3D 임베딩 텐서를 (samples, maxlen*8) 크기의 2D 텐서로 변환\n",
    "\n",
    "model.add(Dense(1, activation='sigmoid'))\n",
    "model.compile(optimizer='rmsprop', loss='binary_crossentropy', metrics=['acc'])\n",
    "model.summary()"
   ]
  },
  {
   "cell_type": "code",
   "execution_count": 15,
   "id": "76ac503f",
   "metadata": {},
   "outputs": [
    {
     "name": "stdout",
     "output_type": "stream",
     "text": [
      "Epoch 1/10\n",
      "625/625 [==============================] - 4s 3ms/step - loss: 0.6689 - acc: 0.6305 - val_loss: 0.6207 - val_acc: 0.6948\n",
      "Epoch 2/10\n",
      "625/625 [==============================] - 2s 3ms/step - loss: 0.5432 - acc: 0.7532 - val_loss: 0.5281 - val_acc: 0.7286\n",
      "Epoch 3/10\n",
      "625/625 [==============================] - 2s 3ms/step - loss: 0.4604 - acc: 0.7894 - val_loss: 0.5002 - val_acc: 0.7412\n",
      "Epoch 4/10\n",
      "625/625 [==============================] - 2s 3ms/step - loss: 0.4187 - acc: 0.8110 - val_loss: 0.4942 - val_acc: 0.7522\n",
      "Epoch 5/10\n",
      "625/625 [==============================] - 2s 3ms/step - loss: 0.3909 - acc: 0.8278 - val_loss: 0.4935 - val_acc: 0.7550\n",
      "Epoch 6/10\n",
      "625/625 [==============================] - 2s 3ms/step - loss: 0.3679 - acc: 0.8400 - val_loss: 0.4992 - val_acc: 0.7564\n",
      "Epoch 7/10\n",
      "625/625 [==============================] - 2s 3ms/step - loss: 0.3478 - acc: 0.8518 - val_loss: 0.5022 - val_acc: 0.7562\n",
      "Epoch 8/10\n",
      "625/625 [==============================] - 2s 3ms/step - loss: 0.3291 - acc: 0.8622 - val_loss: 0.5080 - val_acc: 0.7566\n",
      "Epoch 9/10\n",
      "625/625 [==============================] - 2s 3ms/step - loss: 0.3118 - acc: 0.8729 - val_loss: 0.5180 - val_acc: 0.7534\n",
      "Epoch 10/10\n",
      "625/625 [==============================] - 2s 3ms/step - loss: 0.2956 - acc: 0.8813 - val_loss: 0.5234 - val_acc: 0.7546\n"
     ]
    }
   ],
   "source": [
    "history = model.fit(x_train, y_train, epochs=10, batch_size=32, validation_split=0.2)"
   ]
  },
  {
   "cell_type": "markdown",
   "id": "7d050ade",
   "metadata": {},
   "source": [
    "- 단어 사이의 관계나 문장 구조를 고려하지 않음"
   ]
  },
  {
   "cell_type": "markdown",
   "id": "c389f8a4",
   "metadata": {},
   "source": [
    "### 사전 훈련된 단어 임베딩 사용하기\n",
    "- 훈련 데이터가 부족할 때\n",
    "- 사전 훈련된 컨브넷을 사용하는 것과 비슷한 이유\n",
    "- **Word2vec** 알고리즘 : 2013년 구글의 토마스 미코로브(Tomas Mikolov)가 개발, 성별처럼 구체적인 의미가 있는 속성을 잡아냄\n",
    "- **GloVe** 알고리즘 : 단어의 동시 출현(co-occurrence) 통계를 기록한 행렬을 분해하는 기법"
   ]
  },
  {
   "cell_type": "markdown",
   "id": "1cc76cae",
   "metadata": {},
   "source": [
    "## 6.1.3 모든 내용을 적용하기: 원본 텍스트에서 단어 임베딩까지\n",
    "- 문장들을 벡터의 시퀀스로 임베딩"
   ]
  },
  {
   "cell_type": "markdown",
   "id": "e7e68a01",
   "metadata": {},
   "source": [
    "### 원본 IMDB 텍스트 내려받기\n",
    "- [IMDB 원본 데이터셋](http://mng.bz/0tIo)"
   ]
  },
  {
   "cell_type": "markdown",
   "id": "d01aec1a",
   "metadata": {},
   "source": [
    "### IMDB 원본 데이터 전처리하기"
   ]
  },
  {
   "cell_type": "code",
   "execution_count": 16,
   "id": "491717bf",
   "metadata": {},
   "outputs": [
    {
     "name": "stdout",
     "output_type": "stream",
     "text": [
      "0_3.txt complete.\r",
      "10000_4.txt complete.\r",
      "10001_4.txt complete.\r",
      "10002_1.txt complete.\r",
      "10003_1.txt complete.\r",
      "10004_3.txt complete.\r",
      "10005_3.txt complete.\r",
      "10006_4.txt complete.\r",
      "10007_1.txt complete.\r",
      "10008_2.txt complete.\r",
      "10009_1.txt complete.\r",
      "1000_4.txt complete.\r",
      "10010_3.txt complete.\r",
      "10011_3.txt complete.\r",
      "10012_1.txt complete.\r",
      "10013_1.txt complete.\r",
      "10014_2.txt complete.\r",
      "10015_2.txt complete.\r",
      "10016_4.txt complete.\r",
      "10017_4.txt complete.\r",
      "10018_3.txt complete.\r",
      "10019_3.txt complete.\r",
      "1001_4.txt complete.\r",
      "10020_3.txt complete.\r",
      "10021_2.txt complete.\r",
      "10022_4.txt complete.\r",
      "10023_1.txt complete.\r",
      "10024_3.txt complete.\r",
      "10025_1.txt complete.\r",
      "10026_2.txt complete.\r",
      "10027_1.txt complete.\r",
      "10028_2.txt complete.\r",
      "10029_1.txt complete.\r",
      "1002_3.txt complete.\r",
      "10030_1.txt complete.\r",
      "10031_2.txt complete.\r",
      "10032_4.txt complete.\r",
      "10033_1.txt complete.\r",
      "10034_1.txt complete.\r",
      "10035_1.txt complete.\r",
      "10036_1.txt complete.\r",
      "10037_1.txt complete.\r",
      "10038_3.txt complete.\r",
      "10039_1.txt complete.\r",
      "1003_3.txt complete.\r",
      "10040_2.txt complete.\r",
      "10041_1.txt complete.\r",
      "10042_1.txt complete.\r",
      "10043_1.txt complete.\r",
      "10044_1.txt complete.\r",
      "10045_1.txt complete.\r",
      "10046_1.txt complete.\r",
      "10047_1.txt complete.\r",
      "10048_4.txt complete.\r",
      "10049_1.txt complete.\r",
      "1004_4.txt complete.\r",
      "10050_2.txt complete.\r",
      "10051_4.txt complete.\r",
      "10052_4.txt complete.\r",
      "10053_4.txt complete.\r",
      "10054_1.txt complete.\r",
      "10055_3.txt complete.\r",
      "10056_2.txt complete.\r",
      "10057_1.txt complete.\r",
      "10058_1.txt complete.\r",
      "10059_4.txt complete.\r",
      "1005_3.txt complete.\r",
      "10060_1.txt complete.\r",
      "10061_4.txt complete.\r",
      "10062_1.txt complete.\r",
      "10063_1.txt complete.\r",
      "10064_3.txt complete.\r",
      "10065_2.txt complete.\r",
      "10066_4.txt complete.\r",
      "10067_3.txt complete.\r",
      "10068_4.txt complete.\r",
      "10069_1.txt complete.\r",
      "1006_1.txt complete.\r",
      "10070_3.txt complete.\r",
      "10071_1.txt complete.\r",
      "10072_1.txt complete.\r",
      "10073_4.txt complete.\r",
      "10074_2.txt complete.\r",
      "10075_2.txt complete.\r",
      "10076_4.txt complete.\r",
      "10077_2.txt complete.\r",
      "10078_1.txt complete.\r",
      "10079_1.txt complete.\r",
      "1007_1.txt complete.\r",
      "10080_2.txt complete.\r",
      "10081_1.txt complete.\r",
      "10082_4.txt complete.\r",
      "10083_1.txt complete.\r",
      "10084_4.txt complete.\r",
      "10085_3.txt complete.\r",
      "10086_2.txt complete.\r",
      "10087_4.txt complete.\r",
      "10088_1.txt complete.\r",
      "10089_1.txt complete.\r",
      "1008_1.txt complete.\r",
      "10090_1.txt complete.\r",
      "10091_1.txt complete.\r",
      "10092_1.txt complete.\r",
      "10093_1.txt complete.\r",
      "10094_1.txt complete.\r",
      "10095_1.txt complete.\r",
      "10096_1.txt complete.\r",
      "10097_1.txt complete.\r",
      "10098_1.txt complete.\r",
      "10099_1.txt complete.\r",
      "1009_4.txt complete.\r",
      "100_3.txt complete.\r",
      "10100_1.txt complete.\r",
      "10101_1.txt complete.\r",
      "10102_1.txt complete.\r",
      "10103_1.txt complete.\r",
      "10104_1.txt complete.\r",
      "10105_1.txt complete.\r",
      "10106_1.txt complete.\r",
      "10107_1.txt complete.\r",
      "10108_1.txt complete.\r",
      "10109_1.txt complete.\r",
      "1010_4.txt complete.\r",
      "10110_1.txt complete.\r",
      "10111_1.txt complete.\r",
      "10112_1.txt complete.\r",
      "10113_1.txt complete.\r",
      "10114_1.txt complete.\r",
      "10115_1.txt complete.\r",
      "10116_1.txt complete.\r",
      "10117_1.txt complete.\r",
      "10118_4.txt complete.\r",
      "10119_2.txt complete.\r",
      "1011_2.txt complete.\r",
      "10120_4.txt complete.\r",
      "10121_3.txt complete.\r",
      "10122_4.txt complete.\r",
      "10123_3.txt complete.\r",
      "10124_1.txt complete.\r",
      "10125_1.txt complete.\r",
      "10126_2.txt complete.\r",
      "10127_1.txt complete.\r",
      "10128_1.txt complete.\r",
      "10129_1.txt complete.\r",
      "1012_2.txt complete.\r",
      "10130_2.txt complete.\r",
      "10131_1.txt complete.\r",
      "10132_2.txt complete.\r",
      "10133_1.txt complete.\r",
      "10134_1.txt complete.\r",
      "10135_2.txt complete.\r",
      "10136_2.txt complete.\r",
      "10137_1.txt complete.\r",
      "10138_3.txt complete.\r",
      "10139_4.txt complete.\r",
      "1013_2.txt complete.\r",
      "10140_3.txt complete.\r",
      "10141_2.txt complete.\r",
      "10142_2.txt complete.\r",
      "10143_1.txt complete.\r",
      "10144_2.txt complete.\r",
      "10145_1.txt complete.\r",
      "10146_1.txt complete.\r",
      "10147_1.txt complete.\r",
      "10148_3.txt complete.\r",
      "10149_1.txt complete.\r",
      "1014_2.txt complete.\r",
      "10150_3.txt complete.\r",
      "10151_1.txt complete.\r",
      "10152_1.txt complete.\r",
      "10153_4.txt complete.\r",
      "10154_1.txt complete.\r",
      "10155_4.txt complete.\r",
      "10156_1.txt complete.\r",
      "10157_4.txt complete.\r",
      "10158_4.txt complete.\r",
      "10159_3.txt complete.\r",
      "1015_2.txt complete.\r",
      "10160_4.txt complete.\r",
      "10161_2.txt complete.\r",
      "10162_3.txt complete.\r",
      "10163_4.txt complete.\r",
      "10164_4.txt complete.\r",
      "10165_3.txt complete.\r",
      "10166_2.txt complete.\r",
      "10167_1.txt complete.\r",
      "10168_2.txt complete.\r",
      "10169_2.txt complete.\r",
      "1016_4.txt complete.\r",
      "10170_2.txt complete.\r",
      "10171_3.txt complete.\r",
      "10172_1.txt complete.\r",
      "10173_1.txt complete.\r",
      "10174_4.txt complete.\r",
      "10175_3.txt complete.\r",
      "10176_1.txt complete.\r",
      "10177_1.txt complete.\r",
      "10178_3.txt complete.\r",
      "10179_1.txt complete.\r",
      "1017_1.txt complete.\r",
      "10180_1.txt complete.\r",
      "10181_3.txt complete.\r",
      "10182_3.txt complete.\r",
      "10183_1.txt complete.\r",
      "10184_1.txt complete.\r",
      "10185_4.txt complete.\r",
      "10186_1.txt complete.\r",
      "10187_3.txt complete.\r",
      "10188_2.txt complete.\r",
      "10189_4.txt complete.\r",
      "1018_3.txt complete.\r",
      "10190_1.txt complete.\r",
      "10191_3.txt complete.\r",
      "10192_2.txt complete.\r",
      "10193_1.txt complete.\r",
      "10194_3.txt complete.\r",
      "10195_1.txt complete.\r",
      "10196_1.txt complete.\r",
      "10197_1.txt complete.\r",
      "10198_4.txt complete.\r",
      "10199_4.txt complete.\r",
      "1019_1.txt complete.\r",
      "101_1.txt complete.\r",
      "10200_4.txt complete.\r",
      "10201_3.txt complete.\r",
      "10202_3.txt complete.\r",
      "10203_2.txt complete.\r",
      "10204_2.txt complete.\r",
      "10205_2.txt complete.\r",
      "10206_3.txt complete.\r",
      "10207_2.txt complete.\r",
      "10208_3.txt complete.\r",
      "10209_3.txt complete.\r",
      "1020_2.txt complete.\r",
      "10210_3.txt complete.\r",
      "10211_2.txt complete.\r",
      "10212_1.txt complete.\r",
      "10213_1.txt complete.\r",
      "10214_4.txt complete.\r",
      "10215_2.txt complete.\r",
      "10216_3.txt complete.\r",
      "10217_1.txt complete.\r",
      "10218_3.txt complete.\r",
      "10219_2.txt complete.\r",
      "1021_1.txt complete.\r",
      "10220_3.txt complete.\r",
      "10221_3.txt complete.\r",
      "10222_4.txt complete.\r",
      "10223_4.txt complete.\r",
      "10224_4.txt complete.\r",
      "10225_3.txt complete.\r",
      "10226_3.txt complete.\r",
      "10227_1.txt complete.\r",
      "10228_3.txt complete.\r",
      "10229_3.txt complete.\r",
      "1022_1.txt complete.\r",
      "10230_1.txt complete.\r",
      "10231_1.txt complete.\r",
      "10232_1.txt complete.\r",
      "10233_1.txt complete.\r",
      "10234_1.txt complete.\r",
      "10235_2.txt complete.\r",
      "10236_1.txt complete.\r",
      "10237_2.txt complete.\r",
      "10238_4.txt complete.\r",
      "10239_3.txt complete.\r",
      "1023_3.txt complete.\r",
      "10240_1.txt complete.\r",
      "10241_1.txt complete.\r",
      "10242_3.txt complete.\r",
      "10243_1.txt complete.\r",
      "10244_2.txt complete.\r",
      "10245_3.txt complete.\r",
      "10246_2.txt complete.\r",
      "10247_2.txt complete.\r",
      "10248_1.txt complete.\r",
      "10249_1.txt complete.\r",
      "1024_1.txt complete.\r",
      "10250_3.txt complete.\r",
      "10251_3.txt complete.\r",
      "10252_3.txt complete.\r",
      "10253_1.txt complete.\r",
      "10254_1.txt complete.\r",
      "10255_1.txt complete.\r",
      "10256_3.txt complete.\r",
      "10257_1.txt complete.\r",
      "10258_4.txt complete.\r",
      "10259_1.txt complete.\r",
      "1025_2.txt complete.\r",
      "10260_1.txt complete.\r",
      "10261_1.txt complete.\r",
      "10262_1.txt complete.\r",
      "10263_4.txt complete.\r",
      "10264_4.txt complete.\r",
      "10265_2.txt complete.\r",
      "10266_1.txt complete.\r",
      "10267_1.txt complete.\r",
      "10268_1.txt complete.\r",
      "10269_1.txt complete.\r",
      "1026_3.txt complete.\r",
      "10270_1.txt complete.\r",
      "10271_1.txt complete.\r",
      "10272_1.txt complete.\r",
      "10273_2.txt complete.\r",
      "10274_4.txt complete.\r",
      "10275_3.txt complete.\r",
      "10276_1.txt complete.\r",
      "10277_1.txt complete.\r",
      "10278_1.txt complete.\r",
      "10279_3.txt complete.\r",
      "1027_1.txt complete.\r",
      "10280_3.txt complete.\r",
      "10281_1.txt complete.\r",
      "10282_2.txt complete.\r",
      "10283_1.txt complete.\r",
      "10284_3.txt complete.\r",
      "10285_3.txt complete.\r",
      "10286_1.txt complete.\r",
      "10287_4.txt complete.\r",
      "10288_1.txt complete.\r",
      "10289_1.txt complete.\r",
      "1028_3.txt complete.\r",
      "10290_1.txt complete.\r",
      "10291_4.txt complete.\r",
      "10292_3.txt complete.\r",
      "10293_4.txt complete.\r",
      "10294_1.txt complete.\r",
      "10295_1.txt complete.\r",
      "10296_1.txt complete.\r",
      "10297_3.txt complete.\r",
      "10298_4.txt complete.\r",
      "10299_4.txt complete.\r",
      "1029_3.txt complete.\r",
      "102_1.txt complete.\r",
      "10300_3.txt complete.\r",
      "10301_4.txt complete.\r",
      "10302_1.txt complete.\r",
      "10303_1.txt complete.\r",
      "10304_1.txt complete.\r",
      "10305_4.txt complete.\r",
      "10306_4.txt complete.\r",
      "10307_2.txt complete.\r",
      "10308_1.txt complete.\r",
      "10309_3.txt complete.\r",
      "1030_2.txt complete.\r",
      "10310_2.txt complete.\r",
      "10311_3.txt complete.\r",
      "10312_4.txt complete.\r",
      "10313_4.txt complete.\r",
      "10314_4.txt complete.\r",
      "10315_2.txt complete.\r",
      "10316_3.txt complete.\r",
      "10317_1.txt complete.\r",
      "10318_2.txt complete.\r",
      "10319_1.txt complete.\r",
      "1031_2.txt complete.\r",
      "10320_2.txt complete.\r",
      "10321_2.txt complete.\r",
      "10322_2.txt complete.\r",
      "10323_1.txt complete.\r",
      "10324_2.txt complete.\r",
      "10325_1.txt complete.\r",
      "10326_1.txt complete.\r",
      "10327_1.txt complete.\r",
      "10328_4.txt complete.\r",
      "10329_1.txt complete.\r",
      "1032_1.txt complete.\r",
      "10330_1.txt complete.\r",
      "10331_2.txt complete.\r",
      "10332_1.txt complete.\r",
      "10333_1.txt complete.\r",
      "10334_3.txt complete.\r",
      "10335_3.txt complete.\r",
      "10336_4.txt complete.\r",
      "10337_3.txt complete.\r",
      "10338_2.txt complete.\r",
      "10339_2.txt complete.\r",
      "1033_4.txt complete.\r",
      "10340_1.txt complete.\r",
      "10341_1.txt complete.\r",
      "10342_2.txt complete.\r",
      "10343_3.txt complete.\r",
      "10344_4.txt complete.\r",
      "10345_4.txt complete.\r",
      "10346_4.txt complete.\r",
      "10347_4.txt complete.\r",
      "10348_1.txt complete.\r",
      "10349_4.txt complete.\r",
      "1034_2.txt complete.\r",
      "10350_1.txt complete.\r",
      "10351_1.txt complete.\r",
      "10352_4.txt complete.\r",
      "10353_3.txt complete.\r",
      "10354_4.txt complete.\r",
      "10355_1.txt complete.\r",
      "10356_2.txt complete.\r",
      "10357_1.txt complete.\r",
      "10358_1.txt complete.\r",
      "10359_1.txt complete.\r",
      "1035_1.txt complete.\r",
      "10360_3.txt complete.\r",
      "10361_1.txt complete.\r",
      "10362_1.txt complete.\r",
      "10363_2.txt complete.\r",
      "10364_4.txt complete.\r",
      "10365_1.txt complete.\r",
      "10366_1.txt complete.\r",
      "10367_4.txt complete.\r",
      "10368_1.txt complete.\r",
      "10369_1.txt complete.\r",
      "1036_3.txt complete.\r",
      "10370_4.txt complete.\r",
      "10371_3.txt complete.\r",
      "10372_3.txt complete.\r",
      "10373_3.txt complete.\r",
      "10374_1.txt complete.\r",
      "10375_1.txt complete.\r",
      "10376_1.txt complete.\r",
      "10377_1.txt complete.\r",
      "10378_2.txt complete.\r",
      "10379_2.txt complete.\r",
      "1037_1.txt complete.\r",
      "10380_4.txt complete.\r",
      "10381_4.txt complete.\r",
      "10382_4.txt complete.\r",
      "10383_2.txt complete.\r",
      "10384_4.txt complete.\r",
      "10385_3.txt complete.\r",
      "10386_4.txt complete.\r",
      "10387_1.txt complete.\r",
      "10388_4.txt complete.\r",
      "10389_4.txt complete.\r",
      "1038_2.txt complete.\r",
      "10390_2.txt complete.\r",
      "10391_3.txt complete.\r",
      "10392_3.txt complete.\r",
      "10393_4.txt complete.\r",
      "10394_3.txt complete.\r",
      "10395_2.txt complete.\r",
      "10396_1.txt complete.\r",
      "10397_2.txt complete.\r",
      "10398_3.txt complete.\r",
      "10399_4.txt complete.\r",
      "1039_1.txt complete.\r",
      "103_1.txt complete.\r",
      "10400_1.txt complete.\r",
      "10401_2.txt complete.\r",
      "10402_1.txt complete.\r",
      "10403_2.txt complete.\r",
      "10404_4.txt complete.\r",
      "10405_4.txt complete.\r",
      "10406_3.txt complete.\r",
      "10407_4.txt complete.\r",
      "10408_1.txt complete.\r",
      "10409_2.txt complete.\r",
      "1040_1.txt complete.\r",
      "10410_1.txt complete.\r",
      "10411_2.txt complete.\r",
      "10412_1.txt complete.\r",
      "10413_1.txt complete.\r",
      "10414_3.txt complete.\r",
      "10415_2.txt complete.\r",
      "10416_2.txt complete.\r",
      "10417_1.txt complete.\r",
      "10418_1.txt complete.\r",
      "10419_1.txt complete.\r",
      "1041_1.txt complete.\r",
      "10420_2.txt complete.\r",
      "10421_2.txt complete.\r",
      "10422_1.txt complete.\r",
      "10423_1.txt complete.\r",
      "10424_2.txt complete.\r",
      "10425_3.txt complete.\r",
      "10426_1.txt complete.\r",
      "10427_4.txt complete.\r",
      "10428_4.txt complete.\r",
      "10429_1.txt complete.\r",
      "1042_1.txt complete.\r",
      "10430_3.txt complete.\r",
      "10431_1.txt complete.\r",
      "10432_2.txt complete.\r",
      "10433_4.txt complete.\r",
      "10434_3.txt complete.\r",
      "10435_2.txt complete.\r",
      "10436_4.txt complete.\r",
      "10437_4.txt complete.\r",
      "10438_4.txt complete.\r",
      "10439_1.txt complete.\r",
      "1043_3.txt complete.\r",
      "10440_1.txt complete.\r",
      "10441_1.txt complete.\r",
      "10442_2.txt complete.\r",
      "10443_3.txt complete.\r",
      "10444_1.txt complete.\r",
      "10445_1.txt complete.\r",
      "10446_2.txt complete.\r",
      "10447_1.txt complete.\r",
      "10448_1.txt complete.\r",
      "10449_4.txt complete.\r",
      "1044_4.txt complete.\r",
      "10450_1.txt complete.\r",
      "10451_1.txt complete.\r",
      "10452_1.txt complete.\r",
      "10453_1.txt complete.\r",
      "10454_1.txt complete.\r",
      "10455_1.txt complete.\r",
      "10456_1.txt complete.\r",
      "10457_3.txt complete.\r",
      "10458_2.txt complete.\r",
      "10459_2.txt complete.\r",
      "1045_2.txt complete.\r",
      "10460_3.txt complete.\r",
      "10461_1.txt complete.\r",
      "10462_4.txt complete.\r",
      "10463_1.txt complete.\r",
      "10464_1.txt complete.\r",
      "10465_2.txt complete.\r",
      "10466_2.txt complete.\r",
      "10467_1.txt complete.\r",
      "10468_1.txt complete.\r",
      "10469_1.txt complete.\r",
      "1046_2.txt complete.\r",
      "10470_1.txt complete.\r",
      "10471_2.txt complete.\r",
      "10472_1.txt complete.\r",
      "10473_3.txt complete.\r",
      "10474_3.txt complete.\r",
      "10475_1.txt complete.\r",
      "10476_1.txt complete.\r",
      "10477_1.txt complete.\r",
      "10478_3.txt complete.\r",
      "10479_2.txt complete.\r",
      "1047_2.txt complete.\r",
      "10480_2.txt complete.\r",
      "10481_2.txt complete.\r",
      "10482_1.txt complete.\r",
      "10483_4.txt complete.\r",
      "10484_2.txt complete.\r",
      "10485_1.txt complete.\r",
      "10486_3.txt complete.\r",
      "10487_2.txt complete.\r",
      "10488_1.txt complete.\r",
      "10489_4.txt complete.\r",
      "1048_4.txt complete.\r",
      "10490_1.txt complete.\r",
      "10491_1.txt complete.\r",
      "10492_1.txt complete.\r",
      "10493_4.txt complete.\r",
      "10494_1.txt complete.\r",
      "10495_1.txt complete.\r",
      "10496_4.txt complete.\r",
      "10497_4.txt complete.\r",
      "10498_3.txt complete.\r",
      "10499_1.txt complete.\r",
      "1049_3.txt complete.\r",
      "104_3.txt complete.\r",
      "10500_4.txt complete.\r",
      "10501_4.txt complete.\r",
      "10502_4.txt complete.\r",
      "10503_1.txt complete.\r",
      "10504_1.txt complete.\r",
      "10505_2.txt complete.\r",
      "10506_1.txt complete.\r",
      "10507_1.txt complete.\r",
      "10508_1.txt complete.\r",
      "10509_3.txt complete.\r",
      "1050_4.txt complete.\r",
      "10510_1.txt complete.\r",
      "10511_1.txt complete.\r",
      "10512_1.txt complete.\r",
      "10513_3.txt complete.\r",
      "10514_3.txt complete.\r",
      "10515_1.txt complete.\r",
      "10516_4.txt complete.\r",
      "10517_1.txt complete.\r",
      "10518_1.txt complete.\r",
      "10519_1.txt complete.\r",
      "1051_4.txt complete.\r",
      "10520_2.txt complete.\r",
      "10521_1.txt complete.\r",
      "10522_4.txt complete.\r",
      "10523_2.txt complete.\r",
      "10524_4.txt complete.\r",
      "10525_4.txt complete.\r",
      "10526_3.txt complete.\r",
      "10527_4.txt complete.\r",
      "10528_3.txt complete.\r",
      "10529_4.txt complete.\r",
      "1052_1.txt complete.\r",
      "10530_4.txt complete.\r",
      "10531_3.txt complete.\r",
      "10532_4.txt complete.\r",
      "10533_4.txt complete.\r",
      "10534_1.txt complete.\r",
      "10535_2.txt complete.\r",
      "10536_4.txt complete.\r",
      "10537_1.txt complete.\r",
      "10538_3.txt complete.\r",
      "10539_4.txt complete.\r",
      "1053_4.txt complete.\r",
      "10540_4.txt complete.\r",
      "10541_4.txt complete.\r",
      "10542_3.txt complete.\r",
      "10543_3.txt complete.\r",
      "10544_4.txt complete.\r",
      "10545_1.txt complete.\r",
      "10546_1.txt complete.\r",
      "10547_1.txt complete.\r",
      "10548_3.txt complete.\r",
      "10549_2.txt complete.\r",
      "1054_3.txt complete.\r",
      "10550_4.txt complete.\r",
      "10551_1.txt complete.\r",
      "10552_1.txt complete.\r",
      "10553_1.txt complete.\r",
      "10554_1.txt complete.\r",
      "10555_1.txt complete.\r",
      "10556_1.txt complete.\r",
      "10557_3.txt complete.\r",
      "10558_4.txt complete.\r",
      "10559_3.txt complete.\r",
      "1055_2.txt complete.\r",
      "10560_3.txt complete.\r",
      "10561_1.txt complete.\r",
      "10562_2.txt complete.\r",
      "10563_1.txt complete.\r",
      "10564_4.txt complete.\r",
      "10565_3.txt complete.\r",
      "10566_3.txt complete.\r",
      "10567_2.txt complete.\r",
      "10568_1.txt complete.\r",
      "10569_1.txt complete.\r",
      "1056_3.txt complete.\r",
      "10570_1.txt complete.\r",
      "10571_1.txt complete.\r",
      "10572_1.txt complete.\r",
      "10573_3.txt complete.\r",
      "10574_1.txt complete.\r",
      "10575_3.txt complete.\r",
      "10576_4.txt complete.\r",
      "10577_2.txt complete.\r",
      "10578_1.txt complete.\r",
      "10579_2.txt complete.\r",
      "1057_3.txt complete.\r",
      "10580_4.txt complete.\r",
      "10581_1.txt complete.\r",
      "10582_3.txt complete.\r",
      "10583_3.txt complete.\r",
      "10584_1.txt complete.\r",
      "10585_2.txt complete.\r",
      "10586_1.txt complete.\r",
      "10587_1.txt complete.\r",
      "10588_1.txt complete.\r",
      "10589_1.txt complete.\r",
      "1058_1.txt complete.\r",
      "10590_4.txt complete.\r",
      "10591_3.txt complete.\r",
      "10592_1.txt complete.\r",
      "10593_4.txt complete.\r",
      "10594_1.txt complete.\r",
      "10595_4.txt complete.\r",
      "10596_1.txt complete.\r",
      "10597_2.txt complete.\r",
      "10598_1.txt complete.\r",
      "10599_2.txt complete.\r",
      "1059_2.txt complete.\r",
      "105_2.txt complete.\r",
      "10600_2.txt complete.\r",
      "10601_3.txt complete.\r",
      "10602_4.txt complete.\r",
      "10603_1.txt complete.\r",
      "10604_2.txt complete.\r",
      "10605_1.txt complete.\r",
      "10606_2.txt complete.\r",
      "10607_2.txt complete.\r",
      "10608_2.txt complete.\r",
      "10609_3.txt complete.\r",
      "1060_4.txt complete.\r",
      "10610_1.txt complete.\r",
      "10611_1.txt complete.\r",
      "10612_3.txt complete.\r",
      "10613_3.txt complete.\r",
      "10614_1.txt complete.\r",
      "10615_2.txt complete.\r",
      "10616_2.txt complete.\r",
      "10617_1.txt complete.\r",
      "10618_1.txt complete.\r",
      "10619_1.txt complete.\r",
      "1061_4.txt complete.\r",
      "10620_4.txt complete.\r",
      "10621_3.txt complete.\r",
      "10622_3.txt complete."
     ]
    },
    {
     "name": "stdout",
     "output_type": "stream",
     "text": [
      "IMDB datasets load complete\n"
     ]
    }
   ],
   "source": [
    "import os\n",
    "\n",
    "imdb_dir = '../datasets/aclImdb/'\n",
    "train_dir = os.path.join(imdb_dir, 'train')\n",
    "\n",
    "labels = []\n",
    "texts = []\n",
    "\n",
    "for label_type in ['neg', 'pos']:\n",
    "    dir_name = os.path.join(train_dir, label_type)\n",
    "    for fname in os.listdir(dir_name):\n",
    "        if fname[-4:] == '.txt':\n",
    "            f = open(os.path.join(dir_name, fname), encoding='utf8')\n",
    "            texts.append(f.read())\n",
    "            f.close()\n",
    "            if label_type == 'neg':\n",
    "                labels.append(0)\n",
    "            else:\n",
    "                labels.append(1)\n",
    "            print(f'{fname} complete.', end='\\r')\n",
    "print('IMDB datasets load complete')"
   ]
  },
  {
   "cell_type": "code",
   "execution_count": 17,
   "id": "0ed0f31d",
   "metadata": {},
   "outputs": [
    {
     "data": {
      "text/plain": [
       "(\"Story of a man who has unnatural feelings for a pig. Starts out with a opening scene that is a terrific example of absurd comedy. A formal orchestra audience is turned into an insane, violent mob by the crazy chantings of it's singers. Unfortunately it stays absurd the WHOLE time with no general narrative eventually making it just too off putting. Even those from the era should be turned off. The cryptic dialogue would make Shakespeare seem easy to a third grader. On a technical level it's better than you might think with some good cinematography by future great Vilmos Zsigmond. Future stars Sally Kirkland and Frederic Forrest can be seen briefly.\",\n",
       " 0)"
      ]
     },
     "execution_count": 17,
     "metadata": {},
     "output_type": "execute_result"
    }
   ],
   "source": [
    "texts[0], labels[0]"
   ]
  },
  {
   "cell_type": "markdown",
   "id": "b6fed7da",
   "metadata": {},
   "source": [
    "### 데이터 토큰화\n",
    "- 사전 훈련된 단어 임베딩은 훈련 데이터가 부족할 때 유용(그렇지 않으면 문제에 특화된 임베딩이 훨씬 성능이 좋음)"
   ]
  },
  {
   "cell_type": "code",
   "execution_count": 18,
   "id": "7a3d4a9d",
   "metadata": {},
   "outputs": [
    {
     "name": "stdout",
     "output_type": "stream",
     "text": [
      "88582개의 고유한 토큰을 찾았습니다.\n"
     ]
    }
   ],
   "source": [
    "from tensorflow.keras.preprocessing.text import Tokenizer\n",
    "from tensorflow.keras.preprocessing.sequence import pad_sequences\n",
    "import numpy as np\n",
    "\n",
    "maxlen = 100 # 100개 단어 이후는 버림\n",
    "training_samples = 200 # 훈련 샘플 200개\n",
    "validation_samples = 10000 # 검증 샘플 10000개\n",
    "max_words = 10000 # 가장 빈도가 높은 1만개의 단어만 사용\n",
    "\n",
    "tokenizer = Tokenizer(num_words=max_words)\n",
    "tokenizer.fit_on_texts(texts)\n",
    "seqences = tokenizer.texts_to_sequences(texts)\n",
    "\n",
    "word_index = tokenizer.word_index\n",
    "print(f'{len(word_index)}개의 고유한 토큰을 찾았습니다.')"
   ]
  },
  {
   "cell_type": "code",
   "execution_count": 25,
   "id": "29012664",
   "metadata": {},
   "outputs": [
    {
     "name": "stdout",
     "output_type": "stream",
     "text": [
      "데이터 텐서의 크기 : (25000, 100)\n",
      "레이블 텐서의 크기 : (25000,)\n"
     ]
    }
   ],
   "source": [
    "data = pad_sequences(seqences, maxlen=maxlen)\n",
    "labels = np.asarray(labels)\n",
    "print('데이터 텐서의 크기 :', data.shape)\n",
    "print('레이블 텐서의 크기 :', labels.shape)"
   ]
  },
  {
   "cell_type": "code",
   "execution_count": 26,
   "id": "2d064f8f",
   "metadata": {},
   "outputs": [
    {
     "data": {
      "text/plain": [
       "array([  34,   44, 7576, 1414,   15,    3, 4252,  514,   43,   16,    3,\n",
       "        633,  133,   12,    6,    3, 1301,  459,    4, 1751,  209,    3,\n",
       "       7693,  308,    6,  676,   80,   32, 2137, 1110, 3008,   31,    1,\n",
       "        929,    4,   42, 5120,  469,    9, 2665, 1751,    1,  223,   55,\n",
       "         16,   54,  828, 1318,  847,  228,    9,   40,   96,  122, 1484,\n",
       "         57,  145,   36,    1,  996,  141,   27,  676,  122,    1,  411,\n",
       "         59,   94, 2278,  303,  772,    5,    3,  837,   20,    3, 1755,\n",
       "        646,   42,  125,   71,   22,  235,  101,   16,   46,   49,  624,\n",
       "         31,  702,   84,  702,  378, 3493,    2, 8422,   67,   27,  107,\n",
       "       3348])"
      ]
     },
     "execution_count": 26,
     "metadata": {},
     "output_type": "execute_result"
    }
   ],
   "source": [
    "data[0]"
   ]
  },
  {
   "cell_type": "code",
   "execution_count": 27,
   "id": "ed1b9c5e",
   "metadata": {},
   "outputs": [],
   "source": [
    "# 데이터를 훈련 세트와 검증 세트로 분할\n",
    "# 샘플이 순서대로 있기 때문에 shuffle\n",
    "indices = np.arange(data.shape[0])\n",
    "np.random.shuffle(indices)\n",
    "data = data[indices]\n",
    "labels = labels[indices]\n",
    "\n",
    "x_train = data[:training_samples]\n",
    "y_train = labels[:training_samples]\n",
    "x_val = data[training_samples:training_samples + validation_samples]\n",
    "y_val = labels[training_samples:training_samples + validation_samples]"
   ]
  },
  {
   "cell_type": "markdown",
   "id": "3256a78e",
   "metadata": {},
   "source": [
    "### GloVe 단어 임베딩 내려받기\n",
    "- 2014년 영문 위키피디아를 사용하여 사전에 계산된 [임베딩 파일](https://nlp.stanford.edu/projects/glove/) - [glove.6B.zip](https://nlp.stanford.edu/data/glove.6B.zip)\n",
    "- 40만 개의 단어에 대한 100차원의 임베딩 벡터"
   ]
  },
  {
   "cell_type": "markdown",
   "id": "0d95174f",
   "metadata": {},
   "source": [
    "### 임베딩 전처리\n",
    "- txt 파일을 파싱하여 단어(문자열)와 이에 상응하는 벡터 표현을 매핑하는 인덱스 만들기"
   ]
  },
  {
   "cell_type": "markdown",
   "id": "21c97298",
   "metadata": {},
   "source": [
    "### GloVe 단어 임베딩 파일 파싱하기"
   ]
  },
  {
   "cell_type": "code",
   "execution_count": 28,
   "id": "98ff160d",
   "metadata": {},
   "outputs": [
    {
     "name": "stdout",
     "output_type": "stream",
     "text": [
      "400000개의 단어 벡터를 찾았습니다.\n"
     ]
    }
   ],
   "source": [
    "glove_dir = '../datasets/glove.6B/'\n",
    "\n",
    "embeddings_index = {}\n",
    "f = open(os.path.join(glove_dir, 'glove.6B.100d.txt'), encoding='utf8')\n",
    "for line in f:\n",
    "    values = line.split()\n",
    "    word = values[0]\n",
    "    coefs = np.asarray(values[1:], dtype='float32')\n",
    "    embeddings_index[word] = coefs\n",
    "f.close()\n",
    "\n",
    "print(f'{len(embeddings_index)}개의 단어 벡터를 찾았습니다.')"
   ]
  },
  {
   "cell_type": "markdown",
   "id": "98b0760b",
   "metadata": {},
   "source": [
    "### GloVe 단어 임베딩 행렬 준비하기\n",
    "- 행렬의 크기 : `(max_words, embedding_dim)`"
   ]
  },
  {
   "cell_type": "code",
   "execution_count": 29,
   "id": "aa50a691",
   "metadata": {},
   "outputs": [],
   "source": [
    "embedding_dim = 100\n",
    "\n",
    "embedding_matrix = np.zeros((max_words, embedding_dim))\n",
    "for word, i in word_index.items():\n",
    "    if i < max_words:\n",
    "        embedding_vector = embeddings_index.get(word)\n",
    "        if embedding_vector is not None:\n",
    "            embedding_matrix[i] = embedding_vector # 임베딩 인덱스에 없는 단어는 모두 0"
   ]
  },
  {
   "cell_type": "markdown",
   "id": "22f27a45",
   "metadata": {},
   "source": [
    "### 모델 정의하기"
   ]
  },
  {
   "cell_type": "code",
   "execution_count": 30,
   "id": "0f3147aa",
   "metadata": {},
   "outputs": [
    {
     "name": "stdout",
     "output_type": "stream",
     "text": [
      "Model: \"sequential_1\"\n",
      "_________________________________________________________________\n",
      "Layer (type)                 Output Shape              Param #   \n",
      "=================================================================\n",
      "embedding_2 (Embedding)      (None, 100, 100)          1000000   \n",
      "_________________________________________________________________\n",
      "flatten_1 (Flatten)          (None, 10000)             0         \n",
      "_________________________________________________________________\n",
      "dense_1 (Dense)              (None, 32)                320032    \n",
      "_________________________________________________________________\n",
      "dense_2 (Dense)              (None, 1)                 33        \n",
      "=================================================================\n",
      "Total params: 1,320,065\n",
      "Trainable params: 1,320,065\n",
      "Non-trainable params: 0\n",
      "_________________________________________________________________\n"
     ]
    }
   ],
   "source": [
    "from tensorflow.keras.models import Sequential\n",
    "from tensorflow.keras.layers import Flatten, Dense, Embedding\n",
    "\n",
    "model = Sequential()\n",
    "model.add(Embedding(max_words, embedding_dim, input_length=maxlen))\n",
    "model.add(Flatten())\n",
    "model.add(Dense(32, activation='relu'))\n",
    "model.add(Dense(1, activation='sigmoid'))\n",
    "model.summary()"
   ]
  },
  {
   "cell_type": "markdown",
   "id": "4e7b9dec",
   "metadata": {},
   "source": [
    "### 모델에 GloVe 임베딩 로드하기\n",
    "- `Embedding` 층을 동결"
   ]
  },
  {
   "cell_type": "code",
   "execution_count": 31,
   "id": "b0c2e28b",
   "metadata": {},
   "outputs": [],
   "source": [
    "model.layers[0].set_weights([embedding_matrix])\n",
    "model.layers[0].trainable = False"
   ]
  },
  {
   "cell_type": "markdown",
   "id": "1bf6e36c",
   "metadata": {},
   "source": [
    "### 모델 훈련과 평가"
   ]
  },
  {
   "cell_type": "code",
   "execution_count": 32,
   "id": "d6e8eb6d",
   "metadata": {},
   "outputs": [
    {
     "name": "stdout",
     "output_type": "stream",
     "text": [
      "Epoch 1/10\n",
      "7/7 [==============================] - 1s 84ms/step - loss: 1.0437 - accuracy: 0.5200 - val_loss: 0.6931 - val_accuracy: 0.4966\n",
      "Epoch 2/10\n",
      "7/7 [==============================] - 0s 70ms/step - loss: 0.6877 - accuracy: 0.4800 - val_loss: 0.6931 - val_accuracy: 0.4964\n",
      "Epoch 3/10\n",
      "7/7 [==============================] - 0s 71ms/step - loss: 0.6853 - accuracy: 0.4850 - val_loss: 0.6931 - val_accuracy: 0.5041\n",
      "Epoch 4/10\n",
      "7/7 [==============================] - 0s 67ms/step - loss: 0.6836 - accuracy: 0.5550 - val_loss: 0.6929 - val_accuracy: 0.5106\n",
      "Epoch 5/10\n",
      "7/7 [==============================] - 0s 67ms/step - loss: 0.6770 - accuracy: 0.5950 - val_loss: 0.6956 - val_accuracy: 0.5063\n",
      "Epoch 6/10\n",
      "7/7 [==============================] - 0s 77ms/step - loss: 0.6608 - accuracy: 0.5300 - val_loss: 0.6897 - val_accuracy: 0.5580\n",
      "Epoch 7/10\n",
      "7/7 [==============================] - 0s 68ms/step - loss: 0.6308 - accuracy: 0.7950 - val_loss: 0.7595 - val_accuracy: 0.4965\n",
      "Epoch 8/10\n",
      "7/7 [==============================] - 0s 71ms/step - loss: 0.6208 - accuracy: 0.5250 - val_loss: 0.6841 - val_accuracy: 0.5765\n",
      "Epoch 9/10\n",
      "7/7 [==============================] - 0s 67ms/step - loss: 0.5729 - accuracy: 0.9550 - val_loss: 0.7224 - val_accuracy: 0.4992\n",
      "Epoch 10/10\n",
      "7/7 [==============================] - 0s 70ms/step - loss: 0.5452 - accuracy: 0.5700 - val_loss: 0.6964 - val_accuracy: 0.5222\n"
     ]
    }
   ],
   "source": [
    "model.compile(optimizer='adam', loss='binary_crossentropy', metrics=['accuracy'])\n",
    "\n",
    "history = model.fit(x_train, y_train,\n",
    "                    epochs=10, batch_size=32,\n",
    "                    validation_data=(x_val, y_val))\n",
    "\n",
    "model.save_weights('../models/pre_trained_glove_model.h5')"
   ]
  },
  {
   "cell_type": "markdown",
   "id": "7a487dc1",
   "metadata": {},
   "source": [
    "### 결과 그래프 그리기"
   ]
  },
  {
   "cell_type": "code",
   "execution_count": 34,
   "id": "2a77fa6b",
   "metadata": {},
   "outputs": [
    {
     "data": {
      "image/png": "[encoded data removed]",
      "text/plain": [
       "<Figure size 432x288 with 1 Axes>"
      ]
     },
     "metadata": {
      "needs_background": "light"
     },
     "output_type": "display_data"
    },
    {
     "data": {
      "image/png": "[encoded data removed]",
      "text/plain": [
       "<Figure size 432x288 with 1 Axes>"
      ]
     },
     "metadata": {
      "needs_background": "light"
     },
     "output_type": "display_data"
    }
   ],
   "source": [
    "import matplotlib.pyplot as plt\n",
    "\n",
    "acc = history.history['accuracy']\n",
    "val_acc = history.history['val_accuracy']\n",
    "loss = history.history['loss']\n",
    "val_loss = history.history['val_loss']\n",
    "\n",
    "epochs = range(1, len(acc) + 1)\n",
    "\n",
    "plt.plot(epochs, acc, 'bo', label='Training acc')\n",
    "plt.plot(epochs, val_acc, 'b', label='Validation acc')\n",
    "plt.title('Training and validaiton accuracy')\n",
    "plt.legend()\n",
    "\n",
    "plt.figure()\n",
    "\n",
    "plt.plot(epochs, loss, 'bo', label='Training loss')\n",
    "plt.plot(epochs, val_loss, 'b', label='Validation loss')\n",
    "plt.title('Training and validaiton loss')\n",
    "plt.legend()\n",
    "\n",
    "plt.show()"
   ]
  },
  {
   "cell_type": "markdown",
   "id": "b546ea62",
   "metadata": {},
   "source": [
    "### 사전 훈련된 임베딩을 사용하지 않고 같은 모델 훈련하기\n",
    "- 사전 훈련된 단어 임베딩을 사용하는 것보다 정확도가 낮음\n",
    "- 샘플 데이터 수를 늘리면 단어 임베딩을 사용하는 것보다 정확도가 높음"
   ]
  },
  {
   "cell_type": "code",
   "execution_count": 35,
   "id": "522c8c43",
   "metadata": {},
   "outputs": [
    {
     "name": "stdout",
     "output_type": "stream",
     "text": [
      "Model: \"sequential_2\"\n",
      "_________________________________________________________________\n",
      "Layer (type)                 Output Shape              Param #   \n",
      "=================================================================\n",
      "embedding_3 (Embedding)      (None, 100, 100)          1000000   \n",
      "_________________________________________________________________\n",
      "flatten_2 (Flatten)          (None, 10000)             0         \n",
      "_________________________________________________________________\n",
      "dense_3 (Dense)              (None, 32)                320032    \n",
      "_________________________________________________________________\n",
      "dense_4 (Dense)              (None, 1)                 33        \n",
      "=================================================================\n",
      "Total params: 1,320,065\n",
      "Trainable params: 1,320,065\n",
      "Non-trainable params: 0\n",
      "_________________________________________________________________\n",
      "Epoch 1/10\n",
      "7/7 [==============================] - 1s 86ms/step - loss: 0.6938 - accuracy: 0.5300 - val_loss: 0.6921 - val_accuracy: 0.5226\n",
      "Epoch 2/10\n",
      "7/7 [==============================] - 0s 80ms/step - loss: 0.5580 - accuracy: 0.9800 - val_loss: 0.6919 - val_accuracy: 0.5251\n",
      "Epoch 3/10\n",
      "7/7 [==============================] - 0s 72ms/step - loss: 0.4299 - accuracy: 0.9850 - val_loss: 0.6940 - val_accuracy: 0.5228\n",
      "Epoch 4/10\n",
      "7/7 [==============================] - 0s 72ms/step - loss: 0.2658 - accuracy: 0.9950 - val_loss: 0.6988 - val_accuracy: 0.5259\n",
      "Epoch 5/10\n",
      "7/7 [==============================] - 0s 70ms/step - loss: 0.1242 - accuracy: 0.9950 - val_loss: 0.7022 - val_accuracy: 0.5295\n",
      "Epoch 6/10\n",
      "7/7 [==============================] - 0s 69ms/step - loss: 0.0499 - accuracy: 1.0000 - val_loss: 0.7094 - val_accuracy: 0.5291\n",
      "Epoch 7/10\n",
      "7/7 [==============================] - 0s 69ms/step - loss: 0.0215 - accuracy: 1.0000 - val_loss: 0.7195 - val_accuracy: 0.5292\n",
      "Epoch 8/10\n",
      "7/7 [==============================] - 0s 74ms/step - loss: 0.0104 - accuracy: 1.0000 - val_loss: 0.7251 - val_accuracy: 0.5310\n",
      "Epoch 9/10\n",
      "7/7 [==============================] - 0s 70ms/step - loss: 0.0061 - accuracy: 1.0000 - val_loss: 0.7274 - val_accuracy: 0.5313\n",
      "Epoch 10/10\n",
      "7/7 [==============================] - 0s 69ms/step - loss: 0.0043 - accuracy: 1.0000 - val_loss: 0.7309 - val_accuracy: 0.5364\n"
     ]
    }
   ],
   "source": [
    "from tensorflow.keras.models import Sequential\n",
    "from tensorflow.keras.layers import Flatten, Dense, Embedding\n",
    "\n",
    "model = Sequential()\n",
    "model.add(Embedding(max_words, embedding_dim, input_length=maxlen))\n",
    "model.add(Flatten())\n",
    "model.add(Dense(32, activation='relu'))\n",
    "model.add(Dense(1, activation='sigmoid'))\n",
    "model.summary()\n",
    "\n",
    "model.compile(optimizer='adam', loss='binary_crossentropy', metrics=['accuracy'])\n",
    "\n",
    "history = model.fit(x_train, y_train,\n",
    "                    epochs=10, batch_size=32,\n",
    "                    validation_data=(x_val, y_val))"
   ]
  },
  {
   "cell_type": "code",
   "execution_count": 36,
   "id": "2629fd00",
   "metadata": {},
   "outputs": [
    {
     "data": {
      "image/png": "[encoded data removed]",
      "text/plain": [
       "<Figure size 432x288 with 1 Axes>"
      ]
     },
     "metadata": {
      "needs_background": "light"
     },
     "output_type": "display_data"
    },
    {
     "data": {
      "image/png": "[encoded data removed]",
      "text/plain": [
       "<Figure size 432x288 with 1 Axes>"
      ]
     },
     "metadata": {
      "needs_background": "light"
     },
     "output_type": "display_data"
    }
   ],
   "source": [
    "import matplotlib.pyplot as plt\n",
    "\n",
    "acc = history.history['accuracy']\n",
    "val_acc = history.history['val_accuracy']\n",
    "loss = history.history['loss']\n",
    "val_loss = history.history['val_loss']\n",
    "\n",
    "epochs = range(1, len(acc) + 1)\n",
    "\n",
    "plt.plot(epochs, acc, 'bo', label='Training acc')\n",
    "plt.plot(epochs, val_acc, 'b', label='Validation acc')\n",
    "plt.title('Training and validaiton accuracy')\n",
    "plt.legend()\n",
    "\n",
    "plt.figure()\n",
    "\n",
    "plt.plot(epochs, loss, 'bo', label='Training loss')\n",
    "plt.plot(epochs, val_loss, 'b', label='Validation loss')\n",
    "plt.title('Training and validaiton loss')\n",
    "plt.legend()\n",
    "\n",
    "plt.show()"
   ]
  },
  {
   "cell_type": "markdown",
   "id": "992c2c31",
   "metadata": {},
   "source": [
    "### 테스트 데이터 토큰화"
   ]
  },
  {
   "cell_type": "code",
   "execution_count": 37,
   "id": "bfb4ecec",
   "metadata": {},
   "outputs": [
    {
     "name": "stdout",
     "output_type": "stream",
     "text": [
      "IMDB datasets load complete\n"
     ]
    }
   ],
   "source": [
    "test_dir = os.path.join(imdb_dir, 'test')\n",
    "\n",
    "labels = []\n",
    "texts = []\n",
    "\n",
    "for label_type in ['neg', 'pos']:\n",
    "    dir_name = os.path.join(test_dir, label_type)\n",
    "    for fname in sorted(os.listdir(dir_name)):\n",
    "        if fname[-4:] == '.txt':\n",
    "            f = open(os.path.join(dir_name, fname), encoding='utf8')\n",
    "            texts.append(f.read())\n",
    "            f.close()\n",
    "            if label_type == 'neg':\n",
    "                labels.append(0)\n",
    "            else:\n",
    "                labels.append(1)\n",
    "            print(f'{fname} complete.', end='\\r')\n",
    "print('IMDB datasets load complete')"
   ]
  },
  {
   "cell_type": "code",
   "execution_count": 38,
   "id": "233f48ac",
   "metadata": {},
   "outputs": [],
   "source": [
    "seqences = tokenizer.texts_to_sequences(texts)\n",
    "x_test = pad_sequences(seqences, maxlen=maxlen)\n",
    "y_test = np.asarray(labels)"
   ]
  },
  {
   "cell_type": "markdown",
   "id": "4c0a14f5",
   "metadata": {},
   "source": [
    "### 테스트 세트에서 모델 평가하기"
   ]
  },
  {
   "cell_type": "code",
   "execution_count": 39,
   "id": "59e69bfa",
   "metadata": {},
   "outputs": [
    {
     "name": "stdout",
     "output_type": "stream",
     "text": [
      "782/782 [==============================] - 1s 2ms/step - loss: 0.6987 - accuracy: 0.5174\n"
     ]
    },
    {
     "data": {
      "text/plain": [
       "[0.6986676454544067, 0.5174400210380554]"
      ]
     },
     "execution_count": 39,
     "metadata": {},
     "output_type": "execute_result"
    }
   ],
   "source": [
    "model.load_weights('../models/pre_trained_glove_model.h5')\n",
    "model.evaluate(x_test, y_test)"
   ]
  },
  {
   "cell_type": "code",
   "execution_count": null,
   "id": "1cdf594d",
   "metadata": {},
   "outputs": [],
   "source": []
  }
 ],
 "metadata": {
  "kernelspec": {
   "display_name": "Python Multi",
   "language": "python",
   "name": "multi"
  },
  "language_info": {
   "codemirror_mode": {
    "name": "ipython",
    "version": 3
   },
   "file_extension": ".py",
   "mimetype": "text/x-python",
   "name": "python",
   "nbconvert_exporter": "python",
   "pygments_lexer": "ipython3",
   "version": "3.7.6"
  },
  "toc": {
   "base_numbering": 1,
   "nav_menu": {},
   "number_sections": false,
   "sideBar": true,
   "skip_h1_title": false,
   "title_cell": "Table of Contents",
   "title_sidebar": "Contents",
   "toc_cell": false,
   "toc_position": {},
   "toc_section_display": true,
   "toc_window_display": false
  }
 },
 "nbformat": 4,
 "nbformat_minor": 5
}
