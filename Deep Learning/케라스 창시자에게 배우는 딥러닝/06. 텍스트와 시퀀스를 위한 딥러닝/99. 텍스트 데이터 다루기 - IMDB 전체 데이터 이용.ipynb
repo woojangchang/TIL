{
 "cells": [
  {
   "cell_type": "markdown",
   "id": "a8f0948c",
   "metadata": {},
   "source": [
    "# 01. 텍스트 데이터 다루기\n",
    "- IMDB 전체 데이터를 이용하여 학습 (사전 학습된 임베딩 사용 X)"
   ]
  },
  {
   "cell_type": "markdown",
   "id": "96e72db8",
   "metadata": {},
   "source": [
    "### IMDB 원본 데이터 전처리하기"
   ]
  },
  {
   "cell_type": "code",
   "execution_count": 1,
   "id": "5356aff7",
   "metadata": {},
   "outputs": [
    {
     "name": "stdout",
     "output_type": "stream",
     "text": [
      "IMDB datasets load complete\n"
     ]
    }
   ],
   "source": [
    "import os\n",
    "\n",
    "imdb_dir = '../datasets/aclImdb/'\n",
    "train_dir = os.path.join(imdb_dir, 'train')\n",
    "\n",
    "labels = []\n",
    "texts = []\n",
    "\n",
    "for label_type in ['neg', 'pos']:\n",
    "    dir_name = os.path.join(train_dir, label_type)\n",
    "    for fname in os.listdir(dir_name):\n",
    "        if fname[-4:] == '.txt':\n",
    "            f = open(os.path.join(dir_name, fname), encoding='utf8')\n",
    "            texts.append(f.read())\n",
    "            f.close()\n",
    "            if label_type == 'neg':\n",
    "                labels.append(0)\n",
    "            else:\n",
    "                labels.append(1)\n",
    "print('IMDB datasets load complete')"
   ]
  },
  {
   "cell_type": "markdown",
   "id": "a1526f92",
   "metadata": {},
   "source": [
    "### 데이터 토큰화"
   ]
  },
  {
   "cell_type": "code",
   "execution_count": 2,
   "id": "e0333934",
   "metadata": {},
   "outputs": [
    {
     "name": "stdout",
     "output_type": "stream",
     "text": [
      "88582개의 고유한 토큰을 찾았습니다.\n"
     ]
    }
   ],
   "source": [
    "from tensorflow.keras.preprocessing.text import Tokenizer\n",
    "from tensorflow.keras.preprocessing.sequence import pad_sequences\n",
    "import numpy as np\n",
    "\n",
    "maxlen = 100 # 100개 단어 이후는 버림\n",
    "training_samples = 20000 # 훈련 샘플 20000개\n",
    "validation_samples = 5000 # 검증 샘플 5000개\n",
    "max_words = 10000 # 가장 빈도가 높은 1만개의 단어만 사용\n",
    "\n",
    "tokenizer = Tokenizer(num_words=max_words)\n",
    "tokenizer.fit_on_texts(texts)\n",
    "seqences = tokenizer.texts_to_sequences(texts)\n",
    "\n",
    "word_index = tokenizer.word_index\n",
    "print(f'{len(word_index)}개의 고유한 토큰을 찾았습니다.')"
   ]
  },
  {
   "cell_type": "code",
   "execution_count": 3,
   "id": "7bfa07ad",
   "metadata": {},
   "outputs": [
    {
     "name": "stdout",
     "output_type": "stream",
     "text": [
      "데이터 텐서의 크기 : (25000, 100)\n",
      "레이블 텐서의 크기 : (25000,)\n"
     ]
    }
   ],
   "source": [
    "data = pad_sequences(seqences, maxlen=maxlen)\n",
    "labels = np.asarray(labels)\n",
    "print('데이터 텐서의 크기 :', data.shape)\n",
    "print('레이블 텐서의 크기 :', labels.shape)"
   ]
  },
  {
   "cell_type": "code",
   "execution_count": 4,
   "id": "9501dbd1",
   "metadata": {},
   "outputs": [],
   "source": [
    "# 데이터를 훈련 세트와 검증 세트로 분할\n",
    "# 샘플이 순서대로 있기 때문에 shuffle\n",
    "indices = np.arange(data.shape[0])\n",
    "np.random.shuffle(indices)\n",
    "data = data[indices]\n",
    "labels = labels[indices]\n",
    "\n",
    "x_train = data[:training_samples]\n",
    "y_train = labels[:training_samples]\n",
    "x_val = data[training_samples:training_samples + validation_samples]\n",
    "y_val = labels[training_samples:training_samples + validation_samples]"
   ]
  },
  {
   "cell_type": "markdown",
   "id": "6d859a1a",
   "metadata": {},
   "source": [
    "### 사전 훈련된 임베딩을 사용하지 않고 같은 모델 훈련하기\n",
    "- 단어 임베딩을 사용하는 것보다 정확도가 높음\n",
    "    - 단어 임베딩 사용 : 50% 중후반\n",
    "    - 단어 임베딩 사용 X, 적은 데이터 : 53%\n",
    "    - 단어 임베딩 사용 X, 많은 데이터 : 84%"
   ]
  },
  {
   "cell_type": "code",
   "execution_count": 5,
   "id": "8df63aaa",
   "metadata": {},
   "outputs": [],
   "source": [
    "embedding_dim = 100"
   ]
  },
  {
   "cell_type": "code",
   "execution_count": 6,
   "id": "c4d471d5",
   "metadata": {},
   "outputs": [
    {
     "name": "stdout",
     "output_type": "stream",
     "text": [
      "Model: \"sequential\"\n",
      "_________________________________________________________________\n",
      "Layer (type)                 Output Shape              Param #   \n",
      "=================================================================\n",
      "embedding (Embedding)        (None, 100, 100)          1000000   \n",
      "_________________________________________________________________\n",
      "flatten (Flatten)            (None, 10000)             0         \n",
      "_________________________________________________________________\n",
      "dense (Dense)                (None, 32)                320032    \n",
      "_________________________________________________________________\n",
      "dense_1 (Dense)              (None, 1)                 33        \n",
      "=================================================================\n",
      "Total params: 1,320,065\n",
      "Trainable params: 1,320,065\n",
      "Non-trainable params: 0\n",
      "_________________________________________________________________\n"
     ]
    }
   ],
   "source": [
    "from tensorflow.keras.models import Sequential\n",
    "from tensorflow.keras.layers import Flatten, Dense, Embedding\n",
    "\n",
    "model = Sequential()\n",
    "model.add(Embedding(max_words, embedding_dim, input_length=maxlen))\n",
    "model.add(Flatten())\n",
    "model.add(Dense(32, activation='relu'))\n",
    "model.add(Dense(1, activation='sigmoid'))\n",
    "model.summary()"
   ]
  },
  {
   "cell_type": "code",
   "execution_count": 7,
   "id": "d5575999",
   "metadata": {},
   "outputs": [
    {
     "name": "stdout",
     "output_type": "stream",
     "text": [
      "Epoch 1/10\n",
      "625/625 [==============================] - 3s 3ms/step - loss: 0.4353 - accuracy: 0.7847 - val_loss: 0.3368 - val_accuracy: 0.8538\n",
      "Epoch 2/10\n",
      "625/625 [==============================] - 2s 3ms/step - loss: 0.0917 - accuracy: 0.9690 - val_loss: 0.4907 - val_accuracy: 0.8242\n",
      "Epoch 3/10\n",
      "625/625 [==============================] - 2s 3ms/step - loss: 0.0077 - accuracy: 0.9988 - val_loss: 0.5798 - val_accuracy: 0.8386\n",
      "Epoch 4/10\n",
      "625/625 [==============================] - 2s 3ms/step - loss: 6.3834e-04 - accuracy: 1.0000 - val_loss: 0.6050 - val_accuracy: 0.8430\n",
      "Epoch 5/10\n",
      "625/625 [==============================] - 2s 3ms/step - loss: 2.5879e-04 - accuracy: 1.0000 - val_loss: 0.6292 - val_accuracy: 0.8434\n",
      "Epoch 6/10\n",
      "625/625 [==============================] - 2s 3ms/step - loss: 1.5144e-04 - accuracy: 1.0000 - val_loss: 0.6508 - val_accuracy: 0.8436\n",
      "Epoch 7/10\n",
      "625/625 [==============================] - 2s 3ms/step - loss: 9.5747e-05 - accuracy: 1.0000 - val_loss: 0.6710 - val_accuracy: 0.8440\n",
      "Epoch 8/10\n",
      "625/625 [==============================] - 2s 3ms/step - loss: 6.2531e-05 - accuracy: 1.0000 - val_loss: 0.6905 - val_accuracy: 0.8448\n",
      "Epoch 9/10\n",
      "625/625 [==============================] - 2s 3ms/step - loss: 4.1993e-05 - accuracy: 1.0000 - val_loss: 0.7098 - val_accuracy: 0.8456\n",
      "Epoch 10/10\n",
      "625/625 [==============================] - 2s 3ms/step - loss: 2.8572e-05 - accuracy: 1.0000 - val_loss: 0.7286 - val_accuracy: 0.8458\n"
     ]
    }
   ],
   "source": [
    "model.compile(optimizer='adam', loss='binary_crossentropy', metrics=['accuracy'])\n",
    "\n",
    "history = model.fit(x_train, y_train,\n",
    "                    epochs=10, batch_size=32,\n",
    "                    validation_data=(x_val, y_val))"
   ]
  },
  {
   "cell_type": "code",
   "execution_count": 11,
   "id": "9ecbb2e8",
   "metadata": {},
   "outputs": [],
   "source": [
    "model.save_weights('../models/imdb_model.h5')"
   ]
  },
  {
   "cell_type": "code",
   "execution_count": 8,
   "id": "bffe8f79",
   "metadata": {},
   "outputs": [
    {
     "data": {
      "image/png": "[encoded data removed]",
      "text/plain": [
       "<Figure size 432x288 with 1 Axes>"
      ]
     },
     "metadata": {
      "needs_background": "light"
     },
     "output_type": "display_data"
    },
    {
     "data": {
      "image/png": "[encoded data removed]",
      "text/plain": [
       "<Figure size 432x288 with 1 Axes>"
      ]
     },
     "metadata": {
      "needs_background": "light"
     },
     "output_type": "display_data"
    }
   ],
   "source": [
    "import matplotlib.pyplot as plt\n",
    "\n",
    "acc = history.history['accuracy']\n",
    "val_acc = history.history['val_accuracy']\n",
    "loss = history.history['loss']\n",
    "val_loss = history.history['val_loss']\n",
    "\n",
    "epochs = range(1, len(acc) + 1)\n",
    "\n",
    "plt.plot(epochs, acc, 'bo', label='Training acc')\n",
    "plt.plot(epochs, val_acc, 'b', label='Validation acc')\n",
    "plt.title('Training and validaiton accuracy')\n",
    "plt.legend()\n",
    "\n",
    "plt.figure()\n",
    "\n",
    "plt.plot(epochs, loss, 'bo', label='Training loss')\n",
    "plt.plot(epochs, val_loss, 'b', label='Validation loss')\n",
    "plt.title('Training and validaiton loss')\n",
    "plt.legend()\n",
    "\n",
    "plt.show()"
   ]
  },
  {
   "cell_type": "markdown",
   "id": "a27e13e8",
   "metadata": {},
   "source": [
    "### 테스트 데이터 토큰화"
   ]
  },
  {
   "cell_type": "code",
   "execution_count": 9,
   "id": "a2e7c448",
   "metadata": {},
   "outputs": [
    {
     "name": "stdout",
     "output_type": "stream",
     "text": [
      "IMDB datasets load complete\n"
     ]
    }
   ],
   "source": [
    "test_dir = os.path.join(imdb_dir, 'test')\n",
    "\n",
    "labels = []\n",
    "texts = []\n",
    "\n",
    "for label_type in ['neg', 'pos']:\n",
    "    dir_name = os.path.join(test_dir, label_type)\n",
    "    for fname in sorted(os.listdir(dir_name)):\n",
    "        if fname[-4:] == '.txt':\n",
    "            f = open(os.path.join(dir_name, fname), encoding='utf8')\n",
    "            texts.append(f.read())\n",
    "            f.close()\n",
    "            if label_type == 'neg':\n",
    "                labels.append(0)\n",
    "            else:\n",
    "                labels.append(1)\n",
    "print('IMDB datasets load complete')"
   ]
  },
  {
   "cell_type": "code",
   "execution_count": 10,
   "id": "476c1259",
   "metadata": {},
   "outputs": [],
   "source": [
    "seqences = tokenizer.texts_to_sequences(texts)\n",
    "x_test = pad_sequences(seqences, maxlen=maxlen)\n",
    "y_test = np.asarray(labels)"
   ]
  },
  {
   "cell_type": "markdown",
   "id": "d3e8528f",
   "metadata": {},
   "source": [
    "### 테스트 세트에서 모델 평가하기"
   ]
  },
  {
   "cell_type": "code",
   "execution_count": 12,
   "id": "661ca848",
   "metadata": {},
   "outputs": [
    {
     "name": "stdout",
     "output_type": "stream",
     "text": [
      "782/782 [==============================] - 1s 2ms/step - loss: 0.7389 - accuracy: 0.8386\n"
     ]
    },
    {
     "data": {
      "text/plain": [
       "[0.7389249205589294, 0.8385999798774719]"
      ]
     },
     "execution_count": 12,
     "metadata": {},
     "output_type": "execute_result"
    }
   ],
   "source": [
    "model.load_weights('../models/imdb_model.h5')\n",
    "model.evaluate(x_test, y_test)"
   ]
  },
  {
   "cell_type": "code",
   "execution_count": null,
   "id": "048298a9",
   "metadata": {},
   "outputs": [],
   "source": []
  }
 ],
 "metadata": {
  "kernelspec": {
   "display_name": "Python Multi",
   "language": "python",
   "name": "multi"
  },
  "language_info": {
   "codemirror_mode": {
    "name": "ipython",
    "version": 3
   },
   "file_extension": ".py",
   "mimetype": "text/x-python",
   "name": "python",
   "nbconvert_exporter": "python",
   "pygments_lexer": "ipython3",
   "version": "3.7.6"
  },
  "toc": {
   "base_numbering": 1,
   "nav_menu": {},
   "number_sections": false,
   "sideBar": true,
   "skip_h1_title": false,
   "title_cell": "Table of Contents",
   "title_sidebar": "Contents",
   "toc_cell": false,
   "toc_position": {},
   "toc_section_display": true,
   "toc_window_display": false
  }
 },
 "nbformat": 4,
 "nbformat_minor": 5
}
