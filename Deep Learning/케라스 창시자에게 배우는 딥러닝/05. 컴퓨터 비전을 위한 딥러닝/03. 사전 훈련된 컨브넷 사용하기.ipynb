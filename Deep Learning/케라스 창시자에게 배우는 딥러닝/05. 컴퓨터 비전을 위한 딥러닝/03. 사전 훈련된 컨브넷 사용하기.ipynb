{
 "cells": [
  {
   "cell_type": "markdown",
   "id": "bb62620c",
   "metadata": {},
   "source": [
    "# 5.3 사전 훈련된 컨브넷 사용하기\n",
    "- **사전 훈련된 네트워크**(pretrained network) : 대규모 이미지 분류 문제를 위해 대량의 데이터셋에서 미리 훈련되어 저장된 네트워크\n",
    "- 학습된 특성을 다른 문제에 적용할 수 있다는 점이 장점\n",
    "- VGG16 : 1400만개 이미지, 1000개 클래스로 이루어진 ImageNet 데이터셋에서 훈련된 대규모 컨브넷으로 2014년 개발\n",
    "    - 조금 오래되고 다른 모델보다 조금 무거우며 성능이 최고 수준은 아니지만 모델 구조가 이해하기 쉬움"
   ]
  },
  {
   "cell_type": "markdown",
   "id": "643b7575",
   "metadata": {},
   "source": [
    "## 5.3.1 특성 추출\n",
    "- **특성 추출**(feature extraction) : 사전에 학습된 네트워크의 표현을 사용하여 새로운 샘플에서 흥미로운 특성을 뽑아내는 것\n",
    "- 컨브넷 구조를 합성곱+풀링 층(**합성곱 기반 층**(convolution base)) + 완전 연결 분류기라고 생각\n",
    "- 특성 추출은 사전에 훈련된 네트워크의 합성곱 기반 층을 선택하여 새로운 데이터를 통과시키고 그 출력으로 새로운 분류기를 훈련\n",
    "    - 완전 연결 분류기는 재사용하지 않음\n",
    "    - 합성곱 층에 의해 학습된 표현이 더 일반적이기 때문\n",
    "    - 완전 연결 분류기는 모델이 훈련된 클래스 집합에 특화되어 있어 일반적이지 못함\n",
    "- 특정 합성곱 층에서 추출한 표현의 일반성 수준은 모델에 있는 층의 깊이에 따라 다름\n",
    "    - 하위 층 : 지역적이고 매우 일반적인 특성 맵 (에지, 색깔, 질감 등)\n",
    "    - 상위 층 : 추상적인 개념 (강아지 눈, 고양이 귀 등)\n",
    "    - 그러므로 새로운 데이터셋이 원본 모델이 훈련한 데이터셋과 많이 다르다면 하위 층 몇 개만 특성 추출에 사용하는 것이 좋음"
   ]
  },
  {
   "cell_type": "markdown",
   "id": "9dc12a12",
   "metadata": {},
   "source": [
    "### VGG16 합성곱 기반 층 만들기\n",
    "- `tensorflow.keras.applications` 모듈에서 사용 가능한 이미지 분류 모델\n",
    "    - Xception\n",
    "    - Inception V3\n",
    "    - ResNet50\n",
    "    - VGG16\n",
    "    - VGG19\n",
    "    - MobileNet 등\n",
    "- `VGG16` 함수의 매개 변수\n",
    "    - `weights` : 모델을 초기화할 가중치 체크포인트(checkpoint) 지정\n",
    "    - `include_top` : 네트워크의 최상위 완전 연결 분류기를 포함할지 안 할지 (클래스 1000개)\n",
    "    - `input_shape` : 네트워크에 주입할 이미지 텐서의 크기\n",
    "        - 값을 지정하지 않으면 어떤 크기의 입력도 처리할 수 있음\n",
    "        - `include_top`이 `True`이면 원본 모델과 동일한 `(224, 224, 3)`이 되어야 함"
   ]
  },
  {
   "cell_type": "code",
   "execution_count": 1,
   "id": "c4638c0f",
   "metadata": {},
   "outputs": [],
   "source": [
    "from tensorflow.keras.applications import VGG16\n",
    "\n",
    "conv_base = VGG16(weights='imagenet', include_top=False, input_shape=(150, 150, 3))"
   ]
  },
  {
   "cell_type": "code",
   "execution_count": 2,
   "id": "cb717ecd",
   "metadata": {},
   "outputs": [
    {
     "name": "stdout",
     "output_type": "stream",
     "text": [
      "Model: \"vgg16\"\n",
      "_________________________________________________________________\n",
      "Layer (type)                 Output Shape              Param #   \n",
      "=================================================================\n",
      "input_1 (InputLayer)         [(None, 150, 150, 3)]     0         \n",
      "_________________________________________________________________\n",
      "block1_conv1 (Conv2D)        (None, 150, 150, 64)      1792      \n",
      "_________________________________________________________________\n",
      "block1_conv2 (Conv2D)        (None, 150, 150, 64)      36928     \n",
      "_________________________________________________________________\n",
      "block1_pool (MaxPooling2D)   (None, 75, 75, 64)        0         \n",
      "_________________________________________________________________\n",
      "block2_conv1 (Conv2D)        (None, 75, 75, 128)       73856     \n",
      "_________________________________________________________________\n",
      "block2_conv2 (Conv2D)        (None, 75, 75, 128)       147584    \n",
      "_________________________________________________________________\n",
      "block2_pool (MaxPooling2D)   (None, 37, 37, 128)       0         \n",
      "_________________________________________________________________\n",
      "block3_conv1 (Conv2D)        (None, 37, 37, 256)       295168    \n",
      "_________________________________________________________________\n",
      "block3_conv2 (Conv2D)        (None, 37, 37, 256)       590080    \n",
      "_________________________________________________________________\n",
      "block3_conv3 (Conv2D)        (None, 37, 37, 256)       590080    \n",
      "_________________________________________________________________\n",
      "block3_pool (MaxPooling2D)   (None, 18, 18, 256)       0         \n",
      "_________________________________________________________________\n",
      "block4_conv1 (Conv2D)        (None, 18, 18, 512)       1180160   \n",
      "_________________________________________________________________\n",
      "block4_conv2 (Conv2D)        (None, 18, 18, 512)       2359808   \n",
      "_________________________________________________________________\n",
      "block4_conv3 (Conv2D)        (None, 18, 18, 512)       2359808   \n",
      "_________________________________________________________________\n",
      "block4_pool (MaxPooling2D)   (None, 9, 9, 512)         0         \n",
      "_________________________________________________________________\n",
      "block5_conv1 (Conv2D)        (None, 9, 9, 512)         2359808   \n",
      "_________________________________________________________________\n",
      "block5_conv2 (Conv2D)        (None, 9, 9, 512)         2359808   \n",
      "_________________________________________________________________\n",
      "block5_conv3 (Conv2D)        (None, 9, 9, 512)         2359808   \n",
      "_________________________________________________________________\n",
      "block5_pool (MaxPooling2D)   (None, 4, 4, 512)         0         \n",
      "=================================================================\n",
      "Total params: 14,714,688\n",
      "Trainable params: 14,714,688\n",
      "Non-trainable params: 0\n",
      "_________________________________________________________________\n"
     ]
    }
   ],
   "source": [
    "conv_base.summary()"
   ]
  },
  {
   "cell_type": "markdown",
   "id": "5fda03c3",
   "metadata": {},
   "source": [
    "1. 새로운 데이터셋을 합성곱 기반 층에 넣은 출력을 넘파이 배열로 저장한 후 독립된 완전 연결 분류기에 입력으로 사용\n",
    "    - 합성곱 기반 층을 한 번만 실행하면 되기 때문에 빠르고 비용이 적게 듬\n",
    "    - 그러나 데이터 증식을 사용할 수 없음\n",
    "2. 준비한 모델 위에 `Dense` 층을 쌓아 확장\n",
    "    - 비용이 많이 듬"
   ]
  },
  {
   "cell_type": "markdown",
   "id": "86af2d11",
   "metadata": {},
   "source": [
    "### 데이터 증식을 사용하지 않는 빠른 특성 추출"
   ]
  },
  {
   "cell_type": "code",
   "execution_count": 4,
   "id": "2d2b765e",
   "metadata": {},
   "outputs": [
    {
     "name": "stdout",
     "output_type": "stream",
     "text": [
      "Found 2000 images belonging to 2 classes.\n",
      "Found 1000 images belonging to 2 classes.\n",
      "Found 1000 images belonging to 2 classes.\n"
     ]
    }
   ],
   "source": [
    "import os\n",
    "import numpy as np\n",
    "from tensorflow.keras.preprocessing.image import ImageDataGenerator\n",
    "\n",
    "base_dir = '../datasets/cats_and_dogs_small/'\n",
    "train_dir = os.path.join(base_dir, 'train')\n",
    "validation_dir = os.path.join(base_dir, 'validation')\n",
    "test_dir = os.path.join(base_dir, 'test')\n",
    "\n",
    "datagen = ImageDataGenerator(rescale=1./255)\n",
    "batch_size = 20\n",
    "\n",
    "def extract_features(directory, sample_count):\n",
    "    features = np.zeros(shape=(sample_count, 4, 4, 512))\n",
    "    labels = np.zeros(shape=(sample_count))\n",
    "    generator = datagen.flow_from_directory(\n",
    "        directory,\n",
    "        target_size=(150, 150),\n",
    "        batch_size=batch_size,\n",
    "        class_mode='binary')\n",
    "    i = 0\n",
    "    for inputs_batch, labels_batch in generator:\n",
    "        features_batch = conv_base.predict(inputs_batch)\n",
    "        features[i * batch_size : (i + 1) * batch_size] = features_batch\n",
    "        labels[i * batch_size : (i + 1) * batch_size] = labels_batch\n",
    "        i += 1\n",
    "        \n",
    "        # 모든 이미지를 한 번씩 처리하고 나면 중지\n",
    "        if i * batch_size >= sample_count:\n",
    "            break\n",
    "    \n",
    "    return features, labels\n",
    "\n",
    "train_features, train_labels = extract_features(train_dir, 2000)\n",
    "validation_features, validation_labels = extract_features(validation_dir, 1000)\n",
    "test_features, test_labels = extract_features(test_dir, 1000)"
   ]
  },
  {
   "cell_type": "code",
   "execution_count": 5,
   "id": "64f34af7",
   "metadata": {},
   "outputs": [
    {
     "data": {
      "text/plain": [
       "(2000, 4, 4, 512)"
      ]
     },
     "execution_count": 5,
     "metadata": {},
     "output_type": "execute_result"
    }
   ],
   "source": [
    "train_features.shape"
   ]
  },
  {
   "cell_type": "code",
   "execution_count": 6,
   "id": "dca9d354",
   "metadata": {},
   "outputs": [],
   "source": [
    "train_features = np.reshape(train_features, (2000, 4 * 4 * 512))\n",
    "validation_features = np.reshape(validation_features, (1000, 4 * 4 * 512))\n",
    "test_features = np.reshape(test_features, (1000, 4 * 4 * 512))"
   ]
  },
  {
   "cell_type": "markdown",
   "id": "9ee8e30f",
   "metadata": {},
   "source": [
    "### 완전 연결 분류기를 정의하고 훈련하기\n",
    "- 2개의 `Dense` 층만 처리하면 되기 때문에 훈련이 매우 빠름"
   ]
  },
  {
   "cell_type": "code",
   "execution_count": 7,
   "id": "37506921",
   "metadata": {},
   "outputs": [
    {
     "name": "stdout",
     "output_type": "stream",
     "text": [
      "Epoch 1/30\n",
      "100/100 [==============================] - 1s 5ms/step - loss: 0.5732 - acc: 0.6805 - val_loss: 0.4346 - val_acc: 0.8350\n",
      "Epoch 2/30\n",
      "100/100 [==============================] - 0s 4ms/step - loss: 0.4223 - acc: 0.8065 - val_loss: 0.3604 - val_acc: 0.8540\n",
      "Epoch 3/30\n",
      "100/100 [==============================] - 0s 4ms/step - loss: 0.3593 - acc: 0.8470 - val_loss: 0.3266 - val_acc: 0.8760\n",
      "Epoch 4/30\n",
      "100/100 [==============================] - 0s 4ms/step - loss: 0.3192 - acc: 0.8675 - val_loss: 0.3052 - val_acc: 0.8750\n",
      "Epoch 5/30\n",
      "100/100 [==============================] - 0s 4ms/step - loss: 0.2869 - acc: 0.8810 - val_loss: 0.2853 - val_acc: 0.8940\n",
      "Epoch 6/30\n",
      "100/100 [==============================] - 0s 4ms/step - loss: 0.2630 - acc: 0.8960 - val_loss: 0.2739 - val_acc: 0.8960\n",
      "Epoch 7/30\n",
      "100/100 [==============================] - 0s 4ms/step - loss: 0.2532 - acc: 0.8990 - val_loss: 0.2689 - val_acc: 0.8920\n",
      "Epoch 8/30\n",
      "100/100 [==============================] - 0s 4ms/step - loss: 0.2339 - acc: 0.9110 - val_loss: 0.2638 - val_acc: 0.8920\n",
      "Epoch 9/30\n",
      "100/100 [==============================] - 0s 4ms/step - loss: 0.2216 - acc: 0.9120 - val_loss: 0.2563 - val_acc: 0.8970\n",
      "Epoch 10/30\n",
      "100/100 [==============================] - 0s 4ms/step - loss: 0.2073 - acc: 0.9220 - val_loss: 0.2526 - val_acc: 0.8970\n",
      "Epoch 11/30\n",
      "100/100 [==============================] - 0s 4ms/step - loss: 0.2060 - acc: 0.9195 - val_loss: 0.2493 - val_acc: 0.9000\n",
      "Epoch 12/30\n",
      "100/100 [==============================] - 0s 4ms/step - loss: 0.1989 - acc: 0.9265 - val_loss: 0.2471 - val_acc: 0.9010\n",
      "Epoch 13/30\n",
      "100/100 [==============================] - 0s 4ms/step - loss: 0.1828 - acc: 0.9320 - val_loss: 0.2569 - val_acc: 0.8970\n",
      "Epoch 14/30\n",
      "100/100 [==============================] - 0s 4ms/step - loss: 0.1752 - acc: 0.9300 - val_loss: 0.2483 - val_acc: 0.9000\n",
      "Epoch 15/30\n",
      "100/100 [==============================] - 0s 4ms/step - loss: 0.1711 - acc: 0.9415 - val_loss: 0.2439 - val_acc: 0.9050\n",
      "Epoch 16/30\n",
      "100/100 [==============================] - 0s 4ms/step - loss: 0.1649 - acc: 0.9445 - val_loss: 0.2427 - val_acc: 0.9000\n",
      "Epoch 17/30\n",
      "100/100 [==============================] - 0s 4ms/step - loss: 0.1547 - acc: 0.9415 - val_loss: 0.2398 - val_acc: 0.9020\n",
      "Epoch 18/30\n",
      "100/100 [==============================] - 0s 4ms/step - loss: 0.1503 - acc: 0.9490 - val_loss: 0.2412 - val_acc: 0.9040\n",
      "Epoch 19/30\n",
      "100/100 [==============================] - 0s 4ms/step - loss: 0.1393 - acc: 0.9510 - val_loss: 0.2391 - val_acc: 0.9030\n",
      "Epoch 20/30\n",
      "100/100 [==============================] - 0s 4ms/step - loss: 0.1332 - acc: 0.9545 - val_loss: 0.2478 - val_acc: 0.9000\n",
      "Epoch 21/30\n",
      "100/100 [==============================] - 0s 4ms/step - loss: 0.1289 - acc: 0.9555 - val_loss: 0.2390 - val_acc: 0.9040\n",
      "Epoch 22/30\n",
      "100/100 [==============================] - 0s 4ms/step - loss: 0.1243 - acc: 0.9545 - val_loss: 0.2406 - val_acc: 0.9000\n",
      "Epoch 23/30\n",
      "100/100 [==============================] - 0s 4ms/step - loss: 0.1251 - acc: 0.9575 - val_loss: 0.2437 - val_acc: 0.9000\n",
      "Epoch 24/30\n",
      "100/100 [==============================] - 0s 4ms/step - loss: 0.1179 - acc: 0.9615 - val_loss: 0.2423 - val_acc: 0.8990\n",
      "Epoch 25/30\n",
      "100/100 [==============================] - 0s 4ms/step - loss: 0.1135 - acc: 0.9630 - val_loss: 0.2465 - val_acc: 0.9020\n",
      "Epoch 26/30\n",
      "100/100 [==============================] - 0s 4ms/step - loss: 0.1113 - acc: 0.9565 - val_loss: 0.2461 - val_acc: 0.8990\n",
      "Epoch 27/30\n",
      "100/100 [==============================] - 0s 4ms/step - loss: 0.1029 - acc: 0.9650 - val_loss: 0.2464 - val_acc: 0.9020\n",
      "Epoch 28/30\n",
      "100/100 [==============================] - 0s 4ms/step - loss: 0.1012 - acc: 0.9695 - val_loss: 0.2436 - val_acc: 0.9010\n",
      "Epoch 29/30\n",
      "100/100 [==============================] - 0s 4ms/step - loss: 0.0987 - acc: 0.9675 - val_loss: 0.2474 - val_acc: 0.9020\n",
      "Epoch 30/30\n",
      "100/100 [==============================] - 0s 4ms/step - loss: 0.0941 - acc: 0.9700 - val_loss: 0.2478 - val_acc: 0.9040\n"
     ]
    }
   ],
   "source": [
    "from tensorflow.keras.models import Sequential\n",
    "from tensorflow.keras.layers import Dense, Dropout\n",
    "from tensorflow.keras.optimizers import RMSprop\n",
    "\n",
    "model = Sequential()\n",
    "model.add(Dense(256, activation='relu', input_dim = 4 * 4 * 512))\n",
    "model.add(Dropout(0.5))\n",
    "model.add(Dense(1, activation='sigmoid'))\n",
    "\n",
    "model.compile(optimizer=RMSprop(learning_rate=2e-5),\n",
    "             loss='binary_crossentropy',\n",
    "             metrics=['acc'])\n",
    "\n",
    "history = model.fit(train_features, train_labels,\n",
    "                    epochs=30, batch_size=20,\n",
    "                    validation_data=(validation_features, validation_labels))"
   ]
  },
  {
   "cell_type": "markdown",
   "id": "d258383c",
   "metadata": {},
   "source": [
    "### 결과 그래프 그리기\n",
    "- 약 90%의 검증 정확도에 도달\n",
    "- 드롭아웃을 사용했으나 이미지 증식을 사용하지 않았기 때문에 빠르게 과대적합 시작"
   ]
  },
  {
   "cell_type": "code",
   "execution_count": 8,
   "id": "6d4bd61d",
   "metadata": {},
   "outputs": [
    {
     "data": {
      "image/png": "[encoded data removed]",
      "text/plain": [
       "<Figure size 432x288 with 1 Axes>"
      ]
     },
     "metadata": {
      "needs_background": "light"
     },
     "output_type": "display_data"
    },
    {
     "data": {
      "image/png": "[encoded data removed]",
      "text/plain": [
       "<Figure size 432x288 with 1 Axes>"
      ]
     },
     "metadata": {
      "needs_background": "light"
     },
     "output_type": "display_data"
    }
   ],
   "source": [
    "import matplotlib.pyplot as plt\n",
    "\n",
    "acc = history.history['acc']\n",
    "val_acc = history.history['val_acc']\n",
    "loss = history.history['loss']\n",
    "val_loss = history.history['val_loss']\n",
    "\n",
    "epochs = range(len(acc))\n",
    "\n",
    "plt.plot(epochs, acc, 'bo', label='Training acc')\n",
    "plt.plot(epochs, val_acc, 'b', label='Validation acc')\n",
    "plt.title('Training and validation accuracy')\n",
    "plt.legend()\n",
    "\n",
    "plt.figure()\n",
    "\n",
    "plt.plot(epochs, loss, 'bo', label='Training loss')\n",
    "plt.plot(epochs, val_loss, 'b', label='Validation loss')\n",
    "plt.title('Training and validation loss')\n",
    "plt.legend()\n",
    "\n",
    "plt.show()"
   ]
  },
  {
   "cell_type": "markdown",
   "id": "91f3c2d3",
   "metadata": {},
   "source": [
    "### 데이터 증식을 사용한 특성 추출\n",
    "- 느리고 비용이 많이 들지만 데이터 증식 기법을 사용하여 과대적합을 막을 수 있음"
   ]
  },
  {
   "cell_type": "code",
   "execution_count": 9,
   "id": "a6d9ad91",
   "metadata": {},
   "outputs": [],
   "source": [
    "from tensorflow.keras.layers import Flatten\n",
    "\n",
    "model = Sequential()\n",
    "model.add(conv_base)\n",
    "model.add(Flatten())\n",
    "model.add(Dense(256, activation='relu'))\n",
    "model.add(Dense(1, activation='sigmoid'))"
   ]
  },
  {
   "cell_type": "code",
   "execution_count": 10,
   "id": "49132a7e",
   "metadata": {},
   "outputs": [
    {
     "name": "stdout",
     "output_type": "stream",
     "text": [
      "Model: \"sequential_1\"\n",
      "_________________________________________________________________\n",
      "Layer (type)                 Output Shape              Param #   \n",
      "=================================================================\n",
      "vgg16 (Functional)           (None, 4, 4, 512)         14714688  \n",
      "_________________________________________________________________\n",
      "flatten (Flatten)            (None, 8192)              0         \n",
      "_________________________________________________________________\n",
      "dense_2 (Dense)              (None, 256)               2097408   \n",
      "_________________________________________________________________\n",
      "dense_3 (Dense)              (None, 1)                 257       \n",
      "=================================================================\n",
      "Total params: 16,812,353\n",
      "Trainable params: 16,812,353\n",
      "Non-trainable params: 0\n",
      "_________________________________________________________________\n"
     ]
    }
   ],
   "source": [
    "model.summary()"
   ]
  },
  {
   "cell_type": "markdown",
   "id": "63daf8df",
   "metadata": {},
   "source": [
    "### 동결\n",
    "- 하나 이상의 층을 **동결**(freezing)한다는 것은 훈련하는 동안 가중치가 업데이트 되지 않도록 막는다는 뜻\n",
    "- 사전에 학습된 표현을 훼손하게 됨\n",
    "- 동결 후 추가된 2개의 층마다 2개의 가중치(행렬, 편향 벡터) 총 4개의 텐서만 훈련 됨"
   ]
  },
  {
   "cell_type": "code",
   "execution_count": 11,
   "id": "d71b86e8",
   "metadata": {},
   "outputs": [
    {
     "name": "stdout",
     "output_type": "stream",
     "text": [
      "conv_base를 동결하기 전 훈련되는 가중치의 수: 30\n"
     ]
    }
   ],
   "source": [
    "print('conv_base를 동결하기 전 훈련되는 가중치의 수:', \n",
    "      len(model.trainable_weights))"
   ]
  },
  {
   "cell_type": "code",
   "execution_count": 12,
   "id": "34d4dd0e",
   "metadata": {},
   "outputs": [
    {
     "name": "stdout",
     "output_type": "stream",
     "text": [
      "conv_base를 동결한 후 훈련되는 가중치의 수: 4\n"
     ]
    }
   ],
   "source": [
    "conv_base.trainable = False\n",
    "\n",
    "print('conv_base를 동결한 후 훈련되는 가중치의 수:', \n",
    "      len(model.trainable_weights))"
   ]
  },
  {
   "cell_type": "markdown",
   "id": "73a89e9e",
   "metadata": {},
   "source": [
    "### 동결된 합성곱 기반 층과 함께 모델을 엔드-투-엔드로 훈련하기"
   ]
  },
  {
   "cell_type": "code",
   "execution_count": 14,
   "id": "46e1c2df",
   "metadata": {},
   "outputs": [
    {
     "name": "stdout",
     "output_type": "stream",
     "text": [
      "Found 2000 images belonging to 2 classes.\n",
      "Found 1000 images belonging to 2 classes.\n",
      "Epoch 1/30\n",
      "100/100 - 12s - loss: 0.5498 - accuracy: 0.7320 - val_loss: 0.4185 - val_accuracy: 0.8170\n",
      "Epoch 2/30\n",
      "100/100 - 12s - loss: 0.4165 - accuracy: 0.8235 - val_loss: 0.3403 - val_accuracy: 0.8620\n",
      "Epoch 3/30\n",
      "100/100 - 12s - loss: 0.3571 - accuracy: 0.8580 - val_loss: 0.3047 - val_accuracy: 0.8800\n",
      "Epoch 4/30\n",
      "100/100 - 11s - loss: 0.3276 - accuracy: 0.8595 - val_loss: 0.2964 - val_accuracy: 0.8780\n",
      "Epoch 5/30\n",
      "100/100 - 12s - loss: 0.3139 - accuracy: 0.8645 - val_loss: 0.2782 - val_accuracy: 0.8860\n",
      "Epoch 6/30\n",
      "100/100 - 12s - loss: 0.2953 - accuracy: 0.8780 - val_loss: 0.2619 - val_accuracy: 0.8890\n",
      "Epoch 7/30\n",
      "100/100 - 12s - loss: 0.2758 - accuracy: 0.8885 - val_loss: 0.2574 - val_accuracy: 0.8920\n",
      "Epoch 8/30\n",
      "100/100 - 12s - loss: 0.2635 - accuracy: 0.8925 - val_loss: 0.2568 - val_accuracy: 0.8920\n",
      "Epoch 9/30\n",
      "100/100 - 12s - loss: 0.2529 - accuracy: 0.9020 - val_loss: 0.2482 - val_accuracy: 0.8970\n",
      "Epoch 10/30\n",
      "100/100 - 12s - loss: 0.2579 - accuracy: 0.8815 - val_loss: 0.2479 - val_accuracy: 0.8970\n",
      "Epoch 11/30\n",
      "100/100 - 12s - loss: 0.2487 - accuracy: 0.9045 - val_loss: 0.2568 - val_accuracy: 0.8940\n",
      "Epoch 12/30\n",
      "100/100 - 12s - loss: 0.2481 - accuracy: 0.8965 - val_loss: 0.2511 - val_accuracy: 0.8930\n",
      "Epoch 13/30\n",
      "100/100 - 12s - loss: 0.2482 - accuracy: 0.8955 - val_loss: 0.2370 - val_accuracy: 0.9060\n",
      "Epoch 14/30\n",
      "100/100 - 12s - loss: 0.2328 - accuracy: 0.9095 - val_loss: 0.2370 - val_accuracy: 0.9070\n",
      "Epoch 15/30\n",
      "100/100 - 12s - loss: 0.2379 - accuracy: 0.9045 - val_loss: 0.2401 - val_accuracy: 0.9010\n",
      "Epoch 16/30\n",
      "100/100 - 12s - loss: 0.2256 - accuracy: 0.9100 - val_loss: 0.2432 - val_accuracy: 0.9050\n",
      "Epoch 17/30\n",
      "100/100 - 12s - loss: 0.2194 - accuracy: 0.9155 - val_loss: 0.2360 - val_accuracy: 0.9070\n",
      "Epoch 18/30\n",
      "100/100 - 12s - loss: 0.2176 - accuracy: 0.9175 - val_loss: 0.2365 - val_accuracy: 0.9050\n",
      "Epoch 19/30\n",
      "100/100 - 12s - loss: 0.2201 - accuracy: 0.9055 - val_loss: 0.2334 - val_accuracy: 0.9050\n",
      "Epoch 20/30\n",
      "100/100 - 12s - loss: 0.2115 - accuracy: 0.9140 - val_loss: 0.2338 - val_accuracy: 0.9040\n",
      "Epoch 21/30\n",
      "100/100 - 12s - loss: 0.2162 - accuracy: 0.9100 - val_loss: 0.2428 - val_accuracy: 0.9030\n",
      "Epoch 22/30\n",
      "100/100 - 12s - loss: 0.2076 - accuracy: 0.9145 - val_loss: 0.2414 - val_accuracy: 0.9000\n",
      "Epoch 23/30\n",
      "100/100 - 12s - loss: 0.1994 - accuracy: 0.9235 - val_loss: 0.2358 - val_accuracy: 0.9040\n",
      "Epoch 24/30\n",
      "100/100 - 12s - loss: 0.1956 - accuracy: 0.9225 - val_loss: 0.2336 - val_accuracy: 0.9050\n",
      "Epoch 25/30\n",
      "100/100 - 12s - loss: 0.1980 - accuracy: 0.9260 - val_loss: 0.2333 - val_accuracy: 0.9060\n",
      "Epoch 26/30\n",
      "100/100 - 12s - loss: 0.1963 - accuracy: 0.9225 - val_loss: 0.2339 - val_accuracy: 0.9020\n",
      "Epoch 27/30\n",
      "100/100 - 12s - loss: 0.1899 - accuracy: 0.9210 - val_loss: 0.2413 - val_accuracy: 0.9080\n",
      "Epoch 28/30\n",
      "100/100 - 12s - loss: 0.1853 - accuracy: 0.9290 - val_loss: 0.2381 - val_accuracy: 0.9050\n",
      "Epoch 29/30\n",
      "100/100 - 12s - loss: 0.1798 - accuracy: 0.9310 - val_loss: 0.2454 - val_accuracy: 0.9030\n",
      "Epoch 30/30\n",
      "100/100 - 12s - loss: 0.1803 - accuracy: 0.9265 - val_loss: 0.2365 - val_accuracy: 0.9070\n",
      "Wall time: 5min 53s\n"
     ]
    }
   ],
   "source": [
    "%%time\n",
    "\n",
    "from tensorflow.keras.preprocessing.image import ImageDataGenerator\n",
    "\n",
    "train_datagen = ImageDataGenerator(\n",
    "      rescale=1./255,\n",
    "      rotation_range=20,\n",
    "      width_shift_range=0.1,\n",
    "      height_shift_range=0.1,\n",
    "      shear_range=0.1,\n",
    "      zoom_range=0.1,\n",
    "      horizontal_flip=True,\n",
    "      fill_mode='nearest')\n",
    "\n",
    "test_datagen = ImageDataGenerator(rescale=1./255)\n",
    "\n",
    "train_generator = train_datagen.flow_from_directory(\n",
    "        train_dir,\n",
    "        target_size=(150, 150),\n",
    "        batch_size=20,\n",
    "        class_mode='binary')\n",
    "\n",
    "validation_generator = test_datagen.flow_from_directory(\n",
    "        validation_dir,\n",
    "        target_size=(150, 150),\n",
    "        batch_size=20,\n",
    "        class_mode='binary')\n",
    "\n",
    "model.compile(loss='binary_crossentropy',\n",
    "              optimizer=RMSprop(learning_rate=2e-5),\n",
    "              metrics=['accuracy'])\n",
    "\n",
    "history = model.fit(\n",
    "      train_generator,\n",
    "      steps_per_epoch=100,\n",
    "      epochs=30,\n",
    "      validation_data=validation_generator,\n",
    "      validation_steps=50,\n",
    "      verbose=2)"
   ]
  },
  {
   "cell_type": "code",
   "execution_count": 15,
   "id": "2bbd87a6",
   "metadata": {},
   "outputs": [
    {
     "data": {
      "image/png": "[encoded data removed]",
      "text/plain": [
       "<Figure size 432x288 with 1 Axes>"
      ]
     },
     "metadata": {
      "needs_background": "light"
     },
     "output_type": "display_data"
    },
    {
     "data": {
      "image/png": "[encoded data removed]",
      "text/plain": [
       "<Figure size 432x288 with 1 Axes>"
      ]
     },
     "metadata": {
      "needs_background": "light"
     },
     "output_type": "display_data"
    }
   ],
   "source": [
    "acc = history.history['accuracy']\n",
    "val_acc = history.history['val_accuracy']\n",
    "loss = history.history['loss']\n",
    "val_loss = history.history['val_loss']\n",
    "\n",
    "epochs = range(len(acc))\n",
    "\n",
    "plt.plot(epochs, acc, 'bo', label='Training acc')\n",
    "plt.plot(epochs, val_acc, 'b', label='Validation acc')\n",
    "plt.title('Training and validation accuracy')\n",
    "plt.legend()\n",
    "\n",
    "plt.figure()\n",
    "\n",
    "plt.plot(epochs, loss, 'bo', label='Training loss')\n",
    "plt.plot(epochs, val_loss, 'b', label='Validation loss')\n",
    "plt.title('Training and validation loss')\n",
    "plt.legend()\n",
    "\n",
    "plt.show()"
   ]
  },
  {
   "cell_type": "markdown",
   "id": "5ac92e76",
   "metadata": {},
   "source": [
    "## 5.3.2 미세 조정\n",
    "- **미세 조정**(fine-tuning) : 동결 층 일부를 해제하고 훈련하는 것\n",
    "- 맨 위에 있는 분류기(완전 연결 분류기)가 훈련된 후에 합성곱 기반의 상위 층을 미세 조정\n",
    "    - 훈련되지 않은 상태에서 미세 조정을 하면 사전에 학습된 표현들이 망가지게 됨\n",
    "- 미세 조정 단계\n",
    "    1. 사전 훈련 네트워크 위에 새로운 네트워크 추가\n",
    "    2. 기반 네트워크 동결\n",
    "    3. 새로 추가한 네트워크 훈련\n",
    "    4. 기반 네트워크에서 일부 층의 동결을 해제\n",
    "    5. 동결을 해제한 층과 새로 추가한 층을 함께 훈련\n",
    "- VGG16 예제에서는 마지막 3개(`block5`) 합성곱 층 미세 조정\n",
    "- 더 많은 층을 미세조정하지 않는 이유\n",
    "    - 상위 층은 특화된 특성을 인코딩하므로 새로운 문제에 재활용하기 위해 상위 층을 미세 조정하는 것이 유리\n",
    "        - 하위 층으로 갈수록 미세 조정에 대한 효과가 감소\n",
    "    - 훈련해야 할 파라미터가 많을수록 과대적합의 위험이 커짐\n",
    "        - 1,500만 개의 파라미터를 작은 데이터셋으로 훈련하려고 하면 매우 위험함"
   ]
  },
  {
   "cell_type": "markdown",
   "id": "b6393f6a",
   "metadata": {},
   "source": [
    "### 특정 층까지 모든 층 동결하기"
   ]
  },
  {
   "cell_type": "code",
   "execution_count": 16,
   "id": "5312f79b",
   "metadata": {},
   "outputs": [],
   "source": [
    "conv_base.trainable = True\n",
    "\n",
    "set_trainable = False\n",
    "for layer in conv_base.layers:\n",
    "    if layer.name == 'block5_conv1':\n",
    "        set_trainable = True\n",
    "    layer.trainable = set_trainable"
   ]
  },
  {
   "cell_type": "markdown",
   "id": "7c649223",
   "metadata": {},
   "source": [
    "### 모델 미세 조정하기\n",
    "- 학습률을 낮춰 미세 조정하는 3개의 층에서 학습된 표현을 조금씩 수정"
   ]
  },
  {
   "cell_type": "code",
   "execution_count": 17,
   "id": "8892143e",
   "metadata": {},
   "outputs": [
    {
     "name": "stdout",
     "output_type": "stream",
     "text": [
      "Epoch 1/100\n",
      "100/100 [==============================] - 13s 115ms/step - loss: 0.2026 - accuracy: 0.9195 - val_loss: 0.2698 - val_accuracy: 0.8940\n",
      "Epoch 2/100\n",
      "100/100 [==============================] - 11s 113ms/step - loss: 0.1637 - accuracy: 0.9400 - val_loss: 0.2213 - val_accuracy: 0.9080\n",
      "Epoch 3/100\n",
      "100/100 [==============================] - 11s 114ms/step - loss: 0.1367 - accuracy: 0.9490 - val_loss: 0.2281 - val_accuracy: 0.9140\n",
      "Epoch 4/100\n",
      "100/100 [==============================] - 11s 114ms/step - loss: 0.1301 - accuracy: 0.9460 - val_loss: 0.2198 - val_accuracy: 0.9180\n",
      "Epoch 5/100\n",
      "100/100 [==============================] - 12s 116ms/step - loss: 0.0955 - accuracy: 0.9670 - val_loss: 0.2415 - val_accuracy: 0.9110\n",
      "Epoch 6/100\n",
      "100/100 [==============================] - 12s 120ms/step - loss: 0.1002 - accuracy: 0.9600 - val_loss: 0.2608 - val_accuracy: 0.9060\n",
      "Epoch 7/100\n",
      "100/100 [==============================] - 12s 122ms/step - loss: 0.0923 - accuracy: 0.9630 - val_loss: 0.2327 - val_accuracy: 0.9100\n",
      "Epoch 8/100\n",
      "100/100 [==============================] - 12s 119ms/step - loss: 0.0697 - accuracy: 0.9755 - val_loss: 0.2201 - val_accuracy: 0.9210\n",
      "Epoch 9/100\n",
      "100/100 [==============================] - 12s 119ms/step - loss: 0.0702 - accuracy: 0.9770 - val_loss: 0.2192 - val_accuracy: 0.9280\n",
      "Epoch 10/100\n",
      "100/100 [==============================] - 12s 120ms/step - loss: 0.0632 - accuracy: 0.9815 - val_loss: 0.2079 - val_accuracy: 0.9200\n",
      "Epoch 11/100\n",
      "100/100 [==============================] - 12s 119ms/step - loss: 0.0478 - accuracy: 0.9830 - val_loss: 0.2612 - val_accuracy: 0.9180\n",
      "Epoch 12/100\n",
      "100/100 [==============================] - 12s 119ms/step - loss: 0.0542 - accuracy: 0.9825 - val_loss: 0.2432 - val_accuracy: 0.9240\n",
      "Epoch 13/100\n",
      "100/100 [==============================] - 12s 119ms/step - loss: 0.0468 - accuracy: 0.9855 - val_loss: 0.2266 - val_accuracy: 0.9220\n",
      "Epoch 14/100\n",
      "100/100 [==============================] - 12s 119ms/step - loss: 0.0432 - accuracy: 0.9840 - val_loss: 0.2367 - val_accuracy: 0.9250\n",
      "Epoch 15/100\n",
      "100/100 [==============================] - 12s 119ms/step - loss: 0.0343 - accuracy: 0.9895 - val_loss: 0.2472 - val_accuracy: 0.9250\n",
      "Epoch 16/100\n",
      "100/100 [==============================] - 12s 119ms/step - loss: 0.0282 - accuracy: 0.9895 - val_loss: 0.2143 - val_accuracy: 0.9350\n",
      "Epoch 17/100\n",
      "100/100 [==============================] - 12s 118ms/step - loss: 0.0271 - accuracy: 0.9910 - val_loss: 0.2669 - val_accuracy: 0.9210\n",
      "Epoch 18/100\n",
      "100/100 [==============================] - 12s 119ms/step - loss: 0.0288 - accuracy: 0.9900 - val_loss: 0.2529 - val_accuracy: 0.9290\n",
      "Epoch 19/100\n",
      "100/100 [==============================] - 12s 120ms/step - loss: 0.0199 - accuracy: 0.9920 - val_loss: 0.2873 - val_accuracy: 0.9210\n",
      "Epoch 20/100\n",
      "100/100 [==============================] - 12s 119ms/step - loss: 0.0181 - accuracy: 0.9945 - val_loss: 0.2421 - val_accuracy: 0.9320\n",
      "Epoch 21/100\n",
      "100/100 [==============================] - 12s 119ms/step - loss: 0.0202 - accuracy: 0.9930 - val_loss: 0.3388 - val_accuracy: 0.9100\n",
      "Epoch 22/100\n",
      "100/100 [==============================] - 12s 120ms/step - loss: 0.0210 - accuracy: 0.9935 - val_loss: 0.2654 - val_accuracy: 0.9250\n",
      "Epoch 23/100\n",
      "100/100 [==============================] - 12s 119ms/step - loss: 0.0141 - accuracy: 0.9970 - val_loss: 0.3020 - val_accuracy: 0.9180\n",
      "Epoch 24/100\n",
      "100/100 [==============================] - 12s 121ms/step - loss: 0.0185 - accuracy: 0.9925 - val_loss: 0.2583 - val_accuracy: 0.9280\n",
      "Epoch 25/100\n",
      "100/100 [==============================] - 12s 120ms/step - loss: 0.0159 - accuracy: 0.9960 - val_loss: 0.2783 - val_accuracy: 0.9310\n",
      "Epoch 26/100\n",
      "100/100 [==============================] - 12s 119ms/step - loss: 0.0233 - accuracy: 0.9920 - val_loss: 0.2531 - val_accuracy: 0.9320\n",
      "Epoch 27/100\n",
      "100/100 [==============================] - 12s 120ms/step - loss: 0.0223 - accuracy: 0.9940 - val_loss: 0.2735 - val_accuracy: 0.9280\n",
      "Epoch 28/100\n",
      "100/100 [==============================] - 12s 122ms/step - loss: 0.0149 - accuracy: 0.9955 - val_loss: 0.3554 - val_accuracy: 0.9160\n",
      "Epoch 29/100\n",
      "100/100 [==============================] - 12s 120ms/step - loss: 0.0127 - accuracy: 0.9955 - val_loss: 0.2787 - val_accuracy: 0.9330\n",
      "Epoch 30/100\n",
      "100/100 [==============================] - 12s 122ms/step - loss: 0.0118 - accuracy: 0.9970 - val_loss: 0.2843 - val_accuracy: 0.9320\n",
      "Epoch 31/100\n",
      "100/100 [==============================] - 12s 120ms/step - loss: 0.0093 - accuracy: 0.9970 - val_loss: 0.2911 - val_accuracy: 0.9320\n",
      "Epoch 32/100\n",
      "100/100 [==============================] - 12s 118ms/step - loss: 0.0138 - accuracy: 0.9960 - val_loss: 0.2611 - val_accuracy: 0.9350\n",
      "Epoch 33/100\n",
      "100/100 [==============================] - 12s 117ms/step - loss: 0.0133 - accuracy: 0.9970 - val_loss: 0.2783 - val_accuracy: 0.9280\n",
      "Epoch 34/100\n",
      "100/100 [==============================] - 12s 118ms/step - loss: 0.0111 - accuracy: 0.9960 - val_loss: 0.2898 - val_accuracy: 0.9290\n",
      "Epoch 35/100\n",
      "100/100 [==============================] - 12s 116ms/step - loss: 0.0086 - accuracy: 0.9975 - val_loss: 0.2974 - val_accuracy: 0.9320\n",
      "Epoch 36/100\n",
      "100/100 [==============================] - 12s 116ms/step - loss: 0.0088 - accuracy: 0.9980 - val_loss: 0.3492 - val_accuracy: 0.9220\n",
      "Epoch 37/100\n",
      "100/100 [==============================] - 12s 120ms/step - loss: 0.0071 - accuracy: 0.9970 - val_loss: 0.2886 - val_accuracy: 0.9330\n",
      "Epoch 38/100\n",
      "100/100 [==============================] - 12s 122ms/step - loss: 0.0098 - accuracy: 0.9975 - val_loss: 0.3831 - val_accuracy: 0.9160\n",
      "Epoch 39/100\n",
      "100/100 [==============================] - 12s 120ms/step - loss: 0.0113 - accuracy: 0.9975 - val_loss: 0.2831 - val_accuracy: 0.9310\n",
      "Epoch 40/100\n",
      "100/100 [==============================] - 12s 121ms/step - loss: 0.0076 - accuracy: 0.9980 - val_loss: 0.3613 - val_accuracy: 0.9250\n",
      "Epoch 41/100\n",
      "100/100 [==============================] - 12s 121ms/step - loss: 0.0096 - accuracy: 0.9960 - val_loss: 0.3089 - val_accuracy: 0.9290\n",
      "Epoch 42/100\n",
      "100/100 [==============================] - 12s 120ms/step - loss: 0.0062 - accuracy: 0.9975 - val_loss: 0.2993 - val_accuracy: 0.9350\n",
      "Epoch 43/100\n",
      "100/100 [==============================] - 12s 122ms/step - loss: 0.0074 - accuracy: 0.9975 - val_loss: 0.3179 - val_accuracy: 0.9300\n",
      "Epoch 44/100\n",
      "100/100 [==============================] - 12s 120ms/step - loss: 0.0094 - accuracy: 0.9985 - val_loss: 0.3039 - val_accuracy: 0.9370\n",
      "Epoch 45/100\n",
      "100/100 [==============================] - 12s 121ms/step - loss: 0.0090 - accuracy: 0.9970 - val_loss: 0.3219 - val_accuracy: 0.9310\n",
      "Epoch 46/100\n",
      "100/100 [==============================] - 12s 121ms/step - loss: 0.0073 - accuracy: 0.9975 - val_loss: 0.3200 - val_accuracy: 0.9340\n",
      "Epoch 47/100\n",
      "100/100 [==============================] - 12s 120ms/step - loss: 0.0048 - accuracy: 0.9980 - val_loss: 0.3450 - val_accuracy: 0.9290\n",
      "Epoch 48/100\n",
      "100/100 [==============================] - 12s 121ms/step - loss: 0.0072 - accuracy: 0.9980 - val_loss: 0.3324 - val_accuracy: 0.9300\n",
      "Epoch 49/100\n",
      "100/100 [==============================] - 12s 122ms/step - loss: 0.0043 - accuracy: 0.9985 - val_loss: 0.3478 - val_accuracy: 0.9280\n",
      "Epoch 50/100\n",
      "100/100 [==============================] - 12s 119ms/step - loss: 0.0046 - accuracy: 0.9980 - val_loss: 0.3157 - val_accuracy: 0.9360\n",
      "Epoch 51/100\n",
      "100/100 [==============================] - 12s 121ms/step - loss: 0.0043 - accuracy: 0.9985 - val_loss: 0.3576 - val_accuracy: 0.9330\n",
      "Epoch 52/100\n",
      "100/100 [==============================] - 12s 122ms/step - loss: 0.0082 - accuracy: 0.9975 - val_loss: 0.4265 - val_accuracy: 0.9180\n",
      "Epoch 53/100\n",
      "100/100 [==============================] - 12s 120ms/step - loss: 0.0015 - accuracy: 0.9995 - val_loss: 0.3885 - val_accuracy: 0.9320\n",
      "Epoch 54/100\n",
      "100/100 [==============================] - 12s 121ms/step - loss: 0.0062 - accuracy: 0.9975 - val_loss: 0.3498 - val_accuracy: 0.9400\n",
      "Epoch 55/100\n",
      "100/100 [==============================] - 12s 122ms/step - loss: 0.0031 - accuracy: 0.9990 - val_loss: 0.3321 - val_accuracy: 0.9320\n",
      "Epoch 56/100\n"
     ]
    },
    {
     "name": "stdout",
     "output_type": "stream",
     "text": [
      "100/100 [==============================] - 12s 120ms/step - loss: 0.0027 - accuracy: 0.9995 - val_loss: 0.3266 - val_accuracy: 0.9310\n",
      "Epoch 57/100\n",
      "100/100 [==============================] - 12s 121ms/step - loss: 0.0037 - accuracy: 0.9990 - val_loss: 0.3334 - val_accuracy: 0.9350\n",
      "Epoch 58/100\n",
      "100/100 [==============================] - 12s 122ms/step - loss: 0.0032 - accuracy: 0.9990 - val_loss: 0.3448 - val_accuracy: 0.9350\n",
      "Epoch 59/100\n",
      "100/100 [==============================] - 12s 119ms/step - loss: 0.0093 - accuracy: 0.9980 - val_loss: 0.3235 - val_accuracy: 0.9340\n",
      "Epoch 60/100\n",
      "100/100 [==============================] - 12s 121ms/step - loss: 0.0035 - accuracy: 0.9980 - val_loss: 0.3303 - val_accuracy: 0.9360\n",
      "Epoch 61/100\n",
      "100/100 [==============================] - 12s 120ms/step - loss: 0.0026 - accuracy: 0.9990 - val_loss: 0.3400 - val_accuracy: 0.9360\n",
      "Epoch 62/100\n",
      "100/100 [==============================] - 12s 122ms/step - loss: 0.0026 - accuracy: 0.9985 - val_loss: 0.3659 - val_accuracy: 0.9310\n",
      "Epoch 63/100\n",
      "100/100 [==============================] - 12s 121ms/step - loss: 0.0079 - accuracy: 0.9975 - val_loss: 0.3371 - val_accuracy: 0.9300\n",
      "Epoch 64/100\n",
      "100/100 [==============================] - 12s 122ms/step - loss: 0.0023 - accuracy: 0.9995 - val_loss: 0.3238 - val_accuracy: 0.9410\n",
      "Epoch 65/100\n",
      "100/100 [==============================] - 12s 121ms/step - loss: 0.0016 - accuracy: 0.9995 - val_loss: 0.3486 - val_accuracy: 0.9290\n",
      "Epoch 66/100\n",
      "100/100 [==============================] - 12s 120ms/step - loss: 0.0050 - accuracy: 0.9985 - val_loss: 0.3515 - val_accuracy: 0.9260\n",
      "Epoch 67/100\n",
      "100/100 [==============================] - 12s 121ms/step - loss: 0.0079 - accuracy: 0.9980 - val_loss: 0.3505 - val_accuracy: 0.9310\n",
      "Epoch 68/100\n",
      "100/100 [==============================] - 12s 120ms/step - loss: 0.0045 - accuracy: 0.9985 - val_loss: 0.3416 - val_accuracy: 0.9370\n",
      "Epoch 69/100\n",
      "100/100 [==============================] - 12s 122ms/step - loss: 0.0049 - accuracy: 0.9975 - val_loss: 0.4966 - val_accuracy: 0.9100\n",
      "Epoch 70/100\n",
      "100/100 [==============================] - 12s 122ms/step - loss: 0.0076 - accuracy: 0.9970 - val_loss: 0.3346 - val_accuracy: 0.9300\n",
      "Epoch 71/100\n",
      "100/100 [==============================] - 12s 120ms/step - loss: 0.0029 - accuracy: 0.9990 - val_loss: 0.3288 - val_accuracy: 0.9340\n",
      "Epoch 72/100\n",
      "100/100 [==============================] - 12s 122ms/step - loss: 0.0039 - accuracy: 0.9990 - val_loss: 0.9748 - val_accuracy: 0.8790\n",
      "Epoch 73/100\n",
      "100/100 [==============================] - 12s 122ms/step - loss: 0.0024 - accuracy: 0.9990 - val_loss: 0.3535 - val_accuracy: 0.9340\n",
      "Epoch 74/100\n",
      "100/100 [==============================] - 12s 120ms/step - loss: 0.0048 - accuracy: 0.9990 - val_loss: 0.5731 - val_accuracy: 0.9080\n",
      "Epoch 75/100\n",
      "100/100 [==============================] - 12s 121ms/step - loss: 0.0066 - accuracy: 0.9965 - val_loss: 0.3557 - val_accuracy: 0.9360\n",
      "Epoch 76/100\n",
      "100/100 [==============================] - 12s 118ms/step - loss: 0.0032 - accuracy: 0.9990 - val_loss: 0.4067 - val_accuracy: 0.9280\n",
      "Epoch 77/100\n",
      "100/100 [==============================] - 12s 119ms/step - loss: 0.0019 - accuracy: 0.9995 - val_loss: 0.4174 - val_accuracy: 0.9310\n",
      "Epoch 78/100\n",
      "100/100 [==============================] - 12s 119ms/step - loss: 0.0030 - accuracy: 0.9990 - val_loss: 0.4128 - val_accuracy: 0.9280\n",
      "Epoch 79/100\n",
      "100/100 [==============================] - 12s 119ms/step - loss: 0.0013 - accuracy: 0.9995 - val_loss: 0.3963 - val_accuracy: 0.9330\n",
      "Epoch 80/100\n",
      "100/100 [==============================] - 12s 118ms/step - loss: 0.0020 - accuracy: 0.9990 - val_loss: 0.3898 - val_accuracy: 0.9320\n",
      "Epoch 81/100\n",
      "100/100 [==============================] - 12s 119ms/step - loss: 0.0065 - accuracy: 0.9970 - val_loss: 0.4184 - val_accuracy: 0.9290\n",
      "Epoch 82/100\n",
      "100/100 [==============================] - 12s 119ms/step - loss: 0.0037 - accuracy: 0.9990 - val_loss: 0.4187 - val_accuracy: 0.9290\n",
      "Epoch 83/100\n",
      "100/100 [==============================] - 12s 118ms/step - loss: 0.0026 - accuracy: 0.9990 - val_loss: 0.3692 - val_accuracy: 0.9290\n",
      "Epoch 84/100\n",
      "100/100 [==============================] - 12s 120ms/step - loss: 0.0010 - accuracy: 1.0000 - val_loss: 0.4020 - val_accuracy: 0.9320\n",
      "Epoch 85/100\n",
      "100/100 [==============================] - 12s 119ms/step - loss: 0.0027 - accuracy: 0.9990 - val_loss: 0.5325 - val_accuracy: 0.9140\n",
      "Epoch 86/100\n",
      "100/100 [==============================] - 12s 120ms/step - loss: 0.0035 - accuracy: 0.9990 - val_loss: 0.4380 - val_accuracy: 0.9230\n",
      "Epoch 87/100\n",
      "100/100 [==============================] - 12s 121ms/step - loss: 0.0040 - accuracy: 0.9985 - val_loss: 0.3958 - val_accuracy: 0.9300\n",
      "Epoch 88/100\n",
      "100/100 [==============================] - 12s 118ms/step - loss: 0.0021 - accuracy: 0.9990 - val_loss: 0.4287 - val_accuracy: 0.9330\n",
      "Epoch 89/100\n",
      "100/100 [==============================] - 12s 116ms/step - loss: 0.0033 - accuracy: 0.9995 - val_loss: 0.4269 - val_accuracy: 0.9270\n",
      "Epoch 90/100\n",
      "100/100 [==============================] - 13s 125ms/step - loss: 2.8110e-04 - accuracy: 1.0000 - val_loss: 0.4610 - val_accuracy: 0.9250\n",
      "Epoch 91/100\n",
      "100/100 [==============================] - 12s 119ms/step - loss: 5.4252e-04 - accuracy: 1.0000 - val_loss: 0.4698 - val_accuracy: 0.9360\n",
      "Epoch 92/100\n",
      "100/100 [==============================] - 12s 118ms/step - loss: 0.0081 - accuracy: 0.9980 - val_loss: 0.5564 - val_accuracy: 0.9220\n",
      "Epoch 93/100\n",
      "100/100 [==============================] - 12s 120ms/step - loss: 0.0049 - accuracy: 0.9985 - val_loss: 0.3890 - val_accuracy: 0.9370\n",
      "Epoch 94/100\n",
      "100/100 [==============================] - 12s 119ms/step - loss: 0.0042 - accuracy: 0.9990 - val_loss: 0.4201 - val_accuracy: 0.9310\n",
      "Epoch 95/100\n",
      "100/100 [==============================] - 12s 118ms/step - loss: 8.0647e-04 - accuracy: 1.0000 - val_loss: 0.5244 - val_accuracy: 0.9230\n",
      "Epoch 96/100\n",
      "100/100 [==============================] - 12s 119ms/step - loss: 4.2983e-04 - accuracy: 1.0000 - val_loss: 0.4492 - val_accuracy: 0.9300\n",
      "Epoch 97/100\n",
      "100/100 [==============================] - 12s 119ms/step - loss: 0.0101 - accuracy: 0.9985 - val_loss: 0.4793 - val_accuracy: 0.9280\n",
      "Epoch 98/100\n",
      "100/100 [==============================] - 12s 118ms/step - loss: 4.8477e-04 - accuracy: 1.0000 - val_loss: 0.4135 - val_accuracy: 0.9280\n",
      "Epoch 99/100\n",
      "100/100 [==============================] - 12s 119ms/step - loss: 9.7459e-04 - accuracy: 0.9995 - val_loss: 0.4336 - val_accuracy: 0.9320\n",
      "Epoch 100/100\n",
      "100/100 [==============================] - 12s 119ms/step - loss: 0.0015 - accuracy: 0.9995 - val_loss: 0.4072 - val_accuracy: 0.9340\n",
      "Wall time: 20min 3s\n"
     ]
    }
   ],
   "source": [
    "%%time\n",
    "\n",
    "model.compile(loss='binary_crossentropy',\n",
    "              optimizer=RMSprop(learning_rate=1e-5),\n",
    "              metrics=['accuracy'])\n",
    "\n",
    "history = model.fit(\n",
    "    train_generator,\n",
    "    steps_per_epoch=100,\n",
    "    epochs=100,\n",
    "    validation_data=validation_generator,\n",
    "    validation_steps=50)"
   ]
  },
  {
   "cell_type": "code",
   "execution_count": 18,
   "id": "d27f0856",
   "metadata": {},
   "outputs": [
    {
     "data": {
      "image/png": "[encoded data removed]",
      "text/plain": [
       "<Figure size 432x288 with 1 Axes>"
      ]
     },
     "metadata": {
      "needs_background": "light"
     },
     "output_type": "display_data"
    },
    {
     "data": {
      "image/png": "[encoded data removed]",
      "text/plain": [
       "<Figure size 432x288 with 1 Axes>"
      ]
     },
     "metadata": {
      "needs_background": "light"
     },
     "output_type": "display_data"
    }
   ],
   "source": [
    "acc = history.history['accuracy']\n",
    "val_acc = history.history['val_accuracy']\n",
    "loss = history.history['loss']\n",
    "val_loss = history.history['val_loss']\n",
    "\n",
    "epochs = range(len(acc))\n",
    "\n",
    "plt.plot(epochs, acc, 'bo', label='Training acc')\n",
    "plt.plot(epochs, val_acc, 'b', label='Validation acc')\n",
    "plt.title('Training and validation accuracy')\n",
    "plt.legend()\n",
    "\n",
    "plt.figure()\n",
    "\n",
    "plt.plot(epochs, loss, 'bo', label='Training loss')\n",
    "plt.plot(epochs, val_loss, 'b', label='Validation loss')\n",
    "plt.title('Training and validation loss')\n",
    "plt.legend()\n",
    "\n",
    "plt.show()"
   ]
  },
  {
   "cell_type": "markdown",
   "id": "9e0dfa41",
   "metadata": {},
   "source": [
    "### 부드러운 그래프 그리기\n",
    "- **지수 이동 평균**(exponential moving averages)으로 부드럽게 표현"
   ]
  },
  {
   "cell_type": "code",
   "execution_count": 19,
   "id": "ad247f08",
   "metadata": {},
   "outputs": [
    {
     "data": {
      "image/png": "[encoded data removed]",
      "text/plain": [
       "<Figure size 432x288 with 1 Axes>"
      ]
     },
     "metadata": {
      "needs_background": "light"
     },
     "output_type": "display_data"
    },
    {
     "data": {
      "image/png": "[encoded data removed]",
      "text/plain": [
       "<Figure size 432x288 with 1 Axes>"
      ]
     },
     "metadata": {
      "needs_background": "light"
     },
     "output_type": "display_data"
    }
   ],
   "source": [
    "def smooth_curve(points, factor=0.8):\n",
    "    smoothed_points = []\n",
    "    for point in points:\n",
    "        if smoothed_points:\n",
    "            previous = smoothed_points[-1]\n",
    "            smoothed_points.append(previous * factor + point * (1 - factor))\n",
    "        else:\n",
    "            smoothed_points.append(point)\n",
    "    return smoothed_points\n",
    "\n",
    "plt.plot(epochs, smooth_curve(acc), 'bo', label='Smoothed training acc')\n",
    "plt.plot(epochs, smooth_curve(val_acc), 'b', label='Smoothed validation acc')\n",
    "plt.title('Training and validation accuracy')\n",
    "plt.legend()\n",
    "\n",
    "plt.figure()\n",
    "\n",
    "plt.plot(epochs, smooth_curve(loss), 'bo', label='Smoothed training loss')\n",
    "plt.plot(epochs, smooth_curve(val_loss), 'b', label='Smoothed validation loss')\n",
    "plt.title('Training and validation loss')\n",
    "plt.legend()\n",
    "\n",
    "plt.show()"
   ]
  },
  {
   "cell_type": "markdown",
   "id": "a0458584",
   "metadata": {},
   "source": [
    "- 정확도가 미세 조정 전 90%에서 미세 조정 후 94%로 상승\n",
    "- 손실이 감소하지 않았는데 정확도는 안정된 이유 : 정확도에 영향을 미치는 것은 손실 값의 분포이지 평균이 아니기 때문\n",
    "- 모델이 더 향상되더라도 평균 손실에 반영되지 않을 수 있음"
   ]
  },
  {
   "cell_type": "markdown",
   "id": "a89d7e86",
   "metadata": {},
   "source": [
    "### 테스트 데이터로 평가"
   ]
  },
  {
   "cell_type": "code",
   "execution_count": 20,
   "id": "66f32ff5",
   "metadata": {},
   "outputs": [
    {
     "name": "stdout",
     "output_type": "stream",
     "text": [
      "Found 1000 images belonging to 2 classes.\n",
      "50/50 [==============================] - 3s 60ms/step - loss: 0.4685 - accuracy: 0.9360\n",
      "test acc : 0.9359999895095825\n"
     ]
    }
   ],
   "source": [
    "test_generator = test_datagen.flow_from_directory(\n",
    "        test_dir,\n",
    "        target_size=(150, 150),\n",
    "        batch_size=20,\n",
    "        class_mode='binary')\n",
    "\n",
    "tset_loss, test_acc = model.evaluate(test_generator, steps=50)\n",
    "print('test acc :', test_acc)"
   ]
  },
  {
   "cell_type": "code",
   "execution_count": null,
   "id": "bb520064",
   "metadata": {},
   "outputs": [],
   "source": []
  }
 ],
 "metadata": {
  "kernelspec": {
   "display_name": "Python Multi",
   "language": "python",
   "name": "multi"
  },
  "language_info": {
   "codemirror_mode": {
    "name": "ipython",
    "version": 3
   },
   "file_extension": ".py",
   "mimetype": "text/x-python",
   "name": "python",
   "nbconvert_exporter": "python",
   "pygments_lexer": "ipython3",
   "version": "3.7.6"
  },
  "toc": {
   "base_numbering": 1,
   "nav_menu": {},
   "number_sections": false,
   "sideBar": true,
   "skip_h1_title": false,
   "title_cell": "Table of Contents",
   "title_sidebar": "Contents",
   "toc_cell": false,
   "toc_position": {},
   "toc_section_display": true,
   "toc_window_display": false
  }
 },
 "nbformat": 4,
 "nbformat_minor": 5
}
