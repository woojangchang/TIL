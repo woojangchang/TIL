{
 "cells": [
  {
   "cell_type": "markdown",
   "metadata": {
    "id": "q2Pr7oBdYLdf"
   },
   "source": [
    "# VGG-16 재훈련\n",
    "## VGG-16 Model\n",
    "* University of Oxford - Visual Geometry Group\n",
    "* 2014 ILSVRC 2nd Model\n",
    "* ImageNet Large Scale Visual Recognition Challenge (ILSVRC)\n"
   ]
  },
  {
   "cell_type": "code",
   "execution_count": 1,
   "metadata": {
    "executionInfo": {
     "elapsed": 15,
     "status": "ok",
     "timestamp": 1628224350357,
     "user": {
      "displayName": "이정구",
      "photoUrl": "https://lh3.googleusercontent.com/a-/AOh14Gg2atzeYT6QYFW3pcTDyi6aX0d6dqm_hj4W8fMg=s64",
      "userId": "17400242557229223804"
     },
     "user_tz": -540
    },
    "id": "RbPgODpVzdHI"
   },
   "outputs": [],
   "source": [
    "import warnings\n",
    "warnings.filterwarnings('ignore')"
   ]
  },
  {
   "cell_type": "markdown",
   "metadata": {
    "id": "M9XBsS7QD8EU"
   },
   "source": [
    "## Import Tensorflow"
   ]
  },
  {
   "cell_type": "code",
   "execution_count": 2,
   "metadata": {
    "colab": {
     "base_uri": "https://localhost:8080/",
     "height": 35
    },
    "executionInfo": {
     "elapsed": 2097,
     "status": "ok",
     "timestamp": 1628224352443,
     "user": {
      "displayName": "이정구",
      "photoUrl": "https://lh3.googleusercontent.com/a-/AOh14Gg2atzeYT6QYFW3pcTDyi6aX0d6dqm_hj4W8fMg=s64",
      "userId": "17400242557229223804"
     },
     "user_tz": -540
    },
    "id": "GR4j3p6N_rDV",
    "outputId": "103c56d7-e00b-4068-c8b5-27aaff4564fb"
   },
   "outputs": [
    {
     "data": {
      "text/plain": [
       "'2.5.0'"
      ]
     },
     "execution_count": 2,
     "metadata": {},
     "output_type": "execute_result"
    }
   ],
   "source": [
    "import tensorflow\n",
    "\n",
    "tensorflow.__version__"
   ]
  },
  {
   "cell_type": "markdown",
   "metadata": {
    "id": "1DyFdyVxFyHK"
   },
   "source": [
    "# II. Image_File Directory Setting"
   ]
  },
  {
   "cell_type": "markdown",
   "metadata": {
    "id": "fwUMpMCYGB7Z"
   },
   "source": [
    "* train_dir\n",
    "* valid_dir\n",
    "* test_dir"
   ]
  },
  {
   "cell_type": "code",
   "execution_count": 3,
   "metadata": {
    "executionInfo": {
     "elapsed": 6,
     "status": "ok",
     "timestamp": 1628224398830,
     "user": {
      "displayName": "이정구",
      "photoUrl": "https://lh3.googleusercontent.com/a-/AOh14Gg2atzeYT6QYFW3pcTDyi6aX0d6dqm_hj4W8fMg=s64",
      "userId": "17400242557229223804"
     },
     "user_tz": -540
    },
    "id": "DxstjE8b_6Te"
   },
   "outputs": [],
   "source": [
    "train_dir = './datasets/dogs_and_cats_small/train'\n",
    "valid_dir = './datasets/dogs_and_cats_small/validation'\n",
    "test_dir = './datasets/dogs_and_cats_small/test'"
   ]
  },
  {
   "cell_type": "markdown",
   "metadata": {
    "id": "0NXAn6tEYuVP"
   },
   "source": [
    "# III. Data Preprocessing"
   ]
  },
  {
   "cell_type": "markdown",
   "metadata": {
    "id": "k-mxzCBmZBVW"
   },
   "source": [
    "> ## 1) ImageDataGenerator( ) & flow_from_directory( )"
   ]
  },
  {
   "cell_type": "markdown",
   "metadata": {
    "id": "67hcrgtRubHV"
   },
   "source": [
    "* Normalization\n",
    " * ImageDataGenerator( )\n",
    "* Resizing & Generator\n",
    " * flow_from_directory( )"
   ]
  },
  {
   "cell_type": "code",
   "execution_count": 4,
   "metadata": {
    "colab": {
     "base_uri": "https://localhost:8080/"
    },
    "executionInfo": {
     "elapsed": 439,
     "status": "ok",
     "timestamp": 1628224399264,
     "user": {
      "displayName": "이정구",
      "photoUrl": "https://lh3.googleusercontent.com/a-/AOh14Gg2atzeYT6QYFW3pcTDyi6aX0d6dqm_hj4W8fMg=s64",
      "userId": "17400242557229223804"
     },
     "user_tz": -540
    },
    "id": "fv4TEj_oZDGm",
    "outputId": "f2027604-bc50-4c59-99b9-c1b8f4ce3796"
   },
   "outputs": [
    {
     "name": "stdout",
     "output_type": "stream",
     "text": [
      "Found 2000 images belonging to 2 classes.\n",
      "Found 1000 images belonging to 2 classes.\n"
     ]
    }
   ],
   "source": [
    "from tensorflow.keras.preprocessing.image import ImageDataGenerator\n",
    "\n",
    "train_datagen = ImageDataGenerator(rescale = 1./255)\n",
    "valid_datagen = ImageDataGenerator(rescale = 1./255)\n",
    "\n",
    "train_generator = train_datagen.flow_from_directory(\n",
    "                  train_dir,\n",
    "                  target_size = (150, 150),\n",
    "                  batch_size = 20,\n",
    "                  class_mode = 'binary')\n",
    "\n",
    "valid_generator = valid_datagen.flow_from_directory(\n",
    "                  valid_dir,\n",
    "                  target_size = (150, 150),\n",
    "                  batch_size = 20,\n",
    "                  class_mode = 'binary')"
   ]
  },
  {
   "cell_type": "markdown",
   "metadata": {
    "id": "wBAWLCWdGNde"
   },
   "source": [
    "# IV. Import VGG-16 Model"
   ]
  },
  {
   "cell_type": "markdown",
   "metadata": {
    "id": "tpdqyBb2Gsdj"
   },
   "source": [
    "> ## 1) conv_base"
   ]
  },
  {
   "cell_type": "code",
   "execution_count": 5,
   "metadata": {
    "colab": {
     "base_uri": "https://localhost:8080/"
    },
    "executionInfo": {
     "elapsed": 6671,
     "status": "ok",
     "timestamp": 1628224405932,
     "user": {
      "displayName": "이정구",
      "photoUrl": "https://lh3.googleusercontent.com/a-/AOh14Gg2atzeYT6QYFW3pcTDyi6aX0d6dqm_hj4W8fMg=s64",
      "userId": "17400242557229223804"
     },
     "user_tz": -540
    },
    "id": "Zgv7VdbFGTGK",
    "outputId": "cb117646-8f66-4d1e-e59f-adb62eb36e65"
   },
   "outputs": [],
   "source": [
    "from tensorflow.keras.applications import VGG16\n",
    "\n",
    "conv_base = VGG16(weights = 'imagenet',\n",
    "                  include_top = False,\n",
    "                  input_shape = (150, 150, 3))"
   ]
  },
  {
   "cell_type": "markdown",
   "metadata": {
    "id": "NTwZiSjiop3v"
   },
   "source": [
    "# V. Keras CNN Modeling with VGG-16"
   ]
  },
  {
   "cell_type": "markdown",
   "metadata": {
    "id": "j5CT0TurJCkc"
   },
   "source": [
    "> ## 1) Model Define"
   ]
  },
  {
   "cell_type": "markdown",
   "metadata": {
    "id": "ydDCl0jTJD58"
   },
   "source": [
    "* 'conv_base' & 'Classification' Network\n",
    "* Dropout Layer"
   ]
  },
  {
   "cell_type": "code",
   "execution_count": 6,
   "metadata": {
    "executionInfo": {
     "elapsed": 374,
     "status": "ok",
     "timestamp": 1628224406275,
     "user": {
      "displayName": "이정구",
      "photoUrl": "https://lh3.googleusercontent.com/a-/AOh14Gg2atzeYT6QYFW3pcTDyi6aX0d6dqm_hj4W8fMg=s64",
      "userId": "17400242557229223804"
     },
     "user_tz": -540
    },
    "id": "II0DskRdAcHS"
   },
   "outputs": [],
   "source": [
    "from tensorflow.keras import models, layers\n",
    "\n",
    "model = models.Sequential()\n",
    "model.add(conv_base)\n",
    "\n",
    "model.add(layers.Flatten())\n",
    "model.add(layers.Dense(256, activation = 'relu'))\n",
    "model.add(layers.Dropout(0.4))\n",
    "model.add(layers.Dense(1, activation = 'sigmoid'))"
   ]
  },
  {
   "cell_type": "code",
   "execution_count": 7,
   "metadata": {
    "colab": {
     "base_uri": "https://localhost:8080/"
    },
    "executionInfo": {
     "elapsed": 15,
     "status": "ok",
     "timestamp": 1628224406277,
     "user": {
      "displayName": "이정구",
      "photoUrl": "https://lh3.googleusercontent.com/a-/AOh14Gg2atzeYT6QYFW3pcTDyi6aX0d6dqm_hj4W8fMg=s64",
      "userId": "17400242557229223804"
     },
     "user_tz": -540
    },
    "id": "wbtjOA4XMTUd",
    "outputId": "af18453d-fc96-4051-b115-2955bd1c91e6"
   },
   "outputs": [
    {
     "name": "stdout",
     "output_type": "stream",
     "text": [
      "Model: \"sequential\"\n",
      "_________________________________________________________________\n",
      "Layer (type)                 Output Shape              Param #   \n",
      "=================================================================\n",
      "vgg16 (Functional)           (None, 4, 4, 512)         14714688  \n",
      "_________________________________________________________________\n",
      "flatten (Flatten)            (None, 8192)              0         \n",
      "_________________________________________________________________\n",
      "dense (Dense)                (None, 256)               2097408   \n",
      "_________________________________________________________________\n",
      "dropout (Dropout)            (None, 256)               0         \n",
      "_________________________________________________________________\n",
      "dense_1 (Dense)              (None, 1)                 257       \n",
      "=================================================================\n",
      "Total params: 16,812,353\n",
      "Trainable params: 16,812,353\n",
      "Non-trainable params: 0\n",
      "_________________________________________________________________\n"
     ]
    }
   ],
   "source": [
    "model.summary()"
   ]
  },
  {
   "cell_type": "markdown",
   "metadata": {
    "id": "tpjBDBeYoyuj"
   },
   "source": [
    "> ## 2) Model Compile"
   ]
  },
  {
   "cell_type": "markdown",
   "metadata": {
    "id": "f3sxkQa0JoUr"
   },
   "source": [
    "* 모델 학습방법 설정\n",
    " * 이미 학습된 Weight 값을 Tuning\n",
    " * 매우 작은 Learnig Rate 지정\n",
    " * optimizers.Adam(lr = 0.000005)"
   ]
  },
  {
   "cell_type": "code",
   "execution_count": 8,
   "metadata": {
    "executionInfo": {
     "elapsed": 13,
     "status": "ok",
     "timestamp": 1628224406279,
     "user": {
      "displayName": "이정구",
      "photoUrl": "https://lh3.googleusercontent.com/a-/AOh14Gg2atzeYT6QYFW3pcTDyi6aX0d6dqm_hj4W8fMg=s64",
      "userId": "17400242557229223804"
     },
     "user_tz": -540
    },
    "id": "AyK_t1qwAi6M"
   },
   "outputs": [],
   "source": [
    "from tensorflow.keras import optimizers\n",
    "\n",
    "model.compile(loss = 'binary_crossentropy',\n",
    "              optimizer = optimizers.Adam(lr = 0.000005),\n",
    "              metrics = ['accuracy'])"
   ]
  },
  {
   "cell_type": "markdown",
   "metadata": {
    "id": "umiq4B-Xo3OB"
   },
   "source": [
    "> ## 3) Model Fit"
   ]
  },
  {
   "cell_type": "markdown",
   "metadata": {
    "id": "1KuXREziKMD1"
   },
   "source": [
    "* 약 35분"
   ]
  },
  {
   "cell_type": "code",
   "execution_count": 9,
   "metadata": {
    "colab": {
     "base_uri": "https://localhost:8080/"
    },
    "executionInfo": {
     "elapsed": 2023735,
     "status": "ok",
     "timestamp": 1628226430003,
     "user": {
      "displayName": "이정구",
      "photoUrl": "https://lh3.googleusercontent.com/a-/AOh14Gg2atzeYT6QYFW3pcTDyi6aX0d6dqm_hj4W8fMg=s64",
      "userId": "17400242557229223804"
     },
     "user_tz": -540
    },
    "id": "zxwqwAqRAqRP",
    "outputId": "5bd62462-717d-4a3a-df64-d512be90c145"
   },
   "outputs": [
    {
     "name": "stdout",
     "output_type": "stream",
     "text": [
      "Epoch 1/100\n",
      "100/100 [==============================] - 26s 198ms/step - loss: 0.5691 - accuracy: 0.6915 - val_loss: 0.3755 - val_accuracy: 0.8600\n",
      "Epoch 2/100\n",
      "100/100 [==============================] - 20s 199ms/step - loss: 0.2664 - accuracy: 0.8925 - val_loss: 0.1954 - val_accuracy: 0.9240\n",
      "Epoch 3/100\n",
      "100/100 [==============================] - 21s 206ms/step - loss: 0.1592 - accuracy: 0.9365 - val_loss: 0.1585 - val_accuracy: 0.9370\n",
      "Epoch 4/100\n",
      "100/100 [==============================] - 21s 207ms/step - loss: 0.1013 - accuracy: 0.9625 - val_loss: 0.1855 - val_accuracy: 0.9090\n",
      "Epoch 5/100\n",
      "100/100 [==============================] - 20s 200ms/step - loss: 0.0791 - accuracy: 0.9720 - val_loss: 0.1389 - val_accuracy: 0.9450\n",
      "Epoch 6/100\n",
      "100/100 [==============================] - 20s 199ms/step - loss: 0.0436 - accuracy: 0.9865 - val_loss: 0.1527 - val_accuracy: 0.9360\n",
      "Epoch 7/100\n",
      "100/100 [==============================] - 20s 199ms/step - loss: 0.0297 - accuracy: 0.9935 - val_loss: 0.1696 - val_accuracy: 0.9420\n",
      "Epoch 8/100\n",
      "100/100 [==============================] - 20s 199ms/step - loss: 0.0199 - accuracy: 0.9950 - val_loss: 0.1492 - val_accuracy: 0.9430\n",
      "Epoch 9/100\n",
      "100/100 [==============================] - 20s 199ms/step - loss: 0.0174 - accuracy: 0.9960 - val_loss: 0.1660 - val_accuracy: 0.9420\n",
      "Epoch 10/100\n",
      "100/100 [==============================] - 20s 199ms/step - loss: 0.0107 - accuracy: 0.9980 - val_loss: 0.1617 - val_accuracy: 0.9480\n",
      "Epoch 11/100\n",
      "100/100 [==============================] - 20s 199ms/step - loss: 0.0070 - accuracy: 0.9990 - val_loss: 0.1741 - val_accuracy: 0.9470\n",
      "Epoch 12/100\n",
      "100/100 [==============================] - 21s 205ms/step - loss: 0.0085 - accuracy: 0.9970 - val_loss: 0.1811 - val_accuracy: 0.9440\n",
      "Epoch 13/100\n",
      "100/100 [==============================] - 20s 199ms/step - loss: 0.0102 - accuracy: 0.9980 - val_loss: 0.1742 - val_accuracy: 0.9450\n",
      "Epoch 14/100\n",
      "100/100 [==============================] - 20s 199ms/step - loss: 0.0046 - accuracy: 0.9995 - val_loss: 0.1786 - val_accuracy: 0.9510\n",
      "Epoch 15/100\n",
      "100/100 [==============================] - 20s 199ms/step - loss: 0.0021 - accuracy: 1.0000 - val_loss: 0.2005 - val_accuracy: 0.9450\n",
      "Epoch 16/100\n",
      "100/100 [==============================] - 20s 201ms/step - loss: 0.0019 - accuracy: 1.0000 - val_loss: 0.1925 - val_accuracy: 0.9500\n",
      "Epoch 17/100\n",
      "100/100 [==============================] - 20s 204ms/step - loss: 0.0012 - accuracy: 1.0000 - val_loss: 0.1965 - val_accuracy: 0.9500\n",
      "Epoch 18/100\n",
      "100/100 [==============================] - 20s 202ms/step - loss: 7.3815e-04 - accuracy: 1.0000 - val_loss: 0.1994 - val_accuracy: 0.9470\n",
      "Epoch 19/100\n",
      "100/100 [==============================] - 20s 204ms/step - loss: 9.7137e-04 - accuracy: 1.0000 - val_loss: 0.1990 - val_accuracy: 0.9470\n",
      "Epoch 20/100\n",
      "100/100 [==============================] - 21s 209ms/step - loss: 0.0625 - accuracy: 0.9800 - val_loss: 0.1442 - val_accuracy: 0.9440\n",
      "Epoch 21/100\n",
      "100/100 [==============================] - 20s 204ms/step - loss: 0.0086 - accuracy: 0.9990 - val_loss: 0.1533 - val_accuracy: 0.9480\n",
      "Epoch 22/100\n",
      "100/100 [==============================] - 20s 202ms/step - loss: 0.0038 - accuracy: 1.0000 - val_loss: 0.1575 - val_accuracy: 0.9480\n",
      "Epoch 23/100\n",
      "100/100 [==============================] - 20s 199ms/step - loss: 0.0014 - accuracy: 1.0000 - val_loss: 0.1655 - val_accuracy: 0.9500\n",
      "Epoch 24/100\n",
      "100/100 [==============================] - 21s 206ms/step - loss: 0.0013 - accuracy: 1.0000 - val_loss: 0.1716 - val_accuracy: 0.9480\n",
      "Epoch 25/100\n",
      "100/100 [==============================] - 20s 199ms/step - loss: 7.8274e-04 - accuracy: 1.0000 - val_loss: 0.1829 - val_accuracy: 0.9480\n",
      "Epoch 26/100\n",
      "100/100 [==============================] - 20s 200ms/step - loss: 8.3558e-04 - accuracy: 1.0000 - val_loss: 0.1805 - val_accuracy: 0.9500\n",
      "Epoch 27/100\n",
      "100/100 [==============================] - 20s 198ms/step - loss: 8.9771e-04 - accuracy: 1.0000 - val_loss: 0.1813 - val_accuracy: 0.9470\n",
      "Epoch 28/100\n",
      "100/100 [==============================] - 20s 198ms/step - loss: 5.3180e-04 - accuracy: 1.0000 - val_loss: 0.1892 - val_accuracy: 0.9500\n",
      "Epoch 29/100\n",
      "100/100 [==============================] - 20s 198ms/step - loss: 4.0316e-04 - accuracy: 1.0000 - val_loss: 0.1901 - val_accuracy: 0.9510\n",
      "Epoch 30/100\n",
      "100/100 [==============================] - 20s 198ms/step - loss: 3.4640e-04 - accuracy: 1.0000 - val_loss: 0.1942 - val_accuracy: 0.9480\n",
      "Epoch 31/100\n",
      "100/100 [==============================] - 20s 201ms/step - loss: 2.6825e-04 - accuracy: 1.0000 - val_loss: 0.1971 - val_accuracy: 0.9500\n",
      "Epoch 32/100\n",
      "100/100 [==============================] - 20s 202ms/step - loss: 5.8463e-04 - accuracy: 1.0000 - val_loss: 0.1966 - val_accuracy: 0.9520\n",
      "Epoch 33/100\n",
      "100/100 [==============================] - 20s 200ms/step - loss: 2.4311e-04 - accuracy: 1.0000 - val_loss: 0.1982 - val_accuracy: 0.9520\n",
      "Epoch 34/100\n",
      "100/100 [==============================] - 20s 198ms/step - loss: 2.9344e-04 - accuracy: 1.0000 - val_loss: 0.2020 - val_accuracy: 0.9470\n",
      "Epoch 35/100\n",
      "100/100 [==============================] - 20s 198ms/step - loss: 3.3492e-04 - accuracy: 1.0000 - val_loss: 0.1987 - val_accuracy: 0.9500\n",
      "Epoch 36/100\n",
      "100/100 [==============================] - 20s 198ms/step - loss: 1.8081e-04 - accuracy: 1.0000 - val_loss: 0.2042 - val_accuracy: 0.9490\n",
      "Epoch 37/100\n",
      "100/100 [==============================] - 20s 199ms/step - loss: 1.7560e-04 - accuracy: 1.0000 - val_loss: 0.2063 - val_accuracy: 0.9500\n",
      "Epoch 38/100\n",
      "100/100 [==============================] - 20s 199ms/step - loss: 5.2335e-04 - accuracy: 1.0000 - val_loss: 0.2189 - val_accuracy: 0.9500\n",
      "Epoch 39/100\n",
      "100/100 [==============================] - 20s 198ms/step - loss: 3.6705e-04 - accuracy: 1.0000 - val_loss: 0.2153 - val_accuracy: 0.9510\n",
      "Epoch 40/100\n",
      "100/100 [==============================] - 20s 198ms/step - loss: 1.1537e-04 - accuracy: 1.0000 - val_loss: 0.2135 - val_accuracy: 0.9520\n",
      "Epoch 41/100\n",
      "100/100 [==============================] - 20s 198ms/step - loss: 1.7649e-04 - accuracy: 1.0000 - val_loss: 0.2226 - val_accuracy: 0.9490\n",
      "Epoch 42/100\n",
      "100/100 [==============================] - 20s 199ms/step - loss: 1.0507e-04 - accuracy: 1.0000 - val_loss: 0.2208 - val_accuracy: 0.9510\n",
      "Epoch 43/100\n",
      "100/100 [==============================] - 20s 198ms/step - loss: 1.0134e-04 - accuracy: 1.0000 - val_loss: 0.2257 - val_accuracy: 0.9520\n",
      "Epoch 44/100\n",
      "100/100 [==============================] - 20s 198ms/step - loss: 6.3098e-05 - accuracy: 1.0000 - val_loss: 0.2270 - val_accuracy: 0.9510\n",
      "Epoch 45/100\n",
      "100/100 [==============================] - 20s 201ms/step - loss: 4.9872e-05 - accuracy: 1.0000 - val_loss: 0.2289 - val_accuracy: 0.9510\n",
      "Epoch 46/100\n",
      "100/100 [==============================] - 20s 202ms/step - loss: 9.3370e-05 - accuracy: 1.0000 - val_loss: 0.2337 - val_accuracy: 0.9500\n",
      "Epoch 47/100\n",
      "100/100 [==============================] - 20s 200ms/step - loss: 7.6058e-05 - accuracy: 1.0000 - val_loss: 0.2300 - val_accuracy: 0.9510\n",
      "Epoch 48/100\n",
      "100/100 [==============================] - 20s 199ms/step - loss: 5.3560e-05 - accuracy: 1.0000 - val_loss: 0.2326 - val_accuracy: 0.9510\n",
      "Epoch 49/100\n",
      "100/100 [==============================] - 20s 198ms/step - loss: 4.7278e-05 - accuracy: 1.0000 - val_loss: 0.2392 - val_accuracy: 0.9530\n",
      "Epoch 50/100\n",
      "100/100 [==============================] - 20s 198ms/step - loss: 5.4156e-05 - accuracy: 1.0000 - val_loss: 0.2414 - val_accuracy: 0.9520\n",
      "Epoch 51/100\n",
      "100/100 [==============================] - 20s 198ms/step - loss: 5.9801e-05 - accuracy: 1.0000 - val_loss: 0.2404 - val_accuracy: 0.9500\n",
      "Epoch 52/100\n",
      "100/100 [==============================] - 20s 198ms/step - loss: 3.1810e-05 - accuracy: 1.0000 - val_loss: 0.2508 - val_accuracy: 0.9510\n",
      "Epoch 53/100\n",
      "100/100 [==============================] - 20s 198ms/step - loss: 7.0822e-05 - accuracy: 1.0000 - val_loss: 0.2695 - val_accuracy: 0.9490\n",
      "Epoch 54/100\n",
      "100/100 [==============================] - 20s 198ms/step - loss: 1.1812e-04 - accuracy: 1.0000 - val_loss: 0.2540 - val_accuracy: 0.9510\n",
      "Epoch 55/100\n",
      "100/100 [==============================] - 20s 198ms/step - loss: 5.0031e-05 - accuracy: 1.0000 - val_loss: 0.2527 - val_accuracy: 0.9510\n"
     ]
    },
    {
     "name": "stdout",
     "output_type": "stream",
     "text": [
      "Epoch 56/100\n",
      "100/100 [==============================] - 20s 198ms/step - loss: 2.9978e-05 - accuracy: 1.0000 - val_loss: 0.2564 - val_accuracy: 0.9530\n",
      "Epoch 57/100\n",
      "100/100 [==============================] - 20s 200ms/step - loss: 2.9876e-05 - accuracy: 1.0000 - val_loss: 0.2572 - val_accuracy: 0.9500\n",
      "Epoch 58/100\n",
      "100/100 [==============================] - 20s 201ms/step - loss: 4.0778e-05 - accuracy: 1.0000 - val_loss: 0.2602 - val_accuracy: 0.9520\n",
      "Epoch 59/100\n",
      "100/100 [==============================] - 20s 203ms/step - loss: 3.3323e-05 - accuracy: 1.0000 - val_loss: 0.2558 - val_accuracy: 0.9510\n",
      "Epoch 60/100\n",
      "100/100 [==============================] - 20s 204ms/step - loss: 0.0259 - accuracy: 0.9920 - val_loss: 0.1698 - val_accuracy: 0.9410\n",
      "Epoch 61/100\n",
      "100/100 [==============================] - 20s 198ms/step - loss: 0.0112 - accuracy: 0.9980 - val_loss: 0.1667 - val_accuracy: 0.9470\n",
      "Epoch 62/100\n",
      "100/100 [==============================] - 20s 198ms/step - loss: 0.0055 - accuracy: 0.9990 - val_loss: 0.1710 - val_accuracy: 0.9580\n",
      "Epoch 63/100\n",
      "100/100 [==============================] - 20s 200ms/step - loss: 0.0022 - accuracy: 0.9995 - val_loss: 0.1767 - val_accuracy: 0.9530\n",
      "Epoch 64/100\n",
      "100/100 [==============================] - 20s 200ms/step - loss: 3.4432e-04 - accuracy: 1.0000 - val_loss: 0.1872 - val_accuracy: 0.9500\n",
      "Epoch 65/100\n",
      "100/100 [==============================] - 20s 198ms/step - loss: 6.5796e-04 - accuracy: 1.0000 - val_loss: 0.1775 - val_accuracy: 0.9560\n",
      "Epoch 66/100\n",
      "100/100 [==============================] - 20s 198ms/step - loss: 1.7825e-04 - accuracy: 1.0000 - val_loss: 0.1806 - val_accuracy: 0.9550\n",
      "Epoch 67/100\n",
      "100/100 [==============================] - 20s 198ms/step - loss: 1.5460e-04 - accuracy: 1.0000 - val_loss: 0.1830 - val_accuracy: 0.9560\n",
      "Epoch 68/100\n",
      "100/100 [==============================] - 20s 202ms/step - loss: 1.1906e-04 - accuracy: 1.0000 - val_loss: 0.1863 - val_accuracy: 0.9550\n",
      "Epoch 69/100\n",
      "100/100 [==============================] - 20s 202ms/step - loss: 9.7318e-05 - accuracy: 1.0000 - val_loss: 0.1902 - val_accuracy: 0.9540\n",
      "Epoch 70/100\n",
      "100/100 [==============================] - 22s 219ms/step - loss: 6.2068e-05 - accuracy: 1.0000 - val_loss: 0.1947 - val_accuracy: 0.9550\n",
      "Epoch 71/100\n",
      "100/100 [==============================] - 20s 200ms/step - loss: 5.6587e-05 - accuracy: 1.0000 - val_loss: 0.1985 - val_accuracy: 0.9550\n",
      "Epoch 72/100\n",
      "100/100 [==============================] - 20s 202ms/step - loss: 9.2468e-05 - accuracy: 1.0000 - val_loss: 0.2024 - val_accuracy: 0.9550\n",
      "Epoch 73/100\n",
      "100/100 [==============================] - 20s 201ms/step - loss: 1.6158e-04 - accuracy: 1.0000 - val_loss: 0.2075 - val_accuracy: 0.9540\n",
      "Epoch 74/100\n",
      "100/100 [==============================] - 20s 199ms/step - loss: 1.2741e-04 - accuracy: 1.0000 - val_loss: 0.2069 - val_accuracy: 0.9550\n",
      "Epoch 75/100\n",
      "100/100 [==============================] - 20s 201ms/step - loss: 3.6077e-05 - accuracy: 1.0000 - val_loss: 0.2111 - val_accuracy: 0.9540\n",
      "Epoch 76/100\n",
      "100/100 [==============================] - 20s 204ms/step - loss: 4.0021e-05 - accuracy: 1.0000 - val_loss: 0.2095 - val_accuracy: 0.9530\n",
      "Epoch 77/100\n",
      "100/100 [==============================] - 20s 200ms/step - loss: 3.3908e-05 - accuracy: 1.0000 - val_loss: 0.2155 - val_accuracy: 0.9540\n",
      "Epoch 78/100\n",
      "100/100 [==============================] - 21s 208ms/step - loss: 2.8681e-05 - accuracy: 1.0000 - val_loss: 0.2163 - val_accuracy: 0.9540\n",
      "Epoch 79/100\n",
      "100/100 [==============================] - 20s 200ms/step - loss: 3.5556e-05 - accuracy: 1.0000 - val_loss: 0.2194 - val_accuracy: 0.9530\n",
      "Epoch 80/100\n",
      "100/100 [==============================] - 20s 205ms/step - loss: 3.4962e-05 - accuracy: 1.0000 - val_loss: 0.2207 - val_accuracy: 0.9520\n",
      "Epoch 81/100\n",
      "100/100 [==============================] - 20s 203ms/step - loss: 3.4667e-05 - accuracy: 1.0000 - val_loss: 0.2172 - val_accuracy: 0.9550\n",
      "Epoch 82/100\n",
      "100/100 [==============================] - 21s 211ms/step - loss: 2.3717e-05 - accuracy: 1.0000 - val_loss: 0.2199 - val_accuracy: 0.9540\n",
      "Epoch 83/100\n",
      "100/100 [==============================] - 20s 203ms/step - loss: 2.8044e-05 - accuracy: 1.0000 - val_loss: 0.2244 - val_accuracy: 0.9550\n",
      "Epoch 84/100\n",
      "100/100 [==============================] - 20s 201ms/step - loss: 3.3216e-05 - accuracy: 1.0000 - val_loss: 0.2399 - val_accuracy: 0.9510\n",
      "Epoch 85/100\n",
      "100/100 [==============================] - 21s 205ms/step - loss: 2.4571e-05 - accuracy: 1.0000 - val_loss: 0.2291 - val_accuracy: 0.9550\n",
      "Epoch 86/100\n",
      "100/100 [==============================] - 21s 207ms/step - loss: 1.6292e-05 - accuracy: 1.0000 - val_loss: 0.2310 - val_accuracy: 0.9550\n",
      "Epoch 87/100\n",
      "100/100 [==============================] - 21s 207ms/step - loss: 1.7453e-05 - accuracy: 1.0000 - val_loss: 0.2313 - val_accuracy: 0.9550\n",
      "Epoch 88/100\n",
      "100/100 [==============================] - 21s 211ms/step - loss: 1.1681e-05 - accuracy: 1.0000 - val_loss: 0.2319 - val_accuracy: 0.9540\n",
      "Epoch 89/100\n",
      "100/100 [==============================] - 20s 203ms/step - loss: 1.2638e-05 - accuracy: 1.0000 - val_loss: 0.2347 - val_accuracy: 0.9540\n",
      "Epoch 90/100\n",
      "100/100 [==============================] - 20s 202ms/step - loss: 3.1164e-05 - accuracy: 1.0000 - val_loss: 0.2358 - val_accuracy: 0.9540\n",
      "Epoch 91/100\n",
      "100/100 [==============================] - 20s 200ms/step - loss: 1.9028e-05 - accuracy: 1.0000 - val_loss: 0.2321 - val_accuracy: 0.9530\n",
      "Epoch 92/100\n",
      "100/100 [==============================] - 20s 200ms/step - loss: 9.8493e-06 - accuracy: 1.0000 - val_loss: 0.2351 - val_accuracy: 0.9530\n",
      "Epoch 93/100\n",
      "100/100 [==============================] - 20s 199ms/step - loss: 8.3126e-06 - accuracy: 1.0000 - val_loss: 0.2360 - val_accuracy: 0.9530\n",
      "Epoch 94/100\n",
      "100/100 [==============================] - 20s 199ms/step - loss: 9.7663e-06 - accuracy: 1.0000 - val_loss: 0.2417 - val_accuracy: 0.9550\n",
      "Epoch 95/100\n",
      "100/100 [==============================] - 20s 200ms/step - loss: 2.5471e-05 - accuracy: 1.0000 - val_loss: 0.2427 - val_accuracy: 0.9530\n",
      "Epoch 96/100\n",
      "100/100 [==============================] - 20s 200ms/step - loss: 8.1572e-06 - accuracy: 1.0000 - val_loss: 0.2467 - val_accuracy: 0.9540\n",
      "Epoch 97/100\n",
      "100/100 [==============================] - 20s 200ms/step - loss: 1.2417e-05 - accuracy: 1.0000 - val_loss: 0.2473 - val_accuracy: 0.9530\n",
      "Epoch 98/100\n",
      "100/100 [==============================] - 20s 202ms/step - loss: 8.7236e-06 - accuracy: 1.0000 - val_loss: 0.2500 - val_accuracy: 0.9540\n",
      "Epoch 99/100\n",
      "100/100 [==============================] - 20s 202ms/step - loss: 1.6558e-05 - accuracy: 1.0000 - val_loss: 0.2515 - val_accuracy: 0.9540\n",
      "Epoch 100/100\n",
      "100/100 [==============================] - 20s 200ms/step - loss: 2.0466e-05 - accuracy: 1.0000 - val_loss: 0.2724 - val_accuracy: 0.9510\n",
      "Wall time: 33min 38s\n"
     ]
    }
   ],
   "source": [
    "%%time\n",
    "\n",
    "Hist_dandc = model.fit(train_generator,\n",
    "                       steps_per_epoch = 100,\n",
    "                       epochs = 100,\n",
    "                       validation_data = valid_generator,\n",
    "                       validation_steps = 50)"
   ]
  },
  {
   "cell_type": "markdown",
   "metadata": {
    "id": "FnnIyFtNKhbD"
   },
   "source": [
    "> ## 4) 학습 결과 시각화"
   ]
  },
  {
   "cell_type": "markdown",
   "metadata": {
    "id": "YgXRhVauKqOm"
   },
   "source": [
    "* Loss Visualization"
   ]
  },
  {
   "cell_type": "code",
   "execution_count": 10,
   "metadata": {
    "colab": {
     "base_uri": "https://localhost:8080/",
     "height": 404
    },
    "executionInfo": {
     "elapsed": 24,
     "status": "ok",
     "timestamp": 1628226430005,
     "user": {
      "displayName": "이정구",
      "photoUrl": "https://lh3.googleusercontent.com/a-/AOh14Gg2atzeYT6QYFW3pcTDyi6aX0d6dqm_hj4W8fMg=s64",
      "userId": "17400242557229223804"
     },
     "user_tz": -540
    },
    "id": "OQ4ke8BbKi50",
    "outputId": "36dab64f-7024-4956-9e6d-55ad44e86265"
   },
   "outputs": [
    {
     "data": {
      "image/png": "[encoded data removed]",
      "text/plain": [
       "<Figure size 648x432 with 1 Axes>"
      ]
     },
     "metadata": {
      "needs_background": "light"
     },
     "output_type": "display_data"
    }
   ],
   "source": [
    "import matplotlib.pyplot as plt\n",
    "\n",
    "epochs = range(1, len(Hist_dandc.history['loss']) + 1)\n",
    "\n",
    "plt.figure(figsize = (9, 6))\n",
    "plt.plot(epochs, Hist_dandc.history['loss'])\n",
    "plt.plot(epochs, Hist_dandc.history['val_loss'])\n",
    "\n",
    "plt.title('Training & Validation Loss')\n",
    "plt.xlabel('Epochs')\n",
    "plt.ylabel('Loss')\n",
    "plt.legend(['Training Loss', 'Validation Loss'])\n",
    "plt.grid()\n",
    "plt.show()"
   ]
  },
  {
   "cell_type": "markdown",
   "metadata": {
    "id": "mVA9TcEvWzIv"
   },
   "source": [
    "* Accuracy Visualization"
   ]
  },
  {
   "cell_type": "code",
   "execution_count": 11,
   "metadata": {
    "colab": {
     "base_uri": "https://localhost:8080/",
     "height": 404
    },
    "executionInfo": {
     "elapsed": 855,
     "status": "ok",
     "timestamp": 1628226430849,
     "user": {
      "displayName": "이정구",
      "photoUrl": "https://lh3.googleusercontent.com/a-/AOh14Gg2atzeYT6QYFW3pcTDyi6aX0d6dqm_hj4W8fMg=s64",
      "userId": "17400242557229223804"
     },
     "user_tz": -540
    },
    "id": "BRIqZjTOWaN2",
    "outputId": "2cfcb44c-a2db-4b76-eebb-32b93b4ca627"
   },
   "outputs": [
    {
     "data": {
      "image/png": "[encoded data removed]",
      "text/plain": [
       "<Figure size 648x432 with 1 Axes>"
      ]
     },
     "metadata": {
      "needs_background": "light"
     },
     "output_type": "display_data"
    }
   ],
   "source": [
    "import matplotlib.pyplot as plt\n",
    "\n",
    "epochs = range(1, len(Hist_dandc.history['loss']) + 1)\n",
    "\n",
    "plt.figure(figsize = (9, 6))\n",
    "plt.plot(epochs, Hist_dandc.history['accuracy'])\n",
    "plt.plot(epochs, Hist_dandc.history['val_accuracy'])\n",
    "\n",
    "plt.title('Training & Validation Accuracy')\n",
    "plt.xlabel('Epochs')\n",
    "plt.ylabel('Accuracy')\n",
    "plt.legend(['Training Accuracy', 'Validation Accuracy'])\n",
    "plt.grid()\n",
    "plt.show()"
   ]
  },
  {
   "cell_type": "markdown",
   "metadata": {
    "id": "_uJSOLBko7lh"
   },
   "source": [
    "> ## 5) Model Evaluate"
   ]
  },
  {
   "cell_type": "markdown",
   "metadata": {
    "id": "hBnpWElEZUXG"
   },
   "source": [
    "* test_generator"
   ]
  },
  {
   "cell_type": "code",
   "execution_count": 12,
   "metadata": {
    "colab": {
     "base_uri": "https://localhost:8080/"
    },
    "executionInfo": {
     "elapsed": 27,
     "status": "ok",
     "timestamp": 1628226430851,
     "user": {
      "displayName": "이정구",
      "photoUrl": "https://lh3.googleusercontent.com/a-/AOh14Gg2atzeYT6QYFW3pcTDyi6aX0d6dqm_hj4W8fMg=s64",
      "userId": "17400242557229223804"
     },
     "user_tz": -540
    },
    "id": "_IxBkugQZXk3",
    "outputId": "3c0ef839-1f43-47ad-8009-186facf46773"
   },
   "outputs": [
    {
     "name": "stdout",
     "output_type": "stream",
     "text": [
      "Found 1000 images belonging to 2 classes.\n"
     ]
    }
   ],
   "source": [
    "test_datagen = ImageDataGenerator(rescale = 1./255)\n",
    "\n",
    "test_generator = test_datagen.flow_from_directory(\n",
    "                 test_dir,\n",
    "                 target_size = (150, 150),\n",
    "                 batch_size = 20,\n",
    "                 class_mode = 'binary')"
   ]
  },
  {
   "cell_type": "markdown",
   "metadata": {
    "id": "i-TqAB2ALGzZ"
   },
   "source": [
    "* Loss & Accuracy"
   ]
  },
  {
   "cell_type": "code",
   "execution_count": 13,
   "metadata": {
    "colab": {
     "base_uri": "https://localhost:8080/"
    },
    "executionInfo": {
     "elapsed": 2894,
     "status": "ok",
     "timestamp": 1628226433727,
     "user": {
      "displayName": "이정구",
      "photoUrl": "https://lh3.googleusercontent.com/a-/AOh14Gg2atzeYT6QYFW3pcTDyi6aX0d6dqm_hj4W8fMg=s64",
      "userId": "17400242557229223804"
     },
     "user_tz": -540
    },
    "id": "OF30PuZsAxQJ",
    "outputId": "07452dfc-9fc6-4a0b-df28-5f3408d3d518"
   },
   "outputs": [
    {
     "name": "stdout",
     "output_type": "stream",
     "text": [
      "50/50 [==============================] - 3s 59ms/step - loss: 0.2895 - accuracy: 0.9530 0s - loss: 0.2986 - ac\n",
      "Loss = 0.28946\n",
      "Accuracy = 0.95300\n"
     ]
    }
   ],
   "source": [
    "loss, accuracy = model.evaluate(test_generator,\n",
    "                                steps = 50)\n",
    "\n",
    "print('Loss = {:.5f}'.format(loss))\n",
    "print('Accuracy = {:.5f}'.format(accuracy))"
   ]
  },
  {
   "cell_type": "markdown",
   "metadata": {
    "id": "fBSR6RDTtWZV"
   },
   "source": [
    "# IV. Model Save"
   ]
  },
  {
   "cell_type": "markdown",
   "metadata": {
    "id": "0SX2qVV5tfZ5"
   },
   "source": [
    "> ## 2) Model Save"
   ]
  },
  {
   "cell_type": "code",
   "execution_count": 14,
   "metadata": {
    "executionInfo": {
     "elapsed": 719,
     "status": "ok",
     "timestamp": 1628226434960,
     "user": {
      "displayName": "이정구",
      "photoUrl": "https://lh3.googleusercontent.com/a-/AOh14Gg2atzeYT6QYFW3pcTDyi6aX0d6dqm_hj4W8fMg=s64",
      "userId": "17400242557229223804"
     },
     "user_tz": -540
    },
    "id": "o-VnLdQftjvL"
   },
   "outputs": [],
   "source": [
    "model.save('./models/006_dogs_and_cats_VGG16.h5')"
   ]
  },
  {
   "cell_type": "markdown",
   "metadata": {
    "id": "WiKYR2Y5tsrv"
   },
   "source": [
    "> ## 3) Model Load"
   ]
  },
  {
   "cell_type": "code",
   "execution_count": 15,
   "metadata": {
    "executionInfo": {
     "elapsed": 919,
     "status": "ok",
     "timestamp": 1628226435872,
     "user": {
      "displayName": "이정구",
      "photoUrl": "https://lh3.googleusercontent.com/a-/AOh14Gg2atzeYT6QYFW3pcTDyi6aX0d6dqm_hj4W8fMg=s64",
      "userId": "17400242557229223804"
     },
     "user_tz": -540
    },
    "id": "90UQS7J1tzBZ"
   },
   "outputs": [],
   "source": [
    "from tensorflow.keras.models import load_model\n",
    "\n",
    "model_google = load_model('./models/006_dogs_and_cats_VGG16.h5')"
   ]
  },
  {
   "cell_type": "code",
   "execution_count": 16,
   "metadata": {
    "colab": {
     "base_uri": "https://localhost:8080/"
    },
    "executionInfo": {
     "elapsed": 4410,
     "status": "ok",
     "timestamp": 1628226440277,
     "user": {
      "displayName": "이정구",
      "photoUrl": "https://lh3.googleusercontent.com/a-/AOh14Gg2atzeYT6QYFW3pcTDyi6aX0d6dqm_hj4W8fMg=s64",
      "userId": "17400242557229223804"
     },
     "user_tz": -540
    },
    "id": "rULDfHRPXh42",
    "outputId": "4b763ba7-2ff9-4cf8-d171-bf6af8b9d181"
   },
   "outputs": [
    {
     "name": "stdout",
     "output_type": "stream",
     "text": [
      "50/50 [==============================] - 3s 59ms/step - loss: 0.2895 - accuracy: 0.9530\n",
      "Loss = 0.28946\n",
      "Accuracy = 0.95300\n"
     ]
    }
   ],
   "source": [
    "loss, accuracy = model_google.evaluate(test_generator,\n",
    "                                       steps = 50)\n",
    "\n",
    "print('Loss = {:.5f}'.format(loss))\n",
    "print('Accuracy = {:.5f}'.format(accuracy))"
   ]
  }
 ],
 "metadata": {
  "accelerator": "GPU",
  "colab": {
   "collapsed_sections": [],
   "name": "600_CNN_Dogs_and_Cats_VGG16_GPU.ipynb",
   "provenance": []
  },
  "kernelspec": {
   "display_name": "Python tf25",
   "language": "python",
   "name": "tf25"
  },
  "language_info": {
   "codemirror_mode": {
    "name": "ipython",
    "version": 3
   },
   "file_extension": ".py",
   "mimetype": "text/x-python",
   "name": "python",
   "nbconvert_exporter": "python",
   "pygments_lexer": "ipython3",
   "version": "3.8.8"
  }
 },
 "nbformat": 4,
 "nbformat_minor": 1
}
