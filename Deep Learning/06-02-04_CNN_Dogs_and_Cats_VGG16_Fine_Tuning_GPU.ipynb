{
 "cells": [
  {
   "cell_type": "markdown",
   "metadata": {
    "id": "q2Pr7oBdYLdf"
   },
   "source": [
    "# 사전 학습된 CNN(VGG-16)을 이용한 Fine Tunig\n",
    "## VGG-16 Model\n",
    "* University of Oxford - Visual Geometry Group\n",
    "* 2014 ILSVRC 2nd Model\n",
    "* ImageNet Large Scale Visual Recognition Challenge (ILSVRC)\n"
   ]
  },
  {
   "cell_type": "code",
   "execution_count": 1,
   "metadata": {
    "executionInfo": {
     "elapsed": 10,
     "status": "ok",
     "timestamp": 1628210948016,
     "user": {
      "displayName": "이정구",
      "photoUrl": "https://lh3.googleusercontent.com/a-/AOh14Gg2atzeYT6QYFW3pcTDyi6aX0d6dqm_hj4W8fMg=s64",
      "userId": "17400242557229223804"
     },
     "user_tz": -540
    },
    "id": "RbPgODpVzdHI"
   },
   "outputs": [],
   "source": [
    "import warnings\n",
    "warnings.filterwarnings('ignore')"
   ]
  },
  {
   "cell_type": "markdown",
   "metadata": {
    "id": "M9XBsS7QD8EU"
   },
   "source": [
    "## Import Tensorflow"
   ]
  },
  {
   "cell_type": "code",
   "execution_count": 2,
   "metadata": {
    "colab": {
     "base_uri": "https://localhost:8080/",
     "height": 35
    },
    "executionInfo": {
     "elapsed": 2296,
     "status": "ok",
     "timestamp": 1628210950304,
     "user": {
      "displayName": "이정구",
      "photoUrl": "https://lh3.googleusercontent.com/a-/AOh14Gg2atzeYT6QYFW3pcTDyi6aX0d6dqm_hj4W8fMg=s64",
      "userId": "17400242557229223804"
     },
     "user_tz": -540
    },
    "id": "GR4j3p6N_rDV",
    "outputId": "79c36a41-1337-43ea-b411-0bca9a651125"
   },
   "outputs": [
    {
     "data": {
      "text/plain": [
       "'2.5.0'"
      ]
     },
     "execution_count": 2,
     "metadata": {},
     "output_type": "execute_result"
    }
   ],
   "source": [
    "import tensorflow\n",
    "\n",
    "tensorflow.__version__"
   ]
  },
  {
   "cell_type": "markdown",
   "metadata": {
    "id": "1DyFdyVxFyHK"
   },
   "source": [
    "# II. Image_File Directory Setting"
   ]
  },
  {
   "cell_type": "markdown",
   "metadata": {
    "id": "fwUMpMCYGB7Z"
   },
   "source": [
    "* train_dir\n",
    "* valid_dir\n",
    "* test_dir"
   ]
  },
  {
   "cell_type": "code",
   "execution_count": 3,
   "metadata": {
    "executionInfo": {
     "elapsed": 15,
     "status": "ok",
     "timestamp": 1628211011723,
     "user": {
      "displayName": "이정구",
      "photoUrl": "https://lh3.googleusercontent.com/a-/AOh14Gg2atzeYT6QYFW3pcTDyi6aX0d6dqm_hj4W8fMg=s64",
      "userId": "17400242557229223804"
     },
     "user_tz": -540
    },
    "id": "DxstjE8b_6Te"
   },
   "outputs": [],
   "source": [
    "train_dir = './datasets/dogs_and_cats_small/train'\n",
    "valid_dir = './datasets/dogs_and_cats_small/validation'\n",
    "test_dir = './datasets/dogs_and_cats_small/test'"
   ]
  },
  {
   "cell_type": "markdown",
   "metadata": {
    "id": "0NXAn6tEYuVP"
   },
   "source": [
    "# III. Data Preprocessing"
   ]
  },
  {
   "cell_type": "markdown",
   "metadata": {
    "id": "k-mxzCBmZBVW"
   },
   "source": [
    "> ## 1) ImageDataGenerator( ) & flow_from_directory( )"
   ]
  },
  {
   "cell_type": "markdown",
   "metadata": {
    "id": "67hcrgtRubHV"
   },
   "source": [
    "* Normalization\n",
    " * ImageDataGenerator( )\n",
    "* Resizing & Generator\n",
    " * flow_from_directory( )"
   ]
  },
  {
   "cell_type": "code",
   "execution_count": 4,
   "metadata": {
    "colab": {
     "base_uri": "https://localhost:8080/"
    },
    "executionInfo": {
     "elapsed": 390,
     "status": "ok",
     "timestamp": 1628211012099,
     "user": {
      "displayName": "이정구",
      "photoUrl": "https://lh3.googleusercontent.com/a-/AOh14Gg2atzeYT6QYFW3pcTDyi6aX0d6dqm_hj4W8fMg=s64",
      "userId": "17400242557229223804"
     },
     "user_tz": -540
    },
    "id": "fv4TEj_oZDGm",
    "outputId": "c2fafd0d-926e-4aa6-9f64-190fd02452e2"
   },
   "outputs": [
    {
     "name": "stdout",
     "output_type": "stream",
     "text": [
      "Found 2000 images belonging to 2 classes.\n",
      "Found 1000 images belonging to 2 classes.\n"
     ]
    }
   ],
   "source": [
    "from tensorflow.keras.preprocessing.image import ImageDataGenerator\n",
    "\n",
    "train_datagen = ImageDataGenerator(rescale = 1./255)\n",
    "valid_datagen = ImageDataGenerator(rescale = 1./255)\n",
    "\n",
    "train_generator = train_datagen.flow_from_directory(\n",
    "                  train_dir,\n",
    "                  target_size = (150, 150),\n",
    "                  batch_size = 20,\n",
    "                  class_mode = 'binary')\n",
    "\n",
    "valid_generator = valid_datagen.flow_from_directory(\n",
    "                  valid_dir,\n",
    "                  target_size = (150, 150),\n",
    "                  batch_size = 20,\n",
    "                  class_mode = 'binary')"
   ]
  },
  {
   "cell_type": "markdown",
   "metadata": {
    "id": "wBAWLCWdGNde"
   },
   "source": [
    "# IV. Import VGG-16 Model & Some Layers Freezing"
   ]
  },
  {
   "cell_type": "markdown",
   "metadata": {
    "id": "tpdqyBb2Gsdj"
   },
   "source": [
    "> ## 1) conv_base"
   ]
  },
  {
   "cell_type": "code",
   "execution_count": 5,
   "metadata": {
    "colab": {
     "base_uri": "https://localhost:8080/"
    },
    "executionInfo": {
     "elapsed": 6804,
     "status": "ok",
     "timestamp": 1628211018896,
     "user": {
      "displayName": "이정구",
      "photoUrl": "https://lh3.googleusercontent.com/a-/AOh14Gg2atzeYT6QYFW3pcTDyi6aX0d6dqm_hj4W8fMg=s64",
      "userId": "17400242557229223804"
     },
     "user_tz": -540
    },
    "id": "Zgv7VdbFGTGK",
    "outputId": "40827412-7b27-4f6f-e697-02453b2637d5"
   },
   "outputs": [
    {
     "name": "stdout",
     "output_type": "stream",
     "text": [
      "Downloading data from https://storage.googleapis.com/tensorflow/keras-applications/vgg16/vgg16_weights_tf_dim_ordering_tf_kernels_notop.h5\n",
      "58892288/58889256 [==============================] - 2s 0us/step\n"
     ]
    }
   ],
   "source": [
    "from tensorflow.keras.applications import VGG16\n",
    "\n",
    "conv_base = VGG16(weights = 'imagenet',\n",
    "                  include_top = False,  # DNN Network는 제외하고 가져오기\n",
    "                  input_shape = (150, 150, 3))"
   ]
  },
  {
   "cell_type": "markdown",
   "metadata": {
    "id": "d8isG6d-G2bf"
   },
   "source": [
    "> ## 2) Model Information"
   ]
  },
  {
   "cell_type": "code",
   "execution_count": 6,
   "metadata": {
    "colab": {
     "base_uri": "https://localhost:8080/"
    },
    "executionInfo": {
     "elapsed": 54,
     "status": "ok",
     "timestamp": 1628211018899,
     "user": {
      "displayName": "이정구",
      "photoUrl": "https://lh3.googleusercontent.com/a-/AOh14Gg2atzeYT6QYFW3pcTDyi6aX0d6dqm_hj4W8fMg=s64",
      "userId": "17400242557229223804"
     },
     "user_tz": -540
    },
    "id": "rEBl55fNGnvN",
    "outputId": "444b6cc3-6ede-4725-bbcb-ef15c92deb13"
   },
   "outputs": [
    {
     "name": "stdout",
     "output_type": "stream",
     "text": [
      "Model: \"vgg16\"\n",
      "_________________________________________________________________\n",
      "Layer (type)                 Output Shape              Param #   \n",
      "=================================================================\n",
      "input_1 (InputLayer)         [(None, 150, 150, 3)]     0         \n",
      "_________________________________________________________________\n",
      "block1_conv1 (Conv2D)        (None, 150, 150, 64)      1792      \n",
      "_________________________________________________________________\n",
      "block1_conv2 (Conv2D)        (None, 150, 150, 64)      36928     \n",
      "_________________________________________________________________\n",
      "block1_pool (MaxPooling2D)   (None, 75, 75, 64)        0         \n",
      "_________________________________________________________________\n",
      "block2_conv1 (Conv2D)        (None, 75, 75, 128)       73856     \n",
      "_________________________________________________________________\n",
      "block2_conv2 (Conv2D)        (None, 75, 75, 128)       147584    \n",
      "_________________________________________________________________\n",
      "block2_pool (MaxPooling2D)   (None, 37, 37, 128)       0         \n",
      "_________________________________________________________________\n",
      "block3_conv1 (Conv2D)        (None, 37, 37, 256)       295168    \n",
      "_________________________________________________________________\n",
      "block3_conv2 (Conv2D)        (None, 37, 37, 256)       590080    \n",
      "_________________________________________________________________\n",
      "block3_conv3 (Conv2D)        (None, 37, 37, 256)       590080    \n",
      "_________________________________________________________________\n",
      "block3_pool (MaxPooling2D)   (None, 18, 18, 256)       0         \n",
      "_________________________________________________________________\n",
      "block4_conv1 (Conv2D)        (None, 18, 18, 512)       1180160   \n",
      "_________________________________________________________________\n",
      "block4_conv2 (Conv2D)        (None, 18, 18, 512)       2359808   \n",
      "_________________________________________________________________\n",
      "block4_conv3 (Conv2D)        (None, 18, 18, 512)       2359808   \n",
      "_________________________________________________________________\n",
      "block4_pool (MaxPooling2D)   (None, 9, 9, 512)         0         \n",
      "_________________________________________________________________\n",
      "block5_conv1 (Conv2D)        (None, 9, 9, 512)         2359808   \n",
      "_________________________________________________________________\n",
      "block5_conv2 (Conv2D)        (None, 9, 9, 512)         2359808   \n",
      "_________________________________________________________________\n",
      "block5_conv3 (Conv2D)        (None, 9, 9, 512)         2359808   \n",
      "_________________________________________________________________\n",
      "block5_pool (MaxPooling2D)   (None, 4, 4, 512)         0         \n",
      "=================================================================\n",
      "Total params: 14,714,688\n",
      "Trainable params: 14,714,688\n",
      "Non-trainable params: 0\n",
      "_________________________________________________________________\n"
     ]
    }
   ],
   "source": [
    "conv_base.summary()"
   ]
  },
  {
   "cell_type": "markdown",
   "metadata": {
    "id": "TxWne2N9VhI3"
   },
   "source": [
    "> ## 3) 'block5_conv1' Freezing"
   ]
  },
  {
   "cell_type": "markdown",
   "metadata": {
    "id": "DC2_Oiu6WeXY"
   },
   "source": [
    "* Before 'weight' Freezing"
   ]
  },
  {
   "cell_type": "code",
   "execution_count": 7,
   "metadata": {
    "colab": {
     "base_uri": "https://localhost:8080/"
    },
    "executionInfo": {
     "elapsed": 51,
     "status": "ok",
     "timestamp": 1628211018902,
     "user": {
      "displayName": "이정구",
      "photoUrl": "https://lh3.googleusercontent.com/a-/AOh14Gg2atzeYT6QYFW3pcTDyi6aX0d6dqm_hj4W8fMg=s64",
      "userId": "17400242557229223804"
     },
     "user_tz": -540
    },
    "id": "U8OIOUs3WAvK",
    "outputId": "609a73e5-1a73-4ed5-c139-854cb1154b11"
   },
   "outputs": [
    {
     "name": "stdout",
     "output_type": "stream",
     "text": [
      "conv_base 동결 전 훈련 가능 가중치의 종류: 26\n"
     ]
    }
   ],
   "source": [
    "print('conv_base 동결 전 훈련 가능 가중치의 종류:', len(conv_base.trainable_weights))"
   ]
  },
  {
   "cell_type": "markdown",
   "metadata": {
    "id": "w-DQqn8aWkfj"
   },
   "source": [
    "* 'weight' Freezing"
   ]
  },
  {
   "cell_type": "code",
   "execution_count": 8,
   "metadata": {
    "executionInfo": {
     "elapsed": 45,
     "status": "ok",
     "timestamp": 1628211018905,
     "user": {
      "displayName": "이정구",
      "photoUrl": "https://lh3.googleusercontent.com/a-/AOh14Gg2atzeYT6QYFW3pcTDyi6aX0d6dqm_hj4W8fMg=s64",
      "userId": "17400242557229223804"
     },
     "user_tz": -540
    },
    "id": "RAZ2ly5LVvUP"
   },
   "outputs": [],
   "source": [
    "set_trainable = False\n",
    "\n",
    "for layer in conv_base.layers:\n",
    "    if layer.name == 'block5_conv1':\n",
    "        set_trainable = True\n",
    "        \n",
    "    if set_trainable:\n",
    "        layer.trainable = True\n",
    "    else:\n",
    "        layer.trainable = False"
   ]
  },
  {
   "cell_type": "markdown",
   "metadata": {
    "id": "Lh4YhX_wWo__"
   },
   "source": [
    "* After 'weight' Freezing"
   ]
  },
  {
   "cell_type": "code",
   "execution_count": 9,
   "metadata": {
    "colab": {
     "base_uri": "https://localhost:8080/"
    },
    "executionInfo": {
     "elapsed": 45,
     "status": "ok",
     "timestamp": 1628211018907,
     "user": {
      "displayName": "이정구",
      "photoUrl": "https://lh3.googleusercontent.com/a-/AOh14Gg2atzeYT6QYFW3pcTDyi6aX0d6dqm_hj4W8fMg=s64",
      "userId": "17400242557229223804"
     },
     "user_tz": -540
    },
    "id": "c95RKWPlWUx1",
    "outputId": "7ce40cd8-5ec5-450c-c787-8d6df3b4a4b1"
   },
   "outputs": [
    {
     "name": "stdout",
     "output_type": "stream",
     "text": [
      "conv_base 동결 후 훈련 가능 가중치의 종류: 6\n"
     ]
    }
   ],
   "source": [
    "print('conv_base 동결 후 훈련 가능 가중치의 종류:', len(conv_base.trainable_weights))"
   ]
  },
  {
   "cell_type": "code",
   "execution_count": 10,
   "metadata": {
    "colab": {
     "base_uri": "https://localhost:8080/"
    },
    "executionInfo": {
     "elapsed": 40,
     "status": "ok",
     "timestamp": 1628211018909,
     "user": {
      "displayName": "이정구",
      "photoUrl": "https://lh3.googleusercontent.com/a-/AOh14Gg2atzeYT6QYFW3pcTDyi6aX0d6dqm_hj4W8fMg=s64",
      "userId": "17400242557229223804"
     },
     "user_tz": -540
    },
    "id": "YuqnH4ieX3jR",
    "outputId": "495a2247-eb4e-42f9-dc64-78b3f09e681d"
   },
   "outputs": [
    {
     "name": "stdout",
     "output_type": "stream",
     "text": [
      "Model: \"vgg16\"\n",
      "_________________________________________________________________\n",
      "Layer (type)                 Output Shape              Param #   \n",
      "=================================================================\n",
      "input_1 (InputLayer)         [(None, 150, 150, 3)]     0         \n",
      "_________________________________________________________________\n",
      "block1_conv1 (Conv2D)        (None, 150, 150, 64)      1792      \n",
      "_________________________________________________________________\n",
      "block1_conv2 (Conv2D)        (None, 150, 150, 64)      36928     \n",
      "_________________________________________________________________\n",
      "block1_pool (MaxPooling2D)   (None, 75, 75, 64)        0         \n",
      "_________________________________________________________________\n",
      "block2_conv1 (Conv2D)        (None, 75, 75, 128)       73856     \n",
      "_________________________________________________________________\n",
      "block2_conv2 (Conv2D)        (None, 75, 75, 128)       147584    \n",
      "_________________________________________________________________\n",
      "block2_pool (MaxPooling2D)   (None, 37, 37, 128)       0         \n",
      "_________________________________________________________________\n",
      "block3_conv1 (Conv2D)        (None, 37, 37, 256)       295168    \n",
      "_________________________________________________________________\n",
      "block3_conv2 (Conv2D)        (None, 37, 37, 256)       590080    \n",
      "_________________________________________________________________\n",
      "block3_conv3 (Conv2D)        (None, 37, 37, 256)       590080    \n",
      "_________________________________________________________________\n",
      "block3_pool (MaxPooling2D)   (None, 18, 18, 256)       0         \n",
      "_________________________________________________________________\n",
      "block4_conv1 (Conv2D)        (None, 18, 18, 512)       1180160   \n",
      "_________________________________________________________________\n",
      "block4_conv2 (Conv2D)        (None, 18, 18, 512)       2359808   \n",
      "_________________________________________________________________\n",
      "block4_conv3 (Conv2D)        (None, 18, 18, 512)       2359808   \n",
      "_________________________________________________________________\n",
      "block4_pool (MaxPooling2D)   (None, 9, 9, 512)         0         \n",
      "_________________________________________________________________\n",
      "block5_conv1 (Conv2D)        (None, 9, 9, 512)         2359808   \n",
      "_________________________________________________________________\n",
      "block5_conv2 (Conv2D)        (None, 9, 9, 512)         2359808   \n",
      "_________________________________________________________________\n",
      "block5_conv3 (Conv2D)        (None, 9, 9, 512)         2359808   \n",
      "_________________________________________________________________\n",
      "block5_pool (MaxPooling2D)   (None, 4, 4, 512)         0         \n",
      "=================================================================\n",
      "Total params: 14,714,688\n",
      "Trainable params: 7,079,424\n",
      "Non-trainable params: 7,635,264\n",
      "_________________________________________________________________\n"
     ]
    }
   ],
   "source": [
    "conv_base.summary()"
   ]
  },
  {
   "cell_type": "markdown",
   "metadata": {
    "id": "NTwZiSjiop3v"
   },
   "source": [
    "# V. Keras CNN Modeling with VGG-16 Freezed Layers"
   ]
  },
  {
   "cell_type": "markdown",
   "metadata": {
    "id": "j5CT0TurJCkc"
   },
   "source": [
    "> ## 1) Model Define"
   ]
  },
  {
   "cell_type": "markdown",
   "metadata": {
    "id": "ydDCl0jTJD58"
   },
   "source": [
    "* 'conv_base' & 'Classification' Network\n",
    "* Dropout Layer"
   ]
  },
  {
   "cell_type": "code",
   "execution_count": 11,
   "metadata": {
    "executionInfo": {
     "elapsed": 493,
     "status": "ok",
     "timestamp": 1628211019374,
     "user": {
      "displayName": "이정구",
      "photoUrl": "https://lh3.googleusercontent.com/a-/AOh14Gg2atzeYT6QYFW3pcTDyi6aX0d6dqm_hj4W8fMg=s64",
      "userId": "17400242557229223804"
     },
     "user_tz": -540
    },
    "id": "II0DskRdAcHS"
   },
   "outputs": [],
   "source": [
    "from tensorflow.keras import models, layers\n",
    "\n",
    "model = models.Sequential()\n",
    "model.add(conv_base)\n",
    "\n",
    "model.add(layers.Flatten())\n",
    "model.add(layers.Dense(256, activation = 'relu'))\n",
    "model.add(layers.Dropout(0.4))\n",
    "model.add(layers.Dense(1, activation = 'sigmoid'))"
   ]
  },
  {
   "cell_type": "code",
   "execution_count": 12,
   "metadata": {
    "colab": {
     "base_uri": "https://localhost:8080/"
    },
    "executionInfo": {
     "elapsed": 22,
     "status": "ok",
     "timestamp": 1628211019375,
     "user": {
      "displayName": "이정구",
      "photoUrl": "https://lh3.googleusercontent.com/a-/AOh14Gg2atzeYT6QYFW3pcTDyi6aX0d6dqm_hj4W8fMg=s64",
      "userId": "17400242557229223804"
     },
     "user_tz": -540
    },
    "id": "wbtjOA4XMTUd",
    "outputId": "fd05d051-da25-42dd-f305-c6bf9f1d9756"
   },
   "outputs": [
    {
     "name": "stdout",
     "output_type": "stream",
     "text": [
      "Model: \"sequential\"\n",
      "_________________________________________________________________\n",
      "Layer (type)                 Output Shape              Param #   \n",
      "=================================================================\n",
      "vgg16 (Functional)           (None, 4, 4, 512)         14714688  \n",
      "_________________________________________________________________\n",
      "flatten (Flatten)            (None, 8192)              0         \n",
      "_________________________________________________________________\n",
      "dense (Dense)                (None, 256)               2097408   \n",
      "_________________________________________________________________\n",
      "dropout (Dropout)            (None, 256)               0         \n",
      "_________________________________________________________________\n",
      "dense_1 (Dense)              (None, 1)                 257       \n",
      "=================================================================\n",
      "Total params: 16,812,353\n",
      "Trainable params: 9,177,089\n",
      "Non-trainable params: 7,635,264\n",
      "_________________________________________________________________\n"
     ]
    }
   ],
   "source": [
    "model.summary()"
   ]
  },
  {
   "cell_type": "markdown",
   "metadata": {
    "id": "tpjBDBeYoyuj"
   },
   "source": [
    "> ## 2) Model Compile"
   ]
  },
  {
   "cell_type": "markdown",
   "metadata": {
    "id": "f3sxkQa0JoUr"
   },
   "source": [
    "* 모델 학습방법 설정\n",
    " * 이미 학습된 Weight 값을 Tuning\n",
    " * 매우 작은 Learnig Rate 지정\n",
    " * optimizers.Adam(lr = 0.000005)"
   ]
  },
  {
   "cell_type": "code",
   "execution_count": 13,
   "metadata": {
    "executionInfo": {
     "elapsed": 18,
     "status": "ok",
     "timestamp": 1628211019375,
     "user": {
      "displayName": "이정구",
      "photoUrl": "https://lh3.googleusercontent.com/a-/AOh14Gg2atzeYT6QYFW3pcTDyi6aX0d6dqm_hj4W8fMg=s64",
      "userId": "17400242557229223804"
     },
     "user_tz": -540
    },
    "id": "AyK_t1qwAi6M"
   },
   "outputs": [],
   "source": [
    "from tensorflow.keras import optimizers\n",
    "\n",
    "model.compile(loss = 'binary_crossentropy',\n",
    "              optimizer = optimizers.Adam(lr = 0.000005),\n",
    "              metrics = ['accuracy'])"
   ]
  },
  {
   "cell_type": "markdown",
   "metadata": {
    "id": "umiq4B-Xo3OB"
   },
   "source": [
    "> ## 3) Model Fit"
   ]
  },
  {
   "cell_type": "markdown",
   "metadata": {
    "id": "1KuXREziKMD1"
   },
   "source": [
    "* 약 17분"
   ]
  },
  {
   "cell_type": "code",
   "execution_count": 14,
   "metadata": {
    "colab": {
     "base_uri": "https://localhost:8080/"
    },
    "executionInfo": {
     "elapsed": 1139483,
     "status": "ok",
     "timestamp": 1628212158842,
     "user": {
      "displayName": "이정구",
      "photoUrl": "https://lh3.googleusercontent.com/a-/AOh14Gg2atzeYT6QYFW3pcTDyi6aX0d6dqm_hj4W8fMg=s64",
      "userId": "17400242557229223804"
     },
     "user_tz": -540
    },
    "id": "zxwqwAqRAqRP",
    "outputId": "ae32f0ab-8b8c-4a87-e43d-8c4b8c36d3fb"
   },
   "outputs": [
    {
     "name": "stdout",
     "output_type": "stream",
     "text": [
      "Epoch 1/100\n",
      "100/100 [==============================] - 21s 111ms/step - loss: 0.6595 - accuracy: 0.6240 - val_loss: 0.5095 - val_accuracy: 0.8050\n",
      "Epoch 2/100\n",
      "100/100 [==============================] - 11s 109ms/step - loss: 0.4377 - accuracy: 0.8035 - val_loss: 0.3427 - val_accuracy: 0.8700\n",
      "Epoch 3/100\n",
      "100/100 [==============================] - 11s 110ms/step - loss: 0.3056 - accuracy: 0.8800 - val_loss: 0.2657 - val_accuracy: 0.8880\n",
      "Epoch 4/100\n",
      "100/100 [==============================] - 11s 110ms/step - loss: 0.2364 - accuracy: 0.9065 - val_loss: 0.2279 - val_accuracy: 0.9050\n",
      "Epoch 5/100\n",
      "100/100 [==============================] - 11s 110ms/step - loss: 0.1846 - accuracy: 0.9230 - val_loss: 0.2049 - val_accuracy: 0.9120\n",
      "Epoch 6/100\n",
      "100/100 [==============================] - 11s 110ms/step - loss: 0.1551 - accuracy: 0.9420 - val_loss: 0.1949 - val_accuracy: 0.9160\n",
      "Epoch 7/100\n",
      "100/100 [==============================] - 11s 110ms/step - loss: 0.1255 - accuracy: 0.9540 - val_loss: 0.1886 - val_accuracy: 0.9190\n",
      "Epoch 8/100\n",
      "100/100 [==============================] - 11s 111ms/step - loss: 0.1011 - accuracy: 0.9660 - val_loss: 0.1942 - val_accuracy: 0.9210\n",
      "Epoch 9/100\n",
      "100/100 [==============================] - 11s 111ms/step - loss: 0.0827 - accuracy: 0.9725 - val_loss: 0.1820 - val_accuracy: 0.9180\n",
      "Epoch 10/100\n",
      "100/100 [==============================] - 11s 110ms/step - loss: 0.0654 - accuracy: 0.9840 - val_loss: 0.1835 - val_accuracy: 0.9200\n",
      "Epoch 11/100\n",
      "100/100 [==============================] - 11s 111ms/step - loss: 0.0575 - accuracy: 0.9860 - val_loss: 0.1814 - val_accuracy: 0.9210\n",
      "Epoch 12/100\n",
      "100/100 [==============================] - 11s 111ms/step - loss: 0.0442 - accuracy: 0.9880 - val_loss: 0.1817 - val_accuracy: 0.9200\n",
      "Epoch 13/100\n",
      "100/100 [==============================] - 11s 111ms/step - loss: 0.0363 - accuracy: 0.9930 - val_loss: 0.1874 - val_accuracy: 0.9230\n",
      "Epoch 14/100\n",
      "100/100 [==============================] - 11s 111ms/step - loss: 0.0272 - accuracy: 0.9970 - val_loss: 0.1898 - val_accuracy: 0.9230\n",
      "Epoch 15/100\n",
      "100/100 [==============================] - 11s 111ms/step - loss: 0.0272 - accuracy: 0.9950 - val_loss: 0.1921 - val_accuracy: 0.9230\n",
      "Epoch 16/100\n",
      "100/100 [==============================] - 11s 112ms/step - loss: 0.0224 - accuracy: 0.9975 - val_loss: 0.1944 - val_accuracy: 0.9240\n",
      "Epoch 17/100\n",
      "100/100 [==============================] - 11s 112ms/step - loss: 0.0160 - accuracy: 0.9990 - val_loss: 0.2065 - val_accuracy: 0.9230\n",
      "Epoch 18/100\n",
      "100/100 [==============================] - 11s 112ms/step - loss: 0.0134 - accuracy: 0.9995 - val_loss: 0.2001 - val_accuracy: 0.9250\n",
      "Epoch 19/100\n",
      "100/100 [==============================] - 11s 112ms/step - loss: 0.0131 - accuracy: 0.9990 - val_loss: 0.2067 - val_accuracy: 0.9260\n",
      "Epoch 20/100\n",
      "100/100 [==============================] - 11s 112ms/step - loss: 0.0110 - accuracy: 0.9995 - val_loss: 0.2077 - val_accuracy: 0.9300\n",
      "Epoch 21/100\n",
      "100/100 [==============================] - 11s 111ms/step - loss: 0.0075 - accuracy: 1.0000 - val_loss: 0.2177 - val_accuracy: 0.9290\n",
      "Epoch 22/100\n",
      "100/100 [==============================] - 11s 111ms/step - loss: 0.0060 - accuracy: 1.0000 - val_loss: 0.2205 - val_accuracy: 0.9280\n",
      "Epoch 23/100\n",
      "100/100 [==============================] - 11s 111ms/step - loss: 0.0061 - accuracy: 1.0000 - val_loss: 0.2236 - val_accuracy: 0.9280\n",
      "Epoch 24/100\n",
      "100/100 [==============================] - 11s 111ms/step - loss: 0.0062 - accuracy: 0.9995 - val_loss: 0.2385 - val_accuracy: 0.9200\n",
      "Epoch 25/100\n",
      "100/100 [==============================] - 11s 111ms/step - loss: 0.0048 - accuracy: 1.0000 - val_loss: 0.2308 - val_accuracy: 0.9270\n",
      "Epoch 26/100\n",
      "100/100 [==============================] - 11s 111ms/step - loss: 0.0035 - accuracy: 1.0000 - val_loss: 0.2398 - val_accuracy: 0.9260\n",
      "Epoch 27/100\n",
      "100/100 [==============================] - 11s 111ms/step - loss: 0.0034 - accuracy: 1.0000 - val_loss: 0.2361 - val_accuracy: 0.9270\n",
      "Epoch 28/100\n",
      "100/100 [==============================] - 11s 111ms/step - loss: 0.0030 - accuracy: 1.0000 - val_loss: 0.2400 - val_accuracy: 0.9290\n",
      "Epoch 29/100\n",
      "100/100 [==============================] - 11s 111ms/step - loss: 0.0027 - accuracy: 1.0000 - val_loss: 0.2583 - val_accuracy: 0.9230\n",
      "Epoch 30/100\n",
      "100/100 [==============================] - 11s 111ms/step - loss: 0.0023 - accuracy: 1.0000 - val_loss: 0.2516 - val_accuracy: 0.9260\n",
      "Epoch 31/100\n",
      "100/100 [==============================] - 11s 110ms/step - loss: 0.0020 - accuracy: 1.0000 - val_loss: 0.2500 - val_accuracy: 0.9290\n",
      "Epoch 32/100\n",
      "100/100 [==============================] - 11s 111ms/step - loss: 0.0018 - accuracy: 1.0000 - val_loss: 0.2526 - val_accuracy: 0.9260\n",
      "Epoch 33/100\n",
      "100/100 [==============================] - 11s 111ms/step - loss: 0.0016 - accuracy: 1.0000 - val_loss: 0.2589 - val_accuracy: 0.9230\n",
      "Epoch 34/100\n",
      "100/100 [==============================] - 11s 110ms/step - loss: 0.0014 - accuracy: 1.0000 - val_loss: 0.2700 - val_accuracy: 0.9290\n",
      "Epoch 35/100\n",
      "100/100 [==============================] - 11s 112ms/step - loss: 0.0014 - accuracy: 1.0000 - val_loss: 0.2646 - val_accuracy: 0.9270\n",
      "Epoch 36/100\n",
      "100/100 [==============================] - 11s 111ms/step - loss: 0.0010 - accuracy: 1.0000 - val_loss: 0.2801 - val_accuracy: 0.9280\n",
      "Epoch 37/100\n",
      "100/100 [==============================] - 11s 111ms/step - loss: 9.7393e-04 - accuracy: 1.0000 - val_loss: 0.2733 - val_accuracy: 0.9280\n",
      "Epoch 38/100\n",
      "100/100 [==============================] - 11s 112ms/step - loss: 0.0010 - accuracy: 1.0000 - val_loss: 0.2752 - val_accuracy: 0.9250\n",
      "Epoch 39/100\n",
      "100/100 [==============================] - 11s 112ms/step - loss: 9.3760e-04 - accuracy: 1.0000 - val_loss: 0.2831 - val_accuracy: 0.9270\n",
      "Epoch 40/100\n",
      "100/100 [==============================] - 11s 112ms/step - loss: 7.5261e-04 - accuracy: 1.0000 - val_loss: 0.2827 - val_accuracy: 0.9260\n",
      "Epoch 41/100\n",
      "100/100 [==============================] - 11s 112ms/step - loss: 8.2646e-04 - accuracy: 1.0000 - val_loss: 0.2827 - val_accuracy: 0.9290\n",
      "Epoch 42/100\n",
      "100/100 [==============================] - 11s 112ms/step - loss: 5.5839e-04 - accuracy: 1.0000 - val_loss: 0.2877 - val_accuracy: 0.9290\n",
      "Epoch 43/100\n",
      "100/100 [==============================] - 11s 111ms/step - loss: 6.8926e-04 - accuracy: 1.0000 - val_loss: 0.3026 - val_accuracy: 0.9280\n",
      "Epoch 44/100\n",
      "100/100 [==============================] - 11s 111ms/step - loss: 4.8171e-04 - accuracy: 1.0000 - val_loss: 0.3002 - val_accuracy: 0.9280\n",
      "Epoch 45/100\n",
      "100/100 [==============================] - 11s 112ms/step - loss: 4.2427e-04 - accuracy: 1.0000 - val_loss: 0.3039 - val_accuracy: 0.9300\n",
      "Epoch 46/100\n",
      "100/100 [==============================] - 11s 111ms/step - loss: 4.0384e-04 - accuracy: 1.0000 - val_loss: 0.3093 - val_accuracy: 0.9280\n",
      "Epoch 47/100\n",
      "100/100 [==============================] - 11s 112ms/step - loss: 7.1686e-04 - accuracy: 1.0000 - val_loss: 0.3057 - val_accuracy: 0.9250\n",
      "Epoch 48/100\n",
      "100/100 [==============================] - 11s 111ms/step - loss: 3.5781e-04 - accuracy: 1.0000 - val_loss: 0.3069 - val_accuracy: 0.9250\n",
      "Epoch 49/100\n",
      "100/100 [==============================] - 11s 111ms/step - loss: 3.8356e-04 - accuracy: 1.0000 - val_loss: 0.3049 - val_accuracy: 0.9280\n",
      "Epoch 50/100\n",
      "100/100 [==============================] - 11s 111ms/step - loss: 2.9088e-04 - accuracy: 1.0000 - val_loss: 0.3107 - val_accuracy: 0.9290\n",
      "Epoch 51/100\n",
      "100/100 [==============================] - 11s 111ms/step - loss: 2.7426e-04 - accuracy: 1.0000 - val_loss: 0.3176 - val_accuracy: 0.9290\n",
      "Epoch 52/100\n",
      "100/100 [==============================] - 11s 111ms/step - loss: 4.8724e-04 - accuracy: 1.0000 - val_loss: 0.3133 - val_accuracy: 0.9280\n",
      "Epoch 53/100\n",
      "100/100 [==============================] - 11s 110ms/step - loss: 2.3661e-04 - accuracy: 1.0000 - val_loss: 0.3145 - val_accuracy: 0.9310\n",
      "Epoch 54/100\n",
      "100/100 [==============================] - 11s 111ms/step - loss: 1.9781e-04 - accuracy: 1.0000 - val_loss: 0.3252 - val_accuracy: 0.9270\n",
      "Epoch 55/100\n",
      "100/100 [==============================] - 11s 111ms/step - loss: 3.6019e-04 - accuracy: 1.0000 - val_loss: 0.3180 - val_accuracy: 0.9290\n",
      "Epoch 56/100\n"
     ]
    },
    {
     "name": "stdout",
     "output_type": "stream",
     "text": [
      "100/100 [==============================] - 11s 111ms/step - loss: 2.7833e-04 - accuracy: 1.0000 - val_loss: 0.3225 - val_accuracy: 0.9280\n",
      "Epoch 57/100\n",
      "100/100 [==============================] - 11s 111ms/step - loss: 1.7931e-04 - accuracy: 1.0000 - val_loss: 0.3230 - val_accuracy: 0.9280\n",
      "Epoch 58/100\n",
      "100/100 [==============================] - 11s 111ms/step - loss: 1.8869e-04 - accuracy: 1.0000 - val_loss: 0.3363 - val_accuracy: 0.9290\n",
      "Epoch 59/100\n",
      "100/100 [==============================] - 11s 113ms/step - loss: 1.3601e-04 - accuracy: 1.0000 - val_loss: 0.3381 - val_accuracy: 0.9310\n",
      "Epoch 60/100\n",
      "100/100 [==============================] - 11s 113ms/step - loss: 1.2801e-04 - accuracy: 1.0000 - val_loss: 0.3368 - val_accuracy: 0.9280\n",
      "Epoch 61/100\n",
      "100/100 [==============================] - 11s 112ms/step - loss: 1.2117e-04 - accuracy: 1.0000 - val_loss: 0.3396 - val_accuracy: 0.9290\n",
      "Epoch 62/100\n",
      "100/100 [==============================] - 11s 112ms/step - loss: 1.1263e-04 - accuracy: 1.0000 - val_loss: 0.3470 - val_accuracy: 0.9300\n",
      "Epoch 63/100\n",
      "100/100 [==============================] - 11s 112ms/step - loss: 9.0322e-05 - accuracy: 1.0000 - val_loss: 0.3464 - val_accuracy: 0.9290\n",
      "Epoch 64/100\n",
      "100/100 [==============================] - 11s 111ms/step - loss: 1.0734e-04 - accuracy: 1.0000 - val_loss: 0.3528 - val_accuracy: 0.9290\n",
      "Epoch 65/100\n",
      "100/100 [==============================] - 11s 112ms/step - loss: 1.2555e-04 - accuracy: 1.0000 - val_loss: 0.3536 - val_accuracy: 0.9290\n",
      "Epoch 66/100\n",
      "100/100 [==============================] - 11s 115ms/step - loss: 9.7063e-05 - accuracy: 1.0000 - val_loss: 0.3583 - val_accuracy: 0.9310\n",
      "Epoch 67/100\n",
      "100/100 [==============================] - 11s 115ms/step - loss: 8.9680e-05 - accuracy: 1.0000 - val_loss: 0.3623 - val_accuracy: 0.9300\n",
      "Epoch 68/100\n",
      "100/100 [==============================] - 11s 109ms/step - loss: 7.5611e-05 - accuracy: 1.0000 - val_loss: 0.3587 - val_accuracy: 0.9310\n",
      "Epoch 69/100\n",
      "100/100 [==============================] - 11s 111ms/step - loss: 8.0548e-05 - accuracy: 1.0000 - val_loss: 0.3522 - val_accuracy: 0.9280\n",
      "Epoch 70/100\n",
      "100/100 [==============================] - 11s 111ms/step - loss: 6.5297e-05 - accuracy: 1.0000 - val_loss: 0.3594 - val_accuracy: 0.9290\n",
      "Epoch 71/100\n",
      "100/100 [==============================] - 11s 111ms/step - loss: 1.0553e-04 - accuracy: 1.0000 - val_loss: 0.3572 - val_accuracy: 0.9280\n",
      "Epoch 72/100\n",
      "100/100 [==============================] - 11s 111ms/step - loss: 2.2566e-04 - accuracy: 1.0000 - val_loss: 0.3507 - val_accuracy: 0.9300\n",
      "Epoch 73/100\n",
      "100/100 [==============================] - 11s 111ms/step - loss: 1.3599e-04 - accuracy: 1.0000 - val_loss: 0.3492 - val_accuracy: 0.9290\n",
      "Epoch 74/100\n",
      "100/100 [==============================] - 11s 111ms/step - loss: 5.7180e-05 - accuracy: 1.0000 - val_loss: 0.3537 - val_accuracy: 0.9320\n",
      "Epoch 75/100\n",
      "100/100 [==============================] - 11s 111ms/step - loss: 7.3474e-05 - accuracy: 1.0000 - val_loss: 0.3564 - val_accuracy: 0.9330\n",
      "Epoch 76/100\n",
      "100/100 [==============================] - 11s 111ms/step - loss: 4.7519e-05 - accuracy: 1.0000 - val_loss: 0.3640 - val_accuracy: 0.9260\n",
      "Epoch 77/100\n",
      "100/100 [==============================] - 11s 111ms/step - loss: 4.3712e-05 - accuracy: 1.0000 - val_loss: 0.3703 - val_accuracy: 0.9320\n",
      "Epoch 78/100\n",
      "100/100 [==============================] - 11s 112ms/step - loss: 4.0098e-05 - accuracy: 1.0000 - val_loss: 0.3714 - val_accuracy: 0.9310\n",
      "Epoch 79/100\n",
      "100/100 [==============================] - 11s 111ms/step - loss: 4.8443e-05 - accuracy: 1.0000 - val_loss: 0.3760 - val_accuracy: 0.9320\n",
      "Epoch 80/100\n",
      "100/100 [==============================] - 11s 111ms/step - loss: 3.3662e-05 - accuracy: 1.0000 - val_loss: 0.3890 - val_accuracy: 0.9290\n",
      "Epoch 81/100\n",
      "100/100 [==============================] - 11s 111ms/step - loss: 3.3831e-05 - accuracy: 1.0000 - val_loss: 0.3813 - val_accuracy: 0.9330\n",
      "Epoch 82/100\n",
      "100/100 [==============================] - 11s 111ms/step - loss: 3.5134e-05 - accuracy: 1.0000 - val_loss: 0.3878 - val_accuracy: 0.9300\n",
      "Epoch 83/100\n",
      "100/100 [==============================] - 11s 111ms/step - loss: 4.5445e-05 - accuracy: 1.0000 - val_loss: 0.3867 - val_accuracy: 0.9300\n",
      "Epoch 84/100\n",
      "100/100 [==============================] - 11s 111ms/step - loss: 3.0838e-05 - accuracy: 1.0000 - val_loss: 0.4002 - val_accuracy: 0.9290\n",
      "Epoch 85/100\n",
      "100/100 [==============================] - 11s 111ms/step - loss: 2.1850e-05 - accuracy: 1.0000 - val_loss: 0.4041 - val_accuracy: 0.9280\n",
      "Epoch 86/100\n",
      "100/100 [==============================] - 11s 112ms/step - loss: 2.6165e-05 - accuracy: 1.0000 - val_loss: 0.3960 - val_accuracy: 0.9280\n",
      "Epoch 87/100\n",
      "100/100 [==============================] - 11s 112ms/step - loss: 2.7076e-05 - accuracy: 1.0000 - val_loss: 0.4025 - val_accuracy: 0.9300\n",
      "Epoch 88/100\n",
      "100/100 [==============================] - 11s 112ms/step - loss: 2.8994e-05 - accuracy: 1.0000 - val_loss: 0.3994 - val_accuracy: 0.9340\n",
      "Epoch 89/100\n",
      "100/100 [==============================] - 11s 111ms/step - loss: 3.2038e-05 - accuracy: 1.0000 - val_loss: 0.3938 - val_accuracy: 0.9310\n",
      "Epoch 90/100\n",
      "100/100 [==============================] - 11s 111ms/step - loss: 2.2248e-05 - accuracy: 1.0000 - val_loss: 0.3967 - val_accuracy: 0.9310\n",
      "Epoch 91/100\n",
      "100/100 [==============================] - 11s 115ms/step - loss: 1.8961e-05 - accuracy: 1.0000 - val_loss: 0.4075 - val_accuracy: 0.9290\n",
      "Epoch 92/100\n",
      "100/100 [==============================] - 11s 111ms/step - loss: 2.1063e-05 - accuracy: 1.0000 - val_loss: 0.3992 - val_accuracy: 0.9280\n",
      "Epoch 93/100\n",
      "100/100 [==============================] - 12s 118ms/step - loss: 1.5155e-05 - accuracy: 1.0000 - val_loss: 0.4034 - val_accuracy: 0.9310\n",
      "Epoch 94/100\n",
      "100/100 [==============================] - 12s 116ms/step - loss: 1.5396e-05 - accuracy: 1.0000 - val_loss: 0.4121 - val_accuracy: 0.9310\n",
      "Epoch 95/100\n",
      "100/100 [==============================] - 11s 110ms/step - loss: 1.8104e-05 - accuracy: 1.0000 - val_loss: 0.4105 - val_accuracy: 0.9310\n",
      "Epoch 96/100\n",
      "100/100 [==============================] - 11s 111ms/step - loss: 1.7356e-05 - accuracy: 1.0000 - val_loss: 0.4151 - val_accuracy: 0.9320\n",
      "Epoch 97/100\n",
      "100/100 [==============================] - 11s 110ms/step - loss: 1.0455e-05 - accuracy: 1.0000 - val_loss: 0.4177 - val_accuracy: 0.9320\n",
      "Epoch 98/100\n",
      "100/100 [==============================] - 11s 111ms/step - loss: 2.2653e-05 - accuracy: 1.0000 - val_loss: 0.4270 - val_accuracy: 0.9300\n",
      "Epoch 99/100\n",
      "100/100 [==============================] - 11s 110ms/step - loss: 1.1644e-05 - accuracy: 1.0000 - val_loss: 0.4159 - val_accuracy: 0.9330\n",
      "Epoch 100/100\n",
      "100/100 [==============================] - 11s 110ms/step - loss: 8.9888e-06 - accuracy: 1.0000 - val_loss: 0.4233 - val_accuracy: 0.9350\n",
      "Wall time: 18min 46s\n"
     ]
    }
   ],
   "source": [
    "%%time\n",
    "\n",
    "Hist_dandc = model.fit(train_generator,\n",
    "                       steps_per_epoch = 100,\n",
    "                       epochs = 100,\n",
    "                       validation_data = valid_generator,\n",
    "                       validation_steps = 50)"
   ]
  },
  {
   "cell_type": "markdown",
   "metadata": {
    "id": "FnnIyFtNKhbD"
   },
   "source": [
    "> ## 4) 학습 결과 시각화"
   ]
  },
  {
   "cell_type": "markdown",
   "metadata": {
    "id": "YgXRhVauKqOm"
   },
   "source": [
    "* Loss Visualization"
   ]
  },
  {
   "cell_type": "code",
   "execution_count": 15,
   "metadata": {
    "colab": {
     "base_uri": "https://localhost:8080/",
     "height": 404
    },
    "executionInfo": {
     "elapsed": 25,
     "status": "ok",
     "timestamp": 1628212158845,
     "user": {
      "displayName": "이정구",
      "photoUrl": "https://lh3.googleusercontent.com/a-/AOh14Gg2atzeYT6QYFW3pcTDyi6aX0d6dqm_hj4W8fMg=s64",
      "userId": "17400242557229223804"
     },
     "user_tz": -540
    },
    "id": "OQ4ke8BbKi50",
    "outputId": "aebcfb15-6615-41d9-bc46-d551aed4e62c"
   },
   "outputs": [
    {
     "data": {
      "image/png": "[encoded data removed]",
      "text/plain": [
       "<Figure size 648x432 with 1 Axes>"
      ]
     },
     "metadata": {
      "needs_background": "light"
     },
     "output_type": "display_data"
    }
   ],
   "source": [
    "import matplotlib.pyplot as plt\n",
    "\n",
    "epochs = range(1, len(Hist_dandc.history['loss']) + 1)\n",
    "\n",
    "plt.figure(figsize = (9, 6))\n",
    "plt.plot(epochs, Hist_dandc.history['loss'])\n",
    "plt.plot(epochs, Hist_dandc.history['val_loss'])\n",
    "\n",
    "plt.title('Training & Validation Loss')\n",
    "plt.xlabel('Epochs')\n",
    "plt.ylabel('Loss')\n",
    "plt.legend(['Training Loss', 'Validation Loss'])\n",
    "plt.grid()\n",
    "plt.show()"
   ]
  },
  {
   "cell_type": "markdown",
   "metadata": {
    "id": "mVA9TcEvWzIv"
   },
   "source": [
    "* Accuracy Visualization"
   ]
  },
  {
   "cell_type": "code",
   "execution_count": 16,
   "metadata": {
    "colab": {
     "base_uri": "https://localhost:8080/",
     "height": 404
    },
    "executionInfo": {
     "elapsed": 799,
     "status": "ok",
     "timestamp": 1628212159629,
     "user": {
      "displayName": "이정구",
      "photoUrl": "https://lh3.googleusercontent.com/a-/AOh14Gg2atzeYT6QYFW3pcTDyi6aX0d6dqm_hj4W8fMg=s64",
      "userId": "17400242557229223804"
     },
     "user_tz": -540
    },
    "id": "BRIqZjTOWaN2",
    "outputId": "607517d6-e2b7-4714-c4c3-57b21768719c"
   },
   "outputs": [
    {
     "data": {
      "image/png": "[encoded data removed]",
      "text/plain": [
       "<Figure size 648x432 with 1 Axes>"
      ]
     },
     "metadata": {
      "needs_background": "light"
     },
     "output_type": "display_data"
    }
   ],
   "source": [
    "import matplotlib.pyplot as plt\n",
    "\n",
    "epochs = range(1, len(Hist_dandc.history['loss']) + 1)\n",
    "\n",
    "plt.figure(figsize = (9, 6))\n",
    "plt.plot(epochs, Hist_dandc.history['accuracy'])\n",
    "plt.plot(epochs, Hist_dandc.history['val_accuracy'])\n",
    "\n",
    "plt.title('Training & Validation Accuracy')\n",
    "plt.xlabel('Epochs')\n",
    "plt.ylabel('Accuracy')\n",
    "plt.legend(['Training Accuracy', 'Validation Accuracy'])\n",
    "plt.grid()\n",
    "plt.show()"
   ]
  },
  {
   "cell_type": "markdown",
   "metadata": {
    "id": "_uJSOLBko7lh"
   },
   "source": [
    "> ## 5) Model Evaluate"
   ]
  },
  {
   "cell_type": "markdown",
   "metadata": {
    "id": "hBnpWElEZUXG"
   },
   "source": [
    "* test_generator"
   ]
  },
  {
   "cell_type": "code",
   "execution_count": 17,
   "metadata": {
    "colab": {
     "base_uri": "https://localhost:8080/"
    },
    "executionInfo": {
     "elapsed": 51,
     "status": "ok",
     "timestamp": 1628212159630,
     "user": {
      "displayName": "이정구",
      "photoUrl": "https://lh3.googleusercontent.com/a-/AOh14Gg2atzeYT6QYFW3pcTDyi6aX0d6dqm_hj4W8fMg=s64",
      "userId": "17400242557229223804"
     },
     "user_tz": -540
    },
    "id": "_IxBkugQZXk3",
    "outputId": "8675f669-5ace-4773-c268-b22d153c416d"
   },
   "outputs": [
    {
     "name": "stdout",
     "output_type": "stream",
     "text": [
      "Found 1000 images belonging to 2 classes.\n"
     ]
    }
   ],
   "source": [
    "test_datagen = ImageDataGenerator(rescale = 1./255)\n",
    "\n",
    "test_generator = test_datagen.flow_from_directory(\n",
    "                 test_dir,\n",
    "                 target_size = (150, 150),\n",
    "                 batch_size = 20,\n",
    "                 class_mode = 'binary')"
   ]
  },
  {
   "cell_type": "markdown",
   "metadata": {
    "id": "i-TqAB2ALGzZ"
   },
   "source": [
    "* Loss & Accuracy"
   ]
  },
  {
   "cell_type": "code",
   "execution_count": 18,
   "metadata": {
    "colab": {
     "base_uri": "https://localhost:8080/"
    },
    "executionInfo": {
     "elapsed": 2812,
     "status": "ok",
     "timestamp": 1628212162399,
     "user": {
      "displayName": "이정구",
      "photoUrl": "https://lh3.googleusercontent.com/a-/AOh14Gg2atzeYT6QYFW3pcTDyi6aX0d6dqm_hj4W8fMg=s64",
      "userId": "17400242557229223804"
     },
     "user_tz": -540
    },
    "id": "OF30PuZsAxQJ",
    "outputId": "bae99539-c93a-4ac4-d824-1319fe2a7b7d"
   },
   "outputs": [
    {
     "name": "stdout",
     "output_type": "stream",
     "text": [
      "50/50 [==============================] - 3s 64ms/step - loss: 0.4401 - accuracy: 0.9300 1s\n",
      "Loss = 0.44011\n",
      "Accuracy = 0.93000\n"
     ]
    }
   ],
   "source": [
    "loss, accuracy = model.evaluate(test_generator,\n",
    "                                steps = 50)\n",
    "\n",
    "print('Loss = {:.5f}'.format(loss))\n",
    "print('Accuracy = {:.5f}'.format(accuracy))"
   ]
  },
  {
   "cell_type": "markdown",
   "metadata": {
    "id": "fBSR6RDTtWZV"
   },
   "source": [
    "# IV. Model Save"
   ]
  },
  {
   "cell_type": "markdown",
   "metadata": {
    "id": "0SX2qVV5tfZ5"
   },
   "source": [
    "> ## Model Save"
   ]
  },
  {
   "cell_type": "code",
   "execution_count": 19,
   "metadata": {
    "executionInfo": {
     "elapsed": 739,
     "status": "ok",
     "timestamp": 1628212163130,
     "user": {
      "displayName": "이정구",
      "photoUrl": "https://lh3.googleusercontent.com/a-/AOh14Gg2atzeYT6QYFW3pcTDyi6aX0d6dqm_hj4W8fMg=s64",
      "userId": "17400242557229223804"
     },
     "user_tz": -540
    },
    "id": "o-VnLdQftjvL"
   },
   "outputs": [],
   "source": [
    "model.save('./models/005_dogs_and_cats_fine_tuning.h5')"
   ]
  },
  {
   "cell_type": "markdown",
   "metadata": {
    "id": "WiKYR2Y5tsrv"
   },
   "source": [
    "> ## Model Load"
   ]
  },
  {
   "cell_type": "code",
   "execution_count": 20,
   "metadata": {
    "executionInfo": {
     "elapsed": 354,
     "status": "ok",
     "timestamp": 1628212163979,
     "user": {
      "displayName": "이정구",
      "photoUrl": "https://lh3.googleusercontent.com/a-/AOh14Gg2atzeYT6QYFW3pcTDyi6aX0d6dqm_hj4W8fMg=s64",
      "userId": "17400242557229223804"
     },
     "user_tz": -540
    },
    "id": "90UQS7J1tzBZ"
   },
   "outputs": [],
   "source": [
    "from tensorflow.keras.models import load_model\n",
    "\n",
    "model_google = load_model('./models/005_dogs_and_cats_fine_tuning.h5')"
   ]
  },
  {
   "cell_type": "code",
   "execution_count": 21,
   "metadata": {
    "colab": {
     "base_uri": "https://localhost:8080/"
    },
    "executionInfo": {
     "elapsed": 3594,
     "status": "ok",
     "timestamp": 1628212167570,
     "user": {
      "displayName": "이정구",
      "photoUrl": "https://lh3.googleusercontent.com/a-/AOh14Gg2atzeYT6QYFW3pcTDyi6aX0d6dqm_hj4W8fMg=s64",
      "userId": "17400242557229223804"
     },
     "user_tz": -540
    },
    "id": "rULDfHRPXh42",
    "outputId": "786a5f93-9ced-4294-ddfa-08e77c49f2d3"
   },
   "outputs": [
    {
     "name": "stdout",
     "output_type": "stream",
     "text": [
      "50/50 [==============================] - 3s 63ms/step - loss: 0.4401 - accuracy: 0.9300\n",
      "Loss = 0.44011\n",
      "Accuracy = 0.93000\n"
     ]
    }
   ],
   "source": [
    "loss, accuracy = model_google.evaluate(test_generator,\n",
    "                                       steps = 50)\n",
    "\n",
    "print('Loss = {:.5f}'.format(loss))\n",
    "print('Accuracy = {:.5f}'.format(accuracy))"
   ]
  }
 ],
 "metadata": {
  "accelerator": "GPU",
  "colab": {
   "collapsed_sections": [],
   "name": "204_CNN_Dogs_and_Cats_VGG16_Fine_Tuning_GPU.ipynb",
   "provenance": []
  },
  "kernelspec": {
   "display_name": "Python tf25",
   "language": "python",
   "name": "tf25"
  },
  "language_info": {
   "codemirror_mode": {
    "name": "ipython",
    "version": 3
   },
   "file_extension": ".py",
   "mimetype": "text/x-python",
   "name": "python",
   "nbconvert_exporter": "python",
   "pygments_lexer": "ipython3",
   "version": "3.8.8"
  }
 },
 "nbformat": 4,
 "nbformat_minor": 1
}
