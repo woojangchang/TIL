{
 "cells": [
  {
   "cell_type": "markdown",
   "metadata": {
    "id": "_gwAE0x4SeeT"
   },
   "source": [
    "# MNIST -  CNN"
   ]
  },
  {
   "cell_type": "code",
   "execution_count": 1,
   "metadata": {
    "id": "0qA4alcnSXhM"
   },
   "outputs": [],
   "source": [
    "import warnings\n",
    "warnings.filterwarnings('ignore')"
   ]
  },
  {
   "cell_type": "code",
   "execution_count": 2,
   "metadata": {
    "colab": {
     "base_uri": "https://localhost:8080/",
     "height": 35
    },
    "id": "JF_iJNgzSjAo",
    "outputId": "a5a71997-4b85-413d-d981-084ca708128f"
   },
   "outputs": [
    {
     "data": {
      "text/plain": [
       "'2.4.0'"
      ]
     },
     "execution_count": 2,
     "metadata": {},
     "output_type": "execute_result"
    }
   ],
   "source": [
    "import tensorflow as tf\n",
    "\n",
    "tf.__version__"
   ]
  },
  {
   "cell_type": "code",
   "execution_count": 3,
   "metadata": {
    "colab": {
     "base_uri": "https://localhost:8080/"
    },
    "id": "qKnC5D61SnUQ",
    "outputId": "0b2e7179-2b76-44fb-e0a6-6c81ae449c84"
   },
   "outputs": [
    {
     "name": "stdout",
     "output_type": "stream",
     "text": [
      "Downloading data from https://storage.googleapis.com/tensorflow/tf-keras-datasets/mnist.npz\n",
      "11493376/11490434 [==============================] - 0s 0us/step\n"
     ]
    }
   ],
   "source": [
    "from tensorflow.keras.datasets import mnist\n",
    "\n",
    "(X_train, y_train), (X_test, y_test) = mnist.load_data()"
   ]
  },
  {
   "cell_type": "code",
   "execution_count": 4,
   "metadata": {
    "colab": {
     "base_uri": "https://localhost:8080/"
    },
    "id": "pmIc6eh1S2Kq",
    "outputId": "7297737c-d969-48af-f405-b0b5d8ab1755"
   },
   "outputs": [
    {
     "data": {
      "text/plain": [
       "((60000, 28, 28), (10000, 28, 28), (60000,), (10000,))"
      ]
     },
     "execution_count": 4,
     "metadata": {},
     "output_type": "execute_result"
    }
   ],
   "source": [
    "X_train.shape, X_test.shape, y_train.shape, y_test.shape"
   ]
  },
  {
   "cell_type": "markdown",
   "metadata": {
    "id": "Y7E0UxTgSxuY"
   },
   "source": [
    "## Data Preprocessing"
   ]
  },
  {
   "cell_type": "code",
   "execution_count": 5,
   "metadata": {
    "id": "psxoSkeSSw-Y"
   },
   "outputs": [],
   "source": [
    "X_train = X_train.reshape((60000, 28, 28, 1))\n",
    "X_test = X_test.reshape((10000, 28, 28, 1))"
   ]
  },
  {
   "cell_type": "code",
   "execution_count": 6,
   "metadata": {
    "id": "VOCekLnVTH_m"
   },
   "outputs": [],
   "source": [
    "X_train = X_train.astype(float) / 255\n",
    "X_test = X_test.astype(float) / 255"
   ]
  },
  {
   "cell_type": "code",
   "execution_count": 7,
   "metadata": {
    "id": "oQ5fUfusTJa_"
   },
   "outputs": [],
   "source": [
    "from tensorflow.keras.utils import to_categorical\n",
    "\n",
    "y_train = to_categorical(y_train)\n",
    "y_test = to_categorical(y_test)"
   ]
  },
  {
   "cell_type": "markdown",
   "metadata": {
    "id": "dr9z-acETpJf"
   },
   "source": [
    "## Keras Modeling"
   ]
  },
  {
   "cell_type": "markdown",
   "metadata": {
    "id": "R1H1kweYTq4E"
   },
   "source": [
    "### Model Define"
   ]
  },
  {
   "cell_type": "markdown",
   "metadata": {
    "id": "FDOGyeVDT0dY"
   },
   "source": [
    "#### Feature Extraction Layer (CNN)"
   ]
  },
  {
   "cell_type": "code",
   "execution_count": 8,
   "metadata": {
    "id": "LNH13AhyTosH"
   },
   "outputs": [],
   "source": [
    "from tensorflow.keras import models, layers\n",
    "\n",
    "model = models.Sequential()\n",
    "\n",
    "# CNN Layer\n",
    "model.add(layers.Conv2D(filters=32, kernel_size=(3, 3), activation='relu', input_shape=(28, 28, 1)))\n",
    "model.add(layers.MaxPool2D(pool_size=(2, 2)))\n",
    "model.add(layers.Conv2D(filters=64, kernel_size=(3, 3), activation='relu'))\n",
    "model.add(layers.MaxPool2D(pool_size=(2, 2)))\n",
    "model.add(layers.Conv2D(filters=64, kernel_size=(3, 3), activation='relu'))"
   ]
  },
  {
   "cell_type": "code",
   "execution_count": 9,
   "metadata": {
    "colab": {
     "base_uri": "https://localhost:8080/"
    },
    "id": "1LWaZSBMUNE5",
    "outputId": "aa793a51-6147-45fe-bb51-d67ad8387738"
   },
   "outputs": [
    {
     "name": "stdout",
     "output_type": "stream",
     "text": [
      "Model: \"sequential\"\n",
      "_________________________________________________________________\n",
      "Layer (type)                 Output Shape              Param #   \n",
      "=================================================================\n",
      "conv2d (Conv2D)              (None, 26, 26, 32)        320       \n",
      "_________________________________________________________________\n",
      "max_pooling2d (MaxPooling2D) (None, 13, 13, 32)        0         \n",
      "_________________________________________________________________\n",
      "conv2d_1 (Conv2D)            (None, 11, 11, 64)        18496     \n",
      "_________________________________________________________________\n",
      "max_pooling2d_1 (MaxPooling2 (None, 5, 5, 64)          0         \n",
      "_________________________________________________________________\n",
      "conv2d_2 (Conv2D)            (None, 3, 3, 64)          36928     \n",
      "=================================================================\n",
      "Total params: 55,744\n",
      "Trainable params: 55,744\n",
      "Non-trainable params: 0\n",
      "_________________________________________________________________\n"
     ]
    }
   ],
   "source": [
    "model.summary()"
   ]
  },
  {
   "cell_type": "markdown",
   "metadata": {
    "id": "mYLZH79uUP1X"
   },
   "source": [
    "#### Classification Layer (DNN)"
   ]
  },
  {
   "cell_type": "code",
   "execution_count": 10,
   "metadata": {
    "id": "36xIUupvUN7P"
   },
   "outputs": [],
   "source": [
    "# DNN Layer\n",
    "model.add(layers.Flatten())\n",
    "model.add(layers.Dense(units=64, activation='relu'))\n",
    "model.add(layers.Dense(units=10, activation='softmax'))"
   ]
  },
  {
   "cell_type": "code",
   "execution_count": 11,
   "metadata": {
    "colab": {
     "base_uri": "https://localhost:8080/"
    },
    "id": "Mpwj6vM5Uez-",
    "outputId": "2b4b00c6-9b6d-4776-be26-3542e5950f6c"
   },
   "outputs": [
    {
     "name": "stdout",
     "output_type": "stream",
     "text": [
      "Model: \"sequential\"\n",
      "_________________________________________________________________\n",
      "Layer (type)                 Output Shape              Param #   \n",
      "=================================================================\n",
      "conv2d (Conv2D)              (None, 26, 26, 32)        320       \n",
      "_________________________________________________________________\n",
      "max_pooling2d (MaxPooling2D) (None, 13, 13, 32)        0         \n",
      "_________________________________________________________________\n",
      "conv2d_1 (Conv2D)            (None, 11, 11, 64)        18496     \n",
      "_________________________________________________________________\n",
      "max_pooling2d_1 (MaxPooling2 (None, 5, 5, 64)          0         \n",
      "_________________________________________________________________\n",
      "conv2d_2 (Conv2D)            (None, 3, 3, 64)          36928     \n",
      "_________________________________________________________________\n",
      "flatten (Flatten)            (None, 576)               0         \n",
      "_________________________________________________________________\n",
      "dense (Dense)                (None, 64)                36928     \n",
      "_________________________________________________________________\n",
      "dense_1 (Dense)              (None, 10)                650       \n",
      "=================================================================\n",
      "Total params: 93,322\n",
      "Trainable params: 93,322\n",
      "Non-trainable params: 0\n",
      "_________________________________________________________________\n"
     ]
    }
   ],
   "source": [
    "model.summary()"
   ]
  },
  {
   "cell_type": "markdown",
   "metadata": {
    "id": "sDDdwGgfUhs2"
   },
   "source": [
    "### Model Compile"
   ]
  },
  {
   "cell_type": "code",
   "execution_count": 12,
   "metadata": {
    "id": "ccfFydcgUfrn"
   },
   "outputs": [],
   "source": [
    "model.compile(optimizer='rmsprop',\n",
    "              loss='categorical_crossentropy',\n",
    "              metrics=['accuracy'])"
   ]
  },
  {
   "cell_type": "markdown",
   "metadata": {
    "id": "wWx7AUzjUrhs"
   },
   "source": [
    "### Model Fit"
   ]
  },
  {
   "cell_type": "code",
   "execution_count": 13,
   "metadata": {
    "colab": {
     "background_save": true,
     "base_uri": "https://localhost:8080/"
    },
    "id": "exKVpoyqUq8H",
    "outputId": "cb63438b-7ba8-431b-fbe0-b7e978c34068"
   },
   "outputs": [
    {
     "name": "stdout",
     "output_type": "stream",
     "text": [
      "Epoch 1/100\n",
      "375/375 [==============================] - 6s 9ms/step - loss: 0.5773 - accuracy: 0.8256 - val_loss: 0.0730 - val_accuracy: 0.9787\n",
      "Epoch 2/100\n",
      "375/375 [==============================] - 3s 8ms/step - loss: 0.0659 - accuracy: 0.9797 - val_loss: 0.0529 - val_accuracy: 0.9843\n",
      "Epoch 3/100\n",
      "375/375 [==============================] - 3s 8ms/step - loss: 0.0393 - accuracy: 0.9870 - val_loss: 0.0435 - val_accuracy: 0.9875\n",
      "Epoch 4/100\n",
      "375/375 [==============================] - 3s 8ms/step - loss: 0.0289 - accuracy: 0.9908 - val_loss: 0.0523 - val_accuracy: 0.9852\n",
      "Epoch 5/100\n",
      "375/375 [==============================] - 3s 8ms/step - loss: 0.0211 - accuracy: 0.9935 - val_loss: 0.0382 - val_accuracy: 0.9893\n",
      "Epoch 6/100\n",
      "375/375 [==============================] - 3s 8ms/step - loss: 0.0162 - accuracy: 0.9947 - val_loss: 0.0400 - val_accuracy: 0.9888\n",
      "Epoch 7/100\n",
      "375/375 [==============================] - 3s 8ms/step - loss: 0.0144 - accuracy: 0.9947 - val_loss: 0.0363 - val_accuracy: 0.9904\n",
      "Epoch 8/100\n",
      "375/375 [==============================] - 3s 8ms/step - loss: 0.0118 - accuracy: 0.9963 - val_loss: 0.0542 - val_accuracy: 0.9867\n",
      "Epoch 9/100\n",
      "375/375 [==============================] - 3s 8ms/step - loss: 0.0097 - accuracy: 0.9966 - val_loss: 0.0374 - val_accuracy: 0.9908\n",
      "Epoch 10/100\n",
      "375/375 [==============================] - 3s 8ms/step - loss: 0.0073 - accuracy: 0.9976 - val_loss: 0.0411 - val_accuracy: 0.9914\n",
      "Epoch 11/100\n",
      "375/375 [==============================] - 3s 8ms/step - loss: 0.0065 - accuracy: 0.9978 - val_loss: 0.0469 - val_accuracy: 0.9906\n",
      "Epoch 12/100\n",
      "375/375 [==============================] - 3s 8ms/step - loss: 0.0058 - accuracy: 0.9980 - val_loss: 0.0487 - val_accuracy: 0.9905\n",
      "Epoch 13/100\n",
      "375/375 [==============================] - 3s 9ms/step - loss: 0.0039 - accuracy: 0.9986 - val_loss: 0.0428 - val_accuracy: 0.9912\n",
      "Epoch 14/100\n",
      "375/375 [==============================] - 3s 8ms/step - loss: 0.0043 - accuracy: 0.9984 - val_loss: 0.0540 - val_accuracy: 0.9902\n",
      "Epoch 15/100\n",
      "375/375 [==============================] - 3s 8ms/step - loss: 0.0038 - accuracy: 0.9989 - val_loss: 0.0573 - val_accuracy: 0.9899\n",
      "Epoch 16/100\n",
      "375/375 [==============================] - 3s 8ms/step - loss: 0.0026 - accuracy: 0.9993 - val_loss: 0.0632 - val_accuracy: 0.9890\n",
      "Epoch 17/100\n",
      "375/375 [==============================] - 3s 8ms/step - loss: 0.0033 - accuracy: 0.9990 - val_loss: 0.0485 - val_accuracy: 0.9915\n",
      "Epoch 18/100\n",
      "375/375 [==============================] - 3s 8ms/step - loss: 0.0031 - accuracy: 0.9987 - val_loss: 0.0716 - val_accuracy: 0.9879\n",
      "Epoch 19/100\n",
      "375/375 [==============================] - 3s 8ms/step - loss: 0.0023 - accuracy: 0.9994 - val_loss: 0.0584 - val_accuracy: 0.9900\n",
      "Epoch 20/100\n",
      "375/375 [==============================] - 3s 8ms/step - loss: 0.0018 - accuracy: 0.9992 - val_loss: 0.0705 - val_accuracy: 0.9901\n",
      "Epoch 21/100\n",
      "375/375 [==============================] - 3s 8ms/step - loss: 0.0037 - accuracy: 0.9990 - val_loss: 0.0769 - val_accuracy: 0.9896\n",
      "Epoch 22/100\n",
      "375/375 [==============================] - 3s 8ms/step - loss: 0.0026 - accuracy: 0.9991 - val_loss: 0.0800 - val_accuracy: 0.9893\n",
      "Epoch 23/100\n",
      "375/375 [==============================] - 3s 8ms/step - loss: 0.0020 - accuracy: 0.9994 - val_loss: 0.0672 - val_accuracy: 0.9916\n",
      "Epoch 24/100\n",
      "375/375 [==============================] - 3s 8ms/step - loss: 0.0015 - accuracy: 0.9995 - val_loss: 0.0823 - val_accuracy: 0.9900\n",
      "Epoch 25/100\n",
      "375/375 [==============================] - 3s 8ms/step - loss: 0.0017 - accuracy: 0.9994 - val_loss: 0.0752 - val_accuracy: 0.9903\n",
      "Epoch 26/100\n",
      "375/375 [==============================] - 3s 8ms/step - loss: 0.0014 - accuracy: 0.9996 - val_loss: 0.0762 - val_accuracy: 0.9900\n",
      "Epoch 27/100\n",
      "375/375 [==============================] - 3s 8ms/step - loss: 0.0014 - accuracy: 0.9996 - val_loss: 0.0735 - val_accuracy: 0.9907\n",
      "Epoch 28/100\n",
      "375/375 [==============================] - 3s 8ms/step - loss: 0.0012 - accuracy: 0.9994 - val_loss: 0.0944 - val_accuracy: 0.9900\n",
      "Epoch 29/100\n",
      "375/375 [==============================] - 3s 8ms/step - loss: 0.0018 - accuracy: 0.9995 - val_loss: 0.0888 - val_accuracy: 0.9901\n",
      "Epoch 30/100\n",
      "375/375 [==============================] - 3s 8ms/step - loss: 0.0026 - accuracy: 0.9993 - val_loss: 0.0853 - val_accuracy: 0.9912\n",
      "Epoch 31/100\n",
      "375/375 [==============================] - 3s 8ms/step - loss: 0.0017 - accuracy: 0.9995 - val_loss: 0.0924 - val_accuracy: 0.9902\n",
      "Epoch 32/100\n",
      "375/375 [==============================] - 3s 8ms/step - loss: 0.0012 - accuracy: 0.9996 - val_loss: 0.0845 - val_accuracy: 0.9907\n",
      "Epoch 33/100\n",
      "375/375 [==============================] - 3s 8ms/step - loss: 0.0016 - accuracy: 0.9995 - val_loss: 0.0947 - val_accuracy: 0.9908\n",
      "Epoch 34/100\n",
      "375/375 [==============================] - 3s 8ms/step - loss: 8.8402e-04 - accuracy: 0.9997 - val_loss: 0.0891 - val_accuracy: 0.9913\n",
      "Epoch 35/100\n",
      "375/375 [==============================] - 3s 8ms/step - loss: 0.0012 - accuracy: 0.9997 - val_loss: 0.0876 - val_accuracy: 0.9913\n",
      "Epoch 36/100\n",
      "375/375 [==============================] - 3s 8ms/step - loss: 0.0015 - accuracy: 0.9995 - val_loss: 0.0873 - val_accuracy: 0.9918\n",
      "Epoch 37/100\n",
      "375/375 [==============================] - 3s 8ms/step - loss: 0.0011 - accuracy: 0.9997 - val_loss: 0.0889 - val_accuracy: 0.9919\n",
      "Epoch 38/100\n",
      "375/375 [==============================] - 3s 8ms/step - loss: 8.1858e-04 - accuracy: 0.9997 - val_loss: 0.1053 - val_accuracy: 0.9901\n",
      "Epoch 39/100\n",
      "375/375 [==============================] - 3s 8ms/step - loss: 0.0014 - accuracy: 0.9995 - val_loss: 0.0859 - val_accuracy: 0.9907\n",
      "Epoch 40/100\n",
      "375/375 [==============================] - 3s 8ms/step - loss: 6.4335e-04 - accuracy: 0.9998 - val_loss: 0.1228 - val_accuracy: 0.9901\n",
      "Epoch 41/100\n",
      "375/375 [==============================] - 3s 8ms/step - loss: 9.4383e-04 - accuracy: 0.9997 - val_loss: 0.1090 - val_accuracy: 0.9910\n",
      "Epoch 42/100\n",
      "375/375 [==============================] - 3s 8ms/step - loss: 0.0014 - accuracy: 0.9996 - val_loss: 0.0931 - val_accuracy: 0.9915\n",
      "Epoch 43/100\n",
      "375/375 [==============================] - 3s 8ms/step - loss: 0.0014 - accuracy: 0.9998 - val_loss: 0.1099 - val_accuracy: 0.9900\n",
      "Epoch 44/100\n",
      "375/375 [==============================] - 3s 8ms/step - loss: 0.0014 - accuracy: 0.9997 - val_loss: 0.1160 - val_accuracy: 0.9898\n",
      "Epoch 45/100\n",
      "375/375 [==============================] - 3s 8ms/step - loss: 0.0014 - accuracy: 0.9997 - val_loss: 0.1043 - val_accuracy: 0.9919\n",
      "Epoch 46/100\n",
      "375/375 [==============================] - 3s 8ms/step - loss: 8.5150e-04 - accuracy: 0.9998 - val_loss: 0.1345 - val_accuracy: 0.9891\n",
      "Epoch 47/100\n",
      "375/375 [==============================] - 3s 8ms/step - loss: 7.2849e-04 - accuracy: 0.9997 - val_loss: 0.1126 - val_accuracy: 0.9903\n",
      "Epoch 48/100\n",
      "375/375 [==============================] - 3s 8ms/step - loss: 4.6397e-04 - accuracy: 0.9998 - val_loss: 0.1413 - val_accuracy: 0.9905\n",
      "Epoch 49/100\n",
      "375/375 [==============================] - 3s 8ms/step - loss: 0.0019 - accuracy: 0.9997 - val_loss: 0.1162 - val_accuracy: 0.9912\n",
      "Epoch 50/100\n",
      "375/375 [==============================] - 3s 8ms/step - loss: 6.5137e-04 - accuracy: 0.9998 - val_loss: 0.1331 - val_accuracy: 0.9903\n",
      "Epoch 51/100\n",
      "375/375 [==============================] - 3s 8ms/step - loss: 9.1934e-04 - accuracy: 0.9997 - val_loss: 0.1131 - val_accuracy: 0.9908\n",
      "Epoch 52/100\n",
      "375/375 [==============================] - 3s 8ms/step - loss: 0.0011 - accuracy: 0.9998 - val_loss: 0.1198 - val_accuracy: 0.9916\n",
      "Epoch 53/100\n",
      "375/375 [==============================] - 3s 8ms/step - loss: 0.0014 - accuracy: 0.9998 - val_loss: 0.1293 - val_accuracy: 0.9923\n",
      "Epoch 54/100\n",
      "375/375 [==============================] - 3s 8ms/step - loss: 2.5609e-04 - accuracy: 0.9999 - val_loss: 0.1298 - val_accuracy: 0.9912\n",
      "Epoch 55/100\n",
      "375/375 [==============================] - 3s 8ms/step - loss: 4.6891e-04 - accuracy: 0.9999 - val_loss: 0.1228 - val_accuracy: 0.9913\n",
      "Epoch 56/100\n",
      "375/375 [==============================] - 3s 8ms/step - loss: 0.0010 - accuracy: 0.9998 - val_loss: 0.1175 - val_accuracy: 0.9913\n",
      "Epoch 57/100\n"
     ]
    },
    {
     "name": "stdout",
     "output_type": "stream",
     "text": [
      "375/375 [==============================] - 3s 7ms/step - loss: 7.4184e-04 - accuracy: 0.9999 - val_loss: 0.1416 - val_accuracy: 0.9908\n",
      "Epoch 58/100\n",
      "375/375 [==============================] - 3s 8ms/step - loss: 6.4501e-04 - accuracy: 0.9999 - val_loss: 0.1470 - val_accuracy: 0.9905\n",
      "Epoch 59/100\n",
      "375/375 [==============================] - 3s 8ms/step - loss: 0.0013 - accuracy: 0.9997 - val_loss: 0.1497 - val_accuracy: 0.9908\n",
      "Epoch 60/100\n",
      "375/375 [==============================] - 3s 8ms/step - loss: 0.0021 - accuracy: 0.9996 - val_loss: 0.1313 - val_accuracy: 0.9912\n",
      "Epoch 61/100\n",
      "375/375 [==============================] - 3s 7ms/step - loss: 5.5103e-04 - accuracy: 0.9998 - val_loss: 0.1303 - val_accuracy: 0.9918\n",
      "Epoch 62/100\n",
      "375/375 [==============================] - 3s 8ms/step - loss: 5.9228e-04 - accuracy: 0.9998 - val_loss: 0.1541 - val_accuracy: 0.9913\n",
      "Epoch 63/100\n",
      "375/375 [==============================] - 3s 8ms/step - loss: 9.1384e-04 - accuracy: 0.9998 - val_loss: 0.1394 - val_accuracy: 0.9902\n",
      "Epoch 64/100\n",
      "375/375 [==============================] - 3s 7ms/step - loss: 3.6895e-04 - accuracy: 0.9999 - val_loss: 0.1318 - val_accuracy: 0.9924\n",
      "Epoch 65/100\n",
      "375/375 [==============================] - 3s 7ms/step - loss: 4.2587e-04 - accuracy: 0.9999 - val_loss: 0.1380 - val_accuracy: 0.9924\n",
      "Epoch 66/100\n",
      "375/375 [==============================] - 3s 8ms/step - loss: 2.8943e-04 - accuracy: 1.0000 - val_loss: 0.1496 - val_accuracy: 0.9920\n",
      "Epoch 67/100\n",
      "375/375 [==============================] - 3s 7ms/step - loss: 1.6146e-04 - accuracy: 1.0000 - val_loss: 0.1571 - val_accuracy: 0.9922\n",
      "Epoch 68/100\n",
      "375/375 [==============================] - 3s 8ms/step - loss: 6.9133e-04 - accuracy: 0.9998 - val_loss: 0.1425 - val_accuracy: 0.9912\n",
      "Epoch 69/100\n",
      "375/375 [==============================] - 3s 7ms/step - loss: 9.2632e-04 - accuracy: 0.9999 - val_loss: 0.1380 - val_accuracy: 0.9912\n",
      "Epoch 70/100\n",
      "375/375 [==============================] - 3s 8ms/step - loss: 5.1135e-04 - accuracy: 0.9999 - val_loss: 0.1547 - val_accuracy: 0.9919\n",
      "Epoch 71/100\n",
      "375/375 [==============================] - 3s 8ms/step - loss: 7.2162e-04 - accuracy: 0.9999 - val_loss: 0.1577 - val_accuracy: 0.9903\n",
      "Epoch 72/100\n",
      "375/375 [==============================] - 3s 7ms/step - loss: 0.0024 - accuracy: 0.9995 - val_loss: 0.1306 - val_accuracy: 0.9917\n",
      "Epoch 73/100\n",
      "375/375 [==============================] - 3s 8ms/step - loss: 0.0015 - accuracy: 0.9998 - val_loss: 0.1421 - val_accuracy: 0.9916\n",
      "Epoch 74/100\n",
      "375/375 [==============================] - 3s 8ms/step - loss: 3.1677e-04 - accuracy: 0.9999 - val_loss: 0.1498 - val_accuracy: 0.9912\n",
      "Epoch 75/100\n",
      "375/375 [==============================] - 3s 8ms/step - loss: 4.8513e-04 - accuracy: 0.9999 - val_loss: 0.1460 - val_accuracy: 0.9914\n",
      "Epoch 76/100\n",
      "375/375 [==============================] - 3s 8ms/step - loss: 9.1879e-04 - accuracy: 0.9997 - val_loss: 0.1452 - val_accuracy: 0.9912\n",
      "Epoch 77/100\n",
      "375/375 [==============================] - 3s 8ms/step - loss: 9.6359e-04 - accuracy: 0.9998 - val_loss: 0.1557 - val_accuracy: 0.9909\n",
      "Epoch 78/100\n",
      "375/375 [==============================] - 3s 8ms/step - loss: 3.6914e-04 - accuracy: 0.9999 - val_loss: 0.2019 - val_accuracy: 0.9902\n",
      "Epoch 79/100\n",
      "375/375 [==============================] - 3s 8ms/step - loss: 0.0018 - accuracy: 0.9999 - val_loss: 0.1485 - val_accuracy: 0.9912\n",
      "Epoch 80/100\n",
      "375/375 [==============================] - 3s 8ms/step - loss: 7.4865e-04 - accuracy: 0.9998 - val_loss: 0.1474 - val_accuracy: 0.9915\n",
      "Epoch 81/100\n",
      "375/375 [==============================] - 3s 8ms/step - loss: 6.5585e-05 - accuracy: 1.0000 - val_loss: 0.1599 - val_accuracy: 0.9913\n",
      "Epoch 82/100\n",
      "375/375 [==============================] - 3s 8ms/step - loss: 8.9269e-04 - accuracy: 0.9998 - val_loss: 0.1705 - val_accuracy: 0.9912\n",
      "Epoch 83/100\n",
      "375/375 [==============================] - 3s 8ms/step - loss: 7.4270e-05 - accuracy: 1.0000 - val_loss: 0.1630 - val_accuracy: 0.9915\n",
      "Epoch 84/100\n",
      "375/375 [==============================] - 3s 8ms/step - loss: 7.7325e-04 - accuracy: 0.9998 - val_loss: 0.1780 - val_accuracy: 0.9906\n",
      "Epoch 85/100\n",
      "375/375 [==============================] - 3s 8ms/step - loss: 1.5891e-04 - accuracy: 0.9999 - val_loss: 0.1707 - val_accuracy: 0.9918\n",
      "Epoch 86/100\n",
      "375/375 [==============================] - 3s 8ms/step - loss: 2.5515e-04 - accuracy: 0.9999 - val_loss: 0.1676 - val_accuracy: 0.9906\n",
      "Epoch 87/100\n",
      "375/375 [==============================] - 3s 8ms/step - loss: 2.7302e-04 - accuracy: 0.9999 - val_loss: 0.1669 - val_accuracy: 0.9911\n",
      "Epoch 88/100\n",
      "375/375 [==============================] - 3s 8ms/step - loss: 1.6999e-04 - accuracy: 1.0000 - val_loss: 0.1666 - val_accuracy: 0.9916\n",
      "Epoch 89/100\n",
      "375/375 [==============================] - 3s 8ms/step - loss: 4.5165e-04 - accuracy: 0.9999 - val_loss: 0.1909 - val_accuracy: 0.9910\n",
      "Epoch 90/100\n",
      "375/375 [==============================] - 3s 8ms/step - loss: 6.6817e-04 - accuracy: 0.9999 - val_loss: 0.2018 - val_accuracy: 0.9903\n",
      "Epoch 91/100\n",
      "375/375 [==============================] - 3s 8ms/step - loss: 2.6084e-04 - accuracy: 0.9999 - val_loss: 0.2442 - val_accuracy: 0.9897\n",
      "Epoch 92/100\n",
      "375/375 [==============================] - 3s 8ms/step - loss: 0.0011 - accuracy: 0.9998 - val_loss: 0.1805 - val_accuracy: 0.9902\n",
      "Epoch 93/100\n",
      "375/375 [==============================] - 3s 8ms/step - loss: 4.3498e-04 - accuracy: 0.9999 - val_loss: 0.2046 - val_accuracy: 0.9916\n",
      "Epoch 94/100\n",
      "375/375 [==============================] - 3s 8ms/step - loss: 3.2501e-04 - accuracy: 0.9999 - val_loss: 0.1906 - val_accuracy: 0.9904\n",
      "Epoch 95/100\n",
      "375/375 [==============================] - 3s 8ms/step - loss: 5.8231e-04 - accuracy: 0.9999 - val_loss: 0.2187 - val_accuracy: 0.9893\n",
      "Epoch 96/100\n",
      "375/375 [==============================] - 3s 8ms/step - loss: 9.6525e-04 - accuracy: 0.9998 - val_loss: 0.2071 - val_accuracy: 0.9902\n",
      "Epoch 97/100\n",
      "375/375 [==============================] - 3s 8ms/step - loss: 2.2697e-04 - accuracy: 0.9999 - val_loss: 0.1760 - val_accuracy: 0.9906\n",
      "Epoch 98/100\n",
      "375/375 [==============================] - 3s 8ms/step - loss: 5.6899e-04 - accuracy: 0.9999 - val_loss: 0.1975 - val_accuracy: 0.9912\n",
      "Epoch 99/100\n",
      "375/375 [==============================] - 3s 8ms/step - loss: 5.2585e-04 - accuracy: 0.9999 - val_loss: 0.1812 - val_accuracy: 0.9912\n",
      "Epoch 100/100\n",
      "375/375 [==============================] - 3s 8ms/step - loss: 6.1213e-04 - accuracy: 0.9999 - val_loss: 0.1845 - val_accuracy: 0.9908\n",
      "Wall time: 4min 56s\n"
     ]
    }
   ],
   "source": [
    "%%time\n",
    "\n",
    "Hist_mnist = model.fit(X_train, y_train,\n",
    "                       epochs=100,\n",
    "                       batch_size=128,\n",
    "                       validation_split=0.2)"
   ]
  },
  {
   "cell_type": "markdown",
   "metadata": {
    "id": "xqvar_gPVT0K"
   },
   "source": [
    "### Visualization"
   ]
  },
  {
   "cell_type": "code",
   "execution_count": 14,
   "metadata": {
    "colab": {
     "base_uri": "https://localhost:8080/",
     "height": 404
    },
    "id": "mkzwkKowUy1Q",
    "outputId": "78b0af39-4ed1-4153-8d58-3539cf748ded"
   },
   "outputs": [
    {
     "data": {
      "image/png": "[encoded data removed]",
      "text/plain": [
       "<Figure size 648x432 with 1 Axes>"
      ]
     },
     "metadata": {
      "needs_background": "light"
     },
     "output_type": "display_data"
    }
   ],
   "source": [
    "import matplotlib.pyplot as plt\n",
    "\n",
    "epochs = range(1, len(Hist_mnist.history['loss'])+1)\n",
    "\n",
    "plt.figure(figsize=(9, 6))\n",
    "plt.plot(epochs, Hist_mnist.history['loss'])\n",
    "plt.plot(epochs, Hist_mnist.history['val_loss'])\n",
    "plt.title('Training & Validation Loss')\n",
    "plt.xlabel('Epochs')\n",
    "plt.ylabel('Loss')\n",
    "plt.legend(['Training Loss', 'Validation Loss'])\n",
    "plt.grid()\n",
    "plt.show()"
   ]
  },
  {
   "cell_type": "code",
   "execution_count": 15,
   "metadata": {},
   "outputs": [
    {
     "data": {
      "image/png": "[encoded data removed]",
      "text/plain": [
       "<Figure size 648x432 with 1 Axes>"
      ]
     },
     "metadata": {
      "needs_background": "light"
     },
     "output_type": "display_data"
    }
   ],
   "source": [
    "epochs = range(1, len(Hist_mnist.history['accuracy']) + 1)\n",
    "\n",
    "plt.figure(figsize = (9, 6))\n",
    "plt.plot(epochs, Hist_mnist.history['accuracy'])\n",
    "plt.plot(epochs, Hist_mnist.history['val_accuracy'])\n",
    "\n",
    "plt.title('Training & Validation Accuracy')\n",
    "plt.xlabel('Epochs')\n",
    "plt.ylabel('Accuracy')\n",
    "plt.legend(['Training Accuracy', 'Validation Accuracy'])\n",
    "plt.grid()\n",
    "plt.show()"
   ]
  },
  {
   "cell_type": "markdown",
   "metadata": {
    "id": "mWDzW6PhWAc6"
   },
   "source": [
    "### Model Evaluate"
   ]
  },
  {
   "cell_type": "code",
   "execution_count": 16,
   "metadata": {
    "colab": {
     "base_uri": "https://localhost:8080/"
    },
    "id": "TTpdzDHmWBlX",
    "outputId": "8501d34b-86bf-46e9-8e94-3f72dbe30d84"
   },
   "outputs": [
    {
     "name": "stdout",
     "output_type": "stream",
     "text": [
      "313/313 [==============================] - 1s 2ms/step - loss: 0.1304 - accuracy: 0.9932\n",
      "Loss : 0.13044\n",
      "Accuracy : 0.99320\n"
     ]
    }
   ],
   "source": [
    "loss, accuracy = model.evaluate(X_test, y_test)\n",
    "\n",
    "print(f'Loss : {loss:.5f}')\n",
    "print(f'Accuracy : {accuracy:.5f}')"
   ]
  },
  {
   "cell_type": "code",
   "execution_count": null,
   "metadata": {},
   "outputs": [],
   "source": []
  }
 ],
 "metadata": {
  "accelerator": "GPU",
  "colab": {
   "collapsed_sections": [],
   "name": "06-01_CNN_mnist_Modeling_GPU.ipynb",
   "provenance": []
  },
  "kernelspec": {
   "display_name": "Python tf24",
   "language": "python",
   "name": "tf24"
  },
  "language_info": {
   "codemirror_mode": {
    "name": "ipython",
    "version": 3
   },
   "file_extension": ".py",
   "mimetype": "text/x-python",
   "name": "python",
   "nbconvert_exporter": "python",
   "pygments_lexer": "ipython3",
   "version": "3.7.6"
  }
 },
 "nbformat": 4,
 "nbformat_minor": 1
}
