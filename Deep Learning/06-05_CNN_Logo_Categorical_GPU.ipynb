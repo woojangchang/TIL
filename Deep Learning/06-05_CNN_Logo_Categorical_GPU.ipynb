{
 "cells": [
  {
   "cell_type": "markdown",
   "metadata": {
    "id": "q2Pr7oBdYLdf"
   },
   "source": [
    "# 이미지 데이터 셋을 이용한 CNN Modeling\n",
    "## Logo_Data_Set Categorical Classification\n",
    "* Train_Data : 498\n",
    "* Test_Data : 177"
   ]
  },
  {
   "cell_type": "code",
   "execution_count": 1,
   "metadata": {
    "executionInfo": {
     "elapsed": 8,
     "status": "ok",
     "timestamp": 1628223866325,
     "user": {
      "displayName": "이정구",
      "photoUrl": "https://lh3.googleusercontent.com/a-/AOh14Gg2atzeYT6QYFW3pcTDyi6aX0d6dqm_hj4W8fMg=s64",
      "userId": "17400242557229223804"
     },
     "user_tz": -540
    },
    "id": "RbPgODpVzdHI"
   },
   "outputs": [],
   "source": [
    "import warnings\n",
    "warnings.filterwarnings('ignore')"
   ]
  },
  {
   "cell_type": "markdown",
   "metadata": {
    "id": "M9XBsS7QD8EU"
   },
   "source": [
    "## Import Tensorflow"
   ]
  },
  {
   "cell_type": "code",
   "execution_count": 2,
   "metadata": {
    "colab": {
     "base_uri": "https://localhost:8080/",
     "height": 35
    },
    "executionInfo": {
     "elapsed": 2025,
     "status": "ok",
     "timestamp": 1628223868343,
     "user": {
      "displayName": "이정구",
      "photoUrl": "https://lh3.googleusercontent.com/a-/AOh14Gg2atzeYT6QYFW3pcTDyi6aX0d6dqm_hj4W8fMg=s64",
      "userId": "17400242557229223804"
     },
     "user_tz": -540
    },
    "id": "GR4j3p6N_rDV",
    "outputId": "f2996c88-f104-4978-beef-059a44179391"
   },
   "outputs": [
    {
     "data": {
      "text/plain": [
       "'2.5.0'"
      ]
     },
     "execution_count": 2,
     "metadata": {},
     "output_type": "execute_result"
    }
   ],
   "source": [
    "import tensorflow\n",
    "\n",
    "tensorflow.__version__"
   ]
  },
  {
   "cell_type": "markdown",
   "metadata": {
    "id": "1DyFdyVxFyHK"
   },
   "source": [
    "# II. Data Preprocessing"
   ]
  },
  {
   "cell_type": "code",
   "execution_count": 3,
   "metadata": {
    "executionInfo": {
     "elapsed": 11,
     "status": "ok",
     "timestamp": 1628223918030,
     "user": {
      "displayName": "이정구",
      "photoUrl": "https://lh3.googleusercontent.com/a-/AOh14Gg2atzeYT6QYFW3pcTDyi6aX0d6dqm_hj4W8fMg=s64",
      "userId": "17400242557229223804"
     },
     "user_tz": -540
    },
    "id": "DxstjE8b_6Te"
   },
   "outputs": [],
   "source": [
    "train_dir = './datasets/Logo_Data/train'\n",
    "valid_dir = './datasets/Logo_Data/test'\n",
    "test_dir  = './datasets/Logo_Data/test'"
   ]
  },
  {
   "cell_type": "markdown",
   "metadata": {
    "id": "Mk9XL5vGHor6"
   },
   "source": [
    "## ImageDataGenerator( ) & flow_from_directory( )"
   ]
  },
  {
   "cell_type": "markdown",
   "metadata": {
    "id": "_UbiVo2EGlOt"
   },
   "source": [
    "* Normalization\n",
    " * ImageDataGenerator( )\n",
    "* Resizing & Generator\n",
    " * flow_from_directory( )"
   ]
  },
  {
   "cell_type": "code",
   "execution_count": 4,
   "metadata": {
    "colab": {
     "base_uri": "https://localhost:8080/"
    },
    "executionInfo": {
     "elapsed": 437,
     "status": "ok",
     "timestamp": 1628223918461,
     "user": {
      "displayName": "이정구",
      "photoUrl": "https://lh3.googleusercontent.com/a-/AOh14Gg2atzeYT6QYFW3pcTDyi6aX0d6dqm_hj4W8fMg=s64",
      "userId": "17400242557229223804"
     },
     "user_tz": -540
    },
    "id": "eC48Oym3Ao8E",
    "outputId": "e899683b-ae3d-416f-c972-d75bc7aa6c13"
   },
   "outputs": [
    {
     "name": "stdout",
     "output_type": "stream",
     "text": [
      "Found 498 images belonging to 27 classes.\n",
      "Found 177 images belonging to 27 classes.\n"
     ]
    }
   ],
   "source": [
    "from tensorflow.keras.preprocessing.image import ImageDataGenerator\n",
    "\n",
    "train_datagen = ImageDataGenerator(rescale = 1./255)\n",
    "valid_datagen = ImageDataGenerator(rescale = 1./255)\n",
    "\n",
    "train_generator = train_datagen.flow_from_directory(\n",
    "                  train_dir,\n",
    "                  target_size = (75, 75),\n",
    "                  batch_size = 8,\n",
    "                  class_mode = 'categorical')\n",
    "\n",
    "valid_generator = valid_datagen.flow_from_directory(\n",
    "                  valid_dir,\n",
    "                  target_size = (75, 75),\n",
    "                  batch_size = 8,\n",
    "                  class_mode = 'categorical')"
   ]
  },
  {
   "cell_type": "markdown",
   "metadata": {
    "id": "vCpCB_giJbZr"
   },
   "source": [
    "## Test train_generator"
   ]
  },
  {
   "cell_type": "code",
   "execution_count": 5,
   "metadata": {
    "colab": {
     "base_uri": "https://localhost:8080/"
    },
    "executionInfo": {
     "elapsed": 10,
     "status": "ok",
     "timestamp": 1628223918461,
     "user": {
      "displayName": "이정구",
      "photoUrl": "https://lh3.googleusercontent.com/a-/AOh14Gg2atzeYT6QYFW3pcTDyi6aX0d6dqm_hj4W8fMg=s64",
      "userId": "17400242557229223804"
     },
     "user_tz": -540
    },
    "id": "NW5rHWtcJnTq",
    "outputId": "a13c63e6-e2ce-42fd-a293-7996f5d7fef8"
   },
   "outputs": [
    {
     "name": "stdout",
     "output_type": "stream",
     "text": [
      "배치 데이터 크기: (8, 75, 75, 3)\n",
      "배치 레이블 크기: (8, 27)\n"
     ]
    }
   ],
   "source": [
    "for data_batch, labels_batch in train_generator:\n",
    "    print('배치 데이터 크기:', data_batch.shape)\n",
    "    print('배치 레이블 크기:', labels_batch.shape)\n",
    "    break"
   ]
  },
  {
   "cell_type": "code",
   "execution_count": 6,
   "metadata": {
    "colab": {
     "base_uri": "https://localhost:8080/"
    },
    "executionInfo": {
     "elapsed": 7,
     "status": "ok",
     "timestamp": 1628223918462,
     "user": {
      "displayName": "이정구",
      "photoUrl": "https://lh3.googleusercontent.com/a-/AOh14Gg2atzeYT6QYFW3pcTDyi6aX0d6dqm_hj4W8fMg=s64",
      "userId": "17400242557229223804"
     },
     "user_tz": -540
    },
    "id": "VnTocUr6YgKa",
    "outputId": "9f1f1694-0765-41ea-9c56-f8d8f76edbff"
   },
   "outputs": [
    {
     "data": {
      "text/plain": [
       "array([[0., 0., 0., 0., 0., 0., 0., 0., 0., 0., 0., 0., 0., 0., 0., 0.,\n",
       "        0., 0., 0., 0., 0., 1., 0., 0., 0., 0., 0.],\n",
       "       [0., 1., 0., 0., 0., 0., 0., 0., 0., 0., 0., 0., 0., 0., 0., 0.,\n",
       "        0., 0., 0., 0., 0., 0., 0., 0., 0., 0., 0.],\n",
       "       [0., 0., 0., 0., 1., 0., 0., 0., 0., 0., 0., 0., 0., 0., 0., 0.,\n",
       "        0., 0., 0., 0., 0., 0., 0., 0., 0., 0., 0.],\n",
       "       [0., 0., 1., 0., 0., 0., 0., 0., 0., 0., 0., 0., 0., 0., 0., 0.,\n",
       "        0., 0., 0., 0., 0., 0., 0., 0., 0., 0., 0.],\n",
       "       [0., 0., 0., 0., 0., 0., 0., 0., 0., 0., 0., 0., 0., 0., 0., 0.,\n",
       "        0., 0., 0., 0., 1., 0., 0., 0., 0., 0., 0.],\n",
       "       [0., 0., 0., 0., 0., 0., 0., 0., 0., 0., 0., 0., 0., 0., 0., 0.,\n",
       "        0., 0., 0., 0., 0., 0., 0., 0., 0., 0., 1.],\n",
       "       [0., 0., 0., 0., 0., 0., 0., 0., 0., 0., 0., 0., 0., 0., 0., 0.,\n",
       "        0., 0., 0., 0., 0., 1., 0., 0., 0., 0., 0.],\n",
       "       [0., 0., 1., 0., 0., 0., 0., 0., 0., 0., 0., 0., 0., 0., 0., 0.,\n",
       "        0., 0., 0., 0., 0., 0., 0., 0., 0., 0., 0.]], dtype=float32)"
      ]
     },
     "execution_count": 6,
     "metadata": {},
     "output_type": "execute_result"
    }
   ],
   "source": [
    "labels_batch"
   ]
  },
  {
   "cell_type": "markdown",
   "metadata": {
    "id": "NTwZiSjiop3v"
   },
   "source": [
    "# III. CNN Keras Modeling"
   ]
  },
  {
   "cell_type": "markdown",
   "metadata": {
    "id": "j5CT0TurJCkc"
   },
   "source": [
    "## Model Define"
   ]
  },
  {
   "cell_type": "markdown",
   "metadata": {
    "id": "ydDCl0jTJD58"
   },
   "source": [
    "* Feature Extraction & Classification"
   ]
  },
  {
   "cell_type": "code",
   "execution_count": 7,
   "metadata": {
    "executionInfo": {
     "elapsed": 5725,
     "status": "ok",
     "timestamp": 1628223924183,
     "user": {
      "displayName": "이정구",
      "photoUrl": "https://lh3.googleusercontent.com/a-/AOh14Gg2atzeYT6QYFW3pcTDyi6aX0d6dqm_hj4W8fMg=s64",
      "userId": "17400242557229223804"
     },
     "user_tz": -540
    },
    "id": "II0DskRdAcHS"
   },
   "outputs": [],
   "source": [
    "from tensorflow.keras import layers\n",
    "from tensorflow.keras import models\n",
    "\n",
    "model = models.Sequential()\n",
    "model.add(layers.Conv2D(32, (3, 3), activation = 'relu', input_shape = (75, 75, 3)))\n",
    "model.add(layers.MaxPooling2D((2, 2)))\n",
    "model.add(layers.Conv2D(64, (3, 3), activation = 'relu'))\n",
    "model.add(layers.MaxPooling2D((2, 2)))\n",
    "model.add(layers.Conv2D(128, (3, 3), activation = 'relu'))\n",
    "model.add(layers.MaxPooling2D((2, 2)))\n",
    "\n",
    "model.add(layers.Flatten())\n",
    "model.add(layers.Dense(512, activation = 'relu'))\n",
    "model.add(layers.Dense(27, activation = 'softmax'))"
   ]
  },
  {
   "cell_type": "code",
   "execution_count": 8,
   "metadata": {
    "colab": {
     "base_uri": "https://localhost:8080/"
    },
    "executionInfo": {
     "elapsed": 15,
     "status": "ok",
     "timestamp": 1628223924184,
     "user": {
      "displayName": "이정구",
      "photoUrl": "https://lh3.googleusercontent.com/a-/AOh14Gg2atzeYT6QYFW3pcTDyi6aX0d6dqm_hj4W8fMg=s64",
      "userId": "17400242557229223804"
     },
     "user_tz": -540
    },
    "id": "wbtjOA4XMTUd",
    "outputId": "63c1c322-ea79-484a-a1eb-368bfb0f1812"
   },
   "outputs": [
    {
     "name": "stdout",
     "output_type": "stream",
     "text": [
      "Model: \"sequential\"\n",
      "_________________________________________________________________\n",
      "Layer (type)                 Output Shape              Param #   \n",
      "=================================================================\n",
      "conv2d (Conv2D)              (None, 73, 73, 32)        896       \n",
      "_________________________________________________________________\n",
      "max_pooling2d (MaxPooling2D) (None, 36, 36, 32)        0         \n",
      "_________________________________________________________________\n",
      "conv2d_1 (Conv2D)            (None, 34, 34, 64)        18496     \n",
      "_________________________________________________________________\n",
      "max_pooling2d_1 (MaxPooling2 (None, 17, 17, 64)        0         \n",
      "_________________________________________________________________\n",
      "conv2d_2 (Conv2D)            (None, 15, 15, 128)       73856     \n",
      "_________________________________________________________________\n",
      "max_pooling2d_2 (MaxPooling2 (None, 7, 7, 128)         0         \n",
      "_________________________________________________________________\n",
      "flatten (Flatten)            (None, 6272)              0         \n",
      "_________________________________________________________________\n",
      "dense (Dense)                (None, 512)               3211776   \n",
      "_________________________________________________________________\n",
      "dense_1 (Dense)              (None, 27)                13851     \n",
      "=================================================================\n",
      "Total params: 3,318,875\n",
      "Trainable params: 3,318,875\n",
      "Non-trainable params: 0\n",
      "_________________________________________________________________\n"
     ]
    }
   ],
   "source": [
    "model.summary()"
   ]
  },
  {
   "cell_type": "markdown",
   "metadata": {
    "id": "tpjBDBeYoyuj"
   },
   "source": [
    "## Model Compile"
   ]
  },
  {
   "cell_type": "markdown",
   "metadata": {
    "id": "f3sxkQa0JoUr"
   },
   "source": [
    "* 모델 학습방법 설정"
   ]
  },
  {
   "cell_type": "code",
   "execution_count": 9,
   "metadata": {
    "executionInfo": {
     "elapsed": 14,
     "status": "ok",
     "timestamp": 1628223924185,
     "user": {
      "displayName": "이정구",
      "photoUrl": "https://lh3.googleusercontent.com/a-/AOh14Gg2atzeYT6QYFW3pcTDyi6aX0d6dqm_hj4W8fMg=s64",
      "userId": "17400242557229223804"
     },
     "user_tz": -540
    },
    "id": "AyK_t1qwAi6M"
   },
   "outputs": [],
   "source": [
    "model.compile(loss = 'categorical_crossentropy',\n",
    "              optimizer = 'adam',\n",
    "              metrics = ['accuracy'])"
   ]
  },
  {
   "cell_type": "markdown",
   "metadata": {
    "id": "umiq4B-Xo3OB"
   },
   "source": [
    "## Model Fit"
   ]
  },
  {
   "cell_type": "markdown",
   "metadata": {
    "id": "1KuXREziKMD1"
   },
   "source": [
    "* 약 5분"
   ]
  },
  {
   "cell_type": "code",
   "execution_count": 10,
   "metadata": {
    "colab": {
     "base_uri": "https://localhost:8080/"
    },
    "executionInfo": {
     "elapsed": 264007,
     "status": "ok",
     "timestamp": 1628224188179,
     "user": {
      "displayName": "이정구",
      "photoUrl": "https://lh3.googleusercontent.com/a-/AOh14Gg2atzeYT6QYFW3pcTDyi6aX0d6dqm_hj4W8fMg=s64",
      "userId": "17400242557229223804"
     },
     "user_tz": -540
    },
    "id": "zxwqwAqRAqRP",
    "outputId": "b8b25959-34f5-4f79-b24d-8a0b48e0615b"
   },
   "outputs": [
    {
     "name": "stdout",
     "output_type": "stream",
     "text": [
      "Epoch 1/200\n",
      "62/62 [==============================] - 6s 18ms/step - loss: 3.2730 - accuracy: 0.0510 - val_loss: 3.2051 - val_accuracy: 0.0568\n",
      "Epoch 2/200\n",
      "62/62 [==============================] - 1s 11ms/step - loss: 2.8819 - accuracy: 0.1816 - val_loss: 2.7735 - val_accuracy: 0.2045\n",
      "Epoch 3/200\n",
      "62/62 [==============================] - 1s 11ms/step - loss: 2.2453 - accuracy: 0.3571 - val_loss: 2.3743 - val_accuracy: 0.3295\n",
      "Epoch 4/200\n",
      "62/62 [==============================] - 1s 11ms/step - loss: 1.4984 - accuracy: 0.5510 - val_loss: 2.0993 - val_accuracy: 0.4830\n",
      "Epoch 5/200\n",
      "62/62 [==============================] - 1s 11ms/step - loss: 0.9720 - accuracy: 0.7163 - val_loss: 2.3025 - val_accuracy: 0.4886\n",
      "Epoch 6/200\n",
      "62/62 [==============================] - 1s 10ms/step - loss: 0.4983 - accuracy: 0.8551 - val_loss: 2.6401 - val_accuracy: 0.5341\n",
      "Epoch 7/200\n",
      "62/62 [==============================] - 1s 10ms/step - loss: 0.2355 - accuracy: 0.9367 - val_loss: 3.4592 - val_accuracy: 0.5170\n",
      "Epoch 8/200\n",
      "62/62 [==============================] - 1s 11ms/step - loss: 0.1436 - accuracy: 0.9510 - val_loss: 3.8922 - val_accuracy: 0.4716\n",
      "Epoch 9/200\n",
      "62/62 [==============================] - 1s 10ms/step - loss: 0.2306 - accuracy: 0.9367 - val_loss: 3.2210 - val_accuracy: 0.4602\n",
      "Epoch 10/200\n",
      "62/62 [==============================] - 1s 11ms/step - loss: 0.0983 - accuracy: 0.9796 - val_loss: 3.3380 - val_accuracy: 0.5398\n",
      "Epoch 11/200\n",
      "62/62 [==============================] - 1s 10ms/step - loss: 0.0836 - accuracy: 0.9776 - val_loss: 4.0280 - val_accuracy: 0.5114\n",
      "Epoch 12/200\n",
      "62/62 [==============================] - 1s 10ms/step - loss: 0.0598 - accuracy: 0.9857 - val_loss: 3.6049 - val_accuracy: 0.5455\n",
      "Epoch 13/200\n",
      "62/62 [==============================] - 1s 11ms/step - loss: 0.0101 - accuracy: 0.9980 - val_loss: 4.0582 - val_accuracy: 0.5341\n",
      "Epoch 14/200\n",
      "62/62 [==============================] - 1s 11ms/step - loss: 0.0071 - accuracy: 0.9980 - val_loss: 4.0700 - val_accuracy: 0.5455\n",
      "Epoch 15/200\n",
      "62/62 [==============================] - 1s 10ms/step - loss: 9.8031e-04 - accuracy: 1.0000 - val_loss: 4.2010 - val_accuracy: 0.5398\n",
      "Epoch 16/200\n",
      "62/62 [==============================] - 1s 11ms/step - loss: 5.9995e-04 - accuracy: 1.0000 - val_loss: 4.3061 - val_accuracy: 0.5341\n",
      "Epoch 17/200\n",
      "62/62 [==============================] - 1s 11ms/step - loss: 4.5342e-04 - accuracy: 1.0000 - val_loss: 4.3798 - val_accuracy: 0.5341\n",
      "Epoch 18/200\n",
      "62/62 [==============================] - 1s 10ms/step - loss: 3.5467e-04 - accuracy: 1.0000 - val_loss: 4.4257 - val_accuracy: 0.5341\n",
      "Epoch 19/200\n",
      "62/62 [==============================] - 1s 10ms/step - loss: 2.9104e-04 - accuracy: 1.0000 - val_loss: 4.4733 - val_accuracy: 0.5341\n",
      "Epoch 20/200\n",
      "62/62 [==============================] - 1s 10ms/step - loss: 2.4618e-04 - accuracy: 1.0000 - val_loss: 4.5174 - val_accuracy: 0.5341\n",
      "Epoch 21/200\n",
      "62/62 [==============================] - 1s 10ms/step - loss: 2.0660e-04 - accuracy: 1.0000 - val_loss: 4.4360 - val_accuracy: 0.5398\n",
      "Epoch 22/200\n",
      "62/62 [==============================] - 1s 11ms/step - loss: 1.8155e-04 - accuracy: 1.0000 - val_loss: 4.4211 - val_accuracy: 0.5398\n",
      "Epoch 23/200\n",
      "62/62 [==============================] - 1s 10ms/step - loss: 1.5032e-04 - accuracy: 1.0000 - val_loss: 4.6222 - val_accuracy: 0.5341\n",
      "Epoch 24/200\n",
      "62/62 [==============================] - 1s 11ms/step - loss: 1.2888e-04 - accuracy: 1.0000 - val_loss: 4.6482 - val_accuracy: 0.5341\n",
      "Epoch 25/200\n",
      "62/62 [==============================] - 1s 11ms/step - loss: 1.1558e-04 - accuracy: 1.0000 - val_loss: 4.6811 - val_accuracy: 0.5341\n",
      "Epoch 26/200\n",
      "62/62 [==============================] - 1s 10ms/step - loss: 1.0350e-04 - accuracy: 1.0000 - val_loss: 4.6828 - val_accuracy: 0.5398\n",
      "Epoch 27/200\n",
      "62/62 [==============================] - 1s 10ms/step - loss: 9.2332e-05 - accuracy: 1.0000 - val_loss: 4.7328 - val_accuracy: 0.5341\n",
      "Epoch 28/200\n",
      "62/62 [==============================] - 1s 10ms/step - loss: 8.2621e-05 - accuracy: 1.0000 - val_loss: 4.7160 - val_accuracy: 0.5398\n",
      "Epoch 29/200\n",
      "62/62 [==============================] - 1s 10ms/step - loss: 7.2597e-05 - accuracy: 1.0000 - val_loss: 4.6748 - val_accuracy: 0.5398\n",
      "Epoch 30/200\n",
      "62/62 [==============================] - 1s 11ms/step - loss: 6.7012e-05 - accuracy: 1.0000 - val_loss: 4.7707 - val_accuracy: 0.5398\n",
      "Epoch 31/200\n",
      "62/62 [==============================] - 1s 11ms/step - loss: 6.0838e-05 - accuracy: 1.0000 - val_loss: 4.8230 - val_accuracy: 0.5398\n",
      "Epoch 32/200\n",
      "62/62 [==============================] - 1s 11ms/step - loss: 5.5288e-05 - accuracy: 1.0000 - val_loss: 4.8497 - val_accuracy: 0.5341\n",
      "Epoch 33/200\n",
      "62/62 [==============================] - 1s 11ms/step - loss: 4.8002e-05 - accuracy: 1.0000 - val_loss: 4.8355 - val_accuracy: 0.5398\n",
      "Epoch 34/200\n",
      "62/62 [==============================] - 1s 11ms/step - loss: 4.5724e-05 - accuracy: 1.0000 - val_loss: 4.8916 - val_accuracy: 0.5341\n",
      "Epoch 35/200\n",
      "62/62 [==============================] - 1s 11ms/step - loss: 4.2131e-05 - accuracy: 1.0000 - val_loss: 4.9105 - val_accuracy: 0.5341\n",
      "Epoch 36/200\n",
      "62/62 [==============================] - 1s 10ms/step - loss: 3.8755e-05 - accuracy: 1.0000 - val_loss: 4.9127 - val_accuracy: 0.5398\n",
      "Epoch 37/200\n",
      "62/62 [==============================] - 1s 11ms/step - loss: 3.4859e-05 - accuracy: 1.0000 - val_loss: 4.9416 - val_accuracy: 0.5341\n",
      "Epoch 38/200\n",
      "62/62 [==============================] - 1s 11ms/step - loss: 3.3583e-05 - accuracy: 1.0000 - val_loss: 4.9095 - val_accuracy: 0.5398\n",
      "Epoch 39/200\n",
      "62/62 [==============================] - 1s 11ms/step - loss: 2.9379e-05 - accuracy: 1.0000 - val_loss: 4.8980 - val_accuracy: 0.5341\n",
      "Epoch 40/200\n",
      "62/62 [==============================] - 1s 10ms/step - loss: 2.3426e-05 - accuracy: 1.0000 - val_loss: 4.9818 - val_accuracy: 0.5284\n",
      "Epoch 41/200\n",
      "62/62 [==============================] - 1s 11ms/step - loss: 2.5220e-05 - accuracy: 1.0000 - val_loss: 4.9688 - val_accuracy: 0.5341\n",
      "Epoch 42/200\n",
      "62/62 [==============================] - 1s 11ms/step - loss: 2.2733e-05 - accuracy: 1.0000 - val_loss: 5.0215 - val_accuracy: 0.5284\n",
      "Epoch 43/200\n",
      "62/62 [==============================] - 1s 11ms/step - loss: 2.0395e-05 - accuracy: 1.0000 - val_loss: 5.0325 - val_accuracy: 0.5284\n",
      "Epoch 44/200\n",
      "62/62 [==============================] - 1s 10ms/step - loss: 1.8544e-05 - accuracy: 1.0000 - val_loss: 5.0387 - val_accuracy: 0.5284\n",
      "Epoch 45/200\n",
      "62/62 [==============================] - 1s 11ms/step - loss: 1.6595e-05 - accuracy: 1.0000 - val_loss: 5.0145 - val_accuracy: 0.5341\n",
      "Epoch 46/200\n",
      "62/62 [==============================] - 1s 10ms/step - loss: 1.5527e-05 - accuracy: 1.0000 - val_loss: 5.0497 - val_accuracy: 0.5341\n",
      "Epoch 47/200\n",
      "62/62 [==============================] - 1s 11ms/step - loss: 1.3996e-05 - accuracy: 1.0000 - val_loss: 5.0992 - val_accuracy: 0.5341\n",
      "Epoch 48/200\n",
      "62/62 [==============================] - 1s 11ms/step - loss: 1.3176e-05 - accuracy: 1.0000 - val_loss: 5.1193 - val_accuracy: 0.5284\n",
      "Epoch 49/200\n",
      "62/62 [==============================] - 1s 10ms/step - loss: 1.2224e-05 - accuracy: 1.0000 - val_loss: 5.1494 - val_accuracy: 0.5284\n",
      "Epoch 50/200\n",
      "62/62 [==============================] - 1s 11ms/step - loss: 1.1718e-05 - accuracy: 1.0000 - val_loss: 5.1123 - val_accuracy: 0.5341\n",
      "Epoch 51/200\n",
      "62/62 [==============================] - 1s 11ms/step - loss: 1.0849e-05 - accuracy: 1.0000 - val_loss: 5.1672 - val_accuracy: 0.5284\n",
      "Epoch 52/200\n",
      "62/62 [==============================] - 1s 10ms/step - loss: 9.9861e-06 - accuracy: 1.0000 - val_loss: 5.1916 - val_accuracy: 0.5284\n",
      "Epoch 53/200\n",
      "62/62 [==============================] - 1s 11ms/step - loss: 9.4283e-06 - accuracy: 1.0000 - val_loss: 5.2143 - val_accuracy: 0.5284\n",
      "Epoch 54/200\n",
      "62/62 [==============================] - 1s 11ms/step - loss: 8.5275e-06 - accuracy: 1.0000 - val_loss: 5.2112 - val_accuracy: 0.5341\n",
      "Epoch 55/200\n",
      "62/62 [==============================] - 1s 11ms/step - loss: 8.3731e-06 - accuracy: 1.0000 - val_loss: 5.1463 - val_accuracy: 0.5341\n",
      "Epoch 56/200\n",
      "62/62 [==============================] - 1s 10ms/step - loss: 7.8890e-06 - accuracy: 1.0000 - val_loss: 5.2283 - val_accuracy: 0.5341\n",
      "Epoch 57/200\n"
     ]
    },
    {
     "name": "stdout",
     "output_type": "stream",
     "text": [
      "62/62 [==============================] - 1s 10ms/step - loss: 7.2873e-06 - accuracy: 1.0000 - val_loss: 5.2580 - val_accuracy: 0.5284\n",
      "Epoch 58/200\n",
      "62/62 [==============================] - 1s 11ms/step - loss: 7.0295e-06 - accuracy: 1.0000 - val_loss: 5.2913 - val_accuracy: 0.5284\n",
      "Epoch 59/200\n",
      "62/62 [==============================] - 1s 10ms/step - loss: 6.6573e-06 - accuracy: 1.0000 - val_loss: 5.2745 - val_accuracy: 0.5284\n",
      "Epoch 60/200\n",
      "62/62 [==============================] - 1s 11ms/step - loss: 6.2617e-06 - accuracy: 1.0000 - val_loss: 5.3009 - val_accuracy: 0.5284\n",
      "Epoch 61/200\n",
      "62/62 [==============================] - 1s 11ms/step - loss: 5.9430e-06 - accuracy: 1.0000 - val_loss: 5.3147 - val_accuracy: 0.5284\n",
      "Epoch 62/200\n",
      "62/62 [==============================] - 1s 10ms/step - loss: 5.7168e-06 - accuracy: 1.0000 - val_loss: 5.3270 - val_accuracy: 0.5284\n",
      "Epoch 63/200\n",
      "62/62 [==============================] - 1s 11ms/step - loss: 5.3541e-06 - accuracy: 1.0000 - val_loss: 5.3434 - val_accuracy: 0.5284\n",
      "Epoch 64/200\n",
      "62/62 [==============================] - 1s 10ms/step - loss: 4.9721e-06 - accuracy: 1.0000 - val_loss: 5.2202 - val_accuracy: 0.5341\n",
      "Epoch 65/200\n",
      "62/62 [==============================] - 1s 10ms/step - loss: 4.8678e-06 - accuracy: 1.0000 - val_loss: 5.3240 - val_accuracy: 0.5341\n",
      "Epoch 66/200\n",
      "62/62 [==============================] - 1s 10ms/step - loss: 4.6393e-06 - accuracy: 1.0000 - val_loss: 5.2987 - val_accuracy: 0.5341\n",
      "Epoch 67/200\n",
      "62/62 [==============================] - 1s 10ms/step - loss: 4.4080e-06 - accuracy: 1.0000 - val_loss: 5.3699 - val_accuracy: 0.5284\n",
      "Epoch 68/200\n",
      "62/62 [==============================] - 1s 11ms/step - loss: 4.0329e-06 - accuracy: 1.0000 - val_loss: 5.3872 - val_accuracy: 0.5284\n",
      "Epoch 69/200\n",
      "62/62 [==============================] - 1s 10ms/step - loss: 3.8986e-06 - accuracy: 1.0000 - val_loss: 5.3395 - val_accuracy: 0.5341\n",
      "Epoch 70/200\n",
      "62/62 [==============================] - 1s 10ms/step - loss: 3.8329e-06 - accuracy: 1.0000 - val_loss: 5.4034 - val_accuracy: 0.5341\n",
      "Epoch 71/200\n",
      "62/62 [==============================] - 1s 11ms/step - loss: 3.6560e-06 - accuracy: 1.0000 - val_loss: 5.3792 - val_accuracy: 0.5341\n",
      "Epoch 72/200\n",
      "62/62 [==============================] - 1s 10ms/step - loss: 3.4743e-06 - accuracy: 1.0000 - val_loss: 5.3697 - val_accuracy: 0.5341\n",
      "Epoch 73/200\n",
      "62/62 [==============================] - 1s 11ms/step - loss: 3.3057e-06 - accuracy: 1.0000 - val_loss: 5.4358 - val_accuracy: 0.5341\n",
      "Epoch 74/200\n",
      "62/62 [==============================] - 1s 11ms/step - loss: 3.1760e-06 - accuracy: 1.0000 - val_loss: 5.4420 - val_accuracy: 0.5341\n",
      "Epoch 75/200\n",
      "62/62 [==============================] - 1s 11ms/step - loss: 2.9722e-06 - accuracy: 1.0000 - val_loss: 5.4444 - val_accuracy: 0.5398\n",
      "Epoch 76/200\n",
      "62/62 [==============================] - 1s 10ms/step - loss: 2.8960e-06 - accuracy: 1.0000 - val_loss: 5.4633 - val_accuracy: 0.5398\n",
      "Epoch 77/200\n",
      "62/62 [==============================] - 1s 10ms/step - loss: 2.7797e-06 - accuracy: 1.0000 - val_loss: 5.4695 - val_accuracy: 0.5455\n",
      "Epoch 78/200\n",
      "62/62 [==============================] - 1s 10ms/step - loss: 2.6462e-06 - accuracy: 1.0000 - val_loss: 5.4739 - val_accuracy: 0.5455\n",
      "Epoch 79/200\n",
      "62/62 [==============================] - 1s 10ms/step - loss: 2.5562e-06 - accuracy: 1.0000 - val_loss: 5.4777 - val_accuracy: 0.5455\n",
      "Epoch 80/200\n",
      "62/62 [==============================] - 1s 11ms/step - loss: 2.3937e-06 - accuracy: 1.0000 - val_loss: 5.4414 - val_accuracy: 0.5455\n",
      "Epoch 81/200\n",
      "62/62 [==============================] - 1s 11ms/step - loss: 2.3306e-06 - accuracy: 1.0000 - val_loss: 5.5224 - val_accuracy: 0.5398\n",
      "Epoch 82/200\n",
      "62/62 [==============================] - 1s 11ms/step - loss: 2.1854e-06 - accuracy: 1.0000 - val_loss: 5.4119 - val_accuracy: 0.5455\n",
      "Epoch 83/200\n",
      "62/62 [==============================] - 1s 11ms/step - loss: 2.0876e-06 - accuracy: 1.0000 - val_loss: 5.5261 - val_accuracy: 0.5455\n",
      "Epoch 84/200\n",
      "62/62 [==============================] - 1s 10ms/step - loss: 2.0270e-06 - accuracy: 1.0000 - val_loss: 5.4284 - val_accuracy: 0.5455\n",
      "Epoch 85/200\n",
      "62/62 [==============================] - 1s 11ms/step - loss: 1.9540e-06 - accuracy: 1.0000 - val_loss: 5.4953 - val_accuracy: 0.5455\n",
      "Epoch 86/200\n",
      "62/62 [==============================] - 1s 10ms/step - loss: 1.8631e-06 - accuracy: 1.0000 - val_loss: 5.4443 - val_accuracy: 0.5455\n",
      "Epoch 87/200\n",
      "62/62 [==============================] - 1s 10ms/step - loss: 1.7327e-06 - accuracy: 1.0000 - val_loss: 5.5872 - val_accuracy: 0.5398\n",
      "Epoch 88/200\n",
      "62/62 [==============================] - 1s 10ms/step - loss: 1.6390e-06 - accuracy: 1.0000 - val_loss: 5.4280 - val_accuracy: 0.5455\n",
      "Epoch 89/200\n",
      "62/62 [==============================] - 1s 11ms/step - loss: 1.6227e-06 - accuracy: 1.0000 - val_loss: 5.6096 - val_accuracy: 0.5398\n",
      "Epoch 90/200\n",
      "62/62 [==============================] - 1s 11ms/step - loss: 1.5611e-06 - accuracy: 1.0000 - val_loss: 5.6279 - val_accuracy: 0.5398\n",
      "Epoch 91/200\n",
      "62/62 [==============================] - 1s 11ms/step - loss: 1.5139e-06 - accuracy: 1.0000 - val_loss: 5.5017 - val_accuracy: 0.5455\n",
      "Epoch 92/200\n",
      "62/62 [==============================] - 1s 11ms/step - loss: 1.4541e-06 - accuracy: 1.0000 - val_loss: 5.5981 - val_accuracy: 0.5455\n",
      "Epoch 93/200\n",
      "62/62 [==============================] - 1s 11ms/step - loss: 1.3731e-06 - accuracy: 1.0000 - val_loss: 5.6372 - val_accuracy: 0.5455\n",
      "Epoch 94/200\n",
      "62/62 [==============================] - 1s 11ms/step - loss: 1.3164e-06 - accuracy: 1.0000 - val_loss: 5.6543 - val_accuracy: 0.5398\n",
      "Epoch 95/200\n",
      "62/62 [==============================] - 1s 10ms/step - loss: 1.2410e-06 - accuracy: 1.0000 - val_loss: 5.6067 - val_accuracy: 0.5455\n",
      "Epoch 96/200\n",
      "62/62 [==============================] - 1s 11ms/step - loss: 1.2342e-06 - accuracy: 1.0000 - val_loss: 5.6804 - val_accuracy: 0.5398\n",
      "Epoch 97/200\n",
      "62/62 [==============================] - 1s 11ms/step - loss: 1.1996e-06 - accuracy: 1.0000 - val_loss: 5.6947 - val_accuracy: 0.5398\n",
      "Epoch 98/200\n",
      "62/62 [==============================] - 1s 11ms/step - loss: 1.1605e-06 - accuracy: 1.0000 - val_loss: 5.7002 - val_accuracy: 0.5398\n",
      "Epoch 99/200\n",
      "62/62 [==============================] - 1s 11ms/step - loss: 1.1150e-06 - accuracy: 1.0000 - val_loss: 5.6719 - val_accuracy: 0.5455\n",
      "Epoch 100/200\n",
      "62/62 [==============================] - 1s 10ms/step - loss: 1.0444e-06 - accuracy: 1.0000 - val_loss: 5.7113 - val_accuracy: 0.5511\n",
      "Epoch 101/200\n",
      "62/62 [==============================] - 1s 10ms/step - loss: 1.0349e-06 - accuracy: 1.0000 - val_loss: 5.7279 - val_accuracy: 0.5455\n",
      "Epoch 102/200\n",
      "62/62 [==============================] - 1s 11ms/step - loss: 9.7849e-07 - accuracy: 1.0000 - val_loss: 5.6592 - val_accuracy: 0.5511\n",
      "Epoch 103/200\n",
      "62/62 [==============================] - 1s 10ms/step - loss: 9.5343e-07 - accuracy: 1.0000 - val_loss: 5.6379 - val_accuracy: 0.5511\n",
      "Epoch 104/200\n",
      "62/62 [==============================] - 1s 10ms/step - loss: 8.9918e-07 - accuracy: 1.0000 - val_loss: 5.5987 - val_accuracy: 0.5511\n",
      "Epoch 105/200\n",
      "62/62 [==============================] - 1s 10ms/step - loss: 8.8701e-07 - accuracy: 1.0000 - val_loss: 5.7608 - val_accuracy: 0.5511\n",
      "Epoch 106/200\n",
      "62/62 [==============================] - 1s 11ms/step - loss: 8.5612e-07 - accuracy: 1.0000 - val_loss: 5.7867 - val_accuracy: 0.5455\n",
      "Epoch 107/200\n",
      "62/62 [==============================] - 1s 10ms/step - loss: 8.1013e-07 - accuracy: 1.0000 - val_loss: 5.7871 - val_accuracy: 0.5455\n",
      "Epoch 108/200\n",
      "62/62 [==============================] - 1s 10ms/step - loss: 7.8605e-07 - accuracy: 1.0000 - val_loss: 5.7946 - val_accuracy: 0.5511\n",
      "Epoch 109/200\n",
      "62/62 [==============================] - 1s 11ms/step - loss: 7.5734e-07 - accuracy: 1.0000 - val_loss: 5.8139 - val_accuracy: 0.5455\n",
      "Epoch 110/200\n",
      "62/62 [==============================] - 1s 10ms/step - loss: 7.3131e-07 - accuracy: 1.0000 - val_loss: 5.8192 - val_accuracy: 0.5455\n",
      "Epoch 111/200\n",
      "62/62 [==============================] - 1s 10ms/step - loss: 7.1039e-07 - accuracy: 1.0000 - val_loss: 5.8301 - val_accuracy: 0.5455\n",
      "Epoch 112/200\n",
      "62/62 [==============================] - 1s 10ms/step - loss: 6.7828e-07 - accuracy: 1.0000 - val_loss: 5.8057 - val_accuracy: 0.5511\n"
     ]
    },
    {
     "name": "stdout",
     "output_type": "stream",
     "text": [
      "Epoch 113/200\n",
      "62/62 [==============================] - 1s 11ms/step - loss: 6.6003e-07 - accuracy: 1.0000 - val_loss: 5.8451 - val_accuracy: 0.5455\n",
      "Epoch 114/200\n",
      "62/62 [==============================] - 1s 11ms/step - loss: 6.1940e-07 - accuracy: 1.0000 - val_loss: 5.8603 - val_accuracy: 0.5455\n",
      "Epoch 115/200\n",
      "62/62 [==============================] - 1s 11ms/step - loss: 6.1818e-07 - accuracy: 1.0000 - val_loss: 5.8498 - val_accuracy: 0.5511\n",
      "Epoch 116/200\n",
      "62/62 [==============================] - 1s 11ms/step - loss: 5.7512e-07 - accuracy: 1.0000 - val_loss: 5.8059 - val_accuracy: 0.5511\n",
      "Epoch 117/200\n",
      "62/62 [==============================] - 1s 11ms/step - loss: 5.5615e-07 - accuracy: 1.0000 - val_loss: 5.7166 - val_accuracy: 0.5511\n",
      "Epoch 118/200\n",
      "62/62 [==============================] - 1s 11ms/step - loss: 5.5323e-07 - accuracy: 1.0000 - val_loss: 5.8592 - val_accuracy: 0.5511\n",
      "Epoch 119/200\n",
      "62/62 [==============================] - 1s 10ms/step - loss: 5.1406e-07 - accuracy: 1.0000 - val_loss: 5.8992 - val_accuracy: 0.5455\n",
      "Epoch 120/200\n",
      "62/62 [==============================] - 1s 11ms/step - loss: 5.1017e-07 - accuracy: 1.0000 - val_loss: 5.9105 - val_accuracy: 0.5455\n",
      "Epoch 121/200\n",
      "62/62 [==============================] - 1s 11ms/step - loss: 4.8827e-07 - accuracy: 1.0000 - val_loss: 5.8701 - val_accuracy: 0.5511\n",
      "Epoch 122/200\n",
      "62/62 [==============================] - 1s 11ms/step - loss: 4.7586e-07 - accuracy: 1.0000 - val_loss: 5.8901 - val_accuracy: 0.5511\n",
      "Epoch 123/200\n",
      "62/62 [==============================] - 1s 11ms/step - loss: 4.6638e-07 - accuracy: 1.0000 - val_loss: 5.8699 - val_accuracy: 0.5511\n",
      "Epoch 124/200\n",
      "62/62 [==============================] - 1s 11ms/step - loss: 4.4351e-07 - accuracy: 1.0000 - val_loss: 5.9558 - val_accuracy: 0.5455\n",
      "Epoch 125/200\n",
      "62/62 [==============================] - 1s 10ms/step - loss: 4.3159e-07 - accuracy: 1.0000 - val_loss: 5.9575 - val_accuracy: 0.5455\n",
      "Epoch 126/200\n",
      "62/62 [==============================] - 1s 10ms/step - loss: 4.1358e-07 - accuracy: 1.0000 - val_loss: 5.9645 - val_accuracy: 0.5455\n",
      "Epoch 127/200\n",
      "62/62 [==============================] - 1s 10ms/step - loss: 3.9874e-07 - accuracy: 1.0000 - val_loss: 5.9490 - val_accuracy: 0.5511\n",
      "Epoch 128/200\n",
      "62/62 [==============================] - 1s 11ms/step - loss: 3.9144e-07 - accuracy: 1.0000 - val_loss: 5.9194 - val_accuracy: 0.5511\n",
      "Epoch 129/200\n",
      "62/62 [==============================] - 1s 11ms/step - loss: 3.7758e-07 - accuracy: 1.0000 - val_loss: 5.9185 - val_accuracy: 0.5511\n",
      "Epoch 130/200\n",
      "62/62 [==============================] - 1s 10ms/step - loss: 3.6444e-07 - accuracy: 1.0000 - val_loss: 5.9908 - val_accuracy: 0.5511\n",
      "Epoch 131/200\n",
      "62/62 [==============================] - 1s 11ms/step - loss: 3.4887e-07 - accuracy: 1.0000 - val_loss: 6.0040 - val_accuracy: 0.5511\n",
      "Epoch 132/200\n",
      "62/62 [==============================] - 1s 10ms/step - loss: 3.4035e-07 - accuracy: 1.0000 - val_loss: 5.9549 - val_accuracy: 0.5511\n",
      "Epoch 133/200\n",
      "62/62 [==============================] - 1s 11ms/step - loss: 3.2527e-07 - accuracy: 1.0000 - val_loss: 6.0375 - val_accuracy: 0.5455\n",
      "Epoch 134/200\n",
      "62/62 [==============================] - 1s 11ms/step - loss: 3.1846e-07 - accuracy: 1.0000 - val_loss: 6.0444 - val_accuracy: 0.5455\n",
      "Epoch 135/200\n",
      "62/62 [==============================] - 1s 10ms/step - loss: 2.9948e-07 - accuracy: 1.0000 - val_loss: 6.0556 - val_accuracy: 0.5455\n",
      "Epoch 136/200\n",
      "62/62 [==============================] - 1s 11ms/step - loss: 2.9048e-07 - accuracy: 1.0000 - val_loss: 6.0684 - val_accuracy: 0.5455\n",
      "Epoch 137/200\n",
      "62/62 [==============================] - 1s 11ms/step - loss: 2.6737e-07 - accuracy: 1.0000 - val_loss: 6.0766 - val_accuracy: 0.5455\n",
      "Epoch 138/200\n",
      "62/62 [==============================] - 1s 11ms/step - loss: 2.7442e-07 - accuracy: 1.0000 - val_loss: 6.0929 - val_accuracy: 0.5455\n",
      "Epoch 139/200\n",
      "62/62 [==============================] - 1s 10ms/step - loss: 2.6250e-07 - accuracy: 1.0000 - val_loss: 6.1007 - val_accuracy: 0.5455\n",
      "Epoch 140/200\n",
      "62/62 [==============================] - 1s 11ms/step - loss: 2.5934e-07 - accuracy: 1.0000 - val_loss: 6.1124 - val_accuracy: 0.5455\n",
      "Epoch 141/200\n",
      "62/62 [==============================] - 1s 11ms/step - loss: 2.4864e-07 - accuracy: 1.0000 - val_loss: 6.1192 - val_accuracy: 0.5455\n",
      "Epoch 142/200\n",
      "62/62 [==============================] - 1s 11ms/step - loss: 2.3818e-07 - accuracy: 1.0000 - val_loss: 6.1280 - val_accuracy: 0.5455\n",
      "Epoch 143/200\n",
      "62/62 [==============================] - 1s 11ms/step - loss: 2.3282e-07 - accuracy: 1.0000 - val_loss: 6.0155 - val_accuracy: 0.5511\n",
      "Epoch 144/200\n",
      "62/62 [==============================] - 1s 10ms/step - loss: 2.1750e-07 - accuracy: 1.0000 - val_loss: 6.0483 - val_accuracy: 0.5511\n",
      "Epoch 145/200\n",
      "62/62 [==============================] - 1s 11ms/step - loss: 2.1312e-07 - accuracy: 1.0000 - val_loss: 6.1561 - val_accuracy: 0.5455\n",
      "Epoch 146/200\n",
      "62/62 [==============================] - 1s 10ms/step - loss: 2.1020e-07 - accuracy: 1.0000 - val_loss: 6.1322 - val_accuracy: 0.5511\n",
      "Epoch 147/200\n",
      "62/62 [==============================] - 1s 11ms/step - loss: 2.0241e-07 - accuracy: 1.0000 - val_loss: 6.1402 - val_accuracy: 0.5511\n",
      "Epoch 148/200\n",
      "62/62 [==============================] - 1s 11ms/step - loss: 1.9244e-07 - accuracy: 1.0000 - val_loss: 6.1879 - val_accuracy: 0.5455\n",
      "Epoch 149/200\n",
      "62/62 [==============================] - 1s 11ms/step - loss: 1.8843e-07 - accuracy: 1.0000 - val_loss: 6.1046 - val_accuracy: 0.5568\n",
      "Epoch 150/200\n",
      "62/62 [==============================] - 1s 11ms/step - loss: 1.8198e-07 - accuracy: 1.0000 - val_loss: 6.2075 - val_accuracy: 0.5511\n",
      "Epoch 151/200\n",
      "62/62 [==============================] - 1s 11ms/step - loss: 1.7589e-07 - accuracy: 1.0000 - val_loss: 6.2000 - val_accuracy: 0.5511\n",
      "Epoch 152/200\n",
      "62/62 [==============================] - 1s 11ms/step - loss: 1.6981e-07 - accuracy: 1.0000 - val_loss: 6.2266 - val_accuracy: 0.5455\n",
      "Epoch 153/200\n",
      "62/62 [==============================] - 1s 10ms/step - loss: 1.6324e-07 - accuracy: 1.0000 - val_loss: 6.1247 - val_accuracy: 0.5568\n",
      "Epoch 154/200\n",
      "62/62 [==============================] - 1s 10ms/step - loss: 1.5230e-07 - accuracy: 1.0000 - val_loss: 6.2116 - val_accuracy: 0.5568\n",
      "Epoch 155/200\n",
      "62/62 [==============================] - 1s 10ms/step - loss: 1.5084e-07 - accuracy: 1.0000 - val_loss: 6.2604 - val_accuracy: 0.5455\n",
      "Epoch 156/200\n",
      "62/62 [==============================] - 1s 11ms/step - loss: 1.4889e-07 - accuracy: 1.0000 - val_loss: 6.2572 - val_accuracy: 0.5568\n",
      "Epoch 157/200\n",
      "62/62 [==============================] - 1s 11ms/step - loss: 1.3989e-07 - accuracy: 1.0000 - val_loss: 6.2760 - val_accuracy: 0.5511\n",
      "Epoch 158/200\n",
      "62/62 [==============================] - 1s 10ms/step - loss: 1.3867e-07 - accuracy: 1.0000 - val_loss: 6.2158 - val_accuracy: 0.5568\n",
      "Epoch 159/200\n",
      "62/62 [==============================] - 1s 10ms/step - loss: 1.3478e-07 - accuracy: 1.0000 - val_loss: 6.2424 - val_accuracy: 0.5568\n",
      "Epoch 160/200\n",
      "62/62 [==============================] - 1s 10ms/step - loss: 1.2845e-07 - accuracy: 1.0000 - val_loss: 6.3052 - val_accuracy: 0.5511\n",
      "Epoch 161/200\n",
      "62/62 [==============================] - 1s 11ms/step - loss: 1.2578e-07 - accuracy: 1.0000 - val_loss: 6.2989 - val_accuracy: 0.5568\n",
      "Epoch 162/200\n",
      "62/62 [==============================] - 1s 10ms/step - loss: 1.2164e-07 - accuracy: 1.0000 - val_loss: 6.3207 - val_accuracy: 0.5511\n",
      "Epoch 163/200\n",
      "62/62 [==============================] - 1s 11ms/step - loss: 1.1556e-07 - accuracy: 1.0000 - val_loss: 6.1941 - val_accuracy: 0.5568\n",
      "Epoch 164/200\n",
      "62/62 [==============================] - 1s 10ms/step - loss: 1.1118e-07 - accuracy: 1.0000 - val_loss: 6.3364 - val_accuracy: 0.5568\n",
      "Epoch 165/200\n",
      "62/62 [==============================] - 1s 10ms/step - loss: 1.0729e-07 - accuracy: 1.0000 - val_loss: 6.3602 - val_accuracy: 0.5511\n",
      "Epoch 166/200\n",
      "62/62 [==============================] - 1s 11ms/step - loss: 1.0437e-07 - accuracy: 1.0000 - val_loss: 6.2414 - val_accuracy: 0.5568\n",
      "Epoch 167/200\n",
      "62/62 [==============================] - 1s 10ms/step - loss: 1.0121e-07 - accuracy: 1.0000 - val_loss: 6.3645 - val_accuracy: 0.5625\n",
      "Epoch 168/200\n"
     ]
    },
    {
     "name": "stdout",
     "output_type": "stream",
     "text": [
      "62/62 [==============================] - 1s 11ms/step - loss: 9.3664e-08 - accuracy: 1.0000 - val_loss: 6.3513 - val_accuracy: 0.5625\n",
      "Epoch 169/200\n",
      "62/62 [==============================] - 1s 10ms/step - loss: 9.4638e-08 - accuracy: 1.0000 - val_loss: 6.3984 - val_accuracy: 0.5568\n",
      "Epoch 170/200\n",
      "62/62 [==============================] - 1s 10ms/step - loss: 8.9772e-08 - accuracy: 1.0000 - val_loss: 6.3409 - val_accuracy: 0.5625\n",
      "Epoch 171/200\n",
      "62/62 [==============================] - 1s 11ms/step - loss: 8.6852e-08 - accuracy: 1.0000 - val_loss: 6.3698 - val_accuracy: 0.5568\n",
      "Epoch 172/200\n",
      "62/62 [==============================] - 1s 11ms/step - loss: 8.1014e-08 - accuracy: 1.0000 - val_loss: 6.4273 - val_accuracy: 0.5568\n",
      "Epoch 173/200\n",
      "62/62 [==============================] - 1s 11ms/step - loss: 8.1257e-08 - accuracy: 1.0000 - val_loss: 6.4340 - val_accuracy: 0.5511\n",
      "Epoch 174/200\n",
      "62/62 [==============================] - 1s 10ms/step - loss: 8.0527e-08 - accuracy: 1.0000 - val_loss: 6.4424 - val_accuracy: 0.5511\n",
      "Epoch 175/200\n",
      "62/62 [==============================] - 1s 11ms/step - loss: 7.8581e-08 - accuracy: 1.0000 - val_loss: 6.4515 - val_accuracy: 0.5511\n",
      "Epoch 176/200\n",
      "62/62 [==============================] - 1s 10ms/step - loss: 7.6148e-08 - accuracy: 1.0000 - val_loss: 6.4181 - val_accuracy: 0.5568\n",
      "Epoch 177/200\n",
      "62/62 [==============================] - 1s 10ms/step - loss: 7.0552e-08 - accuracy: 1.0000 - val_loss: 6.4711 - val_accuracy: 0.5511\n",
      "Epoch 178/200\n",
      "62/62 [==============================] - 1s 11ms/step - loss: 7.1039e-08 - accuracy: 1.0000 - val_loss: 6.4772 - val_accuracy: 0.5511\n",
      "Epoch 179/200\n",
      "62/62 [==============================] - 1s 11ms/step - loss: 6.5687e-08 - accuracy: 1.0000 - val_loss: 6.2979 - val_accuracy: 0.5568\n",
      "Epoch 180/200\n",
      "62/62 [==============================] - 1s 11ms/step - loss: 6.4714e-08 - accuracy: 1.0000 - val_loss: 6.4951 - val_accuracy: 0.5511\n",
      "Epoch 181/200\n",
      "62/62 [==============================] - 1s 10ms/step - loss: 6.2767e-08 - accuracy: 1.0000 - val_loss: 6.3472 - val_accuracy: 0.5568\n",
      "Epoch 182/200\n",
      "62/62 [==============================] - 1s 10ms/step - loss: 5.9361e-08 - accuracy: 1.0000 - val_loss: 6.4685 - val_accuracy: 0.5568\n",
      "Epoch 183/200\n",
      "62/62 [==============================] - 1s 10ms/step - loss: 5.7415e-08 - accuracy: 1.0000 - val_loss: 6.5268 - val_accuracy: 0.5511\n",
      "Epoch 184/200\n",
      "62/62 [==============================] - 1s 11ms/step - loss: 5.5955e-08 - accuracy: 1.0000 - val_loss: 6.5380 - val_accuracy: 0.5511\n",
      "Epoch 185/200\n",
      "62/62 [==============================] - 1s 10ms/step - loss: 5.3036e-08 - accuracy: 1.0000 - val_loss: 6.4253 - val_accuracy: 0.5568\n",
      "Epoch 186/200\n",
      "62/62 [==============================] - 1s 10ms/step - loss: 4.9143e-08 - accuracy: 1.0000 - val_loss: 6.5584 - val_accuracy: 0.5511\n",
      "Epoch 187/200\n",
      "62/62 [==============================] - 1s 10ms/step - loss: 5.1576e-08 - accuracy: 1.0000 - val_loss: 6.5150 - val_accuracy: 0.5568\n",
      "Epoch 188/200\n",
      "62/62 [==============================] - 1s 11ms/step - loss: 4.9873e-08 - accuracy: 1.0000 - val_loss: 6.5311 - val_accuracy: 0.5568\n",
      "Epoch 189/200\n",
      "62/62 [==============================] - 1s 11ms/step - loss: 4.7440e-08 - accuracy: 1.0000 - val_loss: 6.5425 - val_accuracy: 0.5568\n",
      "Epoch 190/200\n",
      "62/62 [==============================] - 1s 11ms/step - loss: 4.5494e-08 - accuracy: 1.0000 - val_loss: 6.6015 - val_accuracy: 0.5511\n",
      "Epoch 191/200\n",
      "62/62 [==============================] - 1s 11ms/step - loss: 4.3548e-08 - accuracy: 1.0000 - val_loss: 6.4096 - val_accuracy: 0.5568\n",
      "Epoch 192/200\n",
      "62/62 [==============================] - 1s 11ms/step - loss: 4.2088e-08 - accuracy: 1.0000 - val_loss: 6.5720 - val_accuracy: 0.5568\n",
      "Epoch 193/200\n",
      "62/62 [==============================] - 1s 11ms/step - loss: 3.7709e-08 - accuracy: 1.0000 - val_loss: 6.6343 - val_accuracy: 0.5511\n",
      "Epoch 194/200\n",
      "62/62 [==============================] - 1s 11ms/step - loss: 3.7709e-08 - accuracy: 1.0000 - val_loss: 6.4433 - val_accuracy: 0.5568\n",
      "Epoch 195/200\n",
      "62/62 [==============================] - 1s 11ms/step - loss: 3.5763e-08 - accuracy: 1.0000 - val_loss: 6.6343 - val_accuracy: 0.5568\n",
      "Epoch 196/200\n",
      "62/62 [==============================] - 1s 10ms/step - loss: 3.4546e-08 - accuracy: 1.0000 - val_loss: 6.5050 - val_accuracy: 0.5568\n",
      "Epoch 197/200\n",
      "62/62 [==============================] - 1s 10ms/step - loss: 3.3817e-08 - accuracy: 1.0000 - val_loss: 6.6760 - val_accuracy: 0.5511\n",
      "Epoch 198/200\n",
      "62/62 [==============================] - 1s 11ms/step - loss: 3.2600e-08 - accuracy: 1.0000 - val_loss: 6.6853 - val_accuracy: 0.5511\n",
      "Epoch 199/200\n",
      "62/62 [==============================] - 1s 11ms/step - loss: 3.1870e-08 - accuracy: 1.0000 - val_loss: 6.6969 - val_accuracy: 0.5511\n",
      "Epoch 200/200\n",
      "62/62 [==============================] - 1s 10ms/step - loss: 2.9194e-08 - accuracy: 1.0000 - val_loss: 6.6994 - val_accuracy: 0.5511\n",
      "Wall time: 2min 19s\n"
     ]
    }
   ],
   "source": [
    "%%time\n",
    "\n",
    "Hist_dandc = model.fit(train_generator,\n",
    "                       steps_per_epoch = 62,\n",
    "                       epochs = 200,\n",
    "                       validation_data = valid_generator,\n",
    "                       validation_steps = 22)"
   ]
  },
  {
   "cell_type": "markdown",
   "metadata": {
    "id": "FnnIyFtNKhbD"
   },
   "source": [
    "## 학습 결과 시각화"
   ]
  },
  {
   "cell_type": "markdown",
   "metadata": {
    "id": "YgXRhVauKqOm"
   },
   "source": [
    "* Loss Visualization"
   ]
  },
  {
   "cell_type": "code",
   "execution_count": 11,
   "metadata": {
    "colab": {
     "base_uri": "https://localhost:8080/",
     "height": 404
    },
    "executionInfo": {
     "elapsed": 19,
     "status": "ok",
     "timestamp": 1628224188181,
     "user": {
      "displayName": "이정구",
      "photoUrl": "https://lh3.googleusercontent.com/a-/AOh14Gg2atzeYT6QYFW3pcTDyi6aX0d6dqm_hj4W8fMg=s64",
      "userId": "17400242557229223804"
     },
     "user_tz": -540
    },
    "id": "OQ4ke8BbKi50",
    "outputId": "7d70ae56-f0be-4ff4-dbd6-5d74577a3a8e"
   },
   "outputs": [
    {
     "data": {
      "image/png": "[encoded data removed]",
      "text/plain": [
       "<Figure size 648x432 with 1 Axes>"
      ]
     },
     "metadata": {
      "needs_background": "light"
     },
     "output_type": "display_data"
    }
   ],
   "source": [
    "import matplotlib.pyplot as plt\n",
    "\n",
    "epochs = range(1, len(Hist_dandc.history['loss']) + 1)\n",
    "\n",
    "plt.figure(figsize = (9, 6))\n",
    "plt.plot(epochs, Hist_dandc.history['loss'])\n",
    "plt.plot(epochs, Hist_dandc.history['val_loss'])\n",
    "\n",
    "plt.title('Training & Validation Loss')\n",
    "plt.xlabel('Epochs')\n",
    "plt.ylabel('Loss')\n",
    "plt.legend(['Training Loss', 'Validation Loss'])\n",
    "plt.grid()\n",
    "plt.show()"
   ]
  },
  {
   "cell_type": "markdown",
   "metadata": {
    "id": "mVA9TcEvWzIv"
   },
   "source": [
    "* Accuracy Visualization"
   ]
  },
  {
   "cell_type": "code",
   "execution_count": 12,
   "metadata": {
    "colab": {
     "base_uri": "https://localhost:8080/",
     "height": 404
    },
    "executionInfo": {
     "elapsed": 15,
     "status": "ok",
     "timestamp": 1628224188183,
     "user": {
      "displayName": "이정구",
      "photoUrl": "https://lh3.googleusercontent.com/a-/AOh14Gg2atzeYT6QYFW3pcTDyi6aX0d6dqm_hj4W8fMg=s64",
      "userId": "17400242557229223804"
     },
     "user_tz": -540
    },
    "id": "BRIqZjTOWaN2",
    "outputId": "3463ede8-68b4-4b81-9769-1271457e6986"
   },
   "outputs": [
    {
     "data": {
      "image/png": "[encoded data removed]",
      "text/plain": [
       "<Figure size 648x432 with 1 Axes>"
      ]
     },
     "metadata": {
      "needs_background": "light"
     },
     "output_type": "display_data"
    }
   ],
   "source": [
    "import matplotlib.pyplot as plt\n",
    "\n",
    "epochs = range(1, len(Hist_dandc.history['loss']) + 1)\n",
    "\n",
    "plt.figure(figsize = (9, 6))\n",
    "plt.plot(epochs, Hist_dandc.history['accuracy'])\n",
    "plt.plot(epochs, Hist_dandc.history['val_accuracy'])\n",
    "\n",
    "plt.title('Training & Validation Accuracy')\n",
    "plt.xlabel('Epochs')\n",
    "plt.ylabel('Accuracy')\n",
    "plt.legend(['Training Accuracy', 'Validation Accuracy'])\n",
    "plt.grid()\n",
    "plt.show()"
   ]
  },
  {
   "cell_type": "markdown",
   "metadata": {
    "id": "_uJSOLBko7lh"
   },
   "source": [
    "## Model Evaluate"
   ]
  },
  {
   "cell_type": "markdown",
   "metadata": {
    "id": "vqd33SF_RG3q"
   },
   "source": [
    "* test_generator"
   ]
  },
  {
   "cell_type": "code",
   "execution_count": 13,
   "metadata": {
    "colab": {
     "base_uri": "https://localhost:8080/"
    },
    "executionInfo": {
     "elapsed": 595,
     "status": "ok",
     "timestamp": 1628224188765,
     "user": {
      "displayName": "이정구",
      "photoUrl": "https://lh3.googleusercontent.com/a-/AOh14Gg2atzeYT6QYFW3pcTDyi6aX0d6dqm_hj4W8fMg=s64",
      "userId": "17400242557229223804"
     },
     "user_tz": -540
    },
    "id": "2SZddYK7RLov",
    "outputId": "f630ef9c-264e-480d-fb31-4990453d189b"
   },
   "outputs": [
    {
     "name": "stdout",
     "output_type": "stream",
     "text": [
      "Found 177 images belonging to 27 classes.\n"
     ]
    }
   ],
   "source": [
    "test_datagen = ImageDataGenerator(rescale = 1./255)\n",
    "\n",
    "test_generator = test_datagen.flow_from_directory(\n",
    "                 test_dir,\n",
    "                 target_size = (75, 75),\n",
    "                 batch_size = 8,\n",
    "                 class_mode = 'categorical')"
   ]
  },
  {
   "cell_type": "markdown",
   "metadata": {
    "id": "i-TqAB2ALGzZ"
   },
   "source": [
    "* Loss & Accuracy"
   ]
  },
  {
   "cell_type": "code",
   "execution_count": 14,
   "metadata": {
    "colab": {
     "base_uri": "https://localhost:8080/"
    },
    "executionInfo": {
     "elapsed": 21,
     "status": "ok",
     "timestamp": 1628224188766,
     "user": {
      "displayName": "이정구",
      "photoUrl": "https://lh3.googleusercontent.com/a-/AOh14Gg2atzeYT6QYFW3pcTDyi6aX0d6dqm_hj4W8fMg=s64",
      "userId": "17400242557229223804"
     },
     "user_tz": -540
    },
    "id": "OF30PuZsAxQJ",
    "outputId": "309ad86e-1ad1-464e-c56e-d4462df5d350"
   },
   "outputs": [
    {
     "name": "stdout",
     "output_type": "stream",
     "text": [
      "23/23 [==============================] - 0s 9ms/step - loss: 6.6660 - accuracy: 0.5537\n",
      "Loss = 6.66601\n",
      "Accuracy = 0.55367\n"
     ]
    }
   ],
   "source": [
    "loss, accuracy = model.evaluate(test_generator)\n",
    "\n",
    "print('Loss = {:.5f}'.format(loss))\n",
    "print('Accuracy = {:.5f}'.format(accuracy))"
   ]
  }
 ],
 "metadata": {
  "accelerator": "GPU",
  "colab": {
   "collapsed_sections": [],
   "name": "500_CNN_Logo_Categorical_GPU.ipynb",
   "provenance": []
  },
  "kernelspec": {
   "display_name": "Python tf25",
   "language": "python",
   "name": "tf25"
  },
  "language_info": {
   "codemirror_mode": {
    "name": "ipython",
    "version": 3
   },
   "file_extension": ".py",
   "mimetype": "text/x-python",
   "name": "python",
   "nbconvert_exporter": "python",
   "pygments_lexer": "ipython3",
   "version": "3.8.8"
  }
 },
 "nbformat": 4,
 "nbformat_minor": 1
}
