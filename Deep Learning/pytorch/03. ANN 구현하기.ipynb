{
 "cells": [
  {
   "cell_type": "code",
   "execution_count": 1,
   "id": "fbcb6263",
   "metadata": {
    "ExecuteTime": {
     "end_time": "2024-03-08T04:35:43.376243Z",
     "start_time": "2024-03-08T04:35:41.446462Z"
    }
   },
   "outputs": [],
   "source": [
    "from torchvision import datasets, transforms\n",
    "from torch.utils import data"
   ]
  },
  {
   "cell_type": "code",
   "execution_count": 2,
   "id": "8ea54753",
   "metadata": {
    "ExecuteTime": {
     "end_time": "2024-03-08T04:35:43.451342Z",
     "start_time": "2024-03-08T04:35:43.378237Z"
    }
   },
   "outputs": [],
   "source": [
    "train_loader = data.DataLoader(\n",
    "    datasets.FashionMNIST('dataset/', train=True, download=True, # 다운로드 경로\n",
    "                         transform=transforms.Compose([ # 이미지를 텐서로 바꿔주는 코드\n",
    "                             transforms.ToTensor(),\n",
    "                             transforms.Normalize(mean=(0.5,), std=(0.5,))\n",
    "                         ])\n",
    "                         ),\n",
    "    batch_size=32\n",
    ")\n",
    "\n",
    "test_loader = data.DataLoader(\n",
    "    datasets.FashionMNIST('dataset/', train=False, download=True, # 다운로드 경로\n",
    "                         transform=transforms.Compose([ # 이미지를 텐서로 바꿔주는 코드\n",
    "                             transforms.ToTensor(),\n",
    "                             transforms.Normalize(mean=(0.5,), std=(0.5,))\n",
    "                         ])\n",
    "                         ),\n",
    "    batch_size=32\n",
    ")"
   ]
  },
  {
   "cell_type": "code",
   "execution_count": 3,
   "id": "41a55918",
   "metadata": {
    "ExecuteTime": {
     "end_time": "2024-03-08T04:35:43.466536Z",
     "start_time": "2024-03-08T04:35:43.453370Z"
    }
   },
   "outputs": [],
   "source": [
    "images, labels = next(iter(train_loader))"
   ]
  },
  {
   "cell_type": "code",
   "execution_count": 4,
   "id": "53d2328a",
   "metadata": {
    "ExecuteTime": {
     "end_time": "2024-03-08T04:35:43.481505Z",
     "start_time": "2024-03-08T04:35:43.470611Z"
    }
   },
   "outputs": [],
   "source": [
    "import torch\n",
    "import torch.nn as nn\n",
    "import torch.optim as optim\n",
    "import torch.nn.functional as f"
   ]
  },
  {
   "cell_type": "code",
   "execution_count": 5,
   "id": "a6b3feeb",
   "metadata": {
    "ExecuteTime": {
     "end_time": "2024-03-08T04:35:43.496888Z",
     "start_time": "2024-03-08T04:35:43.482565Z"
    }
   },
   "outputs": [
    {
     "data": {
      "text/plain": [
       "device(type='cuda')"
      ]
     },
     "execution_count": 5,
     "metadata": {},
     "output_type": "execute_result"
    }
   ],
   "source": [
    "torch.manual_seed(14) # 시드\n",
    "use_cuda = torch.cuda.is_available()\n",
    "device = torch.device('cuda' if use_cuda else 'cpu')\n",
    "device"
   ]
  },
  {
   "cell_type": "markdown",
   "id": "35d2d883",
   "metadata": {},
   "source": [
    "# ANN 모델 정의"
   ]
  },
  {
   "cell_type": "code",
   "execution_count": 6,
   "id": "166c7b8f",
   "metadata": {
    "ExecuteTime": {
     "end_time": "2024-03-08T04:35:43.511931Z",
     "start_time": "2024-03-08T04:35:43.498887Z"
    }
   },
   "outputs": [],
   "source": [
    "# 모델 정의는 클래스 형태로 정의\n",
    "class Ann(nn.Module):\n",
    "    def __init__(self):\n",
    "        super(Ann, self).__init__()\n",
    "        self.fc1 = nn.Linear(784, 256) # input layer, 784 = 28*28\n",
    "        self.fc2 = nn.Linear(256, 128) # hidden layer\n",
    "        self.fc3 = nn.Linear(128, 10) # output layer\n",
    "    \n",
    "    def forward(self, x): # 정방향 연산 (입력->출력)\n",
    "        x = x.view(-1, 784) # 1차원으로 펼치기\n",
    "        x = f.relu(self.fc1(x)) # relu 활성화 함수\n",
    "        x = f.relu(self.fc2(x))\n",
    "        x = self.fc3(x)\n",
    "        return x"
   ]
  },
  {
   "cell_type": "code",
   "execution_count": 7,
   "id": "1e401500",
   "metadata": {
    "ExecuteTime": {
     "end_time": "2024-03-08T04:35:44.085124Z",
     "start_time": "2024-03-08T04:35:43.513964Z"
    }
   },
   "outputs": [],
   "source": [
    "model = Ann().to(device) # 모델의 파라미터들을 지정한 장치의 메모리로 전달"
   ]
  },
  {
   "cell_type": "code",
   "execution_count": 8,
   "id": "d2fe9563",
   "metadata": {
    "ExecuteTime": {
     "end_time": "2024-03-08T04:35:44.100124Z",
     "start_time": "2024-03-08T04:35:44.086117Z"
    }
   },
   "outputs": [],
   "source": [
    "optimizer = optim.SGD(model.parameters(), lr=0.01)"
   ]
  },
  {
   "cell_type": "code",
   "execution_count": 9,
   "id": "851a0fc8",
   "metadata": {
    "ExecuteTime": {
     "end_time": "2024-03-08T04:35:44.115125Z",
     "start_time": "2024-03-08T04:35:44.102129Z"
    }
   },
   "outputs": [
    {
     "data": {
      "text/plain": [
       "Ann(\n",
       "  (fc1): Linear(in_features=784, out_features=256, bias=True)\n",
       "  (fc2): Linear(in_features=256, out_features=128, bias=True)\n",
       "  (fc3): Linear(in_features=128, out_features=10, bias=True)\n",
       ")"
      ]
     },
     "execution_count": 9,
     "metadata": {},
     "output_type": "execute_result"
    }
   ],
   "source": [
    "# 학습하기 전 model이 train할 수 있도록 train mode로 변환\n",
    "model.train()"
   ]
  },
  {
   "cell_type": "code",
   "execution_count": 10,
   "id": "5c2a8356",
   "metadata": {
    "ExecuteTime": {
     "end_time": "2024-03-08T04:35:44.130237Z",
     "start_time": "2024-03-08T04:35:44.117118Z"
    }
   },
   "outputs": [
    {
     "data": {
      "text/plain": [
       "(torch.Size([32, 1, 28, 28]), torch.Size([32]))"
      ]
     },
     "execution_count": 10,
     "metadata": {},
     "output_type": "execute_result"
    }
   ],
   "source": [
    "data, target = images.to(device), labels.to(device) # 추출한 batch 데이터 1개를 device에 전달\n",
    "data.shape, target.shape"
   ]
  },
  {
   "cell_type": "code",
   "execution_count": 11,
   "id": "7906f6ff",
   "metadata": {
    "ExecuteTime": {
     "end_time": "2024-03-08T04:35:44.145353Z",
     "start_time": "2024-03-08T04:35:44.132259Z"
    }
   },
   "outputs": [],
   "source": [
    "optimizer.zero_grad() # 기울기 초기화 - 새로운 최적화 값을 찾기 위해 준비"
   ]
  },
  {
   "cell_type": "code",
   "execution_count": 12,
   "id": "6c6f1208",
   "metadata": {
    "ExecuteTime": {
     "end_time": "2024-03-08T04:35:46.016138Z",
     "start_time": "2024-03-08T04:35:44.147353Z"
    }
   },
   "outputs": [],
   "source": [
    "output = model(data)"
   ]
  },
  {
   "cell_type": "code",
   "execution_count": 13,
   "id": "f90f8d23",
   "metadata": {
    "ExecuteTime": {
     "end_time": "2024-03-08T04:35:46.031202Z",
     "start_time": "2024-03-08T04:35:46.023132Z"
    }
   },
   "outputs": [],
   "source": [
    "# output과 target의 오차 계산\n",
    "# 오차에 최적화 알고리즘을 통해 가중치를 줄여나가는 함수\n",
    "loss = f.cross_entropy(output, target)"
   ]
  },
  {
   "cell_type": "code",
   "execution_count": 14,
   "id": "6388f58c",
   "metadata": {
    "ExecuteTime": {
     "end_time": "2024-03-08T04:35:46.046227Z",
     "start_time": "2024-03-08T04:35:46.034224Z"
    }
   },
   "outputs": [],
   "source": [
    "loss.backward() # 기울기 계산"
   ]
  },
  {
   "cell_type": "code",
   "execution_count": 15,
   "id": "971263e9",
   "metadata": {
    "ExecuteTime": {
     "end_time": "2024-03-08T04:35:46.061324Z",
     "start_time": "2024-03-08T04:35:46.048225Z"
    }
   },
   "outputs": [],
   "source": [
    "# 기울기를 가중치로 수정\n",
    "optimizer.step()"
   ]
  },
  {
   "cell_type": "markdown",
   "id": "733f759b",
   "metadata": {},
   "source": [
    "# 학습"
   ]
  },
  {
   "cell_type": "code",
   "execution_count": 16,
   "id": "44a3ff4c",
   "metadata": {
    "ExecuteTime": {
     "end_time": "2024-03-08T04:35:46.076345Z",
     "start_time": "2024-03-08T04:35:46.062342Z"
    }
   },
   "outputs": [],
   "source": [
    "EPOCHS = 10"
   ]
  },
  {
   "cell_type": "code",
   "execution_count": 17,
   "id": "8e643c26",
   "metadata": {
    "ExecuteTime": {
     "end_time": "2024-03-08T04:35:46.091351Z",
     "start_time": "2024-03-08T04:35:46.079343Z"
    }
   },
   "outputs": [],
   "source": [
    "model = Ann().to(device)\n",
    "optimizer = optim.SGD(model.parameters(), lr=0.01)"
   ]
  },
  {
   "cell_type": "code",
   "execution_count": 18,
   "id": "1a691e66",
   "metadata": {
    "ExecuteTime": {
     "end_time": "2024-03-08T04:38:23.009280Z",
     "start_time": "2024-03-08T04:35:46.093346Z"
    }
   },
   "outputs": [
    {
     "name": "stdout",
     "output_type": "stream",
     "text": [
      "Train Epoch: 1\tLoss:0.652915\n",
      "Train Epoch: 2\tLoss:0.536123\n",
      "Train Epoch: 3\tLoss:0.462021\n",
      "Train Epoch: 4\tLoss:0.399988\n",
      "Train Epoch: 5\tLoss:0.346333\n",
      "Train Epoch: 6\tLoss:0.305049\n",
      "Train Epoch: 7\tLoss:0.275873\n",
      "Train Epoch: 8\tLoss:0.258256\n",
      "Train Epoch: 9\tLoss:0.240978\n",
      "Train Epoch: 10\tLoss:0.230121\n"
     ]
    }
   ],
   "source": [
    "for epoch in range(1, EPOCHS+1):\n",
    "    model.train()\n",
    "    # 학습 데이터를 배치 사이즈만큼 반복\n",
    "    for batch_idx, (data, target) in enumerate(train_loader):\n",
    "        data, target = data.to(device), target.to(device)\n",
    "        optimizer.zero_grad()\n",
    "        output = model(data)\n",
    "        loss = f.cross_entropy(output, target)\n",
    "        loss.backward()\n",
    "        optimizer.step()\n",
    "    print(f'Train Epoch: {epoch}\\tLoss:{loss.item():.6f}')"
   ]
  },
  {
   "cell_type": "markdown",
   "id": "21d8d1a6",
   "metadata": {},
   "source": [
    "# 성능 평가"
   ]
  },
  {
   "cell_type": "code",
   "execution_count": 19,
   "id": "9f559172",
   "metadata": {
    "ExecuteTime": {
     "end_time": "2024-03-08T04:38:23.024348Z",
     "start_time": "2024-03-08T04:38:23.011235Z"
    }
   },
   "outputs": [],
   "source": [
    "EPOCHS = 10\n",
    "model = Ann().to(device)\n",
    "optimizer = optim.SGD(model.parameters(), lr=0.01)"
   ]
  },
  {
   "cell_type": "code",
   "execution_count": 20,
   "id": "2a045ac5",
   "metadata": {
    "ExecuteTime": {
     "end_time": "2024-03-08T04:41:43.482924Z",
     "start_time": "2024-03-08T04:38:23.027359Z"
    }
   },
   "outputs": [
    {
     "name": "stdout",
     "output_type": "stream",
     "text": [
      "Train Epoch: 1\tLoss:0.656011\n",
      "Test set: Average Loss: 0.5371, Accuracy: 80%\n",
      "\n",
      "Train Epoch: 2\tLoss:0.539279\n",
      "Test set: Average Loss: 0.4761, Accuracy: 83%\n",
      "\n",
      "Train Epoch: 3\tLoss:0.463598\n",
      "Test set: Average Loss: 0.4455, Accuracy: 84%\n",
      "\n",
      "Train Epoch: 4\tLoss:0.412238\n",
      "Test set: Average Loss: 0.4248, Accuracy: 85%\n",
      "\n",
      "Train Epoch: 5\tLoss:0.366006\n",
      "Test set: Average Loss: 0.4095, Accuracy: 85%\n",
      "\n",
      "Train Epoch: 6\tLoss:0.321762\n",
      "Test set: Average Loss: 0.3983, Accuracy: 86%\n",
      "\n",
      "Train Epoch: 7\tLoss:0.288978\n",
      "Test set: Average Loss: 0.3892, Accuracy: 86%\n",
      "\n",
      "Train Epoch: 8\tLoss:0.268829\n",
      "Test set: Average Loss: 0.3803, Accuracy: 87%\n",
      "\n",
      "Train Epoch: 9\tLoss:0.254075\n",
      "Test set: Average Loss: 0.3732, Accuracy: 87%\n",
      "\n",
      "Train Epoch: 10\tLoss:0.240055\n",
      "Test set: Average Loss: 0.3666, Accuracy: 87%\n",
      "\n"
     ]
    }
   ],
   "source": [
    "train_history = []\n",
    "test_history = []\n",
    "\n",
    "for epoch in range(1, EPOCHS+1):\n",
    "    model.train()\n",
    "    # 학습 데이터를 배치 사이즈만큼 반복\n",
    "    for batch_idx, (data, target) in enumerate(train_loader):\n",
    "        data, target = data.to(device), target.to(device)\n",
    "        optimizer.zero_grad()\n",
    "        output = model(data)\n",
    "        loss = f.cross_entropy(output, target)\n",
    "        loss.backward()\n",
    "        optimizer.step()\n",
    "    print(f'Train Epoch: {epoch}\\tLoss:{loss.item():.6f}')\n",
    "    train_history.append(loss.item())\n",
    "    \n",
    "    model.eval() # 검증 모드\n",
    "    \n",
    "    test_loss = 0 # 테스트 데이터 오차\n",
    "    correct = 0 # 정답 수\n",
    "    \n",
    "    with torch.no_grad(): # 평가 때는 기울기 계산 필요 없음\n",
    "        for data, target in test_loader:\n",
    "            data, target = data.to(device), target.to(device)\n",
    "            output = model(data)\n",
    "            test_loss += f.cross_entropy(output, target, reduction='sum').item()\n",
    "            pred = output.argmax(dim=1, keepdim=True) # dim=1: 차원, keepdim=True: 차원 유지\n",
    "            correct += pred.eq(target.view_as(pred)).sum().item()\n",
    "\n",
    "    test_loss /= len(test_loader.dataset)\n",
    "    test_history.append(test_loss)\n",
    "\n",
    "    print(f'Test set: Average Loss: {test_loss:.4f}, Accuracy: {correct/len(test_loader.dataset)*100:.0f}%\\n')"
   ]
  },
  {
   "cell_type": "code",
   "execution_count": 21,
   "id": "84b53955",
   "metadata": {
    "ExecuteTime": {
     "end_time": "2024-03-08T04:41:44.117952Z",
     "start_time": "2024-03-08T04:41:43.484944Z"
    }
   },
   "outputs": [
    {
     "data": {
      "image/png": "[encoded data removed]",
      "text/plain": [
       "<Figure size 640x480 with 1 Axes>"
      ]
     },
     "metadata": {},
     "output_type": "display_data"
    }
   ],
   "source": [
    "import matplotlib.pyplot as plt\n",
    "\n",
    "plt.plot(train_history, color='tab:green')\n",
    "plt.plot(test_history, color='tab:red')\n",
    "plt.show()"
   ]
  },
  {
   "cell_type": "markdown",
   "id": "c1842587",
   "metadata": {},
   "source": [
    "# 성능 개선\n",
    "과적합 해결 방법\n",
    "- 데이터 정규화\n",
    "    - Normalize 옵션 사용\n",
    "    - 평균과 표준편차 값을 지정해서 정규화\n",
    "- Dropout\n",
    "    - 신경망의 일부를 사용하지 않음\n",
    "    - 개별 뉴런의 연산 결과에 가중치가 고정되는 현상 방지\n",
    "- 데이터 더 모으기\n",
    "    - 데이터를 일부 변형하여 개수 증가"
   ]
  },
  {
   "cell_type": "code",
   "execution_count": 27,
   "id": "746be81b",
   "metadata": {
    "ExecuteTime": {
     "end_time": "2024-03-08T04:47:42.650447Z",
     "start_time": "2024-03-08T04:47:42.566992Z"
    }
   },
   "outputs": [],
   "source": [
    "from torch.utils import data\n",
    "\n",
    "train_loader = data.DataLoader(\n",
    "    datasets.FashionMNIST('dataset/', train=True, download=True, # 다운로드 경로\n",
    "                         transform=transforms.Compose([ # 이미지를 텐서로 바꿔주는 코드\n",
    "                             transforms.RandomHorizontalFlip(), # 랜덤으로 좌우 변경하여 데이터 수 2배 증가\n",
    "                             transforms.ToTensor(),\n",
    "                             transforms.Normalize(mean=(0.5,), std=(0.5,))\n",
    "                         ])\n",
    "                         ),\n",
    "    batch_size=32\n",
    ")\n",
    "\n",
    "# 테스트 데이터는 그대로 사용\n",
    "test_loader = data.DataLoader(\n",
    "    datasets.FashionMNIST('dataset/', train=False, download=True, # 다운로드 경로\n",
    "                         transform=transforms.Compose([ # 이미지를 텐서로 바꿔주는 코드\n",
    "                             transforms.ToTensor(),\n",
    "                             transforms.Normalize(mean=(0.5,), std=(0.5,))\n",
    "                         ])\n",
    "                         ),\n",
    "    batch_size=32\n",
    ")"
   ]
  },
  {
   "cell_type": "code",
   "execution_count": 28,
   "id": "12222c9d",
   "metadata": {
    "ExecuteTime": {
     "end_time": "2024-03-08T04:47:43.750316Z",
     "start_time": "2024-03-08T04:47:43.742318Z"
    }
   },
   "outputs": [],
   "source": [
    "# 모델 정의는 클래스 형태로 정의\n",
    "class Ann(nn.Module):\n",
    "    def __init__(self, dropout=0.2):\n",
    "        super(Ann, self).__init__()\n",
    "        self.fc1 = nn.Linear(784, 256) # input layer, 784 = 28*28\n",
    "        self.fc2 = nn.Linear(256, 128) # hidden layer\n",
    "        self.fc3 = nn.Linear(128, 10) # output layer\n",
    "        self.dropout = dropout\n",
    "    \n",
    "    def forward(self, x): # 정방향 연산 (입력->출력)\n",
    "        x = x.view(-1, 784) # 1차원으로 펼치기\n",
    "        x = f.relu(self.fc1(x)) # relu 활성화 함수\n",
    "        x = f.relu(self.fc2(x))\n",
    "        x = f.dropout(x, training=self.training, p=self.dropout) # dropout 추가\n",
    "        x = self.fc3(x)\n",
    "        return x"
   ]
  },
  {
   "cell_type": "code",
   "execution_count": 29,
   "id": "6ff70492",
   "metadata": {
    "ExecuteTime": {
     "end_time": "2024-03-08T04:47:44.743834Z",
     "start_time": "2024-03-08T04:47:44.726710Z"
    }
   },
   "outputs": [],
   "source": [
    "EPOCHS = 30\n",
    "model = Ann(dropout=0.2).to(device)\n",
    "optimizer = optim.SGD(model.parameters(), lr=0.01)"
   ]
  },
  {
   "cell_type": "code",
   "execution_count": 30,
   "id": "5c079229",
   "metadata": {
    "ExecuteTime": {
     "end_time": "2024-03-08T04:58:21.979097Z",
     "start_time": "2024-03-08T04:47:49.081105Z"
    }
   },
   "outputs": [
    {
     "name": "stdout",
     "output_type": "stream",
     "text": [
      "Train Epoch: 1\tLoss:0.768441\n",
      "Test set: Average Loss: 0.5895, Accuracy: 79%\n",
      "\n",
      "Train Epoch: 2\tLoss:0.529995\n",
      "Test set: Average Loss: 0.5110, Accuracy: 82%\n",
      "\n",
      "Train Epoch: 3\tLoss:0.473318\n",
      "Test set: Average Loss: 0.4740, Accuracy: 83%\n",
      "\n",
      "Train Epoch: 4\tLoss:0.455224\n",
      "Test set: Average Loss: 0.4499, Accuracy: 84%\n",
      "\n",
      "Train Epoch: 5\tLoss:0.428077\n",
      "Test set: Average Loss: 0.4300, Accuracy: 84%\n",
      "\n",
      "Train Epoch: 6\tLoss:0.365961\n",
      "Test set: Average Loss: 0.4202, Accuracy: 85%\n",
      "\n",
      "Train Epoch: 7\tLoss:0.377197\n",
      "Test set: Average Loss: 0.4029, Accuracy: 85%\n",
      "\n",
      "Train Epoch: 8\tLoss:0.310970\n",
      "Test set: Average Loss: 0.3967, Accuracy: 86%\n",
      "\n",
      "Train Epoch: 9\tLoss:0.287455\n",
      "Test set: Average Loss: 0.3853, Accuracy: 86%\n",
      "\n",
      "Train Epoch: 10\tLoss:0.280414\n",
      "Test set: Average Loss: 0.3798, Accuracy: 86%\n",
      "\n",
      "Train Epoch: 11\tLoss:0.240062\n",
      "Test set: Average Loss: 0.3768, Accuracy: 86%\n",
      "\n",
      "Train Epoch: 12\tLoss:0.247113\n",
      "Test set: Average Loss: 0.3679, Accuracy: 87%\n",
      "\n",
      "Train Epoch: 13\tLoss:0.236698\n",
      "Test set: Average Loss: 0.3651, Accuracy: 87%\n",
      "\n",
      "Train Epoch: 14\tLoss:0.225298\n",
      "Test set: Average Loss: 0.3639, Accuracy: 87%\n",
      "\n",
      "Train Epoch: 15\tLoss:0.232243\n",
      "Test set: Average Loss: 0.3572, Accuracy: 87%\n",
      "\n",
      "Train Epoch: 16\tLoss:0.223016\n",
      "Test set: Average Loss: 0.3544, Accuracy: 87%\n",
      "\n",
      "Train Epoch: 17\tLoss:0.180521\n",
      "Test set: Average Loss: 0.3500, Accuracy: 87%\n",
      "\n",
      "Train Epoch: 18\tLoss:0.220646\n",
      "Test set: Average Loss: 0.3471, Accuracy: 88%\n",
      "\n",
      "Train Epoch: 19\tLoss:0.203695\n",
      "Test set: Average Loss: 0.3519, Accuracy: 87%\n",
      "\n",
      "Train Epoch: 20\tLoss:0.207742\n",
      "Test set: Average Loss: 0.3398, Accuracy: 88%\n",
      "\n",
      "Train Epoch: 21\tLoss:0.229560\n",
      "Test set: Average Loss: 0.3383, Accuracy: 88%\n",
      "\n",
      "Train Epoch: 22\tLoss:0.166919\n",
      "Test set: Average Loss: 0.3364, Accuracy: 88%\n",
      "\n",
      "Train Epoch: 23\tLoss:0.184243\n",
      "Test set: Average Loss: 0.3416, Accuracy: 88%\n",
      "\n",
      "Train Epoch: 24\tLoss:0.166246\n",
      "Test set: Average Loss: 0.3343, Accuracy: 88%\n",
      "\n",
      "Train Epoch: 25\tLoss:0.191924\n",
      "Test set: Average Loss: 0.3310, Accuracy: 88%\n",
      "\n",
      "Train Epoch: 26\tLoss:0.219304\n",
      "Test set: Average Loss: 0.3360, Accuracy: 88%\n",
      "\n",
      "Train Epoch: 27\tLoss:0.162515\n",
      "Test set: Average Loss: 0.3277, Accuracy: 88%\n",
      "\n",
      "Train Epoch: 28\tLoss:0.167220\n",
      "Test set: Average Loss: 0.3356, Accuracy: 88%\n",
      "\n",
      "Train Epoch: 29\tLoss:0.192574\n",
      "Test set: Average Loss: 0.3249, Accuracy: 88%\n",
      "\n",
      "Train Epoch: 30\tLoss:0.245330\n",
      "Test set: Average Loss: 0.3238, Accuracy: 89%\n",
      "\n"
     ]
    }
   ],
   "source": [
    "train_history = []\n",
    "test_history = []\n",
    "\n",
    "for epoch in range(1, EPOCHS+1):\n",
    "    model.train()\n",
    "    # 학습 데이터를 배치 사이즈만큼 반복\n",
    "    for batch_idx, (data, target) in enumerate(train_loader):\n",
    "        data, target = data.to(device), target.to(device)\n",
    "        optimizer.zero_grad()\n",
    "        output = model(data)\n",
    "        loss = f.cross_entropy(output, target)\n",
    "        loss.backward()\n",
    "        optimizer.step()\n",
    "    print(f'Train Epoch: {epoch}\\tLoss:{loss.item():.6f}')\n",
    "    train_history.append(loss.item())\n",
    "    \n",
    "    model.eval() # 검증 모드\n",
    "    \n",
    "    test_loss = 0 # 테스트 데이터 오차\n",
    "    correct = 0 # 정답 수\n",
    "    \n",
    "    with torch.no_grad(): # 평가 때는 기울기 계산 필요 없음\n",
    "        for data, target in test_loader:\n",
    "            data, target = data.to(device), target.to(device)\n",
    "            output = model(data)\n",
    "            test_loss += f.cross_entropy(output, target, reduction='sum').item()\n",
    "            pred = output.argmax(dim=1, keepdim=True) # dim=1: 차원, keepdim=True: 차원 유지\n",
    "            correct += pred.eq(target.view_as(pred)).sum().item()\n",
    "\n",
    "    test_loss /= len(test_loader.dataset)\n",
    "    test_history.append(test_loss)\n",
    "\n",
    "    print(f'Test set: Average Loss: {test_loss:.4f}, Accuracy: {correct/len(test_loader.dataset)*100:.0f}%\\n')"
   ]
  },
  {
   "cell_type": "code",
   "execution_count": 31,
   "id": "6040f63b",
   "metadata": {
    "ExecuteTime": {
     "end_time": "2024-03-08T04:59:42.170184Z",
     "start_time": "2024-03-08T04:59:42.054788Z"
    }
   },
   "outputs": [
    {
     "data": {
      "image/png": "[encoded data removed]",
      "text/plain": [
       "<Figure size 640x480 with 1 Axes>"
      ]
     },
     "metadata": {},
     "output_type": "display_data"
    }
   ],
   "source": [
    "import matplotlib.pyplot as plt\n",
    "\n",
    "plt.plot(train_history, color='tab:green')\n",
    "plt.plot(test_history, color='tab:red')\n",
    "plt.show()"
   ]
  },
  {
   "cell_type": "code",
   "execution_count": null,
   "id": "8215d621",
   "metadata": {},
   "outputs": [],
   "source": []
  }
 ],
 "metadata": {
  "kernelspec": {
   "display_name": "py310 torch112",
   "language": "python",
   "name": "torch112"
  },
  "language_info": {
   "codemirror_mode": {
    "name": "ipython",
    "version": 3
   },
   "file_extension": ".py",
   "mimetype": "text/x-python",
   "name": "python",
   "nbconvert_exporter": "python",
   "pygments_lexer": "ipython3",
   "version": "3.10.9"
  },
  "toc": {
   "base_numbering": 1,
   "nav_menu": {},
   "number_sections": false,
   "sideBar": true,
   "skip_h1_title": false,
   "title_cell": "Table of Contents",
   "title_sidebar": "Contents",
   "toc_cell": false,
   "toc_position": {},
   "toc_section_display": true,
   "toc_window_display": false
  },
  "varInspector": {
   "cols": {
    "lenName": 16,
    "lenType": 16,
    "lenVar": 40
   },
   "kernels_config": {
    "python": {
     "delete_cmd_postfix": "",
     "delete_cmd_prefix": "del ",
     "library": "var_list.py",
     "varRefreshCmd": "print(var_dic_list())"
    },
    "r": {
     "delete_cmd_postfix": ") ",
     "delete_cmd_prefix": "rm(",
     "library": "var_list.r",
     "varRefreshCmd": "cat(var_dic_list()) "
    }
   },
   "types_to_exclude": [
    "module",
    "function",
    "builtin_function_or_method",
    "instance",
    "_Feature"
   ],
   "window_display": false
  }
 },
 "nbformat": 4,
 "nbformat_minor": 5
}
