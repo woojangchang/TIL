{
 "cells": [
  {
   "cell_type": "markdown",
   "id": "7f1f7d5a",
   "metadata": {},
   "source": [
    "# 데이터 표현 방법"
   ]
  },
  {
   "cell_type": "code",
   "execution_count": 1,
   "id": "cb7e3d8f",
   "metadata": {
    "ExecuteTime": {
     "end_time": "2024-03-05T01:55:46.699925Z",
     "start_time": "2024-03-05T01:55:42.505409Z"
    }
   },
   "outputs": [],
   "source": [
    "import torch"
   ]
  },
  {
   "cell_type": "code",
   "execution_count": 2,
   "id": "bcbf6ba8",
   "metadata": {
    "ExecuteTime": {
     "end_time": "2024-03-05T01:55:58.694957Z",
     "start_time": "2024-03-05T01:55:58.677852Z"
    }
   },
   "outputs": [],
   "source": [
    "import numpy as np"
   ]
  },
  {
   "cell_type": "code",
   "execution_count": 3,
   "id": "5ec2b24c",
   "metadata": {
    "ExecuteTime": {
     "end_time": "2024-03-05T01:56:15.126084Z",
     "start_time": "2024-03-05T01:56:15.102081Z"
    }
   },
   "outputs": [
    {
     "data": {
      "text/plain": [
       "tensor([0, 1, 2])"
      ]
     },
     "execution_count": 3,
     "metadata": {},
     "output_type": "execute_result"
    }
   ],
   "source": [
    "a = torch.arange(3)\n",
    "a"
   ]
  },
  {
   "cell_type": "code",
   "execution_count": 4,
   "id": "25952b0b",
   "metadata": {
    "ExecuteTime": {
     "end_time": "2024-03-05T01:56:35.587124Z",
     "start_time": "2024-03-05T01:56:35.566180Z"
    }
   },
   "outputs": [
    {
     "data": {
      "text/plain": [
       "torch.Tensor"
      ]
     },
     "execution_count": 4,
     "metadata": {},
     "output_type": "execute_result"
    }
   ],
   "source": [
    "type(a)"
   ]
  },
  {
   "cell_type": "code",
   "execution_count": 5,
   "id": "8530e0b4",
   "metadata": {
    "ExecuteTime": {
     "end_time": "2024-03-05T01:56:46.073097Z",
     "start_time": "2024-03-05T01:56:46.053563Z"
    }
   },
   "outputs": [
    {
     "data": {
      "text/plain": [
       "torch.Size([3])"
      ]
     },
     "execution_count": 5,
     "metadata": {},
     "output_type": "execute_result"
    }
   ],
   "source": [
    "a.shape"
   ]
  },
  {
   "cell_type": "code",
   "execution_count": 6,
   "id": "cdc84294",
   "metadata": {
    "ExecuteTime": {
     "end_time": "2024-03-05T01:56:55.515269Z",
     "start_time": "2024-03-05T01:56:55.504173Z"
    }
   },
   "outputs": [
    {
     "data": {
      "text/plain": [
       "1"
      ]
     },
     "execution_count": 6,
     "metadata": {},
     "output_type": "execute_result"
    }
   ],
   "source": [
    "a.ndimension() # 차원 확인"
   ]
  },
  {
   "cell_type": "markdown",
   "id": "784bcb19",
   "metadata": {},
   "source": [
    "# Array와 Tensor 처리"
   ]
  },
  {
   "cell_type": "code",
   "execution_count": 7,
   "id": "46a87887",
   "metadata": {
    "ExecuteTime": {
     "end_time": "2024-03-05T01:57:16.367004Z",
     "start_time": "2024-03-05T01:57:16.349925Z"
    }
   },
   "outputs": [
    {
     "data": {
      "text/plain": [
       "tensor([1, 2, 3])"
      ]
     },
     "execution_count": 7,
     "metadata": {},
     "output_type": "execute_result"
    }
   ],
   "source": [
    "b = torch.tensor([1,2,3])\n",
    "b"
   ]
  },
  {
   "cell_type": "code",
   "execution_count": 8,
   "id": "bdaeb399",
   "metadata": {
    "ExecuteTime": {
     "end_time": "2024-03-05T01:57:41.896897Z",
     "start_time": "2024-03-05T01:57:41.888898Z"
    }
   },
   "outputs": [],
   "source": [
    "c = torch.tensor(((1, 2), (3, 4)))"
   ]
  },
  {
   "cell_type": "code",
   "execution_count": 9,
   "id": "f75e0ee3",
   "metadata": {
    "ExecuteTime": {
     "end_time": "2024-03-05T01:57:43.624871Z",
     "start_time": "2024-03-05T01:57:43.612863Z"
    }
   },
   "outputs": [
    {
     "data": {
      "text/plain": [
       "tensor([[1, 2],\n",
       "        [3, 4]])"
      ]
     },
     "execution_count": 9,
     "metadata": {},
     "output_type": "execute_result"
    }
   ],
   "source": [
    "c"
   ]
  },
  {
   "cell_type": "code",
   "execution_count": 10,
   "id": "f095d6fd",
   "metadata": {
    "ExecuteTime": {
     "end_time": "2024-03-05T01:58:09.504947Z",
     "start_time": "2024-03-05T01:58:09.485894Z"
    }
   },
   "outputs": [
    {
     "data": {
      "text/plain": [
       "tensor([[1, 2, 3],\n",
       "        [4, 5, 6]], dtype=torch.int32)"
      ]
     },
     "execution_count": 10,
     "metadata": {},
     "output_type": "execute_result"
    }
   ],
   "source": [
    "arr = np.array([\n",
    "    [1, 2, 3],\n",
    "    [4, 5, 6]\n",
    "])\n",
    "d = torch.tensor(arr)\n",
    "d"
   ]
  },
  {
   "cell_type": "code",
   "execution_count": 11,
   "id": "7b3d0d50",
   "metadata": {
    "ExecuteTime": {
     "end_time": "2024-03-05T01:58:25.513491Z",
     "start_time": "2024-03-05T01:58:25.493384Z"
    }
   },
   "outputs": [
    {
     "data": {
      "text/plain": [
       "array([[1, 2, 3],\n",
       "       [4, 5, 6]])"
      ]
     },
     "execution_count": 11,
     "metadata": {},
     "output_type": "execute_result"
    }
   ],
   "source": [
    "d.numpy()"
   ]
  },
  {
   "cell_type": "code",
   "execution_count": 12,
   "id": "987acd96",
   "metadata": {
    "ExecuteTime": {
     "end_time": "2024-03-05T02:00:01.477547Z",
     "start_time": "2024-03-05T02:00:01.461538Z"
    }
   },
   "outputs": [
    {
     "data": {
      "text/plain": [
       "array([[1, 2, 3],\n",
       "       [4, 5, 6]])"
      ]
     },
     "execution_count": 12,
     "metadata": {},
     "output_type": "execute_result"
    }
   ],
   "source": [
    "np.array(d)"
   ]
  },
  {
   "cell_type": "markdown",
   "id": "191763b5",
   "metadata": {},
   "source": [
    "# 기본 연산"
   ]
  },
  {
   "cell_type": "code",
   "execution_count": 13,
   "id": "0d12dbc7",
   "metadata": {
    "ExecuteTime": {
     "end_time": "2024-03-05T02:00:22.040891Z",
     "start_time": "2024-03-05T02:00:22.037873Z"
    }
   },
   "outputs": [],
   "source": [
    "a = torch.tensor(20)\n",
    "b = torch.tensor(10)"
   ]
  },
  {
   "cell_type": "code",
   "execution_count": 14,
   "id": "2a70feff",
   "metadata": {
    "ExecuteTime": {
     "end_time": "2024-03-05T02:00:42.437452Z",
     "start_time": "2024-03-05T02:00:42.390768Z"
    }
   },
   "outputs": [
    {
     "data": {
      "text/plain": [
       "(tensor(30), tensor(10), tensor(200), tensor(2.))"
      ]
     },
     "execution_count": 14,
     "metadata": {},
     "output_type": "execute_result"
    }
   ],
   "source": [
    "c = a + b\n",
    "d = a - b\n",
    "e = a * b\n",
    "f = a / b\n",
    "\n",
    "c, d, e, f"
   ]
  },
  {
   "cell_type": "code",
   "execution_count": 15,
   "id": "a29e68ee",
   "metadata": {
    "ExecuteTime": {
     "end_time": "2024-03-05T02:01:07.315613Z",
     "start_time": "2024-03-05T02:01:07.293622Z"
    }
   },
   "outputs": [
    {
     "data": {
      "text/plain": [
       "tensor([5, 7, 9])"
      ]
     },
     "execution_count": 15,
     "metadata": {},
     "output_type": "execute_result"
    }
   ],
   "source": [
    "a = torch.tensor([1, 2, 3])\n",
    "b = torch.tensor([4, 5, 6])\n",
    "a + b"
   ]
  },
  {
   "cell_type": "code",
   "execution_count": 16,
   "id": "518560bf",
   "metadata": {
    "ExecuteTime": {
     "end_time": "2024-03-05T02:01:12.343283Z",
     "start_time": "2024-03-05T02:01:12.324279Z"
    }
   },
   "outputs": [
    {
     "data": {
      "text/plain": [
       "tensor([3, 6, 9])"
      ]
     },
     "execution_count": 16,
     "metadata": {},
     "output_type": "execute_result"
    }
   ],
   "source": [
    "a * 3"
   ]
  },
  {
   "cell_type": "code",
   "execution_count": 17,
   "id": "a987c872",
   "metadata": {
    "ExecuteTime": {
     "end_time": "2024-03-05T02:01:30.895360Z",
     "start_time": "2024-03-05T02:01:30.879365Z"
    }
   },
   "outputs": [
    {
     "data": {
      "text/plain": [
       "tensor([2, 4, 6])"
      ]
     },
     "execution_count": 17,
     "metadata": {},
     "output_type": "execute_result"
    }
   ],
   "source": [
    "a + a"
   ]
  },
  {
   "cell_type": "code",
   "execution_count": 23,
   "id": "f0ebbe54",
   "metadata": {
    "ExecuteTime": {
     "end_time": "2024-03-05T02:05:11.921354Z",
     "start_time": "2024-03-05T02:05:11.902851Z"
    }
   },
   "outputs": [],
   "source": [
    "# AutoGrad\n",
    "x = torch.tensor(1.0, requires_grad=True) # AutoGrad 적용"
   ]
  },
  {
   "cell_type": "code",
   "execution_count": 24,
   "id": "7737ae07",
   "metadata": {
    "ExecuteTime": {
     "end_time": "2024-03-05T02:05:12.149441Z",
     "start_time": "2024-03-05T02:05:12.136711Z"
    }
   },
   "outputs": [],
   "source": [
    "a = x*3\n",
    "y = a **2 # (3x)**2 = 9x**2 -> 미분하면 18x\n",
    "y.backward() # 어떤 값에 대한 출력 tensor의 변화도를 전달 받고, 동일한 값에 대한 입력 tensor의 변화도를 계산"
   ]
  },
  {
   "cell_type": "code",
   "execution_count": 25,
   "id": "0a9484c3",
   "metadata": {
    "ExecuteTime": {
     "end_time": "2024-03-05T02:05:12.956786Z",
     "start_time": "2024-03-05T02:05:12.943843Z"
    }
   },
   "outputs": [
    {
     "data": {
      "text/plain": [
       "tensor(18.)"
      ]
     },
     "execution_count": 25,
     "metadata": {},
     "output_type": "execute_result"
    }
   ],
   "source": [
    "x.grad"
   ]
  },
  {
   "cell_type": "code",
   "execution_count": 27,
   "id": "23b9f60f",
   "metadata": {
    "ExecuteTime": {
     "end_time": "2024-03-05T02:05:22.568031Z",
     "start_time": "2024-03-05T02:05:22.559023Z"
    }
   },
   "outputs": [
    {
     "data": {
      "text/plain": [
       "tensor(3.)"
      ]
     },
     "execution_count": 27,
     "metadata": {},
     "output_type": "execute_result"
    }
   ],
   "source": [
    "x = torch.tensor(1.0, requires_grad=True)\n",
    "a = x*3\n",
    "a.backward()\n",
    "\n",
    "x.grad"
   ]
  },
  {
   "cell_type": "code",
   "execution_count": null,
   "id": "c2509129",
   "metadata": {},
   "outputs": [],
   "source": []
  }
 ],
 "metadata": {
  "kernelspec": {
   "display_name": "py310 torch112",
   "language": "python",
   "name": "torch112"
  },
  "language_info": {
   "codemirror_mode": {
    "name": "ipython",
    "version": 3
   },
   "file_extension": ".py",
   "mimetype": "text/x-python",
   "name": "python",
   "nbconvert_exporter": "python",
   "pygments_lexer": "ipython3",
   "version": "3.10.9"
  },
  "toc": {
   "base_numbering": 1,
   "nav_menu": {},
   "number_sections": false,
   "sideBar": true,
   "skip_h1_title": false,
   "title_cell": "Table of Contents",
   "title_sidebar": "Contents",
   "toc_cell": false,
   "toc_position": {},
   "toc_section_display": true,
   "toc_window_display": false
  },
  "varInspector": {
   "cols": {
    "lenName": 16,
    "lenType": 16,
    "lenVar": 40
   },
   "kernels_config": {
    "python": {
     "delete_cmd_postfix": "",
     "delete_cmd_prefix": "del ",
     "library": "var_list.py",
     "varRefreshCmd": "print(var_dic_list())"
    },
    "r": {
     "delete_cmd_postfix": ") ",
     "delete_cmd_prefix": "rm(",
     "library": "var_list.r",
     "varRefreshCmd": "cat(var_dic_list()) "
    }
   },
   "types_to_exclude": [
    "module",
    "function",
    "builtin_function_or_method",
    "instance",
    "_Feature"
   ],
   "window_display": false
  }
 },
 "nbformat": 4,
 "nbformat_minor": 5
}
