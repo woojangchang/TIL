{
 "cells": [
  {
   "cell_type": "code",
   "execution_count": 1,
   "id": "38a26786",
   "metadata": {
    "ExecuteTime": {
     "end_time": "2024-03-11T01:44:22.756041Z",
     "start_time": "2024-03-11T01:44:20.676284Z"
    }
   },
   "outputs": [],
   "source": [
    "from torchvision import datasets, transforms\n",
    "from torch.utils import data\n",
    "\n",
    "train_loader = data.DataLoader(\n",
    "    datasets.FashionMNIST('dataset/', train=True, download=True, # 다운로드 경로\n",
    "                         transform=transforms.Compose([ # 이미지를 텐서로 바꿔주는 코드\n",
    "                             transforms.ToTensor(),\n",
    "                             transforms.Normalize(mean=(0.5,), std=(0.5,))\n",
    "                         ])\n",
    "                         ),\n",
    "    batch_size=128\n",
    ")\n",
    "\n",
    "test_loader = data.DataLoader(\n",
    "    datasets.FashionMNIST('dataset/', train=False, download=True, # 다운로드 경로\n",
    "                         transform=transforms.Compose([ # 이미지를 텐서로 바꿔주는 코드\n",
    "                             transforms.ToTensor(),\n",
    "                             transforms.Normalize(mean=(0.5,), std=(0.5,))\n",
    "                         ])\n",
    "                         ),\n",
    "    batch_size=128\n",
    ")"
   ]
  },
  {
   "cell_type": "markdown",
   "id": "3dd97784",
   "metadata": {},
   "source": [
    "# CNN 기본"
   ]
  },
  {
   "cell_type": "code",
   "execution_count": 2,
   "id": "8f890624",
   "metadata": {
    "ExecuteTime": {
     "end_time": "2024-03-11T01:44:22.771513Z",
     "start_time": "2024-03-11T01:44:22.759041Z"
    }
   },
   "outputs": [
    {
     "data": {
      "text/plain": [
       "Conv2d(1, 20, kernel_size=(5, 5), stride=(1, 1))"
      ]
     },
     "execution_count": 2,
     "metadata": {},
     "output_type": "execute_result"
    }
   ],
   "source": [
    "import torch\n",
    "import torch.nn as nn\n",
    "\n",
    "# 합성곱 레이어 객체 생성\n",
    "layer = nn.Conv2d(1, 20, 5, 1).to(torch.device('cpu')) # 입력 채널 수, 출력 채널 수, 커널 사이즈, stride\n",
    "layer"
   ]
  },
  {
   "cell_type": "code",
   "execution_count": 3,
   "id": "dc2ebd84",
   "metadata": {
    "ExecuteTime": {
     "end_time": "2024-03-11T01:44:22.786975Z",
     "start_time": "2024-03-11T01:44:22.773875Z"
    }
   },
   "outputs": [
    {
     "data": {
      "text/plain": [
       "torch.Size([20, 1, 5, 5])"
      ]
     },
     "execution_count": 3,
     "metadata": {},
     "output_type": "execute_result"
    }
   ],
   "source": [
    "weight = layer.weight\n",
    "weight.shape"
   ]
  },
  {
   "cell_type": "code",
   "execution_count": 4,
   "id": "6be68545",
   "metadata": {
    "ExecuteTime": {
     "end_time": "2024-03-11T01:44:22.802334Z",
     "start_time": "2024-03-11T01:44:22.790593Z"
    }
   },
   "outputs": [
    {
     "data": {
      "text/plain": [
       "(20, 1, 5, 5)"
      ]
     },
     "execution_count": 4,
     "metadata": {},
     "output_type": "execute_result"
    }
   ],
   "source": [
    "# 가중치 시각화\n",
    "weight = weight.detach().numpy()\n",
    "weight.shape"
   ]
  },
  {
   "cell_type": "code",
   "execution_count": 5,
   "id": "9469d8c6",
   "metadata": {
    "ExecuteTime": {
     "end_time": "2024-03-11T01:44:23.406157Z",
     "start_time": "2024-03-11T01:44:22.804419Z"
    }
   },
   "outputs": [
    {
     "data": {
      "image/png": "[encoded data removed]",
      "text/plain": [
       "<Figure size 640x480 with 1 Axes>"
      ]
     },
     "metadata": {},
     "output_type": "display_data"
    }
   ],
   "source": [
    "import matplotlib.pyplot as plt\n",
    "\n",
    "plt.imshow(weight[0, 0, :, :], 'gray')\n",
    "plt.show()"
   ]
  },
  {
   "cell_type": "code",
   "execution_count": 6,
   "id": "00334c24",
   "metadata": {
    "ExecuteTime": {
     "end_time": "2024-03-11T01:44:23.451347Z",
     "start_time": "2024-03-11T01:44:23.408155Z"
    }
   },
   "outputs": [
    {
     "data": {
      "text/plain": [
       "(128, 20, 24, 24)"
      ]
     },
     "execution_count": 6,
     "metadata": {},
     "output_type": "execute_result"
    }
   ],
   "source": [
    "# 입력 이미지와 출력 이미지 비교를 위해 데이터 불러온 후 layer 통과\n",
    "images, labels = next(iter(train_loader))\n",
    "\n",
    "output_data = layer(images)\n",
    "output_data = output_data.data\n",
    "\n",
    "output = output_data.cpu().numpy()\n",
    "output.shape"
   ]
  },
  {
   "cell_type": "code",
   "execution_count": 7,
   "id": "abe9e66b",
   "metadata": {
    "ExecuteTime": {
     "end_time": "2024-03-11T01:44:23.467068Z",
     "start_time": "2024-03-11T01:44:23.452856Z"
    }
   },
   "outputs": [
    {
     "data": {
      "text/plain": [
       "torch.Size([128, 1, 28, 28])"
      ]
     },
     "execution_count": 7,
     "metadata": {},
     "output_type": "execute_result"
    }
   ],
   "source": [
    "images.shape # 5x5 kernel을 통과하여 output이 줄어듬"
   ]
  },
  {
   "cell_type": "code",
   "execution_count": 8,
   "id": "3a163ceb",
   "metadata": {
    "ExecuteTime": {
     "end_time": "2024-03-11T01:44:23.873585Z",
     "start_time": "2024-03-11T01:44:23.469062Z"
    }
   },
   "outputs": [
    {
     "data": {
      "image/png": "[encoded data removed]",
      "text/plain": [
       "<Figure size 1000x2000 with 3 Axes>"
      ]
     },
     "metadata": {},
     "output_type": "display_data"
    }
   ],
   "source": [
    "plt.figure(figsize=(10, 20))\n",
    "\n",
    "# 원본 이미지\n",
    "plt.subplot(131)\n",
    "plt.title('Input')\n",
    "plt.imshow(images[0, 0, :, :], 'gray')\n",
    "\n",
    "# 필터 이미지\n",
    "plt.subplot(132)\n",
    "plt.title('Weight')\n",
    "plt.imshow(weight[0, 0, :, :], 'gray')\n",
    "\n",
    "# 필터 후 이미지\n",
    "plt.subplot(133)\n",
    "plt.title('Output')\n",
    "plt.imshow(output[0, 0, :, :], 'gray')\n",
    "\n",
    "plt.show()"
   ]
  },
  {
   "cell_type": "code",
   "execution_count": 9,
   "id": "75792934",
   "metadata": {
    "ExecuteTime": {
     "end_time": "2024-03-11T01:44:23.889255Z",
     "start_time": "2024-03-11T01:44:23.874577Z"
    }
   },
   "outputs": [
    {
     "data": {
      "text/plain": [
       "torch.Size([128, 1, 14, 14])"
      ]
     },
     "execution_count": 9,
     "metadata": {},
     "output_type": "execute_result"
    }
   ],
   "source": [
    "# pooling\n",
    "import torch.nn.functional as f\n",
    "\n",
    "pool = f.max_pool2d(images, 2, 2) # 커널 사이즈, stride\n",
    "pool.shape"
   ]
  },
  {
   "cell_type": "code",
   "execution_count": 10,
   "id": "3e04a5d8",
   "metadata": {
    "ExecuteTime": {
     "end_time": "2024-03-11T01:44:23.904266Z",
     "start_time": "2024-03-11T01:44:23.894258Z"
    }
   },
   "outputs": [
    {
     "data": {
      "text/plain": [
       "torch.Size([128, 1, 28, 28])"
      ]
     },
     "execution_count": 10,
     "metadata": {},
     "output_type": "execute_result"
    }
   ],
   "source": [
    "images.shape # 커널 사이즈 때문에 크기가 반으로 줄어듬"
   ]
  },
  {
   "cell_type": "code",
   "execution_count": 11,
   "id": "0c5af029",
   "metadata": {
    "ExecuteTime": {
     "end_time": "2024-03-11T01:44:24.207218Z",
     "start_time": "2024-03-11T01:44:23.906263Z"
    }
   },
   "outputs": [
    {
     "data": {
      "image/png": "[encoded data removed]",
      "text/plain": [
       "<Figure size 1000x1500 with 2 Axes>"
      ]
     },
     "metadata": {},
     "output_type": "display_data"
    }
   ],
   "source": [
    "plt.figure(figsize=(10, 15))\n",
    "\n",
    "# 원본 이미지\n",
    "plt.subplot(121)\n",
    "plt.title('Input')\n",
    "plt.imshow(images[0, 0, :, :], 'gray')\n",
    "\n",
    "# 풀링 이미지\n",
    "pool_arr = pool.numpy()\n",
    "\n",
    "plt.subplot(122)\n",
    "plt.title('Output')\n",
    "plt.imshow(pool_arr[0, 0, :, :], 'gray')\n",
    "\n",
    "plt.show()"
   ]
  },
  {
   "cell_type": "markdown",
   "id": "32f5a39b",
   "metadata": {},
   "source": [
    "# 학습"
   ]
  },
  {
   "cell_type": "code",
   "execution_count": 12,
   "id": "9f9302a4",
   "metadata": {
    "ExecuteTime": {
     "end_time": "2024-03-11T01:44:24.222217Z",
     "start_time": "2024-03-11T01:44:24.210218Z"
    }
   },
   "outputs": [],
   "source": [
    "import torch\n",
    "import torch.nn as nn\n",
    "import torch.optim as optim\n",
    "import torch.nn.functional as f"
   ]
  },
  {
   "cell_type": "code",
   "execution_count": 13,
   "id": "6219ce35",
   "metadata": {
    "ExecuteTime": {
     "end_time": "2024-03-11T01:44:24.237213Z",
     "start_time": "2024-03-11T01:44:24.225215Z"
    }
   },
   "outputs": [],
   "source": [
    "use_cuda = torch.cuda.is_available()\n",
    "device = torch.device('cuda' if use_cuda else 'cpu')"
   ]
  },
  {
   "cell_type": "code",
   "execution_count": 14,
   "id": "3d3a9478",
   "metadata": {
    "ExecuteTime": {
     "end_time": "2024-03-11T01:44:24.252312Z",
     "start_time": "2024-03-11T01:44:24.239214Z"
    }
   },
   "outputs": [],
   "source": [
    "class Cnn(nn.Module):\n",
    "    def __init__(self):\n",
    "        super(Cnn, self).__init__()\n",
    "        \n",
    "        self.conv1 = nn.Conv2d(1, 10, 5) # 입력 채널 수=1, 출력 채널 수=10, 커널 사이즈=5, stride=1(기본값)\n",
    "        self.conv2 = nn.Conv2d(10, 20, 5)\n",
    "        self.drop = nn.Dropout2d() # 출력값에 Dropout 적용\n",
    "        \n",
    "        # input이 320인 이유는 아래 forward의 주석 확인\n",
    "        self.fc1 = nn.Linear(320, 160) # 선형결합연산을 수행하는 객체\n",
    "        self.fc2 = nn.Linear(160, 80) # 히든 레이어\n",
    "        self.fc3 = nn.Linear(80, 10) # 출력 레이어\n",
    "    \n",
    "    def forward(self, x):\n",
    "        # 1x28x28 -> 10x24x24 -> 10x12x12\n",
    "        x = f.relu(f.max_pool2d(self.conv1(x), 2)) # 합성곱 레이어, 풀링, 활성화 함수 순\n",
    "        \n",
    "        # 10x12x12 -> 20x8x8 -> 20x4x4\n",
    "        x = f.relu(f.max_pool2d(self.drop(self.conv2(x)), 2)) # dropout 추가\n",
    "        \n",
    "        # 20x4x4 -> 1x320\n",
    "        x = x.view(-1, 320) # 평탄화 작업\n",
    "        x = f.relu(self.fc1(x))\n",
    "        x = f.relu(self.fc2(x))\n",
    "        x = f.dropout(x, training=self.training)\n",
    "        x = self.fc3(x)\n",
    "        return x"
   ]
  },
  {
   "cell_type": "code",
   "execution_count": 15,
   "id": "58853470",
   "metadata": {
    "ExecuteTime": {
     "end_time": "2024-03-11T01:44:24.853621Z",
     "start_time": "2024-03-11T01:44:24.254322Z"
    }
   },
   "outputs": [],
   "source": [
    "model = Cnn().to(device)\n",
    "optimizer = optim.SGD(model.parameters(), lr=0.01)"
   ]
  },
  {
   "cell_type": "code",
   "execution_count": 16,
   "id": "2ca69cc6",
   "metadata": {
    "ExecuteTime": {
     "end_time": "2024-03-11T01:51:00.296416Z",
     "start_time": "2024-03-11T01:44:24.854624Z"
    }
   },
   "outputs": [
    {
     "name": "stdout",
     "output_type": "stream",
     "text": [
      "Train Epoch: 1\tLoss:2.250925\n",
      "Test set: Average Loss: 2.2184, Accuracy: 24%\n",
      "\n",
      "Train Epoch: 2\tLoss:1.357818\n",
      "Test set: Average Loss: 1.0024, Accuracy: 61%\n",
      "\n",
      "Train Epoch: 3\tLoss:0.890828\n",
      "Test set: Average Loss: 0.8206, Accuracy: 71%\n",
      "\n",
      "Train Epoch: 4\tLoss:0.802057\n",
      "Test set: Average Loss: 0.7418, Accuracy: 72%\n",
      "\n",
      "Train Epoch: 5\tLoss:0.855474\n",
      "Test set: Average Loss: 0.6800, Accuracy: 74%\n",
      "\n",
      "Train Epoch: 6\tLoss:0.704948\n",
      "Test set: Average Loss: 0.6601, Accuracy: 74%\n",
      "\n",
      "Train Epoch: 7\tLoss:0.660326\n",
      "Test set: Average Loss: 0.6287, Accuracy: 76%\n",
      "\n",
      "Train Epoch: 8\tLoss:0.707360\n",
      "Test set: Average Loss: 0.6101, Accuracy: 77%\n",
      "\n",
      "Train Epoch: 9\tLoss:0.615126\n",
      "Test set: Average Loss: 0.5991, Accuracy: 77%\n",
      "\n",
      "Train Epoch: 10\tLoss:0.641442\n",
      "Test set: Average Loss: 0.5794, Accuracy: 78%\n",
      "\n",
      "Train Epoch: 11\tLoss:0.620030\n",
      "Test set: Average Loss: 0.5731, Accuracy: 78%\n",
      "\n",
      "Train Epoch: 12\tLoss:0.654934\n",
      "Test set: Average Loss: 0.5615, Accuracy: 78%\n",
      "\n",
      "Train Epoch: 13\tLoss:0.591602\n",
      "Test set: Average Loss: 0.5540, Accuracy: 79%\n",
      "\n",
      "Train Epoch: 14\tLoss:0.596411\n",
      "Test set: Average Loss: 0.5372, Accuracy: 79%\n",
      "\n",
      "Train Epoch: 15\tLoss:0.532216\n",
      "Test set: Average Loss: 0.5362, Accuracy: 79%\n",
      "\n",
      "Train Epoch: 16\tLoss:0.550749\n",
      "Test set: Average Loss: 0.5255, Accuracy: 79%\n",
      "\n",
      "Train Epoch: 17\tLoss:0.587634\n",
      "Test set: Average Loss: 0.5175, Accuracy: 80%\n",
      "\n",
      "Train Epoch: 18\tLoss:0.511860\n",
      "Test set: Average Loss: 0.5105, Accuracy: 80%\n",
      "\n",
      "Train Epoch: 19\tLoss:0.500025\n",
      "Test set: Average Loss: 0.5055, Accuracy: 80%\n",
      "\n",
      "Train Epoch: 20\tLoss:0.582170\n",
      "Test set: Average Loss: 0.4981, Accuracy: 81%\n",
      "\n",
      "Train Epoch: 21\tLoss:0.520601\n",
      "Test set: Average Loss: 0.4904, Accuracy: 82%\n",
      "\n",
      "Train Epoch: 22\tLoss:0.639740\n",
      "Test set: Average Loss: 0.4918, Accuracy: 81%\n",
      "\n",
      "Train Epoch: 23\tLoss:0.509570\n",
      "Test set: Average Loss: 0.4911, Accuracy: 82%\n",
      "\n",
      "Train Epoch: 24\tLoss:0.552379\n",
      "Test set: Average Loss: 0.4792, Accuracy: 82%\n",
      "\n",
      "Train Epoch: 25\tLoss:0.462546\n",
      "Test set: Average Loss: 0.4746, Accuracy: 82%\n",
      "\n",
      "Train Epoch: 26\tLoss:0.552150\n",
      "Test set: Average Loss: 0.4723, Accuracy: 83%\n",
      "\n",
      "Train Epoch: 27\tLoss:0.488153\n",
      "Test set: Average Loss: 0.4649, Accuracy: 83%\n",
      "\n",
      "Train Epoch: 28\tLoss:0.435257\n",
      "Test set: Average Loss: 0.4691, Accuracy: 83%\n",
      "\n",
      "Train Epoch: 29\tLoss:0.438584\n",
      "Test set: Average Loss: 0.4561, Accuracy: 83%\n",
      "\n",
      "Train Epoch: 30\tLoss:0.582507\n",
      "Test set: Average Loss: 0.4503, Accuracy: 84%\n",
      "\n"
     ]
    }
   ],
   "source": [
    "EPOCHS = 30\n",
    "train_history = []\n",
    "test_history = []\n",
    "\n",
    "for epoch in range(1, EPOCHS+1):\n",
    "    model.train()\n",
    "    \n",
    "    # 학습 데이터를 배치 사이즈만큼 반복\n",
    "    for batch_idx, (data, target) in enumerate(train_loader):\n",
    "        data, target = data.to(device), target.to(device)\n",
    "        optimizer.zero_grad()\n",
    "        output = model(data)\n",
    "        loss = f.cross_entropy(output, target)\n",
    "        loss.backward()\n",
    "        optimizer.step()\n",
    "    print(f'Train Epoch: {epoch}\\tLoss:{loss.item():.6f}')\n",
    "    train_history.append(loss.item())\n",
    "    \n",
    "    model.eval() # 검증 모드\n",
    "    \n",
    "    test_loss = 0 # 테스트 데이터 오차\n",
    "    correct = 0 # 정답 수\n",
    "    \n",
    "    with torch.no_grad(): # 평가 때는 기울기 계산 필요 없음\n",
    "        for data, target in test_loader:\n",
    "            data, target = data.to(device), target.to(device)\n",
    "            output = model(data)\n",
    "            test_loss += f.cross_entropy(output, target, reduction='sum').item()\n",
    "            pred = output.argmax(dim=1, keepdim=True) # dim=1: 차원, keepdim=True: 차원 유지\n",
    "            correct += pred.eq(target.view_as(pred)).sum().item()\n",
    "\n",
    "    test_loss /= len(test_loader.dataset)\n",
    "    test_history.append(test_loss)\n",
    "    \n",
    "    print(f'Test set: Average Loss: {test_loss:.4f}, Accuracy: {correct/len(test_loader.dataset)*100:.0f}%\\n')"
   ]
  },
  {
   "cell_type": "code",
   "execution_count": 17,
   "id": "e35b1fa0",
   "metadata": {
    "ExecuteTime": {
     "end_time": "2024-03-11T01:51:00.417220Z",
     "start_time": "2024-03-11T01:51:00.297550Z"
    }
   },
   "outputs": [
    {
     "data": {
      "image/png": "[encoded data removed]",
      "text/plain": [
       "<Figure size 640x480 with 1 Axes>"
      ]
     },
     "metadata": {},
     "output_type": "display_data"
    }
   ],
   "source": [
    "import matplotlib.pyplot as plt\n",
    "plt.plot(train_history, color='tab:green', label='train')\n",
    "plt.plot(test_history, color='tab:red', label='validation')\n",
    "plt.legend()\n",
    "plt.show()"
   ]
  },
  {
   "cell_type": "markdown",
   "id": "757daeaa",
   "metadata": {},
   "source": [
    "## 학습 결과 확인"
   ]
  },
  {
   "cell_type": "code",
   "execution_count": 18,
   "id": "b3118e10",
   "metadata": {
    "ExecuteTime": {
     "end_time": "2024-03-11T01:51:00.462372Z",
     "start_time": "2024-03-11T01:51:00.419213Z"
    }
   },
   "outputs": [
    {
     "name": "stdout",
     "output_type": "stream",
     "text": [
      "Real: 9\n",
      "Pred: 9\n"
     ]
    }
   ],
   "source": [
    "datas, labels = next(iter(test_loader))\n",
    "\n",
    "pred = model(datas.to(device))\n",
    "\n",
    "print('Real:', labels[0].item())\n",
    "print('Pred:', pred[0].argmax().cpu().item())"
   ]
  },
  {
   "cell_type": "code",
   "execution_count": 19,
   "id": "cf38faf5",
   "metadata": {
    "ExecuteTime": {
     "end_time": "2024-03-11T01:51:02.916292Z",
     "start_time": "2024-03-11T01:51:00.463365Z"
    }
   },
   "outputs": [],
   "source": [
    "predictions = []\n",
    "targets = []\n",
    "\n",
    "with torch.no_grad():\n",
    "    for data, target in test_loader:\n",
    "        data, target = data.to(device), target.to(device)\n",
    "        output = model(data)\n",
    "        pred = output.argmax(dim=1, keepdim=True) # dim=1: 차원, keepdim=True: 차원 유지\n",
    "\n",
    "        pred = pred.detach().cpu().numpy()\n",
    "        target = target.detach().cpu().numpy()\n",
    "        for p, t in zip(pred, target):\n",
    "            predictions.append(p)\n",
    "            targets.append(t)"
   ]
  },
  {
   "cell_type": "code",
   "execution_count": null,
   "id": "d3bc7900",
   "metadata": {},
   "outputs": [],
   "source": []
  },
  {
   "cell_type": "markdown",
   "id": "b8b9cb3a",
   "metadata": {},
   "source": [
    "### 혼동 행렬"
   ]
  },
  {
   "cell_type": "code",
   "execution_count": 20,
   "id": "8f53487d",
   "metadata": {
    "ExecuteTime": {
     "end_time": "2024-03-11T01:51:06.772538Z",
     "start_time": "2024-03-11T01:51:02.918193Z"
    }
   },
   "outputs": [
    {
     "data": {
      "image/png": "[encoded data removed]",
      "text/plain": [
       "<Figure size 640x480 with 2 Axes>"
      ]
     },
     "metadata": {},
     "output_type": "display_data"
    }
   ],
   "source": [
    "import seaborn as sns\n",
    "from sklearn.metrics import confusion_matrix\n",
    "\n",
    "sns.heatmap(confusion_matrix(targets, predictions), annot=True, fmt='d')\n",
    "plt.xlabel('Pred')\n",
    "plt.ylabel('Real')\n",
    "plt.show()"
   ]
  },
  {
   "cell_type": "markdown",
   "id": "665a8611",
   "metadata": {},
   "source": [
    "### 분류 보고서"
   ]
  },
  {
   "cell_type": "code",
   "execution_count": 21,
   "id": "543cf3f8",
   "metadata": {
    "ExecuteTime": {
     "end_time": "2024-03-11T01:51:06.817691Z",
     "start_time": "2024-03-11T01:51:06.773473Z"
    }
   },
   "outputs": [
    {
     "name": "stdout",
     "output_type": "stream",
     "text": [
      "              precision    recall  f1-score   support\n",
      "\n",
      "           0       0.72      0.85      0.78      1000\n",
      "           1       0.99      0.96      0.98      1000\n",
      "           2       0.72      0.75      0.74      1000\n",
      "           3       0.83      0.88      0.86      1000\n",
      "           4       0.72      0.79      0.75      1000\n",
      "           5       0.95      0.93      0.94      1000\n",
      "           6       0.58      0.38      0.46      1000\n",
      "           7       0.91      0.94      0.93      1000\n",
      "           8       0.95      0.95      0.95      1000\n",
      "           9       0.94      0.94      0.94      1000\n",
      "\n",
      "    accuracy                           0.84     10000\n",
      "   macro avg       0.83      0.84      0.83     10000\n",
      "weighted avg       0.83      0.84      0.83     10000\n",
      "\n"
     ]
    }
   ],
   "source": [
    "from sklearn.metrics import classification_report\n",
    "\n",
    "print(classification_report(targets, predictions))"
   ]
  },
  {
   "cell_type": "code",
   "execution_count": null,
   "id": "459c2392",
   "metadata": {},
   "outputs": [],
   "source": []
  }
 ],
 "metadata": {
  "kernelspec": {
   "display_name": "py310 torch112",
   "language": "python",
   "name": "torch112"
  },
  "language_info": {
   "codemirror_mode": {
    "name": "ipython",
    "version": 3
   },
   "file_extension": ".py",
   "mimetype": "text/x-python",
   "name": "python",
   "nbconvert_exporter": "python",
   "pygments_lexer": "ipython3",
   "version": "3.10.9"
  },
  "toc": {
   "base_numbering": 1,
   "nav_menu": {},
   "number_sections": false,
   "sideBar": true,
   "skip_h1_title": false,
   "title_cell": "Table of Contents",
   "title_sidebar": "Contents",
   "toc_cell": false,
   "toc_position": {},
   "toc_section_display": true,
   "toc_window_display": false
  },
  "varInspector": {
   "cols": {
    "lenName": 16,
    "lenType": 16,
    "lenVar": 40
   },
   "kernels_config": {
    "python": {
     "delete_cmd_postfix": "",
     "delete_cmd_prefix": "del ",
     "library": "var_list.py",
     "varRefreshCmd": "print(var_dic_list())"
    },
    "r": {
     "delete_cmd_postfix": ") ",
     "delete_cmd_prefix": "rm(",
     "library": "var_list.r",
     "varRefreshCmd": "cat(var_dic_list()) "
    }
   },
   "types_to_exclude": [
    "module",
    "function",
    "builtin_function_or_method",
    "instance",
    "_Feature"
   ],
   "window_display": false
  }
 },
 "nbformat": 4,
 "nbformat_minor": 5
}
