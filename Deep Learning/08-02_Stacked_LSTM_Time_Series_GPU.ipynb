{
 "cells": [
  {
   "cell_type": "markdown",
   "metadata": {
    "id": "tVWs-arPN3ep"
   },
   "source": [
    "# Stacked LSTM - Time Serise Dataset\n",
    "\n",
    "* 서울시 기후 데이터 : 2011년 01월 01일 ~ 2019년 12월 31일\n",
    "* https://data.kma.go.kr/cmmn/main.do\n",
    "* 기후통계분석 -> 기온분석 -> 기간(20110101~20191231) -> 검색 -> CSV 다운로드\n",
    "* Seoul_Temp.csv"
   ]
  },
  {
   "cell_type": "code",
   "execution_count": 1,
   "metadata": {
    "executionInfo": {
     "elapsed": 306,
     "status": "ok",
     "timestamp": 1628234725499,
     "user": {
      "displayName": "이정구",
      "photoUrl": "https://lh3.googleusercontent.com/a-/AOh14Ggor3yxeAY0Qx9DjT3OgE5Kvg17x7ah3qRpGUHVgQ=s64",
      "userId": "06746815733591865358"
     },
     "user_tz": -540
    },
    "id": "RbPgODpVzdHI"
   },
   "outputs": [],
   "source": [
    "import warnings\n",
    "warnings.filterwarnings('ignore')"
   ]
  },
  {
   "cell_type": "markdown",
   "metadata": {
    "id": "GqNGswL2W9uy"
   },
   "source": [
    "## Import Packages\n",
    "\n",
    "* Packages"
   ]
  },
  {
   "cell_type": "code",
   "execution_count": 2,
   "metadata": {
    "executionInfo": {
     "elapsed": 9,
     "status": "ok",
     "timestamp": 1628234725823,
     "user": {
      "displayName": "이정구",
      "photoUrl": "https://lh3.googleusercontent.com/a-/AOh14Ggor3yxeAY0Qx9DjT3OgE5Kvg17x7ah3qRpGUHVgQ=s64",
      "userId": "06746815733591865358"
     },
     "user_tz": -540
    },
    "id": "qZiEyhyIHkXM"
   },
   "outputs": [],
   "source": [
    "import numpy as np\n",
    "import pandas as pd\n",
    "from matplotlib import pyplot as plt\n",
    "\n",
    "from sklearn.preprocessing import MinMaxScaler\n",
    "\n",
    "from tensorflow.keras.models import Sequential\n",
    "from tensorflow.keras.layers import Dense, LSTM, Dropout"
   ]
  },
  {
   "cell_type": "code",
   "execution_count": 3,
   "metadata": {
    "colab": {
     "base_uri": "https://localhost:8080/",
     "height": 203
    },
    "executionInfo": {
     "elapsed": 1193,
     "status": "ok",
     "timestamp": 1628234727009,
     "user": {
      "displayName": "이정구",
      "photoUrl": "https://lh3.googleusercontent.com/a-/AOh14Ggor3yxeAY0Qx9DjT3OgE5Kvg17x7ah3qRpGUHVgQ=s64",
      "userId": "06746815733591865358"
     },
     "user_tz": -540
    },
    "id": "yanCl5HdHs35",
    "outputId": "8393334c-8736-4552-9e32-b8fb9725634a"
   },
   "outputs": [
    {
     "data": {
      "text/html": [
       "<div>\n",
       "<style scoped>\n",
       "    .dataframe tbody tr th:only-of-type {\n",
       "        vertical-align: middle;\n",
       "    }\n",
       "\n",
       "    .dataframe tbody tr th {\n",
       "        vertical-align: top;\n",
       "    }\n",
       "\n",
       "    .dataframe thead th {\n",
       "        text-align: right;\n",
       "    }\n",
       "</style>\n",
       "<table border=\"1\" class=\"dataframe\">\n",
       "  <thead>\n",
       "    <tr style=\"text-align: right;\">\n",
       "      <th></th>\n",
       "      <th>date</th>\n",
       "      <th>avg</th>\n",
       "      <th>min</th>\n",
       "      <th>max</th>\n",
       "    </tr>\n",
       "  </thead>\n",
       "  <tbody>\n",
       "    <tr>\n",
       "      <th>0</th>\n",
       "      <td>2011-01-01</td>\n",
       "      <td>-6.8</td>\n",
       "      <td>-10.4</td>\n",
       "      <td>-2.9</td>\n",
       "    </tr>\n",
       "    <tr>\n",
       "      <th>1</th>\n",
       "      <td>2011-01-02</td>\n",
       "      <td>-5.4</td>\n",
       "      <td>-8.5</td>\n",
       "      <td>-1.2</td>\n",
       "    </tr>\n",
       "    <tr>\n",
       "      <th>2</th>\n",
       "      <td>2011-01-03</td>\n",
       "      <td>-4.5</td>\n",
       "      <td>-8.5</td>\n",
       "      <td>-0.3</td>\n",
       "    </tr>\n",
       "    <tr>\n",
       "      <th>3</th>\n",
       "      <td>2011-01-04</td>\n",
       "      <td>-3.9</td>\n",
       "      <td>-7.4</td>\n",
       "      <td>-1.7</td>\n",
       "    </tr>\n",
       "    <tr>\n",
       "      <th>4</th>\n",
       "      <td>2011-01-05</td>\n",
       "      <td>-4.0</td>\n",
       "      <td>-7.7</td>\n",
       "      <td>-1.8</td>\n",
       "    </tr>\n",
       "  </tbody>\n",
       "</table>\n",
       "</div>"
      ],
      "text/plain": [
       "         date  avg   min  max\n",
       "0  2011-01-01 -6.8 -10.4 -2.9\n",
       "1  2011-01-02 -5.4  -8.5 -1.2\n",
       "2  2011-01-03 -4.5  -8.5 -0.3\n",
       "3  2011-01-04 -3.9  -7.4 -1.7\n",
       "4  2011-01-05 -4.0  -7.7 -1.8"
      ]
     },
     "execution_count": 3,
     "metadata": {},
     "output_type": "execute_result"
    }
   ],
   "source": [
    "url = 'https://raw.githubusercontent.com/rusita-ai/pyData/master/Seoul_Temp.csv'\n",
    "temp = pd.read_csv(url)\n",
    "\n",
    "temp.head()"
   ]
  },
  {
   "cell_type": "markdown",
   "metadata": {
    "id": "KVDXRbXBYEPe"
   },
   "source": [
    "# II. Data Preprocessing"
   ]
  },
  {
   "cell_type": "markdown",
   "metadata": {
    "id": "fy9v_lCiU9HO"
   },
   "source": [
    "> ## 1) 일일 평균온도('avg') 변화 시각화\n",
    "\n",
    "* 일일 평균온도 변화에 일정한 패턴 확인"
   ]
  },
  {
   "cell_type": "code",
   "execution_count": 4,
   "metadata": {
    "colab": {
     "base_uri": "https://localhost:8080/",
     "height": 320
    },
    "executionInfo": {
     "elapsed": 32,
     "status": "ok",
     "timestamp": 1628234727011,
     "user": {
      "displayName": "이정구",
      "photoUrl": "https://lh3.googleusercontent.com/a-/AOh14Ggor3yxeAY0Qx9DjT3OgE5Kvg17x7ah3qRpGUHVgQ=s64",
      "userId": "06746815733591865358"
     },
     "user_tz": -540
    },
    "id": "yoof7I1EH86G",
    "outputId": "ec8632bf-be4f-4f64-c272-c1f4c11ee2c9"
   },
   "outputs": [
    {
     "data": {
      "image/png": "[encoded data removed]",
      "text/plain": [
       "<Figure size 864x360 with 1 Axes>"
      ]
     },
     "metadata": {
      "needs_background": "light"
     },
     "output_type": "display_data"
    }
   ],
   "source": [
    "temp_data = temp[['avg']]\n",
    "\n",
    "plt.figure(figsize = (12, 5))\n",
    "plt.plot(temp_data)\n",
    "plt.show()"
   ]
  },
  {
   "cell_type": "markdown",
   "metadata": {
    "id": "mDFfRx_TXFsG"
   },
   "source": [
    "> ## 2) Normalization\n",
    "\n",
    "* tanh Activation 적용을 위해 -1 ~ 1 범위로 정규화"
   ]
  },
  {
   "cell_type": "code",
   "execution_count": 5,
   "metadata": {
    "executionInfo": {
     "elapsed": 24,
     "status": "ok",
     "timestamp": 1628234727013,
     "user": {
      "displayName": "이정구",
      "photoUrl": "https://lh3.googleusercontent.com/a-/AOh14Ggor3yxeAY0Qx9DjT3OgE5Kvg17x7ah3qRpGUHVgQ=s64",
      "userId": "06746815733591865358"
     },
     "user_tz": -540
    },
    "id": "Mweff2FbQZQ7"
   },
   "outputs": [],
   "source": [
    "scaler = MinMaxScaler(feature_range = (-1, 1))\n",
    "\n",
    "temp_data = scaler.fit_transform(temp_data)"
   ]
  },
  {
   "cell_type": "markdown",
   "metadata": {
    "id": "RoD5eL7OXodZ"
   },
   "source": [
    "> ## 3) Train vs. Test Split\n",
    "\n",
    "* Train_Dataset : 2011년 01월 01일 ~ 2017년 12월 31일\n",
    "* Test_Dataset : 2018년 01월 01일 ~ 2019년 12월 31일"
   ]
  },
  {
   "cell_type": "code",
   "execution_count": 6,
   "metadata": {
    "executionInfo": {
     "elapsed": 25,
     "status": "ok",
     "timestamp": 1628234727017,
     "user": {
      "displayName": "이정구",
      "photoUrl": "https://lh3.googleusercontent.com/a-/AOh14Ggor3yxeAY0Qx9DjT3OgE5Kvg17x7ah3qRpGUHVgQ=s64",
      "userId": "06746815733591865358"
     },
     "user_tz": -540
    },
    "id": "IcFIds3EQdhu"
   },
   "outputs": [],
   "source": [
    "train = temp_data[0:2557]\n",
    "test  = temp_data[2557:]"
   ]
  },
  {
   "cell_type": "markdown",
   "metadata": {
    "id": "HeCV1M_IcjHT"
   },
   "source": [
    "# III. 시계열 데이터 처리 함수"
   ]
  },
  {
   "cell_type": "markdown",
   "metadata": {
    "id": "qIFllEI0YhLI"
   },
   "source": [
    "> ## 1) 시계열 학습용 데이터 생성 함수 정의\n",
    "\n",
    "* X : 학습 평균온도 데이터\n",
    "* y : 정답 평균온도 데이터\n",
    "* 일정 기간의 X로 y를 예측하도록 학습"
   ]
  },
  {
   "cell_type": "code",
   "execution_count": 7,
   "metadata": {
    "executionInfo": {
     "elapsed": 642,
     "status": "ok",
     "timestamp": 1628234727637,
     "user": {
      "displayName": "이정구",
      "photoUrl": "https://lh3.googleusercontent.com/a-/AOh14Ggor3yxeAY0Qx9DjT3OgE5Kvg17x7ah3qRpGUHVgQ=s64",
      "userId": "06746815733591865358"
     },
     "user_tz": -540
    },
    "id": "J6dtkntWJO3k"
   },
   "outputs": [],
   "source": [
    "def create_dataset(time_data, look_back = 1):\n",
    "    data_X, data_y = [], []\n",
    "\n",
    "    for i in range(len(time_data) - look_back):\n",
    "        data_X.append(time_data[i:(i + look_back), 0])\n",
    "        data_y.append(time_data[i + look_back, 0])\n",
    "\n",
    "    return np.array(data_X), np.array(data_y)"
   ]
  },
  {
   "cell_type": "markdown",
   "metadata": {
    "id": "HmdQKSurYYaq"
   },
   "source": [
    "> ## 2) loop_back 기간 설정 후 학습데이터 생성\n",
    "\n",
    "* 180일 기간 평균온도로 다음날 평균온도 예측 데이터 생성"
   ]
  },
  {
   "cell_type": "code",
   "execution_count": 8,
   "metadata": {
    "executionInfo": {
     "elapsed": 18,
     "status": "ok",
     "timestamp": 1628234727637,
     "user": {
      "displayName": "이정구",
      "photoUrl": "https://lh3.googleusercontent.com/a-/AOh14Ggor3yxeAY0Qx9DjT3OgE5Kvg17x7ah3qRpGUHVgQ=s64",
      "userId": "06746815733591865358"
     },
     "user_tz": -540
    },
    "id": "szxseLqEYTlA"
   },
   "outputs": [],
   "source": [
    "look_back = 180\n",
    "\n",
    "train_X, train_y = create_dataset(train, look_back)\n",
    "test_X,  test_y  = create_dataset(test, look_back)"
   ]
  },
  {
   "cell_type": "markdown",
   "metadata": {
    "id": "mZtq6XoIZzFw"
   },
   "source": [
    "> ## 3) Tensor Reshape"
   ]
  },
  {
   "cell_type": "code",
   "execution_count": 9,
   "metadata": {
    "colab": {
     "base_uri": "https://localhost:8080/"
    },
    "executionInfo": {
     "elapsed": 18,
     "status": "ok",
     "timestamp": 1628234727638,
     "user": {
      "displayName": "이정구",
      "photoUrl": "https://lh3.googleusercontent.com/a-/AOh14Ggor3yxeAY0Qx9DjT3OgE5Kvg17x7ah3qRpGUHVgQ=s64",
      "userId": "06746815733591865358"
     },
     "user_tz": -540
    },
    "id": "R-ZVH1KCQkkN",
    "outputId": "3d211a6c-75e2-4116-993a-8fcbf39571d5"
   },
   "outputs": [
    {
     "data": {
      "text/plain": [
       "((2377, 180, 1), (2377,), (550, 180, 1), (550,))"
      ]
     },
     "execution_count": 9,
     "metadata": {},
     "output_type": "execute_result"
    }
   ],
   "source": [
    "train_X = np.reshape(train_X, (train_X.shape[0], train_X.shape[1], 1))\n",
    "test_X = np.reshape(test_X, (test_X.shape[0], test_X.shape[1], 1))\n",
    "\n",
    "train_X.shape, train_y.shape, test_X.shape, test_y.shape"
   ]
  },
  {
   "cell_type": "markdown",
   "metadata": {
    "id": "3cd2RaWzeTX_"
   },
   "source": [
    "# IV. Stacked LSTM Modeling"
   ]
  },
  {
   "cell_type": "markdown",
   "metadata": {
    "id": "MKJZDHuJeeJh"
   },
   "source": [
    "> ## 1) Model Define"
   ]
  },
  {
   "cell_type": "code",
   "execution_count": 10,
   "metadata": {
    "executionInfo": {
     "elapsed": 15,
     "status": "ok",
     "timestamp": 1628234727638,
     "user": {
      "displayName": "이정구",
      "photoUrl": "https://lh3.googleusercontent.com/a-/AOh14Ggor3yxeAY0Qx9DjT3OgE5Kvg17x7ah3qRpGUHVgQ=s64",
      "userId": "06746815733591865358"
     },
     "user_tz": -540
    },
    "id": "nviUzB-3J9ns"
   },
   "outputs": [],
   "source": [
    "model = Sequential(name = 'Stackd_LSTM')\n",
    "model.add(LSTM(64, \n",
    "               input_shape = (None, 1), \n",
    "               return_sequences = True))\n",
    "model.add(LSTM(64,\n",
    "               input_shape = (None, 1),\n",
    "               return_sequences = False))\n",
    "model.add(Dense(1, activation = 'tanh'))"
   ]
  },
  {
   "cell_type": "markdown",
   "metadata": {
    "id": "IYLeva87e7pG"
   },
   "source": [
    "* Model Summary"
   ]
  },
  {
   "cell_type": "code",
   "execution_count": 11,
   "metadata": {
    "colab": {
     "base_uri": "https://localhost:8080/"
    },
    "executionInfo": {
     "elapsed": 15,
     "status": "ok",
     "timestamp": 1628234727639,
     "user": {
      "displayName": "이정구",
      "photoUrl": "https://lh3.googleusercontent.com/a-/AOh14Ggor3yxeAY0Qx9DjT3OgE5Kvg17x7ah3qRpGUHVgQ=s64",
      "userId": "06746815733591865358"
     },
     "user_tz": -540
    },
    "id": "LQpjGs_ye9-R",
    "outputId": "a6add61d-3321-4323-e2ef-cbffeee1559e"
   },
   "outputs": [
    {
     "name": "stdout",
     "output_type": "stream",
     "text": [
      "Model: \"Stackd_LSTM\"\n",
      "_________________________________________________________________\n",
      "Layer (type)                 Output Shape              Param #   \n",
      "=================================================================\n",
      "lstm (LSTM)                  (None, None, 64)          16896     \n",
      "_________________________________________________________________\n",
      "lstm_1 (LSTM)                (None, 64)                33024     \n",
      "_________________________________________________________________\n",
      "dense (Dense)                (None, 1)                 65        \n",
      "=================================================================\n",
      "Total params: 49,985\n",
      "Trainable params: 49,985\n",
      "Non-trainable params: 0\n",
      "_________________________________________________________________\n"
     ]
    }
   ],
   "source": [
    "model.summary()"
   ]
  },
  {
   "cell_type": "markdown",
   "metadata": {
    "id": "Co3QNP8QfFv9"
   },
   "source": [
    "> ## 2) Model Compile"
   ]
  },
  {
   "cell_type": "code",
   "execution_count": 12,
   "metadata": {
    "executionInfo": {
     "elapsed": 12,
     "status": "ok",
     "timestamp": 1628234727640,
     "user": {
      "displayName": "이정구",
      "photoUrl": "https://lh3.googleusercontent.com/a-/AOh14Ggor3yxeAY0Qx9DjT3OgE5Kvg17x7ah3qRpGUHVgQ=s64",
      "userId": "06746815733591865358"
     },
     "user_tz": -540
    },
    "id": "90LKNvgkP_n8"
   },
   "outputs": [],
   "source": [
    "model.compile(loss = 'mean_squared_error', \n",
    "              optimizer = 'adam')"
   ]
  },
  {
   "cell_type": "markdown",
   "metadata": {
    "id": "u5V3jiYWfd9r"
   },
   "source": [
    "> ## 3) Model Fit\n",
    "\n",
    "* 약 10분"
   ]
  },
  {
   "cell_type": "code",
   "execution_count": 13,
   "metadata": {
    "colab": {
     "base_uri": "https://localhost:8080/"
    },
    "executionInfo": {
     "elapsed": 418980,
     "status": "ok",
     "timestamp": 1628235146608,
     "user": {
      "displayName": "이정구",
      "photoUrl": "https://lh3.googleusercontent.com/a-/AOh14Ggor3yxeAY0Qx9DjT3OgE5Kvg17x7ah3qRpGUHVgQ=s64",
      "userId": "06746815733591865358"
     },
     "user_tz": -540
    },
    "id": "b3-ffxd5P8ZP",
    "outputId": "447a15cd-7b6d-4e51-b795-e6a430c04f64"
   },
   "outputs": [
    {
     "name": "stdout",
     "output_type": "stream",
     "text": [
      "Epoch 1/200\n",
      "149/149 [==============================] - 5s 15ms/step - loss: 0.0268 - val_loss: 0.0161\n",
      "Epoch 2/200\n",
      "149/149 [==============================] - 2s 12ms/step - loss: 0.0178 - val_loss: 0.0157\n",
      "Epoch 3/200\n",
      "149/149 [==============================] - 2s 12ms/step - loss: 0.0159 - val_loss: 0.0128\n",
      "Epoch 4/200\n",
      "149/149 [==============================] - 2s 13ms/step - loss: 0.0145 - val_loss: 0.0120\n",
      "Epoch 5/200\n",
      "149/149 [==============================] - 2s 13ms/step - loss: 0.0126 - val_loss: 0.0106\n",
      "Epoch 6/200\n",
      "149/149 [==============================] - 2s 12ms/step - loss: 0.0101 - val_loss: 0.0078\n",
      "Epoch 7/200\n",
      "149/149 [==============================] - 2s 12ms/step - loss: 0.0088 - val_loss: 0.0082\n",
      "Epoch 8/200\n",
      "149/149 [==============================] - 2s 12ms/step - loss: 0.0090 - val_loss: 0.0084\n",
      "Epoch 9/200\n",
      "149/149 [==============================] - 2s 13ms/step - loss: 0.0085 - val_loss: 0.0077\n",
      "Epoch 10/200\n",
      "149/149 [==============================] - 2s 12ms/step - loss: 0.0084 - val_loss: 0.0080\n",
      "Epoch 11/200\n",
      "149/149 [==============================] - 2s 13ms/step - loss: 0.0088 - val_loss: 0.0081\n",
      "Epoch 12/200\n",
      "149/149 [==============================] - 2s 12ms/step - loss: 0.0083 - val_loss: 0.0077\n",
      "Epoch 13/200\n",
      "149/149 [==============================] - 2s 14ms/step - loss: 0.0084 - val_loss: 0.0075\n",
      "Epoch 14/200\n",
      "149/149 [==============================] - 2s 13ms/step - loss: 0.0084 - val_loss: 0.0080\n",
      "Epoch 15/200\n",
      "149/149 [==============================] - 2s 13ms/step - loss: 0.0082 - val_loss: 0.0082\n",
      "Epoch 16/200\n",
      "149/149 [==============================] - 2s 13ms/step - loss: 0.0085 - val_loss: 0.0078\n",
      "Epoch 17/200\n",
      "149/149 [==============================] - 2s 13ms/step - loss: 0.0083 - val_loss: 0.0077\n",
      "Epoch 18/200\n",
      "149/149 [==============================] - 2s 12ms/step - loss: 0.0083 - val_loss: 0.0074\n",
      "Epoch 19/200\n",
      "149/149 [==============================] - 2s 12ms/step - loss: 0.0081 - val_loss: 0.0079\n",
      "Epoch 20/200\n",
      "149/149 [==============================] - 2s 12ms/step - loss: 0.0082 - val_loss: 0.0075\n",
      "Epoch 21/200\n",
      "149/149 [==============================] - 2s 13ms/step - loss: 0.0082 - val_loss: 0.0075\n",
      "Epoch 22/200\n",
      "149/149 [==============================] - 2s 13ms/step - loss: 0.0081 - val_loss: 0.0080\n",
      "Epoch 23/200\n",
      "149/149 [==============================] - 2s 13ms/step - loss: 0.0082 - val_loss: 0.0074\n",
      "Epoch 24/200\n",
      "149/149 [==============================] - 2s 13ms/step - loss: 0.0082 - val_loss: 0.0078\n",
      "Epoch 25/200\n",
      "149/149 [==============================] - 2s 13ms/step - loss: 0.0081 - val_loss: 0.0075\n",
      "Epoch 26/200\n",
      "149/149 [==============================] - 2s 14ms/step - loss: 0.0083 - val_loss: 0.0076\n",
      "Epoch 27/200\n",
      "149/149 [==============================] - 2s 13ms/step - loss: 0.0082 - val_loss: 0.0075\n",
      "Epoch 28/200\n",
      "149/149 [==============================] - 2s 13ms/step - loss: 0.0081 - val_loss: 0.0074\n",
      "Epoch 29/200\n",
      "149/149 [==============================] - 2s 13ms/step - loss: 0.0082 - val_loss: 0.0073\n",
      "Epoch 30/200\n",
      "149/149 [==============================] - 2s 13ms/step - loss: 0.0082 - val_loss: 0.0077\n",
      "Epoch 31/200\n",
      "149/149 [==============================] - 2s 13ms/step - loss: 0.0083 - val_loss: 0.0074\n",
      "Epoch 32/200\n",
      "149/149 [==============================] - 2s 13ms/step - loss: 0.0080 - val_loss: 0.0073\n",
      "Epoch 33/200\n",
      "149/149 [==============================] - 2s 12ms/step - loss: 0.0080 - val_loss: 0.0073\n",
      "Epoch 34/200\n",
      "149/149 [==============================] - 2s 12ms/step - loss: 0.0080 - val_loss: 0.0076\n",
      "Epoch 35/200\n",
      "149/149 [==============================] - 2s 12ms/step - loss: 0.0080 - val_loss: 0.0076\n",
      "Epoch 36/200\n",
      "149/149 [==============================] - 2s 13ms/step - loss: 0.0081 - val_loss: 0.0076\n",
      "Epoch 37/200\n",
      "149/149 [==============================] - 2s 13ms/step - loss: 0.0080 - val_loss: 0.0076\n",
      "Epoch 38/200\n",
      "149/149 [==============================] - 2s 14ms/step - loss: 0.0081 - val_loss: 0.0077\n",
      "Epoch 39/200\n",
      "149/149 [==============================] - 2s 13ms/step - loss: 0.0079 - val_loss: 0.0075\n",
      "Epoch 40/200\n",
      "149/149 [==============================] - 2s 13ms/step - loss: 0.0080 - val_loss: 0.0076\n",
      "Epoch 41/200\n",
      "149/149 [==============================] - 2s 12ms/step - loss: 0.0080 - val_loss: 0.0075\n",
      "Epoch 42/200\n",
      "149/149 [==============================] - 2s 13ms/step - loss: 0.0079 - val_loss: 0.0072\n",
      "Epoch 43/200\n",
      "149/149 [==============================] - 2s 13ms/step - loss: 0.0079 - val_loss: 0.0074\n",
      "Epoch 44/200\n",
      "149/149 [==============================] - 2s 12ms/step - loss: 0.0079 - val_loss: 0.0076\n",
      "Epoch 45/200\n",
      "149/149 [==============================] - 2s 13ms/step - loss: 0.0079 - val_loss: 0.0072\n",
      "Epoch 46/200\n",
      "149/149 [==============================] - 2s 12ms/step - loss: 0.0079 - val_loss: 0.0074\n",
      "Epoch 47/200\n",
      "149/149 [==============================] - 2s 12ms/step - loss: 0.0078 - val_loss: 0.0075\n",
      "Epoch 48/200\n",
      "149/149 [==============================] - 2s 13ms/step - loss: 0.0080 - val_loss: 0.0080\n",
      "Epoch 49/200\n",
      "149/149 [==============================] - 2s 13ms/step - loss: 0.0080 - val_loss: 0.0077\n",
      "Epoch 50/200\n",
      "149/149 [==============================] - 2s 13ms/step - loss: 0.0080 - val_loss: 0.0076\n",
      "Epoch 51/200\n",
      "149/149 [==============================] - 2s 13ms/step - loss: 0.0078 - val_loss: 0.0075\n",
      "Epoch 52/200\n",
      "149/149 [==============================] - 2s 13ms/step - loss: 0.0077 - val_loss: 0.0074\n",
      "Epoch 53/200\n",
      "149/149 [==============================] - 2s 14ms/step - loss: 0.0078 - val_loss: 0.0076\n",
      "Epoch 54/200\n",
      "149/149 [==============================] - 2s 13ms/step - loss: 0.0077 - val_loss: 0.0077\n",
      "Epoch 55/200\n",
      "149/149 [==============================] - 2s 13ms/step - loss: 0.0079 - val_loss: 0.0074\n",
      "Epoch 56/200\n",
      "149/149 [==============================] - 2s 13ms/step - loss: 0.0076 - val_loss: 0.0076\n",
      "Epoch 57/200\n",
      "149/149 [==============================] - 2s 13ms/step - loss: 0.0077 - val_loss: 0.0076\n",
      "Epoch 58/200\n",
      "149/149 [==============================] - 2s 14ms/step - loss: 0.0077 - val_loss: 0.0077\n",
      "Epoch 59/200\n",
      "149/149 [==============================] - 2s 12ms/step - loss: 0.0077 - val_loss: 0.0075\n",
      "Epoch 60/200\n",
      "149/149 [==============================] - 2s 13ms/step - loss: 0.0076 - val_loss: 0.0072\n",
      "Epoch 61/200\n",
      "149/149 [==============================] - 2s 13ms/step - loss: 0.0076 - val_loss: 0.0077\n",
      "Epoch 62/200\n",
      "149/149 [==============================] - 2s 12ms/step - loss: 0.0076 - val_loss: 0.0079\n",
      "Epoch 63/200\n",
      "149/149 [==============================] - 2s 12ms/step - loss: 0.0076 - val_loss: 0.0074\n",
      "Epoch 64/200\n",
      "149/149 [==============================] - 2s 12ms/step - loss: 0.0076 - val_loss: 0.0081\n",
      "Epoch 65/200\n",
      "149/149 [==============================] - 2s 13ms/step - loss: 0.0076 - val_loss: 0.0073\n",
      "Epoch 66/200\n",
      "149/149 [==============================] - 2s 13ms/step - loss: 0.0077 - val_loss: 0.0075\n",
      "Epoch 67/200\n",
      "149/149 [==============================] - 2s 12ms/step - loss: 0.0077 - val_loss: 0.0077\n",
      "Epoch 68/200\n",
      "149/149 [==============================] - 2s 12ms/step - loss: 0.0076 - val_loss: 0.0073\n",
      "Epoch 69/200\n",
      "149/149 [==============================] - 2s 13ms/step - loss: 0.0077 - val_loss: 0.0078\n",
      "Epoch 70/200\n",
      "149/149 [==============================] - 2s 13ms/step - loss: 0.0075 - val_loss: 0.0077\n",
      "Epoch 71/200\n",
      "149/149 [==============================] - 2s 13ms/step - loss: 0.0076 - val_loss: 0.0079\n",
      "Epoch 72/200\n",
      "149/149 [==============================] - 2s 13ms/step - loss: 0.0075 - val_loss: 0.0073\n",
      "Epoch 73/200\n",
      "149/149 [==============================] - 2s 13ms/step - loss: 0.0075 - val_loss: 0.0075\n",
      "Epoch 74/200\n",
      "149/149 [==============================] - 2s 13ms/step - loss: 0.0074 - val_loss: 0.0072\n",
      "Epoch 75/200\n",
      "149/149 [==============================] - 2s 13ms/step - loss: 0.0074 - val_loss: 0.0077\n",
      "Epoch 76/200\n",
      "149/149 [==============================] - 2s 13ms/step - loss: 0.0075 - val_loss: 0.0077\n",
      "Epoch 77/200\n",
      "149/149 [==============================] - 2s 12ms/step - loss: 0.0075 - val_loss: 0.0076\n",
      "Epoch 78/200\n",
      "149/149 [==============================] - 2s 12ms/step - loss: 0.0074 - val_loss: 0.0074\n",
      "Epoch 79/200\n",
      "149/149 [==============================] - 2s 12ms/step - loss: 0.0074 - val_loss: 0.0075\n",
      "Epoch 80/200\n",
      "149/149 [==============================] - 2s 12ms/step - loss: 0.0074 - val_loss: 0.0075\n",
      "Epoch 81/200\n",
      "149/149 [==============================] - 2s 12ms/step - loss: 0.0073 - val_loss: 0.0078\n",
      "Epoch 82/200\n",
      "149/149 [==============================] - 2s 12ms/step - loss: 0.0074 - val_loss: 0.0076\n",
      "Epoch 83/200\n",
      "149/149 [==============================] - 2s 12ms/step - loss: 0.0073 - val_loss: 0.0083\n",
      "Epoch 84/200\n",
      "149/149 [==============================] - 2s 12ms/step - loss: 0.0073 - val_loss: 0.0078\n",
      "Epoch 85/200\n",
      "149/149 [==============================] - 2s 12ms/step - loss: 0.0075 - val_loss: 0.0075\n",
      "Epoch 86/200\n",
      "149/149 [==============================] - 2s 12ms/step - loss: 0.0074 - val_loss: 0.0078\n",
      "Epoch 87/200\n",
      "149/149 [==============================] - 2s 12ms/step - loss: 0.0073 - val_loss: 0.0075\n",
      "Epoch 88/200\n",
      "149/149 [==============================] - 2s 12ms/step - loss: 0.0073 - val_loss: 0.0080\n",
      "Epoch 89/200\n",
      "149/149 [==============================] - 2s 12ms/step - loss: 0.0073 - val_loss: 0.0073\n",
      "Epoch 90/200\n",
      "149/149 [==============================] - 2s 12ms/step - loss: 0.0071 - val_loss: 0.0075\n",
      "Epoch 91/200\n",
      "149/149 [==============================] - 2s 12ms/step - loss: 0.0073 - val_loss: 0.0072\n",
      "Epoch 92/200\n",
      "149/149 [==============================] - 2s 12ms/step - loss: 0.0072 - val_loss: 0.0075\n",
      "Epoch 93/200\n",
      "149/149 [==============================] - 2s 12ms/step - loss: 0.0071 - val_loss: 0.0083\n",
      "Epoch 94/200\n",
      "149/149 [==============================] - 2s 12ms/step - loss: 0.0072 - val_loss: 0.0077\n",
      "Epoch 95/200\n",
      "149/149 [==============================] - 2s 12ms/step - loss: 0.0070 - val_loss: 0.0095\n",
      "Epoch 96/200\n",
      "149/149 [==============================] - 2s 12ms/step - loss: 0.0071 - val_loss: 0.0079\n",
      "Epoch 97/200\n",
      "149/149 [==============================] - 2s 12ms/step - loss: 0.0070 - val_loss: 0.0082\n",
      "Epoch 98/200\n",
      "149/149 [==============================] - 2s 12ms/step - loss: 0.0071 - val_loss: 0.0086\n",
      "Epoch 99/200\n",
      "149/149 [==============================] - 2s 13ms/step - loss: 0.0070 - val_loss: 0.0083\n",
      "Epoch 100/200\n",
      "149/149 [==============================] - 2s 12ms/step - loss: 0.0072 - val_loss: 0.0079\n",
      "Epoch 101/200\n",
      "149/149 [==============================] - 2s 12ms/step - loss: 0.0070 - val_loss: 0.0075\n",
      "Epoch 102/200\n",
      "149/149 [==============================] - 2s 12ms/step - loss: 0.0072 - val_loss: 0.0076\n",
      "Epoch 103/200\n",
      "149/149 [==============================] - 2s 12ms/step - loss: 0.0069 - val_loss: 0.0083\n",
      "Epoch 104/200\n",
      "149/149 [==============================] - 2s 12ms/step - loss: 0.0069 - val_loss: 0.0081\n",
      "Epoch 105/200\n",
      "149/149 [==============================] - 2s 12ms/step - loss: 0.0069 - val_loss: 0.0083\n",
      "Epoch 106/200\n",
      "149/149 [==============================] - 2s 12ms/step - loss: 0.0069 - val_loss: 0.0081\n",
      "Epoch 107/200\n",
      "149/149 [==============================] - 2s 12ms/step - loss: 0.0067 - val_loss: 0.0082\n",
      "Epoch 108/200\n",
      "149/149 [==============================] - 2s 12ms/step - loss: 0.0070 - val_loss: 0.0082\n",
      "Epoch 109/200\n",
      "149/149 [==============================] - 2s 13ms/step - loss: 0.0068 - val_loss: 0.0081\n",
      "Epoch 110/200\n",
      "149/149 [==============================] - 2s 12ms/step - loss: 0.0068 - val_loss: 0.0078\n",
      "Epoch 111/200\n",
      "149/149 [==============================] - 2s 12ms/step - loss: 0.0067 - val_loss: 0.0085\n",
      "Epoch 112/200\n",
      "149/149 [==============================] - 2s 12ms/step - loss: 0.0067 - val_loss: 0.0082\n",
      "Epoch 113/200\n",
      "149/149 [==============================] - 2s 12ms/step - loss: 0.0066 - val_loss: 0.0099\n",
      "Epoch 114/200\n",
      "149/149 [==============================] - 2s 12ms/step - loss: 0.0065 - val_loss: 0.0085\n",
      "Epoch 115/200\n",
      "149/149 [==============================] - 2s 12ms/step - loss: 0.0065 - val_loss: 0.0086\n",
      "Epoch 116/200\n",
      "149/149 [==============================] - 2s 12ms/step - loss: 0.0067 - val_loss: 0.0078\n",
      "Epoch 117/200\n",
      "149/149 [==============================] - 2s 12ms/step - loss: 0.0064 - val_loss: 0.0088\n",
      "Epoch 118/200\n",
      "149/149 [==============================] - 2s 12ms/step - loss: 0.0064 - val_loss: 0.0089\n",
      "Epoch 119/200\n",
      "149/149 [==============================] - 2s 12ms/step - loss: 0.0064 - val_loss: 0.0088\n",
      "Epoch 120/200\n",
      "149/149 [==============================] - 2s 12ms/step - loss: 0.0063 - val_loss: 0.0090\n",
      "Epoch 121/200\n",
      "149/149 [==============================] - 2s 12ms/step - loss: 0.0062 - val_loss: 0.0093\n",
      "Epoch 122/200\n",
      "149/149 [==============================] - 2s 12ms/step - loss: 0.0064 - val_loss: 0.0078\n",
      "Epoch 123/200\n",
      "149/149 [==============================] - 2s 14ms/step - loss: 0.0061 - val_loss: 0.0096\n",
      "Epoch 124/200\n",
      "149/149 [==============================] - 2s 13ms/step - loss: 0.0066 - val_loss: 0.0090\n",
      "Epoch 125/200\n",
      "149/149 [==============================] - 2s 12ms/step - loss: 0.0063 - val_loss: 0.0089\n",
      "Epoch 126/200\n",
      "149/149 [==============================] - 2s 12ms/step - loss: 0.0060 - val_loss: 0.0095\n",
      "Epoch 127/200\n",
      "149/149 [==============================] - 2s 12ms/step - loss: 0.0060 - val_loss: 0.0101\n",
      "Epoch 128/200\n",
      "149/149 [==============================] - 2s 12ms/step - loss: 0.0060 - val_loss: 0.0085\n",
      "Epoch 129/200\n",
      "149/149 [==============================] - 2s 12ms/step - loss: 0.0061 - val_loss: 0.0084\n",
      "Epoch 130/200\n",
      "149/149 [==============================] - 2s 12ms/step - loss: 0.0058 - val_loss: 0.0097\n",
      "Epoch 131/200\n",
      "149/149 [==============================] - 2s 12ms/step - loss: 0.0057 - val_loss: 0.0100\n",
      "Epoch 132/200\n",
      "149/149 [==============================] - 2s 12ms/step - loss: 0.0058 - val_loss: 0.0106\n",
      "Epoch 133/200\n",
      "149/149 [==============================] - 2s 12ms/step - loss: 0.0058 - val_loss: 0.0099\n",
      "Epoch 134/200\n",
      "149/149 [==============================] - 2s 12ms/step - loss: 0.0058 - val_loss: 0.0106\n",
      "Epoch 135/200\n",
      "149/149 [==============================] - 2s 12ms/step - loss: 0.0057 - val_loss: 0.0101\n",
      "Epoch 136/200\n",
      "149/149 [==============================] - 2s 12ms/step - loss: 0.0056 - val_loss: 0.0099\n",
      "Epoch 137/200\n",
      "149/149 [==============================] - 2s 12ms/step - loss: 0.0056 - val_loss: 0.0104\n",
      "Epoch 138/200\n",
      "149/149 [==============================] - 2s 12ms/step - loss: 0.0055 - val_loss: 0.0108\n",
      "Epoch 139/200\n",
      "149/149 [==============================] - 2s 12ms/step - loss: 0.0054 - val_loss: 0.0103\n",
      "Epoch 140/200\n",
      "149/149 [==============================] - 2s 12ms/step - loss: 0.0054 - val_loss: 0.0107\n",
      "Epoch 141/200\n",
      "149/149 [==============================] - 2s 12ms/step - loss: 0.0053 - val_loss: 0.0118\n",
      "Epoch 142/200\n",
      "149/149 [==============================] - 2s 12ms/step - loss: 0.0055 - val_loss: 0.0110\n",
      "Epoch 143/200\n",
      "149/149 [==============================] - 2s 12ms/step - loss: 0.0053 - val_loss: 0.0114\n",
      "Epoch 144/200\n",
      "149/149 [==============================] - 2s 12ms/step - loss: 0.0051 - val_loss: 0.0114\n",
      "Epoch 145/200\n",
      "149/149 [==============================] - 2s 12ms/step - loss: 0.0052 - val_loss: 0.0109\n",
      "Epoch 146/200\n",
      "149/149 [==============================] - 2s 12ms/step - loss: 0.0052 - val_loss: 0.0117\n",
      "Epoch 147/200\n",
      "149/149 [==============================] - 2s 12ms/step - loss: 0.0051 - val_loss: 0.0116\n",
      "Epoch 148/200\n",
      "149/149 [==============================] - 2s 12ms/step - loss: 0.0048 - val_loss: 0.0119\n",
      "Epoch 149/200\n",
      "149/149 [==============================] - 2s 12ms/step - loss: 0.0049 - val_loss: 0.0125\n",
      "Epoch 150/200\n",
      "149/149 [==============================] - 2s 12ms/step - loss: 0.0050 - val_loss: 0.0112\n",
      "Epoch 151/200\n",
      "149/149 [==============================] - 2s 12ms/step - loss: 0.0049 - val_loss: 0.0112\n",
      "Epoch 152/200\n",
      "149/149 [==============================] - 2s 12ms/step - loss: 0.0047 - val_loss: 0.0115\n",
      "Epoch 153/200\n",
      "149/149 [==============================] - 2s 12ms/step - loss: 0.0047 - val_loss: 0.0118\n",
      "Epoch 154/200\n",
      "149/149 [==============================] - 2s 12ms/step - loss: 0.0045 - val_loss: 0.0121\n",
      "Epoch 155/200\n",
      "149/149 [==============================] - 2s 12ms/step - loss: 0.0046 - val_loss: 0.0120\n",
      "Epoch 156/200\n",
      "149/149 [==============================] - 2s 12ms/step - loss: 0.0045 - val_loss: 0.0132\n",
      "Epoch 157/200\n",
      "149/149 [==============================] - 2s 12ms/step - loss: 0.0044 - val_loss: 0.0128\n",
      "Epoch 158/200\n",
      "149/149 [==============================] - 2s 13ms/step - loss: 0.0043 - val_loss: 0.0122\n",
      "Epoch 159/200\n"
     ]
    },
    {
     "name": "stdout",
     "output_type": "stream",
     "text": [
      "149/149 [==============================] - 2s 12ms/step - loss: 0.0042 - val_loss: 0.0132\n",
      "Epoch 160/200\n",
      "149/149 [==============================] - 2s 12ms/step - loss: 0.0043 - val_loss: 0.0138\n",
      "Epoch 161/200\n",
      "149/149 [==============================] - 2s 12ms/step - loss: 0.0044 - val_loss: 0.0127\n",
      "Epoch 162/200\n",
      "149/149 [==============================] - 2s 12ms/step - loss: 0.0042 - val_loss: 0.0144\n",
      "Epoch 163/200\n",
      "149/149 [==============================] - 2s 12ms/step - loss: 0.0042 - val_loss: 0.0134\n",
      "Epoch 164/200\n",
      "149/149 [==============================] - 2s 12ms/step - loss: 0.0040 - val_loss: 0.0123\n",
      "Epoch 165/200\n",
      "149/149 [==============================] - 2s 12ms/step - loss: 0.0040 - val_loss: 0.0134\n",
      "Epoch 166/200\n",
      "149/149 [==============================] - 2s 12ms/step - loss: 0.0041 - val_loss: 0.0131\n",
      "Epoch 167/200\n",
      "149/149 [==============================] - 2s 12ms/step - loss: 0.0040 - val_loss: 0.0123\n",
      "Epoch 168/200\n",
      "149/149 [==============================] - 2s 12ms/step - loss: 0.0039 - val_loss: 0.0138\n",
      "Epoch 169/200\n",
      "149/149 [==============================] - 2s 12ms/step - loss: 0.0037 - val_loss: 0.0136\n",
      "Epoch 170/200\n",
      "149/149 [==============================] - 2s 12ms/step - loss: 0.0038 - val_loss: 0.0136\n",
      "Epoch 171/200\n",
      "149/149 [==============================] - 2s 12ms/step - loss: 0.0037 - val_loss: 0.0140\n",
      "Epoch 172/200\n",
      "149/149 [==============================] - 2s 12ms/step - loss: 0.0035 - val_loss: 0.0144\n",
      "Epoch 173/200\n",
      "149/149 [==============================] - 2s 12ms/step - loss: 0.0035 - val_loss: 0.0147\n",
      "Epoch 174/200\n",
      "149/149 [==============================] - 2s 12ms/step - loss: 0.0033 - val_loss: 0.0127\n",
      "Epoch 175/200\n",
      "149/149 [==============================] - 2s 12ms/step - loss: 0.0033 - val_loss: 0.0139\n",
      "Epoch 176/200\n",
      "149/149 [==============================] - 2s 12ms/step - loss: 0.0034 - val_loss: 0.0153\n",
      "Epoch 177/200\n",
      "149/149 [==============================] - 2s 12ms/step - loss: 0.0033 - val_loss: 0.0158\n",
      "Epoch 178/200\n",
      "149/149 [==============================] - 2s 12ms/step - loss: 0.0032 - val_loss: 0.0154\n",
      "Epoch 179/200\n",
      "149/149 [==============================] - 2s 12ms/step - loss: 0.0034 - val_loss: 0.0135\n",
      "Epoch 180/200\n",
      "149/149 [==============================] - 2s 12ms/step - loss: 0.0032 - val_loss: 0.0145\n",
      "Epoch 181/200\n",
      "149/149 [==============================] - 2s 12ms/step - loss: 0.0030 - val_loss: 0.0149\n",
      "Epoch 182/200\n",
      "149/149 [==============================] - 2s 12ms/step - loss: 0.0030 - val_loss: 0.0141\n",
      "Epoch 183/200\n",
      "149/149 [==============================] - 2s 12ms/step - loss: 0.0029 - val_loss: 0.0142\n",
      "Epoch 184/200\n",
      "149/149 [==============================] - 2s 12ms/step - loss: 0.0029 - val_loss: 0.0148\n",
      "Epoch 185/200\n",
      "149/149 [==============================] - 2s 12ms/step - loss: 0.0028 - val_loss: 0.0141\n",
      "Epoch 186/200\n",
      "149/149 [==============================] - 2s 12ms/step - loss: 0.0028 - val_loss: 0.0144\n",
      "Epoch 187/200\n",
      "149/149 [==============================] - 2s 12ms/step - loss: 0.0026 - val_loss: 0.0154\n",
      "Epoch 188/200\n",
      "149/149 [==============================] - 2s 12ms/step - loss: 0.0026 - val_loss: 0.0155\n",
      "Epoch 189/200\n",
      "149/149 [==============================] - 2s 12ms/step - loss: 0.0026 - val_loss: 0.0150\n",
      "Epoch 190/200\n",
      "149/149 [==============================] - 2s 12ms/step - loss: 0.0025 - val_loss: 0.0160\n",
      "Epoch 191/200\n",
      "149/149 [==============================] - 2s 13ms/step - loss: 0.0025 - val_loss: 0.0155\n",
      "Epoch 192/200\n",
      "149/149 [==============================] - 2s 13ms/step - loss: 0.0024 - val_loss: 0.0153\n",
      "Epoch 193/200\n",
      "149/149 [==============================] - 2s 14ms/step - loss: 0.0024 - val_loss: 0.0149\n",
      "Epoch 194/200\n",
      "149/149 [==============================] - 2s 12ms/step - loss: 0.0024 - val_loss: 0.0162\n",
      "Epoch 195/200\n",
      "149/149 [==============================] - 2s 12ms/step - loss: 0.0024 - val_loss: 0.0154\n",
      "Epoch 196/200\n",
      "149/149 [==============================] - 2s 12ms/step - loss: 0.0023 - val_loss: 0.0165\n",
      "Epoch 197/200\n",
      "149/149 [==============================] - 2s 12ms/step - loss: 0.0021 - val_loss: 0.0155\n",
      "Epoch 198/200\n",
      "149/149 [==============================] - 2s 12ms/step - loss: 0.0022 - val_loss: 0.0157\n",
      "Epoch 199/200\n",
      "149/149 [==============================] - 2s 13ms/step - loss: 0.0025 - val_loss: 0.0147\n",
      "Epoch 200/200\n",
      "149/149 [==============================] - 2s 13ms/step - loss: 0.0021 - val_loss: 0.0160\n",
      "Wall time: 6min 15s\n"
     ]
    }
   ],
   "source": [
    "%%time\n",
    "\n",
    "hist = model.fit(train_X, train_y,\n",
    "                 epochs = 200, \n",
    "                 batch_size = 16,  \n",
    "                 validation_data = (test_X, test_y))"
   ]
  },
  {
   "cell_type": "markdown",
   "metadata": {
    "id": "Zg95yOFWhkgR"
   },
   "source": [
    "> ## 4) 학습결과 시각화"
   ]
  },
  {
   "cell_type": "code",
   "execution_count": 14,
   "metadata": {
    "colab": {
     "base_uri": "https://localhost:8080/",
     "height": 334
    },
    "executionInfo": {
     "elapsed": 23,
     "status": "ok",
     "timestamp": 1628235146610,
     "user": {
      "displayName": "이정구",
      "photoUrl": "https://lh3.googleusercontent.com/a-/AOh14Ggor3yxeAY0Qx9DjT3OgE5Kvg17x7ah3qRpGUHVgQ=s64",
      "userId": "06746815733591865358"
     },
     "user_tz": -540
    },
    "id": "A8Vr3ug9M9zc",
    "outputId": "8b53bf75-2c95-4b0b-808f-51b259f8306b"
   },
   "outputs": [
    {
     "data": {
      "image/png": "[encoded data removed]",
      "text/plain": [
       "<Figure size 864x360 with 1 Axes>"
      ]
     },
     "metadata": {
      "needs_background": "light"
     },
     "output_type": "display_data"
    }
   ],
   "source": [
    "plt.figure(figsize = (12, 5))\n",
    "plt.plot(hist.history['loss'])\n",
    "plt.plot(hist.history['val_loss'])\n",
    "\n",
    "plt.ylabel('loss')\n",
    "plt.xlabel('epoch')\n",
    "plt.legend(['Train Loss', 'Valid Loss'], loc = 'upper right')\n",
    "plt.show()"
   ]
  },
  {
   "cell_type": "markdown",
   "metadata": {
    "id": "WeiwThOrinOA"
   },
   "source": [
    "> ## 5) Model Evaluate"
   ]
  },
  {
   "cell_type": "code",
   "execution_count": 15,
   "metadata": {
    "colab": {
     "base_uri": "https://localhost:8080/"
    },
    "executionInfo": {
     "elapsed": 612,
     "status": "ok",
     "timestamp": 1628235147208,
     "user": {
      "displayName": "이정구",
      "photoUrl": "https://lh3.googleusercontent.com/a-/AOh14Ggor3yxeAY0Qx9DjT3OgE5Kvg17x7ah3qRpGUHVgQ=s64",
      "userId": "06746815733591865358"
     },
     "user_tz": -540
    },
    "id": "r1q17wACNzKB",
    "outputId": "a6ef74ee-8152-4954-b5ac-b88e8ff47e88"
   },
   "outputs": [
    {
     "name": "stdout",
     "output_type": "stream",
     "text": [
      "Train Score:  0.0017419313080608845\n",
      "Test Score:  0.015957944095134735\n"
     ]
    }
   ],
   "source": [
    "trainScore = model.evaluate(train_X, train_y, verbose = 0)\n",
    "print('Train Score: ', trainScore)\n",
    "\n",
    "testScore = model.evaluate(test_X, test_y, verbose = 0)\n",
    "print('Test Score: ', testScore)"
   ]
  },
  {
   "cell_type": "markdown",
   "metadata": {
    "id": "dqxgKlNhap2N"
   },
   "source": [
    "# V. Model Predict"
   ]
  },
  {
   "cell_type": "code",
   "execution_count": 16,
   "metadata": {
    "colab": {
     "base_uri": "https://localhost:8080/",
     "height": 320
    },
    "executionInfo": {
     "elapsed": 23508,
     "status": "ok",
     "timestamp": 1628235170710,
     "user": {
      "displayName": "이정구",
      "photoUrl": "https://lh3.googleusercontent.com/a-/AOh14Ggor3yxeAY0Qx9DjT3OgE5Kvg17x7ah3qRpGUHVgQ=s64",
      "userId": "06746815733591865358"
     },
     "user_tz": -540
    },
    "id": "7SQlNaHvOeq8",
    "outputId": "ca58edcd-5f81-425f-ad18-bf0977dc72a8"
   },
   "outputs": [
    {
     "data": {
      "image/png": "[encoded data removed]",
      "text/plain": [
       "<Figure size 864x360 with 1 Axes>"
      ]
     },
     "metadata": {
      "needs_background": "light"
     },
     "output_type": "display_data"
    }
   ],
   "source": [
    "look_ahead = 550\n",
    "\n",
    "xhat = test_X[0]\n",
    "\n",
    "predictions = np.zeros((look_ahead, 1))\n",
    "\n",
    "for i in range(look_ahead):\n",
    "    prediction = model.predict(np.array([xhat]), batch_size = 1)\n",
    "    predictions[i] = prediction\n",
    "    xhat = np.vstack([xhat[1:], prediction])\n",
    "    \n",
    "plt.figure(figsize = (12, 5))\n",
    "plt.plot(np.arange(look_ahead), predictions, 'r', label = 'Prediction')\n",
    "plt.plot(np.arange(look_ahead), test_y[:look_ahead], label = 'Test_Data')\n",
    "plt.legend()\n",
    "plt.show()"
   ]
  }
 ],
 "metadata": {
  "accelerator": "GPU",
  "colab": {
   "collapsed_sections": [],
   "name": "202_Stacked_LSTM_Time_Series_GPU.ipynb",
   "provenance": []
  },
  "kernelspec": {
   "display_name": "Python tf25",
   "language": "python",
   "name": "tf25"
  },
  "language_info": {
   "codemirror_mode": {
    "name": "ipython",
    "version": 3
   },
   "file_extension": ".py",
   "mimetype": "text/x-python",
   "name": "python",
   "nbconvert_exporter": "python",
   "pygments_lexer": "ipython3",
   "version": "3.8.8"
  }
 },
 "nbformat": 4,
 "nbformat_minor": 1
}
