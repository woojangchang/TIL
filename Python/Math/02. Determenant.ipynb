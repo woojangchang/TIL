{
 "cells": [
  {
   "cell_type": "code",
   "execution_count": 1,
   "id": "3944ebbf",
   "metadata": {
    "ExecuteTime": {
     "end_time": "2023-06-05T06:51:14.639424Z",
     "start_time": "2023-06-05T06:51:14.636556Z"
    }
   },
   "outputs": [],
   "source": [
    "import numpy as np"
   ]
  },
  {
   "cell_type": "code",
   "execution_count": 2,
   "id": "4c572ccf",
   "metadata": {
    "ExecuteTime": {
     "end_time": "2023-06-05T06:51:20.537650Z",
     "start_time": "2023-06-05T06:51:20.531049Z"
    }
   },
   "outputs": [
    {
     "data": {
      "text/plain": [
       "array([[ 3,  2,  0],\n",
       "       [-1, -3,  6],\n",
       "       [ 2,  3, -5]])"
      ]
     },
     "execution_count": 2,
     "metadata": {},
     "output_type": "execute_result"
    }
   ],
   "source": [
    "A = np.array([[3,2,0], [-1,-3,6], [2,3,-5]])\n",
    "A"
   ]
  },
  {
   "cell_type": "code",
   "execution_count": 3,
   "id": "f9439480",
   "metadata": {
    "ExecuteTime": {
     "end_time": "2023-06-05T06:58:30.783644Z",
     "start_time": "2023-06-05T06:58:30.778585Z"
    }
   },
   "outputs": [
    {
     "data": {
      "text/plain": [
       "[[3, 4], [1, 2]]"
      ]
     },
     "execution_count": 3,
     "metadata": {},
     "output_type": "execute_result"
    }
   ],
   "source": [
    "B = [[3, 4], [1, 2]]\n",
    "B"
   ]
  },
  {
   "cell_type": "code",
   "execution_count": 24,
   "id": "021df708",
   "metadata": {
    "ExecuteTime": {
     "end_time": "2023-06-05T07:13:18.092648Z",
     "start_time": "2023-06-05T07:13:18.090169Z"
    }
   },
   "outputs": [],
   "source": [
    "C = [[1,3,1,4], [3,9,5,15], [0,2,1,1],[0,4,2,3]]"
   ]
  },
  {
   "cell_type": "markdown",
   "id": "529242a6",
   "metadata": {},
   "source": [
    "재귀 이용  \n",
    "\n",
    "det(Aij) = Mij\n",
    "\n",
    "det(A) = a11 * M11 - a12 * M12 + a13 * M13"
   ]
  },
  {
   "cell_type": "code",
   "execution_count": 21,
   "id": "922691e7",
   "metadata": {
    "ExecuteTime": {
     "end_time": "2023-06-05T07:12:54.838685Z",
     "start_time": "2023-06-05T07:12:54.833523Z"
    }
   },
   "outputs": [],
   "source": [
    "def det_rec(A):\n",
    "    \"\"\"\n",
    "    Paramters\n",
    "    ---------\n",
    "    A: n x n 행렬 (list 또는 numpy ndarray)\n",
    "    \n",
    "    \n",
    "    Returns\n",
    "    -------\n",
    "    determenant of A (float)\n",
    "    \"\"\"\n",
    "    \n",
    "    nrows = len(A)\n",
    "    ncols = len(A[0])\n",
    "    \n",
    "    assert nrows == ncols, f'nrows ({nrows}) != ncols ({ncols})'\n",
    "    \n",
    "    import copy\n",
    "    \n",
    "    A = copy.deepcopy(A)\n",
    "    if isinstance(A, np.ndarray):\n",
    "        A = A.tolist()\n",
    "    \n",
    "    if nrows == 2:\n",
    "        return A[0][0] * A[1][1] - A[0][1] * A[1][0]\n",
    "    \n",
    "    \n",
    "    det = 0\n",
    "    for i in range(ncols):\n",
    "        sgn = (-1) ** (i%2)\n",
    "        Aii = [A[j][0:i] + A[j][i+1:] for j in range(1, ncols)]\n",
    "        det += sgn * A[0][i] * det_rec(Aii)\n",
    "        \n",
    "    return det"
   ]
  },
  {
   "cell_type": "code",
   "execution_count": 22,
   "id": "e5348a90",
   "metadata": {
    "ExecuteTime": {
     "end_time": "2023-06-05T07:12:55.470604Z",
     "start_time": "2023-06-05T07:12:55.466110Z"
    }
   },
   "outputs": [
    {
     "data": {
      "text/plain": [
       "5"
      ]
     },
     "execution_count": 22,
     "metadata": {},
     "output_type": "execute_result"
    }
   ],
   "source": [
    "det_rec(A)"
   ]
  },
  {
   "cell_type": "code",
   "execution_count": 23,
   "id": "248e7f89",
   "metadata": {
    "ExecuteTime": {
     "end_time": "2023-06-05T07:12:57.926913Z",
     "start_time": "2023-06-05T07:12:57.923025Z"
    }
   },
   "outputs": [
    {
     "data": {
      "text/plain": [
       "2"
      ]
     },
     "execution_count": 23,
     "metadata": {},
     "output_type": "execute_result"
    }
   ],
   "source": [
    "det_rec(B)"
   ]
  },
  {
   "cell_type": "code",
   "execution_count": 25,
   "id": "26b3e5de",
   "metadata": {
    "ExecuteTime": {
     "end_time": "2023-06-05T07:13:23.901734Z",
     "start_time": "2023-06-05T07:13:23.898379Z"
    }
   },
   "outputs": [
    {
     "data": {
      "text/plain": [
       "-4"
      ]
     },
     "execution_count": 25,
     "metadata": {},
     "output_type": "execute_result"
    }
   ],
   "source": [
    "det_rec(C)"
   ]
  },
  {
   "cell_type": "code",
   "execution_count": 20,
   "id": "3e3a317c",
   "metadata": {
    "ExecuteTime": {
     "end_time": "2023-06-05T07:12:41.771928Z",
     "start_time": "2023-06-05T07:12:41.765786Z"
    }
   },
   "outputs": [
    {
     "data": {
      "text/plain": [
       "5.000000000000002"
      ]
     },
     "execution_count": 20,
     "metadata": {},
     "output_type": "execute_result"
    }
   ],
   "source": [
    "np.linalg.det(A)"
   ]
  },
  {
   "cell_type": "code",
   "execution_count": 26,
   "id": "77034738",
   "metadata": {
    "ExecuteTime": {
     "end_time": "2023-06-05T07:13:31.246726Z",
     "start_time": "2023-06-05T07:13:31.242430Z"
    }
   },
   "outputs": [
    {
     "data": {
      "text/plain": [
       "2.0000000000000004"
      ]
     },
     "execution_count": 26,
     "metadata": {},
     "output_type": "execute_result"
    }
   ],
   "source": [
    "np.linalg.det(B)"
   ]
  },
  {
   "cell_type": "code",
   "execution_count": 27,
   "id": "8f74da70",
   "metadata": {
    "ExecuteTime": {
     "end_time": "2023-06-05T07:13:34.174593Z",
     "start_time": "2023-06-05T07:13:34.170596Z"
    }
   },
   "outputs": [
    {
     "data": {
      "text/plain": [
       "-3.999999999999999"
      ]
     },
     "execution_count": 27,
     "metadata": {},
     "output_type": "execute_result"
    }
   ],
   "source": [
    "np.linalg.det(C)"
   ]
  },
  {
   "cell_type": "code",
   "execution_count": null,
   "id": "483bbe8c",
   "metadata": {},
   "outputs": [],
   "source": []
  }
 ],
 "metadata": {
  "kernelspec": {
   "display_name": "Python 3.11",
   "language": "python",
   "name": "py311"
  },
  "language_info": {
   "codemirror_mode": {
    "name": "ipython",
    "version": 3
   },
   "file_extension": ".py",
   "mimetype": "text/x-python",
   "name": "python",
   "nbconvert_exporter": "python",
   "pygments_lexer": "ipython3",
   "version": "3.11.0"
  },
  "toc": {
   "base_numbering": 1,
   "nav_menu": {},
   "number_sections": true,
   "sideBar": true,
   "skip_h1_title": false,
   "title_cell": "Table of Contents",
   "title_sidebar": "Contents",
   "toc_cell": false,
   "toc_position": {},
   "toc_section_display": true,
   "toc_window_display": false
  },
  "varInspector": {
   "cols": {
    "lenName": 16,
    "lenType": 16,
    "lenVar": 40
   },
   "kernels_config": {
    "python": {
     "delete_cmd_postfix": "",
     "delete_cmd_prefix": "del ",
     "library": "var_list.py",
     "varRefreshCmd": "print(var_dic_list())"
    },
    "r": {
     "delete_cmd_postfix": ") ",
     "delete_cmd_prefix": "rm(",
     "library": "var_list.r",
     "varRefreshCmd": "cat(var_dic_list()) "
    }
   },
   "types_to_exclude": [
    "module",
    "function",
    "builtin_function_or_method",
    "instance",
    "_Feature"
   ],
   "window_display": false
  }
 },
 "nbformat": 4,
 "nbformat_minor": 5
}
