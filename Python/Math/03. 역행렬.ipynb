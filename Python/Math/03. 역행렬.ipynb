{
 "cells": [
  {
   "cell_type": "code",
   "execution_count": 1,
   "id": "3d769601",
   "metadata": {
    "ExecuteTime": {
     "end_time": "2023-06-09T01:12:09.032414Z",
     "start_time": "2023-06-09T01:12:09.027392Z"
    }
   },
   "outputs": [],
   "source": [
    "def det_rec(A):\n",
    "    \"\"\"\n",
    "    Paramters\n",
    "    ---------\n",
    "    A: n x n 행렬 (list 또는 numpy ndarray)\n",
    "    \n",
    "    \n",
    "    Returns\n",
    "    -------\n",
    "    determenant of A (float)\n",
    "    \"\"\"\n",
    "    \n",
    "    nrows = len(A)\n",
    "    ncols = len(A[0])\n",
    "    \n",
    "    assert nrows == ncols, f'nrows ({nrows}) != ncols ({ncols})'\n",
    "    \n",
    "    import copy\n",
    "    \n",
    "    A = copy.deepcopy(A)\n",
    "    if isinstance(A, np.ndarray):\n",
    "        A = A.tolist()\n",
    "    \n",
    "    if nrows == 2:\n",
    "        return A[0][0] * A[1][1] - A[0][1] * A[1][0]\n",
    "    \n",
    "    \n",
    "    det = 0\n",
    "    for i in range(ncols):\n",
    "        sgn = (-1) ** (i%2)\n",
    "        Aii = [A[j][0:i] + A[j][i+1:] for j in range(1, ncols)]\n",
    "        det += sgn * A[0][i] * det_rec(Aii)\n",
    "        \n",
    "    return det"
   ]
  },
  {
   "cell_type": "code",
   "execution_count": 2,
   "id": "0c6893aa",
   "metadata": {
    "ExecuteTime": {
     "end_time": "2023-06-09T01:12:09.118461Z",
     "start_time": "2023-06-09T01:12:09.034411Z"
    }
   },
   "outputs": [],
   "source": [
    "import numpy as np"
   ]
  },
  {
   "cell_type": "code",
   "execution_count": 3,
   "id": "a44f8d30",
   "metadata": {
    "ExecuteTime": {
     "end_time": "2023-06-09T01:12:09.123996Z",
     "start_time": "2023-06-09T01:12:09.120434Z"
    }
   },
   "outputs": [],
   "source": [
    "A = np.array([[3,2,0], [-1,-3,6], [2,3,-5]])\n",
    "B = [[3, 4], [1, 2]]\n",
    "C = [[1,3,1,4], [3,9,5,15], [0,2,1,1],[0,4,2,3]]"
   ]
  },
  {
   "cell_type": "markdown",
   "id": "14051e77",
   "metadata": {},
   "source": [
    "$M_{ij}=det(A_{ij})$, minor determinant  \n",
    "$C_{ij} = (-1)^{i+j}M_{ij}$, cofactor  \n",
    "$\\text{adj}(A) = C^T$, adjoint matrix  \n",
    "$A^{-1} = \\frac{1}{\\det(A)}\\text{adj}(A)$"
   ]
  },
  {
   "cell_type": "code",
   "execution_count": 4,
   "id": "245a9729",
   "metadata": {
    "ExecuteTime": {
     "end_time": "2023-06-09T01:12:09.130395Z",
     "start_time": "2023-06-09T01:12:09.125995Z"
    }
   },
   "outputs": [],
   "source": [
    "def Cofactor(A):\n",
    "    \"\"\"\n",
    "    A: 3 x 3 이상인 행렬\n",
    "    \"\"\"\n",
    "    import copy\n",
    "    \n",
    "    A = copy.deepcopy(A)\n",
    "    if isinstance(A, np.ndarray):\n",
    "        A = A.tolist()\n",
    "    \n",
    "    nrows = len(A)\n",
    "    ncols = len(A[0])\n",
    "        \n",
    "    C = []\n",
    "    \n",
    "    for i in range(nrows):\n",
    "        Ci = []\n",
    "        for j in range(ncols):\n",
    "            Aij = [A[k][:j] + A[k][j+1:] for k in range(nrows) if k != i]\n",
    "            Cij = (-1)**(i+j) * det_rec(Aij)\n",
    "            \n",
    "            Ci.append(Cij)\n",
    "        \n",
    "        C.append(Ci)\n",
    "    \n",
    "    return C"
   ]
  },
  {
   "cell_type": "code",
   "execution_count": 5,
   "id": "094f150b",
   "metadata": {
    "ExecuteTime": {
     "end_time": "2023-06-09T01:12:09.138242Z",
     "start_time": "2023-06-09T01:12:09.131394Z"
    }
   },
   "outputs": [
    {
     "data": {
      "text/plain": [
       "[[-3, 7, 3], [10, -15, -5], [12, -18, -7]]"
      ]
     },
     "execution_count": 5,
     "metadata": {},
     "output_type": "execute_result"
    }
   ],
   "source": [
    "Co = Cofactor(A)\n",
    "Co"
   ]
  },
  {
   "cell_type": "code",
   "execution_count": 6,
   "id": "ee24b57f",
   "metadata": {
    "ExecuteTime": {
     "end_time": "2023-06-09T01:12:09.142799Z",
     "start_time": "2023-06-09T01:12:09.139242Z"
    }
   },
   "outputs": [],
   "source": [
    "def transpose(A):\n",
    "    \"\"\"\n",
    "    A^T\n",
    "    \"\"\"\n",
    "    import copy\n",
    "    \n",
    "    A = copy.deepcopy(A)\n",
    "    if isinstance(A, np.ndarray):\n",
    "        A = A.tolist()\n",
    "\n",
    "    nrows = len(A)\n",
    "    ncols = len(A[0])\n",
    "    \n",
    "    AT = []\n",
    "    for j in range(ncols):\n",
    "        AT_row = []\n",
    "        \n",
    "        for i in range(nrows):\n",
    "            AT_row.append(A[i][j])\n",
    "            \n",
    "        AT.append(AT_row)\n",
    "        \n",
    "    return AT"
   ]
  },
  {
   "cell_type": "code",
   "execution_count": 7,
   "id": "cab79259",
   "metadata": {
    "ExecuteTime": {
     "end_time": "2023-06-09T01:12:09.148692Z",
     "start_time": "2023-06-09T01:12:09.143799Z"
    }
   },
   "outputs": [
    {
     "data": {
      "text/plain": [
       "[[-3, 10, 12], [7, -15, -18], [3, -5, -7]]"
      ]
     },
     "execution_count": 7,
     "metadata": {},
     "output_type": "execute_result"
    }
   ],
   "source": [
    "T = transpose(Co)\n",
    "T"
   ]
  },
  {
   "cell_type": "code",
   "execution_count": 8,
   "id": "a794a42c",
   "metadata": {
    "ExecuteTime": {
     "end_time": "2023-06-09T01:12:09.153875Z",
     "start_time": "2023-06-09T01:12:09.149690Z"
    }
   },
   "outputs": [],
   "source": [
    "def inv(A):\n",
    "    import copy\n",
    "    \n",
    "    A = copy.deepcopy(A)\n",
    "    if isinstance(A, np.ndarray):\n",
    "        A = A.tolist()\n",
    "    \n",
    "    nrows = len(A)\n",
    "    ncols = len(A[0])\n",
    "    \n",
    "    if nrows == 2:\n",
    "        det = det_rec(A)\n",
    "        return [[A[1][1] / det, -A[0][1] / det], [-A[1][0] / det, A[0][0] / det]]\n",
    "    \n",
    "    det = det_rec(A)\n",
    "    \n",
    "    assert det != 0, \"det(A) != 0\"\n",
    "    \n",
    "    adjA = transpose(Cofactor(A))\n",
    "    \n",
    "    invA = []\n",
    "    for i in range(nrows):\n",
    "        row = []\n",
    "        for j in range(ncols):\n",
    "            row.append(adjA[i][j] / det)\n",
    "            \n",
    "        invA.append(row)\n",
    "        \n",
    "    return invA"
   ]
  },
  {
   "cell_type": "code",
   "execution_count": 9,
   "id": "8a355ab2",
   "metadata": {
    "ExecuteTime": {
     "end_time": "2023-06-09T01:12:09.158570Z",
     "start_time": "2023-06-09T01:12:09.154880Z"
    }
   },
   "outputs": [
    {
     "data": {
      "text/plain": [
       "[[-0.6, 2.0, 2.4], [1.4, -3.0, -3.6], [0.6, -1.0, -1.4]]"
      ]
     },
     "execution_count": 9,
     "metadata": {},
     "output_type": "execute_result"
    }
   ],
   "source": [
    "inv(A)"
   ]
  },
  {
   "cell_type": "code",
   "execution_count": 10,
   "id": "57f8632c",
   "metadata": {
    "ExecuteTime": {
     "end_time": "2023-06-09T01:12:09.167281Z",
     "start_time": "2023-06-09T01:12:09.159574Z"
    }
   },
   "outputs": [
    {
     "data": {
      "text/plain": [
       "array([[-0.6,  2. ,  2.4],\n",
       "       [ 1.4, -3. , -3.6],\n",
       "       [ 0.6, -1. , -1.4]])"
      ]
     },
     "execution_count": 10,
     "metadata": {},
     "output_type": "execute_result"
    }
   ],
   "source": [
    "np.linalg.inv(A)"
   ]
  },
  {
   "cell_type": "code",
   "execution_count": 11,
   "id": "934e4659",
   "metadata": {
    "ExecuteTime": {
     "end_time": "2023-06-09T01:12:09.171780Z",
     "start_time": "2023-06-09T01:12:09.168280Z"
    }
   },
   "outputs": [
    {
     "data": {
      "text/plain": [
       "[[1.0, -2.0], [-0.5, 1.5]]"
      ]
     },
     "execution_count": 11,
     "metadata": {},
     "output_type": "execute_result"
    }
   ],
   "source": [
    "inv(B)"
   ]
  },
  {
   "cell_type": "code",
   "execution_count": 12,
   "id": "f073636c",
   "metadata": {
    "ExecuteTime": {
     "end_time": "2023-06-09T01:12:09.176307Z",
     "start_time": "2023-06-09T01:12:09.172779Z"
    }
   },
   "outputs": [
    {
     "data": {
      "text/plain": [
       "array([[ 1. , -2. ],\n",
       "       [-0.5,  1.5]])"
      ]
     },
     "execution_count": 12,
     "metadata": {},
     "output_type": "execute_result"
    }
   ],
   "source": [
    "np.linalg.inv(B)"
   ]
  },
  {
   "cell_type": "code",
   "execution_count": 13,
   "id": "3f30e443",
   "metadata": {
    "ExecuteTime": {
     "end_time": "2023-06-09T01:12:09.183458Z",
     "start_time": "2023-06-09T01:12:09.179299Z"
    }
   },
   "outputs": [
    {
     "data": {
      "text/plain": [
       "[[0.25, 0.25, 5.0, -3.25],\n",
       " [0.75, -0.25, -0.0, 0.25],\n",
       " [-1.5, 0.5, 3.0, -1.5],\n",
       " [-0.0, -0.0, -2.0, 1.0]]"
      ]
     },
     "execution_count": 13,
     "metadata": {},
     "output_type": "execute_result"
    }
   ],
   "source": [
    "inv(C)"
   ]
  },
  {
   "cell_type": "code",
   "execution_count": 14,
   "id": "a08c6ae6",
   "metadata": {
    "ExecuteTime": {
     "end_time": "2023-06-09T01:12:09.188201Z",
     "start_time": "2023-06-09T01:12:09.184457Z"
    }
   },
   "outputs": [
    {
     "data": {
      "text/plain": [
       "array([[ 2.5000000e-01,  2.5000000e-01,  5.0000000e+00, -3.2500000e+00],\n",
       "       [ 7.5000000e-01, -2.5000000e-01, -4.4408921e-16,  2.5000000e-01],\n",
       "       [-1.5000000e+00,  5.0000000e-01,  3.0000000e+00, -1.5000000e+00],\n",
       "       [-0.0000000e+00, -0.0000000e+00, -2.0000000e+00,  1.0000000e+00]])"
      ]
     },
     "execution_count": 14,
     "metadata": {},
     "output_type": "execute_result"
    }
   ],
   "source": [
    "np.linalg.inv(C)"
   ]
  },
  {
   "cell_type": "code",
   "execution_count": 15,
   "id": "16069347",
   "metadata": {
    "ExecuteTime": {
     "end_time": "2023-06-09T01:12:25.541402Z",
     "start_time": "2023-06-09T01:12:25.537908Z"
    }
   },
   "outputs": [],
   "source": [
    "X = np.array([[3, 1, 2],[2, 6, -1],[4, 0, -1]])\n",
    "y = np.array([5, 1, 3])"
   ]
  },
  {
   "cell_type": "code",
   "execution_count": 19,
   "id": "251433d9",
   "metadata": {
    "ExecuteTime": {
     "end_time": "2023-06-09T01:49:17.075075Z",
     "start_time": "2023-06-09T01:49:17.069061Z"
    }
   },
   "outputs": [],
   "source": [
    "def multiple_matrix(A, b):\n",
    "    \"\"\"\n",
    "    A: m x n matrix\n",
    "    b: n x k matrix\n",
    "    \"\"\"\n",
    "    import copy\n",
    "    \n",
    "    X = copy.deepcopy(A)\n",
    "    y = copy.deepcopy(b)\n",
    "    \n",
    "    if isinstance(X, np.ndarray):\n",
    "        X = X.tolist()\n",
    "    \n",
    "    if isinstance(y, np.ndarray):\n",
    "        y = y.tolist()\n",
    "        \n",
    "    ncols = len(X[0])\n",
    "    nrows = len(y)\n",
    "    \n",
    "    assert ncols == nrows\n",
    "    \n",
    "    Z = []\n",
    "    \n",
    "    if not isinstance(y[0], list): # k = 1\n",
    "        for row in X:\n",
    "            element = 0\n",
    "            for j in range(ncols):\n",
    "                element += row[j] * y[j]\n",
    "            \n",
    "            Z.append(element)\n",
    "        \n",
    "        return Z\n",
    "    \n",
    "    \n",
    "    for i, row in enumerate(X):\n",
    "        zrow = []\n",
    "        for k in range(len(y[0])):\n",
    "            element = 0\n",
    "            \n",
    "            for j in range(ncols):\n",
    "                element += row[j] * y[j][k]\n",
    "                \n",
    "            zrow.append(element)\n",
    "            \n",
    "        Z.append(zrow)\n",
    "        \n",
    "    return Z"
   ]
  },
  {
   "cell_type": "code",
   "execution_count": 23,
   "id": "34f64eed",
   "metadata": {
    "ExecuteTime": {
     "end_time": "2023-06-09T01:50:21.157280Z",
     "start_time": "2023-06-09T01:50:21.153875Z"
    }
   },
   "outputs": [],
   "source": [
    "def solve(A, b):\n",
    "    \"\"\"\n",
    "    연립 방정식 풀기\n",
    "    입력값: 솔루션을 구하고 싶은 A, b\n",
    "    출력값: 방정식의 솔루션 sol\n",
    "    \"\"\"\n",
    "    Ainv = inv(A)\n",
    "    \n",
    "    return multiple_matrix(Ainv, b)"
   ]
  },
  {
   "cell_type": "code",
   "execution_count": 24,
   "id": "831b0709",
   "metadata": {
    "ExecuteTime": {
     "end_time": "2023-06-09T01:50:23.549313Z",
     "start_time": "2023-06-09T01:50:23.544960Z"
    }
   },
   "outputs": [
    {
     "data": {
      "text/plain": [
       "[1.0, 0.0, 1.0000000000000002]"
      ]
     },
     "execution_count": 24,
     "metadata": {},
     "output_type": "execute_result"
    }
   ],
   "source": [
    "solve(X, y)"
   ]
  },
  {
   "cell_type": "code",
   "execution_count": 25,
   "id": "4b30a187",
   "metadata": {
    "ExecuteTime": {
     "end_time": "2023-06-09T01:50:38.079548Z",
     "start_time": "2023-06-09T01:50:38.073416Z"
    }
   },
   "outputs": [
    {
     "data": {
      "text/plain": [
       "array([1., 0., 1.])"
      ]
     },
     "execution_count": 25,
     "metadata": {},
     "output_type": "execute_result"
    }
   ],
   "source": [
    "np.linalg.solve(X, y)"
   ]
  },
  {
   "cell_type": "code",
   "execution_count": null,
   "id": "47f1025e",
   "metadata": {},
   "outputs": [],
   "source": []
  }
 ],
 "metadata": {
  "kernelspec": {
   "display_name": "Python 3.11",
   "language": "python",
   "name": "py311"
  },
  "language_info": {
   "codemirror_mode": {
    "name": "ipython",
    "version": 3
   },
   "file_extension": ".py",
   "mimetype": "text/x-python",
   "name": "python",
   "nbconvert_exporter": "python",
   "pygments_lexer": "ipython3",
   "version": "3.11.0"
  },
  "toc": {
   "base_numbering": 1,
   "nav_menu": {},
   "number_sections": true,
   "sideBar": true,
   "skip_h1_title": false,
   "title_cell": "Table of Contents",
   "title_sidebar": "Contents",
   "toc_cell": false,
   "toc_position": {},
   "toc_section_display": true,
   "toc_window_display": false
  },
  "varInspector": {
   "cols": {
    "lenName": 16,
    "lenType": 16,
    "lenVar": 40
   },
   "kernels_config": {
    "python": {
     "delete_cmd_postfix": "",
     "delete_cmd_prefix": "del ",
     "library": "var_list.py",
     "varRefreshCmd": "print(var_dic_list())"
    },
    "r": {
     "delete_cmd_postfix": ") ",
     "delete_cmd_prefix": "rm(",
     "library": "var_list.r",
     "varRefreshCmd": "cat(var_dic_list()) "
    }
   },
   "types_to_exclude": [
    "module",
    "function",
    "builtin_function_or_method",
    "instance",
    "_Feature"
   ],
   "window_display": false
  }
 },
 "nbformat": 4,
 "nbformat_minor": 5
}
