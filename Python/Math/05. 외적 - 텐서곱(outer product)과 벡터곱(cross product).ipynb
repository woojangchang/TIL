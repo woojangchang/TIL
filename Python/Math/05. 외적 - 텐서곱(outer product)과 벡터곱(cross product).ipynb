{
 "cells": [
  {
   "attachments": {
    "image.png": {
     "image/png": "[encoded data removed]"
    }
   },
   "cell_type": "markdown",
   "id": "8ec2b75a",
   "metadata": {},
   "source": [
    "![image.png](attachment:image.png)"
   ]
  },
  {
   "cell_type": "code",
   "execution_count": 1,
   "id": "5137efe6",
   "metadata": {
    "ExecuteTime": {
     "end_time": "2023-06-09T05:24:25.643607Z",
     "start_time": "2023-06-09T05:24:25.639468Z"
    }
   },
   "outputs": [],
   "source": [
    "def outer_product(u, v):\n",
    "    nrows = len(u)\n",
    "    ncols = len(v)\n",
    "    \n",
    "    w = []\n",
    "    \n",
    "    for i in range(nrows):\n",
    "        wrow = []\n",
    "        for j in range(ncols):\n",
    "            wrow.append(u[i] * v[j])\n",
    "        \n",
    "        w.append(wrow)\n",
    "        \n",
    "    return w"
   ]
  },
  {
   "cell_type": "code",
   "execution_count": 2,
   "id": "0b882b37",
   "metadata": {
    "ExecuteTime": {
     "end_time": "2023-06-09T05:24:45.070023Z",
     "start_time": "2023-06-09T05:24:45.064174Z"
    }
   },
   "outputs": [
    {
     "data": {
      "text/plain": [
       "[[4, 5], [8, 10], [12, 15]]"
      ]
     },
     "execution_count": 2,
     "metadata": {},
     "output_type": "execute_result"
    }
   ],
   "source": [
    "a = [1, 2, 3]\n",
    "b = [4, 5]\n",
    "\n",
    "outer_product(a, b)"
   ]
  },
  {
   "cell_type": "code",
   "execution_count": 13,
   "id": "bbcc0de6",
   "metadata": {
    "ExecuteTime": {
     "end_time": "2023-06-09T05:46:07.853579Z",
     "start_time": "2023-06-09T05:46:07.847669Z"
    }
   },
   "outputs": [],
   "source": [
    "from linalg.matrix import determinant\n",
    "\n",
    "def cross_product(u, v):\n",
    "    assert len(u) == len(v) == 3\n",
    "    import copy\n",
    "    u = copy.deepcopy(u)\n",
    "    v = copy.deepcopy(v)\n",
    "    \n",
    "    w = []\n",
    "    \n",
    "    for i in range(3):\n",
    "        sgn = (-1)**i\n",
    "        m = [u[:i] + u[i+1:], v[:i] + v[i+1:]]\n",
    "        w.append(sgn*determinant(m))\n",
    "        \n",
    "    return w"
   ]
  },
  {
   "cell_type": "code",
   "execution_count": 14,
   "id": "4e6d31f6",
   "metadata": {
    "ExecuteTime": {
     "end_time": "2023-06-09T05:46:09.259499Z",
     "start_time": "2023-06-09T05:46:09.255591Z"
    }
   },
   "outputs": [
    {
     "data": {
      "text/plain": [
       "[0, 0, 1]"
      ]
     },
     "execution_count": 14,
     "metadata": {},
     "output_type": "execute_result"
    }
   ],
   "source": [
    "u = [1, 0, 0]\n",
    "v = [0, 1, 0]\n",
    "\n",
    "cross_product(u, v)"
   ]
  },
  {
   "cell_type": "code",
   "execution_count": 15,
   "id": "8d786790",
   "metadata": {
    "ExecuteTime": {
     "end_time": "2023-06-09T05:46:09.757310Z",
     "start_time": "2023-06-09T05:46:09.752164Z"
    }
   },
   "outputs": [
    {
     "data": {
      "text/plain": [
       "[-43, 13, 1]"
      ]
     },
     "execution_count": 15,
     "metadata": {},
     "output_type": "execute_result"
    }
   ],
   "source": [
    "a = [1, 3, 4]\n",
    "b = [2, 7, -5]\n",
    "\n",
    "c = cross_product(a, b)\n",
    "c"
   ]
  },
  {
   "cell_type": "code",
   "execution_count": 16,
   "id": "aed5a111",
   "metadata": {
    "ExecuteTime": {
     "end_time": "2023-06-09T05:46:10.309312Z",
     "start_time": "2023-06-09T05:46:10.303910Z"
    }
   },
   "outputs": [
    {
     "data": {
      "text/plain": [
       "0"
      ]
     },
     "execution_count": 16,
     "metadata": {},
     "output_type": "execute_result"
    }
   ],
   "source": [
    "from linalg.vector import inner_product\n",
    "\n",
    "inner_product(c, a)"
   ]
  },
  {
   "cell_type": "code",
   "execution_count": 17,
   "id": "3ea71e7f",
   "metadata": {
    "ExecuteTime": {
     "end_time": "2023-06-09T05:46:10.709107Z",
     "start_time": "2023-06-09T05:46:10.705545Z"
    }
   },
   "outputs": [
    {
     "data": {
      "text/plain": [
       "0"
      ]
     },
     "execution_count": 17,
     "metadata": {},
     "output_type": "execute_result"
    }
   ],
   "source": [
    "inner_product(c, b)"
   ]
  },
  {
   "cell_type": "code",
   "execution_count": 19,
   "id": "2236048a",
   "metadata": {
    "ExecuteTime": {
     "end_time": "2023-06-09T05:46:22.925519Z",
     "start_time": "2023-06-09T05:46:22.920322Z"
    }
   },
   "outputs": [
    {
     "data": {
      "text/plain": [
       "[0, 0, 0]"
      ]
     },
     "execution_count": 19,
     "metadata": {},
     "output_type": "execute_result"
    }
   ],
   "source": [
    "cross_product(a, a)"
   ]
  },
  {
   "cell_type": "code",
   "execution_count": null,
   "id": "1e62bc95",
   "metadata": {},
   "outputs": [],
   "source": []
  },
  {
   "cell_type": "code",
   "execution_count": null,
   "id": "1cd928d5",
   "metadata": {},
   "outputs": [],
   "source": []
  }
 ],
 "metadata": {
  "kernelspec": {
   "display_name": "Python 3.11",
   "language": "python",
   "name": "py311"
  },
  "language_info": {
   "codemirror_mode": {
    "name": "ipython",
    "version": 3
   },
   "file_extension": ".py",
   "mimetype": "text/x-python",
   "name": "python",
   "nbconvert_exporter": "python",
   "pygments_lexer": "ipython3",
   "version": "3.11.0"
  },
  "toc": {
   "base_numbering": 1,
   "nav_menu": {},
   "number_sections": false,
   "sideBar": true,
   "skip_h1_title": false,
   "title_cell": "Table of Contents",
   "title_sidebar": "Contents",
   "toc_cell": false,
   "toc_position": {},
   "toc_section_display": true,
   "toc_window_display": false
  },
  "varInspector": {
   "cols": {
    "lenName": 16,
    "lenType": 16,
    "lenVar": 40
   },
   "kernels_config": {
    "python": {
     "delete_cmd_postfix": "",
     "delete_cmd_prefix": "del ",
     "library": "var_list.py",
     "varRefreshCmd": "print(var_dic_list())"
    },
    "r": {
     "delete_cmd_postfix": ") ",
     "delete_cmd_prefix": "rm(",
     "library": "var_list.r",
     "varRefreshCmd": "cat(var_dic_list()) "
    }
   },
   "types_to_exclude": [
    "module",
    "function",
    "builtin_function_or_method",
    "instance",
    "_Feature"
   ],
   "window_display": false
  }
 },
 "nbformat": 4,
 "nbformat_minor": 5
}
