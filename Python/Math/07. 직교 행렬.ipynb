{
 "cells": [
  {
   "cell_type": "code",
   "execution_count": 1,
   "id": "1b817d71",
   "metadata": {
    "ExecuteTime": {
     "end_time": "2023-06-12T07:12:30.674171Z",
     "start_time": "2023-06-12T07:12:30.670640Z"
    }
   },
   "outputs": [],
   "source": [
    "from linalg.matrix import transpose, multiple_matrix"
   ]
  },
  {
   "cell_type": "code",
   "execution_count": 7,
   "id": "0da927cb",
   "metadata": {
    "ExecuteTime": {
     "end_time": "2023-06-12T07:14:49.197870Z",
     "start_time": "2023-06-12T07:14:49.192778Z"
    }
   },
   "outputs": [],
   "source": [
    "A = [[2/3, -2/3, 1/3], [2/3, 1/3, -2/3], [1/3, 2/3, 2/3]]\n",
    "\n",
    "B = [[1/2**0.5, -1/3**0.5, 1/6**0.5], [0, 1/3**0.5, 2/6**0.5], [1/2**0.5, 1/3**0.5, -1/6**0.5]]"
   ]
  },
  {
   "cell_type": "code",
   "execution_count": 8,
   "id": "04f5b815",
   "metadata": {
    "ExecuteTime": {
     "end_time": "2023-06-12T07:14:59.163341Z",
     "start_time": "2023-06-12T07:14:59.159201Z"
    }
   },
   "outputs": [
    {
     "data": {
      "text/plain": [
       "[[1.0, 0.0, 0.0], [0.0, 1.0, 0.0], [0.0, 0.0, 1.0]]"
      ]
     },
     "execution_count": 8,
     "metadata": {},
     "output_type": "execute_result"
    }
   ],
   "source": [
    "multiple_matrix(transpose(A), A)"
   ]
  },
  {
   "cell_type": "code",
   "execution_count": 9,
   "id": "bdf530c1",
   "metadata": {
    "ExecuteTime": {
     "end_time": "2023-06-12T07:15:05.851178Z",
     "start_time": "2023-06-12T07:15:05.846526Z"
    }
   },
   "outputs": [
    {
     "data": {
      "text/plain": [
       "[[0.9999999999999998, 0.0, 0.0],\n",
       " [0.0, 1.0000000000000002, 0.0],\n",
       " [0.0, 0.0, 1.0000000000000002]]"
      ]
     },
     "execution_count": 9,
     "metadata": {},
     "output_type": "execute_result"
    }
   ],
   "source": [
    "multiple_matrix(transpose(B), B)"
   ]
  },
  {
   "cell_type": "code",
   "execution_count": null,
   "id": "863fda13",
   "metadata": {},
   "outputs": [],
   "source": []
  }
 ],
 "metadata": {
  "kernelspec": {
   "display_name": "Python 3.11",
   "language": "python",
   "name": "py311"
  },
  "language_info": {
   "codemirror_mode": {
    "name": "ipython",
    "version": 3
   },
   "file_extension": ".py",
   "mimetype": "text/x-python",
   "name": "python",
   "nbconvert_exporter": "python",
   "pygments_lexer": "ipython3",
   "version": "3.11.0"
  },
  "toc": {
   "base_numbering": 1,
   "nav_menu": {},
   "number_sections": false,
   "sideBar": true,
   "skip_h1_title": false,
   "title_cell": "Table of Contents",
   "title_sidebar": "Contents",
   "toc_cell": false,
   "toc_position": {},
   "toc_section_display": true,
   "toc_window_display": false
  },
  "varInspector": {
   "cols": {
    "lenName": 16,
    "lenType": 16,
    "lenVar": 40
   },
   "kernels_config": {
    "python": {
     "delete_cmd_postfix": "",
     "delete_cmd_prefix": "del ",
     "library": "var_list.py",
     "varRefreshCmd": "print(var_dic_list())"
    },
    "r": {
     "delete_cmd_postfix": ") ",
     "delete_cmd_prefix": "rm(",
     "library": "var_list.r",
     "varRefreshCmd": "cat(var_dic_list()) "
    }
   },
   "types_to_exclude": [
    "module",
    "function",
    "builtin_function_or_method",
    "instance",
    "_Feature"
   ],
   "window_display": false
  }
 },
 "nbformat": 4,
 "nbformat_minor": 5
}
