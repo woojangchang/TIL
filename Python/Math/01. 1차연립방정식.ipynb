{
 "cells": [
  {
   "cell_type": "code",
   "execution_count": 1,
   "id": "4b3e90d1",
   "metadata": {
    "ExecuteTime": {
     "end_time": "2023-06-05T00:02:49.459729Z",
     "start_time": "2023-06-05T00:02:49.455441Z"
    }
   },
   "outputs": [],
   "source": [
    "import numpy as np\n",
    "\n",
    "X = np.array([[3, 1, 2],[2, 6, -1],[4, 0, -1]])\n",
    "y = np.array([5, 1, 3])"
   ]
  },
  {
   "cell_type": "code",
   "execution_count": 2,
   "id": "42f6c113",
   "metadata": {
    "ExecuteTime": {
     "end_time": "2023-06-05T00:02:53.885949Z",
     "start_time": "2023-06-05T00:02:53.879018Z"
    }
   },
   "outputs": [
    {
     "data": {
      "text/plain": [
       "(array([[ 3,  1,  2],\n",
       "        [ 2,  6, -1],\n",
       "        [ 4,  0, -1]]),\n",
       " array([5, 1, 3]))"
      ]
     },
     "execution_count": 2,
     "metadata": {},
     "output_type": "execute_result"
    }
   ],
   "source": [
    "X, y"
   ]
  },
  {
   "cell_type": "markdown",
   "id": "659a5cae",
   "metadata": {},
   "source": [
    "1. 1행 1열을 1로 만들기\n",
    "2. 2행에 1행\\*2행 1열을 빼서 2행 1열을 0으로 만들기\n",
    "3. 2행 2열을 1로 만들기\n",
    "4. 3행에 1행\\*3행 1열과 2행\\*3행 2열을 빼서 3행 1, 2열을 0으로 만들기\n",
    "5. n행 n열이 1이 될 때까지 반복\n",
    "6. 끝에서부터 차례대로 x값 계산  \n",
    "※ k행 k열이 0인 경우는 생각되지 않음 (원래는 행 스위치 필요 및 determinant가 0이 아닐 때만 사용)"
   ]
  },
  {
   "cell_type": "code",
   "execution_count": 3,
   "id": "40ce26a0",
   "metadata": {
    "ExecuteTime": {
     "end_time": "2023-06-05T02:01:57.517776Z",
     "start_time": "2023-06-05T02:01:57.511818Z"
    }
   },
   "outputs": [],
   "source": [
    "def solve(A, b):\n",
    "    \"\"\"\n",
    "    연립 방정식 풀기\n",
    "    입력값: 솔루션을 구하고 싶은 A, b\n",
    "    출력값: 방정식의 솔루션 sol\n",
    "    \"\"\"\n",
    "    import copy\n",
    "    \n",
    "    X = copy.deepcopy(A)\n",
    "    sol = copy.deepcopy(b)\n",
    "    n = len(X)\n",
    "\n",
    "    for i in range(0,n):\n",
    "        x_row = X[i]\n",
    "        y_val = sol[i]\n",
    "\n",
    "        if x_row[i]!=0:\n",
    "            tmp = 1/x_row[i]\n",
    "        else:\n",
    "            tmp = 0\n",
    "\n",
    "        x_row = [element * tmp for element in x_row]\n",
    "        y_val = y_val*tmp\n",
    "\n",
    "        X[i] = x_row\n",
    "        sol[i] = y_val\n",
    "\n",
    "        for j in range(0,n):\n",
    "            if i==j:\n",
    "                continue\n",
    "            x_next = X[j]\n",
    "            y_next = sol[j]\n",
    "            x_tmp = [element * -x_next[i] for element in x_row]\n",
    "            y_tmp = y_val*(-x_next[i])\n",
    "\n",
    "            for k in range(0, len(x_row)):\n",
    "                x_next[k] = x_tmp[k] + x_next[k]\n",
    "            y_next = y_tmp + y_next\n",
    "\n",
    "            X[j] = x_next\n",
    "            sol[j] = y_next\n",
    "\n",
    "    return sol"
   ]
  },
  {
   "cell_type": "code",
   "execution_count": 4,
   "id": "d39a35d4",
   "metadata": {
    "ExecuteTime": {
     "end_time": "2023-06-05T02:02:01.358923Z",
     "start_time": "2023-06-05T02:02:01.353243Z"
    }
   },
   "outputs": [
    {
     "data": {
      "text/plain": [
       "array([1, 0, 1])"
      ]
     },
     "execution_count": 4,
     "metadata": {},
     "output_type": "execute_result"
    }
   ],
   "source": [
    "solve(X, y)"
   ]
  },
  {
   "cell_type": "code",
   "execution_count": 5,
   "id": "197d364a",
   "metadata": {
    "ExecuteTime": {
     "end_time": "2023-06-05T02:02:25.639486Z",
     "start_time": "2023-06-05T02:02:25.631268Z"
    }
   },
   "outputs": [
    {
     "data": {
      "text/plain": [
       "array([ 1.00000000e+00, -2.77555756e-17,  1.00000000e+00])"
      ]
     },
     "execution_count": 5,
     "metadata": {},
     "output_type": "execute_result"
    }
   ],
   "source": [
    "np.linalg.inv(X) @ y"
   ]
  },
  {
   "cell_type": "code",
   "execution_count": 6,
   "id": "dd5089a8",
   "metadata": {
    "ExecuteTime": {
     "end_time": "2023-06-05T06:50:11.678748Z",
     "start_time": "2023-06-05T06:50:11.657745Z"
    }
   },
   "outputs": [
    {
     "data": {
      "text/plain": [
       "array([1., 0., 1.])"
      ]
     },
     "execution_count": 6,
     "metadata": {},
     "output_type": "execute_result"
    }
   ],
   "source": [
    "np.linalg.solve(X, y)"
   ]
  },
  {
   "cell_type": "code",
   "execution_count": null,
   "id": "615f6908",
   "metadata": {},
   "outputs": [],
   "source": []
  }
 ],
 "metadata": {
  "kernelspec": {
   "display_name": "Python 3.11",
   "language": "python",
   "name": "py311"
  },
  "language_info": {
   "codemirror_mode": {
    "name": "ipython",
    "version": 3
   },
   "file_extension": ".py",
   "mimetype": "text/x-python",
   "name": "python",
   "nbconvert_exporter": "python",
   "pygments_lexer": "ipython3",
   "version": "3.11.0"
  },
  "toc": {
   "base_numbering": 1,
   "nav_menu": {},
   "number_sections": true,
   "sideBar": true,
   "skip_h1_title": false,
   "title_cell": "Table of Contents",
   "title_sidebar": "Contents",
   "toc_cell": false,
   "toc_position": {},
   "toc_section_display": true,
   "toc_window_display": false
  },
  "varInspector": {
   "cols": {
    "lenName": 16,
    "lenType": 16,
    "lenVar": 40
   },
   "kernels_config": {
    "python": {
     "delete_cmd_postfix": "",
     "delete_cmd_prefix": "del ",
     "library": "var_list.py",
     "varRefreshCmd": "print(var_dic_list())"
    },
    "r": {
     "delete_cmd_postfix": ") ",
     "delete_cmd_prefix": "rm(",
     "library": "var_list.r",
     "varRefreshCmd": "cat(var_dic_list()) "
    }
   },
   "types_to_exclude": [
    "module",
    "function",
    "builtin_function_or_method",
    "instance",
    "_Feature"
   ],
   "window_display": false
  }
 },
 "nbformat": 4,
 "nbformat_minor": 5
}
