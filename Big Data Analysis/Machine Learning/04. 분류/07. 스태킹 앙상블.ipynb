{
 "cells": [
  {
   "cell_type": "markdown",
   "id": "8b557f9d",
   "metadata": {},
   "source": [
    "# 스태킹\n",
    "- 개별적인 여러 알고리즘을 서로 결합해 예측 결과를 도출\n",
    "- 개별 알고리즘으로 예측한 데이터를 기반으로 다시 예측 수행\n",
    "    - 이런 방식을 메타 모델이라고 함\n",
    "- 여러 개의 모델에 대한 예측값을 합한 후(스태킹) 이에 대한 예측을 다시 수행"
   ]
  },
  {
   "cell_type": "markdown",
   "id": "2f6ca52d",
   "metadata": {},
   "source": [
    "## 기본 예시"
   ]
  },
  {
   "cell_type": "code",
   "execution_count": 1,
   "id": "a84cf742",
   "metadata": {},
   "outputs": [],
   "source": [
    "import numpy as np\n",
    "\n",
    "from sklearn.neighbors import KNeighborsClassifier\n",
    "from sklearn.ensemble import RandomForestClassifier\n",
    "from sklearn.ensemble import AdaBoostClassifier\n",
    "from sklearn.tree import DecisionTreeClassifier\n",
    "from sklearn.linear_model import LogisticRegression\n",
    "\n",
    "from sklearn.datasets import load_breast_cancer\n",
    "from sklearn.model_selection import train_test_split\n",
    "from sklearn.metrics import accuracy_score\n",
    "\n",
    "cancer_data = load_breast_cancer()\n",
    "\n",
    "X_data = cancer_data.data\n",
    "y_label = cancer_data.target\n",
    "\n",
    "X_train, X_test, y_train, y_test = train_test_split(X_data, y_label, test_size=0.2, random_state=0)"
   ]
  },
  {
   "cell_type": "code",
   "execution_count": 2,
   "id": "aa0f1e7d",
   "metadata": {},
   "outputs": [
    {
     "data": {
      "text/plain": [
       "AdaBoostClassifier(n_estimators=100)"
      ]
     },
     "execution_count": 2,
     "metadata": {},
     "output_type": "execute_result"
    }
   ],
   "source": [
    "# 개별 ML 모델 생성\n",
    "knn_clf = KNeighborsClassifier(n_neighbors=4)\n",
    "rf_clf = RandomForestClassifier(n_estimators=100, random_state=0)\n",
    "dt_clf = DecisionTreeClassifier()\n",
    "ada_clf = AdaBoostClassifier(n_estimators=100)\n",
    "\n",
    "# 스태킹으로 만들어진 데이터 셋 학습, 예측할 최종 모델\n",
    "lr_final = LogisticRegression(C=10)\n",
    "\n",
    "# 개별 모델 학습\n",
    "knn_clf.fit(X_train, y_train)\n",
    "rf_clf.fit(X_train, y_train)\n",
    "dt_clf.fit(X_train, y_train)\n",
    "ada_clf.fit(X_train, y_train)"
   ]
  },
  {
   "cell_type": "code",
   "execution_count": 3,
   "id": "255233ca",
   "metadata": {},
   "outputs": [
    {
     "name": "stdout",
     "output_type": "stream",
     "text": [
      "KNN 정확도 : 0.9211\n",
      "랜덤 포레스트 정확도 : 0.9649\n",
      "결정 트리 정확도 : 0.9123\n",
      "에이다부스트 정확도 : 0.9561\n"
     ]
    }
   ],
   "source": [
    "knn_pred = knn_clf.predict(X_test)\n",
    "rf_pred = rf_clf.predict(X_test)\n",
    "dt_pred = dt_clf.predict(X_test)\n",
    "ada_pred = ada_clf.predict(X_test)\n",
    "\n",
    "print(f'KNN 정확도 : {accuracy_score(y_test, knn_pred):.4f}')\n",
    "print(f'랜덤 포레스트 정확도 : {accuracy_score(y_test, rf_pred):.4f}')\n",
    "print(f'결정 트리 정확도 : {accuracy_score(y_test, dt_pred):.4f}')\n",
    "print(f'에이다부스트 정확도 : {accuracy_score(y_test, ada_pred):.4f}')"
   ]
  },
  {
   "cell_type": "code",
   "execution_count": 4,
   "id": "5c234cec",
   "metadata": {},
   "outputs": [
    {
     "name": "stdout",
     "output_type": "stream",
     "text": [
      "(4, 114)\n",
      "(114, 4)\n"
     ]
    }
   ],
   "source": [
    "pred = np.array([knn_pred, rf_pred, dt_pred, ada_pred])\n",
    "print(pred.shape)\n",
    "\n",
    "# transpose\n",
    "pred = np.transpose(pred)\n",
    "print(pred.shape)"
   ]
  },
  {
   "cell_type": "code",
   "execution_count": 5,
   "id": "1a27f5aa",
   "metadata": {},
   "outputs": [
    {
     "name": "stdout",
     "output_type": "stream",
     "text": [
      "최종 메타 모델의 예측 정확도 : 0.9737\n"
     ]
    }
   ],
   "source": [
    "lr_final.fit(pred, y_test)\n",
    "final = lr_final.predict(pred)\n",
    "\n",
    "print(f'최종 메타 모델의 예측 정확도 : {accuracy_score(y_test, final):.4f}')"
   ]
  },
  {
   "cell_type": "markdown",
   "id": "f3e54efa",
   "metadata": {},
   "source": [
    "## CV 세트 기반의 스태킹\n",
    "- 과적합을 개선하기 위해 최종 메타 모델을 위한 데이터 셋을 만들 때, 교차 검증 기반으로 예측된 결과 데이터 셋 이용"
   ]
  },
  {
   "cell_type": "markdown",
   "id": "9eb26d90",
   "metadata": {},
   "source": [
    "### 스텝1\n",
    "- K 폴드로 K번 학습-예측한 예측 결과값을 스태킹하여 저장하여 최종 메타 모델의 학습 데이터로 사용\n",
    "- 각 검증마다 학습한 모델을 테스트 셋으로 예측한 결괏값을 평균내어 최종 메타 모델의 테스트 데이터로 사용"
   ]
  },
  {
   "cell_type": "code",
   "execution_count": 11,
   "id": "be974fa4",
   "metadata": {},
   "outputs": [],
   "source": [
    "from sklearn.model_selection import KFold\n",
    "from sklearn.metrics import mean_absolute_error\n",
    "\n",
    "# 최종 메타 모델이 사용할 학습/테스트 데이터 생성\n",
    "def get_stacking_base_datasets(model, X_train_n, y_train_n, X_test_n, n_folds):\n",
    "    kf = KFold(n_splits=n_folds, shuffle=False)\n",
    "    \n",
    "    # 메타 모델이 사용할 학습 데이터 반환을 위한 넘파이 배열 초기화\n",
    "    train_fold_pred = np.zeros((X_train_n.shape[0], 1))\n",
    "    test_pred = np.zeros((X_test_n.shape[0], n_folds))\n",
    "    print(model.__class__.__name__, 'model 시작')\n",
    "    \n",
    "    for folder_counter, (train_index, valid_index) in enumerate(kf.split(X_train_n)):\n",
    "        print('\\t폴드 세트 :', folder_counter, '시작')\n",
    "        # 입력된 학습 데이터에서 기반 모델이 학습/예측할 폴드 데이터 세트 추출\n",
    "        X_tr = X_train_n[train_index]\n",
    "        y_tr = y_train_n[train_index]\n",
    "        X_te = X_train_n[valid_index]\n",
    "        \n",
    "        # 폴드 세트 내부에서 다시 만들어진 학습 데이터로 기반 모델의 학습 수행\n",
    "        model.fit(X_tr, y_tr)\n",
    "        \n",
    "        # 폴드로 나눠진 검증 데이터로 예측 후 결과 저장\n",
    "        train_fold_pred[valid_index, :] = model.predict(X_te).reshape(-1, 1)\n",
    "        \n",
    "        # 원본 테스트 데이터로 예측 후 결과 저장\n",
    "        test_pred[:, folder_counter] = model.predict(X_test_n)\n",
    "    \n",
    "    # 원본 테스트 데이터 예측된 결과를 평균하여 최종 메타 모델의 테스트 데이터로 생성\n",
    "    test_pred_mean = np.mean(test_pred, axis=1).reshape(-1, 1)\n",
    "    \n",
    "    return train_fold_pred, test_pred_mean"
   ]
  },
  {
   "cell_type": "code",
   "execution_count": 12,
   "id": "566e0d69",
   "metadata": {},
   "outputs": [
    {
     "name": "stdout",
     "output_type": "stream",
     "text": [
      "KNeighborsClassifier model 시작\n",
      "\t폴드 세트 : 0 시작\n",
      "\t폴드 세트 : 1 시작\n",
      "\t폴드 세트 : 2 시작\n",
      "\t폴드 세트 : 3 시작\n",
      "\t폴드 세트 : 4 시작\n",
      "\t폴드 세트 : 5 시작\n",
      "\t폴드 세트 : 6 시작\n",
      "RandomForestClassifier model 시작\n",
      "\t폴드 세트 : 0 시작\n",
      "\t폴드 세트 : 1 시작\n",
      "\t폴드 세트 : 2 시작\n",
      "\t폴드 세트 : 3 시작\n",
      "\t폴드 세트 : 4 시작\n",
      "\t폴드 세트 : 5 시작\n",
      "\t폴드 세트 : 6 시작\n",
      "DecisionTreeClassifier model 시작\n",
      "\t폴드 세트 : 0 시작\n",
      "\t폴드 세트 : 1 시작\n",
      "\t폴드 세트 : 2 시작\n",
      "\t폴드 세트 : 3 시작\n",
      "\t폴드 세트 : 4 시작\n",
      "\t폴드 세트 : 5 시작\n",
      "\t폴드 세트 : 6 시작\n",
      "AdaBoostClassifier model 시작\n",
      "\t폴드 세트 : 0 시작\n",
      "\t폴드 세트 : 1 시작\n",
      "\t폴드 세트 : 2 시작\n",
      "\t폴드 세트 : 3 시작\n",
      "\t폴드 세트 : 4 시작\n",
      "\t폴드 세트 : 5 시작\n",
      "\t폴드 세트 : 6 시작\n"
     ]
    }
   ],
   "source": [
    "knn_train, knn_test = get_stacking_base_datasets(knn_clf, X_train, y_train, X_test, 7)\n",
    "rf_train, rf_test = get_stacking_base_datasets(rf_clf, X_train, y_train, X_test, 7)\n",
    "dt_train, dt_test = get_stacking_base_datasets(dt_clf, X_train, y_train, X_test, 7)\n",
    "ada_train, ada_test = get_stacking_base_datasets(ada_clf, X_train, y_train, X_test, 7)"
   ]
  },
  {
   "cell_type": "markdown",
   "id": "8b6ee79e",
   "metadata": {},
   "source": [
    "### 스텝2\n",
    "- 각 ML 모델로 만들어진 데이터 셋을 합치기"
   ]
  },
  {
   "cell_type": "code",
   "execution_count": 13,
   "id": "9b3789b0",
   "metadata": {},
   "outputs": [
    {
     "name": "stdout",
     "output_type": "stream",
     "text": [
      "원본 학습 feature 데이터 : (455, 30) 원본 테스트 feature 데이터 : (114, 30)\n",
      "스태킹 학습 feature 데이터 : (455, 4) 스태킹 테스트 feature 데이터 : (114, 4)\n"
     ]
    }
   ],
   "source": [
    "Stack_final_X_train = np.concatenate((knn_train, rf_train, dt_train, ada_train), axis=1)\n",
    "Stack_final_X_test = np.concatenate((knn_test, rf_test, dt_test, ada_test), axis=1)\n",
    "print('원본 학습 feature 데이터 :', X_train.shape, '원본 테스트 feature 데이터 :', X_test.shape)\n",
    "print('스태킹 학습 feature 데이터 :', Stack_final_X_train.shape, '스태킹 테스트 feature 데이터 :', Stack_final_X_test.shape)"
   ]
  },
  {
   "cell_type": "code",
   "execution_count": 15,
   "id": "fceaab95",
   "metadata": {},
   "outputs": [
    {
     "name": "stdout",
     "output_type": "stream",
     "text": [
      "최종 메타 모델의 예측 정확도 : 0.9737\n"
     ]
    }
   ],
   "source": [
    "lr_final.fit(Stack_final_X_train, y_train)\n",
    "stack_final = lr_final.predict(Stack_final_X_test)\n",
    "\n",
    "print(f'최종 메타 모델의 예측 정확도 : {accuracy_score(y_test, stack_final):.4f}')"
   ]
  },
  {
   "cell_type": "code",
   "execution_count": null,
   "id": "bf2448af",
   "metadata": {},
   "outputs": [],
   "source": []
  }
 ],
 "metadata": {
  "kernelspec": {
   "display_name": "Python Multi",
   "language": "python",
   "name": "multi"
  },
  "language_info": {
   "codemirror_mode": {
    "name": "ipython",
    "version": 3
   },
   "file_extension": ".py",
   "mimetype": "text/x-python",
   "name": "python",
   "nbconvert_exporter": "python",
   "pygments_lexer": "ipython3",
   "version": "3.7.6"
  }
 },
 "nbformat": 4,
 "nbformat_minor": 5
}
