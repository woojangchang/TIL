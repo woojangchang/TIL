{
 "cells": [
  {
   "cell_type": "markdown",
   "id": "93918ac8",
   "metadata": {},
   "source": [
    "# LDA\n",
    "- **L**inear **D**iscriminant **A**nalysis, 선형 판별 분석법\n",
    "- 분류에서 유리하도록, 각 클래스를 분별할 수 있는 기준을 최대한 유지\n",
    "- 클래스 간 분산과 클래스 내부 분산의 비율을 최대화하는 방식으로 차원 축소\n",
    "- PCA와 유사하나 공분산 행렬이 아닌 클래스 간, 클래스 내부 분산 행렬로 차원 축소\n",
    "\n",
    "## LDA 수행 순서\n",
    "1. 클래스 내부와 클래스 간 분산 행렬 계산\n",
    "    - 개별 feature의 평균 벡터를 기반함\n",
    "2. 클래스 내부 분산 행렬을 $S_W$, 클래스 간 분산 행렬을 $S_B$라 하면 아래와 같이 고유 벡터로 분해할 수 있음\n",
    "    - $S_W^TS_B=\\begin{bmatrix} e_1 | ... | e_n \\end{bmatrix} \\begin{bmatrix}\\lambda_1 & ... & 0\\\\... & ... & ...\\\\ 0 & ... & \\lambda_n \\end{bmatrix} \\begin{bmatrix} e_1^T \\\\ ... \\\\ e_n^T\\end{bmatrix}$\n",
    "3. 고유값이 큰 순으로 K개 추출\n",
    "4. 3에서 추출한 고유벡터로 데이터를 변환"
   ]
  },
  {
   "cell_type": "code",
   "execution_count": 1,
   "id": "1eeb8529",
   "metadata": {},
   "outputs": [],
   "source": [
    "from sklearn.discriminant_analysis import LinearDiscriminantAnalysis\n",
    "from sklearn.preprocessing import StandardScaler\n",
    "from sklearn.datasets import load_iris\n",
    "\n",
    "iris = load_iris()\n",
    "iris_scaled = StandardScaler().fit_transform(iris.data)"
   ]
  },
  {
   "cell_type": "markdown",
   "id": "ebe7387b",
   "metadata": {},
   "source": [
    "### 주의점\n",
    "- LDA는 클래스 간, 클래스 내부 분산을 계산하기 때문에 target이 있어야함"
   ]
  },
  {
   "cell_type": "code",
   "execution_count": 2,
   "id": "f989ba61",
   "metadata": {},
   "outputs": [
    {
     "name": "stdout",
     "output_type": "stream",
     "text": [
      "(150, 2)\n"
     ]
    }
   ],
   "source": [
    "lda = LinearDiscriminantAnalysis(n_components=2)\n",
    "lda.fit(iris_scaled, iris.target)\n",
    "iris_lda = lda.transform(iris_scaled)\n",
    "print(iris_lda.shape)"
   ]
  },
  {
   "cell_type": "code",
   "execution_count": 3,
   "id": "bd7eeb6d",
   "metadata": {},
   "outputs": [
    {
     "data": {
      "image/png": "[encoded data removed]",
      "text/plain": [
       "<Figure size 432x288 with 1 Axes>"
      ]
     },
     "metadata": {
      "needs_background": "light"
     },
     "output_type": "display_data"
    }
   ],
   "source": [
    "import pandas as pd\n",
    "import matplotlib.pyplot as plt\n",
    "%matplotlib inline\n",
    "\n",
    "lda_columns = ['lda_component_1', 'lda_component_2']\n",
    "irisDF_lda = pd.DataFrame(iris_lda, columns=lda_columns)\n",
    "irisDF_lda['target'] = iris.target\n",
    "\n",
    "markers = ['^', 's', 'o']\n",
    "\n",
    "for i, marker in enumerate(markers):\n",
    "    x_axis_data = irisDF_lda[irisDF_lda['target']==i]['lda_component_1']\n",
    "    y_axis_data = irisDF_lda[irisDF_lda['target']==i]['lda_component_2']\n",
    "    plt.scatter(x_axis_data, y_axis_data, marker=marker, label=iris.target_names[i])\n",
    "\n",
    "plt.legend()\n",
    "plt.xlabel('lda_component_1')\n",
    "plt.ylabel('lda_component_2')\n",
    "plt.show()"
   ]
  },
  {
   "cell_type": "code",
   "execution_count": null,
   "id": "9922c165",
   "metadata": {},
   "outputs": [],
   "source": []
  }
 ],
 "metadata": {
  "kernelspec": {
   "display_name": "Python Multi",
   "language": "python",
   "name": "multi"
  },
  "language_info": {
   "codemirror_mode": {
    "name": "ipython",
    "version": 3
   },
   "file_extension": ".py",
   "mimetype": "text/x-python",
   "name": "python",
   "nbconvert_exporter": "python",
   "pygments_lexer": "ipython3",
   "version": "3.7.6"
  }
 },
 "nbformat": 4,
 "nbformat_minor": 5
}
