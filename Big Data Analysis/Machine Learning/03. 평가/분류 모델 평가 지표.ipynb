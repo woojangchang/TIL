{
 "cells": [
  {
   "cell_type": "markdown",
   "id": "2db570d0",
   "metadata": {},
   "source": [
    "# 목차\n",
    "[1. Accuracy](#1.-Accuracy)  \n",
    "[2. 오차 행렬](#2.-오차-행렬)  \n",
    "[3. Precision, Recall](#3.-Precision,-Recall)  \n",
    "[4. F1 Score](#4.-F1-Score)  \n",
    "[5. ROC Curve, AUC](#5.-ROC-Curve,-AUC)  \n",
    "[6. 연습 문제](#6.-연습-문제)"
   ]
  },
  {
   "cell_type": "markdown",
   "id": "aad8522c",
   "metadata": {},
   "source": [
    "#### 분류 모델 평가 지표\n",
    "- 정확도(Accuracy)\n",
    "- 재현율(Recall)\n",
    "- 정밀도(Precision)\n",
    "- F1 measure\n",
    "- G measure\n",
    "- ROC curve\n",
    "- AUC\n",
    "\n",
    "#### 회귀 모델 평가 지표\n",
    "- MSE(Mean Square Error)\n",
    "- RMSE(Root MSE)\n",
    "- MAE(Mean Absolute Error)\n",
    "- MAPE(Mean Absolute Percentage Error)\n",
    "- $R^2$"
   ]
  },
  {
   "cell_type": "markdown",
   "id": "94aa82cb",
   "metadata": {},
   "source": [
    "# 1. Accuracy\n",
    "- $Accuracy = \\dfrac {sum(data==pred)}{len(data)}$"
   ]
  },
  {
   "cell_type": "markdown",
   "id": "16f64736",
   "metadata": {},
   "source": [
    "### 타이타닉 데이터"
   ]
  },
  {
   "cell_type": "code",
   "execution_count": 1,
   "id": "e92ef02f",
   "metadata": {},
   "outputs": [],
   "source": [
    "from sklearn.preprocessing import LabelEncoder\n",
    "\n",
    "# Null 처리 함수\n",
    "def fillna(df):\n",
    "    df['Age'].fillna(df['Age'].mean(), inplace=True)\n",
    "    df['Cabin'].fillna('N', inplace=True)\n",
    "    df['Embarked'].fillna('N', inplace=True)\n",
    "    df['Fare'].fillna(0, inplace=True)\n",
    "    return df\n",
    "\n",
    "# 불필요한 속성 제거\n",
    "def drop_features(df):\n",
    "    df.drop(['PassengerId', 'Name', 'Ticket'], axis=1, inplace=True)\n",
    "    return df\n",
    "\n",
    "# 레이블 인코딩\n",
    "def format_features(df):\n",
    "    df['Cabin'] = df['Cabin'].str[:1] # 첫문자만 추출\n",
    "    features = ['Cabin', 'Sex', 'Embarked']\n",
    "    for feature in features:\n",
    "        le = LabelEncoder()\n",
    "        le.fit(df[feature])\n",
    "        df[feature] = le.transform(df[feature])\n",
    "    return df\n",
    "\n",
    "# Data Preprocessing\n",
    "def transform_featrues(df):\n",
    "    df = fillna(df)\n",
    "    df = drop_features(df)\n",
    "    df = format_features(df)\n",
    "    return df"
   ]
  },
  {
   "cell_type": "code",
   "execution_count": 2,
   "id": "5d8f0cf1",
   "metadata": {},
   "outputs": [],
   "source": [
    "import numpy as np\n",
    "from sklearn.base import BaseEstimator\n",
    "\n",
    "# 아무런 학습을 하지 않고 성별로만 생존하를 예측하는 Classifier 생성\n",
    "# BestEstimator 상속 받음\n",
    "\n",
    "class MyDummyClassifier(BaseEstimator):\n",
    "    # fit() 메서드는 아무것도 학습하지 않음\n",
    "    def fit(self, X, y):\n",
    "        pass\n",
    "    \n",
    "    # predict() 메서드는 Sex==0 이면 1, Sex==1이면 0\n",
    "    def predict(self, X):\n",
    "        pred = np.zeros((X.shape[0], 1)) # (행의 개수, 열의 개수)\n",
    "        for i in range(X.shape[0]):\n",
    "            if X['Sex'].iloc[i] == 1:\n",
    "                pred[i] = 0\n",
    "            else:\n",
    "                pred[i] = 1\n",
    "        \n",
    "        return pred"
   ]
  },
  {
   "cell_type": "code",
   "execution_count": 3,
   "id": "813e9397",
   "metadata": {},
   "outputs": [
    {
     "name": "stdout",
     "output_type": "stream",
     "text": [
      "Dummy Classifier의 정확도 : 0.7877\n"
     ]
    }
   ],
   "source": [
    "import pandas as pd\n",
    "from sklearn.model_selection import train_test_split\n",
    "from sklearn.metrics import accuracy_score\n",
    "\n",
    "titanic_df = pd.read_csv('../data/titanic_train.csv')\n",
    "y_titanic_df = titanic_df['Survived']\n",
    "X_titanic_df = titanic_df.drop('Survived', axis=1)\n",
    "X_titanic_df = transform_featrues(X_titanic_df)\n",
    "X_train, X_test, y_train, y_test = train_test_split(X_titanic_df, y_titanic_df,\n",
    "                                                   test_size=0.2, random_state=0)\n",
    "\n",
    "myclf = MyDummyClassifier()\n",
    "myclf.fit(X_train, y_train)\n",
    "mypred = myclf.predict(X_test)\n",
    "print(f'Dummy Classifier의 정확도 : {accuracy_score(y_test, mypred):.4f}')"
   ]
  },
  {
   "cell_type": "markdown",
   "id": "ab0b076d",
   "metadata": {},
   "source": [
    "### MNIST 데이터\n",
    "- 7만 True, 나머지는 False인 불균형한 데이터 세트로 변형\n",
    "- 정확도 맹점 : 아무것도 하지 않고 데이터가 많은 특정한 값만 찍어도 높은 수치가 나타남"
   ]
  },
  {
   "cell_type": "code",
   "execution_count": 4,
   "id": "9ec456b7",
   "metadata": {},
   "outputs": [],
   "source": [
    "from sklearn.datasets import load_digits\n",
    "from sklearn.model_selection import train_test_split\n",
    "from sklearn.base import BaseEstimator\n",
    "from sklearn.metrics import accuracy_score\n",
    "import numpy as np\n",
    "import pandas as pd\n",
    "\n",
    "class MyFakeClassifier(BaseEstimator):\n",
    "    def fit(self, X, y):\n",
    "        pass\n",
    "    \n",
    "    # 모든 값을 0으로 예측\n",
    "    def predict(self, X):\n",
    "        return np.zeros((len(X), 1), dtype=bool)"
   ]
  },
  {
   "cell_type": "markdown",
   "id": "426471ae",
   "metadata": {},
   "source": [
    "digit data load"
   ]
  },
  {
   "cell_type": "code",
   "execution_count": 5,
   "id": "3b697805",
   "metadata": {},
   "outputs": [
    {
     "data": {
      "text/plain": [
       "{'data': array([[ 0.,  0.,  5., ...,  0.,  0.,  0.],\n",
       "        [ 0.,  0.,  0., ..., 10.,  0.,  0.],\n",
       "        [ 0.,  0.,  0., ..., 16.,  9.,  0.],\n",
       "        ...,\n",
       "        [ 0.,  0.,  1., ...,  6.,  0.,  0.],\n",
       "        [ 0.,  0.,  2., ..., 12.,  0.,  0.],\n",
       "        [ 0.,  0., 10., ..., 12.,  1.,  0.]]),\n",
       " 'target': array([0, 1, 2, ..., 8, 9, 8]),\n",
       " 'frame': None,\n",
       " 'feature_names': ['pixel_0_0',\n",
       "  'pixel_0_1',\n",
       "  'pixel_0_2',\n",
       "  'pixel_0_3',\n",
       "  'pixel_0_4',\n",
       "  'pixel_0_5',\n",
       "  'pixel_0_6',\n",
       "  'pixel_0_7',\n",
       "  'pixel_1_0',\n",
       "  'pixel_1_1',\n",
       "  'pixel_1_2',\n",
       "  'pixel_1_3',\n",
       "  'pixel_1_4',\n",
       "  'pixel_1_5',\n",
       "  'pixel_1_6',\n",
       "  'pixel_1_7',\n",
       "  'pixel_2_0',\n",
       "  'pixel_2_1',\n",
       "  'pixel_2_2',\n",
       "  'pixel_2_3',\n",
       "  'pixel_2_4',\n",
       "  'pixel_2_5',\n",
       "  'pixel_2_6',\n",
       "  'pixel_2_7',\n",
       "  'pixel_3_0',\n",
       "  'pixel_3_1',\n",
       "  'pixel_3_2',\n",
       "  'pixel_3_3',\n",
       "  'pixel_3_4',\n",
       "  'pixel_3_5',\n",
       "  'pixel_3_6',\n",
       "  'pixel_3_7',\n",
       "  'pixel_4_0',\n",
       "  'pixel_4_1',\n",
       "  'pixel_4_2',\n",
       "  'pixel_4_3',\n",
       "  'pixel_4_4',\n",
       "  'pixel_4_5',\n",
       "  'pixel_4_6',\n",
       "  'pixel_4_7',\n",
       "  'pixel_5_0',\n",
       "  'pixel_5_1',\n",
       "  'pixel_5_2',\n",
       "  'pixel_5_3',\n",
       "  'pixel_5_4',\n",
       "  'pixel_5_5',\n",
       "  'pixel_5_6',\n",
       "  'pixel_5_7',\n",
       "  'pixel_6_0',\n",
       "  'pixel_6_1',\n",
       "  'pixel_6_2',\n",
       "  'pixel_6_3',\n",
       "  'pixel_6_4',\n",
       "  'pixel_6_5',\n",
       "  'pixel_6_6',\n",
       "  'pixel_6_7',\n",
       "  'pixel_7_0',\n",
       "  'pixel_7_1',\n",
       "  'pixel_7_2',\n",
       "  'pixel_7_3',\n",
       "  'pixel_7_4',\n",
       "  'pixel_7_5',\n",
       "  'pixel_7_6',\n",
       "  'pixel_7_7'],\n",
       " 'target_names': array([0, 1, 2, 3, 4, 5, 6, 7, 8, 9]),\n",
       " 'images': array([[[ 0.,  0.,  5., ...,  1.,  0.,  0.],\n",
       "         [ 0.,  0., 13., ..., 15.,  5.,  0.],\n",
       "         [ 0.,  3., 15., ..., 11.,  8.,  0.],\n",
       "         ...,\n",
       "         [ 0.,  4., 11., ..., 12.,  7.,  0.],\n",
       "         [ 0.,  2., 14., ..., 12.,  0.,  0.],\n",
       "         [ 0.,  0.,  6., ...,  0.,  0.,  0.]],\n",
       " \n",
       "        [[ 0.,  0.,  0., ...,  5.,  0.,  0.],\n",
       "         [ 0.,  0.,  0., ...,  9.,  0.,  0.],\n",
       "         [ 0.,  0.,  3., ...,  6.,  0.,  0.],\n",
       "         ...,\n",
       "         [ 0.,  0.,  1., ...,  6.,  0.,  0.],\n",
       "         [ 0.,  0.,  1., ...,  6.,  0.,  0.],\n",
       "         [ 0.,  0.,  0., ..., 10.,  0.,  0.]],\n",
       " \n",
       "        [[ 0.,  0.,  0., ..., 12.,  0.,  0.],\n",
       "         [ 0.,  0.,  3., ..., 14.,  0.,  0.],\n",
       "         [ 0.,  0.,  8., ..., 16.,  0.,  0.],\n",
       "         ...,\n",
       "         [ 0.,  9., 16., ...,  0.,  0.,  0.],\n",
       "         [ 0.,  3., 13., ..., 11.,  5.,  0.],\n",
       "         [ 0.,  0.,  0., ..., 16.,  9.,  0.]],\n",
       " \n",
       "        ...,\n",
       " \n",
       "        [[ 0.,  0.,  1., ...,  1.,  0.,  0.],\n",
       "         [ 0.,  0., 13., ...,  2.,  1.,  0.],\n",
       "         [ 0.,  0., 16., ..., 16.,  5.,  0.],\n",
       "         ...,\n",
       "         [ 0.,  0., 16., ..., 15.,  0.,  0.],\n",
       "         [ 0.,  0., 15., ..., 16.,  0.,  0.],\n",
       "         [ 0.,  0.,  2., ...,  6.,  0.,  0.]],\n",
       " \n",
       "        [[ 0.,  0.,  2., ...,  0.,  0.,  0.],\n",
       "         [ 0.,  0., 14., ..., 15.,  1.,  0.],\n",
       "         [ 0.,  4., 16., ..., 16.,  7.,  0.],\n",
       "         ...,\n",
       "         [ 0.,  0.,  0., ..., 16.,  2.,  0.],\n",
       "         [ 0.,  0.,  4., ..., 16.,  2.,  0.],\n",
       "         [ 0.,  0.,  5., ..., 12.,  0.,  0.]],\n",
       " \n",
       "        [[ 0.,  0., 10., ...,  1.,  0.,  0.],\n",
       "         [ 0.,  2., 16., ...,  1.,  0.,  0.],\n",
       "         [ 0.,  0., 15., ..., 15.,  0.,  0.],\n",
       "         ...,\n",
       "         [ 0.,  4., 16., ..., 16.,  6.,  0.],\n",
       "         [ 0.,  8., 16., ..., 16.,  8.,  0.],\n",
       "         [ 0.,  1.,  8., ..., 12.,  1.,  0.]]]),\n",
       " 'DESCR': \".. _digits_dataset:\\n\\nOptical recognition of handwritten digits dataset\\n--------------------------------------------------\\n\\n**Data Set Characteristics:**\\n\\n    :Number of Instances: 1797\\n    :Number of Attributes: 64\\n    :Attribute Information: 8x8 image of integer pixels in the range 0..16.\\n    :Missing Attribute Values: None\\n    :Creator: E. Alpaydin (alpaydin '@' boun.edu.tr)\\n    :Date: July; 1998\\n\\nThis is a copy of the test set of the UCI ML hand-written digits datasets\\nhttps://archive.ics.uci.edu/ml/datasets/Optical+Recognition+of+Handwritten+Digits\\n\\nThe data set contains images of hand-written digits: 10 classes where\\neach class refers to a digit.\\n\\nPreprocessing programs made available by NIST were used to extract\\nnormalized bitmaps of handwritten digits from a preprinted form. From a\\ntotal of 43 people, 30 contributed to the training set and different 13\\nto the test set. 32x32 bitmaps are divided into nonoverlapping blocks of\\n4x4 and the number of on pixels are counted in each block. This generates\\nan input matrix of 8x8 where each element is an integer in the range\\n0..16. This reduces dimensionality and gives invariance to small\\ndistortions.\\n\\nFor info on NIST preprocessing routines, see M. D. Garris, J. L. Blue, G.\\nT. Candela, D. L. Dimmick, J. Geist, P. J. Grother, S. A. Janet, and C.\\nL. Wilson, NIST Form-Based Handprint Recognition System, NISTIR 5469,\\n1994.\\n\\n.. topic:: References\\n\\n  - C. Kaynak (1995) Methods of Combining Multiple Classifiers and Their\\n    Applications to Handwritten Digit Recognition, MSc Thesis, Institute of\\n    Graduate Studies in Science and Engineering, Bogazici University.\\n  - E. Alpaydin, C. Kaynak (1998) Cascading Classifiers, Kybernetika.\\n  - Ken Tang and Ponnuthurai N. Suganthan and Xi Yao and A. Kai Qin.\\n    Linear dimensionalityreduction using relevance weighted LDA. School of\\n    Electrical and Electronic Engineering Nanyang Technological University.\\n    2005.\\n  - Claudio Gentile. A New Approximate Maximal Margin Classification\\n    Algorithm. NIPS. 2000.\\n\"}"
      ]
     },
     "execution_count": 5,
     "metadata": {},
     "output_type": "execute_result"
    }
   ],
   "source": [
    "digits = load_digits()\n",
    "digits"
   ]
  },
  {
   "cell_type": "code",
   "execution_count": 6,
   "id": "64b95768",
   "metadata": {},
   "outputs": [
    {
     "data": {
      "text/plain": [
       "array([0, 0, 0, ..., 0, 0, 0])"
      ]
     },
     "execution_count": 6,
     "metadata": {},
     "output_type": "execute_result"
    }
   ],
   "source": [
    "# 새로운 label 생성\n",
    "# 7이면 True, 아니면 False\n",
    "# astype(int)로 7이면 1, 아니면 0\n",
    "y = (digits.target == 7).astype(int)\n",
    "y"
   ]
  },
  {
   "cell_type": "code",
   "execution_count": 7,
   "id": "b321c963",
   "metadata": {},
   "outputs": [],
   "source": [
    "X_train, X_test, y_train, y_test = train_test_split(digits.data, y,\n",
    "                                                   random_state=11)"
   ]
  },
  {
   "cell_type": "markdown",
   "id": "f978714b",
   "metadata": {},
   "source": [
    "MyFakeClassifier로 평가"
   ]
  },
  {
   "cell_type": "code",
   "execution_count": 9,
   "id": "a2c4f8e8",
   "metadata": {},
   "outputs": [
    {
     "name": "stdout",
     "output_type": "stream",
     "text": [
      "레이블 테스트 세트 크기 : 450\n",
      "테스트 레이블 0과 1의 분포도\n",
      "0    405\n",
      "1     45\n",
      "dtype: int64\n",
      "모든 예측을 0으로 하여도 정확도는 : 0.900\n"
     ]
    }
   ],
   "source": [
    "# 불균형한 데이터 분포도 확인\n",
    "print('레이블 테스트 세트 크기 :', len(y_test))\n",
    "print('테스트 레이블 0과 1의 분포도')\n",
    "print(pd.Series(y_test).value_counts())\n",
    "\n",
    "# 학습/평가\n",
    "fake_clf = MyFakeClassifier()\n",
    "fake_clf.fit(X_train, y_train)\n",
    "fakepred = fake_clf.predict(X_test)\n",
    "score = accuracy_score(y_test, fakepred)\n",
    "print(f'모든 예측을 0으로 하여도 정확도는 : {score:.3f}')"
   ]
  },
  {
   "cell_type": "markdown",
   "id": "1ac7178a",
   "metadata": {},
   "source": [
    "# 2. 오차 행렬\n",
    "| 실제 / 예측 | Negative | Positive |\n",
    "| ----------- | -------- | -------- |\n",
    "| **Negative**    | TN       | FP       |\n",
    "| **Positive**    | FN       | TP       |  \n",
    "\n",
    "- 예측 기준으로 N/P가 정해지며\n",
    "- 예측과 실제가 같으면 T 아니면 F\n",
    "- 정확도 = (TN + TP) / (TN + FP + FN + TP)\n",
    "- Positive 예시 : 불량품, 스팸메일, 암환자 등"
   ]
  },
  {
   "cell_type": "code",
   "execution_count": 10,
   "id": "c5b9df70",
   "metadata": {},
   "outputs": [
    {
     "data": {
      "text/plain": [
       "array([[405,   0],\n",
       "       [ 45,   0]], dtype=int64)"
      ]
     },
     "execution_count": 10,
     "metadata": {},
     "output_type": "execute_result"
    }
   ],
   "source": [
    "from sklearn.metrics import confusion_matrix\n",
    "\n",
    "confusion_matrix(y_test, fakepred)"
   ]
  },
  {
   "cell_type": "markdown",
   "id": "c6925526",
   "metadata": {},
   "source": [
    "# 3. Precision, Recall"
   ]
  },
  {
   "cell_type": "markdown",
   "id": "33675d4b",
   "metadata": {},
   "source": [
    "- 불량품이나 암환자 등 분류 문제는 불균형한 데이터 (현저히 적은 수의 불량품/암환자)\n",
    "- 불균형한 데이터를 학습시키면 TN은 매우 커지고 TP는 매우 작아지게 됨\n",
    "- 그렇기 때문에 정밀도와 재현율이 필요함\n",
    "- 정밀도 $Precision = \\dfrac {TP} {FP + TP}$\n",
    "    - Positive로 예측한 것 중 실제 Positive인 것의 비율\n",
    "    - **스팸 메일**은 스팸(예측 P)이 아닌 정상 메일을 정상(실제 N)으로 분류하는 것이 더 중요\n",
    "        - FP가 작아야함\n",
    "    - 양성 예측도\n",
    "- 재현율 $Recall = \\dfrac {TP} {TP + FN}$\n",
    "    - 실제 Positive인 것 중 Positive로 예측한 것의 비율\n",
    "    - 실제 **암환자**(실제 P)를 암환자가 아니라고(예측 N) 하는 것이 없어야 함\n",
    "        - FN이 작아야함\n",
    "    - 민감도(Sensitivity) 또는 TPR(True Positive Rate)\n",
    "![ConfusionMatrix](../data/confusionMatrix.png)\n",
    "\n"
   ]
  },
  {
   "cell_type": "code",
   "execution_count": 11,
   "id": "22748755",
   "metadata": {},
   "outputs": [],
   "source": [
    "from sklearn.metrics import accuracy_score, precision_score, recall_score, confusion_matrix\n",
    "from sklearn.datasets import load_digits\n",
    "from sklearn.model_selection import train_test_split\n",
    "from sklearn.base import BaseEstimator\n",
    "import numpy as np\n",
    "import pandas as pd\n",
    "\n",
    "class MyFakeClassifier(BaseEstimator):\n",
    "    def fit(self, X, y):\n",
    "        pass\n",
    "    \n",
    "    # 모든 값을 0으로 예측\n",
    "    def predict(self, X):\n",
    "        return np.zeros((len(X), 1), dtype=bool)\n",
    "\n",
    "y = (digits.target == 7).astype(int)\n",
    "X_train, X_test, y_train, y_test = train_test_split(digits.data, y,\n",
    "                                                   random_state=11)\n",
    "fake_clf = MyFakeClassifier()\n",
    "fake_clf.fit(X_train, y_train)\n",
    "fakepred = fake_clf.predict(X_test)\n",
    "score = accuracy_score(y_test, fakepred)"
   ]
  },
  {
   "cell_type": "code",
   "execution_count": 12,
   "id": "f4892dc2",
   "metadata": {},
   "outputs": [],
   "source": [
    "# 정확도, 정밀도, 재현율 출력\n",
    "def get_clf_eval(y_test, pred):\n",
    "    confusion = confusion_matrix(y_test, pred)\n",
    "    accuracy = accuracy_score(y_test, pred)\n",
    "    precision = precision_score(y_test, pred)\n",
    "    recall = recall_score(y_test, pred)\n",
    "    print('오차 행렬')\n",
    "    print(confusion)\n",
    "    print(f'정확도 : {accuracy:.3f}, 정밀도 : {precision:.3f}, 재현율 : {recall:.3f}')"
   ]
  },
  {
   "cell_type": "code",
   "execution_count": 14,
   "id": "de531c8b",
   "metadata": {
    "scrolled": true
   },
   "outputs": [
    {
     "name": "stdout",
     "output_type": "stream",
     "text": [
      "오차 행렬\n",
      "[[405   0]\n",
      " [ 45   0]]\n",
      "정확도 : 0.900, 정밀도 : 0.000, 재현율 : 0.000\n"
     ]
    },
    {
     "name": "stderr",
     "output_type": "stream",
     "text": [
      "C:\\Users\\master\\anaconda3\\envs\\multi\\lib\\site-packages\\sklearn\\metrics\\_classification.py:1248: UndefinedMetricWarning: Precision is ill-defined and being set to 0.0 due to no predicted samples. Use `zero_division` parameter to control this behavior.\n",
      "  _warn_prf(average, modifier, msg_start, len(result))\n"
     ]
    }
   ],
   "source": [
    "get_clf_eval(y_test, fakepred)"
   ]
  },
  {
   "cell_type": "markdown",
   "id": "3483a328",
   "metadata": {},
   "source": [
    "## 타이타닉 데이터 Logistic Regression의 오차 행렬"
   ]
  },
  {
   "cell_type": "code",
   "execution_count": 18,
   "id": "627945f8",
   "metadata": {},
   "outputs": [
    {
     "name": "stdout",
     "output_type": "stream",
     "text": [
      "오차 행렬\n",
      "[[104  14]\n",
      " [ 13  48]]\n",
      "정확도 : 0.849, 정밀도 : 0.774, 재현율 : 0.787\n"
     ]
    },
    {
     "name": "stderr",
     "output_type": "stream",
     "text": [
      "C:\\Users\\master\\anaconda3\\envs\\multi\\lib\\site-packages\\sklearn\\linear_model\\_logistic.py:765: ConvergenceWarning: lbfgs failed to converge (status=1):\n",
      "STOP: TOTAL NO. of ITERATIONS REACHED LIMIT.\n",
      "\n",
      "Increase the number of iterations (max_iter) or scale the data as shown in:\n",
      "    https://scikit-learn.org/stable/modules/preprocessing.html\n",
      "Please also refer to the documentation for alternative solver options:\n",
      "    https://scikit-learn.org/stable/modules/linear_model.html#logistic-regression\n",
      "  extra_warning_msg=_LOGISTIC_SOLVER_CONVERGENCE_MSG)\n"
     ]
    }
   ],
   "source": [
    "from sklearn.linear_model import LogisticRegression\n",
    "titanic_df = pd.read_csv('../data/titanic_train.csv')\n",
    "y_titanic_df = titanic_df['Survived']\n",
    "X_titanic_df = titanic_df.drop('Survived', axis=1)\n",
    "X_titanic_df = transform_featrues(X_titanic_df)\n",
    "X_train, X_test, y_train, y_test = train_test_split(X_titanic_df, y_titanic_df,\n",
    "                                                   test_size=0.2, random_state=11)\n",
    "\n",
    "lr_clf = LogisticRegression()\n",
    "\n",
    "lr_clf.fit(X_train, y_train)\n",
    "pred = lr_clf.predict(X_test)\n",
    "get_clf_eval(y_test, pred)"
   ]
  },
  {
   "cell_type": "markdown",
   "id": "38b93c7f",
   "metadata": {},
   "source": [
    "- 분류 결정 임계값(Threshold)을 조정해서 정밀도나 재현율을 높일 수 있음"
   ]
  },
  {
   "cell_type": "markdown",
   "id": "996e81e1",
   "metadata": {},
   "source": [
    "`predict_proba()`\n",
    "- Logistic 회귀 결과는 확률로 반환하며 `.predict` 메서드는 임계값에 따라 0 또는 1로 바꿔 반환\n",
    "- `.predict_proba` 메서드는 확률로 반환"
   ]
  },
  {
   "cell_type": "code",
   "execution_count": 19,
   "id": "a15b3f45",
   "metadata": {},
   "outputs": [
    {
     "data": {
      "text/plain": [
       "array([[0.46185119, 0.53814881],\n",
       "       [0.87872149, 0.12127851],\n",
       "       [0.87720969, 0.12279031],\n",
       "       [0.88264434, 0.11735566],\n",
       "       [0.85523667, 0.14476333],\n",
       "       [0.88225732, 0.11774268],\n",
       "       [0.88846118, 0.11153882],\n",
       "       [0.20879223, 0.79120777],\n",
       "       [0.78288283, 0.21711717],\n",
       "       [0.36939347, 0.63060653]])"
      ]
     },
     "execution_count": 19,
     "metadata": {},
     "output_type": "execute_result"
    }
   ],
   "source": [
    "pred_proba = lr_clf.predict_proba(X_test)\n",
    "pred_proba[:10]"
   ]
  },
  {
   "cell_type": "markdown",
   "id": "9f686184",
   "metadata": {},
   "source": [
    "첫 번째 열은 0 (Negative) 확률  \n",
    "두 번째 열은 1 (Positive) 확률"
   ]
  },
  {
   "cell_type": "code",
   "execution_count": 21,
   "id": "dbb3b20f",
   "metadata": {},
   "outputs": [
    {
     "data": {
      "text/plain": [
       "array([1, 0, 0, 0, 0, 0, 0, 1, 0, 1], dtype=int64)"
      ]
     },
     "execution_count": 21,
     "metadata": {},
     "output_type": "execute_result"
    }
   ],
   "source": [
    "pred[:10]"
   ]
  },
  {
   "cell_type": "code",
   "execution_count": 23,
   "id": "d7e0c7c4",
   "metadata": {},
   "outputs": [
    {
     "data": {
      "text/plain": [
       "array([[0.46185119, 0.53814881, 1.        ],\n",
       "       [0.87872149, 0.12127851, 0.        ],\n",
       "       [0.87720969, 0.12279031, 0.        ],\n",
       "       [0.88264434, 0.11735566, 0.        ],\n",
       "       [0.85523667, 0.14476333, 0.        ],\n",
       "       [0.88225732, 0.11774268, 0.        ],\n",
       "       [0.88846118, 0.11153882, 0.        ],\n",
       "       [0.20879223, 0.79120777, 1.        ],\n",
       "       [0.78288283, 0.21711717, 0.        ],\n",
       "       [0.36939347, 0.63060653, 1.        ]])"
      ]
     },
     "execution_count": 23,
     "metadata": {},
     "output_type": "execute_result"
    }
   ],
   "source": [
    "pred_proba_result = np.concatenate([pred_proba, pred.reshape(-1, 1)], axis=1)\n",
    "pred_proba_result[:10]"
   ]
  },
  {
   "cell_type": "markdown",
   "id": "c05ca56f",
   "metadata": {},
   "source": [
    "### `Binarizer`를 이용하여 이진화\n",
    "- `threshold` : 임계값보다 크면 1, 아니면 0 (같으면 0)"
   ]
  },
  {
   "cell_type": "markdown",
   "id": "a9cf4e3d",
   "metadata": {},
   "source": [
    "#### 1. threshold = .5"
   ]
  },
  {
   "cell_type": "code",
   "execution_count": 27,
   "id": "2ab0ad48",
   "metadata": {},
   "outputs": [
    {
     "name": "stdout",
     "output_type": "stream",
     "text": [
      "오차 행렬\n",
      "[[104  14]\n",
      " [ 13  48]]\n",
      "정확도 : 0.849, 정밀도 : 0.774, 재현율 : 0.787\n"
     ]
    }
   ],
   "source": [
    "from sklearn.preprocessing import Binarizer\n",
    "\n",
    "c_threshold = 0.5\n",
    "\n",
    "# 1을 반환하는 임계치 기준 (두 번째 열)\n",
    "pred_proba_1 = pred_proba[:, 1].reshape(-1, 1)\n",
    "\n",
    "binarizer = Binarizer(threshold = c_threshold)\n",
    "custom_predict = binarizer.fit_transform(pred_proba_1)\n",
    "\n",
    "get_clf_eval(y_test, custom_predict)"
   ]
  },
  {
   "cell_type": "markdown",
   "id": "e6041bcc",
   "metadata": {},
   "source": [
    "#### 2. threshold = .4"
   ]
  },
  {
   "cell_type": "code",
   "execution_count": 28,
   "id": "9069c61c",
   "metadata": {},
   "outputs": [
    {
     "name": "stdout",
     "output_type": "stream",
     "text": [
      "오차 행렬\n",
      "[[98 20]\n",
      " [10 51]]\n",
      "정확도 : 0.832, 정밀도 : 0.718, 재현율 : 0.836\n"
     ]
    }
   ],
   "source": [
    "c_threshold = 0.4\n",
    "\n",
    "# 1을 반환하는 임계치 기준 (두 번째 열)\n",
    "pred_proba_1 = pred_proba[:, 1].reshape(-1, 1)\n",
    "\n",
    "binarizer = Binarizer(threshold = c_threshold)\n",
    "custom_predict = binarizer.fit_transform(pred_proba_1)\n",
    "\n",
    "get_clf_eval(y_test, custom_predict)"
   ]
  },
  {
   "cell_type": "markdown",
   "id": "46ab704a",
   "metadata": {},
   "source": [
    "정밀도는 낮아지고 재현율은 높아짐\n",
    "- 임계치가 낮아지면서 Positive 예측 수 증가"
   ]
  },
  {
   "cell_type": "markdown",
   "id": "255a8c2d",
   "metadata": {},
   "source": [
    "#### 3. threshold =.6"
   ]
  },
  {
   "cell_type": "code",
   "execution_count": 29,
   "id": "a845d4bb",
   "metadata": {},
   "outputs": [
    {
     "name": "stdout",
     "output_type": "stream",
     "text": [
      "오차 행렬\n",
      "[[112   6]\n",
      " [ 16  45]]\n",
      "정확도 : 0.877, 정밀도 : 0.882, 재현율 : 0.738\n"
     ]
    }
   ],
   "source": [
    "c_threshold = 0.6\n",
    "\n",
    "# 1을 반환하는 임계치 기준 (두 번째 열)\n",
    "pred_proba_1 = pred_proba[:, 1].reshape(-1, 1)\n",
    "\n",
    "binarizer = Binarizer(threshold = c_threshold)\n",
    "custom_predict = binarizer.fit_transform(pred_proba_1)\n",
    "\n",
    "get_clf_eval(y_test, custom_predict)"
   ]
  },
  {
   "cell_type": "markdown",
   "id": "8d871523",
   "metadata": {},
   "source": [
    "정밀도는 높아지고 재현율은 낮아짐"
   ]
  },
  {
   "cell_type": "markdown",
   "id": "ecc8f69a",
   "metadata": {},
   "source": [
    "#### 4. threshold = .4 ~ .6"
   ]
  },
  {
   "cell_type": "code",
   "execution_count": 40,
   "id": "08dc33f8",
   "metadata": {},
   "outputs": [],
   "source": [
    "thresholds = np.arange(0.4, 0.65, 0.05)\n",
    "\n",
    "def get_eval_by_threshold(y_test, pred_proba_c1, thresholds):\n",
    "    for c_threshold in thresholds:\n",
    "        print('임계값 :', c_threshold)\n",
    "        binarizer = Binarizer(threshold = c_threshold)\n",
    "        custom_predict = binarizer.fit_transform(pred_proba_1)\n",
    "\n",
    "        get_clf_eval(y_test, custom_predict)\n",
    "        print()"
   ]
  },
  {
   "cell_type": "code",
   "execution_count": 41,
   "id": "dee419e3",
   "metadata": {},
   "outputs": [
    {
     "name": "stdout",
     "output_type": "stream",
     "text": [
      "임계값 : 0.4\n",
      "오차 행렬\n",
      "[[98 20]\n",
      " [10 51]]\n",
      "정확도 : 0.832, 정밀도 : 0.718, 재현율 : 0.836\n",
      "\n",
      "임계값 : 0.45\n",
      "오차 행렬\n",
      "[[103  15]\n",
      " [ 12  49]]\n",
      "정확도 : 0.849, 정밀도 : 0.766, 재현율 : 0.803\n",
      "\n",
      "임계값 : 0.5\n",
      "오차 행렬\n",
      "[[104  14]\n",
      " [ 13  48]]\n",
      "정확도 : 0.849, 정밀도 : 0.774, 재현율 : 0.787\n",
      "\n",
      "임계값 : 0.55\n",
      "오차 행렬\n",
      "[[109   9]\n",
      " [ 15  46]]\n",
      "정확도 : 0.866, 정밀도 : 0.836, 재현율 : 0.754\n",
      "\n",
      "임계값 : 0.6\n",
      "오차 행렬\n",
      "[[112   6]\n",
      " [ 16  45]]\n",
      "정확도 : 0.877, 정밀도 : 0.882, 재현율 : 0.738\n",
      "\n"
     ]
    }
   ],
   "source": [
    "get_eval_by_threshold(y_test, pred_proba[:, 1].reshape(-1, 1), thresholds)"
   ]
  },
  {
   "cell_type": "markdown",
   "id": "4e661e41",
   "metadata": {},
   "source": [
    "### 그래프로 확인\n",
    "`precision_recall_curve()` : 반환값 : precisions, recalls, thresholds"
   ]
  },
  {
   "cell_type": "code",
   "execution_count": 45,
   "id": "35ae8cda",
   "metadata": {},
   "outputs": [
    {
     "name": "stdout",
     "output_type": "stream",
     "text": [
      "정밀도 shape : (144,)\n",
      "재현율 shape : (144,)\n",
      "임계값 shape : (143,)\n",
      "정밀도 5 samples : [0.389 0.44  0.466 0.539 0.647 0.729 0.836 0.949 0.958 1.   ]\n",
      "재현율 5 samples : [1.    0.967 0.902 0.902 0.902 0.836 0.754 0.607 0.377 0.148]\n",
      "임계값 5 samples : [0.104 0.121 0.14  0.186 0.28  0.403 0.563 0.667 0.822 0.947]\n"
     ]
    }
   ],
   "source": [
    "from sklearn.metrics import precision_recall_curve\n",
    "\n",
    "# 두 번째 열에 대해서 임계값을 바꿔가며 그래프 확인\n",
    "pred_proba_class1 = lr_clf.predict_proba(X_test)[:, 1]\n",
    "\n",
    "precisions, recalls, thresholds = precision_recall_curve(y_test, pred_proba_class1)\n",
    "print('정밀도 shape :', precisions.shape)\n",
    "print('재현율 shape :', recalls.shape)\n",
    "print('임계값 shape :', thresholds.shape)\n",
    "\n",
    "idx = np.arange(0, thresholds.shape[0], 15)\n",
    "\n",
    "print('정밀도 5 samples :', np.round(precisions[idx], 3))\n",
    "print('재현율 5 samples :', np.round(recalls[idx], 3))\n",
    "print('임계값 5 samples :', np.round(thresholds[idx], 3))"
   ]
  },
  {
   "cell_type": "code",
   "execution_count": 51,
   "id": "1c805d5b",
   "metadata": {},
   "outputs": [],
   "source": [
    "import matplotlib.pyplot as plt\n",
    "import matplotlib.ticker as ticker\n",
    "%matplotlib inline\n",
    "\n",
    "def precision_recall_curve_plot(y_test, pred_proba_c1):\n",
    "    precisions, recalls, thresholds = precision_recall_curve(y_test, pred_proba_c1)\n",
    "    \n",
    "    plt.figure(figsize=(8, 6))\n",
    "    \n",
    "    # 위 예제에서도 보이듯이 임계값의 개수가 정밀도나 재현율보다 적음\n",
    "    # 따라서 임계값 개수만큼만 그래프를 그리기 위함\n",
    "    threshold_boundary = thresholds.shape[0]\n",
    "    \n",
    "    # plt.plot(x축 변수, y축 변수)\n",
    "    plt.plot(thresholds, precisions[:threshold_boundary],\n",
    "             linestyle='--', label='precision')\n",
    "    plt.plot(thresholds, recalls[:threshold_boundary],\n",
    "            label='recall')\n",
    "    \n",
    "    # X축 scale을 0.1 단위로\n",
    "    start, end = plt.xlim()\n",
    "    plt.xticks(np.round(np.arange(start, end, 0.1), 2))\n",
    "    \n",
    "    # x축, y축 label, legend, grid\n",
    "    plt.xlabel('Threshold Value')\n",
    "    plt.ylabel('Precision and Recall Value')\n",
    "    plt.legend()\n",
    "    plt.grid()\n",
    "    \n",
    "    plt.show()"
   ]
  },
  {
   "cell_type": "code",
   "execution_count": 52,
   "id": "925c795d",
   "metadata": {},
   "outputs": [
    {
     "data": {
      "image/png": "[encoded data removed]",
      "text/plain": [
       "<Figure size 576x432 with 1 Axes>"
      ]
     },
     "metadata": {
      "needs_background": "light"
     },
     "output_type": "display_data"
    }
   ],
   "source": [
    "precision_recall_curve_plot(y_test, pred_proba_class1)"
   ]
  },
  {
   "cell_type": "markdown",
   "id": "25ba4747",
   "metadata": {},
   "source": [
    "- 어느 한 쪽만 높이는 수단으로 사용돼서는 안 됨\n",
    "    - 예) 암환자를 제대로 파악하기 위해 재현율을 높일 경우 정밀도가 떨어져 암환자라고 예측했으나 실제로는 아니어서 불필요한 수술을 하게 되는 경우가 생긴다."
   ]
  },
  {
   "cell_type": "markdown",
   "id": "e2c566da",
   "metadata": {},
   "source": [
    "## 4. F1 Score\n",
    "- 정밀도와 재현율의 조화 평균\n",
    "$F_1 = 2 \\cdot \\dfrac {1}{\\dfrac {1}{Precision} + \\dfrac{1}{Recall}} = 2 \\cdot \\dfrac{Precision \\cdot Recall}{Precision + Recall}$"
   ]
  },
  {
   "cell_type": "code",
   "execution_count": 53,
   "id": "72b89829",
   "metadata": {},
   "outputs": [
    {
     "name": "stdout",
     "output_type": "stream",
     "text": [
      "정밀도 0.9, 재현율 0.1인 경우 F1 : 0.180\n",
      "정밀도 0.5, 재현율 0.5인 경우 F1 : 0.500\n"
     ]
    }
   ],
   "source": [
    "# 정밀도 0.9, 재현율 0.1인 경우\n",
    "p = .9; r = .1\n",
    "F1 = 2*(1/(1/p+1/r))\n",
    "print('정밀도 {}, 재현율 {}인 경우 F1 : {:.3f}'.format(p, r, F1))\n",
    "\n",
    "# 정밀도 0.5, 재현율 0.5인 경우\n",
    "p = .5; r = .5\n",
    "F1 = 2*(1/(1/p+1/r))\n",
    "print('정밀도 {}, 재현율 {}인 경우 F1 : {:.3f}'.format(p, r, F1))"
   ]
  },
  {
   "cell_type": "code",
   "execution_count": 57,
   "id": "4d5f3b4d",
   "metadata": {},
   "outputs": [],
   "source": [
    "from sklearn.metrics import f1_score\n",
    "\n",
    "# 정확도, 정밀도, 재현율, F1 스코어 출력\n",
    "def get_clf_eval(y_test, pred):\n",
    "    confusion = confusion_matrix(y_test, pred)\n",
    "    accuracy = accuracy_score(y_test, pred)\n",
    "    precision = precision_score(y_test, pred)\n",
    "    recall = recall_score(y_test, pred)\n",
    "    \n",
    "    f1 = f1_score(y_test, pred)\n",
    "    \n",
    "    print('오차 행렬')\n",
    "    print(confusion)\n",
    "    print(f'정확도 : {accuracy:.3f}, 정밀도 : {precision:.3f}, 재현율 : {recall:.3f}, F1 : {f1:.3f}')"
   ]
  },
  {
   "cell_type": "code",
   "execution_count": 60,
   "id": "59752567",
   "metadata": {},
   "outputs": [
    {
     "name": "stdout",
     "output_type": "stream",
     "text": [
      "오차 행렬\n",
      "[[104  14]\n",
      " [ 13  48]]\n",
      "정확도 : 0.849, 정밀도 : 0.774, 재현율 : 0.787, F1 : 0.780\n"
     ]
    }
   ],
   "source": [
    "pred = lr_clf.predict(X_test)\n",
    "get_clf_eval(y_test, pred)"
   ]
  },
  {
   "cell_type": "code",
   "execution_count": 63,
   "id": "d9efdf3e",
   "metadata": {},
   "outputs": [
    {
     "name": "stdout",
     "output_type": "stream",
     "text": [
      "임계값 : 0.4\n",
      "오차 행렬\n",
      "[[98 20]\n",
      " [10 51]]\n",
      "정확도 : 0.832, 정밀도 : 0.718, 재현율 : 0.836, F1 : 0.773\n",
      "\n",
      "임계값 : 0.45\n",
      "오차 행렬\n",
      "[[103  15]\n",
      " [ 12  49]]\n",
      "정확도 : 0.849, 정밀도 : 0.766, 재현율 : 0.803, F1 : 0.784\n",
      "\n",
      "임계값 : 0.5\n",
      "오차 행렬\n",
      "[[104  14]\n",
      " [ 13  48]]\n",
      "정확도 : 0.849, 정밀도 : 0.774, 재현율 : 0.787, F1 : 0.780\n",
      "\n",
      "임계값 : 0.55\n",
      "오차 행렬\n",
      "[[109   9]\n",
      " [ 15  46]]\n",
      "정확도 : 0.866, 정밀도 : 0.836, 재현율 : 0.754, F1 : 0.793\n",
      "\n",
      "임계값 : 0.6\n",
      "오차 행렬\n",
      "[[112   6]\n",
      " [ 16  45]]\n",
      "정확도 : 0.877, 정밀도 : 0.882, 재현율 : 0.738, F1 : 0.804\n",
      "\n"
     ]
    }
   ],
   "source": [
    "thresholds = np.arange(0.4, 0.65, 0.05)\n",
    "pred_proba = lr_clf.predict_proba(X_test)\n",
    "get_eval_by_threshold(y_test, pred_proba[:, 1].reshape(-1, 1), thresholds)"
   ]
  },
  {
   "cell_type": "markdown",
   "id": "b1d06ded",
   "metadata": {},
   "source": [
    "## G measure\n",
    "- 정밀도와 재현율의 기하 평균  \n",
    "$G = \\sqrt{Precision \\times Recall}$"
   ]
  },
  {
   "cell_type": "code",
   "execution_count": 64,
   "id": "f0c119da",
   "metadata": {},
   "outputs": [
    {
     "name": "stdout",
     "output_type": "stream",
     "text": [
      "정밀도 0.9, 재현율 0.1인 경우 G : 0.300\n",
      "정밀도 0.5, 재현율 0.5인 경우 G : 0.500\n"
     ]
    }
   ],
   "source": [
    "# 정밀도 0.9, 재현율 0.1인 경우\n",
    "p = .9; r = .1\n",
    "G = np.sqrt(p*r)\n",
    "print('정밀도 {}, 재현율 {}인 경우 G : {:.3f}'.format(p, r, G))\n",
    "\n",
    "# 정밀도 0.5, 재현율 0.5인 경우\n",
    "p = .5; r = .5\n",
    "G = np.sqrt(p*r)\n",
    "print('정밀도 {}, 재현율 {}인 경우 G : {:.3f}'.format(p, r, G))"
   ]
  },
  {
   "cell_type": "markdown",
   "id": "f05a76ec",
   "metadata": {},
   "source": [
    "# 5. ROC Curve, AUC\n",
    "## ROC(Receiver Operating Characteristic)\n",
    "- 민감도(Sensitivity, 재현율) = TP / (FN+TP)\n",
    "    - 실제로 Positive인데 Positive로 예측한 비율\n",
    "- 특이성(Specificity, TNR) = TN / (TN+FP)\n",
    "    - 실제로 Negative인데 Negative로 예측한 비율\n",
    "- FPR(False Positive Rate) = FP / (TN+FP) = 1 - 특이성\n",
    "    - 실제로 Negative인데 Positive로 예측한 비율\n",
    "    \n",
    "![ROC mat](../data/ROC_mat.png)"
   ]
  },
  {
   "cell_type": "markdown",
   "id": "e3588567",
   "metadata": {},
   "source": [
    "## ROC Curve\n",
    "- x축은 FPR(1-특이성), y축은 민감도로 한 그래프"
   ]
  },
  {
   "cell_type": "code",
   "execution_count": 66,
   "id": "3791ddf3",
   "metadata": {},
   "outputs": [
    {
     "name": "stdout",
     "output_type": "stream",
     "text": [
      "임계값 samples : [0.965 0.654 0.63  0.563 0.454 0.4   0.348 0.148 0.125 0.112 0.108]\n",
      "FPR samples : [0.    0.017 0.034 0.076 0.127 0.169 0.203 0.466 0.585 0.686 0.797]\n",
      "TPR samples : [0.033 0.639 0.721 0.754 0.803 0.836 0.885 0.902 0.934 0.967 0.984]\n"
     ]
    }
   ],
   "source": [
    "from sklearn.metrics import roc_curve\n",
    "\n",
    "pred_proba_class1 = lr_clf.predict_proba(X_test)[:, 1]\n",
    "\n",
    "# FPR(1-특이도), TPR(민감도), 임계치\n",
    "fprs, tprs, thresholds = roc_curve(y_test, pred_proba_class1)\n",
    "\n",
    "thr_index = np.arange(1, thresholds.shape[0], 5)\n",
    "\n",
    "print('임계값 samples :', np.round(thresholds[thr_index], 3))\n",
    "print('FPR samples :', np.round(fprs[thr_index], 3))\n",
    "print('TPR samples :', np.round(tprs[thr_index], 3))"
   ]
  },
  {
   "cell_type": "code",
   "execution_count": 68,
   "id": "e69f9833",
   "metadata": {},
   "outputs": [],
   "source": [
    "def roc_curve_plot(y_test, pred_proba_c1):\n",
    "    fprs, tprs, thresholds = roc_curve(y_test, pred_proba_c1)\n",
    "    \n",
    "    plt.plot(fprs, tprs, label='ROC')\n",
    "    \n",
    "    plt.plot([0, 1], [0, 1], 'k--', label='Random')\n",
    "    \n",
    "    start, end = plt.xlim()\n",
    "    plt.xticks(np.round(np.arange(start, end, 0.1), 3))\n",
    "    plt.xlim(0, 1)\n",
    "    plt.ylim(0, 1)\n",
    "    plt.xlabel('FPR (1-Specificity)')\n",
    "    plt.ylabel('TPR (Recall)')\n",
    "    plt.legend()"
   ]
  },
  {
   "cell_type": "code",
   "execution_count": 69,
   "id": "7ecd8670",
   "metadata": {},
   "outputs": [
    {
     "data": {
      "image/png": "[encoded data removed]",
      "text/plain": [
       "<Figure size 432x288 with 1 Axes>"
      ]
     },
     "metadata": {
      "needs_background": "light"
     },
     "output_type": "display_data"
    }
   ],
   "source": [
    "roc_curve_plot(y_test, pred_proba_class1)"
   ]
  },
  {
   "cell_type": "markdown",
   "id": "f12eea13",
   "metadata": {},
   "source": [
    "## AUC\n",
    "- Area Under Curve"
   ]
  },
  {
   "cell_type": "code",
   "execution_count": 71,
   "id": "22308f61",
   "metadata": {},
   "outputs": [
    {
     "data": {
      "text/plain": [
       "0.9024034454015005"
      ]
     },
     "execution_count": 71,
     "metadata": {},
     "output_type": "execute_result"
    }
   ],
   "source": [
    "from sklearn.metrics import roc_auc_score\n",
    "\n",
    "pred_proba = lr_clf.predict_proba(X_test)[:, 1]\n",
    "roc_score = roc_auc_score(y_test, pred_proba)\n",
    "roc_score"
   ]
  },
  {
   "cell_type": "code",
   "execution_count": 82,
   "id": "f55bb239",
   "metadata": {},
   "outputs": [],
   "source": [
    "def get_clf_eval(y_test, pred=None, pred_proba=None):\n",
    "    confusion = confusion_matrix(y_test, pred)\n",
    "    accuracy = accuracy_score(y_test, pred)\n",
    "    precision = precision_score(y_test, pred)\n",
    "    recall = recall_score(y_test, pred)\n",
    "    \n",
    "    f1 = f1_score(y_test, pred)\n",
    "    \n",
    "    roc_score = roc_auc_score(y_test, pred_proba)\n",
    "    \n",
    "    print('오차 행렬')\n",
    "    print(confusion)\n",
    "    print(f'정확도 : {accuracy:.3f}, 정밀도 : {precision:.3f}, 재현율 : {recall:.3f}, F1 : {f1:.3f}, ROC AUC : {roc_score:.3f}')"
   ]
  },
  {
   "cell_type": "code",
   "execution_count": 86,
   "id": "a3953f1c",
   "metadata": {},
   "outputs": [
    {
     "name": "stdout",
     "output_type": "stream",
     "text": [
      "오차 행렬\n",
      "[[104  14]\n",
      " [ 13  48]]\n",
      "정확도 : 0.849, 정밀도 : 0.774, 재현율 : 0.787, F1 : 0.780, ROC AUC : 0.902\n"
     ]
    }
   ],
   "source": [
    "pred = lr_clf.predict(X_test)\n",
    "pred_proba = lr_clf.predict_proba(X_test)[:, 1]\n",
    "\n",
    "get_clf_eval(y_test, pred, pred_proba)"
   ]
  },
  {
   "cell_type": "markdown",
   "id": "dc8504ab",
   "metadata": {},
   "source": [
    "# 6. 연습 문제\n",
    "\n",
    "<center> A </center>  \n",
    "\n",
    "| 예측/실제 | P    | N    | Sum  |\n",
    "| --------- | ---- | ---- | ---- |\n",
    "| **P**     | 45   | 5    | 50   |\n",
    "| **N**     | 5    | 45   | 50   |\n",
    "| **Sum**   | 50   | 50   | 100  |\n",
    "<br>  \n",
    "  \n",
    "<center> B </center>\n",
    "\n",
    "| 예측/실제 | P    | N    | Sum  |\n",
    "| --------- | ---- | ---- | ---- |\n",
    "| **P**     | 100   | 20    | 120   |\n",
    "| **N**     | 0    |80   | 80   |\n",
    "| **Sum**   | 100   | 100   | 200  |"
   ]
  },
  {
   "cell_type": "markdown",
   "id": "2c24c0e7",
   "metadata": {},
   "source": [
    "#### 1. Accuracy\n",
    "- Accuracy = (TP + TN) / (TP + FP + FN + TN)\n",
    "- A : 90/100 = 0.900\n",
    "- B : 180/200 = 0.900\n",
    "\n",
    "#### 2. Precision\n",
    "- Precision = TP / (TP + FP)\n",
    "- A : 45/50 = 0.900\n",
    "- B : 100/120 = 0.833\n",
    "\n",
    "#### 3. Recall\n",
    "- Recall = TP / (TP + FN)\n",
    "- A : 45/50 = 0.900\n",
    "- B : 100/100 = 1.000\n",
    "\n",
    "#### 4. TPR\n",
    "- TPR = Sensitivity = Recall\n",
    "- A : 0.900\n",
    "- B : 1.000\n",
    "\n",
    "#### 5. FPR\n",
    "- FPR = 1 - Specificity = 1 - TN / (TN + FP) = FP / (TN + FP)\n",
    "- A : 5/50 = 0.100\n",
    "- B : 20/100 = 0.200\n"
   ]
  },
  {
   "cell_type": "code",
   "execution_count": null,
   "id": "14ac238f",
   "metadata": {},
   "outputs": [],
   "source": []
  }
 ],
 "metadata": {
  "kernelspec": {
   "display_name": "Python Multi",
   "language": "python",
   "name": "multi"
  },
  "language_info": {
   "codemirror_mode": {
    "name": "ipython",
    "version": 3
   },
   "file_extension": ".py",
   "mimetype": "text/x-python",
   "name": "python",
   "nbconvert_exporter": "python",
   "pygments_lexer": "ipython3",
   "version": "3.7.6"
  }
 },
 "nbformat": 4,
 "nbformat_minor": 5
}
