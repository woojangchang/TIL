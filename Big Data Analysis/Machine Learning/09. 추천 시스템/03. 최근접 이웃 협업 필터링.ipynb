{
 "cells": [
  {
   "cell_type": "markdown",
   "id": "be1b339e",
   "metadata": {},
   "source": [
    "# 최근접 이웃 협업 필터링\n",
    "- 협업 필터링(Collaborative Filtering) : 사용자가 매긴 평점 정보나 상품 구매 이력 등 **사용자 행동 양식(User Behavior)** 만을 기반으로 추천 수행\n",
    "- 주목표 : 사용자가 아직 평가하지 않은 상품에 대하여 해당 상품의 평점을 예측\n",
    "    - 사용자가 평가한 다른 아이템을 기반으로 예측 평가 도출\n",
    "- 최근접 이웃, 잠재 요인 방식 모두 같은 행렬 데이터 이용\n",
    "    - pivot table 이용\n",
    "    - row : 유저 데이터(개별 사용자)\n",
    "    - column : 개별 상품\n",
    "    - value : 평점\n",
    "    | User ID | Item ID | Rating |\n",
    "|---------|---------|--------|\n",
    "| User 1  | Item 1  | 3      |\n",
    "| User 1  | Item 3  | 3      |\n",
    "| User 2  | Item 1  | 4      |\n",
    "| User 2  | Item 2  | 1      |\n",
    "| User 3  | Item 4  | 5      |  \n",
    "↓  \n",
    "\n",
    "|        | Item 1 | Item 2 | Item 3 | Item 4 |\n",
    "|--------|--------|--------|--------|--------|\n",
    "| User 1 | 3      |        | 3      |        |\n",
    "| User 2 | 4      | 1      |        |        |\n",
    "| User 3 |        |        |        | 5      |\n",
    "\n",
    "- 희소 행렬 특성을 가짐"
   ]
  },
  {
   "cell_type": "markdown",
   "id": "89cad7bd",
   "metadata": {},
   "source": [
    "## 최근접 이웃 필터링\n",
    "- 메모리(Memory) 협업 필터링이라고도 함\n",
    "- **사용자 기반(User-User)** : 당신과 비슷한 고객들이 다음 상품도 구매했습니다.\n",
    "    - 특정 사용자와 유사한 다른 사용자를 TOP-N으로 선정해 이 사용자가 좋아하는 아이템을 추천\n",
    "- **아이템 기반(Item-Item)** : 이 상품을 선택한 다른 고객들은 다음 상품도 구매했습니다.\n",
    "    - row : 개별 상품, column : 개별 사용자\n",
    "    - 평점 유사도가 높은 두 상품에 대하여, 한 상품은 구매/시청 했으며 다른 한 상품은 아직 구매/시청 하지 않은 사용자에게 해당 상품을 추천\n",
    "- 일반적으로 사용자 기반보다 아이템 기반의 정확도가 높음\n",
    "    - 매우 유명한 상품은 취향과 관계 없이 많이 구매할 가능성이 높음\n",
    "- 유사도 측정 : 코사인 유사도"
   ]
  },
  {
   "cell_type": "code",
   "execution_count": null,
   "id": "8cf6a544",
   "metadata": {},
   "outputs": [],
   "source": []
  }
 ],
 "metadata": {
  "kernelspec": {
   "display_name": "Python Multi",
   "language": "python",
   "name": "multi"
  },
  "language_info": {
   "codemirror_mode": {
    "name": "ipython",
    "version": 3
   },
   "file_extension": ".py",
   "mimetype": "text/x-python",
   "name": "python",
   "nbconvert_exporter": "python",
   "pygments_lexer": "ipython3",
   "version": "3.7.6"
  },
  "toc": {
   "base_numbering": 1,
   "nav_menu": {},
   "number_sections": false,
   "sideBar": true,
   "skip_h1_title": false,
   "title_cell": "Table of Contents",
   "title_sidebar": "Contents",
   "toc_cell": false,
   "toc_position": {},
   "toc_section_display": true,
   "toc_window_display": false
  }
 },
 "nbformat": 4,
 "nbformat_minor": 5
}
