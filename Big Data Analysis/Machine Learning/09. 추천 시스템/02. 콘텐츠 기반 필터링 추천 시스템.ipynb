{
 "cells": [
  {
   "cell_type": "markdown",
   "id": "39411eb3",
   "metadata": {},
   "source": [
    "# 콘텐츠 기반 필터링 추천 시스템\n",
    "- 사용자가 특정한 상품을 매우 선호하는 경우, 그 상품과 비슷한 다른 상품을 추천하는 방식\n",
    "- SF 영화를 좋아하는 사용자에게 출연 배우/감독이 같은 다른 SF 영화를 추천하는 방법 등"
   ]
  },
  {
   "cell_type": "code",
   "execution_count": null,
   "id": "9b582f9b",
   "metadata": {},
   "outputs": [],
   "source": []
  }
 ],
 "metadata": {
  "kernelspec": {
   "display_name": "Python Multi",
   "language": "python",
   "name": "multi"
  },
  "language_info": {
   "codemirror_mode": {
    "name": "ipython",
    "version": 3
   },
   "file_extension": ".py",
   "mimetype": "text/x-python",
   "name": "python",
   "nbconvert_exporter": "python",
   "pygments_lexer": "ipython3",
   "version": "3.7.6"
  },
  "toc": {
   "base_numbering": 1,
   "nav_menu": {},
   "number_sections": false,
   "sideBar": true,
   "skip_h1_title": false,
   "title_cell": "Table of Contents",
   "title_sidebar": "Contents",
   "toc_cell": false,
   "toc_position": {},
   "toc_section_display": true,
   "toc_window_display": false
  }
 },
 "nbformat": 4,
 "nbformat_minor": 5
}
