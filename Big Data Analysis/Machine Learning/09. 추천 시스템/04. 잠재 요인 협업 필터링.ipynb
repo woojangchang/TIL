{
 "cells": [
  {
   "cell_type": "markdown",
   "id": "67638ffd",
   "metadata": {},
   "source": [
    "# 잠재 요인 협업 필터링"
   ]
  },
  {
   "cell_type": "markdown",
   "id": "7c801eb6",
   "metadata": {},
   "source": [
    "## 잠재 요인 협업 필터링의 이해\n",
    "- 행렬 분해(Matrix Factorization) : 대규모 다차원 행렬을 SVD와 같은 차원 감소 기법으로 분해하는 과정에서 잠재 요인을 추출하는 것\n",
    "- 잠재 요인이 어떤 것인지 명확히 정의할 수는 없음\n",
    "- 그러나 다차원 희소 행렬인 사용자-아이템 행렬 데이터를 저차원 밀집 행렬의 사용자-잠재 요인 행렬과 아이템-잠재 요인 행렬(의 전치행렬)로 분해할 수 있음\n",
    "- 이렇게 분해된 두 행렬의 내적을 통해 새로운 예측 사용자-아이템 데이터를 만들어 사용자가 아직 평가하지 않은 아이템에 대한 예측 평점을 생성"
   ]
  },
  {
   "cell_type": "markdown",
   "id": "a37ae217",
   "metadata": {},
   "source": [
    "## 행렬 분해의 이해\n",
    "- SVD(Singular Vector Decomposition), NMF(Non-Negative Matrix Factorization) 등\n",
    "- $R = PQ^T$\n",
    "    - $R$ : $M$ x $N$ 의 사용자-아이템 평점 행렬\n",
    "    - $P$ : $M$ x $K$ 의 사용자-잠재요인 행렬\n",
    "    - $Q$ : $N$ x $K$ 의 아이템-잠재요인 행렬\n",
    "    - $M$ : 총 사용자 수\n",
    "    - $N$ : 총 아이템 수\n",
    "    - $K$ : 잠재 요인의 차원 수\n",
    "- $r_{(u, i)} = p_u q_i^t$\n",
    "    - $r_{(u, i)}$ : u행 사용자의 i열 아이템에 대한 평점\n",
    "    - $p_u$ : u행 사용자의 잠재요인\n",
    "    - $q_i$ : i행 아이템의 잠재요인\n",
    "- $R \\cong \\hat R = PQ^T$\n",
    "    - $\\hat R$ : 예측 사용자-아이템 평점 행렬\n",
    "- 주로 SVD 이용\n",
    "    - 그러나 Null이 있는 행렬에 대해선 불가능\n",
    "    - 그렇기 때문에 확률적 경사 하강법(Stochastic Gradient Descent)이나 ALS(Alternating Least Squares) 방식을 이용하여 SVD 수행"
   ]
  },
  {
   "cell_type": "markdown",
   "id": "3ae98b31",
   "metadata": {},
   "source": [
    "## 확률적 경사 하강법을 이용한 행렬 분해\n",
    "- 경사 하강법의 한 종류\n",
    "- P와 Q로 계산된 예측 R 행렬 값이 실제 R 행렬 값과 가장 최소의 오류를 가질 수 있도록 반복적인 비용 함수 최적화를 통해 P와 Q를 유추하는 것\n",
    "\n",
    "### 확률적 경사 하강법 절차\n",
    "1. P와 Q를 임의의 값을 가진 행렬로 설정\n",
    "2. P와 Q.T를 곱해 예측 행렬 R을 계산, 실제 행렬 R과의 오차 계산\n",
    "3. 이 오차를 최소화할 수 있도록 P와 Q 행렬 업데이트\n",
    "4. 만족할 만한 오류 값을 가질 때까지 2, 3번 작업 반복하면서 P와 Q를 업데이트해 근사화\n",
    "- 오차와 L2 규제를 고려한 비용 함수식  \n",
    "$\\min \\sum \\left( r_{(u, i)} - p_uq_i^t\\right)^2 + \\lambda \\left(\\lVert q_i \\rVert^2 + \\lVert p_u \\rVert ^2 \\right)$  \n",
    "- 새롭게 업데이트 되는 p, q  \n",
    "$\\acute p_u = p_u + \\eta \\left(e_{(u, i)}q_i - \\lambda p_u \\right)$  \n",
    "$\\acute q_i = q_i + \\eta \\left(e_{(u, i)}p_u - \\lambda q_i \\right)$\n",
    "    - $e_{(u, i)}$ : 실제 행렬 값과 예측 행렬 값의 차이로 $r_{(u, i)}-\\hat r_{(u, i)}$로 계산\n",
    "    - $\\eta$ : SGD 학습률\n",
    "    - $\\lambda$ : L2 규제 계수"
   ]
  },
  {
   "cell_type": "markdown",
   "id": "04912e9f",
   "metadata": {},
   "source": [
    "### 확률적 경사 하강법 구현"
   ]
  },
  {
   "cell_type": "code",
   "execution_count": 1,
   "id": "bf47a64f",
   "metadata": {},
   "outputs": [],
   "source": [
    "import numpy as np\n",
    "\n",
    "# 원본 행렬 R 생성, 잠재 요인=3으로 설정\n",
    "R = np.array([[4, np.NaN, np.NaN, 2, np.NaN],\n",
    "             [np.NaN, 5, np.NaN, 3, 1],\n",
    "             [np.NaN, np.NaN, 3, 4, 4],\n",
    "             [5, 2, 1, 2, np.NaN]])\n",
    "num_users, num_items = R.shape\n",
    "K=3\n",
    "\n",
    "# P와 Q의 행렬 크기를 지정하고 정규 분포를 가진 임의의 값으로 입력\n",
    "np.random.seed(1)\n",
    "P = np.random.normal(scale=1./K, size=(num_users, K))\n",
    "Q = np.random.normal(scale=1./K, size=(num_items, K))"
   ]
  },
  {
   "cell_type": "code",
   "execution_count": 2,
   "id": "c7bdfbd4",
   "metadata": {},
   "outputs": [],
   "source": [
    "from sklearn.metrics import mean_squared_error\n",
    "\n",
    "def get_rmse(R, P, Q, non_zeros):\n",
    "    error = 0\n",
    "    # 예측 R 행렬\n",
    "    full_pred_matrix = np.dot(P, Q.T)\n",
    "    \n",
    "    # 실제 행렬에서 null이 아닌 값의 위치 인덱스를 추출하여 실제 R과 예측 R의 RMSE 추출\n",
    "    x_non_zero_ind = [non_zero[0] for non_zero in non_zeros]\n",
    "    y_non_zero_ind = [non_zero[1] for non_zero in non_zeros]\n",
    "    R_non_zeros = R[x_non_zero_ind, y_non_zero_ind]\n",
    "    full_pred_matrix_non_zeros = full_pred_matrix[x_non_zero_ind, y_non_zero_ind]\n",
    "    mse = mean_squared_error(R_non_zeros, full_pred_matrix_non_zeros)\n",
    "    rmse = np.sqrt(mse)\n",
    "    \n",
    "    return rmse"
   ]
  },
  {
   "cell_type": "code",
   "execution_count": 3,
   "id": "0b2ad8f4",
   "metadata": {},
   "outputs": [
    {
     "name": "stdout",
     "output_type": "stream",
     "text": [
      "### iteration step : 0 rmse : 3.2388050277987723\n",
      "### iteration step : 50 rmse : 0.4876723101369648\n",
      "### iteration step : 100 rmse : 0.1564340384819247\n",
      "### iteration step : 150 rmse : 0.07455141311978046\n",
      "### iteration step : 200 rmse : 0.04325226798579314\n",
      "### iteration step : 250 rmse : 0.029248328780878973\n",
      "### iteration step : 300 rmse : 0.022621116143829466\n",
      "### iteration step : 350 rmse : 0.019493636196525135\n",
      "### iteration step : 400 rmse : 0.018022719092132704\n",
      "### iteration step : 450 rmse : 0.01731968595344266\n",
      "### iteration step : 500 rmse : 0.016973657887570753\n",
      "### iteration step : 550 rmse : 0.016796804595895633\n",
      "### iteration step : 600 rmse : 0.01670132290188466\n",
      "### iteration step : 650 rmse : 0.01664473691247669\n",
      "### iteration step : 700 rmse : 0.016605910068210026\n",
      "### iteration step : 750 rmse : 0.016574200475705\n",
      "### iteration step : 800 rmse : 0.01654431582921597\n",
      "### iteration step : 850 rmse : 0.01651375177473524\n",
      "### iteration step : 900 rmse : 0.01648146573819501\n",
      "### iteration step : 950 rmse : 0.016447171683479155\n"
     ]
    }
   ],
   "source": [
    "# R>0인 행(user), 열(item) 위치와 값을 저장\n",
    "non_zeros = [(i, j, R[i, j]) for i in range(num_users) for j in range(num_items) if R[i, j]>0]\n",
    "\n",
    "steps = 1000\n",
    "learning_rate = 0.01\n",
    "r_lambda = 0.01\n",
    "\n",
    "# SGD 기법으로 P, Q 업데이트\n",
    "for step in range(steps):\n",
    "    for i, j, r in non_zeros:\n",
    "        # 실제 값과 예측 값의 차이인 오류 값 구함\n",
    "        eij = r - np.dot(P[i, :], Q[j, :].T)\n",
    "        # Regularization을 반영한 SGD 업데이트 공식 적용\n",
    "        P[i, :] += learning_rate * (eij * Q[j, :] - r_lambda*P[i, :])\n",
    "        Q[j, :] += learning_rate * (eij * P[i, :] - r_lambda*Q[j, :])\n",
    "    rmse = get_rmse(R, P, Q, non_zeros)\n",
    "    if step % 50 == 0:\n",
    "        print('### iteration step :', step, 'rmse :', rmse)"
   ]
  },
  {
   "cell_type": "code",
   "execution_count": 5,
   "id": "60bfa200",
   "metadata": {},
   "outputs": [
    {
     "name": "stdout",
     "output_type": "stream",
     "text": [
      "예측 행렬 :\n",
      "[[3.991 0.897 1.306 2.002 1.663]\n",
      " [6.696 4.978 0.979 2.981 1.003]\n",
      " [6.677 0.391 2.987 3.977 3.986]\n",
      " [4.968 2.005 1.006 2.017 1.14 ]]\n"
     ]
    }
   ],
   "source": [
    "pred_matrix = np.dot(P, Q.T)\n",
    "print('예측 행렬 :', np.round(pred_matrix, 3), sep='\\n')"
   ]
  },
  {
   "cell_type": "code",
   "execution_count": 6,
   "id": "f023c236",
   "metadata": {},
   "outputs": [
    {
     "name": "stdout",
     "output_type": "stream",
     "text": [
      "실제 행렬 :\n",
      "[[ 4. nan nan  2. nan]\n",
      " [nan  5. nan  3.  1.]\n",
      " [nan nan  3.  4.  4.]\n",
      " [ 5.  2.  1.  2. nan]]\n"
     ]
    }
   ],
   "source": [
    "print('실제 행렬 :', np.round(R, 3), sep='\\n')"
   ]
  },
  {
   "cell_type": "code",
   "execution_count": null,
   "id": "cd7da354",
   "metadata": {},
   "outputs": [],
   "source": []
  }
 ],
 "metadata": {
  "kernelspec": {
   "display_name": "Python Multi",
   "language": "python",
   "name": "multi"
  },
  "language_info": {
   "codemirror_mode": {
    "name": "ipython",
    "version": 3
   },
   "file_extension": ".py",
   "mimetype": "text/x-python",
   "name": "python",
   "nbconvert_exporter": "python",
   "pygments_lexer": "ipython3",
   "version": "3.7.6"
  },
  "toc": {
   "base_numbering": 1,
   "nav_menu": {},
   "number_sections": false,
   "sideBar": true,
   "skip_h1_title": false,
   "title_cell": "Table of Contents",
   "title_sidebar": "Contents",
   "toc_cell": false,
   "toc_position": {},
   "toc_section_display": true,
   "toc_window_display": false
  }
 },
 "nbformat": 4,
 "nbformat_minor": 5
}
