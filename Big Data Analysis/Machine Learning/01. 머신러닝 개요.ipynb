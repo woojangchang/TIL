{
 "cells": [
  {
   "cell_type": "markdown",
   "id": "a393df28",
   "metadata": {},
   "source": [
    "## 행복지수와 GDP 관계 예시"
   ]
  },
  {
   "cell_type": "code",
   "execution_count": null,
   "id": "23b45488",
   "metadata": {},
   "outputs": [],
   "source": []
  }
 ],
 "metadata": {
  "kernelspec": {
   "display_name": "Python Multi",
   "language": "python",
   "name": "multi"
  },
  "language_info": {
   "codemirror_mode": {
    "name": "ipython",
    "version": 3
   },
   "file_extension": ".py",
   "mimetype": "text/x-python",
   "name": "python",
   "nbconvert_exporter": "python",
   "pygments_lexer": "ipython3",
   "version": "3.7.6"
  }
 },
 "nbformat": 4,
 "nbformat_minor": 5
}
