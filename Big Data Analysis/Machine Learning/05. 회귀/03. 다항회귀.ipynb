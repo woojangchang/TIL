{
 "cells": [
  {
   "cell_type": "markdown",
   "id": "270d8090",
   "metadata": {},
   "source": [
    "# 다항회귀\n",
    "- 다항회귀의 $X^n$을 $Z_m$으로 치환하면 선형회귀와 같아짐\n",
    "    - 회귀계수가 선형/비선형인지에 따라 선형/비선형회귀로 갈라짐"
   ]
  },
  {
   "cell_type": "code",
   "execution_count": 1,
   "id": "5aee1ac3",
   "metadata": {},
   "outputs": [
    {
     "data": {
      "text/plain": [
       "array([[0, 1],\n",
       "       [2, 3],\n",
       "       [4, 5]])"
      ]
     },
     "execution_count": 1,
     "metadata": {},
     "output_type": "execute_result"
    }
   ],
   "source": [
    "import numpy as np\n",
    "import pandas as pd\n",
    "from sklearn.preprocessing import PolynomialFeatures\n",
    "\n",
    "X = np.arange(6).reshape(3, 2)\n",
    "X"
   ]
  },
  {
   "cell_type": "markdown",
   "id": "aa56726a",
   "metadata": {},
   "source": [
    "`PolynomialFeatures(degree=2)`  \n",
    "$[x_1, x_2] \\rightarrow [1, x_1, x_2, x_1^2, x_1x_2, x_2^2]$"
   ]
  },
  {
   "cell_type": "code",
   "execution_count": 2,
   "id": "86433770",
   "metadata": {},
   "outputs": [
    {
     "data": {
      "text/plain": [
       "array([[ 1.,  0.,  1.,  0.,  0.,  1.],\n",
       "       [ 1.,  2.,  3.,  4.,  6.,  9.],\n",
       "       [ 1.,  4.,  5., 16., 20., 25.]])"
      ]
     },
     "execution_count": 2,
     "metadata": {},
     "output_type": "execute_result"
    }
   ],
   "source": [
    "poly = PolynomialFeatures(degree=2)\n",
    "poly.fit_transform(X)"
   ]
  },
  {
   "cell_type": "markdown",
   "id": "5b481a59",
   "metadata": {},
   "source": [
    "`PolynomialFeatures(degree=2)`  \n",
    "$[x_1, x_2, x_3] \\rightarrow [1, x_1, x_2, x_3, x_1^2, x_1x_2, x_1x_3, x_2^2, x_2x_3, x_3^2]$"
   ]
  },
  {
   "cell_type": "code",
   "execution_count": 3,
   "id": "b890ac6d",
   "metadata": {},
   "outputs": [
    {
     "data": {
      "text/plain": [
       "array([[ 1.,  0.,  1.,  2.,  0.,  0.,  0.,  1.,  2.,  4.],\n",
       "       [ 1.,  3.,  4.,  5.,  9., 12., 15., 16., 20., 25.],\n",
       "       [ 1.,  6.,  7.,  8., 36., 42., 48., 49., 56., 64.]])"
      ]
     },
     "execution_count": 3,
     "metadata": {},
     "output_type": "execute_result"
    }
   ],
   "source": [
    "X2 = np.arange(9).reshape(3, 3)\n",
    "poly.fit_transform(X2)"
   ]
  },
  {
   "cell_type": "markdown",
   "id": "951eb822",
   "metadata": {},
   "source": [
    "`PolynomialFeatures(degree=3)`  \n",
    "$[x_1, x_2] \\rightarrow [1, x_1, x_2, x_1^2, x_1x_2, x_2^2, x_1^3, x_1^2x_2, x_1x_2^2, x_2^3]$"
   ]
  },
  {
   "cell_type": "code",
   "execution_count": 4,
   "id": "36ce3b81",
   "metadata": {},
   "outputs": [
    {
     "data": {
      "text/plain": [
       "array([[  1.,   0.,   1.,   0.,   0.,   1.,   0.,   0.,   0.,   1.],\n",
       "       [  1.,   2.,   3.,   4.,   6.,   9.,   8.,  12.,  18.,  27.],\n",
       "       [  1.,   4.,   5.,  16.,  20.,  25.,  64.,  80., 100., 125.]])"
      ]
     },
     "execution_count": 4,
     "metadata": {},
     "output_type": "execute_result"
    }
   ],
   "source": [
    "poly = PolynomialFeatures(degree=3)\n",
    "poly.fit_transform(X)"
   ]
  },
  {
   "cell_type": "markdown",
   "id": "be81d148",
   "metadata": {},
   "source": [
    "## 3차 다항식을 선형회귀로 구하기\n",
    "$ y = 1+2x_1 + 3x_1^2 + 4x_2^3$"
   ]
  },
  {
   "cell_type": "code",
   "execution_count": 6,
   "id": "407cf952",
   "metadata": {},
   "outputs": [
    {
     "name": "stdout",
     "output_type": "stream",
     "text": [
      "일차 단항식 계수 feature :\n",
      " [[0 1]\n",
      " [2 3]]\n",
      "삼차 다항식 결정값 :\n",
      " [  5 125]\n"
     ]
    }
   ],
   "source": [
    "def polynomial_func(X):\n",
    "    y = 1 + 2*X[:, 0] + 3*X[:, 0]**2 + 4*X[:, 1]**3\n",
    "#     print(X[:, 0])\n",
    "#     print(X[:, 1])\n",
    "    return y\n",
    "\n",
    "X = np.arange(0, 4).reshape(2, 2)\n",
    "print('일차 단항식 계수 feature :\\n', X)\n",
    "\n",
    "y = polynomial_func(X)\n",
    "print('삼차 다항식 결정값 :\\n', y)"
   ]
  },
  {
   "cell_type": "code",
   "execution_count": 8,
   "id": "539a7104",
   "metadata": {},
   "outputs": [
    {
     "name": "stdout",
     "output_type": "stream",
     "text": [
      "3차 다항식 계수 feature :\n",
      " [[ 1.  0.  1.  0.  0.  1.  0.  0.  0.  1.]\n",
      " [ 1.  2.  3.  4.  6.  9.  8. 12. 18. 27.]]\n",
      "Polynomial 회귀 계수 :\n",
      " [0.   0.18 0.18 0.36 0.54 0.72 0.72 1.08 1.62 2.34]\n",
      "Polynomial 회귀 shape : (10,)\n"
     ]
    }
   ],
   "source": [
    "from sklearn.linear_model import LinearRegression\n",
    "\n",
    "poly_ftr = PolynomialFeatures(degree=3).fit_transform(X)\n",
    "print('3차 다항식 계수 feature :\\n', poly_ftr)\n",
    "\n",
    "model = LinearRegression()\n",
    "model.fit(poly_ftr, y)\n",
    "print('Polynomial 회귀 계수 :\\n', np.round(model.coef_, 2))\n",
    "print('Polynomial 회귀 shape :', model.coef_.shape)"
   ]
  },
  {
   "cell_type": "markdown",
   "id": "c2f01958",
   "metadata": {},
   "source": [
    "### 파이프라인 활용"
   ]
  },
  {
   "cell_type": "code",
   "execution_count": 9,
   "id": "570cdf5e",
   "metadata": {},
   "outputs": [
    {
     "name": "stdout",
     "output_type": "stream",
     "text": [
      "Polynomial 회귀 계수\n",
      " [0.   0.18 0.18 0.36 0.54 0.72 0.72 1.08 1.62 2.34]\n"
     ]
    }
   ],
   "source": [
    "from sklearn.pipeline import Pipeline\n",
    "\n",
    "# Streamline하게 Polynomial Feature 변환과 Linear Regression 연결\n",
    "model = Pipeline([('poly', PolynomialFeatures(degree=3)),\n",
    "                 ('linear', LinearRegression())])\n",
    "\n",
    "model.fit(X, y)\n",
    "print('Polynomial 회귀 계수\\n', np.round(model.named_steps['linear'].coef_, 2))"
   ]
  },
  {
   "cell_type": "markdown",
   "id": "951260fd",
   "metadata": {},
   "source": [
    "## 가상 데이터\n",
    "$ y = 0.5X^2 + X + 2$"
   ]
  },
  {
   "cell_type": "code",
   "execution_count": 11,
   "id": "2526959c",
   "metadata": {},
   "outputs": [
    {
     "data": {
      "image/png": "[encoded data removed]",
      "text/plain": [
       "<Figure size 432x288 with 1 Axes>"
      ]
     },
     "metadata": {
      "needs_background": "light"
     },
     "output_type": "display_data"
    }
   ],
   "source": [
    "import matplotlib.pyplot as plt\n",
    "m = 100\n",
    "X = 6 * np.random.rand(m, 1)-3\n",
    "y = 0.5 * X**2 + X + 2 + np.random.randn(m, 1)\n",
    "\n",
    "plt.plot(X, y, 'b.')\n",
    "plt.ylabel('Y', fontsize=15, rotation=0)\n",
    "plt.xlabel('X', fontsize=15)\n",
    "plt.show()"
   ]
  },
  {
   "cell_type": "code",
   "execution_count": 12,
   "id": "b11d82cb",
   "metadata": {},
   "outputs": [],
   "source": [
    "poly_features = PolynomialFeatures(degree=2, include_bias=False)\n",
    "X_poly = poly_features.fit_transform(X)"
   ]
  },
  {
   "cell_type": "code",
   "execution_count": 13,
   "id": "c076d15f",
   "metadata": {},
   "outputs": [
    {
     "name": "stdout",
     "output_type": "stream",
     "text": [
      "절편 : [1.7532005]\n",
      "계수 : [[1.06646665 0.54742294]]\n"
     ]
    }
   ],
   "source": [
    "lin_reg = LinearRegression()\n",
    "lin_reg.fit(X_poly, y)\n",
    "print('절편 :', lin_reg.intercept_)\n",
    "print('계수 :', lin_reg.coef_)"
   ]
  },
  {
   "cell_type": "code",
   "execution_count": 14,
   "id": "dc27dd6b",
   "metadata": {},
   "outputs": [
    {
     "data": {
      "image/png": "[encoded data removed]",
      "text/plain": [
       "<Figure size 432x288 with 1 Axes>"
      ]
     },
     "metadata": {
      "needs_background": "light"
     },
     "output_type": "display_data"
    }
   ],
   "source": [
    "X_new = np.linspace(-3, 3, 100).reshape(100, 1)\n",
    "X_new_poly = poly_features.transform(X_new)\n",
    "y_new = lin_reg.predict(X_new_poly)\n",
    "plt.plot(X, y, \"b.\")\n",
    "plt.plot(X_new, y_new, \"r-\", linewidth=2, label=\"Predictions\")\n",
    "plt.xlabel(\"$x_1$\", fontsize=18)\n",
    "plt.ylabel(\"$y$\", rotation=0, fontsize=18)\n",
    "plt.legend(loc=\"upper left\", fontsize=14)\n",
    "plt.axis([-3, 3, 0, 10])\n",
    "plt.show()"
   ]
  },
  {
   "cell_type": "markdown",
   "id": "cb42878b",
   "metadata": {},
   "source": [
    "## 주택 가격"
   ]
  },
  {
   "cell_type": "code",
   "execution_count": 15,
   "id": "1f75e31b",
   "metadata": {},
   "outputs": [],
   "source": [
    "from sklearn.datasets import load_boston\n",
    "\n",
    "boston = load_boston()\n",
    "bostonDF = pd.DataFrame(data=boston.data, columns=boston.feature_names)\n",
    "bostonDF['PRICE'] = boston.target"
   ]
  },
  {
   "cell_type": "code",
   "execution_count": 16,
   "id": "cb0b4d3e",
   "metadata": {},
   "outputs": [],
   "source": [
    "from sklearn.model_selection import train_test_split\n",
    "from sklearn.linear_model import LinearRegression\n",
    "from sklearn.metrics import mean_squared_error, r2_score\n",
    "\n",
    "y_target = bostonDF['PRICE']\n",
    "X_data = bostonDF.drop(['PRICE'], axis=1)\n",
    "\n",
    "X_train, X_test, y_train, y_test = train_test_split(X_data, y_target,\n",
    "                                                   test_size=0.3, random_state=156)"
   ]
  },
  {
   "cell_type": "code",
   "execution_count": 20,
   "id": "c3c0c4f6",
   "metadata": {},
   "outputs": [
    {
     "name": "stdout",
     "output_type": "stream",
     "text": [
      "Polynomial 회귀 계수\n",
      " [-1.09063739e+09 -8.13000000e+00 -9.00000000e-02 -7.01000000e+00\n",
      "  3.69700000e+01  2.53630000e+02  3.09600000e+01  1.25000000e+00\n",
      " -1.20200000e+01  3.09000000e+00 -1.30000000e-01  7.76000000e+00\n",
      "  5.00000000e-02  5.10000000e-01 -0.00000000e+00  2.70000000e-01\n",
      "  6.00000000e-01  1.86000000e+00 -1.40000000e-01 -0.00000000e+00\n",
      "  1.00000000e-02 -1.00000000e-01  5.90000000e-01 -6.00000000e-02\n",
      "  9.60000000e-01 -0.00000000e+00  4.00000000e-02 -0.00000000e+00\n",
      " -3.00000000e-02 -2.10000000e-01 -2.11000000e+00 -7.00000000e-02\n",
      "  0.00000000e+00 -3.00000000e-02  1.00000000e-02  0.00000000e+00\n",
      " -2.00000000e-02  1.00000000e-02 -1.00000000e-02  4.00000000e-02\n",
      " -5.30000000e-01 -7.00000000e-02  1.90000000e-01  1.00000000e-02\n",
      "  1.80000000e-01 -4.00000000e-02  0.00000000e+00 -7.00000000e-02\n",
      "  1.00000000e-02 -2.00000000e-02  3.69700000e+01 -2.92400000e+01\n",
      " -5.98000000e+00 -3.00000000e-02  1.74000000e+00  3.00000000e-02\n",
      "  3.00000000e-02 -1.99000000e+00  3.00000000e-02 -1.70000000e-01\n",
      " -7.70100000e+01 -5.07000000e+00 -4.10000000e-01  2.27200000e+01\n",
      " -4.96000000e+00  5.70000000e-01 -1.77100000e+01 -2.30000000e-01\n",
      "  1.37000000e+00 -2.00000000e-02 -1.00000000e-01 -3.70000000e-01\n",
      " -2.90000000e-01  1.00000000e-02 -7.80000000e-01  1.00000000e-02\n",
      " -2.10000000e-01  0.00000000e+00 -2.00000000e-02  2.00000000e-02\n",
      " -0.00000000e+00 -1.00000000e-02  0.00000000e+00 -1.00000000e-02\n",
      "  7.30000000e-01 -2.60000000e-01  0.00000000e+00 -2.70000000e-01\n",
      " -0.00000000e+00  5.00000000e-02 -1.40000000e-01  1.00000000e-02\n",
      " -9.00000000e-02  1.00000000e-02 -8.00000000e-02 -0.00000000e+00\n",
      "  1.00000000e-02 -0.00000000e+00  0.00000000e+00  1.10000000e-01\n",
      "  1.00000000e-02  1.00000000e-02 -0.00000000e+00  0.00000000e+00\n",
      "  1.00000000e-02]\n"
     ]
    }
   ],
   "source": [
    "p_model = Pipeline([('poly', PolynomialFeatures(degree=2)),\n",
    "                 ('linear', LinearRegression())])\n",
    "\n",
    "p_model.fit(X_train, y_train)\n",
    "print('Polynomial 회귀 계수\\n', np.round(p_model.named_steps['linear'].coef_, 2))"
   ]
  },
  {
   "cell_type": "code",
   "execution_count": 21,
   "id": "379f94f8",
   "metadata": {},
   "outputs": [
    {
     "name": "stdout",
     "output_type": "stream",
     "text": [
      "MSE : 41.731, RMSE : 6.460\n",
      "Variance Score : 0.414\n"
     ]
    }
   ],
   "source": [
    "y_preds = p_model.predict(X_test)\n",
    "mse = mean_squared_error(y_test, y_preds)\n",
    "rmse = np.sqrt(mse)\n",
    "\n",
    "print(f'MSE : {mse:.3f}, RMSE : {rmse:.3f}')\n",
    "print(f'Variance Score : {r2_score(y_test, y_preds):.3f}')"
   ]
  },
  {
   "cell_type": "markdown",
   "id": "e71ff5f9",
   "metadata": {},
   "source": [
    "피쳐가 13개에서 104개로 늘어나면서 overfitting"
   ]
  },
  {
   "cell_type": "markdown",
   "id": "8e5f6d9c",
   "metadata": {},
   "source": [
    "### 튜닝\n",
    "- `include_bias=True` : 절편에 대한 항을 주는 것\n",
    "    - $[x_1, x_2] \\rightarrow [1, x_1, x_2, x_1^2, x_1x_2, x_2^2]$\n",
    "- `include_bias=False` : 절편에 대한 항을 주지 않는 것\n",
    "    - $[x_1, x_2] \\rightarrow [x_1, x_2, x_1^2, x_1x_2, x_2^2]$"
   ]
  },
  {
   "cell_type": "code",
   "execution_count": 25,
   "id": "8f6d9e8b",
   "metadata": {},
   "outputs": [
    {
     "data": {
      "text/plain": [
       "array([[1., 2., 1., 2., 4.]])"
      ]
     },
     "execution_count": 25,
     "metadata": {},
     "output_type": "execute_result"
    }
   ],
   "source": [
    "x = np.array([[1, 2]])\n",
    "poly_features = PolynomialFeatures(degree=2, include_bias=False)\n",
    "x_poly = poly_features.fit_transform(x)\n",
    "x_poly"
   ]
  },
  {
   "cell_type": "code",
   "execution_count": 22,
   "id": "fc1f2d81",
   "metadata": {},
   "outputs": [
    {
     "name": "stdout",
     "output_type": "stream",
     "text": [
      "Polynomial 회귀 계수\n",
      " [-8.0300e+00 -1.0000e-01 -6.9900e+00  3.7020e+01  2.5166e+02  3.0840e+01\n",
      "  9.6000e-01 -1.1890e+01  3.1400e+00 -1.0000e-02  7.7200e+00 -1.0000e-02\n",
      "  4.2000e-01 -0.0000e+00  2.7000e-01  7.6000e-01  1.8600e+00 -1.2000e-01\n",
      "  1.7000e-01 -0.0000e+00 -2.8000e-01  5.8000e-01 -5.0000e-02  7.8000e-01\n",
      " -0.0000e+00  4.0000e-02 -0.0000e+00 -1.0000e-02 -1.3000e-01 -2.0800e+00\n",
      "  3.0000e-02  0.0000e+00 -1.0000e-02  1.0000e-02  0.0000e+00 -1.0000e-02\n",
      "  0.0000e+00 -0.0000e+00  5.0000e-02 -4.7000e-01 -1.4000e-01  3.7000e-01\n",
      "  1.0000e-02  2.4000e-01 -6.0000e-02  0.0000e+00  0.0000e+00  1.0000e-02\n",
      " -1.0000e-02  3.7020e+01 -2.9070e+01 -5.9600e+00 -6.0000e-02  1.8000e+00\n",
      " -7.0000e-02  4.0000e-02 -1.8300e+00  1.0000e-02 -1.0000e-01 -7.6240e+01\n",
      " -4.9800e+00 -5.9000e-01  2.2750e+01 -4.9900e+00  4.8000e-01 -1.7670e+01\n",
      " -3.0000e-02  1.2700e+00 -3.0000e-02 -5.0000e-02 -1.5000e-01 -8.0000e-02\n",
      " -2.0000e-02 -7.3000e-01  0.0000e+00 -1.8000e-01 -0.0000e+00 -2.0000e-02\n",
      "  2.0000e-02 -0.0000e+00  1.0000e-02 -0.0000e+00 -1.0000e-02  6.1000e-01\n",
      " -2.4000e-01 -0.0000e+00 -1.1000e-01 -1.0000e-02  1.1000e-01 -1.3000e-01\n",
      "  1.0000e-02 -1.0000e-01  0.0000e+00 -5.0000e-02 -0.0000e+00  0.0000e+00\n",
      " -0.0000e+00  0.0000e+00  7.0000e-02  1.0000e-02 -0.0000e+00 -0.0000e+00\n",
      " -0.0000e+00  1.0000e-02]\n"
     ]
    }
   ],
   "source": [
    "p_model = Pipeline([('poly', PolynomialFeatures(degree=2, include_bias=False)),\n",
    "                 ('linear', LinearRegression())])\n",
    "\n",
    "p_model.fit(X_train, y_train)\n",
    "print('Polynomial 회귀 계수\\n', np.round(p_model.named_steps['linear'].coef_, 2))"
   ]
  },
  {
   "cell_type": "code",
   "execution_count": 23,
   "id": "2da07774",
   "metadata": {},
   "outputs": [
    {
     "name": "stdout",
     "output_type": "stream",
     "text": [
      "MSE : 15.556, RMSE : 3.944\n",
      "Variance Score : 0.782\n"
     ]
    }
   ],
   "source": [
    "y_preds = p_model.predict(X_test)\n",
    "mse = mean_squared_error(y_test, y_preds)\n",
    "rmse = np.sqrt(mse)\n",
    "\n",
    "print(f'MSE : {mse:.3f}, RMSE : {rmse:.3f}')\n",
    "print(f'Variance Score : {r2_score(y_test, y_preds):.3f}')"
   ]
  },
  {
   "cell_type": "code",
   "execution_count": null,
   "id": "3f6b06e9",
   "metadata": {},
   "outputs": [],
   "source": []
  }
 ],
 "metadata": {
  "kernelspec": {
   "display_name": "Python Multi",
   "language": "python",
   "name": "multi"
  },
  "language_info": {
   "codemirror_mode": {
    "name": "ipython",
    "version": 3
   },
   "file_extension": ".py",
   "mimetype": "text/x-python",
   "name": "python",
   "nbconvert_exporter": "python",
   "pygments_lexer": "ipython3",
   "version": "3.7.6"
  }
 },
 "nbformat": 4,
 "nbformat_minor": 5
}
