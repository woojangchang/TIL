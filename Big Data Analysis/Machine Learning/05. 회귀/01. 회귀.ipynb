{
 "cells": [
  {
   "cell_type": "markdown",
   "id": "51895ea4",
   "metadata": {},
   "source": [
    "# 회귀\n",
    "- 인과 관계를 파악하는 분석\n",
    "- 머신러닝에서의 회귀 : 설명변수로부터 결과변수를 예측하는 모델(함수식)을 구함\n",
    "    - 이 때의 결과변수는 category형이 아닌 연속값"
   ]
  },
  {
   "cell_type": "markdown",
   "id": "5f934b43",
   "metadata": {},
   "source": [
    "## 회귀모델 유형\n",
    "- 선형/비선형 : 회귀계수 결합에 따라\n",
    "- 단순/다중 : 독립변수 개수에 따라\n",
    "\n",
    "### OLS 회귀분석 종류\n",
    "- 단순 회귀 분석 : **하나**의 독립변수로 **하나**의 종속변수를 설명하는 모형\n",
    "- 다중 회귀 분석 : **두 개 이상**의 독립변수로 **하나**의 종속변수를 설명하는 모형\n",
    "- 다항 회귀 분석 : 독립변수와 종속변수의 관계를 **2차 이상의 함수**로 설명\n",
    "- 다변량 회귀 분석 : **두 개 이상**의 종속변수를 사용하는 모형\n",
    "\n",
    "### 주요 가정\n",
    "- 선형성\n",
    "- 정규성\n",
    "- 등분산성\n",
    "- 독립성"
   ]
  },
  {
   "cell_type": "code",
   "execution_count": null,
   "id": "924d52c7",
   "metadata": {},
   "outputs": [],
   "source": []
  }
 ],
 "metadata": {
  "kernelspec": {
   "display_name": "Python Multi",
   "language": "python",
   "name": "multi"
  },
  "language_info": {
   "codemirror_mode": {
    "name": "ipython",
    "version": 3
   },
   "file_extension": ".py",
   "mimetype": "text/x-python",
   "name": "python",
   "nbconvert_exporter": "python",
   "pygments_lexer": "ipython3",
   "version": "3.7.6"
  }
 },
 "nbformat": 4,
 "nbformat_minor": 5
}
