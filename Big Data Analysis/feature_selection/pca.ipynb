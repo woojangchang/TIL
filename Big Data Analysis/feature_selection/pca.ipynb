{
 "cells": [
  {
   "cell_type": "markdown",
   "id": "presidential-voice",
   "metadata": {},
   "source": [
    "### PCA"
   ]
  },
  {
   "cell_type": "code",
   "execution_count": 1,
   "id": "yellow-slope",
   "metadata": {},
   "outputs": [],
   "source": [
    "# example of pca for dimensionality reduction\n",
    "from sklearn.datasets import make_classification\n",
    "from sklearn.decomposition import PCA"
   ]
  },
  {
   "cell_type": "code",
   "execution_count": 2,
   "id": "north-brighton",
   "metadata": {},
   "outputs": [
    {
     "name": "stdout",
     "output_type": "stream",
     "text": [
      "[[ 2.56999479 -0.13019997  3.16075093 -4.35936352 -1.61271951 -1.39352057\n",
      "  -2.48924933 -1.93094078  3.26130366  2.05692145]\n",
      " [ 0.34129317  2.51321418 -0.80416572  1.29196568  2.05773105 -3.11098284\n",
      "   1.46582984  6.24734437 -1.92769365  2.9503149 ]\n",
      " [ 2.27539972  3.36561455  0.17164362  1.24862039  0.30249838 -1.1378142\n",
      "  -1.60819862  2.74693781  0.13492444  2.00339547]\n",
      " [ 0.35784631  0.90517627 -0.25924092  0.93041361  0.11233569  0.14348421\n",
      "  -0.36714944  0.65895498 -0.2691282   0.15580698]\n",
      " [-2.72247653  0.32423572  2.90647175 -0.02121779 -2.8673991   1.59174442\n",
      "   0.62084941  3.38352819  0.94562063  3.49807133]]\n"
     ]
    }
   ],
   "source": [
    "# define dataset\n",
    "X, y = make_classification(n_samples=1000, n_features=10, n_informative=5, \n",
    "                            n_redundant=5, random_state=1)\n",
    "\n",
    "# summarize data before the transform\n",
    "print(X[:5, :])"
   ]
  },
  {
   "cell_type": "code",
   "execution_count": 3,
   "id": "smooth-camera",
   "metadata": {},
   "outputs": [
    {
     "name": "stdout",
     "output_type": "stream",
     "text": [
      "[[ 4.77765652  2.99691037  4.62336298 -0.39099639  0.78634788]\n",
      " [-5.14824625 -4.93141748  0.28896085 -2.86415263  0.77679174]\n",
      " [-1.60657696 -3.07170359  1.9735171   1.63736555  1.15871786]\n",
      " [-0.46136409 -0.37198005 -1.43082638  1.20599851  0.26617235]\n",
      " [-4.80068953  4.13784089  1.82603446 -0.26556    -0.64729698]]\n"
     ]
    }
   ],
   "source": [
    "# define the transform\n",
    "trans = PCA(n_components=5)\n",
    "\n",
    "# transform the data\n",
    "X_dim = trans.fit_transform(X)\n",
    "\n",
    "# summarize data after the transform\n",
    "print(X_dim[:5, :])"
   ]
  },
  {
   "cell_type": "code",
   "execution_count": null,
   "id": "informational-tattoo",
   "metadata": {},
   "outputs": [],
   "source": []
  },
  {
   "cell_type": "code",
   "execution_count": null,
   "id": "fossil-piece",
   "metadata": {},
   "outputs": [],
   "source": []
  }
 ],
 "metadata": {
  "kernelspec": {
   "display_name": "Python Multi",
   "language": "python",
   "name": "multi"
  },
  "language_info": {
   "codemirror_mode": {
    "name": "ipython",
    "version": 3
   },
   "file_extension": ".py",
   "mimetype": "text/x-python",
   "name": "python",
   "nbconvert_exporter": "python",
   "pygments_lexer": "ipython3",
   "version": "3.7.6"
  }
 },
 "nbformat": 4,
 "nbformat_minor": 5
}
