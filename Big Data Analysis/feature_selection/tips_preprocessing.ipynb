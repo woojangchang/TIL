{
 "cells": [
  {
   "cell_type": "code",
   "execution_count": 1,
   "id": "c8d25021-5f1d-4ec2-aac9-a32d174586ed",
   "metadata": {},
   "outputs": [],
   "source": [
    "import pymysql.cursors\n",
    "import pandas as pd\n",
    "import numpy as np"
   ]
  },
  {
   "cell_type": "markdown",
   "id": "492ea793-1443-41c0-909e-6e2d7613eec8",
   "metadata": {},
   "source": [
    "# 1. MySQL에 저장되어있는 데이터 불러오기\n",
    "- 기존 파일에서 마지막 세 줄에 null 값 4개가 추가됨."
   ]
  },
  {
   "cell_type": "code",
   "execution_count": 2,
   "id": "34427460-0a3a-4d1c-b53a-00e5625e8403",
   "metadata": {},
   "outputs": [
    {
     "data": {
      "text/html": [
       "<div>\n",
       "<style scoped>\n",
       "    .dataframe tbody tr th:only-of-type {\n",
       "        vertical-align: middle;\n",
       "    }\n",
       "\n",
       "    .dataframe tbody tr th {\n",
       "        vertical-align: top;\n",
       "    }\n",
       "\n",
       "    .dataframe thead th {\n",
       "        text-align: right;\n",
       "    }\n",
       "</style>\n",
       "<table border=\"1\" class=\"dataframe\">\n",
       "  <thead>\n",
       "    <tr style=\"text-align: right;\">\n",
       "      <th></th>\n",
       "      <th>total_bill</th>\n",
       "      <th>tip</th>\n",
       "      <th>sex</th>\n",
       "      <th>smoker</th>\n",
       "      <th>day</th>\n",
       "      <th>time</th>\n",
       "      <th>size</th>\n",
       "    </tr>\n",
       "  </thead>\n",
       "  <tbody>\n",
       "    <tr>\n",
       "      <th>245</th>\n",
       "      <td>20.65</td>\n",
       "      <td>3.35</td>\n",
       "      <td>Male</td>\n",
       "      <td>No</td>\n",
       "      <td>None</td>\n",
       "      <td>Dinner</td>\n",
       "      <td>3.0</td>\n",
       "    </tr>\n",
       "    <tr>\n",
       "      <th>246</th>\n",
       "      <td>20.65</td>\n",
       "      <td>3.35</td>\n",
       "      <td>Male</td>\n",
       "      <td>No</td>\n",
       "      <td>Sun</td>\n",
       "      <td>None</td>\n",
       "      <td>NaN</td>\n",
       "    </tr>\n",
       "    <tr>\n",
       "      <th>247</th>\n",
       "      <td>20.65</td>\n",
       "      <td>3.35</td>\n",
       "      <td>None</td>\n",
       "      <td>No</td>\n",
       "      <td>Sat</td>\n",
       "      <td>Dinner</td>\n",
       "      <td>5.0</td>\n",
       "    </tr>\n",
       "  </tbody>\n",
       "</table>\n",
       "</div>"
      ],
      "text/plain": [
       "     total_bill   tip   sex smoker   day    time  size\n",
       "245       20.65  3.35  Male     No  None  Dinner   3.0\n",
       "246       20.65  3.35  Male     No   Sun    None   NaN\n",
       "247       20.65  3.35  None     No   Sat  Dinner   5.0"
      ]
     },
     "execution_count": 2,
     "metadata": {},
     "output_type": "execute_result"
    }
   ],
   "source": [
    "conn = pymysql.connect(host='localhost', user='root', \n",
    "                       password='3756', db='tips', charset='utf8',\n",
    "                       autocommit=True, cursorclass=pymysql.cursors.DictCursor)\n",
    "try:\n",
    "    with conn.cursor() as curs:\n",
    "        sql = \"select * from tips;\"\n",
    "        curs.execute(sql)\n",
    "        rs = curs.fetchall()\n",
    "        \n",
    "        tips = pd.DataFrame(rs)\n",
    "\n",
    "finally:\n",
    "    conn.close()\n",
    "\n",
    "tips.tail(3)"
   ]
  },
  {
   "cell_type": "markdown",
   "id": "7b3970da-861c-4c5f-a383-c5924faeea2f",
   "metadata": {},
   "source": [
    "- `None`값이 있으면 Imputer를 돌릴 때 오류가 나므로 `nan`으로 바꿔준다."
   ]
  },
  {
   "cell_type": "code",
   "execution_count": 3,
   "id": "0503b40e-bf03-419e-97ff-73c89585ffe1",
   "metadata": {},
   "outputs": [],
   "source": [
    "tips = tips.fillna(value=np.nan)\n",
    "# 또는\n",
    "# tips.replace(to_replace=[None], value=np.nan, inplace=True)"
   ]
  },
  {
   "cell_type": "code",
   "execution_count": 4,
   "id": "95a9eb59-8a40-4c91-ac69-95150573ca16",
   "metadata": {},
   "outputs": [
    {
     "data": {
      "text/html": [
       "<div>\n",
       "<style scoped>\n",
       "    .dataframe tbody tr th:only-of-type {\n",
       "        vertical-align: middle;\n",
       "    }\n",
       "\n",
       "    .dataframe tbody tr th {\n",
       "        vertical-align: top;\n",
       "    }\n",
       "\n",
       "    .dataframe thead th {\n",
       "        text-align: right;\n",
       "    }\n",
       "</style>\n",
       "<table border=\"1\" class=\"dataframe\">\n",
       "  <thead>\n",
       "    <tr style=\"text-align: right;\">\n",
       "      <th></th>\n",
       "      <th>total_bill</th>\n",
       "      <th>tip</th>\n",
       "      <th>sex</th>\n",
       "      <th>smoker</th>\n",
       "      <th>day</th>\n",
       "      <th>time</th>\n",
       "      <th>size</th>\n",
       "    </tr>\n",
       "  </thead>\n",
       "  <tbody>\n",
       "    <tr>\n",
       "      <th>245</th>\n",
       "      <td>20.65</td>\n",
       "      <td>3.35</td>\n",
       "      <td>Male</td>\n",
       "      <td>No</td>\n",
       "      <td>NaN</td>\n",
       "      <td>Dinner</td>\n",
       "      <td>3.0</td>\n",
       "    </tr>\n",
       "    <tr>\n",
       "      <th>246</th>\n",
       "      <td>20.65</td>\n",
       "      <td>3.35</td>\n",
       "      <td>Male</td>\n",
       "      <td>No</td>\n",
       "      <td>Sun</td>\n",
       "      <td>NaN</td>\n",
       "      <td>NaN</td>\n",
       "    </tr>\n",
       "    <tr>\n",
       "      <th>247</th>\n",
       "      <td>20.65</td>\n",
       "      <td>3.35</td>\n",
       "      <td>NaN</td>\n",
       "      <td>No</td>\n",
       "      <td>Sat</td>\n",
       "      <td>Dinner</td>\n",
       "      <td>5.0</td>\n",
       "    </tr>\n",
       "  </tbody>\n",
       "</table>\n",
       "</div>"
      ],
      "text/plain": [
       "     total_bill   tip   sex smoker  day    time  size\n",
       "245       20.65  3.35  Male     No  NaN  Dinner   3.0\n",
       "246       20.65  3.35  Male     No  Sun     NaN   NaN\n",
       "247       20.65  3.35   NaN     No  Sat  Dinner   5.0"
      ]
     },
     "execution_count": 4,
     "metadata": {},
     "output_type": "execute_result"
    }
   ],
   "source": [
    "tips.tail(3)"
   ]
  },
  {
   "cell_type": "markdown",
   "id": "e85ae926-99cf-41b1-b258-92b6defab3d2",
   "metadata": {},
   "source": [
    "# 2. 범주형 데이터를 숫자형으로 변환"
   ]
  },
  {
   "cell_type": "markdown",
   "id": "8ffcf188-e50c-4958-87ac-0e9b4d747be1",
   "metadata": {},
   "source": [
    "## 2-1. 직접 값을 줘서 변환"
   ]
  },
  {
   "cell_type": "code",
   "execution_count": 4,
   "id": "f790723a-c6c9-43e9-93df-5f59545ac4d6",
   "metadata": {},
   "outputs": [
    {
     "data": {
      "text/html": [
       "<div>\n",
       "<style scoped>\n",
       "    .dataframe tbody tr th:only-of-type {\n",
       "        vertical-align: middle;\n",
       "    }\n",
       "\n",
       "    .dataframe tbody tr th {\n",
       "        vertical-align: top;\n",
       "    }\n",
       "\n",
       "    .dataframe thead th {\n",
       "        text-align: right;\n",
       "    }\n",
       "</style>\n",
       "<table border=\"1\" class=\"dataframe\">\n",
       "  <thead>\n",
       "    <tr style=\"text-align: right;\">\n",
       "      <th></th>\n",
       "      <th>total_bill</th>\n",
       "      <th>tip</th>\n",
       "      <th>sex</th>\n",
       "      <th>smoker</th>\n",
       "      <th>day</th>\n",
       "      <th>time</th>\n",
       "      <th>size</th>\n",
       "    </tr>\n",
       "  </thead>\n",
       "  <tbody>\n",
       "    <tr>\n",
       "      <th>245</th>\n",
       "      <td>20.65</td>\n",
       "      <td>3.35</td>\n",
       "      <td>1.0</td>\n",
       "      <td>0</td>\n",
       "      <td>NaN</td>\n",
       "      <td>1.0</td>\n",
       "      <td>3.0</td>\n",
       "    </tr>\n",
       "    <tr>\n",
       "      <th>246</th>\n",
       "      <td>20.65</td>\n",
       "      <td>3.35</td>\n",
       "      <td>1.0</td>\n",
       "      <td>0</td>\n",
       "      <td>3.0</td>\n",
       "      <td>NaN</td>\n",
       "      <td>NaN</td>\n",
       "    </tr>\n",
       "    <tr>\n",
       "      <th>247</th>\n",
       "      <td>20.65</td>\n",
       "      <td>3.35</td>\n",
       "      <td>NaN</td>\n",
       "      <td>0</td>\n",
       "      <td>2.0</td>\n",
       "      <td>1.0</td>\n",
       "      <td>5.0</td>\n",
       "    </tr>\n",
       "  </tbody>\n",
       "</table>\n",
       "</div>"
      ],
      "text/plain": [
       "     total_bill   tip  sex  smoker  day  time  size\n",
       "245       20.65  3.35  1.0       0  NaN   1.0   3.0\n",
       "246       20.65  3.35  1.0       0  3.0   NaN   NaN\n",
       "247       20.65  3.35  NaN       0  2.0   1.0   5.0"
      ]
     },
     "execution_count": 4,
     "metadata": {},
     "output_type": "execute_result"
    }
   ],
   "source": [
    "tips['sex'].replace({'Female':0, 'Male':1}, inplace=True)\n",
    "tips['smoker'].replace({'No':0, 'Yes':1}, inplace=True)\n",
    "tips['day'].replace({'Thur':0, 'Fri':1, 'Sat':2, 'Sun':3}, inplace=True)\n",
    "tips['time'].replace({'Lunch':0, 'Dinner':1}, inplace=True)\n",
    "tips.tail(3)"
   ]
  },
  {
   "cell_type": "code",
   "execution_count": 5,
   "id": "fd346b5f-46a3-4202-8ed6-2c8dbc5a6c9a",
   "metadata": {},
   "outputs": [
    {
     "data": {
      "text/plain": [
       "total_bill    0\n",
       "tip           0\n",
       "sex           1\n",
       "smoker        0\n",
       "day           1\n",
       "time          1\n",
       "size          1\n",
       "dtype: int64"
      ]
     },
     "execution_count": 5,
     "metadata": {},
     "output_type": "execute_result"
    }
   ],
   "source": [
    "tips.isnull().sum()"
   ]
  },
  {
   "cell_type": "markdown",
   "id": "d92b92dd-6416-4da3-83b3-e482943a2ed5",
   "metadata": {},
   "source": [
    "# 3. Imputer로 NaN값 처리\n",
    "- imputer가 numpy array만으로 처리하므로 df.values로 array로 변환"
   ]
  },
  {
   "cell_type": "code",
   "execution_count": 5,
   "id": "d147cba6-1559-4a97-89d9-511965b26207",
   "metadata": {},
   "outputs": [
    {
     "data": {
      "text/plain": [
       "array([[20.65, 3.35, 'Male', 'No', nan, 'Dinner', 3.0],\n",
       "       [20.65, 3.35, 'Male', 'No', 'Sun', nan, nan],\n",
       "       [20.65, 3.35, nan, 'No', 'Sat', 'Dinner', 5.0]], dtype=object)"
      ]
     },
     "execution_count": 5,
     "metadata": {},
     "output_type": "execute_result"
    }
   ],
   "source": [
    "from sklearn.impute import SimpleImputer\n",
    "from numpy import isnan\n",
    "import numpy\n",
    "data = tips.values\n",
    "# print('Missing: %d' % sum(isnan(data).flatten())) # object가 섞여있으면 오류 발생\n",
    "data[-3:, :]"
   ]
  },
  {
   "cell_type": "code",
   "execution_count": 6,
   "id": "83a47676-4b8f-4cac-a0e5-e32d90b6a9f8",
   "metadata": {},
   "outputs": [],
   "source": [
    "# 카테고리형 변수이므로 중앙값 또는 최빈값 주기\n",
    "imputer = SimpleImputer(strategy='most_frequent') # strategy='median'\n",
    "imputer.fit(data)\n",
    "data_trans = imputer.transform(data)\n",
    "\n",
    "# print('Missing: %d' % sum(isnan(data_trans).flatten()))"
   ]
  },
  {
   "cell_type": "code",
   "execution_count": 7,
   "id": "dbb36af2-eb64-4790-a37a-d46314e0772d",
   "metadata": {},
   "outputs": [],
   "source": [
    "tips = pd.DataFrame(data_trans, columns=tips.columns)"
   ]
  },
  {
   "cell_type": "code",
   "execution_count": 8,
   "id": "fa026048-14df-4fc2-81bf-8a88ac0a188d",
   "metadata": {},
   "outputs": [
    {
     "data": {
      "text/html": [
       "<div>\n",
       "<style scoped>\n",
       "    .dataframe tbody tr th:only-of-type {\n",
       "        vertical-align: middle;\n",
       "    }\n",
       "\n",
       "    .dataframe tbody tr th {\n",
       "        vertical-align: top;\n",
       "    }\n",
       "\n",
       "    .dataframe thead th {\n",
       "        text-align: right;\n",
       "    }\n",
       "</style>\n",
       "<table border=\"1\" class=\"dataframe\">\n",
       "  <thead>\n",
       "    <tr style=\"text-align: right;\">\n",
       "      <th></th>\n",
       "      <th>total_bill</th>\n",
       "      <th>tip</th>\n",
       "      <th>sex</th>\n",
       "      <th>smoker</th>\n",
       "      <th>day</th>\n",
       "      <th>time</th>\n",
       "      <th>size</th>\n",
       "    </tr>\n",
       "  </thead>\n",
       "  <tbody>\n",
       "    <tr>\n",
       "      <th>245</th>\n",
       "      <td>20.65</td>\n",
       "      <td>3.35</td>\n",
       "      <td>Male</td>\n",
       "      <td>No</td>\n",
       "      <td>Sat</td>\n",
       "      <td>Dinner</td>\n",
       "      <td>3.0</td>\n",
       "    </tr>\n",
       "    <tr>\n",
       "      <th>246</th>\n",
       "      <td>20.65</td>\n",
       "      <td>3.35</td>\n",
       "      <td>Male</td>\n",
       "      <td>No</td>\n",
       "      <td>Sun</td>\n",
       "      <td>Dinner</td>\n",
       "      <td>2.0</td>\n",
       "    </tr>\n",
       "    <tr>\n",
       "      <th>247</th>\n",
       "      <td>20.65</td>\n",
       "      <td>3.35</td>\n",
       "      <td>Male</td>\n",
       "      <td>No</td>\n",
       "      <td>Sat</td>\n",
       "      <td>Dinner</td>\n",
       "      <td>5.0</td>\n",
       "    </tr>\n",
       "  </tbody>\n",
       "</table>\n",
       "</div>"
      ],
      "text/plain": [
       "    total_bill   tip   sex smoker  day    time size\n",
       "245      20.65  3.35  Male     No  Sat  Dinner  3.0\n",
       "246      20.65  3.35  Male     No  Sun  Dinner  2.0\n",
       "247      20.65  3.35  Male     No  Sat  Dinner  5.0"
      ]
     },
     "execution_count": 8,
     "metadata": {},
     "output_type": "execute_result"
    }
   ],
   "source": [
    "tips.tail(3)"
   ]
  },
  {
   "cell_type": "markdown",
   "id": "25717af2-18d1-46f3-a2ee-c6c4c1ff181b",
   "metadata": {},
   "source": [
    "## 2-2. Encoder를 가져와서 변환\n",
    "- NaN이나 None 값이 있으면 안 되므로 이 방법을 사용할 때는 imputer로 전처리 해준 뒤 처리해야함"
   ]
  },
  {
   "cell_type": "code",
   "execution_count": 9,
   "id": "002c8563-e761-4c95-8c2c-8eb495381b92",
   "metadata": {},
   "outputs": [
    {
     "data": {
      "text/html": [
       "<div>\n",
       "<style scoped>\n",
       "    .dataframe tbody tr th:only-of-type {\n",
       "        vertical-align: middle;\n",
       "    }\n",
       "\n",
       "    .dataframe tbody tr th {\n",
       "        vertical-align: top;\n",
       "    }\n",
       "\n",
       "    .dataframe thead th {\n",
       "        text-align: right;\n",
       "    }\n",
       "</style>\n",
       "<table border=\"1\" class=\"dataframe\">\n",
       "  <thead>\n",
       "    <tr style=\"text-align: right;\">\n",
       "      <th></th>\n",
       "      <th>total_bill</th>\n",
       "      <th>tip</th>\n",
       "      <th>sex</th>\n",
       "      <th>smoker</th>\n",
       "      <th>day</th>\n",
       "      <th>time</th>\n",
       "      <th>size</th>\n",
       "    </tr>\n",
       "  </thead>\n",
       "  <tbody>\n",
       "    <tr>\n",
       "      <th>245</th>\n",
       "      <td>20.65</td>\n",
       "      <td>3.35</td>\n",
       "      <td>1.0</td>\n",
       "      <td>0.0</td>\n",
       "      <td>1.0</td>\n",
       "      <td>0.0</td>\n",
       "      <td>3.0</td>\n",
       "    </tr>\n",
       "    <tr>\n",
       "      <th>246</th>\n",
       "      <td>20.65</td>\n",
       "      <td>3.35</td>\n",
       "      <td>1.0</td>\n",
       "      <td>0.0</td>\n",
       "      <td>2.0</td>\n",
       "      <td>0.0</td>\n",
       "      <td>2.0</td>\n",
       "    </tr>\n",
       "    <tr>\n",
       "      <th>247</th>\n",
       "      <td>20.65</td>\n",
       "      <td>3.35</td>\n",
       "      <td>1.0</td>\n",
       "      <td>0.0</td>\n",
       "      <td>1.0</td>\n",
       "      <td>0.0</td>\n",
       "      <td>5.0</td>\n",
       "    </tr>\n",
       "  </tbody>\n",
       "</table>\n",
       "</div>"
      ],
      "text/plain": [
       "    total_bill   tip  sex smoker  day time size\n",
       "245      20.65  3.35  1.0    0.0  1.0  0.0  3.0\n",
       "246      20.65  3.35  1.0    0.0  2.0  0.0  2.0\n",
       "247      20.65  3.35  1.0    0.0  1.0  0.0  5.0"
      ]
     },
     "execution_count": 9,
     "metadata": {},
     "output_type": "execute_result"
    }
   ],
   "source": [
    "from sklearn.preprocessing import OrdinalEncoder\n",
    "encoder = OrdinalEncoder()\n",
    "onehot = encoder.fit_transform(tips.loc[:,['sex', 'smoker', 'day', 'time']])\n",
    "x = pd.DataFrame(onehot, columns=['sex', 'smoker', 'day', 'time'])\n",
    "tips.loc[:,['sex', 'smoker', 'day', 'time']] = x\n",
    "tips.tail(3)"
   ]
  },
  {
   "cell_type": "markdown",
   "id": "ca5c8742-1ad7-46d2-8fcd-50d95f34ca80",
   "metadata": {},
   "source": [
    "# 4. Feature 줄이기"
   ]
  },
  {
   "attachments": {
    "26fda88e-37eb-46e1-8fb5-c1d4dbc42d72.png": {
     "image/png": "[encoded data removed]"
    }
   },
   "cell_type": "markdown",
   "id": "1868ac6b-467e-4b76-b796-4601182f8e50",
   "metadata": {},
   "source": [
    "![image.png](attachment:26fda88e-37eb-46e1-8fb5-c1d4dbc42d72.png)"
   ]
  },
  {
   "cell_type": "markdown",
   "id": "1683bff3-ed81-4224-a59b-aa099990fcad",
   "metadata": {},
   "source": [
    "- PCA : 목표 변수가 없음 (Dimensionality Reduction)\n",
    "    - input parameter 끼리의 상관관계만으로 fit, transform\n",
    "- RFE : 목표 변수가 존재 (y값에 영향이 큰 변수 찾기)\n",
    "\n",
    "RFE는 total bill을 예측하는지 아니면 tip을 예측하는지 등 y값에 따라 차원을 축소시키고 PCA는 y값과 관계없이 독립변수만으로 차원을 축소시킨다."
   ]
  },
  {
   "cell_type": "markdown",
   "id": "ae82d5f7-6cf7-4d64-8089-87c8a0e5c6df",
   "metadata": {},
   "source": [
    "## 4-1. RFE\n",
    "- 목표변수(y) : total_bill\n",
    "- 독립변수(X) : tip, sex, smoker, day, time, size"
   ]
  },
  {
   "cell_type": "code",
   "execution_count": 10,
   "id": "fb7b59d1-b450-49fd-8e5d-fe8835073d48",
   "metadata": {},
   "outputs": [],
   "source": [
    "data = tips.values\n",
    "X = np.array(data[:, 1:], dtype=float) # train data\n",
    "y = np.array(data[:, 0], dtype=float)"
   ]
  },
  {
   "cell_type": "markdown",
   "id": "28342f59-87b2-417c-b2c0-0223f72fe9ae",
   "metadata": {},
   "source": [
    "### 4-1-1. Linear Regression"
   ]
  },
  {
   "cell_type": "code",
   "execution_count": 11,
   "id": "3b45a26b-692f-4b4c-bcb2-35b0a7419785",
   "metadata": {},
   "outputs": [
    {
     "data": {
      "text/plain": [
       "RFE(estimator=LinearRegression(), n_features_to_select=4)"
      ]
     },
     "execution_count": 11,
     "metadata": {},
     "output_type": "execute_result"
    }
   ],
   "source": [
    "from sklearn.feature_selection import RFE\n",
    "# from sklearn.tree import DecisionTreeClassifier # 변수가 0, 1일 때 사용\n",
    "from sklearn.linear_model import LinearRegression\n",
    "\n",
    "rfe = RFE(estimator=LinearRegression(), n_features_to_select=4)\n",
    "rfe.fit(X, y)"
   ]
  },
  {
   "cell_type": "code",
   "execution_count": 12,
   "id": "b338f313-95e8-4c8c-b7c7-3d81b672791d",
   "metadata": {},
   "outputs": [
    {
     "name": "stdout",
     "output_type": "stream",
     "text": [
      "tip,\tRank: 1\n",
      "sex,\tRank: 2\n",
      "smoker,\tRank: 1\n",
      "day,\tRank: 3\n",
      "time,\tRank: 1\n",
      "size,\tRank: 1\n"
     ]
    }
   ],
   "source": [
    "x = [name for name in tips.columns if name not in ['total_bill']]\n",
    "for i in range(X.shape[1]):\n",
    "    print(f'{x[i]},\\tRank: {rfe.ranking_[i]}')\n",
    "# rfe.support_"
   ]
  },
  {
   "cell_type": "markdown",
   "id": "b242fc53-b55a-44c4-9814-c73882b4b5f4",
   "metadata": {},
   "source": [
    "### 4-1-2. SVR (Support Vector Regression)\n",
    "- `kernel='linear'`로 줬기 때문에 Linear Regression과 같은 결과가 나온다."
   ]
  },
  {
   "cell_type": "code",
   "execution_count": 13,
   "id": "710d773d-266e-4196-8be1-70d503f422bc",
   "metadata": {},
   "outputs": [
    {
     "data": {
      "text/plain": [
       "RFE(estimator=LinearRegression(), n_features_to_select=4)"
      ]
     },
     "execution_count": 13,
     "metadata": {},
     "output_type": "execute_result"
    }
   ],
   "source": [
    "from sklearn.svm import SVR\n",
    "\n",
    "selector = RFE(estimator=SVR(kernel='linear'), n_features_to_select=4)\n",
    "rfe.fit(X, y)"
   ]
  },
  {
   "cell_type": "code",
   "execution_count": 14,
   "id": "9c24d5a7-220a-4bc2-abc7-3ce74cd52253",
   "metadata": {},
   "outputs": [
    {
     "name": "stdout",
     "output_type": "stream",
     "text": [
      "tip \tRank: 1\n",
      "sex \tRank: 2\n",
      "smoker \tRank: 1\n",
      "day \tRank: 3\n",
      "time \tRank: 1\n",
      "size \tRank: 1\n"
     ]
    }
   ],
   "source": [
    "x = [name for name in tips.columns if name not in ['total_bill']]\n",
    "for i in range(X.shape[1]):\n",
    "    print(f'{x[i]} \\tRank: {rfe.ranking_[i]}')"
   ]
  },
  {
   "cell_type": "markdown",
   "id": "22725f85-7d49-4b80-86e5-386d6fa920df",
   "metadata": {},
   "source": [
    "# 5. Normalization / Standardization"
   ]
  },
  {
   "cell_type": "markdown",
   "id": "1d3d5404-4365-4795-9ea4-802127beef14",
   "metadata": {},
   "source": [
    "## 5-1. Normalization"
   ]
  },
  {
   "cell_type": "code",
   "execution_count": 15,
   "id": "f581ecdd-1956-4920-9577-31ad09c0c41b",
   "metadata": {},
   "outputs": [
    {
     "data": {
      "text/html": [
       "<div>\n",
       "<style scoped>\n",
       "    .dataframe tbody tr th:only-of-type {\n",
       "        vertical-align: middle;\n",
       "    }\n",
       "\n",
       "    .dataframe tbody tr th {\n",
       "        vertical-align: top;\n",
       "    }\n",
       "\n",
       "    .dataframe thead th {\n",
       "        text-align: right;\n",
       "    }\n",
       "</style>\n",
       "<table border=\"1\" class=\"dataframe\">\n",
       "  <thead>\n",
       "    <tr style=\"text-align: right;\">\n",
       "      <th></th>\n",
       "      <th>tip</th>\n",
       "      <th>sex</th>\n",
       "      <th>smoker</th>\n",
       "      <th>day</th>\n",
       "      <th>time</th>\n",
       "      <th>size</th>\n",
       "    </tr>\n",
       "  </thead>\n",
       "  <tbody>\n",
       "    <tr>\n",
       "      <th>0</th>\n",
       "      <td>0.001111</td>\n",
       "      <td>0.0</td>\n",
       "      <td>0.0</td>\n",
       "      <td>0.666667</td>\n",
       "      <td>0.0</td>\n",
       "      <td>0.2</td>\n",
       "    </tr>\n",
       "    <tr>\n",
       "      <th>1</th>\n",
       "      <td>0.073333</td>\n",
       "      <td>1.0</td>\n",
       "      <td>0.0</td>\n",
       "      <td>0.666667</td>\n",
       "      <td>0.0</td>\n",
       "      <td>0.4</td>\n",
       "    </tr>\n",
       "    <tr>\n",
       "      <th>2</th>\n",
       "      <td>0.277778</td>\n",
       "      <td>1.0</td>\n",
       "      <td>0.0</td>\n",
       "      <td>0.666667</td>\n",
       "      <td>0.0</td>\n",
       "      <td>0.4</td>\n",
       "    </tr>\n",
       "  </tbody>\n",
       "</table>\n",
       "</div>"
      ],
      "text/plain": [
       "        tip  sex  smoker       day  time  size\n",
       "0  0.001111  0.0     0.0  0.666667   0.0   0.2\n",
       "1  0.073333  1.0     0.0  0.666667   0.0   0.4\n",
       "2  0.277778  1.0     0.0  0.666667   0.0   0.4"
      ]
     },
     "execution_count": 15,
     "metadata": {},
     "output_type": "execute_result"
    }
   ],
   "source": [
    "from sklearn.preprocessing import MinMaxScaler\n",
    "\n",
    "trans = MinMaxScaler()\n",
    "X_norm = trans.fit_transform(X)\n",
    "X_norm = pd.DataFrame(X_norm, \n",
    "                      columns=[name for name in tips.columns if name != 'total_bill'])\n",
    "X_norm.head(3)"
   ]
  },
  {
   "cell_type": "code",
   "execution_count": 16,
   "id": "17db569b-8927-4ce3-93da-68a29826bd91",
   "metadata": {},
   "outputs": [
    {
     "data": {
      "text/html": [
       "<div>\n",
       "<style scoped>\n",
       "    .dataframe tbody tr th:only-of-type {\n",
       "        vertical-align: middle;\n",
       "    }\n",
       "\n",
       "    .dataframe tbody tr th {\n",
       "        vertical-align: top;\n",
       "    }\n",
       "\n",
       "    .dataframe thead th {\n",
       "        text-align: right;\n",
       "    }\n",
       "</style>\n",
       "<table border=\"1\" class=\"dataframe\">\n",
       "  <thead>\n",
       "    <tr style=\"text-align: right;\">\n",
       "      <th></th>\n",
       "      <th>tip</th>\n",
       "      <th>sex</th>\n",
       "      <th>smoker</th>\n",
       "      <th>day</th>\n",
       "      <th>time</th>\n",
       "      <th>size</th>\n",
       "    </tr>\n",
       "  </thead>\n",
       "  <tbody>\n",
       "    <tr>\n",
       "      <th>count</th>\n",
       "      <td>248.00</td>\n",
       "      <td>248.00</td>\n",
       "      <td>248.00</td>\n",
       "      <td>248.00</td>\n",
       "      <td>248.00</td>\n",
       "      <td>248.00</td>\n",
       "    </tr>\n",
       "    <tr>\n",
       "      <th>mean</th>\n",
       "      <td>0.22</td>\n",
       "      <td>0.65</td>\n",
       "      <td>0.38</td>\n",
       "      <td>0.58</td>\n",
       "      <td>0.27</td>\n",
       "      <td>0.32</td>\n",
       "    </tr>\n",
       "    <tr>\n",
       "      <th>std</th>\n",
       "      <td>0.15</td>\n",
       "      <td>0.48</td>\n",
       "      <td>0.49</td>\n",
       "      <td>0.31</td>\n",
       "      <td>0.45</td>\n",
       "      <td>0.19</td>\n",
       "    </tr>\n",
       "    <tr>\n",
       "      <th>min</th>\n",
       "      <td>0.00</td>\n",
       "      <td>0.00</td>\n",
       "      <td>0.00</td>\n",
       "      <td>0.00</td>\n",
       "      <td>0.00</td>\n",
       "      <td>0.00</td>\n",
       "    </tr>\n",
       "    <tr>\n",
       "      <th>25%</th>\n",
       "      <td>0.11</td>\n",
       "      <td>0.00</td>\n",
       "      <td>0.00</td>\n",
       "      <td>0.33</td>\n",
       "      <td>0.00</td>\n",
       "      <td>0.20</td>\n",
       "    </tr>\n",
       "    <tr>\n",
       "      <th>50%</th>\n",
       "      <td>0.22</td>\n",
       "      <td>1.00</td>\n",
       "      <td>0.00</td>\n",
       "      <td>0.67</td>\n",
       "      <td>0.00</td>\n",
       "      <td>0.20</td>\n",
       "    </tr>\n",
       "    <tr>\n",
       "      <th>75%</th>\n",
       "      <td>0.28</td>\n",
       "      <td>1.00</td>\n",
       "      <td>1.00</td>\n",
       "      <td>0.75</td>\n",
       "      <td>1.00</td>\n",
       "      <td>0.40</td>\n",
       "    </tr>\n",
       "    <tr>\n",
       "      <th>max</th>\n",
       "      <td>1.00</td>\n",
       "      <td>1.00</td>\n",
       "      <td>1.00</td>\n",
       "      <td>1.00</td>\n",
       "      <td>1.00</td>\n",
       "      <td>1.00</td>\n",
       "    </tr>\n",
       "  </tbody>\n",
       "</table>\n",
       "</div>"
      ],
      "text/plain": [
       "          tip     sex  smoker     day    time    size\n",
       "count  248.00  248.00  248.00  248.00  248.00  248.00\n",
       "mean     0.22    0.65    0.38    0.58    0.27    0.32\n",
       "std      0.15    0.48    0.49    0.31    0.45    0.19\n",
       "min      0.00    0.00    0.00    0.00    0.00    0.00\n",
       "25%      0.11    0.00    0.00    0.33    0.00    0.20\n",
       "50%      0.22    1.00    0.00    0.67    0.00    0.20\n",
       "75%      0.28    1.00    1.00    0.75    1.00    0.40\n",
       "max      1.00    1.00    1.00    1.00    1.00    1.00"
      ]
     },
     "execution_count": 16,
     "metadata": {},
     "output_type": "execute_result"
    }
   ],
   "source": [
    "X_norm.describe().round(2)"
   ]
  },
  {
   "cell_type": "markdown",
   "id": "d155304b-a24e-4db5-ae6f-cc50eb792f2d",
   "metadata": {},
   "source": [
    "## 5-2. Standardization"
   ]
  },
  {
   "cell_type": "code",
   "execution_count": 17,
   "id": "6e62397b-413b-4489-a433-1df4d53ecac4",
   "metadata": {},
   "outputs": [
    {
     "data": {
      "text/html": [
       "<div>\n",
       "<style scoped>\n",
       "    .dataframe tbody tr th:only-of-type {\n",
       "        vertical-align: middle;\n",
       "    }\n",
       "\n",
       "    .dataframe tbody tr th {\n",
       "        vertical-align: top;\n",
       "    }\n",
       "\n",
       "    .dataframe thead th {\n",
       "        text-align: right;\n",
       "    }\n",
       "</style>\n",
       "<table border=\"1\" class=\"dataframe\">\n",
       "  <thead>\n",
       "    <tr style=\"text-align: right;\">\n",
       "      <th></th>\n",
       "      <th>tip</th>\n",
       "      <th>sex</th>\n",
       "      <th>smoker</th>\n",
       "      <th>day</th>\n",
       "      <th>time</th>\n",
       "      <th>size</th>\n",
       "    </tr>\n",
       "  </thead>\n",
       "  <tbody>\n",
       "    <tr>\n",
       "      <th>0</th>\n",
       "      <td>-1.442272</td>\n",
       "      <td>-1.34840</td>\n",
       "      <td>-0.774597</td>\n",
       "      <td>0.284849</td>\n",
       "      <td>-0.614636</td>\n",
       "      <td>-0.603300</td>\n",
       "    </tr>\n",
       "    <tr>\n",
       "      <th>1</th>\n",
       "      <td>-0.969877</td>\n",
       "      <td>0.74162</td>\n",
       "      <td>-0.774597</td>\n",
       "      <td>0.284849</td>\n",
       "      <td>-0.614636</td>\n",
       "      <td>0.442983</td>\n",
       "    </tr>\n",
       "    <tr>\n",
       "      <th>2</th>\n",
       "      <td>0.367367</td>\n",
       "      <td>0.74162</td>\n",
       "      <td>-0.774597</td>\n",
       "      <td>0.284849</td>\n",
       "      <td>-0.614636</td>\n",
       "      <td>0.442983</td>\n",
       "    </tr>\n",
       "  </tbody>\n",
       "</table>\n",
       "</div>"
      ],
      "text/plain": [
       "        tip      sex    smoker       day      time      size\n",
       "0 -1.442272 -1.34840 -0.774597  0.284849 -0.614636 -0.603300\n",
       "1 -0.969877  0.74162 -0.774597  0.284849 -0.614636  0.442983\n",
       "2  0.367367  0.74162 -0.774597  0.284849 -0.614636  0.442983"
      ]
     },
     "execution_count": 17,
     "metadata": {},
     "output_type": "execute_result"
    }
   ],
   "source": [
    "from sklearn.preprocessing import StandardScaler\n",
    "\n",
    "trans = StandardScaler()\n",
    "X_std = trans.fit_transform(X)\n",
    "X_std = pd.DataFrame(X_std,\n",
    "                    columns=[name for name in tips.columns if name != 'total_bill'])\n",
    "X_std.head(3)"
   ]
  },
  {
   "cell_type": "code",
   "execution_count": 18,
   "id": "82ac54bb-cece-47ae-b5c7-6240fe50d458",
   "metadata": {},
   "outputs": [
    {
     "data": {
      "text/html": [
       "<div>\n",
       "<style scoped>\n",
       "    .dataframe tbody tr th:only-of-type {\n",
       "        vertical-align: middle;\n",
       "    }\n",
       "\n",
       "    .dataframe tbody tr th {\n",
       "        vertical-align: top;\n",
       "    }\n",
       "\n",
       "    .dataframe thead th {\n",
       "        text-align: right;\n",
       "    }\n",
       "</style>\n",
       "<table border=\"1\" class=\"dataframe\">\n",
       "  <thead>\n",
       "    <tr style=\"text-align: right;\">\n",
       "      <th></th>\n",
       "      <th>tip</th>\n",
       "      <th>sex</th>\n",
       "      <th>smoker</th>\n",
       "      <th>day</th>\n",
       "      <th>time</th>\n",
       "      <th>size</th>\n",
       "    </tr>\n",
       "  </thead>\n",
       "  <tbody>\n",
       "    <tr>\n",
       "      <th>count</th>\n",
       "      <td>248.00</td>\n",
       "      <td>248.00</td>\n",
       "      <td>248.00</td>\n",
       "      <td>248.00</td>\n",
       "      <td>248.00</td>\n",
       "      <td>248.00</td>\n",
       "    </tr>\n",
       "    <tr>\n",
       "      <th>mean</th>\n",
       "      <td>-0.00</td>\n",
       "      <td>-0.00</td>\n",
       "      <td>-0.00</td>\n",
       "      <td>0.00</td>\n",
       "      <td>-0.00</td>\n",
       "      <td>-0.00</td>\n",
       "    </tr>\n",
       "    <tr>\n",
       "      <th>std</th>\n",
       "      <td>1.00</td>\n",
       "      <td>1.00</td>\n",
       "      <td>1.00</td>\n",
       "      <td>1.00</td>\n",
       "      <td>1.00</td>\n",
       "      <td>1.00</td>\n",
       "    </tr>\n",
       "    <tr>\n",
       "      <th>min</th>\n",
       "      <td>-1.45</td>\n",
       "      <td>-1.35</td>\n",
       "      <td>-0.77</td>\n",
       "      <td>-1.89</td>\n",
       "      <td>-0.61</td>\n",
       "      <td>-1.65</td>\n",
       "    </tr>\n",
       "    <tr>\n",
       "      <th>25%</th>\n",
       "      <td>-0.72</td>\n",
       "      <td>-1.35</td>\n",
       "      <td>-0.77</td>\n",
       "      <td>-0.80</td>\n",
       "      <td>-0.61</td>\n",
       "      <td>-0.60</td>\n",
       "    </tr>\n",
       "    <tr>\n",
       "      <th>50%</th>\n",
       "      <td>-0.03</td>\n",
       "      <td>0.74</td>\n",
       "      <td>-0.77</td>\n",
       "      <td>0.28</td>\n",
       "      <td>-0.61</td>\n",
       "      <td>-0.60</td>\n",
       "    </tr>\n",
       "    <tr>\n",
       "      <th>75%</th>\n",
       "      <td>0.38</td>\n",
       "      <td>0.74</td>\n",
       "      <td>1.29</td>\n",
       "      <td>0.56</td>\n",
       "      <td>1.63</td>\n",
       "      <td>0.44</td>\n",
       "    </tr>\n",
       "    <tr>\n",
       "      <th>max</th>\n",
       "      <td>5.09</td>\n",
       "      <td>0.74</td>\n",
       "      <td>1.29</td>\n",
       "      <td>1.37</td>\n",
       "      <td>1.63</td>\n",
       "      <td>3.58</td>\n",
       "    </tr>\n",
       "  </tbody>\n",
       "</table>\n",
       "</div>"
      ],
      "text/plain": [
       "          tip     sex  smoker     day    time    size\n",
       "count  248.00  248.00  248.00  248.00  248.00  248.00\n",
       "mean    -0.00   -0.00   -0.00    0.00   -0.00   -0.00\n",
       "std      1.00    1.00    1.00    1.00    1.00    1.00\n",
       "min     -1.45   -1.35   -0.77   -1.89   -0.61   -1.65\n",
       "25%     -0.72   -1.35   -0.77   -0.80   -0.61   -0.60\n",
       "50%     -0.03    0.74   -0.77    0.28   -0.61   -0.60\n",
       "75%      0.38    0.74    1.29    0.56    1.63    0.44\n",
       "max      5.09    0.74    1.29    1.37    1.63    3.58"
      ]
     },
     "execution_count": 18,
     "metadata": {},
     "output_type": "execute_result"
    }
   ],
   "source": [
    "X_std.describe().round(2)"
   ]
  },
  {
   "cell_type": "markdown",
   "id": "146ff478-4b5a-42eb-ab96-640d202f163d",
   "metadata": {},
   "source": [
    "## 4-2. PCA"
   ]
  },
  {
   "cell_type": "code",
   "execution_count": 19,
   "id": "81b6ccba-e78e-4e41-a4b1-51ac63ae8ab7",
   "metadata": {},
   "outputs": [
    {
     "data": {
      "text/plain": [
       "array([[-2.04142827, -0.27572057, -0.37267695,  0.23740871],\n",
       "       [-0.97776508, -0.32563545, -1.0102352 , -0.49563405],\n",
       "       [ 0.66877699, -0.23282862, -0.19947924, -0.50543266],\n",
       "       [ 0.05649013, -0.09974271,  0.58868116, -0.62615533],\n",
       "       [ 1.16973425, -0.42991893, -0.97080307,  0.46703182]])"
      ]
     },
     "execution_count": 19,
     "metadata": {},
     "output_type": "execute_result"
    }
   ],
   "source": [
    "from sklearn.decomposition import PCA\n",
    "\n",
    "trans = PCA(n_components=4)\n",
    "X_pca = trans.fit_transform(X)\n",
    "X_pca[:5, :]"
   ]
  },
  {
   "cell_type": "markdown",
   "id": "a3f7ce2a-2184-443b-a096-8325b89cf90b",
   "metadata": {},
   "source": [
    "## 4-3. SelectKBest - f_regression"
   ]
  },
  {
   "cell_type": "code",
   "execution_count": 20,
   "id": "d0c21053-128e-4bc9-8461-cf899e00f040",
   "metadata": {},
   "outputs": [
    {
     "data": {
      "text/plain": [
       "array([[3.  , 0.  , 0.  , 2.  ],\n",
       "       [1.01, 0.  , 0.  , 2.  ],\n",
       "       [3.35, 1.  , 0.  , 3.  ],\n",
       "       [3.35, 1.  , 0.  , 2.  ],\n",
       "       [3.35, 1.  , 0.  , 5.  ]])"
      ]
     },
     "execution_count": 20,
     "metadata": {},
     "output_type": "execute_result"
    }
   ],
   "source": [
    "from sklearn.feature_selection import SelectKBest\n",
    "from sklearn.feature_selection import f_regression\n",
    "\n",
    "fs = SelectKBest(score_func=f_regression, k=4)\n",
    "X_selected = fs.fit_transform(X, y)\n",
    "X_selected[-5:, :]"
   ]
  },
  {
   "cell_type": "code",
   "execution_count": 21,
   "id": "777f6987-0d9c-4d1d-967a-b97cb20a8268",
   "metadata": {},
   "outputs": [
    {
     "name": "stdout",
     "output_type": "stream",
     "text": [
      "tip \tScore: 205.4\n",
      "sex \tScore: 5.39\n",
      "smoker \tScore: 1.805\n",
      "day \tScore: 0.4836\n",
      "time \tScore: 8.47\n",
      "size \tScore: 132.0\n"
     ]
    }
   ],
   "source": [
    "x = [name for name in tips.columns if name not in ['total_bill']]\n",
    "for i in range(X.shape[1]):\n",
    "    print(f'{x[i]} \\tScore: {fs.scores_[i]:.4}')\n",
    "# fs.get_support()"
   ]
  },
  {
   "cell_type": "markdown",
   "id": "2c5b1249-1a35-4d89-82c0-e83f7f3b01e0",
   "metadata": {},
   "source": [
    "## 목표변수(y)를 tip으로, tip_rate라는 파생변수를 넣어 반복"
   ]
  },
  {
   "cell_type": "code",
   "execution_count": 29,
   "id": "e232de63-e600-4333-9191-0ab77f462237",
   "metadata": {},
   "outputs": [
    {
     "data": {
      "text/html": [
       "<div>\n",
       "<style scoped>\n",
       "    .dataframe tbody tr th:only-of-type {\n",
       "        vertical-align: middle;\n",
       "    }\n",
       "\n",
       "    .dataframe tbody tr th {\n",
       "        vertical-align: top;\n",
       "    }\n",
       "\n",
       "    .dataframe thead th {\n",
       "        text-align: right;\n",
       "    }\n",
       "</style>\n",
       "<table border=\"1\" class=\"dataframe\">\n",
       "  <thead>\n",
       "    <tr style=\"text-align: right;\">\n",
       "      <th></th>\n",
       "      <th>total_bill</th>\n",
       "      <th>tip</th>\n",
       "      <th>sex</th>\n",
       "      <th>smoker</th>\n",
       "      <th>day</th>\n",
       "      <th>time</th>\n",
       "      <th>size</th>\n",
       "      <th>tip_rate</th>\n",
       "    </tr>\n",
       "  </thead>\n",
       "  <tbody>\n",
       "    <tr>\n",
       "      <th>0</th>\n",
       "      <td>16.99</td>\n",
       "      <td>1.01</td>\n",
       "      <td>0.0</td>\n",
       "      <td>0.0</td>\n",
       "      <td>2.0</td>\n",
       "      <td>0.0</td>\n",
       "      <td>2.0</td>\n",
       "      <td>5.944673</td>\n",
       "    </tr>\n",
       "    <tr>\n",
       "      <th>1</th>\n",
       "      <td>10.34</td>\n",
       "      <td>1.66</td>\n",
       "      <td>1.0</td>\n",
       "      <td>0.0</td>\n",
       "      <td>2.0</td>\n",
       "      <td>0.0</td>\n",
       "      <td>3.0</td>\n",
       "      <td>16.054159</td>\n",
       "    </tr>\n",
       "    <tr>\n",
       "      <th>2</th>\n",
       "      <td>21.01</td>\n",
       "      <td>3.5</td>\n",
       "      <td>1.0</td>\n",
       "      <td>0.0</td>\n",
       "      <td>2.0</td>\n",
       "      <td>0.0</td>\n",
       "      <td>3.0</td>\n",
       "      <td>16.658734</td>\n",
       "    </tr>\n",
       "  </tbody>\n",
       "</table>\n",
       "</div>"
      ],
      "text/plain": [
       "  total_bill   tip  sex smoker  day time size   tip_rate\n",
       "0      16.99  1.01  0.0    0.0  2.0  0.0  2.0   5.944673\n",
       "1      10.34  1.66  1.0    0.0  2.0  0.0  3.0  16.054159\n",
       "2      21.01   3.5  1.0    0.0  2.0  0.0  3.0  16.658734"
      ]
     },
     "execution_count": 29,
     "metadata": {},
     "output_type": "execute_result"
    }
   ],
   "source": [
    "tips['tip_rate'] = tips['tip'] / tips['total_bill'] *100\n",
    "tips.head(3)"
   ]
  },
  {
   "cell_type": "code",
   "execution_count": 30,
   "id": "d14581e6-df79-42d6-8091-671cc266661b",
   "metadata": {},
   "outputs": [],
   "source": [
    "data = tips.values\n",
    "ix = [i for i in range(data.shape[1]) if i != 1]\n",
    "X = np.array(data[:, ix], dtype=float)\n",
    "y = np.array(data[:, 1], dtype=float)"
   ]
  },
  {
   "cell_type": "markdown",
   "id": "6a54a1d3-f41b-4e98-8ac1-28c2af9ff7bf",
   "metadata": {},
   "source": [
    "#### 1. RFE"
   ]
  },
  {
   "cell_type": "code",
   "execution_count": 31,
   "id": "70215b6b-fbe2-4197-a28e-55f9aaf56f05",
   "metadata": {},
   "outputs": [
    {
     "data": {
      "text/plain": [
       "array([[16.99      ,  0.        ,  0.        ,  5.94467334],\n",
       "       [10.34      ,  0.        ,  0.        , 16.05415861],\n",
       "       [21.01      ,  0.        ,  0.        , 16.65873394]])"
      ]
     },
     "execution_count": 31,
     "metadata": {},
     "output_type": "execute_result"
    }
   ],
   "source": [
    "rfe = RFE(estimator=LinearRegression(), n_features_to_select=4)\n",
    "rfe.fit(X, y)\n",
    "X_rfe = rfe.transform(X)\n",
    "X_rfe[:3,:]"
   ]
  },
  {
   "cell_type": "code",
   "execution_count": 32,
   "id": "4e6d2d87-5f4c-4ce9-949c-a3eda658a7fe",
   "metadata": {},
   "outputs": [
    {
     "name": "stdout",
     "output_type": "stream",
     "text": [
      "total_bill     \tRank: 1\n",
      "sex     \tRank: 4\n",
      "smoker     \tRank: 1\n",
      "day     \tRank: 2\n",
      "time     \tRank: 1\n",
      "size     \tRank: 3\n",
      "tip_rate     \tRank: 1\n"
     ]
    }
   ],
   "source": [
    "x = [name for name in tips.columns if name not in ['tip']]\n",
    "for i in range(X.shape[1]):\n",
    "    print(f'{x[i]}     \\tRank: {rfe.ranking_[i]}')"
   ]
  },
  {
   "cell_type": "markdown",
   "id": "7c39a29f-251f-485a-8d15-393c617723d2",
   "metadata": {},
   "source": [
    "#### 2. Select-KBest"
   ]
  },
  {
   "cell_type": "code",
   "execution_count": 33,
   "id": "d0aefa0e-86fb-43c6-8dfa-a954bb7da5c2",
   "metadata": {},
   "outputs": [
    {
     "data": {
      "text/plain": [
       "array([[16.99      ,  0.        ,  2.        ,  5.94467334],\n",
       "       [10.34      ,  0.        ,  3.        , 16.05415861],\n",
       "       [21.01      ,  0.        ,  3.        , 16.65873394]])"
      ]
     },
     "execution_count": 33,
     "metadata": {},
     "output_type": "execute_result"
    }
   ],
   "source": [
    "fs = SelectKBest(score_func=f_regression, k=4)\n",
    "X_selected = fs.fit_transform(X, y)\n",
    "X_selected[:3, :]"
   ]
  },
  {
   "cell_type": "code",
   "execution_count": 34,
   "id": "07c0cb52-8211-4bf5-945b-2a49cfe907fe",
   "metadata": {},
   "outputs": [
    {
     "name": "stdout",
     "output_type": "stream",
     "text": [
      "total_bill     \tScore: 205.4\n",
      "sex     \tScore: 2.385\n",
      "smoker     \tScore: 0.01571\n",
      "day     \tScore: 0.05159\n",
      "time     \tScore: 3.534\n",
      "size     \tScore: 75.96\n",
      "tip_rate     \tScore: 34.04\n"
     ]
    }
   ],
   "source": [
    "x = [name for name in tips.columns if name not in ['tip']]\n",
    "for i in range(X.shape[1]):\n",
    "    print(f'{x[i]}     \\tScore: {fs.scores_[i]:.4}')"
   ]
  },
  {
   "cell_type": "markdown",
   "id": "5266f896-8e0d-4ad7-b2e8-6957516b84d5",
   "metadata": {},
   "source": [
    "#### 3. PCA"
   ]
  },
  {
   "cell_type": "code",
   "execution_count": 35,
   "id": "09bf3914-9a39-4164-ada0-09bd5d2148c2",
   "metadata": {},
   "outputs": [
    {
     "data": {
      "text/plain": [
       "array([[ -0.89667671, -10.45190407,   0.17217355,  -0.25108053],\n",
       "       [  8.80197148,  -3.27776397,   0.34815553,   1.08097065],\n",
       "       [ -0.95479012,   1.02038376,   0.28350321,   0.37581152],\n",
       "       [ -4.3324561 ,  -0.58947554,   0.06047672,  -0.72439798],\n",
       "       [ -5.04577045,   0.45325068,   0.53409277,   1.06807752]])"
      ]
     },
     "execution_count": 35,
     "metadata": {},
     "output_type": "execute_result"
    }
   ],
   "source": [
    "trans = PCA(n_components=4)\n",
    "X_pca = trans.fit_transform(X)\n",
    "X_pca[:5, :]"
   ]
  },
  {
   "cell_type": "code",
   "execution_count": null,
   "id": "a0d79e73-9248-46c6-91a6-92c8381543c7",
   "metadata": {},
   "outputs": [],
   "source": []
  }
 ],
 "metadata": {
  "kernelspec": {
   "display_name": "Python Multi",
   "language": "python",
   "name": "multi"
  },
  "language_info": {
   "codemirror_mode": {
    "name": "ipython",
    "version": 3
   },
   "file_extension": ".py",
   "mimetype": "text/x-python",
   "name": "python",
   "nbconvert_exporter": "python",
   "pygments_lexer": "ipython3",
   "version": "3.7.6"
  }
 },
 "nbformat": 4,
 "nbformat_minor": 5
}
