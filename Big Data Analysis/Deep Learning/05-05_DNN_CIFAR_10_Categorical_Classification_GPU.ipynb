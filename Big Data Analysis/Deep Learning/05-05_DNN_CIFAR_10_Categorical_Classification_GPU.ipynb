{
 "cells": [
  {
   "cell_type": "markdown",
   "metadata": {
    "id": "q2Pr7oBdYLdf"
   },
   "source": [
    "# CIFAR 10 - Categorical Classification"
   ]
  },
  {
   "cell_type": "code",
   "execution_count": 1,
   "metadata": {
    "colab": {
     "base_uri": "https://localhost:8080/",
     "height": 35
    },
    "executionInfo": {
     "elapsed": 4,
     "status": "ok",
     "timestamp": 1628222961641,
     "user": {
      "displayName": "장우창",
      "photoUrl": "",
      "userId": "15816926520230663645"
     },
     "user_tz": -540
    },
    "id": "x4gTh_TRpgQw",
    "outputId": "b6fccad8-559f-4e6c-ea9b-b6775f570662"
   },
   "outputs": [
    {
     "data": {
      "text/plain": [
       "'3.8.8 (default, Apr 13 2021, 15:08:03) [MSC v.1916 64 bit (AMD64)]'"
      ]
     },
     "execution_count": 1,
     "metadata": {},
     "output_type": "execute_result"
    }
   ],
   "source": [
    "import sys\n",
    "sys.version"
   ]
  },
  {
   "cell_type": "code",
   "execution_count": 2,
   "metadata": {
    "id": "RbPgODpVzdHI"
   },
   "outputs": [],
   "source": [
    "import warnings\n",
    "warnings.filterwarnings('ignore')"
   ]
  },
  {
   "cell_type": "markdown",
   "metadata": {
    "id": "H49A769LYp-a"
   },
   "source": [
    "# I. CIFAR 10 Data_Set Load & Review"
   ]
  },
  {
   "cell_type": "markdown",
   "metadata": {
    "id": "vb6EIkRcbPb4"
   },
   "source": [
    "> ## 1) Load CIFAR 10 Data_Set"
   ]
  },
  {
   "cell_type": "code",
   "execution_count": 3,
   "metadata": {
    "colab": {
     "base_uri": "https://localhost:8080/"
    },
    "executionInfo": {
     "elapsed": 7800,
     "status": "ok",
     "timestamp": 1628211261617,
     "user": {
      "displayName": "장우창",
      "photoUrl": "",
      "userId": "15816926520230663645"
     },
     "user_tz": -540
    },
    "id": "DxstjE8b_6Te",
    "outputId": "4ead4d1d-6e51-4f8c-e403-706d29e78690"
   },
   "outputs": [],
   "source": [
    "from tensorflow.keras.datasets import cifar10\n",
    "\n",
    "(X_train, y_train), (X_test, y_test) = cifar10.load_data()"
   ]
  },
  {
   "cell_type": "markdown",
   "metadata": {
    "id": "Mt11QE0EHCiJ"
   },
   "source": [
    "* Train_Data Information"
   ]
  },
  {
   "cell_type": "code",
   "execution_count": 4,
   "metadata": {
    "colab": {
     "base_uri": "https://localhost:8080/"
    },
    "executionInfo": {
     "elapsed": 339,
     "status": "ok",
     "timestamp": 1628211264619,
     "user": {
      "displayName": "장우창",
      "photoUrl": "",
      "userId": "15816926520230663645"
     },
     "user_tz": -540
    },
    "id": "KT_Mr_Hb__VH",
    "outputId": "403f51d3-3314-458b-a995-71ccc7a64528"
   },
   "outputs": [
    {
     "name": "stdout",
     "output_type": "stream",
     "text": [
      "50000\n",
      "(50000, 32, 32, 3)\n",
      "50000\n",
      "[[6]\n",
      " [9]\n",
      " [9]\n",
      " [4]\n",
      " [1]]\n"
     ]
    }
   ],
   "source": [
    "print(len(X_train))\n",
    "print(X_train.shape)\n",
    "\n",
    "print(len(y_train))\n",
    "print(y_train[0:5])"
   ]
  },
  {
   "cell_type": "markdown",
   "metadata": {
    "id": "QolAqIwgHGRI"
   },
   "source": [
    "* Test_Data Information"
   ]
  },
  {
   "cell_type": "code",
   "execution_count": 5,
   "metadata": {
    "colab": {
     "base_uri": "https://localhost:8080/"
    },
    "executionInfo": {
     "elapsed": 245,
     "status": "ok",
     "timestamp": 1628211266525,
     "user": {
      "displayName": "장우창",
      "photoUrl": "",
      "userId": "15816926520230663645"
     },
     "user_tz": -540
    },
    "id": "NtkD2BKUANZE",
    "outputId": "973fe74b-7fb9-4506-c890-336555c540fa"
   },
   "outputs": [
    {
     "name": "stdout",
     "output_type": "stream",
     "text": [
      "10000\n",
      "(10000, 32, 32, 3)\n",
      "10000\n",
      "[[3]\n",
      " [8]\n",
      " [8]\n",
      " [0]\n",
      " [6]]\n"
     ]
    }
   ],
   "source": [
    "print(len(X_test))\n",
    "print(X_test.shape)\n",
    "\n",
    "print(len(y_test))\n",
    "print(y_test[0:5])"
   ]
  },
  {
   "cell_type": "markdown",
   "metadata": {
    "id": "BBSg_oWbZCyr"
   },
   "source": [
    "> ## 2) Visualization"
   ]
  },
  {
   "cell_type": "code",
   "execution_count": 6,
   "metadata": {
    "colab": {
     "base_uri": "https://localhost:8080/",
     "height": 266
    },
    "executionInfo": {
     "elapsed": 3,
     "status": "ok",
     "timestamp": 1628211268702,
     "user": {
      "displayName": "장우창",
      "photoUrl": "",
      "userId": "15816926520230663645"
     },
     "user_tz": -540
    },
    "id": "OV19FumXAWGH",
    "outputId": "623c0ddc-774e-4734-988d-56fb14b1eb76"
   },
   "outputs": [
    {
     "data": {
      "image/png": "[encoded data removed]",
      "text/plain": [
       "<Figure size 432x288 with 1 Axes>"
      ]
     },
     "metadata": {
      "needs_background": "light"
     },
     "output_type": "display_data"
    }
   ],
   "source": [
    "import matplotlib.pyplot as plt\n",
    "\n",
    "digit = X_train[0]\n",
    "plt.imshow(digit)\n",
    "plt.show()"
   ]
  },
  {
   "cell_type": "code",
   "execution_count": 7,
   "metadata": {
    "cellView": "code",
    "colab": {
     "base_uri": "https://localhost:8080/"
    },
    "executionInfo": {
     "elapsed": 247,
     "status": "ok",
     "timestamp": 1628211320487,
     "user": {
      "displayName": "장우창",
      "photoUrl": "",
      "userId": "15816926520230663645"
     },
     "user_tz": -540
    },
    "id": "wWXMkCE8NyAg",
    "outputId": "61f0e1c7-80dd-4845-f06d-94f1bda656dd"
   },
   "outputs": [
    {
     "name": "stdout",
     "output_type": "stream",
     "text": [
      "[[[ 59  62  63]\n",
      "  [ 43  46  45]\n",
      "  [ 50  48  43]\n",
      "  ...\n",
      "  [158 132 108]\n",
      "  [152 125 102]\n",
      "  [148 124 103]]\n",
      "\n",
      " [[ 16  20  20]\n",
      "  [  0   0   0]\n",
      "  [ 18   8   0]\n",
      "  ...\n",
      "  [123  88  55]\n",
      "  [119  83  50]\n",
      "  [122  87  57]]\n",
      "\n",
      " [[ 25  24  21]\n",
      "  [ 16   7   0]\n",
      "  [ 49  27   8]\n",
      "  ...\n",
      "  [118  84  50]\n",
      "  [120  84  50]\n",
      "  [109  73  42]]\n",
      "\n",
      " ...\n",
      "\n",
      " [[208 170  96]\n",
      "  [201 153  34]\n",
      "  [198 161  26]\n",
      "  ...\n",
      "  [160 133  70]\n",
      "  [ 56  31   7]\n",
      "  [ 53  34  20]]\n",
      "\n",
      " [[180 139  96]\n",
      "  [173 123  42]\n",
      "  [186 144  30]\n",
      "  ...\n",
      "  [184 148  94]\n",
      "  [ 97  62  34]\n",
      "  [ 83  53  34]]\n",
      "\n",
      " [[177 144 116]\n",
      "  [168 129  94]\n",
      "  [179 142  87]\n",
      "  ...\n",
      "  [216 184 140]\n",
      "  [151 118  84]\n",
      "  [123  92  72]]]\n"
     ]
    }
   ],
   "source": [
    "import numpy as np\n",
    "np.set_printoptions(linewidth = 150)\n",
    "\n",
    "print(X_train[0])"
   ]
  },
  {
   "cell_type": "markdown",
   "metadata": {
    "id": "Mk9XL5vGHor6"
   },
   "source": [
    "# II. Data Preprocessing"
   ]
  },
  {
   "cell_type": "markdown",
   "metadata": {
    "id": "ec8zU4XCZRUF"
   },
   "source": [
    "> ## 1) Reshape and Normalization"
   ]
  },
  {
   "cell_type": "markdown",
   "metadata": {
    "id": "olI6ZPtEIb8H"
   },
   "source": [
    "* reshape\n",
    " * (50000, 32, 32, 3) to (50000, 3072)"
   ]
  },
  {
   "cell_type": "code",
   "execution_count": 8,
   "metadata": {
    "colab": {
     "base_uri": "https://localhost:8080/"
    },
    "executionInfo": {
     "elapsed": 625,
     "status": "ok",
     "timestamp": 1628211366317,
     "user": {
      "displayName": "장우창",
      "photoUrl": "",
      "userId": "15816926520230663645"
     },
     "user_tz": -540
    },
    "id": "8-toPn1ZAmFd",
    "outputId": "548313d8-7299-4d6d-e677-cf25ab41220f"
   },
   "outputs": [
    {
     "data": {
      "text/plain": [
       "((50000, 3072), (10000, 3072))"
      ]
     },
     "execution_count": 8,
     "metadata": {},
     "output_type": "execute_result"
    }
   ],
   "source": [
    "X_train = X_train.reshape((50000, 32 * 32 * 3))\n",
    "X_test = X_test.reshape((10000, 32 * 32 * 3))\n",
    "\n",
    "X_train.shape, X_test.shape"
   ]
  },
  {
   "cell_type": "markdown",
   "metadata": {
    "id": "UN-xPWjYIeWL"
   },
   "source": [
    "* Normalization"
   ]
  },
  {
   "cell_type": "code",
   "execution_count": 9,
   "metadata": {
    "id": "SoGHuYeFIGBj"
   },
   "outputs": [],
   "source": [
    "X_train = X_train.astype(float) / 255\n",
    "X_test = X_test.astype(float) / 255"
   ]
  },
  {
   "cell_type": "code",
   "execution_count": 10,
   "metadata": {
    "colab": {
     "base_uri": "https://localhost:8080/"
    },
    "executionInfo": {
     "elapsed": 248,
     "status": "ok",
     "timestamp": 1628211370725,
     "user": {
      "displayName": "장우창",
      "photoUrl": "",
      "userId": "15816926520230663645"
     },
     "user_tz": -540
    },
    "id": "m1HezAboV-x8",
    "outputId": "95f340f6-c4e3-4428-c55e-8768f0cf0194"
   },
   "outputs": [
    {
     "name": "stdout",
     "output_type": "stream",
     "text": [
      "[0.23137255 0.24313725 0.24705882 ... 0.48235294 0.36078431 0.28235294]\n"
     ]
    }
   ],
   "source": [
    "print(X_train[0])"
   ]
  },
  {
   "cell_type": "markdown",
   "metadata": {
    "id": "BtSROU80aF12"
   },
   "source": [
    "> ## 2) One Hot Encoding"
   ]
  },
  {
   "cell_type": "code",
   "execution_count": 11,
   "metadata": {
    "id": "eC48Oym3Ao8E"
   },
   "outputs": [],
   "source": [
    "from tensorflow.keras.utils import to_categorical\n",
    "\n",
    "y_train = to_categorical(y_train)\n",
    "y_test = to_categorical(y_test)"
   ]
  },
  {
   "cell_type": "code",
   "execution_count": 12,
   "metadata": {
    "colab": {
     "base_uri": "https://localhost:8080/"
    },
    "executionInfo": {
     "elapsed": 374,
     "status": "ok",
     "timestamp": 1628211378675,
     "user": {
      "displayName": "장우창",
      "photoUrl": "",
      "userId": "15816926520230663645"
     },
     "user_tz": -540
    },
    "id": "q1O-NsoJMyWU",
    "outputId": "1b9027d8-7196-454a-e021-bf35592e773f"
   },
   "outputs": [
    {
     "name": "stdout",
     "output_type": "stream",
     "text": [
      "[[0. 0. 0. 0. 0. 0. 1. 0. 0. 0.]\n",
      " [0. 0. 0. 0. 0. 0. 0. 0. 0. 1.]\n",
      " [0. 0. 0. 0. 0. 0. 0. 0. 0. 1.]\n",
      " [0. 0. 0. 0. 1. 0. 0. 0. 0. 0.]\n",
      " [0. 1. 0. 0. 0. 0. 0. 0. 0. 0.]]\n"
     ]
    }
   ],
   "source": [
    "print(y_train[:5])"
   ]
  },
  {
   "cell_type": "markdown",
   "metadata": {
    "id": "NTwZiSjiop3v"
   },
   "source": [
    "# III. Keras Modeling"
   ]
  },
  {
   "cell_type": "markdown",
   "metadata": {
    "id": "j5CT0TurJCkc"
   },
   "source": [
    "> ## 1) Model Define"
   ]
  },
  {
   "cell_type": "markdown",
   "metadata": {
    "id": "ydDCl0jTJD58"
   },
   "source": [
    "* 모델 신경망 구조 정의\n",
    " - 2개의 Hidden Layers & 3968개의 Nodes"
   ]
  },
  {
   "cell_type": "code",
   "execution_count": 13,
   "metadata": {
    "id": "II0DskRdAcHS"
   },
   "outputs": [],
   "source": [
    "from tensorflow.keras import models\n",
    "from tensorflow.keras import layers\n",
    "\n",
    "CIFAR = models.Sequential()\n",
    "CIFAR.add(layers.Dense(2048, activation = 'relu', input_shape = (32 * 32 * 3,)))\n",
    "CIFAR.add(layers.Dense(1024, activation = 'relu'))\n",
    "CIFAR.add(layers.Dense(512, activation = 'relu'))\n",
    "CIFAR.add(layers.Dense(256, activation = 'relu'))\n",
    "CIFAR.add(layers.Dense(128, activation = 'relu'))\n",
    "CIFAR.add(layers.Dense(10, activation = 'softmax'))"
   ]
  },
  {
   "cell_type": "markdown",
   "metadata": {
    "id": "PqrObAHZJTN8"
   },
   "source": [
    "* 모델 구조 확인"
   ]
  },
  {
   "cell_type": "code",
   "execution_count": 14,
   "metadata": {
    "colab": {
     "base_uri": "https://localhost:8080/"
    },
    "executionInfo": {
     "elapsed": 243,
     "status": "ok",
     "timestamp": 1628211476411,
     "user": {
      "displayName": "장우창",
      "photoUrl": "",
      "userId": "15816926520230663645"
     },
     "user_tz": -540
    },
    "id": "wbtjOA4XMTUd",
    "outputId": "65b1db25-36a1-4199-8f0d-4c07617bc977"
   },
   "outputs": [
    {
     "name": "stdout",
     "output_type": "stream",
     "text": [
      "Model: \"sequential\"\n",
      "_________________________________________________________________\n",
      "Layer (type)                 Output Shape              Param #   \n",
      "=================================================================\n",
      "dense (Dense)                (None, 2048)              6293504   \n",
      "_________________________________________________________________\n",
      "dense_1 (Dense)              (None, 1024)              2098176   \n",
      "_________________________________________________________________\n",
      "dense_2 (Dense)              (None, 512)               524800    \n",
      "_________________________________________________________________\n",
      "dense_3 (Dense)              (None, 256)               131328    \n",
      "_________________________________________________________________\n",
      "dense_4 (Dense)              (None, 128)               32896     \n",
      "_________________________________________________________________\n",
      "dense_5 (Dense)              (None, 10)                1290      \n",
      "=================================================================\n",
      "Total params: 9,081,994\n",
      "Trainable params: 9,081,994\n",
      "Non-trainable params: 0\n",
      "_________________________________________________________________\n"
     ]
    }
   ],
   "source": [
    "CIFAR.summary()"
   ]
  },
  {
   "cell_type": "markdown",
   "metadata": {
    "id": "tpjBDBeYoyuj"
   },
   "source": [
    "> ## 2) Model Compile"
   ]
  },
  {
   "cell_type": "markdown",
   "metadata": {
    "id": "f3sxkQa0JoUr"
   },
   "source": [
    "* 모델 학습방법 설정"
   ]
  },
  {
   "cell_type": "code",
   "execution_count": 15,
   "metadata": {
    "id": "AyK_t1qwAi6M"
   },
   "outputs": [],
   "source": [
    "CIFAR.compile(loss = 'categorical_crossentropy',\n",
    "              optimizer = 'rmsprop',\n",
    "              metrics = ['accuracy'])"
   ]
  },
  {
   "cell_type": "markdown",
   "metadata": {
    "id": "umiq4B-Xo3OB"
   },
   "source": [
    "> ## 3) Model Fit"
   ]
  },
  {
   "cell_type": "markdown",
   "metadata": {
    "id": "1KuXREziKMD1"
   },
   "source": [
    "* 약 4분"
   ]
  },
  {
   "cell_type": "code",
   "execution_count": 16,
   "metadata": {
    "colab": {
     "base_uri": "https://localhost:8080/"
    },
    "executionInfo": {
     "elapsed": 251769,
     "status": "ok",
     "timestamp": 1628211735839,
     "user": {
      "displayName": "장우창",
      "photoUrl": "",
      "userId": "15816926520230663645"
     },
     "user_tz": -540
    },
    "id": "zxwqwAqRAqRP",
    "outputId": "7d9e89c6-74a6-49f6-8575-2e2377f13bc9"
   },
   "outputs": [
    {
     "name": "stdout",
     "output_type": "stream",
     "text": [
      "Epoch 1/100\n",
      "313/313 [==============================] - 5s 13ms/step - loss: 2.3221 - accuracy: 0.2045 - val_loss: 1.9581 - val_accuracy: 0.2701\n",
      "Epoch 2/100\n",
      "313/313 [==============================] - 3s 11ms/step - loss: 1.9060 - accuracy: 0.3094 - val_loss: 1.8466 - val_accuracy: 0.3290\n",
      "Epoch 3/100\n",
      "313/313 [==============================] - 3s 11ms/step - loss: 1.8103 - accuracy: 0.3490 - val_loss: 1.8095 - val_accuracy: 0.3404\n",
      "Epoch 4/100\n",
      "313/313 [==============================] - 3s 11ms/step - loss: 1.7299 - accuracy: 0.3784 - val_loss: 1.8735 - val_accuracy: 0.3358\n",
      "Epoch 5/100\n",
      "313/313 [==============================] - 3s 11ms/step - loss: 1.6755 - accuracy: 0.3999 - val_loss: 1.8442 - val_accuracy: 0.3424\n",
      "Epoch 6/100\n",
      "313/313 [==============================] - 3s 11ms/step - loss: 1.6340 - accuracy: 0.4172 - val_loss: 1.6755 - val_accuracy: 0.3974\n",
      "Epoch 7/100\n",
      "313/313 [==============================] - 3s 11ms/step - loss: 1.5971 - accuracy: 0.4304 - val_loss: 1.6849 - val_accuracy: 0.3997\n",
      "Epoch 8/100\n",
      "313/313 [==============================] - 3s 11ms/step - loss: 1.5525 - accuracy: 0.4471 - val_loss: 1.6639 - val_accuracy: 0.4225\n",
      "Epoch 9/100\n",
      "313/313 [==============================] - 3s 11ms/step - loss: 1.5268 - accuracy: 0.4557 - val_loss: 1.6459 - val_accuracy: 0.4052\n",
      "Epoch 10/100\n",
      "313/313 [==============================] - 3s 11ms/step - loss: 1.5000 - accuracy: 0.4652 - val_loss: 1.7008 - val_accuracy: 0.4200\n",
      "Epoch 11/100\n",
      "313/313 [==============================] - 3s 11ms/step - loss: 1.4674 - accuracy: 0.4765 - val_loss: 1.7324 - val_accuracy: 0.4029\n",
      "Epoch 12/100\n",
      "313/313 [==============================] - 3s 11ms/step - loss: 1.4414 - accuracy: 0.4857 - val_loss: 1.8768 - val_accuracy: 0.3995\n",
      "Epoch 13/100\n",
      "313/313 [==============================] - 3s 11ms/step - loss: 1.4229 - accuracy: 0.4910 - val_loss: 1.5887 - val_accuracy: 0.4485\n",
      "Epoch 14/100\n",
      "313/313 [==============================] - 3s 11ms/step - loss: 1.3999 - accuracy: 0.5003 - val_loss: 1.7666 - val_accuracy: 0.4132\n",
      "Epoch 15/100\n",
      "313/313 [==============================] - 3s 11ms/step - loss: 1.3810 - accuracy: 0.5093 - val_loss: 1.6037 - val_accuracy: 0.4466\n",
      "Epoch 16/100\n",
      "313/313 [==============================] - 3s 11ms/step - loss: 1.3651 - accuracy: 0.5135 - val_loss: 1.8521 - val_accuracy: 0.3930\n",
      "Epoch 17/100\n",
      "313/313 [==============================] - 3s 11ms/step - loss: 1.3417 - accuracy: 0.5223 - val_loss: 1.6313 - val_accuracy: 0.4661\n",
      "Epoch 18/100\n",
      "313/313 [==============================] - 3s 11ms/step - loss: 1.3298 - accuracy: 0.5229 - val_loss: 1.5758 - val_accuracy: 0.4796\n",
      "Epoch 19/100\n",
      "313/313 [==============================] - 4s 11ms/step - loss: 1.3111 - accuracy: 0.5323 - val_loss: 1.9985 - val_accuracy: 0.4328\n",
      "Epoch 20/100\n",
      "313/313 [==============================] - 4s 11ms/step - loss: 1.2979 - accuracy: 0.5358 - val_loss: 1.5868 - val_accuracy: 0.4807\n",
      "Epoch 21/100\n",
      "313/313 [==============================] - 3s 11ms/step - loss: 1.2795 - accuracy: 0.5435 - val_loss: 1.7897 - val_accuracy: 0.4692\n",
      "Epoch 22/100\n",
      "313/313 [==============================] - 3s 11ms/step - loss: 1.2762 - accuracy: 0.5462 - val_loss: 1.6518 - val_accuracy: 0.4877\n",
      "Epoch 23/100\n",
      "313/313 [==============================] - 3s 11ms/step - loss: 1.2546 - accuracy: 0.5496 - val_loss: 2.0030 - val_accuracy: 0.4084\n",
      "Epoch 24/100\n",
      "313/313 [==============================] - 3s 11ms/step - loss: 1.2405 - accuracy: 0.5592 - val_loss: 1.7650 - val_accuracy: 0.4669\n",
      "Epoch 25/100\n",
      "313/313 [==============================] - 3s 11ms/step - loss: 1.2263 - accuracy: 0.5649 - val_loss: 1.5992 - val_accuracy: 0.4858\n",
      "Epoch 26/100\n",
      "313/313 [==============================] - 3s 11ms/step - loss: 1.2120 - accuracy: 0.5713 - val_loss: 1.6357 - val_accuracy: 0.4839\n",
      "Epoch 27/100\n",
      "313/313 [==============================] - 3s 11ms/step - loss: 1.1958 - accuracy: 0.5788 - val_loss: 1.9428 - val_accuracy: 0.4950\n",
      "Epoch 28/100\n",
      "313/313 [==============================] - 3s 11ms/step - loss: 1.1849 - accuracy: 0.5794 - val_loss: 1.7512 - val_accuracy: 0.4977\n",
      "Epoch 29/100\n",
      "313/313 [==============================] - 3s 11ms/step - loss: 1.1830 - accuracy: 0.5843 - val_loss: 2.1089 - val_accuracy: 0.4441\n",
      "Epoch 30/100\n",
      "313/313 [==============================] - 3s 11ms/step - loss: 1.1695 - accuracy: 0.5874 - val_loss: 1.7394 - val_accuracy: 0.4922\n",
      "Epoch 31/100\n",
      "313/313 [==============================] - 3s 11ms/step - loss: 1.1426 - accuracy: 0.5961 - val_loss: 2.3387 - val_accuracy: 0.4779\n",
      "Epoch 32/100\n",
      "313/313 [==============================] - 3s 11ms/step - loss: 1.1277 - accuracy: 0.6009 - val_loss: 2.3737 - val_accuracy: 0.4803\n",
      "Epoch 33/100\n",
      "313/313 [==============================] - 3s 11ms/step - loss: 1.1246 - accuracy: 0.6046 - val_loss: 2.4070 - val_accuracy: 0.4541\n",
      "Epoch 34/100\n",
      "313/313 [==============================] - 3s 11ms/step - loss: 1.1182 - accuracy: 0.6113 - val_loss: 2.2942 - val_accuracy: 0.4476\n",
      "Epoch 35/100\n",
      "313/313 [==============================] - 3s 11ms/step - loss: 1.0910 - accuracy: 0.6163 - val_loss: 2.2181 - val_accuracy: 0.4854\n",
      "Epoch 36/100\n",
      "313/313 [==============================] - 3s 11ms/step - loss: 1.0769 - accuracy: 0.6233 - val_loss: 2.3832 - val_accuracy: 0.4456\n",
      "Epoch 37/100\n",
      "313/313 [==============================] - 3s 11ms/step - loss: 1.0670 - accuracy: 0.6238 - val_loss: 1.9105 - val_accuracy: 0.4892\n",
      "Epoch 38/100\n",
      "313/313 [==============================] - 3s 11ms/step - loss: 1.0567 - accuracy: 0.6306 - val_loss: 1.8950 - val_accuracy: 0.5072\n",
      "Epoch 39/100\n",
      "313/313 [==============================] - 3s 11ms/step - loss: 1.0424 - accuracy: 0.6363 - val_loss: 2.2339 - val_accuracy: 0.4899\n",
      "Epoch 40/100\n",
      "313/313 [==============================] - 3s 11ms/step - loss: 1.0665 - accuracy: 0.6394 - val_loss: 1.9026 - val_accuracy: 0.4931\n",
      "Epoch 41/100\n",
      "313/313 [==============================] - 3s 11ms/step - loss: 1.0108 - accuracy: 0.6457 - val_loss: 2.0875 - val_accuracy: 0.4789\n",
      "Epoch 42/100\n",
      "313/313 [==============================] - 3s 11ms/step - loss: 1.0212 - accuracy: 0.6481 - val_loss: 2.3055 - val_accuracy: 0.4656\n",
      "Epoch 43/100\n",
      "313/313 [==============================] - 3s 11ms/step - loss: 0.9838 - accuracy: 0.6541 - val_loss: 2.4035 - val_accuracy: 0.4954\n",
      "Epoch 44/100\n",
      "313/313 [==============================] - 3s 11ms/step - loss: 0.9736 - accuracy: 0.6612 - val_loss: 2.8780 - val_accuracy: 0.4795\n",
      "Epoch 45/100\n",
      "313/313 [==============================] - 3s 11ms/step - loss: 0.9649 - accuracy: 0.6637 - val_loss: 2.3565 - val_accuracy: 0.4878\n",
      "Epoch 46/100\n",
      "313/313 [==============================] - 3s 11ms/step - loss: 0.9561 - accuracy: 0.6672 - val_loss: 2.3511 - val_accuracy: 0.4988\n",
      "Epoch 47/100\n",
      "313/313 [==============================] - 3s 11ms/step - loss: 0.9536 - accuracy: 0.6723 - val_loss: 1.8164 - val_accuracy: 0.4986\n",
      "Epoch 48/100\n",
      "313/313 [==============================] - 4s 11ms/step - loss: 0.9242 - accuracy: 0.6770 - val_loss: 2.7709 - val_accuracy: 0.4893\n",
      "Epoch 49/100\n",
      "313/313 [==============================] - 4s 11ms/step - loss: 0.9186 - accuracy: 0.6808 - val_loss: 2.9332 - val_accuracy: 0.4832\n",
      "Epoch 50/100\n",
      "313/313 [==============================] - 3s 11ms/step - loss: 0.9619 - accuracy: 0.6860 - val_loss: 3.0767 - val_accuracy: 0.4830\n",
      "Epoch 51/100\n",
      "313/313 [==============================] - 4s 11ms/step - loss: 0.9058 - accuracy: 0.6862 - val_loss: 2.1986 - val_accuracy: 0.4943\n",
      "Epoch 52/100\n",
      "313/313 [==============================] - 3s 11ms/step - loss: 0.8963 - accuracy: 0.6920 - val_loss: 3.1864 - val_accuracy: 0.4978\n",
      "Epoch 53/100\n",
      "313/313 [==============================] - 4s 11ms/step - loss: 0.8839 - accuracy: 0.6966 - val_loss: 2.9189 - val_accuracy: 0.4607\n",
      "Epoch 54/100\n",
      "313/313 [==============================] - 3s 11ms/step - loss: 0.8623 - accuracy: 0.7023 - val_loss: 3.1097 - val_accuracy: 0.5055\n",
      "Epoch 55/100\n",
      "313/313 [==============================] - 3s 11ms/step - loss: 0.8707 - accuracy: 0.7013 - val_loss: 3.8596 - val_accuracy: 0.4599\n",
      "Epoch 56/100\n",
      "313/313 [==============================] - 3s 11ms/step - loss: 0.8669 - accuracy: 0.7044 - val_loss: 3.4593 - val_accuracy: 0.4928\n",
      "Epoch 57/100\n"
     ]
    },
    {
     "name": "stdout",
     "output_type": "stream",
     "text": [
      "313/313 [==============================] - 3s 11ms/step - loss: 0.8721 - accuracy: 0.7063 - val_loss: 3.0432 - val_accuracy: 0.4933\n",
      "Epoch 58/100\n",
      "313/313 [==============================] - 3s 11ms/step - loss: 0.8279 - accuracy: 0.7135 - val_loss: 3.3596 - val_accuracy: 0.5017\n",
      "Epoch 59/100\n",
      "313/313 [==============================] - 3s 11ms/step - loss: 0.8131 - accuracy: 0.7192 - val_loss: 4.1813 - val_accuracy: 0.4955\n",
      "Epoch 60/100\n",
      "313/313 [==============================] - 3s 11ms/step - loss: 0.8303 - accuracy: 0.7191 - val_loss: 3.6882 - val_accuracy: 0.5021\n",
      "Epoch 61/100\n",
      "313/313 [==============================] - 3s 11ms/step - loss: 0.8063 - accuracy: 0.7255 - val_loss: 3.1742 - val_accuracy: 0.4979\n",
      "Epoch 62/100\n",
      "313/313 [==============================] - 3s 11ms/step - loss: 0.7979 - accuracy: 0.7319 - val_loss: 4.3440 - val_accuracy: 0.4944\n",
      "Epoch 63/100\n",
      "313/313 [==============================] - 3s 11ms/step - loss: 0.7997 - accuracy: 0.7266 - val_loss: 4.3846 - val_accuracy: 0.5122\n",
      "Epoch 64/100\n",
      "313/313 [==============================] - 4s 12ms/step - loss: 0.7840 - accuracy: 0.7342 - val_loss: 4.2875 - val_accuracy: 0.4908\n",
      "Epoch 65/100\n",
      "313/313 [==============================] - 3s 11ms/step - loss: 0.7689 - accuracy: 0.7397 - val_loss: 4.0387 - val_accuracy: 0.5005\n",
      "Epoch 66/100\n",
      "313/313 [==============================] - 3s 11ms/step - loss: 0.7453 - accuracy: 0.7465 - val_loss: 3.9710 - val_accuracy: 0.5129\n",
      "Epoch 67/100\n",
      "313/313 [==============================] - 3s 11ms/step - loss: 0.7744 - accuracy: 0.7497 - val_loss: 4.2681 - val_accuracy: 0.5004\n",
      "Epoch 68/100\n",
      "313/313 [==============================] - 3s 11ms/step - loss: 0.7514 - accuracy: 0.7486 - val_loss: 4.6680 - val_accuracy: 0.5119\n",
      "Epoch 69/100\n",
      "313/313 [==============================] - 3s 11ms/step - loss: 0.7335 - accuracy: 0.7513 - val_loss: 3.6735 - val_accuracy: 0.5073\n",
      "Epoch 70/100\n",
      "313/313 [==============================] - 3s 11ms/step - loss: 0.7123 - accuracy: 0.7573 - val_loss: 4.9687 - val_accuracy: 0.4994\n",
      "Epoch 71/100\n",
      "313/313 [==============================] - 3s 11ms/step - loss: 0.7095 - accuracy: 0.7573 - val_loss: 4.9406 - val_accuracy: 0.5074\n",
      "Epoch 72/100\n",
      "313/313 [==============================] - 3s 11ms/step - loss: 0.7529 - accuracy: 0.7619 - val_loss: 4.5590 - val_accuracy: 0.4998\n",
      "Epoch 73/100\n",
      "313/313 [==============================] - 3s 11ms/step - loss: 0.6941 - accuracy: 0.7643 - val_loss: 4.0824 - val_accuracy: 0.4929\n",
      "Epoch 74/100\n",
      "313/313 [==============================] - 3s 11ms/step - loss: 0.6836 - accuracy: 0.7634 - val_loss: 4.5413 - val_accuracy: 0.5178\n",
      "Epoch 75/100\n",
      "313/313 [==============================] - 3s 11ms/step - loss: 0.6777 - accuracy: 0.7699 - val_loss: 5.0444 - val_accuracy: 0.5171\n",
      "Epoch 76/100\n",
      "313/313 [==============================] - 3s 11ms/step - loss: 0.6634 - accuracy: 0.7761 - val_loss: 5.2446 - val_accuracy: 0.5031\n",
      "Epoch 77/100\n",
      "313/313 [==============================] - 3s 11ms/step - loss: 0.6618 - accuracy: 0.7765 - val_loss: 5.0596 - val_accuracy: 0.5096\n",
      "Epoch 78/100\n",
      "313/313 [==============================] - 3s 11ms/step - loss: 0.6458 - accuracy: 0.7792 - val_loss: 5.5904 - val_accuracy: 0.5013\n",
      "Epoch 79/100\n",
      "313/313 [==============================] - 3s 11ms/step - loss: 0.6527 - accuracy: 0.7783 - val_loss: 5.5292 - val_accuracy: 0.4885\n",
      "Epoch 80/100\n",
      "313/313 [==============================] - 3s 11ms/step - loss: 0.6483 - accuracy: 0.7872 - val_loss: 5.1462 - val_accuracy: 0.4940\n",
      "Epoch 81/100\n",
      "313/313 [==============================] - 3s 11ms/step - loss: 0.6163 - accuracy: 0.7896 - val_loss: 7.4067 - val_accuracy: 0.4603\n",
      "Epoch 82/100\n",
      "313/313 [==============================] - 3s 11ms/step - loss: 0.6347 - accuracy: 0.7910 - val_loss: 4.4457 - val_accuracy: 0.5130\n",
      "Epoch 83/100\n",
      "313/313 [==============================] - 3s 11ms/step - loss: 0.6244 - accuracy: 0.7935 - val_loss: 6.1650 - val_accuracy: 0.4983\n",
      "Epoch 84/100\n",
      "313/313 [==============================] - 3s 11ms/step - loss: 0.6119 - accuracy: 0.7924 - val_loss: 5.1997 - val_accuracy: 0.4914\n",
      "Epoch 85/100\n",
      "313/313 [==============================] - 3s 11ms/step - loss: 0.6024 - accuracy: 0.7960 - val_loss: 6.4434 - val_accuracy: 0.4772\n",
      "Epoch 86/100\n",
      "313/313 [==============================] - 4s 11ms/step - loss: 0.6193 - accuracy: 0.7974 - val_loss: 6.5230 - val_accuracy: 0.4862\n",
      "Epoch 87/100\n",
      "313/313 [==============================] - 4s 11ms/step - loss: 0.6210 - accuracy: 0.8005 - val_loss: 5.3244 - val_accuracy: 0.4854\n",
      "Epoch 88/100\n",
      "313/313 [==============================] - 3s 11ms/step - loss: 0.5900 - accuracy: 0.8033 - val_loss: 4.6205 - val_accuracy: 0.4911\n",
      "Epoch 89/100\n",
      "313/313 [==============================] - 3s 11ms/step - loss: 0.5908 - accuracy: 0.8087 - val_loss: 3.3759 - val_accuracy: 0.4771\n",
      "Epoch 90/100\n",
      "313/313 [==============================] - 4s 11ms/step - loss: 0.5708 - accuracy: 0.8105 - val_loss: 6.6347 - val_accuracy: 0.4298\n",
      "Epoch 91/100\n",
      "313/313 [==============================] - 3s 11ms/step - loss: 0.5778 - accuracy: 0.8145 - val_loss: 4.7608 - val_accuracy: 0.4723\n",
      "Epoch 92/100\n",
      "313/313 [==============================] - 3s 11ms/step - loss: 0.5688 - accuracy: 0.8108 - val_loss: 4.2762 - val_accuracy: 0.4886\n",
      "Epoch 93/100\n",
      "313/313 [==============================] - 3s 11ms/step - loss: 0.5485 - accuracy: 0.8133 - val_loss: 4.2122 - val_accuracy: 0.5013\n",
      "Epoch 94/100\n",
      "313/313 [==============================] - 3s 11ms/step - loss: 0.5686 - accuracy: 0.8171 - val_loss: 4.1727 - val_accuracy: 0.5065\n",
      "Epoch 95/100\n",
      "313/313 [==============================] - 3s 11ms/step - loss: 0.5298 - accuracy: 0.8208 - val_loss: 4.6026 - val_accuracy: 0.5038\n",
      "Epoch 96/100\n",
      "313/313 [==============================] - 3s 11ms/step - loss: 0.5284 - accuracy: 0.8206 - val_loss: 5.9545 - val_accuracy: 0.4807\n",
      "Epoch 97/100\n",
      "313/313 [==============================] - 4s 11ms/step - loss: 0.5482 - accuracy: 0.8205 - val_loss: 6.0356 - val_accuracy: 0.4467\n",
      "Epoch 98/100\n",
      "313/313 [==============================] - 4s 11ms/step - loss: 0.5839 - accuracy: 0.8238 - val_loss: 5.7673 - val_accuracy: 0.5101\n",
      "Epoch 99/100\n",
      "313/313 [==============================] - 3s 11ms/step - loss: 0.5306 - accuracy: 0.8244 - val_loss: 6.1693 - val_accuracy: 0.4903\n",
      "Epoch 100/100\n",
      "313/313 [==============================] - 3s 11ms/step - loss: 0.5738 - accuracy: 0.8266 - val_loss: 5.8011 - val_accuracy: 0.4927\n",
      "Wall time: 5min 48s\n"
     ]
    }
   ],
   "source": [
    "%%time\n",
    "\n",
    "Hist_CIFAR = CIFAR.fit(X_train, y_train,\n",
    "                       epochs = 100,\n",
    "                       batch_size = 128,\n",
    "                       validation_split = 0.2)"
   ]
  },
  {
   "cell_type": "markdown",
   "metadata": {
    "id": "FnnIyFtNKhbD"
   },
   "source": [
    "> ## 4) 학습 결과 시각화"
   ]
  },
  {
   "cell_type": "markdown",
   "metadata": {
    "id": "YgXRhVauKqOm"
   },
   "source": [
    "* Loss Visualization"
   ]
  },
  {
   "cell_type": "code",
   "execution_count": 17,
   "metadata": {
    "colab": {
     "base_uri": "https://localhost:8080/",
     "height": 404
    },
    "executionInfo": {
     "elapsed": 7,
     "status": "ok",
     "timestamp": 1628211736251,
     "user": {
      "displayName": "장우창",
      "photoUrl": "",
      "userId": "15816926520230663645"
     },
     "user_tz": -540
    },
    "id": "OQ4ke8BbKi50",
    "outputId": "b850b9ce-aa2e-47da-dbb4-98075052122b"
   },
   "outputs": [
    {
     "data": {
      "image/png": "[encoded data removed]",
      "text/plain": [
       "<Figure size 648x432 with 1 Axes>"
      ]
     },
     "metadata": {
      "needs_background": "light"
     },
     "output_type": "display_data"
    }
   ],
   "source": [
    "import matplotlib.pyplot as plt\n",
    "\n",
    "epochs = range(1, len(Hist_CIFAR.history['loss']) + 1)\n",
    "\n",
    "plt.figure(figsize = (9, 6))\n",
    "plt.plot(epochs, Hist_CIFAR.history['loss'])\n",
    "plt.plot(epochs, Hist_CIFAR.history['val_loss'])\n",
    "# plt.ylim(0, 0.25)\n",
    "plt.title('Training & Validation Loss')\n",
    "plt.xlabel('Epochs')\n",
    "plt.ylabel('Loss')\n",
    "plt.legend(['Training Loss', 'Validation Loss'])\n",
    "plt.grid()\n",
    "plt.show()"
   ]
  },
  {
   "cell_type": "markdown",
   "metadata": {
    "id": "_uJSOLBko7lh"
   },
   "source": [
    "> ## 5) Model Evaluate"
   ]
  },
  {
   "cell_type": "markdown",
   "metadata": {
    "id": "i-TqAB2ALGzZ"
   },
   "source": [
    "* Loss & Accuracy"
   ]
  },
  {
   "cell_type": "code",
   "execution_count": 18,
   "metadata": {
    "colab": {
     "base_uri": "https://localhost:8080/"
    },
    "executionInfo": {
     "elapsed": 738,
     "status": "ok",
     "timestamp": 1628211736986,
     "user": {
      "displayName": "장우창",
      "photoUrl": "",
      "userId": "15816926520230663645"
     },
     "user_tz": -540
    },
    "id": "OF30PuZsAxQJ",
    "outputId": "43fca3fb-8b2a-4d0a-a7fb-8178607a40bd"
   },
   "outputs": [
    {
     "name": "stdout",
     "output_type": "stream",
     "text": [
      "313/313 [==============================] - 1s 2ms/step - loss: 4.1670 - accuracy: 0.4874\n",
      "Loss = 4.16700\n",
      "Accuracy = 0.48740\n"
     ]
    }
   ],
   "source": [
    "loss, accuracy = CIFAR.evaluate(X_test, y_test)\n",
    "\n",
    "print('Loss = {:.5f}'.format(loss))\n",
    "print('Accuracy = {:.5f}'.format(accuracy))"
   ]
  },
  {
   "cell_type": "markdown",
   "metadata": {
    "id": "1PRY6gAXo_PX"
   },
   "source": [
    "> ## 6) Model Predict"
   ]
  },
  {
   "cell_type": "markdown",
   "metadata": {
    "id": "M_pFxK4PLjxX"
   },
   "source": [
    "* Probability"
   ]
  },
  {
   "cell_type": "code",
   "execution_count": 19,
   "metadata": {
    "colab": {
     "base_uri": "https://localhost:8080/",
     "height": 198
    },
    "executionInfo": {
     "elapsed": 317,
     "status": "error",
     "timestamp": 1628224995968,
     "user": {
      "displayName": "장우창",
      "photoUrl": "",
      "userId": "15816926520230663645"
     },
     "user_tz": -540
    },
    "id": "vCdPbgU1ajoV",
    "outputId": "346bd75c-b6e6-4e08-f584-1a0e21964c7f"
   },
   "outputs": [
    {
     "name": "stdout",
     "output_type": "stream",
     "text": [
      "[[0.000036045 0.000001378 0.000013863 0.667873    0.32482177  0.004994268 0.001847676 0.000000021 0.000411722 0.000000212]]\n"
     ]
    }
   ],
   "source": [
    "np.set_printoptions(suppress = True, precision = 9)\n",
    "\n",
    "print(CIFAR.predict(X_test[:1,:]))"
   ]
  },
  {
   "cell_type": "markdown",
   "metadata": {
    "id": "V10JgtGdLmKb"
   },
   "source": [
    "* Class"
   ]
  },
  {
   "cell_type": "code",
   "execution_count": 20,
   "metadata": {
    "colab": {
     "base_uri": "https://localhost:8080/"
    },
    "executionInfo": {
     "elapsed": 4,
     "status": "ok",
     "timestamp": 1628211737363,
     "user": {
      "displayName": "장우창",
      "photoUrl": "",
      "userId": "15816926520230663645"
     },
     "user_tz": -540
    },
    "id": "xW6AhMK9a7RK",
    "outputId": "d5b4ee5f-0fe5-4324-a28e-6968579da94b"
   },
   "outputs": [
    {
     "name": "stdout",
     "output_type": "stream",
     "text": [
      "[3]\n"
     ]
    }
   ],
   "source": [
    "print(CIFAR.predict_classes(X_test[:1,:]))"
   ]
  }
 ],
 "metadata": {
  "accelerator": "GPU",
  "colab": {
   "collapsed_sections": [],
   "name": "05-05_DNN_CIFAR_10_Categorical_Classification_GPU.ipynb",
   "provenance": [
    {
     "file_id": "11xVuv9QDUfRMyumvh2-EKMkcz-SkKZs_",
     "timestamp": 1628211133326
    }
   ]
  },
  "kernelspec": {
   "display_name": "Python tf25",
   "language": "python",
   "name": "tf25"
  },
  "language_info": {
   "codemirror_mode": {
    "name": "ipython",
    "version": 3
   },
   "file_extension": ".py",
   "mimetype": "text/x-python",
   "name": "python",
   "nbconvert_exporter": "python",
   "pygments_lexer": "ipython3",
   "version": "3.8.8"
  }
 },
 "nbformat": 4,
 "nbformat_minor": 1
}
