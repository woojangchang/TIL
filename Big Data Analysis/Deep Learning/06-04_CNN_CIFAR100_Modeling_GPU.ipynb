{
 "cells": [
  {
   "cell_type": "markdown",
   "metadata": {
    "id": "q2Pr7oBdYLdf"
   },
   "source": [
    "# CIFAR100 - Categorical Classification\n",
    "> # Convolutional Neural Network"
   ]
  },
  {
   "cell_type": "code",
   "execution_count": 1,
   "metadata": {
    "id": "RbPgODpVzdHI"
   },
   "outputs": [],
   "source": [
    "import warnings\n",
    "warnings.filterwarnings('ignore')"
   ]
  },
  {
   "cell_type": "markdown",
   "metadata": {
    "id": "tUvJIk2aRFtw"
   },
   "source": [
    "* import Tensorflow"
   ]
  },
  {
   "cell_type": "code",
   "execution_count": 2,
   "metadata": {
    "colab": {
     "base_uri": "https://localhost:8080/",
     "height": 35
    },
    "executionInfo": {
     "elapsed": 2100,
     "status": "ok",
     "timestamp": 1628217853384,
     "user": {
      "displayName": "이정구",
      "photoUrl": "https://lh3.googleusercontent.com/a-/AOh14Ggor3yxeAY0Qx9DjT3OgE5Kvg17x7ah3qRpGUHVgQ=s64",
      "userId": "06746815733591865358"
     },
     "user_tz": -540
    },
    "id": "GR4j3p6N_rDV",
    "outputId": "ffbdf9af-7bb5-4df3-8863-b377b15a7235"
   },
   "outputs": [
    {
     "data": {
      "text/plain": [
       "'2.5.0'"
      ]
     },
     "execution_count": 2,
     "metadata": {},
     "output_type": "execute_result"
    }
   ],
   "source": [
    "import tensorflow\n",
    "\n",
    "tensorflow.__version__"
   ]
  },
  {
   "cell_type": "markdown",
   "metadata": {
    "id": "H49A769LYp-a"
   },
   "source": [
    "# I. CIFAR100 Data_Set Load"
   ]
  },
  {
   "cell_type": "code",
   "execution_count": 3,
   "metadata": {
    "colab": {
     "base_uri": "https://localhost:8080/"
    },
    "executionInfo": {
     "elapsed": 8524,
     "status": "ok",
     "timestamp": 1628217861882,
     "user": {
      "displayName": "이정구",
      "photoUrl": "https://lh3.googleusercontent.com/a-/AOh14Ggor3yxeAY0Qx9DjT3OgE5Kvg17x7ah3qRpGUHVgQ=s64",
      "userId": "06746815733591865358"
     },
     "user_tz": -540
    },
    "id": "DxstjE8b_6Te",
    "outputId": "9a7482ab-0591-4cc6-f5fd-d03ffaae8b2a"
   },
   "outputs": [],
   "source": [
    "from tensorflow.keras.datasets import cifar100\n",
    "\n",
    "(X_train, y_train), (X_test, y_test) = cifar100.load_data(label_mode = 'fine')"
   ]
  },
  {
   "cell_type": "code",
   "execution_count": 4,
   "metadata": {},
   "outputs": [
    {
     "data": {
      "text/plain": [
       "(50000, 32, 32, 3)"
      ]
     },
     "execution_count": 4,
     "metadata": {},
     "output_type": "execute_result"
    }
   ],
   "source": [
    "X_train.shape"
   ]
  },
  {
   "cell_type": "markdown",
   "metadata": {
    "id": "Mk9XL5vGHor6"
   },
   "source": [
    "# II. Data Preprocessing"
   ]
  },
  {
   "cell_type": "markdown",
   "metadata": {
    "id": "ec8zU4XCZRUF"
   },
   "source": [
    "> ## 1) Reshape and Normalization"
   ]
  },
  {
   "cell_type": "markdown",
   "metadata": {
    "id": "olI6ZPtEIb8H"
   },
   "source": [
    "* reshape"
   ]
  },
  {
   "cell_type": "code",
   "execution_count": 5,
   "metadata": {
    "id": "8-toPn1ZAmFd"
   },
   "outputs": [],
   "source": [
    "X_train = X_train.reshape((50000,  32, 32, 3))\n",
    "X_test = X_test.reshape((10000,  32, 32, 3))"
   ]
  },
  {
   "cell_type": "markdown",
   "metadata": {
    "id": "UN-xPWjYIeWL"
   },
   "source": [
    "* Normalization"
   ]
  },
  {
   "cell_type": "code",
   "execution_count": 6,
   "metadata": {
    "id": "SoGHuYeFIGBj"
   },
   "outputs": [],
   "source": [
    "X_train = X_train.astype(float) / 255\n",
    "X_test = X_test.astype(float) / 255"
   ]
  },
  {
   "cell_type": "markdown",
   "metadata": {
    "id": "BtSROU80aF12"
   },
   "source": [
    "> ## 2) One Hot Encoding"
   ]
  },
  {
   "cell_type": "code",
   "execution_count": 7,
   "metadata": {
    "id": "eC48Oym3Ao8E"
   },
   "outputs": [],
   "source": [
    "from tensorflow.keras.utils import to_categorical\n",
    "\n",
    "y_train = to_categorical(y_train)\n",
    "y_test = to_categorical(y_test)"
   ]
  },
  {
   "cell_type": "code",
   "execution_count": 8,
   "metadata": {},
   "outputs": [
    {
     "data": {
      "text/plain": [
       "(50000, 100)"
      ]
     },
     "execution_count": 8,
     "metadata": {},
     "output_type": "execute_result"
    }
   ],
   "source": [
    "y_train.shape"
   ]
  },
  {
   "cell_type": "markdown",
   "metadata": {
    "id": "NTwZiSjiop3v"
   },
   "source": [
    "# III. MNIST Keras Modeling"
   ]
  },
  {
   "cell_type": "markdown",
   "metadata": {
    "id": "j5CT0TurJCkc"
   },
   "source": [
    "> ## 1) Model Define"
   ]
  },
  {
   "cell_type": "code",
   "execution_count": 9,
   "metadata": {
    "id": "II0DskRdAcHS"
   },
   "outputs": [],
   "source": [
    "from tensorflow.keras import models, layers\n",
    "\n",
    "model = models.Sequential()\n",
    "model.add(layers.Conv2D(filters=128, kernel_size=(3,3), padding='same', activation='relu', input_shape=(32, 32, 3)))\n",
    "model.add(layers.MaxPool2D(pool_size=(2,2)))\n",
    "model.add(layers.Conv2D(filters=128, kernel_size=(3,3), activation='relu'))\n",
    "model.add(layers.MaxPool2D(pool_size=(2,2)))\n",
    "model.add(layers.Conv2D(filters=128, kernel_size=(3,3), activation='relu'))\n",
    "\n",
    "model.add(layers.Flatten())\n",
    "model.add(layers.Dense(units=256, activation='relu'))\n",
    "model.add(layers.Dropout(0.5))\n",
    "model.add(layers.Dense(units=100, activation='softmax'))"
   ]
  },
  {
   "cell_type": "code",
   "execution_count": 10,
   "metadata": {
    "id": "kQ02_BOz8-ek"
   },
   "outputs": [
    {
     "name": "stdout",
     "output_type": "stream",
     "text": [
      "Model: \"sequential\"\n",
      "_________________________________________________________________\n",
      "Layer (type)                 Output Shape              Param #   \n",
      "=================================================================\n",
      "conv2d (Conv2D)              (None, 32, 32, 128)       3584      \n",
      "_________________________________________________________________\n",
      "max_pooling2d (MaxPooling2D) (None, 16, 16, 128)       0         \n",
      "_________________________________________________________________\n",
      "conv2d_1 (Conv2D)            (None, 14, 14, 128)       147584    \n",
      "_________________________________________________________________\n",
      "max_pooling2d_1 (MaxPooling2 (None, 7, 7, 128)         0         \n",
      "_________________________________________________________________\n",
      "conv2d_2 (Conv2D)            (None, 5, 5, 128)         147584    \n",
      "_________________________________________________________________\n",
      "flatten (Flatten)            (None, 3200)              0         \n",
      "_________________________________________________________________\n",
      "dense (Dense)                (None, 256)               819456    \n",
      "_________________________________________________________________\n",
      "dropout (Dropout)            (None, 256)               0         \n",
      "_________________________________________________________________\n",
      "dense_1 (Dense)              (None, 100)               25700     \n",
      "=================================================================\n",
      "Total params: 1,143,908\n",
      "Trainable params: 1,143,908\n",
      "Non-trainable params: 0\n",
      "_________________________________________________________________\n"
     ]
    }
   ],
   "source": [
    "model.summary()"
   ]
  },
  {
   "cell_type": "markdown",
   "metadata": {
    "id": "tpjBDBeYoyuj"
   },
   "source": [
    "> ## 2) Model Compile"
   ]
  },
  {
   "cell_type": "markdown",
   "metadata": {
    "id": "f3sxkQa0JoUr"
   },
   "source": [
    "* 모델 학습방법 설정"
   ]
  },
  {
   "cell_type": "code",
   "execution_count": 11,
   "metadata": {
    "id": "AyK_t1qwAi6M"
   },
   "outputs": [],
   "source": [
    "model.compile(optimizer='adam', loss='categorical_crossentropy',\n",
    "             metrics=['accuracy'])"
   ]
  },
  {
   "cell_type": "markdown",
   "metadata": {
    "id": "umiq4B-Xo3OB"
   },
   "source": [
    "> ## 3) Model Fit"
   ]
  },
  {
   "cell_type": "markdown",
   "metadata": {
    "id": "1KuXREziKMD1"
   },
   "source": [
    "* 약 5분"
   ]
  },
  {
   "cell_type": "code",
   "execution_count": 12,
   "metadata": {
    "id": "zxwqwAqRAqRP",
    "scrolled": true
   },
   "outputs": [
    {
     "name": "stdout",
     "output_type": "stream",
     "text": [
      "Epoch 1/100\n",
      "313/313 [==============================] - 8s 16ms/step - loss: 4.2367 - accuracy: 0.0526 - val_loss: 3.7289 - val_accuracy: 0.1326\n",
      "Epoch 2/100\n",
      "313/313 [==============================] - 4s 14ms/step - loss: 3.6647 - accuracy: 0.1383 - val_loss: 3.3070 - val_accuracy: 0.2054\n",
      "Epoch 3/100\n",
      "313/313 [==============================] - 5s 15ms/step - loss: 3.3389 - accuracy: 0.1927 - val_loss: 3.0977 - val_accuracy: 0.2403\n",
      "Epoch 4/100\n",
      "313/313 [==============================] - 4s 14ms/step - loss: 3.1303 - accuracy: 0.2321 - val_loss: 2.9494 - val_accuracy: 0.2711\n",
      "Epoch 5/100\n",
      "313/313 [==============================] - 5s 15ms/step - loss: 2.9568 - accuracy: 0.2664 - val_loss: 2.7516 - val_accuracy: 0.3119\n",
      "Epoch 6/100\n",
      "313/313 [==============================] - 5s 14ms/step - loss: 2.8137 - accuracy: 0.2943 - val_loss: 2.6590 - val_accuracy: 0.3321\n",
      "Epoch 7/100\n",
      "313/313 [==============================] - 5s 15ms/step - loss: 2.6976 - accuracy: 0.3141 - val_loss: 2.6086 - val_accuracy: 0.3408\n",
      "Epoch 8/100\n",
      "313/313 [==============================] - 4s 14ms/step - loss: 2.5826 - accuracy: 0.3359 - val_loss: 2.5289 - val_accuracy: 0.3613\n",
      "Epoch 9/100\n",
      "313/313 [==============================] - 4s 14ms/step - loss: 2.4988 - accuracy: 0.3541 - val_loss: 2.4991 - val_accuracy: 0.3659\n",
      "Epoch 10/100\n",
      "313/313 [==============================] - 4s 14ms/step - loss: 2.4083 - accuracy: 0.3711 - val_loss: 2.4392 - val_accuracy: 0.3813\n",
      "Epoch 11/100\n",
      "313/313 [==============================] - 5s 15ms/step - loss: 2.3305 - accuracy: 0.3841 - val_loss: 2.4298 - val_accuracy: 0.3828\n",
      "Epoch 12/100\n",
      "313/313 [==============================] - 4s 14ms/step - loss: 2.2550 - accuracy: 0.4016 - val_loss: 2.4382 - val_accuracy: 0.3821\n",
      "Epoch 13/100\n",
      "313/313 [==============================] - 4s 14ms/step - loss: 2.1729 - accuracy: 0.4185 - val_loss: 2.4116 - val_accuracy: 0.3921\n",
      "Epoch 14/100\n",
      "313/313 [==============================] - 4s 14ms/step - loss: 2.1063 - accuracy: 0.4319 - val_loss: 2.4116 - val_accuracy: 0.3945\n",
      "Epoch 15/100\n",
      "313/313 [==============================] - 4s 14ms/step - loss: 2.0425 - accuracy: 0.4460 - val_loss: 2.3952 - val_accuracy: 0.3941\n",
      "Epoch 16/100\n",
      "313/313 [==============================] - 4s 14ms/step - loss: 1.9718 - accuracy: 0.4597 - val_loss: 2.4264 - val_accuracy: 0.3903\n",
      "Epoch 17/100\n",
      "313/313 [==============================] - 4s 14ms/step - loss: 1.9194 - accuracy: 0.4696 - val_loss: 2.3907 - val_accuracy: 0.4022\n",
      "Epoch 18/100\n",
      "313/313 [==============================] - 4s 14ms/step - loss: 1.8586 - accuracy: 0.4822 - val_loss: 2.4543 - val_accuracy: 0.3930\n",
      "Epoch 19/100\n",
      "313/313 [==============================] - 4s 14ms/step - loss: 1.7935 - accuracy: 0.4981 - val_loss: 2.4398 - val_accuracy: 0.4007\n",
      "Epoch 20/100\n",
      "313/313 [==============================] - 4s 14ms/step - loss: 1.7496 - accuracy: 0.5050 - val_loss: 2.4696 - val_accuracy: 0.3924\n",
      "Epoch 21/100\n",
      "313/313 [==============================] - 4s 14ms/step - loss: 1.6936 - accuracy: 0.5191 - val_loss: 2.4532 - val_accuracy: 0.3951\n",
      "Epoch 22/100\n",
      "313/313 [==============================] - 4s 13ms/step - loss: 1.6519 - accuracy: 0.5278 - val_loss: 2.5471 - val_accuracy: 0.3877\n",
      "Epoch 23/100\n",
      "313/313 [==============================] - 4s 14ms/step - loss: 1.5974 - accuracy: 0.5415 - val_loss: 2.5266 - val_accuracy: 0.3914\n",
      "Epoch 24/100\n",
      "313/313 [==============================] - 5s 15ms/step - loss: 1.5424 - accuracy: 0.5538 - val_loss: 2.5738 - val_accuracy: 0.3911\n",
      "Epoch 25/100\n",
      "313/313 [==============================] - 4s 14ms/step - loss: 1.5086 - accuracy: 0.5606 - val_loss: 2.5895 - val_accuracy: 0.3930\n",
      "Epoch 26/100\n",
      "313/313 [==============================] - 5s 15ms/step - loss: 1.4625 - accuracy: 0.5708 - val_loss: 2.6563 - val_accuracy: 0.3971\n",
      "Epoch 27/100\n",
      "313/313 [==============================] - 5s 15ms/step - loss: 1.4225 - accuracy: 0.5818 - val_loss: 2.6877 - val_accuracy: 0.3936\n",
      "Epoch 28/100\n",
      "313/313 [==============================] - 5s 15ms/step - loss: 1.3871 - accuracy: 0.5922 - val_loss: 2.7002 - val_accuracy: 0.3909\n",
      "Epoch 29/100\n",
      "313/313 [==============================] - 5s 14ms/step - loss: 1.3462 - accuracy: 0.5976 - val_loss: 2.7410 - val_accuracy: 0.3888\n",
      "Epoch 30/100\n",
      "313/313 [==============================] - 4s 14ms/step - loss: 1.3091 - accuracy: 0.6075 - val_loss: 2.7650 - val_accuracy: 0.3921\n",
      "Epoch 31/100\n",
      "313/313 [==============================] - 4s 14ms/step - loss: 1.2810 - accuracy: 0.6152 - val_loss: 2.8311 - val_accuracy: 0.3839\n",
      "Epoch 32/100\n",
      "313/313 [==============================] - 4s 14ms/step - loss: 1.2503 - accuracy: 0.6204 - val_loss: 2.9080 - val_accuracy: 0.3878\n",
      "Epoch 33/100\n",
      "313/313 [==============================] - 5s 15ms/step - loss: 1.2211 - accuracy: 0.6277 - val_loss: 3.0469 - val_accuracy: 0.3781\n",
      "Epoch 34/100\n",
      "313/313 [==============================] - 4s 14ms/step - loss: 1.1935 - accuracy: 0.6347 - val_loss: 2.9703 - val_accuracy: 0.3877\n",
      "Epoch 35/100\n",
      "313/313 [==============================] - 5s 15ms/step - loss: 1.1563 - accuracy: 0.6425 - val_loss: 3.0261 - val_accuracy: 0.3803\n",
      "Epoch 36/100\n",
      "313/313 [==============================] - 5s 15ms/step - loss: 1.1436 - accuracy: 0.6508 - val_loss: 3.0672 - val_accuracy: 0.3781\n",
      "Epoch 37/100\n",
      "313/313 [==============================] - 5s 15ms/step - loss: 1.1163 - accuracy: 0.6550 - val_loss: 3.0838 - val_accuracy: 0.3724\n",
      "Epoch 38/100\n",
      "313/313 [==============================] - 5s 15ms/step - loss: 1.0830 - accuracy: 0.6641 - val_loss: 3.1275 - val_accuracy: 0.3818\n",
      "Epoch 39/100\n",
      "313/313 [==============================] - 5s 14ms/step - loss: 1.0702 - accuracy: 0.6671 - val_loss: 3.2224 - val_accuracy: 0.3779\n",
      "Epoch 40/100\n",
      "313/313 [==============================] - 4s 14ms/step - loss: 1.0421 - accuracy: 0.6725 - val_loss: 3.2370 - val_accuracy: 0.3802\n",
      "Epoch 41/100\n",
      "313/313 [==============================] - 4s 14ms/step - loss: 1.0138 - accuracy: 0.6811 - val_loss: 3.2775 - val_accuracy: 0.3831\n",
      "Epoch 42/100\n",
      "313/313 [==============================] - 5s 15ms/step - loss: 1.0006 - accuracy: 0.6850 - val_loss: 3.3096 - val_accuracy: 0.3797\n",
      "Epoch 43/100\n",
      "313/313 [==============================] - 5s 15ms/step - loss: 0.9704 - accuracy: 0.6911 - val_loss: 3.3668 - val_accuracy: 0.3763\n",
      "Epoch 44/100\n",
      "313/313 [==============================] - 5s 15ms/step - loss: 0.9606 - accuracy: 0.6964 - val_loss: 3.3700 - val_accuracy: 0.3745\n",
      "Epoch 45/100\n",
      "313/313 [==============================] - 4s 14ms/step - loss: 0.9432 - accuracy: 0.7012 - val_loss: 3.5123 - val_accuracy: 0.3736\n",
      "Epoch 46/100\n",
      "313/313 [==============================] - 4s 14ms/step - loss: 0.9336 - accuracy: 0.7036 - val_loss: 3.4002 - val_accuracy: 0.3722\n",
      "Epoch 47/100\n",
      "313/313 [==============================] - 4s 14ms/step - loss: 0.9087 - accuracy: 0.7137 - val_loss: 3.5295 - val_accuracy: 0.3766\n",
      "Epoch 48/100\n",
      "313/313 [==============================] - 5s 14ms/step - loss: 0.8922 - accuracy: 0.7140 - val_loss: 3.6344 - val_accuracy: 0.3703\n",
      "Epoch 49/100\n",
      "313/313 [==============================] - 5s 15ms/step - loss: 0.8871 - accuracy: 0.7178 - val_loss: 3.5958 - val_accuracy: 0.3707\n",
      "Epoch 50/100\n",
      "313/313 [==============================] - 5s 15ms/step - loss: 0.8688 - accuracy: 0.7232 - val_loss: 3.6149 - val_accuracy: 0.3736\n",
      "Epoch 51/100\n",
      "313/313 [==============================] - 5s 15ms/step - loss: 0.8505 - accuracy: 0.7263 - val_loss: 3.7640 - val_accuracy: 0.3726\n",
      "Epoch 52/100\n",
      "313/313 [==============================] - 4s 14ms/step - loss: 0.8546 - accuracy: 0.7247 - val_loss: 3.7370 - val_accuracy: 0.3727\n",
      "Epoch 53/100\n",
      "313/313 [==============================] - 5s 15ms/step - loss: 0.8221 - accuracy: 0.7351 - val_loss: 3.8058 - val_accuracy: 0.3717\n",
      "Epoch 54/100\n",
      "313/313 [==============================] - 4s 14ms/step - loss: 0.8118 - accuracy: 0.7383 - val_loss: 3.8371 - val_accuracy: 0.3700\n",
      "Epoch 55/100\n",
      "313/313 [==============================] - 4s 14ms/step - loss: 0.8095 - accuracy: 0.7378 - val_loss: 3.8469 - val_accuracy: 0.3692\n",
      "Epoch 56/100\n",
      "313/313 [==============================] - 4s 14ms/step - loss: 0.8143 - accuracy: 0.7379 - val_loss: 3.8523 - val_accuracy: 0.3716\n",
      "Epoch 57/100\n"
     ]
    },
    {
     "name": "stdout",
     "output_type": "stream",
     "text": [
      "313/313 [==============================] - 4s 14ms/step - loss: 0.7787 - accuracy: 0.7479 - val_loss: 3.9293 - val_accuracy: 0.3713\n",
      "Epoch 58/100\n",
      "313/313 [==============================] - 4s 14ms/step - loss: 0.7649 - accuracy: 0.7526 - val_loss: 4.0785 - val_accuracy: 0.3617\n",
      "Epoch 59/100\n",
      "313/313 [==============================] - 5s 15ms/step - loss: 0.7695 - accuracy: 0.7494 - val_loss: 4.0218 - val_accuracy: 0.3637\n",
      "Epoch 60/100\n",
      "313/313 [==============================] - 5s 15ms/step - loss: 0.7724 - accuracy: 0.7510 - val_loss: 4.0309 - val_accuracy: 0.3722\n",
      "Epoch 61/100\n",
      "313/313 [==============================] - 4s 14ms/step - loss: 0.7432 - accuracy: 0.7563 - val_loss: 4.1226 - val_accuracy: 0.3702\n",
      "Epoch 62/100\n",
      "313/313 [==============================] - 5s 14ms/step - loss: 0.7451 - accuracy: 0.7585 - val_loss: 4.2771 - val_accuracy: 0.3626\n",
      "Epoch 63/100\n",
      "313/313 [==============================] - 4s 14ms/step - loss: 0.7295 - accuracy: 0.7609 - val_loss: 4.1693 - val_accuracy: 0.3683\n",
      "Epoch 64/100\n",
      "313/313 [==============================] - 4s 14ms/step - loss: 0.7121 - accuracy: 0.7692 - val_loss: 4.2887 - val_accuracy: 0.3673\n",
      "Epoch 65/100\n",
      "313/313 [==============================] - 5s 15ms/step - loss: 0.7083 - accuracy: 0.7688 - val_loss: 4.3549 - val_accuracy: 0.3690\n",
      "Epoch 66/100\n",
      "313/313 [==============================] - 4s 14ms/step - loss: 0.6984 - accuracy: 0.7692 - val_loss: 4.3848 - val_accuracy: 0.3748\n",
      "Epoch 67/100\n",
      "313/313 [==============================] - 4s 13ms/step - loss: 0.6965 - accuracy: 0.7716 - val_loss: 4.3506 - val_accuracy: 0.3619\n",
      "Epoch 68/100\n",
      "313/313 [==============================] - 4s 14ms/step - loss: 0.7064 - accuracy: 0.7697 - val_loss: 4.3894 - val_accuracy: 0.3627\n",
      "Epoch 69/100\n",
      "313/313 [==============================] - 4s 14ms/step - loss: 0.6866 - accuracy: 0.7771 - val_loss: 4.5226 - val_accuracy: 0.3663\n",
      "Epoch 70/100\n",
      "313/313 [==============================] - 4s 14ms/step - loss: 0.6804 - accuracy: 0.7770 - val_loss: 4.4062 - val_accuracy: 0.3621\n",
      "Epoch 71/100\n",
      "313/313 [==============================] - 4s 14ms/step - loss: 0.6673 - accuracy: 0.7807 - val_loss: 4.4986 - val_accuracy: 0.3642\n",
      "Epoch 72/100\n",
      "313/313 [==============================] - 4s 14ms/step - loss: 0.6659 - accuracy: 0.7802 - val_loss: 4.6612 - val_accuracy: 0.3595\n",
      "Epoch 73/100\n",
      "313/313 [==============================] - 4s 14ms/step - loss: 0.6698 - accuracy: 0.7785 - val_loss: 4.6020 - val_accuracy: 0.3584\n",
      "Epoch 74/100\n",
      "313/313 [==============================] - 4s 14ms/step - loss: 0.6533 - accuracy: 0.7858 - val_loss: 4.6057 - val_accuracy: 0.3650\n",
      "Epoch 75/100\n",
      "313/313 [==============================] - 4s 14ms/step - loss: 0.6626 - accuracy: 0.7854 - val_loss: 4.6352 - val_accuracy: 0.3618\n",
      "Epoch 76/100\n",
      "313/313 [==============================] - 4s 14ms/step - loss: 0.6454 - accuracy: 0.7869 - val_loss: 4.6802 - val_accuracy: 0.3589\n",
      "Epoch 77/100\n",
      "313/313 [==============================] - 4s 14ms/step - loss: 0.6401 - accuracy: 0.7881 - val_loss: 4.7025 - val_accuracy: 0.3601\n",
      "Epoch 78/100\n",
      "313/313 [==============================] - 4s 14ms/step - loss: 0.6293 - accuracy: 0.7926 - val_loss: 4.7531 - val_accuracy: 0.3577\n",
      "Epoch 79/100\n",
      "313/313 [==============================] - 4s 14ms/step - loss: 0.6277 - accuracy: 0.7939 - val_loss: 4.8109 - val_accuracy: 0.3628\n",
      "Epoch 80/100\n",
      "313/313 [==============================] - 4s 14ms/step - loss: 0.6275 - accuracy: 0.7933 - val_loss: 4.7874 - val_accuracy: 0.3648\n",
      "Epoch 81/100\n",
      "313/313 [==============================] - 4s 13ms/step - loss: 0.6314 - accuracy: 0.7908 - val_loss: 4.7468 - val_accuracy: 0.3536\n",
      "Epoch 82/100\n",
      "313/313 [==============================] - 4s 13ms/step - loss: 0.6142 - accuracy: 0.7986 - val_loss: 4.8448 - val_accuracy: 0.3619\n",
      "Epoch 83/100\n",
      "313/313 [==============================] - 4s 14ms/step - loss: 0.6112 - accuracy: 0.7973 - val_loss: 4.8170 - val_accuracy: 0.3654\n",
      "Epoch 84/100\n",
      "313/313 [==============================] - 4s 14ms/step - loss: 0.6134 - accuracy: 0.7965 - val_loss: 4.9352 - val_accuracy: 0.3542\n",
      "Epoch 85/100\n",
      "313/313 [==============================] - 4s 14ms/step - loss: 0.5958 - accuracy: 0.8025 - val_loss: 4.9404 - val_accuracy: 0.3657\n",
      "Epoch 86/100\n",
      "313/313 [==============================] - 4s 13ms/step - loss: 0.5843 - accuracy: 0.8085 - val_loss: 4.9208 - val_accuracy: 0.3649\n",
      "Epoch 87/100\n",
      "313/313 [==============================] - 4s 14ms/step - loss: 0.5909 - accuracy: 0.8059 - val_loss: 4.9908 - val_accuracy: 0.3588\n",
      "Epoch 88/100\n",
      "313/313 [==============================] - 4s 14ms/step - loss: 0.5941 - accuracy: 0.8020 - val_loss: 5.0317 - val_accuracy: 0.3652\n",
      "Epoch 89/100\n",
      "313/313 [==============================] - 4s 14ms/step - loss: 0.5905 - accuracy: 0.8039 - val_loss: 5.0936 - val_accuracy: 0.3600\n",
      "Epoch 90/100\n",
      "313/313 [==============================] - 4s 14ms/step - loss: 0.5864 - accuracy: 0.8077 - val_loss: 5.0300 - val_accuracy: 0.3576\n",
      "Epoch 91/100\n",
      "313/313 [==============================] - 4s 14ms/step - loss: 0.5689 - accuracy: 0.8108 - val_loss: 5.1982 - val_accuracy: 0.3578\n",
      "Epoch 92/100\n",
      "313/313 [==============================] - 4s 14ms/step - loss: 0.5827 - accuracy: 0.8065 - val_loss: 5.2713 - val_accuracy: 0.3585\n",
      "Epoch 93/100\n",
      "313/313 [==============================] - 4s 14ms/step - loss: 0.5772 - accuracy: 0.8070 - val_loss: 5.3229 - val_accuracy: 0.3575\n",
      "Epoch 94/100\n",
      "313/313 [==============================] - 4s 14ms/step - loss: 0.5640 - accuracy: 0.8146 - val_loss: 5.2761 - val_accuracy: 0.3652\n",
      "Epoch 95/100\n",
      "313/313 [==============================] - 4s 14ms/step - loss: 0.5603 - accuracy: 0.8162 - val_loss: 5.2800 - val_accuracy: 0.3584\n",
      "Epoch 96/100\n",
      "313/313 [==============================] - 5s 15ms/step - loss: 0.5541 - accuracy: 0.8148 - val_loss: 5.3189 - val_accuracy: 0.3558\n",
      "Epoch 97/100\n",
      "313/313 [==============================] - 5s 15ms/step - loss: 0.5531 - accuracy: 0.8148 - val_loss: 5.1785 - val_accuracy: 0.3598\n",
      "Epoch 98/100\n",
      "313/313 [==============================] - 4s 14ms/step - loss: 0.5426 - accuracy: 0.8169 - val_loss: 5.3712 - val_accuracy: 0.3568\n",
      "Epoch 99/100\n",
      "313/313 [==============================] - 4s 14ms/step - loss: 0.5523 - accuracy: 0.8163 - val_loss: 5.5169 - val_accuracy: 0.3544\n",
      "Epoch 100/100\n",
      "313/313 [==============================] - 4s 14ms/step - loss: 0.5615 - accuracy: 0.8136 - val_loss: 5.3967 - val_accuracy: 0.3605\n",
      "Wall time: 7min 25s\n"
     ]
    }
   ],
   "source": [
    "%%time\n",
    "\n",
    "Hist_mnist = model.fit(X_train, y_train, \n",
    "                      batch_size=128, epochs=100,\n",
    "                      validation_split=0.2)"
   ]
  },
  {
   "cell_type": "markdown",
   "metadata": {
    "id": "FnnIyFtNKhbD"
   },
   "source": [
    "> ## 4) 학습 결과 시각화"
   ]
  },
  {
   "cell_type": "markdown",
   "metadata": {
    "id": "YgXRhVauKqOm"
   },
   "source": [
    "* Loss Visualization"
   ]
  },
  {
   "cell_type": "code",
   "execution_count": 15,
   "metadata": {
    "id": "OQ4ke8BbKi50"
   },
   "outputs": [
    {
     "data": {
      "image/png": "[encoded data removed]",
      "text/plain": [
       "<Figure size 648x432 with 1 Axes>"
      ]
     },
     "metadata": {
      "needs_background": "light"
     },
     "output_type": "display_data"
    }
   ],
   "source": [
    "import matplotlib.pyplot as plt\n",
    "\n",
    "epochs = range(1, len(Hist_mnist.history['loss']) + 1)\n",
    "\n",
    "plt.figure(figsize = (9, 6))\n",
    "plt.plot(epochs, Hist_mnist.history['loss'])\n",
    "plt.plot(epochs, Hist_mnist.history['val_loss'])\n",
    "# plt.ylim(0, 0.4)\n",
    "plt.title('Training & Validation Loss')\n",
    "plt.xlabel('Epochs')\n",
    "plt.ylabel('Loss')\n",
    "plt.legend(['Training Loss', 'Validation Loss'])\n",
    "plt.grid()\n",
    "plt.show()"
   ]
  },
  {
   "cell_type": "markdown",
   "metadata": {
    "id": "_uJSOLBko7lh"
   },
   "source": [
    "> ## 5) Model Evaluate"
   ]
  },
  {
   "cell_type": "markdown",
   "metadata": {
    "id": "i-TqAB2ALGzZ"
   },
   "source": [
    "* Loss & Accuracy"
   ]
  },
  {
   "cell_type": "code",
   "execution_count": 16,
   "metadata": {
    "id": "OF30PuZsAxQJ"
   },
   "outputs": [
    {
     "name": "stdout",
     "output_type": "stream",
     "text": [
      "313/313 [==============================] - 1s 3ms/step - loss: 5.3775 - accuracy: 0.3572\n",
      "Loss = 5.37753\n",
      "Accuracy = 0.35720\n"
     ]
    }
   ],
   "source": [
    "loss, accuracy = model.evaluate(X_test, y_test)\n",
    "\n",
    "print('Loss = {:.5f}'.format(loss))\n",
    "print('Accuracy = {:.5f}'.format(accuracy))"
   ]
  },
  {
   "cell_type": "code",
   "execution_count": null,
   "metadata": {},
   "outputs": [],
   "source": []
  }
 ],
 "metadata": {
  "accelerator": "GPU",
  "colab": {
   "collapsed_sections": [],
   "name": "06-04_CNN_CIFAR100_Modeling_GPU_Test.ipynb",
   "provenance": [
    {
     "file_id": "1nYCltaTtC0xZXHLJDwVvibUjuM-lzSKD",
     "timestamp": 1628222758313
    }
   ]
  },
  "kernelspec": {
   "display_name": "Python tf25",
   "language": "python",
   "name": "tf25"
  },
  "language_info": {
   "codemirror_mode": {
    "name": "ipython",
    "version": 3
   },
   "file_extension": ".py",
   "mimetype": "text/x-python",
   "name": "python",
   "nbconvert_exporter": "python",
   "pygments_lexer": "ipython3",
   "version": "3.8.8"
  }
 },
 "nbformat": 4,
 "nbformat_minor": 1
}
