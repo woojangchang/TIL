{
 "cells": [
  {
   "cell_type": "markdown",
   "metadata": {
    "id": "q2Pr7oBdYLdf"
   },
   "source": [
    "# CIFAR 10 - Categorical Classification"
   ]
  },
  {
   "cell_type": "code",
   "execution_count": 1,
   "metadata": {
    "id": "RbPgODpVzdHI"
   },
   "outputs": [],
   "source": [
    "import warnings\n",
    "warnings.filterwarnings('ignore')"
   ]
  },
  {
   "cell_type": "markdown",
   "metadata": {
    "id": "tUvJIk2aRFtw"
   },
   "source": [
    "* import Tensorflow"
   ]
  },
  {
   "cell_type": "code",
   "execution_count": 2,
   "metadata": {
    "colab": {
     "base_uri": "https://localhost:8080/",
     "height": 35
    },
    "id": "GR4j3p6N_rDV",
    "outputId": "95fd2c0b-bf36-474a-942b-492868a376a6"
   },
   "outputs": [
    {
     "data": {
      "application/vnd.google.colaboratory.intrinsic+json": {
       "type": "string"
      },
      "text/plain": [
       "'2.5.0'"
      ]
     },
     "execution_count": 2,
     "metadata": {
      "tags": []
     },
     "output_type": "execute_result"
    }
   ],
   "source": [
    "import tensorflow\n",
    "\n",
    "tensorflow.__version__"
   ]
  },
  {
   "cell_type": "markdown",
   "metadata": {
    "id": "H49A769LYp-a"
   },
   "source": [
    "# I. CIFAR 10 Data_Set Load & Review"
   ]
  },
  {
   "cell_type": "markdown",
   "metadata": {
    "id": "vb6EIkRcbPb4"
   },
   "source": [
    "> ## 1) Load CIFAR 10 Data_Set"
   ]
  },
  {
   "cell_type": "code",
   "execution_count": 3,
   "metadata": {
    "colab": {
     "base_uri": "https://localhost:8080/"
    },
    "id": "DxstjE8b_6Te",
    "outputId": "5b46de47-aa44-4f94-e337-21d4bdc2310d"
   },
   "outputs": [
    {
     "name": "stdout",
     "output_type": "stream",
     "text": [
      "Downloading data from https://www.cs.toronto.edu/~kriz/cifar-10-python.tar.gz\n",
      "170500096/170498071 [==============================] - 4s 0us/step\n"
     ]
    }
   ],
   "source": [
    "from tensorflow.keras.datasets import cifar10\n",
    "\n",
    "(X_train, y_train), (X_test, y_test) = cifar10.load_data()"
   ]
  },
  {
   "cell_type": "markdown",
   "metadata": {
    "id": "Mt11QE0EHCiJ"
   },
   "source": [
    "* Train_Data Information"
   ]
  },
  {
   "cell_type": "code",
   "execution_count": 4,
   "metadata": {
    "colab": {
     "base_uri": "https://localhost:8080/"
    },
    "id": "KT_Mr_Hb__VH",
    "outputId": "126e6b84-c708-498d-850d-bc3734c0dea6"
   },
   "outputs": [
    {
     "name": "stdout",
     "output_type": "stream",
     "text": [
      "50000\n",
      "(50000, 32, 32, 3)\n",
      "50000\n",
      "[[6]\n",
      " [9]\n",
      " [9]\n",
      " [4]\n",
      " [1]]\n"
     ]
    }
   ],
   "source": [
    "print(len(X_train))\n",
    "print(X_train.shape)\n",
    "\n",
    "print(len(y_train))\n",
    "print(y_train[0:5])"
   ]
  },
  {
   "cell_type": "code",
   "execution_count": 5,
   "metadata": {
    "colab": {
     "base_uri": "https://localhost:8080/"
    },
    "id": "CeWR7nemq-lI",
    "outputId": "680664ac-2dbf-4a93-c60b-1662502e3c45"
   },
   "outputs": [
    {
     "name": "stdout",
     "output_type": "stream",
     "text": [
      "[0] [9]\n"
     ]
    }
   ],
   "source": [
    "print(min(y_train), max(y_train))"
   ]
  },
  {
   "cell_type": "markdown",
   "metadata": {
    "id": "QolAqIwgHGRI"
   },
   "source": [
    "* Test_Data Information"
   ]
  },
  {
   "cell_type": "code",
   "execution_count": 6,
   "metadata": {
    "colab": {
     "base_uri": "https://localhost:8080/"
    },
    "id": "NtkD2BKUANZE",
    "outputId": "b637ddc1-a792-40ac-cf5a-4fc6e476cc39"
   },
   "outputs": [
    {
     "name": "stdout",
     "output_type": "stream",
     "text": [
      "10000\n",
      "(10000, 32, 32, 3)\n",
      "10000\n",
      "[[3]\n",
      " [8]\n",
      " [8]\n",
      " [0]\n",
      " [6]]\n"
     ]
    }
   ],
   "source": [
    "print(len(X_test))\n",
    "print(X_test.shape)\n",
    "\n",
    "print(len(y_test))\n",
    "print(y_test[0:5])"
   ]
  },
  {
   "cell_type": "markdown",
   "metadata": {
    "id": "Mk9XL5vGHor6"
   },
   "source": [
    "# II. Data Preprocessing"
   ]
  },
  {
   "cell_type": "markdown",
   "metadata": {
    "id": "ec8zU4XCZRUF"
   },
   "source": [
    "> ## 1) Normalization"
   ]
  },
  {
   "cell_type": "code",
   "execution_count": 7,
   "metadata": {
    "id": "SoGHuYeFIGBj"
   },
   "outputs": [],
   "source": [
    "X_train = X_train.astype(float) / 255\n",
    "X_test = X_test.astype(float) / 255"
   ]
  },
  {
   "cell_type": "code",
   "execution_count": 8,
   "metadata": {
    "colab": {
     "base_uri": "https://localhost:8080/"
    },
    "id": "m1HezAboV-x8",
    "outputId": "2e768c55-f0d6-4124-f73d-87f35931bd81"
   },
   "outputs": [
    {
     "name": "stdout",
     "output_type": "stream",
     "text": [
      "[[[0.23137255 0.24313725 0.24705882]\n",
      "  [0.16862745 0.18039216 0.17647059]\n",
      "  [0.19607843 0.18823529 0.16862745]\n",
      "  ...\n",
      "  [0.61960784 0.51764706 0.42352941]\n",
      "  [0.59607843 0.49019608 0.4       ]\n",
      "  [0.58039216 0.48627451 0.40392157]]\n",
      "\n",
      " [[0.0627451  0.07843137 0.07843137]\n",
      "  [0.         0.         0.        ]\n",
      "  [0.07058824 0.03137255 0.        ]\n",
      "  ...\n",
      "  [0.48235294 0.34509804 0.21568627]\n",
      "  [0.46666667 0.3254902  0.19607843]\n",
      "  [0.47843137 0.34117647 0.22352941]]\n",
      "\n",
      " [[0.09803922 0.09411765 0.08235294]\n",
      "  [0.0627451  0.02745098 0.        ]\n",
      "  [0.19215686 0.10588235 0.03137255]\n",
      "  ...\n",
      "  [0.4627451  0.32941176 0.19607843]\n",
      "  [0.47058824 0.32941176 0.19607843]\n",
      "  [0.42745098 0.28627451 0.16470588]]\n",
      "\n",
      " ...\n",
      "\n",
      " [[0.81568627 0.66666667 0.37647059]\n",
      "  [0.78823529 0.6        0.13333333]\n",
      "  [0.77647059 0.63137255 0.10196078]\n",
      "  ...\n",
      "  [0.62745098 0.52156863 0.2745098 ]\n",
      "  [0.21960784 0.12156863 0.02745098]\n",
      "  [0.20784314 0.13333333 0.07843137]]\n",
      "\n",
      " [[0.70588235 0.54509804 0.37647059]\n",
      "  [0.67843137 0.48235294 0.16470588]\n",
      "  [0.72941176 0.56470588 0.11764706]\n",
      "  ...\n",
      "  [0.72156863 0.58039216 0.36862745]\n",
      "  [0.38039216 0.24313725 0.13333333]\n",
      "  [0.3254902  0.20784314 0.13333333]]\n",
      "\n",
      " [[0.69411765 0.56470588 0.45490196]\n",
      "  [0.65882353 0.50588235 0.36862745]\n",
      "  [0.70196078 0.55686275 0.34117647]\n",
      "  ...\n",
      "  [0.84705882 0.72156863 0.54901961]\n",
      "  [0.59215686 0.4627451  0.32941176]\n",
      "  [0.48235294 0.36078431 0.28235294]]]\n"
     ]
    }
   ],
   "source": [
    "print(X_train[0])"
   ]
  },
  {
   "cell_type": "markdown",
   "metadata": {
    "id": "BtSROU80aF12"
   },
   "source": [
    "> ## 2) One Hot Encoding"
   ]
  },
  {
   "cell_type": "code",
   "execution_count": 9,
   "metadata": {
    "id": "eC48Oym3Ao8E"
   },
   "outputs": [],
   "source": [
    "from tensorflow.keras.utils import to_categorical\n",
    "\n",
    "y_train = to_categorical(y_train)\n",
    "y_test = to_categorical(y_test)"
   ]
  },
  {
   "cell_type": "code",
   "execution_count": 10,
   "metadata": {
    "colab": {
     "base_uri": "https://localhost:8080/"
    },
    "id": "q1O-NsoJMyWU",
    "outputId": "2ef3a31a-bc10-49d9-c5a5-850bfaf17cb9"
   },
   "outputs": [
    {
     "name": "stdout",
     "output_type": "stream",
     "text": [
      "[[0. 0. 0. 0. 0. 0. 1. 0. 0. 0.]\n",
      " [0. 0. 0. 0. 0. 0. 0. 0. 0. 1.]\n",
      " [0. 0. 0. 0. 0. 0. 0. 0. 0. 1.]\n",
      " [0. 0. 0. 0. 1. 0. 0. 0. 0. 0.]\n",
      " [0. 1. 0. 0. 0. 0. 0. 0. 0. 0.]]\n"
     ]
    }
   ],
   "source": [
    "print(y_train[:5])"
   ]
  },
  {
   "cell_type": "markdown",
   "metadata": {
    "id": "NTwZiSjiop3v"
   },
   "source": [
    "# III. Keras Modeling"
   ]
  },
  {
   "cell_type": "markdown",
   "metadata": {
    "id": "j5CT0TurJCkc"
   },
   "source": [
    "> ## 1) Model Define"
   ]
  },
  {
   "cell_type": "markdown",
   "metadata": {
    "id": "ydDCl0jTJD58"
   },
   "source": [
    "* 모델 신경망 구조 정의\n",
    " - CNN & DNN"
   ]
  },
  {
   "cell_type": "code",
   "execution_count": 11,
   "metadata": {
    "id": "II0DskRdAcHS"
   },
   "outputs": [],
   "source": [
    "from tensorflow.keras import models, layers\n",
    "\n",
    "model = models.Sequential()\n",
    "model.add(layers.Conv2D(filters=16, kernel_size=(5,5), activation='relu', input_shape=(32, 32, 3)))\n",
    "model.add(layers.MaxPool2D(pool_size=(2,2)))\n",
    "model.add(layers.Conv2D(filters=64, kernel_size=(3,3), activation='relu'))\n",
    "model.add(layers.MaxPool2D(pool_size=(2,2)))\n",
    "model.add(layers.Conv2D(filters=32, kernel_size=(4,4), activation='relu'))\n",
    "\n",
    "model.add(layers.Flatten())\n",
    "model.add(layers.Dense(32, activation='relu'))\n",
    "model.add(layers.Dense(16, activation='relu'))\n",
    "model.add(layers.Dense(10, activation='softmax'))"
   ]
  },
  {
   "cell_type": "markdown",
   "metadata": {
    "id": "PqrObAHZJTN8"
   },
   "source": [
    "* 모델 구조 확인"
   ]
  },
  {
   "cell_type": "code",
   "execution_count": 12,
   "metadata": {
    "colab": {
     "base_uri": "https://localhost:8080/"
    },
    "id": "wbtjOA4XMTUd",
    "outputId": "fee51d27-2cb4-4c86-b1eb-37367528b4fb"
   },
   "outputs": [
    {
     "name": "stdout",
     "output_type": "stream",
     "text": [
      "Model: \"sequential\"\n",
      "_________________________________________________________________\n",
      "Layer (type)                 Output Shape              Param #   \n",
      "=================================================================\n",
      "conv2d (Conv2D)              (None, 28, 28, 16)        1216      \n",
      "_________________________________________________________________\n",
      "max_pooling2d (MaxPooling2D) (None, 14, 14, 16)        0         \n",
      "_________________________________________________________________\n",
      "conv2d_1 (Conv2D)            (None, 12, 12, 64)        9280      \n",
      "_________________________________________________________________\n",
      "max_pooling2d_1 (MaxPooling2 (None, 6, 6, 64)          0         \n",
      "_________________________________________________________________\n",
      "conv2d_2 (Conv2D)            (None, 3, 3, 32)          32800     \n",
      "_________________________________________________________________\n",
      "flatten (Flatten)            (None, 288)               0         \n",
      "_________________________________________________________________\n",
      "dense (Dense)                (None, 32)                9248      \n",
      "_________________________________________________________________\n",
      "dense_1 (Dense)              (None, 16)                528       \n",
      "_________________________________________________________________\n",
      "dense_2 (Dense)              (None, 10)                170       \n",
      "=================================================================\n",
      "Total params: 53,242\n",
      "Trainable params: 53,242\n",
      "Non-trainable params: 0\n",
      "_________________________________________________________________\n"
     ]
    }
   ],
   "source": [
    "model.summary()"
   ]
  },
  {
   "cell_type": "markdown",
   "metadata": {
    "id": "tpjBDBeYoyuj"
   },
   "source": [
    "> ## 2) Model Compile"
   ]
  },
  {
   "cell_type": "markdown",
   "metadata": {
    "id": "f3sxkQa0JoUr"
   },
   "source": [
    "* 모델 학습방법 설정"
   ]
  },
  {
   "cell_type": "code",
   "execution_count": 13,
   "metadata": {
    "id": "AyK_t1qwAi6M"
   },
   "outputs": [],
   "source": [
    "model.compile(optimizer='adam', loss='categorical_crossentropy',\n",
    "              metrics=['accuracy'])"
   ]
  },
  {
   "cell_type": "markdown",
   "metadata": {
    "id": "umiq4B-Xo3OB"
   },
   "source": [
    "> ## 3) Model Fit"
   ]
  },
  {
   "cell_type": "markdown",
   "metadata": {
    "id": "1KuXREziKMD1"
   },
   "source": [
    "* 약 4분"
   ]
  },
  {
   "cell_type": "code",
   "execution_count": 14,
   "metadata": {
    "colab": {
     "base_uri": "https://localhost:8080/"
    },
    "id": "zxwqwAqRAqRP",
    "outputId": "839ddd63-90f0-4294-81b6-d965a6cdf770"
   },
   "outputs": [
    {
     "name": "stdout",
     "output_type": "stream",
     "text": [
      "Epoch 1/100\n",
      "313/313 [==============================] - 34s 7ms/step - loss: 1.8709 - accuracy: 0.3061 - val_loss: 1.5974 - val_accuracy: 0.4228\n",
      "Epoch 2/100\n",
      "313/313 [==============================] - 2s 5ms/step - loss: 1.4777 - accuracy: 0.4591 - val_loss: 1.4318 - val_accuracy: 0.4798\n",
      "Epoch 3/100\n",
      "313/313 [==============================] - 2s 6ms/step - loss: 1.3428 - accuracy: 0.5109 - val_loss: 1.3348 - val_accuracy: 0.5132\n",
      "Epoch 4/100\n",
      "313/313 [==============================] - 2s 5ms/step - loss: 1.2513 - accuracy: 0.5496 - val_loss: 1.2287 - val_accuracy: 0.5641\n",
      "Epoch 5/100\n",
      "313/313 [==============================] - 2s 5ms/step - loss: 1.1760 - accuracy: 0.5791 - val_loss: 1.1681 - val_accuracy: 0.5841\n",
      "Epoch 6/100\n",
      "313/313 [==============================] - 2s 5ms/step - loss: 1.1244 - accuracy: 0.5977 - val_loss: 1.1683 - val_accuracy: 0.5861\n",
      "Epoch 7/100\n",
      "313/313 [==============================] - 2s 5ms/step - loss: 1.0839 - accuracy: 0.6158 - val_loss: 1.1281 - val_accuracy: 0.6006\n",
      "Epoch 8/100\n",
      "313/313 [==============================] - 2s 5ms/step - loss: 1.0381 - accuracy: 0.6314 - val_loss: 1.0825 - val_accuracy: 0.6214\n",
      "Epoch 9/100\n",
      "313/313 [==============================] - 2s 5ms/step - loss: 0.9998 - accuracy: 0.6459 - val_loss: 1.0808 - val_accuracy: 0.6246\n",
      "Epoch 10/100\n",
      "313/313 [==============================] - 2s 6ms/step - loss: 0.9742 - accuracy: 0.6571 - val_loss: 1.0329 - val_accuracy: 0.6410\n",
      "Epoch 11/100\n",
      "313/313 [==============================] - 2s 5ms/step - loss: 0.9357 - accuracy: 0.6719 - val_loss: 1.0141 - val_accuracy: 0.6438\n",
      "Epoch 12/100\n",
      "313/313 [==============================] - 2s 5ms/step - loss: 0.9117 - accuracy: 0.6792 - val_loss: 1.0049 - val_accuracy: 0.6411\n",
      "Epoch 13/100\n",
      "313/313 [==============================] - 2s 5ms/step - loss: 0.8828 - accuracy: 0.6908 - val_loss: 1.0047 - val_accuracy: 0.6492\n",
      "Epoch 14/100\n",
      "313/313 [==============================] - 2s 5ms/step - loss: 0.8701 - accuracy: 0.6930 - val_loss: 1.0066 - val_accuracy: 0.6550\n",
      "Epoch 15/100\n",
      "313/313 [==============================] - 2s 5ms/step - loss: 0.8521 - accuracy: 0.7011 - val_loss: 1.0253 - val_accuracy: 0.6440\n",
      "Epoch 16/100\n",
      "313/313 [==============================] - 2s 5ms/step - loss: 0.8260 - accuracy: 0.7087 - val_loss: 0.9889 - val_accuracy: 0.6597\n",
      "Epoch 17/100\n",
      "313/313 [==============================] - 2s 5ms/step - loss: 0.8035 - accuracy: 0.7186 - val_loss: 0.9605 - val_accuracy: 0.6689\n",
      "Epoch 18/100\n",
      "313/313 [==============================] - 2s 5ms/step - loss: 0.7897 - accuracy: 0.7219 - val_loss: 1.0083 - val_accuracy: 0.6582\n",
      "Epoch 19/100\n",
      "313/313 [==============================] - 2s 5ms/step - loss: 0.7697 - accuracy: 0.7294 - val_loss: 0.9478 - val_accuracy: 0.6763\n",
      "Epoch 20/100\n",
      "313/313 [==============================] - 2s 5ms/step - loss: 0.7512 - accuracy: 0.7350 - val_loss: 1.0000 - val_accuracy: 0.6640\n",
      "Epoch 21/100\n",
      "313/313 [==============================] - 2s 6ms/step - loss: 0.7319 - accuracy: 0.7415 - val_loss: 0.9950 - val_accuracy: 0.6660\n",
      "Epoch 22/100\n",
      "313/313 [==============================] - 2s 5ms/step - loss: 0.7104 - accuracy: 0.7518 - val_loss: 0.9557 - val_accuracy: 0.6769\n",
      "Epoch 23/100\n",
      "313/313 [==============================] - 2s 6ms/step - loss: 0.6995 - accuracy: 0.7543 - val_loss: 0.9632 - val_accuracy: 0.6741\n",
      "Epoch 24/100\n",
      "313/313 [==============================] - 2s 5ms/step - loss: 0.6866 - accuracy: 0.7558 - val_loss: 0.9816 - val_accuracy: 0.6690\n",
      "Epoch 25/100\n",
      "313/313 [==============================] - 2s 6ms/step - loss: 0.6694 - accuracy: 0.7647 - val_loss: 1.0301 - val_accuracy: 0.6589\n",
      "Epoch 26/100\n",
      "313/313 [==============================] - 2s 6ms/step - loss: 0.6576 - accuracy: 0.7699 - val_loss: 0.9837 - val_accuracy: 0.6733\n",
      "Epoch 27/100\n",
      "313/313 [==============================] - 2s 6ms/step - loss: 0.6421 - accuracy: 0.7750 - val_loss: 0.9872 - val_accuracy: 0.6788\n",
      "Epoch 28/100\n",
      "313/313 [==============================] - 2s 6ms/step - loss: 0.6376 - accuracy: 0.7757 - val_loss: 0.9659 - val_accuracy: 0.6843\n",
      "Epoch 29/100\n",
      "313/313 [==============================] - 2s 6ms/step - loss: 0.6222 - accuracy: 0.7814 - val_loss: 0.9918 - val_accuracy: 0.6831\n",
      "Epoch 30/100\n",
      "313/313 [==============================] - 2s 6ms/step - loss: 0.6129 - accuracy: 0.7855 - val_loss: 0.9807 - val_accuracy: 0.6836\n",
      "Epoch 31/100\n",
      "313/313 [==============================] - 2s 6ms/step - loss: 0.5972 - accuracy: 0.7889 - val_loss: 1.0080 - val_accuracy: 0.6744\n",
      "Epoch 32/100\n",
      "313/313 [==============================] - 2s 6ms/step - loss: 0.5888 - accuracy: 0.7925 - val_loss: 1.0222 - val_accuracy: 0.6732\n",
      "Epoch 33/100\n",
      "313/313 [==============================] - 2s 6ms/step - loss: 0.5799 - accuracy: 0.7946 - val_loss: 1.0562 - val_accuracy: 0.6724\n",
      "Epoch 34/100\n",
      "313/313 [==============================] - 2s 6ms/step - loss: 0.5659 - accuracy: 0.8013 - val_loss: 1.0225 - val_accuracy: 0.6746\n",
      "Epoch 35/100\n",
      "313/313 [==============================] - 2s 6ms/step - loss: 0.5543 - accuracy: 0.8044 - val_loss: 1.0311 - val_accuracy: 0.6777\n",
      "Epoch 36/100\n",
      "313/313 [==============================] - 2s 5ms/step - loss: 0.5392 - accuracy: 0.8092 - val_loss: 1.0202 - val_accuracy: 0.6855\n",
      "Epoch 37/100\n",
      "313/313 [==============================] - 2s 6ms/step - loss: 0.5290 - accuracy: 0.8117 - val_loss: 1.0739 - val_accuracy: 0.6703\n",
      "Epoch 38/100\n",
      "313/313 [==============================] - 2s 6ms/step - loss: 0.5307 - accuracy: 0.8138 - val_loss: 1.0679 - val_accuracy: 0.6722\n",
      "Epoch 39/100\n",
      "313/313 [==============================] - 2s 6ms/step - loss: 0.5187 - accuracy: 0.8170 - val_loss: 1.0929 - val_accuracy: 0.6695\n",
      "Epoch 40/100\n",
      "313/313 [==============================] - 2s 5ms/step - loss: 0.5059 - accuracy: 0.8206 - val_loss: 1.1455 - val_accuracy: 0.6625\n",
      "Epoch 41/100\n",
      "313/313 [==============================] - 2s 5ms/step - loss: 0.4950 - accuracy: 0.8248 - val_loss: 1.1188 - val_accuracy: 0.6655\n",
      "Epoch 42/100\n",
      "313/313 [==============================] - 2s 5ms/step - loss: 0.4917 - accuracy: 0.8267 - val_loss: 1.1363 - val_accuracy: 0.6644\n",
      "Epoch 43/100\n",
      "313/313 [==============================] - 2s 5ms/step - loss: 0.4748 - accuracy: 0.8328 - val_loss: 1.1224 - val_accuracy: 0.6739\n",
      "Epoch 44/100\n",
      "313/313 [==============================] - 2s 6ms/step - loss: 0.4714 - accuracy: 0.8318 - val_loss: 1.1368 - val_accuracy: 0.6791\n",
      "Epoch 45/100\n",
      "313/313 [==============================] - 2s 5ms/step - loss: 0.4618 - accuracy: 0.8376 - val_loss: 1.1662 - val_accuracy: 0.6677\n",
      "Epoch 46/100\n",
      "313/313 [==============================] - 2s 6ms/step - loss: 0.4534 - accuracy: 0.8401 - val_loss: 1.1740 - val_accuracy: 0.6664\n",
      "Epoch 47/100\n",
      "313/313 [==============================] - 2s 6ms/step - loss: 0.4445 - accuracy: 0.8418 - val_loss: 1.2322 - val_accuracy: 0.6540\n",
      "Epoch 48/100\n",
      "313/313 [==============================] - 2s 5ms/step - loss: 0.4353 - accuracy: 0.8446 - val_loss: 1.2163 - val_accuracy: 0.6664\n",
      "Epoch 49/100\n",
      "313/313 [==============================] - 2s 6ms/step - loss: 0.4311 - accuracy: 0.8476 - val_loss: 1.2697 - val_accuracy: 0.6692\n",
      "Epoch 50/100\n",
      "313/313 [==============================] - 2s 6ms/step - loss: 0.4242 - accuracy: 0.8500 - val_loss: 1.2663 - val_accuracy: 0.6658\n",
      "Epoch 51/100\n",
      "313/313 [==============================] - 2s 6ms/step - loss: 0.4055 - accuracy: 0.8564 - val_loss: 1.2783 - val_accuracy: 0.6628\n",
      "Epoch 52/100\n",
      "313/313 [==============================] - 2s 6ms/step - loss: 0.4154 - accuracy: 0.8522 - val_loss: 1.2521 - val_accuracy: 0.6671\n",
      "Epoch 53/100\n",
      "313/313 [==============================] - 2s 6ms/step - loss: 0.3944 - accuracy: 0.8609 - val_loss: 1.3148 - val_accuracy: 0.6664\n",
      "Epoch 54/100\n",
      "313/313 [==============================] - 2s 6ms/step - loss: 0.3993 - accuracy: 0.8566 - val_loss: 1.3379 - val_accuracy: 0.6591\n",
      "Epoch 55/100\n",
      "313/313 [==============================] - 2s 6ms/step - loss: 0.3855 - accuracy: 0.8624 - val_loss: 1.2876 - val_accuracy: 0.6675\n",
      "Epoch 56/100\n",
      "313/313 [==============================] - 2s 5ms/step - loss: 0.3802 - accuracy: 0.8635 - val_loss: 1.3664 - val_accuracy: 0.6584\n",
      "Epoch 57/100\n",
      "313/313 [==============================] - 2s 5ms/step - loss: 0.3617 - accuracy: 0.8722 - val_loss: 1.3563 - val_accuracy: 0.6651\n",
      "Epoch 58/100\n",
      "313/313 [==============================] - 2s 5ms/step - loss: 0.3712 - accuracy: 0.8681 - val_loss: 1.4138 - val_accuracy: 0.6567\n",
      "Epoch 59/100\n",
      "313/313 [==============================] - 2s 6ms/step - loss: 0.3606 - accuracy: 0.8715 - val_loss: 1.4255 - val_accuracy: 0.6573\n",
      "Epoch 60/100\n",
      "313/313 [==============================] - 2s 5ms/step - loss: 0.3538 - accuracy: 0.8734 - val_loss: 1.3824 - val_accuracy: 0.6674\n",
      "Epoch 61/100\n",
      "313/313 [==============================] - 2s 5ms/step - loss: 0.3459 - accuracy: 0.8779 - val_loss: 1.4391 - val_accuracy: 0.6631\n",
      "Epoch 62/100\n",
      "313/313 [==============================] - 2s 5ms/step - loss: 0.3388 - accuracy: 0.8786 - val_loss: 1.4743 - val_accuracy: 0.6601\n",
      "Epoch 63/100\n",
      "313/313 [==============================] - 2s 5ms/step - loss: 0.3314 - accuracy: 0.8821 - val_loss: 1.4900 - val_accuracy: 0.6572\n",
      "Epoch 64/100\n",
      "313/313 [==============================] - 2s 5ms/step - loss: 0.3273 - accuracy: 0.8825 - val_loss: 1.5006 - val_accuracy: 0.6585\n",
      "Epoch 65/100\n",
      "313/313 [==============================] - 2s 6ms/step - loss: 0.3223 - accuracy: 0.8855 - val_loss: 1.5412 - val_accuracy: 0.6562\n",
      "Epoch 66/100\n",
      "313/313 [==============================] - 2s 5ms/step - loss: 0.3312 - accuracy: 0.8798 - val_loss: 1.5574 - val_accuracy: 0.6547\n",
      "Epoch 67/100\n",
      "313/313 [==============================] - 2s 5ms/step - loss: 0.3181 - accuracy: 0.8851 - val_loss: 1.5647 - val_accuracy: 0.6562\n",
      "Epoch 68/100\n",
      "313/313 [==============================] - 2s 6ms/step - loss: 0.3033 - accuracy: 0.8922 - val_loss: 1.5517 - val_accuracy: 0.6524\n",
      "Epoch 69/100\n",
      "313/313 [==============================] - 2s 5ms/step - loss: 0.3064 - accuracy: 0.8904 - val_loss: 1.6173 - val_accuracy: 0.6511\n",
      "Epoch 70/100\n",
      "313/313 [==============================] - 2s 5ms/step - loss: 0.2979 - accuracy: 0.8940 - val_loss: 1.6394 - val_accuracy: 0.6565\n",
      "Epoch 71/100\n",
      "313/313 [==============================] - 2s 5ms/step - loss: 0.2964 - accuracy: 0.8937 - val_loss: 1.6347 - val_accuracy: 0.6620\n",
      "Epoch 72/100\n",
      "313/313 [==============================] - 2s 6ms/step - loss: 0.2819 - accuracy: 0.8982 - val_loss: 1.6683 - val_accuracy: 0.6557\n",
      "Epoch 73/100\n",
      "313/313 [==============================] - 2s 5ms/step - loss: 0.2982 - accuracy: 0.8929 - val_loss: 1.6761 - val_accuracy: 0.6470\n",
      "Epoch 74/100\n",
      "313/313 [==============================] - 2s 5ms/step - loss: 0.2772 - accuracy: 0.8998 - val_loss: 1.6848 - val_accuracy: 0.6558\n",
      "Epoch 75/100\n",
      "313/313 [==============================] - 2s 5ms/step - loss: 0.2723 - accuracy: 0.9015 - val_loss: 1.7657 - val_accuracy: 0.6440\n",
      "Epoch 76/100\n",
      "313/313 [==============================] - 2s 5ms/step - loss: 0.2734 - accuracy: 0.9006 - val_loss: 1.7467 - val_accuracy: 0.6533\n",
      "Epoch 77/100\n",
      "313/313 [==============================] - 2s 5ms/step - loss: 0.2685 - accuracy: 0.9024 - val_loss: 1.7665 - val_accuracy: 0.6443\n",
      "Epoch 78/100\n",
      "313/313 [==============================] - 2s 5ms/step - loss: 0.2588 - accuracy: 0.9075 - val_loss: 1.8302 - val_accuracy: 0.6491\n",
      "Epoch 79/100\n",
      "313/313 [==============================] - 2s 5ms/step - loss: 0.2805 - accuracy: 0.8992 - val_loss: 1.8049 - val_accuracy: 0.6483\n",
      "Epoch 80/100\n",
      "313/313 [==============================] - 2s 6ms/step - loss: 0.2354 - accuracy: 0.9156 - val_loss: 1.8917 - val_accuracy: 0.6468\n",
      "Epoch 81/100\n",
      "313/313 [==============================] - 2s 5ms/step - loss: 0.2517 - accuracy: 0.9104 - val_loss: 1.8833 - val_accuracy: 0.6525\n",
      "Epoch 82/100\n",
      "313/313 [==============================] - 2s 5ms/step - loss: 0.2539 - accuracy: 0.9082 - val_loss: 1.9161 - val_accuracy: 0.6400\n",
      "Epoch 83/100\n",
      "313/313 [==============================] - 2s 6ms/step - loss: 0.2483 - accuracy: 0.9103 - val_loss: 1.9818 - val_accuracy: 0.6402\n",
      "Epoch 84/100\n",
      "313/313 [==============================] - 2s 5ms/step - loss: 0.2373 - accuracy: 0.9153 - val_loss: 1.9902 - val_accuracy: 0.6482\n",
      "Epoch 85/100\n",
      "313/313 [==============================] - 2s 6ms/step - loss: 0.2385 - accuracy: 0.9141 - val_loss: 1.9727 - val_accuracy: 0.6503\n",
      "Epoch 86/100\n",
      "313/313 [==============================] - 2s 5ms/step - loss: 0.2320 - accuracy: 0.9153 - val_loss: 1.9777 - val_accuracy: 0.6423\n",
      "Epoch 87/100\n",
      "313/313 [==============================] - 2s 6ms/step - loss: 0.2164 - accuracy: 0.9238 - val_loss: 2.0284 - val_accuracy: 0.6523\n",
      "Epoch 88/100\n",
      "313/313 [==============================] - 2s 6ms/step - loss: 0.2279 - accuracy: 0.9175 - val_loss: 2.0048 - val_accuracy: 0.6477\n",
      "Epoch 89/100\n",
      "313/313 [==============================] - 2s 6ms/step - loss: 0.2108 - accuracy: 0.9249 - val_loss: 2.0813 - val_accuracy: 0.6493\n",
      "Epoch 90/100\n",
      "313/313 [==============================] - 2s 6ms/step - loss: 0.2287 - accuracy: 0.9160 - val_loss: 2.1164 - val_accuracy: 0.6417\n",
      "Epoch 91/100\n",
      "313/313 [==============================] - 2s 6ms/step - loss: 0.2430 - accuracy: 0.9103 - val_loss: 2.1035 - val_accuracy: 0.6427\n",
      "Epoch 92/100\n",
      "313/313 [==============================] - 2s 6ms/step - loss: 0.2137 - accuracy: 0.9232 - val_loss: 2.1962 - val_accuracy: 0.6446\n",
      "Epoch 93/100\n",
      "313/313 [==============================] - 2s 6ms/step - loss: 0.2028 - accuracy: 0.9266 - val_loss: 2.1800 - val_accuracy: 0.6419\n",
      "Epoch 94/100\n",
      "313/313 [==============================] - 2s 6ms/step - loss: 0.2051 - accuracy: 0.9269 - val_loss: 2.1925 - val_accuracy: 0.6444\n",
      "Epoch 95/100\n",
      "313/313 [==============================] - 2s 6ms/step - loss: 0.2083 - accuracy: 0.9244 - val_loss: 2.2542 - val_accuracy: 0.6468\n",
      "Epoch 96/100\n",
      "313/313 [==============================] - 2s 6ms/step - loss: 0.1997 - accuracy: 0.9263 - val_loss: 2.2990 - val_accuracy: 0.6324\n",
      "Epoch 97/100\n",
      "313/313 [==============================] - 2s 6ms/step - loss: 0.1912 - accuracy: 0.9316 - val_loss: 2.3070 - val_accuracy: 0.6422\n",
      "Epoch 98/100\n",
      "313/313 [==============================] - 2s 6ms/step - loss: 0.1964 - accuracy: 0.9279 - val_loss: 2.2987 - val_accuracy: 0.6449\n",
      "Epoch 99/100\n",
      "313/313 [==============================] - 2s 5ms/step - loss: 0.1990 - accuracy: 0.9272 - val_loss: 2.3374 - val_accuracy: 0.6427\n",
      "Epoch 100/100\n",
      "313/313 [==============================] - 2s 5ms/step - loss: 0.1941 - accuracy: 0.9291 - val_loss: 2.3168 - val_accuracy: 0.6424\n",
      "CPU times: user 3min 12s, sys: 17.1 s, total: 3min 29s\n",
      "Wall time: 4min 22s\n"
     ]
    }
   ],
   "source": [
    "%%time\n",
    "\n",
    "Hist_model = model.fit(X_train, y_train,\n",
    "                       epochs=100, batch_size=128,\n",
    "                       validation_split=0.2)"
   ]
  },
  {
   "cell_type": "markdown",
   "metadata": {
    "id": "FnnIyFtNKhbD"
   },
   "source": [
    "> ## 4) 학습 결과 시각화"
   ]
  },
  {
   "cell_type": "markdown",
   "metadata": {
    "id": "YgXRhVauKqOm"
   },
   "source": [
    "* Loss Visualization"
   ]
  },
  {
   "cell_type": "code",
   "execution_count": 15,
   "metadata": {
    "colab": {
     "base_uri": "https://localhost:8080/",
     "height": 404
    },
    "id": "OQ4ke8BbKi50",
    "outputId": "b140a0dc-d221-49ee-9220-029cc6f4539b"
   },
   "outputs": [
    {
     "data": {
      "image/png": "[encoded data removed]",
      "text/plain": [
       "<Figure size 648x432 with 1 Axes>"
      ]
     },
     "metadata": {
      "needs_background": "light",
      "tags": []
     },
     "output_type": "display_data"
    }
   ],
   "source": [
    "import matplotlib.pyplot as plt\n",
    "\n",
    "epochs = range(1, len(Hist_model.history['loss']) + 1)\n",
    "\n",
    "plt.figure(figsize = (9, 6))\n",
    "plt.plot(epochs, Hist_model.history['loss'])\n",
    "plt.plot(epochs, Hist_model.history['val_loss'])\n",
    "# plt.ylim(0, 0.25)\n",
    "plt.title('Training & Validation Loss')\n",
    "plt.xlabel('Epochs')\n",
    "plt.ylabel('Loss')\n",
    "plt.legend(['Training Loss', 'Validation Loss'])\n",
    "plt.grid()\n",
    "plt.show()"
   ]
  },
  {
   "cell_type": "markdown",
   "metadata": {
    "id": "_uJSOLBko7lh"
   },
   "source": [
    "> ## 5) Model Evaluate"
   ]
  },
  {
   "cell_type": "markdown",
   "metadata": {
    "id": "i-TqAB2ALGzZ"
   },
   "source": [
    "* Loss & Accuracy"
   ]
  },
  {
   "cell_type": "code",
   "execution_count": 16,
   "metadata": {
    "colab": {
     "base_uri": "https://localhost:8080/"
    },
    "id": "OF30PuZsAxQJ",
    "outputId": "d8805173-a88f-421b-879b-4a1a30121210"
   },
   "outputs": [
    {
     "name": "stdout",
     "output_type": "stream",
     "text": [
      "313/313 [==============================] - 1s 3ms/step - loss: 2.4029 - accuracy: 0.6386\n",
      "Loss = 2.40295\n",
      "Accuracy = 0.63860\n"
     ]
    }
   ],
   "source": [
    "loss, accuracy = model.evaluate(X_test, y_test)\n",
    "\n",
    "print('Loss = {:.5f}'.format(loss))\n",
    "print('Accuracy = {:.5f}'.format(accuracy))"
   ]
  }
 ],
 "metadata": {
  "accelerator": "GPU",
  "colab": {
   "collapsed_sections": [],
   "name": "06-03_CNN_CIFAR_10_Categorical_Classification_GPU_Test.ipynb",
   "provenance": []
  },
  "kernelspec": {
   "display_name": "Python tf24",
   "language": "python",
   "name": "tf24"
  },
  "language_info": {
   "codemirror_mode": {
    "name": "ipython",
    "version": 3
   },
   "file_extension": ".py",
   "mimetype": "text/x-python",
   "name": "python",
   "nbconvert_exporter": "python",
   "pygments_lexer": "ipython3",
   "version": "3.7.6"
  }
 },
 "nbformat": 4,
 "nbformat_minor": 1
}
