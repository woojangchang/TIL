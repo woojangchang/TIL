{
 "cells": [
  {
   "cell_type": "code",
   "execution_count": 1,
   "id": "cc8a9a68",
   "metadata": {},
   "outputs": [],
   "source": [
    "import warnings\n",
    "warnings.filterwarnings('ignore')"
   ]
  },
  {
   "cell_type": "code",
   "execution_count": 2,
   "id": "e3c57495",
   "metadata": {},
   "outputs": [
    {
     "data": {
      "text/plain": [
       "'2.4.0'"
      ]
     },
     "execution_count": 2,
     "metadata": {},
     "output_type": "execute_result"
    }
   ],
   "source": [
    "import tensorflow as tf\n",
    "\n",
    "tf.__version__"
   ]
  },
  {
   "cell_type": "code",
   "execution_count": 3,
   "id": "13540fb0",
   "metadata": {},
   "outputs": [
    {
     "name": "stdout",
     "output_type": "stream",
     "text": [
      "GPU Information - /device:GPU:0 \n",
      "\n",
      "Fri Aug  6 17:04:01 2021       \n",
      "+-----------------------------------------------------------------------------+\n",
      "| NVIDIA-SMI 471.41       Driver Version: 471.41       CUDA Version: 11.4     |\n",
      "|-------------------------------+----------------------+----------------------+\n",
      "| GPU  Name            TCC/WDDM | Bus-Id        Disp.A | Volatile Uncorr. ECC |\n",
      "| Fan  Temp  Perf  Pwr:Usage/Cap|         Memory-Usage | GPU-Util  Compute M. |\n",
      "|                               |                      |               MIG M. |\n",
      "|===============================+======================+======================|\n",
      "|   0  NVIDIA GeForce ... WDDM  | 00000000:01:00.0  On |                  N/A |\n",
      "| 32%   45C    P2    41W / 125W |    762MiB /  6144MiB |     22%      Default |\n",
      "|                               |                      |                  N/A |\n",
      "+-------------------------------+----------------------+----------------------+\n",
      "                                                                               \n",
      "+-----------------------------------------------------------------------------+\n",
      "| Processes:                                                                  |\n",
      "|  GPU   GI   CI        PID   Type   Process name                  GPU Memory |\n",
      "|        ID   ID                                                   Usage      |\n",
      "|=============================================================================|\n",
      "|    0   N/A  N/A      1384    C+G   ...Roaming\\Zoom\\bin\\Zoom.exe    N/A      |\n",
      "|    0   N/A  N/A      3096    C+G   ...nputApp\\TextInputHost.exe    N/A      |\n",
      "|    0   N/A  N/A      3632    C+G   C:\\Windows\\explorer.exe         N/A      |\n",
      "|    0   N/A  N/A      7640      C   ...nda3\\envs\\tf24\\python.exe    N/A      |\n",
      "|    0   N/A  N/A     10280    C+G   ...5n1h2txyewy\\SearchApp.exe    N/A      |\n",
      "|    0   N/A  N/A     13896    C+G   ...ion\\2.10.123.37\\whale.exe    N/A      |\n",
      "|    0   N/A  N/A     14024    C+G   ...lPanel\\SystemSettings.exe    N/A      |\n",
      "|    0   N/A  N/A     14136    C+G   Insufficient Permissions        N/A      |\n",
      "|    0   N/A  N/A     14844    C+G   ...m Files\\Typora\\Typora.exe    N/A      |\n",
      "|    0   N/A  N/A     16332    C+G   ...y\\ShellExperienceHost.exe    N/A      |\n",
      "+-----------------------------------------------------------------------------+\n"
     ]
    }
   ],
   "source": [
    "print('GPU Information -', tf.test.gpu_device_name(), '\\n')\n",
    "\n",
    "!nvidia-smi"
   ]
  },
  {
   "cell_type": "markdown",
   "id": "3c171fee",
   "metadata": {},
   "source": [
    "## 이미지 불러오기\n",
    "- 이미지 데이터 생성"
   ]
  },
  {
   "cell_type": "code",
   "execution_count": 4,
   "id": "66a090f6",
   "metadata": {},
   "outputs": [],
   "source": [
    "train_dir = 'datasets/dogs_and_cats_small/train'\n",
    "test_dir = 'datasets/dogs_and_cats_small/test'\n",
    "valid_dir = 'datasets/dogs_and_cats_small/validation'"
   ]
  },
  {
   "cell_type": "code",
   "execution_count": 5,
   "id": "31611e3d",
   "metadata": {},
   "outputs": [
    {
     "name": "stdout",
     "output_type": "stream",
     "text": [
      "Found 2000 images belonging to 2 classes.\n",
      "Found 1000 images belonging to 2 classes.\n"
     ]
    }
   ],
   "source": [
    "from tensorflow.keras.preprocessing.image import ImageDataGenerator\n",
    "\n",
    "train_datagen = ImageDataGenerator(rescale = 1./255)\n",
    "valid_datagen = ImageDataGenerator(rescale = 1./255)\n",
    "\n",
    "train_generator = train_datagen.flow_from_directory(\n",
    "                train_dir,\n",
    "                target_size=(150, 150),\n",
    "                batch_size = 20,\n",
    "                class_mode = 'binary')\n",
    "\n",
    "valid_generator = valid_datagen.flow_from_directory(\n",
    "                valid_dir,\n",
    "                target_size=(150, 150),\n",
    "                batch_size = 20,\n",
    "                class_mode = 'binary')"
   ]
  },
  {
   "cell_type": "code",
   "execution_count": 6,
   "id": "631ae505",
   "metadata": {},
   "outputs": [
    {
     "name": "stdout",
     "output_type": "stream",
     "text": [
      "배치 데이터 크기 : (20, 150, 150, 3)\n",
      "배치 레이블 크기 : (20,)\n"
     ]
    }
   ],
   "source": [
    "for data_batch, labels_batch in train_generator:\n",
    "    print('배치 데이터 크기 :', data_batch.shape)\n",
    "    print('배치 레이블 크기 :', labels_batch.shape)\n",
    "    break"
   ]
  },
  {
   "cell_type": "markdown",
   "id": "84379013",
   "metadata": {},
   "source": [
    "## CNN Modeling"
   ]
  },
  {
   "cell_type": "markdown",
   "id": "0942279d",
   "metadata": {},
   "source": [
    "### Model Define"
   ]
  },
  {
   "cell_type": "code",
   "execution_count": 7,
   "id": "b2add45e",
   "metadata": {},
   "outputs": [],
   "source": [
    "from tensorflow.keras import layers, models\n",
    "\n",
    "model = models.Sequential()\n",
    "model.add(layers.Conv2D(32, (3, 3), activation='relu', input_shape=(150, 150, 3)))\n",
    "model.add(layers.MaxPooling2D((2, 2)))\n",
    "model.add(layers.Conv2D(64, (3, 3), activation = 'relu'))\n",
    "model.add(layers.MaxPooling2D((2, 2)))\n",
    "model.add(layers.Conv2D(128, (3, 3), activation = 'relu'))\n",
    "model.add(layers.MaxPooling2D((2, 2)))\n",
    "model.add(layers.Conv2D(128, (3, 3), activation = 'relu'))\n",
    "model.add(layers.MaxPooling2D((2, 2)))\n",
    "\n",
    "model.add(layers.Flatten())\n",
    "model.add(layers.Dense(512, activation = 'relu'))\n",
    "model.add(layers.Dense(1, activation = 'sigmoid'))"
   ]
  },
  {
   "cell_type": "code",
   "execution_count": 8,
   "id": "545d60b0",
   "metadata": {},
   "outputs": [
    {
     "name": "stdout",
     "output_type": "stream",
     "text": [
      "Model: \"sequential\"\n",
      "_________________________________________________________________\n",
      "Layer (type)                 Output Shape              Param #   \n",
      "=================================================================\n",
      "conv2d (Conv2D)              (None, 148, 148, 32)      896       \n",
      "_________________________________________________________________\n",
      "max_pooling2d (MaxPooling2D) (None, 74, 74, 32)        0         \n",
      "_________________________________________________________________\n",
      "conv2d_1 (Conv2D)            (None, 72, 72, 64)        18496     \n",
      "_________________________________________________________________\n",
      "max_pooling2d_1 (MaxPooling2 (None, 36, 36, 64)        0         \n",
      "_________________________________________________________________\n",
      "conv2d_2 (Conv2D)            (None, 34, 34, 128)       73856     \n",
      "_________________________________________________________________\n",
      "max_pooling2d_2 (MaxPooling2 (None, 17, 17, 128)       0         \n",
      "_________________________________________________________________\n",
      "conv2d_3 (Conv2D)            (None, 15, 15, 128)       147584    \n",
      "_________________________________________________________________\n",
      "max_pooling2d_3 (MaxPooling2 (None, 7, 7, 128)         0         \n",
      "_________________________________________________________________\n",
      "flatten (Flatten)            (None, 6272)              0         \n",
      "_________________________________________________________________\n",
      "dense (Dense)                (None, 512)               3211776   \n",
      "_________________________________________________________________\n",
      "dense_1 (Dense)              (None, 1)                 513       \n",
      "=================================================================\n",
      "Total params: 3,453,121\n",
      "Trainable params: 3,453,121\n",
      "Non-trainable params: 0\n",
      "_________________________________________________________________\n"
     ]
    }
   ],
   "source": [
    "model.summary()"
   ]
  },
  {
   "cell_type": "markdown",
   "id": "0618e306",
   "metadata": {},
   "source": [
    "### Model Compile"
   ]
  },
  {
   "cell_type": "code",
   "execution_count": 9,
   "id": "d88fc8e7",
   "metadata": {},
   "outputs": [],
   "source": [
    "model.compile(loss='binary_crossentropy',\n",
    "             optimizer='adam',\n",
    "             metrics=['accuracy'])"
   ]
  },
  {
   "cell_type": "markdown",
   "id": "73dd5e7b",
   "metadata": {},
   "source": [
    "### Model Fit"
   ]
  },
  {
   "cell_type": "code",
   "execution_count": 10,
   "id": "d72485f8",
   "metadata": {
    "scrolled": true
   },
   "outputs": [
    {
     "name": "stdout",
     "output_type": "stream",
     "text": [
      "Epoch 1/60\n",
      "100/100 [==============================] - 20s 137ms/step - loss: 0.6912 - accuracy: 0.5362 - val_loss: 0.6888 - val_accuracy: 0.5170\n",
      "Epoch 2/60\n",
      "100/100 [==============================] - 3s 35ms/step - loss: 0.6617 - accuracy: 0.5896 - val_loss: 0.6185 - val_accuracy: 0.6510\n",
      "Epoch 3/60\n",
      "100/100 [==============================] - 3s 34ms/step - loss: 0.6104 - accuracy: 0.6639 - val_loss: 0.6090 - val_accuracy: 0.6650\n",
      "Epoch 4/60\n",
      "100/100 [==============================] - 4s 35ms/step - loss: 0.5553 - accuracy: 0.7188 - val_loss: 0.6144 - val_accuracy: 0.6620\n",
      "Epoch 5/60\n",
      "100/100 [==============================] - 4s 36ms/step - loss: 0.4898 - accuracy: 0.7531 - val_loss: 0.5869 - val_accuracy: 0.7200\n",
      "Epoch 6/60\n",
      "100/100 [==============================] - 4s 36ms/step - loss: 0.4923 - accuracy: 0.7562 - val_loss: 0.5431 - val_accuracy: 0.7140\n",
      "Epoch 7/60\n",
      "100/100 [==============================] - 4s 39ms/step - loss: 0.4185 - accuracy: 0.8145 - val_loss: 0.5220 - val_accuracy: 0.7480\n",
      "Epoch 8/60\n",
      "100/100 [==============================] - 4s 39ms/step - loss: 0.3273 - accuracy: 0.8476 - val_loss: 0.6172 - val_accuracy: 0.7230\n",
      "Epoch 9/60\n",
      "100/100 [==============================] - 4s 40ms/step - loss: 0.2763 - accuracy: 0.8735 - val_loss: 0.5830 - val_accuracy: 0.7500\n",
      "Epoch 10/60\n",
      "100/100 [==============================] - 4s 41ms/step - loss: 0.1859 - accuracy: 0.9253 - val_loss: 0.7566 - val_accuracy: 0.7180\n",
      "Epoch 11/60\n",
      "100/100 [==============================] - 4s 40ms/step - loss: 0.1311 - accuracy: 0.9476 - val_loss: 0.8321 - val_accuracy: 0.731019 - ac\n",
      "Epoch 12/60\n",
      "100/100 [==============================] - 4s 41ms/step - loss: 0.0911 - accuracy: 0.9706 - val_loss: 0.9240 - val_accuracy: 0.7530\n",
      "Epoch 13/60\n",
      "100/100 [==============================] - 4s 43ms/step - loss: 0.0609 - accuracy: 0.9777 - val_loss: 1.1925 - val_accuracy: 0.7380\n",
      "Epoch 14/60\n",
      "100/100 [==============================] - 4s 44ms/step - loss: 0.0481 - accuracy: 0.9845 - val_loss: 1.2161 - val_accuracy: 0.7480\n",
      "Epoch 15/60\n",
      "100/100 [==============================] - 5s 45ms/step - loss: 0.0408 - accuracy: 0.9859 - val_loss: 1.1457 - val_accuracy: 0.7650\n",
      "Epoch 16/60\n",
      "100/100 [==============================] - 5s 47ms/step - loss: 0.0307 - accuracy: 0.9888 - val_loss: 1.3657 - val_accuracy: 0.7500\n",
      "Epoch 17/60\n",
      "100/100 [==============================] - 5s 49ms/step - loss: 0.0282 - accuracy: 0.9903 - val_loss: 0.8834 - val_accuracy: 0.7430\n",
      "Epoch 18/60\n",
      "100/100 [==============================] - 5s 51ms/step - loss: 0.0416 - accuracy: 0.9863 - val_loss: 1.2742 - val_accuracy: 0.7260\n",
      "Epoch 19/60\n",
      "100/100 [==============================] - 5s 53ms/step - loss: 0.0213 - accuracy: 0.9941 - val_loss: 1.5852 - val_accuracy: 0.7370\n",
      "Epoch 20/60\n",
      "100/100 [==============================] - 5s 54ms/step - loss: 0.0173 - accuracy: 0.9951 - val_loss: 1.4011 - val_accuracy: 0.7380\n",
      "Epoch 21/60\n",
      "100/100 [==============================] - 6s 55ms/step - loss: 0.0257 - accuracy: 0.9924 - val_loss: 1.5098 - val_accuracy: 0.7670\n",
      "Epoch 22/60\n",
      "100/100 [==============================] - 6s 59ms/step - loss: 0.0030 - accuracy: 0.9993 - val_loss: 1.5564 - val_accuracy: 0.7600\n",
      "Epoch 23/60\n",
      "100/100 [==============================] - 6s 60ms/step - loss: 7.3120e-04 - accuracy: 1.0000 - val_loss: 1.6371 - val_accuracy: 0.7710\n",
      "Epoch 24/60\n",
      "100/100 [==============================] - 6s 60ms/step - loss: 2.1951e-04 - accuracy: 1.0000 - val_loss: 1.6799 - val_accuracy: 0.7660\n",
      "Epoch 25/60\n",
      "100/100 [==============================] - 6s 62ms/step - loss: 1.2244e-04 - accuracy: 1.0000 - val_loss: 1.7090 - val_accuracy: 0.7680\n",
      "Epoch 26/60\n",
      "100/100 [==============================] - 7s 67ms/step - loss: 9.4522e-05 - accuracy: 1.0000 - val_loss: 1.7358 - val_accuracy: 0.7680\n",
      "Epoch 27/60\n",
      "100/100 [==============================] - 7s 68ms/step - loss: 9.9849e-05 - accuracy: 1.0000 - val_loss: 1.7599 - val_accuracy: 0.7700\n",
      "Epoch 28/60\n",
      "100/100 [==============================] - 7s 69ms/step - loss: 6.8888e-05 - accuracy: 1.0000 - val_loss: 1.7822 - val_accuracy: 0.7710\n",
      "Epoch 29/60\n",
      "100/100 [==============================] - 7s 73ms/step - loss: 6.8835e-05 - accuracy: 1.0000 - val_loss: 1.7991 - val_accuracy: 0.7700\n",
      "Epoch 30/60\n",
      "100/100 [==============================] - 7s 69ms/step - loss: 4.8613e-05 - accuracy: 1.0000 - val_loss: 1.8195 - val_accuracy: 0.7720\n",
      "Epoch 31/60\n",
      "100/100 [==============================] - 7s 71ms/step - loss: 4.8069e-05 - accuracy: 1.0000 - val_loss: 1.8354 - val_accuracy: 0.7730\n",
      "Epoch 32/60\n",
      "100/100 [==============================] - 7s 72ms/step - loss: 3.8355e-05 - accuracy: 1.0000 - val_loss: 1.8507 - val_accuracy: 0.7700\n",
      "Epoch 33/60\n",
      "100/100 [==============================] - 8s 78ms/step - loss: 3.9642e-05 - accuracy: 1.0000 - val_loss: 1.8665 - val_accuracy: 0.7730\n",
      "Epoch 34/60\n",
      "100/100 [==============================] - 8s 79ms/step - loss: 2.8270e-05 - accuracy: 1.0000 - val_loss: 1.8796 - val_accuracy: 0.7700\n",
      "Epoch 35/60\n",
      "100/100 [==============================] - 8s 78ms/step - loss: 3.0528e-05 - accuracy: 1.0000 - val_loss: 1.8938 - val_accuracy: 0.7720\n",
      "Epoch 36/60\n",
      "100/100 [==============================] - 8s 81ms/step - loss: 2.5604e-05 - accuracy: 1.0000 - val_loss: 1.9080 - val_accuracy: 0.7730\n",
      "Epoch 37/60\n",
      "100/100 [==============================] - 8s 77ms/step - loss: 2.0964e-05 - accuracy: 1.0000 - val_loss: 1.9202 - val_accuracy: 0.7720\n",
      "Epoch 38/60\n",
      "100/100 [==============================] - 8s 78ms/step - loss: 1.8536e-05 - accuracy: 1.0000 - val_loss: 1.9326 - val_accuracy: 0.7740\n",
      "Epoch 39/60\n",
      "100/100 [==============================] - 8s 79ms/step - loss: 1.8127e-05 - accuracy: 1.0000 - val_loss: 1.9444 - val_accuracy: 0.7740\n",
      "Epoch 40/60\n",
      "100/100 [==============================] - 8s 80ms/step - loss: 1.7720e-05 - accuracy: 1.0000 - val_loss: 1.9558 - val_accuracy: 0.7740\n",
      "Epoch 41/60\n",
      "100/100 [==============================] - 8s 83ms/step - loss: 1.3999e-05 - accuracy: 1.0000 - val_loss: 1.9668 - val_accuracy: 0.7740\n",
      "Epoch 42/60\n",
      "100/100 [==============================] - 8s 83ms/step - loss: 1.4261e-05 - accuracy: 1.0000 - val_loss: 1.9779 - val_accuracy: 0.7740\n",
      "Epoch 43/60\n",
      "100/100 [==============================] - 8s 84ms/step - loss: 1.1326e-05 - accuracy: 1.0000 - val_loss: 1.9898 - val_accuracy: 0.7740\n",
      "Epoch 44/60\n",
      "100/100 [==============================] - 9s 89ms/step - loss: 1.2185e-05 - accuracy: 1.0000 - val_loss: 2.0006 - val_accuracy: 0.7750\n",
      "Epoch 45/60\n",
      "100/100 [==============================] - 9s 88ms/step - loss: 1.0022e-05 - accuracy: 1.0000 - val_loss: 2.0101 - val_accuracy: 0.7740\n",
      "Epoch 46/60\n",
      "100/100 [==============================] - 9s 88ms/step - loss: 1.0015e-05 - accuracy: 1.0000 - val_loss: 2.0216 - val_accuracy: 0.7750\n",
      "Epoch 47/60\n",
      "100/100 [==============================] - 9s 90ms/step - loss: 9.5591e-06 - accuracy: 1.0000 - val_loss: 2.0314 - val_accuracy: 0.7740\n",
      "Epoch 48/60\n",
      "100/100 [==============================] - 9s 90ms/step - loss: 8.1340e-06 - accuracy: 1.0000 - val_loss: 2.0410 - val_accuracy: 0.773006 - accuracy:  - ETA: 0s - loss: 8.1500e-06 - accu\n",
      "Epoch 49/60\n",
      "100/100 [==============================] - 9s 93ms/step - loss: 7.4357e-06 - accuracy: 1.0000 - val_loss: 2.0517 - val_accuracy: 0.7750\n",
      "Epoch 50/60\n",
      "100/100 [==============================] - 9s 93ms/step - loss: 7.6287e-06 - accuracy: 1.0000 - val_loss: 2.0611 - val_accuracy: 0.7750\n",
      "Epoch 51/60\n",
      "100/100 [==============================] - 9s 94ms/step - loss: 6.1465e-06 - accuracy: 1.0000 - val_loss: 2.0718 - val_accuracy: 0.7750A: 1s - l - ETA: 0s - loss: 6.1285e-06 - accuracy: 1. - ETA: 0s - loss: 6.1343e-06 - accuracy:  - ETA: 0s - loss: 6.1390e-06 - \n",
      "Epoch 52/60\n",
      "100/100 [==============================] - 9s 95ms/step - loss: 5.3106e-06 - accuracy: 1.0000 - val_loss: 2.0803 - val_accuracy: 0.7730\n",
      "Epoch 53/60\n",
      "100/100 [==============================] - 10s 97ms/step - loss: 5.0746e-06 - accuracy: 1.0000 - val_loss: 2.0896 - val_accuracy: 0.7730\n",
      "Epoch 54/60\n",
      "100/100 [==============================] - 10s 97ms/step - loss: 4.7850e-06 - accuracy: 1.0000 - val_loss: 2.0989 - val_accuracy: 0.7730\n",
      "Epoch 55/60\n",
      "100/100 [==============================] - 10s 99ms/step - loss: 5.4174e-06 - accuracy: 1.0000 - val_loss: 2.1089 - val_accuracy: 0.7740\n",
      "Epoch 56/60\n",
      "100/100 [==============================] - 10s 100ms/step - loss: 4.1867e-06 - accuracy: 1.0000 - val_loss: 2.1179 - val_accuracy: 0.7740\n",
      "Epoch 57/60\n",
      "100/100 [==============================] - 10s 100ms/step - loss: 3.7028e-06 - accuracy: 1.0000 - val_loss: 2.1277 - val_accuracy: 0.7730\n",
      "Epoch 58/60\n",
      "100/100 [==============================] - 10s 102ms/step - loss: 3.7728e-06 - accuracy: 1.0000 - val_loss: 2.1357 - val_accuracy: 0.7730\n",
      "Epoch 59/60\n",
      "100/100 [==============================] - 10s 103ms/step - loss: 3.1940e-06 - accuracy: 1.0000 - val_loss: 2.1448 - val_accuracy: 0.7730 5s - - ETA: 4s\n",
      "Epoch 60/60\n",
      "100/100 [==============================] - 10s 104ms/step - loss: 2.8945e-06 - accuracy: 1.0000 - val_loss: 2.1540 - val_accuracy: 0.7740\n",
      "Wall time: 7min 10s\n"
     ]
    }
   ],
   "source": [
    "%%time\n",
    "\n",
    "Hist_dandc = model.fit(train_generator,\n",
    "                      steps_per_epoch=100,\n",
    "                      epochs=60,\n",
    "                      validation_data=valid_generator,\n",
    "                      validation_steps=50)"
   ]
  },
  {
   "cell_type": "markdown",
   "id": "44075c40",
   "metadata": {},
   "source": [
    "### Visualization"
   ]
  },
  {
   "cell_type": "code",
   "execution_count": 12,
   "id": "8e62094a",
   "metadata": {},
   "outputs": [
    {
     "data": {
      "image/png": "[encoded data removed]",
      "text/plain": [
       "<Figure size 648x432 with 1 Axes>"
      ]
     },
     "metadata": {
      "needs_background": "light"
     },
     "output_type": "display_data"
    }
   ],
   "source": [
    "import matplotlib.pyplot as plt\n",
    "epochs = range(1, len(Hist_dandc.history['loss']) + 1)\n",
    "\n",
    "plt.figure(figsize = (9, 6))\n",
    "plt.plot(epochs, Hist_dandc.history['loss'])\n",
    "plt.plot(epochs, Hist_dandc.history['val_loss'])\n",
    "\n",
    "plt.title('Training & Validation Loss')\n",
    "plt.xlabel('Epochs')\n",
    "plt.ylabel('Loss')\n",
    "plt.legend(['Training Loss', 'Validation Loss'])\n",
    "plt.grid()\n",
    "plt.show()"
   ]
  },
  {
   "cell_type": "code",
   "execution_count": 13,
   "id": "8c363369",
   "metadata": {},
   "outputs": [
    {
     "data": {
      "image/png": "[encoded data removed]",
      "text/plain": [
       "<Figure size 648x432 with 1 Axes>"
      ]
     },
     "metadata": {
      "needs_background": "light"
     },
     "output_type": "display_data"
    }
   ],
   "source": [
    "epochs = range(1, len(Hist_dandc.history['loss']) + 1)\n",
    "\n",
    "plt.figure(figsize = (9, 6))\n",
    "plt.plot(epochs, Hist_dandc.history['accuracy'])\n",
    "plt.plot(epochs, Hist_dandc.history['val_accuracy'])\n",
    "\n",
    "plt.title('Training & Validation Accuracy')\n",
    "plt.xlabel('Epochs')\n",
    "plt.ylabel('Accuracy')\n",
    "plt.legend(['Training Accuracy', 'Validation Accuracy'])\n",
    "plt.grid()\n",
    "plt.show()"
   ]
  },
  {
   "cell_type": "markdown",
   "id": "81187e4c",
   "metadata": {},
   "source": [
    "### Model Evaluate"
   ]
  },
  {
   "cell_type": "code",
   "execution_count": 14,
   "id": "6d35c18a",
   "metadata": {},
   "outputs": [
    {
     "name": "stdout",
     "output_type": "stream",
     "text": [
      "Found 1000 images belonging to 2 classes.\n"
     ]
    }
   ],
   "source": [
    "test_datagen = ImageDataGenerator(rescale = 1./255)\n",
    "test_generator = test_datagen.flow_from_directory(\n",
    "                  test_dir,\n",
    "                  target_size = (150, 150),\n",
    "                  batch_size = 20,\n",
    "                  class_mode = 'binary')"
   ]
  },
  {
   "cell_type": "code",
   "execution_count": 15,
   "id": "9ef88236",
   "metadata": {},
   "outputs": [
    {
     "name": "stdout",
     "output_type": "stream",
     "text": [
      "50/50 [==============================] - 8s 153ms/step - loss: 2.5707 - accuracy: 0.7440\n",
      "Loss = 2.57071\n",
      "Accuracy = 0.74400\n"
     ]
    }
   ],
   "source": [
    "loss, accuracy = model.evaluate(test_generator,\n",
    "                                steps = 50)\n",
    "print('Loss = {:.5f}'.format(loss))\n",
    "print('Accuracy = {:.5f}'.format(accuracy))"
   ]
  },
  {
   "cell_type": "markdown",
   "id": "15a6b26a",
   "metadata": {},
   "source": [
    "### Model Save"
   ]
  },
  {
   "cell_type": "code",
   "execution_count": 18,
   "id": "159d75e4",
   "metadata": {},
   "outputs": [],
   "source": [
    "model.save('./models/002_dogs_and_cats_small.h5')"
   ]
  },
  {
   "cell_type": "code",
   "execution_count": 19,
   "id": "a48d203a",
   "metadata": {},
   "outputs": [],
   "source": [
    "from tensorflow.keras.models import load_model\n",
    "\n",
    "model_small = load_model('./models/002_dogs_and_cats_small.h5')"
   ]
  },
  {
   "cell_type": "code",
   "execution_count": 20,
   "id": "8e8bffa2",
   "metadata": {},
   "outputs": [
    {
     "name": "stdout",
     "output_type": "stream",
     "text": [
      "50/50 [==============================] - 4s 72ms/step - loss: 2.5707 - accuracy: 0.7440\n",
      "Loss = 2.57071\n",
      "Accuracy = 0.74400\n"
     ]
    }
   ],
   "source": [
    "loss, accuracy = model_small.evaluate(test_generator,\n",
    "                                    steps = 50)\n",
    "print('Loss = {:.5f}'.format(loss))\n",
    "print('Accuracy = {:.5f}'.format(accuracy))"
   ]
  },
  {
   "cell_type": "code",
   "execution_count": null,
   "id": "4f69cf10",
   "metadata": {},
   "outputs": [],
   "source": []
  }
 ],
 "metadata": {
  "kernelspec": {
   "display_name": "Python tf24",
   "language": "python",
   "name": "tf24"
  },
  "language_info": {
   "codemirror_mode": {
    "name": "ipython",
    "version": 3
   },
   "file_extension": ".py",
   "mimetype": "text/x-python",
   "name": "python",
   "nbconvert_exporter": "python",
   "pygments_lexer": "ipython3",
   "version": "3.7.6"
  }
 },
 "nbformat": 4,
 "nbformat_minor": 5
}
