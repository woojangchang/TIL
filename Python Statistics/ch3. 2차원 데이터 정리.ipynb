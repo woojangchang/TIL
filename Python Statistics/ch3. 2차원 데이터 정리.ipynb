{
 "cells": [
  {
   "cell_type": "code",
   "execution_count": 1,
   "id": "82d801d7",
   "metadata": {},
   "outputs": [],
   "source": [
    "import pandas as pd\n",
    "import numpy as np\n",
    "\n",
    "%precision %.3f # jupyter notebook 소수점 3자리로 제한\n",
    "pd.set_option('precision', 3) # pandas 소수점 3자리로 제한"
   ]
  },
  {
   "cell_type": "code",
   "execution_count": 2,
   "id": "f1983bb3",
   "metadata": {},
   "outputs": [],
   "source": [
    "# 데이터 불러오기\n",
    "path = './data/ch2_scores_em.csv'"
   ]
  },
  {
   "cell_type": "code",
   "execution_count": 3,
   "id": "55f9d3af",
   "metadata": {},
   "outputs": [],
   "source": [
    "df = pd.read_csv(path, index_col='student number')"
   ]
  },
  {
   "cell_type": "markdown",
   "id": "bd2a8224",
   "metadata": {},
   "source": [
    "# 1. 관계 지표"
   ]
  },
  {
   "cell_type": "markdown",
   "id": "927d3307",
   "metadata": {},
   "source": [
    "## 1-1. 공분산"
   ]
  },
  {
   "cell_type": "code",
   "execution_count": 7,
   "id": "291cc075",
   "metadata": {},
   "outputs": [],
   "source": [
    "summary_df = df.copy()"
   ]
  },
  {
   "cell_type": "code",
   "execution_count": 8,
   "id": "6a333087",
   "metadata": {},
   "outputs": [
    {
     "data": {
      "text/html": [
       "<div>\n",
       "<style scoped>\n",
       "    .dataframe tbody tr th:only-of-type {\n",
       "        vertical-align: middle;\n",
       "    }\n",
       "\n",
       "    .dataframe tbody tr th {\n",
       "        vertical-align: top;\n",
       "    }\n",
       "\n",
       "    .dataframe thead th {\n",
       "        text-align: right;\n",
       "    }\n",
       "</style>\n",
       "<table border=\"1\" class=\"dataframe\">\n",
       "  <thead>\n",
       "    <tr style=\"text-align: right;\">\n",
       "      <th></th>\n",
       "      <th>english</th>\n",
       "      <th>mathematics</th>\n",
       "      <th>english_deviation</th>\n",
       "      <th>mathmatics_deviation</th>\n",
       "      <th>product of deviations</th>\n",
       "    </tr>\n",
       "    <tr>\n",
       "      <th>student number</th>\n",
       "      <th></th>\n",
       "      <th></th>\n",
       "      <th></th>\n",
       "      <th></th>\n",
       "      <th></th>\n",
       "    </tr>\n",
       "  </thead>\n",
       "  <tbody>\n",
       "    <tr>\n",
       "      <th>1</th>\n",
       "      <td>42</td>\n",
       "      <td>65</td>\n",
       "      <td>-16.38</td>\n",
       "      <td>-13.88</td>\n",
       "      <td>227.354</td>\n",
       "    </tr>\n",
       "    <tr>\n",
       "      <th>2</th>\n",
       "      <td>69</td>\n",
       "      <td>80</td>\n",
       "      <td>10.62</td>\n",
       "      <td>1.12</td>\n",
       "      <td>11.894</td>\n",
       "    </tr>\n",
       "    <tr>\n",
       "      <th>3</th>\n",
       "      <td>56</td>\n",
       "      <td>63</td>\n",
       "      <td>-2.38</td>\n",
       "      <td>-15.88</td>\n",
       "      <td>37.794</td>\n",
       "    </tr>\n",
       "    <tr>\n",
       "      <th>4</th>\n",
       "      <td>41</td>\n",
       "      <td>63</td>\n",
       "      <td>-17.38</td>\n",
       "      <td>-15.88</td>\n",
       "      <td>275.994</td>\n",
       "    </tr>\n",
       "    <tr>\n",
       "      <th>5</th>\n",
       "      <td>57</td>\n",
       "      <td>76</td>\n",
       "      <td>-1.38</td>\n",
       "      <td>-2.88</td>\n",
       "      <td>3.974</td>\n",
       "    </tr>\n",
       "  </tbody>\n",
       "</table>\n",
       "</div>"
      ],
      "text/plain": [
       "                english  mathematics  english_deviation  mathmatics_deviation  \\\n",
       "student number                                                                  \n",
       "1                    42           65             -16.38                -13.88   \n",
       "2                    69           80              10.62                  1.12   \n",
       "3                    56           63              -2.38                -15.88   \n",
       "4                    41           63             -17.38                -15.88   \n",
       "5                    57           76              -1.38                 -2.88   \n",
       "\n",
       "                product of deviations  \n",
       "student number                         \n",
       "1                             227.354  \n",
       "2                              11.894  \n",
       "3                              37.794  \n",
       "4                             275.994  \n",
       "5                               3.974  "
      ]
     },
     "execution_count": 8,
     "metadata": {},
     "output_type": "execute_result"
    }
   ],
   "source": [
    "summary_df['english_deviation'] = summary_df['english'] - summary_df['english'].mean()\n",
    "summary_df['mathmatics_deviation'] = summary_df['mathematics'] - summary_df['mathematics'].mean()\n",
    "summary_df['product of deviations'] = summary_df['english_deviation'] * summary_df['mathmatics_deviation']\n",
    "summary_df.head()"
   ]
  },
  {
   "cell_type": "code",
   "execution_count": 9,
   "id": "136d624a",
   "metadata": {},
   "outputs": [
    {
     "data": {
      "text/plain": [
       "58.485600000000005"
      ]
     },
     "execution_count": 9,
     "metadata": {},
     "output_type": "execute_result"
    }
   ],
   "source": [
    "summary_df['product of deviations'].mean()"
   ]
  },
  {
   "cell_type": "markdown",
   "id": "aa7dc2aa",
   "metadata": {},
   "source": [
    "### numpy 공분산\n",
    "$ \\left[\n",
    "\\begin{matrix}\n",
    "V(X) & COV(X, Y) \\\\\n",
    "COV(Y, X) & V(Y)\n",
    "\\end{matrix}\n",
    "\\right]$"
   ]
  },
  {
   "cell_type": "code",
   "execution_count": 10,
   "id": "eaf4852c",
   "metadata": {},
   "outputs": [
    {
     "data": {
      "text/plain": [
       "array([[94.1156, 58.4856],\n",
       "       [58.4856, 69.3856]])"
      ]
     },
     "execution_count": 10,
     "metadata": {},
     "output_type": "execute_result"
    }
   ],
   "source": [
    "eng = np.array(df['english'])\n",
    "math = np.array(df['mathematics'])\n",
    "cov = np.cov(eng, math, ddof=0)\n",
    "cov"
   ]
  },
  {
   "cell_type": "code",
   "execution_count": 11,
   "id": "47a9b7cc",
   "metadata": {},
   "outputs": [
    {
     "data": {
      "text/plain": [
       "(94.1156, 69.38560000000001)"
      ]
     },
     "execution_count": 11,
     "metadata": {},
     "output_type": "execute_result"
    }
   ],
   "source": [
    "np.var(eng), np.var(math)"
   ]
  },
  {
   "cell_type": "markdown",
   "id": "284759f4",
   "metadata": {},
   "source": [
    "### pandas 공분산  \n",
    "`ddof` 인수가 없고 불편분산만 다룬다."
   ]
  },
  {
   "cell_type": "markdown",
   "id": "47e6704b",
   "metadata": {},
   "source": [
    "## 1-2. 상관계수\n",
    "### $ r_{xy} = {{S_{xy}} \\over {S_xS_y}}$"
   ]
  },
  {
   "cell_type": "code",
   "execution_count": 13,
   "id": "e9c2be36",
   "metadata": {},
   "outputs": [
    {
     "data": {
      "text/plain": [
       "0.7237414863069244"
      ]
     },
     "execution_count": 13,
     "metadata": {},
     "output_type": "execute_result"
    }
   ],
   "source": [
    "cov[0, 1] / (cov[0, 0]*cov[1,1])**0.5"
   ]
  },
  {
   "cell_type": "code",
   "execution_count": 14,
   "id": "46486dc3",
   "metadata": {},
   "outputs": [
    {
     "data": {
      "text/plain": [
       "0.7237414863069241"
      ]
     },
     "execution_count": 14,
     "metadata": {},
     "output_type": "execute_result"
    }
   ],
   "source": [
    "cov[0, 1] / (np.std(eng) * np.std(math))"
   ]
  },
  {
   "cell_type": "markdown",
   "id": "1122c38c",
   "metadata": {},
   "source": [
    "### numpy 상관행렬"
   ]
  },
  {
   "cell_type": "code",
   "execution_count": 15,
   "id": "fa975e98",
   "metadata": {},
   "outputs": [
    {
     "data": {
      "text/plain": [
       "array([[1.        , 0.72374149],\n",
       "       [0.72374149, 1.        ]])"
      ]
     },
     "execution_count": 15,
     "metadata": {},
     "output_type": "execute_result"
    }
   ],
   "source": [
    "np.corrcoef(eng, math)"
   ]
  },
  {
   "cell_type": "markdown",
   "id": "6f85316e",
   "metadata": {},
   "source": [
    "### pandas 상관행렬"
   ]
  },
  {
   "cell_type": "code",
   "execution_count": 16,
   "id": "7e7990bb",
   "metadata": {},
   "outputs": [
    {
     "data": {
      "text/html": [
       "<div>\n",
       "<style scoped>\n",
       "    .dataframe tbody tr th:only-of-type {\n",
       "        vertical-align: middle;\n",
       "    }\n",
       "\n",
       "    .dataframe tbody tr th {\n",
       "        vertical-align: top;\n",
       "    }\n",
       "\n",
       "    .dataframe thead th {\n",
       "        text-align: right;\n",
       "    }\n",
       "</style>\n",
       "<table border=\"1\" class=\"dataframe\">\n",
       "  <thead>\n",
       "    <tr style=\"text-align: right;\">\n",
       "      <th></th>\n",
       "      <th>english</th>\n",
       "      <th>mathematics</th>\n",
       "    </tr>\n",
       "  </thead>\n",
       "  <tbody>\n",
       "    <tr>\n",
       "      <th>english</th>\n",
       "      <td>1.000</td>\n",
       "      <td>0.724</td>\n",
       "    </tr>\n",
       "    <tr>\n",
       "      <th>mathematics</th>\n",
       "      <td>0.724</td>\n",
       "      <td>1.000</td>\n",
       "    </tr>\n",
       "  </tbody>\n",
       "</table>\n",
       "</div>"
      ],
      "text/plain": [
       "             english  mathematics\n",
       "english        1.000        0.724\n",
       "mathematics    0.724        1.000"
      ]
     },
     "execution_count": 16,
     "metadata": {},
     "output_type": "execute_result"
    }
   ],
   "source": [
    "df.corr()"
   ]
  },
  {
   "cell_type": "markdown",
   "id": "8377311a",
   "metadata": {},
   "source": [
    "# 2. 시각화"
   ]
  },
  {
   "cell_type": "markdown",
   "id": "b64d7e37",
   "metadata": {},
   "source": [
    "## 2-1. 산점도"
   ]
  },
  {
   "cell_type": "code",
   "execution_count": 17,
   "id": "0a3a040c",
   "metadata": {},
   "outputs": [],
   "source": [
    "import matplotlib.pyplot as plt\n",
    "\n",
    "%matplotlib inline"
   ]
  },
  {
   "cell_type": "code",
   "execution_count": 19,
   "id": "11c46b99",
   "metadata": {},
   "outputs": [
    {
     "data": {
      "image/png": "[encoded data removed]",
      "text/plain": [
       "<Figure size 576x576 with 1 Axes>"
      ]
     },
     "metadata": {
      "needs_background": "light"
     },
     "output_type": "display_data"
    }
   ],
   "source": [
    "fig = plt.figure(figsize=(8,8))\n",
    "ax = fig.add_subplot(111)\n",
    "# 산점도\n",
    "ax.scatter(eng, math)\n",
    "ax.set_xlabel('English')\n",
    "ax.set_ylabel('Mathematics')\n",
    "\n",
    "plt.show()"
   ]
  },
  {
   "cell_type": "markdown",
   "id": "56b83337",
   "metadata": {},
   "source": [
    "## 2-2. 회귀직선\n",
    "`np.polyfit`, `np.poly1d` 함수를 이용하여 $y=\\beta_0+\\beta_1x$ 구하기"
   ]
  },
  {
   "cell_type": "code",
   "execution_count": 21,
   "id": "a402f80a",
   "metadata": {},
   "outputs": [
    {
     "data": {
      "text/plain": [
       "(array([37.        , 37.85714286, 38.71428571, 39.57142857, 40.42857143]),\n",
       " array([65.59397592, 66.12662422, 66.65927252, 67.19192082, 67.72456912]),\n",
       " array([ 0.62142302, 42.60132433]))"
      ]
     },
     "execution_count": 21,
     "metadata": {},
     "output_type": "execute_result"
    }
   ],
   "source": [
    "# 계수 b0, b1 구하기\n",
    "poly_fit = np.polyfit(eng, math, 1) # x가 eng, y가 math, 차수가 1\n",
    "# poly_fit의 결과값은 각각 b1, b0\n",
    "\n",
    "# 구한 게수로 함수를 작성\n",
    "poly_1d = np.poly1d(poly_fit)\n",
    "# 직선을 그리기 위해 x좌표 생성\n",
    "xs = np.linspace(eng.min(), eng.max()) # num=50이 기본값\n",
    "# xs에 대응하는 y좌표 생성\n",
    "ys = poly_1d(xs)\n",
    "\n",
    "xs[:5], ys[:5], poly_fit"
   ]
  },
  {
   "cell_type": "code",
   "execution_count": 22,
   "id": "57348877",
   "metadata": {},
   "outputs": [
    {
     "data": {
      "image/png": "[encoded data removed]",
      "text/plain": [
       "<Figure size 576x576 with 1 Axes>"
      ]
     },
     "metadata": {
      "needs_background": "light"
     },
     "output_type": "display_data"
    }
   ],
   "source": [
    "fig = plt.figure(figsize=(8,8))\n",
    "ax = fig.add_subplot(111)\n",
    "ax.scatter(eng, math, label='score')\n",
    "ax.plot(xs, ys, color='gray',\n",
    "       label=f'{poly_fit[1]:.2f}+{poly_fit[0]:.2f}x')\n",
    "ax.set_xlabel('English')\n",
    "ax.set_ylabel('Mathematics')\n",
    "# 범례 표시 위치\n",
    "ax.legend(loc = 'upper left')\n",
    "\n",
    "plt.show()"
   ]
  },
  {
   "cell_type": "markdown",
   "id": "23f5dd60",
   "metadata": {},
   "source": [
    "## 2-3. 히트맵\n",
    "2차원 히스토그램"
   ]
  },
  {
   "cell_type": "code",
   "execution_count": 23,
   "id": "cb4ea3f3",
   "metadata": {},
   "outputs": [
    {
     "data": {
      "image/png": "[encoded data removed]",
      "text/plain": [
       "<Figure size 720x576 with 2 Axes>"
      ]
     },
     "metadata": {
      "needs_background": "light"
     },
     "output_type": "display_data"
    }
   ],
   "source": [
    "fig = plt.figure(figsize=(10,8))\n",
    "ax = fig.add_subplot(111)\n",
    "\n",
    "c = ax.hist2d(eng, math, bins=[9, 8], range=[(35, 80), (55, 95)]) # bins=[nx, ny], range=[(x_start, x_end), (y_start, y_end)]\n",
    "ax.set_xlabel('English')\n",
    "ax.set_ylabel('Mathematics')\n",
    "ax.set_xticks(c[1])\n",
    "ax.set_yticks(c[2])\n",
    "# 컬러 바 표시\n",
    "fig.colorbar(c[3], ax=ax)\n",
    "plt.show()"
   ]
  },
  {
   "cell_type": "markdown",
   "id": "b6824f5e",
   "metadata": {},
   "source": [
    "# 3. 앤스컴의 예  \n",
    "평균, 분산, 상관계수, 회귀직선 등의 특징이 같으나 다른 분포를 가지고 있는 데이터들로  \n",
    "시각화의 중요성을 알려준다."
   ]
  },
  {
   "cell_type": "code",
   "execution_count": 29,
   "id": "a8275e86",
   "metadata": {},
   "outputs": [
    {
     "data": {
      "text/plain": [
       "(4, 11, 2)"
      ]
     },
     "execution_count": 29,
     "metadata": {},
     "output_type": "execute_result"
    }
   ],
   "source": [
    "# npy 형식으로 저장된 numpy array\n",
    "anscombe_data = np.load('./data/ch3_anscombe.npy')\n",
    "anscombe_data.shape"
   ]
  },
  {
   "cell_type": "code",
   "execution_count": 34,
   "id": "a7012fdb",
   "metadata": {},
   "outputs": [
    {
     "data": {
      "text/html": [
       "<div>\n",
       "<style scoped>\n",
       "    .dataframe tbody tr th:only-of-type {\n",
       "        vertical-align: middle;\n",
       "    }\n",
       "\n",
       "    .dataframe tbody tr th {\n",
       "        vertical-align: top;\n",
       "    }\n",
       "\n",
       "    .dataframe thead th {\n",
       "        text-align: right;\n",
       "    }\n",
       "</style>\n",
       "<table border=\"1\" class=\"dataframe\">\n",
       "  <thead>\n",
       "    <tr style=\"text-align: right;\">\n",
       "      <th></th>\n",
       "      <th>data1</th>\n",
       "      <th>data2</th>\n",
       "      <th>data3</th>\n",
       "      <th>data4</th>\n",
       "    </tr>\n",
       "  </thead>\n",
       "  <tbody>\n",
       "    <tr>\n",
       "      <th>X_mean</th>\n",
       "      <td>9.00</td>\n",
       "      <td>9.00</td>\n",
       "      <td>9.00</td>\n",
       "      <td>9.00</td>\n",
       "    </tr>\n",
       "    <tr>\n",
       "      <th>X_variance</th>\n",
       "      <td>10.00</td>\n",
       "      <td>10.00</td>\n",
       "      <td>10.00</td>\n",
       "      <td>10.00</td>\n",
       "    </tr>\n",
       "    <tr>\n",
       "      <th>Y_mean</th>\n",
       "      <td>7.50</td>\n",
       "      <td>7.50</td>\n",
       "      <td>7.50</td>\n",
       "      <td>7.50</td>\n",
       "    </tr>\n",
       "    <tr>\n",
       "      <th>Y_variance</th>\n",
       "      <td>3.75</td>\n",
       "      <td>3.75</td>\n",
       "      <td>3.75</td>\n",
       "      <td>3.75</td>\n",
       "    </tr>\n",
       "    <tr>\n",
       "      <th>X&amp;Y correlation</th>\n",
       "      <td>0.82</td>\n",
       "      <td>0.82</td>\n",
       "      <td>0.82</td>\n",
       "      <td>0.82</td>\n",
       "    </tr>\n",
       "    <tr>\n",
       "      <th>X&amp;Y regression line</th>\n",
       "      <td>3.00+0.50x</td>\n",
       "      <td>3.00+0.50x</td>\n",
       "      <td>3.00+0.50x</td>\n",
       "      <td>3.00+0.50x</td>\n",
       "    </tr>\n",
       "  </tbody>\n",
       "</table>\n",
       "</div>"
      ],
      "text/plain": [
       "                          data1       data2       data3       data4\n",
       "X_mean                     9.00        9.00        9.00        9.00\n",
       "X_variance                10.00       10.00       10.00       10.00\n",
       "Y_mean                     7.50        7.50        7.50        7.50\n",
       "Y_variance                 3.75        3.75        3.75        3.75\n",
       "X&Y correlation            0.82        0.82        0.82        0.82\n",
       "X&Y regression line  3.00+0.50x  3.00+0.50x  3.00+0.50x  3.00+0.50x"
      ]
     },
     "execution_count": 34,
     "metadata": {},
     "output_type": "execute_result"
    }
   ],
   "source": [
    "index = ['X_mean', 'X_variance', 'Y_mean', 'Y_variance', 'X&Y correlation', 'X&Y regression line']\n",
    "stats_df = pd.DataFrame(index = index)\n",
    "for i, data in enumerate(anscombe_data):\n",
    "    dataX = data[:, 0]\n",
    "    dataY = data[:, 1]\n",
    "    poly_fit = np.polyfit(dataX, dataY, 1)\n",
    "    stats_df[f'data{i+1}'] = [f'{np.mean(dataX):.2f}', f'{np.var(dataX):.2f}',\n",
    "                             f'{np.mean(dataY):.2f}', f'{np.var(dataY):.2f}',\n",
    "                             f'{np.corrcoef(dataX, dataY)[0,1]:.2f}', f'{poly_fit[1]:.2f}+{poly_fit[0]:.2f}x']\n",
    "stats_df"
   ]
  },
  {
   "cell_type": "markdown",
   "id": "eb5e7844",
   "metadata": {},
   "source": [
    "X와 Y의 평균, 분산, 상관계수, 회귀직선이 모두 같다."
   ]
  },
  {
   "cell_type": "code",
   "execution_count": 35,
   "id": "0c4f5a81",
   "metadata": {},
   "outputs": [
    {
     "data": {
      "image/png": "[encoded data removed]",
      "text/plain": [
       "<Figure size 720x720 with 4 Axes>"
      ]
     },
     "metadata": {
      "needs_background": "light"
     },
     "output_type": "display_data"
    }
   ],
   "source": [
    "fig, axes = plt.subplots(nrows=2, ncols=2, figsize=(10,10), sharex=True, sharey=True)\n",
    "\n",
    "xs = np.linspace(0, 30, 100)\n",
    "for i, data in enumerate(anscombe_data):\n",
    "    poly_fit = np.polyfit(data[:,0], data[:,1], 1)\n",
    "    poly_1d = np.poly1d(poly_fit)\n",
    "    ys = poly_1d(xs)\n",
    "    # 그리는 영역을 선택\n",
    "    ax = axes[i//2, i%2]\n",
    "    ax.set_xlim([4, 20])\n",
    "    ax.set_ylim([3, 13])\n",
    "    # 타이틀\n",
    "    ax.set_title(f'data{i+1}')\n",
    "    ax.scatter(data[:,0], data[:,1])\n",
    "    ax.plot(xs, ys, color='gray')\n",
    "\n",
    "# 그래프 사이 간격 좁히기\n",
    "plt.tight_layout()\n",
    "plt.show()"
   ]
  },
  {
   "cell_type": "code",
   "execution_count": null,
   "id": "51101e8b",
   "metadata": {},
   "outputs": [],
   "source": []
  }
 ],
 "metadata": {
  "kernelspec": {
   "display_name": "Python Multi",
   "language": "python",
   "name": "multi"
  },
  "language_info": {
   "codemirror_mode": {
    "name": "ipython",
    "version": 3
   },
   "file_extension": ".py",
   "mimetype": "text/x-python",
   "name": "python",
   "nbconvert_exporter": "python",
   "pygments_lexer": "ipython3",
   "version": "3.7.6"
  }
 },
 "nbformat": 4,
 "nbformat_minor": 5
}
