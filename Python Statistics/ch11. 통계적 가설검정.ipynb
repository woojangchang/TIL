{
 "cells": [
  {
   "cell_type": "markdown",
   "id": "c2ed669f",
   "metadata": {},
   "source": [
    "평균 130g으로 알려져있던 상품이 14개의 표본 평균을 계산한 결과 128.451g이 나왔을 때"
   ]
  },
  {
   "cell_type": "code",
   "execution_count": 1,
   "id": "c8ee141c",
   "metadata": {},
   "outputs": [],
   "source": [
    "import numpy as np\n",
    "import pandas as pd\n",
    "from scipy import stats\n",
    "\n",
    "%precision 3\n",
    "np.random.seed(1111)"
   ]
  },
  {
   "cell_type": "code",
   "execution_count": 2,
   "id": "d50c9208",
   "metadata": {},
   "outputs": [
    {
     "data": {
      "text/plain": [
       "array([122.02, 131.73, 130.6 , 131.82, 132.05, 126.12, 124.43, 132.89,\n",
       "       122.79, 129.95, 126.14, 134.45, 127.64, 125.68])"
      ]
     },
     "execution_count": 2,
     "metadata": {},
     "output_type": "execute_result"
    }
   ],
   "source": [
    "df = pd.read_csv('./data/ch11_potato.csv')\n",
    "sample = np.array(df['무게'])\n",
    "sample"
   ]
  },
  {
   "cell_type": "code",
   "execution_count": 3,
   "id": "c9a22340",
   "metadata": {},
   "outputs": [
    {
     "data": {
      "text/plain": [
       "128.4507142857143"
      ]
     },
     "execution_count": 3,
     "metadata": {},
     "output_type": "execute_result"
    }
   ],
   "source": [
    "s_mean = np.mean(sample)\n",
    "s_mean"
   ]
  },
  {
   "cell_type": "markdown",
   "id": "91f37f20",
   "metadata": {},
   "source": [
    "# 1. 통계적 가설검정"
   ]
  },
  {
   "cell_type": "markdown",
   "id": "161b6123",
   "metadata": {},
   "source": [
    "## 1-1. 기본  \n",
    "상품 집단이 정규분포를 따르고 모평균이 130이고 모분산이 9인 경우, 표본평균 $\\bar X \\sim N(130, \\dfrac {9} {14})$가 $P(\\bar X \\le x)=0.05$인 $x$ 구하기"
   ]
  },
  {
   "cell_type": "code",
   "execution_count": 4,
   "id": "8d430555",
   "metadata": {},
   "outputs": [
    {
     "data": {
      "text/plain": [
       "128.68118313069039"
      ]
     },
     "execution_count": 4,
     "metadata": {},
     "output_type": "execute_result"
    }
   ],
   "source": [
    "rv = stats.norm(130, np.sqrt(9/14))\n",
    "rv.isf(0.95)"
   ]
  },
  {
   "cell_type": "markdown",
   "id": "270935e6",
   "metadata": {},
   "source": [
    "- 귀무가설($H_0$) : 차이가 없다, 효과가 없다는 내용을 가진 가설\n",
    "- 대립가설($H_1$) : 차이가 유의미하다, 효과가 있다는 내용을 가진 가설\n",
    "- 유의하다(significant) : 드문 값을 얻었을 때, 그것이 우연이 아니라 어떤 의미를 가졌을 때\n",
    "- 기각역 : 귀무가설이 기각되는 구간\n",
    "- 채택역 : 귀무가설이 채택되는 구간\n",
    "- 유의수준 (1%, 5% 등을 사용)\n",
    "- 임곗값 : 경계선상의 값\n",
    "- 검정통계량(Z) : 검정에 사용되는 통계량\n",
    "- p-value : 검정통계량의 절댓값보다 큰 값을 가질 확률  \n",
    "  \n",
    "  \n",
    "예) 유의수준 5%에서, 귀무가설 : 모평균이 130이다 vs 대립가설 : 모평균이 130보다 작다.\n",
    "- 표본평균이 128.451이 되면 유의하므로 귀무가설을 기각  \n",
    "- 표본평균이 129가 되면 유의하지 않으므로 귀무가설을 채택\n",
    "- 검정통계량 : 표본평균\n",
    "- 임곗값 : 128.681\n",
    "- p-value < 유의수준이므로 귀무가설을 기각\n",
    "- 검정통계량 $Z$ < $z_{1-\\alpha}$ 이므로 귀무가설을 기각"
   ]
  },
  {
   "cell_type": "markdown",
   "id": "bd9799da",
   "metadata": {},
   "source": [
    "### 검정통게량"
   ]
  },
  {
   "cell_type": "code",
   "execution_count": 5,
   "id": "8fcb22d2",
   "metadata": {},
   "outputs": [
    {
     "data": {
      "text/plain": [
       "-1.932298779026813"
      ]
     },
     "execution_count": 5,
     "metadata": {},
     "output_type": "execute_result"
    }
   ],
   "source": [
    "z = (s_mean - 130) / np.sqrt(9/14)\n",
    "z"
   ]
  },
  {
   "cell_type": "markdown",
   "id": "b86ff925",
   "metadata": {},
   "source": [
    "### 임곗값"
   ]
  },
  {
   "cell_type": "code",
   "execution_count": 8,
   "id": "5eb694f2",
   "metadata": {},
   "outputs": [
    {
     "data": {
      "text/plain": [
       "-1.6448536269514722"
      ]
     },
     "execution_count": 8,
     "metadata": {},
     "output_type": "execute_result"
    }
   ],
   "source": [
    "rv = stats.norm()\n",
    "rv.isf(0.95)"
   ]
  },
  {
   "cell_type": "markdown",
   "id": "1ef49a18",
   "metadata": {},
   "source": [
    "### p-value"
   ]
  },
  {
   "cell_type": "code",
   "execution_count": 9,
   "id": "d04dcef9",
   "metadata": {},
   "outputs": [
    {
     "data": {
      "text/plain": [
       "0.026661319523126635"
      ]
     },
     "execution_count": 9,
     "metadata": {},
     "output_type": "execute_result"
    }
   ],
   "source": [
    "rv.cdf(z)"
   ]
  },
  {
   "cell_type": "markdown",
   "id": "e9a9f47e",
   "metadata": {},
   "source": [
    "검정통계량의 절댓값이 임곗값의 절댓값보다 크므로 귀무가설 기각  \n",
    "또는 p-value가 유의수준 5%보다 작으므로 귀무가설 기각"
   ]
  },
  {
   "cell_type": "markdown",
   "id": "6b74d29c",
   "metadata": {},
   "source": [
    "## 1-2. 단측검정과 양측검정"
   ]
  },
  {
   "cell_type": "markdown",
   "id": "f74f5478",
   "metadata": {},
   "source": [
    "- 단측검정 : 모평균이 x보다 크다/작다\n",
    "- 양측검정 : 모평균이 x가 아니다"
   ]
  },
  {
   "cell_type": "markdown",
   "id": "fa88fc9b",
   "metadata": {},
   "source": [
    "### 양측검정"
   ]
  },
  {
   "cell_type": "code",
   "execution_count": 10,
   "id": "a8536980",
   "metadata": {},
   "outputs": [
    {
     "data": {
      "text/plain": [
       "(-1.959963984540054, 1.959963984540054)"
      ]
     },
     "execution_count": 10,
     "metadata": {},
     "output_type": "execute_result"
    }
   ],
   "source": [
    "rv = stats.norm()\n",
    "rv.interval(0.95)"
   ]
  },
  {
   "cell_type": "code",
   "execution_count": 11,
   "id": "20fe9b92",
   "metadata": {},
   "outputs": [
    {
     "data": {
      "text/plain": [
       "0.05332263904625327"
      ]
     },
     "execution_count": 11,
     "metadata": {},
     "output_type": "execute_result"
    }
   ],
   "source": [
    "rv.cdf(z) * 2"
   ]
  },
  {
   "cell_type": "markdown",
   "id": "f29c9ec5",
   "metadata": {},
   "source": [
    "검정통계량이 채택역에 들어가므로 단측검정 때와 달리 귀무가설을 기각할 수 없음  \n",
    "또는 p-value가 유의수준 5%보다 크므로 귀무가설을 기각할 수 없음"
   ]
  },
  {
   "cell_type": "markdown",
   "id": "0000b409",
   "metadata": {},
   "source": [
    "## 1-3. 오류"
   ]
  },
  {
   "cell_type": "markdown",
   "id": "136ee4b1",
   "metadata": {},
   "source": [
    "### 제1종 오류 (위험률, $\\alpha$)\n",
    "- 귀무가설이 옳을 때, 귀무가설을 기각하는 오류\n",
    "    - 평균이 130인데도 130이 작다는 결론을 내리는 오류\n",
    "- 검출하지 말하야 할 것을 검출했으므로 오탐(False Positive)이라고 함"
   ]
  },
  {
   "cell_type": "code",
   "execution_count": 12,
   "id": "aa8516ff",
   "metadata": {},
   "outputs": [],
   "source": [
    "rv = stats.norm(130, 3)"
   ]
  },
  {
   "cell_type": "code",
   "execution_count": 13,
   "id": "318e480e",
   "metadata": {},
   "outputs": [
    {
     "data": {
      "text/plain": [
       "0.053"
      ]
     },
     "execution_count": 13,
     "metadata": {},
     "output_type": "execute_result"
    }
   ],
   "source": [
    "# 제1종 오류를 범하는 비율\n",
    "c = stats.norm().isf(0.95)\n",
    "n_samples = 10000\n",
    "cnt = 0\n",
    "# 평균이 130, 표준편차가 3인 표본 14개를 뽑아서 평균을 내고, 검정통계량을 계산하여 기각역에 들어가는 비율 계산\n",
    "for _ in range(n_samples):\n",
    "    sample_ = np.round(rv.rvs(14), 2) \n",
    "    s_mean_ = np.mean(sample_)\n",
    "    z = (s_mean_ - 130) / np.sqrt(9/14)\n",
    "    if z < c:\n",
    "        cnt += 1\n",
    "cnt / n_samples"
   ]
  },
  {
   "cell_type": "markdown",
   "id": "0d21c017",
   "metadata": {},
   "source": [
    "### 제2종 오류 (검정력, $1-\\beta$)\n",
    "- 대립가설이 옳을 때, 귀무가설을 채택하는 오류\n",
    "    - 평균이 130보다 작은데도 130이라는 결론을 내리는 오류\n",
    "- 검출해야 하는 것을 검출하지 못했으므로 미탐(False Negative)이라고 함\n",
    "- $\\beta$는 분석가가 제어할 수 없는 확률"
   ]
  },
  {
   "cell_type": "code",
   "execution_count": 14,
   "id": "7e301db4",
   "metadata": {},
   "outputs": [],
   "source": [
    "rv = stats.norm(128, 3)"
   ]
  },
  {
   "cell_type": "code",
   "execution_count": 15,
   "id": "977ab646",
   "metadata": {},
   "outputs": [
    {
     "data": {
      "text/plain": [
       "0.250"
      ]
     },
     "execution_count": 15,
     "metadata": {},
     "output_type": "execute_result"
    }
   ],
   "source": [
    "# 제2종 오류를 범하는 비율\n",
    "c = stats.norm().isf(0.95)\n",
    "n_samples = 10000\n",
    "# 평균이 128, 표준편차가 3인 표본 14개를 뽑아서 평균을 내고, 검정통계량을 계산하여 채택역에 들어가는 비율 계산\n",
    "for _ in range(n_samples):\n",
    "    sample_ = np.round(rv.rvs(14), 2) \n",
    "    s_mean_ = np.mean(sample_)\n",
    "    z = (s_mean_ - 130) / np.sqrt(9/14)\n",
    "    if z >= c:\n",
    "        cnt += 1\n",
    "cnt / n_samples"
   ]
  },
  {
   "cell_type": "markdown",
   "id": "b029b875",
   "metadata": {},
   "source": [
    "# 2. 기본적인 가설검정"
   ]
  },
  {
   "cell_type": "markdown",
   "id": "0bb2ff1a",
   "metadata": {},
   "source": [
    "## 2-1. 정규분포의 모평균 : 모분산을 알고 있는 경우\n",
    "- 귀무가설 : $\\mu = \\mu_0$\n",
    "- 대립가설 : $\\mu \\ne \\mu_0$\n",
    "- 검정통계량 : $Z = (\\bar X-\\mu_0)/ \\sqrt{\\dfrac{\\sigma^2}{n}}$\n",
    "- $|Z| > |z_{\\alpha/2}|$ 또는 $|Z| > |z_{1-\\alpha/2}|$이면 귀무가설을 기각"
   ]
  },
  {
   "cell_type": "code",
   "execution_count": 18,
   "id": "8989a2c6",
   "metadata": {},
   "outputs": [],
   "source": [
    "def pmean_test(sample, mean0, p_var, alpha=0.05):\n",
    "    s_mean = np.mean(sample)\n",
    "    n = len(sample)\n",
    "    rv = stats.norm()\n",
    "    interval = rv.interval(1-alpha)\n",
    "    \n",
    "    z = (s_mean - mean0) / np.sqrt(p_var/n)\n",
    "    if interval[0] <= z <= interval[1]:\n",
    "        print('귀무가설을 채택')\n",
    "    else:\n",
    "        print('귀무가설을 기각')\n",
    "    \n",
    "    if z < 0:\n",
    "        p = rv.cdf(z) * 2\n",
    "    else:\n",
    "        p = (1 - rv.cdf(z)) * 2\n",
    "    print(f'p-value : {p:.3f}')"
   ]
  },
  {
   "cell_type": "code",
   "execution_count": 19,
   "id": "3956ebbf",
   "metadata": {},
   "outputs": [
    {
     "name": "stdout",
     "output_type": "stream",
     "text": [
      "귀무가설을 채택\n",
      "p-value : 0.053\n"
     ]
    }
   ],
   "source": [
    "pmean_test(sample, 130, 9)"
   ]
  },
  {
   "cell_type": "markdown",
   "id": "fd3e871e",
   "metadata": {},
   "source": [
    "## 2-2. 정규분포의 모분산\n",
    "- 귀무가설 : $\\sigma^2 = \\sigma_0^2$\n",
    "- 대립가설 : $\\sigma^2 \\ne \\sigma_0^2$\n",
    "- 검정통계량 : $Y = \\dfrac{(n-1)s^2}{\\sigma_0^2}$\n",
    "- $Y > \\chi^2_{\\alpha/2}(n-1)$ 또는 $Y < \\chi^2_{1-\\alpha/2}(n-1)$이면 귀무가설을 기각"
   ]
  },
  {
   "cell_type": "code",
   "execution_count": 20,
   "id": "f6f567e9",
   "metadata": {},
   "outputs": [],
   "source": [
    "def pvar_test(sample, var0, alpha=0.05):\n",
    "    u_var = np.var(sample, ddof=1)\n",
    "    n = len(sample)\n",
    "    rv = stats.chi2(df=n-1)\n",
    "    interval = rv.interval(1-alpha)\n",
    "    \n",
    "    y = (n-1) * u_var / var0\n",
    "    if interval[0] <= y <= interval[1]:\n",
    "        print('귀무가설을 채택')\n",
    "    else:\n",
    "        print('귀무가설을 기각')\n",
    "    \n",
    "    if y < rv.isf(0.5):\n",
    "        p = rv.cdf(y) * 2\n",
    "    else:\n",
    "        p = (1 - rv.cdf(y)) * 2\n",
    "    print(f'p-value : {p:.3f}')"
   ]
  },
  {
   "cell_type": "code",
   "execution_count": 21,
   "id": "2ed04774",
   "metadata": {},
   "outputs": [
    {
     "name": "stdout",
     "output_type": "stream",
     "text": [
      "귀무가설을 채택\n",
      "p-value : 0.085\n"
     ]
    }
   ],
   "source": [
    "pvar_test(sample, 9)"
   ]
  },
  {
   "cell_type": "markdown",
   "id": "365619c7",
   "metadata": {},
   "source": [
    "## 2-3. 정규분포의 모평균 : 모분산을 모르는 경우\n",
    "- 귀무가설 : $\\mu = \\mu_0$\n",
    "- 대립가설 : $\\mu \\ne \\mu_0$\n",
    "- 검정통계량 : $t = (\\bar X-\\mu_0)/ \\sqrt{\\dfrac{s^2}{n}}$\n",
    "- $t > t_{\\alpha/2}(n-1)$ 또는 $t < t_{1-\\alpha/2}(n-1)$이면 귀무가설을 기각"
   ]
  },
  {
   "cell_type": "code",
   "execution_count": 24,
   "id": "f5b4e302",
   "metadata": {},
   "outputs": [],
   "source": [
    "def pmean_test(sample, mean0, alpha=0.05):\n",
    "    s_mean = np.mean(sample)\n",
    "    u_var = np.var(sample, ddof=1)\n",
    "    n = len(sample)\n",
    "    rv = stats.t(df=n-1)\n",
    "    interval = rv.interval(1-alpha)\n",
    "    \n",
    "    t = (s_mean - mean0) / np.sqrt(u_var / n)\n",
    "    if interval[0] <= t <= interval[1]:\n",
    "        print('귀무가설을 채택')\n",
    "    else:\n",
    "        print('귀무가설을 기각')\n",
    "    \n",
    "    if t < 0:\n",
    "        p = rv.cdf(t) * 2\n",
    "    else:\n",
    "        p = (1 - rv.cdf(t)) * 2\n",
    "    print(f'p-value : {p:.3f}')"
   ]
  },
  {
   "cell_type": "code",
   "execution_count": 25,
   "id": "a0b11fc8",
   "metadata": {},
   "outputs": [
    {
     "name": "stdout",
     "output_type": "stream",
     "text": [
      "귀무가설을 채택\n",
      "p-value : 0.169\n"
     ]
    }
   ],
   "source": [
    "pmean_test(sample, 130)"
   ]
  },
  {
   "cell_type": "markdown",
   "id": "1a86daac",
   "metadata": {},
   "source": [
    "### `scipy.stats.ttest_1samp` 이용"
   ]
  },
  {
   "cell_type": "code",
   "execution_count": 26,
   "id": "1e5602dc",
   "metadata": {},
   "outputs": [
    {
     "data": {
      "text/plain": [
       "(-1.4551960206404198, 0.16933464230414275)"
      ]
     },
     "execution_count": 26,
     "metadata": {},
     "output_type": "execute_result"
    }
   ],
   "source": [
    "t, p = stats.ttest_1samp(sample, 130)\n",
    "t, p"
   ]
  },
  {
   "cell_type": "markdown",
   "id": "b88bd073",
   "metadata": {},
   "source": [
    "# 3. 2표본 문제에 관한 가설검정"
   ]
  },
  {
   "cell_type": "markdown",
   "id": "13b5075a",
   "metadata": {},
   "source": [
    "|          | 정규분포를 가정할 수 있음 | 정규분포를 가정할 수 없음 |\n",
    "| -------- | ------------------------- | ------------------------- |\n",
    "| 대응표본 | 대응비교 t 검정           | 윌콕슨의 부호순위검정     |\n",
    "| 독립표본 | 독립비교 t 검정           | 만·위트니의 U 검정        |"
   ]
  },
  {
   "cell_type": "markdown",
   "id": "27cd5153",
   "metadata": {},
   "source": [
    "## 3-1. 대응비교 t 검정\n",
    "- 대응하는 데이터가 있고, 데이터 차이에 정규분포를 가정할 수 있는 경우 **평균값 차이**에 대한 검정"
   ]
  },
  {
   "cell_type": "markdown",
   "id": "34c8b8d3",
   "metadata": {},
   "source": [
    "표본 20명을 상대로 운동 전후 집중력 차이에 대한 검정"
   ]
  },
  {
   "cell_type": "code",
   "execution_count": 27,
   "id": "92248998",
   "metadata": {},
   "outputs": [
    {
     "name": "stdout",
     "output_type": "stream",
     "text": [
      "(20, 2)\n"
     ]
    },
    {
     "data": {
      "text/html": [
       "<div>\n",
       "<style scoped>\n",
       "    .dataframe tbody tr th:only-of-type {\n",
       "        vertical-align: middle;\n",
       "    }\n",
       "\n",
       "    .dataframe tbody tr th {\n",
       "        vertical-align: top;\n",
       "    }\n",
       "\n",
       "    .dataframe thead th {\n",
       "        text-align: right;\n",
       "    }\n",
       "</style>\n",
       "<table border=\"1\" class=\"dataframe\">\n",
       "  <thead>\n",
       "    <tr style=\"text-align: right;\">\n",
       "      <th></th>\n",
       "      <th>전</th>\n",
       "      <th>후</th>\n",
       "    </tr>\n",
       "  </thead>\n",
       "  <tbody>\n",
       "    <tr>\n",
       "      <th>0</th>\n",
       "      <td>59</td>\n",
       "      <td>41</td>\n",
       "    </tr>\n",
       "    <tr>\n",
       "      <th>1</th>\n",
       "      <td>52</td>\n",
       "      <td>63</td>\n",
       "    </tr>\n",
       "    <tr>\n",
       "      <th>2</th>\n",
       "      <td>55</td>\n",
       "      <td>68</td>\n",
       "    </tr>\n",
       "  </tbody>\n",
       "</table>\n",
       "</div>"
      ],
      "text/plain": [
       "    전   후\n",
       "0  59  41\n",
       "1  52  63\n",
       "2  55  68"
      ]
     },
     "execution_count": 27,
     "metadata": {},
     "output_type": "execute_result"
    }
   ],
   "source": [
    "training_rel = pd.read_csv('./data/ch11_training_rel.csv')\n",
    "print(training_rel.shape)\n",
    "training_rel.head(3)"
   ]
  },
  {
   "cell_type": "markdown",
   "id": "c9de8d47",
   "metadata": {},
   "source": [
    "- 귀무가설 : $\\mu_{after} - \\mu_{before}=0$\n",
    "- 대립가설 : $\\mu_{after} - \\mu_{before}\\ne 0$"
   ]
  },
  {
   "cell_type": "code",
   "execution_count": 28,
   "id": "82610e27",
   "metadata": {},
   "outputs": [
    {
     "data": {
      "text/html": [
       "<div>\n",
       "<style scoped>\n",
       "    .dataframe tbody tr th:only-of-type {\n",
       "        vertical-align: middle;\n",
       "    }\n",
       "\n",
       "    .dataframe tbody tr th {\n",
       "        vertical-align: top;\n",
       "    }\n",
       "\n",
       "    .dataframe thead th {\n",
       "        text-align: right;\n",
       "    }\n",
       "</style>\n",
       "<table border=\"1\" class=\"dataframe\">\n",
       "  <thead>\n",
       "    <tr style=\"text-align: right;\">\n",
       "      <th></th>\n",
       "      <th>전</th>\n",
       "      <th>후</th>\n",
       "      <th>차</th>\n",
       "    </tr>\n",
       "  </thead>\n",
       "  <tbody>\n",
       "    <tr>\n",
       "      <th>0</th>\n",
       "      <td>59</td>\n",
       "      <td>41</td>\n",
       "      <td>-18</td>\n",
       "    </tr>\n",
       "    <tr>\n",
       "      <th>1</th>\n",
       "      <td>52</td>\n",
       "      <td>63</td>\n",
       "      <td>11</td>\n",
       "    </tr>\n",
       "    <tr>\n",
       "      <th>2</th>\n",
       "      <td>55</td>\n",
       "      <td>68</td>\n",
       "      <td>13</td>\n",
       "    </tr>\n",
       "  </tbody>\n",
       "</table>\n",
       "</div>"
      ],
      "text/plain": [
       "    전   후   차\n",
       "0  59  41 -18\n",
       "1  52  63  11\n",
       "2  55  68  13"
      ]
     },
     "execution_count": 28,
     "metadata": {},
     "output_type": "execute_result"
    }
   ],
   "source": [
    "training_rel['차'] = training_rel['후'] - training_rel['전']\n",
    "training_rel.head(3)"
   ]
  },
  {
   "cell_type": "markdown",
   "id": "5438c571",
   "metadata": {},
   "source": [
    "- 귀무가설 : $\\mu_{diff}=0$\n",
    "- 채택가설 : $\\mu_{diff}\\ne 0$"
   ]
  },
  {
   "cell_type": "markdown",
   "id": "f0fb2ddf",
   "metadata": {},
   "source": [
    "### 차이의 평균에 대한 1표본 t검정"
   ]
  },
  {
   "cell_type": "code",
   "execution_count": 29,
   "id": "7a7b75ee",
   "metadata": {},
   "outputs": [
    {
     "data": {
      "text/plain": [
       "0.04004419061842953"
      ]
     },
     "execution_count": 29,
     "metadata": {},
     "output_type": "execute_result"
    }
   ],
   "source": [
    "t, p = stats.ttest_1samp(training_rel['차'], 0)\n",
    "p"
   ]
  },
  {
   "cell_type": "markdown",
   "id": "078cebc6",
   "metadata": {},
   "source": [
    "### 2표본 t검정"
   ]
  },
  {
   "cell_type": "code",
   "execution_count": 30,
   "id": "6a0cd0b1",
   "metadata": {},
   "outputs": [
    {
     "data": {
      "text/plain": [
       "0.04004419061842953"
      ]
     },
     "execution_count": 30,
     "metadata": {},
     "output_type": "execute_result"
    }
   ],
   "source": [
    "t, p = stats.ttest_rel(training_rel['후'], training_rel['전'])\n",
    "p"
   ]
  },
  {
   "cell_type": "markdown",
   "id": "43777fbc",
   "metadata": {},
   "source": [
    "p-value가 유의수준 5%보다 작으므로 귀무가설 기각 (운동전후 집중력 차이가 있다)"
   ]
  },
  {
   "cell_type": "markdown",
   "id": "849ad4d9",
   "metadata": {},
   "source": [
    "## 3-2. 독립비교 t 검정\n",
    "- 대응하는 데이터가 없고 2표본 모집단에 정규분포를 가정할 수 있는 경우 **평균값의 차이**에 대한 검정"
   ]
  },
  {
   "cell_type": "markdown",
   "id": "12816b41",
   "metadata": {},
   "source": [
    "B 집단은 운동을 할 때 A 집단의 20명과 B 집단의 20명에 대해 집중력 차이"
   ]
  },
  {
   "cell_type": "code",
   "execution_count": 31,
   "id": "91510c82",
   "metadata": {},
   "outputs": [
    {
     "name": "stdout",
     "output_type": "stream",
     "text": [
      "(20, 2)\n"
     ]
    },
    {
     "data": {
      "text/html": [
       "<div>\n",
       "<style scoped>\n",
       "    .dataframe tbody tr th:only-of-type {\n",
       "        vertical-align: middle;\n",
       "    }\n",
       "\n",
       "    .dataframe tbody tr th {\n",
       "        vertical-align: top;\n",
       "    }\n",
       "\n",
       "    .dataframe thead th {\n",
       "        text-align: right;\n",
       "    }\n",
       "</style>\n",
       "<table border=\"1\" class=\"dataframe\">\n",
       "  <thead>\n",
       "    <tr style=\"text-align: right;\">\n",
       "      <th></th>\n",
       "      <th>A</th>\n",
       "      <th>B</th>\n",
       "    </tr>\n",
       "  </thead>\n",
       "  <tbody>\n",
       "    <tr>\n",
       "      <th>0</th>\n",
       "      <td>47</td>\n",
       "      <td>49</td>\n",
       "    </tr>\n",
       "    <tr>\n",
       "      <th>1</th>\n",
       "      <td>50</td>\n",
       "      <td>52</td>\n",
       "    </tr>\n",
       "    <tr>\n",
       "      <th>2</th>\n",
       "      <td>37</td>\n",
       "      <td>54</td>\n",
       "    </tr>\n",
       "  </tbody>\n",
       "</table>\n",
       "</div>"
      ],
      "text/plain": [
       "    A   B\n",
       "0  47  49\n",
       "1  50  52\n",
       "2  37  54"
      ]
     },
     "execution_count": 31,
     "metadata": {},
     "output_type": "execute_result"
    }
   ],
   "source": [
    "training_ind = pd.read_csv('./data/ch11_training_ind.csv')\n",
    "print(training_ind.shape)\n",
    "training_ind.head(3)"
   ]
  },
  {
   "cell_type": "markdown",
   "id": "b9aff2d6",
   "metadata": {},
   "source": [
    "- 귀무가설 : $\\mu_{1} - \\mu_{2}=0$\n",
    "- 대립가설 : $\\mu_{1} - \\mu_{2}\\ne 0$\n",
    "- $X\\sim N(\\mu_1, \\sigma_1^2), \\ Y\\sim N(\\mu_2, \\sigma_2^2)$\n",
    "- 검정통계량 : $t = \\dfrac{(\\bar X - \\bar Y)- (\\mu_1-\\mu_2)}{\\sqrt{\\dfrac{s_1^2}{n_1}+\\dfrac{s_2^2}{n_2}}}$, $df=\\dfrac{\\left(\\dfrac{s_1^2}{n_1}+\\dfrac{s_2^2}{n_2}\\right)^2}{\\dfrac{s_1^4}{n_1^2(n_1-1)}+\\dfrac{s_2^4}{n_2^2(n_2-1)}}$\n",
    "    - 웰치의 방법"
   ]
  },
  {
   "cell_type": "code",
   "execution_count": 33,
   "id": "b6185c21",
   "metadata": {},
   "outputs": [
    {
     "data": {
      "text/plain": [
       "0.08695731107259362"
      ]
     },
     "execution_count": 33,
     "metadata": {},
     "output_type": "execute_result"
    }
   ],
   "source": [
    "t, p = stats.ttest_ind(training_ind['A'], training_ind['B'], equal_var = False)\n",
    "p"
   ]
  },
  {
   "cell_type": "markdown",
   "id": "53e426fc",
   "metadata": {},
   "source": [
    "p-value가 유의수준 5%보다 크므로 귀무가설 채택 (운동하는 집단과 집중력에 유의미한 차이가 없다)"
   ]
  },
  {
   "cell_type": "markdown",
   "id": "92867b5d",
   "metadata": {},
   "source": [
    "## 3-3. 윌콕슨의 부호순위검정\n",
    "- 대응표본 차이에서 정규분포를 가정할 수 없는 경우 **중앙값의 차이**에 대한 검정"
   ]
  },
  {
   "cell_type": "code",
   "execution_count": 35,
   "id": "455abefe",
   "metadata": {},
   "outputs": [
    {
     "data": {
      "text/html": [
       "<div>\n",
       "<style scoped>\n",
       "    .dataframe tbody tr th:only-of-type {\n",
       "        vertical-align: middle;\n",
       "    }\n",
       "\n",
       "    .dataframe tbody tr th {\n",
       "        vertical-align: top;\n",
       "    }\n",
       "\n",
       "    .dataframe thead th {\n",
       "        text-align: right;\n",
       "    }\n",
       "</style>\n",
       "<table border=\"1\" class=\"dataframe\">\n",
       "  <thead>\n",
       "    <tr style=\"text-align: right;\">\n",
       "      <th></th>\n",
       "      <th>전</th>\n",
       "      <th>후</th>\n",
       "    </tr>\n",
       "  </thead>\n",
       "  <tbody>\n",
       "    <tr>\n",
       "      <th>0</th>\n",
       "      <td>59</td>\n",
       "      <td>41</td>\n",
       "    </tr>\n",
       "    <tr>\n",
       "      <th>1</th>\n",
       "      <td>52</td>\n",
       "      <td>63</td>\n",
       "    </tr>\n",
       "    <tr>\n",
       "      <th>2</th>\n",
       "      <td>55</td>\n",
       "      <td>68</td>\n",
       "    </tr>\n",
       "    <tr>\n",
       "      <th>3</th>\n",
       "      <td>61</td>\n",
       "      <td>59</td>\n",
       "    </tr>\n",
       "    <tr>\n",
       "      <th>4</th>\n",
       "      <td>59</td>\n",
       "      <td>84</td>\n",
       "    </tr>\n",
       "    <tr>\n",
       "      <th>5</th>\n",
       "      <td>45</td>\n",
       "      <td>37</td>\n",
       "    </tr>\n",
       "  </tbody>\n",
       "</table>\n",
       "</div>"
      ],
      "text/plain": [
       "    전   후\n",
       "0  59  41\n",
       "1  52  63\n",
       "2  55  68\n",
       "3  61  59\n",
       "4  59  84\n",
       "5  45  37"
      ]
     },
     "execution_count": 35,
     "metadata": {},
     "output_type": "execute_result"
    }
   ],
   "source": [
    "training_rel = pd.read_csv('./data/ch11_training_rel.csv')\n",
    "toy_df = training_rel[:6].copy()\n",
    "toy_df"
   ]
  },
  {
   "cell_type": "code",
   "execution_count": 36,
   "id": "8d108e16",
   "metadata": {},
   "outputs": [
    {
     "data": {
      "text/html": [
       "<div>\n",
       "<style scoped>\n",
       "    .dataframe tbody tr th:only-of-type {\n",
       "        vertical-align: middle;\n",
       "    }\n",
       "\n",
       "    .dataframe tbody tr th {\n",
       "        vertical-align: top;\n",
       "    }\n",
       "\n",
       "    .dataframe thead th {\n",
       "        text-align: right;\n",
       "    }\n",
       "</style>\n",
       "<table border=\"1\" class=\"dataframe\">\n",
       "  <thead>\n",
       "    <tr style=\"text-align: right;\">\n",
       "      <th></th>\n",
       "      <th>전</th>\n",
       "      <th>후</th>\n",
       "      <th>차</th>\n",
       "    </tr>\n",
       "  </thead>\n",
       "  <tbody>\n",
       "    <tr>\n",
       "      <th>0</th>\n",
       "      <td>59</td>\n",
       "      <td>41</td>\n",
       "      <td>-18</td>\n",
       "    </tr>\n",
       "    <tr>\n",
       "      <th>1</th>\n",
       "      <td>52</td>\n",
       "      <td>63</td>\n",
       "      <td>11</td>\n",
       "    </tr>\n",
       "    <tr>\n",
       "      <th>2</th>\n",
       "      <td>55</td>\n",
       "      <td>68</td>\n",
       "      <td>13</td>\n",
       "    </tr>\n",
       "    <tr>\n",
       "      <th>3</th>\n",
       "      <td>61</td>\n",
       "      <td>59</td>\n",
       "      <td>-2</td>\n",
       "    </tr>\n",
       "    <tr>\n",
       "      <th>4</th>\n",
       "      <td>59</td>\n",
       "      <td>84</td>\n",
       "      <td>25</td>\n",
       "    </tr>\n",
       "    <tr>\n",
       "      <th>5</th>\n",
       "      <td>45</td>\n",
       "      <td>37</td>\n",
       "      <td>-8</td>\n",
       "    </tr>\n",
       "  </tbody>\n",
       "</table>\n",
       "</div>"
      ],
      "text/plain": [
       "    전   후   차\n",
       "0  59  41 -18\n",
       "1  52  63  11\n",
       "2  55  68  13\n",
       "3  61  59  -2\n",
       "4  59  84  25\n",
       "5  45  37  -8"
      ]
     },
     "execution_count": 36,
     "metadata": {},
     "output_type": "execute_result"
    }
   ],
   "source": [
    "diff = toy_df['후'] - toy_df['전']\n",
    "toy_df['차'] = diff\n",
    "toy_df"
   ]
  },
  {
   "cell_type": "code",
   "execution_count": 37,
   "id": "1fad45ff",
   "metadata": {},
   "outputs": [
    {
     "data": {
      "text/html": [
       "<div>\n",
       "<style scoped>\n",
       "    .dataframe tbody tr th:only-of-type {\n",
       "        vertical-align: middle;\n",
       "    }\n",
       "\n",
       "    .dataframe tbody tr th {\n",
       "        vertical-align: top;\n",
       "    }\n",
       "\n",
       "    .dataframe thead th {\n",
       "        text-align: right;\n",
       "    }\n",
       "</style>\n",
       "<table border=\"1\" class=\"dataframe\">\n",
       "  <thead>\n",
       "    <tr style=\"text-align: right;\">\n",
       "      <th></th>\n",
       "      <th>전</th>\n",
       "      <th>후</th>\n",
       "      <th>차</th>\n",
       "      <th>순위</th>\n",
       "    </tr>\n",
       "  </thead>\n",
       "  <tbody>\n",
       "    <tr>\n",
       "      <th>0</th>\n",
       "      <td>59</td>\n",
       "      <td>41</td>\n",
       "      <td>-18</td>\n",
       "      <td>5</td>\n",
       "    </tr>\n",
       "    <tr>\n",
       "      <th>1</th>\n",
       "      <td>52</td>\n",
       "      <td>63</td>\n",
       "      <td>11</td>\n",
       "      <td>3</td>\n",
       "    </tr>\n",
       "    <tr>\n",
       "      <th>2</th>\n",
       "      <td>55</td>\n",
       "      <td>68</td>\n",
       "      <td>13</td>\n",
       "      <td>4</td>\n",
       "    </tr>\n",
       "    <tr>\n",
       "      <th>3</th>\n",
       "      <td>61</td>\n",
       "      <td>59</td>\n",
       "      <td>-2</td>\n",
       "      <td>1</td>\n",
       "    </tr>\n",
       "    <tr>\n",
       "      <th>4</th>\n",
       "      <td>59</td>\n",
       "      <td>84</td>\n",
       "      <td>25</td>\n",
       "      <td>6</td>\n",
       "    </tr>\n",
       "    <tr>\n",
       "      <th>5</th>\n",
       "      <td>45</td>\n",
       "      <td>37</td>\n",
       "      <td>-8</td>\n",
       "      <td>2</td>\n",
       "    </tr>\n",
       "  </tbody>\n",
       "</table>\n",
       "</div>"
      ],
      "text/plain": [
       "    전   후   차  순위\n",
       "0  59  41 -18   5\n",
       "1  52  63  11   3\n",
       "2  55  68  13   4\n",
       "3  61  59  -2   1\n",
       "4  59  84  25   6\n",
       "5  45  37  -8   2"
      ]
     },
     "execution_count": 37,
     "metadata": {},
     "output_type": "execute_result"
    }
   ],
   "source": [
    "# scipy.stats.rankdata 로 절댓값이 작은 것부터 순서대로 순위 부여\n",
    "rank = stats.rankdata(abs(diff)).astype(int)\n",
    "toy_df['순위'] = rank\n",
    "toy_df"
   ]
  },
  {
   "cell_type": "code",
   "execution_count": 40,
   "id": "bf1f89cb",
   "metadata": {},
   "outputs": [
    {
     "data": {
      "text/plain": [
       "(8, 13)"
      ]
     },
     "execution_count": 40,
     "metadata": {},
     "output_type": "execute_result"
    }
   ],
   "source": [
    "# 차이의 부호가 음수인 것과 양수인 것의 순위합\n",
    "r_minus = np.sum((diff<0)*rank)\n",
    "r_plus = np.sum((diff>0)*rank)\n",
    "r_minus, r_plus"
   ]
  },
  {
   "cell_type": "markdown",
   "id": "fec24b65",
   "metadata": {},
   "source": [
    "이 때 **더 작은 쪽**이 검정통계량이 되며, 이 값이 임계값보다 작은 경우에 귀무가설 기각하는 단측검정 수행\n",
    "\n",
    "- 편향이 있을수록 두 값에도 편향이 생기고, 검정통계량은 작은 값이 된다."
   ]
  },
  {
   "cell_type": "code",
   "execution_count": 41,
   "id": "e6978ef4",
   "metadata": {},
   "outputs": [
    {
     "data": {
      "text/plain": [
       "0.03623390197753906"
      ]
     },
     "execution_count": 41,
     "metadata": {},
     "output_type": "execute_result"
    }
   ],
   "source": [
    "# 두 개의 표본을 넣어도 되고\n",
    "T, p = stats.wilcoxon(training_rel['전'], training_rel['후'])\n",
    "p"
   ]
  },
  {
   "cell_type": "code",
   "execution_count": 42,
   "id": "9c5424b7",
   "metadata": {},
   "outputs": [
    {
     "data": {
      "text/plain": [
       "0.03623390197753906"
      ]
     },
     "execution_count": 42,
     "metadata": {},
     "output_type": "execute_result"
    }
   ],
   "source": [
    "# 전후 차이를 직접 넣어도 된다.\n",
    "T, p = stats.wilcoxon(training_rel['전'] - training_rel['후'])\n",
    "p"
   ]
  },
  {
   "cell_type": "markdown",
   "id": "c5a22678",
   "metadata": {},
   "source": [
    "p-value가 유의수준 5%보다 작으므로 귀무가설 기각 (중앙값의 차이가 유의미하다.)"
   ]
  },
  {
   "cell_type": "markdown",
   "id": "f2ec14d5",
   "metadata": {},
   "source": [
    "#### 모집단이 정규분포일 경우에도 사용할 수 있으나 검정력이 낮음"
   ]
  },
  {
   "cell_type": "code",
   "execution_count": 43,
   "id": "315444fd",
   "metadata": {},
   "outputs": [],
   "source": [
    "# 차이가 N(3, 16)을 따르고 표본 크기가 20인 10000개의 표본 데이터 생성\n",
    "n = 10000\n",
    "diffs = np.round(stats.norm(3,4).rvs(size=(n, 20)))"
   ]
  },
  {
   "cell_type": "code",
   "execution_count": 44,
   "id": "133631fa",
   "metadata": {},
   "outputs": [
    {
     "data": {
      "text/plain": [
       "0.883"
      ]
     },
     "execution_count": 44,
     "metadata": {},
     "output_type": "execute_result"
    }
   ],
   "source": [
    "# 대응비교 t 검정의 검정력\n",
    "cnt = 0\n",
    "alpha = 0.05\n",
    "for diff in diffs:\n",
    "    t, p = stats.ttest_1samp(diff, 0)\n",
    "    if p < alpha:\n",
    "        cnt +=1\n",
    "cnt / n"
   ]
  },
  {
   "cell_type": "code",
   "execution_count": 45,
   "id": "662d8930",
   "metadata": {},
   "outputs": [
    {
     "name": "stderr",
     "output_type": "stream",
     "text": [
      "C:\\Users\\master\\anaconda3\\envs\\multi\\lib\\site-packages\\scipy\\stats\\morestats.py:2967: UserWarning: Exact p-value calculation does not work if there are ties. Switching to normal approximation.\n",
      "  warnings.warn(\"Exact p-value calculation does not work if there are \"\n"
     ]
    },
    {
     "data": {
      "text/plain": [
       "0.873"
      ]
     },
     "execution_count": 45,
     "metadata": {},
     "output_type": "execute_result"
    }
   ],
   "source": [
    "# 윌콕슨의 부호순위검정의 검정력\n",
    "cnt = 0\n",
    "alpha = 0.05\n",
    "for diff in diffs:\n",
    "    T, p = stats.wilcoxon(diff)\n",
    "    if p < alpha:\n",
    "        cnt += 1\n",
    "cnt / n"
   ]
  },
  {
   "cell_type": "markdown",
   "id": "173628a7",
   "metadata": {},
   "source": [
    "## 3-4. 만 위트니의 U 검정\n",
    "- 대응되는 데이터가 없는 2표본 모집단에 정규분포를 가정할 수 없는 경우 **중앙값의 차이**에 대한 검정\n",
    "    - 윌콕슨의 순위합검정이라고도 함"
   ]
  },
  {
   "cell_type": "code",
   "execution_count": 48,
   "id": "2a490339",
   "metadata": {},
   "outputs": [
    {
     "data": {
      "text/html": [
       "<div>\n",
       "<style scoped>\n",
       "    .dataframe tbody tr th:only-of-type {\n",
       "        vertical-align: middle;\n",
       "    }\n",
       "\n",
       "    .dataframe tbody tr th {\n",
       "        vertical-align: top;\n",
       "    }\n",
       "\n",
       "    .dataframe thead th {\n",
       "        text-align: right;\n",
       "    }\n",
       "</style>\n",
       "<table border=\"1\" class=\"dataframe\">\n",
       "  <thead>\n",
       "    <tr style=\"text-align: right;\">\n",
       "      <th></th>\n",
       "      <th>A</th>\n",
       "      <th>B</th>\n",
       "    </tr>\n",
       "  </thead>\n",
       "  <tbody>\n",
       "    <tr>\n",
       "      <th>0</th>\n",
       "      <td>47</td>\n",
       "      <td>49</td>\n",
       "    </tr>\n",
       "    <tr>\n",
       "      <th>1</th>\n",
       "      <td>50</td>\n",
       "      <td>52</td>\n",
       "    </tr>\n",
       "    <tr>\n",
       "      <th>2</th>\n",
       "      <td>37</td>\n",
       "      <td>54</td>\n",
       "    </tr>\n",
       "    <tr>\n",
       "      <th>3</th>\n",
       "      <td>60</td>\n",
       "      <td>48</td>\n",
       "    </tr>\n",
       "    <tr>\n",
       "      <th>4</th>\n",
       "      <td>39</td>\n",
       "      <td>51</td>\n",
       "    </tr>\n",
       "  </tbody>\n",
       "</table>\n",
       "</div>"
      ],
      "text/plain": [
       "    A   B\n",
       "0  47  49\n",
       "1  50  52\n",
       "2  37  54\n",
       "3  60  48\n",
       "4  39  51"
      ]
     },
     "execution_count": 48,
     "metadata": {},
     "output_type": "execute_result"
    }
   ],
   "source": [
    "training_ind = pd.read_csv('./data/ch11_training_ind.csv')\n",
    "toy_df = training_ind[:5].copy()\n",
    "toy_df"
   ]
  },
  {
   "cell_type": "markdown",
   "id": "f41c442c",
   "metadata": {},
   "source": [
    "데이터 전체에 대해서 값이 작은대로 순위를 부여"
   ]
  },
  {
   "cell_type": "code",
   "execution_count": 49,
   "id": "f933591d",
   "metadata": {},
   "outputs": [
    {
     "data": {
      "text/html": [
       "<div>\n",
       "<style scoped>\n",
       "    .dataframe tbody tr th:only-of-type {\n",
       "        vertical-align: middle;\n",
       "    }\n",
       "\n",
       "    .dataframe tbody tr th {\n",
       "        vertical-align: top;\n",
       "    }\n",
       "\n",
       "    .dataframe thead th {\n",
       "        text-align: right;\n",
       "    }\n",
       "</style>\n",
       "<table border=\"1\" class=\"dataframe\">\n",
       "  <thead>\n",
       "    <tr style=\"text-align: right;\">\n",
       "      <th></th>\n",
       "      <th>A</th>\n",
       "      <th>B</th>\n",
       "    </tr>\n",
       "  </thead>\n",
       "  <tbody>\n",
       "    <tr>\n",
       "      <th>0</th>\n",
       "      <td>3</td>\n",
       "      <td>5</td>\n",
       "    </tr>\n",
       "    <tr>\n",
       "      <th>1</th>\n",
       "      <td>6</td>\n",
       "      <td>8</td>\n",
       "    </tr>\n",
       "    <tr>\n",
       "      <th>2</th>\n",
       "      <td>1</td>\n",
       "      <td>9</td>\n",
       "    </tr>\n",
       "    <tr>\n",
       "      <th>3</th>\n",
       "      <td>10</td>\n",
       "      <td>4</td>\n",
       "    </tr>\n",
       "    <tr>\n",
       "      <th>4</th>\n",
       "      <td>2</td>\n",
       "      <td>7</td>\n",
       "    </tr>\n",
       "  </tbody>\n",
       "</table>\n",
       "</div>"
      ],
      "text/plain": [
       "    A  B\n",
       "0   3  5\n",
       "1   6  8\n",
       "2   1  9\n",
       "3  10  4\n",
       "4   2  7"
      ]
     },
     "execution_count": 49,
     "metadata": {},
     "output_type": "execute_result"
    }
   ],
   "source": [
    "rank = stats.rankdata(np.concatenate([toy_df['A'], toy_df['B']]))\n",
    "rank_df = pd.DataFrame({'A':rank[:5], 'B':rank[5:10]}).astype(int)\n",
    "rank_df"
   ]
  },
  {
   "cell_type": "markdown",
   "id": "2205decc",
   "metadata": {},
   "source": [
    "U가 0이든 큰 값이든 편향을 갖고 있으므로 양측검정 수행\n",
    "- 검정통계량에 **A의 순위합**을 사용 (B의 순위합을 사용해도 상관없음)\n",
    "- A에 좋은 순위가 몰려있으면 값이 작아지고, 나쁜 순위가 몰려있으면 커지는 것처럼 데이터의 편향을 잘 반영하기 때문\n",
    "- U 검정의 검정통계량은 **A에 관한 순위합에서 A의 크기를 $n_1$으로 해서 $\\dfrac{n_1(n_1+1)}{2}$을 뺀 것**"
   ]
  },
  {
   "cell_type": "code",
   "execution_count": 50,
   "id": "73294646",
   "metadata": {},
   "outputs": [
    {
     "data": {
      "text/plain": [
       "7.0"
      ]
     },
     "execution_count": 50,
     "metadata": {},
     "output_type": "execute_result"
    }
   ],
   "source": [
    "n1 = len(rank_df['A'])\n",
    "u = rank_df['A'].sum() - (n1*(n1+1))/2\n",
    "u"
   ]
  },
  {
   "cell_type": "code",
   "execution_count": 51,
   "id": "9568ae3e",
   "metadata": {},
   "outputs": [
    {
     "data": {
      "text/plain": [
       "0.05948611166127324"
      ]
     },
     "execution_count": 51,
     "metadata": {},
     "output_type": "execute_result"
    }
   ],
   "source": [
    "u, p = stats.mannwhitneyu(training_ind['A'], training_ind['B'], alternative = 'two-sided')\n",
    "p"
   ]
  },
  {
   "cell_type": "markdown",
   "id": "0e35dc4f",
   "metadata": {},
   "source": [
    "p-value가 유의수준 5%보다 크므로 귀무가설 채택 (유의미한 차이가 없다.)"
   ]
  },
  {
   "cell_type": "markdown",
   "id": "23df9d21",
   "metadata": {},
   "source": [
    "## 3-5. 카이제곱검정\n",
    "- 독립성 검정\n",
    "    - 귀무가설 : X, Y가 독립이다.\n",
    "    - 대립가설 : X, Y가 독립이 아니다.\n",
    "\n",
    "- 예시에서는 X는 광고, Y는 상품 구입 비율"
   ]
  },
  {
   "cell_type": "markdown",
   "id": "b488a876",
   "metadata": {},
   "source": [
    "광고 A와 B를 한 결과 상품 구입 비율에 유의한 차이가 있는지 검정"
   ]
  },
  {
   "cell_type": "code",
   "execution_count": 52,
   "id": "30df2f69",
   "metadata": {},
   "outputs": [
    {
     "name": "stdout",
     "output_type": "stream",
     "text": [
      "1000\n"
     ]
    },
    {
     "data": {
      "text/html": [
       "<div>\n",
       "<style scoped>\n",
       "    .dataframe tbody tr th:only-of-type {\n",
       "        vertical-align: middle;\n",
       "    }\n",
       "\n",
       "    .dataframe tbody tr th {\n",
       "        vertical-align: top;\n",
       "    }\n",
       "\n",
       "    .dataframe thead th {\n",
       "        text-align: right;\n",
       "    }\n",
       "</style>\n",
       "<table border=\"1\" class=\"dataframe\">\n",
       "  <thead>\n",
       "    <tr style=\"text-align: right;\">\n",
       "      <th></th>\n",
       "      <th>광고</th>\n",
       "      <th>구입</th>\n",
       "    </tr>\n",
       "  </thead>\n",
       "  <tbody>\n",
       "    <tr>\n",
       "      <th>0</th>\n",
       "      <td>B</td>\n",
       "      <td>하지 않았다</td>\n",
       "    </tr>\n",
       "    <tr>\n",
       "      <th>1</th>\n",
       "      <td>B</td>\n",
       "      <td>하지 않았다</td>\n",
       "    </tr>\n",
       "    <tr>\n",
       "      <th>2</th>\n",
       "      <td>A</td>\n",
       "      <td>했다</td>\n",
       "    </tr>\n",
       "    <tr>\n",
       "      <th>3</th>\n",
       "      <td>A</td>\n",
       "      <td>했다</td>\n",
       "    </tr>\n",
       "    <tr>\n",
       "      <th>4</th>\n",
       "      <td>B</td>\n",
       "      <td>하지 않았다</td>\n",
       "    </tr>\n",
       "  </tbody>\n",
       "</table>\n",
       "</div>"
      ],
      "text/plain": [
       "  광고      구입\n",
       "0  B  하지 않았다\n",
       "1  B  하지 않았다\n",
       "2  A      했다\n",
       "3  A      했다\n",
       "4  B  하지 않았다"
      ]
     },
     "execution_count": 52,
     "metadata": {},
     "output_type": "execute_result"
    }
   ],
   "source": [
    "ad_df = pd.read_csv('./data/ch11_ad.csv')\n",
    "n = len(ad_df)\n",
    "print(n)\n",
    "ad_df.head()"
   ]
  },
  {
   "cell_type": "code",
   "execution_count": 53,
   "id": "1c8add20",
   "metadata": {},
   "outputs": [
    {
     "data": {
      "text/html": [
       "<div>\n",
       "<style scoped>\n",
       "    .dataframe tbody tr th:only-of-type {\n",
       "        vertical-align: middle;\n",
       "    }\n",
       "\n",
       "    .dataframe tbody tr th {\n",
       "        vertical-align: top;\n",
       "    }\n",
       "\n",
       "    .dataframe thead th {\n",
       "        text-align: right;\n",
       "    }\n",
       "</style>\n",
       "<table border=\"1\" class=\"dataframe\">\n",
       "  <thead>\n",
       "    <tr style=\"text-align: right;\">\n",
       "      <th>구입</th>\n",
       "      <th>하지 않았다</th>\n",
       "      <th>했다</th>\n",
       "    </tr>\n",
       "    <tr>\n",
       "      <th>광고</th>\n",
       "      <th></th>\n",
       "      <th></th>\n",
       "    </tr>\n",
       "  </thead>\n",
       "  <tbody>\n",
       "    <tr>\n",
       "      <th>A</th>\n",
       "      <td>351</td>\n",
       "      <td>49</td>\n",
       "    </tr>\n",
       "    <tr>\n",
       "      <th>B</th>\n",
       "      <td>549</td>\n",
       "      <td>51</td>\n",
       "    </tr>\n",
       "  </tbody>\n",
       "</table>\n",
       "</div>"
      ],
      "text/plain": [
       "구입  하지 않았다  했다\n",
       "광고            \n",
       "A      351  49\n",
       "B      549  51"
      ]
     },
     "execution_count": 53,
     "metadata": {},
     "output_type": "execute_result"
    }
   ],
   "source": [
    "# 분할표\n",
    "ad_cross = pd.crosstab(ad_df['광고'], ad_df['구입'])\n",
    "ad_cross"
   ]
  },
  {
   "cell_type": "code",
   "execution_count": 54,
   "id": "c81d7b68",
   "metadata": {},
   "outputs": [
    {
     "data": {
      "text/plain": [
       "광고\n",
       "A    0.1225\n",
       "B    0.0850\n",
       "dtype: float64"
      ]
     },
     "execution_count": 54,
     "metadata": {},
     "output_type": "execute_result"
    }
   ],
   "source": [
    "ad_cross['했다'] / (ad_cross['했다'] + ad_cross['하지 않았다'])"
   ]
  },
  {
   "cell_type": "code",
   "execution_count": 55,
   "id": "db89b503",
   "metadata": {},
   "outputs": [
    {
     "data": {
      "text/plain": [
       "(900, 100)"
      ]
     },
     "execution_count": 55,
     "metadata": {},
     "output_type": "execute_result"
    }
   ],
   "source": [
    "n_not, n_yes = ad_cross.sum()\n",
    "n_not, n_yes"
   ]
  },
  {
   "cell_type": "code",
   "execution_count": 56,
   "id": "d52fc593",
   "metadata": {},
   "outputs": [
    {
     "data": {
      "text/plain": [
       "(400, 600)"
      ]
     },
     "execution_count": 56,
     "metadata": {},
     "output_type": "execute_result"
    }
   ],
   "source": [
    "n_adA, n_adB = ad_cross.sum(axis=1)\n",
    "n_adA, n_adB"
   ]
  },
  {
   "cell_type": "markdown",
   "id": "923526a9",
   "metadata": {},
   "source": [
    "- 기대도수 : 두 변수 X, Y가 독립이라고 가정했을 때, 기대되는 도수\n",
    "- 관측도수 : 실제로 관측된 도수"
   ]
  },
  {
   "cell_type": "code",
   "execution_count": 57,
   "id": "75169c04",
   "metadata": {},
   "outputs": [
    {
     "data": {
      "text/html": [
       "<div>\n",
       "<style scoped>\n",
       "    .dataframe tbody tr th:only-of-type {\n",
       "        vertical-align: middle;\n",
       "    }\n",
       "\n",
       "    .dataframe tbody tr th {\n",
       "        vertical-align: top;\n",
       "    }\n",
       "\n",
       "    .dataframe thead th {\n",
       "        text-align: right;\n",
       "    }\n",
       "</style>\n",
       "<table border=\"1\" class=\"dataframe\">\n",
       "  <thead>\n",
       "    <tr style=\"text-align: right;\">\n",
       "      <th></th>\n",
       "      <th>했다</th>\n",
       "      <th>하지 않았다</th>\n",
       "    </tr>\n",
       "  </thead>\n",
       "  <tbody>\n",
       "    <tr>\n",
       "      <th>A</th>\n",
       "      <td>40.0</td>\n",
       "      <td>360.0</td>\n",
       "    </tr>\n",
       "    <tr>\n",
       "      <th>B</th>\n",
       "      <td>60.0</td>\n",
       "      <td>540.0</td>\n",
       "    </tr>\n",
       "  </tbody>\n",
       "</table>\n",
       "</div>"
      ],
      "text/plain": [
       "     했다  하지 않았다\n",
       "A  40.0   360.0\n",
       "B  60.0   540.0"
      ]
     },
     "execution_count": 57,
     "metadata": {},
     "output_type": "execute_result"
    }
   ],
   "source": [
    "# 기대도수\n",
    "ad_ef = pd.DataFrame({'했다':[n_adA * n_yes / n, n_adB * n_yes / n], \n",
    "                      '하지 않았다':[n_adA * n_not / n, n_adB * n_not / n]},\n",
    "                    index = ['A', 'B'])\n",
    "ad_ef"
   ]
  },
  {
   "cell_type": "markdown",
   "id": "9461d04f",
   "metadata": {},
   "source": [
    "검정통계량 $Y = \\sum_{i} \\sum_j \\dfrac{\\left( O_{ij}-E_{ij}\\right)^2}{E_{ij}}$  \n",
    "$O_{ij}, E_{ij}$는 각각 관측도수와 기대도수의 $i$행 $j$열의 성분  \n",
    "$Y$는 자유도가 1인 카이제곱분포를 근사적으로 따름"
   ]
  },
  {
   "cell_type": "code",
   "execution_count": 58,
   "id": "cff825b5",
   "metadata": {},
   "outputs": [
    {
     "data": {
      "text/plain": [
       "3.75"
      ]
     },
     "execution_count": 58,
     "metadata": {},
     "output_type": "execute_result"
    }
   ],
   "source": [
    "y = ((ad_cross - ad_ef) ** 2 / ad_ef).sum().sum()\n",
    "y"
   ]
  },
  {
   "cell_type": "code",
   "execution_count": 59,
   "id": "a1a29553",
   "metadata": {},
   "outputs": [
    {
     "data": {
      "text/plain": [
       "0.052807511416113395"
      ]
     },
     "execution_count": 59,
     "metadata": {},
     "output_type": "execute_result"
    }
   ],
   "source": [
    "rv = stats.chi2(1)\n",
    "1 - rv.cdf(y)"
   ]
  },
  {
   "cell_type": "markdown",
   "id": "df141911",
   "metadata": {},
   "source": [
    "p-value가 유의수준 5%보다 크므로 귀무가설 채택 (광고의 종류와 구매수는 독립이다, 즉 A와 B의 유의한 차이가 없다)"
   ]
  },
  {
   "cell_type": "code",
   "execution_count": 60,
   "id": "b4feb2fc",
   "metadata": {},
   "outputs": [
    {
     "data": {
      "text/plain": [
       "(3.75, 0.052807511416113395, 1)"
      ]
     },
     "execution_count": 60,
     "metadata": {},
     "output_type": "execute_result"
    }
   ],
   "source": [
    "chi2, p, dof, ef = stats.chi2_contingency(ad_cross, correction=False)\n",
    "chi2, p, dof"
   ]
  },
  {
   "cell_type": "code",
   "execution_count": 61,
   "id": "1a234e9c",
   "metadata": {},
   "outputs": [
    {
     "data": {
      "text/plain": [
       "array([[360.,  40.],\n",
       "       [540.,  60.]])"
      ]
     },
     "execution_count": 61,
     "metadata": {},
     "output_type": "execute_result"
    }
   ],
   "source": [
    "ef"
   ]
  },
  {
   "cell_type": "code",
   "execution_count": null,
   "id": "fe9e45ab",
   "metadata": {},
   "outputs": [],
   "source": []
  }
 ],
 "metadata": {
  "kernelspec": {
   "display_name": "Python Multi",
   "language": "python",
   "name": "multi"
  },
  "language_info": {
   "codemirror_mode": {
    "name": "ipython",
    "version": 3
   },
   "file_extension": ".py",
   "mimetype": "text/x-python",
   "name": "python",
   "nbconvert_exporter": "python",
   "pygments_lexer": "ipython3",
   "version": "3.7.6"
  }
 },
 "nbformat": 4,
 "nbformat_minor": 5
}
