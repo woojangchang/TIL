{
 "cells": [
  {
   "cell_type": "markdown",
   "id": "c5e2f367",
   "metadata": {},
   "source": [
    "https://www.youtube.com/watch?v=P-uWx2SRqoc"
   ]
  },
  {
   "cell_type": "markdown",
   "id": "c508328d",
   "metadata": {},
   "source": [
    "# Properties of Pascal's Triangle"
   ]
  },
  {
   "cell_type": "markdown",
   "id": "6b8ea1be",
   "metadata": {},
   "source": [
    "## Make Pascal's Triangle"
   ]
  },
  {
   "cell_type": "code",
   "execution_count": 1,
   "id": "a81faea6",
   "metadata": {},
   "outputs": [],
   "source": [
    "def make_traingle(n):\n",
    "    T = [[0] * (i+1) for i in range(n+1)]\n",
    "    for i in range(len(T)):\n",
    "        for j in range(len(T[i])):\n",
    "            if j == 0 or j == i:\n",
    "                T[i][j] = 1\n",
    "            else:\n",
    "                T[i][j] = T[i-1][j-1] + T[i-1][j]\n",
    "    return T"
   ]
  },
  {
   "cell_type": "code",
   "execution_count": 3,
   "id": "e174ee9f",
   "metadata": {},
   "outputs": [
    {
     "name": "stdout",
     "output_type": "stream",
     "text": [
      "Input the number of n: 15\n",
      "1 \n",
      "1 1 \n",
      "1 2 1 \n",
      "1 3 3 1 \n",
      "1 4 6 4 1 \n",
      "1 5 10 10 5 1 \n",
      "1 6 15 20 15 6 1 \n",
      "1 7 21 35 35 21 7 1 \n",
      "1 8 28 56 70 56 28 8 1 \n",
      "1 9 36 84 126 126 84 36 9 1 \n",
      "1 10 45 120 210 252 210 120 45 10 1 \n",
      "1 11 55 165 330 462 462 330 165 55 11 1 \n",
      "1 12 66 220 495 792 924 792 495 220 66 12 1 \n",
      "1 13 78 286 715 1287 1716 1716 1287 715 286 78 13 1 \n",
      "1 14 91 364 1001 2002 3003 3432 3003 2002 1001 364 91 14 1 \n",
      "1 15 105 455 1365 3003 5005 6435 6435 5005 3003 1365 455 105 15 1 \n"
     ]
    }
   ],
   "source": [
    "n = int(input(\"Input the number of n: \"))\n",
    "T = make_traingle(n)\n",
    "for i in range(len(T)):\n",
    "    for j in range(len(T[i])):\n",
    "        print(T[i][j], end=' ')\n",
    "    print()"
   ]
  },
  {
   "cell_type": "markdown",
   "id": "6d39c394",
   "metadata": {},
   "source": [
    "## 1. $_nC_k$=`T[n][k]`\n",
    "$ \\because {_nC_k} = {_{n-1}C_{k-1}} + {_{n-1}C_k} $ ⇔ `T[n][k] = T[n-1][k-1] + T[n-1][k]`"
   ]
  },
  {
   "cell_type": "code",
   "execution_count": 4,
   "id": "d8c9b4fa",
   "metadata": {},
   "outputs": [
    {
     "name": "stdout",
     "output_type": "stream",
     "text": [
      "1 \n",
      "1 1 \n",
      "1 2 1 \n",
      "1 3 3 1 \n",
      "1 4 6 4 1 \n",
      "1 5 10 10 5 1 \n",
      "1 6 15 20 15 6 1 \n",
      "1 7 21 35 35 21 7 1 \n",
      "1 8 28 56 70 56 28 8 1 \n",
      "1 9 36 84 126 126 84 36 9 1 \n",
      "1 10 45 120 210 252 210 120 45 10 1 \n",
      "1 11 55 165 330 462 462 330 165 55 11 1 \n",
      "1 12 66 220 495 792 924 792 495 220 66 12 1 \n",
      "1 13 78 286 715 1287 1716 1716 1287 715 286 78 13 1 \n",
      "1 14 91 364 1001 2002 3003 3432 3003 2002 1001 364 91 14 1 \n",
      "1 15 105 455 1365 3003 5005 6435 6435 5005 3003 1365 455 105 15 1 \n"
     ]
    }
   ],
   "source": [
    "from math import factorial\n",
    "\n",
    "def nCk(n, k):\n",
    "    # nCk = n! / (n-k)! k!\n",
    "    nCk = factorial(n) // factorial(n-k) // factorial(k)\n",
    "    return nCk\n",
    "\n",
    "for i in range(n+1):\n",
    "    for j in range(i+1):\n",
    "        iCj = nCk(i, j)\n",
    "        print(iCj, end=' ')\n",
    "    print()"
   ]
  },
  {
   "cell_type": "markdown",
   "id": "ca8ceb3b",
   "metadata": {},
   "source": [
    "## 2. $\\sum_{j=0}^{i}$ `T[i][j]` $=2^i$"
   ]
  },
  {
   "cell_type": "code",
   "execution_count": 6,
   "id": "a6e2ae15",
   "metadata": {},
   "outputs": [
    {
     "name": "stdout",
     "output_type": "stream",
     "text": [
      "1 2 4 8 16 32 64 128 256 512 1024 2048 4096 8192 16384 32768 "
     ]
    }
   ],
   "source": [
    "for i in range(n+1):\n",
    "    print(sum(T[i]), end=' ')"
   ]
  },
  {
   "cell_type": "code",
   "execution_count": 7,
   "id": "1b4c5fdc",
   "metadata": {},
   "outputs": [
    {
     "name": "stdout",
     "output_type": "stream",
     "text": [
      "1 2 4 8 16 32 64 128 256 512 1024 2048 4096 8192 16384 32768 "
     ]
    }
   ],
   "source": [
    "for i in range(n+1):\n",
    "    print(2**i, end=' ')"
   ]
  },
  {
   "cell_type": "markdown",
   "id": "4e02150f",
   "metadata": {},
   "source": [
    "## 3. 한 행의 숫자들에 각각 $10^j$(j는 자기 위치)만큼 곱해줘서 더했을 때\n",
    "- 1 = 1\n",
    "- 1 1 = 11\n",
    "- 1 2 1 = 121\n",
    "- 1 3 3 1 = 1331\n",
    "- 1 4 6 4 1 = 14641\n",
    "- 1 5 10 10 5 1 = 1\\*10^5 + 5\\*10^4 + 10\\*10^3 + 10\\*10^2 + 5\\*10^1 + 1\\*10^0 = 161051  \n",
    "..."
   ]
  },
  {
   "cell_type": "code",
   "execution_count": 10,
   "id": "5fba036d",
   "metadata": {},
   "outputs": [
    {
     "name": "stdout",
     "output_type": "stream",
     "text": [
      "1 11 121 1331 14641 161051 1771561 19487171 214358881 2357947691 25937424601 285311670611 3138428376721 34522712143931 379749833583241 4177248169415651 "
     ]
    }
   ],
   "source": [
    "for i in range(n+1):\n",
    "    S = 0\n",
    "    for j in range(i+1):\n",
    "        S += T[i][j] * 10 ** (i-j)\n",
    "    print(S, end=' ')"
   ]
  },
  {
   "cell_type": "code",
   "execution_count": 12,
   "id": "1a110b88",
   "metadata": {},
   "outputs": [
    {
     "name": "stdout",
     "output_type": "stream",
     "text": [
      "1 11 121 1331 14641 161051 1771561 19487171 214358881 2357947691 25937424601 285311670611 3138428376721 34522712143931 379749833583241 4177248169415651 "
     ]
    }
   ],
   "source": [
    "for i in range(n+1):\n",
    "    print(11**i, end=' ')"
   ]
  },
  {
   "cell_type": "markdown",
   "id": "652b5b12",
   "metadata": {},
   "source": [
    "$\\because {_nC_n} \\times 10^n + {_nC_{n-1}} \\times 10^{n-1} + ... + {_nC_1} \\times 10^1 + {_nC_0} \\times 10^0$  \n",
    "$={_nC_n} \\times 10^n \\times 1^0 + {_nC_{n-1}} \\times 10^{n-1} \\times 1^1 + ... + {_nC_1} \\times 10^1 \\times 1^{n-1}+ {_nC_0} \\times 10^0 \\times 1^n$  \n",
    "$=(10+1)^n=11^n$"
   ]
  },
  {
   "cell_type": "markdown",
   "id": "511dbfb1",
   "metadata": {},
   "source": [
    "## 4. n번째 행의 첫 항부터 대각선 위로 더했을 때"
   ]
  },
  {
   "cell_type": "code",
   "execution_count": 18,
   "id": "1772d51b",
   "metadata": {},
   "outputs": [
    {
     "name": "stdout",
     "output_type": "stream",
     "text": [
      "1 1 2 3 5 8 13 21 34 55 89 144 233 377 610 987 "
     ]
    }
   ],
   "source": [
    "for i in range(n+1):\n",
    "    row, col = i, 0\n",
    "    S = 0\n",
    "    while row >= 0 and col <= row:\n",
    "        S += T[row][col]\n",
    "        row, col = row - 1, col + 1\n",
    "    print(S, end=' ')"
   ]
  },
  {
   "cell_type": "code",
   "execution_count": 19,
   "id": "5092ae9b",
   "metadata": {},
   "outputs": [
    {
     "name": "stdout",
     "output_type": "stream",
     "text": [
      "1 1 2 3 5 8 13 21 34 55 89 144 233 377 610 987 "
     ]
    }
   ],
   "source": [
    "a, b = 1, 1\n",
    "print(a, end=' ')\n",
    "print(b, end=' ')\n",
    "for i in range(n-1):\n",
    "    a, b = b, a+b\n",
    "    print(b, end=' ')"
   ]
  },
  {
   "cell_type": "markdown",
   "id": "573d0ca4",
   "metadata": {},
   "source": [
    "피보나치 수열이 된다."
   ]
  },
  {
   "cell_type": "markdown",
   "id": "8798f8a7",
   "metadata": {},
   "source": [
    "## 5. n번째 행의 숫자를 n으로 나눈 나머지(n>=2)"
   ]
  },
  {
   "cell_type": "code",
   "execution_count": 22,
   "id": "151935bd",
   "metadata": {},
   "outputs": [
    {
     "name": "stdout",
     "output_type": "stream",
     "text": [
      " 2: 1 0 1 \n",
      " 3: 1 0 0 1 \n",
      " 4: 1 0 2 0 1 \n",
      " 5: 1 0 0 0 0 1 \n",
      " 6: 1 0 3 2 3 0 1 \n",
      " 7: 1 0 0 0 0 0 0 1 \n",
      " 8: 1 0 4 0 6 0 4 0 1 \n",
      " 9: 1 0 0 3 0 0 3 0 0 1 \n",
      "10: 1 0 5 0 0 2 0 0 5 0 1 \n",
      "11: 1 0 0 0 0 0 0 0 0 0 0 1 \n",
      "12: 1 0 6 4 3 0 0 0 3 4 6 0 1 \n",
      "13: 1 0 0 0 0 0 0 0 0 0 0 0 0 1 \n",
      "14: 1 0 7 0 7 0 7 2 7 0 7 0 7 0 1 \n",
      "15: 1 0 0 5 0 3 10 0 0 10 3 0 5 0 0 1 \n"
     ]
    }
   ],
   "source": [
    "for i in range(2, n+1):\n",
    "    print(f'{i:2d}', end=': ')\n",
    "    for j in range(i+1):\n",
    "        print(T[i][j] % i, end=' ')\n",
    "    print()"
   ]
  },
  {
   "cell_type": "code",
   "execution_count": 23,
   "id": "ada45e45",
   "metadata": {},
   "outputs": [],
   "source": [
    "def is_prime(n):\n",
    "    for i in range(2, int(n**0.5)+1):\n",
    "        if n % i == 0:\n",
    "            return False\n",
    "    return True"
   ]
  },
  {
   "cell_type": "code",
   "execution_count": 25,
   "id": "f8bf864b",
   "metadata": {},
   "outputs": [
    {
     "name": "stdout",
     "output_type": "stream",
     "text": [
      " 2: 0 \n",
      " 3: 0 0 \n",
      " 5: 0 0 0 0 \n",
      " 7: 0 0 0 0 0 0 \n",
      "11: 0 0 0 0 0 0 0 0 0 0 \n",
      "13: 0 0 0 0 0 0 0 0 0 0 0 0 \n"
     ]
    }
   ],
   "source": [
    "for i in range(2, n+1):\n",
    "    if is_prime(i):\n",
    "        print(f'{i:2d}', end=': ')\n",
    "        for j in range(1, i):\n",
    "            print(T[i][j] % i, end=' ')\n",
    "        print()"
   ]
  },
  {
   "cell_type": "markdown",
   "id": "64079306",
   "metadata": {},
   "source": [
    "소수 p행의 1을 제외한 숫자들은 모두 p의 배수  \n",
    "\\>> 아주 큰 소수를 발견하는 데 도움이 됨"
   ]
  }
 ],
 "metadata": {
  "kernelspec": {
   "display_name": "Python Multi",
   "language": "python",
   "name": "multi"
  },
  "language_info": {
   "codemirror_mode": {
    "name": "ipython",
    "version": 3
   },
   "file_extension": ".py",
   "mimetype": "text/x-python",
   "name": "python",
   "nbconvert_exporter": "python",
   "pygments_lexer": "ipython3",
   "version": "3.7.6"
  },
  "toc": {
   "base_numbering": 1,
   "nav_menu": {},
   "number_sections": false,
   "sideBar": true,
   "skip_h1_title": false,
   "title_cell": "Table of Contents",
   "title_sidebar": "Contents",
   "toc_cell": false,
   "toc_position": {},
   "toc_section_display": true,
   "toc_window_display": false
  }
 },
 "nbformat": 4,
 "nbformat_minor": 5
}
