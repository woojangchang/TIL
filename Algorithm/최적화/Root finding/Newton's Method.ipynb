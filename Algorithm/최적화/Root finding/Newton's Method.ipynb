{
 "cells": [
  {
   "cell_type": "markdown",
   "id": "35fafc86",
   "metadata": {},
   "source": [
    "# Newton's Method\n",
    "\n",
    "함수 $f(x)$가 해 $x*$ 근처에서 연속이고 미분가능할 때\n",
    "- $x_{n+1} = x_{n} - \\frac{f(x_n)}{f'(x_n)}, \\, f'(x_n) \\ne 0$\n",
    "- $|x_{n+1}-x_{n}| \\le \\text{tol}$일 때까지 반복, `tol`은 임의의 작은 수"
   ]
  },
  {
   "cell_type": "markdown",
   "id": "579ca8b2",
   "metadata": {},
   "source": [
    "## 장단점\n",
    "- Bisection Method보다 빠르다.\n",
    "- 과정 중 $f'(x_n)=0$이 되는 지점이 나오면 탐색이 불가능해짐\n",
    "- 연속이고 미분 가능하다는 조건이 반드시 필요함\n",
    "- 초기 기울기가 0에 가까울 때 해로부터 멀리 떨어지게 됨"
   ]
  },
  {
   "cell_type": "markdown",
   "id": "f72c6beb",
   "metadata": {},
   "source": [
    "# 코드 구현"
   ]
  },
  {
   "cell_type": "code",
   "execution_count": 29,
   "id": "8a67be08",
   "metadata": {},
   "outputs": [],
   "source": [
    "def derivative(func, x):\n",
    "    delta_x = 1e-4\n",
    "    fx_plus_delta = func(x + delta_x)\n",
    "    fx_minus_delta = func(x - delta_x)\n",
    "    \n",
    "    return (fx_plus_delta - fx_minus_delta) / (2 * delta_x)\n",
    "\n",
    "class newton:\n",
    "    \n",
    "    def __init__(self, xn, func, tol=1e-6):\n",
    "        self.xn = xn\n",
    "        self.func = func\n",
    "        self.tol = tol\n",
    "        \n",
    "    def solve(self):\n",
    "        history = [self.xn]\n",
    "        \n",
    "        while True:\n",
    "            f_prime_xn = derivative(self.func, self.xn)\n",
    "            \n",
    "            # 미분값이 0에 매우 가까운 경우, xn에 noise를 더하여 빠져나오기\n",
    "            if abs(f_prime_xn) <= 1e-1:\n",
    "                self.xn += self.tol\n",
    "                continue\n",
    "                \n",
    "            xn1 = self.xn - self.func(self.xn) / f_prime_xn\n",
    "            \n",
    "            # xn+1과 xn 차이가 tol 이하인 경우\n",
    "            if abs(xn1 - self.xn) <= self.tol:\n",
    "                self.solution = xn1\n",
    "                self.history = history\n",
    "                return xn1\n",
    "            \n",
    "            self.xn = xn1\n",
    "            history.append(xn1)"
   ]
  },
  {
   "cell_type": "code",
   "execution_count": 30,
   "id": "4a050551",
   "metadata": {},
   "outputs": [],
   "source": [
    "import math\n",
    "\n",
    "def f(x):\n",
    "    return math.sin(math.cos(math.exp(x)))"
   ]
  },
  {
   "cell_type": "code",
   "execution_count": 31,
   "id": "bd57d3c8",
   "metadata": {},
   "outputs": [],
   "source": [
    "import matplotlib.pyplot as plt\n",
    "import numpy as np\n",
    "\n",
    "xs = np.arange(-2, 2+0.01, 0.01)\n",
    "ys = np.array([f(x) for x in xs])"
   ]
  },
  {
   "cell_type": "code",
   "execution_count": 32,
   "id": "b02575ff",
   "metadata": {},
   "outputs": [
    {
     "data": {
      "image/png": "[encoded data removed]",
      "text/plain": [
       "<Figure size 432x216 with 1 Axes>"
      ]
     },
     "metadata": {
      "needs_background": "light"
     },
     "output_type": "display_data"
    }
   ],
   "source": [
    "plt.figure(figsize=(6, 3))\n",
    "plt.plot(xs, ys)\n",
    "plt.grid()\n",
    "plt.show()"
   ]
  },
  {
   "cell_type": "code",
   "execution_count": 33,
   "id": "46647843",
   "metadata": {},
   "outputs": [],
   "source": [
    "NM = newton(func=f, xn = 0.2)"
   ]
  },
  {
   "cell_type": "code",
   "execution_count": 34,
   "id": "5d131f5e",
   "metadata": {},
   "outputs": [
    {
     "data": {
      "text/plain": [
       "0.45158270528986616"
      ]
     },
     "execution_count": 34,
     "metadata": {},
     "output_type": "execute_result"
    }
   ],
   "source": [
    "NM.solve()"
   ]
  },
  {
   "cell_type": "code",
   "execution_count": 35,
   "id": "efd0ba6e",
   "metadata": {},
   "outputs": [
    {
     "data": {
      "text/plain": [
       "[0.2, 0.5105232735453394, 0.4529377649282177, 0.4515836188636482]"
      ]
     },
     "execution_count": 35,
     "metadata": {},
     "output_type": "execute_result"
    }
   ],
   "source": [
    "NM.history"
   ]
  },
  {
   "cell_type": "code",
   "execution_count": 40,
   "id": "dd6e217d",
   "metadata": {},
   "outputs": [],
   "source": [
    "def g(x):\n",
    "    return (x+1) * x * (x-1)"
   ]
  },
  {
   "cell_type": "code",
   "execution_count": 43,
   "id": "7ebf1fb8",
   "metadata": {},
   "outputs": [],
   "source": [
    "xs = np.arange(-1.5, 1.5+0.01, 0.01)\n",
    "ys = np.array([g(x) for x in xs])"
   ]
  },
  {
   "cell_type": "code",
   "execution_count": 44,
   "id": "9fee4861",
   "metadata": {},
   "outputs": [
    {
     "data": {
      "image/png": "[encoded data removed]",
      "text/plain": [
       "<Figure size 432x216 with 1 Axes>"
      ]
     },
     "metadata": {
      "needs_background": "light"
     },
     "output_type": "display_data"
    }
   ],
   "source": [
    "plt.figure(figsize=(6, 3))\n",
    "plt.plot(xs, ys)\n",
    "plt.grid()\n",
    "plt.show()"
   ]
  },
  {
   "cell_type": "code",
   "execution_count": 46,
   "id": "ab4f7182",
   "metadata": {},
   "outputs": [
    {
     "data": {
      "text/plain": [
       "1.0000056338554941e-08"
      ]
     },
     "execution_count": 46,
     "metadata": {},
     "output_type": "execute_result"
    }
   ],
   "source": [
    "derivative(g, 1/math.sqrt(3))"
   ]
  },
  {
   "cell_type": "code",
   "execution_count": 47,
   "id": "5219bbc2",
   "metadata": {},
   "outputs": [],
   "source": [
    "NM = newton(func=g, xn = 1/math.sqrt(3))"
   ]
  },
  {
   "cell_type": "code",
   "execution_count": 48,
   "id": "46555bdb",
   "metadata": {},
   "outputs": [
    {
     "data": {
      "text/plain": [
       "1.0"
      ]
     },
     "execution_count": 48,
     "metadata": {},
     "output_type": "execute_result"
    }
   ],
   "source": [
    "NM.solve()"
   ]
  },
  {
   "cell_type": "code",
   "execution_count": 49,
   "id": "bcf3351e",
   "metadata": {},
   "outputs": [
    {
     "data": {
      "text/plain": [
       "[0.5773502691896258,\n",
       " 4.440525829690732,\n",
       " 3.0112552095349914,\n",
       " 2.084117047377578,\n",
       " 1.504900843504723,\n",
       " 1.1764180965155475,\n",
       " 1.0331077084659435,\n",
       " 1.0015263584322245,\n",
       " 1.0000034822610688,\n",
       " 1.0000000000182065]"
      ]
     },
     "execution_count": 49,
     "metadata": {},
     "output_type": "execute_result"
    }
   ],
   "source": [
    "NM.history"
   ]
  },
  {
   "cell_type": "code",
   "execution_count": 55,
   "id": "5e2a9641",
   "metadata": {},
   "outputs": [
    {
     "data": {
      "text/plain": [
       "10"
      ]
     },
     "execution_count": 55,
     "metadata": {},
     "output_type": "execute_result"
    }
   ],
   "source": [
    "len(NM.history)"
   ]
  },
  {
   "cell_type": "markdown",
   "id": "a2ff4253",
   "metadata": {},
   "source": [
    "## 노이즈를 추가해주지 않는 경우"
   ]
  },
  {
   "cell_type": "code",
   "execution_count": 50,
   "id": "f0e05fec",
   "metadata": {},
   "outputs": [],
   "source": [
    "class newton2:\n",
    "    \n",
    "    def __init__(self, xn, func, tol=1e-6):\n",
    "        self.xn = xn\n",
    "        self.func = func\n",
    "        self.tol = tol\n",
    "        \n",
    "    def solve(self):\n",
    "        history = [self.xn]\n",
    "        \n",
    "        while True:\n",
    "            f_prime_xn = derivative(self.func, self.xn)\n",
    "                \n",
    "            xn1 = self.xn - self.func(self.xn) / f_prime_xn\n",
    "            \n",
    "            # xn+1과 xn 차이가 tol 이하인 경우\n",
    "            if abs(xn1 - self.xn) <= self.tol:\n",
    "                self.history = history\n",
    "                return xn1\n",
    "            \n",
    "            self.xn = xn1\n",
    "            history.append(xn1)"
   ]
  },
  {
   "cell_type": "code",
   "execution_count": 51,
   "id": "4e97f53c",
   "metadata": {},
   "outputs": [],
   "source": [
    "NM2 = newton2(func=g, xn = 1/math.sqrt(3))"
   ]
  },
  {
   "cell_type": "code",
   "execution_count": 52,
   "id": "e8eeaba0",
   "metadata": {},
   "outputs": [
    {
     "data": {
      "text/plain": [
       "1.0000000000000002"
      ]
     },
     "execution_count": 52,
     "metadata": {},
     "output_type": "execute_result"
    }
   ],
   "source": [
    "NM2.solve()"
   ]
  },
  {
   "cell_type": "code",
   "execution_count": 54,
   "id": "1e8074ed",
   "metadata": {},
   "outputs": [
    {
     "data": {
      "text/plain": [
       "[0.5773502691896258,\n",
       " 38489801.67734792,\n",
       " 25659913.53432971,\n",
       " 17106805.772778533,\n",
       " 11404620.424161963,\n",
       " 7603080.283382256,\n",
       " 5068713.803968893,\n",
       " 3379140.7402197667,\n",
       " 2252758.2487681042,\n",
       " 1501837.3734497202,\n",
       " 1001225.4417386721,\n",
       " 667483.446320174,\n",
       " 444988.8221654964,\n",
       " 296659.2258749766,\n",
       " 197772.82890300144,\n",
       " 131848.55509987928,\n",
       " 87899.04141642194,\n",
       " 58599.36243870078,\n",
       " 39066.241233936846,\n",
       " 26044.160555785922,\n",
       " 17362.773822068186,\n",
       " 11575.182628148897,\n",
       " 7716.788419140896,\n",
       " 5144.525648964161,\n",
       " 3429.683814422639,\n",
       " 2286.455942772339,\n",
       " 1524.3040606057189,\n",
       " 1016.2028526771003,\n",
       " 677.4687870785663,\n",
       " 451.64618602569965,\n",
       " 301.0979493165166,\n",
       " 200.73270423096778,\n",
       " 133.82290988846742,\n",
       " 89.21693385905775,\n",
       " 59.4804468194225,\n",
       " 39.65736762059299,\n",
       " 26.443849823327028,\n",
       " 17.63764077360295,\n",
       " 11.771040014022308,\n",
       " 7.866284260850957,\n",
       " 5.272592472322726,\n",
       " 3.55771980421531,\n",
       " 2.4359646178779437,\n",
       " 1.7206314867173158,\n",
       " 1.2926254253167788,\n",
       " 1.076509138038653,\n",
       " 1.0074523713609698,\n",
       " 1.0000818831905487,\n",
       " 1.0000000100557733]"
      ]
     },
     "execution_count": 54,
     "metadata": {},
     "output_type": "execute_result"
    }
   ],
   "source": [
    "NM2.history"
   ]
  },
  {
   "cell_type": "code",
   "execution_count": 56,
   "id": "5388cb88",
   "metadata": {},
   "outputs": [
    {
     "data": {
      "text/plain": [
       "49"
      ]
     },
     "execution_count": 56,
     "metadata": {},
     "output_type": "execute_result"
    }
   ],
   "source": [
    "len(NM2.history)"
   ]
  },
  {
   "cell_type": "code",
   "execution_count": null,
   "id": "cc8df3e0",
   "metadata": {},
   "outputs": [],
   "source": []
  }
 ],
 "metadata": {
  "kernelspec": {
   "display_name": "Python 3.9",
   "language": "python",
   "name": "py39"
  },
  "language_info": {
   "codemirror_mode": {
    "name": "ipython",
    "version": 3
   },
   "file_extension": ".py",
   "mimetype": "text/x-python",
   "name": "python",
   "nbconvert_exporter": "python",
   "pygments_lexer": "ipython3",
   "version": "3.9.12"
  },
  "toc": {
   "base_numbering": 1,
   "nav_menu": {},
   "number_sections": true,
   "sideBar": true,
   "skip_h1_title": false,
   "title_cell": "Table of Contents",
   "title_sidebar": "Contents",
   "toc_cell": false,
   "toc_position": {},
   "toc_section_display": true,
   "toc_window_display": false
  },
  "varInspector": {
   "cols": {
    "lenName": 16,
    "lenType": 16,
    "lenVar": 40
   },
   "kernels_config": {
    "python": {
     "delete_cmd_postfix": "",
     "delete_cmd_prefix": "del ",
     "library": "var_list.py",
     "varRefreshCmd": "print(var_dic_list())"
    },
    "r": {
     "delete_cmd_postfix": ") ",
     "delete_cmd_prefix": "rm(",
     "library": "var_list.r",
     "varRefreshCmd": "cat(var_dic_list()) "
    }
   },
   "types_to_exclude": [
    "module",
    "function",
    "builtin_function_or_method",
    "instance",
    "_Feature"
   ],
   "window_display": false
  }
 },
 "nbformat": 4,
 "nbformat_minor": 5
}
