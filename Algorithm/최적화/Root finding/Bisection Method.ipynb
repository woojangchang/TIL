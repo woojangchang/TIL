{
 "cells": [
  {
   "cell_type": "markdown",
   "id": "c765ba2f",
   "metadata": {},
   "source": [
    "https://youtu.be/MlP_W-obuNg"
   ]
  },
  {
   "cell_type": "markdown",
   "id": "5eea83e1",
   "metadata": {},
   "source": [
    "# Bisection Method\n",
    "방정식 $f(x)=0$이 되게 하는 $x$를 찾는 알고리즘\n",
    "\n",
    "1. 구간 $[a, b]$를 잡는다.\n",
    "    - $f(a) \\times f(b) < 0$. 즉, $f(a)$와 $f(b)$는 서로 다른 부호\n",
    "2. 양 끝점에 대해 중점 $c=\\frac{a+b}{2}$를 계산한다.\n",
    "    - 만약 $f(a)$와 $f(c)$가 서로 다른 부호라면 $b=c$, 아니면 $a=c$\n",
    "3. $|f(c)| < \\text{tol}$이 될 때까지 반복, `tol`은 허용오차"
   ]
  },
  {
   "cell_type": "markdown",
   "id": "838802ac",
   "metadata": {},
   "source": [
    "## 장단점\n",
    "- 초기 두 점 $a$와 $b$에 대해 함수값의 부호가 서로 다르면 반드시 해를 찾을 수 있다.\n",
    "- 서로 다른 부호를 위해 두 지점의 간격을 넓히면 계산이 오래 걸린다.\n",
    "- 상대적으로 다른 방법에 비해 계산 속도가 느리다."
   ]
  },
  {
   "cell_type": "markdown",
   "id": "5adb8ea8",
   "metadata": {},
   "source": [
    "# 코드 구현"
   ]
  },
  {
   "cell_type": "code",
   "execution_count": 63,
   "id": "5861e5a9",
   "metadata": {},
   "outputs": [],
   "source": [
    "class bisection:\n",
    "    \n",
    "    def __init__(self, a, b, func, tol=1e-6):\n",
    "        \"\"\"\n",
    "        a, b: 최초 설정 구간\n",
    "            f(a)*f(b) < 0, a < b\n",
    "        func: 해를 찾을 함수\n",
    "        \"\"\"\n",
    "        assert (func(a) * func(b) < 0) and (a < b)\n",
    "        \n",
    "        self.a = a\n",
    "        self.b = b\n",
    "        self.func = func\n",
    "        self.tol = tol\n",
    "        \n",
    "    def solve(self):\n",
    "        a_history = [self.a]\n",
    "        b_history = [self.b]\n",
    "        \n",
    "        while True:\n",
    "            c = (self.a + self.b) / 2\n",
    "            # 허용범위 이내일 때\n",
    "            if abs(self.func(c)) <= self.tol:\n",
    "                self.solution = c\n",
    "                self.history = [(a, b) for (a, b) in zip(a_history, b_history)]\n",
    "                return c\n",
    "            \n",
    "            # f(a)와 f(c)가 서로 다른 부호인 경우\n",
    "            elif self.func(self.a) * self.func(c) < 0:\n",
    "                self.b = c\n",
    "                \n",
    "            # f(a)와 f(c)가 서로 같은 부호인 경우\n",
    "            else:\n",
    "                self.a = c\n",
    "            \n",
    "            \n",
    "            a_history.append(self.a)\n",
    "            b_history.append(self.b)"
   ]
  },
  {
   "cell_type": "code",
   "execution_count": 57,
   "id": "0b6e579f",
   "metadata": {},
   "outputs": [],
   "source": [
    "import math\n",
    "\n",
    "def f(x):\n",
    "    return math.sin(math.cos(math.exp(x)))"
   ]
  },
  {
   "cell_type": "code",
   "execution_count": 58,
   "id": "84c96736",
   "metadata": {},
   "outputs": [],
   "source": [
    "import matplotlib.pyplot as plt\n",
    "import numpy as np\n",
    "\n",
    "xs = np.arange(-2, 2+0.01, 0.01)\n",
    "ys = np.array([f(x) for x in xs])"
   ]
  },
  {
   "cell_type": "code",
   "execution_count": 59,
   "id": "2dfcfacd",
   "metadata": {},
   "outputs": [
    {
     "data": {
      "image/png": "[encoded data removed]",
      "text/plain": [
       "<Figure size 432x216 with 1 Axes>"
      ]
     },
     "metadata": {
      "needs_background": "light"
     },
     "output_type": "display_data"
    }
   ],
   "source": [
    "plt.figure(figsize=(6, 3))\n",
    "plt.plot(xs, ys)\n",
    "plt.grid()\n",
    "plt.show()"
   ]
  },
  {
   "cell_type": "code",
   "execution_count": 64,
   "id": "27c2a5d8",
   "metadata": {},
   "outputs": [],
   "source": [
    "BM = bisection(a=-1, b=1.5, func=f)"
   ]
  },
  {
   "cell_type": "code",
   "execution_count": 65,
   "id": "527b9aab",
   "metadata": {},
   "outputs": [
    {
     "data": {
      "text/plain": [
       "0.4515829086303711"
      ]
     },
     "execution_count": 65,
     "metadata": {},
     "output_type": "execute_result"
    }
   ],
   "source": [
    "BM.solve()"
   ]
  },
  {
   "cell_type": "code",
   "execution_count": 66,
   "id": "921410e9",
   "metadata": {},
   "outputs": [
    {
     "data": {
      "text/plain": [
       "[(-1, 1.5),\n",
       " (0.25, 1.5),\n",
       " (0.25, 0.875),\n",
       " (0.25, 0.5625),\n",
       " (0.40625, 0.5625),\n",
       " (0.40625, 0.484375),\n",
       " (0.4453125, 0.484375),\n",
       " (0.4453125, 0.46484375),\n",
       " (0.4453125, 0.455078125),\n",
       " (0.4501953125, 0.455078125),\n",
       " (0.4501953125, 0.45263671875),\n",
       " (0.451416015625, 0.45263671875),\n",
       " (0.451416015625, 0.4520263671875),\n",
       " (0.451416015625, 0.45172119140625),\n",
       " (0.451568603515625, 0.45172119140625),\n",
       " (0.451568603515625, 0.4516448974609375),\n",
       " (0.451568603515625, 0.45160675048828125),\n",
       " (0.451568603515625, 0.4515876770019531),\n",
       " (0.45157814025878906, 0.4515876770019531)]"
      ]
     },
     "execution_count": 66,
     "metadata": {},
     "output_type": "execute_result"
    }
   ],
   "source": [
    "BM.history"
   ]
  },
  {
   "cell_type": "code",
   "execution_count": 101,
   "id": "85f914e2",
   "metadata": {},
   "outputs": [
    {
     "data": {
      "text/plain": [
       "22"
      ]
     },
     "execution_count": 101,
     "metadata": {},
     "output_type": "execute_result"
    }
   ],
   "source": [
    "len(BM.history)"
   ]
  },
  {
   "cell_type": "code",
   "execution_count": 67,
   "id": "b232e2a5",
   "metadata": {},
   "outputs": [
    {
     "data": {
      "text/plain": [
       "-3.194071968524581e-07"
      ]
     },
     "execution_count": 67,
     "metadata": {},
     "output_type": "execute_result"
    }
   ],
   "source": [
    "f(BM.solution)"
   ]
  },
  {
   "cell_type": "code",
   "execution_count": 72,
   "id": "60c479d3",
   "metadata": {},
   "outputs": [
    {
     "data": {
      "image/png": "[encoded data removed]",
      "text/plain": [
       "<Figure size 432x216 with 1 Axes>"
      ]
     },
     "metadata": {
      "needs_background": "light"
     },
     "output_type": "display_data"
    }
   ],
   "source": [
    "plt.figure(figsize=(6, 3))\n",
    "plt.plot(xs, ys)\n",
    "plt.grid()\n",
    "plt.xlim((0.44, 0.46))\n",
    "plt.ylim((-0.02, 0.02))\n",
    "plt.scatter(BM.solution, 0, color='r')\n",
    "plt.show()"
   ]
  },
  {
   "cell_type": "code",
   "execution_count": 93,
   "id": "16ab91d6",
   "metadata": {},
   "outputs": [],
   "source": [
    "def g(x):\n",
    "    return math.sinh(math.cosh(x)-2) - 1"
   ]
  },
  {
   "cell_type": "code",
   "execution_count": 94,
   "id": "24c3add8",
   "metadata": {},
   "outputs": [],
   "source": [
    "xs = np.arange(-2, 2+0.01, 0.01)\n",
    "ys = np.array([g(x) for x in xs])"
   ]
  },
  {
   "cell_type": "code",
   "execution_count": 95,
   "id": "3bac391d",
   "metadata": {},
   "outputs": [
    {
     "data": {
      "image/png": "[encoded data removed]",
      "text/plain": [
       "<Figure size 432x216 with 1 Axes>"
      ]
     },
     "metadata": {
      "needs_background": "light"
     },
     "output_type": "display_data"
    }
   ],
   "source": [
    "plt.figure(figsize=(6, 3))\n",
    "plt.plot(xs, ys)\n",
    "plt.grid()\n",
    "plt.show()"
   ]
  },
  {
   "cell_type": "code",
   "execution_count": 97,
   "id": "91ab6ded",
   "metadata": {},
   "outputs": [],
   "source": [
    "BM = bisection(a=0, b=2, func=g)"
   ]
  },
  {
   "cell_type": "code",
   "execution_count": 98,
   "id": "6fef6a00",
   "metadata": {},
   "outputs": [
    {
     "data": {
      "text/plain": [
       "1.7198433876037598"
      ]
     },
     "execution_count": 98,
     "metadata": {},
     "output_type": "execute_result"
    }
   ],
   "source": [
    "BM.solve()"
   ]
  },
  {
   "cell_type": "code",
   "execution_count": 99,
   "id": "1fb1532e",
   "metadata": {},
   "outputs": [
    {
     "data": {
      "text/plain": [
       "6.69221502658246e-07"
      ]
     },
     "execution_count": 99,
     "metadata": {},
     "output_type": "execute_result"
    }
   ],
   "source": [
    "g(BM.solution)"
   ]
  },
  {
   "cell_type": "code",
   "execution_count": null,
   "id": "27bdbeca",
   "metadata": {},
   "outputs": [],
   "source": []
  }
 ],
 "metadata": {
  "kernelspec": {
   "display_name": "Python 3.9",
   "language": "python",
   "name": "py39"
  },
  "language_info": {
   "codemirror_mode": {
    "name": "ipython",
    "version": 3
   },
   "file_extension": ".py",
   "mimetype": "text/x-python",
   "name": "python",
   "nbconvert_exporter": "python",
   "pygments_lexer": "ipython3",
   "version": "3.9.12"
  },
  "toc": {
   "base_numbering": 1,
   "nav_menu": {},
   "number_sections": true,
   "sideBar": true,
   "skip_h1_title": false,
   "title_cell": "Table of Contents",
   "title_sidebar": "Contents",
   "toc_cell": false,
   "toc_position": {},
   "toc_section_display": true,
   "toc_window_display": false
  },
  "varInspector": {
   "cols": {
    "lenName": 16,
    "lenType": 16,
    "lenVar": 40
   },
   "kernels_config": {
    "python": {
     "delete_cmd_postfix": "",
     "delete_cmd_prefix": "del ",
     "library": "var_list.py",
     "varRefreshCmd": "print(var_dic_list())"
    },
    "r": {
     "delete_cmd_postfix": ") ",
     "delete_cmd_prefix": "rm(",
     "library": "var_list.r",
     "varRefreshCmd": "cat(var_dic_list()) "
    }
   },
   "types_to_exclude": [
    "module",
    "function",
    "builtin_function_or_method",
    "instance",
    "_Feature"
   ],
   "window_display": false
  }
 },
 "nbformat": 4,
 "nbformat_minor": 5
}
