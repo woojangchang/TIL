{
 "cells": [
  {
   "cell_type": "markdown",
   "id": "550ed6d6",
   "metadata": {},
   "source": [
    "# Golden Section Search\n",
    "함수 $f(x)$가 최소가 되게 하는 $x$를 찾는 알고리즘으로 bisection method와 거의 동일하다.\n",
    "\n",
    "1. 최소값이 포함된 구간 $[x_l, x_u]$를 잡는다.\n",
    "2. 양 끝점에 대해  $x_1=x_l+d$, $x_2=x_u-d$를 계산한다.\n",
    "    - $d=(\\phi -1)(x_u-x_l)$, $\\phi = \\frac{1+\\sqrt5}{2}$\n",
    "    - 만약 $f(x_1)<f(x_2)$이면 $x_l=x_2$, $x_2=x_1$ 아니면 $x_u=x_1$, $x_1=x_2$\n",
    "3. $\\epsilon_a = (2 - \\phi) |\\frac{x_u-x_l}{x_{opt}}| < \\text{tol}$이 될 때까지 반복, `tol`은 허용오차, $x_{opt}$는 $x_1$, $x_2$ 중 함수값이 작은 값"
   ]
  },
  {
   "cell_type": "markdown",
   "id": "0fd8642d",
   "metadata": {},
   "source": [
    "## 장단점\n",
    "- 해를 찾는 것이 아닌, 최소가 되게 하는 $x$를 찾는 알고리즘이다.\n",
    "- 최소가 포함된 구간을 설정할 수 있어야 한다."
   ]
  },
  {
   "cell_type": "markdown",
   "id": "fe9d80fc",
   "metadata": {},
   "source": [
    "# 코드 구현"
   ]
  },
  {
   "cell_type": "code",
   "execution_count": 1,
   "id": "2692af12",
   "metadata": {},
   "outputs": [],
   "source": [
    "class gss:\n",
    "    \n",
    "    def __init__(self, a, b, func, tol=1e-6):\n",
    "        self.xl = a\n",
    "        self.xu = b\n",
    "        self.func = func\n",
    "        self.tol = tol\n",
    "        \n",
    "    def solve(self):\n",
    "        a_history = [self.xl]\n",
    "        b_history = [self.xu]\n",
    "        \n",
    "        phi = (1+5**0.5)/2\n",
    "        \n",
    "        d = (phi-1)*(self.xu - self.xl)\n",
    "        x1 = self.xl+d\n",
    "        x2 = self.xu-d\n",
    "        while True:\n",
    "            # 허용범위 이내일 때\n",
    "            fxl = self.func(self.xl)\n",
    "            fxu = self.func(self.xu)\n",
    "            if fxl < fxu:\n",
    "                xopt = self.xl\n",
    "            else:\n",
    "                xopt = self.xu\n",
    "            epsilon = (2 - phi) * abs((self.xu-self.xl)/xopt)\n",
    "            if epsilon <= self.tol:\n",
    "                self.minimum = (self.xl + self.xu) / 2\n",
    "                self.history = [(a, b) for (a, b) in zip(a_history, b_history)]\n",
    "                return self.minimum\n",
    "            \n",
    "\n",
    "            fx1 = self.func(x1)\n",
    "            fx2 = self.func(x2)\n",
    "            \n",
    "            if fx1 < fx2:\n",
    "                self.xl = x2\n",
    "                x2 = x1\n",
    "                d = (phi-1)*(self.xu - self.xl)\n",
    "                x1 = self.xl+d\n",
    "            else:\n",
    "                self.xu = x1\n",
    "                x1 = x2\n",
    "                d = (phi-1)*(self.xu - self.xl)\n",
    "                x2 = self.xu-d\n",
    "            \n",
    "            \n",
    "            \n",
    "            a_history.append(self.xl)\n",
    "            b_history.append(self.xu)"
   ]
  },
  {
   "cell_type": "code",
   "execution_count": 2,
   "id": "5dac9860",
   "metadata": {},
   "outputs": [],
   "source": [
    "import math\n",
    "\n",
    "def f(x):\n",
    "    return math.sin(math.cos(math.exp(x)))"
   ]
  },
  {
   "cell_type": "code",
   "execution_count": 3,
   "id": "86bdd904",
   "metadata": {},
   "outputs": [],
   "source": [
    "import matplotlib.pyplot as plt\n",
    "import numpy as np\n",
    "\n",
    "xs = np.arange(-2, 2+0.01, 0.01)\n",
    "ys = np.array([f(x) for x in xs])"
   ]
  },
  {
   "cell_type": "code",
   "execution_count": 4,
   "id": "5f82ac81",
   "metadata": {},
   "outputs": [
    {
     "data": {
      "image/png": "[encoded data removed]",
      "text/plain": [
       "<Figure size 432x216 with 1 Axes>"
      ]
     },
     "metadata": {
      "needs_background": "light"
     },
     "output_type": "display_data"
    }
   ],
   "source": [
    "plt.figure(figsize=(6, 3))\n",
    "plt.plot(xs, ys)\n",
    "plt.grid()\n",
    "plt.show()"
   ]
  },
  {
   "cell_type": "code",
   "execution_count": 5,
   "id": "74cffea2",
   "metadata": {},
   "outputs": [],
   "source": [
    "GSS = gss(a=0, b=1.5, func=f)"
   ]
  },
  {
   "cell_type": "code",
   "execution_count": 6,
   "id": "bf36a3db",
   "metadata": {},
   "outputs": [
    {
     "data": {
      "text/plain": [
       "1.144730461674681"
      ]
     },
     "execution_count": 6,
     "metadata": {},
     "output_type": "execute_result"
    }
   ],
   "source": [
    "GSS.solve()"
   ]
  },
  {
   "cell_type": "code",
   "execution_count": 7,
   "id": "f664a010",
   "metadata": {},
   "outputs": [
    {
     "data": {
      "text/plain": [
       "-0.8414709848070124"
      ]
     },
     "execution_count": 7,
     "metadata": {},
     "output_type": "execute_result"
    }
   ],
   "source": [
    "f(GSS.minimum)"
   ]
  },
  {
   "cell_type": "code",
   "execution_count": 8,
   "id": "843b355a",
   "metadata": {},
   "outputs": [
    {
     "data": {
      "text/plain": [
       "29"
      ]
     },
     "execution_count": 8,
     "metadata": {},
     "output_type": "execute_result"
    }
   ],
   "source": [
    "len(GSS.history)"
   ]
  },
  {
   "cell_type": "code",
   "execution_count": 9,
   "id": "2ed27d6c",
   "metadata": {},
   "outputs": [],
   "source": [
    "def g(x):\n",
    "    return x**2+1"
   ]
  },
  {
   "cell_type": "code",
   "execution_count": 10,
   "id": "71919689",
   "metadata": {},
   "outputs": [],
   "source": [
    "xs = np.arange(-1.5, 1.5+0.01, 0.01)\n",
    "ys = np.array([g(x) for x in xs])"
   ]
  },
  {
   "cell_type": "code",
   "execution_count": 11,
   "id": "88d12941",
   "metadata": {},
   "outputs": [
    {
     "data": {
      "image/png": "[encoded data removed]",
      "text/plain": [
       "<Figure size 432x216 with 1 Axes>"
      ]
     },
     "metadata": {
      "needs_background": "light"
     },
     "output_type": "display_data"
    }
   ],
   "source": [
    "plt.figure(figsize=(6, 3))\n",
    "plt.plot(xs, ys)\n",
    "plt.grid()\n",
    "plt.show()"
   ]
  },
  {
   "cell_type": "code",
   "execution_count": 12,
   "id": "28886729",
   "metadata": {},
   "outputs": [],
   "source": [
    "GSS = gss(a=-1, b=1, func=g)"
   ]
  },
  {
   "cell_type": "code",
   "execution_count": 13,
   "id": "458c6fc6",
   "metadata": {},
   "outputs": [
    {
     "data": {
      "text/plain": [
       "-1.0536713272043936e-08"
      ]
     },
     "execution_count": 13,
     "metadata": {},
     "output_type": "execute_result"
    }
   ],
   "source": [
    "GSS.solve()"
   ]
  },
  {
   "cell_type": "code",
   "execution_count": 17,
   "id": "7a94ddb7",
   "metadata": {},
   "outputs": [
    {
     "data": {
      "text/plain": [
       "1.0000000000000002"
      ]
     },
     "execution_count": 17,
     "metadata": {},
     "output_type": "execute_result"
    }
   ],
   "source": [
    "g(GSS.minimum)"
   ]
  },
  {
   "cell_type": "code",
   "execution_count": 14,
   "id": "7f751a6b",
   "metadata": {},
   "outputs": [
    {
     "data": {
      "text/plain": [
       "68"
      ]
     },
     "execution_count": 14,
     "metadata": {},
     "output_type": "execute_result"
    }
   ],
   "source": [
    "len(GSS.history)"
   ]
  }
 ],
 "metadata": {
  "kernelspec": {
   "display_name": "Python 3.9",
   "language": "python",
   "name": "py39"
  },
  "language_info": {
   "codemirror_mode": {
    "name": "ipython",
    "version": 3
   },
   "file_extension": ".py",
   "mimetype": "text/x-python",
   "name": "python",
   "nbconvert_exporter": "python",
   "pygments_lexer": "ipython3",
   "version": "3.9.12"
  },
  "toc": {
   "base_numbering": 1,
   "nav_menu": {},
   "number_sections": true,
   "sideBar": true,
   "skip_h1_title": false,
   "title_cell": "Table of Contents",
   "title_sidebar": "Contents",
   "toc_cell": false,
   "toc_position": {},
   "toc_section_display": true,
   "toc_window_display": false
  },
  "varInspector": {
   "cols": {
    "lenName": 16,
    "lenType": 16,
    "lenVar": 40
   },
   "kernels_config": {
    "python": {
     "delete_cmd_postfix": "",
     "delete_cmd_prefix": "del ",
     "library": "var_list.py",
     "varRefreshCmd": "print(var_dic_list())"
    },
    "r": {
     "delete_cmd_postfix": ") ",
     "delete_cmd_prefix": "rm(",
     "library": "var_list.r",
     "varRefreshCmd": "cat(var_dic_list()) "
    }
   },
   "types_to_exclude": [
    "module",
    "function",
    "builtin_function_or_method",
    "instance",
    "_Feature"
   ],
   "window_display": false
  }
 },
 "nbformat": 4,
 "nbformat_minor": 5
}
