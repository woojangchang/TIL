{
 "cells": [
  {
   "cell_type": "markdown",
   "id": "8e1b6453",
   "metadata": {},
   "source": [
    "# 난수 발생 모듈"
   ]
  },
  {
   "cell_type": "code",
   "execution_count": 1,
   "id": "ad3efa80",
   "metadata": {},
   "outputs": [],
   "source": [
    "import random"
   ]
  },
  {
   "cell_type": "markdown",
   "id": "4b2694af",
   "metadata": {},
   "source": [
    "## \\[0, 1\\) 범위의 임의의 실수를 반환"
   ]
  },
  {
   "cell_type": "code",
   "execution_count": 2,
   "id": "52e90202",
   "metadata": {},
   "outputs": [
    {
     "data": {
      "text/plain": [
       "0.7032004376837695"
      ]
     },
     "execution_count": 2,
     "metadata": {},
     "output_type": "execute_result"
    }
   ],
   "source": [
    "random.random()"
   ]
  },
  {
   "cell_type": "markdown",
   "id": "18204206",
   "metadata": {},
   "source": [
    "## \\[a, b\\] 범위의 임의의 정수를 반환"
   ]
  },
  {
   "cell_type": "code",
   "execution_count": 3,
   "id": "6939478f",
   "metadata": {},
   "outputs": [
    {
     "data": {
      "text/plain": [
       "2"
      ]
     },
     "execution_count": 3,
     "metadata": {},
     "output_type": "execute_result"
    }
   ],
   "source": [
    "random.randint(1, 6)"
   ]
  },
  {
   "cell_type": "markdown",
   "id": "d74c1b78",
   "metadata": {},
   "source": [
    "## `range([start, ] stop [, step])`에서 임의의 정수를 반환"
   ]
  },
  {
   "cell_type": "code",
   "execution_count": 4,
   "id": "b67b37f8",
   "metadata": {},
   "outputs": [
    {
     "data": {
      "text/plain": [
       "8"
      ]
     },
     "execution_count": 4,
     "metadata": {},
     "output_type": "execute_result"
    }
   ],
   "source": [
    "random.randrange(0, 10, 2)"
   ]
  },
  {
   "cell_type": "markdown",
   "id": "319e0aeb",
   "metadata": {},
   "source": [
    "## 공백이 아닌 시퀀스에서 임의의 항목을 반환"
   ]
  },
  {
   "cell_type": "code",
   "execution_count": 5,
   "id": "fa9f8a8a",
   "metadata": {},
   "outputs": [
    {
     "data": {
      "text/plain": [
       "3"
      ]
     },
     "execution_count": 5,
     "metadata": {},
     "output_type": "execute_result"
    }
   ],
   "source": [
    "random.choice([1, 2, 3])"
   ]
  },
  {
   "cell_type": "markdown",
   "id": "ef84113c",
   "metadata": {},
   "source": [
    "## 시퀀스로 이뤄진 모집단에서 중복되지 않는 k개의 인자를 반환"
   ]
  },
  {
   "cell_type": "code",
   "execution_count": 6,
   "id": "169a42a0",
   "metadata": {},
   "outputs": [
    {
     "data": {
      "text/plain": [
       "[1, 4]"
      ]
     },
     "execution_count": 6,
     "metadata": {},
     "output_type": "execute_result"
    }
   ],
   "source": [
    "random.sample([1, 2, 3, 4, 5], 2)"
   ]
  },
  {
   "cell_type": "markdown",
   "id": "1b35595a",
   "metadata": {},
   "source": [
    "# 날짜 및 시간 관련 처리 모듈"
   ]
  },
  {
   "cell_type": "code",
   "execution_count": 7,
   "id": "01348955",
   "metadata": {},
   "outputs": [],
   "source": [
    "import datetime"
   ]
  },
  {
   "cell_type": "markdown",
   "id": "93bfb3aa",
   "metadata": {},
   "source": [
    "## date 클래스"
   ]
  },
  {
   "cell_type": "code",
   "execution_count": 8,
   "id": "f2dcd980",
   "metadata": {},
   "outputs": [
    {
     "name": "stdout",
     "output_type": "stream",
     "text": [
      "2021-10-12\n",
      "10:20:00\n",
      "2021-10-12 10:20:00\n"
     ]
    }
   ],
   "source": [
    "date_obj = datetime.date(2021, 10, 12)\n",
    "time_obj = datetime.time(10, 20, 0)\n",
    "datetime_obj = datetime.datetime(2021, 10, 12, 10, 20, 0)\n",
    "\n",
    "print(date_obj)\n",
    "print(time_obj)\n",
    "print(datetime_obj)"
   ]
  },
  {
   "cell_type": "code",
   "execution_count": 9,
   "id": "24798b2c",
   "metadata": {},
   "outputs": [
    {
     "name": "stdout",
     "output_type": "stream",
     "text": [
      "2021/10/12\n"
     ]
    }
   ],
   "source": [
    "print('{}/{}/{}'.format(date_obj.year, date_obj.month, date_obj.day))"
   ]
  },
  {
   "cell_type": "code",
   "execution_count": 10,
   "id": "edb88cbe",
   "metadata": {},
   "outputs": [
    {
     "name": "stdout",
     "output_type": "stream",
     "text": [
      "81 days, 0:00:00\n"
     ]
    }
   ],
   "source": [
    "# date 객체는 그 객체끼리 연산 가능\n",
    "day1 = datetime.date(2021, 10, 12)\n",
    "day2 = datetime.date(2022, 1, 1)\n",
    "\n",
    "diff_day = day2 - day1\n",
    "print(diff_day)"
   ]
  },
  {
   "cell_type": "code",
   "execution_count": 11,
   "id": "3829e3a8",
   "metadata": {},
   "outputs": [
    {
     "data": {
      "text/plain": [
       "(datetime.date, datetime.timedelta)"
      ]
     },
     "execution_count": 11,
     "metadata": {},
     "output_type": "execute_result"
    }
   ],
   "source": [
    "type(day1), type(diff_day)"
   ]
  },
  {
   "cell_type": "code",
   "execution_count": 12,
   "id": "a8774155",
   "metadata": {},
   "outputs": [
    {
     "data": {
      "text/plain": [
       "81"
      ]
     },
     "execution_count": 12,
     "metadata": {},
     "output_type": "execute_result"
    }
   ],
   "source": [
    "# 날짜만 출력\n",
    "diff_day.days"
   ]
  },
  {
   "cell_type": "code",
   "execution_count": 13,
   "id": "8b37add5",
   "metadata": {},
   "outputs": [
    {
     "data": {
      "text/plain": [
       "datetime.date(2021, 10, 12)"
      ]
     },
     "execution_count": 13,
     "metadata": {},
     "output_type": "execute_result"
    }
   ],
   "source": [
    "# 오늘 날짜\n",
    "datetime.date.today()"
   ]
  },
  {
   "cell_type": "markdown",
   "id": "980730f7",
   "metadata": {},
   "source": [
    "## time 클래스"
   ]
  },
  {
   "cell_type": "code",
   "execution_count": 14,
   "id": "9c789996",
   "metadata": {},
   "outputs": [
    {
     "name": "stdout",
     "output_type": "stream",
     "text": [
      "10:20:0\n"
     ]
    }
   ],
   "source": [
    "print('{}:{}:{}'.format(time_obj.hour, time_obj.minute, time_obj.second))"
   ]
  },
  {
   "cell_type": "markdown",
   "id": "aceee0f0",
   "metadata": {},
   "source": [
    "## datetime 클래스"
   ]
  },
  {
   "cell_type": "code",
   "execution_count": 15,
   "id": "6419bc76",
   "metadata": {},
   "outputs": [
    {
     "name": "stdout",
     "output_type": "stream",
     "text": [
      "날짜 2021/10/12\n",
      "시각 10:20:0\n"
     ]
    }
   ],
   "source": [
    "print('날짜 {}/{}/{}'.format(datetime_obj.year, datetime_obj.month, datetime_obj.day))\n",
    "print('시각 {}:{}:{}'.format(datetime_obj.hour, datetime_obj.minute, datetime_obj.second))"
   ]
  },
  {
   "cell_type": "code",
   "execution_count": 17,
   "id": "f9344ed2",
   "metadata": {},
   "outputs": [
    {
     "name": "stdout",
     "output_type": "stream",
     "text": [
      "2021-10-12 10:27:05.109280\n"
     ]
    }
   ],
   "source": [
    "# 현재 시각\n",
    "now = datetime.datetime.now()\n",
    "print(now)"
   ]
  },
  {
   "cell_type": "code",
   "execution_count": 18,
   "id": "f953c8d0",
   "metadata": {},
   "outputs": [
    {
     "name": "stdout",
     "output_type": "stream",
     "text": [
      "Date & Time : 2021-10-12, 10:27:05\n"
     ]
    }
   ],
   "source": [
    "# 출력 양식 지정\n",
    "print('Date & Time : {:%Y-%m-%d, %H:%M:%S}'.format(now))"
   ]
  },
  {
   "cell_type": "code",
   "execution_count": 19,
   "id": "bedbd911",
   "metadata": {},
   "outputs": [
    {
     "name": "stdout",
     "output_type": "stream",
     "text": [
      "Date : 2021-10-12\n",
      "Time : 10:27:05\n"
     ]
    }
   ],
   "source": [
    "print('Date : {:%Y-%m-%d}'.format(now))\n",
    "print('Time : {:%H:%M:%S}'.format(now))"
   ]
  },
  {
   "cell_type": "markdown",
   "id": "0d2ee3d3",
   "metadata": {},
   "source": [
    "# 달력 생성 및 처리 모듈"
   ]
  },
  {
   "cell_type": "code",
   "execution_count": 20,
   "id": "b5bf2c02",
   "metadata": {},
   "outputs": [],
   "source": [
    "import calendar"
   ]
  },
  {
   "cell_type": "markdown",
   "id": "4e0e09f8",
   "metadata": {},
   "source": [
    "## 지정된 연도의 전체 달력을 문자열로 반환"
   ]
  },
  {
   "cell_type": "code",
   "execution_count": 22,
   "id": "792c9477",
   "metadata": {},
   "outputs": [
    {
     "name": "stdout",
     "output_type": "stream",
     "text": [
      "                                  2021\n",
      "\n",
      "      January                   February                   March\n",
      "Mo Tu We Th Fr Sa Su      Mo Tu We Th Fr Sa Su      Mo Tu We Th Fr Sa Su\n",
      "             1  2  3       1  2  3  4  5  6  7       1  2  3  4  5  6  7\n",
      " 4  5  6  7  8  9 10       8  9 10 11 12 13 14       8  9 10 11 12 13 14\n",
      "11 12 13 14 15 16 17      15 16 17 18 19 20 21      15 16 17 18 19 20 21\n",
      "18 19 20 21 22 23 24      22 23 24 25 26 27 28      22 23 24 25 26 27 28\n",
      "25 26 27 28 29 30 31                                29 30 31\n",
      "\n",
      "       April                      May                       June\n",
      "Mo Tu We Th Fr Sa Su      Mo Tu We Th Fr Sa Su      Mo Tu We Th Fr Sa Su\n",
      "          1  2  3  4                      1  2          1  2  3  4  5  6\n",
      " 5  6  7  8  9 10 11       3  4  5  6  7  8  9       7  8  9 10 11 12 13\n",
      "12 13 14 15 16 17 18      10 11 12 13 14 15 16      14 15 16 17 18 19 20\n",
      "19 20 21 22 23 24 25      17 18 19 20 21 22 23      21 22 23 24 25 26 27\n",
      "26 27 28 29 30            24 25 26 27 28 29 30      28 29 30\n",
      "                          31\n",
      "\n",
      "        July                     August                  September\n",
      "Mo Tu We Th Fr Sa Su      Mo Tu We Th Fr Sa Su      Mo Tu We Th Fr Sa Su\n",
      "          1  2  3  4                         1             1  2  3  4  5\n",
      " 5  6  7  8  9 10 11       2  3  4  5  6  7  8       6  7  8  9 10 11 12\n",
      "12 13 14 15 16 17 18       9 10 11 12 13 14 15      13 14 15 16 17 18 19\n",
      "19 20 21 22 23 24 25      16 17 18 19 20 21 22      20 21 22 23 24 25 26\n",
      "26 27 28 29 30 31         23 24 25 26 27 28 29      27 28 29 30\n",
      "                          30 31\n",
      "\n",
      "      October                   November                  December\n",
      "Mo Tu We Th Fr Sa Su      Mo Tu We Th Fr Sa Su      Mo Tu We Th Fr Sa Su\n",
      "             1  2  3       1  2  3  4  5  6  7             1  2  3  4  5\n",
      " 4  5  6  7  8  9 10       8  9 10 11 12 13 14       6  7  8  9 10 11 12\n",
      "11 12 13 14 15 16 17      15 16 17 18 19 20 21      13 14 15 16 17 18 19\n",
      "18 19 20 21 22 23 24      22 23 24 25 26 27 28      20 21 22 23 24 25 26\n",
      "25 26 27 28 29 30 31      29 30                     27 28 29 30 31\n",
      "\n"
     ]
    }
   ],
   "source": [
    "print(calendar.calendar(2021))"
   ]
  },
  {
   "cell_type": "code",
   "execution_count": 23,
   "id": "115ac542",
   "metadata": {},
   "outputs": [
    {
     "name": "stdout",
     "output_type": "stream",
     "text": [
      "                                               2021\n",
      "\n",
      "      January                   February                   March                     April\n",
      "Mo Tu We Th Fr Sa Su      Mo Tu We Th Fr Sa Su      Mo Tu We Th Fr Sa Su      Mo Tu We Th Fr Sa Su\n",
      "             1  2  3       1  2  3  4  5  6  7       1  2  3  4  5  6  7                1  2  3  4\n",
      " 4  5  6  7  8  9 10       8  9 10 11 12 13 14       8  9 10 11 12 13 14       5  6  7  8  9 10 11\n",
      "11 12 13 14 15 16 17      15 16 17 18 19 20 21      15 16 17 18 19 20 21      12 13 14 15 16 17 18\n",
      "18 19 20 21 22 23 24      22 23 24 25 26 27 28      22 23 24 25 26 27 28      19 20 21 22 23 24 25\n",
      "25 26 27 28 29 30 31                                29 30 31                  26 27 28 29 30\n",
      "\n",
      "        May                       June                      July                     August\n",
      "Mo Tu We Th Fr Sa Su      Mo Tu We Th Fr Sa Su      Mo Tu We Th Fr Sa Su      Mo Tu We Th Fr Sa Su\n",
      "                1  2          1  2  3  4  5  6                1  2  3  4                         1\n",
      " 3  4  5  6  7  8  9       7  8  9 10 11 12 13       5  6  7  8  9 10 11       2  3  4  5  6  7  8\n",
      "10 11 12 13 14 15 16      14 15 16 17 18 19 20      12 13 14 15 16 17 18       9 10 11 12 13 14 15\n",
      "17 18 19 20 21 22 23      21 22 23 24 25 26 27      19 20 21 22 23 24 25      16 17 18 19 20 21 22\n",
      "24 25 26 27 28 29 30      28 29 30                  26 27 28 29 30 31         23 24 25 26 27 28 29\n",
      "31                                                                            30 31\n",
      "\n",
      "     September                  October                   November                  December\n",
      "Mo Tu We Th Fr Sa Su      Mo Tu We Th Fr Sa Su      Mo Tu We Th Fr Sa Su      Mo Tu We Th Fr Sa Su\n",
      "       1  2  3  4  5                   1  2  3       1  2  3  4  5  6  7             1  2  3  4  5\n",
      " 6  7  8  9 10 11 12       4  5  6  7  8  9 10       8  9 10 11 12 13 14       6  7  8  9 10 11 12\n",
      "13 14 15 16 17 18 19      11 12 13 14 15 16 17      15 16 17 18 19 20 21      13 14 15 16 17 18 19\n",
      "20 21 22 23 24 25 26      18 19 20 21 22 23 24      22 23 24 25 26 27 28      20 21 22 23 24 25 26\n",
      "27 28 29 30               25 26 27 28 29 30 31      29 30                     27 28 29 30 31\n",
      "\n"
     ]
    }
   ],
   "source": [
    "# 한 열에 출력되는 달을 바꾸기\n",
    "print(calendar.calendar(2021, m=4))"
   ]
  },
  {
   "cell_type": "markdown",
   "id": "361b63be",
   "metadata": {},
   "source": [
    "## 지정된 연도와 월의 달력을 문자열로 반환"
   ]
  },
  {
   "cell_type": "code",
   "execution_count": 24,
   "id": "efe00f00",
   "metadata": {},
   "outputs": [
    {
     "name": "stdout",
     "output_type": "stream",
     "text": [
      "    October 2021\n",
      "Mo Tu We Th Fr Sa Su\n",
      "             1  2  3\n",
      " 4  5  6  7  8  9 10\n",
      "11 12 13 14 15 16 17\n",
      "18 19 20 21 22 23 24\n",
      "25 26 27 28 29 30 31\n",
      "\n"
     ]
    }
   ],
   "source": [
    "print(calendar.month(2021, 10))"
   ]
  },
  {
   "cell_type": "markdown",
   "id": "957795d4",
   "metadata": {},
   "source": [
    "## 지정된 연도와 월의 시작 요일과 일수 반환\n",
    "- 요일의 경우 0(월요일)~6(일요일) 사이의 숫자로 반환"
   ]
  },
  {
   "cell_type": "code",
   "execution_count": 25,
   "id": "dc3ce083",
   "metadata": {},
   "outputs": [
    {
     "data": {
      "text/plain": [
       "(4, 31)"
      ]
     },
     "execution_count": 25,
     "metadata": {},
     "output_type": "execute_result"
    }
   ],
   "source": [
    "calendar.monthrange(2021, 10)"
   ]
  },
  {
   "cell_type": "markdown",
   "id": "a93a542f",
   "metadata": {},
   "source": [
    "## 달력에 표시되는 주의 첫 번째 요일값 반환 및 변경"
   ]
  },
  {
   "cell_type": "code",
   "execution_count": 26,
   "id": "7e9f5e36",
   "metadata": {},
   "outputs": [
    {
     "data": {
      "text/plain": [
       "0"
      ]
     },
     "execution_count": 26,
     "metadata": {},
     "output_type": "execute_result"
    }
   ],
   "source": [
    "calendar.firstweekday()"
   ]
  },
  {
   "cell_type": "code",
   "execution_count": 27,
   "id": "efb101e6",
   "metadata": {},
   "outputs": [
    {
     "name": "stdout",
     "output_type": "stream",
     "text": [
      "    October 2021\n",
      "Su Mo Tu We Th Fr Sa\n",
      "                1  2\n",
      " 3  4  5  6  7  8  9\n",
      "10 11 12 13 14 15 16\n",
      "17 18 19 20 21 22 23\n",
      "24 25 26 27 28 29 30\n",
      "31\n",
      "\n"
     ]
    }
   ],
   "source": [
    "calendar.setfirstweekday(6) # calendar.setfirstweekday(calendar.SUNDAY)\n",
    "print(calendar.month(2021, 10))"
   ]
  },
  {
   "cell_type": "markdown",
   "id": "2a30961b",
   "metadata": {},
   "source": [
    "## 지정된 날짜(연도, 월, 일)의 요일을 반환"
   ]
  },
  {
   "cell_type": "code",
   "execution_count": 28,
   "id": "dba60a34",
   "metadata": {},
   "outputs": [
    {
     "data": {
      "text/plain": [
       "1"
      ]
     },
     "execution_count": 28,
     "metadata": {},
     "output_type": "execute_result"
    }
   ],
   "source": [
    "calendar.weekday(2021, 10, 12)"
   ]
  },
  {
   "cell_type": "markdown",
   "id": "df9ff22a",
   "metadata": {},
   "source": [
    "## 지정된 연도가 윤년인지를 판단해 윤년이면 True, 아니면 False 반환"
   ]
  },
  {
   "cell_type": "code",
   "execution_count": 29,
   "id": "4bc4b43f",
   "metadata": {},
   "outputs": [
    {
     "data": {
      "text/plain": [
       "True"
      ]
     },
     "execution_count": 29,
     "metadata": {},
     "output_type": "execute_result"
    }
   ],
   "source": [
    "calendar.isleap(2020)"
   ]
  },
  {
   "cell_type": "code",
   "execution_count": 30,
   "id": "92d02eb4",
   "metadata": {},
   "outputs": [
    {
     "data": {
      "text/plain": [
       "False"
      ]
     },
     "execution_count": 30,
     "metadata": {},
     "output_type": "execute_result"
    }
   ],
   "source": [
    "calendar.isleap(2021)"
   ]
  },
  {
   "cell_type": "code",
   "execution_count": null,
   "id": "9a5e12f7",
   "metadata": {},
   "outputs": [],
   "source": []
  }
 ],
 "metadata": {
  "kernelspec": {
   "display_name": "Python Multi",
   "language": "python",
   "name": "multi"
  },
  "language_info": {
   "codemirror_mode": {
    "name": "ipython",
    "version": 3
   },
   "file_extension": ".py",
   "mimetype": "text/x-python",
   "name": "python",
   "nbconvert_exporter": "python",
   "pygments_lexer": "ipython3",
   "version": "3.7.6"
  },
  "toc": {
   "base_numbering": 1,
   "nav_menu": {},
   "number_sections": false,
   "sideBar": true,
   "skip_h1_title": false,
   "title_cell": "Table of Contents",
   "title_sidebar": "Contents",
   "toc_cell": false,
   "toc_position": {},
   "toc_section_display": true,
   "toc_window_display": false
  }
 },
 "nbformat": 4,
 "nbformat_minor": 5
}
